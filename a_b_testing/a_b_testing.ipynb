{
 "cells": [
  {
   "cell_type": "markdown",
   "metadata": {
    "toc": true
   },
   "source": [
    "<h1>Приоритизация гипотез и анализ А/В теста<span class=\"tocSkip\"></span></h1>\n",
    "<div class=\"toc\"><ul class=\"toc-item\"><li><span><a href=\"#Введение\" data-toc-modified-id=\"Введение-1\">Введение</a></span></li><li><span><a href=\"#Приоритизация-гипотез.\" data-toc-modified-id=\"Приоритизация-гипотез.-2\">Приоритизация гипотез.</a></span><ul class=\"toc-item\"><li><span><a href=\"#Метод-ICE\" data-toc-modified-id=\"Метод-ICE-2.1\">Метод ICE</a></span></li><li><span><a href=\"#Метод-RICE\" data-toc-modified-id=\"Метод-RICE-2.2\">Метод RICE</a></span></li><li><span><a href=\"#Вывод\" data-toc-modified-id=\"Вывод-2.3\">Вывод</a></span></li></ul></li><li><span><a href=\"#Анализ-A/B-теста\" data-toc-modified-id=\"Анализ-A/B-теста-3\">Анализ A/B-теста</a></span><ul class=\"toc-item\"><li><span><a href=\"#Кумулятивные-метрики\" data-toc-modified-id=\"Кумулятивные-метрики-3.1\">Кумулятивные метрики</a></span><ul class=\"toc-item\"><li><span><a href=\"#Кумулятивная-выручка\" data-toc-modified-id=\"Кумулятивная-выручка-3.1.1\">Кумулятивная выручка</a></span></li><li><span><a href=\"#Кумулятивный-средний-чек\" data-toc-modified-id=\"Кумулятивный-средний-чек-3.1.2\">Кумулятивный средний чек</a></span></li><li><span><a href=\"#Относительное-изменение-кумулятивного-среднего-чека-группы-B-к-группе-A\" data-toc-modified-id=\"Относительное-изменение-кумулятивного-среднего-чека-группы-B-к-группе-A-3.1.3\">Относительное изменение кумулятивного среднего чека группы B к группе A</a></span></li><li><span><a href=\"#Кумулятивная-конверсия\" data-toc-modified-id=\"Кумулятивная-конверсия-3.1.4\">Кумулятивная конверсия</a></span></li><li><span><a href=\"#Относительное-изменение-кумулятивной-конверсии-группы-B-к-группе-A\" data-toc-modified-id=\"Относительное-изменение-кумулятивной-конверсии-группы-B-к-группе-A-3.1.5\">Относительное изменение кумулятивной конверсии группы B к группе A</a></span></li></ul></li><li><span><a href=\"#Анализ-выбросов-и-всплесков:-крайние-значения-данных\" data-toc-modified-id=\"Анализ-выбросов-и-всплесков:-крайние-значения-данных-3.2\">Анализ выбросов и всплесков: крайние значения данных</a></span></li><li><span><a href=\"#Расчет-статистической-значимости\" data-toc-modified-id=\"Расчет-статистической-значимости-3.3\">Расчет статистической значимости</a></span><ul class=\"toc-item\"><li><span><a href=\"#Конверсия-по-&quot;сырым&quot;-данным\" data-toc-modified-id=\"Конверсия-по-&quot;сырым&quot;-данным-3.3.1\">Конверсия по \"сырым\" данным</a></span></li><li><span><a href=\"#Средний-чек-по-&quot;сырым&quot;-данным\" data-toc-modified-id=\"Средний-чек-по-&quot;сырым&quot;-данным-3.3.2\">Средний чек по \"сырым\" данным</a></span></li><li><span><a href=\"#Конверсия-по-&quot;очищенным&quot;-данным\" data-toc-modified-id=\"Конверсия-по-&quot;очищенным&quot;-данным-3.3.3\">Конверсия по \"очищенным\" данным</a></span></li><li><span><a href=\"#Средний-чек-по-&quot;очищенным&quot;-данным\" data-toc-modified-id=\"Средний-чек-по-&quot;очищенным&quot;-данным-3.3.4\">Средний чек по \"очищенным\" данным</a></span></li></ul></li><li><span><a href=\"#Вывод\" data-toc-modified-id=\"Вывод-3.4\">Вывод</a></span></li></ul></li></ul></div>"
   ]
  },
  {
   "cell_type": "markdown",
   "metadata": {},
   "source": [
    "## Введение\n",
    "\n",
    "Совместно с отделом маркетинга подготовен список гипотез для увеличения выручки.\n",
    "Необходимо приоритизировать гипотезы, запустить A/B-тест и проанализировать результаты."
   ]
  },
  {
   "cell_type": "markdown",
   "metadata": {},
   "source": [
    "В наличии имеются три датасета.  \n",
    "\n",
    "Для проверки гипотез  - файл **/datasets/hypothesis.csv**.  \n",
    "\n",
    "Hypothesis — краткое описание гипотезы;  \n",
    "Reach — охват пользователей по 10-балльной шкале;  \n",
    "Impact — влияние на пользователей по 10-балльной шкале;  \n",
    "Confidence — уверенность в гипотезе по 10-балльной шкале;  \n",
    "Efforts — затраты ресурсов на проверку гипотезы по 10-балльной шкале. Чем больше значение Efforts, тем дороже проверка гипотезы.  \n",
    "\n",
    "Для А/В теста:\n",
    "1) **файл /datasets/orders.csv**.  \n",
    "\n",
    "transactionId — идентификатор заказа;  \n",
    "visitorId — идентификатор пользователя, совершившего заказ;  \n",
    "date — дата, когда был совершён заказ;  \n",
    "revenue — выручка заказа;  \n",
    "group — группа A/B-теста, в которую попал заказ.    \n",
    "\n",
    "2) **файл /datasets/visitors.csv**.  \n",
    "date — дата;  \n",
    "group — группа A/B-теста;  \n",
    "visitors — количество пользователей в указанную дату в указанной группе A/B-теста  "
   ]
  },
  {
   "cell_type": "markdown",
   "metadata": {},
   "source": [
    "## Приоритизация гипотез."
   ]
  },
  {
   "cell_type": "code",
   "execution_count": 1,
   "metadata": {},
   "outputs": [],
   "source": [
    "import pandas as pd\n",
    "import math\n",
    "import numpy as np\n",
    "from scipy import stats as st\n",
    "from matplotlib import pyplot as plt\n",
    "import datetime as dt\n",
    "\n",
    "pd.set_option('display.float_format', '{:,.2f}'.format)\n",
    "pd.set_option('display.max_columns', None)\n",
    "pd.set_option('display.max_rows', None)\n",
    "pd.set_option('display.max_colwidth', 1000)"
   ]
  },
  {
   "cell_type": "code",
   "execution_count": 2,
   "metadata": {
    "scrolled": false
   },
   "outputs": [
    {
     "data": {
      "text/html": [
       "<div>\n",
       "<style scoped>\n",
       "    .dataframe tbody tr th:only-of-type {\n",
       "        vertical-align: middle;\n",
       "    }\n",
       "\n",
       "    .dataframe tbody tr th {\n",
       "        vertical-align: top;\n",
       "    }\n",
       "\n",
       "    .dataframe thead th {\n",
       "        text-align: right;\n",
       "    }\n",
       "</style>\n",
       "<table border=\"1\" class=\"dataframe\">\n",
       "  <thead>\n",
       "    <tr style=\"text-align: right;\">\n",
       "      <th></th>\n",
       "      <th>Hypothesis</th>\n",
       "      <th>Reach</th>\n",
       "      <th>Impact</th>\n",
       "      <th>Confidence</th>\n",
       "      <th>Efforts</th>\n",
       "    </tr>\n",
       "  </thead>\n",
       "  <tbody>\n",
       "    <tr>\n",
       "      <td>0</td>\n",
       "      <td>Добавить два новых канала привлечения трафика, что позволит привлекать на 30% больше пользователей</td>\n",
       "      <td>3</td>\n",
       "      <td>10</td>\n",
       "      <td>8</td>\n",
       "      <td>6</td>\n",
       "    </tr>\n",
       "    <tr>\n",
       "      <td>1</td>\n",
       "      <td>Запустить собственную службу доставки, что сократит срок доставки заказов</td>\n",
       "      <td>2</td>\n",
       "      <td>5</td>\n",
       "      <td>4</td>\n",
       "      <td>10</td>\n",
       "    </tr>\n",
       "    <tr>\n",
       "      <td>2</td>\n",
       "      <td>Добавить блоки рекомендаций товаров на сайт интернет магазина, чтобы повысить конверсию и средний чек заказа</td>\n",
       "      <td>8</td>\n",
       "      <td>3</td>\n",
       "      <td>7</td>\n",
       "      <td>3</td>\n",
       "    </tr>\n",
       "    <tr>\n",
       "      <td>3</td>\n",
       "      <td>Изменить структура категорий, что увеличит конверсию, т.к. пользователи быстрее найдут нужный товар</td>\n",
       "      <td>8</td>\n",
       "      <td>3</td>\n",
       "      <td>3</td>\n",
       "      <td>8</td>\n",
       "    </tr>\n",
       "    <tr>\n",
       "      <td>4</td>\n",
       "      <td>Изменить цвет фона главной страницы, чтобы увеличить вовлеченность пользователей</td>\n",
       "      <td>3</td>\n",
       "      <td>1</td>\n",
       "      <td>1</td>\n",
       "      <td>1</td>\n",
       "    </tr>\n",
       "    <tr>\n",
       "      <td>5</td>\n",
       "      <td>Добавить страницу отзывов клиентов о магазине, что позволит увеличить количество заказов</td>\n",
       "      <td>3</td>\n",
       "      <td>2</td>\n",
       "      <td>2</td>\n",
       "      <td>3</td>\n",
       "    </tr>\n",
       "    <tr>\n",
       "      <td>6</td>\n",
       "      <td>Показать на главной странице баннеры с актуальными акциями и распродажами, чтобы увеличить конверсию</td>\n",
       "      <td>5</td>\n",
       "      <td>3</td>\n",
       "      <td>8</td>\n",
       "      <td>3</td>\n",
       "    </tr>\n",
       "    <tr>\n",
       "      <td>7</td>\n",
       "      <td>Добавить форму подписки на все основные страницы, чтобы собрать базу клиентов для email-рассылок</td>\n",
       "      <td>10</td>\n",
       "      <td>7</td>\n",
       "      <td>8</td>\n",
       "      <td>5</td>\n",
       "    </tr>\n",
       "    <tr>\n",
       "      <td>8</td>\n",
       "      <td>Запустить акцию, дающую скидку на товар в день рождения</td>\n",
       "      <td>1</td>\n",
       "      <td>9</td>\n",
       "      <td>9</td>\n",
       "      <td>5</td>\n",
       "    </tr>\n",
       "  </tbody>\n",
       "</table>\n",
       "</div>"
      ],
      "text/plain": [
       "                                                                                                     Hypothesis  \\\n",
       "0            Добавить два новых канала привлечения трафика, что позволит привлекать на 30% больше пользователей   \n",
       "1                                     Запустить собственную службу доставки, что сократит срок доставки заказов   \n",
       "2  Добавить блоки рекомендаций товаров на сайт интернет магазина, чтобы повысить конверсию и средний чек заказа   \n",
       "3           Изменить структура категорий, что увеличит конверсию, т.к. пользователи быстрее найдут нужный товар   \n",
       "4                              Изменить цвет фона главной страницы, чтобы увеличить вовлеченность пользователей   \n",
       "5                      Добавить страницу отзывов клиентов о магазине, что позволит увеличить количество заказов   \n",
       "6          Показать на главной странице баннеры с актуальными акциями и распродажами, чтобы увеличить конверсию   \n",
       "7              Добавить форму подписки на все основные страницы, чтобы собрать базу клиентов для email-рассылок   \n",
       "8                                                       Запустить акцию, дающую скидку на товар в день рождения   \n",
       "\n",
       "   Reach  Impact  Confidence  Efforts  \n",
       "0      3      10           8        6  \n",
       "1      2       5           4       10  \n",
       "2      8       3           7        3  \n",
       "3      8       3           3        8  \n",
       "4      3       1           1        1  \n",
       "5      3       2           2        3  \n",
       "6      5       3           8        3  \n",
       "7     10       7           8        5  \n",
       "8      1       9           9        5  "
      ]
     },
     "execution_count": 2,
     "metadata": {},
     "output_type": "execute_result"
    }
   ],
   "source": [
    "data = pd.read_csv('/datasets/hypothesis.csv')\n",
    "data"
   ]
  },
  {
   "cell_type": "code",
   "execution_count": 3,
   "metadata": {
    "scrolled": true
   },
   "outputs": [
    {
     "name": "stdout",
     "output_type": "stream",
     "text": [
      "<class 'pandas.core.frame.DataFrame'>\n",
      "RangeIndex: 9 entries, 0 to 8\n",
      "Data columns (total 5 columns):\n",
      "Hypothesis    9 non-null object\n",
      "Reach         9 non-null int64\n",
      "Impact        9 non-null int64\n",
      "Confidence    9 non-null int64\n",
      "Efforts       9 non-null int64\n",
      "dtypes: int64(4), object(1)\n",
      "memory usage: 488.0+ bytes\n"
     ]
    }
   ],
   "source": [
    "data.info()"
   ]
  },
  {
   "cell_type": "code",
   "execution_count": 4,
   "metadata": {},
   "outputs": [],
   "source": [
    "data.columns = data.columns.str.lower()"
   ]
  },
  {
   "cell_type": "code",
   "execution_count": 5,
   "metadata": {},
   "outputs": [
    {
     "data": {
      "text/plain": [
       "Index(['hypothesis', 'reach', 'impact', 'confidence', 'efforts'], dtype='object')"
      ]
     },
     "execution_count": 5,
     "metadata": {},
     "output_type": "execute_result"
    }
   ],
   "source": [
    "data.columns"
   ]
  },
  {
   "cell_type": "markdown",
   "metadata": {},
   "source": [
    "### Метод ICE"
   ]
  },
  {
   "cell_type": "markdown",
   "metadata": {},
   "source": [
    " Применим фреймворк ICE для приоритизации гипотез. Отсортируем их по убыванию приоритета."
   ]
  },
  {
   "cell_type": "code",
   "execution_count": 6,
   "metadata": {},
   "outputs": [],
   "source": [
    "data['ICE'] = data['impact'] * data['confidence'] / data['efforts']"
   ]
  },
  {
   "cell_type": "code",
   "execution_count": 7,
   "metadata": {},
   "outputs": [
    {
     "data": {
      "text/html": [
       "<div>\n",
       "<style scoped>\n",
       "    .dataframe tbody tr th:only-of-type {\n",
       "        vertical-align: middle;\n",
       "    }\n",
       "\n",
       "    .dataframe tbody tr th {\n",
       "        vertical-align: top;\n",
       "    }\n",
       "\n",
       "    .dataframe thead th {\n",
       "        text-align: right;\n",
       "    }\n",
       "</style>\n",
       "<table border=\"1\" class=\"dataframe\">\n",
       "  <thead>\n",
       "    <tr style=\"text-align: right;\">\n",
       "      <th></th>\n",
       "      <th>hypothesis</th>\n",
       "      <th>reach</th>\n",
       "      <th>impact</th>\n",
       "      <th>confidence</th>\n",
       "      <th>efforts</th>\n",
       "      <th>ICE</th>\n",
       "    </tr>\n",
       "  </thead>\n",
       "  <tbody>\n",
       "    <tr>\n",
       "      <td>8</td>\n",
       "      <td>Запустить акцию, дающую скидку на товар в день рождения</td>\n",
       "      <td>1</td>\n",
       "      <td>9</td>\n",
       "      <td>9</td>\n",
       "      <td>5</td>\n",
       "      <td>16.20</td>\n",
       "    </tr>\n",
       "    <tr>\n",
       "      <td>0</td>\n",
       "      <td>Добавить два новых канала привлечения трафика, что позволит привлекать на 30% больше пользователей</td>\n",
       "      <td>3</td>\n",
       "      <td>10</td>\n",
       "      <td>8</td>\n",
       "      <td>6</td>\n",
       "      <td>13.33</td>\n",
       "    </tr>\n",
       "    <tr>\n",
       "      <td>7</td>\n",
       "      <td>Добавить форму подписки на все основные страницы, чтобы собрать базу клиентов для email-рассылок</td>\n",
       "      <td>10</td>\n",
       "      <td>7</td>\n",
       "      <td>8</td>\n",
       "      <td>5</td>\n",
       "      <td>11.20</td>\n",
       "    </tr>\n",
       "    <tr>\n",
       "      <td>6</td>\n",
       "      <td>Показать на главной странице баннеры с актуальными акциями и распродажами, чтобы увеличить конверсию</td>\n",
       "      <td>5</td>\n",
       "      <td>3</td>\n",
       "      <td>8</td>\n",
       "      <td>3</td>\n",
       "      <td>8.00</td>\n",
       "    </tr>\n",
       "    <tr>\n",
       "      <td>2</td>\n",
       "      <td>Добавить блоки рекомендаций товаров на сайт интернет магазина, чтобы повысить конверсию и средний чек заказа</td>\n",
       "      <td>8</td>\n",
       "      <td>3</td>\n",
       "      <td>7</td>\n",
       "      <td>3</td>\n",
       "      <td>7.00</td>\n",
       "    </tr>\n",
       "    <tr>\n",
       "      <td>1</td>\n",
       "      <td>Запустить собственную службу доставки, что сократит срок доставки заказов</td>\n",
       "      <td>2</td>\n",
       "      <td>5</td>\n",
       "      <td>4</td>\n",
       "      <td>10</td>\n",
       "      <td>2.00</td>\n",
       "    </tr>\n",
       "    <tr>\n",
       "      <td>5</td>\n",
       "      <td>Добавить страницу отзывов клиентов о магазине, что позволит увеличить количество заказов</td>\n",
       "      <td>3</td>\n",
       "      <td>2</td>\n",
       "      <td>2</td>\n",
       "      <td>3</td>\n",
       "      <td>1.33</td>\n",
       "    </tr>\n",
       "    <tr>\n",
       "      <td>3</td>\n",
       "      <td>Изменить структура категорий, что увеличит конверсию, т.к. пользователи быстрее найдут нужный товар</td>\n",
       "      <td>8</td>\n",
       "      <td>3</td>\n",
       "      <td>3</td>\n",
       "      <td>8</td>\n",
       "      <td>1.12</td>\n",
       "    </tr>\n",
       "    <tr>\n",
       "      <td>4</td>\n",
       "      <td>Изменить цвет фона главной страницы, чтобы увеличить вовлеченность пользователей</td>\n",
       "      <td>3</td>\n",
       "      <td>1</td>\n",
       "      <td>1</td>\n",
       "      <td>1</td>\n",
       "      <td>1.00</td>\n",
       "    </tr>\n",
       "  </tbody>\n",
       "</table>\n",
       "</div>"
      ],
      "text/plain": [
       "                                                                                                     hypothesis  \\\n",
       "8                                                       Запустить акцию, дающую скидку на товар в день рождения   \n",
       "0            Добавить два новых канала привлечения трафика, что позволит привлекать на 30% больше пользователей   \n",
       "7              Добавить форму подписки на все основные страницы, чтобы собрать базу клиентов для email-рассылок   \n",
       "6          Показать на главной странице баннеры с актуальными акциями и распродажами, чтобы увеличить конверсию   \n",
       "2  Добавить блоки рекомендаций товаров на сайт интернет магазина, чтобы повысить конверсию и средний чек заказа   \n",
       "1                                     Запустить собственную службу доставки, что сократит срок доставки заказов   \n",
       "5                      Добавить страницу отзывов клиентов о магазине, что позволит увеличить количество заказов   \n",
       "3           Изменить структура категорий, что увеличит конверсию, т.к. пользователи быстрее найдут нужный товар   \n",
       "4                              Изменить цвет фона главной страницы, чтобы увеличить вовлеченность пользователей   \n",
       "\n",
       "   reach  impact  confidence  efforts   ICE  \n",
       "8      1       9           9        5 16.20  \n",
       "0      3      10           8        6 13.33  \n",
       "7     10       7           8        5 11.20  \n",
       "6      5       3           8        3  8.00  \n",
       "2      8       3           7        3  7.00  \n",
       "1      2       5           4       10  2.00  \n",
       "5      3       2           2        3  1.33  \n",
       "3      8       3           3        8  1.12  \n",
       "4      3       1           1        1  1.00  "
      ]
     },
     "execution_count": 7,
     "metadata": {},
     "output_type": "execute_result"
    }
   ],
   "source": [
    "data.sort_values(by = 'ICE', ascending = False)"
   ]
  },
  {
   "cell_type": "code",
   "execution_count": 8,
   "metadata": {},
   "outputs": [
    {
     "data": {
      "image/png": "[encoded data removed]",
      "text/plain": [
       "<Figure size 432x288 with 1 Axes>"
      ]
     },
     "metadata": {
      "needs_background": "light"
     },
     "output_type": "display_data"
    }
   ],
   "source": [
    "ax = data[['hypothesis', 'ICE']].set_index('hypothesis').sort_values('ICE', ascending=True).plot(kind='barh')\n",
    "ax.set_xlabel('Приоритет')\n",
    "ax.set_ylabel('Гипотеза')\n",
    "ax.set_title('Фреймворк ICE')\n",
    "plt.show()"
   ]
  },
  {
   "cell_type": "markdown",
   "metadata": {},
   "source": [
    "В соответствии с методом ICE топ- гипотез, над которыми стоит сосредоточиться:  \n",
    "8 - Запустить акцию, дающую скидку на товар в день рождения;  \n",
    "0 - Добавить два новых канала привлечения трафика, что позволит привлекать на 30% больше пользователей;  \n",
    "7 - Добавить форму подписки на все основные страницы, чтобы собрать базу клиентов для email-рассылок"
   ]
  },
  {
   "cell_type": "markdown",
   "metadata": {},
   "source": [
    "### Метод RICE"
   ]
  },
  {
   "cell_type": "markdown",
   "metadata": {},
   "source": [
    "Применим фреймворк RICE для приоритизации гипотез. Отсортируем их по убыванию приоритета."
   ]
  },
  {
   "cell_type": "code",
   "execution_count": 9,
   "metadata": {},
   "outputs": [],
   "source": [
    "data['RICE'] = data['reach'] * data['impact'] * data['confidence'] / data['efforts']"
   ]
  },
  {
   "cell_type": "code",
   "execution_count": 10,
   "metadata": {},
   "outputs": [
    {
     "data": {
      "text/html": [
       "<div>\n",
       "<style scoped>\n",
       "    .dataframe tbody tr th:only-of-type {\n",
       "        vertical-align: middle;\n",
       "    }\n",
       "\n",
       "    .dataframe tbody tr th {\n",
       "        vertical-align: top;\n",
       "    }\n",
       "\n",
       "    .dataframe thead th {\n",
       "        text-align: right;\n",
       "    }\n",
       "</style>\n",
       "<table border=\"1\" class=\"dataframe\">\n",
       "  <thead>\n",
       "    <tr style=\"text-align: right;\">\n",
       "      <th></th>\n",
       "      <th>hypothesis</th>\n",
       "      <th>reach</th>\n",
       "      <th>impact</th>\n",
       "      <th>confidence</th>\n",
       "      <th>efforts</th>\n",
       "      <th>ICE</th>\n",
       "      <th>RICE</th>\n",
       "    </tr>\n",
       "  </thead>\n",
       "  <tbody>\n",
       "    <tr>\n",
       "      <td>7</td>\n",
       "      <td>Добавить форму подписки на все основные страницы, чтобы собрать базу клиентов для email-рассылок</td>\n",
       "      <td>10</td>\n",
       "      <td>7</td>\n",
       "      <td>8</td>\n",
       "      <td>5</td>\n",
       "      <td>11.20</td>\n",
       "      <td>112.00</td>\n",
       "    </tr>\n",
       "    <tr>\n",
       "      <td>2</td>\n",
       "      <td>Добавить блоки рекомендаций товаров на сайт интернет магазина, чтобы повысить конверсию и средний чек заказа</td>\n",
       "      <td>8</td>\n",
       "      <td>3</td>\n",
       "      <td>7</td>\n",
       "      <td>3</td>\n",
       "      <td>7.00</td>\n",
       "      <td>56.00</td>\n",
       "    </tr>\n",
       "    <tr>\n",
       "      <td>0</td>\n",
       "      <td>Добавить два новых канала привлечения трафика, что позволит привлекать на 30% больше пользователей</td>\n",
       "      <td>3</td>\n",
       "      <td>10</td>\n",
       "      <td>8</td>\n",
       "      <td>6</td>\n",
       "      <td>13.33</td>\n",
       "      <td>40.00</td>\n",
       "    </tr>\n",
       "    <tr>\n",
       "      <td>6</td>\n",
       "      <td>Показать на главной странице баннеры с актуальными акциями и распродажами, чтобы увеличить конверсию</td>\n",
       "      <td>5</td>\n",
       "      <td>3</td>\n",
       "      <td>8</td>\n",
       "      <td>3</td>\n",
       "      <td>8.00</td>\n",
       "      <td>40.00</td>\n",
       "    </tr>\n",
       "    <tr>\n",
       "      <td>8</td>\n",
       "      <td>Запустить акцию, дающую скидку на товар в день рождения</td>\n",
       "      <td>1</td>\n",
       "      <td>9</td>\n",
       "      <td>9</td>\n",
       "      <td>5</td>\n",
       "      <td>16.20</td>\n",
       "      <td>16.20</td>\n",
       "    </tr>\n",
       "    <tr>\n",
       "      <td>3</td>\n",
       "      <td>Изменить структура категорий, что увеличит конверсию, т.к. пользователи быстрее найдут нужный товар</td>\n",
       "      <td>8</td>\n",
       "      <td>3</td>\n",
       "      <td>3</td>\n",
       "      <td>8</td>\n",
       "      <td>1.12</td>\n",
       "      <td>9.00</td>\n",
       "    </tr>\n",
       "    <tr>\n",
       "      <td>1</td>\n",
       "      <td>Запустить собственную службу доставки, что сократит срок доставки заказов</td>\n",
       "      <td>2</td>\n",
       "      <td>5</td>\n",
       "      <td>4</td>\n",
       "      <td>10</td>\n",
       "      <td>2.00</td>\n",
       "      <td>4.00</td>\n",
       "    </tr>\n",
       "    <tr>\n",
       "      <td>5</td>\n",
       "      <td>Добавить страницу отзывов клиентов о магазине, что позволит увеличить количество заказов</td>\n",
       "      <td>3</td>\n",
       "      <td>2</td>\n",
       "      <td>2</td>\n",
       "      <td>3</td>\n",
       "      <td>1.33</td>\n",
       "      <td>4.00</td>\n",
       "    </tr>\n",
       "    <tr>\n",
       "      <td>4</td>\n",
       "      <td>Изменить цвет фона главной страницы, чтобы увеличить вовлеченность пользователей</td>\n",
       "      <td>3</td>\n",
       "      <td>1</td>\n",
       "      <td>1</td>\n",
       "      <td>1</td>\n",
       "      <td>1.00</td>\n",
       "      <td>3.00</td>\n",
       "    </tr>\n",
       "  </tbody>\n",
       "</table>\n",
       "</div>"
      ],
      "text/plain": [
       "                                                                                                     hypothesis  \\\n",
       "7              Добавить форму подписки на все основные страницы, чтобы собрать базу клиентов для email-рассылок   \n",
       "2  Добавить блоки рекомендаций товаров на сайт интернет магазина, чтобы повысить конверсию и средний чек заказа   \n",
       "0            Добавить два новых канала привлечения трафика, что позволит привлекать на 30% больше пользователей   \n",
       "6          Показать на главной странице баннеры с актуальными акциями и распродажами, чтобы увеличить конверсию   \n",
       "8                                                       Запустить акцию, дающую скидку на товар в день рождения   \n",
       "3           Изменить структура категорий, что увеличит конверсию, т.к. пользователи быстрее найдут нужный товар   \n",
       "1                                     Запустить собственную службу доставки, что сократит срок доставки заказов   \n",
       "5                      Добавить страницу отзывов клиентов о магазине, что позволит увеличить количество заказов   \n",
       "4                              Изменить цвет фона главной страницы, чтобы увеличить вовлеченность пользователей   \n",
       "\n",
       "   reach  impact  confidence  efforts   ICE   RICE  \n",
       "7     10       7           8        5 11.20 112.00  \n",
       "2      8       3           7        3  7.00  56.00  \n",
       "0      3      10           8        6 13.33  40.00  \n",
       "6      5       3           8        3  8.00  40.00  \n",
       "8      1       9           9        5 16.20  16.20  \n",
       "3      8       3           3        8  1.12   9.00  \n",
       "1      2       5           4       10  2.00   4.00  \n",
       "5      3       2           2        3  1.33   4.00  \n",
       "4      3       1           1        1  1.00   3.00  "
      ]
     },
     "execution_count": 10,
     "metadata": {},
     "output_type": "execute_result"
    }
   ],
   "source": [
    "data.sort_values(by = 'RICE', ascending = False)"
   ]
  },
  {
   "cell_type": "code",
   "execution_count": 11,
   "metadata": {},
   "outputs": [
    {
     "data": {
      "image/png": "[encoded data removed]",
      "text/plain": [
       "<Figure size 432x288 with 1 Axes>"
      ]
     },
     "metadata": {
      "needs_background": "light"
     },
     "output_type": "display_data"
    }
   ],
   "source": [
    "ax = data[['hypothesis', 'RICE']].set_index('hypothesis').sort_values('RICE', ascending=True).plot(kind='barh')\n",
    "ax.set_xlabel('Приоритет')\n",
    "ax.set_ylabel('Гипотеза')\n",
    "ax.set_title('Фреймворк RICE')\n",
    "plt.show()"
   ]
  },
  {
   "cell_type": "markdown",
   "metadata": {},
   "source": [
    "В соответствии с методом RICE топ перспективных гипотез изменился:  \n",
    "7 - Добавить форму подписки на все основные страницы, чтобы собрать базу клиентов для email-рассылок;  \n",
    "2 - Добавить блоки рекомендаций товаров на сайт интернет магазина, чтобы повысить конверсию и средний чек заказа;  \n",
    "0 - Добавить два новых канала привлечения трафика, что позволит привлекать на 30% больше пользователей."
   ]
  },
  {
   "cell_type": "markdown",
   "metadata": {},
   "source": [
    "Из приоритетеного списка исключилась гипотеза 8, касающаяся предоставления скидки в день рождения. Охват пользователей по данной гипотезе ниже, чем у остальных - 1. Это вытекает из сути гипотезы, где охваченными оказываются пользователи, у которых на период тестирования придется дата рождения."
   ]
  },
  {
   "cell_type": "markdown",
   "metadata": {},
   "source": [
    "### Вывод  \n",
    "С учетом данных, полученных методами ICE и RICE, наиболее перспективными следует считать гипотезы 7 и 0 и сосредоточиться на их тестировании в первую очередь."
   ]
  },
  {
   "cell_type": "markdown",
   "metadata": {},
   "source": [
    "## Анализ A/B-теста"
   ]
  },
  {
   "cell_type": "code",
   "execution_count": 12,
   "metadata": {},
   "outputs": [],
   "source": [
    "orders = pd.read_csv('/datasets/orders.csv')"
   ]
  },
  {
   "cell_type": "code",
   "execution_count": 13,
   "metadata": {},
   "outputs": [
    {
     "data": {
      "text/html": [
       "<div>\n",
       "<style scoped>\n",
       "    .dataframe tbody tr th:only-of-type {\n",
       "        vertical-align: middle;\n",
       "    }\n",
       "\n",
       "    .dataframe tbody tr th {\n",
       "        vertical-align: top;\n",
       "    }\n",
       "\n",
       "    .dataframe thead th {\n",
       "        text-align: right;\n",
       "    }\n",
       "</style>\n",
       "<table border=\"1\" class=\"dataframe\">\n",
       "  <thead>\n",
       "    <tr style=\"text-align: right;\">\n",
       "      <th></th>\n",
       "      <th>transactionId</th>\n",
       "      <th>visitorId</th>\n",
       "      <th>date</th>\n",
       "      <th>revenue</th>\n",
       "      <th>group</th>\n",
       "    </tr>\n",
       "  </thead>\n",
       "  <tbody>\n",
       "    <tr>\n",
       "      <td>0</td>\n",
       "      <td>3667963787</td>\n",
       "      <td>3312258926</td>\n",
       "      <td>2019-08-15</td>\n",
       "      <td>1650</td>\n",
       "      <td>B</td>\n",
       "    </tr>\n",
       "    <tr>\n",
       "      <td>1</td>\n",
       "      <td>2804400009</td>\n",
       "      <td>3642806036</td>\n",
       "      <td>2019-08-15</td>\n",
       "      <td>730</td>\n",
       "      <td>B</td>\n",
       "    </tr>\n",
       "    <tr>\n",
       "      <td>2</td>\n",
       "      <td>2961555356</td>\n",
       "      <td>4069496402</td>\n",
       "      <td>2019-08-15</td>\n",
       "      <td>400</td>\n",
       "      <td>A</td>\n",
       "    </tr>\n",
       "    <tr>\n",
       "      <td>3</td>\n",
       "      <td>3797467345</td>\n",
       "      <td>1196621759</td>\n",
       "      <td>2019-08-15</td>\n",
       "      <td>9759</td>\n",
       "      <td>B</td>\n",
       "    </tr>\n",
       "    <tr>\n",
       "      <td>4</td>\n",
       "      <td>2282983706</td>\n",
       "      <td>2322279887</td>\n",
       "      <td>2019-08-15</td>\n",
       "      <td>2308</td>\n",
       "      <td>B</td>\n",
       "    </tr>\n",
       "  </tbody>\n",
       "</table>\n",
       "</div>"
      ],
      "text/plain": [
       "   transactionId   visitorId        date  revenue group\n",
       "0     3667963787  3312258926  2019-08-15     1650     B\n",
       "1     2804400009  3642806036  2019-08-15      730     B\n",
       "2     2961555356  4069496402  2019-08-15      400     A\n",
       "3     3797467345  1196621759  2019-08-15     9759     B\n",
       "4     2282983706  2322279887  2019-08-15     2308     B"
      ]
     },
     "execution_count": 13,
     "metadata": {},
     "output_type": "execute_result"
    }
   ],
   "source": [
    "orders.head()"
   ]
  },
  {
   "cell_type": "code",
   "execution_count": 14,
   "metadata": {
    "scrolled": true
   },
   "outputs": [
    {
     "name": "stdout",
     "output_type": "stream",
     "text": [
      "<class 'pandas.core.frame.DataFrame'>\n",
      "RangeIndex: 1197 entries, 0 to 1196\n",
      "Data columns (total 5 columns):\n",
      "transactionId    1197 non-null int64\n",
      "visitorId        1197 non-null int64\n",
      "date             1197 non-null object\n",
      "revenue          1197 non-null int64\n",
      "group            1197 non-null object\n",
      "dtypes: int64(3), object(2)\n",
      "memory usage: 46.9+ KB\n"
     ]
    }
   ],
   "source": [
    "orders.info()"
   ]
  },
  {
   "cell_type": "code",
   "execution_count": 15,
   "metadata": {},
   "outputs": [],
   "source": [
    "orders['date'] = orders['date'].map(\n",
    "    lambda x: dt.datetime.strptime(x, '%Y-%m-%d')\n",
    ")"
   ]
  },
  {
   "cell_type": "code",
   "execution_count": 16,
   "metadata": {},
   "outputs": [],
   "source": [
    "visitors = pd.read_csv('/datasets/visitors.csv')"
   ]
  },
  {
   "cell_type": "code",
   "execution_count": 17,
   "metadata": {
    "scrolled": true
   },
   "outputs": [
    {
     "data": {
      "text/html": [
       "<div>\n",
       "<style scoped>\n",
       "    .dataframe tbody tr th:only-of-type {\n",
       "        vertical-align: middle;\n",
       "    }\n",
       "\n",
       "    .dataframe tbody tr th {\n",
       "        vertical-align: top;\n",
       "    }\n",
       "\n",
       "    .dataframe thead th {\n",
       "        text-align: right;\n",
       "    }\n",
       "</style>\n",
       "<table border=\"1\" class=\"dataframe\">\n",
       "  <thead>\n",
       "    <tr style=\"text-align: right;\">\n",
       "      <th></th>\n",
       "      <th>date</th>\n",
       "      <th>group</th>\n",
       "      <th>visitors</th>\n",
       "    </tr>\n",
       "  </thead>\n",
       "  <tbody>\n",
       "    <tr>\n",
       "      <td>0</td>\n",
       "      <td>2019-08-01</td>\n",
       "      <td>A</td>\n",
       "      <td>719</td>\n",
       "    </tr>\n",
       "    <tr>\n",
       "      <td>1</td>\n",
       "      <td>2019-08-02</td>\n",
       "      <td>A</td>\n",
       "      <td>619</td>\n",
       "    </tr>\n",
       "    <tr>\n",
       "      <td>2</td>\n",
       "      <td>2019-08-03</td>\n",
       "      <td>A</td>\n",
       "      <td>507</td>\n",
       "    </tr>\n",
       "    <tr>\n",
       "      <td>3</td>\n",
       "      <td>2019-08-04</td>\n",
       "      <td>A</td>\n",
       "      <td>717</td>\n",
       "    </tr>\n",
       "    <tr>\n",
       "      <td>4</td>\n",
       "      <td>2019-08-05</td>\n",
       "      <td>A</td>\n",
       "      <td>756</td>\n",
       "    </tr>\n",
       "  </tbody>\n",
       "</table>\n",
       "</div>"
      ],
      "text/plain": [
       "         date group  visitors\n",
       "0  2019-08-01     A       719\n",
       "1  2019-08-02     A       619\n",
       "2  2019-08-03     A       507\n",
       "3  2019-08-04     A       717\n",
       "4  2019-08-05     A       756"
      ]
     },
     "execution_count": 17,
     "metadata": {},
     "output_type": "execute_result"
    }
   ],
   "source": [
    "visitors.head()"
   ]
  },
  {
   "cell_type": "code",
   "execution_count": 18,
   "metadata": {},
   "outputs": [
    {
     "name": "stdout",
     "output_type": "stream",
     "text": [
      "<class 'pandas.core.frame.DataFrame'>\n",
      "RangeIndex: 62 entries, 0 to 61\n",
      "Data columns (total 3 columns):\n",
      "date        62 non-null object\n",
      "group       62 non-null object\n",
      "visitors    62 non-null int64\n",
      "dtypes: int64(1), object(2)\n",
      "memory usage: 1.6+ KB\n"
     ]
    }
   ],
   "source": [
    "visitors.info()"
   ]
  },
  {
   "cell_type": "code",
   "execution_count": 19,
   "metadata": {},
   "outputs": [],
   "source": [
    "visitors['date'] = visitors['date'].map(\n",
    "    lambda x: dt.datetime.strptime(x, '%Y-%m-%d')\n",
    ")"
   ]
  },
  {
   "cell_type": "markdown",
   "metadata": {},
   "source": [
    "Проверим, есть ли в таблице orders пользователи, которые попали в обе группы тестирования А и В."
   ]
  },
  {
   "cell_type": "code",
   "execution_count": 20,
   "metadata": {},
   "outputs": [
    {
     "data": {
      "text/plain": [
       "58"
      ]
     },
     "execution_count": 20,
     "metadata": {},
     "output_type": "execute_result"
    }
   ],
   "source": [
    "orders_double_group = orders.groupby('visitorId').agg({'group' : 'nunique'}).reset_index()\n",
    "orders_double_group = orders_double_group.loc[orders_double_group['group'] > 1]\n",
    "#orders_double_group.columns\n",
    "orders_double_group['group'].count()"
   ]
  },
  {
   "cell_type": "code",
   "execution_count": 21,
   "metadata": {},
   "outputs": [
    {
     "data": {
      "text/plain": [
       "(1197, 5)"
      ]
     },
     "execution_count": 21,
     "metadata": {},
     "output_type": "execute_result"
    }
   ],
   "source": [
    "orders.shape"
   ]
  },
  {
   "cell_type": "code",
   "execution_count": 22,
   "metadata": {},
   "outputs": [
    {
     "data": {
      "text/plain": [
       "'Доля пользователей с неуникальной группой теста: 4.8%'"
      ]
     },
     "execution_count": 22,
     "metadata": {},
     "output_type": "execute_result"
    }
   ],
   "source": [
    "'Доля пользователей с неуникальной группой теста: {:.1%}'.format(orders_double_group['group'].count() / orders.shape[0])"
   ]
  },
  {
   "cell_type": "markdown",
   "metadata": {},
   "source": [
    "В таблице orders 58 (4,8%) пользователей, для которых группа теста не уникальна. Это достаточно большой процент, чтобы с настороженностью отнеосится к результатам."
   ]
  },
  {
   "cell_type": "markdown",
   "metadata": {},
   "source": [
    "### Кумулятивные метрики"
   ]
  },
  {
   "cell_type": "markdown",
   "metadata": {},
   "source": [
    "Соберем кумулятивные данные. Объявим датафрейм cumulativeDataсо столбцами:\n",
    "- date— дата;\n",
    "- group— группа A/B-теста (A или B);\n",
    "- orders— кумулятивное количество заказов на указанную дату в указанной группе;\n",
    "- buyers— кумулятивное количество пользователей, совершивших хотя бы один заказ, на указанную дату в указанной группе;\n",
    "- revenue— кумулятивная выручка на указанную дату в указанной группе (средний чек);\n",
    "- visitors— кумулятивное количество посетителей интернет-магазина на указанную дату в определённой группе."
   ]
  },
  {
   "cell_type": "markdown",
   "metadata": {},
   "source": [
    "Создадим массив уникальных пар значений дат и групп теста методом drop_duplicates()"
   ]
  },
  {
   "cell_type": "code",
   "execution_count": 23,
   "metadata": {},
   "outputs": [],
   "source": [
    "# создаем массив уникальных пар значений дат и групп теста\n",
    "datesGroups = orders[['date','group']].drop_duplicates() \n",
    "#datesGroups"
   ]
  },
  {
   "cell_type": "markdown",
   "metadata": {},
   "source": [
    "Соберём агрегированные кумулятивные по дням данные о заказах.  \n",
    "Создадим таблицу ordersAggregated, содержащую:\n",
    "* дату;\n",
    "* группу A/B-теста;\n",
    "* число уникальных заказов в группе теста по указанную дату включительно;\n",
    "* число уникальных пользователей, совершивших хотя бы 1 заказ в группе теста по указанную дату включительно;\n",
    "* суммарную выручку заказов в группе теста по указанную дату включительно"
   ]
  },
  {
   "cell_type": "code",
   "execution_count": 24,
   "metadata": {},
   "outputs": [],
   "source": [
    "# получаем агрегированные кумулятивные по дням данные о заказах \n",
    "ordersAggregated = datesGroups.apply(lambda x: orders[np.logical_and(orders['date'] <= x['date'], orders['group'] == x['group'])]\\\n",
    ".agg({'date' : 'max', 'group' : 'max', 'transactionId' : pd.Series.nunique, 'visitorId' : pd.Series.nunique, 'revenue' : 'sum'}), axis=1).sort_values(by=['date','group']) "
   ]
  },
  {
   "cell_type": "code",
   "execution_count": 25,
   "metadata": {},
   "outputs": [
    {
     "data": {
      "text/html": [
       "<div>\n",
       "<style scoped>\n",
       "    .dataframe tbody tr th:only-of-type {\n",
       "        vertical-align: middle;\n",
       "    }\n",
       "\n",
       "    .dataframe tbody tr th {\n",
       "        vertical-align: top;\n",
       "    }\n",
       "\n",
       "    .dataframe thead th {\n",
       "        text-align: right;\n",
       "    }\n",
       "</style>\n",
       "<table border=\"1\" class=\"dataframe\">\n",
       "  <thead>\n",
       "    <tr style=\"text-align: right;\">\n",
       "      <th></th>\n",
       "      <th>date</th>\n",
       "      <th>group</th>\n",
       "      <th>transactionId</th>\n",
       "      <th>visitorId</th>\n",
       "      <th>revenue</th>\n",
       "    </tr>\n",
       "  </thead>\n",
       "  <tbody>\n",
       "    <tr>\n",
       "      <td>55</td>\n",
       "      <td>2019-08-01</td>\n",
       "      <td>A</td>\n",
       "      <td>24</td>\n",
       "      <td>20</td>\n",
       "      <td>148579</td>\n",
       "    </tr>\n",
       "    <tr>\n",
       "      <td>66</td>\n",
       "      <td>2019-08-01</td>\n",
       "      <td>B</td>\n",
       "      <td>21</td>\n",
       "      <td>20</td>\n",
       "      <td>101217</td>\n",
       "    </tr>\n",
       "    <tr>\n",
       "      <td>175</td>\n",
       "      <td>2019-08-02</td>\n",
       "      <td>A</td>\n",
       "      <td>44</td>\n",
       "      <td>38</td>\n",
       "      <td>242401</td>\n",
       "    </tr>\n",
       "    <tr>\n",
       "      <td>173</td>\n",
       "      <td>2019-08-02</td>\n",
       "      <td>B</td>\n",
       "      <td>45</td>\n",
       "      <td>43</td>\n",
       "      <td>266748</td>\n",
       "    </tr>\n",
       "    <tr>\n",
       "      <td>291</td>\n",
       "      <td>2019-08-03</td>\n",
       "      <td>A</td>\n",
       "      <td>68</td>\n",
       "      <td>62</td>\n",
       "      <td>354874</td>\n",
       "    </tr>\n",
       "    <tr>\n",
       "      <td>310</td>\n",
       "      <td>2019-08-03</td>\n",
       "      <td>B</td>\n",
       "      <td>61</td>\n",
       "      <td>59</td>\n",
       "      <td>380996</td>\n",
       "    </tr>\n",
       "    <tr>\n",
       "      <td>499</td>\n",
       "      <td>2019-08-04</td>\n",
       "      <td>A</td>\n",
       "      <td>84</td>\n",
       "      <td>77</td>\n",
       "      <td>425699</td>\n",
       "    </tr>\n",
       "    <tr>\n",
       "      <td>498</td>\n",
       "      <td>2019-08-04</td>\n",
       "      <td>B</td>\n",
       "      <td>78</td>\n",
       "      <td>75</td>\n",
       "      <td>489567</td>\n",
       "    </tr>\n",
       "    <tr>\n",
       "      <td>698</td>\n",
       "      <td>2019-08-05</td>\n",
       "      <td>A</td>\n",
       "      <td>109</td>\n",
       "      <td>100</td>\n",
       "      <td>549917</td>\n",
       "    </tr>\n",
       "    <tr>\n",
       "      <td>699</td>\n",
       "      <td>2019-08-05</td>\n",
       "      <td>B</td>\n",
       "      <td>101</td>\n",
       "      <td>98</td>\n",
       "      <td>581995</td>\n",
       "    </tr>\n",
       "  </tbody>\n",
       "</table>\n",
       "</div>"
      ],
      "text/plain": [
       "          date group  transactionId  visitorId  revenue\n",
       "55  2019-08-01     A             24         20   148579\n",
       "66  2019-08-01     B             21         20   101217\n",
       "175 2019-08-02     A             44         38   242401\n",
       "173 2019-08-02     B             45         43   266748\n",
       "291 2019-08-03     A             68         62   354874\n",
       "310 2019-08-03     B             61         59   380996\n",
       "499 2019-08-04     A             84         77   425699\n",
       "498 2019-08-04     B             78         75   489567\n",
       "698 2019-08-05     A            109        100   549917\n",
       "699 2019-08-05     B            101         98   581995"
      ]
     },
     "execution_count": 25,
     "metadata": {},
     "output_type": "execute_result"
    }
   ],
   "source": [
    "ordersAggregated.head(10)"
   ]
  },
  {
   "cell_type": "markdown",
   "metadata": {},
   "source": [
    "Получим агрегированные кумулятивные по дням данные о посетителях интернет-магазина.  \n",
    "Создадим таблицу visitorsAggregated, содержащую:\n",
    "* дату;\n",
    "* группу A/B-теста;\n",
    "* количество уникальных посетителей в группе теста по указанную дату включительно"
   ]
  },
  {
   "cell_type": "code",
   "execution_count": 26,
   "metadata": {},
   "outputs": [],
   "source": [
    "# получаем агрегированные кумулятивные по дням данные о посетителях интернет-магазина \n",
    "visitorsAggregated = datesGroups.apply(lambda x: visitors[np.logical_and(visitors['date'] <= x['date'], visitors['group'] == x['group'])].agg({'date' : 'max', 'group' : 'max', 'visitors' : 'sum'}), axis=1).sort_values(by=['date','group'])"
   ]
  },
  {
   "cell_type": "code",
   "execution_count": 27,
   "metadata": {},
   "outputs": [
    {
     "data": {
      "text/html": [
       "<div>\n",
       "<style scoped>\n",
       "    .dataframe tbody tr th:only-of-type {\n",
       "        vertical-align: middle;\n",
       "    }\n",
       "\n",
       "    .dataframe tbody tr th {\n",
       "        vertical-align: top;\n",
       "    }\n",
       "\n",
       "    .dataframe thead th {\n",
       "        text-align: right;\n",
       "    }\n",
       "</style>\n",
       "<table border=\"1\" class=\"dataframe\">\n",
       "  <thead>\n",
       "    <tr style=\"text-align: right;\">\n",
       "      <th></th>\n",
       "      <th>date</th>\n",
       "      <th>group</th>\n",
       "      <th>visitors</th>\n",
       "    </tr>\n",
       "  </thead>\n",
       "  <tbody>\n",
       "    <tr>\n",
       "      <td>55</td>\n",
       "      <td>2019-08-01</td>\n",
       "      <td>A</td>\n",
       "      <td>719</td>\n",
       "    </tr>\n",
       "    <tr>\n",
       "      <td>66</td>\n",
       "      <td>2019-08-01</td>\n",
       "      <td>B</td>\n",
       "      <td>713</td>\n",
       "    </tr>\n",
       "    <tr>\n",
       "      <td>175</td>\n",
       "      <td>2019-08-02</td>\n",
       "      <td>A</td>\n",
       "      <td>1338</td>\n",
       "    </tr>\n",
       "    <tr>\n",
       "      <td>173</td>\n",
       "      <td>2019-08-02</td>\n",
       "      <td>B</td>\n",
       "      <td>1294</td>\n",
       "    </tr>\n",
       "    <tr>\n",
       "      <td>291</td>\n",
       "      <td>2019-08-03</td>\n",
       "      <td>A</td>\n",
       "      <td>1845</td>\n",
       "    </tr>\n",
       "    <tr>\n",
       "      <td>310</td>\n",
       "      <td>2019-08-03</td>\n",
       "      <td>B</td>\n",
       "      <td>1803</td>\n",
       "    </tr>\n",
       "    <tr>\n",
       "      <td>499</td>\n",
       "      <td>2019-08-04</td>\n",
       "      <td>A</td>\n",
       "      <td>2562</td>\n",
       "    </tr>\n",
       "    <tr>\n",
       "      <td>498</td>\n",
       "      <td>2019-08-04</td>\n",
       "      <td>B</td>\n",
       "      <td>2573</td>\n",
       "    </tr>\n",
       "    <tr>\n",
       "      <td>698</td>\n",
       "      <td>2019-08-05</td>\n",
       "      <td>A</td>\n",
       "      <td>3318</td>\n",
       "    </tr>\n",
       "    <tr>\n",
       "      <td>699</td>\n",
       "      <td>2019-08-05</td>\n",
       "      <td>B</td>\n",
       "      <td>3280</td>\n",
       "    </tr>\n",
       "  </tbody>\n",
       "</table>\n",
       "</div>"
      ],
      "text/plain": [
       "          date group  visitors\n",
       "55  2019-08-01     A       719\n",
       "66  2019-08-01     B       713\n",
       "175 2019-08-02     A      1338\n",
       "173 2019-08-02     B      1294\n",
       "291 2019-08-03     A      1845\n",
       "310 2019-08-03     B      1803\n",
       "499 2019-08-04     A      2562\n",
       "498 2019-08-04     B      2573\n",
       "698 2019-08-05     A      3318\n",
       "699 2019-08-05     B      3280"
      ]
     },
     "execution_count": 27,
     "metadata": {},
     "output_type": "execute_result"
    }
   ],
   "source": [
    "visitorsAggregated.head(10)"
   ]
  },
  {
   "cell_type": "markdown",
   "metadata": {},
   "source": [
    "Объединим обе таблицы в одну - объявим датафрейм cumulativeDataсо столбцами:\n",
    "- date— дата;\n",
    "- group— группа A/B-теста (A или B);\n",
    "- orders— кумулятивное количество заказов на указанную дату в указанной группе;\n",
    "- buyers— кумулятивное количество пользователей, совершивших хотя бы один заказ, на указанную дату в указанной группе;\n",
    "- revenue— кумулятивная выручка на указанную дату в указанной группе (средний чек);\n",
    "- visitors— кумулятивное количество посетителей интернет-магазина на указанную дату в определённой группе."
   ]
  },
  {
   "cell_type": "code",
   "execution_count": 28,
   "metadata": {},
   "outputs": [],
   "source": [
    "# объединяем кумулятивные данные в одной таблице и присваиваем ее столбцам понятные названия\n",
    "cumulativeData = ordersAggregated.merge(visitorsAggregated, left_on=['date', 'group'], right_on=['date', 'group'])\n",
    "cumulativeData.columns = ['date', 'group', 'orders', 'buyers', 'revenue', 'visitors']"
   ]
  },
  {
   "cell_type": "code",
   "execution_count": 29,
   "metadata": {},
   "outputs": [
    {
     "data": {
      "text/html": [
       "<div>\n",
       "<style scoped>\n",
       "    .dataframe tbody tr th:only-of-type {\n",
       "        vertical-align: middle;\n",
       "    }\n",
       "\n",
       "    .dataframe tbody tr th {\n",
       "        vertical-align: top;\n",
       "    }\n",
       "\n",
       "    .dataframe thead th {\n",
       "        text-align: right;\n",
       "    }\n",
       "</style>\n",
       "<table border=\"1\" class=\"dataframe\">\n",
       "  <thead>\n",
       "    <tr style=\"text-align: right;\">\n",
       "      <th></th>\n",
       "      <th>date</th>\n",
       "      <th>group</th>\n",
       "      <th>orders</th>\n",
       "      <th>buyers</th>\n",
       "      <th>revenue</th>\n",
       "      <th>visitors</th>\n",
       "    </tr>\n",
       "  </thead>\n",
       "  <tbody>\n",
       "    <tr>\n",
       "      <td>0</td>\n",
       "      <td>2019-08-01</td>\n",
       "      <td>A</td>\n",
       "      <td>24</td>\n",
       "      <td>20</td>\n",
       "      <td>148579</td>\n",
       "      <td>719</td>\n",
       "    </tr>\n",
       "    <tr>\n",
       "      <td>1</td>\n",
       "      <td>2019-08-01</td>\n",
       "      <td>B</td>\n",
       "      <td>21</td>\n",
       "      <td>20</td>\n",
       "      <td>101217</td>\n",
       "      <td>713</td>\n",
       "    </tr>\n",
       "    <tr>\n",
       "      <td>2</td>\n",
       "      <td>2019-08-02</td>\n",
       "      <td>A</td>\n",
       "      <td>44</td>\n",
       "      <td>38</td>\n",
       "      <td>242401</td>\n",
       "      <td>1338</td>\n",
       "    </tr>\n",
       "    <tr>\n",
       "      <td>3</td>\n",
       "      <td>2019-08-02</td>\n",
       "      <td>B</td>\n",
       "      <td>45</td>\n",
       "      <td>43</td>\n",
       "      <td>266748</td>\n",
       "      <td>1294</td>\n",
       "    </tr>\n",
       "    <tr>\n",
       "      <td>4</td>\n",
       "      <td>2019-08-03</td>\n",
       "      <td>A</td>\n",
       "      <td>68</td>\n",
       "      <td>62</td>\n",
       "      <td>354874</td>\n",
       "      <td>1845</td>\n",
       "    </tr>\n",
       "  </tbody>\n",
       "</table>\n",
       "</div>"
      ],
      "text/plain": [
       "        date group  orders  buyers  revenue  visitors\n",
       "0 2019-08-01     A      24      20   148579       719\n",
       "1 2019-08-01     B      21      20   101217       713\n",
       "2 2019-08-02     A      44      38   242401      1338\n",
       "3 2019-08-02     B      45      43   266748      1294\n",
       "4 2019-08-03     A      68      62   354874      1845"
      ]
     },
     "execution_count": 29,
     "metadata": {},
     "output_type": "execute_result"
    }
   ],
   "source": [
    "cumulativeData.head()"
   ]
  },
  {
   "cell_type": "markdown",
   "metadata": {},
   "source": [
    "#### Кумулятивная выручка"
   ]
  },
  {
   "cell_type": "markdown",
   "metadata": {},
   "source": [
    "Построим график кумулятивной выручки по группам."
   ]
  },
  {
   "cell_type": "code",
   "execution_count": 30,
   "metadata": {},
   "outputs": [],
   "source": [
    "# датафрейм с кумулятивным количеством заказов и кумулятивной выручкой по дням в группе А\n",
    "cumulativeRevenueA = cumulativeData[cumulativeData['group']=='A'][['date','revenue', 'orders']]"
   ]
  },
  {
   "cell_type": "code",
   "execution_count": 31,
   "metadata": {},
   "outputs": [],
   "source": [
    "# датафрейм с кумулятивным количеством заказов и кумулятивной выручкой по дням в группе B\n",
    "cumulativeRevenueB = cumulativeData[cumulativeData['group']=='B'][['date','revenue', 'orders']]"
   ]
  },
  {
   "cell_type": "code",
   "execution_count": 32,
   "metadata": {},
   "outputs": [
    {
     "data": {
      "image/png": "[encoded data removed]",
      "text/plain": [
       "<Figure size 1440x720 with 1 Axes>"
      ]
     },
     "metadata": {
      "needs_background": "light"
     },
     "output_type": "display_data"
    }
   ],
   "source": [
    "plt.figure(figsize=(20,10))\n",
    "plt.grid()\n",
    "# Строим график выручки группы А\n",
    "plt.plot(cumulativeRevenueA['date'], cumulativeRevenueA['revenue'], label='A')\n",
    "\n",
    "# Строим график выручки группы B\n",
    "plt.plot(cumulativeRevenueB['date'], cumulativeRevenueB['revenue'], label='B')\n",
    "plt.title('Динамика кумулятивной выручки по группам', size = 24)\n",
    "plt.xlabel(\"Дата\")\n",
    "plt.ylabel(\"Выручка\")\n",
    "plt.legend()\n",
    "plt.show()"
   ]
  },
  {
   "cell_type": "markdown",
   "metadata": {},
   "source": [
    "Выручка растет для обеих групп на протяжении всего периода тестирования. График выручки группы B  резко растет 19.08.2019. Это может сигнализировать о всплесках числа заказов, либо о появлении очень дорогих заказов в выборке. "
   ]
  },
  {
   "cell_type": "markdown",
   "metadata": {},
   "source": [
    "#### Кумулятивный средний чек"
   ]
  },
  {
   "cell_type": "markdown",
   "metadata": {},
   "source": [
    "Построим график кумулятивного среднего чека по группам — разделим кумулятивную выручку на кумулятивное число заказов."
   ]
  },
  {
   "cell_type": "code",
   "execution_count": 33,
   "metadata": {},
   "outputs": [
    {
     "data": {
      "image/png": "[encoded data removed]",
      "text/plain": [
       "<Figure size 1440x720 with 1 Axes>"
      ]
     },
     "metadata": {
      "needs_background": "light"
     },
     "output_type": "display_data"
    }
   ],
   "source": [
    "plt.figure(figsize=(20,10))\n",
    "plt.grid()\n",
    "\n",
    "plt.plot(cumulativeRevenueA['date'], cumulativeRevenueA['revenue']/cumulativeRevenueA['orders'], label='A')\n",
    "plt.plot(cumulativeRevenueB['date'], cumulativeRevenueB['revenue']/cumulativeRevenueB['orders'], label='B')\n",
    "plt.title('Динамика кумулятивного среднего чека по группам', size = 24)\n",
    "plt.xlabel(\"Дата\")\n",
    "plt.ylabel(\"Средний чек\")\n",
    "plt.legend()\n",
    "plt.show()"
   ]
  },
  {
   "cell_type": "markdown",
   "metadata": {},
   "source": [
    "Период тестирования до 15.08.2019 характеризуется резкими скачками размера среднего чека для обеих групп. Для группы В резкий рост выручки 19.08.2019 сопровождается резким увеличением среднего чека. Это требует дополнительного анализа выбросов."
   ]
  },
  {
   "cell_type": "markdown",
   "metadata": {},
   "source": [
    "#### Относительное изменение кумулятивного среднего чека группы B к группе A"
   ]
  },
  {
   "cell_type": "markdown",
   "metadata": {},
   "source": [
    "Построим график относительного изменения кумулятивного среднего чека группы B к группе A. "
   ]
  },
  {
   "cell_type": "code",
   "execution_count": 34,
   "metadata": {},
   "outputs": [
    {
     "data": {
      "image/png": "[encoded data removed]",
      "text/plain": [
       "<Figure size 1440x720 with 1 Axes>"
      ]
     },
     "metadata": {
      "needs_background": "light"
     },
     "output_type": "display_data"
    }
   ],
   "source": [
    "# собираем данные в одном датафрейме\n",
    "mergedCumulativeRevenue = cumulativeRevenueA.merge(cumulativeRevenueB, left_on='date', right_on='date', how='left', suffixes=['A', 'B'])\n",
    "\n",
    "plt.figure(figsize=(20,10))\n",
    "plt.grid()\n",
    "# cтроим отношение средних чеков\n",
    "plt.plot(mergedCumulativeRevenue['date'], (mergedCumulativeRevenue['revenueB']/mergedCumulativeRevenue['ordersB'])/(mergedCumulativeRevenue['revenueA']/mergedCumulativeRevenue['ordersA'])-1)\n",
    "\n",
    "plt.title('Относительное изменение кумулятивного среднего чека группы B к группе A', size = 24)\n",
    "plt.xlabel(\"Дата\")\n",
    "plt.ylabel(\"Отношение\")\n",
    "\n",
    "# добавляем ось X\n",
    "plt.axhline(y=0, color='black', linestyle='--')\n",
    "\n",
    "plt.show()\n"
   ]
  },
  {
   "cell_type": "markdown",
   "metadata": {},
   "source": [
    "Кумулятивный средний чек группы B в подавлящем большинстве случаев больше кумулятивного среднего чека группы А. Вместе с тем различие чеков местами резко скачет. Что требует дооплнительного анализа крупных заказов и выбросов."
   ]
  },
  {
   "cell_type": "markdown",
   "metadata": {},
   "source": [
    "#### Кумулятивная конверсия"
   ]
  },
  {
   "cell_type": "markdown",
   "metadata": {},
   "source": [
    "Построим график кумулятивной конверсии по группам."
   ]
  },
  {
   "cell_type": "code",
   "execution_count": 35,
   "metadata": {},
   "outputs": [
    {
     "data": {
      "image/png": "[encoded data removed]",
      "text/plain": [
       "<Figure size 1440x720 with 1 Axes>"
      ]
     },
     "metadata": {
      "needs_background": "light"
     },
     "output_type": "display_data"
    }
   ],
   "source": [
    "# считаем кумулятивную конверсию\n",
    "cumulativeData['conversion'] = cumulativeData['orders']/cumulativeData['visitors']\n",
    "\n",
    "# отделяем данные по группе A\n",
    "cumulativeDataA = cumulativeData[cumulativeData['group']=='A']\n",
    "\n",
    "# отделяем данные по группе B\n",
    "cumulativeDataB = cumulativeData[cumulativeData['group']=='B']\n",
    "\n",
    "# строим графики\n",
    "plt.figure(figsize=(20,10))\n",
    "plt.grid()\n",
    "plt.plot(cumulativeDataA['date'], cumulativeDataA['conversion'], label='A')\n",
    "plt.plot(cumulativeDataB['date'], cumulativeDataB['conversion'], label='B')\n",
    "plt.title('Кумулятивная конверсия по группам', size = 24)\n",
    "plt.xlabel(\"Дата\")\n",
    "plt.ylabel(\"Конверсия\")\n",
    "plt.legend()\n",
    "plt.show()\n",
    "\n",
    "# задаем масштаб осей\n",
    "#plt.axis([\"2019-08-01\", '2019-08-31', 0, 0.015]) "
   ]
  },
  {
   "cell_type": "markdown",
   "metadata": {},
   "source": [
    "До 05.08.2019 конверсия обеих групп испытывала серьзеные колебания, при этом конверсия группы А опережала конверсию группы В. С 05.08.2019 конверсия группы А снижается, конверсия группы В растет и опережает конверсию группы А."
   ]
  },
  {
   "cell_type": "markdown",
   "metadata": {},
   "source": [
    "#### Относительное изменение кумулятивной конверсии группы B к группе A"
   ]
  },
  {
   "cell_type": "markdown",
   "metadata": {},
   "source": [
    "Построим график относительного изменения кумулятивной конверсии группы B к группе A."
   ]
  },
  {
   "cell_type": "code",
   "execution_count": 36,
   "metadata": {},
   "outputs": [
    {
     "data": {
      "image/png": "[encoded data removed]",
      "text/plain": [
       "<Figure size 1440x720 with 1 Axes>"
      ]
     },
     "metadata": {
      "needs_background": "light"
     },
     "output_type": "display_data"
    }
   ],
   "source": [
    "mergedCumulativeConversions = cumulativeDataA[['date','conversion']].merge(cumulativeDataB[['date','conversion']], left_on='date', right_on='date', how='left', suffixes=['A', 'B'])\n",
    "\n",
    "plt.figure(figsize=(20,10))\n",
    "plt.grid()\n",
    "plt.plot(mergedCumulativeConversions['date'], mergedCumulativeConversions['conversionB']/mergedCumulativeConversions['conversionA']-1)\n",
    "plt.title('Относительный прирост конверсии группы B относительно группы A', size = 24)\n",
    "plt.xlabel(\"Дата\")\n",
    "plt.ylabel(\"Отношение\")\n",
    "\n",
    "plt.axhline(y=0, color='black', linestyle='--')\n",
    "plt.axhline(y=0.15, color='grey', linestyle='--')\n",
    "plt.axis([\"2019-08-01\", '2019-08-31', -0.3, 0.3]) \n",
    "plt.show()"
   ]
  },
  {
   "cell_type": "markdown",
   "metadata": {},
   "source": [
    "В начале теста до 06.08.2019 группа В проигрывала по конверсии группе А, но затем вырвалась вперед."
   ]
  },
  {
   "cell_type": "markdown",
   "metadata": {},
   "source": [
    "### Анализ выбросов и всплесков: крайние значения данных"
   ]
  },
  {
   "cell_type": "markdown",
   "metadata": {},
   "source": [
    "Подсчитаем количество заказов по пользователям и построим точечный график."
   ]
  },
  {
   "cell_type": "code",
   "execution_count": 37,
   "metadata": {},
   "outputs": [],
   "source": [
    "ordersByUsers = (\n",
    "    orders.drop(['date', 'revenue', 'group'], axis=1)\n",
    "    .groupby('visitorId', as_index=False)\n",
    "    .agg({'transactionId': pd.Series.nunique})\n",
    ")\n",
    "\n",
    "ordersByUsers.columns = ['visitorId', 'orders']"
   ]
  },
  {
   "cell_type": "code",
   "execution_count": 38,
   "metadata": {},
   "outputs": [
    {
     "data": {
      "text/plain": [
       "count   1,031.00\n",
       "mean        1.16\n",
       "std         0.72\n",
       "min         1.00\n",
       "25%         1.00\n",
       "50%         1.00\n",
       "75%         1.00\n",
       "max        11.00\n",
       "Name: orders, dtype: float64"
      ]
     },
     "execution_count": 38,
     "metadata": {},
     "output_type": "execute_result"
    }
   ],
   "source": [
    "ordersByUsers['orders'].describe()"
   ]
  },
  {
   "cell_type": "code",
   "execution_count": 39,
   "metadata": {},
   "outputs": [
    {
     "data": {
      "image/png": "[encoded data removed]",
      "text/plain": [
       "<Figure size 1440x720 with 1 Axes>"
      ]
     },
     "metadata": {
      "needs_background": "light"
     },
     "output_type": "display_data"
    }
   ],
   "source": [
    "x_values = pd.Series(range(0,len(ordersByUsers)))\n",
    "\n",
    "plt.figure(figsize=(20,10))\n",
    "plt.grid()\n",
    "plt.scatter(x_values, ordersByUsers['orders'])\n",
    "plt.title('Количество заказов по пользователям', size = 24)\n",
    "plt.xlabel('Пользователь')\n",
    "plt.ylabel('Количество заказов')\n",
    "\n",
    "plt.show()"
   ]
  },
  {
   "cell_type": "markdown",
   "metadata": {},
   "source": [
    "Исходя из графика подавляющее большинство пользователей с 1-2 заказами."
   ]
  },
  {
   "cell_type": "markdown",
   "metadata": {},
   "source": [
    "Рассчитаем 95-й и 99-й перцентили количества заказов на пользователя."
   ]
  },
  {
   "cell_type": "code",
   "execution_count": 40,
   "metadata": {
    "scrolled": true
   },
   "outputs": [
    {
     "name": "stdout",
     "output_type": "stream",
     "text": [
      "[2. 4.]\n"
     ]
    }
   ],
   "source": [
    "print(np.percentile(ordersByUsers['orders'], [95, 99])) "
   ]
  },
  {
   "cell_type": "markdown",
   "metadata": {},
   "source": [
    "Не более чем 5% пользователей оформляли более 2 заказов. Не более 1% пользователей оформили более 4 заказов.  \n",
    "Разумно выбрать 4 заказа на одного пользователя за нижнюю границу числа заказов, и отсеять аномальных пользователей по ней."
   ]
  },
  {
   "cell_type": "markdown",
   "metadata": {},
   "source": [
    "Построим точечный график стоимостей заказов."
   ]
  },
  {
   "cell_type": "code",
   "execution_count": 41,
   "metadata": {},
   "outputs": [
    {
     "name": "stdout",
     "output_type": "stream",
     "text": [
      "      transactionId   visitorId       date  revenue group\n",
      "425       590470918  1920142716 2019-08-19  1294500     B\n",
      "1196     3936777065  2108080724 2019-08-15   202740     B\n",
      "858       192721366  1316129916 2019-08-27    93940     A\n",
      "1136      666610489  1307669133 2019-08-13    92550     A\n",
      "744      3668308183   888512513 2019-08-27    86620     B\n",
      "682      1216533772  4266935830 2019-08-29    78990     B\n",
      "662      1811671147  4266935830 2019-08-29    78990     A\n",
      "743      3603576309  4133034833 2019-08-09    67990     A\n",
      "1103     1348774318  1164614297 2019-08-12    66350     A\n",
      "1099      316924019   148427295 2019-08-12    65710     A\n"
     ]
    }
   ],
   "source": [
    "print(orders.sort_values(by='revenue', ascending=False).head(10))\n"
   ]
  },
  {
   "cell_type": "code",
   "execution_count": 42,
   "metadata": {},
   "outputs": [
    {
     "data": {
      "image/png": "[encoded data removed]",
      "text/plain": [
       "<Figure size 1440x720 with 1 Axes>"
      ]
     },
     "metadata": {
      "needs_background": "light"
     },
     "output_type": "display_data"
    }
   ],
   "source": [
    "\n",
    "x_values = pd.Series(range(0, len(orders['revenue'])))\n",
    "plt.figure(figsize=(20,10))\n",
    "plt.grid()\n",
    "plt.scatter(x_values, orders['revenue'])\n",
    "plt.title('График стоимости заказов', size = 24)\n",
    "plt.xlabel('Пользователь')\n",
    "plt.ylabel('Стоимость заказов')\n",
    "\n",
    "plt.show()\n",
    "\n"
   ]
  },
  {
   "cell_type": "markdown",
   "metadata": {},
   "source": [
    "На графике четко прослеживаются два выброса - стоимость заказа 200 тыс. и 1 300 тыс. Заказ на сумму 1,3 млн. объясняет скачок на графике выручки 19.08.2019."
   ]
  },
  {
   "cell_type": "markdown",
   "metadata": {},
   "source": [
    "Посчитаем 95-й и 99-й перцентили стоимости заказов"
   ]
  },
  {
   "cell_type": "code",
   "execution_count": 43,
   "metadata": {},
   "outputs": [
    {
     "name": "stdout",
     "output_type": "stream",
     "text": [
      "[28000.  58233.2]\n"
     ]
    }
   ],
   "source": [
    "print(np.percentile(orders['revenue'], [95, 99])) "
   ]
  },
  {
   "cell_type": "markdown",
   "metadata": {},
   "source": [
    "Не более чем 5% пользователей оформляли заказ на сумму выше 28 тыс. Не более 1% пользователей оформили заказ на сумму 58,2 тыс.\n",
    "Целесообразно выбрать сумму 40 000  за нижнюю границу стоимости заказов, и отсеять аномальных пользователей по ней."
   ]
  },
  {
   "cell_type": "markdown",
   "metadata": {},
   "source": [
    "### Расчет статистической значимости"
   ]
  },
  {
   "cell_type": "markdown",
   "metadata": {},
   "source": [
    "#### Конверсия по \"сырым\" данным"
   ]
  },
  {
   "cell_type": "markdown",
   "metadata": {},
   "source": [
    "Посчитаем статистическую значимость различий в конверсии между группами по «сырым» данным."
   ]
  },
  {
   "cell_type": "markdown",
   "metadata": {},
   "source": [
    "Подготовим данные."
   ]
  },
  {
   "cell_type": "code",
   "execution_count": 44,
   "metadata": {},
   "outputs": [],
   "source": [
    "visitorsADaily = visitors[visitors['group'] == 'A'][['date', 'visitors']]\n",
    "visitorsADaily.columns = ['date', 'visitorsPerDateA']\n",
    "\n",
    "visitorsACummulative = visitorsADaily.apply(\n",
    "    lambda x: visitorsADaily[visitorsADaily['date'] <= x['date']].agg(\n",
    "        {'date': 'max', 'visitorsPerDateA': 'sum'}\n",
    "    ),\n",
    "    axis=1,\n",
    ")\n",
    "visitorsACummulative.columns = ['date', 'visitorsCummulativeA']"
   ]
  },
  {
   "cell_type": "code",
   "execution_count": 45,
   "metadata": {},
   "outputs": [
    {
     "data": {
      "text/html": [
       "<div>\n",
       "<style scoped>\n",
       "    .dataframe tbody tr th:only-of-type {\n",
       "        vertical-align: middle;\n",
       "    }\n",
       "\n",
       "    .dataframe tbody tr th {\n",
       "        vertical-align: top;\n",
       "    }\n",
       "\n",
       "    .dataframe thead th {\n",
       "        text-align: right;\n",
       "    }\n",
       "</style>\n",
       "<table border=\"1\" class=\"dataframe\">\n",
       "  <thead>\n",
       "    <tr style=\"text-align: right;\">\n",
       "      <th></th>\n",
       "      <th>date</th>\n",
       "      <th>visitorsCummulativeA</th>\n",
       "    </tr>\n",
       "  </thead>\n",
       "  <tbody>\n",
       "    <tr>\n",
       "      <td>0</td>\n",
       "      <td>2019-08-01</td>\n",
       "      <td>719</td>\n",
       "    </tr>\n",
       "    <tr>\n",
       "      <td>1</td>\n",
       "      <td>2019-08-02</td>\n",
       "      <td>1338</td>\n",
       "    </tr>\n",
       "    <tr>\n",
       "      <td>2</td>\n",
       "      <td>2019-08-03</td>\n",
       "      <td>1845</td>\n",
       "    </tr>\n",
       "    <tr>\n",
       "      <td>3</td>\n",
       "      <td>2019-08-04</td>\n",
       "      <td>2562</td>\n",
       "    </tr>\n",
       "    <tr>\n",
       "      <td>4</td>\n",
       "      <td>2019-08-05</td>\n",
       "      <td>3318</td>\n",
       "    </tr>\n",
       "  </tbody>\n",
       "</table>\n",
       "</div>"
      ],
      "text/plain": [
       "        date  visitorsCummulativeA\n",
       "0 2019-08-01                   719\n",
       "1 2019-08-02                  1338\n",
       "2 2019-08-03                  1845\n",
       "3 2019-08-04                  2562\n",
       "4 2019-08-05                  3318"
      ]
     },
     "execution_count": 45,
     "metadata": {},
     "output_type": "execute_result"
    }
   ],
   "source": [
    "visitorsACummulative.head()"
   ]
  },
  {
   "cell_type": "code",
   "execution_count": 46,
   "metadata": {},
   "outputs": [],
   "source": [
    "visitorsBDaily = visitors[visitors['group'] == 'B'][['date', 'visitors']]\n",
    "visitorsBDaily.columns = ['date', 'visitorsPerDateB']\n",
    "\n",
    "visitorsBCummulative = visitorsBDaily.apply(\n",
    "    lambda x: visitorsBDaily[visitorsBDaily['date'] <= x['date']].agg(\n",
    "        {'date': 'max', 'visitorsPerDateB': 'sum'}\n",
    "    ),\n",
    "    axis=1,\n",
    ")\n",
    "visitorsBCummulative.columns = ['date', 'visitorsCummulativeB']"
   ]
  },
  {
   "cell_type": "code",
   "execution_count": 47,
   "metadata": {},
   "outputs": [
    {
     "data": {
      "text/html": [
       "<div>\n",
       "<style scoped>\n",
       "    .dataframe tbody tr th:only-of-type {\n",
       "        vertical-align: middle;\n",
       "    }\n",
       "\n",
       "    .dataframe tbody tr th {\n",
       "        vertical-align: top;\n",
       "    }\n",
       "\n",
       "    .dataframe thead th {\n",
       "        text-align: right;\n",
       "    }\n",
       "</style>\n",
       "<table border=\"1\" class=\"dataframe\">\n",
       "  <thead>\n",
       "    <tr style=\"text-align: right;\">\n",
       "      <th></th>\n",
       "      <th>date</th>\n",
       "      <th>visitorsCummulativeB</th>\n",
       "    </tr>\n",
       "  </thead>\n",
       "  <tbody>\n",
       "    <tr>\n",
       "      <td>31</td>\n",
       "      <td>2019-08-01</td>\n",
       "      <td>713</td>\n",
       "    </tr>\n",
       "    <tr>\n",
       "      <td>32</td>\n",
       "      <td>2019-08-02</td>\n",
       "      <td>1294</td>\n",
       "    </tr>\n",
       "    <tr>\n",
       "      <td>33</td>\n",
       "      <td>2019-08-03</td>\n",
       "      <td>1803</td>\n",
       "    </tr>\n",
       "    <tr>\n",
       "      <td>34</td>\n",
       "      <td>2019-08-04</td>\n",
       "      <td>2573</td>\n",
       "    </tr>\n",
       "    <tr>\n",
       "      <td>35</td>\n",
       "      <td>2019-08-05</td>\n",
       "      <td>3280</td>\n",
       "    </tr>\n",
       "  </tbody>\n",
       "</table>\n",
       "</div>"
      ],
      "text/plain": [
       "         date  visitorsCummulativeB\n",
       "31 2019-08-01                   713\n",
       "32 2019-08-02                  1294\n",
       "33 2019-08-03                  1803\n",
       "34 2019-08-04                  2573\n",
       "35 2019-08-05                  3280"
      ]
     },
     "execution_count": 47,
     "metadata": {},
     "output_type": "execute_result"
    }
   ],
   "source": [
    "visitorsBCummulative.head()"
   ]
  },
  {
   "cell_type": "code",
   "execution_count": 48,
   "metadata": {},
   "outputs": [],
   "source": [
    "ordersADaily = (\n",
    "    orders[orders['group'] == 'A'][['date', 'transactionId', 'visitorId', 'revenue']]\n",
    "    .groupby('date', as_index=False)\n",
    "    .agg({'transactionId': pd.Series.nunique, 'revenue': 'sum'})\n",
    ")\n",
    "ordersADaily.columns = ['date', 'ordersPerDateA', 'revenuePerDateA']\n",
    "\n",
    "ordersACummulative = ordersADaily.apply(\n",
    "    lambda x: ordersADaily[ordersADaily['date'] <= x['date']].agg(\n",
    "        {'date': 'max', 'ordersPerDateA': 'sum', 'revenuePerDateA': 'sum'}\n",
    "    ),\n",
    "    axis=1,\n",
    ").sort_values(by=['date'])\n",
    "ordersACummulative.columns = [\n",
    "    'date',\n",
    "    'ordersCummulativeA',\n",
    "    'revenueCummulativeA',\n",
    "]\n",
    "\n"
   ]
  },
  {
   "cell_type": "code",
   "execution_count": 49,
   "metadata": {},
   "outputs": [
    {
     "data": {
      "text/html": [
       "<div>\n",
       "<style scoped>\n",
       "    .dataframe tbody tr th:only-of-type {\n",
       "        vertical-align: middle;\n",
       "    }\n",
       "\n",
       "    .dataframe tbody tr th {\n",
       "        vertical-align: top;\n",
       "    }\n",
       "\n",
       "    .dataframe thead th {\n",
       "        text-align: right;\n",
       "    }\n",
       "</style>\n",
       "<table border=\"1\" class=\"dataframe\">\n",
       "  <thead>\n",
       "    <tr style=\"text-align: right;\">\n",
       "      <th></th>\n",
       "      <th>date</th>\n",
       "      <th>ordersCummulativeA</th>\n",
       "      <th>revenueCummulativeA</th>\n",
       "    </tr>\n",
       "  </thead>\n",
       "  <tbody>\n",
       "    <tr>\n",
       "      <td>0</td>\n",
       "      <td>2019-08-01</td>\n",
       "      <td>24</td>\n",
       "      <td>148579</td>\n",
       "    </tr>\n",
       "    <tr>\n",
       "      <td>1</td>\n",
       "      <td>2019-08-02</td>\n",
       "      <td>44</td>\n",
       "      <td>242401</td>\n",
       "    </tr>\n",
       "    <tr>\n",
       "      <td>2</td>\n",
       "      <td>2019-08-03</td>\n",
       "      <td>68</td>\n",
       "      <td>354874</td>\n",
       "    </tr>\n",
       "    <tr>\n",
       "      <td>3</td>\n",
       "      <td>2019-08-04</td>\n",
       "      <td>84</td>\n",
       "      <td>425699</td>\n",
       "    </tr>\n",
       "    <tr>\n",
       "      <td>4</td>\n",
       "      <td>2019-08-05</td>\n",
       "      <td>109</td>\n",
       "      <td>549917</td>\n",
       "    </tr>\n",
       "  </tbody>\n",
       "</table>\n",
       "</div>"
      ],
      "text/plain": [
       "        date  ordersCummulativeA  revenueCummulativeA\n",
       "0 2019-08-01                  24               148579\n",
       "1 2019-08-02                  44               242401\n",
       "2 2019-08-03                  68               354874\n",
       "3 2019-08-04                  84               425699\n",
       "4 2019-08-05                 109               549917"
      ]
     },
     "execution_count": 49,
     "metadata": {},
     "output_type": "execute_result"
    }
   ],
   "source": [
    "ordersACummulative.head()"
   ]
  },
  {
   "cell_type": "code",
   "execution_count": 50,
   "metadata": {},
   "outputs": [],
   "source": [
    "ordersBDaily = (\n",
    "    orders[orders['group'] == 'B'][['date', 'transactionId', 'visitorId', 'revenue']]\n",
    "    .groupby('date', as_index=False)\n",
    "    .agg({'transactionId': pd.Series.nunique, 'revenue': 'sum'})\n",
    ")\n",
    "ordersBDaily.columns = ['date', 'ordersPerDateB', 'revenuePerDateB']\n",
    "\n",
    "ordersBCummulative = ordersBDaily.apply(\n",
    "    lambda x: ordersBDaily[ordersBDaily['date'] <= x['date']].agg(\n",
    "        {'date': 'max', 'ordersPerDateB': 'sum', 'revenuePerDateB': 'sum'}\n",
    "    ),\n",
    "    axis=1,\n",
    ").sort_values(by=['date'])\n",
    "ordersBCummulative.columns = [\n",
    "    'date',\n",
    "    'ordersCummulativeB',\n",
    "    'revenueCummulativeB',\n",
    "]"
   ]
  },
  {
   "cell_type": "code",
   "execution_count": 51,
   "metadata": {},
   "outputs": [
    {
     "data": {
      "text/html": [
       "<div>\n",
       "<style scoped>\n",
       "    .dataframe tbody tr th:only-of-type {\n",
       "        vertical-align: middle;\n",
       "    }\n",
       "\n",
       "    .dataframe tbody tr th {\n",
       "        vertical-align: top;\n",
       "    }\n",
       "\n",
       "    .dataframe thead th {\n",
       "        text-align: right;\n",
       "    }\n",
       "</style>\n",
       "<table border=\"1\" class=\"dataframe\">\n",
       "  <thead>\n",
       "    <tr style=\"text-align: right;\">\n",
       "      <th></th>\n",
       "      <th>date</th>\n",
       "      <th>ordersCummulativeB</th>\n",
       "      <th>revenueCummulativeB</th>\n",
       "    </tr>\n",
       "  </thead>\n",
       "  <tbody>\n",
       "    <tr>\n",
       "      <td>0</td>\n",
       "      <td>2019-08-01</td>\n",
       "      <td>21</td>\n",
       "      <td>101217</td>\n",
       "    </tr>\n",
       "    <tr>\n",
       "      <td>1</td>\n",
       "      <td>2019-08-02</td>\n",
       "      <td>45</td>\n",
       "      <td>266748</td>\n",
       "    </tr>\n",
       "    <tr>\n",
       "      <td>2</td>\n",
       "      <td>2019-08-03</td>\n",
       "      <td>61</td>\n",
       "      <td>380996</td>\n",
       "    </tr>\n",
       "    <tr>\n",
       "      <td>3</td>\n",
       "      <td>2019-08-04</td>\n",
       "      <td>78</td>\n",
       "      <td>489567</td>\n",
       "    </tr>\n",
       "    <tr>\n",
       "      <td>4</td>\n",
       "      <td>2019-08-05</td>\n",
       "      <td>101</td>\n",
       "      <td>581995</td>\n",
       "    </tr>\n",
       "  </tbody>\n",
       "</table>\n",
       "</div>"
      ],
      "text/plain": [
       "        date  ordersCummulativeB  revenueCummulativeB\n",
       "0 2019-08-01                  21               101217\n",
       "1 2019-08-02                  45               266748\n",
       "2 2019-08-03                  61               380996\n",
       "3 2019-08-04                  78               489567\n",
       "4 2019-08-05                 101               581995"
      ]
     },
     "execution_count": 51,
     "metadata": {},
     "output_type": "execute_result"
    }
   ],
   "source": [
    "ordersBCummulative.head()"
   ]
  },
  {
   "cell_type": "markdown",
   "metadata": {},
   "source": [
    "Сформируем датафрейм, где:  \n",
    "- date— дата;\n",
    "- ordersPerDateA— количество заказов в выбранную дату в группе A;\n",
    "- revenuePerDateA— суммарная выручка в выбранную дату в группе A;\n",
    "- ordersPerDateB— количество заказов в выбранную дату в группе B;\n",
    "- revenuePerDateB— суммарная выручка в выбранную дату в группе B;\n",
    "- ordersCummulativeA— суммарное число заказов до выбранной даты включительно в группе A;\n",
    "- revenueCummulativeA— суммарная выручка до выбранной даты включительно в группе A;\n",
    "- ordersCummulativeB— суммарное количество заказов до выбранной даты включительно в группе B;\n",
    "- revenueCummulativeB— суммарная выручка до выбранной даты включительно в группе B;\n",
    "- visitorsPerDateA— количество пользователей в выбранную дату в группе A;\n",
    "- visitorsPerDateB— количество пользователей в выбранную дату в группе B;\n",
    "- visitorsCummulativeA— количество пользователей до выбранной даты включительно в группе A;\n",
    "- visitorsCummulativeB— количество пользователей до выбранной даты включительно в группе B."
   ]
  },
  {
   "cell_type": "code",
   "execution_count": 52,
   "metadata": {},
   "outputs": [],
   "source": [
    "orders_per_date = (\n",
    "    ordersADaily.merge(\n",
    "        ordersBDaily, left_on='date', right_on='date', how='left'\n",
    "    )\n",
    "    .merge(ordersACummulative, left_on='date', right_on='date', how='left')\n",
    "    .merge(ordersBCummulative, left_on='date', right_on='date', how='left')\n",
    "    .merge(visitorsADaily, left_on='date', right_on='date', how='left')\n",
    "    .merge(visitorsBDaily, left_on='date', right_on='date', how='left')\n",
    "    .merge(visitorsACummulative, left_on='date', right_on='date', how='left')\n",
    "    .merge(visitorsBCummulative, left_on='date', right_on='date', how='left')\n",
    ")"
   ]
  },
  {
   "cell_type": "code",
   "execution_count": 53,
   "metadata": {},
   "outputs": [
    {
     "data": {
      "text/html": [
       "<div>\n",
       "<style scoped>\n",
       "    .dataframe tbody tr th:only-of-type {\n",
       "        vertical-align: middle;\n",
       "    }\n",
       "\n",
       "    .dataframe tbody tr th {\n",
       "        vertical-align: top;\n",
       "    }\n",
       "\n",
       "    .dataframe thead th {\n",
       "        text-align: right;\n",
       "    }\n",
       "</style>\n",
       "<table border=\"1\" class=\"dataframe\">\n",
       "  <thead>\n",
       "    <tr style=\"text-align: right;\">\n",
       "      <th></th>\n",
       "      <th>date</th>\n",
       "      <th>ordersPerDateA</th>\n",
       "      <th>revenuePerDateA</th>\n",
       "      <th>ordersPerDateB</th>\n",
       "      <th>revenuePerDateB</th>\n",
       "      <th>ordersCummulativeA</th>\n",
       "      <th>revenueCummulativeA</th>\n",
       "      <th>ordersCummulativeB</th>\n",
       "      <th>revenueCummulativeB</th>\n",
       "      <th>visitorsPerDateA</th>\n",
       "      <th>visitorsPerDateB</th>\n",
       "      <th>visitorsCummulativeA</th>\n",
       "      <th>visitorsCummulativeB</th>\n",
       "    </tr>\n",
       "  </thead>\n",
       "  <tbody>\n",
       "    <tr>\n",
       "      <td>0</td>\n",
       "      <td>2019-08-01</td>\n",
       "      <td>24</td>\n",
       "      <td>148579</td>\n",
       "      <td>21</td>\n",
       "      <td>101217</td>\n",
       "      <td>24</td>\n",
       "      <td>148579</td>\n",
       "      <td>21</td>\n",
       "      <td>101217</td>\n",
       "      <td>719</td>\n",
       "      <td>713</td>\n",
       "      <td>719</td>\n",
       "      <td>713</td>\n",
       "    </tr>\n",
       "    <tr>\n",
       "      <td>1</td>\n",
       "      <td>2019-08-02</td>\n",
       "      <td>20</td>\n",
       "      <td>93822</td>\n",
       "      <td>24</td>\n",
       "      <td>165531</td>\n",
       "      <td>44</td>\n",
       "      <td>242401</td>\n",
       "      <td>45</td>\n",
       "      <td>266748</td>\n",
       "      <td>619</td>\n",
       "      <td>581</td>\n",
       "      <td>1338</td>\n",
       "      <td>1294</td>\n",
       "    </tr>\n",
       "    <tr>\n",
       "      <td>2</td>\n",
       "      <td>2019-08-03</td>\n",
       "      <td>24</td>\n",
       "      <td>112473</td>\n",
       "      <td>16</td>\n",
       "      <td>114248</td>\n",
       "      <td>68</td>\n",
       "      <td>354874</td>\n",
       "      <td>61</td>\n",
       "      <td>380996</td>\n",
       "      <td>507</td>\n",
       "      <td>509</td>\n",
       "      <td>1845</td>\n",
       "      <td>1803</td>\n",
       "    </tr>\n",
       "    <tr>\n",
       "      <td>3</td>\n",
       "      <td>2019-08-04</td>\n",
       "      <td>16</td>\n",
       "      <td>70825</td>\n",
       "      <td>17</td>\n",
       "      <td>108571</td>\n",
       "      <td>84</td>\n",
       "      <td>425699</td>\n",
       "      <td>78</td>\n",
       "      <td>489567</td>\n",
       "      <td>717</td>\n",
       "      <td>770</td>\n",
       "      <td>2562</td>\n",
       "      <td>2573</td>\n",
       "    </tr>\n",
       "    <tr>\n",
       "      <td>4</td>\n",
       "      <td>2019-08-05</td>\n",
       "      <td>25</td>\n",
       "      <td>124218</td>\n",
       "      <td>23</td>\n",
       "      <td>92428</td>\n",
       "      <td>109</td>\n",
       "      <td>549917</td>\n",
       "      <td>101</td>\n",
       "      <td>581995</td>\n",
       "      <td>756</td>\n",
       "      <td>707</td>\n",
       "      <td>3318</td>\n",
       "      <td>3280</td>\n",
       "    </tr>\n",
       "  </tbody>\n",
       "</table>\n",
       "</div>"
      ],
      "text/plain": [
       "        date  ordersPerDateA  revenuePerDateA  ordersPerDateB  \\\n",
       "0 2019-08-01              24           148579              21   \n",
       "1 2019-08-02              20            93822              24   \n",
       "2 2019-08-03              24           112473              16   \n",
       "3 2019-08-04              16            70825              17   \n",
       "4 2019-08-05              25           124218              23   \n",
       "\n",
       "   revenuePerDateB  ordersCummulativeA  revenueCummulativeA  \\\n",
       "0           101217                  24               148579   \n",
       "1           165531                  44               242401   \n",
       "2           114248                  68               354874   \n",
       "3           108571                  84               425699   \n",
       "4            92428                 109               549917   \n",
       "\n",
       "   ordersCummulativeB  revenueCummulativeB  visitorsPerDateA  \\\n",
       "0                  21               101217               719   \n",
       "1                  45               266748               619   \n",
       "2                  61               380996               507   \n",
       "3                  78               489567               717   \n",
       "4                 101               581995               756   \n",
       "\n",
       "   visitorsPerDateB  visitorsCummulativeA  visitorsCummulativeB  \n",
       "0               713                   719                   713  \n",
       "1               581                  1338                  1294  \n",
       "2               509                  1845                  1803  \n",
       "3               770                  2562                  2573  \n",
       "4               707                  3318                  3280  "
      ]
     },
     "execution_count": 53,
     "metadata": {},
     "output_type": "execute_result"
    }
   ],
   "source": [
    "orders_per_date.head()"
   ]
  },
  {
   "cell_type": "markdown",
   "metadata": {},
   "source": [
    "Создадим переменные ordersByUsersAи ordersByUsersBсо столбцами ['userId', 'orders']. В них для пользователей, которые заказывали хотя бы 1 раз, укажем число совершённых заказов."
   ]
  },
  {
   "cell_type": "code",
   "execution_count": 54,
   "metadata": {},
   "outputs": [],
   "source": [
    "ordersByUsersA = (\n",
    "    orders[orders['group'] == 'A']\n",
    "    .groupby('visitorId', as_index=False)\n",
    "    .agg({'transactionId': pd.Series.nunique})\n",
    ")\n",
    "ordersByUsersA.columns = ['visitorId', 'orders']"
   ]
  },
  {
   "cell_type": "code",
   "execution_count": 55,
   "metadata": {},
   "outputs": [
    {
     "data": {
      "text/html": [
       "<div>\n",
       "<style scoped>\n",
       "    .dataframe tbody tr th:only-of-type {\n",
       "        vertical-align: middle;\n",
       "    }\n",
       "\n",
       "    .dataframe tbody tr th {\n",
       "        vertical-align: top;\n",
       "    }\n",
       "\n",
       "    .dataframe thead th {\n",
       "        text-align: right;\n",
       "    }\n",
       "</style>\n",
       "<table border=\"1\" class=\"dataframe\">\n",
       "  <thead>\n",
       "    <tr style=\"text-align: right;\">\n",
       "      <th></th>\n",
       "      <th>visitorId</th>\n",
       "      <th>orders</th>\n",
       "    </tr>\n",
       "  </thead>\n",
       "  <tbody>\n",
       "    <tr>\n",
       "      <td>0</td>\n",
       "      <td>8300375</td>\n",
       "      <td>1</td>\n",
       "    </tr>\n",
       "    <tr>\n",
       "      <td>1</td>\n",
       "      <td>11685486</td>\n",
       "      <td>1</td>\n",
       "    </tr>\n",
       "    <tr>\n",
       "      <td>2</td>\n",
       "      <td>54447517</td>\n",
       "      <td>1</td>\n",
       "    </tr>\n",
       "    <tr>\n",
       "      <td>3</td>\n",
       "      <td>66685450</td>\n",
       "      <td>1</td>\n",
       "    </tr>\n",
       "    <tr>\n",
       "      <td>4</td>\n",
       "      <td>78758296</td>\n",
       "      <td>1</td>\n",
       "    </tr>\n",
       "  </tbody>\n",
       "</table>\n",
       "</div>"
      ],
      "text/plain": [
       "   visitorId  orders\n",
       "0    8300375       1\n",
       "1   11685486       1\n",
       "2   54447517       1\n",
       "3   66685450       1\n",
       "4   78758296       1"
      ]
     },
     "execution_count": 55,
     "metadata": {},
     "output_type": "execute_result"
    }
   ],
   "source": [
    "ordersByUsersA.head()"
   ]
  },
  {
   "cell_type": "code",
   "execution_count": 56,
   "metadata": {},
   "outputs": [],
   "source": [
    "ordersByUsersB = (\n",
    "    orders[orders['group'] == 'B']\n",
    "    .groupby('visitorId', as_index=False)\n",
    "    .agg({'transactionId': pd.Series.nunique})\n",
    ")\n",
    "ordersByUsersB.columns = ['visitorId', 'orders'] "
   ]
  },
  {
   "cell_type": "code",
   "execution_count": 57,
   "metadata": {},
   "outputs": [
    {
     "data": {
      "text/html": [
       "<div>\n",
       "<style scoped>\n",
       "    .dataframe tbody tr th:only-of-type {\n",
       "        vertical-align: middle;\n",
       "    }\n",
       "\n",
       "    .dataframe tbody tr th {\n",
       "        vertical-align: top;\n",
       "    }\n",
       "\n",
       "    .dataframe thead th {\n",
       "        text-align: right;\n",
       "    }\n",
       "</style>\n",
       "<table border=\"1\" class=\"dataframe\">\n",
       "  <thead>\n",
       "    <tr style=\"text-align: right;\">\n",
       "      <th></th>\n",
       "      <th>visitorId</th>\n",
       "      <th>orders</th>\n",
       "    </tr>\n",
       "  </thead>\n",
       "  <tbody>\n",
       "    <tr>\n",
       "      <td>0</td>\n",
       "      <td>5114589</td>\n",
       "      <td>1</td>\n",
       "    </tr>\n",
       "    <tr>\n",
       "      <td>1</td>\n",
       "      <td>6958315</td>\n",
       "      <td>1</td>\n",
       "    </tr>\n",
       "    <tr>\n",
       "      <td>2</td>\n",
       "      <td>8300375</td>\n",
       "      <td>1</td>\n",
       "    </tr>\n",
       "    <tr>\n",
       "      <td>3</td>\n",
       "      <td>39475350</td>\n",
       "      <td>1</td>\n",
       "    </tr>\n",
       "    <tr>\n",
       "      <td>4</td>\n",
       "      <td>47206413</td>\n",
       "      <td>1</td>\n",
       "    </tr>\n",
       "  </tbody>\n",
       "</table>\n",
       "</div>"
      ],
      "text/plain": [
       "   visitorId  orders\n",
       "0    5114589       1\n",
       "1    6958315       1\n",
       "2    8300375       1\n",
       "3   39475350       1\n",
       "4   47206413       1"
      ]
     },
     "execution_count": 57,
     "metadata": {},
     "output_type": "execute_result"
    }
   ],
   "source": [
    "ordersByUsersB.head()"
   ]
  },
  {
   "cell_type": "markdown",
   "metadata": {},
   "source": [
    "Объявим переменные sampleAи sampleB, в которых пользователям из разных групп будет соответствовать количество заказов. Тем, кто ничего не заказал, будут соответствовать нули. "
   ]
  },
  {
   "cell_type": "markdown",
   "metadata": {},
   "source": [
    "Переменная sampleA должна состоять из двух частей:\n",
    "1. Список с количеством заказов для каждого из пользователей: ordersByUsersA['orders'].\n",
    "2. Нули для пользователей, которые ничего не заказывали. Их количество равно разнице между суммой посетителей и количеством записей о заказах: orders_per_date['visitorsPerDateA'].sum() - len(ordersByUsersA['orders']). "
   ]
  },
  {
   "cell_type": "code",
   "execution_count": 58,
   "metadata": {
    "scrolled": true
   },
   "outputs": [],
   "source": [
    "sampleA = pd.concat([ordersByUsersA['orders'],pd.Series(0, index=np.arange(orders_per_date['visitorsPerDateA'].sum() - len(ordersByUsersA['orders'])), name='orders')],axis=0)"
   ]
  },
  {
   "cell_type": "code",
   "execution_count": 59,
   "metadata": {},
   "outputs": [
    {
     "data": {
      "text/plain": [
       "0    1\n",
       "1    1\n",
       "2    1\n",
       "3    1\n",
       "4    1\n",
       "Name: orders, dtype: int64"
      ]
     },
     "execution_count": 59,
     "metadata": {},
     "output_type": "execute_result"
    }
   ],
   "source": [
    "sampleA.head()"
   ]
  },
  {
   "cell_type": "markdown",
   "metadata": {},
   "source": [
    "Аналогично sampleA сформируем переменную sampleB."
   ]
  },
  {
   "cell_type": "code",
   "execution_count": 60,
   "metadata": {},
   "outputs": [],
   "source": [
    "sampleB = pd.concat([ordersByUsersB['orders'],pd.Series(0, index=np.arange(orders_per_date['visitorsPerDateB'].sum() - len(ordersByUsersB['orders'])), name='orders')],axis=0) "
   ]
  },
  {
   "cell_type": "code",
   "execution_count": 61,
   "metadata": {},
   "outputs": [
    {
     "data": {
      "text/plain": [
       "0    1\n",
       "1    1\n",
       "2    1\n",
       "3    1\n",
       "4    1\n",
       "Name: orders, dtype: int64"
      ]
     },
     "execution_count": 61,
     "metadata": {},
     "output_type": "execute_result"
    }
   ],
   "source": [
    "sampleB.head()"
   ]
  },
  {
   "cell_type": "markdown",
   "metadata": {},
   "source": [
    "H0: Конверсия в группе A равна конверсии в группе B.  \n",
    "H1: Конверсия в группе A не равна конверсии в группе B"
   ]
  },
  {
   "cell_type": "code",
   "execution_count": 62,
   "metadata": {},
   "outputs": [
    {
     "name": "stdout",
     "output_type": "stream",
     "text": [
      "p-значение: 0.017\n",
      "Отвергаем нулевую гипотезу: разница статистически значима\n"
     ]
    }
   ],
   "source": [
    "alpha=0.05\n",
    "results_conv = st.mannwhitneyu(sampleA, sampleB,True,'two-sided')\n",
    "print(\"p-значение: {0:.3f}\".format(results_conv.pvalue))\n",
    "if results_conv.pvalue < alpha:\n",
    "    print('Отвергаем нулевую гипотезу: разница статистически значима')\n",
    "else:\n",
    "    print(\n",
    "        'Не получилось отвергнуть нулевую гипотезу, вывод о различии сделать нельзя'\n",
    "    )"
   ]
  },
  {
   "cell_type": "markdown",
   "metadata": {},
   "source": [
    "Анализ \"сырых\" данных показывает, что в конверсии групп А и В есть статистически значимые различия."
   ]
  },
  {
   "cell_type": "code",
   "execution_count": 63,
   "metadata": {},
   "outputs": [
    {
     "name": "stdout",
     "output_type": "stream",
     "text": [
      "0.138\n"
     ]
    }
   ],
   "source": [
    "print(\"{0:.3f}\".format(sampleB.mean() / sampleA.mean() - 1))"
   ]
  },
  {
   "cell_type": "markdown",
   "metadata": {},
   "source": [
    "Относительный выигрыш в конверсии группы В - 13,8%."
   ]
  },
  {
   "cell_type": "markdown",
   "metadata": {},
   "source": [
    "#### Средний чек по \"сырым\" данным"
   ]
  },
  {
   "cell_type": "markdown",
   "metadata": {},
   "source": [
    "Посчитаем статистическую значимость различий в среднем чеке заказа между группами по «сырым» данным."
   ]
  },
  {
   "cell_type": "markdown",
   "metadata": {},
   "source": [
    "H0: Средний чек A равен среднему чеку группы B.  \n",
    "H1: Средний чек A не равен среднему чеку группы B."
   ]
  },
  {
   "cell_type": "code",
   "execution_count": 64,
   "metadata": {},
   "outputs": [
    {
     "name": "stdout",
     "output_type": "stream",
     "text": [
      "p-значение: 0.729\n",
      "Не получилось отвергнуть нулевую гипотезу, вывод о различии сделать нельзя\n"
     ]
    }
   ],
   "source": [
    "alpha=0.05\n",
    "results_rev = st.mannwhitneyu(orders[orders['group']=='A']['revenue'], orders[orders['group']=='B']['revenue'], True, 'two-sided')\n",
    "print(\"p-значение: {0:.3f}\".format(results_rev.pvalue))\n",
    "if results_rev.pvalue < alpha:\n",
    "    print('Отвергаем нулевую гипотезу: разница статистически значима')\n",
    "else:\n",
    "    print(\n",
    "        'Не получилось отвергнуть нулевую гипотезу, вывод о различии сделать нельзя'\n",
    "    )"
   ]
  },
  {
   "cell_type": "markdown",
   "metadata": {},
   "source": [
    "P-value значительно больше 0.05. Значит, причин отвергать нулевую гипотезу и считать, что в среднем чеке есть различия, нет."
   ]
  },
  {
   "cell_type": "code",
   "execution_count": 65,
   "metadata": {},
   "outputs": [
    {
     "data": {
      "text/plain": [
       "9230.875"
      ]
     },
     "execution_count": 65,
     "metadata": {},
     "output_type": "execute_result"
    }
   ],
   "source": [
    "orders[orders['group']=='B']['revenue'].mean()"
   ]
  },
  {
   "cell_type": "code",
   "execution_count": 66,
   "metadata": {},
   "outputs": [
    {
     "data": {
      "text/plain": [
       "7333.578096947936"
      ]
     },
     "execution_count": 66,
     "metadata": {},
     "output_type": "execute_result"
    }
   ],
   "source": [
    "orders[orders['group']=='A']['revenue'].mean()"
   ]
  },
  {
   "cell_type": "code",
   "execution_count": 67,
   "metadata": {},
   "outputs": [
    {
     "name": "stdout",
     "output_type": "stream",
     "text": [
      "0.259\n"
     ]
    }
   ],
   "source": [
    "print('{0:.3f}'.format(orders[orders['group']=='B']['revenue'].mean()/orders[orders['group']=='A']['revenue'].mean()-1)) "
   ]
  },
  {
   "cell_type": "markdown",
   "metadata": {},
   "source": [
    "Средний чек группы B по \"сырым\" данным значительно выше среднего чека группы A - на 25,9%."
   ]
  },
  {
   "cell_type": "markdown",
   "metadata": {},
   "source": [
    "#### Конверсия по \"очищенным\" данным"
   ]
  },
  {
   "cell_type": "markdown",
   "metadata": {},
   "source": [
    "Посчитаем статистическую значимость различий в конверсии между группами по «очищенным» данным. "
   ]
  },
  {
   "cell_type": "markdown",
   "metadata": {},
   "source": [
    "Найденные в рамках анализа выбросов и всплесков 95-й и 99-й перцентили средних чеков равны 28000 и   58233.2. А 95-й и 99-й перцентили количества заказов на одного пользователя равны 2 и 4 заказа на пользователя.  \n",
    "\n",
    "Примем за аномальных пользователей тех, кто совершил от 5 заказов или совершил заказ дороже 30 000 рублей. Так мы уберём 1% пользователей с наибольшим числом заказов и от 1% до 5% пользователей с дорогими заказами.   \n",
    "\n",
    "Сделаем срезы пользователей с числом заказов больше 4 — usersWithManyOrders и пользователей, совершивших заказы дороже 40 000 — usersWithExpensiveOrders. Объединим их в таблице abnormalUsers."
   ]
  },
  {
   "cell_type": "code",
   "execution_count": 68,
   "metadata": {},
   "outputs": [],
   "source": [
    "usersWithManyOrders = pd.concat(\n",
    "    [\n",
    "        ordersByUsersA[ordersByUsersA['orders'] > 4]['visitorId'],\n",
    "        ordersByUsersB[ordersByUsersB['orders'] > 4]['visitorId'],\n",
    "    ],\n",
    "    axis=0,\n",
    ")"
   ]
  },
  {
   "cell_type": "code",
   "execution_count": 69,
   "metadata": {},
   "outputs": [
    {
     "data": {
      "text/plain": [
       "227    2038680547\n",
       "278    2458001652\n",
       "499    4256040402\n",
       "326    2378935119\n",
       "340    2458001652\n",
       "Name: visitorId, dtype: int64"
      ]
     },
     "execution_count": 69,
     "metadata": {},
     "output_type": "execute_result"
    }
   ],
   "source": [
    "usersWithManyOrders"
   ]
  },
  {
   "cell_type": "code",
   "execution_count": 70,
   "metadata": {},
   "outputs": [],
   "source": [
    "usersWithExpensiveOrders = orders[orders['revenue'] > 40000]['visitorId']"
   ]
  },
  {
   "cell_type": "code",
   "execution_count": 71,
   "metadata": {},
   "outputs": [
    {
     "data": {
      "text/plain": [
       "60     4256040402\n",
       "78     3288820196\n",
       "131    2254586615\n",
       "287    2254456485\n",
       "339     834731816\n",
       "Name: visitorId, dtype: int64"
      ]
     },
     "execution_count": 71,
     "metadata": {},
     "output_type": "execute_result"
    }
   ],
   "source": [
    "usersWithExpensiveOrders.head()"
   ]
  },
  {
   "cell_type": "code",
   "execution_count": 72,
   "metadata": {},
   "outputs": [],
   "source": [
    "abnormalUsers = (\n",
    "    pd.concat([usersWithManyOrders, usersWithExpensiveOrders], axis=0)\n",
    "    .drop_duplicates()\n",
    "    .sort_values()\n",
    ")"
   ]
  },
  {
   "cell_type": "code",
   "execution_count": 73,
   "metadata": {
    "scrolled": true
   },
   "outputs": [
    {
     "data": {
      "text/plain": [
       "1099    148427295\n",
       "684     358944393\n",
       "648     382846391\n",
       "1137    759473111\n",
       "339     834731816\n",
       "Name: visitorId, dtype: int64"
      ]
     },
     "execution_count": 73,
     "metadata": {},
     "output_type": "execute_result"
    }
   ],
   "source": [
    "abnormalUsers.head()"
   ]
  },
  {
   "cell_type": "code",
   "execution_count": 74,
   "metadata": {},
   "outputs": [
    {
     "data": {
      "text/plain": [
       "(29,)"
      ]
     },
     "execution_count": 74,
     "metadata": {},
     "output_type": "execute_result"
    }
   ],
   "source": [
    "abnormalUsers.shape"
   ]
  },
  {
   "cell_type": "markdown",
   "metadata": {},
   "source": [
    "29 аномальных пользователей."
   ]
  },
  {
   "cell_type": "markdown",
   "metadata": {},
   "source": [
    "Для расчета статистической значимости конверсии подготовим выборки количества заказов по пользователям по группам теста."
   ]
  },
  {
   "cell_type": "code",
   "execution_count": 75,
   "metadata": {},
   "outputs": [],
   "source": [
    "sampleAFiltered = pd.concat(\n",
    "    [\n",
    "        ordersByUsersA[\n",
    "            np.logical_not(ordersByUsersA['visitorId'].isin(abnormalUsers))\n",
    "        ]['orders'],\n",
    "        pd.Series(\n",
    "            0,\n",
    "            index=np.arange(\n",
    "                orders_per_date['visitorsPerDateA'].sum() - len(ordersByUsersA['orders'])\n",
    "            ),\n",
    "            name='orders',\n",
    "        ),\n",
    "    ],\n",
    "    axis=0,\n",
    ")"
   ]
  },
  {
   "cell_type": "code",
   "execution_count": 76,
   "metadata": {},
   "outputs": [],
   "source": [
    "sampleBFiltered = pd.concat(\n",
    "    [\n",
    "        ordersByUsersB[\n",
    "            np.logical_not(ordersByUsersB['visitorId'].isin(abnormalUsers))\n",
    "        ]['orders'],\n",
    "        pd.Series(\n",
    "            0,\n",
    "            index=np.arange(\n",
    "                orders_per_date['visitorsPerDateB'].sum() - len(ordersByUsersB['orders'])\n",
    "            ),\n",
    "            name='orders',\n",
    "        ),\n",
    "    ],\n",
    "    axis=0,\n",
    ") "
   ]
  },
  {
   "cell_type": "markdown",
   "metadata": {},
   "source": [
    "H0: Конверсия в группе A равна конверсии в группе B.  \n",
    "H1: Конверсия в группе A не равна конверсии в группе B"
   ]
  },
  {
   "cell_type": "code",
   "execution_count": 77,
   "metadata": {},
   "outputs": [
    {
     "name": "stdout",
     "output_type": "stream",
     "text": [
      "p-значение: 0.010\n",
      "Отвергаем нулевую гипотезу: разница статистически значима\n"
     ]
    }
   ],
   "source": [
    "alpha=0.05\n",
    "results_conv_filt = st.mannwhitneyu(sampleAFiltered, sampleBFiltered,True,'two-sided')\n",
    "print(\"p-значение: {0:.3f}\".format(results_conv_filt.pvalue))\n",
    "if results_conv_filt.pvalue < alpha:\n",
    "    print('Отвергаем нулевую гипотезу: разница статистически значима')\n",
    "else:\n",
    "    print(\n",
    "        'Не получилось отвергнуть нулевую гипотезу, вывод о различии сделать нельзя'\n",
    "    )"
   ]
  },
  {
   "cell_type": "markdown",
   "metadata": {},
   "source": [
    "Результаты по конверсии практически не изменились. В конверсии групп А и В есть статистически значимые различия."
   ]
  },
  {
   "cell_type": "code",
   "execution_count": 78,
   "metadata": {},
   "outputs": [
    {
     "name": "stdout",
     "output_type": "stream",
     "text": [
      "0.166\n"
     ]
    }
   ],
   "source": [
    "print('{0:.3f}'.format(sampleBFiltered.mean()/sampleAFiltered.mean()-1)) "
   ]
  },
  {
   "cell_type": "markdown",
   "metadata": {},
   "source": [
    "Относительный выигрыш в конверсии группы В - 16,6%."
   ]
  },
  {
   "cell_type": "markdown",
   "metadata": {},
   "source": [
    "#### Средний чек по \"очищенным\" данным"
   ]
  },
  {
   "cell_type": "markdown",
   "metadata": {},
   "source": [
    "Посчитаем статистическую значимость различий в среднем чеке заказа между группами по «очищенным» данным. "
   ]
  },
  {
   "cell_type": "markdown",
   "metadata": {},
   "source": [
    "H0: Средний чек A равен среднему чеку группы B.  \n",
    "H1: Средний чек A не равен среднему чеку группы B."
   ]
  },
  {
   "cell_type": "code",
   "execution_count": 79,
   "metadata": {},
   "outputs": [
    {
     "name": "stdout",
     "output_type": "stream",
     "text": [
      "p-значение: 0.612\n",
      "Не получилось отвергнуть нулевую гипотезу, вывод о различии сделать нельзя\n"
     ]
    }
   ],
   "source": [
    "alpha=0.05\n",
    "results_rev_filt = st.mannwhitneyu(\n",
    "            orders[\n",
    "                np.logical_and(\n",
    "                    orders['group'] == 'A',\n",
    "                    np.logical_not(orders['visitorId'].isin(abnormalUsers)),\n",
    "                )\n",
    "            ]['revenue'],\n",
    "            orders[\n",
    "                np.logical_and(\n",
    "                    orders['group'] == 'B',\n",
    "                    np.logical_not(orders['visitorId'].isin(abnormalUsers)),\n",
    "                )\n",
    "            ]['revenue'],\n",
    "        True, 'two-sided')\n",
    "print(\"p-значение: {0:.3f}\".format(results_rev_filt.pvalue))\n",
    "if results_rev_filt.pvalue < alpha:\n",
    "    print('Отвергаем нулевую гипотезу: разница статистически значима')\n",
    "else:\n",
    "    print(\n",
    "        'Не получилось отвергнуть нулевую гипотезу, вывод о различии сделать нельзя'\n",
    "    )"
   ]
  },
  {
   "cell_type": "code",
   "execution_count": 80,
   "metadata": {},
   "outputs": [
    {
     "name": "stdout",
     "output_type": "stream",
     "text": [
      "0.069\n"
     ]
    }
   ],
   "source": [
    "print(\n",
    "    \"{0:.3f}\".format(\n",
    "        orders[\n",
    "            np.logical_and(\n",
    "                orders['group'] == 'B',\n",
    "                np.logical_not(orders['visitorId'].isin(abnormalUsers)),\n",
    "            )\n",
    "        ]['revenue'].mean()\n",
    "        / orders[\n",
    "            np.logical_and(\n",
    "                orders['group'] == 'A',\n",
    "                np.logical_not(orders['visitorId'].isin(abnormalUsers)),\n",
    "            )\n",
    "        ]['revenue'].mean()\n",
    "        - 1\n",
    "    )\n",
    ")"
   ]
  },
  {
   "cell_type": "markdown",
   "metadata": {},
   "source": [
    "P-value уменьшился, разница между сегментами сократилась с 25% до 7%. Общие выводы по результатам теста не изменились."
   ]
  },
  {
   "cell_type": "markdown",
   "metadata": {},
   "source": [
    "### Вывод"
   ]
  },
  {
   "attachments": {
    "image-2.png": {
     "image/png": "[encoded data removed]"
    },
    "image.png": {
     "image/png": "[encoded data removed]"
    }
   },
   "cell_type": "markdown",
   "metadata": {},
   "source": [
    "Имеющиеся факты:\n",
    "- Есть статистически значимое различие по конверсии между группами как по «сырым», так и по данным после фильтрации аномалий;\n",
    "- Нет статистически значимого различия по среднему чеку между группами ни по «сырым», ни по данным после фильтрации аномалий;\n",
    "- График различия конверсии между группами сообщает, что результаты группы B лучше группы A, результат зафиксировался:\n",
    "![image.png](attachment:image.png)\n",
    "- График различия среднего чека говорит о том, что результаты группы B лучше группы A:\n",
    "![image-2.png](attachment:image-2.png)\n",
    "Исходя из обнаруженных фактов, тест следует остановить и признать победу группы В."
   ]
  }
 ],
 "metadata": {
  "ExecuteTimeLog": [
   {
    "duration": 1075,
    "start_time": "2021-10-06T21:30:38.415Z"
   },
   {
    "duration": 3,
    "start_time": "2021-10-06T21:30:42.214Z"
   },
   {
    "duration": 26,
    "start_time": "2021-10-06T21:31:43.881Z"
   },
   {
    "duration": 6,
    "start_time": "2021-10-06T21:32:43.552Z"
   },
   {
    "duration": 3,
    "start_time": "2021-10-06T21:33:34.220Z"
   },
   {
    "duration": 4,
    "start_time": "2021-10-06T21:33:51.247Z"
   },
   {
    "duration": 77,
    "start_time": "2021-10-06T21:34:08.763Z"
   },
   {
    "duration": 9,
    "start_time": "2021-10-06T21:34:24.461Z"
   },
   {
    "duration": 294,
    "start_time": "2021-10-06T21:34:33.421Z"
   },
   {
    "duration": 7,
    "start_time": "2021-10-06T21:34:39.879Z"
   },
   {
    "duration": 77,
    "start_time": "2021-10-06T21:35:31.278Z"
   },
   {
    "duration": 4,
    "start_time": "2021-10-06T21:35:55.767Z"
   },
   {
    "duration": 10,
    "start_time": "2021-10-06T21:36:39.277Z"
   },
   {
    "duration": 9,
    "start_time": "2021-10-06T21:36:56.317Z"
   },
   {
    "duration": 1428,
    "start_time": "2021-10-07T11:56:52.858Z"
   },
   {
    "duration": 37,
    "start_time": "2021-10-07T11:56:54.289Z"
   },
   {
    "duration": 9,
    "start_time": "2021-10-07T11:56:54.329Z"
   },
   {
    "duration": 5,
    "start_time": "2021-10-07T11:56:54.340Z"
   },
   {
    "duration": 5,
    "start_time": "2021-10-07T11:56:54.362Z"
   },
   {
    "duration": 8,
    "start_time": "2021-10-07T11:56:54.369Z"
   },
   {
    "duration": 14,
    "start_time": "2021-10-07T11:56:54.379Z"
   },
   {
    "duration": 6,
    "start_time": "2021-10-07T11:56:54.396Z"
   },
   {
    "duration": 18,
    "start_time": "2021-10-07T11:56:54.405Z"
   },
   {
    "duration": 6,
    "start_time": "2021-10-07T11:58:59.289Z"
   },
   {
    "duration": 25,
    "start_time": "2021-10-07T11:59:01.906Z"
   },
   {
    "duration": 9,
    "start_time": "2021-10-07T11:59:12.511Z"
   },
   {
    "duration": 4,
    "start_time": "2021-10-07T11:59:13.276Z"
   },
   {
    "duration": 5,
    "start_time": "2021-10-07T11:59:13.981Z"
   },
   {
    "duration": 6,
    "start_time": "2021-10-07T11:59:15.704Z"
   },
   {
    "duration": 13,
    "start_time": "2021-10-07T11:59:16.391Z"
   },
   {
    "duration": 476,
    "start_time": "2021-10-07T12:00:55.329Z"
   },
   {
    "duration": 23,
    "start_time": "2021-10-07T12:00:55.918Z"
   },
   {
    "duration": 337,
    "start_time": "2021-10-07T12:02:02.032Z"
   },
   {
    "duration": 5,
    "start_time": "2021-10-07T12:02:16.021Z"
   },
   {
    "duration": 24,
    "start_time": "2021-10-07T12:02:18.580Z"
   },
   {
    "duration": 5,
    "start_time": "2021-10-07T12:03:13.739Z"
   },
   {
    "duration": 23,
    "start_time": "2021-10-07T12:03:14.560Z"
   },
   {
    "duration": 7651,
    "start_time": "2021-10-07T12:09:21.681Z"
   },
   {
    "duration": 3902,
    "start_time": "2021-10-07T12:09:25.433Z"
   },
   {
    "duration": 32,
    "start_time": "2021-10-07T12:09:40.743Z"
   },
   {
    "duration": 8,
    "start_time": "2021-10-07T12:09:41.139Z"
   },
   {
    "duration": 3,
    "start_time": "2021-10-07T12:09:41.639Z"
   },
   {
    "duration": 6,
    "start_time": "2021-10-07T12:09:42.129Z"
   },
   {
    "duration": 7,
    "start_time": "2021-10-07T12:09:43.913Z"
   },
   {
    "duration": 24,
    "start_time": "2021-10-07T12:09:45.458Z"
   },
   {
    "duration": 345,
    "start_time": "2021-10-07T12:16:39.730Z"
   },
   {
    "duration": 514,
    "start_time": "2021-10-07T12:16:58.987Z"
   },
   {
    "duration": 449,
    "start_time": "2021-10-07T12:17:25.755Z"
   },
   {
    "duration": 482,
    "start_time": "2021-10-07T12:17:31.319Z"
   },
   {
    "duration": 286,
    "start_time": "2021-10-08T10:39:56.413Z"
   },
   {
    "duration": 1362,
    "start_time": "2021-10-08T10:40:02.240Z"
   },
   {
    "duration": 32,
    "start_time": "2021-10-08T10:40:03.605Z"
   },
   {
    "duration": 11,
    "start_time": "2021-10-08T10:40:03.640Z"
   },
   {
    "duration": 19,
    "start_time": "2021-10-08T10:40:03.653Z"
   },
   {
    "duration": 21,
    "start_time": "2021-10-08T10:40:03.675Z"
   },
   {
    "duration": 23,
    "start_time": "2021-10-08T10:40:03.698Z"
   },
   {
    "duration": 25,
    "start_time": "2021-10-08T10:40:03.723Z"
   },
   {
    "duration": 475,
    "start_time": "2021-10-08T10:40:03.750Z"
   },
   {
    "duration": 7,
    "start_time": "2021-10-08T10:40:04.228Z"
   },
   {
    "duration": 29,
    "start_time": "2021-10-08T10:40:04.237Z"
   },
   {
    "duration": 315,
    "start_time": "2021-10-08T10:40:04.268Z"
   },
   {
    "duration": 431,
    "start_time": "2021-10-08T10:40:15.835Z"
   },
   {
    "duration": 402,
    "start_time": "2021-10-08T21:21:19.721Z"
   },
   {
    "duration": 1380,
    "start_time": "2021-10-08T21:21:26.545Z"
   },
   {
    "duration": 32,
    "start_time": "2021-10-08T21:21:27.929Z"
   },
   {
    "duration": 19,
    "start_time": "2021-10-08T21:21:27.965Z"
   },
   {
    "duration": 10,
    "start_time": "2021-10-08T21:21:27.988Z"
   },
   {
    "duration": 13,
    "start_time": "2021-10-08T21:21:28.000Z"
   },
   {
    "duration": 19,
    "start_time": "2021-10-08T21:21:28.016Z"
   },
   {
    "duration": 27,
    "start_time": "2021-10-08T21:21:28.037Z"
   },
   {
    "duration": 484,
    "start_time": "2021-10-08T21:21:28.068Z"
   },
   {
    "duration": 6,
    "start_time": "2021-10-08T21:21:28.558Z"
   },
   {
    "duration": 18,
    "start_time": "2021-10-08T21:21:28.566Z"
   },
   {
    "duration": 430,
    "start_time": "2021-10-08T21:21:28.587Z"
   },
   {
    "duration": 39,
    "start_time": "2021-10-08T21:21:29.020Z"
   },
   {
    "duration": 39,
    "start_time": "2021-10-08T21:21:30.785Z"
   },
   {
    "duration": 126,
    "start_time": "2021-10-08T21:21:31.635Z"
   },
   {
    "duration": 18,
    "start_time": "2021-10-08T21:21:44.883Z"
   },
   {
    "duration": 12,
    "start_time": "2021-10-08T21:22:01.184Z"
   },
   {
    "duration": 10,
    "start_time": "2021-10-08T21:22:12.028Z"
   },
   {
    "duration": 5,
    "start_time": "2021-10-08T21:22:57.059Z"
   },
   {
    "duration": 9,
    "start_time": "2021-10-08T21:23:13.935Z"
   },
   {
    "duration": 12,
    "start_time": "2021-10-08T21:23:35.018Z"
   },
   {
    "duration": 20,
    "start_time": "2021-10-08T21:24:13.329Z"
   },
   {
    "duration": 10,
    "start_time": "2021-10-08T21:24:17.358Z"
   },
   {
    "duration": 18,
    "start_time": "2021-10-08T21:24:29.531Z"
   },
   {
    "duration": 2028,
    "start_time": "2021-10-08T21:24:57.001Z"
   },
   {
    "duration": 6,
    "start_time": "2021-10-08T21:26:02.218Z"
   },
   {
    "duration": 9,
    "start_time": "2021-10-08T21:26:06.129Z"
   },
   {
    "duration": 21,
    "start_time": "2021-10-08T21:30:27.538Z"
   },
   {
    "duration": 6,
    "start_time": "2021-10-08T21:31:33.238Z"
   },
   {
    "duration": 352,
    "start_time": "2021-10-08T21:32:01.945Z"
   },
   {
    "duration": 4792,
    "start_time": "2021-10-08T21:32:47.951Z"
   },
   {
    "duration": 4096,
    "start_time": "2021-10-08T21:32:54.586Z"
   },
   {
    "duration": 20,
    "start_time": "2021-10-08T21:33:05.111Z"
   },
   {
    "duration": 336,
    "start_time": "2021-10-08T21:33:52.191Z"
   },
   {
    "duration": 107,
    "start_time": "2021-10-08T21:34:29.824Z"
   },
   {
    "duration": 1010,
    "start_time": "2021-10-08T21:35:14.107Z"
   },
   {
    "duration": 10,
    "start_time": "2021-10-08T21:35:29.585Z"
   },
   {
    "duration": 11,
    "start_time": "2021-10-08T21:37:05.482Z"
   },
   {
    "duration": 11,
    "start_time": "2021-10-08T21:37:14.632Z"
   },
   {
    "duration": 19,
    "start_time": "2021-10-08T21:37:19.598Z"
   },
   {
    "duration": 13,
    "start_time": "2021-10-08T21:37:56.852Z"
   },
   {
    "duration": 5,
    "start_time": "2021-10-08T21:39:28.699Z"
   },
   {
    "duration": 451,
    "start_time": "2021-10-08T21:40:54.905Z"
   },
   {
    "duration": 5,
    "start_time": "2021-10-08T21:40:58.394Z"
   },
   {
    "duration": 6,
    "start_time": "2021-10-08T21:41:08.583Z"
   },
   {
    "duration": 476,
    "start_time": "2021-10-08T21:41:40.322Z"
   },
   {
    "duration": 5,
    "start_time": "2021-10-08T21:41:52.955Z"
   },
   {
    "duration": 6,
    "start_time": "2021-10-08T21:42:17.624Z"
   },
   {
    "duration": 5,
    "start_time": "2021-10-08T21:42:29.424Z"
   },
   {
    "duration": 8,
    "start_time": "2021-10-08T21:47:15.770Z"
   },
   {
    "duration": 15,
    "start_time": "2021-10-08T21:47:20.178Z"
   },
   {
    "duration": 12,
    "start_time": "2021-10-08T21:47:40.757Z"
   },
   {
    "duration": 8328,
    "start_time": "2021-10-08T21:49:34.678Z"
   },
   {
    "duration": 9228,
    "start_time": "2021-10-08T21:50:33.850Z"
   },
   {
    "duration": 337,
    "start_time": "2021-10-08T21:53:45.381Z"
   },
   {
    "duration": 20,
    "start_time": "2021-10-08T21:53:54.562Z"
   },
   {
    "duration": 13,
    "start_time": "2021-10-08T21:55:09.707Z"
   },
   {
    "duration": 16,
    "start_time": "2021-10-08T21:56:54.166Z"
   },
   {
    "duration": 11,
    "start_time": "2021-10-08T21:57:27.055Z"
   },
   {
    "duration": 420,
    "start_time": "2021-10-08T21:57:39.024Z"
   },
   {
    "duration": 333,
    "start_time": "2021-10-08T21:57:42.750Z"
   },
   {
    "duration": 22,
    "start_time": "2021-10-08T21:57:43.270Z"
   },
   {
    "duration": 13,
    "start_time": "2021-10-08T21:57:52.427Z"
   },
   {
    "duration": 275,
    "start_time": "2021-10-08T21:59:59.687Z"
   },
   {
    "duration": 12,
    "start_time": "2021-10-08T22:00:00.331Z"
   },
   {
    "duration": 10,
    "start_time": "2021-10-08T22:01:39.717Z"
   },
   {
    "duration": 22,
    "start_time": "2021-10-08T22:01:45.704Z"
   },
   {
    "duration": 14,
    "start_time": "2021-10-08T22:01:59.413Z"
   },
   {
    "duration": 7,
    "start_time": "2021-10-08T22:02:43.586Z"
   },
   {
    "duration": 7,
    "start_time": "2021-10-08T22:02:53.085Z"
   },
   {
    "duration": 344,
    "start_time": "2021-10-08T22:03:13.208Z"
   },
   {
    "duration": 315,
    "start_time": "2021-10-08T22:04:03.369Z"
   },
   {
    "duration": 332,
    "start_time": "2021-10-08T22:04:20.070Z"
   },
   {
    "duration": 311,
    "start_time": "2021-10-08T22:04:23.803Z"
   },
   {
    "duration": 485,
    "start_time": "2021-10-08T22:04:46.571Z"
   },
   {
    "duration": 708,
    "start_time": "2021-10-08T22:04:54.655Z"
   },
   {
    "duration": 891,
    "start_time": "2021-10-08T22:05:05.692Z"
   },
   {
    "duration": 632,
    "start_time": "2021-10-08T22:05:13.803Z"
   },
   {
    "duration": 421,
    "start_time": "2021-10-08T22:12:33.099Z"
   },
   {
    "duration": 855,
    "start_time": "2021-10-08T22:12:46.734Z"
   },
   {
    "duration": 615,
    "start_time": "2021-10-08T22:12:52.851Z"
   },
   {
    "duration": 652,
    "start_time": "2021-10-08T22:15:03.940Z"
   },
   {
    "duration": 305,
    "start_time": "2021-10-08T22:16:57.758Z"
   },
   {
    "duration": 625,
    "start_time": "2021-10-08T22:18:14.686Z"
   },
   {
    "duration": 634,
    "start_time": "2021-10-08T22:21:32.903Z"
   },
   {
    "duration": 383,
    "start_time": "2021-10-08T22:25:31.874Z"
   },
   {
    "duration": 685,
    "start_time": "2021-10-08T22:25:49.472Z"
   },
   {
    "duration": 718,
    "start_time": "2021-10-08T22:26:56.514Z"
   },
   {
    "duration": 958,
    "start_time": "2021-10-08T22:27:06.412Z"
   },
   {
    "duration": 851,
    "start_time": "2021-10-08T22:27:32.664Z"
   },
   {
    "duration": 858,
    "start_time": "2021-10-08T22:28:17.250Z"
   },
   {
    "duration": 726,
    "start_time": "2021-10-08T22:28:32.756Z"
   },
   {
    "duration": 775,
    "start_time": "2021-10-08T22:28:43.525Z"
   },
   {
    "duration": 711,
    "start_time": "2021-10-08T22:32:41.212Z"
   },
   {
    "duration": 333,
    "start_time": "2021-10-08T22:37:44.469Z"
   },
   {
    "duration": 349,
    "start_time": "2021-10-08T22:38:30.635Z"
   },
   {
    "duration": 672,
    "start_time": "2021-10-08T22:39:00.739Z"
   },
   {
    "duration": 728,
    "start_time": "2021-10-08T22:39:35.309Z"
   },
   {
    "duration": 24,
    "start_time": "2021-10-08T22:39:57.856Z"
   },
   {
    "duration": 810,
    "start_time": "2021-10-08T22:40:33.002Z"
   },
   {
    "duration": 608,
    "start_time": "2021-10-08T22:40:45.550Z"
   },
   {
    "duration": 642,
    "start_time": "2021-10-08T22:40:53.321Z"
   },
   {
    "duration": 603,
    "start_time": "2021-10-08T22:41:13.975Z"
   },
   {
    "duration": 562,
    "start_time": "2021-10-08T22:41:29.319Z"
   },
   {
    "duration": 578,
    "start_time": "2021-10-08T22:42:21.385Z"
   },
   {
    "duration": 660,
    "start_time": "2021-10-08T22:42:27.240Z"
   },
   {
    "duration": 628,
    "start_time": "2021-10-08T22:42:55.467Z"
   },
   {
    "duration": 741,
    "start_time": "2021-10-08T22:43:04.981Z"
   },
   {
    "duration": 418,
    "start_time": "2021-10-08T22:49:52.475Z"
   },
   {
    "duration": 510,
    "start_time": "2021-10-08T22:50:08.863Z"
   },
   {
    "duration": 406,
    "start_time": "2021-10-08T22:51:13.406Z"
   },
   {
    "duration": 415,
    "start_time": "2021-10-08T22:51:28.407Z"
   },
   {
    "duration": 489,
    "start_time": "2021-10-08T22:51:58.975Z"
   },
   {
    "duration": 655,
    "start_time": "2021-10-08T22:52:17.880Z"
   },
   {
    "duration": 704,
    "start_time": "2021-10-08T22:53:22.469Z"
   },
   {
    "duration": 870,
    "start_time": "2021-10-08T22:53:33.476Z"
   },
   {
    "duration": 128,
    "start_time": "2021-10-08T22:53:50.570Z"
   },
   {
    "duration": 697,
    "start_time": "2021-10-08T22:54:11.877Z"
   },
   {
    "duration": 693,
    "start_time": "2021-10-08T22:54:24.357Z"
   },
   {
    "duration": 186,
    "start_time": "2021-10-08T23:26:40.851Z"
   },
   {
    "duration": 374,
    "start_time": "2021-10-08T23:27:30.141Z"
   },
   {
    "duration": 204,
    "start_time": "2021-10-08T23:27:47.786Z"
   },
   {
    "duration": 186,
    "start_time": "2021-10-08T23:27:49.089Z"
   },
   {
    "duration": 337,
    "start_time": "2021-10-08T23:28:01.616Z"
   },
   {
    "duration": 9,
    "start_time": "2021-10-08T23:28:14.622Z"
   },
   {
    "duration": 326,
    "start_time": "2021-10-08T23:29:10.094Z"
   },
   {
    "duration": 10,
    "start_time": "2021-10-08T23:29:10.749Z"
   },
   {
    "duration": 20,
    "start_time": "2021-10-08T23:29:33.390Z"
   },
   {
    "duration": 10,
    "start_time": "2021-10-08T23:29:52.739Z"
   },
   {
    "duration": 366,
    "start_time": "2021-10-08T23:30:22.373Z"
   },
   {
    "duration": 328,
    "start_time": "2021-10-08T23:30:34.686Z"
   },
   {
    "duration": 665,
    "start_time": "2021-10-08T23:30:48.947Z"
   },
   {
    "duration": 686,
    "start_time": "2021-10-08T23:32:06.524Z"
   },
   {
    "duration": 6,
    "start_time": "2021-10-08T23:33:47.869Z"
   },
   {
    "duration": 18,
    "start_time": "2021-10-08T23:39:34.466Z"
   },
   {
    "duration": 403,
    "start_time": "2021-10-08T23:42:55.123Z"
   },
   {
    "duration": 10,
    "start_time": "2021-10-08T23:43:07.106Z"
   },
   {
    "duration": 494,
    "start_time": "2021-10-08T23:43:09.134Z"
   },
   {
    "duration": 675,
    "start_time": "2021-10-08T23:44:36.885Z"
   },
   {
    "duration": 6,
    "start_time": "2021-10-08T23:47:17.318Z"
   },
   {
    "duration": 338,
    "start_time": "2021-10-08T23:58:35.610Z"
   },
   {
    "duration": 337,
    "start_time": "2021-10-08T23:58:38.643Z"
   },
   {
    "duration": 322,
    "start_time": "2021-10-08T23:58:39.251Z"
   },
   {
    "duration": 200,
    "start_time": "2021-10-08T23:58:52.439Z"
   },
   {
    "duration": 192,
    "start_time": "2021-10-08T23:59:45.993Z"
   },
   {
    "duration": 48,
    "start_time": "2021-10-08T23:59:48.070Z"
   },
   {
    "duration": 9,
    "start_time": "2021-10-08T23:59:53.370Z"
   },
   {
    "duration": 10,
    "start_time": "2021-10-09T00:00:08.480Z"
   },
   {
    "duration": 3,
    "start_time": "2021-10-09T00:00:16.261Z"
   },
   {
    "duration": 11,
    "start_time": "2021-10-09T00:04:29.354Z"
   },
   {
    "duration": 96,
    "start_time": "2021-10-09T00:05:12.186Z"
   },
   {
    "duration": 11,
    "start_time": "2021-10-09T00:05:13.123Z"
   },
   {
    "duration": 439,
    "start_time": "2021-10-09T00:05:24.437Z"
   },
   {
    "duration": 12,
    "start_time": "2021-10-09T00:05:34.209Z"
   },
   {
    "duration": 10,
    "start_time": "2021-10-09T00:05:44.956Z"
   },
   {
    "duration": 94,
    "start_time": "2021-10-09T00:05:49.402Z"
   },
   {
    "duration": 11,
    "start_time": "2021-10-09T00:05:57.240Z"
   },
   {
    "duration": 12,
    "start_time": "2021-10-09T00:06:45.748Z"
   },
   {
    "duration": 224,
    "start_time": "2021-10-09T00:07:52.070Z"
   },
   {
    "duration": 11,
    "start_time": "2021-10-09T00:08:24.509Z"
   },
   {
    "duration": 116,
    "start_time": "2021-10-09T00:08:30.016Z"
   },
   {
    "duration": 11,
    "start_time": "2021-10-09T00:08:38.006Z"
   },
   {
    "duration": 38,
    "start_time": "2021-10-09T00:09:03.815Z"
   },
   {
    "duration": 25,
    "start_time": "2021-10-09T00:09:08.613Z"
   },
   {
    "duration": 38,
    "start_time": "2021-10-09T00:10:24.315Z"
   },
   {
    "duration": 17,
    "start_time": "2021-10-09T00:10:31.679Z"
   },
   {
    "duration": 3,
    "start_time": "2021-10-09T00:10:36.471Z"
   },
   {
    "duration": 252,
    "start_time": "2021-10-09T00:14:24.536Z"
   },
   {
    "duration": 6,
    "start_time": "2021-10-09T00:15:51.648Z"
   },
   {
    "duration": 7,
    "start_time": "2021-10-09T00:16:27.543Z"
   },
   {
    "duration": 194,
    "start_time": "2021-10-09T00:16:41.221Z"
   },
   {
    "duration": 7,
    "start_time": "2021-10-09T00:16:51.623Z"
   },
   {
    "duration": 6,
    "start_time": "2021-10-09T00:17:02.510Z"
   },
   {
    "duration": 345,
    "start_time": "2021-10-09T00:18:42.310Z"
   },
   {
    "duration": 10,
    "start_time": "2021-10-09T00:19:32.432Z"
   },
   {
    "duration": 10,
    "start_time": "2021-10-09T00:26:08.494Z"
   },
   {
    "duration": 6,
    "start_time": "2021-10-09T00:27:03.048Z"
   },
   {
    "duration": 8,
    "start_time": "2021-10-09T00:28:25.708Z"
   },
   {
    "duration": 1392,
    "start_time": "2021-10-09T23:36:46.633Z"
   },
   {
    "duration": 31,
    "start_time": "2021-10-09T23:36:48.028Z"
   },
   {
    "duration": 14,
    "start_time": "2021-10-09T23:36:48.062Z"
   },
   {
    "duration": 6,
    "start_time": "2021-10-09T23:36:48.079Z"
   },
   {
    "duration": 7,
    "start_time": "2021-10-09T23:36:48.087Z"
   },
   {
    "duration": 6,
    "start_time": "2021-10-09T23:36:48.096Z"
   },
   {
    "duration": 13,
    "start_time": "2021-10-09T23:36:48.105Z"
   },
   {
    "duration": 489,
    "start_time": "2021-10-09T23:36:48.120Z"
   },
   {
    "duration": 5,
    "start_time": "2021-10-09T23:36:48.613Z"
   },
   {
    "duration": 35,
    "start_time": "2021-10-09T23:36:48.622Z"
   },
   {
    "duration": 432,
    "start_time": "2021-10-09T23:36:48.659Z"
   },
   {
    "duration": 39,
    "start_time": "2021-10-09T23:36:49.094Z"
   },
   {
    "duration": 12,
    "start_time": "2021-10-09T23:36:49.135Z"
   },
   {
    "duration": 23,
    "start_time": "2021-10-09T23:36:49.149Z"
   },
   {
    "duration": 25,
    "start_time": "2021-10-09T23:36:49.175Z"
   },
   {
    "duration": 22,
    "start_time": "2021-10-09T23:36:49.202Z"
   },
   {
    "duration": 18,
    "start_time": "2021-10-09T23:36:49.227Z"
   },
   {
    "duration": 20,
    "start_time": "2021-10-09T23:36:49.247Z"
   },
   {
    "duration": 9,
    "start_time": "2021-10-09T23:36:49.269Z"
   },
   {
    "duration": 17,
    "start_time": "2021-10-09T23:36:49.280Z"
   },
   {
    "duration": 5,
    "start_time": "2021-10-09T23:36:49.299Z"
   },
   {
    "duration": 16,
    "start_time": "2021-10-09T23:36:49.307Z"
   },
   {
    "duration": 15,
    "start_time": "2021-10-09T23:36:49.325Z"
   },
   {
    "duration": 347,
    "start_time": "2021-10-09T23:36:49.342Z"
   },
   {
    "duration": 13,
    "start_time": "2021-10-09T23:36:49.691Z"
   },
   {
    "duration": 281,
    "start_time": "2021-10-09T23:36:49.706Z"
   },
   {
    "duration": 22,
    "start_time": "2021-10-09T23:36:49.993Z"
   },
   {
    "duration": 10,
    "start_time": "2021-10-09T23:36:50.019Z"
   },
   {
    "duration": 29,
    "start_time": "2021-10-09T23:36:50.031Z"
   },
   {
    "duration": 10,
    "start_time": "2021-10-09T23:36:50.063Z"
   },
   {
    "duration": 13,
    "start_time": "2021-10-09T23:36:50.075Z"
   },
   {
    "duration": 761,
    "start_time": "2021-10-09T23:36:50.090Z"
   },
   {
    "duration": 641,
    "start_time": "2021-10-09T23:36:50.853Z"
   },
   {
    "duration": 700,
    "start_time": "2021-10-09T23:36:51.497Z"
   },
   {
    "duration": 669,
    "start_time": "2021-10-09T23:36:52.199Z"
   },
   {
    "duration": 701,
    "start_time": "2021-10-09T23:36:52.870Z"
   },
   {
    "duration": 207,
    "start_time": "2021-10-09T23:36:53.573Z"
   },
   {
    "duration": 10,
    "start_time": "2021-10-09T23:36:53.783Z"
   },
   {
    "duration": 767,
    "start_time": "2021-10-09T23:36:53.795Z"
   },
   {
    "duration": 5,
    "start_time": "2021-10-09T23:36:54.565Z"
   },
   {
    "duration": 10,
    "start_time": "2021-10-09T23:36:54.572Z"
   },
   {
    "duration": 703,
    "start_time": "2021-10-09T23:36:54.585Z"
   },
   {
    "duration": 9,
    "start_time": "2021-10-09T23:36:55.291Z"
   },
   {
    "duration": 122,
    "start_time": "2021-10-09T23:36:55.303Z"
   },
   {
    "duration": 20,
    "start_time": "2021-10-09T23:36:55.428Z"
   },
   {
    "duration": 104,
    "start_time": "2021-10-09T23:36:55.457Z"
   },
   {
    "duration": 18,
    "start_time": "2021-10-09T23:36:55.563Z"
   },
   {
    "duration": 122,
    "start_time": "2021-10-09T23:36:55.583Z"
   },
   {
    "duration": 10,
    "start_time": "2021-10-09T23:36:55.707Z"
   },
   {
    "duration": 130,
    "start_time": "2021-10-09T23:36:55.720Z"
   },
   {
    "duration": 10,
    "start_time": "2021-10-09T23:36:55.858Z"
   },
   {
    "duration": 35,
    "start_time": "2021-10-09T23:36:55.870Z"
   },
   {
    "duration": 15,
    "start_time": "2021-10-09T23:36:55.907Z"
   },
   {
    "duration": 35,
    "start_time": "2021-10-09T23:36:55.924Z"
   },
   {
    "duration": 453,
    "start_time": "2021-10-09T23:36:55.961Z"
   },
   {
    "duration": 2072,
    "start_time": "2021-10-09T23:36:54.344Z"
   },
   {
    "duration": 2069,
    "start_time": "2021-10-09T23:36:54.348Z"
   },
   {
    "duration": 2065,
    "start_time": "2021-10-09T23:36:54.354Z"
   },
   {
    "duration": 2061,
    "start_time": "2021-10-09T23:36:54.359Z"
   },
   {
    "duration": 2057,
    "start_time": "2021-10-09T23:36:54.364Z"
   },
   {
    "duration": 3,
    "start_time": "2021-10-09T23:38:39.256Z"
   },
   {
    "duration": 381,
    "start_time": "2021-10-09T23:38:41.398Z"
   },
   {
    "duration": 315,
    "start_time": "2021-10-09T23:38:56.914Z"
   },
   {
    "duration": 117,
    "start_time": "2021-10-09T23:39:39.658Z"
   },
   {
    "duration": 118,
    "start_time": "2021-10-09T23:39:41.294Z"
   },
   {
    "duration": 9,
    "start_time": "2021-10-09T23:40:01.064Z"
   },
   {
    "duration": 9,
    "start_time": "2021-10-09T23:40:05.381Z"
   },
   {
    "duration": 9220,
    "start_time": "2021-10-09T23:40:08.831Z"
   },
   {
    "duration": 2038,
    "start_time": "2021-10-09T23:40:16.015Z"
   },
   {
    "duration": 6,
    "start_time": "2021-10-09T23:41:45.205Z"
   },
   {
    "duration": 6,
    "start_time": "2021-10-09T23:41:46.570Z"
   },
   {
    "duration": 8232,
    "start_time": "2021-10-09T23:41:54.987Z"
   },
   {
    "duration": 5,
    "start_time": "2021-10-09T23:42:03.562Z"
   },
   {
    "duration": 6,
    "start_time": "2021-10-09T23:42:06.166Z"
   },
   {
    "duration": 4,
    "start_time": "2021-10-09T23:43:32.172Z"
   },
   {
    "duration": 14,
    "start_time": "2021-10-09T23:44:13.784Z"
   },
   {
    "duration": 108,
    "start_time": "2021-10-09T23:44:56.691Z"
   },
   {
    "duration": 12,
    "start_time": "2021-10-09T23:45:11.671Z"
   },
   {
    "duration": 5,
    "start_time": "2021-10-09T23:45:21.426Z"
   },
   {
    "duration": 10,
    "start_time": "2021-10-09T23:45:39.464Z"
   },
   {
    "duration": 10,
    "start_time": "2021-10-09T23:47:57.373Z"
   },
   {
    "duration": 8,
    "start_time": "2021-10-09T23:48:52.594Z"
   },
   {
    "duration": 12,
    "start_time": "2021-10-09T23:49:03.673Z"
   },
   {
    "duration": 5,
    "start_time": "2021-10-09T23:50:14.333Z"
   },
   {
    "duration": 9,
    "start_time": "2021-10-09T23:55:09.787Z"
   },
   {
    "duration": 6,
    "start_time": "2021-10-09T23:56:19.994Z"
   },
   {
    "duration": 10,
    "start_time": "2021-10-09T23:58:30.184Z"
   },
   {
    "duration": 5,
    "start_time": "2021-10-09T23:58:33.807Z"
   },
   {
    "duration": 354,
    "start_time": "2021-10-09T23:59:04.999Z"
   },
   {
    "duration": 16,
    "start_time": "2021-10-09T23:59:13.410Z"
   },
   {
    "duration": 12,
    "start_time": "2021-10-10T00:02:36.525Z"
   },
   {
    "duration": 10,
    "start_time": "2021-10-10T00:03:23.822Z"
   },
   {
    "duration": 141,
    "start_time": "2021-10-10T00:03:43.854Z"
   },
   {
    "duration": 13,
    "start_time": "2021-10-10T00:04:03.415Z"
   },
   {
    "duration": 9,
    "start_time": "2021-10-10T00:08:53.735Z"
   },
   {
    "duration": 9,
    "start_time": "2021-10-10T00:09:15.475Z"
   },
   {
    "duration": 13,
    "start_time": "2021-10-10T00:09:20.903Z"
   },
   {
    "duration": 8912,
    "start_time": "2021-10-10T00:15:00.718Z"
   },
   {
    "duration": 45,
    "start_time": "2021-10-10T00:15:22.602Z"
   },
   {
    "duration": 8,
    "start_time": "2021-10-10T00:15:36.180Z"
   },
   {
    "duration": 6,
    "start_time": "2021-10-10T00:16:14.676Z"
   },
   {
    "duration": 6,
    "start_time": "2021-10-10T00:16:21.403Z"
   },
   {
    "duration": 6,
    "start_time": "2021-10-10T00:17:10.080Z"
   },
   {
    "duration": 6,
    "start_time": "2021-10-10T00:17:22.636Z"
   },
   {
    "duration": 8,
    "start_time": "2021-10-10T00:17:41.170Z"
   },
   {
    "duration": 8,
    "start_time": "2021-10-10T00:17:45.897Z"
   },
   {
    "duration": 9,
    "start_time": "2021-10-10T00:17:56.130Z"
   },
   {
    "duration": 6,
    "start_time": "2021-10-10T00:18:12.745Z"
   },
   {
    "duration": 6,
    "start_time": "2021-10-10T00:19:26.045Z"
   },
   {
    "duration": 7,
    "start_time": "2021-10-10T00:19:26.387Z"
   },
   {
    "duration": 6,
    "start_time": "2021-10-10T00:19:26.715Z"
   },
   {
    "duration": 7,
    "start_time": "2021-10-10T00:19:27.090Z"
   },
   {
    "duration": 5,
    "start_time": "2021-10-10T00:19:28.417Z"
   },
   {
    "duration": 9095,
    "start_time": "2021-10-10T00:22:17.265Z"
   },
   {
    "duration": 7,
    "start_time": "2021-10-10T00:23:09.000Z"
   },
   {
    "duration": 8,
    "start_time": "2021-10-10T00:23:30.735Z"
   },
   {
    "duration": 9,
    "start_time": "2021-10-10T00:24:52.237Z"
   },
   {
    "duration": 8,
    "start_time": "2021-10-10T00:25:10.431Z"
   },
   {
    "duration": 5,
    "start_time": "2021-10-10T00:26:28.409Z"
   },
   {
    "duration": 323,
    "start_time": "2021-10-10T00:29:34.511Z"
   },
   {
    "duration": 9312,
    "start_time": "2021-10-10T00:30:03.064Z"
   },
   {
    "duration": 321,
    "start_time": "2021-10-10T00:30:33.377Z"
   },
   {
    "duration": 14,
    "start_time": "2021-10-10T00:31:41.991Z"
   },
   {
    "duration": 13,
    "start_time": "2021-10-10T00:32:05.811Z"
   },
   {
    "duration": 12,
    "start_time": "2021-10-10T00:32:39.875Z"
   },
   {
    "duration": 13,
    "start_time": "2021-10-10T00:35:21.749Z"
   },
   {
    "duration": 1425,
    "start_time": "2021-10-10T00:54:22.914Z"
   },
   {
    "duration": 32,
    "start_time": "2021-10-10T00:54:24.342Z"
   },
   {
    "duration": 9,
    "start_time": "2021-10-10T00:54:24.377Z"
   },
   {
    "duration": 5,
    "start_time": "2021-10-10T00:54:24.389Z"
   },
   {
    "duration": 7,
    "start_time": "2021-10-10T00:54:24.396Z"
   },
   {
    "duration": 8,
    "start_time": "2021-10-10T00:54:24.406Z"
   },
   {
    "duration": 53,
    "start_time": "2021-10-10T00:54:24.417Z"
   },
   {
    "duration": 492,
    "start_time": "2021-10-10T00:54:24.476Z"
   },
   {
    "duration": 5,
    "start_time": "2021-10-10T00:54:24.971Z"
   },
   {
    "duration": 16,
    "start_time": "2021-10-10T00:54:24.979Z"
   },
   {
    "duration": 471,
    "start_time": "2021-10-10T00:54:24.998Z"
   },
   {
    "duration": 59,
    "start_time": "2021-10-10T00:54:25.471Z"
   },
   {
    "duration": 14,
    "start_time": "2021-10-10T00:54:25.533Z"
   },
   {
    "duration": 9,
    "start_time": "2021-10-10T00:54:25.549Z"
   },
   {
    "duration": 21,
    "start_time": "2021-10-10T00:54:25.561Z"
   },
   {
    "duration": 24,
    "start_time": "2021-10-10T00:54:25.584Z"
   },
   {
    "duration": 16,
    "start_time": "2021-10-10T00:54:25.611Z"
   },
   {
    "duration": 11,
    "start_time": "2021-10-10T00:54:25.629Z"
   },
   {
    "duration": 17,
    "start_time": "2021-10-10T00:54:25.642Z"
   },
   {
    "duration": 15,
    "start_time": "2021-10-10T00:54:25.661Z"
   },
   {
    "duration": 5,
    "start_time": "2021-10-10T00:54:25.679Z"
   },
   {
    "duration": 9,
    "start_time": "2021-10-10T00:54:25.686Z"
   },
   {
    "duration": 10,
    "start_time": "2021-10-10T00:54:25.701Z"
   },
   {
    "duration": 372,
    "start_time": "2021-10-10T00:54:25.714Z"
   },
   {
    "duration": 12,
    "start_time": "2021-10-10T00:54:26.088Z"
   },
   {
    "duration": 283,
    "start_time": "2021-10-10T00:54:26.103Z"
   },
   {
    "duration": 18,
    "start_time": "2021-10-10T00:54:26.388Z"
   },
   {
    "duration": 9,
    "start_time": "2021-10-10T00:54:26.408Z"
   },
   {
    "duration": 16,
    "start_time": "2021-10-10T00:54:26.420Z"
   },
   {
    "duration": 8,
    "start_time": "2021-10-10T00:54:26.458Z"
   },
   {
    "duration": 10,
    "start_time": "2021-10-10T00:54:26.468Z"
   },
   {
    "duration": 667,
    "start_time": "2021-10-10T00:54:26.480Z"
   },
   {
    "duration": 651,
    "start_time": "2021-10-10T00:54:27.149Z"
   },
   {
    "duration": 709,
    "start_time": "2021-10-10T00:54:27.802Z"
   },
   {
    "duration": 666,
    "start_time": "2021-10-10T00:54:28.513Z"
   },
   {
    "duration": 701,
    "start_time": "2021-10-10T00:54:29.181Z"
   },
   {
    "duration": 201,
    "start_time": "2021-10-10T00:54:29.884Z"
   },
   {
    "duration": 12,
    "start_time": "2021-10-10T00:54:30.087Z"
   },
   {
    "duration": 762,
    "start_time": "2021-10-10T00:54:30.102Z"
   },
   {
    "duration": 5,
    "start_time": "2021-10-10T00:54:30.867Z"
   },
   {
    "duration": 30,
    "start_time": "2021-10-10T00:54:30.875Z"
   },
   {
    "duration": 763,
    "start_time": "2021-10-10T00:54:30.908Z"
   },
   {
    "duration": 7,
    "start_time": "2021-10-10T00:54:31.674Z"
   },
   {
    "duration": 118,
    "start_time": "2021-10-10T00:54:31.684Z"
   },
   {
    "duration": 35,
    "start_time": "2021-10-10T00:54:31.805Z"
   },
   {
    "duration": 95,
    "start_time": "2021-10-10T00:54:31.843Z"
   },
   {
    "duration": 26,
    "start_time": "2021-10-10T00:54:31.941Z"
   },
   {
    "duration": 137,
    "start_time": "2021-10-10T00:54:31.970Z"
   },
   {
    "duration": 12,
    "start_time": "2021-10-10T00:54:32.109Z"
   },
   {
    "duration": 149,
    "start_time": "2021-10-10T00:54:32.124Z"
   },
   {
    "duration": 12,
    "start_time": "2021-10-10T00:54:32.275Z"
   },
   {
    "duration": 36,
    "start_time": "2021-10-10T00:54:32.290Z"
   },
   {
    "duration": 44,
    "start_time": "2021-10-10T00:54:32.328Z"
   },
   {
    "duration": 131,
    "start_time": "2021-10-10T00:54:32.375Z"
   },
   {
    "duration": 10,
    "start_time": "2021-10-10T00:54:32.509Z"
   },
   {
    "duration": 155,
    "start_time": "2021-10-10T00:54:32.523Z"
   },
   {
    "duration": 19,
    "start_time": "2021-10-10T00:54:32.680Z"
   },
   {
    "duration": 13,
    "start_time": "2021-10-10T00:54:32.702Z"
   },
   {
    "duration": 12,
    "start_time": "2021-10-10T00:54:32.717Z"
   },
   {
    "duration": 21,
    "start_time": "2021-10-10T00:54:32.731Z"
   },
   {
    "duration": 7,
    "start_time": "2021-10-10T00:54:32.757Z"
   },
   {
    "duration": 17,
    "start_time": "2021-10-10T00:54:32.766Z"
   },
   {
    "duration": 10,
    "start_time": "2021-10-10T00:54:32.786Z"
   },
   {
    "duration": 12,
    "start_time": "2021-10-10T00:54:32.798Z"
   },
   {
    "duration": 9,
    "start_time": "2021-10-10T00:54:32.812Z"
   },
   {
    "duration": 39,
    "start_time": "2021-10-10T00:54:32.823Z"
   },
   {
    "duration": 19,
    "start_time": "2021-10-10T00:54:32.864Z"
   },
   {
    "duration": 8,
    "start_time": "2021-10-10T00:54:32.890Z"
   },
   {
    "duration": 11,
    "start_time": "2021-10-10T00:54:32.900Z"
   },
   {
    "duration": 7,
    "start_time": "2021-10-10T00:54:32.912Z"
   },
   {
    "duration": 16,
    "start_time": "2021-10-10T00:54:32.921Z"
   },
   {
    "duration": 22,
    "start_time": "2021-10-10T00:54:32.939Z"
   },
   {
    "duration": 12,
    "start_time": "2021-10-10T00:54:32.963Z"
   },
   {
    "duration": 8,
    "start_time": "2021-10-10T00:54:32.977Z"
   },
   {
    "duration": 20,
    "start_time": "2021-10-10T00:54:32.987Z"
   },
   {
    "duration": 18,
    "start_time": "2021-10-10T00:54:33.009Z"
   },
   {
    "duration": 20,
    "start_time": "2021-10-10T00:54:33.029Z"
   },
   {
    "duration": 5,
    "start_time": "2021-10-10T00:54:33.057Z"
   },
   {
    "duration": 14,
    "start_time": "2021-10-10T00:54:33.065Z"
   },
   {
    "duration": 12,
    "start_time": "2021-10-10T00:54:33.081Z"
   },
   {
    "duration": 1024,
    "start_time": "2021-10-10T04:10:14.870Z"
   },
   {
    "duration": 25,
    "start_time": "2021-10-10T04:10:15.896Z"
   },
   {
    "duration": 8,
    "start_time": "2021-10-10T04:10:15.922Z"
   },
   {
    "duration": 12,
    "start_time": "2021-10-10T04:10:15.932Z"
   },
   {
    "duration": 7,
    "start_time": "2021-10-10T04:10:15.945Z"
   },
   {
    "duration": 7,
    "start_time": "2021-10-10T04:10:15.953Z"
   },
   {
    "duration": 15,
    "start_time": "2021-10-10T04:10:15.962Z"
   },
   {
    "duration": 286,
    "start_time": "2021-10-10T04:10:15.980Z"
   },
   {
    "duration": 4,
    "start_time": "2021-10-10T04:10:16.268Z"
   },
   {
    "duration": 12,
    "start_time": "2021-10-10T04:10:16.273Z"
   },
   {
    "duration": 276,
    "start_time": "2021-10-10T04:10:16.287Z"
   },
   {
    "duration": 36,
    "start_time": "2021-10-10T04:10:16.565Z"
   },
   {
    "duration": 14,
    "start_time": "2021-10-10T04:10:16.603Z"
   },
   {
    "duration": 12,
    "start_time": "2021-10-10T04:10:16.619Z"
   },
   {
    "duration": 16,
    "start_time": "2021-10-10T04:10:16.632Z"
   },
   {
    "duration": 23,
    "start_time": "2021-10-10T04:10:16.649Z"
   },
   {
    "duration": 17,
    "start_time": "2021-10-10T04:10:16.674Z"
   },
   {
    "duration": 13,
    "start_time": "2021-10-10T04:10:16.693Z"
   },
   {
    "duration": 15,
    "start_time": "2021-10-10T04:10:16.708Z"
   },
   {
    "duration": 22,
    "start_time": "2021-10-10T04:10:16.725Z"
   },
   {
    "duration": 3,
    "start_time": "2021-10-10T04:10:16.749Z"
   },
   {
    "duration": 8,
    "start_time": "2021-10-10T04:10:16.753Z"
   },
   {
    "duration": 18,
    "start_time": "2021-10-10T04:10:16.764Z"
   },
   {
    "duration": 215,
    "start_time": "2021-10-10T04:10:16.785Z"
   },
   {
    "duration": 8,
    "start_time": "2021-10-10T04:10:17.002Z"
   },
   {
    "duration": 160,
    "start_time": "2021-10-10T04:10:17.011Z"
   },
   {
    "duration": 8,
    "start_time": "2021-10-10T04:10:17.173Z"
   },
   {
    "duration": 12,
    "start_time": "2021-10-10T04:10:17.183Z"
   },
   {
    "duration": 14,
    "start_time": "2021-10-10T04:10:17.197Z"
   },
   {
    "duration": 13,
    "start_time": "2021-10-10T04:10:17.213Z"
   },
   {
    "duration": 17,
    "start_time": "2021-10-10T04:10:17.227Z"
   },
   {
    "duration": 392,
    "start_time": "2021-10-10T04:10:17.246Z"
   },
   {
    "duration": 366,
    "start_time": "2021-10-10T04:10:17.644Z"
   },
   {
    "duration": 522,
    "start_time": "2021-10-10T04:10:18.012Z"
   },
   {
    "duration": 393,
    "start_time": "2021-10-10T04:10:18.536Z"
   },
   {
    "duration": 513,
    "start_time": "2021-10-10T04:10:18.931Z"
   },
   {
    "duration": 155,
    "start_time": "2021-10-10T04:10:19.446Z"
   },
   {
    "duration": 7,
    "start_time": "2021-10-10T04:10:19.602Z"
   },
   {
    "duration": 510,
    "start_time": "2021-10-10T04:10:19.611Z"
   },
   {
    "duration": 4,
    "start_time": "2021-10-10T04:10:20.123Z"
   },
   {
    "duration": 21,
    "start_time": "2021-10-10T04:10:20.128Z"
   },
   {
    "duration": 474,
    "start_time": "2021-10-10T04:10:20.150Z"
   },
   {
    "duration": 4,
    "start_time": "2021-10-10T04:10:20.626Z"
   },
   {
    "duration": 67,
    "start_time": "2021-10-10T04:10:20.632Z"
   },
   {
    "duration": 11,
    "start_time": "2021-10-10T04:10:20.701Z"
   },
   {
    "duration": 79,
    "start_time": "2021-10-10T04:10:20.713Z"
   },
   {
    "duration": 20,
    "start_time": "2021-10-10T04:10:20.793Z"
   },
   {
    "duration": 76,
    "start_time": "2021-10-10T04:10:20.814Z"
   },
   {
    "duration": 7,
    "start_time": "2021-10-10T04:10:20.891Z"
   },
   {
    "duration": 80,
    "start_time": "2021-10-10T04:10:20.899Z"
   },
   {
    "duration": 7,
    "start_time": "2021-10-10T04:10:20.981Z"
   },
   {
    "duration": 22,
    "start_time": "2021-10-10T04:10:20.989Z"
   },
   {
    "duration": 11,
    "start_time": "2021-10-10T04:10:21.013Z"
   },
   {
    "duration": 56,
    "start_time": "2021-10-10T04:10:21.044Z"
   },
   {
    "duration": 12,
    "start_time": "2021-10-10T04:10:21.102Z"
   },
   {
    "duration": 84,
    "start_time": "2021-10-10T04:10:21.115Z"
   },
   {
    "duration": 6,
    "start_time": "2021-10-10T04:10:21.201Z"
   },
   {
    "duration": 5,
    "start_time": "2021-10-10T04:10:21.208Z"
   },
   {
    "duration": 6,
    "start_time": "2021-10-10T04:10:21.215Z"
   },
   {
    "duration": 25,
    "start_time": "2021-10-10T04:10:21.222Z"
   },
   {
    "duration": 9,
    "start_time": "2021-10-10T04:10:21.248Z"
   },
   {
    "duration": 9,
    "start_time": "2021-10-10T04:10:21.258Z"
   },
   {
    "duration": 3,
    "start_time": "2021-10-10T04:10:21.269Z"
   },
   {
    "duration": 9,
    "start_time": "2021-10-10T04:10:21.274Z"
   },
   {
    "duration": 6,
    "start_time": "2021-10-10T04:10:21.285Z"
   },
   {
    "duration": 22,
    "start_time": "2021-10-10T04:10:21.293Z"
   },
   {
    "duration": 30,
    "start_time": "2021-10-10T04:10:21.316Z"
   },
   {
    "duration": 5,
    "start_time": "2021-10-10T04:10:21.351Z"
   },
   {
    "duration": 6,
    "start_time": "2021-10-10T04:10:21.358Z"
   },
   {
    "duration": 4,
    "start_time": "2021-10-10T04:10:21.366Z"
   },
   {
    "duration": 10,
    "start_time": "2021-10-10T04:10:21.372Z"
   },
   {
    "duration": 7,
    "start_time": "2021-10-10T04:10:21.384Z"
   },
   {
    "duration": 10,
    "start_time": "2021-10-10T04:10:21.393Z"
   },
   {
    "duration": 6,
    "start_time": "2021-10-10T04:10:21.404Z"
   },
   {
    "duration": 15,
    "start_time": "2021-10-10T04:10:21.412Z"
   },
   {
    "duration": 17,
    "start_time": "2021-10-10T04:10:21.429Z"
   },
   {
    "duration": 7,
    "start_time": "2021-10-10T04:10:21.447Z"
   },
   {
    "duration": 3,
    "start_time": "2021-10-10T04:10:21.456Z"
   },
   {
    "duration": 13,
    "start_time": "2021-10-10T04:10:21.461Z"
   },
   {
    "duration": 12,
    "start_time": "2021-10-10T04:10:21.475Z"
   }
  ],
  "kernelspec": {
   "display_name": "Python 3",
   "language": "python",
   "name": "python3"
  },
  "language_info": {
   "codemirror_mode": {
    "name": "ipython",
    "version": 3
   },
   "file_extension": ".py",
   "mimetype": "text/x-python",
   "name": "python",
   "nbconvert_exporter": "python",
   "pygments_lexer": "ipython3",
   "version": "3.8.8"
  },
  "toc": {
   "base_numbering": 1,
   "nav_menu": {},
   "number_sections": false,
   "sideBar": true,
   "skip_h1_title": true,
   "title_cell": "Приоритизация гипотез и анализ А/В теста",
   "title_sidebar": "Contents",
   "toc_cell": true,
   "toc_position": {
    "height": "calc(100% - 180px)",
    "left": "10px",
    "top": "150px",
    "width": "246px"
   },
   "toc_section_display": true,
   "toc_window_display": true
  },
  "varInspector": {
   "cols": {
    "lenName": 16,
    "lenType": 16,
    "lenVar": 40
   },
   "kernels_config": {
    "python": {
     "delete_cmd_postfix": "",
     "delete_cmd_prefix": "del ",
     "library": "var_list.py",
     "varRefreshCmd": "print(var_dic_list())"
    },
    "r": {
     "delete_cmd_postfix": ") ",
     "delete_cmd_prefix": "rm(",
     "library": "var_list.r",
     "varRefreshCmd": "cat(var_dic_list()) "
    }
   },
   "types_to_exclude": [
    "module",
    "function",
    "builtin_function_or_method",
    "instance",
    "_Feature"
   ],
   "window_display": false
  }
 },
 "nbformat": 4,
 "nbformat_minor": 2
}
