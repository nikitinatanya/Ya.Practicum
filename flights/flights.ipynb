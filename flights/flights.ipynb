{
 "cells": [
  {
   "cell_type": "markdown",
   "metadata": {
    "toc": true
   },
   "source": [
    "<h1>Аналитика в авиакомпании<span class=\"tocSkip\"></span></h1>\n",
    "<div class=\"toc\"><ul class=\"toc-item\"><li><span><a href=\"#Введение\" data-toc-modified-id=\"Введение-1\">Введение</a></span></li><li><span><a href=\"#Изучение-общей-информации\" data-toc-modified-id=\"Изучение-общей-информации-2\">Изучение общей информации</a></span></li><li><span><a href=\"#Анализ-данных\" data-toc-modified-id=\"Анализ-данных-3\">Анализ данных</a></span><ul class=\"toc-item\"><li><span><a href=\"#Модели-самолетов-и-количество-рейсов\" data-toc-modified-id=\"Модели-самолетов-и-количество-рейсов-3.1\">Модели самолетов и количество рейсов</a></span><ul class=\"toc-item\"><li><span><a href=\"#Вывод\" data-toc-modified-id=\"Вывод-3.1.1\">Вывод</a></span></li></ul></li><li><span><a href=\"#Города-и-количество-рейсов\" data-toc-modified-id=\"Города-и-количество-рейсов-3.2\">Города и количество рейсов</a></span></li><li><span><a href=\"#Топ-10-городов-и-количество-рейсов\" data-toc-modified-id=\"Топ-10-городов-и-количество-рейсов-3.3\">Топ-10 городов и количество рейсов</a></span></li></ul></li><li><span><a href=\"#Общий-вывод\" data-toc-modified-id=\"Общий-вывод-4\">Общий вывод</a></span></li></ul></div>"
   ]
  },
  {
   "cell_type": "markdown",
   "metadata": {},
   "source": [
    "## Введение"
   ]
  },
  {
   "cell_type": "markdown",
   "metadata": {},
   "source": [
    "«F9» — это российская авиакомпания, выполняющая внутренние пассажирские авиаперевозки. Необходимо понять предпочтения пользователей, покупающих билеты на те или иные направления.\n",
    "\n",
    "**Цель** исследования: изучить базу данных и проанализировать спрос пассажиров.\n",
    "\n",
    "В ходе исследования перед нами стоят следующие **вопросы**:  \n",
    "- изучить данные в датасетах, полученных на этапе работы с базой данных;  \n",
    "- проверить типы данных на корректность;  \n",
    "- выбрать топ-10 городов по количеству рейсов;  \n",
    "- построить графики: модели самолетов и количество рейсов, города и количество рейсов, топ-10 городов и количество рейсов;  \n",
    "- сделать выводы по каждому из графиков, пояснить результат.  \n",
    "\n",
    "Исследование включает в себя следующие **этапы**:  \n",
    "1. Изучение общей информации.\n",
    "2. Анализ данных.\n",
    "3. Общий вывод.\n",
    "\n",
    "\n",
    "**Описание данных**  \n",
    "*/datasets/query_1.csv* содержит следующую информацию:  \n",
    "  model — модель самолета  \n",
    "  flights_amount — количество рейсов для каждой модели самолетов model в сентябре 2018 года.    \n",
    "  \n",
    "*/datasets/query_3.csv* содержит следующую информацию:  \n",
    "city — город    \n",
    "average_flights — среднее количество рейсов, прибывающих в город city за день в августе 2018 года  \n"
   ]
  },
  {
   "cell_type": "markdown",
   "metadata": {},
   "source": [
    "## Изучение общей информации"
   ]
  },
  {
   "cell_type": "code",
   "execution_count": 1,
   "metadata": {},
   "outputs": [],
   "source": [
    "import pandas as pd\n",
    "import seaborn as sns\n",
    "from matplotlib import pyplot as plt\n",
    "\n",
    "pd.options.display.float_format = '{:.2f}'.format\n",
    "pd.options.display.max_rows = 10"
   ]
  },
  {
   "cell_type": "code",
   "execution_count": 2,
   "metadata": {},
   "outputs": [],
   "source": [
    "df_aircraft = pd.read_csv('/datasets/query_1.csv')"
   ]
  },
  {
   "cell_type": "code",
   "execution_count": 3,
   "metadata": {
    "scrolled": true
   },
   "outputs": [
    {
     "name": "stdout",
     "output_type": "stream",
     "text": [
      "<class 'pandas.core.frame.DataFrame'>\n",
      "RangeIndex: 8 entries, 0 to 7\n",
      "Data columns (total 2 columns):\n",
      "model             8 non-null object\n",
      "flights_amount    8 non-null int64\n",
      "dtypes: int64(1), object(1)\n",
      "memory usage: 256.0+ bytes\n"
     ]
    }
   ],
   "source": [
    "df_aircraft.info()"
   ]
  },
  {
   "cell_type": "code",
   "execution_count": 4,
   "metadata": {},
   "outputs": [
    {
     "data": {
      "text/html": [
       "<div>\n",
       "<style scoped>\n",
       "    .dataframe tbody tr th:only-of-type {\n",
       "        vertical-align: middle;\n",
       "    }\n",
       "\n",
       "    .dataframe tbody tr th {\n",
       "        vertical-align: top;\n",
       "    }\n",
       "\n",
       "    .dataframe thead th {\n",
       "        text-align: right;\n",
       "    }\n",
       "</style>\n",
       "<table border=\"1\" class=\"dataframe\">\n",
       "  <thead>\n",
       "    <tr style=\"text-align: right;\">\n",
       "      <th></th>\n",
       "      <th>model</th>\n",
       "      <th>flights_amount</th>\n",
       "    </tr>\n",
       "  </thead>\n",
       "  <tbody>\n",
       "    <tr>\n",
       "      <td>0</td>\n",
       "      <td>Airbus A319-100</td>\n",
       "      <td>607</td>\n",
       "    </tr>\n",
       "    <tr>\n",
       "      <td>1</td>\n",
       "      <td>Airbus A321-200</td>\n",
       "      <td>960</td>\n",
       "    </tr>\n",
       "    <tr>\n",
       "      <td>2</td>\n",
       "      <td>Boeing 737-300</td>\n",
       "      <td>630</td>\n",
       "    </tr>\n",
       "    <tr>\n",
       "      <td>3</td>\n",
       "      <td>Boeing 767-300</td>\n",
       "      <td>600</td>\n",
       "    </tr>\n",
       "    <tr>\n",
       "      <td>4</td>\n",
       "      <td>Boeing 777-300</td>\n",
       "      <td>300</td>\n",
       "    </tr>\n",
       "    <tr>\n",
       "      <td>5</td>\n",
       "      <td>Bombardier CRJ-200</td>\n",
       "      <td>4446</td>\n",
       "    </tr>\n",
       "    <tr>\n",
       "      <td>6</td>\n",
       "      <td>Cessna 208 Caravan</td>\n",
       "      <td>4557</td>\n",
       "    </tr>\n",
       "    <tr>\n",
       "      <td>7</td>\n",
       "      <td>Sukhoi SuperJet-100</td>\n",
       "      <td>4185</td>\n",
       "    </tr>\n",
       "  </tbody>\n",
       "</table>\n",
       "</div>"
      ],
      "text/plain": [
       "                 model  flights_amount\n",
       "0      Airbus A319-100             607\n",
       "1      Airbus A321-200             960\n",
       "2       Boeing 737-300             630\n",
       "3       Boeing 767-300             600\n",
       "4       Boeing 777-300             300\n",
       "5   Bombardier CRJ-200            4446\n",
       "6   Cessna 208 Caravan            4557\n",
       "7  Sukhoi SuperJet-100            4185"
      ]
     },
     "execution_count": 4,
     "metadata": {},
     "output_type": "execute_result"
    }
   ],
   "source": [
    "df_aircraft"
   ]
  },
  {
   "cell_type": "markdown",
   "metadata": {},
   "source": [
    "Данные предобработки не требуют."
   ]
  },
  {
   "cell_type": "code",
   "execution_count": 5,
   "metadata": {},
   "outputs": [],
   "source": [
    "df_city = pd.read_csv('/datasets/query_3.csv')"
   ]
  },
  {
   "cell_type": "code",
   "execution_count": 6,
   "metadata": {},
   "outputs": [
    {
     "name": "stdout",
     "output_type": "stream",
     "text": [
      "<class 'pandas.core.frame.DataFrame'>\n",
      "RangeIndex: 101 entries, 0 to 100\n",
      "Data columns (total 2 columns):\n",
      "city               101 non-null object\n",
      "average_flights    101 non-null float64\n",
      "dtypes: float64(1), object(1)\n",
      "memory usage: 1.7+ KB\n"
     ]
    }
   ],
   "source": [
    "df_city.info()"
   ]
  },
  {
   "cell_type": "code",
   "execution_count": 7,
   "metadata": {},
   "outputs": [
    {
     "data": {
      "text/html": [
       "<div>\n",
       "<style scoped>\n",
       "    .dataframe tbody tr th:only-of-type {\n",
       "        vertical-align: middle;\n",
       "    }\n",
       "\n",
       "    .dataframe tbody tr th {\n",
       "        vertical-align: top;\n",
       "    }\n",
       "\n",
       "    .dataframe thead th {\n",
       "        text-align: right;\n",
       "    }\n",
       "</style>\n",
       "<table border=\"1\" class=\"dataframe\">\n",
       "  <thead>\n",
       "    <tr style=\"text-align: right;\">\n",
       "      <th></th>\n",
       "      <th>city</th>\n",
       "      <th>average_flights</th>\n",
       "    </tr>\n",
       "  </thead>\n",
       "  <tbody>\n",
       "    <tr>\n",
       "      <td>0</td>\n",
       "      <td>Абакан</td>\n",
       "      <td>3.87</td>\n",
       "    </tr>\n",
       "    <tr>\n",
       "      <td>1</td>\n",
       "      <td>Анадырь</td>\n",
       "      <td>1.00</td>\n",
       "    </tr>\n",
       "    <tr>\n",
       "      <td>2</td>\n",
       "      <td>Анапа</td>\n",
       "      <td>2.16</td>\n",
       "    </tr>\n",
       "    <tr>\n",
       "      <td>3</td>\n",
       "      <td>Архангельск</td>\n",
       "      <td>5.35</td>\n",
       "    </tr>\n",
       "    <tr>\n",
       "      <td>4</td>\n",
       "      <td>Астрахань</td>\n",
       "      <td>2.45</td>\n",
       "    </tr>\n",
       "  </tbody>\n",
       "</table>\n",
       "</div>"
      ],
      "text/plain": [
       "          city  average_flights\n",
       "0       Абакан             3.87\n",
       "1      Анадырь             1.00\n",
       "2        Анапа             2.16\n",
       "3  Архангельск             5.35\n",
       "4    Астрахань             2.45"
      ]
     },
     "execution_count": 7,
     "metadata": {},
     "output_type": "execute_result"
    }
   ],
   "source": [
    "df_city.head()"
   ]
  },
  {
   "cell_type": "code",
   "execution_count": 8,
   "metadata": {},
   "outputs": [
    {
     "data": {
      "text/html": [
       "<div>\n",
       "<style scoped>\n",
       "    .dataframe tbody tr th:only-of-type {\n",
       "        vertical-align: middle;\n",
       "    }\n",
       "\n",
       "    .dataframe tbody tr th {\n",
       "        vertical-align: top;\n",
       "    }\n",
       "\n",
       "    .dataframe thead th {\n",
       "        text-align: right;\n",
       "    }\n",
       "</style>\n",
       "<table border=\"1\" class=\"dataframe\">\n",
       "  <thead>\n",
       "    <tr style=\"text-align: right;\">\n",
       "      <th></th>\n",
       "      <th>average_flights</th>\n",
       "    </tr>\n",
       "  </thead>\n",
       "  <tbody>\n",
       "    <tr>\n",
       "      <td>count</td>\n",
       "      <td>101.00</td>\n",
       "    </tr>\n",
       "    <tr>\n",
       "      <td>mean</td>\n",
       "      <td>5.49</td>\n",
       "    </tr>\n",
       "    <tr>\n",
       "      <td>std</td>\n",
       "      <td>13.12</td>\n",
       "    </tr>\n",
       "    <tr>\n",
       "      <td>min</td>\n",
       "      <td>1.00</td>\n",
       "    </tr>\n",
       "    <tr>\n",
       "      <td>25%</td>\n",
       "      <td>2.00</td>\n",
       "    </tr>\n",
       "    <tr>\n",
       "      <td>50%</td>\n",
       "      <td>3.00</td>\n",
       "    </tr>\n",
       "    <tr>\n",
       "      <td>75%</td>\n",
       "      <td>5.87</td>\n",
       "    </tr>\n",
       "    <tr>\n",
       "      <td>max</td>\n",
       "      <td>129.77</td>\n",
       "    </tr>\n",
       "  </tbody>\n",
       "</table>\n",
       "</div>"
      ],
      "text/plain": [
       "       average_flights\n",
       "count           101.00\n",
       "mean              5.49\n",
       "std              13.12\n",
       "min               1.00\n",
       "25%               2.00\n",
       "50%               3.00\n",
       "75%               5.87\n",
       "max             129.77"
      ]
     },
     "execution_count": 8,
     "metadata": {},
     "output_type": "execute_result"
    }
   ],
   "source": [
    "df_city.describe()"
   ]
  },
  {
   "cell_type": "markdown",
   "metadata": {},
   "source": [
    "Данные предобработки не требуют."
   ]
  },
  {
   "cell_type": "markdown",
   "metadata": {},
   "source": [
    "## Анализ данных"
   ]
  },
  {
   "cell_type": "markdown",
   "metadata": {},
   "source": [
    "### Модели самолетов и количество рейсов"
   ]
  },
  {
   "cell_type": "code",
   "execution_count": 9,
   "metadata": {},
   "outputs": [],
   "source": [
    "df_aircraft = df_aircraft.sort_values(by = 'flights_amount', ascending = False)"
   ]
  },
  {
   "cell_type": "code",
   "execution_count": 10,
   "metadata": {},
   "outputs": [
    {
     "data": {
      "image/png": "[encoded data removed]",
      "text/plain": [
       "<Figure size 1440x720 with 1 Axes>"
      ]
     },
     "metadata": {},
     "output_type": "display_data"
    }
   ],
   "source": [
    "fig, axs = plt.subplots(figsize=(20, 10))\n",
    "explode = [0.07, 0.07, 0.07, 0, 0, 0, 0, 0]\n",
    "df_aircraft['flights_amount'].plot(\n",
    "    kind='pie',\n",
    "    explode=explode,\n",
    "    startangle=45,\n",
    "    labels = df_aircraft['model'].to_list(),\n",
    "    #labeldistance = 1.1,\n",
    "    autopct='%1.1f%%',\n",
    "    shadow=True, \n",
    "    counterclock = False,\n",
    "    #frame = True,\n",
    "    #rotatelabels = True\n",
    ")\n",
    "axs.axis('equal')  # Equal aspect ratio ensures that pie is drawn as a circle.\n",
    "\n",
    "plt.xlabel('Модель самолета')\n",
    "plt.ylabel('Доля в полетах сентября 2018')\n",
    "plt.figtext(.5,.9,'Структура полетов по моделям самолетов', fontsize=27, ha='center')\n",
    "plt.show()"
   ]
  },
  {
   "cell_type": "markdown",
   "metadata": {},
   "source": [
    "Построим рейтинг самолетов в зависимости от количества рейсов."
   ]
  },
  {
   "cell_type": "code",
   "execution_count": 11,
   "metadata": {},
   "outputs": [
    {
     "data": {
      "text/html": [
       "<style  type=\"text/css\" >\n",
       "</style><table id=\"T_0c1a9e54_0a9e_11ec_8380_02420a390562\" ><thead>    <tr>        <th class=\"blank level0\" ></th>        <th class=\"col_heading level0 col0\" >model</th>        <th class=\"col_heading level0 col1\" >flights_amount</th>        <th class=\"col_heading level0 col2\" >ratio_flights</th>    </tr></thead><tbody>\n",
       "                <tr>\n",
       "                        <th id=\"T_0c1a9e54_0a9e_11ec_8380_02420a390562level0_row0\" class=\"row_heading level0 row0\" >6</th>\n",
       "                        <td id=\"T_0c1a9e54_0a9e_11ec_8380_02420a390562row0_col0\" class=\"data row0 col0\" >Cessna 208 Caravan</td>\n",
       "                        <td id=\"T_0c1a9e54_0a9e_11ec_8380_02420a390562row0_col1\" class=\"data row0 col1\" >4557</td>\n",
       "                        <td id=\"T_0c1a9e54_0a9e_11ec_8380_02420a390562row0_col2\" class=\"data row0 col2\" >27.98%</td>\n",
       "            </tr>\n",
       "            <tr>\n",
       "                        <th id=\"T_0c1a9e54_0a9e_11ec_8380_02420a390562level0_row1\" class=\"row_heading level0 row1\" >5</th>\n",
       "                        <td id=\"T_0c1a9e54_0a9e_11ec_8380_02420a390562row1_col0\" class=\"data row1 col0\" >Bombardier CRJ-200</td>\n",
       "                        <td id=\"T_0c1a9e54_0a9e_11ec_8380_02420a390562row1_col1\" class=\"data row1 col1\" >4446</td>\n",
       "                        <td id=\"T_0c1a9e54_0a9e_11ec_8380_02420a390562row1_col2\" class=\"data row1 col2\" >27.30%</td>\n",
       "            </tr>\n",
       "            <tr>\n",
       "                        <th id=\"T_0c1a9e54_0a9e_11ec_8380_02420a390562level0_row2\" class=\"row_heading level0 row2\" >7</th>\n",
       "                        <td id=\"T_0c1a9e54_0a9e_11ec_8380_02420a390562row2_col0\" class=\"data row2 col0\" >Sukhoi SuperJet-100</td>\n",
       "                        <td id=\"T_0c1a9e54_0a9e_11ec_8380_02420a390562row2_col1\" class=\"data row2 col1\" >4185</td>\n",
       "                        <td id=\"T_0c1a9e54_0a9e_11ec_8380_02420a390562row2_col2\" class=\"data row2 col2\" >25.70%</td>\n",
       "            </tr>\n",
       "            <tr>\n",
       "                        <th id=\"T_0c1a9e54_0a9e_11ec_8380_02420a390562level0_row3\" class=\"row_heading level0 row3\" >1</th>\n",
       "                        <td id=\"T_0c1a9e54_0a9e_11ec_8380_02420a390562row3_col0\" class=\"data row3 col0\" >Airbus A321-200</td>\n",
       "                        <td id=\"T_0c1a9e54_0a9e_11ec_8380_02420a390562row3_col1\" class=\"data row3 col1\" >960</td>\n",
       "                        <td id=\"T_0c1a9e54_0a9e_11ec_8380_02420a390562row3_col2\" class=\"data row3 col2\" >5.89%</td>\n",
       "            </tr>\n",
       "            <tr>\n",
       "                        <th id=\"T_0c1a9e54_0a9e_11ec_8380_02420a390562level0_row4\" class=\"row_heading level0 row4\" >2</th>\n",
       "                        <td id=\"T_0c1a9e54_0a9e_11ec_8380_02420a390562row4_col0\" class=\"data row4 col0\" >Boeing 737-300</td>\n",
       "                        <td id=\"T_0c1a9e54_0a9e_11ec_8380_02420a390562row4_col1\" class=\"data row4 col1\" >630</td>\n",
       "                        <td id=\"T_0c1a9e54_0a9e_11ec_8380_02420a390562row4_col2\" class=\"data row4 col2\" >3.87%</td>\n",
       "            </tr>\n",
       "            <tr>\n",
       "                        <th id=\"T_0c1a9e54_0a9e_11ec_8380_02420a390562level0_row5\" class=\"row_heading level0 row5\" >0</th>\n",
       "                        <td id=\"T_0c1a9e54_0a9e_11ec_8380_02420a390562row5_col0\" class=\"data row5 col0\" >Airbus A319-100</td>\n",
       "                        <td id=\"T_0c1a9e54_0a9e_11ec_8380_02420a390562row5_col1\" class=\"data row5 col1\" >607</td>\n",
       "                        <td id=\"T_0c1a9e54_0a9e_11ec_8380_02420a390562row5_col2\" class=\"data row5 col2\" >3.73%</td>\n",
       "            </tr>\n",
       "            <tr>\n",
       "                        <th id=\"T_0c1a9e54_0a9e_11ec_8380_02420a390562level0_row6\" class=\"row_heading level0 row6\" >3</th>\n",
       "                        <td id=\"T_0c1a9e54_0a9e_11ec_8380_02420a390562row6_col0\" class=\"data row6 col0\" >Boeing 767-300</td>\n",
       "                        <td id=\"T_0c1a9e54_0a9e_11ec_8380_02420a390562row6_col1\" class=\"data row6 col1\" >600</td>\n",
       "                        <td id=\"T_0c1a9e54_0a9e_11ec_8380_02420a390562row6_col2\" class=\"data row6 col2\" >3.68%</td>\n",
       "            </tr>\n",
       "            <tr>\n",
       "                        <th id=\"T_0c1a9e54_0a9e_11ec_8380_02420a390562level0_row7\" class=\"row_heading level0 row7\" >4</th>\n",
       "                        <td id=\"T_0c1a9e54_0a9e_11ec_8380_02420a390562row7_col0\" class=\"data row7 col0\" >Boeing 777-300</td>\n",
       "                        <td id=\"T_0c1a9e54_0a9e_11ec_8380_02420a390562row7_col1\" class=\"data row7 col1\" >300</td>\n",
       "                        <td id=\"T_0c1a9e54_0a9e_11ec_8380_02420a390562row7_col2\" class=\"data row7 col2\" >1.84%</td>\n",
       "            </tr>\n",
       "    </tbody></table>"
      ],
      "text/plain": [
       "<pandas.io.formats.style.Styler at 0x7f434817c810>"
      ]
     },
     "metadata": {},
     "output_type": "display_data"
    }
   ],
   "source": [
    "df_aircraft['ratio_flights'] = df_aircraft['flights_amount'] / df_aircraft['flights_amount'].sum()\n",
    "display(df_aircraft.style.format({'ratio_flights':\"{0:.2%}\"}))"
   ]
  },
  {
   "cell_type": "markdown",
   "metadata": {},
   "source": [
    "Тройка лидеров по количеству перелетов в сентябре 2018: Cessna 208 Caravan, Bombardier CRJ-200, Sukhoi SuperJet-100.  Интересно, что максимальное количество перелетов приходится на модель Cessna 208 Caravan, рассчитанную на перевозку 9 пассажиров. Такие самолеты востребованы для обслуживания местных линий, перевозки из областных центров в маленькие городки, туристических поездок."
   ]
  },
  {
   "cell_type": "markdown",
   "metadata": {},
   "source": [
    "В связи с неожиданным распределением  самолетов по количеству перелетов интересно посмотреть, изменится ли рейтинг самолетов по пассажирообороту. Расчет, разумеется, обладает некой условностью. Внесем в таблицу df_aircraft данные о вместимости самолетов и рассчитаем оборот."
   ]
  },
  {
   "cell_type": "code",
   "execution_count": 12,
   "metadata": {},
   "outputs": [
    {
     "data": {
      "text/plain": [
       "['Cessna 208 Caravan',\n",
       " 'Bombardier CRJ-200',\n",
       " 'Sukhoi SuperJet-100',\n",
       " 'Airbus A321-200',\n",
       " 'Boeing 737-300',\n",
       " 'Airbus A319-100',\n",
       " 'Boeing 767-300',\n",
       " 'Boeing 777-300']"
      ]
     },
     "execution_count": 12,
     "metadata": {},
     "output_type": "execute_result"
    }
   ],
   "source": [
    "df_aircraft['model'].to_list()"
   ]
  },
  {
   "cell_type": "code",
   "execution_count": 13,
   "metadata": {},
   "outputs": [],
   "source": [
    "pass_amount = [9, 50, 95, 170, 450, 124, 210, 450]"
   ]
  },
  {
   "cell_type": "code",
   "execution_count": 14,
   "metadata": {
    "scrolled": true
   },
   "outputs": [
    {
     "data": {
      "text/html": [
       "<div>\n",
       "<style scoped>\n",
       "    .dataframe tbody tr th:only-of-type {\n",
       "        vertical-align: middle;\n",
       "    }\n",
       "\n",
       "    .dataframe tbody tr th {\n",
       "        vertical-align: top;\n",
       "    }\n",
       "\n",
       "    .dataframe thead th {\n",
       "        text-align: right;\n",
       "    }\n",
       "</style>\n",
       "<table border=\"1\" class=\"dataframe\">\n",
       "  <thead>\n",
       "    <tr style=\"text-align: right;\">\n",
       "      <th></th>\n",
       "      <th>model</th>\n",
       "      <th>flights_amount</th>\n",
       "      <th>ratio_flights</th>\n",
       "      <th>pass_amount</th>\n",
       "      <th>pass_traffic</th>\n",
       "      <th>ratio_traffic</th>\n",
       "    </tr>\n",
       "  </thead>\n",
       "  <tbody>\n",
       "    <tr>\n",
       "      <td>7</td>\n",
       "      <td>Sukhoi SuperJet-100</td>\n",
       "      <td>4185</td>\n",
       "      <td>0.26</td>\n",
       "      <td>95</td>\n",
       "      <td>397575</td>\n",
       "      <td>0.28</td>\n",
       "    </tr>\n",
       "    <tr>\n",
       "      <td>2</td>\n",
       "      <td>Boeing 737-300</td>\n",
       "      <td>630</td>\n",
       "      <td>0.04</td>\n",
       "      <td>450</td>\n",
       "      <td>283500</td>\n",
       "      <td>0.20</td>\n",
       "    </tr>\n",
       "    <tr>\n",
       "      <td>5</td>\n",
       "      <td>Bombardier CRJ-200</td>\n",
       "      <td>4446</td>\n",
       "      <td>0.27</td>\n",
       "      <td>50</td>\n",
       "      <td>222300</td>\n",
       "      <td>0.15</td>\n",
       "    </tr>\n",
       "    <tr>\n",
       "      <td>1</td>\n",
       "      <td>Airbus A321-200</td>\n",
       "      <td>960</td>\n",
       "      <td>0.06</td>\n",
       "      <td>170</td>\n",
       "      <td>163200</td>\n",
       "      <td>0.11</td>\n",
       "    </tr>\n",
       "    <tr>\n",
       "      <td>4</td>\n",
       "      <td>Boeing 777-300</td>\n",
       "      <td>300</td>\n",
       "      <td>0.02</td>\n",
       "      <td>450</td>\n",
       "      <td>135000</td>\n",
       "      <td>0.09</td>\n",
       "    </tr>\n",
       "    <tr>\n",
       "      <td>3</td>\n",
       "      <td>Boeing 767-300</td>\n",
       "      <td>600</td>\n",
       "      <td>0.04</td>\n",
       "      <td>210</td>\n",
       "      <td>126000</td>\n",
       "      <td>0.09</td>\n",
       "    </tr>\n",
       "    <tr>\n",
       "      <td>0</td>\n",
       "      <td>Airbus A319-100</td>\n",
       "      <td>607</td>\n",
       "      <td>0.04</td>\n",
       "      <td>124</td>\n",
       "      <td>75268</td>\n",
       "      <td>0.05</td>\n",
       "    </tr>\n",
       "    <tr>\n",
       "      <td>6</td>\n",
       "      <td>Cessna 208 Caravan</td>\n",
       "      <td>4557</td>\n",
       "      <td>0.28</td>\n",
       "      <td>9</td>\n",
       "      <td>41013</td>\n",
       "      <td>0.03</td>\n",
       "    </tr>\n",
       "  </tbody>\n",
       "</table>\n",
       "</div>"
      ],
      "text/plain": [
       "                 model  flights_amount  ratio_flights  pass_amount  \\\n",
       "7  Sukhoi SuperJet-100            4185           0.26           95   \n",
       "2       Boeing 737-300             630           0.04          450   \n",
       "5   Bombardier CRJ-200            4446           0.27           50   \n",
       "1      Airbus A321-200             960           0.06          170   \n",
       "4       Boeing 777-300             300           0.02          450   \n",
       "3       Boeing 767-300             600           0.04          210   \n",
       "0      Airbus A319-100             607           0.04          124   \n",
       "6   Cessna 208 Caravan            4557           0.28            9   \n",
       "\n",
       "   pass_traffic  ratio_traffic  \n",
       "7        397575           0.28  \n",
       "2        283500           0.20  \n",
       "5        222300           0.15  \n",
       "1        163200           0.11  \n",
       "4        135000           0.09  \n",
       "3        126000           0.09  \n",
       "0         75268           0.05  \n",
       "6         41013           0.03  "
      ]
     },
     "execution_count": 14,
     "metadata": {},
     "output_type": "execute_result"
    }
   ],
   "source": [
    "df_aircraft['pass_amount'] = [9, 50, 95, 170, 450, 124, 210, 450] \n",
    "df_aircraft ['pass_traffic'] = df_aircraft['flights_amount'] * df_aircraft['pass_amount']\n",
    "df_aircraft['ratio_traffic'] = df_aircraft['pass_traffic'] / df_aircraft['pass_traffic'].sum()\n",
    "df_aircraft.sort_values(by = 'pass_traffic', ascending = False)"
   ]
  },
  {
   "cell_type": "markdown",
   "metadata": {},
   "source": [
    "Sukhoi SuperJet-100 и Bombardier CRJ-200 сохранили лидирующие позиции, а \"малыш\" Cessna 208 Caravan переместился в конец рейтинга."
   ]
  },
  {
   "cell_type": "markdown",
   "metadata": {},
   "source": [
    "#### Вывод"
   ]
  },
  {
   "cell_type": "markdown",
   "metadata": {},
   "source": [
    "В структуре перелетов сентября 2018 года 81% перевозок осуществляется самолетами вместимостью до 100 человек -  Cessna 208 Caravan, Bombardier CRJ-200, Sukhoi SuperJet-100. Характерная ситуация для перевозок внутри страны. Это соответствует основному направлению компании F9."
   ]
  },
  {
   "cell_type": "markdown",
   "metadata": {},
   "source": [
    "### Города и количество рейсов"
   ]
  },
  {
   "cell_type": "code",
   "execution_count": 15,
   "metadata": {},
   "outputs": [],
   "source": [
    "df_city = df_city.sort_values(by = 'average_flights')"
   ]
  },
  {
   "cell_type": "code",
   "execution_count": 16,
   "metadata": {},
   "outputs": [
    {
     "data": {
      "text/html": [
       "<div>\n",
       "<style scoped>\n",
       "    .dataframe tbody tr th:only-of-type {\n",
       "        vertical-align: middle;\n",
       "    }\n",
       "\n",
       "    .dataframe tbody tr th {\n",
       "        vertical-align: top;\n",
       "    }\n",
       "\n",
       "    .dataframe thead th {\n",
       "        text-align: right;\n",
       "    }\n",
       "</style>\n",
       "<table border=\"1\" class=\"dataframe\">\n",
       "  <thead>\n",
       "    <tr style=\"text-align: right;\">\n",
       "      <th></th>\n",
       "      <th>average_flights</th>\n",
       "    </tr>\n",
       "  </thead>\n",
       "  <tbody>\n",
       "    <tr>\n",
       "      <td>count</td>\n",
       "      <td>101.00</td>\n",
       "    </tr>\n",
       "    <tr>\n",
       "      <td>mean</td>\n",
       "      <td>5.49</td>\n",
       "    </tr>\n",
       "    <tr>\n",
       "      <td>std</td>\n",
       "      <td>13.12</td>\n",
       "    </tr>\n",
       "    <tr>\n",
       "      <td>min</td>\n",
       "      <td>1.00</td>\n",
       "    </tr>\n",
       "    <tr>\n",
       "      <td>25%</td>\n",
       "      <td>2.00</td>\n",
       "    </tr>\n",
       "    <tr>\n",
       "      <td>50%</td>\n",
       "      <td>3.00</td>\n",
       "    </tr>\n",
       "    <tr>\n",
       "      <td>75%</td>\n",
       "      <td>5.87</td>\n",
       "    </tr>\n",
       "    <tr>\n",
       "      <td>max</td>\n",
       "      <td>129.77</td>\n",
       "    </tr>\n",
       "  </tbody>\n",
       "</table>\n",
       "</div>"
      ],
      "text/plain": [
       "       average_flights\n",
       "count           101.00\n",
       "mean              5.49\n",
       "std              13.12\n",
       "min               1.00\n",
       "25%               2.00\n",
       "50%               3.00\n",
       "75%               5.87\n",
       "max             129.77"
      ]
     },
     "execution_count": 16,
     "metadata": {},
     "output_type": "execute_result"
    }
   ],
   "source": [
    "df_city.describe()"
   ]
  },
  {
   "cell_type": "code",
   "execution_count": 17,
   "metadata": {},
   "outputs": [
    {
     "data": {
      "image/png": "[encoded data removed]",
      "text/plain": [
       "<Figure size 1440x2880 with 1 Axes>"
      ]
     },
     "metadata": {
      "needs_background": "light"
     },
     "output_type": "display_data"
    }
   ],
   "source": [
    "df_city.plot(\n",
    "    x = 'city',\n",
    "    kind = 'barh', \n",
    "    figsize = (20,40), \n",
    "    grid = True, \n",
    "    legend=False\n",
    ")\n",
    "\n",
    "plt.xlabel('Количество перелетов')\n",
    "plt.ylabel('Город')\n",
    "plt.figtext(.5,.9,'Структура полетов по городам', fontsize=27, ha='center')\n",
    "#plt.xticks(rotation=45) #угол наклона подписей\n",
    "plt.show()"
   ]
  },
  {
   "cell_type": "markdown",
   "metadata": {},
   "source": [
    "Среднее количество перелетов в сутки в августе 2018 - около 6. Ожидаемый лидер по числу перелетов - это Москва - крупнейший город РФ с тремя аэропортами. Среднее количество перелетов в Москву - почти 130 рейсов в сутки."
   ]
  },
  {
   "cell_type": "markdown",
   "metadata": {},
   "source": [
    "### Топ-10 городов и количество рейсов"
   ]
  },
  {
   "cell_type": "markdown",
   "metadata": {},
   "source": [
    "Определим топ-10 городов по количеству перелетов в августе 2018."
   ]
  },
  {
   "cell_type": "code",
   "execution_count": 18,
   "metadata": {
    "scrolled": true
   },
   "outputs": [
    {
     "data": {
      "text/html": [
       "<style  type=\"text/css\" >\n",
       "</style><table id=\"T_0e4c193c_0a9e_11ec_8380_02420a390562\" ><thead>    <tr>        <th class=\"blank level0\" ></th>        <th class=\"col_heading level0 col0\" >city</th>        <th class=\"col_heading level0 col1\" >average_flights</th>        <th class=\"col_heading level0 col2\" >ratio</th>    </tr></thead><tbody>\n",
       "                <tr>\n",
       "                        <th id=\"T_0e4c193c_0a9e_11ec_8380_02420a390562level0_row0\" class=\"row_heading level0 row0\" >43</th>\n",
       "                        <td id=\"T_0e4c193c_0a9e_11ec_8380_02420a390562row0_col0\" class=\"data row0 col0\" >Москва</td>\n",
       "                        <td id=\"T_0e4c193c_0a9e_11ec_8380_02420a390562row0_col1\" class=\"data row0 col1\" >129.774</td>\n",
       "                        <td id=\"T_0e4c193c_0a9e_11ec_8380_02420a390562row0_col2\" class=\"data row0 col2\" >51.77%</td>\n",
       "            </tr>\n",
       "            <tr>\n",
       "                        <th id=\"T_0e4c193c_0a9e_11ec_8380_02420a390562level0_row1\" class=\"row_heading level0 row1\" >70</th>\n",
       "                        <td id=\"T_0e4c193c_0a9e_11ec_8380_02420a390562row1_col0\" class=\"data row1 col0\" >Санкт-Петербург</td>\n",
       "                        <td id=\"T_0e4c193c_0a9e_11ec_8380_02420a390562row1_col1\" class=\"data row1 col1\" >31.1613</td>\n",
       "                        <td id=\"T_0e4c193c_0a9e_11ec_8380_02420a390562row1_col2\" class=\"data row1 col2\" >12.43%</td>\n",
       "            </tr>\n",
       "            <tr>\n",
       "                        <th id=\"T_0e4c193c_0a9e_11ec_8380_02420a390562level0_row2\" class=\"row_heading level0 row2\" >54</th>\n",
       "                        <td id=\"T_0e4c193c_0a9e_11ec_8380_02420a390562row2_col0\" class=\"data row2 col0\" >Новосибирск</td>\n",
       "                        <td id=\"T_0e4c193c_0a9e_11ec_8380_02420a390562row2_col1\" class=\"data row2 col1\" >17.3226</td>\n",
       "                        <td id=\"T_0e4c193c_0a9e_11ec_8380_02420a390562row2_col2\" class=\"data row2 col2\" >6.91%</td>\n",
       "            </tr>\n",
       "            <tr>\n",
       "                        <th id=\"T_0e4c193c_0a9e_11ec_8380_02420a390562level0_row3\" class=\"row_heading level0 row3\" >33</th>\n",
       "                        <td id=\"T_0e4c193c_0a9e_11ec_8380_02420a390562row3_col0\" class=\"data row3 col0\" >Красноярск</td>\n",
       "                        <td id=\"T_0e4c193c_0a9e_11ec_8380_02420a390562row3_col1\" class=\"data row3 col1\" >11.5806</td>\n",
       "                        <td id=\"T_0e4c193c_0a9e_11ec_8380_02420a390562row3_col2\" class=\"data row3 col2\" >4.62%</td>\n",
       "            </tr>\n",
       "            <tr>\n",
       "                        <th id=\"T_0e4c193c_0a9e_11ec_8380_02420a390562level0_row4\" class=\"row_heading level0 row4\" >20</th>\n",
       "                        <td id=\"T_0e4c193c_0a9e_11ec_8380_02420a390562row4_col0\" class=\"data row4 col0\" >Екатеринбург</td>\n",
       "                        <td id=\"T_0e4c193c_0a9e_11ec_8380_02420a390562row4_col1\" class=\"data row4 col1\" >11.3226</td>\n",
       "                        <td id=\"T_0e4c193c_0a9e_11ec_8380_02420a390562row4_col2\" class=\"data row4 col2\" >4.52%</td>\n",
       "            </tr>\n",
       "            <tr>\n",
       "                        <th id=\"T_0e4c193c_0a9e_11ec_8380_02420a390562level0_row5\" class=\"row_heading level0 row5\" >67</th>\n",
       "                        <td id=\"T_0e4c193c_0a9e_11ec_8380_02420a390562row5_col0\" class=\"data row5 col0\" >Ростов-на-Дону</td>\n",
       "                        <td id=\"T_0e4c193c_0a9e_11ec_8380_02420a390562row5_col1\" class=\"data row5 col1\" >10.1935</td>\n",
       "                        <td id=\"T_0e4c193c_0a9e_11ec_8380_02420a390562row5_col2\" class=\"data row5 col2\" >4.07%</td>\n",
       "            </tr>\n",
       "            <tr>\n",
       "                        <th id=\"T_0e4c193c_0a9e_11ec_8380_02420a390562level0_row6\" class=\"row_heading level0 row6\" >63</th>\n",
       "                        <td id=\"T_0e4c193c_0a9e_11ec_8380_02420a390562row6_col0\" class=\"data row6 col0\" >Пермь</td>\n",
       "                        <td id=\"T_0e4c193c_0a9e_11ec_8380_02420a390562row6_col1\" class=\"data row6 col1\" >10.129</td>\n",
       "                        <td id=\"T_0e4c193c_0a9e_11ec_8380_02420a390562row6_col2\" class=\"data row6 col2\" >4.04%</td>\n",
       "            </tr>\n",
       "            <tr>\n",
       "                        <th id=\"T_0e4c193c_0a9e_11ec_8380_02420a390562level0_row7\" class=\"row_heading level0 row7\" >10</th>\n",
       "                        <td id=\"T_0e4c193c_0a9e_11ec_8380_02420a390562row7_col0\" class=\"data row7 col0\" >Брянск</td>\n",
       "                        <td id=\"T_0e4c193c_0a9e_11ec_8380_02420a390562row7_col1\" class=\"data row7 col1\" >10</td>\n",
       "                        <td id=\"T_0e4c193c_0a9e_11ec_8380_02420a390562row7_col2\" class=\"data row7 col2\" >3.99%</td>\n",
       "            </tr>\n",
       "            <tr>\n",
       "                        <th id=\"T_0e4c193c_0a9e_11ec_8380_02420a390562level0_row8\" class=\"row_heading level0 row8\" >74</th>\n",
       "                        <td id=\"T_0e4c193c_0a9e_11ec_8380_02420a390562row8_col0\" class=\"data row8 col0\" >Сочи</td>\n",
       "                        <td id=\"T_0e4c193c_0a9e_11ec_8380_02420a390562row8_col1\" class=\"data row8 col1\" >9.6129</td>\n",
       "                        <td id=\"T_0e4c193c_0a9e_11ec_8380_02420a390562row8_col2\" class=\"data row8 col2\" >3.83%</td>\n",
       "            </tr>\n",
       "            <tr>\n",
       "                        <th id=\"T_0e4c193c_0a9e_11ec_8380_02420a390562level0_row9\" class=\"row_heading level0 row9\" >84</th>\n",
       "                        <td id=\"T_0e4c193c_0a9e_11ec_8380_02420a390562row9_col0\" class=\"data row9 col0\" >Ульяновск</td>\n",
       "                        <td id=\"T_0e4c193c_0a9e_11ec_8380_02420a390562row9_col1\" class=\"data row9 col1\" >9.58065</td>\n",
       "                        <td id=\"T_0e4c193c_0a9e_11ec_8380_02420a390562row9_col2\" class=\"data row9 col2\" >3.82%</td>\n",
       "            </tr>\n",
       "    </tbody></table>"
      ],
      "text/plain": [
       "<pandas.io.formats.style.Styler at 0x7f43b7fbfcd0>"
      ]
     },
     "metadata": {},
     "output_type": "display_data"
    }
   ],
   "source": [
    "# Топ-10 городов по количеству перелетов\n",
    "top_10 = df_city.sort_values(by = 'average_flights', ascending = False).head(10)\n",
    "top_10['ratio'] = top_10['average_flights'] / top_10['average_flights'].sum()\n",
    "display(top_10.style.format({'ratio':\"{0:.2%}\"}))"
   ]
  },
  {
   "cell_type": "code",
   "execution_count": 19,
   "metadata": {},
   "outputs": [
    {
     "data": {
      "image/png": "[encoded data removed]",
      "text/plain": [
       "<Figure size 1440x720 with 1 Axes>"
      ]
     },
     "metadata": {},
     "output_type": "display_data"
    }
   ],
   "source": [
    "fig, axs = plt.subplots(figsize=(20, 10))\n",
    "explode = [0.07, 0.05, 0.05, 0, 0, 0, 0, 0, 0, 0]\n",
    "top_10['average_flights'].plot(\n",
    "    kind='pie',\n",
    "    explode=explode,\n",
    "    startangle=45,\n",
    "    labels = top_10['city'].to_list(),\n",
    "    #labeldistance = 1.1,\n",
    "    autopct='%1.1f%%',\n",
    "    shadow=True, \n",
    "    counterclock = False,\n",
    "    #frame = True,\n",
    "    #rotatelabels = True\n",
    ")\n",
    "axs.axis('equal')  # Equal aspect ratio ensures that pie is drawn as a circle.\n",
    "\n",
    "plt.xlabel('Город назначения')\n",
    "plt.ylabel('Доля в полетах августа 2018')\n",
    "plt.figtext(.5,.9,'Структура полетов по городам', fontsize=27, ha='center')\n",
    "plt.show()"
   ]
  },
  {
   "cell_type": "markdown",
   "metadata": {},
   "source": [
    "Свыше 50% перелетов осуществляется в Москву, 12,4% - в Санкт-Петербург, 6,9% - в Новосибирск. Москва и Санкт-Петербург - крупные центры бизнеса и туризма. Структура перелетов лишь подтверждает это."
   ]
  },
  {
   "cell_type": "markdown",
   "metadata": {},
   "source": [
    "## Общий вывод"
   ]
  },
  {
   "cell_type": "markdown",
   "metadata": {},
   "source": [
    "В рамках данного исследования проанализированы выборка перелетов в августе 2018 в разрезе городов назначения и выборка среднего количества перелетов в сентябре 2018 в разрезе городов.  \n",
    "Датасеты получены в результате работы с базой данных, предобработки не требуют.  \n",
    "\n",
    "В структуре перелетов сентября 2018 года 81% перевозок осуществляется самолетами вместимостью до 100 человек - Cessna 208 Caravan, Bombardier CRJ-200, Sukhoi SuperJet-100. Характерная ситуация для перевозок внутри страны. Это соответствует основному направлению компании F9.  \n",
    "\n",
    "Среднее количество перелетов в сутки в августе 2018 - около 6. Ожидаемый лидер по числу перелетов - это Москва - крупнейший город РФ с тремя аэропортами. Среднее количество перелетов в Москву - почти 130 рейсов в сутки - это 50% всех месячных перелетов самолетами F9.\n",
    "В тройке лидеров по числу перелетов кроме Москвы - Санкт-Петербург (31 перелет или 12,4% общего количества перелетов) и Новосибирск (17 перелетов или 6,9% общего числа перелетов). \n"
   ]
  }
 ],
 "metadata": {
  "ExecuteTimeLog": [
   {
    "duration": 366,
    "start_time": "2021-08-30T21:57:32.945Z"
   },
   {
    "duration": 1534,
    "start_time": "2021-08-30T21:57:39.033Z"
   },
   {
    "duration": 2345,
    "start_time": "2021-08-30T21:57:40.569Z"
   },
   {
    "duration": 20,
    "start_time": "2021-08-30T21:58:09.075Z"
   },
   {
    "duration": 19,
    "start_time": "2021-08-30T21:59:41.554Z"
   },
   {
    "duration": 307,
    "start_time": "2021-08-30T21:59:56.465Z"
   },
   {
    "duration": 19,
    "start_time": "2021-08-30T22:00:01.636Z"
   },
   {
    "duration": 9,
    "start_time": "2021-08-30T22:00:02.135Z"
   },
   {
    "duration": 13,
    "start_time": "2021-08-30T22:00:17.725Z"
   },
   {
    "duration": 115,
    "start_time": "2021-08-30T22:00:22.585Z"
   },
   {
    "duration": 9,
    "start_time": "2021-08-30T22:00:26.515Z"
   },
   {
    "duration": 13,
    "start_time": "2021-08-30T22:00:56.855Z"
   },
   {
    "duration": 9,
    "start_time": "2021-08-30T22:01:03.904Z"
   },
   {
    "duration": 9,
    "start_time": "2021-08-30T22:01:18.064Z"
   },
   {
    "duration": 17,
    "start_time": "2021-08-30T22:10:06.184Z"
   },
   {
    "duration": 304,
    "start_time": "2021-08-30T22:15:45.654Z"
   },
   {
    "duration": 125,
    "start_time": "2021-08-30T22:15:49.986Z"
   },
   {
    "duration": 19,
    "start_time": "2021-08-30T22:15:50.113Z"
   },
   {
    "duration": 13,
    "start_time": "2021-08-30T22:15:50.135Z"
   },
   {
    "duration": 9,
    "start_time": "2021-08-30T22:15:50.151Z"
   },
   {
    "duration": 19,
    "start_time": "2021-08-30T22:15:50.163Z"
   },
   {
    "duration": 16,
    "start_time": "2021-08-30T22:15:50.185Z"
   },
   {
    "duration": 21,
    "start_time": "2021-08-30T22:15:50.204Z"
   },
   {
    "duration": 16,
    "start_time": "2021-08-30T22:15:50.227Z"
   },
   {
    "duration": 9,
    "start_time": "2021-08-30T22:16:25.082Z"
   },
   {
    "duration": 16,
    "start_time": "2021-08-30T22:16:35.074Z"
   },
   {
    "duration": 6,
    "start_time": "2021-08-30T22:18:35.224Z"
   },
   {
    "duration": 8,
    "start_time": "2021-08-30T22:18:54.175Z"
   },
   {
    "duration": 8,
    "start_time": "2021-08-30T22:20:05.575Z"
   },
   {
    "duration": 105,
    "start_time": "2021-08-30T22:20:54.718Z"
   },
   {
    "duration": 12,
    "start_time": "2021-08-30T22:21:01.694Z"
   },
   {
    "duration": 12,
    "start_time": "2021-08-30T22:21:11.114Z"
   },
   {
    "duration": 12,
    "start_time": "2021-08-30T22:21:30.805Z"
   },
   {
    "duration": 12,
    "start_time": "2021-08-30T22:25:07.244Z"
   },
   {
    "duration": 11,
    "start_time": "2021-08-30T22:28:33.852Z"
   },
   {
    "duration": 6,
    "start_time": "2021-08-30T22:42:26.875Z"
   },
   {
    "duration": 338,
    "start_time": "2021-08-30T22:46:27.384Z"
   },
   {
    "duration": 5,
    "start_time": "2021-08-30T22:47:30.770Z"
   },
   {
    "duration": 10,
    "start_time": "2021-08-30T22:47:36.645Z"
   },
   {
    "duration": 13,
    "start_time": "2021-08-30T22:49:10.614Z"
   },
   {
    "duration": 12,
    "start_time": "2021-08-30T22:49:16.824Z"
   },
   {
    "duration": 15,
    "start_time": "2021-08-30T22:50:07.774Z"
   },
   {
    "duration": 6,
    "start_time": "2021-08-30T22:50:54.854Z"
   },
   {
    "duration": 15,
    "start_time": "2021-08-30T23:15:16.625Z"
   },
   {
    "duration": 720,
    "start_time": "2021-08-30T23:16:12.695Z"
   },
   {
    "duration": 14,
    "start_time": "2021-08-30T23:16:53.885Z"
   },
   {
    "duration": 12,
    "start_time": "2021-08-30T23:17:51.536Z"
   },
   {
    "duration": 16,
    "start_time": "2021-08-30T23:19:18.625Z"
   },
   {
    "duration": 13,
    "start_time": "2021-08-30T23:19:33.175Z"
   },
   {
    "duration": 5,
    "start_time": "2021-08-30T23:25:25.946Z"
   },
   {
    "duration": 21,
    "start_time": "2021-08-30T23:25:25.955Z"
   },
   {
    "duration": 10,
    "start_time": "2021-08-30T23:25:25.980Z"
   },
   {
    "duration": 14,
    "start_time": "2021-08-30T23:25:25.993Z"
   },
   {
    "duration": 100,
    "start_time": "2021-08-30T23:25:26.009Z"
   },
   {
    "duration": -60,
    "start_time": "2021-08-30T23:25:26.172Z"
   },
   {
    "duration": -61,
    "start_time": "2021-08-30T23:25:26.174Z"
   },
   {
    "duration": -65,
    "start_time": "2021-08-30T23:25:26.180Z"
   },
   {
    "duration": -67,
    "start_time": "2021-08-30T23:25:26.183Z"
   },
   {
    "duration": -68,
    "start_time": "2021-08-30T23:25:26.185Z"
   },
   {
    "duration": -68,
    "start_time": "2021-08-30T23:25:26.187Z"
   },
   {
    "duration": -68,
    "start_time": "2021-08-30T23:25:26.189Z"
   },
   {
    "duration": -69,
    "start_time": "2021-08-30T23:25:26.191Z"
   },
   {
    "duration": 6,
    "start_time": "2021-08-30T23:26:05.048Z"
   },
   {
    "duration": 26,
    "start_time": "2021-08-30T23:26:05.058Z"
   },
   {
    "duration": 12,
    "start_time": "2021-08-30T23:26:05.087Z"
   },
   {
    "duration": 16,
    "start_time": "2021-08-30T23:26:05.103Z"
   },
   {
    "duration": 22,
    "start_time": "2021-08-30T23:26:05.122Z"
   },
   {
    "duration": 12,
    "start_time": "2021-08-30T23:26:05.147Z"
   },
   {
    "duration": 12,
    "start_time": "2021-08-30T23:26:05.162Z"
   },
   {
    "duration": 44,
    "start_time": "2021-08-30T23:26:05.178Z"
   },
   {
    "duration": 16,
    "start_time": "2021-08-30T23:26:05.227Z"
   },
   {
    "duration": 18,
    "start_time": "2021-08-30T23:26:05.246Z"
   },
   {
    "duration": 16,
    "start_time": "2021-08-30T23:26:05.267Z"
   },
   {
    "duration": 36,
    "start_time": "2021-08-30T23:26:05.286Z"
   },
   {
    "duration": 20,
    "start_time": "2021-08-30T23:26:05.325Z"
   },
   {
    "duration": 6,
    "start_time": "2021-08-30T23:28:31.363Z"
   },
   {
    "duration": 3,
    "start_time": "2021-08-30T23:28:31.745Z"
   },
   {
    "duration": 13,
    "start_time": "2021-08-30T23:31:21.610Z"
   },
   {
    "duration": 11,
    "start_time": "2021-08-30T23:34:33.124Z"
   },
   {
    "duration": 516,
    "start_time": "2021-08-30T23:35:30.536Z"
   },
   {
    "duration": 858,
    "start_time": "2021-08-30T23:36:10.585Z"
   },
   {
    "duration": 496,
    "start_time": "2021-08-30T23:36:51.645Z"
   },
   {
    "duration": 522,
    "start_time": "2021-08-30T23:38:14.494Z"
   },
   {
    "duration": 701,
    "start_time": "2021-08-30T23:39:41.185Z"
   },
   {
    "duration": 13,
    "start_time": "2021-08-30T23:40:18.365Z"
   },
   {
    "duration": 512,
    "start_time": "2021-08-30T23:40:19.442Z"
   },
   {
    "duration": 6,
    "start_time": "2021-08-30T23:40:37.514Z"
   },
   {
    "duration": 498,
    "start_time": "2021-08-30T23:40:38.125Z"
   },
   {
    "duration": 121,
    "start_time": "2021-08-30T23:41:55.594Z"
   },
   {
    "duration": 6,
    "start_time": "2021-08-30T23:42:10.061Z"
   },
   {
    "duration": 13,
    "start_time": "2021-08-30T23:42:17.625Z"
   },
   {
    "duration": 4,
    "start_time": "2021-08-30T23:42:27.147Z"
   },
   {
    "duration": 22,
    "start_time": "2021-08-30T23:42:27.154Z"
   },
   {
    "duration": 10,
    "start_time": "2021-08-30T23:42:27.179Z"
   },
   {
    "duration": 10,
    "start_time": "2021-08-30T23:42:27.192Z"
   },
   {
    "duration": 20,
    "start_time": "2021-08-30T23:42:27.205Z"
   },
   {
    "duration": 8,
    "start_time": "2021-08-30T23:42:27.227Z"
   },
   {
    "duration": 10,
    "start_time": "2021-08-30T23:42:27.238Z"
   },
   {
    "duration": 20,
    "start_time": "2021-08-30T23:42:27.250Z"
   },
   {
    "duration": 4,
    "start_time": "2021-08-30T23:42:27.273Z"
   },
   {
    "duration": 670,
    "start_time": "2021-08-30T23:42:27.280Z"
   },
   {
    "duration": 11,
    "start_time": "2021-08-30T23:42:27.953Z"
   },
   {
    "duration": 7,
    "start_time": "2021-08-30T23:42:27.966Z"
   },
   {
    "duration": 5,
    "start_time": "2021-08-30T23:42:27.975Z"
   },
   {
    "duration": 48,
    "start_time": "2021-08-30T23:42:27.982Z"
   },
   {
    "duration": 12,
    "start_time": "2021-08-30T23:42:28.032Z"
   },
   {
    "duration": 10,
    "start_time": "2021-08-30T23:43:12.955Z"
   },
   {
    "duration": 5,
    "start_time": "2021-08-30T23:43:18.196Z"
   },
   {
    "duration": 28,
    "start_time": "2021-08-30T23:43:18.203Z"
   },
   {
    "duration": 12,
    "start_time": "2021-08-30T23:43:18.234Z"
   },
   {
    "duration": 23,
    "start_time": "2021-08-30T23:43:18.248Z"
   },
   {
    "duration": 24,
    "start_time": "2021-08-30T23:43:18.273Z"
   },
   {
    "duration": 8,
    "start_time": "2021-08-30T23:43:18.300Z"
   },
   {
    "duration": 11,
    "start_time": "2021-08-30T23:43:18.310Z"
   },
   {
    "duration": 16,
    "start_time": "2021-08-30T23:43:18.323Z"
   },
   {
    "duration": 5,
    "start_time": "2021-08-30T23:43:18.343Z"
   },
   {
    "duration": 532,
    "start_time": "2021-08-30T23:43:18.350Z"
   },
   {
    "duration": 12,
    "start_time": "2021-08-30T23:43:18.886Z"
   },
   {
    "duration": 19,
    "start_time": "2021-08-30T23:43:18.901Z"
   },
   {
    "duration": 5,
    "start_time": "2021-08-30T23:43:18.923Z"
   },
   {
    "duration": 24,
    "start_time": "2021-08-30T23:43:18.930Z"
   },
   {
    "duration": 120,
    "start_time": "2021-08-30T23:43:18.957Z"
   },
   {
    "duration": 12,
    "start_time": "2021-08-30T23:43:31.294Z"
   },
   {
    "duration": 16,
    "start_time": "2021-08-30T23:45:58.007Z"
   },
   {
    "duration": 438,
    "start_time": "2021-08-30T23:46:28.185Z"
   },
   {
    "duration": 18,
    "start_time": "2021-08-30T23:46:46.997Z"
   },
   {
    "duration": 4,
    "start_time": "2021-08-30T23:47:23.324Z"
   },
   {
    "duration": 21,
    "start_time": "2021-08-30T23:47:23.331Z"
   },
   {
    "duration": 9,
    "start_time": "2021-08-30T23:47:23.355Z"
   },
   {
    "duration": 10,
    "start_time": "2021-08-30T23:47:23.366Z"
   },
   {
    "duration": 22,
    "start_time": "2021-08-30T23:47:23.378Z"
   },
   {
    "duration": 23,
    "start_time": "2021-08-30T23:47:23.402Z"
   },
   {
    "duration": 10,
    "start_time": "2021-08-30T23:47:23.427Z"
   },
   {
    "duration": 19,
    "start_time": "2021-08-30T23:47:23.441Z"
   },
   {
    "duration": 4,
    "start_time": "2021-08-30T23:47:23.463Z"
   },
   {
    "duration": 537,
    "start_time": "2021-08-30T23:47:23.470Z"
   },
   {
    "duration": 11,
    "start_time": "2021-08-30T23:47:24.017Z"
   },
   {
    "duration": 13,
    "start_time": "2021-08-30T23:47:24.030Z"
   },
   {
    "duration": 6,
    "start_time": "2021-08-30T23:47:24.045Z"
   },
   {
    "duration": 23,
    "start_time": "2021-08-30T23:47:24.054Z"
   },
   {
    "duration": 43,
    "start_time": "2021-08-30T23:47:24.079Z"
   },
   {
    "duration": 4,
    "start_time": "2021-08-30T23:49:22.544Z"
   },
   {
    "duration": 14,
    "start_time": "2021-08-30T23:49:23.413Z"
   },
   {
    "duration": 15,
    "start_time": "2021-08-30T23:49:33.934Z"
   },
   {
    "duration": 18,
    "start_time": "2021-08-30T23:49:58.654Z"
   },
   {
    "duration": 5,
    "start_time": "2021-08-30T23:50:40.106Z"
   },
   {
    "duration": 32,
    "start_time": "2021-08-30T23:50:40.114Z"
   },
   {
    "duration": 9,
    "start_time": "2021-08-30T23:50:40.149Z"
   },
   {
    "duration": 15,
    "start_time": "2021-08-30T23:50:40.161Z"
   },
   {
    "duration": 20,
    "start_time": "2021-08-30T23:50:40.178Z"
   },
   {
    "duration": 9,
    "start_time": "2021-08-30T23:50:40.201Z"
   },
   {
    "duration": 10,
    "start_time": "2021-08-30T23:50:40.212Z"
   },
   {
    "duration": 17,
    "start_time": "2021-08-30T23:50:40.225Z"
   },
   {
    "duration": 5,
    "start_time": "2021-08-30T23:50:40.246Z"
   },
   {
    "duration": 545,
    "start_time": "2021-08-30T23:50:40.254Z"
   },
   {
    "duration": 16,
    "start_time": "2021-08-30T23:50:40.802Z"
   },
   {
    "duration": 19,
    "start_time": "2021-08-30T23:50:40.821Z"
   },
   {
    "duration": 11,
    "start_time": "2021-08-30T23:50:40.843Z"
   },
   {
    "duration": 36,
    "start_time": "2021-08-30T23:50:40.856Z"
   },
   {
    "duration": 21,
    "start_time": "2021-08-30T23:50:40.894Z"
   },
   {
    "duration": 797,
    "start_time": "2021-08-30T23:58:06.205Z"
   },
   {
    "duration": 528,
    "start_time": "2021-08-30T23:58:38.883Z"
   },
   {
    "duration": 511,
    "start_time": "2021-08-30T23:59:22.144Z"
   },
   {
    "duration": 533,
    "start_time": "2021-08-31T00:03:16.145Z"
   },
   {
    "duration": 725,
    "start_time": "2021-08-31T00:03:22.745Z"
   },
   {
    "duration": 520,
    "start_time": "2021-08-31T00:03:34.425Z"
   },
   {
    "duration": 509,
    "start_time": "2021-08-31T00:03:44.475Z"
   },
   {
    "duration": 14,
    "start_time": "2021-08-31T00:05:23.370Z"
   },
   {
    "duration": 1929,
    "start_time": "2021-08-31T00:22:36.130Z"
   },
   {
    "duration": 1874,
    "start_time": "2021-08-31T00:24:30.545Z"
   },
   {
    "duration": 2560,
    "start_time": "2021-08-31T00:24:45.685Z"
   },
   {
    "duration": 2713,
    "start_time": "2021-08-31T00:27:51.856Z"
   },
   {
    "duration": 333,
    "start_time": "2021-08-31T00:28:44.135Z"
   },
   {
    "duration": 2541,
    "start_time": "2021-08-31T00:28:55.685Z"
   },
   {
    "duration": 2578,
    "start_time": "2021-08-31T00:29:32.255Z"
   },
   {
    "duration": 2614,
    "start_time": "2021-08-31T00:29:43.003Z"
   },
   {
    "duration": 5,
    "start_time": "2021-08-31T11:47:40.260Z"
   },
   {
    "duration": 2589,
    "start_time": "2021-08-31T11:47:40.977Z"
   },
   {
    "duration": 6,
    "start_time": "2021-08-31T11:48:06.041Z"
   },
   {
    "duration": 2632,
    "start_time": "2021-08-31T11:48:07.665Z"
   },
   {
    "duration": 2976,
    "start_time": "2021-08-31T11:50:11.749Z"
   },
   {
    "duration": 3068,
    "start_time": "2021-08-31T11:50:38.580Z"
   },
   {
    "duration": 2592,
    "start_time": "2021-08-31T11:52:02.270Z"
   },
   {
    "duration": 107,
    "start_time": "2021-08-31T11:57:06.417Z"
   },
   {
    "duration": 340,
    "start_time": "2021-08-31T11:58:03.137Z"
   },
   {
    "duration": 335,
    "start_time": "2021-08-31T11:58:32.986Z"
   },
   {
    "duration": 328,
    "start_time": "2021-08-31T11:58:41.527Z"
   },
   {
    "duration": 10,
    "start_time": "2021-08-31T11:59:04.906Z"
   },
   {
    "duration": 5,
    "start_time": "2021-08-31T12:00:02.076Z"
   },
   {
    "duration": 1487,
    "start_time": "2021-08-31T12:00:02.084Z"
   },
   {
    "duration": 17,
    "start_time": "2021-08-31T12:00:03.576Z"
   },
   {
    "duration": 16,
    "start_time": "2021-08-31T12:00:03.596Z"
   },
   {
    "duration": 27,
    "start_time": "2021-08-31T12:00:03.615Z"
   },
   {
    "duration": 10,
    "start_time": "2021-08-31T12:00:03.645Z"
   },
   {
    "duration": 23,
    "start_time": "2021-08-31T12:00:03.658Z"
   },
   {
    "duration": 19,
    "start_time": "2021-08-31T12:00:03.684Z"
   },
   {
    "duration": 10,
    "start_time": "2021-08-31T12:00:03.707Z"
   },
   {
    "duration": 528,
    "start_time": "2021-08-31T12:00:03.720Z"
   },
   {
    "duration": 12,
    "start_time": "2021-08-31T12:00:04.250Z"
   },
   {
    "duration": 18,
    "start_time": "2021-08-31T12:00:04.265Z"
   },
   {
    "duration": 12,
    "start_time": "2021-08-31T12:00:04.286Z"
   },
   {
    "duration": 19,
    "start_time": "2021-08-31T12:00:04.316Z"
   },
   {
    "duration": 5,
    "start_time": "2021-08-31T12:00:04.337Z"
   },
   {
    "duration": 24,
    "start_time": "2021-08-31T12:00:04.344Z"
   },
   {
    "duration": 484,
    "start_time": "2021-08-31T12:00:04.371Z"
   },
   {
    "duration": 1146,
    "start_time": "2021-08-31T12:00:03.711Z"
   },
   {
    "duration": 1146,
    "start_time": "2021-08-31T12:00:03.713Z"
   },
   {
    "duration": 331,
    "start_time": "2021-08-31T12:03:50.957Z"
   },
   {
    "duration": 2677,
    "start_time": "2021-08-31T12:03:55.895Z"
   },
   {
    "duration": 3483,
    "start_time": "2021-08-31T12:04:23.926Z"
   },
   {
    "duration": 3332,
    "start_time": "2021-08-31T12:04:44.336Z"
   },
   {
    "duration": 3553,
    "start_time": "2021-08-31T12:05:05.555Z"
   },
   {
    "duration": 5,
    "start_time": "2021-08-31T12:10:13.398Z"
   },
   {
    "duration": 25,
    "start_time": "2021-08-31T12:10:13.405Z"
   },
   {
    "duration": 10,
    "start_time": "2021-08-31T12:10:13.433Z"
   },
   {
    "duration": 9,
    "start_time": "2021-08-31T12:10:13.446Z"
   },
   {
    "duration": 20,
    "start_time": "2021-08-31T12:10:13.457Z"
   },
   {
    "duration": 8,
    "start_time": "2021-08-31T12:10:13.480Z"
   },
   {
    "duration": 26,
    "start_time": "2021-08-31T12:10:13.491Z"
   },
   {
    "duration": 17,
    "start_time": "2021-08-31T12:10:13.520Z"
   },
   {
    "duration": 4,
    "start_time": "2021-08-31T12:10:13.541Z"
   },
   {
    "duration": 544,
    "start_time": "2021-08-31T12:10:13.548Z"
   },
   {
    "duration": 28,
    "start_time": "2021-08-31T12:10:14.095Z"
   },
   {
    "duration": 7,
    "start_time": "2021-08-31T12:10:14.126Z"
   },
   {
    "duration": 9,
    "start_time": "2021-08-31T12:10:14.136Z"
   },
   {
    "duration": 21,
    "start_time": "2021-08-31T12:10:14.147Z"
   },
   {
    "duration": 13,
    "start_time": "2021-08-31T12:10:14.170Z"
   },
   {
    "duration": 3753,
    "start_time": "2021-08-31T12:10:14.185Z"
   },
   {
    "duration": 13,
    "start_time": "2021-08-31T12:10:17.940Z"
   },
   {
    "duration": 534,
    "start_time": "2021-08-31T12:10:17.956Z"
   },
   {
    "duration": 3988,
    "start_time": "2021-08-31T12:15:49.767Z"
   },
   {
    "duration": 3692,
    "start_time": "2021-08-31T14:31:36.962Z"
   },
   {
    "duration": 17,
    "start_time": "2021-08-31T14:45:20.072Z"
   },
   {
    "duration": 1487,
    "start_time": "2021-08-31T16:06:50.216Z"
   },
   {
    "duration": 20,
    "start_time": "2021-08-31T16:06:51.705Z"
   },
   {
    "duration": 10,
    "start_time": "2021-08-31T16:06:51.729Z"
   },
   {
    "duration": 17,
    "start_time": "2021-08-31T16:06:51.741Z"
   },
   {
    "duration": 20,
    "start_time": "2021-08-31T16:06:51.760Z"
   },
   {
    "duration": 14,
    "start_time": "2021-08-31T16:06:51.783Z"
   },
   {
    "duration": 23,
    "start_time": "2021-08-31T16:06:51.800Z"
   },
   {
    "duration": 19,
    "start_time": "2021-08-31T16:06:51.827Z"
   },
   {
    "duration": 6,
    "start_time": "2021-08-31T16:06:51.849Z"
   },
   {
    "duration": 559,
    "start_time": "2021-08-31T16:06:51.858Z"
   },
   {
    "duration": 709,
    "start_time": "2021-08-31T16:06:52.420Z"
   },
   {
    "duration": 6,
    "start_time": "2021-08-31T16:06:53.132Z"
   },
   {
    "duration": 7,
    "start_time": "2021-08-31T16:06:53.140Z"
   },
   {
    "duration": 27,
    "start_time": "2021-08-31T16:06:53.149Z"
   },
   {
    "duration": 8,
    "start_time": "2021-08-31T16:06:53.178Z"
   },
   {
    "duration": 43,
    "start_time": "2021-08-31T16:06:53.188Z"
   },
   {
    "duration": 3623,
    "start_time": "2021-08-31T16:06:53.233Z"
   },
   {
    "duration": 13,
    "start_time": "2021-08-31T16:06:56.858Z"
   },
   {
    "duration": 548,
    "start_time": "2021-08-31T16:06:56.873Z"
   },
   {
    "duration": 1410,
    "start_time": "2021-08-31T20:56:32.811Z"
   },
   {
    "duration": 19,
    "start_time": "2021-08-31T20:56:34.224Z"
   },
   {
    "duration": 19,
    "start_time": "2021-08-31T20:56:34.247Z"
   },
   {
    "duration": 15,
    "start_time": "2021-08-31T20:56:34.268Z"
   },
   {
    "duration": 24,
    "start_time": "2021-08-31T20:56:34.285Z"
   },
   {
    "duration": 8,
    "start_time": "2021-08-31T20:56:34.313Z"
   },
   {
    "duration": 11,
    "start_time": "2021-08-31T20:56:34.324Z"
   },
   {
    "duration": 38,
    "start_time": "2021-08-31T20:56:34.338Z"
   },
   {
    "duration": 5,
    "start_time": "2021-08-31T20:56:34.382Z"
   },
   {
    "duration": 552,
    "start_time": "2021-08-31T20:56:34.390Z"
   },
   {
    "duration": 51645,
    "start_time": "2021-08-31T20:56:34.945Z"
   },
   {
    "duration": 6,
    "start_time": "2021-08-31T20:57:26.593Z"
   },
   {
    "duration": 10,
    "start_time": "2021-08-31T20:57:26.601Z"
   },
   {
    "duration": 24,
    "start_time": "2021-08-31T20:57:26.613Z"
   },
   {
    "duration": 27,
    "start_time": "2021-08-31T20:57:26.639Z"
   },
   {
    "duration": 26,
    "start_time": "2021-08-31T20:57:26.668Z"
   },
   {
    "duration": 3544,
    "start_time": "2021-08-31T20:57:26.697Z"
   },
   {
    "duration": 25,
    "start_time": "2021-08-31T20:57:30.244Z"
   },
   {
    "duration": 536,
    "start_time": "2021-08-31T20:57:30.271Z"
   }
  ],
  "kernelspec": {
   "display_name": "Python 3",
   "language": "python",
   "name": "python3"
  },
  "language_info": {
   "codemirror_mode": {
    "name": "ipython",
    "version": 3
   },
   "file_extension": ".py",
   "mimetype": "text/x-python",
   "name": "python",
   "nbconvert_exporter": "python",
   "pygments_lexer": "ipython3",
   "version": "3.8.8"
  },
  "toc": {
   "base_numbering": 1,
   "nav_menu": {},
   "number_sections": false,
   "sideBar": true,
   "skip_h1_title": true,
   "title_cell": "Аналитика в авиакомпании",
   "title_sidebar": "Contents",
   "toc_cell": true,
   "toc_position": {},
   "toc_section_display": true,
   "toc_window_display": true
  },
  "varInspector": {
   "cols": {
    "lenName": 16,
    "lenType": 16,
    "lenVar": 40
   },
   "kernels_config": {
    "python": {
     "delete_cmd_postfix": "",
     "delete_cmd_prefix": "del ",
     "library": "var_list.py",
     "varRefreshCmd": "print(var_dic_list())"
    },
    "r": {
     "delete_cmd_postfix": ") ",
     "delete_cmd_prefix": "rm(",
     "library": "var_list.r",
     "varRefreshCmd": "cat(var_dic_list()) "
    }
   },
   "types_to_exclude": [
    "module",
    "function",
    "builtin_function_or_method",
    "instance",
    "_Feature"
   ],
   "window_display": false
  }
 },
 "nbformat": 4,
 "nbformat_minor": 4
}
