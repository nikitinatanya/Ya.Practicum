{
 "cells": [
  {
   "cell_type": "markdown",
   "metadata": {},
   "source": [
    "# Определение перспективного тарифа для телеком компании «Мегалайн»     <a class=\"tocSkip\"> "
   ]
  },
  {
   "cell_type": "markdown",
   "metadata": {
    "toc": true
   },
   "source": [
    "<h1>Содержание<span class=\"tocSkip\"></span></h1>\n",
    "<div class=\"toc\"><ul class=\"toc-item\"><li><span><a href=\"#Введение\" data-toc-modified-id=\"Введение-1\">Введение</a></span></li><li><span><a href=\"#Изучение-данных\" data-toc-modified-id=\"Изучение-данных-2\">Изучение данных</a></span><ul class=\"toc-item\"><li><span><a href=\"#Таблица-users-(информация-о-пользователях)\" data-toc-modified-id=\"Таблица-users-(информация-о-пользователях)-2.1\">Таблица users (информация о пользователях)</a></span><ul class=\"toc-item\"><li><span><a href=\"#Преобразование-типов-данных\" data-toc-modified-id=\"Преобразование-типов-данных-2.1.1\">Преобразование типов данных</a></span></li><li><span><a href=\"#Поиск-аномальных-значений\" data-toc-modified-id=\"Поиск-аномальных-значений-2.1.2\">Поиск аномальных значений</a></span></li></ul></li><li><span><a href=\"#Таблица-calls-(информация-о-звонках)\" data-toc-modified-id=\"Таблица-calls-(информация-о-звонках)-2.2\">Таблица calls (информация о звонках)</a></span><ul class=\"toc-item\"><li><span><a href=\"#Преобразование-типов-данных\" data-toc-modified-id=\"Преобразование-типов-данных-2.2.1\">Преобразование типов данных</a></span></li><li><span><a href=\"#Поиск-аномальных-значений\" data-toc-modified-id=\"Поиск-аномальных-значений-2.2.2\">Поиск аномальных значений</a></span></li></ul></li><li><span><a href=\"#Таблица-messages-(информация-о-сообщениях)\" data-toc-modified-id=\"Таблица-messages-(информация-о-сообщениях)-2.3\">Таблица messages (информация о сообщениях)</a></span><ul class=\"toc-item\"><li><span><a href=\"#Преобразование-типов-данных\" data-toc-modified-id=\"Преобразование-типов-данных-2.3.1\">Преобразование типов данных</a></span></li><li><span><a href=\"#Поиск-аномальных-значений\" data-toc-modified-id=\"Поиск-аномальных-значений-2.3.2\">Поиск аномальных значений</a></span></li></ul></li><li><span><a href=\"#Таблица-internet-(информация-об-интернет-сессиях)\" data-toc-modified-id=\"Таблица-internet-(информация-об-интернет-сессиях)-2.4\">Таблица internet (информация об интернет-сессиях)</a></span><ul class=\"toc-item\"><li><span><a href=\"#Преобразование-типов-данных\" data-toc-modified-id=\"Преобразование-типов-данных-2.4.1\">Преобразование типов данных</a></span></li><li><span><a href=\"#Поиск-аномальных-значений\" data-toc-modified-id=\"Поиск-аномальных-значений-2.4.2\">Поиск аномальных значений</a></span></li></ul></li><li><span><a href=\"#Таблица-tariffs-(информация-о-тарифах)\" data-toc-modified-id=\"Таблица-tariffs-(информация-о-тарифах)-2.5\">Таблица tariffs (информация о тарифах)</a></span></li><li><span><a href=\"#Вывод\" data-toc-modified-id=\"Вывод-2.6\">Вывод</a></span></li></ul></li><li><span><a href=\"#Подготовка-данных\" data-toc-modified-id=\"Подготовка-данных-3\">Подготовка данных</a></span><ul class=\"toc-item\"><li><span><a href=\"#Количество-сделанных-звонков-и-израсходованных-минут-разговора-по-месяцам\" data-toc-modified-id=\"Количество-сделанных-звонков-и-израсходованных-минут-разговора-по-месяцам-3.1\">Количество сделанных звонков и израсходованных минут разговора по месяцам</a></span></li><li><span><a href=\"#Количество-отправленных-сообщений-по-месяцам\" data-toc-modified-id=\"Количество-отправленных-сообщений-по-месяцам-3.2\">Количество отправленных сообщений по месяцам</a></span></li><li><span><a href=\"#Объем-израсходованного-интернет-трафика-по-месяцам\" data-toc-modified-id=\"Объем-израсходованного-интернет-трафика-по-месяцам-3.3\">Объем израсходованного интернет-трафика по месяцам</a></span></li><li><span><a href=\"#Ежемесячная-выручка-с-каждого-пользователя\" data-toc-modified-id=\"Ежемесячная-выручка-с-каждого-пользователя-3.4\">Ежемесячная выручка с каждого пользователя</a></span></li><li><span><a href=\"#Вывод\" data-toc-modified-id=\"Вывод-3.5\">Вывод</a></span></li></ul></li><li><span><a href=\"#Анализ-и-описание-данных\" data-toc-modified-id=\"Анализ-и-описание-данных-4\">Анализ и описание данных</a></span><ul class=\"toc-item\"><li><span><a href=\"#Статистические-показатели\" data-toc-modified-id=\"Статистические-показатели-4.1\">Статистические показатели</a></span></li><li><span><a href=\"#Распределение-показателей\" data-toc-modified-id=\"Распределение-показателей-4.2\">Распределение показателей</a></span></li><li><span><a href=\"#Вывод\" data-toc-modified-id=\"Вывод-4.3\">Вывод</a></span></li></ul></li><li><span><a href=\"#Проверка-гипотез\" data-toc-modified-id=\"Проверка-гипотез-5\">Проверка гипотез</a></span><ul class=\"toc-item\"><li><span><a href=\"#Средняя-выручка-пользователей-тарифов-«Ультра»-и-«Смарт»-различается\" data-toc-modified-id=\"Средняя-выручка-пользователей-тарифов-«Ультра»-и-«Смарт»-различается-5.1\">Средняя выручка пользователей тарифов «Ультра» и «Смарт» различается</a></span></li><li><span><a href=\"#Средняя-выручка-пользователей-из-Москвы-отличается-от-выручки-пользователей-из-других-регионов.\" data-toc-modified-id=\"Средняя-выручка-пользователей-из-Москвы-отличается-от-выручки-пользователей-из-других-регионов.-5.2\">Средняя выручка пользователей из Москвы отличается от выручки пользователей из других регионов.</a></span></li></ul></li><li><span><a href=\"#Общий-вывод\" data-toc-modified-id=\"Общий-вывод-6\">Общий вывод</a></span></li></ul></div>"
   ]
  },
  {
   "cell_type": "markdown",
   "metadata": {},
   "source": [
    "## Введение"
   ]
  },
  {
   "cell_type": "markdown",
   "metadata": {},
   "source": [
    "«Мегалайн» — федеральный оператора сотовой связи. Клиентам предлагают два тарифных плана: «Смарт» и «Ультра». Чтобы скорректировать рекламный бюджет необходимо понять, какой тариф приносит больше денег.\n",
    "Требуется провести предварительный анализ тарифов на небольшой выборке клиентов. В распоряжении данные 500 пользователей «Мегалайна»: кто они, откуда, каким тарифом пользуются, сколько звонков и сообщений каждый отправил за 2018 год. Необходимо проанализировать поведение клиентов и сделать вывод — какой тариф лучше.\n",
    "\n",
    "**Цель исследования**: выявить, какой тарифный план \"Смарт\" или \"Ультра\" приносит больший доход компании.\n",
    "\n",
    "В ходе исследования тарифных планов перед нами стоят следующие **вопросы**:  \n",
    "- Анализ пользователей:\n",
    "    - количество сделанных звонков и израсходованных минут разговора по месяцам;\n",
    "    - количество отправленных сообщений по месяцам;\n",
    "    - объем израсходованного интернет-трафика по месяцам;\n",
    "    - помесячную выручку с каждого пользователя.  \n",
    "\n",
    "- Описание поведения клиентов оператора в разрезе тарифов:\n",
    "    - количество минут разговора;\n",
    "    - количество сообщений;\n",
    "    - объём интернет-трафика;\n",
    "    - среднее количество;\n",
    "    - дисперсия;\n",
    "    - стандартное отклонение;\n",
    "    - гистограммы; \n",
    "    - распределения.  \n",
    "\n",
    "- Проверка гипотез:\n",
    "    - средняя выручка пользователей тарифов «Ультра» и «Смарт» различаются;\n",
    "    - средняя выручка пользователи из Москвы отличается от выручки пользователей из других регионов.  \n",
    "\n",
    "\n",
    "Исследование тарифных планов включает в себя следующие **этапы**:  \n",
    "1. Изучение общей информации.  \n",
    "2. Подготовка данных.  \n",
    "3. Анализ и описание данных.  \n",
    "4. Проверка гипотез.  \n",
    "5. Общий вывод.  \n",
    "\n",
    "**Описание тарифов.**  \n",
    "\n",
    "**Тариф «Смарт»**  \n",
    "\n",
    "Ежемесячная плата: 550 рублей  \n",
    "Включено 500 минут разговора, 50 сообщений и 15 Гб интернет-трафика  \n",
    "Стоимость услуг сверх тарифного пакета:  \n",
    "1. минута разговора: 3 рубля («Мегалайн» всегда округляет вверх значения минут и мегабайтов. Если пользователь проговорил всего 1 секунду, в тарифе засчитывается целая минута);  \n",
    "2. сообщение: 3 рубля;  \n",
    "3. 1 Гб интернет-трафика: 200 рублей.  \n",
    "\n",
    "**Тариф «Ультра»**\n",
    "Ежемесячная плата: 1950 рублей  \n",
    "Включено 3000 минут разговора, 1000 сообщений и 30 Гб интернет-трафика  \n",
    "Стоимость услуг сверх тарифного пакета:  \n",
    "1. минута разговора: 1 рубль;  \n",
    "2. сообщение: 1 рубль;  \n",
    "3. 1 Гб интернет-трафика: 150 рублей.\n",
    "\n",
    "*Примечание:*\n",
    "«Мегалайн» всегда округляет секунды до минут, а мегабайты — до гигабайт. Каждый звонок округляется отдельно: даже если он длился всего 1 секунду, будет засчитан как 1 минута.\n",
    "Для веб-трафика отдельные сессии не считаются. Вместо этого общая сумма за месяц округляется в бо́льшую сторону. Если абонент использует 1025 мегабайт в этом месяце, с него возьмут плату за 2 гигабайта.\n",
    "\n",
    "**Описание данных**  \n",
    "\n",
    "**Таблица users (информация о пользователях):**  \n",
    "\n",
    "user_id — уникальный идентификатор пользователя  \n",
    "first_name — имя пользователя  \n",
    "last_name — фамилия пользователя  \n",
    "age — возраст пользователя (годы)  \n",
    "reg_date — дата подключения тарифа (день, месяц, год)  \n",
    "churn_date — дата прекращения пользования тарифом (если значение пропущено, то тариф ещё действовал на момент выгрузки данных)  \n",
    "city — город проживания пользователя  \n",
    "tarif — название тарифного плана  \n",
    "\n",
    "**Таблица calls (информация о звонках):**  \n",
    "id — уникальный номер звонка  \n",
    "call_date — дата звонка  \n",
    "duration — длительность звонка в минутах  \n",
    "user_id — идентификатор пользователя, сделавшего звонок    \n",
    "\n",
    "\n",
    "**Таблица messages (информация о сообщениях):**  \n",
    "\n",
    "id — уникальный номер сообщения  \n",
    "message_date — дата сообщения  \n",
    "user_id — идентификатор пользователя, отправившего сообщение  \n",
    "\n",
    "**Таблица internet (информация об интернет-сессиях):**  \n",
    "id — уникальный номер сессии  \n",
    "mb_used — объём потраченного за сессию интернет-трафика (в мегабайтах)  \n",
    "session_date — дата интернет-сессии  \n",
    "user_id — идентификатор пользователя  \n",
    "\n",
    "**Таблица tariffs (информация о тарифах):**  \n",
    "tariff_name — название тарифа  \n",
    "rub_monthly_fee — ежемесячная абонентская плата в рублях  \n",
    "minutes_included — количество минут разговора в месяц, включённых в абонентскую плату  \n",
    "messages_included — количество сообщений в месяц, включённых в абонентскую плату  \n",
    "mb_per_month_included — объём интернет-трафика, включённого в абонентскую плату (в мегабайтах)  \n",
    "rub_per_minute — стоимость минуты разговора сверх тарифного пакета (например, если в тарифе 100 минут разговора в месяц, то со 101 минуты будет взиматься плата)  \n",
    "rub_per_message — стоимость отправки сообщения сверх тарифного пакета  \n",
    "rub_per_gb — стоимость дополнительного гигабайта интернет-трафика сверх тарифного пакета (1 гигабайт = 1024 мегабайта)  \n",
    "\n",
    "\n"
   ]
  },
  {
   "cell_type": "markdown",
   "metadata": {},
   "source": [
    "## Изучение данных"
   ]
  },
  {
   "cell_type": "code",
   "execution_count": 1,
   "metadata": {},
   "outputs": [],
   "source": [
    "import pandas as pd\n",
    "import math\n",
    "import numpy as np\n",
    "from scipy import stats as st\n",
    "from matplotlib import pyplot as plt\n",
    "\n",
    "pd.set_option('display.float_format', '{:,.2f}'.format)\n"
   ]
  },
  {
   "cell_type": "markdown",
   "metadata": {},
   "source": [
    "### Таблица users (информация о пользователях)"
   ]
  },
  {
   "cell_type": "code",
   "execution_count": 2,
   "metadata": {},
   "outputs": [],
   "source": [
    "users = pd.read_csv('/datasets/users.csv')"
   ]
  },
  {
   "cell_type": "code",
   "execution_count": 3,
   "metadata": {},
   "outputs": [
    {
     "data": {
      "text/html": [
       "<div>\n",
       "<style scoped>\n",
       "    .dataframe tbody tr th:only-of-type {\n",
       "        vertical-align: middle;\n",
       "    }\n",
       "\n",
       "    .dataframe tbody tr th {\n",
       "        vertical-align: top;\n",
       "    }\n",
       "\n",
       "    .dataframe thead th {\n",
       "        text-align: right;\n",
       "    }\n",
       "</style>\n",
       "<table border=\"1\" class=\"dataframe\">\n",
       "  <thead>\n",
       "    <tr style=\"text-align: right;\">\n",
       "      <th></th>\n",
       "      <th>user_id</th>\n",
       "      <th>age</th>\n",
       "      <th>churn_date</th>\n",
       "      <th>city</th>\n",
       "      <th>first_name</th>\n",
       "      <th>last_name</th>\n",
       "      <th>reg_date</th>\n",
       "      <th>tariff</th>\n",
       "    </tr>\n",
       "  </thead>\n",
       "  <tbody>\n",
       "    <tr>\n",
       "      <td>0</td>\n",
       "      <td>1000</td>\n",
       "      <td>52</td>\n",
       "      <td>NaN</td>\n",
       "      <td>Краснодар</td>\n",
       "      <td>Рафаил</td>\n",
       "      <td>Верещагин</td>\n",
       "      <td>2018-05-25</td>\n",
       "      <td>ultra</td>\n",
       "    </tr>\n",
       "    <tr>\n",
       "      <td>1</td>\n",
       "      <td>1001</td>\n",
       "      <td>41</td>\n",
       "      <td>NaN</td>\n",
       "      <td>Москва</td>\n",
       "      <td>Иван</td>\n",
       "      <td>Ежов</td>\n",
       "      <td>2018-11-01</td>\n",
       "      <td>smart</td>\n",
       "    </tr>\n",
       "    <tr>\n",
       "      <td>2</td>\n",
       "      <td>1002</td>\n",
       "      <td>59</td>\n",
       "      <td>NaN</td>\n",
       "      <td>Стерлитамак</td>\n",
       "      <td>Евгений</td>\n",
       "      <td>Абрамович</td>\n",
       "      <td>2018-06-17</td>\n",
       "      <td>smart</td>\n",
       "    </tr>\n",
       "    <tr>\n",
       "      <td>3</td>\n",
       "      <td>1003</td>\n",
       "      <td>23</td>\n",
       "      <td>NaN</td>\n",
       "      <td>Москва</td>\n",
       "      <td>Белла</td>\n",
       "      <td>Белякова</td>\n",
       "      <td>2018-08-17</td>\n",
       "      <td>ultra</td>\n",
       "    </tr>\n",
       "    <tr>\n",
       "      <td>4</td>\n",
       "      <td>1004</td>\n",
       "      <td>68</td>\n",
       "      <td>NaN</td>\n",
       "      <td>Новокузнецк</td>\n",
       "      <td>Татьяна</td>\n",
       "      <td>Авдеенко</td>\n",
       "      <td>2018-05-14</td>\n",
       "      <td>ultra</td>\n",
       "    </tr>\n",
       "    <tr>\n",
       "      <td>5</td>\n",
       "      <td>1005</td>\n",
       "      <td>67</td>\n",
       "      <td>NaN</td>\n",
       "      <td>Набережные Челны</td>\n",
       "      <td>Афанасий</td>\n",
       "      <td>Горлов</td>\n",
       "      <td>2018-01-25</td>\n",
       "      <td>smart</td>\n",
       "    </tr>\n",
       "    <tr>\n",
       "      <td>6</td>\n",
       "      <td>1006</td>\n",
       "      <td>21</td>\n",
       "      <td>NaN</td>\n",
       "      <td>Ульяновск</td>\n",
       "      <td>Леонид</td>\n",
       "      <td>Ермолаев</td>\n",
       "      <td>2018-02-26</td>\n",
       "      <td>smart</td>\n",
       "    </tr>\n",
       "    <tr>\n",
       "      <td>7</td>\n",
       "      <td>1007</td>\n",
       "      <td>65</td>\n",
       "      <td>NaN</td>\n",
       "      <td>Москва</td>\n",
       "      <td>Юна</td>\n",
       "      <td>Березина</td>\n",
       "      <td>2018-04-19</td>\n",
       "      <td>smart</td>\n",
       "    </tr>\n",
       "    <tr>\n",
       "      <td>8</td>\n",
       "      <td>1008</td>\n",
       "      <td>63</td>\n",
       "      <td>NaN</td>\n",
       "      <td>Челябинск</td>\n",
       "      <td>Рустэм</td>\n",
       "      <td>Пономарёв</td>\n",
       "      <td>2018-12-19</td>\n",
       "      <td>smart</td>\n",
       "    </tr>\n",
       "    <tr>\n",
       "      <td>9</td>\n",
       "      <td>1009</td>\n",
       "      <td>24</td>\n",
       "      <td>NaN</td>\n",
       "      <td>Пермь</td>\n",
       "      <td>Василиса</td>\n",
       "      <td>Блинова</td>\n",
       "      <td>2018-03-22</td>\n",
       "      <td>smart</td>\n",
       "    </tr>\n",
       "  </tbody>\n",
       "</table>\n",
       "</div>"
      ],
      "text/plain": [
       "   user_id  age churn_date              city first_name  last_name  \\\n",
       "0     1000   52        NaN         Краснодар     Рафаил  Верещагин   \n",
       "1     1001   41        NaN            Москва       Иван       Ежов   \n",
       "2     1002   59        NaN       Стерлитамак    Евгений  Абрамович   \n",
       "3     1003   23        NaN            Москва      Белла   Белякова   \n",
       "4     1004   68        NaN       Новокузнецк    Татьяна   Авдеенко   \n",
       "5     1005   67        NaN  Набережные Челны   Афанасий     Горлов   \n",
       "6     1006   21        NaN         Ульяновск     Леонид   Ермолаев   \n",
       "7     1007   65        NaN            Москва        Юна   Березина   \n",
       "8     1008   63        NaN         Челябинск     Рустэм  Пономарёв   \n",
       "9     1009   24        NaN             Пермь   Василиса    Блинова   \n",
       "\n",
       "     reg_date tariff  \n",
       "0  2018-05-25  ultra  \n",
       "1  2018-11-01  smart  \n",
       "2  2018-06-17  smart  \n",
       "3  2018-08-17  ultra  \n",
       "4  2018-05-14  ultra  \n",
       "5  2018-01-25  smart  \n",
       "6  2018-02-26  smart  \n",
       "7  2018-04-19  smart  \n",
       "8  2018-12-19  smart  \n",
       "9  2018-03-22  smart  "
      ]
     },
     "execution_count": 3,
     "metadata": {},
     "output_type": "execute_result"
    }
   ],
   "source": [
    "users.head(10)"
   ]
  },
  {
   "cell_type": "code",
   "execution_count": 4,
   "metadata": {},
   "outputs": [
    {
     "name": "stdout",
     "output_type": "stream",
     "text": [
      "<class 'pandas.core.frame.DataFrame'>\n",
      "RangeIndex: 500 entries, 0 to 499\n",
      "Data columns (total 8 columns):\n",
      "user_id       500 non-null int64\n",
      "age           500 non-null int64\n",
      "churn_date    38 non-null object\n",
      "city          500 non-null object\n",
      "first_name    500 non-null object\n",
      "last_name     500 non-null object\n",
      "reg_date      500 non-null object\n",
      "tariff        500 non-null object\n",
      "dtypes: int64(2), object(6)\n",
      "memory usage: 31.4+ KB\n"
     ]
    }
   ],
   "source": [
    "users.info()"
   ]
  },
  {
   "cell_type": "markdown",
   "metadata": {},
   "source": [
    "#### Преобразование типов данных"
   ]
  },
  {
   "cell_type": "code",
   "execution_count": 5,
   "metadata": {
    "scrolled": true
   },
   "outputs": [
    {
     "name": "stdout",
     "output_type": "stream",
     "text": [
      "<class 'pandas.core.frame.DataFrame'>\n",
      "RangeIndex: 500 entries, 0 to 499\n",
      "Data columns (total 8 columns):\n",
      "user_id       500 non-null int64\n",
      "age           500 non-null int64\n",
      "churn_date    38 non-null datetime64[ns]\n",
      "city          500 non-null object\n",
      "first_name    500 non-null object\n",
      "last_name     500 non-null object\n",
      "reg_date      500 non-null datetime64[ns]\n",
      "tariff        500 non-null object\n",
      "dtypes: datetime64[ns](2), int64(2), object(4)\n",
      "memory usage: 31.4+ KB\n"
     ]
    }
   ],
   "source": [
    "users['churn_date'] = pd.to_datetime(users['churn_date'], format='%Y-%m-%dT')\n",
    "users['reg_date'] = pd.to_datetime(users['reg_date'], format='%Y-%m-%dT')\n",
    "users.info()"
   ]
  },
  {
   "cell_type": "markdown",
   "metadata": {},
   "source": [
    "#### Поиск аномальных значений"
   ]
  },
  {
   "cell_type": "code",
   "execution_count": 6,
   "metadata": {},
   "outputs": [
    {
     "data": {
      "text/plain": [
       "500"
      ]
     },
     "execution_count": 6,
     "metadata": {},
     "output_type": "execute_result"
    }
   ],
   "source": [
    "len(users['user_id'].unique())"
   ]
  },
  {
   "cell_type": "markdown",
   "metadata": {},
   "source": [
    "Значения идентификаторов уникальны."
   ]
  },
  {
   "cell_type": "code",
   "execution_count": 7,
   "metadata": {},
   "outputs": [
    {
     "data": {
      "text/plain": [
       "array([18, 19, 20, 21, 22, 23, 24, 25, 26, 27, 28, 29, 30, 31, 32, 33, 34,\n",
       "       35, 36, 37, 38, 39, 40, 41, 42, 43, 44, 45, 46, 47, 48, 49, 50, 51,\n",
       "       52, 53, 54, 55, 56, 57, 58, 59, 60, 61, 62, 63, 64, 65, 66, 67, 68,\n",
       "       69, 70, 71, 72, 73, 74, 75])"
      ]
     },
     "execution_count": 7,
     "metadata": {},
     "output_type": "execute_result"
    }
   ],
   "source": [
    "users['age'].sort_values(ascending = True).unique()"
   ]
  },
  {
   "cell_type": "code",
   "execution_count": 8,
   "metadata": {},
   "outputs": [
    {
     "data": {
      "text/plain": [
       "count                      38\n",
       "unique                     33\n",
       "top       2018-10-03 00:00:00\n",
       "freq                        2\n",
       "first     2018-08-17 00:00:00\n",
       "last      2018-12-30 00:00:00\n",
       "Name: churn_date, dtype: object"
      ]
     },
     "execution_count": 8,
     "metadata": {},
     "output_type": "execute_result"
    }
   ],
   "source": [
    "users['churn_date'].describe()"
   ]
  },
  {
   "cell_type": "code",
   "execution_count": 9,
   "metadata": {},
   "outputs": [
    {
     "data": {
      "text/plain": [
       "array(['Архангельск', 'Астрахань', 'Балашиха', 'Барнаул', 'Белгород',\n",
       "       'Брянск', 'Владивосток', 'Владикавказ', 'Владимир', 'Волгоград',\n",
       "       'Волжский', 'Вологда', 'Воронеж', 'Грозный', 'Екатеринбург',\n",
       "       'Иваново', 'Ижевск', 'Иркутск', 'Казань', 'Калининград', 'Калуга',\n",
       "       'Кемерово', 'Киров', 'Кострома', 'Краснодар', 'Красноярск',\n",
       "       'Курган', 'Курск', 'Липецк', 'Магнитогорск', 'Махачкала', 'Москва',\n",
       "       'Мурманск', 'Набережные Челны', 'Нижневартовск', 'Нижний Новгород',\n",
       "       'Нижний Тагил', 'Новокузнецк', 'Новороссийск', 'Новосибирск',\n",
       "       'Омск', 'Оренбург', 'Орёл', 'Пенза', 'Пермь', 'Петрозаводск',\n",
       "       'Подольск', 'Ростов-на-Дону', 'Рязань', 'Самара',\n",
       "       'Санкт-Петербург', 'Саранск', 'Саратов', 'Севастополь', 'Смоленск',\n",
       "       'Сочи', 'Ставрополь', 'Стерлитамак', 'Сургут', 'Тамбов', 'Тверь',\n",
       "       'Тольятти', 'Томск', 'Тула', 'Тюмень', 'Улан-Удэ', 'Ульяновск',\n",
       "       'Уфа', 'Хабаровск', 'Химки', 'Чебоксары', 'Челябинск', 'Череповец',\n",
       "       'Чита', 'Якутск', 'Ярославль'], dtype=object)"
      ]
     },
     "execution_count": 9,
     "metadata": {},
     "output_type": "execute_result"
    }
   ],
   "source": [
    "users['city'].sort_values(ascending = True).unique()"
   ]
  },
  {
   "cell_type": "code",
   "execution_count": 10,
   "metadata": {},
   "outputs": [
    {
     "data": {
      "text/plain": [
       "count                     500\n",
       "unique                    270\n",
       "top       2018-05-28 00:00:00\n",
       "freq                        8\n",
       "first     2018-01-01 00:00:00\n",
       "last      2018-12-31 00:00:00\n",
       "Name: reg_date, dtype: object"
      ]
     },
     "execution_count": 10,
     "metadata": {},
     "output_type": "execute_result"
    }
   ],
   "source": [
    "users['reg_date'].describe()"
   ]
  },
  {
   "cell_type": "code",
   "execution_count": 11,
   "metadata": {},
   "outputs": [
    {
     "data": {
      "text/plain": [
       "array(['smart', 'ultra'], dtype=object)"
      ]
     },
     "execution_count": 11,
     "metadata": {},
     "output_type": "execute_result"
    }
   ],
   "source": [
    "users['tariff'].sort_values(ascending = True).unique()"
   ]
  },
  {
   "cell_type": "markdown",
   "metadata": {},
   "source": [
    "**Вывод**  \n",
    "1. Таблица users состоит из 500 строк и 8 колонок.  \n",
    "2. Столбец churn_date содержит пропуски, означающие, что тариф действовал на момент выгрузки данных.  Такие пропуски не требуют заполнения.\n",
    "3. Столбцы churn_date и reg_date содержат даты прекращения и начала пользования тарифом соответственно, тип object преобразован в тип datetime.  \n",
    "4. Аномальные значения в таблице отсутствуют."
   ]
  },
  {
   "cell_type": "markdown",
   "metadata": {},
   "source": [
    "### Таблица calls (информация о звонках)"
   ]
  },
  {
   "cell_type": "code",
   "execution_count": 12,
   "metadata": {},
   "outputs": [],
   "source": [
    "calls = pd.read_csv('/datasets/calls.csv')"
   ]
  },
  {
   "cell_type": "code",
   "execution_count": 13,
   "metadata": {},
   "outputs": [
    {
     "data": {
      "text/html": [
       "<div>\n",
       "<style scoped>\n",
       "    .dataframe tbody tr th:only-of-type {\n",
       "        vertical-align: middle;\n",
       "    }\n",
       "\n",
       "    .dataframe tbody tr th {\n",
       "        vertical-align: top;\n",
       "    }\n",
       "\n",
       "    .dataframe thead th {\n",
       "        text-align: right;\n",
       "    }\n",
       "</style>\n",
       "<table border=\"1\" class=\"dataframe\">\n",
       "  <thead>\n",
       "    <tr style=\"text-align: right;\">\n",
       "      <th></th>\n",
       "      <th>id</th>\n",
       "      <th>call_date</th>\n",
       "      <th>duration</th>\n",
       "      <th>user_id</th>\n",
       "    </tr>\n",
       "  </thead>\n",
       "  <tbody>\n",
       "    <tr>\n",
       "      <td>0</td>\n",
       "      <td>1000_0</td>\n",
       "      <td>2018-07-25</td>\n",
       "      <td>0.00</td>\n",
       "      <td>1000</td>\n",
       "    </tr>\n",
       "    <tr>\n",
       "      <td>1</td>\n",
       "      <td>1000_1</td>\n",
       "      <td>2018-08-17</td>\n",
       "      <td>0.00</td>\n",
       "      <td>1000</td>\n",
       "    </tr>\n",
       "    <tr>\n",
       "      <td>2</td>\n",
       "      <td>1000_2</td>\n",
       "      <td>2018-06-11</td>\n",
       "      <td>2.85</td>\n",
       "      <td>1000</td>\n",
       "    </tr>\n",
       "    <tr>\n",
       "      <td>3</td>\n",
       "      <td>1000_3</td>\n",
       "      <td>2018-09-21</td>\n",
       "      <td>13.80</td>\n",
       "      <td>1000</td>\n",
       "    </tr>\n",
       "    <tr>\n",
       "      <td>4</td>\n",
       "      <td>1000_4</td>\n",
       "      <td>2018-12-15</td>\n",
       "      <td>5.18</td>\n",
       "      <td>1000</td>\n",
       "    </tr>\n",
       "    <tr>\n",
       "      <td>5</td>\n",
       "      <td>1000_5</td>\n",
       "      <td>2018-11-02</td>\n",
       "      <td>0.00</td>\n",
       "      <td>1000</td>\n",
       "    </tr>\n",
       "    <tr>\n",
       "      <td>6</td>\n",
       "      <td>1000_6</td>\n",
       "      <td>2018-10-18</td>\n",
       "      <td>0.00</td>\n",
       "      <td>1000</td>\n",
       "    </tr>\n",
       "    <tr>\n",
       "      <td>7</td>\n",
       "      <td>1000_7</td>\n",
       "      <td>2018-08-22</td>\n",
       "      <td>18.31</td>\n",
       "      <td>1000</td>\n",
       "    </tr>\n",
       "    <tr>\n",
       "      <td>8</td>\n",
       "      <td>1000_8</td>\n",
       "      <td>2018-09-15</td>\n",
       "      <td>18.44</td>\n",
       "      <td>1000</td>\n",
       "    </tr>\n",
       "    <tr>\n",
       "      <td>9</td>\n",
       "      <td>1000_9</td>\n",
       "      <td>2018-08-15</td>\n",
       "      <td>0.00</td>\n",
       "      <td>1000</td>\n",
       "    </tr>\n",
       "  </tbody>\n",
       "</table>\n",
       "</div>"
      ],
      "text/plain": [
       "       id   call_date  duration  user_id\n",
       "0  1000_0  2018-07-25      0.00     1000\n",
       "1  1000_1  2018-08-17      0.00     1000\n",
       "2  1000_2  2018-06-11      2.85     1000\n",
       "3  1000_3  2018-09-21     13.80     1000\n",
       "4  1000_4  2018-12-15      5.18     1000\n",
       "5  1000_5  2018-11-02      0.00     1000\n",
       "6  1000_6  2018-10-18      0.00     1000\n",
       "7  1000_7  2018-08-22     18.31     1000\n",
       "8  1000_8  2018-09-15     18.44     1000\n",
       "9  1000_9  2018-08-15      0.00     1000"
      ]
     },
     "execution_count": 13,
     "metadata": {},
     "output_type": "execute_result"
    }
   ],
   "source": [
    "calls.head(10)"
   ]
  },
  {
   "cell_type": "code",
   "execution_count": 14,
   "metadata": {},
   "outputs": [
    {
     "name": "stdout",
     "output_type": "stream",
     "text": [
      "<class 'pandas.core.frame.DataFrame'>\n",
      "RangeIndex: 202607 entries, 0 to 202606\n",
      "Data columns (total 4 columns):\n",
      "id           202607 non-null object\n",
      "call_date    202607 non-null object\n",
      "duration     202607 non-null float64\n",
      "user_id      202607 non-null int64\n",
      "dtypes: float64(1), int64(1), object(2)\n",
      "memory usage: 6.2+ MB\n"
     ]
    }
   ],
   "source": [
    "calls.info()"
   ]
  },
  {
   "cell_type": "markdown",
   "metadata": {},
   "source": [
    "#### Преобразование типов данных"
   ]
  },
  {
   "cell_type": "code",
   "execution_count": 15,
   "metadata": {},
   "outputs": [
    {
     "name": "stdout",
     "output_type": "stream",
     "text": [
      "<class 'pandas.core.frame.DataFrame'>\n",
      "RangeIndex: 202607 entries, 0 to 202606\n",
      "Data columns (total 4 columns):\n",
      "id           202607 non-null object\n",
      "call_date    202607 non-null datetime64[ns]\n",
      "duration     202607 non-null float64\n",
      "user_id      202607 non-null int64\n",
      "dtypes: datetime64[ns](1), float64(1), int64(1), object(1)\n",
      "memory usage: 6.2+ MB\n"
     ]
    }
   ],
   "source": [
    "calls['call_date'] = pd.to_datetime(calls['call_date'], format='%Y-%m-%dT')\n",
    "calls.info()"
   ]
  },
  {
   "cell_type": "markdown",
   "metadata": {},
   "source": [
    "#### Поиск аномальных значений"
   ]
  },
  {
   "cell_type": "code",
   "execution_count": 16,
   "metadata": {},
   "outputs": [
    {
     "data": {
      "text/plain": [
       "202607"
      ]
     },
     "execution_count": 16,
     "metadata": {},
     "output_type": "execute_result"
    }
   ],
   "source": [
    "len(calls['id'].unique())"
   ]
  },
  {
   "cell_type": "markdown",
   "metadata": {},
   "source": [
    "Нумерация звонков уникальна."
   ]
  },
  {
   "cell_type": "code",
   "execution_count": 17,
   "metadata": {},
   "outputs": [
    {
     "data": {
      "text/plain": [
       "count                  202607\n",
       "unique                    365\n",
       "top       2018-12-31 00:00:00\n",
       "freq                     1435\n",
       "first     2018-01-01 00:00:00\n",
       "last      2018-12-31 00:00:00\n",
       "Name: call_date, dtype: object"
      ]
     },
     "execution_count": 17,
     "metadata": {},
     "output_type": "execute_result"
    }
   ],
   "source": [
    "calls['call_date'].describe()"
   ]
  },
  {
   "cell_type": "code",
   "execution_count": 18,
   "metadata": {},
   "outputs": [
    {
     "data": {
      "text/plain": [
       "count   202,607.00\n",
       "mean          6.76\n",
       "std           5.84\n",
       "min           0.00\n",
       "25%           1.30\n",
       "50%           6.00\n",
       "75%          10.70\n",
       "max          38.00\n",
       "Name: duration, dtype: float64"
      ]
     },
     "execution_count": 18,
     "metadata": {},
     "output_type": "execute_result"
    }
   ],
   "source": [
    "calls['duration'].describe()"
   ]
  },
  {
   "cell_type": "code",
   "execution_count": 19,
   "metadata": {},
   "outputs": [
    {
     "data": {
      "text/plain": [
       "492"
      ]
     },
     "execution_count": 19,
     "metadata": {},
     "output_type": "execute_result"
    }
   ],
   "source": [
    "len(calls['user_id'].unique())"
   ]
  },
  {
   "cell_type": "markdown",
   "metadata": {},
   "source": [
    "**Вывод**  \n",
    "1. Таблица calls состоит из 20607 строк и 4 колонок.  \n",
    "2. Столбец call_date содержит нулевые значения, означающие, пропущенные звонки. Удалять данные строки некорректно.\n",
    "3. Столбец call_date содержит дату звонка, тип object преобразован в тип datetime.  \n",
    "4. Аномальные значения в таблице отсутствуют."
   ]
  },
  {
   "cell_type": "markdown",
   "metadata": {},
   "source": [
    "### Таблица messages (информация о сообщениях)"
   ]
  },
  {
   "cell_type": "code",
   "execution_count": 20,
   "metadata": {},
   "outputs": [],
   "source": [
    "messages = pd.read_csv('/datasets/messages.csv')"
   ]
  },
  {
   "cell_type": "code",
   "execution_count": 21,
   "metadata": {},
   "outputs": [
    {
     "data": {
      "text/html": [
       "<div>\n",
       "<style scoped>\n",
       "    .dataframe tbody tr th:only-of-type {\n",
       "        vertical-align: middle;\n",
       "    }\n",
       "\n",
       "    .dataframe tbody tr th {\n",
       "        vertical-align: top;\n",
       "    }\n",
       "\n",
       "    .dataframe thead th {\n",
       "        text-align: right;\n",
       "    }\n",
       "</style>\n",
       "<table border=\"1\" class=\"dataframe\">\n",
       "  <thead>\n",
       "    <tr style=\"text-align: right;\">\n",
       "      <th></th>\n",
       "      <th>id</th>\n",
       "      <th>message_date</th>\n",
       "      <th>user_id</th>\n",
       "    </tr>\n",
       "  </thead>\n",
       "  <tbody>\n",
       "    <tr>\n",
       "      <td>0</td>\n",
       "      <td>1000_0</td>\n",
       "      <td>2018-06-27</td>\n",
       "      <td>1000</td>\n",
       "    </tr>\n",
       "    <tr>\n",
       "      <td>1</td>\n",
       "      <td>1000_1</td>\n",
       "      <td>2018-10-08</td>\n",
       "      <td>1000</td>\n",
       "    </tr>\n",
       "    <tr>\n",
       "      <td>2</td>\n",
       "      <td>1000_2</td>\n",
       "      <td>2018-08-04</td>\n",
       "      <td>1000</td>\n",
       "    </tr>\n",
       "    <tr>\n",
       "      <td>3</td>\n",
       "      <td>1000_3</td>\n",
       "      <td>2018-06-16</td>\n",
       "      <td>1000</td>\n",
       "    </tr>\n",
       "    <tr>\n",
       "      <td>4</td>\n",
       "      <td>1000_4</td>\n",
       "      <td>2018-12-05</td>\n",
       "      <td>1000</td>\n",
       "    </tr>\n",
       "    <tr>\n",
       "      <td>5</td>\n",
       "      <td>1000_5</td>\n",
       "      <td>2018-06-20</td>\n",
       "      <td>1000</td>\n",
       "    </tr>\n",
       "    <tr>\n",
       "      <td>6</td>\n",
       "      <td>1000_6</td>\n",
       "      <td>2018-11-19</td>\n",
       "      <td>1000</td>\n",
       "    </tr>\n",
       "    <tr>\n",
       "      <td>7</td>\n",
       "      <td>1000_7</td>\n",
       "      <td>2018-10-29</td>\n",
       "      <td>1000</td>\n",
       "    </tr>\n",
       "    <tr>\n",
       "      <td>8</td>\n",
       "      <td>1000_8</td>\n",
       "      <td>2018-06-25</td>\n",
       "      <td>1000</td>\n",
       "    </tr>\n",
       "    <tr>\n",
       "      <td>9</td>\n",
       "      <td>1000_9</td>\n",
       "      <td>2018-12-18</td>\n",
       "      <td>1000</td>\n",
       "    </tr>\n",
       "  </tbody>\n",
       "</table>\n",
       "</div>"
      ],
      "text/plain": [
       "       id message_date  user_id\n",
       "0  1000_0   2018-06-27     1000\n",
       "1  1000_1   2018-10-08     1000\n",
       "2  1000_2   2018-08-04     1000\n",
       "3  1000_3   2018-06-16     1000\n",
       "4  1000_4   2018-12-05     1000\n",
       "5  1000_5   2018-06-20     1000\n",
       "6  1000_6   2018-11-19     1000\n",
       "7  1000_7   2018-10-29     1000\n",
       "8  1000_8   2018-06-25     1000\n",
       "9  1000_9   2018-12-18     1000"
      ]
     },
     "execution_count": 21,
     "metadata": {},
     "output_type": "execute_result"
    }
   ],
   "source": [
    "messages.head(10)"
   ]
  },
  {
   "cell_type": "code",
   "execution_count": 22,
   "metadata": {},
   "outputs": [
    {
     "name": "stdout",
     "output_type": "stream",
     "text": [
      "<class 'pandas.core.frame.DataFrame'>\n",
      "RangeIndex: 123036 entries, 0 to 123035\n",
      "Data columns (total 3 columns):\n",
      "id              123036 non-null object\n",
      "message_date    123036 non-null object\n",
      "user_id         123036 non-null int64\n",
      "dtypes: int64(1), object(2)\n",
      "memory usage: 2.8+ MB\n"
     ]
    }
   ],
   "source": [
    "messages.info()"
   ]
  },
  {
   "cell_type": "markdown",
   "metadata": {},
   "source": [
    "#### Преобразование типов данных"
   ]
  },
  {
   "cell_type": "code",
   "execution_count": 23,
   "metadata": {},
   "outputs": [
    {
     "name": "stdout",
     "output_type": "stream",
     "text": [
      "<class 'pandas.core.frame.DataFrame'>\n",
      "RangeIndex: 123036 entries, 0 to 123035\n",
      "Data columns (total 3 columns):\n",
      "id              123036 non-null object\n",
      "message_date    123036 non-null datetime64[ns]\n",
      "user_id         123036 non-null int64\n",
      "dtypes: datetime64[ns](1), int64(1), object(1)\n",
      "memory usage: 2.8+ MB\n"
     ]
    }
   ],
   "source": [
    "messages['message_date'] = pd.to_datetime(messages['message_date'], format='%Y-%m-%dT')\n",
    "messages.info()"
   ]
  },
  {
   "cell_type": "markdown",
   "metadata": {},
   "source": [
    "#### Поиск аномальных значений"
   ]
  },
  {
   "cell_type": "code",
   "execution_count": 24,
   "metadata": {},
   "outputs": [
    {
     "data": {
      "text/plain": [
       "123036"
      ]
     },
     "execution_count": 24,
     "metadata": {},
     "output_type": "execute_result"
    }
   ],
   "source": [
    "len(messages['id'].unique())"
   ]
  },
  {
   "cell_type": "markdown",
   "metadata": {},
   "source": [
    "Значения идентификаторов уникальны"
   ]
  },
  {
   "cell_type": "code",
   "execution_count": 25,
   "metadata": {},
   "outputs": [
    {
     "data": {
      "text/plain": [
       "count                  123036\n",
       "unique                    364\n",
       "top       2018-12-31 00:00:00\n",
       "freq                      859\n",
       "first     2018-01-02 00:00:00\n",
       "last      2018-12-31 00:00:00\n",
       "Name: message_date, dtype: object"
      ]
     },
     "execution_count": 25,
     "metadata": {},
     "output_type": "execute_result"
    }
   ],
   "source": [
    "messages['message_date'].describe()"
   ]
  },
  {
   "cell_type": "markdown",
   "metadata": {},
   "source": [
    "Аномальные значения отсутствуют."
   ]
  },
  {
   "cell_type": "code",
   "execution_count": 26,
   "metadata": {},
   "outputs": [
    {
     "data": {
      "text/plain": [
       "426"
      ]
     },
     "execution_count": 26,
     "metadata": {},
     "output_type": "execute_result"
    }
   ],
   "source": [
    "len(messages['user_id'].unique())"
   ]
  },
  {
   "cell_type": "markdown",
   "metadata": {},
   "source": [
    "**Вывод**  \n",
    "1. Таблица messages состоит из 123036 строк и 3 колонок.  \n",
    "2. Столбец message_date содержит дату сообщения, тип object преобразован в тип datetime.  \n",
    "3. Аномальные значения в таблице отсутствуют."
   ]
  },
  {
   "cell_type": "markdown",
   "metadata": {},
   "source": [
    "### Таблица internet (информация об интернет-сессиях)"
   ]
  },
  {
   "cell_type": "code",
   "execution_count": 27,
   "metadata": {},
   "outputs": [],
   "source": [
    "internet = pd.read_csv('/datasets/internet.csv')"
   ]
  },
  {
   "cell_type": "code",
   "execution_count": 28,
   "metadata": {},
   "outputs": [
    {
     "data": {
      "text/html": [
       "<div>\n",
       "<style scoped>\n",
       "    .dataframe tbody tr th:only-of-type {\n",
       "        vertical-align: middle;\n",
       "    }\n",
       "\n",
       "    .dataframe tbody tr th {\n",
       "        vertical-align: top;\n",
       "    }\n",
       "\n",
       "    .dataframe thead th {\n",
       "        text-align: right;\n",
       "    }\n",
       "</style>\n",
       "<table border=\"1\" class=\"dataframe\">\n",
       "  <thead>\n",
       "    <tr style=\"text-align: right;\">\n",
       "      <th></th>\n",
       "      <th>Unnamed: 0</th>\n",
       "      <th>id</th>\n",
       "      <th>mb_used</th>\n",
       "      <th>session_date</th>\n",
       "      <th>user_id</th>\n",
       "    </tr>\n",
       "  </thead>\n",
       "  <tbody>\n",
       "    <tr>\n",
       "      <td>0</td>\n",
       "      <td>0</td>\n",
       "      <td>1000_0</td>\n",
       "      <td>112.95</td>\n",
       "      <td>2018-11-25</td>\n",
       "      <td>1000</td>\n",
       "    </tr>\n",
       "    <tr>\n",
       "      <td>1</td>\n",
       "      <td>1</td>\n",
       "      <td>1000_1</td>\n",
       "      <td>1,052.81</td>\n",
       "      <td>2018-09-07</td>\n",
       "      <td>1000</td>\n",
       "    </tr>\n",
       "    <tr>\n",
       "      <td>2</td>\n",
       "      <td>2</td>\n",
       "      <td>1000_2</td>\n",
       "      <td>1,197.26</td>\n",
       "      <td>2018-06-25</td>\n",
       "      <td>1000</td>\n",
       "    </tr>\n",
       "    <tr>\n",
       "      <td>3</td>\n",
       "      <td>3</td>\n",
       "      <td>1000_3</td>\n",
       "      <td>550.27</td>\n",
       "      <td>2018-08-22</td>\n",
       "      <td>1000</td>\n",
       "    </tr>\n",
       "    <tr>\n",
       "      <td>4</td>\n",
       "      <td>4</td>\n",
       "      <td>1000_4</td>\n",
       "      <td>302.56</td>\n",
       "      <td>2018-09-24</td>\n",
       "      <td>1000</td>\n",
       "    </tr>\n",
       "  </tbody>\n",
       "</table>\n",
       "</div>"
      ],
      "text/plain": [
       "   Unnamed: 0      id  mb_used session_date  user_id\n",
       "0           0  1000_0   112.95   2018-11-25     1000\n",
       "1           1  1000_1 1,052.81   2018-09-07     1000\n",
       "2           2  1000_2 1,197.26   2018-06-25     1000\n",
       "3           3  1000_3   550.27   2018-08-22     1000\n",
       "4           4  1000_4   302.56   2018-09-24     1000"
      ]
     },
     "execution_count": 28,
     "metadata": {},
     "output_type": "execute_result"
    }
   ],
   "source": [
    "internet.head()"
   ]
  },
  {
   "cell_type": "code",
   "execution_count": 29,
   "metadata": {},
   "outputs": [
    {
     "name": "stdout",
     "output_type": "stream",
     "text": [
      "<class 'pandas.core.frame.DataFrame'>\n",
      "RangeIndex: 149396 entries, 0 to 149395\n",
      "Data columns (total 5 columns):\n",
      "Unnamed: 0      149396 non-null int64\n",
      "id              149396 non-null object\n",
      "mb_used         149396 non-null float64\n",
      "session_date    149396 non-null object\n",
      "user_id         149396 non-null int64\n",
      "dtypes: float64(1), int64(2), object(2)\n",
      "memory usage: 5.7+ MB\n"
     ]
    }
   ],
   "source": [
    "internet.info()"
   ]
  },
  {
   "cell_type": "markdown",
   "metadata": {},
   "source": [
    "Столбец Unnamed: 0 дублирует значения индексов. Скорее всего это издержки выгрузки отчета. Данный столбец необходимо удалить."
   ]
  },
  {
   "cell_type": "code",
   "execution_count": 30,
   "metadata": {},
   "outputs": [
    {
     "data": {
      "text/html": [
       "<div>\n",
       "<style scoped>\n",
       "    .dataframe tbody tr th:only-of-type {\n",
       "        vertical-align: middle;\n",
       "    }\n",
       "\n",
       "    .dataframe tbody tr th {\n",
       "        vertical-align: top;\n",
       "    }\n",
       "\n",
       "    .dataframe thead th {\n",
       "        text-align: right;\n",
       "    }\n",
       "</style>\n",
       "<table border=\"1\" class=\"dataframe\">\n",
       "  <thead>\n",
       "    <tr style=\"text-align: right;\">\n",
       "      <th></th>\n",
       "      <th>id</th>\n",
       "      <th>mb_used</th>\n",
       "      <th>session_date</th>\n",
       "      <th>user_id</th>\n",
       "    </tr>\n",
       "  </thead>\n",
       "  <tbody>\n",
       "    <tr>\n",
       "      <td>0</td>\n",
       "      <td>1000_0</td>\n",
       "      <td>112.95</td>\n",
       "      <td>2018-11-25</td>\n",
       "      <td>1000</td>\n",
       "    </tr>\n",
       "    <tr>\n",
       "      <td>1</td>\n",
       "      <td>1000_1</td>\n",
       "      <td>1,052.81</td>\n",
       "      <td>2018-09-07</td>\n",
       "      <td>1000</td>\n",
       "    </tr>\n",
       "    <tr>\n",
       "      <td>2</td>\n",
       "      <td>1000_2</td>\n",
       "      <td>1,197.26</td>\n",
       "      <td>2018-06-25</td>\n",
       "      <td>1000</td>\n",
       "    </tr>\n",
       "    <tr>\n",
       "      <td>3</td>\n",
       "      <td>1000_3</td>\n",
       "      <td>550.27</td>\n",
       "      <td>2018-08-22</td>\n",
       "      <td>1000</td>\n",
       "    </tr>\n",
       "    <tr>\n",
       "      <td>4</td>\n",
       "      <td>1000_4</td>\n",
       "      <td>302.56</td>\n",
       "      <td>2018-09-24</td>\n",
       "      <td>1000</td>\n",
       "    </tr>\n",
       "  </tbody>\n",
       "</table>\n",
       "</div>"
      ],
      "text/plain": [
       "       id  mb_used session_date  user_id\n",
       "0  1000_0   112.95   2018-11-25     1000\n",
       "1  1000_1 1,052.81   2018-09-07     1000\n",
       "2  1000_2 1,197.26   2018-06-25     1000\n",
       "3  1000_3   550.27   2018-08-22     1000\n",
       "4  1000_4   302.56   2018-09-24     1000"
      ]
     },
     "execution_count": 30,
     "metadata": {},
     "output_type": "execute_result"
    }
   ],
   "source": [
    "internet.drop(columns='Unnamed: 0', inplace=True)\n",
    "internet.head()"
   ]
  },
  {
   "cell_type": "markdown",
   "metadata": {},
   "source": [
    "#### Преобразование типов данных"
   ]
  },
  {
   "cell_type": "code",
   "execution_count": 31,
   "metadata": {},
   "outputs": [
    {
     "name": "stdout",
     "output_type": "stream",
     "text": [
      "<class 'pandas.core.frame.DataFrame'>\n",
      "RangeIndex: 149396 entries, 0 to 149395\n",
      "Data columns (total 4 columns):\n",
      "id              149396 non-null object\n",
      "mb_used         149396 non-null float64\n",
      "session_date    149396 non-null datetime64[ns]\n",
      "user_id         149396 non-null int64\n",
      "dtypes: datetime64[ns](1), float64(1), int64(1), object(1)\n",
      "memory usage: 4.6+ MB\n"
     ]
    }
   ],
   "source": [
    "internet['session_date'] = pd.to_datetime(internet['session_date'], format='%Y-%m-%dT')\n",
    "internet.info()"
   ]
  },
  {
   "cell_type": "markdown",
   "metadata": {},
   "source": [
    "#### Поиск аномальных значений"
   ]
  },
  {
   "cell_type": "code",
   "execution_count": 32,
   "metadata": {},
   "outputs": [
    {
     "data": {
      "text/plain": [
       "149396"
      ]
     },
     "execution_count": 32,
     "metadata": {},
     "output_type": "execute_result"
    }
   ],
   "source": [
    "len(internet['id'].unique())"
   ]
  },
  {
   "cell_type": "markdown",
   "metadata": {},
   "source": [
    "Значения идентификаторов уникальны."
   ]
  },
  {
   "cell_type": "code",
   "execution_count": 33,
   "metadata": {},
   "outputs": [
    {
     "data": {
      "text/plain": [
       "count   149,396.00\n",
       "mean        370.19\n",
       "std         278.30\n",
       "min           0.00\n",
       "25%         138.19\n",
       "50%         348.01\n",
       "75%         559.55\n",
       "max       1,724.83\n",
       "Name: mb_used, dtype: float64"
      ]
     },
     "execution_count": 33,
     "metadata": {},
     "output_type": "execute_result"
    }
   ],
   "source": [
    "internet['mb_used'].describe()"
   ]
  },
  {
   "cell_type": "code",
   "execution_count": 34,
   "metadata": {},
   "outputs": [
    {
     "data": {
      "text/html": [
       "<div>\n",
       "<style scoped>\n",
       "    .dataframe tbody tr th:only-of-type {\n",
       "        vertical-align: middle;\n",
       "    }\n",
       "\n",
       "    .dataframe tbody tr th {\n",
       "        vertical-align: top;\n",
       "    }\n",
       "\n",
       "    .dataframe thead th {\n",
       "        text-align: right;\n",
       "    }\n",
       "</style>\n",
       "<table border=\"1\" class=\"dataframe\">\n",
       "  <thead>\n",
       "    <tr style=\"text-align: right;\">\n",
       "      <th></th>\n",
       "      <th>id</th>\n",
       "      <th>mb_used</th>\n",
       "      <th>session_date</th>\n",
       "      <th>user_id</th>\n",
       "    </tr>\n",
       "  </thead>\n",
       "  <tbody>\n",
       "    <tr>\n",
       "      <td>11</td>\n",
       "      <td>1000_11</td>\n",
       "      <td>0.00</td>\n",
       "      <td>2018-08-28</td>\n",
       "      <td>1000</td>\n",
       "    </tr>\n",
       "    <tr>\n",
       "      <td>38</td>\n",
       "      <td>1000_38</td>\n",
       "      <td>0.00</td>\n",
       "      <td>2018-11-27</td>\n",
       "      <td>1000</td>\n",
       "    </tr>\n",
       "    <tr>\n",
       "      <td>46</td>\n",
       "      <td>1000_46</td>\n",
       "      <td>0.00</td>\n",
       "      <td>2018-06-30</td>\n",
       "      <td>1000</td>\n",
       "    </tr>\n",
       "    <tr>\n",
       "      <td>67</td>\n",
       "      <td>1000_67</td>\n",
       "      <td>0.00</td>\n",
       "      <td>2018-06-16</td>\n",
       "      <td>1000</td>\n",
       "    </tr>\n",
       "    <tr>\n",
       "      <td>72</td>\n",
       "      <td>1000_72</td>\n",
       "      <td>0.00</td>\n",
       "      <td>2018-06-15</td>\n",
       "      <td>1000</td>\n",
       "    </tr>\n",
       "  </tbody>\n",
       "</table>\n",
       "</div>"
      ],
      "text/plain": [
       "         id  mb_used session_date  user_id\n",
       "11  1000_11     0.00   2018-08-28     1000\n",
       "38  1000_38     0.00   2018-11-27     1000\n",
       "46  1000_46     0.00   2018-06-30     1000\n",
       "67  1000_67     0.00   2018-06-16     1000\n",
       "72  1000_72     0.00   2018-06-15     1000"
      ]
     },
     "execution_count": 34,
     "metadata": {},
     "output_type": "execute_result"
    }
   ],
   "source": [
    "internet.query('mb_used == 0').head()"
   ]
  },
  {
   "cell_type": "code",
   "execution_count": 35,
   "metadata": {
    "scrolled": true
   },
   "outputs": [
    {
     "name": "stdout",
     "output_type": "stream",
     "text": [
      "Количество нулевых интернет-сессий: 19598\n",
      "Доля нулевых интернет-сессий: 13.12%\n"
     ]
    }
   ],
   "source": [
    "print('Количество нулевых интернет-сессий:', len(internet.query('mb_used == 0')))\n",
    "print('Доля нулевых интернет-сессий: {:.2%}'.format(len(internet.query('mb_used == 0')) / len(internet.mb_used))\n",
    ")"
   ]
  },
  {
   "cell_type": "markdown",
   "metadata": {},
   "source": [
    "В интернет-сессиях есть нулевые значения - 13,1%. Возможно, это интернет-сессии с ничтожно малым объемом использованного трафика либо сессии в приложениях, в которых не списывается интернет-трафик (соцсети, мессенджеры). \n",
    "Удалять нулевые значения из таблицы нецелесообразно. Это может исказить показатель количество интернет-сессий (при необходимости дальнейшей работы с выборкой), но не окажет сильного влияния на показатели данного исследования."
   ]
  },
  {
   "cell_type": "code",
   "execution_count": 36,
   "metadata": {},
   "outputs": [
    {
     "data": {
      "text/plain": [
       "count                  149396\n",
       "unique                    365\n",
       "top       2018-12-31 00:00:00\n",
       "freq                     1057\n",
       "first     2018-01-01 00:00:00\n",
       "last      2018-12-31 00:00:00\n",
       "Name: session_date, dtype: object"
      ]
     },
     "execution_count": 36,
     "metadata": {},
     "output_type": "execute_result"
    }
   ],
   "source": [
    "internet['session_date'].describe()"
   ]
  },
  {
   "cell_type": "code",
   "execution_count": 37,
   "metadata": {},
   "outputs": [
    {
     "data": {
      "text/plain": [
       "497"
      ]
     },
     "execution_count": 37,
     "metadata": {},
     "output_type": "execute_result"
    }
   ],
   "source": [
    "len(internet['user_id'].unique())"
   ]
  },
  {
   "cell_type": "markdown",
   "metadata": {},
   "source": [
    "**Вывод**  \n",
    "1. Таблица internet состоит из 149396 строк и 5 колонок.  \n",
    "2. Столбец session_date содержит дату интернет-сессии, тип object преобразован в тип datetime.\n",
    "3. Аномальные значения в таблице отсутствуют.\n",
    "4. Таблица содержит нулевые значения 19598 (13,1%). Данные строки оставлены, на резульатат данного исследования их исключение сильного влияния не окажет."
   ]
  },
  {
   "cell_type": "markdown",
   "metadata": {},
   "source": [
    "### Таблица tariffs (информация о тарифах)"
   ]
  },
  {
   "cell_type": "code",
   "execution_count": 38,
   "metadata": {},
   "outputs": [],
   "source": [
    "tariffs = pd.read_csv('/datasets/tariffs.csv')"
   ]
  },
  {
   "cell_type": "code",
   "execution_count": 39,
   "metadata": {},
   "outputs": [
    {
     "data": {
      "text/html": [
       "<div>\n",
       "<style scoped>\n",
       "    .dataframe tbody tr th:only-of-type {\n",
       "        vertical-align: middle;\n",
       "    }\n",
       "\n",
       "    .dataframe tbody tr th {\n",
       "        vertical-align: top;\n",
       "    }\n",
       "\n",
       "    .dataframe thead th {\n",
       "        text-align: right;\n",
       "    }\n",
       "</style>\n",
       "<table border=\"1\" class=\"dataframe\">\n",
       "  <thead>\n",
       "    <tr style=\"text-align: right;\">\n",
       "      <th></th>\n",
       "      <th>messages_included</th>\n",
       "      <th>mb_per_month_included</th>\n",
       "      <th>minutes_included</th>\n",
       "      <th>rub_monthly_fee</th>\n",
       "      <th>rub_per_gb</th>\n",
       "      <th>rub_per_message</th>\n",
       "      <th>rub_per_minute</th>\n",
       "      <th>tariff_name</th>\n",
       "    </tr>\n",
       "  </thead>\n",
       "  <tbody>\n",
       "    <tr>\n",
       "      <td>0</td>\n",
       "      <td>50</td>\n",
       "      <td>15360</td>\n",
       "      <td>500</td>\n",
       "      <td>550</td>\n",
       "      <td>200</td>\n",
       "      <td>3</td>\n",
       "      <td>3</td>\n",
       "      <td>smart</td>\n",
       "    </tr>\n",
       "    <tr>\n",
       "      <td>1</td>\n",
       "      <td>1000</td>\n",
       "      <td>30720</td>\n",
       "      <td>3000</td>\n",
       "      <td>1950</td>\n",
       "      <td>150</td>\n",
       "      <td>1</td>\n",
       "      <td>1</td>\n",
       "      <td>ultra</td>\n",
       "    </tr>\n",
       "  </tbody>\n",
       "</table>\n",
       "</div>"
      ],
      "text/plain": [
       "   messages_included  mb_per_month_included  minutes_included  \\\n",
       "0                 50                  15360               500   \n",
       "1               1000                  30720              3000   \n",
       "\n",
       "   rub_monthly_fee  rub_per_gb  rub_per_message  rub_per_minute tariff_name  \n",
       "0              550         200                3               3       smart  \n",
       "1             1950         150                1               1       ultra  "
      ]
     },
     "execution_count": 39,
     "metadata": {},
     "output_type": "execute_result"
    }
   ],
   "source": [
    "tariffs"
   ]
  },
  {
   "cell_type": "code",
   "execution_count": 40,
   "metadata": {},
   "outputs": [
    {
     "name": "stdout",
     "output_type": "stream",
     "text": [
      "<class 'pandas.core.frame.DataFrame'>\n",
      "RangeIndex: 2 entries, 0 to 1\n",
      "Data columns (total 8 columns):\n",
      "messages_included        2 non-null int64\n",
      "mb_per_month_included    2 non-null int64\n",
      "minutes_included         2 non-null int64\n",
      "rub_monthly_fee          2 non-null int64\n",
      "rub_per_gb               2 non-null int64\n",
      "rub_per_message          2 non-null int64\n",
      "rub_per_minute           2 non-null int64\n",
      "tariff_name              2 non-null object\n",
      "dtypes: int64(7), object(1)\n",
      "memory usage: 256.0+ bytes\n"
     ]
    }
   ],
   "source": [
    "tariffs.info()"
   ]
  },
  {
   "cell_type": "markdown",
   "metadata": {},
   "source": [
    "**Вывод**  \n",
    "Таблица tariffs содержит информацию о тарифах. Предобработки не требует."
   ]
  },
  {
   "cell_type": "markdown",
   "metadata": {},
   "source": [
    "### Вывод\n",
    "- Входные данные представляют собой 5 таблиц - users, calls, messages, internet, tariffes.  \n",
    "- Столбцы, содержащие даты, преобразованы к формату datetime.  \n",
    "- Аномальные значения в таблицах отсутствуют.\n"
   ]
  },
  {
   "cell_type": "markdown",
   "metadata": {},
   "source": [
    "## Подготовка данных"
   ]
  },
  {
   "cell_type": "markdown",
   "metadata": {},
   "source": [
    "Рассчитаем для каждого пользователя:  \n",
    "- количество сделанных звонков и израсходованных минут разговора по месяцам;  \n",
    "- количество отправленных сообщений по месяцам;  \n",
    "- объем израсходованного интернет-трафика по месяцам;  \n",
    "- помесячную выручку."
   ]
  },
  {
   "cell_type": "markdown",
   "metadata": {},
   "source": [
    "### Количество сделанных звонков и израсходованных минут разговора по месяцам"
   ]
  },
  {
   "cell_type": "code",
   "execution_count": 41,
   "metadata": {},
   "outputs": [
    {
     "data": {
      "text/html": [
       "<div>\n",
       "<style scoped>\n",
       "    .dataframe tbody tr th:only-of-type {\n",
       "        vertical-align: middle;\n",
       "    }\n",
       "\n",
       "    .dataframe tbody tr th {\n",
       "        vertical-align: top;\n",
       "    }\n",
       "\n",
       "    .dataframe thead th {\n",
       "        text-align: right;\n",
       "    }\n",
       "</style>\n",
       "<table border=\"1\" class=\"dataframe\">\n",
       "  <thead>\n",
       "    <tr style=\"text-align: right;\">\n",
       "      <th></th>\n",
       "      <th>id</th>\n",
       "      <th>call_date</th>\n",
       "      <th>duration</th>\n",
       "      <th>user_id</th>\n",
       "      <th>month</th>\n",
       "    </tr>\n",
       "  </thead>\n",
       "  <tbody>\n",
       "    <tr>\n",
       "      <td>0</td>\n",
       "      <td>1000_0</td>\n",
       "      <td>2018-07-25</td>\n",
       "      <td>0.00</td>\n",
       "      <td>1000</td>\n",
       "      <td>July</td>\n",
       "    </tr>\n",
       "    <tr>\n",
       "      <td>1</td>\n",
       "      <td>1000_1</td>\n",
       "      <td>2018-08-17</td>\n",
       "      <td>0.00</td>\n",
       "      <td>1000</td>\n",
       "      <td>August</td>\n",
       "    </tr>\n",
       "    <tr>\n",
       "      <td>2</td>\n",
       "      <td>1000_2</td>\n",
       "      <td>2018-06-11</td>\n",
       "      <td>2.85</td>\n",
       "      <td>1000</td>\n",
       "      <td>June</td>\n",
       "    </tr>\n",
       "    <tr>\n",
       "      <td>3</td>\n",
       "      <td>1000_3</td>\n",
       "      <td>2018-09-21</td>\n",
       "      <td>13.80</td>\n",
       "      <td>1000</td>\n",
       "      <td>September</td>\n",
       "    </tr>\n",
       "    <tr>\n",
       "      <td>4</td>\n",
       "      <td>1000_4</td>\n",
       "      <td>2018-12-15</td>\n",
       "      <td>5.18</td>\n",
       "      <td>1000</td>\n",
       "      <td>December</td>\n",
       "    </tr>\n",
       "  </tbody>\n",
       "</table>\n",
       "</div>"
      ],
      "text/plain": [
       "       id  call_date  duration  user_id      month\n",
       "0  1000_0 2018-07-25      0.00     1000       July\n",
       "1  1000_1 2018-08-17      0.00     1000     August\n",
       "2  1000_2 2018-06-11      2.85     1000       June\n",
       "3  1000_3 2018-09-21     13.80     1000  September\n",
       "4  1000_4 2018-12-15      5.18     1000   December"
      ]
     },
     "execution_count": 41,
     "metadata": {},
     "output_type": "execute_result"
    }
   ],
   "source": [
    "# добавление столбца месяц\n",
    "calls['month'] = pd.DatetimeIndex(calls['call_date']).month_name()\n",
    "calls.head()"
   ]
  },
  {
   "cell_type": "code",
   "execution_count": 42,
   "metadata": {},
   "outputs": [
    {
     "data": {
      "text/html": [
       "<div>\n",
       "<style scoped>\n",
       "    .dataframe tbody tr th:only-of-type {\n",
       "        vertical-align: middle;\n",
       "    }\n",
       "\n",
       "    .dataframe tbody tr th {\n",
       "        vertical-align: top;\n",
       "    }\n",
       "\n",
       "    .dataframe thead th {\n",
       "        text-align: right;\n",
       "    }\n",
       "</style>\n",
       "<table border=\"1\" class=\"dataframe\">\n",
       "  <thead>\n",
       "    <tr style=\"text-align: right;\">\n",
       "      <th></th>\n",
       "      <th>id</th>\n",
       "      <th>call_date</th>\n",
       "      <th>duration</th>\n",
       "      <th>user_id</th>\n",
       "      <th>month</th>\n",
       "    </tr>\n",
       "  </thead>\n",
       "  <tbody>\n",
       "    <tr>\n",
       "      <td>0</td>\n",
       "      <td>1000_0</td>\n",
       "      <td>2018-07-25</td>\n",
       "      <td>0.00</td>\n",
       "      <td>1000</td>\n",
       "      <td>July</td>\n",
       "    </tr>\n",
       "    <tr>\n",
       "      <td>1</td>\n",
       "      <td>1000_1</td>\n",
       "      <td>2018-08-17</td>\n",
       "      <td>0.00</td>\n",
       "      <td>1000</td>\n",
       "      <td>August</td>\n",
       "    </tr>\n",
       "    <tr>\n",
       "      <td>2</td>\n",
       "      <td>1000_2</td>\n",
       "      <td>2018-06-11</td>\n",
       "      <td>3.00</td>\n",
       "      <td>1000</td>\n",
       "      <td>June</td>\n",
       "    </tr>\n",
       "    <tr>\n",
       "      <td>3</td>\n",
       "      <td>1000_3</td>\n",
       "      <td>2018-09-21</td>\n",
       "      <td>14.00</td>\n",
       "      <td>1000</td>\n",
       "      <td>September</td>\n",
       "    </tr>\n",
       "    <tr>\n",
       "      <td>4</td>\n",
       "      <td>1000_4</td>\n",
       "      <td>2018-12-15</td>\n",
       "      <td>6.00</td>\n",
       "      <td>1000</td>\n",
       "      <td>December</td>\n",
       "    </tr>\n",
       "  </tbody>\n",
       "</table>\n",
       "</div>"
      ],
      "text/plain": [
       "       id  call_date  duration  user_id      month\n",
       "0  1000_0 2018-07-25      0.00     1000       July\n",
       "1  1000_1 2018-08-17      0.00     1000     August\n",
       "2  1000_2 2018-06-11      3.00     1000       June\n",
       "3  1000_3 2018-09-21     14.00     1000  September\n",
       "4  1000_4 2018-12-15      6.00     1000   December"
      ]
     },
     "execution_count": 42,
     "metadata": {},
     "output_type": "execute_result"
    }
   ],
   "source": [
    "# округление времени разговора в соответствии с условиями тарифа\n",
    "calls['duration'] = np.ceil(calls['duration'])\n",
    "calls.head()"
   ]
  },
  {
   "cell_type": "code",
   "execution_count": 43,
   "metadata": {},
   "outputs": [],
   "source": [
    "grouper = ['user_id', 'month']"
   ]
  },
  {
   "cell_type": "code",
   "execution_count": 44,
   "metadata": {},
   "outputs": [
    {
     "data": {
      "text/html": [
       "<div>\n",
       "<style scoped>\n",
       "    .dataframe tbody tr th:only-of-type {\n",
       "        vertical-align: middle;\n",
       "    }\n",
       "\n",
       "    .dataframe tbody tr th {\n",
       "        vertical-align: top;\n",
       "    }\n",
       "\n",
       "    .dataframe thead th {\n",
       "        text-align: right;\n",
       "    }\n",
       "</style>\n",
       "<table border=\"1\" class=\"dataframe\">\n",
       "  <thead>\n",
       "    <tr style=\"text-align: right;\">\n",
       "      <th></th>\n",
       "      <th>user_id</th>\n",
       "      <th>month</th>\n",
       "      <th>calls</th>\n",
       "      <th>minutes</th>\n",
       "    </tr>\n",
       "  </thead>\n",
       "  <tbody>\n",
       "    <tr>\n",
       "      <td>0</td>\n",
       "      <td>1000</td>\n",
       "      <td>August</td>\n",
       "      <td>52</td>\n",
       "      <td>408.00</td>\n",
       "    </tr>\n",
       "    <tr>\n",
       "      <td>1</td>\n",
       "      <td>1000</td>\n",
       "      <td>December</td>\n",
       "      <td>46</td>\n",
       "      <td>333.00</td>\n",
       "    </tr>\n",
       "    <tr>\n",
       "      <td>2</td>\n",
       "      <td>1000</td>\n",
       "      <td>July</td>\n",
       "      <td>47</td>\n",
       "      <td>340.00</td>\n",
       "    </tr>\n",
       "    <tr>\n",
       "      <td>3</td>\n",
       "      <td>1000</td>\n",
       "      <td>June</td>\n",
       "      <td>43</td>\n",
       "      <td>172.00</td>\n",
       "    </tr>\n",
       "    <tr>\n",
       "      <td>4</td>\n",
       "      <td>1000</td>\n",
       "      <td>May</td>\n",
       "      <td>22</td>\n",
       "      <td>159.00</td>\n",
       "    </tr>\n",
       "  </tbody>\n",
       "</table>\n",
       "</div>"
      ],
      "text/plain": [
       "   user_id     month  calls  minutes\n",
       "0     1000    August     52   408.00\n",
       "1     1000  December     46   333.00\n",
       "2     1000      July     47   340.00\n",
       "3     1000      June     43   172.00\n",
       "4     1000       May     22   159.00"
      ]
     },
     "execution_count": 44,
     "metadata": {},
     "output_type": "execute_result"
    }
   ],
   "source": [
    "# группировка количества и длительности звонков по месяцам\n",
    "calls_month = calls.groupby(by=grouper).agg({'duration':['count','sum']}).reset_index()\n",
    "calls_month.columns = ['user_id', 'month', 'calls', 'minutes']\n",
    "calls_month.head()"
   ]
  },
  {
   "cell_type": "markdown",
   "metadata": {},
   "source": [
    "### Количество отправленных сообщений по месяцам"
   ]
  },
  {
   "cell_type": "code",
   "execution_count": 45,
   "metadata": {},
   "outputs": [
    {
     "data": {
      "text/html": [
       "<div>\n",
       "<style scoped>\n",
       "    .dataframe tbody tr th:only-of-type {\n",
       "        vertical-align: middle;\n",
       "    }\n",
       "\n",
       "    .dataframe tbody tr th {\n",
       "        vertical-align: top;\n",
       "    }\n",
       "\n",
       "    .dataframe thead th {\n",
       "        text-align: right;\n",
       "    }\n",
       "</style>\n",
       "<table border=\"1\" class=\"dataframe\">\n",
       "  <thead>\n",
       "    <tr style=\"text-align: right;\">\n",
       "      <th></th>\n",
       "      <th>id</th>\n",
       "      <th>message_date</th>\n",
       "      <th>user_id</th>\n",
       "      <th>month</th>\n",
       "    </tr>\n",
       "  </thead>\n",
       "  <tbody>\n",
       "    <tr>\n",
       "      <td>0</td>\n",
       "      <td>1000_0</td>\n",
       "      <td>2018-06-27</td>\n",
       "      <td>1000</td>\n",
       "      <td>June</td>\n",
       "    </tr>\n",
       "    <tr>\n",
       "      <td>1</td>\n",
       "      <td>1000_1</td>\n",
       "      <td>2018-10-08</td>\n",
       "      <td>1000</td>\n",
       "      <td>October</td>\n",
       "    </tr>\n",
       "    <tr>\n",
       "      <td>2</td>\n",
       "      <td>1000_2</td>\n",
       "      <td>2018-08-04</td>\n",
       "      <td>1000</td>\n",
       "      <td>August</td>\n",
       "    </tr>\n",
       "    <tr>\n",
       "      <td>3</td>\n",
       "      <td>1000_3</td>\n",
       "      <td>2018-06-16</td>\n",
       "      <td>1000</td>\n",
       "      <td>June</td>\n",
       "    </tr>\n",
       "    <tr>\n",
       "      <td>4</td>\n",
       "      <td>1000_4</td>\n",
       "      <td>2018-12-05</td>\n",
       "      <td>1000</td>\n",
       "      <td>December</td>\n",
       "    </tr>\n",
       "  </tbody>\n",
       "</table>\n",
       "</div>"
      ],
      "text/plain": [
       "       id message_date  user_id     month\n",
       "0  1000_0   2018-06-27     1000      June\n",
       "1  1000_1   2018-10-08     1000   October\n",
       "2  1000_2   2018-08-04     1000    August\n",
       "3  1000_3   2018-06-16     1000      June\n",
       "4  1000_4   2018-12-05     1000  December"
      ]
     },
     "execution_count": 45,
     "metadata": {},
     "output_type": "execute_result"
    }
   ],
   "source": [
    "# добавление столбца месяц\n",
    "messages['month'] = pd.DatetimeIndex(messages['message_date']).month_name()\n",
    "messages.head()"
   ]
  },
  {
   "cell_type": "code",
   "execution_count": 46,
   "metadata": {},
   "outputs": [
    {
     "data": {
      "text/html": [
       "<div>\n",
       "<style scoped>\n",
       "    .dataframe tbody tr th:only-of-type {\n",
       "        vertical-align: middle;\n",
       "    }\n",
       "\n",
       "    .dataframe tbody tr th {\n",
       "        vertical-align: top;\n",
       "    }\n",
       "\n",
       "    .dataframe thead th {\n",
       "        text-align: right;\n",
       "    }\n",
       "</style>\n",
       "<table border=\"1\" class=\"dataframe\">\n",
       "  <thead>\n",
       "    <tr style=\"text-align: right;\">\n",
       "      <th></th>\n",
       "      <th>user_id</th>\n",
       "      <th>month</th>\n",
       "      <th>messages</th>\n",
       "    </tr>\n",
       "  </thead>\n",
       "  <tbody>\n",
       "    <tr>\n",
       "      <td>0</td>\n",
       "      <td>1000</td>\n",
       "      <td>August</td>\n",
       "      <td>81</td>\n",
       "    </tr>\n",
       "    <tr>\n",
       "      <td>1</td>\n",
       "      <td>1000</td>\n",
       "      <td>December</td>\n",
       "      <td>70</td>\n",
       "    </tr>\n",
       "    <tr>\n",
       "      <td>2</td>\n",
       "      <td>1000</td>\n",
       "      <td>July</td>\n",
       "      <td>75</td>\n",
       "    </tr>\n",
       "    <tr>\n",
       "      <td>3</td>\n",
       "      <td>1000</td>\n",
       "      <td>June</td>\n",
       "      <td>60</td>\n",
       "    </tr>\n",
       "    <tr>\n",
       "      <td>4</td>\n",
       "      <td>1000</td>\n",
       "      <td>May</td>\n",
       "      <td>22</td>\n",
       "    </tr>\n",
       "  </tbody>\n",
       "</table>\n",
       "</div>"
      ],
      "text/plain": [
       "   user_id     month  messages\n",
       "0     1000    August        81\n",
       "1     1000  December        70\n",
       "2     1000      July        75\n",
       "3     1000      June        60\n",
       "4     1000       May        22"
      ]
     },
     "execution_count": 46,
     "metadata": {},
     "output_type": "execute_result"
    }
   ],
   "source": [
    "# группировка количества сообщений по месяцам \n",
    "messages_month = messages.groupby(by=grouper).agg({'id':'count'}).rename(columns = {'id':'messages'}).reset_index()\n",
    "messages_month.head()"
   ]
  },
  {
   "cell_type": "markdown",
   "metadata": {},
   "source": [
    "### Объем израсходованного интернет-трафика по месяцам"
   ]
  },
  {
   "cell_type": "code",
   "execution_count": 47,
   "metadata": {},
   "outputs": [
    {
     "data": {
      "text/html": [
       "<div>\n",
       "<style scoped>\n",
       "    .dataframe tbody tr th:only-of-type {\n",
       "        vertical-align: middle;\n",
       "    }\n",
       "\n",
       "    .dataframe tbody tr th {\n",
       "        vertical-align: top;\n",
       "    }\n",
       "\n",
       "    .dataframe thead th {\n",
       "        text-align: right;\n",
       "    }\n",
       "</style>\n",
       "<table border=\"1\" class=\"dataframe\">\n",
       "  <thead>\n",
       "    <tr style=\"text-align: right;\">\n",
       "      <th></th>\n",
       "      <th>id</th>\n",
       "      <th>mb_used</th>\n",
       "      <th>session_date</th>\n",
       "      <th>user_id</th>\n",
       "      <th>month</th>\n",
       "    </tr>\n",
       "  </thead>\n",
       "  <tbody>\n",
       "    <tr>\n",
       "      <td>0</td>\n",
       "      <td>1000_0</td>\n",
       "      <td>112.95</td>\n",
       "      <td>2018-11-25</td>\n",
       "      <td>1000</td>\n",
       "      <td>November</td>\n",
       "    </tr>\n",
       "    <tr>\n",
       "      <td>1</td>\n",
       "      <td>1000_1</td>\n",
       "      <td>1,052.81</td>\n",
       "      <td>2018-09-07</td>\n",
       "      <td>1000</td>\n",
       "      <td>September</td>\n",
       "    </tr>\n",
       "    <tr>\n",
       "      <td>2</td>\n",
       "      <td>1000_2</td>\n",
       "      <td>1,197.26</td>\n",
       "      <td>2018-06-25</td>\n",
       "      <td>1000</td>\n",
       "      <td>June</td>\n",
       "    </tr>\n",
       "    <tr>\n",
       "      <td>3</td>\n",
       "      <td>1000_3</td>\n",
       "      <td>550.27</td>\n",
       "      <td>2018-08-22</td>\n",
       "      <td>1000</td>\n",
       "      <td>August</td>\n",
       "    </tr>\n",
       "    <tr>\n",
       "      <td>4</td>\n",
       "      <td>1000_4</td>\n",
       "      <td>302.56</td>\n",
       "      <td>2018-09-24</td>\n",
       "      <td>1000</td>\n",
       "      <td>September</td>\n",
       "    </tr>\n",
       "  </tbody>\n",
       "</table>\n",
       "</div>"
      ],
      "text/plain": [
       "       id  mb_used session_date  user_id      month\n",
       "0  1000_0   112.95   2018-11-25     1000   November\n",
       "1  1000_1 1,052.81   2018-09-07     1000  September\n",
       "2  1000_2 1,197.26   2018-06-25     1000       June\n",
       "3  1000_3   550.27   2018-08-22     1000     August\n",
       "4  1000_4   302.56   2018-09-24     1000  September"
      ]
     },
     "execution_count": 47,
     "metadata": {},
     "output_type": "execute_result"
    }
   ],
   "source": [
    "# добавление столбца месяц\n",
    "internet['month'] = pd.DatetimeIndex(internet['session_date']).month_name()\n",
    "internet.head()"
   ]
  },
  {
   "cell_type": "code",
   "execution_count": 48,
   "metadata": {},
   "outputs": [
    {
     "data": {
      "text/html": [
       "<div>\n",
       "<style scoped>\n",
       "    .dataframe tbody tr th:only-of-type {\n",
       "        vertical-align: middle;\n",
       "    }\n",
       "\n",
       "    .dataframe tbody tr th {\n",
       "        vertical-align: top;\n",
       "    }\n",
       "\n",
       "    .dataframe thead th {\n",
       "        text-align: right;\n",
       "    }\n",
       "</style>\n",
       "<table border=\"1\" class=\"dataframe\">\n",
       "  <thead>\n",
       "    <tr style=\"text-align: right;\">\n",
       "      <th></th>\n",
       "      <th>user_id</th>\n",
       "      <th>month</th>\n",
       "      <th>mb_used</th>\n",
       "    </tr>\n",
       "  </thead>\n",
       "  <tbody>\n",
       "    <tr>\n",
       "      <td>0</td>\n",
       "      <td>1000</td>\n",
       "      <td>August</td>\n",
       "      <td>14,055.93</td>\n",
       "    </tr>\n",
       "    <tr>\n",
       "      <td>1</td>\n",
       "      <td>1000</td>\n",
       "      <td>December</td>\n",
       "      <td>9,817.61</td>\n",
       "    </tr>\n",
       "    <tr>\n",
       "      <td>2</td>\n",
       "      <td>1000</td>\n",
       "      <td>July</td>\n",
       "      <td>14,003.64</td>\n",
       "    </tr>\n",
       "    <tr>\n",
       "      <td>3</td>\n",
       "      <td>1000</td>\n",
       "      <td>June</td>\n",
       "      <td>23,233.77</td>\n",
       "    </tr>\n",
       "    <tr>\n",
       "      <td>4</td>\n",
       "      <td>1000</td>\n",
       "      <td>May</td>\n",
       "      <td>2,253.49</td>\n",
       "    </tr>\n",
       "  </tbody>\n",
       "</table>\n",
       "</div>"
      ],
      "text/plain": [
       "   user_id     month   mb_used\n",
       "0     1000    August 14,055.93\n",
       "1     1000  December  9,817.61\n",
       "2     1000      July 14,003.64\n",
       "3     1000      June 23,233.77\n",
       "4     1000       May  2,253.49"
      ]
     },
     "execution_count": 48,
     "metadata": {},
     "output_type": "execute_result"
    }
   ],
   "source": [
    "# группировка использованного объема интернета по месяцам\n",
    "internet_month = internet.groupby(by=grouper).agg({'mb_used':'sum'}).reset_index()\n",
    "internet_month.head()"
   ]
  },
  {
   "cell_type": "code",
   "execution_count": 49,
   "metadata": {},
   "outputs": [
    {
     "data": {
      "text/html": [
       "<div>\n",
       "<style scoped>\n",
       "    .dataframe tbody tr th:only-of-type {\n",
       "        vertical-align: middle;\n",
       "    }\n",
       "\n",
       "    .dataframe tbody tr th {\n",
       "        vertical-align: top;\n",
       "    }\n",
       "\n",
       "    .dataframe thead th {\n",
       "        text-align: right;\n",
       "    }\n",
       "</style>\n",
       "<table border=\"1\" class=\"dataframe\">\n",
       "  <thead>\n",
       "    <tr style=\"text-align: right;\">\n",
       "      <th></th>\n",
       "      <th>user_id</th>\n",
       "      <th>month</th>\n",
       "      <th>mb_used</th>\n",
       "      <th>gb_used</th>\n",
       "    </tr>\n",
       "  </thead>\n",
       "  <tbody>\n",
       "    <tr>\n",
       "      <td>0</td>\n",
       "      <td>1000</td>\n",
       "      <td>August</td>\n",
       "      <td>14,055.93</td>\n",
       "      <td>13.73</td>\n",
       "    </tr>\n",
       "    <tr>\n",
       "      <td>1</td>\n",
       "      <td>1000</td>\n",
       "      <td>December</td>\n",
       "      <td>9,817.61</td>\n",
       "      <td>9.59</td>\n",
       "    </tr>\n",
       "    <tr>\n",
       "      <td>2</td>\n",
       "      <td>1000</td>\n",
       "      <td>July</td>\n",
       "      <td>14,003.64</td>\n",
       "      <td>13.68</td>\n",
       "    </tr>\n",
       "    <tr>\n",
       "      <td>3</td>\n",
       "      <td>1000</td>\n",
       "      <td>June</td>\n",
       "      <td>23,233.77</td>\n",
       "      <td>22.69</td>\n",
       "    </tr>\n",
       "    <tr>\n",
       "      <td>4</td>\n",
       "      <td>1000</td>\n",
       "      <td>May</td>\n",
       "      <td>2,253.49</td>\n",
       "      <td>2.20</td>\n",
       "    </tr>\n",
       "  </tbody>\n",
       "</table>\n",
       "</div>"
      ],
      "text/plain": [
       "   user_id     month   mb_used  gb_used\n",
       "0     1000    August 14,055.93    13.73\n",
       "1     1000  December  9,817.61     9.59\n",
       "2     1000      July 14,003.64    13.68\n",
       "3     1000      June 23,233.77    22.69\n",
       "4     1000       May  2,253.49     2.20"
      ]
     },
     "execution_count": 49,
     "metadata": {},
     "output_type": "execute_result"
    }
   ],
   "source": [
    "# добавление столбца gb_used\n",
    "internet_month['gb_used'] = (internet_month['mb_used']/1024)\n",
    "internet_month.head()"
   ]
  },
  {
   "cell_type": "markdown",
   "metadata": {},
   "source": [
    "### Ежемесячная выручка с каждого пользователя"
   ]
  },
  {
   "cell_type": "markdown",
   "metadata": {},
   "source": [
    "Рассчитаем ежемесячную выручку в разрезе пользователей.  "
   ]
  },
  {
   "cell_type": "code",
   "execution_count": 50,
   "metadata": {},
   "outputs": [
    {
     "data": {
      "text/html": [
       "<div>\n",
       "<style scoped>\n",
       "    .dataframe tbody tr th:only-of-type {\n",
       "        vertical-align: middle;\n",
       "    }\n",
       "\n",
       "    .dataframe tbody tr th {\n",
       "        vertical-align: top;\n",
       "    }\n",
       "\n",
       "    .dataframe thead th {\n",
       "        text-align: right;\n",
       "    }\n",
       "</style>\n",
       "<table border=\"1\" class=\"dataframe\">\n",
       "  <thead>\n",
       "    <tr style=\"text-align: right;\">\n",
       "      <th></th>\n",
       "      <th>user_id</th>\n",
       "      <th>month</th>\n",
       "      <th>calls</th>\n",
       "      <th>minutes</th>\n",
       "      <th>mb_used</th>\n",
       "      <th>gb_used</th>\n",
       "      <th>messages</th>\n",
       "    </tr>\n",
       "  </thead>\n",
       "  <tbody>\n",
       "    <tr>\n",
       "      <td>0</td>\n",
       "      <td>1000</td>\n",
       "      <td>August</td>\n",
       "      <td>52.00</td>\n",
       "      <td>408.00</td>\n",
       "      <td>14,055.93</td>\n",
       "      <td>13.73</td>\n",
       "      <td>81.00</td>\n",
       "    </tr>\n",
       "    <tr>\n",
       "      <td>1</td>\n",
       "      <td>1000</td>\n",
       "      <td>December</td>\n",
       "      <td>46.00</td>\n",
       "      <td>333.00</td>\n",
       "      <td>9,817.61</td>\n",
       "      <td>9.59</td>\n",
       "      <td>70.00</td>\n",
       "    </tr>\n",
       "    <tr>\n",
       "      <td>2</td>\n",
       "      <td>1000</td>\n",
       "      <td>July</td>\n",
       "      <td>47.00</td>\n",
       "      <td>340.00</td>\n",
       "      <td>14,003.64</td>\n",
       "      <td>13.68</td>\n",
       "      <td>75.00</td>\n",
       "    </tr>\n",
       "    <tr>\n",
       "      <td>3</td>\n",
       "      <td>1000</td>\n",
       "      <td>June</td>\n",
       "      <td>43.00</td>\n",
       "      <td>172.00</td>\n",
       "      <td>23,233.77</td>\n",
       "      <td>22.69</td>\n",
       "      <td>60.00</td>\n",
       "    </tr>\n",
       "    <tr>\n",
       "      <td>4</td>\n",
       "      <td>1000</td>\n",
       "      <td>May</td>\n",
       "      <td>22.00</td>\n",
       "      <td>159.00</td>\n",
       "      <td>2,253.49</td>\n",
       "      <td>2.20</td>\n",
       "      <td>22.00</td>\n",
       "    </tr>\n",
       "  </tbody>\n",
       "</table>\n",
       "</div>"
      ],
      "text/plain": [
       "   user_id     month  calls  minutes   mb_used  gb_used  messages\n",
       "0     1000    August  52.00   408.00 14,055.93    13.73     81.00\n",
       "1     1000  December  46.00   333.00  9,817.61     9.59     70.00\n",
       "2     1000      July  47.00   340.00 14,003.64    13.68     75.00\n",
       "3     1000      June  43.00   172.00 23,233.77    22.69     60.00\n",
       "4     1000       May  22.00   159.00  2,253.49     2.20     22.00"
      ]
     },
     "execution_count": 50,
     "metadata": {},
     "output_type": "execute_result"
    }
   ],
   "source": [
    "# объединение таблиц calls_month, internet_month, messages_month в один отчет\n",
    "report = calls_month.merge(internet_month, on=grouper, how = 'outer')\\\n",
    "                    .merge(messages_month, on=grouper, how = 'outer').fillna(0)\n",
    "report.head()"
   ]
  },
  {
   "cell_type": "code",
   "execution_count": 51,
   "metadata": {},
   "outputs": [
    {
     "data": {
      "text/html": [
       "<div>\n",
       "<style scoped>\n",
       "    .dataframe tbody tr th:only-of-type {\n",
       "        vertical-align: middle;\n",
       "    }\n",
       "\n",
       "    .dataframe tbody tr th {\n",
       "        vertical-align: top;\n",
       "    }\n",
       "\n",
       "    .dataframe thead th {\n",
       "        text-align: right;\n",
       "    }\n",
       "</style>\n",
       "<table border=\"1\" class=\"dataframe\">\n",
       "  <thead>\n",
       "    <tr style=\"text-align: right;\">\n",
       "      <th></th>\n",
       "      <th>user_id</th>\n",
       "      <th>month</th>\n",
       "      <th>calls</th>\n",
       "      <th>minutes</th>\n",
       "      <th>mb_used</th>\n",
       "      <th>gb_used</th>\n",
       "      <th>messages</th>\n",
       "      <th>age</th>\n",
       "      <th>churn_date</th>\n",
       "      <th>city</th>\n",
       "      <th>first_name</th>\n",
       "      <th>last_name</th>\n",
       "      <th>reg_date</th>\n",
       "      <th>tariff</th>\n",
       "    </tr>\n",
       "  </thead>\n",
       "  <tbody>\n",
       "    <tr>\n",
       "      <td>0</td>\n",
       "      <td>1000</td>\n",
       "      <td>August</td>\n",
       "      <td>52.00</td>\n",
       "      <td>408.00</td>\n",
       "      <td>14,055.93</td>\n",
       "      <td>13.73</td>\n",
       "      <td>81.00</td>\n",
       "      <td>52</td>\n",
       "      <td>NaT</td>\n",
       "      <td>Краснодар</td>\n",
       "      <td>Рафаил</td>\n",
       "      <td>Верещагин</td>\n",
       "      <td>2018-05-25</td>\n",
       "      <td>ultra</td>\n",
       "    </tr>\n",
       "    <tr>\n",
       "      <td>1</td>\n",
       "      <td>1000</td>\n",
       "      <td>December</td>\n",
       "      <td>46.00</td>\n",
       "      <td>333.00</td>\n",
       "      <td>9,817.61</td>\n",
       "      <td>9.59</td>\n",
       "      <td>70.00</td>\n",
       "      <td>52</td>\n",
       "      <td>NaT</td>\n",
       "      <td>Краснодар</td>\n",
       "      <td>Рафаил</td>\n",
       "      <td>Верещагин</td>\n",
       "      <td>2018-05-25</td>\n",
       "      <td>ultra</td>\n",
       "    </tr>\n",
       "    <tr>\n",
       "      <td>2</td>\n",
       "      <td>1000</td>\n",
       "      <td>July</td>\n",
       "      <td>47.00</td>\n",
       "      <td>340.00</td>\n",
       "      <td>14,003.64</td>\n",
       "      <td>13.68</td>\n",
       "      <td>75.00</td>\n",
       "      <td>52</td>\n",
       "      <td>NaT</td>\n",
       "      <td>Краснодар</td>\n",
       "      <td>Рафаил</td>\n",
       "      <td>Верещагин</td>\n",
       "      <td>2018-05-25</td>\n",
       "      <td>ultra</td>\n",
       "    </tr>\n",
       "    <tr>\n",
       "      <td>3</td>\n",
       "      <td>1000</td>\n",
       "      <td>June</td>\n",
       "      <td>43.00</td>\n",
       "      <td>172.00</td>\n",
       "      <td>23,233.77</td>\n",
       "      <td>22.69</td>\n",
       "      <td>60.00</td>\n",
       "      <td>52</td>\n",
       "      <td>NaT</td>\n",
       "      <td>Краснодар</td>\n",
       "      <td>Рафаил</td>\n",
       "      <td>Верещагин</td>\n",
       "      <td>2018-05-25</td>\n",
       "      <td>ultra</td>\n",
       "    </tr>\n",
       "    <tr>\n",
       "      <td>4</td>\n",
       "      <td>1000</td>\n",
       "      <td>May</td>\n",
       "      <td>22.00</td>\n",
       "      <td>159.00</td>\n",
       "      <td>2,253.49</td>\n",
       "      <td>2.20</td>\n",
       "      <td>22.00</td>\n",
       "      <td>52</td>\n",
       "      <td>NaT</td>\n",
       "      <td>Краснодар</td>\n",
       "      <td>Рафаил</td>\n",
       "      <td>Верещагин</td>\n",
       "      <td>2018-05-25</td>\n",
       "      <td>ultra</td>\n",
       "    </tr>\n",
       "  </tbody>\n",
       "</table>\n",
       "</div>"
      ],
      "text/plain": [
       "   user_id     month  calls  minutes   mb_used  gb_used  messages  age  \\\n",
       "0     1000    August  52.00   408.00 14,055.93    13.73     81.00   52   \n",
       "1     1000  December  46.00   333.00  9,817.61     9.59     70.00   52   \n",
       "2     1000      July  47.00   340.00 14,003.64    13.68     75.00   52   \n",
       "3     1000      June  43.00   172.00 23,233.77    22.69     60.00   52   \n",
       "4     1000       May  22.00   159.00  2,253.49     2.20     22.00   52   \n",
       "\n",
       "  churn_date       city first_name  last_name   reg_date tariff  \n",
       "0        NaT  Краснодар     Рафаил  Верещагин 2018-05-25  ultra  \n",
       "1        NaT  Краснодар     Рафаил  Верещагин 2018-05-25  ultra  \n",
       "2        NaT  Краснодар     Рафаил  Верещагин 2018-05-25  ultra  \n",
       "3        NaT  Краснодар     Рафаил  Верещагин 2018-05-25  ultra  \n",
       "4        NaT  Краснодар     Рафаил  Верещагин 2018-05-25  ultra  "
      ]
     },
     "execution_count": 51,
     "metadata": {},
     "output_type": "execute_result"
    }
   ],
   "source": [
    "# добавление в таблицу report данных о пользователях\n",
    "report = report.merge(users, on = 'user_id', how = 'left')\n",
    "pd.set_option('display.max_columns', None)\n",
    "report.head()"
   ]
  },
  {
   "cell_type": "code",
   "execution_count": 52,
   "metadata": {
    "scrolled": true
   },
   "outputs": [
    {
     "data": {
      "text/html": [
       "<div>\n",
       "<style scoped>\n",
       "    .dataframe tbody tr th:only-of-type {\n",
       "        vertical-align: middle;\n",
       "    }\n",
       "\n",
       "    .dataframe tbody tr th {\n",
       "        vertical-align: top;\n",
       "    }\n",
       "\n",
       "    .dataframe thead th {\n",
       "        text-align: right;\n",
       "    }\n",
       "</style>\n",
       "<table border=\"1\" class=\"dataframe\">\n",
       "  <thead>\n",
       "    <tr style=\"text-align: right;\">\n",
       "      <th></th>\n",
       "      <th>user_id</th>\n",
       "      <th>month</th>\n",
       "      <th>calls</th>\n",
       "      <th>minutes</th>\n",
       "      <th>mb_used</th>\n",
       "      <th>gb_used</th>\n",
       "      <th>messages</th>\n",
       "      <th>age</th>\n",
       "      <th>churn_date</th>\n",
       "      <th>city</th>\n",
       "      <th>first_name</th>\n",
       "      <th>last_name</th>\n",
       "      <th>reg_date</th>\n",
       "      <th>tariff</th>\n",
       "      <th>messages_included</th>\n",
       "      <th>mb_per_month_included</th>\n",
       "      <th>minutes_included</th>\n",
       "      <th>rub_monthly_fee</th>\n",
       "      <th>rub_per_gb</th>\n",
       "      <th>rub_per_message</th>\n",
       "      <th>rub_per_minute</th>\n",
       "      <th>tariff_name</th>\n",
       "    </tr>\n",
       "  </thead>\n",
       "  <tbody>\n",
       "    <tr>\n",
       "      <td>0</td>\n",
       "      <td>1000</td>\n",
       "      <td>August</td>\n",
       "      <td>52.00</td>\n",
       "      <td>408.00</td>\n",
       "      <td>14,055.93</td>\n",
       "      <td>13.73</td>\n",
       "      <td>81.00</td>\n",
       "      <td>52</td>\n",
       "      <td>NaT</td>\n",
       "      <td>Краснодар</td>\n",
       "      <td>Рафаил</td>\n",
       "      <td>Верещагин</td>\n",
       "      <td>2018-05-25</td>\n",
       "      <td>ultra</td>\n",
       "      <td>1000</td>\n",
       "      <td>30720</td>\n",
       "      <td>3000</td>\n",
       "      <td>1950</td>\n",
       "      <td>150</td>\n",
       "      <td>1</td>\n",
       "      <td>1</td>\n",
       "      <td>ultra</td>\n",
       "    </tr>\n",
       "    <tr>\n",
       "      <td>1</td>\n",
       "      <td>1000</td>\n",
       "      <td>December</td>\n",
       "      <td>46.00</td>\n",
       "      <td>333.00</td>\n",
       "      <td>9,817.61</td>\n",
       "      <td>9.59</td>\n",
       "      <td>70.00</td>\n",
       "      <td>52</td>\n",
       "      <td>NaT</td>\n",
       "      <td>Краснодар</td>\n",
       "      <td>Рафаил</td>\n",
       "      <td>Верещагин</td>\n",
       "      <td>2018-05-25</td>\n",
       "      <td>ultra</td>\n",
       "      <td>1000</td>\n",
       "      <td>30720</td>\n",
       "      <td>3000</td>\n",
       "      <td>1950</td>\n",
       "      <td>150</td>\n",
       "      <td>1</td>\n",
       "      <td>1</td>\n",
       "      <td>ultra</td>\n",
       "    </tr>\n",
       "    <tr>\n",
       "      <td>2</td>\n",
       "      <td>1000</td>\n",
       "      <td>July</td>\n",
       "      <td>47.00</td>\n",
       "      <td>340.00</td>\n",
       "      <td>14,003.64</td>\n",
       "      <td>13.68</td>\n",
       "      <td>75.00</td>\n",
       "      <td>52</td>\n",
       "      <td>NaT</td>\n",
       "      <td>Краснодар</td>\n",
       "      <td>Рафаил</td>\n",
       "      <td>Верещагин</td>\n",
       "      <td>2018-05-25</td>\n",
       "      <td>ultra</td>\n",
       "      <td>1000</td>\n",
       "      <td>30720</td>\n",
       "      <td>3000</td>\n",
       "      <td>1950</td>\n",
       "      <td>150</td>\n",
       "      <td>1</td>\n",
       "      <td>1</td>\n",
       "      <td>ultra</td>\n",
       "    </tr>\n",
       "    <tr>\n",
       "      <td>3</td>\n",
       "      <td>1000</td>\n",
       "      <td>June</td>\n",
       "      <td>43.00</td>\n",
       "      <td>172.00</td>\n",
       "      <td>23,233.77</td>\n",
       "      <td>22.69</td>\n",
       "      <td>60.00</td>\n",
       "      <td>52</td>\n",
       "      <td>NaT</td>\n",
       "      <td>Краснодар</td>\n",
       "      <td>Рафаил</td>\n",
       "      <td>Верещагин</td>\n",
       "      <td>2018-05-25</td>\n",
       "      <td>ultra</td>\n",
       "      <td>1000</td>\n",
       "      <td>30720</td>\n",
       "      <td>3000</td>\n",
       "      <td>1950</td>\n",
       "      <td>150</td>\n",
       "      <td>1</td>\n",
       "      <td>1</td>\n",
       "      <td>ultra</td>\n",
       "    </tr>\n",
       "    <tr>\n",
       "      <td>4</td>\n",
       "      <td>1000</td>\n",
       "      <td>May</td>\n",
       "      <td>22.00</td>\n",
       "      <td>159.00</td>\n",
       "      <td>2,253.49</td>\n",
       "      <td>2.20</td>\n",
       "      <td>22.00</td>\n",
       "      <td>52</td>\n",
       "      <td>NaT</td>\n",
       "      <td>Краснодар</td>\n",
       "      <td>Рафаил</td>\n",
       "      <td>Верещагин</td>\n",
       "      <td>2018-05-25</td>\n",
       "      <td>ultra</td>\n",
       "      <td>1000</td>\n",
       "      <td>30720</td>\n",
       "      <td>3000</td>\n",
       "      <td>1950</td>\n",
       "      <td>150</td>\n",
       "      <td>1</td>\n",
       "      <td>1</td>\n",
       "      <td>ultra</td>\n",
       "    </tr>\n",
       "  </tbody>\n",
       "</table>\n",
       "</div>"
      ],
      "text/plain": [
       "   user_id     month  calls  minutes   mb_used  gb_used  messages  age  \\\n",
       "0     1000    August  52.00   408.00 14,055.93    13.73     81.00   52   \n",
       "1     1000  December  46.00   333.00  9,817.61     9.59     70.00   52   \n",
       "2     1000      July  47.00   340.00 14,003.64    13.68     75.00   52   \n",
       "3     1000      June  43.00   172.00 23,233.77    22.69     60.00   52   \n",
       "4     1000       May  22.00   159.00  2,253.49     2.20     22.00   52   \n",
       "\n",
       "  churn_date       city first_name  last_name   reg_date tariff  \\\n",
       "0        NaT  Краснодар     Рафаил  Верещагин 2018-05-25  ultra   \n",
       "1        NaT  Краснодар     Рафаил  Верещагин 2018-05-25  ultra   \n",
       "2        NaT  Краснодар     Рафаил  Верещагин 2018-05-25  ultra   \n",
       "3        NaT  Краснодар     Рафаил  Верещагин 2018-05-25  ultra   \n",
       "4        NaT  Краснодар     Рафаил  Верещагин 2018-05-25  ultra   \n",
       "\n",
       "   messages_included  mb_per_month_included  minutes_included  \\\n",
       "0               1000                  30720              3000   \n",
       "1               1000                  30720              3000   \n",
       "2               1000                  30720              3000   \n",
       "3               1000                  30720              3000   \n",
       "4               1000                  30720              3000   \n",
       "\n",
       "   rub_monthly_fee  rub_per_gb  rub_per_message  rub_per_minute tariff_name  \n",
       "0             1950         150                1               1       ultra  \n",
       "1             1950         150                1               1       ultra  \n",
       "2             1950         150                1               1       ultra  \n",
       "3             1950         150                1               1       ultra  \n",
       "4             1950         150                1               1       ultra  "
      ]
     },
     "execution_count": 52,
     "metadata": {},
     "output_type": "execute_result"
    }
   ],
   "source": [
    "# добавление в таблицу report данных о тарифах\n",
    "report = report.merge(tariffs, left_on = 'tariff', right_on = 'tariff_name', how = 'left')\n",
    "report.head()"
   ]
  },
  {
   "cell_type": "code",
   "execution_count": 53,
   "metadata": {},
   "outputs": [],
   "source": [
    "#report.info()"
   ]
  },
  {
   "cell_type": "code",
   "execution_count": 54,
   "metadata": {},
   "outputs": [],
   "source": [
    "'''\n",
    "Функция для расчета выручки\n",
    "'''\n",
    "def income_count(data):\n",
    "    user = data['user_id']\n",
    "    delta_calls = data['minutes'] - data['minutes_included']\n",
    "    delta_internet = data['mb_used'] - data['mb_per_month_included']\n",
    "    delta_messages = data['messages'] - data['messages_included']\n",
    "    if delta_calls <= 0 and delta_internet <= 0 and delta_messages <= 0:\n",
    "        return data['rub_monthly_fee']\n",
    "    else:\n",
    "        call = 0\n",
    "        inet = 0\n",
    "        mess = 0\n",
    "        if delta_calls > 0:\n",
    "            call = delta_calls * data['rub_per_minute']\n",
    "        if delta_internet > 0:\n",
    "            inet = (np.ceil(delta_internet / 1024)) * data['rub_per_gb']\n",
    "        if delta_messages > 0:\n",
    "            mess = delta_messages * data['rub_per_message']\n",
    "        return data['rub_monthly_fee'] + call + inet + mess    "
   ]
  },
  {
   "cell_type": "markdown",
   "metadata": {},
   "source": [
    "<div class=\"alert alert-success\">\n",
    "<b>Комментарий ревьюера:</b> Если заранее округлить гигабайты, здесь можно будет немного упроситить расчет.\n",
    "</div>"
   ]
  },
  {
   "cell_type": "code",
   "execution_count": 55,
   "metadata": {},
   "outputs": [
    {
     "data": {
      "text/html": [
       "<div>\n",
       "<style scoped>\n",
       "    .dataframe tbody tr th:only-of-type {\n",
       "        vertical-align: middle;\n",
       "    }\n",
       "\n",
       "    .dataframe tbody tr th {\n",
       "        vertical-align: top;\n",
       "    }\n",
       "\n",
       "    .dataframe thead th {\n",
       "        text-align: right;\n",
       "    }\n",
       "</style>\n",
       "<table border=\"1\" class=\"dataframe\">\n",
       "  <thead>\n",
       "    <tr style=\"text-align: right;\">\n",
       "      <th></th>\n",
       "      <th>user_id</th>\n",
       "      <th>month</th>\n",
       "      <th>calls</th>\n",
       "      <th>minutes</th>\n",
       "      <th>mb_used</th>\n",
       "      <th>gb_used</th>\n",
       "      <th>messages</th>\n",
       "      <th>age</th>\n",
       "      <th>churn_date</th>\n",
       "      <th>city</th>\n",
       "      <th>first_name</th>\n",
       "      <th>last_name</th>\n",
       "      <th>reg_date</th>\n",
       "      <th>tariff</th>\n",
       "      <th>messages_included</th>\n",
       "      <th>mb_per_month_included</th>\n",
       "      <th>minutes_included</th>\n",
       "      <th>rub_monthly_fee</th>\n",
       "      <th>rub_per_gb</th>\n",
       "      <th>rub_per_message</th>\n",
       "      <th>rub_per_minute</th>\n",
       "      <th>tariff_name</th>\n",
       "      <th>income</th>\n",
       "    </tr>\n",
       "  </thead>\n",
       "  <tbody>\n",
       "    <tr>\n",
       "      <td>0</td>\n",
       "      <td>1000</td>\n",
       "      <td>August</td>\n",
       "      <td>52.00</td>\n",
       "      <td>408.00</td>\n",
       "      <td>14,055.93</td>\n",
       "      <td>13.73</td>\n",
       "      <td>81.00</td>\n",
       "      <td>52</td>\n",
       "      <td>NaT</td>\n",
       "      <td>Краснодар</td>\n",
       "      <td>Рафаил</td>\n",
       "      <td>Верещагин</td>\n",
       "      <td>2018-05-25</td>\n",
       "      <td>ultra</td>\n",
       "      <td>1000</td>\n",
       "      <td>30720</td>\n",
       "      <td>3000</td>\n",
       "      <td>1950</td>\n",
       "      <td>150</td>\n",
       "      <td>1</td>\n",
       "      <td>1</td>\n",
       "      <td>ultra</td>\n",
       "      <td>1950</td>\n",
       "    </tr>\n",
       "    <tr>\n",
       "      <td>1</td>\n",
       "      <td>1000</td>\n",
       "      <td>December</td>\n",
       "      <td>46.00</td>\n",
       "      <td>333.00</td>\n",
       "      <td>9,817.61</td>\n",
       "      <td>9.59</td>\n",
       "      <td>70.00</td>\n",
       "      <td>52</td>\n",
       "      <td>NaT</td>\n",
       "      <td>Краснодар</td>\n",
       "      <td>Рафаил</td>\n",
       "      <td>Верещагин</td>\n",
       "      <td>2018-05-25</td>\n",
       "      <td>ultra</td>\n",
       "      <td>1000</td>\n",
       "      <td>30720</td>\n",
       "      <td>3000</td>\n",
       "      <td>1950</td>\n",
       "      <td>150</td>\n",
       "      <td>1</td>\n",
       "      <td>1</td>\n",
       "      <td>ultra</td>\n",
       "      <td>1950</td>\n",
       "    </tr>\n",
       "    <tr>\n",
       "      <td>2</td>\n",
       "      <td>1000</td>\n",
       "      <td>July</td>\n",
       "      <td>47.00</td>\n",
       "      <td>340.00</td>\n",
       "      <td>14,003.64</td>\n",
       "      <td>13.68</td>\n",
       "      <td>75.00</td>\n",
       "      <td>52</td>\n",
       "      <td>NaT</td>\n",
       "      <td>Краснодар</td>\n",
       "      <td>Рафаил</td>\n",
       "      <td>Верещагин</td>\n",
       "      <td>2018-05-25</td>\n",
       "      <td>ultra</td>\n",
       "      <td>1000</td>\n",
       "      <td>30720</td>\n",
       "      <td>3000</td>\n",
       "      <td>1950</td>\n",
       "      <td>150</td>\n",
       "      <td>1</td>\n",
       "      <td>1</td>\n",
       "      <td>ultra</td>\n",
       "      <td>1950</td>\n",
       "    </tr>\n",
       "    <tr>\n",
       "      <td>3</td>\n",
       "      <td>1000</td>\n",
       "      <td>June</td>\n",
       "      <td>43.00</td>\n",
       "      <td>172.00</td>\n",
       "      <td>23,233.77</td>\n",
       "      <td>22.69</td>\n",
       "      <td>60.00</td>\n",
       "      <td>52</td>\n",
       "      <td>NaT</td>\n",
       "      <td>Краснодар</td>\n",
       "      <td>Рафаил</td>\n",
       "      <td>Верещагин</td>\n",
       "      <td>2018-05-25</td>\n",
       "      <td>ultra</td>\n",
       "      <td>1000</td>\n",
       "      <td>30720</td>\n",
       "      <td>3000</td>\n",
       "      <td>1950</td>\n",
       "      <td>150</td>\n",
       "      <td>1</td>\n",
       "      <td>1</td>\n",
       "      <td>ultra</td>\n",
       "      <td>1950</td>\n",
       "    </tr>\n",
       "    <tr>\n",
       "      <td>4</td>\n",
       "      <td>1000</td>\n",
       "      <td>May</td>\n",
       "      <td>22.00</td>\n",
       "      <td>159.00</td>\n",
       "      <td>2,253.49</td>\n",
       "      <td>2.20</td>\n",
       "      <td>22.00</td>\n",
       "      <td>52</td>\n",
       "      <td>NaT</td>\n",
       "      <td>Краснодар</td>\n",
       "      <td>Рафаил</td>\n",
       "      <td>Верещагин</td>\n",
       "      <td>2018-05-25</td>\n",
       "      <td>ultra</td>\n",
       "      <td>1000</td>\n",
       "      <td>30720</td>\n",
       "      <td>3000</td>\n",
       "      <td>1950</td>\n",
       "      <td>150</td>\n",
       "      <td>1</td>\n",
       "      <td>1</td>\n",
       "      <td>ultra</td>\n",
       "      <td>1950</td>\n",
       "    </tr>\n",
       "  </tbody>\n",
       "</table>\n",
       "</div>"
      ],
      "text/plain": [
       "   user_id     month  calls  minutes   mb_used  gb_used  messages  age  \\\n",
       "0     1000    August  52.00   408.00 14,055.93    13.73     81.00   52   \n",
       "1     1000  December  46.00   333.00  9,817.61     9.59     70.00   52   \n",
       "2     1000      July  47.00   340.00 14,003.64    13.68     75.00   52   \n",
       "3     1000      June  43.00   172.00 23,233.77    22.69     60.00   52   \n",
       "4     1000       May  22.00   159.00  2,253.49     2.20     22.00   52   \n",
       "\n",
       "  churn_date       city first_name  last_name   reg_date tariff  \\\n",
       "0        NaT  Краснодар     Рафаил  Верещагин 2018-05-25  ultra   \n",
       "1        NaT  Краснодар     Рафаил  Верещагин 2018-05-25  ultra   \n",
       "2        NaT  Краснодар     Рафаил  Верещагин 2018-05-25  ultra   \n",
       "3        NaT  Краснодар     Рафаил  Верещагин 2018-05-25  ultra   \n",
       "4        NaT  Краснодар     Рафаил  Верещагин 2018-05-25  ultra   \n",
       "\n",
       "   messages_included  mb_per_month_included  minutes_included  \\\n",
       "0               1000                  30720              3000   \n",
       "1               1000                  30720              3000   \n",
       "2               1000                  30720              3000   \n",
       "3               1000                  30720              3000   \n",
       "4               1000                  30720              3000   \n",
       "\n",
       "   rub_monthly_fee  rub_per_gb  rub_per_message  rub_per_minute tariff_name  \\\n",
       "0             1950         150                1               1       ultra   \n",
       "1             1950         150                1               1       ultra   \n",
       "2             1950         150                1               1       ultra   \n",
       "3             1950         150                1               1       ultra   \n",
       "4             1950         150                1               1       ultra   \n",
       "\n",
       "   income  \n",
       "0    1950  \n",
       "1    1950  \n",
       "2    1950  \n",
       "3    1950  \n",
       "4    1950  "
      ]
     },
     "execution_count": 55,
     "metadata": {},
     "output_type": "execute_result"
    }
   ],
   "source": [
    "# расчет ежемесячной выручки в разрезе пользователей\n",
    "report['income'] = report.apply(income_count, axis = 1)\n",
    "report['income'] = report['income'].astype(int)\n",
    "report.head()"
   ]
  },
  {
   "cell_type": "markdown",
   "metadata": {},
   "source": [
    "### Вывод  \n",
    "В рамках данного этапа сформирована сводная таблица, включающая в себя дополнительные показатели: \n",
    "- количество сделанных звонков и израсходованных минут разговора по месяцам;  \n",
    "- количество отправленных сообщений по месяцам;  \n",
    "- объем израсходованного интернет-трафика по месяцам.  \n",
    "\n",
    "Рассчитана ежемесячная выручка."
   ]
  },
  {
   "cell_type": "markdown",
   "metadata": {},
   "source": [
    "## Анализ и описание данных"
   ]
  },
  {
   "cell_type": "markdown",
   "metadata": {},
   "source": [
    "Проанализируем поведение клиентов оператора в разрезе тарифов. Сколько минут разговора, сколько сообщений и какой объём интернет-трафика требуется пользователям каждого тарифа в месяц? Рассчитаем среднее количество, дисперсию и стандартное отклонение"
   ]
  },
  {
   "cell_type": "markdown",
   "metadata": {},
   "source": [
    "### Статистические показатели"
   ]
  },
  {
   "cell_type": "code",
   "execution_count": 56,
   "metadata": {},
   "outputs": [
    {
     "data": {
      "text/html": [
       "<div>\n",
       "<style scoped>\n",
       "    .dataframe tbody tr th:only-of-type {\n",
       "        vertical-align: middle;\n",
       "    }\n",
       "\n",
       "    .dataframe tbody tr th {\n",
       "        vertical-align: top;\n",
       "    }\n",
       "\n",
       "    .dataframe thead th {\n",
       "        text-align: right;\n",
       "    }\n",
       "</style>\n",
       "<table border=\"1\" class=\"dataframe\">\n",
       "  <thead>\n",
       "    <tr style=\"text-align: right;\">\n",
       "      <th></th>\n",
       "      <th>user_id</th>\n",
       "      <th>month</th>\n",
       "      <th>calls</th>\n",
       "      <th>minutes</th>\n",
       "      <th>gb_used</th>\n",
       "      <th>messages</th>\n",
       "      <th>income</th>\n",
       "      <th>tariff</th>\n",
       "    </tr>\n",
       "  </thead>\n",
       "  <tbody>\n",
       "    <tr>\n",
       "      <td>8</td>\n",
       "      <td>1001</td>\n",
       "      <td>December</td>\n",
       "      <td>63.00</td>\n",
       "      <td>414.00</td>\n",
       "      <td>13.71</td>\n",
       "      <td>0.00</td>\n",
       "      <td>550</td>\n",
       "      <td>smart</td>\n",
       "    </tr>\n",
       "    <tr>\n",
       "      <td>9</td>\n",
       "      <td>1001</td>\n",
       "      <td>November</td>\n",
       "      <td>59.00</td>\n",
       "      <td>430.00</td>\n",
       "      <td>18.00</td>\n",
       "      <td>0.00</td>\n",
       "      <td>1150</td>\n",
       "      <td>smart</td>\n",
       "    </tr>\n",
       "    <tr>\n",
       "      <td>10</td>\n",
       "      <td>1002</td>\n",
       "      <td>August</td>\n",
       "      <td>42.00</td>\n",
       "      <td>289.00</td>\n",
       "      <td>19.84</td>\n",
       "      <td>13.00</td>\n",
       "      <td>1550</td>\n",
       "      <td>smart</td>\n",
       "    </tr>\n",
       "    <tr>\n",
       "      <td>11</td>\n",
       "      <td>1002</td>\n",
       "      <td>December</td>\n",
       "      <td>33.00</td>\n",
       "      <td>236.00</td>\n",
       "      <td>17.69</td>\n",
       "      <td>12.00</td>\n",
       "      <td>1150</td>\n",
       "      <td>smart</td>\n",
       "    </tr>\n",
       "    <tr>\n",
       "      <td>12</td>\n",
       "      <td>1002</td>\n",
       "      <td>July</td>\n",
       "      <td>26.00</td>\n",
       "      <td>214.00</td>\n",
       "      <td>17.17</td>\n",
       "      <td>11.00</td>\n",
       "      <td>1150</td>\n",
       "      <td>smart</td>\n",
       "    </tr>\n",
       "  </tbody>\n",
       "</table>\n",
       "</div>"
      ],
      "text/plain": [
       "    user_id     month  calls  minutes  gb_used  messages  income tariff\n",
       "8      1001  December  63.00   414.00    13.71      0.00     550  smart\n",
       "9      1001  November  59.00   430.00    18.00      0.00    1150  smart\n",
       "10     1002    August  42.00   289.00    19.84     13.00    1550  smart\n",
       "11     1002  December  33.00   236.00    17.69     12.00    1150  smart\n",
       "12     1002      July  26.00   214.00    17.17     11.00    1150  smart"
      ]
     },
     "execution_count": 56,
     "metadata": {},
     "output_type": "execute_result"
    }
   ],
   "source": [
    "# данные пользователей smart\n",
    "smart = report.query('tariff == \"smart\"')\n",
    "# оставим, необходимые для анализа столбцы\n",
    "users_smart = smart[['user_id', 'month', 'calls', 'minutes', 'gb_used', 'messages', 'income', 'tariff']]\n",
    "users_smart.head()"
   ]
  },
  {
   "cell_type": "code",
   "execution_count": 57,
   "metadata": {},
   "outputs": [
    {
     "data": {
      "text/html": [
       "<div>\n",
       "<style scoped>\n",
       "    .dataframe tbody tr th:only-of-type {\n",
       "        vertical-align: middle;\n",
       "    }\n",
       "\n",
       "    .dataframe tbody tr th {\n",
       "        vertical-align: top;\n",
       "    }\n",
       "\n",
       "    .dataframe thead th {\n",
       "        text-align: right;\n",
       "    }\n",
       "</style>\n",
       "<table border=\"1\" class=\"dataframe\">\n",
       "  <thead>\n",
       "    <tr style=\"text-align: right;\">\n",
       "      <th></th>\n",
       "      <th>user_id</th>\n",
       "      <th>month</th>\n",
       "      <th>calls</th>\n",
       "      <th>minutes</th>\n",
       "      <th>gb_used</th>\n",
       "      <th>messages</th>\n",
       "      <th>income</th>\n",
       "      <th>tariff</th>\n",
       "    </tr>\n",
       "  </thead>\n",
       "  <tbody>\n",
       "    <tr>\n",
       "      <td>0</td>\n",
       "      <td>1000</td>\n",
       "      <td>August</td>\n",
       "      <td>52.00</td>\n",
       "      <td>408.00</td>\n",
       "      <td>13.73</td>\n",
       "      <td>81.00</td>\n",
       "      <td>1950</td>\n",
       "      <td>ultra</td>\n",
       "    </tr>\n",
       "    <tr>\n",
       "      <td>1</td>\n",
       "      <td>1000</td>\n",
       "      <td>December</td>\n",
       "      <td>46.00</td>\n",
       "      <td>333.00</td>\n",
       "      <td>9.59</td>\n",
       "      <td>70.00</td>\n",
       "      <td>1950</td>\n",
       "      <td>ultra</td>\n",
       "    </tr>\n",
       "    <tr>\n",
       "      <td>2</td>\n",
       "      <td>1000</td>\n",
       "      <td>July</td>\n",
       "      <td>47.00</td>\n",
       "      <td>340.00</td>\n",
       "      <td>13.68</td>\n",
       "      <td>75.00</td>\n",
       "      <td>1950</td>\n",
       "      <td>ultra</td>\n",
       "    </tr>\n",
       "    <tr>\n",
       "      <td>3</td>\n",
       "      <td>1000</td>\n",
       "      <td>June</td>\n",
       "      <td>43.00</td>\n",
       "      <td>172.00</td>\n",
       "      <td>22.69</td>\n",
       "      <td>60.00</td>\n",
       "      <td>1950</td>\n",
       "      <td>ultra</td>\n",
       "    </tr>\n",
       "    <tr>\n",
       "      <td>4</td>\n",
       "      <td>1000</td>\n",
       "      <td>May</td>\n",
       "      <td>22.00</td>\n",
       "      <td>159.00</td>\n",
       "      <td>2.20</td>\n",
       "      <td>22.00</td>\n",
       "      <td>1950</td>\n",
       "      <td>ultra</td>\n",
       "    </tr>\n",
       "  </tbody>\n",
       "</table>\n",
       "</div>"
      ],
      "text/plain": [
       "   user_id     month  calls  minutes  gb_used  messages  income tariff\n",
       "0     1000    August  52.00   408.00    13.73     81.00    1950  ultra\n",
       "1     1000  December  46.00   333.00     9.59     70.00    1950  ultra\n",
       "2     1000      July  47.00   340.00    13.68     75.00    1950  ultra\n",
       "3     1000      June  43.00   172.00    22.69     60.00    1950  ultra\n",
       "4     1000       May  22.00   159.00     2.20     22.00    1950  ultra"
      ]
     },
     "execution_count": 57,
     "metadata": {},
     "output_type": "execute_result"
    }
   ],
   "source": [
    "# данные пользователей \"Ультра\" \n",
    "ultra = report.query('tariff == \"ultra\"')\n",
    "# оставим, необходимые для анализа столбцы\n",
    "users_ultra = ultra[['user_id', 'month', 'calls', 'minutes', 'gb_used', 'messages', 'income', 'tariff']]\n",
    "users_ultra.head()"
   ]
  },
  {
   "cell_type": "code",
   "execution_count": 58,
   "metadata": {},
   "outputs": [
    {
     "name": "stdout",
     "output_type": "stream",
     "text": [
      "Статистика тарифа smart.\n"
     ]
    },
    {
     "data": {
      "text/html": [
       "<div>\n",
       "<style scoped>\n",
       "    .dataframe tbody tr th:only-of-type {\n",
       "        vertical-align: middle;\n",
       "    }\n",
       "\n",
       "    .dataframe tbody tr th {\n",
       "        vertical-align: top;\n",
       "    }\n",
       "\n",
       "    .dataframe thead th {\n",
       "        text-align: right;\n",
       "    }\n",
       "</style>\n",
       "<table border=\"1\" class=\"dataframe\">\n",
       "  <thead>\n",
       "    <tr style=\"text-align: right;\">\n",
       "      <th></th>\n",
       "      <th>calls</th>\n",
       "      <th>minutes</th>\n",
       "      <th>gb_used</th>\n",
       "      <th>messages</th>\n",
       "      <th>income</th>\n",
       "    </tr>\n",
       "  </thead>\n",
       "  <tbody>\n",
       "    <tr>\n",
       "      <td>count</td>\n",
       "      <td>2,229.00</td>\n",
       "      <td>2,229.00</td>\n",
       "      <td>2,229.00</td>\n",
       "      <td>2,229.00</td>\n",
       "      <td>2,229.00</td>\n",
       "    </tr>\n",
       "    <tr>\n",
       "      <td>mean</td>\n",
       "      <td>58.46</td>\n",
       "      <td>417.93</td>\n",
       "      <td>15.83</td>\n",
       "      <td>33.38</td>\n",
       "      <td>1,289.97</td>\n",
       "    </tr>\n",
       "    <tr>\n",
       "      <td>std</td>\n",
       "      <td>25.94</td>\n",
       "      <td>190.31</td>\n",
       "      <td>5.73</td>\n",
       "      <td>28.23</td>\n",
       "      <td>818.40</td>\n",
       "    </tr>\n",
       "    <tr>\n",
       "      <td>min</td>\n",
       "      <td>0.00</td>\n",
       "      <td>0.00</td>\n",
       "      <td>0.00</td>\n",
       "      <td>0.00</td>\n",
       "      <td>550.00</td>\n",
       "    </tr>\n",
       "    <tr>\n",
       "      <td>25%</td>\n",
       "      <td>40.00</td>\n",
       "      <td>282.00</td>\n",
       "      <td>12.35</td>\n",
       "      <td>10.00</td>\n",
       "      <td>550.00</td>\n",
       "    </tr>\n",
       "    <tr>\n",
       "      <td>50%</td>\n",
       "      <td>60.00</td>\n",
       "      <td>422.00</td>\n",
       "      <td>16.12</td>\n",
       "      <td>28.00</td>\n",
       "      <td>1,023.00</td>\n",
       "    </tr>\n",
       "    <tr>\n",
       "      <td>75%</td>\n",
       "      <td>76.00</td>\n",
       "      <td>545.00</td>\n",
       "      <td>19.57</td>\n",
       "      <td>51.00</td>\n",
       "      <td>1,750.00</td>\n",
       "    </tr>\n",
       "    <tr>\n",
       "      <td>max</td>\n",
       "      <td>198.00</td>\n",
       "      <td>1,435.00</td>\n",
       "      <td>37.65</td>\n",
       "      <td>143.00</td>\n",
       "      <td>6,770.00</td>\n",
       "    </tr>\n",
       "  </tbody>\n",
       "</table>\n",
       "</div>"
      ],
      "text/plain": [
       "         calls  minutes  gb_used  messages   income\n",
       "count 2,229.00 2,229.00 2,229.00  2,229.00 2,229.00\n",
       "mean     58.46   417.93    15.83     33.38 1,289.97\n",
       "std      25.94   190.31     5.73     28.23   818.40\n",
       "min       0.00     0.00     0.00      0.00   550.00\n",
       "25%      40.00   282.00    12.35     10.00   550.00\n",
       "50%      60.00   422.00    16.12     28.00 1,023.00\n",
       "75%      76.00   545.00    19.57     51.00 1,750.00\n",
       "max     198.00 1,435.00    37.65    143.00 6,770.00"
      ]
     },
     "execution_count": 58,
     "metadata": {},
     "output_type": "execute_result"
    }
   ],
   "source": [
    "print('Статистика тарифа smart.')\n",
    "users_smart[['calls', 'minutes', 'gb_used', 'messages', 'income']].describe()"
   ]
  },
  {
   "cell_type": "markdown",
   "metadata": {},
   "source": [
    "*Профиль \"среднего\" пользователя тарифа \"Смарт\":*  \n",
    "- среднемесячное время разговоров - 418 минут;  \n",
    "- среднемесячный объем трафика - 15,8 Гб;\n",
    "- среднемесячное количество сообщений - 33 сообщения.  \n",
    "\n",
    "\"Средний\" пользователь практически укладывается в лимиты минут, сообщений и интернет-трафика, предусмотренные абонентской платой."
   ]
  },
  {
   "cell_type": "code",
   "execution_count": 59,
   "metadata": {},
   "outputs": [
    {
     "name": "stdout",
     "output_type": "stream",
     "text": [
      "Статистика тарифа \"Ультра\".\n"
     ]
    },
    {
     "data": {
      "text/html": [
       "<div>\n",
       "<style scoped>\n",
       "    .dataframe tbody tr th:only-of-type {\n",
       "        vertical-align: middle;\n",
       "    }\n",
       "\n",
       "    .dataframe tbody tr th {\n",
       "        vertical-align: top;\n",
       "    }\n",
       "\n",
       "    .dataframe thead th {\n",
       "        text-align: right;\n",
       "    }\n",
       "</style>\n",
       "<table border=\"1\" class=\"dataframe\">\n",
       "  <thead>\n",
       "    <tr style=\"text-align: right;\">\n",
       "      <th></th>\n",
       "      <th>calls</th>\n",
       "      <th>minutes</th>\n",
       "      <th>gb_used</th>\n",
       "      <th>messages</th>\n",
       "      <th>income</th>\n",
       "    </tr>\n",
       "  </thead>\n",
       "  <tbody>\n",
       "    <tr>\n",
       "      <td>count</td>\n",
       "      <td>985.00</td>\n",
       "      <td>985.00</td>\n",
       "      <td>985.00</td>\n",
       "      <td>985.00</td>\n",
       "      <td>985.00</td>\n",
       "    </tr>\n",
       "    <tr>\n",
       "      <td>mean</td>\n",
       "      <td>73.39</td>\n",
       "      <td>526.62</td>\n",
       "      <td>19.01</td>\n",
       "      <td>49.36</td>\n",
       "      <td>2,070.15</td>\n",
       "    </tr>\n",
       "    <tr>\n",
       "      <td>std</td>\n",
       "      <td>43.92</td>\n",
       "      <td>317.61</td>\n",
       "      <td>9.85</td>\n",
       "      <td>47.80</td>\n",
       "      <td>376.19</td>\n",
       "    </tr>\n",
       "    <tr>\n",
       "      <td>min</td>\n",
       "      <td>0.00</td>\n",
       "      <td>0.00</td>\n",
       "      <td>0.00</td>\n",
       "      <td>0.00</td>\n",
       "      <td>1,950.00</td>\n",
       "    </tr>\n",
       "    <tr>\n",
       "      <td>25%</td>\n",
       "      <td>41.00</td>\n",
       "      <td>284.00</td>\n",
       "      <td>11.49</td>\n",
       "      <td>6.00</td>\n",
       "      <td>1,950.00</td>\n",
       "    </tr>\n",
       "    <tr>\n",
       "      <td>50%</td>\n",
       "      <td>74.00</td>\n",
       "      <td>518.00</td>\n",
       "      <td>18.86</td>\n",
       "      <td>38.00</td>\n",
       "      <td>1,950.00</td>\n",
       "    </tr>\n",
       "    <tr>\n",
       "      <td>75%</td>\n",
       "      <td>104.00</td>\n",
       "      <td>752.00</td>\n",
       "      <td>26.21</td>\n",
       "      <td>79.00</td>\n",
       "      <td>1,950.00</td>\n",
       "    </tr>\n",
       "    <tr>\n",
       "      <td>max</td>\n",
       "      <td>244.00</td>\n",
       "      <td>1,673.00</td>\n",
       "      <td>48.58</td>\n",
       "      <td>224.00</td>\n",
       "      <td>4,800.00</td>\n",
       "    </tr>\n",
       "  </tbody>\n",
       "</table>\n",
       "</div>"
      ],
      "text/plain": [
       "       calls  minutes  gb_used  messages   income\n",
       "count 985.00   985.00   985.00    985.00   985.00\n",
       "mean   73.39   526.62    19.01     49.36 2,070.15\n",
       "std    43.92   317.61     9.85     47.80   376.19\n",
       "min     0.00     0.00     0.00      0.00 1,950.00\n",
       "25%    41.00   284.00    11.49      6.00 1,950.00\n",
       "50%    74.00   518.00    18.86     38.00 1,950.00\n",
       "75%   104.00   752.00    26.21     79.00 1,950.00\n",
       "max   244.00 1,673.00    48.58    224.00 4,800.00"
      ]
     },
     "execution_count": 59,
     "metadata": {},
     "output_type": "execute_result"
    }
   ],
   "source": [
    "print('Статистика тарифа \"Ультра\".')\n",
    "users_ultra[['calls', 'minutes', 'gb_used', 'messages', 'income']].describe()"
   ]
  },
  {
   "cell_type": "markdown",
   "metadata": {},
   "source": [
    "*Профиль \"среднего\" пользователя тарифа \"Ультра\":*  \n",
    "- среднемесячное время разговоров - 527 минут;  \n",
    "- среднемесячный объем трафика - 19 Гб;\n",
    "- среднемесячное количество сообщений - 49 сообщений.  \n",
    "\n",
    "Среднестатистический пользователь практически укладывается в лимиты, предусмотренные тарифом, по всем показателям - минуты, интернет, сообщения.  \n",
    "Максимальная длительность разговоров и максимальное количество отправленных сообщений находятся в фиксированных абонентской платой пределах. Исключение - интернет-трафик, максимальное потребление превышает лимит в 1,6 раза.\n"
   ]
  },
  {
   "cell_type": "code",
   "execution_count": 60,
   "metadata": {},
   "outputs": [],
   "source": [
    "'''\n",
    "Функция подсчета статистик\n",
    "'''\n",
    "def show_stat_3(data, minutes, gb_used, messages):\n",
    "    mean1 = round(np.mean(data[minutes]),2)\n",
    "    median1 = round(np.median(data[minutes]),2)\n",
    "    variance1 = round(np.var(data[minutes],ddof=1),2)\n",
    "    std1 = round(np.std(data[minutes],ddof=1),2)\n",
    "    \n",
    "    mean2 = round(np.mean(data[gb_used]),2)\n",
    "    median2 = round(np.median(data[gb_used]),2)\n",
    "    variance2 = round(np.var(data[gb_used],ddof=1),2)\n",
    "    std2 = round(np.std(data[gb_used],ddof=1),2)\n",
    "    \n",
    "    mean3 = round(np.mean(data[messages]),2)\n",
    "    median3 = round(np.median(data[messages]),2)\n",
    "    variance3 = round(np.var(data[messages],ddof=1),2)\n",
    "    std3 = round(np.std(data[messages],ddof=1),2)\n",
    "    \n",
    "    stats = {'stats': ['mean','median','varience','std'],\n",
    "             'minutes': [mean1,median1,variance1,std1],\n",
    "             'gb_used': [mean2,median2,variance2,std2],\n",
    "             'messages': [mean3,median3,variance3,std3]\n",
    "            }\n",
    "    stats_df = pd.DataFrame(stats)\n",
    "\n",
    "    display(stats_df)\n",
    "    print()"
   ]
  },
  {
   "cell_type": "code",
   "execution_count": 61,
   "metadata": {},
   "outputs": [
    {
     "name": "stdout",
     "output_type": "stream",
     "text": [
      "Статистика тарифа \"Смарт\"\n"
     ]
    },
    {
     "data": {
      "text/html": [
       "<div>\n",
       "<style scoped>\n",
       "    .dataframe tbody tr th:only-of-type {\n",
       "        vertical-align: middle;\n",
       "    }\n",
       "\n",
       "    .dataframe tbody tr th {\n",
       "        vertical-align: top;\n",
       "    }\n",
       "\n",
       "    .dataframe thead th {\n",
       "        text-align: right;\n",
       "    }\n",
       "</style>\n",
       "<table border=\"1\" class=\"dataframe\">\n",
       "  <thead>\n",
       "    <tr style=\"text-align: right;\">\n",
       "      <th></th>\n",
       "      <th>stats</th>\n",
       "      <th>minutes</th>\n",
       "      <th>gb_used</th>\n",
       "      <th>messages</th>\n",
       "    </tr>\n",
       "  </thead>\n",
       "  <tbody>\n",
       "    <tr>\n",
       "      <td>0</td>\n",
       "      <td>mean</td>\n",
       "      <td>417.93</td>\n",
       "      <td>15.83</td>\n",
       "      <td>33.38</td>\n",
       "    </tr>\n",
       "    <tr>\n",
       "      <td>1</td>\n",
       "      <td>median</td>\n",
       "      <td>422.00</td>\n",
       "      <td>16.12</td>\n",
       "      <td>28.00</td>\n",
       "    </tr>\n",
       "    <tr>\n",
       "      <td>2</td>\n",
       "      <td>varience</td>\n",
       "      <td>36,219.32</td>\n",
       "      <td>32.87</td>\n",
       "      <td>796.81</td>\n",
       "    </tr>\n",
       "    <tr>\n",
       "      <td>3</td>\n",
       "      <td>std</td>\n",
       "      <td>190.31</td>\n",
       "      <td>5.73</td>\n",
       "      <td>28.23</td>\n",
       "    </tr>\n",
       "  </tbody>\n",
       "</table>\n",
       "</div>"
      ],
      "text/plain": [
       "      stats   minutes  gb_used  messages\n",
       "0      mean    417.93    15.83     33.38\n",
       "1    median    422.00    16.12     28.00\n",
       "2  varience 36,219.32    32.87    796.81\n",
       "3       std    190.31     5.73     28.23"
      ]
     },
     "metadata": {},
     "output_type": "display_data"
    },
    {
     "name": "stdout",
     "output_type": "stream",
     "text": [
      "\n"
     ]
    }
   ],
   "source": [
    "print('Статистика тарифа \"Смарт\"')\n",
    "show_stat_3(users_smart, 'minutes', 'gb_used', 'messages')\n"
   ]
  },
  {
   "cell_type": "code",
   "execution_count": 62,
   "metadata": {},
   "outputs": [
    {
     "name": "stdout",
     "output_type": "stream",
     "text": [
      "Статистика тарифа \"Ультра\"\n"
     ]
    },
    {
     "data": {
      "text/html": [
       "<div>\n",
       "<style scoped>\n",
       "    .dataframe tbody tr th:only-of-type {\n",
       "        vertical-align: middle;\n",
       "    }\n",
       "\n",
       "    .dataframe tbody tr th {\n",
       "        vertical-align: top;\n",
       "    }\n",
       "\n",
       "    .dataframe thead th {\n",
       "        text-align: right;\n",
       "    }\n",
       "</style>\n",
       "<table border=\"1\" class=\"dataframe\">\n",
       "  <thead>\n",
       "    <tr style=\"text-align: right;\">\n",
       "      <th></th>\n",
       "      <th>stats</th>\n",
       "      <th>minutes</th>\n",
       "      <th>gb_used</th>\n",
       "      <th>messages</th>\n",
       "    </tr>\n",
       "  </thead>\n",
       "  <tbody>\n",
       "    <tr>\n",
       "      <td>0</td>\n",
       "      <td>mean</td>\n",
       "      <td>526.62</td>\n",
       "      <td>19.01</td>\n",
       "      <td>49.36</td>\n",
       "    </tr>\n",
       "    <tr>\n",
       "      <td>1</td>\n",
       "      <td>median</td>\n",
       "      <td>518.00</td>\n",
       "      <td>18.86</td>\n",
       "      <td>38.00</td>\n",
       "    </tr>\n",
       "    <tr>\n",
       "      <td>2</td>\n",
       "      <td>varience</td>\n",
       "      <td>100,873.63</td>\n",
       "      <td>97.04</td>\n",
       "      <td>2,285.27</td>\n",
       "    </tr>\n",
       "    <tr>\n",
       "      <td>3</td>\n",
       "      <td>std</td>\n",
       "      <td>317.61</td>\n",
       "      <td>9.85</td>\n",
       "      <td>47.80</td>\n",
       "    </tr>\n",
       "  </tbody>\n",
       "</table>\n",
       "</div>"
      ],
      "text/plain": [
       "      stats    minutes  gb_used  messages\n",
       "0      mean     526.62    19.01     49.36\n",
       "1    median     518.00    18.86     38.00\n",
       "2  varience 100,873.63    97.04  2,285.27\n",
       "3       std     317.61     9.85     47.80"
      ]
     },
     "metadata": {},
     "output_type": "display_data"
    },
    {
     "name": "stdout",
     "output_type": "stream",
     "text": [
      "\n"
     ]
    }
   ],
   "source": [
    "print('Статистика тарифа \"Ультра\"')\n",
    "show_stat_3(users_ultra, 'minutes', 'gb_used', 'messages')"
   ]
  },
  {
   "cell_type": "markdown",
   "metadata": {},
   "source": [
    "По структурным характеристикам, рассчитанным выше, видно, что выборка по тарифу \"Ультра\" имеет более широкий разброс по всем позициям - длительность разговоров, интернет-трафик и сообщения. Пользователи тарифа \"Ультра\" в среднем тратят проговаривают больше минут, тратят больше трафика, отправляют больше сообщений. Далее посмотрим это на графиках."
   ]
  },
  {
   "cell_type": "markdown",
   "metadata": {},
   "source": [
    "### Распределение показателей"
   ]
  },
  {
   "cell_type": "code",
   "execution_count": 63,
   "metadata": {},
   "outputs": [
    {
     "data": {
      "text/plain": [
       "Text(0, 0.5, 'Количество абонентов, чел.')"
      ]
     },
     "execution_count": 63,
     "metadata": {},
     "output_type": "execute_result"
    },
    {
     "data": {
      "image/png": "[encoded data removed]",
      "text/plain": [
       "<Figure size 1080x504 with 1 Axes>"
      ]
     },
     "metadata": {
      "needs_background": "light"
     },
     "output_type": "display_data"
    }
   ],
   "source": [
    "# гистограмма длительности разговоров\n",
    "ax = users_smart.plot(\n",
    "    kind='hist',\n",
    "    y='minutes',    \n",
    "    histtype='bar',\n",
    "    range=(1, 1700),\n",
    "    bins=30,\n",
    "    figsize = (15, 7),\n",
    "    linewidth=5,\n",
    "    alpha=0.5,\n",
    "    label='smart_minutes',\n",
    ")\n",
    "users_ultra.plot(\n",
    "    kind='hist',\n",
    "    y='minutes',\n",
    "    histtype='bar',\n",
    "    range=(1, 1700),\n",
    "    bins=30,\n",
    "    figsize = (15, 7),\n",
    "    title ='Длительность разговоров, минуты',\n",
    "    linewidth=5,\n",
    "    alpha=0.7,\n",
    "    label='ultra_minutes',\n",
    "    ax=ax,\n",
    "    grid=True,\n",
    "    legend=True,\n",
    ")\n",
    "plt.xlabel('Длительность разговоров, мин.')\n",
    "plt.ylabel('Количество абонентов, чел.')"
   ]
  },
  {
   "cell_type": "markdown",
   "metadata": {},
   "source": [
    "Распределение длительности разговоров в *тарифе \"Смарт\"* напоминает нормальное, скошено вправо. Основная часть пользователей тратит на разговоры 150-700 минут. Половина пользователей тарифа превышает лимит разговоров и оплачивает минуты дополнительно. Единичные случаи пользователей, разговаривающих более 1000 минут.  \n",
    "\n",
    "Распределение длительности разговоров в *тарифе \"Ультра\"* скошено вправо. Наиболее популярная длительность разговоров тарифа \"Ультра\" выше и составляет 200-800 минут. В тарифе \"Ультра\" есть сегмент пользователей с длительностью разговоров 1000-1350 минут. Такой сегмент в тарифе \"Смарт\" почти отсутствует. Единичные случаи пользователей, разговаривающих более 1500 минут."
   ]
  },
  {
   "cell_type": "code",
   "execution_count": 64,
   "metadata": {},
   "outputs": [
    {
     "data": {
      "text/plain": [
       "Text(0, 0.5, 'Количество абонентов, чел.')"
      ]
     },
     "execution_count": 64,
     "metadata": {},
     "output_type": "execute_result"
    },
    {
     "data": {
      "image/png": "[encoded data removed]",
      "text/plain": [
       "<Figure size 1080x504 with 1 Axes>"
      ]
     },
     "metadata": {
      "needs_background": "light"
     },
     "output_type": "display_data"
    }
   ],
   "source": [
    "# гистограмма интернет-трафика\n",
    "ax = users_smart.plot(\n",
    "    kind='hist',\n",
    "    y='gb_used',    \n",
    "    histtype='bar',\n",
    "    range=(0, 50),\n",
    "    bins=40,\n",
    "    figsize = (15, 7),\n",
    "    linewidth=5,\n",
    "    alpha=0.5,\n",
    "    label='smart_internet',\n",
    ")\n",
    "users_ultra.plot(\n",
    "    kind='hist',\n",
    "    y='gb_used',\n",
    "    histtype='bar',\n",
    "    range=(0, 50),\n",
    "    bins=40,\n",
    "    figsize = (15, 7),\n",
    "    title = 'Объем трафика, Гб',\n",
    "    linewidth=5,\n",
    "    alpha=0.7,\n",
    "    label='ultra_internet',\n",
    "    ax=ax,\n",
    "    grid=True,\n",
    "    legend=True,\n",
    ")\n",
    "plt.xlabel('Объем трафика, Гб')\n",
    "plt.ylabel('Количество абонентов, чел.')"
   ]
  },
  {
   "cell_type": "markdown",
   "metadata": {},
   "source": [
    "Распределение потребляемого объема интернет-трафика в *тарифе \"Смарт\"* напоминает нормальное, скошено вправо. Основная часть пользователей использует 8-25 Гб. Примерно половина пользователей выберживает тарифный лимит трафика. Единичные случаи пользователей, использующих более 32 Гб.  \n",
    "\n",
    "Распределение потребляемого объема интернет-трафика в *тарифе \"Ультра\"* скошено вправо. Чаще всего используется 9-33 Гб, что  выше, чем в тарифе \"Смарт\". Преимущественно пользователи также укладываются в тарифный лимит - 30 Гб. В тарифе \"Ультра\" есть сегмент пользователей, использующих более 39 Гб, который в тарифе \"Смарт\" отсутствует. Единичные случаи пользователей, использующих более 43 Гб."
   ]
  },
  {
   "cell_type": "code",
   "execution_count": 65,
   "metadata": {},
   "outputs": [
    {
     "data": {
      "text/plain": [
       "Text(0, 0.5, 'Количество абонентов, чел.')"
      ]
     },
     "execution_count": 65,
     "metadata": {},
     "output_type": "execute_result"
    },
    {
     "data": {
      "image/png": "[encoded data removed]",
      "text/plain": [
       "<Figure size 1080x504 with 1 Axes>"
      ]
     },
     "metadata": {
      "needs_background": "light"
     },
     "output_type": "display_data"
    }
   ],
   "source": [
    "# гистограмма смс-сообщений\n",
    "ax = users_smart.plot(\n",
    "    kind='hist',\n",
    "    y='messages',    \n",
    "    histtype='bar',\n",
    "    range=(0, 230),\n",
    "    bins=40,\n",
    "    figsize = (15, 7),\n",
    "    linewidth=5,\n",
    "    alpha=0.5,\n",
    "    label='smart_messages',\n",
    ")\n",
    "users_ultra.plot(\n",
    "    kind='hist',\n",
    "    y='messages',\n",
    "    histtype='bar',\n",
    "    range=(0, 230),\n",
    "    bins=40,\n",
    "    figsize = (15, 7),\n",
    "    title = 'Количество сообщений, шт.',\n",
    "    linewidth=5,\n",
    "    alpha=0.7,\n",
    "    label='ultra_messages',\n",
    "    ax=ax,\n",
    "    grid=True,\n",
    "    legend=True,\n",
    ")\n",
    "plt.xlabel('Количество сообщений, шт.')\n",
    "plt.ylabel('Количество абонентов, чел.')"
   ]
  },
  {
   "cell_type": "markdown",
   "metadata": {},
   "source": [
    "Распределение количества отправляемых сообщений в тарифах \"Смарт\" и \"Ультра\" похожи - оба датасета скошены вправо. Поведение пользователей в обоих тарифах схоже: максимальное количество пользователей не использует функцию смс-сообщений.  \n",
    "Пользователи тарифа \"Смарт\" преимущественно стараются не превышать выделенный тарифом лимит сообщений - 50. Единичные пользователи отправляют свыше 110 сообщений.\n",
    "Пользователи тарифа \"Ультра\" при использовании смс-сообщений всегда укладываются в рамки тарифного лимита (1000 сообщений)."
   ]
  },
  {
   "cell_type": "markdown",
   "metadata": {},
   "source": [
    "### Вывод  \n",
    "**Среднестатистический пользователь** тарифа \"Смарт\" и тарифа \"Ультра\" практически укладывается в лимиты минут, сообщений и интернет-трафика, предусмотренные абонентской платой.  \n",
    "В тарифе \"Ультра\" пользователи с максимальной длительностью разговора и максимальным количеством сообщений находятся в рамках тарифных лимитов. Максимальное потребление интернет-трафика превышает лимит в 1,6 раза.  \n",
    "\n",
    "**Длительность разговоров.**  \n",
    "Основная часть пользователей *тарифа \"Смарт\"* тратит на разговоры 150-700 минут. Половина пользователей тарифа превышает лимит разговоров и оплачивает минуты дополнительно. Единичные случаи пользователей, разговаривающих более 1000 минут.  \n",
    "\n",
    "Наиболее популярная длительность разговоров *тарифа \"Ультра\"* выше и составляет 200-800 минут. В тарифе \"Ультра\" есть сегмент пользователей с длительностью разговоров 1000-1350 минут. Такой сегмент в тарифе \"Смарт\" почти отсутствует.  \n",
    "\n",
    "**Интернет-трафик.**  \n",
    "Основная часть пользователей *тарифа \"Смарт\"* использует 8-25 Гб. Примерно половина пользователей выберживает тарифный лимит трафика. Единичные случаи пользователей, использующих более 32 Гб.  \n",
    "\n",
    "Пользователи *тарифа \"Ультра\"* тратят 9-33 Гб, что  выше, чем в тарифе \"Смарт\". Преимущественно расход трафика укладывается в тарифный лимит - 30 Гб. В тарифе \"Ультра\" есть сегмент пользователей, использующих более 39 Гб. Такой сегмент в тарифе \"Смарт\" почти отсутствует. \n",
    "\n",
    "**Сообщения.**  \n",
    "Поведение пользователей тарифа \"Смарт\" и тарифа \"Ультра\"  схоже: максимальное количество пользователей не отправляет смс-сообщения.\n",
    "Пользователи *тарифа \"Смарт\"* преимущественно не превышают выделенный тарифом лимит сообщений - 50. Единичные пользователи отправляют свыше 110 сообщений. Пользователи *тарифа \"Ультра\"* при использовании смс-сообщений всегда укладываются в рамки тарифного лимита (1000 сообщений).\n"
   ]
  },
  {
   "cell_type": "markdown",
   "metadata": {},
   "source": [
    "## Проверка гипотез"
   ]
  },
  {
   "cell_type": "markdown",
   "metadata": {},
   "source": [
    "На данном этапе проверим 2 гипотезы:\n",
    "1. Средняя выручка пользователей тарифов «Ультра» и «Смарт» различается.\n",
    "2. Средняя выручка пользователей из Москвы отличается от выручки пользователей из других регионов."
   ]
  },
  {
   "cell_type": "markdown",
   "metadata": {},
   "source": [
    "### Средняя выручка пользователей тарифов «Ультра» и «Смарт» различается"
   ]
  },
  {
   "cell_type": "code",
   "execution_count": 66,
   "metadata": {},
   "outputs": [
    {
     "name": "stdout",
     "output_type": "stream",
     "text": [
      "Количество пользователей тарифа \"Смарт\": 350\n",
      "Количество пользователей тарифа \"Ультра\": 148\n",
      "Соотношение пользователей тарифов \"Смарт\"/\"Ультра\": 2.4\n"
     ]
    }
   ],
   "source": [
    "# количество пользователей\n",
    "print('Количество пользователей тарифа \"Смарт\":', len(users_smart['user_id'].unique()))\n",
    "print('Количество пользователей тарифа \"Ультра\":', len(users_ultra['user_id'].unique()))\n",
    "print('Соотношение пользователей тарифов \"Смарт\"/\"Ультра\":',\n",
    "      '{:.1f}'.format(len(users_smart['user_id'].unique()) / len(users_ultra['user_id'].unique()))\n",
    ")"
   ]
  },
  {
   "cell_type": "code",
   "execution_count": 67,
   "metadata": {},
   "outputs": [
    {
     "name": "stdout",
     "output_type": "stream",
     "text": [
      "Средняя выручка тарифа \"Смарт\": 1290 руб.\n",
      "Средняя выручка тарифа \"Ультра\": 2070 руб.\n",
      "Соотношение средней выручки тарифов \"Смарт\"/\"Ультра\": 0.6\n"
     ]
    }
   ],
   "source": [
    "print(\n",
    "    'Средняя выручка тарифа \"Смарт\": {:.0f} руб.'.format(users_smart.describe()['income']['mean'])\n",
    ")\n",
    "print(\n",
    "    'Средняя выручка тарифа \"Ультра\": {:.0f} руб.'.format(users_ultra.describe()['income']['mean'])\n",
    ")\n",
    "print('Соотношение средней выручки тарифов \"Смарт\"/\"Ультра\":',\n",
    "      '{:.1f}'.format((users_smart.describe()['income']['mean']) / (users_ultra.describe()['income']['mean']))\n",
    ")"
   ]
  },
  {
   "cell_type": "markdown",
   "metadata": {},
   "source": [
    "Расчет средней выручки по выборке показывает, что тариф \"Ультра\" генерирует бОльшие поступления, чем тариф \"Смарт\". Тариф \"Смарт\" использует 2,4 раза больше пользователей, чем тариф \"Ультра\". При этом средняя выручка в тарифе smart на 60% меньше, чем в тарифе \"Ультра\".  \n",
    "Данный расчет произведен на выборке из 500 пользователей. Проверим, справедлива ли выявленная закономерность для все генеральной совокупности."
   ]
  },
  {
   "cell_type": "markdown",
   "metadata": {},
   "source": [
    "*Нулевая гипотеза*.  \n",
    "Средняя выручка тарифа \"Смарт\" равна средней выручке тарифа \"Ультра\".\n",
    "\n",
    "*Альтернативная гипотеза*.\n",
    "Средняя выручка тарифа \"Смарт\" отличается от средней выручке тарифа \"Ультра\".\n",
    "\n",
    "Для проверки нулевой гипотез необходимо посчитать р-уровень значимости для статистического различия средних двух генеральных совокупностей по имеющимся у нас выборкам. В соответствии с теорией, поскольку размер выборки значительно больше 30, значимым р-уровнем ( 𝛼 ) можно считать величину 0.05 (5%), поскольку t-распределение средних значений выборок стремиться к нормальному."
   ]
  },
  {
   "cell_type": "code",
   "execution_count": 68,
   "metadata": {},
   "outputs": [],
   "source": [
    "alpha = 0.05"
   ]
  },
  {
   "cell_type": "code",
   "execution_count": 69,
   "metadata": {},
   "outputs": [
    {
     "name": "stdout",
     "output_type": "stream",
     "text": [
      "p-значение: 1.4229814360764067e-160\n",
      "Отвергаем нулевую гипотезу\n"
     ]
    }
   ],
   "source": [
    "result_income = st.ttest_ind(users_smart['income'], users_ultra['income'])\n",
    "print('p-значение:', result_income.pvalue)\n",
    "\n",
    "if result_income.pvalue < alpha:\n",
    "    print('Отвергаем нулевую гипотезу')\n",
    "else:\n",
    "    print('Не получилось отвергнуть нулевую гипотезу') "
   ]
  },
  {
   "cell_type": "markdown",
   "metadata": {},
   "source": [
    "**Вывод**  \n",
    "Нулевая гипотеза о равенстве средней выручки в обоих тарифах может быть отвергнута. То есть средние генеральных совокупностей тарифов различаются, причем имеют характер различий, соответствующий имеющимися у нас выборкам: средняя выручка тарифа \"Ультра\" выше средней выручки тарифа \"Смарт\"."
   ]
  },
  {
   "cell_type": "markdown",
   "metadata": {},
   "source": [
    "### Средняя выручка пользователей из Москвы отличается от выручки пользователей из других регионов."
   ]
  },
  {
   "cell_type": "code",
   "execution_count": 70,
   "metadata": {},
   "outputs": [],
   "source": [
    "# датафреймы - Москва и прочие\n",
    "df_mos = report.query('city == \"Москва\"')\n",
    "df_other = report.query('not city == \"Москва\"')"
   ]
  },
  {
   "cell_type": "code",
   "execution_count": 71,
   "metadata": {},
   "outputs": [
    {
     "name": "stdout",
     "output_type": "stream",
     "text": [
      "Количество пользователей Москва: 99\n",
      "Количество пользователей другие города: 399\n",
      "Соотношение пользователей Москва/другие города: 0.2\n"
     ]
    }
   ],
   "source": [
    "# количество пользователей\n",
    "print('Количество пользователей Москва:', len(df_mos['user_id'].unique()))\n",
    "print('Количество пользователей другие города:', len(df_other['user_id'].unique()))\n",
    "print('Соотношение пользователей Москва/другие города:',\n",
    "      '{:.1f}'.format(len(df_mos['user_id'].unique()) / len(df_other['user_id'].unique()))\n",
    ")"
   ]
  },
  {
   "cell_type": "code",
   "execution_count": 72,
   "metadata": {},
   "outputs": [
    {
     "name": "stdout",
     "output_type": "stream",
     "text": [
      "Средняя выручка Москва: 1547 руб.\n",
      "Средняя выручка другие города: 1525 руб.\n",
      "Соотношение средней выручки Москва/другие города: 1.014\n"
     ]
    }
   ],
   "source": [
    "print(\n",
    "    'Средняя выручка Москва: {:.0f} руб.'.format(df_mos['income'].mean())\n",
    ")\n",
    "\n",
    "print(\n",
    "    'Средняя выручка другие города: {:.0f} руб.'.format(df_other['income'].mean())\n",
    ")\n",
    "print('Соотношение средней выручки Москва/другие города:',\n",
    "      '{:.3f}'.format((df_mos['income'].mean()) / (df_other['income'].mean()))\n",
    ")"
   ]
  },
  {
   "cell_type": "markdown",
   "metadata": {},
   "source": [
    "Средняя выручка в Москве и в остальных городах примерно равны.\n",
    "Данный расчет произведен на выборке из 500 пользователей. Проверим, справедлива ли выявленная закономерность для все генеральной совокупности."
   ]
  },
  {
   "cell_type": "markdown",
   "metadata": {},
   "source": [
    "*Нулевая гипотеза*.  \n",
    "Средняя выручка в Москве равна средней выручке в других городах.\n",
    "\n",
    "*Альтернативная гипотеза*.\n",
    "Средняя выручка в Москве отличается от средней выручке в других городах.  \n",
    "\n",
    "Для проверки нулевой гипотез необходимо посчитать р-уровень значимости для статистического различия средних двух генеральных совокупностей по имеющимся у нас выборкам. В соответствии с теорией, поскольку размер выборки значительно больше 30, значимым р-уровнем ( 𝛼 ) можно считать величину 0.05 (5%), поскольку t-распределение средних значений выборок стремиться к нормальному."
   ]
  },
  {
   "cell_type": "code",
   "execution_count": 73,
   "metadata": {},
   "outputs": [
    {
     "name": "stdout",
     "output_type": "stream",
     "text": [
      "p-значение: 0.5440152911670224\n",
      "Не получилось отвергнуть нулевую гипотезу\n"
     ]
    }
   ],
   "source": [
    "result_city = st.ttest_ind(df_mos['income'], df_other['income'])\n",
    "print('p-значение:', result_city.pvalue)\n",
    "\n",
    "if result_city.pvalue < alpha:\n",
    "    print('Отвергаем нулевую гипотезу')\n",
    "else:\n",
    "    print('Не получилось отвергнуть нулевую гипотезу') "
   ]
  },
  {
   "cell_type": "markdown",
   "metadata": {},
   "source": [
    "**Вывод**  \n",
    "Нулевая гипотеза о равенстве средней выручки в Москве и других городах не может быть отвергнута. В соответствии с имеющимися у нас выборкам: средняя выручка в Москве и в других городах примерно равны."
   ]
  },
  {
   "cell_type": "markdown",
   "metadata": {},
   "source": [
    "## Общий вывод"
   ]
  },
  {
   "cell_type": "markdown",
   "metadata": {},
   "source": [
    "В рамках исследования доходности тарифов \"Смарт\" и \"Ультра\" проанализирована выборка 500 пользователей.  \n",
    "\n",
    "**1 этап. Изучение общей информации.**\n",
    "В рамках данного этапа выявлены общие характеристики данных, произведено преобразование типов данных и произведена оценка аномальных значений:  \n",
    "- Входные данные представляют собой 5 таблиц - users, calls, messages, internet, tariffes.  \n",
    "- Столбцы, содержащие даты, преобразованы к формату datetime.  \n",
    "- Аномальные значения в таблицах отсутствуют.  \n",
    "\n",
    "**2 этап. Подготовка данных.**  \n",
    "В рамках данного этапа сформирован отчет, включающий в себя дополнительные показатели:\n",
    "- количество сделанных звонков и израсходованных минут разговора по месяцам;\n",
    "- количество отправленных сообщений по месяцам;\n",
    "- объем израсходованного интернет-трафика по месяцам.  \n",
    "Рассчитана ежемесячная выручка.  \n",
    "\n",
    "**3 этап. Анализ и описание данных.**  \n",
    "В результате анализа данных выявлено следующее:  \n",
    "\n",
    "*Среднестатистический пользователь* тарифа \"Смарт\" и тарифа \"Ультра\" практически укладывается в лимиты минут, сообщений и интернет-трафика, предусмотренные абонентской платой.  \n",
    "В тарифе \"Ультра\" пользователи с максимальной длительностью разговора и максимальным количеством сообщений находятся в рамках тарифных лимитов. Максимальное потребление интернет-трафика превышает лимит в 1,6 раза.  \n",
    "\n",
    "*Длительность разговоров.*  \n",
    "Основная часть пользователей *тарифа \"Смарт\"* тратит на разговоры 150-700 минут. Половина пользователей тарифа превышает лимит разговоров и оплачивает минуты дополнительно. Единичные случаи пользователей, разговаривающих более 1000 минут.  \n",
    "\n",
    "Наиболее популярная длительность разговоров *тарифа \"Ультра\"* выше и составляет 200-800 минут. В тарифе \"Ультра\" есть сегмент пользователей с длительностью разговоров 1000-1350 минут. Такой сегмент в тарифе \"Смарт\" почти отсутствует.  \n",
    "\n",
    "*Интернет-трафик.*  \n",
    "Основная часть пользователей *тарифа \"Смарт\"* использует 8-25 Гб. Примерно половина пользователей выберживает тарифный лимит трафика. Единичные случаи пользователей, использующих более 32 Гб.  \n",
    "\n",
    "Пользователи *тарифа \"Ультра\"* тратят 9-33 Гб, что  выше, чем в тарифе \"Смарт\". Преимущественно расход трафика укладывается в тарифный лимит - 30 Гб. В тарифе \"Ультра\" есть сегмент пользователей, использующих более 39 Гб. Такой сегмент в тарифе \"Смарт\" почти отсутствует. \n",
    "\n",
    "**Сообщения.**  \n",
    "Поведение пользователей тарифа \"Смарт\" и тарифа \"Ультра\"  схоже: максимальное количество пользователей не отправляет смс-сообщения.\n",
    "Пользователи *тарифа \"Смарт\"* преимущественно не превышают выделенный тарифом лимит сообщений - 50. Единичные пользователи отправляют свыше 110 сообщений. Пользователи *тарифа \"Ультра\"* при использовании смс-сообщений всегда укладываются в рамки тарифного лимита (1000 сообщений).\n",
    "\n",
    "**4 этап. Проверка гипотез.**  \n",
    "В рамках данного этапа проверены две гипотезы:  \n",
    "1. Средняя выручка пользователей тарифов «Ультра» и «Смарт» различается.\n",
    "2. Средняя выручка пользователей из Москвы отличается от выручки пользователей из других регионов.  \n",
    "\n",
    "В результате проверки гипотез выявлено, что средняя выручка тарифа \"Ультра\" выше средней выручки тарифа \"Смарт\", и средняя выручка не зависит от местонахождения пользователя - в Москве или в другом городе.\n",
    "\n",
    "По итогам исследования данных можно сделать вывод, что **тариф \"Ультра\" приносит компании больший доход в сравнении с тарифом \"Смарт\"**. "
   ]
  }
 ],
 "metadata": {
  "ExecuteTimeLog": [
   {
    "duration": 1426,
    "start_time": "2021-08-04T22:13:39.915Z"
   },
   {
    "duration": 59,
    "start_time": "2021-08-04T22:16:19.875Z"
   },
   {
    "duration": 15,
    "start_time": "2021-08-04T22:16:48.041Z"
   },
   {
    "duration": 44,
    "start_time": "2021-08-04T22:16:55.191Z"
   },
   {
    "duration": 16,
    "start_time": "2021-08-04T22:16:57.254Z"
   },
   {
    "duration": 12,
    "start_time": "2021-08-04T22:17:11.347Z"
   },
   {
    "duration": 10,
    "start_time": "2021-08-04T22:17:16.586Z"
   },
   {
    "duration": 17,
    "start_time": "2021-08-04T22:26:32.327Z"
   },
   {
    "duration": 15,
    "start_time": "2021-08-04T22:26:44.824Z"
   },
   {
    "duration": 128,
    "start_time": "2021-08-05T07:53:47.331Z"
   },
   {
    "duration": 7,
    "start_time": "2021-08-05T07:54:25.984Z"
   },
   {
    "duration": 9,
    "start_time": "2021-08-05T07:54:46.853Z"
   },
   {
    "duration": 47,
    "start_time": "2021-08-05T07:54:54.072Z"
   },
   {
    "duration": 15,
    "start_time": "2021-08-05T07:55:17.529Z"
   },
   {
    "duration": 5,
    "start_time": "2021-08-05T07:55:33.584Z"
   },
   {
    "duration": 1552,
    "start_time": "2021-08-05T07:55:34.054Z"
   },
   {
    "duration": 17,
    "start_time": "2021-08-05T07:55:35.609Z"
   },
   {
    "duration": 8,
    "start_time": "2021-08-05T07:55:35.629Z"
   },
   {
    "duration": 20,
    "start_time": "2021-08-05T07:55:35.640Z"
   },
   {
    "duration": 50,
    "start_time": "2021-08-05T07:56:15.458Z"
   },
   {
    "duration": 16,
    "start_time": "2021-08-05T07:56:16.292Z"
   },
   {
    "duration": 9,
    "start_time": "2021-08-05T07:56:16.614Z"
   },
   {
    "duration": 16,
    "start_time": "2021-08-05T07:56:16.873Z"
   },
   {
    "duration": 211,
    "start_time": "2021-08-05T07:57:16.116Z"
   },
   {
    "duration": 13,
    "start_time": "2021-08-05T07:57:31.624Z"
   },
   {
    "duration": 44,
    "start_time": "2021-08-05T07:57:53.504Z"
   },
   {
    "duration": 166,
    "start_time": "2021-08-05T08:01:17.091Z"
   },
   {
    "duration": 259,
    "start_time": "2021-08-05T08:01:18.934Z"
   },
   {
    "duration": 25,
    "start_time": "2021-08-05T08:01:19.514Z"
   },
   {
    "duration": 3431,
    "start_time": "2021-08-05T08:05:33.199Z"
   },
   {
    "duration": 5,
    "start_time": "2021-08-05T08:05:38.282Z"
   },
   {
    "duration": 71,
    "start_time": "2021-08-05T08:05:38.290Z"
   },
   {
    "duration": 16,
    "start_time": "2021-08-05T08:05:38.364Z"
   },
   {
    "duration": 10,
    "start_time": "2021-08-05T08:05:38.383Z"
   },
   {
    "duration": 22,
    "start_time": "2021-08-05T08:05:38.395Z"
   },
   {
    "duration": 229,
    "start_time": "2021-08-05T08:05:38.419Z"
   },
   {
    "duration": 14,
    "start_time": "2021-08-05T08:05:38.650Z"
   },
   {
    "duration": 35,
    "start_time": "2021-08-05T08:05:38.667Z"
   },
   {
    "duration": 17,
    "start_time": "2021-08-05T08:05:38.704Z"
   },
   {
    "duration": 135,
    "start_time": "2021-08-05T08:06:25.524Z"
   },
   {
    "duration": 43,
    "start_time": "2021-08-05T08:06:32.206Z"
   },
   {
    "duration": 27,
    "start_time": "2021-08-05T08:06:42.192Z"
   },
   {
    "duration": 28,
    "start_time": "2021-08-05T08:08:33.643Z"
   },
   {
    "duration": 120,
    "start_time": "2021-08-05T08:08:37.703Z"
   },
   {
    "duration": 12,
    "start_time": "2021-08-05T08:08:38.219Z"
   },
   {
    "duration": 19,
    "start_time": "2021-08-05T08:08:39.351Z"
   },
   {
    "duration": 39,
    "start_time": "2021-08-05T08:10:22.243Z"
   },
   {
    "duration": 175,
    "start_time": "2021-08-05T08:10:28.383Z"
   },
   {
    "duration": 13,
    "start_time": "2021-08-05T08:10:28.993Z"
   },
   {
    "duration": 24,
    "start_time": "2021-08-05T08:10:34.423Z"
   },
   {
    "duration": 3420,
    "start_time": "2021-08-05T08:15:47.017Z"
   },
   {
    "duration": 3410,
    "start_time": "2021-08-05T08:15:47.029Z"
   },
   {
    "duration": 3407,
    "start_time": "2021-08-05T08:15:47.033Z"
   },
   {
    "duration": 3407,
    "start_time": "2021-08-05T08:15:47.035Z"
   },
   {
    "duration": 3405,
    "start_time": "2021-08-05T08:15:47.038Z"
   },
   {
    "duration": 3404,
    "start_time": "2021-08-05T08:15:47.041Z"
   },
   {
    "duration": 3402,
    "start_time": "2021-08-05T08:15:47.044Z"
   },
   {
    "duration": 3395,
    "start_time": "2021-08-05T08:15:47.053Z"
   },
   {
    "duration": 3394,
    "start_time": "2021-08-05T08:15:47.056Z"
   },
   {
    "duration": 3392,
    "start_time": "2021-08-05T08:15:47.059Z"
   },
   {
    "duration": 3391,
    "start_time": "2021-08-05T08:15:47.062Z"
   },
   {
    "duration": 3390,
    "start_time": "2021-08-05T08:15:47.064Z"
   },
   {
    "duration": 3389,
    "start_time": "2021-08-05T08:15:47.066Z"
   },
   {
    "duration": 3388,
    "start_time": "2021-08-05T08:15:47.069Z"
   },
   {
    "duration": 3387,
    "start_time": "2021-08-05T08:15:47.071Z"
   },
   {
    "duration": 3387,
    "start_time": "2021-08-05T08:15:47.073Z"
   },
   {
    "duration": 3387,
    "start_time": "2021-08-05T08:15:47.077Z"
   },
   {
    "duration": 3386,
    "start_time": "2021-08-05T08:15:47.079Z"
   },
   {
    "duration": 3386,
    "start_time": "2021-08-05T08:15:47.081Z"
   },
   {
    "duration": 3377,
    "start_time": "2021-08-05T08:15:47.091Z"
   },
   {
    "duration": 1801,
    "start_time": "2021-08-05T08:16:14.737Z"
   },
   {
    "duration": 59,
    "start_time": "2021-08-05T08:16:16.541Z"
   },
   {
    "duration": 22,
    "start_time": "2021-08-05T08:16:16.603Z"
   },
   {
    "duration": 12,
    "start_time": "2021-08-05T08:16:16.627Z"
   },
   {
    "duration": 19,
    "start_time": "2021-08-05T08:16:16.642Z"
   },
   {
    "duration": 221,
    "start_time": "2021-08-05T08:16:16.663Z"
   },
   {
    "duration": 12,
    "start_time": "2021-08-05T08:16:16.886Z"
   },
   {
    "duration": 32,
    "start_time": "2021-08-05T08:16:16.901Z"
   },
   {
    "duration": 82,
    "start_time": "2021-08-05T08:16:16.936Z"
   },
   {
    "duration": 145,
    "start_time": "2021-08-05T08:16:17.021Z"
   },
   {
    "duration": 12,
    "start_time": "2021-08-05T08:16:17.169Z"
   },
   {
    "duration": 22,
    "start_time": "2021-08-05T08:16:17.183Z"
   },
   {
    "duration": 70,
    "start_time": "2021-08-05T08:16:17.208Z"
   },
   {
    "duration": 194,
    "start_time": "2021-08-05T08:16:17.281Z"
   },
   {
    "duration": 13,
    "start_time": "2021-08-05T08:16:17.478Z"
   },
   {
    "duration": 28,
    "start_time": "2021-08-05T08:16:17.493Z"
   },
   {
    "duration": 10029,
    "start_time": "2021-08-05T08:16:17.524Z"
   },
   {
    "duration": 3339,
    "start_time": "2021-08-05T08:16:24.217Z"
   },
   {
    "duration": 3339,
    "start_time": "2021-08-05T08:16:24.220Z"
   },
   {
    "duration": 3327,
    "start_time": "2021-08-05T08:16:24.234Z"
   },
   {
    "duration": 353,
    "start_time": "2021-08-05T08:16:47.257Z"
   },
   {
    "duration": 5,
    "start_time": "2021-08-05T08:16:52.028Z"
   },
   {
    "duration": 417,
    "start_time": "2021-08-05T08:17:23.327Z"
   },
   {
    "duration": 5,
    "start_time": "2021-08-05T08:18:20.326Z"
   },
   {
    "duration": 405,
    "start_time": "2021-08-05T08:18:20.334Z"
   },
   {
    "duration": 29,
    "start_time": "2021-08-05T08:18:39.557Z"
   },
   {
    "duration": 7,
    "start_time": "2021-08-05T08:18:40.637Z"
   },
   {
    "duration": 9,
    "start_time": "2021-08-05T08:18:55.528Z"
   },
   {
    "duration": 19,
    "start_time": "2021-08-05T08:18:59.458Z"
   },
   {
    "duration": 32,
    "start_time": "2021-08-05T08:19:33.330Z"
   },
   {
    "duration": 5,
    "start_time": "2021-08-05T08:21:06.589Z"
   },
   {
    "duration": 55,
    "start_time": "2021-08-05T08:21:06.598Z"
   },
   {
    "duration": 22,
    "start_time": "2021-08-05T08:21:06.657Z"
   },
   {
    "duration": 16,
    "start_time": "2021-08-05T08:21:06.682Z"
   },
   {
    "duration": 28,
    "start_time": "2021-08-05T08:21:06.701Z"
   },
   {
    "duration": 234,
    "start_time": "2021-08-05T08:21:06.731Z"
   },
   {
    "duration": 14,
    "start_time": "2021-08-05T08:21:06.967Z"
   },
   {
    "duration": 32,
    "start_time": "2021-08-05T08:21:06.984Z"
   },
   {
    "duration": 82,
    "start_time": "2021-08-05T08:21:07.020Z"
   },
   {
    "duration": 121,
    "start_time": "2021-08-05T08:21:07.105Z"
   },
   {
    "duration": 11,
    "start_time": "2021-08-05T08:21:07.228Z"
   },
   {
    "duration": 37,
    "start_time": "2021-08-05T08:21:07.241Z"
   },
   {
    "duration": 36,
    "start_time": "2021-08-05T08:21:07.280Z"
   },
   {
    "duration": 203,
    "start_time": "2021-08-05T08:21:07.318Z"
   },
   {
    "duration": 20,
    "start_time": "2021-08-05T08:21:07.523Z"
   },
   {
    "duration": 30,
    "start_time": "2021-08-05T08:21:07.545Z"
   },
   {
    "duration": 31,
    "start_time": "2021-08-05T08:21:07.577Z"
   },
   {
    "duration": 69,
    "start_time": "2021-08-05T08:21:57.877Z"
   },
   {
    "duration": 654,
    "start_time": "2021-08-05T08:23:11.808Z"
   },
   {
    "duration": 11,
    "start_time": "2021-08-05T08:23:13.708Z"
   },
   {
    "duration": 10,
    "start_time": "2021-08-05T08:23:15.527Z"
   },
   {
    "duration": 11,
    "start_time": "2021-08-05T08:23:32.398Z"
   },
   {
    "duration": 6,
    "start_time": "2021-08-05T08:33:13.257Z"
   },
   {
    "duration": 6,
    "start_time": "2021-08-05T08:35:19.491Z"
   },
   {
    "duration": 7,
    "start_time": "2021-08-05T08:44:04.867Z"
   },
   {
    "duration": 122,
    "start_time": "2021-08-05T08:44:41.008Z"
   },
   {
    "duration": 8,
    "start_time": "2021-08-05T08:44:44.258Z"
   },
   {
    "duration": 13,
    "start_time": "2021-08-05T08:46:37.418Z"
   },
   {
    "duration": 8,
    "start_time": "2021-08-05T08:48:00.688Z"
   },
   {
    "duration": 10,
    "start_time": "2021-08-05T08:48:32.457Z"
   },
   {
    "duration": 107,
    "start_time": "2021-08-05T08:48:39.607Z"
   },
   {
    "duration": 8,
    "start_time": "2021-08-05T08:48:45.578Z"
   },
   {
    "duration": 18,
    "start_time": "2021-08-05T08:49:21.077Z"
   },
   {
    "duration": 8,
    "start_time": "2021-08-05T08:49:45.517Z"
   },
   {
    "duration": 5,
    "start_time": "2021-08-05T08:53:00.918Z"
   },
   {
    "duration": 77,
    "start_time": "2021-08-05T08:53:00.926Z"
   },
   {
    "duration": 24,
    "start_time": "2021-08-05T08:53:01.006Z"
   },
   {
    "duration": 37,
    "start_time": "2021-08-05T08:53:01.033Z"
   },
   {
    "duration": 31,
    "start_time": "2021-08-05T08:53:01.073Z"
   },
   {
    "duration": 14,
    "start_time": "2021-08-05T08:53:01.107Z"
   },
   {
    "duration": 16,
    "start_time": "2021-08-05T08:53:01.123Z"
   },
   {
    "duration": 23,
    "start_time": "2021-08-05T08:53:01.142Z"
   },
   {
    "duration": 14,
    "start_time": "2021-08-05T08:53:01.171Z"
   },
   {
    "duration": 22,
    "start_time": "2021-08-05T08:53:01.187Z"
   },
   {
    "duration": 18,
    "start_time": "2021-08-05T08:53:01.211Z"
   },
   {
    "duration": 231,
    "start_time": "2021-08-05T08:53:01.231Z"
   },
   {
    "duration": 12,
    "start_time": "2021-08-05T08:53:01.465Z"
   },
   {
    "duration": 43,
    "start_time": "2021-08-05T08:53:01.479Z"
   },
   {
    "duration": 66,
    "start_time": "2021-08-05T08:53:01.524Z"
   },
   {
    "duration": 120,
    "start_time": "2021-08-05T08:53:01.592Z"
   },
   {
    "duration": 11,
    "start_time": "2021-08-05T08:53:01.715Z"
   },
   {
    "duration": 39,
    "start_time": "2021-08-05T08:53:01.728Z"
   },
   {
    "duration": 44,
    "start_time": "2021-08-05T08:53:01.770Z"
   },
   {
    "duration": 189,
    "start_time": "2021-08-05T08:53:01.818Z"
   },
   {
    "duration": 13,
    "start_time": "2021-08-05T08:53:02.010Z"
   },
   {
    "duration": 62,
    "start_time": "2021-08-05T08:53:02.026Z"
   },
   {
    "duration": 72,
    "start_time": "2021-08-05T08:53:02.091Z"
   },
   {
    "duration": 18,
    "start_time": "2021-08-05T08:53:02.166Z"
   },
   {
    "duration": 23,
    "start_time": "2021-08-05T08:53:02.186Z"
   },
   {
    "duration": 14,
    "start_time": "2021-08-05T08:53:02.212Z"
   },
   {
    "duration": 87,
    "start_time": "2021-08-05T08:55:42.708Z"
   },
   {
    "duration": 16,
    "start_time": "2021-08-05T08:56:46.577Z"
   },
   {
    "duration": 20,
    "start_time": "2021-08-05T08:57:52.828Z"
   },
   {
    "duration": 381,
    "start_time": "2021-08-07T10:54:59.303Z"
   },
   {
    "duration": 1381,
    "start_time": "2021-08-07T10:55:06.295Z"
   },
   {
    "duration": 38,
    "start_time": "2021-08-07T10:55:07.678Z"
   },
   {
    "duration": 29,
    "start_time": "2021-08-07T10:55:07.720Z"
   },
   {
    "duration": 15,
    "start_time": "2021-08-07T10:55:07.752Z"
   },
   {
    "duration": 18,
    "start_time": "2021-08-07T10:55:07.771Z"
   },
   {
    "duration": 8,
    "start_time": "2021-08-07T10:55:07.791Z"
   },
   {
    "duration": 21,
    "start_time": "2021-08-07T10:55:07.802Z"
   },
   {
    "duration": 47,
    "start_time": "2021-08-07T10:55:07.826Z"
   },
   {
    "duration": 12,
    "start_time": "2021-08-07T10:55:07.878Z"
   },
   {
    "duration": 17,
    "start_time": "2021-08-07T10:55:07.893Z"
   },
   {
    "duration": 13,
    "start_time": "2021-08-07T10:55:07.913Z"
   },
   {
    "duration": 235,
    "start_time": "2021-08-07T10:55:07.929Z"
   },
   {
    "duration": 16,
    "start_time": "2021-08-07T10:55:08.167Z"
   },
   {
    "duration": 46,
    "start_time": "2021-08-07T10:55:08.187Z"
   },
   {
    "duration": 112,
    "start_time": "2021-08-07T10:55:08.236Z"
   },
   {
    "duration": 112,
    "start_time": "2021-08-07T10:55:08.363Z"
   },
   {
    "duration": 16,
    "start_time": "2021-08-07T10:55:08.478Z"
   },
   {
    "duration": 19,
    "start_time": "2021-08-07T10:55:08.496Z"
   },
   {
    "duration": 152,
    "start_time": "2021-08-07T10:55:08.518Z"
   },
   {
    "duration": 12,
    "start_time": "2021-08-07T10:55:08.674Z"
   },
   {
    "duration": 26,
    "start_time": "2021-08-07T10:55:08.688Z"
   },
   {
    "duration": 62,
    "start_time": "2021-08-07T10:55:08.716Z"
   },
   {
    "duration": 36,
    "start_time": "2021-08-07T10:55:08.781Z"
   },
   {
    "duration": 195,
    "start_time": "2021-08-07T10:55:08.820Z"
   },
   {
    "duration": 15,
    "start_time": "2021-08-07T10:55:09.017Z"
   },
   {
    "duration": 47,
    "start_time": "2021-08-07T10:55:09.034Z"
   },
   {
    "duration": 46,
    "start_time": "2021-08-07T10:55:09.087Z"
   },
   {
    "duration": 33,
    "start_time": "2021-08-07T10:55:09.135Z"
   },
   {
    "duration": 18,
    "start_time": "2021-08-07T10:55:09.172Z"
   },
   {
    "duration": 15,
    "start_time": "2021-08-07T10:55:09.193Z"
   },
   {
    "duration": 13,
    "start_time": "2021-08-07T12:32:47.943Z"
   },
   {
    "duration": 20,
    "start_time": "2021-08-07T15:03:54.263Z"
   },
   {
    "duration": 25,
    "start_time": "2021-08-07T15:08:07.993Z"
   },
   {
    "duration": 379,
    "start_time": "2021-08-07T15:08:30.492Z"
   },
   {
    "duration": 15,
    "start_time": "2021-08-07T15:08:37.983Z"
   },
   {
    "duration": 9,
    "start_time": "2021-08-07T15:11:40.483Z"
   },
   {
    "duration": 6,
    "start_time": "2021-08-07T15:13:51.635Z"
   },
   {
    "duration": 50,
    "start_time": "2021-08-07T15:13:51.645Z"
   },
   {
    "duration": 25,
    "start_time": "2021-08-07T15:13:51.700Z"
   },
   {
    "duration": 18,
    "start_time": "2021-08-07T15:13:51.729Z"
   },
   {
    "duration": 30,
    "start_time": "2021-08-07T15:13:51.751Z"
   },
   {
    "duration": 9,
    "start_time": "2021-08-07T15:13:51.784Z"
   },
   {
    "duration": 20,
    "start_time": "2021-08-07T15:13:51.796Z"
   },
   {
    "duration": 45,
    "start_time": "2021-08-07T15:13:51.819Z"
   },
   {
    "duration": 14,
    "start_time": "2021-08-07T15:13:51.870Z"
   },
   {
    "duration": 21,
    "start_time": "2021-08-07T15:13:51.888Z"
   },
   {
    "duration": 16,
    "start_time": "2021-08-07T15:13:51.912Z"
   },
   {
    "duration": 334,
    "start_time": "2021-08-07T15:13:51.931Z"
   },
   {
    "duration": 17,
    "start_time": "2021-08-07T15:13:52.269Z"
   },
   {
    "duration": 59,
    "start_time": "2021-08-07T15:13:52.289Z"
   },
   {
    "duration": 99,
    "start_time": "2021-08-07T15:13:52.363Z"
   },
   {
    "duration": 120,
    "start_time": "2021-08-07T15:13:52.466Z"
   },
   {
    "duration": 23,
    "start_time": "2021-08-07T15:13:52.589Z"
   },
   {
    "duration": 49,
    "start_time": "2021-08-07T15:13:52.615Z"
   },
   {
    "duration": 177,
    "start_time": "2021-08-07T15:13:52.667Z"
   },
   {
    "duration": 22,
    "start_time": "2021-08-07T15:13:52.847Z"
   },
   {
    "duration": 26,
    "start_time": "2021-08-07T15:13:52.872Z"
   },
   {
    "duration": 38,
    "start_time": "2021-08-07T15:13:52.900Z"
   },
   {
    "duration": 36,
    "start_time": "2021-08-07T15:13:52.961Z"
   },
   {
    "duration": 12,
    "start_time": "2021-08-07T15:13:53.000Z"
   },
   {
    "duration": 285,
    "start_time": "2021-08-07T15:13:53.015Z"
   },
   {
    "duration": 27,
    "start_time": "2021-08-07T15:13:53.304Z"
   },
   {
    "duration": 54,
    "start_time": "2021-08-07T15:13:53.339Z"
   },
   {
    "duration": 18,
    "start_time": "2021-08-07T15:13:53.396Z"
   },
   {
    "duration": 100,
    "start_time": "2021-08-07T15:13:53.417Z"
   },
   {
    "duration": 9,
    "start_time": "2021-08-07T15:13:53.520Z"
   },
   {
    "duration": 35,
    "start_time": "2021-08-07T15:13:53.532Z"
   },
   {
    "duration": 19,
    "start_time": "2021-08-07T15:13:53.570Z"
   },
   {
    "duration": 28,
    "start_time": "2021-08-07T15:13:53.593Z"
   },
   {
    "duration": 46,
    "start_time": "2021-08-07T15:14:41.453Z"
   },
   {
    "duration": 13,
    "start_time": "2021-08-07T15:16:30.733Z"
   },
   {
    "duration": 20,
    "start_time": "2021-08-07T15:17:01.192Z"
   },
   {
    "duration": 31,
    "start_time": "2021-08-07T23:14:58.011Z"
   },
   {
    "duration": 40,
    "start_time": "2021-08-07T23:15:08.970Z"
   },
   {
    "duration": 40,
    "start_time": "2021-08-07T23:15:14.000Z"
   },
   {
    "duration": 30,
    "start_time": "2021-08-07T23:16:56.632Z"
   },
   {
    "duration": 37,
    "start_time": "2021-08-07T23:17:31.965Z"
   },
   {
    "duration": 386,
    "start_time": "2021-08-07T23:34:27.911Z"
   },
   {
    "duration": 3,
    "start_time": "2021-08-07T23:35:37.461Z"
   },
   {
    "duration": 374,
    "start_time": "2021-08-07T23:35:38.050Z"
   },
   {
    "duration": 355,
    "start_time": "2021-08-07T23:37:05.640Z"
   },
   {
    "duration": 359,
    "start_time": "2021-08-07T23:37:56.339Z"
   },
   {
    "duration": 4,
    "start_time": "2021-08-07T23:38:17.841Z"
   },
   {
    "duration": 365,
    "start_time": "2021-08-07T23:38:18.541Z"
   },
   {
    "duration": 37,
    "start_time": "2021-08-07T23:38:30.193Z"
   },
   {
    "duration": 123,
    "start_time": "2021-08-07T23:39:21.101Z"
   },
   {
    "duration": 25,
    "start_time": "2021-08-07T23:40:57.781Z"
   },
   {
    "duration": 45,
    "start_time": "2021-08-07T23:41:02.780Z"
   },
   {
    "duration": 40,
    "start_time": "2021-08-07T23:41:21.734Z"
   },
   {
    "duration": 172,
    "start_time": "2021-08-07T23:41:56.211Z"
   },
   {
    "duration": 9413,
    "start_time": "2021-08-07T23:42:36.477Z"
   },
   {
    "duration": 35,
    "start_time": "2021-08-07T23:44:37.758Z"
   },
   {
    "duration": 25,
    "start_time": "2021-08-07T23:45:39.220Z"
   },
   {
    "duration": 5,
    "start_time": "2021-08-07T23:47:01.746Z"
   },
   {
    "duration": 18,
    "start_time": "2021-08-07T23:47:09.330Z"
   },
   {
    "duration": 35,
    "start_time": "2021-08-07T23:48:50.641Z"
   },
   {
    "duration": 34,
    "start_time": "2021-08-07T23:54:05.420Z"
   },
   {
    "duration": 9760,
    "start_time": "2021-08-07T23:56:04.091Z"
   },
   {
    "duration": 2028,
    "start_time": "2021-08-07T23:56:11.826Z"
   },
   {
    "duration": 5,
    "start_time": "2021-08-07T23:56:15.313Z"
   },
   {
    "duration": 39,
    "start_time": "2021-08-07T23:56:15.321Z"
   },
   {
    "duration": 16,
    "start_time": "2021-08-07T23:56:15.363Z"
   },
   {
    "duration": 14,
    "start_time": "2021-08-07T23:56:15.382Z"
   },
   {
    "duration": 20,
    "start_time": "2021-08-07T23:56:15.399Z"
   },
   {
    "duration": 7,
    "start_time": "2021-08-07T23:56:15.422Z"
   },
   {
    "duration": 8,
    "start_time": "2021-08-07T23:56:15.463Z"
   },
   {
    "duration": 16,
    "start_time": "2021-08-07T23:56:15.473Z"
   },
   {
    "duration": 12,
    "start_time": "2021-08-07T23:56:15.493Z"
   },
   {
    "duration": 56,
    "start_time": "2021-08-07T23:56:15.508Z"
   },
   {
    "duration": 8,
    "start_time": "2021-08-07T23:56:15.566Z"
   },
   {
    "duration": 226,
    "start_time": "2021-08-07T23:56:15.577Z"
   },
   {
    "duration": 12,
    "start_time": "2021-08-07T23:56:15.805Z"
   },
   {
    "duration": 50,
    "start_time": "2021-08-07T23:56:15.819Z"
   },
   {
    "duration": 55,
    "start_time": "2021-08-07T23:56:15.872Z"
   },
   {
    "duration": 101,
    "start_time": "2021-08-07T23:56:15.929Z"
   },
   {
    "duration": 33,
    "start_time": "2021-08-07T23:56:16.032Z"
   },
   {
    "duration": 19,
    "start_time": "2021-08-07T23:56:16.068Z"
   },
   {
    "duration": 133,
    "start_time": "2021-08-07T23:56:16.089Z"
   },
   {
    "duration": 12,
    "start_time": "2021-08-07T23:56:16.224Z"
   },
   {
    "duration": 39,
    "start_time": "2021-08-07T23:56:16.239Z"
   },
   {
    "duration": 34,
    "start_time": "2021-08-07T23:56:16.281Z"
   },
   {
    "duration": 67,
    "start_time": "2021-08-07T23:56:16.318Z"
   },
   {
    "duration": 14,
    "start_time": "2021-08-07T23:56:16.387Z"
   },
   {
    "duration": 261,
    "start_time": "2021-08-07T23:56:16.403Z"
   },
   {
    "duration": 27,
    "start_time": "2021-08-07T23:56:16.667Z"
   },
   {
    "duration": 60,
    "start_time": "2021-08-07T23:56:16.702Z"
   },
   {
    "duration": 16,
    "start_time": "2021-08-07T23:56:16.766Z"
   },
   {
    "duration": 44,
    "start_time": "2021-08-07T23:56:16.785Z"
   },
   {
    "duration": 57,
    "start_time": "2021-08-07T23:56:16.831Z"
   },
   {
    "duration": 16,
    "start_time": "2021-08-07T23:56:16.891Z"
   },
   {
    "duration": 14,
    "start_time": "2021-08-07T23:56:16.909Z"
   },
   {
    "duration": 18,
    "start_time": "2021-08-07T23:56:16.961Z"
   },
   {
    "duration": 19,
    "start_time": "2021-08-07T23:56:16.981Z"
   },
   {
    "duration": 10,
    "start_time": "2021-08-07T23:56:17.003Z"
   },
   {
    "duration": 66,
    "start_time": "2021-08-07T23:56:17.015Z"
   },
   {
    "duration": 4,
    "start_time": "2021-08-07T23:56:17.083Z"
   },
   {
    "duration": 46,
    "start_time": "2021-08-07T23:56:17.089Z"
   },
   {
    "duration": 50,
    "start_time": "2021-08-07T23:56:17.137Z"
   },
   {
    "duration": 2025,
    "start_time": "2021-08-07T23:56:24.132Z"
   },
   {
    "duration": 9782,
    "start_time": "2021-08-07T23:56:30.590Z"
   },
   {
    "duration": 15,
    "start_time": "2021-08-07T23:57:44.841Z"
   },
   {
    "duration": 35,
    "start_time": "2021-08-08T00:00:41.171Z"
   },
   {
    "duration": 28,
    "start_time": "2021-08-08T00:00:56.041Z"
   },
   {
    "duration": 26,
    "start_time": "2021-08-08T00:01:16.050Z"
   },
   {
    "duration": 110,
    "start_time": "2021-08-08T00:02:10.980Z"
   },
   {
    "duration": 144,
    "start_time": "2021-08-08T00:02:18.880Z"
   },
   {
    "duration": 121,
    "start_time": "2021-08-08T00:02:31.511Z"
   },
   {
    "duration": 41,
    "start_time": "2021-08-08T00:02:36.533Z"
   },
   {
    "duration": 42,
    "start_time": "2021-08-08T00:03:05.871Z"
   },
   {
    "duration": 122,
    "start_time": "2021-08-08T00:03:12.141Z"
   },
   {
    "duration": 42,
    "start_time": "2021-08-08T00:03:18.706Z"
   },
   {
    "duration": 28,
    "start_time": "2021-08-08T00:07:30.241Z"
   },
   {
    "duration": 34,
    "start_time": "2021-08-08T00:07:39.790Z"
   },
   {
    "duration": 645,
    "start_time": "2021-08-08T00:08:51.250Z"
   },
   {
    "duration": 29,
    "start_time": "2021-08-08T00:09:14.581Z"
   },
   {
    "duration": 30,
    "start_time": "2021-08-08T00:09:24.730Z"
   },
   {
    "duration": 3,
    "start_time": "2021-08-08T06:47:54.180Z"
   },
   {
    "duration": 377,
    "start_time": "2021-08-09T09:00:22.824Z"
   },
   {
    "duration": 353,
    "start_time": "2021-08-09T09:01:50.312Z"
   },
   {
    "duration": 6,
    "start_time": "2021-08-09T09:05:37.191Z"
   },
   {
    "duration": 10,
    "start_time": "2021-08-09T09:05:47.001Z"
   },
   {
    "duration": 1449,
    "start_time": "2021-08-09T09:06:11.575Z"
   },
   {
    "duration": 37,
    "start_time": "2021-08-09T09:06:13.027Z"
   },
   {
    "duration": 25,
    "start_time": "2021-08-09T09:06:13.067Z"
   },
   {
    "duration": 15,
    "start_time": "2021-08-09T09:06:13.096Z"
   },
   {
    "duration": 26,
    "start_time": "2021-08-09T09:06:13.114Z"
   },
   {
    "duration": 25,
    "start_time": "2021-08-09T09:06:13.142Z"
   },
   {
    "duration": 14,
    "start_time": "2021-08-09T09:06:13.170Z"
   },
   {
    "duration": 16,
    "start_time": "2021-08-09T09:06:13.188Z"
   },
   {
    "duration": 16,
    "start_time": "2021-08-09T09:06:13.206Z"
   },
   {
    "duration": 46,
    "start_time": "2021-08-09T09:06:13.225Z"
   },
   {
    "duration": 10,
    "start_time": "2021-08-09T09:06:13.274Z"
   },
   {
    "duration": 234,
    "start_time": "2021-08-09T09:06:13.286Z"
   },
   {
    "duration": 11,
    "start_time": "2021-08-09T09:06:13.523Z"
   },
   {
    "duration": 46,
    "start_time": "2021-08-09T09:06:13.537Z"
   },
   {
    "duration": 82,
    "start_time": "2021-08-09T09:06:13.586Z"
   },
   {
    "duration": 6,
    "start_time": "2021-08-09T09:06:13.670Z"
   },
   {
    "duration": 94,
    "start_time": "2021-08-09T09:06:13.678Z"
   },
   {
    "duration": 18,
    "start_time": "2021-08-09T09:06:13.775Z"
   },
   {
    "duration": 28,
    "start_time": "2021-08-09T09:06:13.795Z"
   },
   {
    "duration": 135,
    "start_time": "2021-08-09T09:06:13.826Z"
   },
   {
    "duration": 11,
    "start_time": "2021-08-09T09:06:13.964Z"
   },
   {
    "duration": 27,
    "start_time": "2021-08-09T09:06:13.978Z"
   },
   {
    "duration": 52,
    "start_time": "2021-08-09T09:06:14.010Z"
   },
   {
    "duration": 37,
    "start_time": "2021-08-09T09:06:14.065Z"
   },
   {
    "duration": 13,
    "start_time": "2021-08-09T09:06:14.104Z"
   },
   {
    "duration": 198,
    "start_time": "2021-08-09T09:06:14.120Z"
   },
   {
    "duration": 20,
    "start_time": "2021-08-09T09:06:14.320Z"
   },
   {
    "duration": 39,
    "start_time": "2021-08-09T09:06:14.343Z"
   },
   {
    "duration": 43,
    "start_time": "2021-08-09T09:06:14.385Z"
   },
   {
    "duration": 45,
    "start_time": "2021-08-09T09:06:14.431Z"
   },
   {
    "duration": 32,
    "start_time": "2021-08-09T09:06:14.479Z"
   },
   {
    "duration": 18,
    "start_time": "2021-08-09T09:06:14.513Z"
   },
   {
    "duration": 39,
    "start_time": "2021-08-09T09:06:14.533Z"
   },
   {
    "duration": 34,
    "start_time": "2021-08-09T09:06:14.574Z"
   },
   {
    "duration": 16,
    "start_time": "2021-08-09T09:06:14.610Z"
   },
   {
    "duration": 10,
    "start_time": "2021-08-09T09:06:14.628Z"
   },
   {
    "duration": 53,
    "start_time": "2021-08-09T09:06:14.641Z"
   },
   {
    "duration": 3,
    "start_time": "2021-08-09T09:06:14.697Z"
   },
   {
    "duration": 45,
    "start_time": "2021-08-09T09:06:14.702Z"
   },
   {
    "duration": 30,
    "start_time": "2021-08-09T09:06:14.762Z"
   },
   {
    "duration": 29,
    "start_time": "2021-08-09T09:06:14.794Z"
   },
   {
    "duration": 65,
    "start_time": "2021-08-09T09:06:14.825Z"
   },
   {
    "duration": 25,
    "start_time": "2021-08-09T09:06:14.892Z"
   },
   {
    "duration": 89,
    "start_time": "2021-08-09T09:06:44.942Z"
   },
   {
    "duration": 59,
    "start_time": "2021-08-09T09:06:59.891Z"
   },
   {
    "duration": 46,
    "start_time": "2021-08-09T09:07:03.209Z"
   },
   {
    "duration": 71,
    "start_time": "2021-08-09T09:07:14.846Z"
   },
   {
    "duration": 45,
    "start_time": "2021-08-09T09:07:15.293Z"
   },
   {
    "duration": 96,
    "start_time": "2021-08-09T09:07:22.811Z"
   },
   {
    "duration": 3,
    "start_time": "2021-08-09T09:07:23.072Z"
   },
   {
    "duration": 65,
    "start_time": "2021-08-09T09:07:23.650Z"
   },
   {
    "duration": 63,
    "start_time": "2021-08-09T09:07:24.893Z"
   },
   {
    "duration": 53,
    "start_time": "2021-08-09T09:07:25.329Z"
   },
   {
    "duration": 74,
    "start_time": "2021-08-09T09:07:26.650Z"
   },
   {
    "duration": 37,
    "start_time": "2021-08-09T09:07:27.382Z"
   },
   {
    "duration": 1437,
    "start_time": "2021-08-09T09:15:53.905Z"
   },
   {
    "duration": 35,
    "start_time": "2021-08-09T09:15:55.344Z"
   },
   {
    "duration": 34,
    "start_time": "2021-08-09T09:15:55.382Z"
   },
   {
    "duration": 10,
    "start_time": "2021-08-09T09:15:55.419Z"
   },
   {
    "duration": 22,
    "start_time": "2021-08-09T09:15:55.431Z"
   },
   {
    "duration": 34,
    "start_time": "2021-08-09T09:15:55.455Z"
   },
   {
    "duration": 25,
    "start_time": "2021-08-09T09:15:55.491Z"
   },
   {
    "duration": 25,
    "start_time": "2021-08-09T09:15:55.519Z"
   },
   {
    "duration": 16,
    "start_time": "2021-08-09T09:15:55.547Z"
   },
   {
    "duration": 22,
    "start_time": "2021-08-09T09:15:55.565Z"
   },
   {
    "duration": 15,
    "start_time": "2021-08-09T09:15:55.590Z"
   },
   {
    "duration": 219,
    "start_time": "2021-08-09T09:15:55.607Z"
   },
   {
    "duration": 13,
    "start_time": "2021-08-09T09:15:55.828Z"
   },
   {
    "duration": 30,
    "start_time": "2021-08-09T09:15:55.861Z"
   },
   {
    "duration": 86,
    "start_time": "2021-08-09T09:15:55.894Z"
   },
   {
    "duration": 6,
    "start_time": "2021-08-09T09:15:55.984Z"
   },
   {
    "duration": 100,
    "start_time": "2021-08-09T09:15:55.993Z"
   },
   {
    "duration": 18,
    "start_time": "2021-08-09T09:15:56.096Z"
   },
   {
    "duration": 46,
    "start_time": "2021-08-09T09:15:56.117Z"
   },
   {
    "duration": 131,
    "start_time": "2021-08-09T09:15:56.166Z"
   },
   {
    "duration": 13,
    "start_time": "2021-08-09T09:15:56.299Z"
   },
   {
    "duration": 25,
    "start_time": "2021-08-09T09:15:56.315Z"
   },
   {
    "duration": 37,
    "start_time": "2021-08-09T09:15:56.367Z"
   },
   {
    "duration": 58,
    "start_time": "2021-08-09T09:15:56.407Z"
   },
   {
    "duration": 13,
    "start_time": "2021-08-09T09:15:56.467Z"
   },
   {
    "duration": 187,
    "start_time": "2021-08-09T09:15:56.482Z"
   },
   {
    "duration": 19,
    "start_time": "2021-08-09T09:15:56.671Z"
   },
   {
    "duration": 39,
    "start_time": "2021-08-09T09:15:56.693Z"
   },
   {
    "duration": 42,
    "start_time": "2021-08-09T09:15:56.735Z"
   },
   {
    "duration": 88,
    "start_time": "2021-08-09T09:15:56.780Z"
   },
   {
    "duration": 49,
    "start_time": "2021-08-09T09:15:56.871Z"
   },
   {
    "duration": 43,
    "start_time": "2021-08-09T09:15:56.923Z"
   },
   {
    "duration": 19,
    "start_time": "2021-08-09T09:15:56.969Z"
   },
   {
    "duration": 20,
    "start_time": "2021-08-09T09:15:56.991Z"
   },
   {
    "duration": 16,
    "start_time": "2021-08-09T09:15:57.014Z"
   },
   {
    "duration": 13,
    "start_time": "2021-08-09T09:15:57.061Z"
   },
   {
    "duration": 158,
    "start_time": "2021-08-09T09:15:57.077Z"
   },
   {
    "duration": 4,
    "start_time": "2021-08-09T09:15:57.238Z"
   },
   {
    "duration": 93,
    "start_time": "2021-08-09T09:15:57.245Z"
   },
   {
    "duration": 71,
    "start_time": "2021-08-09T09:15:57.340Z"
   },
   {
    "duration": 82,
    "start_time": "2021-08-09T09:15:57.414Z"
   },
   {
    "duration": 79,
    "start_time": "2021-08-09T09:15:57.499Z"
   },
   {
    "duration": 48,
    "start_time": "2021-08-09T09:15:57.581Z"
   },
   {
    "duration": 456,
    "start_time": "2021-08-09T09:19:38.148Z"
   },
   {
    "duration": 731,
    "start_time": "2021-08-09T09:23:35.715Z"
   },
   {
    "duration": 1882,
    "start_time": "2021-08-09T09:23:42.696Z"
   },
   {
    "duration": 40,
    "start_time": "2021-08-09T09:23:44.582Z"
   },
   {
    "duration": 28,
    "start_time": "2021-08-09T09:23:44.626Z"
   },
   {
    "duration": 10,
    "start_time": "2021-08-09T09:23:44.657Z"
   },
   {
    "duration": 17,
    "start_time": "2021-08-09T09:23:44.670Z"
   },
   {
    "duration": 7,
    "start_time": "2021-08-09T09:23:44.689Z"
   },
   {
    "duration": 8,
    "start_time": "2021-08-09T09:23:44.698Z"
   },
   {
    "duration": 64,
    "start_time": "2021-08-09T09:23:44.708Z"
   },
   {
    "duration": 19,
    "start_time": "2021-08-09T09:23:44.777Z"
   },
   {
    "duration": 20,
    "start_time": "2021-08-09T09:23:44.799Z"
   },
   {
    "duration": 44,
    "start_time": "2021-08-09T09:23:44.821Z"
   },
   {
    "duration": 216,
    "start_time": "2021-08-09T09:23:44.868Z"
   },
   {
    "duration": 12,
    "start_time": "2021-08-09T09:23:45.087Z"
   },
   {
    "duration": 34,
    "start_time": "2021-08-09T09:23:45.101Z"
   },
   {
    "duration": 81,
    "start_time": "2021-08-09T09:23:45.138Z"
   },
   {
    "duration": 5,
    "start_time": "2021-08-09T09:23:45.221Z"
   },
   {
    "duration": 112,
    "start_time": "2021-08-09T09:23:45.229Z"
   },
   {
    "duration": 30,
    "start_time": "2021-08-09T09:23:45.343Z"
   },
   {
    "duration": 20,
    "start_time": "2021-08-09T09:23:45.376Z"
   },
   {
    "duration": 135,
    "start_time": "2021-08-09T09:23:45.398Z"
   },
   {
    "duration": 11,
    "start_time": "2021-08-09T09:23:45.536Z"
   },
   {
    "duration": 32,
    "start_time": "2021-08-09T09:23:45.549Z"
   },
   {
    "duration": 36,
    "start_time": "2021-08-09T09:23:45.584Z"
   },
   {
    "duration": 68,
    "start_time": "2021-08-09T09:23:45.623Z"
   },
   {
    "duration": 14,
    "start_time": "2021-08-09T09:23:45.693Z"
   },
   {
    "duration": 181,
    "start_time": "2021-08-09T09:23:45.709Z"
   },
   {
    "duration": 19,
    "start_time": "2021-08-09T09:23:45.895Z"
   },
   {
    "duration": 31,
    "start_time": "2021-08-09T09:23:45.917Z"
   },
   {
    "duration": 12,
    "start_time": "2021-08-09T09:23:45.963Z"
   },
   {
    "duration": 57,
    "start_time": "2021-08-09T09:23:45.977Z"
   },
   {
    "duration": 47,
    "start_time": "2021-08-09T09:23:46.036Z"
   },
   {
    "duration": 18,
    "start_time": "2021-08-09T09:23:46.085Z"
   },
   {
    "duration": 13,
    "start_time": "2021-08-09T09:23:46.105Z"
   },
   {
    "duration": 16,
    "start_time": "2021-08-09T09:23:46.121Z"
   },
   {
    "duration": 12,
    "start_time": "2021-08-09T09:23:46.161Z"
   },
   {
    "duration": 14,
    "start_time": "2021-08-09T09:23:46.175Z"
   },
   {
    "duration": 121,
    "start_time": "2021-08-09T09:23:46.191Z"
   },
   {
    "duration": 4,
    "start_time": "2021-08-09T09:23:46.314Z"
   },
   {
    "duration": 97,
    "start_time": "2021-08-09T09:23:46.320Z"
   },
   {
    "duration": 68,
    "start_time": "2021-08-09T09:23:46.420Z"
   },
   {
    "duration": 44,
    "start_time": "2021-08-09T09:23:46.490Z"
   },
   {
    "duration": 95,
    "start_time": "2021-08-09T09:23:46.536Z"
   },
   {
    "duration": 67,
    "start_time": "2021-08-09T09:23:46.634Z"
   },
   {
    "duration": 554,
    "start_time": "2021-08-09T09:23:46.704Z"
   },
   {
    "duration": 41,
    "start_time": "2021-08-09T09:24:20.325Z"
   },
   {
    "duration": 19,
    "start_time": "2021-08-09T09:24:57.379Z"
   },
   {
    "duration": 11,
    "start_time": "2021-08-09T09:25:09.228Z"
   },
   {
    "duration": 16,
    "start_time": "2021-08-09T09:25:16.305Z"
   },
   {
    "duration": 16,
    "start_time": "2021-08-09T09:25:39.538Z"
   },
   {
    "duration": 15,
    "start_time": "2021-08-09T09:25:54.385Z"
   },
   {
    "duration": 15,
    "start_time": "2021-08-09T09:26:12.655Z"
   },
   {
    "duration": 1566,
    "start_time": "2021-08-09T09:26:28.315Z"
   },
   {
    "duration": 66,
    "start_time": "2021-08-09T09:30:44.156Z"
   },
   {
    "duration": 37,
    "start_time": "2021-08-09T09:30:44.645Z"
   },
   {
    "duration": 76,
    "start_time": "2021-08-09T09:30:45.795Z"
   },
   {
    "duration": 33,
    "start_time": "2021-08-09T09:30:46.755Z"
   },
   {
    "duration": 106,
    "start_time": "2021-08-09T09:30:51.338Z"
   },
   {
    "duration": 21,
    "start_time": "2021-08-09T09:33:32.904Z"
   },
   {
    "duration": 33,
    "start_time": "2021-08-09T09:33:41.908Z"
   },
   {
    "duration": 32,
    "start_time": "2021-08-09T09:34:34.981Z"
   },
   {
    "duration": 24,
    "start_time": "2021-08-09T09:34:55.925Z"
   },
   {
    "duration": 28,
    "start_time": "2021-08-09T09:36:05.806Z"
   },
   {
    "duration": 23,
    "start_time": "2021-08-09T09:43:58.415Z"
   },
   {
    "duration": 344,
    "start_time": "2021-08-09T09:45:13.666Z"
   },
   {
    "duration": 13,
    "start_time": "2021-08-09T09:45:28.784Z"
   },
   {
    "duration": 39,
    "start_time": "2021-08-09T09:45:31.864Z"
   },
   {
    "duration": 27,
    "start_time": "2021-08-09T09:46:14.226Z"
   },
   {
    "duration": 12,
    "start_time": "2021-08-09T09:46:24.425Z"
   },
   {
    "duration": 15,
    "start_time": "2021-08-09T09:52:03.665Z"
   },
   {
    "duration": 17,
    "start_time": "2021-08-09T09:52:50.929Z"
   },
   {
    "duration": 9,
    "start_time": "2021-08-09T09:53:24.886Z"
   },
   {
    "duration": 8,
    "start_time": "2021-08-09T10:00:16.227Z"
   },
   {
    "duration": 12,
    "start_time": "2021-08-09T10:00:25.225Z"
   },
   {
    "duration": 18,
    "start_time": "2021-08-09T10:01:05.835Z"
   },
   {
    "duration": 19,
    "start_time": "2021-08-09T10:01:36.375Z"
   },
   {
    "duration": 4,
    "start_time": "2021-08-09T10:04:10.546Z"
   },
   {
    "duration": 38,
    "start_time": "2021-08-09T10:04:10.553Z"
   },
   {
    "duration": 17,
    "start_time": "2021-08-09T10:04:10.595Z"
   },
   {
    "duration": 11,
    "start_time": "2021-08-09T10:04:10.615Z"
   },
   {
    "duration": 45,
    "start_time": "2021-08-09T10:04:10.628Z"
   },
   {
    "duration": 11,
    "start_time": "2021-08-09T10:04:10.675Z"
   },
   {
    "duration": 15,
    "start_time": "2021-08-09T10:04:10.688Z"
   },
   {
    "duration": 14,
    "start_time": "2021-08-09T10:04:10.705Z"
   },
   {
    "duration": 42,
    "start_time": "2021-08-09T10:04:10.723Z"
   },
   {
    "duration": 11,
    "start_time": "2021-08-09T10:04:10.769Z"
   },
   {
    "duration": 11,
    "start_time": "2021-08-09T10:04:10.783Z"
   },
   {
    "duration": 222,
    "start_time": "2021-08-09T10:04:10.797Z"
   },
   {
    "duration": 11,
    "start_time": "2021-08-09T10:04:11.022Z"
   },
   {
    "duration": 48,
    "start_time": "2021-08-09T10:04:11.036Z"
   },
   {
    "duration": 52,
    "start_time": "2021-08-09T10:04:11.086Z"
   },
   {
    "duration": 99,
    "start_time": "2021-08-09T10:04:11.141Z"
   },
   {
    "duration": 29,
    "start_time": "2021-08-09T10:04:11.242Z"
   },
   {
    "duration": 22,
    "start_time": "2021-08-09T10:04:11.273Z"
   },
   {
    "duration": 139,
    "start_time": "2021-08-09T10:04:11.298Z"
   },
   {
    "duration": 10,
    "start_time": "2021-08-09T10:04:11.440Z"
   },
   {
    "duration": 26,
    "start_time": "2021-08-09T10:04:11.453Z"
   },
   {
    "duration": 36,
    "start_time": "2021-08-09T10:04:11.481Z"
   },
   {
    "duration": 71,
    "start_time": "2021-08-09T10:04:11.520Z"
   },
   {
    "duration": 13,
    "start_time": "2021-08-09T10:04:11.593Z"
   },
   {
    "duration": 186,
    "start_time": "2021-08-09T10:04:11.609Z"
   },
   {
    "duration": 18,
    "start_time": "2021-08-09T10:04:11.798Z"
   },
   {
    "duration": 44,
    "start_time": "2021-08-09T10:04:11.821Z"
   },
   {
    "duration": 13,
    "start_time": "2021-08-09T10:04:11.867Z"
   },
   {
    "duration": 45,
    "start_time": "2021-08-09T10:04:11.882Z"
   },
   {
    "duration": 52,
    "start_time": "2021-08-09T10:04:11.930Z"
   },
   {
    "duration": 17,
    "start_time": "2021-08-09T10:04:11.985Z"
   },
   {
    "duration": 13,
    "start_time": "2021-08-09T10:04:12.005Z"
   },
   {
    "duration": 42,
    "start_time": "2021-08-09T10:04:12.021Z"
   },
   {
    "duration": 15,
    "start_time": "2021-08-09T10:04:12.066Z"
   },
   {
    "duration": 9,
    "start_time": "2021-08-09T10:04:12.084Z"
   },
   {
    "duration": 122,
    "start_time": "2021-08-09T10:04:12.095Z"
   },
   {
    "duration": 14,
    "start_time": "2021-08-09T10:04:12.220Z"
   },
   {
    "duration": 7,
    "start_time": "2021-08-09T10:04:12.237Z"
   },
   {
    "duration": 75,
    "start_time": "2021-08-09T10:04:12.263Z"
   },
   {
    "duration": 87,
    "start_time": "2021-08-09T10:04:12.342Z"
   },
   {
    "duration": 64,
    "start_time": "2021-08-09T10:04:12.432Z"
   },
   {
    "duration": 79,
    "start_time": "2021-08-09T10:04:12.498Z"
   },
   {
    "duration": 46,
    "start_time": "2021-08-09T10:04:12.580Z"
   },
   {
    "duration": 44,
    "start_time": "2021-08-09T10:04:12.629Z"
   },
   {
    "duration": 32,
    "start_time": "2021-08-09T10:04:12.675Z"
   },
   {
    "duration": 54,
    "start_time": "2021-08-09T10:04:12.709Z"
   },
   {
    "duration": 11,
    "start_time": "2021-08-09T10:04:12.766Z"
   },
   {
    "duration": 395,
    "start_time": "2021-08-09T10:15:15.765Z"
   },
   {
    "duration": 359,
    "start_time": "2021-08-09T10:15:20.795Z"
   },
   {
    "duration": 21,
    "start_time": "2021-08-09T10:15:42.225Z"
   },
   {
    "duration": 28,
    "start_time": "2021-08-09T10:15:53.528Z"
   },
   {
    "duration": 390,
    "start_time": "2021-08-09T10:16:34.997Z"
   },
   {
    "duration": 357,
    "start_time": "2021-08-09T10:18:56.345Z"
   },
   {
    "duration": 38,
    "start_time": "2021-08-09T15:31:57.766Z"
   },
   {
    "duration": 5,
    "start_time": "2021-08-09T15:34:10.666Z"
   },
   {
    "duration": 13,
    "start_time": "2021-08-09T15:34:22.494Z"
   },
   {
    "duration": 357,
    "start_time": "2021-08-09T15:35:44.219Z"
   },
   {
    "duration": 1246,
    "start_time": "2021-08-09T15:35:54.356Z"
   },
   {
    "duration": 366,
    "start_time": "2021-08-09T15:36:00.757Z"
   },
   {
    "duration": 46,
    "start_time": "2021-08-09T15:43:25.636Z"
   },
   {
    "duration": 53,
    "start_time": "2021-08-09T15:46:32.031Z"
   },
   {
    "duration": 71,
    "start_time": "2021-08-09T15:57:36.679Z"
   },
   {
    "duration": 6,
    "start_time": "2021-08-09T16:01:55.357Z"
   },
   {
    "duration": 66,
    "start_time": "2021-08-09T16:01:55.367Z"
   },
   {
    "duration": 18,
    "start_time": "2021-08-09T16:01:55.437Z"
   },
   {
    "duration": 42,
    "start_time": "2021-08-09T16:01:55.458Z"
   },
   {
    "duration": 26,
    "start_time": "2021-08-09T16:01:55.504Z"
   },
   {
    "duration": 9,
    "start_time": "2021-08-09T16:01:55.533Z"
   },
   {
    "duration": 12,
    "start_time": "2021-08-09T16:01:55.544Z"
   },
   {
    "duration": 27,
    "start_time": "2021-08-09T16:01:55.558Z"
   },
   {
    "duration": 7,
    "start_time": "2021-08-09T16:01:55.590Z"
   },
   {
    "duration": 17,
    "start_time": "2021-08-09T16:01:55.600Z"
   },
   {
    "duration": 12,
    "start_time": "2021-08-09T16:01:55.619Z"
   },
   {
    "duration": 215,
    "start_time": "2021-08-09T16:01:55.633Z"
   },
   {
    "duration": 16,
    "start_time": "2021-08-09T16:01:55.850Z"
   },
   {
    "duration": 32,
    "start_time": "2021-08-09T16:01:55.870Z"
   },
   {
    "duration": 88,
    "start_time": "2021-08-09T16:01:55.905Z"
   },
   {
    "duration": 86,
    "start_time": "2021-08-09T16:01:55.996Z"
   },
   {
    "duration": 26,
    "start_time": "2021-08-09T16:01:56.085Z"
   },
   {
    "duration": 19,
    "start_time": "2021-08-09T16:01:56.113Z"
   },
   {
    "duration": 153,
    "start_time": "2021-08-09T16:01:56.134Z"
   },
   {
    "duration": 15,
    "start_time": "2021-08-09T16:01:56.290Z"
   },
   {
    "duration": 24,
    "start_time": "2021-08-09T16:01:56.307Z"
   },
   {
    "duration": 78,
    "start_time": "2021-08-09T16:01:56.333Z"
   },
   {
    "duration": 65,
    "start_time": "2021-08-09T16:01:56.414Z"
   },
   {
    "duration": 14,
    "start_time": "2021-08-09T16:01:56.482Z"
   },
   {
    "duration": 200,
    "start_time": "2021-08-09T16:01:56.499Z"
   },
   {
    "duration": 22,
    "start_time": "2021-08-09T16:01:56.702Z"
   },
   {
    "duration": 52,
    "start_time": "2021-08-09T16:01:56.730Z"
   },
   {
    "duration": 13,
    "start_time": "2021-08-09T16:01:56.786Z"
   },
   {
    "duration": 70,
    "start_time": "2021-08-09T16:01:56.802Z"
   },
   {
    "duration": 33,
    "start_time": "2021-08-09T16:01:56.877Z"
   },
   {
    "duration": 20,
    "start_time": "2021-08-09T16:01:56.913Z"
   },
   {
    "duration": 65,
    "start_time": "2021-08-09T16:01:56.936Z"
   },
   {
    "duration": 18,
    "start_time": "2021-08-09T16:01:57.004Z"
   },
   {
    "duration": 36,
    "start_time": "2021-08-09T16:01:57.025Z"
   },
   {
    "duration": 26,
    "start_time": "2021-08-09T16:01:57.065Z"
   },
   {
    "duration": 107,
    "start_time": "2021-08-09T16:01:57.094Z"
   },
   {
    "duration": 19,
    "start_time": "2021-08-09T16:01:57.205Z"
   },
   {
    "duration": 5,
    "start_time": "2021-08-09T16:01:57.227Z"
   },
   {
    "duration": 128,
    "start_time": "2021-08-09T16:01:57.235Z"
   },
   {
    "duration": 102,
    "start_time": "2021-08-09T16:01:57.366Z"
   },
   {
    "duration": 66,
    "start_time": "2021-08-09T16:01:57.475Z"
   },
   {
    "duration": 88,
    "start_time": "2021-08-09T16:01:57.543Z"
   },
   {
    "duration": 66,
    "start_time": "2021-08-09T16:01:57.634Z"
   },
   {
    "duration": 13,
    "start_time": "2021-08-09T16:01:57.703Z"
   },
   {
    "duration": 61,
    "start_time": "2021-08-09T16:01:57.719Z"
   },
   {
    "duration": 3,
    "start_time": "2021-08-09T16:01:57.783Z"
   },
   {
    "duration": 32,
    "start_time": "2021-08-09T16:01:57.789Z"
   },
   {
    "duration": 3,
    "start_time": "2021-08-09T16:01:57.823Z"
   },
   {
    "duration": 1377,
    "start_time": "2021-08-09T16:01:57.829Z"
   },
   {
    "duration": 12,
    "start_time": "2021-08-09T16:04:47.169Z"
   },
   {
    "duration": 11,
    "start_time": "2021-08-09T16:05:18.596Z"
   },
   {
    "duration": 55,
    "start_time": "2021-08-09T16:05:24.734Z"
   },
   {
    "duration": 41,
    "start_time": "2021-08-09T16:07:34.656Z"
   },
   {
    "duration": 13,
    "start_time": "2021-08-09T16:21:21.916Z"
   },
   {
    "duration": 13,
    "start_time": "2021-08-09T16:21:49.706Z"
   },
   {
    "duration": 30,
    "start_time": "2021-08-09T16:21:55.637Z"
   },
   {
    "duration": 28,
    "start_time": "2021-08-09T16:21:55.866Z"
   },
   {
    "duration": 31,
    "start_time": "2021-08-09T16:21:56.057Z"
   },
   {
    "duration": 4,
    "start_time": "2021-08-09T16:21:56.486Z"
   },
   {
    "duration": 358,
    "start_time": "2021-08-09T21:52:35.632Z"
   },
   {
    "duration": 8,
    "start_time": "2021-08-09T21:52:42.327Z"
   },
   {
    "duration": 10030,
    "start_time": "2021-08-09T21:52:42.748Z"
   },
   {
    "duration": 10422,
    "start_time": "2021-08-09T21:53:44.903Z"
   },
   {
    "duration": 9,
    "start_time": "2021-08-09T22:02:47.168Z"
   },
   {
    "duration": 9574,
    "start_time": "2021-08-09T22:02:47.864Z"
   },
   {
    "duration": 7,
    "start_time": "2021-08-09T22:03:21.347Z"
   },
   {
    "duration": 350,
    "start_time": "2021-08-09T22:03:21.967Z"
   },
   {
    "duration": 345,
    "start_time": "2021-08-09T22:03:34.444Z"
   },
   {
    "duration": 348,
    "start_time": "2021-08-09T22:03:47.672Z"
   },
   {
    "duration": 352,
    "start_time": "2021-08-09T22:04:12.436Z"
   },
   {
    "duration": 5,
    "start_time": "2021-08-09T22:08:46.438Z"
   },
   {
    "duration": 60,
    "start_time": "2021-08-09T22:08:46.445Z"
   },
   {
    "duration": 22,
    "start_time": "2021-08-09T22:08:46.508Z"
   },
   {
    "duration": 14,
    "start_time": "2021-08-09T22:08:46.533Z"
   },
   {
    "duration": 18,
    "start_time": "2021-08-09T22:08:46.549Z"
   },
   {
    "duration": 9,
    "start_time": "2021-08-09T22:08:46.570Z"
   },
   {
    "duration": 17,
    "start_time": "2021-08-09T22:08:46.581Z"
   },
   {
    "duration": 23,
    "start_time": "2021-08-09T22:08:46.601Z"
   },
   {
    "duration": 34,
    "start_time": "2021-08-09T22:08:46.628Z"
   },
   {
    "duration": 13,
    "start_time": "2021-08-09T22:08:46.665Z"
   },
   {
    "duration": 16,
    "start_time": "2021-08-09T22:08:46.680Z"
   },
   {
    "duration": 224,
    "start_time": "2021-08-09T22:08:46.699Z"
   },
   {
    "duration": 12,
    "start_time": "2021-08-09T22:08:46.926Z"
   },
   {
    "duration": 40,
    "start_time": "2021-08-09T22:08:46.941Z"
   },
   {
    "duration": 56,
    "start_time": "2021-08-09T22:08:46.984Z"
   },
   {
    "duration": 73,
    "start_time": "2021-08-09T22:08:47.063Z"
   },
   {
    "duration": 31,
    "start_time": "2021-08-09T22:08:47.139Z"
   },
   {
    "duration": 20,
    "start_time": "2021-08-09T22:08:47.172Z"
   },
   {
    "duration": 137,
    "start_time": "2021-08-09T22:08:47.195Z"
   },
   {
    "duration": 11,
    "start_time": "2021-08-09T22:08:47.334Z"
   },
   {
    "duration": 32,
    "start_time": "2021-08-09T22:08:47.347Z"
   },
   {
    "duration": 34,
    "start_time": "2021-08-09T22:08:47.382Z"
   },
   {
    "duration": 74,
    "start_time": "2021-08-09T22:08:47.419Z"
   },
   {
    "duration": 12,
    "start_time": "2021-08-09T22:08:47.496Z"
   },
   {
    "duration": 188,
    "start_time": "2021-08-09T22:08:47.510Z"
   },
   {
    "duration": 18,
    "start_time": "2021-08-09T22:08:47.701Z"
   },
   {
    "duration": 44,
    "start_time": "2021-08-09T22:08:47.725Z"
   },
   {
    "duration": 13,
    "start_time": "2021-08-09T22:08:47.771Z"
   },
   {
    "duration": 42,
    "start_time": "2021-08-09T22:08:47.786Z"
   },
   {
    "duration": 58,
    "start_time": "2021-08-09T22:08:47.830Z"
   },
   {
    "duration": 17,
    "start_time": "2021-08-09T22:08:47.891Z"
   },
   {
    "duration": 22,
    "start_time": "2021-08-09T22:08:47.910Z"
   },
   {
    "duration": 35,
    "start_time": "2021-08-09T22:08:47.934Z"
   },
   {
    "duration": 17,
    "start_time": "2021-08-09T22:08:47.972Z"
   },
   {
    "duration": 13,
    "start_time": "2021-08-09T22:08:47.992Z"
   },
   {
    "duration": 192,
    "start_time": "2021-08-09T22:08:48.008Z"
   },
   {
    "duration": 18,
    "start_time": "2021-08-09T22:08:48.203Z"
   },
   {
    "duration": 5,
    "start_time": "2021-08-09T22:08:48.224Z"
   },
   {
    "duration": 118,
    "start_time": "2021-08-09T22:08:48.232Z"
   },
   {
    "duration": 107,
    "start_time": "2021-08-09T22:08:48.363Z"
   },
   {
    "duration": 66,
    "start_time": "2021-08-09T22:08:48.474Z"
   },
   {
    "duration": 120,
    "start_time": "2021-08-09T22:08:48.563Z"
   },
   {
    "duration": 62,
    "start_time": "2021-08-09T22:08:48.686Z"
   },
   {
    "duration": 18,
    "start_time": "2021-08-09T22:08:48.763Z"
   },
   {
    "duration": 60,
    "start_time": "2021-08-09T22:08:48.785Z"
   },
   {
    "duration": 42,
    "start_time": "2021-08-09T22:08:48.848Z"
   },
   {
    "duration": 32,
    "start_time": "2021-08-09T22:08:48.893Z"
   },
   {
    "duration": 35,
    "start_time": "2021-08-09T22:08:48.928Z"
   },
   {
    "duration": 382,
    "start_time": "2021-08-09T22:08:48.965Z"
   },
   {
    "duration": 69,
    "start_time": "2021-08-09T22:19:07.877Z"
   },
   {
    "duration": 13,
    "start_time": "2021-08-09T22:19:18.077Z"
   },
   {
    "duration": 3,
    "start_time": "2021-08-09T22:19:32.687Z"
   },
   {
    "duration": 437,
    "start_time": "2021-08-09T22:43:40.486Z"
   },
   {
    "duration": 364,
    "start_time": "2021-08-09T22:43:47.426Z"
   },
   {
    "duration": 5,
    "start_time": "2021-08-09T22:45:42.348Z"
   },
   {
    "duration": 39,
    "start_time": "2021-08-09T22:45:42.356Z"
   },
   {
    "duration": 15,
    "start_time": "2021-08-09T22:45:42.399Z"
   },
   {
    "duration": 10,
    "start_time": "2021-08-09T22:45:42.417Z"
   },
   {
    "duration": 34,
    "start_time": "2021-08-09T22:45:42.429Z"
   },
   {
    "duration": 8,
    "start_time": "2021-08-09T22:45:42.467Z"
   },
   {
    "duration": 17,
    "start_time": "2021-08-09T22:45:42.478Z"
   },
   {
    "duration": 14,
    "start_time": "2021-08-09T22:45:42.497Z"
   },
   {
    "duration": 53,
    "start_time": "2021-08-09T22:45:42.515Z"
   },
   {
    "duration": 15,
    "start_time": "2021-08-09T22:45:42.571Z"
   },
   {
    "duration": 9,
    "start_time": "2021-08-09T22:45:42.589Z"
   },
   {
    "duration": 233,
    "start_time": "2021-08-09T22:45:42.600Z"
   },
   {
    "duration": 11,
    "start_time": "2021-08-09T22:45:42.836Z"
   },
   {
    "duration": 38,
    "start_time": "2021-08-09T22:45:42.850Z"
   },
   {
    "duration": 81,
    "start_time": "2021-08-09T22:45:42.890Z"
   },
   {
    "duration": 91,
    "start_time": "2021-08-09T22:45:42.973Z"
   },
   {
    "duration": 16,
    "start_time": "2021-08-09T22:45:43.067Z"
   },
   {
    "duration": 18,
    "start_time": "2021-08-09T22:45:43.085Z"
   },
   {
    "duration": 147,
    "start_time": "2021-08-09T22:45:43.105Z"
   },
   {
    "duration": 16,
    "start_time": "2021-08-09T22:45:43.255Z"
   },
   {
    "duration": 23,
    "start_time": "2021-08-09T22:45:43.274Z"
   },
   {
    "duration": 70,
    "start_time": "2021-08-09T22:45:43.300Z"
   },
   {
    "duration": 38,
    "start_time": "2021-08-09T22:45:43.373Z"
   },
   {
    "duration": 13,
    "start_time": "2021-08-09T22:45:43.413Z"
   },
   {
    "duration": 186,
    "start_time": "2021-08-09T22:45:43.462Z"
   },
   {
    "duration": 29,
    "start_time": "2021-08-09T22:45:43.650Z"
   },
   {
    "duration": 23,
    "start_time": "2021-08-09T22:45:43.685Z"
   },
   {
    "duration": 12,
    "start_time": "2021-08-09T22:45:43.711Z"
   },
   {
    "duration": 56,
    "start_time": "2021-08-09T22:45:43.725Z"
   },
   {
    "duration": 30,
    "start_time": "2021-08-09T22:45:43.783Z"
   },
   {
    "duration": 18,
    "start_time": "2021-08-09T22:45:43.816Z"
   },
   {
    "duration": 29,
    "start_time": "2021-08-09T22:45:43.836Z"
   },
   {
    "duration": 17,
    "start_time": "2021-08-09T22:45:43.868Z"
   },
   {
    "duration": 15,
    "start_time": "2021-08-09T22:45:43.888Z"
   },
   {
    "duration": 12,
    "start_time": "2021-08-09T22:45:43.905Z"
   },
   {
    "duration": 103,
    "start_time": "2021-08-09T22:45:43.919Z"
   },
   {
    "duration": 13,
    "start_time": "2021-08-09T22:45:44.024Z"
   },
   {
    "duration": 4,
    "start_time": "2021-08-09T22:45:44.040Z"
   },
   {
    "duration": 82,
    "start_time": "2021-08-09T22:45:44.046Z"
   },
   {
    "duration": 61,
    "start_time": "2021-08-09T22:45:44.130Z"
   },
   {
    "duration": 43,
    "start_time": "2021-08-09T22:45:44.194Z"
   },
   {
    "duration": 77,
    "start_time": "2021-08-09T22:45:44.239Z"
   },
   {
    "duration": 48,
    "start_time": "2021-08-09T22:45:44.318Z"
   },
   {
    "duration": 12,
    "start_time": "2021-08-09T22:45:44.369Z"
   },
   {
    "duration": 34,
    "start_time": "2021-08-09T22:45:44.383Z"
   },
   {
    "duration": 29,
    "start_time": "2021-08-09T22:45:44.420Z"
   },
   {
    "duration": 42,
    "start_time": "2021-08-09T22:45:44.451Z"
   },
   {
    "duration": 2,
    "start_time": "2021-08-09T22:45:44.496Z"
   },
   {
    "duration": 7,
    "start_time": "2021-08-09T22:45:44.501Z"
   },
   {
    "duration": 356,
    "start_time": "2021-08-09T22:45:44.511Z"
   },
   {
    "duration": 1003,
    "start_time": "2021-08-09T22:45:44.869Z"
   },
   {
    "duration": 343,
    "start_time": "2021-08-09T22:45:45.532Z"
   },
   {
    "duration": 437,
    "start_time": "2021-08-09T22:46:31.997Z"
   },
   {
    "duration": 399,
    "start_time": "2021-08-09T22:47:09.717Z"
   },
   {
    "duration": 438,
    "start_time": "2021-08-09T22:50:35.787Z"
   },
   {
    "duration": 15,
    "start_time": "2021-08-09T22:50:54.686Z"
   },
   {
    "duration": 3,
    "start_time": "2021-08-09T22:51:06.831Z"
   },
   {
    "duration": 127,
    "start_time": "2021-08-09T22:52:51.795Z"
   },
   {
    "duration": 30,
    "start_time": "2021-08-09T22:53:58.696Z"
   },
   {
    "duration": 29,
    "start_time": "2021-08-09T22:54:02.707Z"
   },
   {
    "duration": 8,
    "start_time": "2021-08-09T22:54:34.506Z"
   },
   {
    "duration": 9,
    "start_time": "2021-08-09T22:54:38.916Z"
   },
   {
    "duration": 43,
    "start_time": "2021-08-09T22:58:25.747Z"
   },
   {
    "duration": 1366,
    "start_time": "2021-08-09T22:58:55.407Z"
   },
   {
    "duration": 8,
    "start_time": "2021-08-09T22:59:10.387Z"
   },
   {
    "duration": 30,
    "start_time": "2021-08-09T22:59:23.856Z"
   },
   {
    "duration": 29,
    "start_time": "2021-08-09T22:59:34.455Z"
   },
   {
    "duration": 322,
    "start_time": "2021-08-09T23:01:37.137Z"
   },
   {
    "duration": 8,
    "start_time": "2021-08-09T23:01:42.067Z"
   },
   {
    "duration": 6,
    "start_time": "2021-08-09T23:01:56.617Z"
   },
   {
    "duration": 366,
    "start_time": "2021-08-09T23:02:04.636Z"
   },
   {
    "duration": 6,
    "start_time": "2021-08-09T23:02:37.857Z"
   },
   {
    "duration": 114,
    "start_time": "2021-08-09T23:03:30.357Z"
   },
   {
    "duration": 123,
    "start_time": "2021-08-09T23:03:34.857Z"
   },
   {
    "duration": 5,
    "start_time": "2021-08-09T23:03:51.467Z"
   },
   {
    "duration": 6,
    "start_time": "2021-08-09T23:04:37.216Z"
   },
   {
    "duration": 6,
    "start_time": "2021-08-09T23:09:39.067Z"
   },
   {
    "duration": 6,
    "start_time": "2021-08-09T23:10:14.047Z"
   },
   {
    "duration": 348,
    "start_time": "2021-08-09T23:19:26.467Z"
   },
   {
    "duration": 319,
    "start_time": "2021-08-09T23:19:40.426Z"
   },
   {
    "duration": 19,
    "start_time": "2021-08-09T23:20:33.707Z"
   },
   {
    "duration": 18,
    "start_time": "2021-08-09T23:21:17.277Z"
   },
   {
    "duration": 9,
    "start_time": "2021-08-09T23:21:26.207Z"
   },
   {
    "duration": 28,
    "start_time": "2021-08-09T23:21:56.827Z"
   },
   {
    "duration": 22,
    "start_time": "2021-08-09T23:22:14.637Z"
   },
   {
    "duration": 18,
    "start_time": "2021-08-09T23:22:27.917Z"
   },
   {
    "duration": 6,
    "start_time": "2021-08-09T23:22:28.356Z"
   },
   {
    "duration": 6,
    "start_time": "2021-08-09T23:22:29.067Z"
   },
   {
    "duration": 108,
    "start_time": "2021-08-09T23:23:23.333Z"
   },
   {
    "duration": 9,
    "start_time": "2021-08-09T23:24:32.444Z"
   },
   {
    "duration": 324,
    "start_time": "2021-08-09T23:25:10.917Z"
   },
   {
    "duration": 326,
    "start_time": "2021-08-09T23:25:24.197Z"
   },
   {
    "duration": 8,
    "start_time": "2021-08-09T23:26:12.577Z"
   },
   {
    "duration": 110,
    "start_time": "2021-08-09T23:27:01.717Z"
   },
   {
    "duration": 7,
    "start_time": "2021-08-09T23:27:17.335Z"
   },
   {
    "duration": 351,
    "start_time": "2021-08-09T23:33:20.977Z"
   },
   {
    "duration": 6,
    "start_time": "2021-08-09T23:33:26.527Z"
   },
   {
    "duration": 9305,
    "start_time": "2021-08-09T23:33:27.064Z"
   },
   {
    "duration": 22,
    "start_time": "2021-08-09T23:34:20.047Z"
   },
   {
    "duration": 22,
    "start_time": "2021-08-09T23:34:33.257Z"
   },
   {
    "duration": 9,
    "start_time": "2021-08-09T23:34:37.087Z"
   },
   {
    "duration": 7,
    "start_time": "2021-08-09T23:34:38.526Z"
   },
   {
    "duration": 7,
    "start_time": "2021-08-09T23:34:39.728Z"
   },
   {
    "duration": 13,
    "start_time": "2021-08-09T23:34:40.597Z"
   },
   {
    "duration": 30,
    "start_time": "2021-08-09T23:37:25.397Z"
   },
   {
    "duration": 33,
    "start_time": "2021-08-09T23:38:38.886Z"
   },
   {
    "duration": 33,
    "start_time": "2021-08-09T23:39:09.447Z"
   },
   {
    "duration": 35,
    "start_time": "2021-08-09T23:40:09.177Z"
   },
   {
    "duration": 35,
    "start_time": "2021-08-09T23:49:10.765Z"
   },
   {
    "duration": 36,
    "start_time": "2021-08-09T23:50:04.917Z"
   },
   {
    "duration": 319,
    "start_time": "2021-08-09T23:57:18.187Z"
   },
   {
    "duration": 9,
    "start_time": "2021-08-09T23:57:22.977Z"
   },
   {
    "duration": 679,
    "start_time": "2021-08-09T23:57:23.437Z"
   },
   {
    "duration": 8,
    "start_time": "2021-08-10T00:02:32.477Z"
   },
   {
    "duration": 19,
    "start_time": "2021-08-10T00:02:33.269Z"
   },
   {
    "duration": 9,
    "start_time": "2021-08-10T00:03:24.867Z"
   },
   {
    "duration": 18,
    "start_time": "2021-08-10T00:03:26.727Z"
   },
   {
    "duration": 6,
    "start_time": "2021-08-10T00:07:22.927Z"
   },
   {
    "duration": 34,
    "start_time": "2021-08-10T00:07:23.457Z"
   },
   {
    "duration": 32,
    "start_time": "2021-08-10T00:07:23.927Z"
   },
   {
    "duration": 8,
    "start_time": "2021-08-10T00:07:24.736Z"
   },
   {
    "duration": 6,
    "start_time": "2021-08-10T00:07:25.767Z"
   },
   {
    "duration": 9,
    "start_time": "2021-08-10T00:08:32.867Z"
   },
   {
    "duration": 18,
    "start_time": "2021-08-10T00:08:33.454Z"
   },
   {
    "duration": 8,
    "start_time": "2021-08-10T00:10:07.957Z"
   },
   {
    "duration": 8,
    "start_time": "2021-08-10T00:10:08.527Z"
   },
   {
    "duration": 8,
    "start_time": "2021-08-10T00:12:05.127Z"
   },
   {
    "duration": 7,
    "start_time": "2021-08-10T00:12:08.157Z"
   },
   {
    "duration": 9,
    "start_time": "2021-08-10T00:12:25.417Z"
   },
   {
    "duration": 8,
    "start_time": "2021-08-10T00:12:26.636Z"
   },
   {
    "duration": 8,
    "start_time": "2021-08-10T00:21:10.867Z"
   },
   {
    "duration": 733,
    "start_time": "2021-08-10T00:21:11.397Z"
   },
   {
    "duration": 11,
    "start_time": "2021-08-10T00:21:31.427Z"
   },
   {
    "duration": 727,
    "start_time": "2021-08-10T00:21:33.276Z"
   },
   {
    "duration": 9,
    "start_time": "2021-08-10T00:21:53.187Z"
   },
   {
    "duration": 661,
    "start_time": "2021-08-10T00:21:53.563Z"
   },
   {
    "duration": 10,
    "start_time": "2021-08-10T00:25:21.958Z"
   },
   {
    "duration": 641,
    "start_time": "2021-08-10T00:25:22.500Z"
   },
   {
    "duration": 108,
    "start_time": "2021-08-10T00:25:47.387Z"
   },
   {
    "duration": 180,
    "start_time": "2021-08-10T00:26:21.337Z"
   },
   {
    "duration": 645,
    "start_time": "2021-08-10T00:26:21.836Z"
   },
   {
    "duration": 9,
    "start_time": "2021-08-10T00:27:54.317Z"
   },
   {
    "duration": 652,
    "start_time": "2021-08-10T00:27:54.916Z"
   },
   {
    "duration": 9,
    "start_time": "2021-08-10T00:28:22.546Z"
   },
   {
    "duration": 8,
    "start_time": "2021-08-10T00:28:23.624Z"
   },
   {
    "duration": 9,
    "start_time": "2021-08-10T00:33:19.174Z"
   },
   {
    "duration": 665,
    "start_time": "2021-08-10T00:33:19.643Z"
   },
   {
    "duration": 13,
    "start_time": "2021-08-10T00:33:29.417Z"
   },
   {
    "duration": 663,
    "start_time": "2021-08-10T00:33:29.917Z"
   },
   {
    "duration": 13,
    "start_time": "2021-08-10T06:32:53.279Z"
   },
   {
    "duration": 12,
    "start_time": "2021-08-10T06:33:14.859Z"
   },
   {
    "duration": 17,
    "start_time": "2021-08-10T06:33:15.985Z"
   },
   {
    "duration": 34,
    "start_time": "2021-08-10T06:57:07.237Z"
   },
   {
    "duration": 35,
    "start_time": "2021-08-10T06:58:01.627Z"
   },
   {
    "duration": 36,
    "start_time": "2021-08-10T07:08:54.347Z"
   },
   {
    "duration": 38,
    "start_time": "2021-08-10T09:07:44.035Z"
   },
   {
    "duration": 30,
    "start_time": "2021-08-10T09:08:09.587Z"
   },
   {
    "duration": 35,
    "start_time": "2021-08-10T09:08:17.913Z"
   },
   {
    "duration": 34,
    "start_time": "2021-08-10T09:08:22.655Z"
   },
   {
    "duration": 37,
    "start_time": "2021-08-10T09:08:27.945Z"
   },
   {
    "duration": 37,
    "start_time": "2021-08-10T09:08:49.707Z"
   },
   {
    "duration": 37,
    "start_time": "2021-08-10T09:20:20.946Z"
   },
   {
    "duration": 37,
    "start_time": "2021-08-10T09:20:25.881Z"
   },
   {
    "duration": 345,
    "start_time": "2021-08-10T09:27:07.060Z"
   },
   {
    "duration": 329,
    "start_time": "2021-08-10T09:28:29.657Z"
   },
   {
    "duration": 353,
    "start_time": "2021-08-10T09:29:08.815Z"
   },
   {
    "duration": 326,
    "start_time": "2021-08-10T09:29:40.205Z"
   },
   {
    "duration": 471,
    "start_time": "2021-08-10T09:42:14.057Z"
   },
   {
    "duration": 480,
    "start_time": "2021-08-10T09:43:26.718Z"
   },
   {
    "duration": 133,
    "start_time": "2021-08-10T09:45:04.739Z"
   },
   {
    "duration": 894,
    "start_time": "2021-08-10T09:45:10.895Z"
   },
   {
    "duration": 2774,
    "start_time": "2021-08-10T09:49:24.007Z"
   },
   {
    "duration": 681,
    "start_time": "2021-08-10T09:51:59.908Z"
   },
   {
    "duration": 125,
    "start_time": "2021-08-10T09:52:30.848Z"
   },
   {
    "duration": 845,
    "start_time": "2021-08-10T09:52:36.567Z"
   },
   {
    "duration": 590,
    "start_time": "2021-08-10T09:52:53.079Z"
   },
   {
    "duration": 491,
    "start_time": "2021-08-10T10:41:05.198Z"
   },
   {
    "duration": 599,
    "start_time": "2021-08-10T10:41:40.697Z"
   },
   {
    "duration": 835,
    "start_time": "2021-08-10T10:44:29.987Z"
   },
   {
    "duration": 783,
    "start_time": "2021-08-10T10:44:49.865Z"
   },
   {
    "duration": 1266,
    "start_time": "2021-08-10T10:48:49.738Z"
   },
   {
    "duration": 1122,
    "start_time": "2021-08-10T10:49:05.107Z"
   },
   {
    "duration": 1135,
    "start_time": "2021-08-10T10:49:10.295Z"
   },
   {
    "duration": 754,
    "start_time": "2021-08-10T10:49:23.655Z"
   },
   {
    "duration": 623,
    "start_time": "2021-08-10T10:49:44.588Z"
   },
   {
    "duration": 842,
    "start_time": "2021-08-10T10:55:04.815Z"
   },
   {
    "duration": 846,
    "start_time": "2021-08-10T10:55:28.316Z"
   },
   {
    "duration": 772,
    "start_time": "2021-08-10T10:55:42.367Z"
   },
   {
    "duration": 4,
    "start_time": "2021-08-10T11:04:15.620Z"
   },
   {
    "duration": 31,
    "start_time": "2021-08-10T11:04:15.627Z"
   },
   {
    "duration": 15,
    "start_time": "2021-08-10T11:04:15.662Z"
   },
   {
    "duration": 9,
    "start_time": "2021-08-10T11:04:15.680Z"
   },
   {
    "duration": 16,
    "start_time": "2021-08-10T11:04:15.692Z"
   },
   {
    "duration": 9,
    "start_time": "2021-08-10T11:04:15.710Z"
   },
   {
    "duration": 41,
    "start_time": "2021-08-10T11:04:15.721Z"
   },
   {
    "duration": 12,
    "start_time": "2021-08-10T11:04:15.765Z"
   },
   {
    "duration": 9,
    "start_time": "2021-08-10T11:04:15.781Z"
   },
   {
    "duration": 12,
    "start_time": "2021-08-10T11:04:15.793Z"
   },
   {
    "duration": 9,
    "start_time": "2021-08-10T11:04:15.807Z"
   },
   {
    "duration": 242,
    "start_time": "2021-08-10T11:04:15.819Z"
   },
   {
    "duration": 12,
    "start_time": "2021-08-10T11:04:16.064Z"
   },
   {
    "duration": 33,
    "start_time": "2021-08-10T11:04:16.079Z"
   },
   {
    "duration": 83,
    "start_time": "2021-08-10T11:04:16.115Z"
   },
   {
    "duration": 95,
    "start_time": "2021-08-10T11:04:16.202Z"
   },
   {
    "duration": 18,
    "start_time": "2021-08-10T11:04:16.300Z"
   },
   {
    "duration": 50,
    "start_time": "2021-08-10T11:04:16.321Z"
   },
   {
    "duration": 123,
    "start_time": "2021-08-10T11:04:16.374Z"
   },
   {
    "duration": 13,
    "start_time": "2021-08-10T11:04:16.500Z"
   },
   {
    "duration": 23,
    "start_time": "2021-08-10T11:04:16.516Z"
   },
   {
    "duration": 39,
    "start_time": "2021-08-10T11:04:16.563Z"
   },
   {
    "duration": 65,
    "start_time": "2021-08-10T11:04:16.606Z"
   },
   {
    "duration": 16,
    "start_time": "2021-08-10T11:04:16.674Z"
   },
   {
    "duration": 180,
    "start_time": "2021-08-10T11:04:16.693Z"
   },
   {
    "duration": 22,
    "start_time": "2021-08-10T11:04:16.876Z"
   },
   {
    "duration": 30,
    "start_time": "2021-08-10T11:04:16.906Z"
   },
   {
    "duration": 14,
    "start_time": "2021-08-10T11:04:16.963Z"
   },
   {
    "duration": 54,
    "start_time": "2021-08-10T11:04:16.979Z"
   },
   {
    "duration": 47,
    "start_time": "2021-08-10T11:04:17.036Z"
   },
   {
    "duration": 18,
    "start_time": "2021-08-10T11:04:17.086Z"
   },
   {
    "duration": 23,
    "start_time": "2021-08-10T11:04:17.107Z"
   },
   {
    "duration": 30,
    "start_time": "2021-08-10T11:04:17.133Z"
   },
   {
    "duration": 21,
    "start_time": "2021-08-10T11:04:17.165Z"
   },
   {
    "duration": 16,
    "start_time": "2021-08-10T11:04:17.188Z"
   },
   {
    "duration": 108,
    "start_time": "2021-08-10T11:04:17.207Z"
   },
   {
    "duration": 14,
    "start_time": "2021-08-10T11:04:17.318Z"
   },
   {
    "duration": 3,
    "start_time": "2021-08-10T11:04:17.335Z"
   },
   {
    "duration": 80,
    "start_time": "2021-08-10T11:04:17.361Z"
   },
   {
    "duration": 66,
    "start_time": "2021-08-10T11:04:17.444Z"
   },
   {
    "duration": 64,
    "start_time": "2021-08-10T11:04:17.512Z"
   },
   {
    "duration": 85,
    "start_time": "2021-08-10T11:04:17.579Z"
   },
   {
    "duration": 53,
    "start_time": "2021-08-10T11:04:17.667Z"
   },
   {
    "duration": 13,
    "start_time": "2021-08-10T11:04:17.722Z"
   },
   {
    "duration": 48,
    "start_time": "2021-08-10T11:04:17.737Z"
   },
   {
    "duration": 28,
    "start_time": "2021-08-10T11:04:17.788Z"
   },
   {
    "duration": 59,
    "start_time": "2021-08-10T11:04:17.818Z"
   },
   {
    "duration": 3,
    "start_time": "2021-08-10T11:04:17.880Z"
   },
   {
    "duration": 9,
    "start_time": "2021-08-10T11:04:17.885Z"
   },
   {
    "duration": 391,
    "start_time": "2021-08-10T11:04:17.896Z"
   },
   {
    "duration": 21,
    "start_time": "2021-08-10T11:04:18.289Z"
   },
   {
    "duration": 18,
    "start_time": "2021-08-10T11:04:18.313Z"
   },
   {
    "duration": 34,
    "start_time": "2021-08-10T11:04:18.362Z"
   },
   {
    "duration": 32,
    "start_time": "2021-08-10T11:04:18.398Z"
   },
   {
    "duration": 772,
    "start_time": "2021-08-10T11:04:18.432Z"
   },
   {
    "duration": 715,
    "start_time": "2021-08-10T11:04:19.207Z"
   },
   {
    "duration": 795,
    "start_time": "2021-08-10T11:04:19.924Z"
   },
   {
    "duration": 8,
    "start_time": "2021-08-10T11:04:20.722Z"
   },
   {
    "duration": 30,
    "start_time": "2021-08-10T11:04:20.733Z"
   },
   {
    "duration": 835,
    "start_time": "2021-08-10T11:07:30.637Z"
   },
   {
    "duration": 693,
    "start_time": "2021-08-10T11:07:52.618Z"
   },
   {
    "duration": 729,
    "start_time": "2021-08-10T11:15:44.517Z"
   },
   {
    "duration": 759,
    "start_time": "2021-08-10T11:15:57.687Z"
   },
   {
    "duration": 607,
    "start_time": "2021-08-10T11:30:37.267Z"
   },
   {
    "duration": 676,
    "start_time": "2021-08-10T11:30:46.488Z"
   },
   {
    "duration": 1075,
    "start_time": "2021-08-10T11:51:21.686Z"
   },
   {
    "duration": 728,
    "start_time": "2021-08-10T11:54:27.217Z"
   },
   {
    "duration": 1294,
    "start_time": "2021-08-10T11:54:42.479Z"
   },
   {
    "duration": 1073,
    "start_time": "2021-08-10T11:55:01.828Z"
   },
   {
    "duration": 12,
    "start_time": "2021-08-10T12:46:09.279Z"
   },
   {
    "duration": 409,
    "start_time": "2021-08-10T20:20:38.865Z"
   },
   {
    "duration": 4,
    "start_time": "2021-08-10T20:20:46.881Z"
   },
   {
    "duration": 46,
    "start_time": "2021-08-10T20:20:46.888Z"
   },
   {
    "duration": 24,
    "start_time": "2021-08-10T20:20:46.937Z"
   },
   {
    "duration": 16,
    "start_time": "2021-08-10T20:20:46.963Z"
   },
   {
    "duration": 17,
    "start_time": "2021-08-10T20:20:46.982Z"
   },
   {
    "duration": 6,
    "start_time": "2021-08-10T20:20:47.002Z"
   },
   {
    "duration": 13,
    "start_time": "2021-08-10T20:20:47.010Z"
   },
   {
    "duration": 14,
    "start_time": "2021-08-10T20:20:47.064Z"
   },
   {
    "duration": 16,
    "start_time": "2021-08-10T20:20:47.082Z"
   },
   {
    "duration": 17,
    "start_time": "2021-08-10T20:20:47.102Z"
   },
   {
    "duration": 44,
    "start_time": "2021-08-10T20:20:47.122Z"
   },
   {
    "duration": 215,
    "start_time": "2021-08-10T20:20:47.169Z"
   },
   {
    "duration": 12,
    "start_time": "2021-08-10T20:20:47.387Z"
   },
   {
    "duration": 32,
    "start_time": "2021-08-10T20:20:47.401Z"
   },
   {
    "duration": 75,
    "start_time": "2021-08-10T20:20:47.436Z"
   },
   {
    "duration": 93,
    "start_time": "2021-08-10T20:20:47.514Z"
   },
   {
    "duration": 15,
    "start_time": "2021-08-10T20:20:47.610Z"
   },
   {
    "duration": 40,
    "start_time": "2021-08-10T20:20:47.628Z"
   },
   {
    "duration": 126,
    "start_time": "2021-08-10T20:20:47.670Z"
   },
   {
    "duration": 11,
    "start_time": "2021-08-10T20:20:47.799Z"
   },
   {
    "duration": 21,
    "start_time": "2021-08-10T20:20:47.812Z"
   },
   {
    "duration": 60,
    "start_time": "2021-08-10T20:20:47.836Z"
   },
   {
    "duration": 38,
    "start_time": "2021-08-10T20:20:47.900Z"
   },
   {
    "duration": 31,
    "start_time": "2021-08-10T20:20:47.941Z"
   },
   {
    "duration": 177,
    "start_time": "2021-08-10T20:20:47.975Z"
   },
   {
    "duration": 21,
    "start_time": "2021-08-10T20:20:48.155Z"
   },
   {
    "duration": 34,
    "start_time": "2021-08-10T20:20:48.179Z"
   },
   {
    "duration": 47,
    "start_time": "2021-08-10T20:20:48.216Z"
   },
   {
    "duration": 16,
    "start_time": "2021-08-10T22:09:34.757Z"
   },
   {
    "duration": 8,
    "start_time": "2021-08-10T22:10:05.698Z"
   },
   {
    "duration": 8,
    "start_time": "2021-08-10T22:10:17.457Z"
   },
   {
    "duration": 352,
    "start_time": "2021-08-10T22:10:27.567Z"
   },
   {
    "duration": 357,
    "start_time": "2021-08-10T22:10:36.337Z"
   },
   {
    "duration": 6,
    "start_time": "2021-08-10T22:10:58.118Z"
   },
   {
    "duration": 6,
    "start_time": "2021-08-10T22:11:55.067Z"
   },
   {
    "duration": 6,
    "start_time": "2021-08-10T22:12:33.029Z"
   },
   {
    "duration": 1392,
    "start_time": "2021-08-10T22:14:00.359Z"
   },
   {
    "duration": 62,
    "start_time": "2021-08-10T22:14:01.754Z"
   },
   {
    "duration": 42,
    "start_time": "2021-08-10T22:14:01.820Z"
   },
   {
    "duration": 16,
    "start_time": "2021-08-10T22:14:01.864Z"
   },
   {
    "duration": 30,
    "start_time": "2021-08-10T22:14:01.882Z"
   },
   {
    "duration": 25,
    "start_time": "2021-08-10T22:14:01.914Z"
   },
   {
    "duration": 35,
    "start_time": "2021-08-10T22:14:01.942Z"
   },
   {
    "duration": 18,
    "start_time": "2021-08-10T22:14:01.981Z"
   },
   {
    "duration": 19,
    "start_time": "2021-08-10T22:14:02.002Z"
   },
   {
    "duration": 26,
    "start_time": "2021-08-10T22:14:02.023Z"
   },
   {
    "duration": 17,
    "start_time": "2021-08-10T22:14:02.051Z"
   },
   {
    "duration": 218,
    "start_time": "2021-08-10T22:14:02.070Z"
   },
   {
    "duration": 14,
    "start_time": "2021-08-10T22:14:02.290Z"
   },
   {
    "duration": 45,
    "start_time": "2021-08-10T22:14:02.307Z"
   },
   {
    "duration": 69,
    "start_time": "2021-08-10T22:14:02.354Z"
   },
   {
    "duration": 99,
    "start_time": "2021-08-10T22:14:02.426Z"
   },
   {
    "duration": 36,
    "start_time": "2021-08-10T22:14:02.528Z"
   },
   {
    "duration": 20,
    "start_time": "2021-08-10T22:14:02.566Z"
   },
   {
    "duration": 6,
    "start_time": "2021-08-10T22:14:02.589Z"
   },
   {
    "duration": 141,
    "start_time": "2021-08-10T22:14:02.598Z"
   },
   {
    "duration": 20,
    "start_time": "2021-08-10T22:14:02.742Z"
   },
   {
    "duration": 37,
    "start_time": "2021-08-10T22:14:02.765Z"
   },
   {
    "duration": 38,
    "start_time": "2021-08-10T22:14:02.810Z"
   },
   {
    "duration": 39,
    "start_time": "2021-08-10T22:14:02.864Z"
   },
   {
    "duration": 16,
    "start_time": "2021-08-10T22:14:02.906Z"
   },
   {
    "duration": 40,
    "start_time": "2021-08-10T22:14:02.924Z"
   },
   {
    "duration": 180,
    "start_time": "2021-08-10T22:14:02.967Z"
   },
   {
    "duration": 25,
    "start_time": "2021-08-10T22:14:03.149Z"
   },
   {
    "duration": 26,
    "start_time": "2021-08-10T22:14:03.176Z"
   },
   {
    "duration": 19,
    "start_time": "2021-08-10T22:14:03.205Z"
   },
   {
    "duration": 71,
    "start_time": "2021-08-10T22:14:03.227Z"
   },
   {
    "duration": 31,
    "start_time": "2021-08-10T22:14:03.301Z"
   },
   {
    "duration": 43,
    "start_time": "2021-08-10T22:14:03.335Z"
   },
   {
    "duration": 13,
    "start_time": "2021-08-10T22:14:03.380Z"
   },
   {
    "duration": 17,
    "start_time": "2021-08-10T22:14:03.395Z"
   },
   {
    "duration": 18,
    "start_time": "2021-08-10T22:14:03.415Z"
   },
   {
    "duration": 32,
    "start_time": "2021-08-10T22:14:03.436Z"
   },
   {
    "duration": 15,
    "start_time": "2021-08-10T22:14:03.471Z"
   },
   {
    "duration": 114,
    "start_time": "2021-08-10T22:14:03.489Z"
   },
   {
    "duration": 14,
    "start_time": "2021-08-10T22:14:03.605Z"
   },
   {
    "duration": 3,
    "start_time": "2021-08-10T22:14:03.621Z"
   },
   {
    "duration": 103,
    "start_time": "2021-08-10T22:14:03.627Z"
   },
   {
    "duration": 77,
    "start_time": "2021-08-10T22:14:03.733Z"
   },
   {
    "duration": 65,
    "start_time": "2021-08-10T22:14:03.812Z"
   },
   {
    "duration": 85,
    "start_time": "2021-08-10T22:14:03.879Z"
   },
   {
    "duration": 51,
    "start_time": "2021-08-10T22:14:03.967Z"
   },
   {
    "duration": 48,
    "start_time": "2021-08-10T22:14:04.021Z"
   },
   {
    "duration": 32,
    "start_time": "2021-08-10T22:14:04.071Z"
   },
   {
    "duration": 28,
    "start_time": "2021-08-10T22:14:04.106Z"
   },
   {
    "duration": 30,
    "start_time": "2021-08-10T22:14:04.162Z"
   },
   {
    "duration": 2,
    "start_time": "2021-08-10T22:14:04.195Z"
   },
   {
    "duration": 10,
    "start_time": "2021-08-10T22:14:04.200Z"
   },
   {
    "duration": 381,
    "start_time": "2021-08-10T22:14:04.213Z"
   },
   {
    "duration": 21,
    "start_time": "2021-08-10T22:14:04.597Z"
   },
   {
    "duration": 42,
    "start_time": "2021-08-10T22:14:04.621Z"
   },
   {
    "duration": 36,
    "start_time": "2021-08-10T22:14:04.666Z"
   },
   {
    "duration": 69,
    "start_time": "2021-08-10T22:14:04.704Z"
   },
   {
    "duration": 715,
    "start_time": "2021-08-10T22:14:04.776Z"
   },
   {
    "duration": 738,
    "start_time": "2021-08-10T22:14:05.494Z"
   },
   {
    "duration": 717,
    "start_time": "2021-08-10T22:14:06.234Z"
   },
   {
    "duration": 12,
    "start_time": "2021-08-10T22:14:06.953Z"
   },
   {
    "duration": 22,
    "start_time": "2021-08-10T22:14:06.968Z"
   },
   {
    "duration": 6,
    "start_time": "2021-08-10T22:21:56.838Z"
   },
   {
    "duration": 8,
    "start_time": "2021-08-10T22:25:15.877Z"
   },
   {
    "duration": 36,
    "start_time": "2021-08-10T22:27:17.120Z"
   },
   {
    "duration": 34,
    "start_time": "2021-08-10T22:27:22.967Z"
   },
   {
    "duration": 31,
    "start_time": "2021-08-10T22:33:04.446Z"
   },
   {
    "duration": 33,
    "start_time": "2021-08-10T22:36:17.547Z"
   },
   {
    "duration": 31,
    "start_time": "2021-08-10T22:36:34.426Z"
   },
   {
    "duration": 57,
    "start_time": "2021-08-10T22:37:11.517Z"
   },
   {
    "duration": 7,
    "start_time": "2021-08-10T22:39:01.567Z"
   },
   {
    "duration": 8,
    "start_time": "2021-08-10T22:39:26.718Z"
   },
   {
    "duration": 8,
    "start_time": "2021-08-10T22:42:53.387Z"
   },
   {
    "duration": 137,
    "start_time": "2021-08-10T22:44:06.147Z"
   },
   {
    "duration": 134,
    "start_time": "2021-08-10T22:44:29.479Z"
   },
   {
    "duration": 101,
    "start_time": "2021-08-10T22:44:57.606Z"
   },
   {
    "duration": 100,
    "start_time": "2021-08-10T22:45:25.597Z"
   },
   {
    "duration": 97,
    "start_time": "2021-08-10T22:50:35.727Z"
   },
   {
    "duration": 102,
    "start_time": "2021-08-10T22:53:07.827Z"
   },
   {
    "duration": 101,
    "start_time": "2021-08-10T22:53:25.696Z"
   },
   {
    "duration": 4,
    "start_time": "2021-08-10T23:21:42.877Z"
   },
   {
    "duration": 8,
    "start_time": "2021-08-10T23:21:43.423Z"
   },
   {
    "duration": 7,
    "start_time": "2021-08-10T23:22:58.978Z"
   },
   {
    "duration": 42,
    "start_time": "2021-08-10T23:24:22.417Z"
   },
   {
    "duration": 6,
    "start_time": "2021-08-10T23:25:15.468Z"
   },
   {
    "duration": 7,
    "start_time": "2021-08-10T23:25:32.067Z"
   },
   {
    "duration": 7,
    "start_time": "2021-08-10T23:26:48.217Z"
   },
   {
    "duration": 7,
    "start_time": "2021-08-10T23:27:01.407Z"
   },
   {
    "duration": 41,
    "start_time": "2021-08-10T23:32:42.947Z"
   },
   {
    "duration": 20,
    "start_time": "2021-08-10T23:32:57.497Z"
   },
   {
    "duration": 20,
    "start_time": "2021-08-10T23:33:12.037Z"
   },
   {
    "duration": 4,
    "start_time": "2021-08-10T23:33:18.109Z"
   },
   {
    "duration": 52,
    "start_time": "2021-08-10T23:33:18.117Z"
   },
   {
    "duration": 18,
    "start_time": "2021-08-10T23:33:18.172Z"
   },
   {
    "duration": 16,
    "start_time": "2021-08-10T23:33:18.192Z"
   },
   {
    "duration": 53,
    "start_time": "2021-08-10T23:33:18.211Z"
   },
   {
    "duration": 7,
    "start_time": "2021-08-10T23:33:18.267Z"
   },
   {
    "duration": 32,
    "start_time": "2021-08-10T23:33:18.276Z"
   },
   {
    "duration": 16,
    "start_time": "2021-08-10T23:33:18.310Z"
   },
   {
    "duration": 35,
    "start_time": "2021-08-10T23:33:18.330Z"
   },
   {
    "duration": 12,
    "start_time": "2021-08-10T23:33:18.369Z"
   },
   {
    "duration": 12,
    "start_time": "2021-08-10T23:33:18.383Z"
   },
   {
    "duration": 232,
    "start_time": "2021-08-10T23:33:18.397Z"
   },
   {
    "duration": 13,
    "start_time": "2021-08-10T23:33:18.632Z"
   },
   {
    "duration": 28,
    "start_time": "2021-08-10T23:33:18.661Z"
   },
   {
    "duration": 74,
    "start_time": "2021-08-10T23:33:18.692Z"
   },
   {
    "duration": 98,
    "start_time": "2021-08-10T23:33:18.768Z"
   },
   {
    "duration": 15,
    "start_time": "2021-08-10T23:33:18.869Z"
   },
   {
    "duration": 20,
    "start_time": "2021-08-10T23:33:18.887Z"
   },
   {
    "duration": 7,
    "start_time": "2021-08-10T23:33:18.909Z"
   },
   {
    "duration": 164,
    "start_time": "2021-08-10T23:33:18.918Z"
   },
   {
    "duration": 11,
    "start_time": "2021-08-10T23:33:19.085Z"
   },
   {
    "duration": 25,
    "start_time": "2021-08-10T23:33:19.098Z"
   },
   {
    "duration": 57,
    "start_time": "2021-08-10T23:33:19.125Z"
   },
   {
    "duration": 33,
    "start_time": "2021-08-10T23:33:19.185Z"
   },
   {
    "duration": 43,
    "start_time": "2021-08-10T23:33:19.220Z"
   },
   {
    "duration": 6,
    "start_time": "2021-08-10T23:33:19.266Z"
   },
   {
    "duration": 182,
    "start_time": "2021-08-10T23:33:19.278Z"
   },
   {
    "duration": 19,
    "start_time": "2021-08-10T23:33:19.464Z"
   },
   {
    "duration": 26,
    "start_time": "2021-08-10T23:33:19.485Z"
   },
   {
    "duration": 18,
    "start_time": "2021-08-10T23:33:19.514Z"
   },
   {
    "duration": 68,
    "start_time": "2021-08-10T23:33:19.534Z"
   },
   {
    "duration": 31,
    "start_time": "2021-08-10T23:33:19.604Z"
   },
   {
    "duration": 39,
    "start_time": "2021-08-10T23:33:19.637Z"
   },
   {
    "duration": 18,
    "start_time": "2021-08-10T23:33:19.679Z"
   },
   {
    "duration": 13,
    "start_time": "2021-08-10T23:33:19.699Z"
   },
   {
    "duration": 27,
    "start_time": "2021-08-10T23:33:19.715Z"
   },
   {
    "duration": 31,
    "start_time": "2021-08-10T23:33:19.744Z"
   },
   {
    "duration": 16,
    "start_time": "2021-08-10T23:33:19.777Z"
   },
   {
    "duration": 105,
    "start_time": "2021-08-10T23:33:19.795Z"
   },
   {
    "duration": 16,
    "start_time": "2021-08-10T23:33:19.903Z"
   },
   {
    "duration": 17,
    "start_time": "2021-08-10T23:33:19.923Z"
   },
   {
    "duration": 84,
    "start_time": "2021-08-10T23:33:19.942Z"
   },
   {
    "duration": 86,
    "start_time": "2021-08-10T23:33:20.029Z"
   },
   {
    "duration": 63,
    "start_time": "2021-08-10T23:33:20.118Z"
   },
   {
    "duration": 111,
    "start_time": "2021-08-10T23:33:20.184Z"
   },
   {
    "duration": 78,
    "start_time": "2021-08-10T23:33:20.298Z"
   },
   {
    "duration": 16,
    "start_time": "2021-08-10T23:33:20.379Z"
   },
   {
    "duration": 64,
    "start_time": "2021-08-10T23:33:20.398Z"
   },
   {
    "duration": 39,
    "start_time": "2021-08-10T23:33:20.465Z"
   },
   {
    "duration": 67,
    "start_time": "2021-08-10T23:33:20.507Z"
   },
   {
    "duration": 3,
    "start_time": "2021-08-10T23:33:20.578Z"
   },
   {
    "duration": 10,
    "start_time": "2021-08-10T23:33:20.584Z"
   },
   {
    "duration": 604,
    "start_time": "2021-08-10T23:33:20.597Z"
   },
   {
    "duration": 31,
    "start_time": "2021-08-10T23:33:21.204Z"
   },
   {
    "duration": 51,
    "start_time": "2021-08-10T23:33:21.238Z"
   },
   {
    "duration": 70,
    "start_time": "2021-08-10T23:33:21.292Z"
   },
   {
    "duration": 51,
    "start_time": "2021-08-10T23:33:21.365Z"
   },
   {
    "duration": 1102,
    "start_time": "2021-08-10T23:33:21.419Z"
   },
   {
    "duration": 1071,
    "start_time": "2021-08-10T23:33:22.524Z"
   },
   {
    "duration": 1063,
    "start_time": "2021-08-10T23:33:23.599Z"
   },
   {
    "duration": 12,
    "start_time": "2021-08-10T23:33:24.665Z"
   },
   {
    "duration": 122,
    "start_time": "2021-08-10T23:33:24.679Z"
   },
   {
    "duration": 4,
    "start_time": "2021-08-10T23:33:24.804Z"
   },
   {
    "duration": 13,
    "start_time": "2021-08-10T23:33:24.811Z"
   },
   {
    "duration": 4,
    "start_time": "2021-08-10T23:34:35.259Z"
   },
   {
    "duration": 56,
    "start_time": "2021-08-10T23:34:35.265Z"
   },
   {
    "duration": 17,
    "start_time": "2021-08-10T23:34:35.325Z"
   },
   {
    "duration": 34,
    "start_time": "2021-08-10T23:34:35.346Z"
   },
   {
    "duration": 28,
    "start_time": "2021-08-10T23:34:35.383Z"
   },
   {
    "duration": 10,
    "start_time": "2021-08-10T23:34:35.413Z"
   },
   {
    "duration": 9,
    "start_time": "2021-08-10T23:34:35.426Z"
   },
   {
    "duration": 35,
    "start_time": "2021-08-10T23:34:35.437Z"
   },
   {
    "duration": 11,
    "start_time": "2021-08-10T23:34:35.476Z"
   },
   {
    "duration": 18,
    "start_time": "2021-08-10T23:34:35.490Z"
   },
   {
    "duration": 11,
    "start_time": "2021-08-10T23:34:35.511Z"
   },
   {
    "duration": 238,
    "start_time": "2021-08-10T23:34:35.524Z"
   },
   {
    "duration": 11,
    "start_time": "2021-08-10T23:34:35.764Z"
   },
   {
    "duration": 37,
    "start_time": "2021-08-10T23:34:35.778Z"
   },
   {
    "duration": 73,
    "start_time": "2021-08-10T23:34:35.817Z"
   },
   {
    "duration": 92,
    "start_time": "2021-08-10T23:34:35.893Z"
   },
   {
    "duration": 15,
    "start_time": "2021-08-10T23:34:35.987Z"
   },
   {
    "duration": 18,
    "start_time": "2021-08-10T23:34:36.005Z"
   },
   {
    "duration": 6,
    "start_time": "2021-08-10T23:34:36.062Z"
   },
   {
    "duration": 133,
    "start_time": "2021-08-10T23:34:36.070Z"
   },
   {
    "duration": 11,
    "start_time": "2021-08-10T23:34:36.205Z"
   },
   {
    "duration": 44,
    "start_time": "2021-08-10T23:34:36.218Z"
   },
   {
    "duration": 37,
    "start_time": "2021-08-10T23:34:36.264Z"
   },
   {
    "duration": 63,
    "start_time": "2021-08-10T23:34:36.304Z"
   },
   {
    "duration": 14,
    "start_time": "2021-08-10T23:34:36.370Z"
   },
   {
    "duration": 6,
    "start_time": "2021-08-10T23:34:36.386Z"
   },
   {
    "duration": 195,
    "start_time": "2021-08-10T23:34:36.398Z"
   },
   {
    "duration": 19,
    "start_time": "2021-08-10T23:34:36.596Z"
   },
   {
    "duration": 48,
    "start_time": "2021-08-10T23:34:36.618Z"
   },
   {
    "duration": 19,
    "start_time": "2021-08-10T23:34:36.668Z"
   },
   {
    "duration": 74,
    "start_time": "2021-08-10T23:34:36.690Z"
   },
   {
    "duration": 34,
    "start_time": "2021-08-10T23:34:36.766Z"
   },
   {
    "duration": 18,
    "start_time": "2021-08-10T23:34:36.802Z"
   },
   {
    "duration": 48,
    "start_time": "2021-08-10T23:34:36.822Z"
   },
   {
    "duration": 6,
    "start_time": "2021-08-10T23:34:36.873Z"
   },
   {
    "duration": 19,
    "start_time": "2021-08-10T23:34:36.881Z"
   },
   {
    "duration": 12,
    "start_time": "2021-08-10T23:34:36.903Z"
   },
   {
    "duration": 49,
    "start_time": "2021-08-10T23:34:36.918Z"
   },
   {
    "duration": 101,
    "start_time": "2021-08-10T23:34:36.970Z"
   },
   {
    "duration": 13,
    "start_time": "2021-08-10T23:34:37.074Z"
   },
   {
    "duration": 4,
    "start_time": "2021-08-10T23:34:37.089Z"
   },
   {
    "duration": 109,
    "start_time": "2021-08-10T23:34:37.095Z"
   },
   {
    "duration": 68,
    "start_time": "2021-08-10T23:34:37.207Z"
   },
   {
    "duration": 47,
    "start_time": "2021-08-10T23:34:37.277Z"
   },
   {
    "duration": 104,
    "start_time": "2021-08-10T23:34:37.327Z"
   },
   {
    "duration": 67,
    "start_time": "2021-08-10T23:34:37.434Z"
   },
   {
    "duration": 13,
    "start_time": "2021-08-10T23:34:37.504Z"
   },
   {
    "duration": 55,
    "start_time": "2021-08-10T23:34:37.521Z"
   },
   {
    "duration": 31,
    "start_time": "2021-08-10T23:34:37.579Z"
   },
   {
    "duration": 60,
    "start_time": "2021-08-10T23:34:37.613Z"
   },
   {
    "duration": 3,
    "start_time": "2021-08-10T23:34:37.676Z"
   },
   {
    "duration": 9,
    "start_time": "2021-08-10T23:34:37.682Z"
   },
   {
    "duration": 377,
    "start_time": "2021-08-10T23:34:37.694Z"
   },
   {
    "duration": 22,
    "start_time": "2021-08-10T23:34:38.074Z"
   },
   {
    "duration": 20,
    "start_time": "2021-08-10T23:34:38.100Z"
   },
   {
    "duration": 72,
    "start_time": "2021-08-10T23:34:38.122Z"
   },
   {
    "duration": 33,
    "start_time": "2021-08-10T23:34:38.196Z"
   },
   {
    "duration": 705,
    "start_time": "2021-08-10T23:34:38.231Z"
   },
   {
    "duration": 713,
    "start_time": "2021-08-10T23:34:38.938Z"
   },
   {
    "duration": 724,
    "start_time": "2021-08-10T23:34:39.653Z"
   },
   {
    "duration": 8,
    "start_time": "2021-08-10T23:34:40.379Z"
   },
   {
    "duration": 125,
    "start_time": "2021-08-10T23:34:40.391Z"
   },
   {
    "duration": 4,
    "start_time": "2021-08-10T23:34:40.518Z"
   },
   {
    "duration": 30,
    "start_time": "2021-08-10T23:34:40.525Z"
   },
   {
    "duration": 41,
    "start_time": "2021-08-10T23:34:40.558Z"
   },
   {
    "duration": 41,
    "start_time": "2021-08-10T23:36:40.427Z"
   },
   {
    "duration": 47,
    "start_time": "2021-08-10T23:37:08.677Z"
   },
   {
    "duration": 12,
    "start_time": "2021-08-10T23:39:40.147Z"
   },
   {
    "duration": 44,
    "start_time": "2021-08-10T23:39:45.596Z"
   },
   {
    "duration": 18,
    "start_time": "2021-08-10T23:40:31.376Z"
   },
   {
    "duration": 6,
    "start_time": "2021-08-10T23:41:50.005Z"
   },
   {
    "duration": 108,
    "start_time": "2021-08-10T23:42:04.176Z"
   },
   {
    "duration": 6,
    "start_time": "2021-08-10T23:43:14.053Z"
   },
   {
    "duration": 7,
    "start_time": "2021-08-10T23:44:26.157Z"
   },
   {
    "duration": 9,
    "start_time": "2021-08-10T23:44:35.596Z"
   },
   {
    "duration": 9,
    "start_time": "2021-08-10T23:49:20.287Z"
   },
   {
    "duration": 8,
    "start_time": "2021-08-10T23:50:52.357Z"
   },
   {
    "duration": 8,
    "start_time": "2021-08-10T23:56:34.606Z"
   },
   {
    "duration": 4,
    "start_time": "2021-08-10T23:57:17.730Z"
   },
   {
    "duration": 42,
    "start_time": "2021-08-10T23:57:17.737Z"
   },
   {
    "duration": 25,
    "start_time": "2021-08-10T23:57:17.782Z"
   },
   {
    "duration": 17,
    "start_time": "2021-08-10T23:57:17.810Z"
   },
   {
    "duration": 35,
    "start_time": "2021-08-10T23:57:17.829Z"
   },
   {
    "duration": 9,
    "start_time": "2021-08-10T23:57:17.866Z"
   },
   {
    "duration": 10,
    "start_time": "2021-08-10T23:57:17.877Z"
   },
   {
    "duration": 13,
    "start_time": "2021-08-10T23:57:17.891Z"
   },
   {
    "duration": 56,
    "start_time": "2021-08-10T23:57:17.907Z"
   },
   {
    "duration": 12,
    "start_time": "2021-08-10T23:57:17.966Z"
   },
   {
    "duration": 10,
    "start_time": "2021-08-10T23:57:17.980Z"
   },
   {
    "duration": 238,
    "start_time": "2021-08-10T23:57:17.993Z"
   },
   {
    "duration": 12,
    "start_time": "2021-08-10T23:57:18.233Z"
   },
   {
    "duration": 57,
    "start_time": "2021-08-10T23:57:18.248Z"
   },
   {
    "duration": 109,
    "start_time": "2021-08-10T23:57:18.308Z"
   },
   {
    "duration": 118,
    "start_time": "2021-08-10T23:57:18.420Z"
   },
   {
    "duration": 31,
    "start_time": "2021-08-10T23:57:18.541Z"
   },
   {
    "duration": 25,
    "start_time": "2021-08-10T23:57:18.576Z"
   },
   {
    "duration": 8,
    "start_time": "2021-08-10T23:57:18.604Z"
   },
   {
    "duration": 187,
    "start_time": "2021-08-10T23:57:18.615Z"
   },
   {
    "duration": 14,
    "start_time": "2021-08-10T23:57:18.806Z"
   },
   {
    "duration": 46,
    "start_time": "2021-08-10T23:57:18.823Z"
   },
   {
    "duration": 59,
    "start_time": "2021-08-10T23:57:18.879Z"
   },
   {
    "duration": 68,
    "start_time": "2021-08-10T23:57:18.943Z"
   },
   {
    "duration": 18,
    "start_time": "2021-08-10T23:57:19.015Z"
   },
   {
    "duration": 28,
    "start_time": "2021-08-10T23:57:19.036Z"
   },
   {
    "duration": 247,
    "start_time": "2021-08-10T23:57:19.067Z"
   },
   {
    "duration": 27,
    "start_time": "2021-08-10T23:57:19.317Z"
   },
   {
    "duration": 35,
    "start_time": "2021-08-10T23:57:19.363Z"
   },
   {
    "duration": 23,
    "start_time": "2021-08-10T23:57:19.401Z"
   },
   {
    "duration": 68,
    "start_time": "2021-08-10T23:57:19.427Z"
   },
   {
    "duration": 35,
    "start_time": "2021-08-10T23:57:19.498Z"
   },
   {
    "duration": 44,
    "start_time": "2021-08-10T23:57:19.536Z"
   },
   {
    "duration": 17,
    "start_time": "2021-08-10T23:57:19.583Z"
   },
   {
    "duration": 9,
    "start_time": "2021-08-10T23:57:19.603Z"
   },
   {
    "duration": 49,
    "start_time": "2021-08-10T23:57:19.614Z"
   },
   {
    "duration": 15,
    "start_time": "2021-08-10T23:57:19.667Z"
   },
   {
    "duration": 15,
    "start_time": "2021-08-10T23:57:19.685Z"
   },
   {
    "duration": 122,
    "start_time": "2021-08-10T23:57:19.703Z"
   },
   {
    "duration": 34,
    "start_time": "2021-08-10T23:57:19.828Z"
   },
   {
    "duration": 5,
    "start_time": "2021-08-10T23:57:19.865Z"
   },
   {
    "duration": 90,
    "start_time": "2021-08-10T23:57:19.874Z"
   },
   {
    "duration": 60,
    "start_time": "2021-08-10T23:57:19.967Z"
   },
   {
    "duration": 74,
    "start_time": "2021-08-10T23:57:20.030Z"
   },
   {
    "duration": 83,
    "start_time": "2021-08-10T23:57:20.107Z"
   },
   {
    "duration": 45,
    "start_time": "2021-08-10T23:57:20.192Z"
   },
   {
    "duration": 34,
    "start_time": "2021-08-10T23:57:20.240Z"
   },
   {
    "duration": 29,
    "start_time": "2021-08-10T23:57:20.276Z"
   },
   {
    "duration": 56,
    "start_time": "2021-08-10T23:57:20.308Z"
   },
   {
    "duration": 31,
    "start_time": "2021-08-10T23:57:20.367Z"
   },
   {
    "duration": 3,
    "start_time": "2021-08-10T23:57:20.401Z"
   },
   {
    "duration": 9,
    "start_time": "2021-08-10T23:57:20.406Z"
   },
   {
    "duration": 390,
    "start_time": "2021-08-10T23:57:20.417Z"
   },
   {
    "duration": 20,
    "start_time": "2021-08-10T23:57:20.809Z"
   },
   {
    "duration": 40,
    "start_time": "2021-08-10T23:57:20.832Z"
   },
   {
    "duration": 38,
    "start_time": "2021-08-10T23:57:20.875Z"
   },
   {
    "duration": 63,
    "start_time": "2021-08-10T23:57:20.916Z"
   },
   {
    "duration": 799,
    "start_time": "2021-08-10T23:57:20.982Z"
   },
   {
    "duration": 723,
    "start_time": "2021-08-10T23:57:21.784Z"
   },
   {
    "duration": 711,
    "start_time": "2021-08-10T23:57:22.510Z"
   },
   {
    "duration": 9,
    "start_time": "2021-08-10T23:57:23.223Z"
   },
   {
    "duration": 131,
    "start_time": "2021-08-10T23:57:23.235Z"
   },
   {
    "duration": 4,
    "start_time": "2021-08-10T23:57:23.370Z"
   },
   {
    "duration": 12,
    "start_time": "2021-08-10T23:57:23.377Z"
   },
   {
    "duration": 12,
    "start_time": "2021-08-10T23:57:23.392Z"
   },
   {
    "duration": 11,
    "start_time": "2021-08-10T23:57:23.407Z"
   },
   {
    "duration": 46,
    "start_time": "2021-08-10T23:57:23.421Z"
   },
   {
    "duration": 7,
    "start_time": "2021-08-10T23:57:23.477Z"
   },
   {
    "duration": 1412,
    "start_time": "2021-08-11T00:33:18.420Z"
   },
   {
    "duration": 36,
    "start_time": "2021-08-11T00:33:19.834Z"
   },
   {
    "duration": 20,
    "start_time": "2021-08-11T00:33:19.874Z"
   },
   {
    "duration": 10,
    "start_time": "2021-08-11T00:33:19.897Z"
   },
   {
    "duration": 19,
    "start_time": "2021-08-11T00:33:19.909Z"
   },
   {
    "duration": 7,
    "start_time": "2021-08-11T00:33:19.961Z"
   },
   {
    "duration": 7,
    "start_time": "2021-08-11T00:33:19.970Z"
   },
   {
    "duration": 11,
    "start_time": "2021-08-11T00:33:19.980Z"
   },
   {
    "duration": 7,
    "start_time": "2021-08-11T00:33:19.995Z"
   },
   {
    "duration": 13,
    "start_time": "2021-08-11T00:33:20.005Z"
   },
   {
    "duration": 6,
    "start_time": "2021-08-11T00:33:20.062Z"
   },
   {
    "duration": 212,
    "start_time": "2021-08-11T00:33:20.071Z"
   },
   {
    "duration": 12,
    "start_time": "2021-08-11T00:33:20.286Z"
   },
   {
    "duration": 28,
    "start_time": "2021-08-11T00:33:20.301Z"
   },
   {
    "duration": 83,
    "start_time": "2021-08-11T00:33:20.331Z"
   },
   {
    "duration": 94,
    "start_time": "2021-08-11T00:33:20.417Z"
   },
   {
    "duration": 21,
    "start_time": "2021-08-11T00:33:20.514Z"
   },
   {
    "duration": 41,
    "start_time": "2021-08-11T00:33:20.539Z"
   },
   {
    "duration": 9,
    "start_time": "2021-08-11T00:33:20.584Z"
   },
   {
    "duration": 172,
    "start_time": "2021-08-11T00:33:20.596Z"
   },
   {
    "duration": 15,
    "start_time": "2021-08-11T00:33:20.771Z"
   },
   {
    "duration": 30,
    "start_time": "2021-08-11T00:33:20.789Z"
   },
   {
    "duration": 80,
    "start_time": "2021-08-11T00:33:20.822Z"
   },
   {
    "duration": 63,
    "start_time": "2021-08-11T00:33:20.905Z"
   },
   {
    "duration": 17,
    "start_time": "2021-08-11T00:33:20.971Z"
   },
   {
    "duration": 9,
    "start_time": "2021-08-11T00:33:20.991Z"
   },
   {
    "duration": 198,
    "start_time": "2021-08-11T00:33:21.007Z"
   },
   {
    "duration": 21,
    "start_time": "2021-08-11T00:33:21.208Z"
   },
   {
    "duration": 40,
    "start_time": "2021-08-11T00:33:21.232Z"
   },
   {
    "duration": 19,
    "start_time": "2021-08-11T00:33:21.274Z"
   },
   {
    "duration": 71,
    "start_time": "2021-08-11T00:33:21.295Z"
   },
   {
    "duration": 31,
    "start_time": "2021-08-11T00:33:21.368Z"
   },
   {
    "duration": 18,
    "start_time": "2021-08-11T00:33:21.401Z"
   },
   {
    "duration": 42,
    "start_time": "2021-08-11T00:33:21.423Z"
   },
   {
    "duration": 7,
    "start_time": "2021-08-11T00:33:21.468Z"
   },
   {
    "duration": 20,
    "start_time": "2021-08-11T00:33:21.478Z"
   },
   {
    "duration": 26,
    "start_time": "2021-08-11T00:33:21.500Z"
   },
   {
    "duration": 17,
    "start_time": "2021-08-11T00:33:21.529Z"
   },
   {
    "duration": 101,
    "start_time": "2021-08-11T00:33:21.561Z"
   },
   {
    "duration": 14,
    "start_time": "2021-08-11T00:33:21.664Z"
   },
   {
    "duration": 4,
    "start_time": "2021-08-11T00:33:21.680Z"
   },
   {
    "duration": 93,
    "start_time": "2021-08-11T00:33:21.687Z"
   },
   {
    "duration": 60,
    "start_time": "2021-08-11T00:33:21.783Z"
   },
   {
    "duration": 46,
    "start_time": "2021-08-11T00:33:21.862Z"
   },
   {
    "duration": 88,
    "start_time": "2021-08-11T00:33:21.910Z"
   },
   {
    "duration": 47,
    "start_time": "2021-08-11T00:33:22.001Z"
   },
   {
    "duration": 16,
    "start_time": "2021-08-11T00:33:22.062Z"
   },
   {
    "duration": 35,
    "start_time": "2021-08-11T00:33:22.081Z"
   },
   {
    "duration": 48,
    "start_time": "2021-08-11T00:33:22.118Z"
   },
   {
    "duration": 32,
    "start_time": "2021-08-11T00:33:22.169Z"
   },
   {
    "duration": 3,
    "start_time": "2021-08-11T00:33:22.203Z"
   },
   {
    "duration": 8,
    "start_time": "2021-08-11T00:33:22.209Z"
   },
   {
    "duration": 382,
    "start_time": "2021-08-11T00:33:22.220Z"
   },
   {
    "duration": 21,
    "start_time": "2021-08-11T00:33:22.604Z"
   },
   {
    "duration": 41,
    "start_time": "2021-08-11T00:33:22.628Z"
   },
   {
    "duration": 38,
    "start_time": "2021-08-11T00:33:22.671Z"
   },
   {
    "duration": 60,
    "start_time": "2021-08-11T00:33:22.711Z"
   },
   {
    "duration": 689,
    "start_time": "2021-08-11T00:33:22.773Z"
   },
   {
    "duration": 703,
    "start_time": "2021-08-11T00:33:23.465Z"
   },
   {
    "duration": 805,
    "start_time": "2021-08-11T00:33:24.171Z"
   },
   {
    "duration": 8,
    "start_time": "2021-08-11T00:33:24.979Z"
   },
   {
    "duration": 123,
    "start_time": "2021-08-11T00:33:24.989Z"
   },
   {
    "duration": 3,
    "start_time": "2021-08-11T00:33:25.115Z"
   },
   {
    "duration": 11,
    "start_time": "2021-08-11T00:33:25.120Z"
   },
   {
    "duration": 33,
    "start_time": "2021-08-11T00:33:25.133Z"
   },
   {
    "duration": 11,
    "start_time": "2021-08-11T00:33:25.169Z"
   },
   {
    "duration": 8,
    "start_time": "2021-08-11T00:33:25.182Z"
   },
   {
    "duration": 13,
    "start_time": "2021-08-11T00:33:25.193Z"
   },
   {
    "duration": 1406,
    "start_time": "2021-08-11T00:42:25.135Z"
   },
   {
    "duration": 35,
    "start_time": "2021-08-11T00:42:26.544Z"
   },
   {
    "duration": 19,
    "start_time": "2021-08-11T00:42:26.583Z"
   },
   {
    "duration": 14,
    "start_time": "2021-08-11T00:42:26.605Z"
   },
   {
    "duration": 17,
    "start_time": "2021-08-11T00:42:26.621Z"
   },
   {
    "duration": 24,
    "start_time": "2021-08-11T00:42:26.641Z"
   },
   {
    "duration": 9,
    "start_time": "2021-08-11T00:42:26.667Z"
   },
   {
    "duration": 14,
    "start_time": "2021-08-11T00:42:26.678Z"
   },
   {
    "duration": 12,
    "start_time": "2021-08-11T00:42:26.696Z"
   },
   {
    "duration": 11,
    "start_time": "2021-08-11T00:42:26.711Z"
   },
   {
    "duration": 8,
    "start_time": "2021-08-11T00:42:26.763Z"
   },
   {
    "duration": 221,
    "start_time": "2021-08-11T00:42:26.773Z"
   },
   {
    "duration": 11,
    "start_time": "2021-08-11T00:42:26.996Z"
   },
   {
    "duration": 35,
    "start_time": "2021-08-11T00:42:27.010Z"
   },
   {
    "duration": 72,
    "start_time": "2021-08-11T00:42:27.047Z"
   },
   {
    "duration": 95,
    "start_time": "2021-08-11T00:42:27.121Z"
   },
   {
    "duration": 17,
    "start_time": "2021-08-11T00:42:27.219Z"
   },
   {
    "duration": 41,
    "start_time": "2021-08-11T00:42:27.238Z"
   },
   {
    "duration": 8,
    "start_time": "2021-08-11T00:42:27.282Z"
   },
   {
    "duration": 188,
    "start_time": "2021-08-11T00:42:27.293Z"
   },
   {
    "duration": 17,
    "start_time": "2021-08-11T00:42:27.485Z"
   },
   {
    "duration": 31,
    "start_time": "2021-08-11T00:42:27.505Z"
   },
   {
    "duration": 72,
    "start_time": "2021-08-11T00:42:27.540Z"
   },
   {
    "duration": 68,
    "start_time": "2021-08-11T00:42:27.615Z"
   },
   {
    "duration": 18,
    "start_time": "2021-08-11T00:42:27.686Z"
   },
   {
    "duration": 8,
    "start_time": "2021-08-11T00:42:27.707Z"
   },
   {
    "duration": 195,
    "start_time": "2021-08-11T00:42:27.721Z"
   },
   {
    "duration": 20,
    "start_time": "2021-08-11T00:42:27.920Z"
   },
   {
    "duration": 42,
    "start_time": "2021-08-11T00:42:27.943Z"
   },
   {
    "duration": 23,
    "start_time": "2021-08-11T00:42:27.988Z"
   },
   {
    "duration": 86,
    "start_time": "2021-08-11T00:42:28.014Z"
   },
   {
    "duration": 33,
    "start_time": "2021-08-11T00:42:28.103Z"
   },
   {
    "duration": 39,
    "start_time": "2021-08-11T00:42:28.139Z"
   },
   {
    "duration": 16,
    "start_time": "2021-08-11T00:42:28.181Z"
   },
   {
    "duration": 8,
    "start_time": "2021-08-11T00:42:28.200Z"
   },
   {
    "duration": 55,
    "start_time": "2021-08-11T00:42:28.211Z"
   },
   {
    "duration": 13,
    "start_time": "2021-08-11T00:42:28.268Z"
   },
   {
    "duration": 15,
    "start_time": "2021-08-11T00:42:28.284Z"
   },
   {
    "duration": 115,
    "start_time": "2021-08-11T00:42:28.302Z"
   },
   {
    "duration": 16,
    "start_time": "2021-08-11T00:42:28.420Z"
   },
   {
    "duration": 26,
    "start_time": "2021-08-11T00:42:28.439Z"
   },
   {
    "duration": 94,
    "start_time": "2021-08-11T00:42:28.468Z"
   },
   {
    "duration": 59,
    "start_time": "2021-08-11T00:42:28.564Z"
   },
   {
    "duration": 65,
    "start_time": "2021-08-11T00:42:28.625Z"
   },
   {
    "duration": 76,
    "start_time": "2021-08-11T00:42:28.693Z"
   },
   {
    "duration": 44,
    "start_time": "2021-08-11T00:42:28.772Z"
   },
   {
    "duration": 17,
    "start_time": "2021-08-11T00:42:28.819Z"
   },
   {
    "duration": 31,
    "start_time": "2021-08-11T00:42:28.862Z"
   },
   {
    "duration": 27,
    "start_time": "2021-08-11T00:42:28.896Z"
   },
   {
    "duration": 59,
    "start_time": "2021-08-11T00:42:28.925Z"
   },
   {
    "duration": 3,
    "start_time": "2021-08-11T00:42:28.986Z"
   },
   {
    "duration": 9,
    "start_time": "2021-08-11T00:42:28.992Z"
   },
   {
    "duration": 373,
    "start_time": "2021-08-11T00:42:29.004Z"
   },
   {
    "duration": 20,
    "start_time": "2021-08-11T00:42:29.379Z"
   },
   {
    "duration": 20,
    "start_time": "2021-08-11T00:42:29.401Z"
   },
   {
    "duration": 64,
    "start_time": "2021-08-11T00:42:29.423Z"
   },
   {
    "duration": 33,
    "start_time": "2021-08-11T00:42:29.490Z"
   },
   {
    "duration": 718,
    "start_time": "2021-08-11T00:42:29.525Z"
   },
   {
    "duration": 718,
    "start_time": "2021-08-11T00:42:30.246Z"
   },
   {
    "duration": 723,
    "start_time": "2021-08-11T00:42:30.967Z"
   },
   {
    "duration": 9,
    "start_time": "2021-08-11T00:42:31.693Z"
   },
   {
    "duration": 123,
    "start_time": "2021-08-11T00:42:31.704Z"
   },
   {
    "duration": 3,
    "start_time": "2021-08-11T00:42:31.830Z"
   },
   {
    "duration": 26,
    "start_time": "2021-08-11T00:42:31.836Z"
   },
   {
    "duration": 12,
    "start_time": "2021-08-11T00:42:31.864Z"
   },
   {
    "duration": 19,
    "start_time": "2021-08-11T00:42:31.879Z"
   },
   {
    "duration": 11,
    "start_time": "2021-08-11T00:42:31.900Z"
   },
   {
    "duration": 8,
    "start_time": "2021-08-11T00:42:31.913Z"
   },
   {
    "duration": 1038,
    "start_time": "2021-08-11T18:21:51.491Z"
   },
   {
    "duration": 39,
    "start_time": "2021-08-11T18:21:52.531Z"
   },
   {
    "duration": 13,
    "start_time": "2021-08-11T18:21:52.572Z"
   },
   {
    "duration": 6,
    "start_time": "2021-08-11T18:21:52.587Z"
   },
   {
    "duration": 10,
    "start_time": "2021-08-11T18:21:52.595Z"
   },
   {
    "duration": 5,
    "start_time": "2021-08-11T18:21:52.607Z"
   },
   {
    "duration": 7,
    "start_time": "2021-08-11T18:21:52.613Z"
   },
   {
    "duration": 8,
    "start_time": "2021-08-11T18:21:52.622Z"
   },
   {
    "duration": 5,
    "start_time": "2021-08-11T18:21:52.632Z"
   },
   {
    "duration": 8,
    "start_time": "2021-08-11T18:21:52.638Z"
   },
   {
    "duration": 6,
    "start_time": "2021-08-11T18:21:52.685Z"
   },
   {
    "duration": 146,
    "start_time": "2021-08-11T18:21:52.692Z"
   },
   {
    "duration": 8,
    "start_time": "2021-08-11T18:21:52.839Z"
   },
   {
    "duration": 22,
    "start_time": "2021-08-11T18:21:52.849Z"
   },
   {
    "duration": 40,
    "start_time": "2021-08-11T18:21:52.884Z"
   },
   {
    "duration": 67,
    "start_time": "2021-08-11T18:21:52.925Z"
   },
   {
    "duration": 10,
    "start_time": "2021-08-11T18:21:52.994Z"
   },
   {
    "duration": 14,
    "start_time": "2021-08-11T18:21:53.006Z"
   },
   {
    "duration": 5,
    "start_time": "2021-08-11T18:21:53.021Z"
   },
   {
    "duration": 101,
    "start_time": "2021-08-11T18:21:53.027Z"
   },
   {
    "duration": 7,
    "start_time": "2021-08-11T18:21:53.130Z"
   },
   {
    "duration": 15,
    "start_time": "2021-08-11T18:21:53.138Z"
   },
   {
    "duration": 40,
    "start_time": "2021-08-11T18:21:53.157Z"
   },
   {
    "duration": 24,
    "start_time": "2021-08-11T18:21:53.199Z"
   },
   {
    "duration": 9,
    "start_time": "2021-08-11T18:21:53.225Z"
   },
   {
    "duration": 6,
    "start_time": "2021-08-11T18:21:53.236Z"
   },
   {
    "duration": 138,
    "start_time": "2021-08-11T18:21:53.243Z"
   },
   {
    "duration": 13,
    "start_time": "2021-08-11T18:21:53.385Z"
   },
   {
    "duration": 18,
    "start_time": "2021-08-11T18:21:53.400Z"
   },
   {
    "duration": 13,
    "start_time": "2021-08-11T18:21:53.420Z"
   },
   {
    "duration": 57,
    "start_time": "2021-08-11T18:21:53.435Z"
   },
   {
    "duration": 21,
    "start_time": "2021-08-11T18:21:53.494Z"
   },
   {
    "duration": 14,
    "start_time": "2021-08-11T18:21:53.516Z"
   },
   {
    "duration": 10,
    "start_time": "2021-08-11T18:21:53.532Z"
   },
   {
    "duration": 5,
    "start_time": "2021-08-11T18:21:53.544Z"
   },
   {
    "duration": 19,
    "start_time": "2021-08-11T18:21:53.585Z"
   },
   {
    "duration": 10,
    "start_time": "2021-08-11T18:21:53.606Z"
   },
   {
    "duration": 7,
    "start_time": "2021-08-11T18:21:53.618Z"
   },
   {
    "duration": 71,
    "start_time": "2021-08-11T18:21:53.627Z"
   },
   {
    "duration": 9,
    "start_time": "2021-08-11T18:21:53.700Z"
   },
   {
    "duration": 3,
    "start_time": "2021-08-11T18:21:53.711Z"
   },
   {
    "duration": 70,
    "start_time": "2021-08-11T18:21:53.716Z"
   },
   {
    "duration": 40,
    "start_time": "2021-08-11T18:21:53.788Z"
   },
   {
    "duration": 32,
    "start_time": "2021-08-11T18:21:53.829Z"
   },
   {
    "duration": 65,
    "start_time": "2021-08-11T18:21:53.863Z"
   },
   {
    "duration": 29,
    "start_time": "2021-08-11T18:21:53.930Z"
   },
   {
    "duration": 26,
    "start_time": "2021-08-11T18:21:53.961Z"
   },
   {
    "duration": 19,
    "start_time": "2021-08-11T18:21:53.989Z"
   },
   {
    "duration": 16,
    "start_time": "2021-08-11T18:21:54.010Z"
   },
   {
    "duration": 18,
    "start_time": "2021-08-11T18:21:54.027Z"
   },
   {
    "duration": 2,
    "start_time": "2021-08-11T18:21:54.046Z"
   },
   {
    "duration": 37,
    "start_time": "2021-08-11T18:21:54.049Z"
   },
   {
    "duration": 222,
    "start_time": "2021-08-11T18:21:54.088Z"
   },
   {
    "duration": 13,
    "start_time": "2021-08-11T18:21:54.312Z"
   },
   {
    "duration": 13,
    "start_time": "2021-08-11T18:21:54.327Z"
   },
   {
    "duration": 46,
    "start_time": "2021-08-11T18:21:54.342Z"
   },
   {
    "duration": 23,
    "start_time": "2021-08-11T18:21:54.390Z"
   },
   {
    "duration": 439,
    "start_time": "2021-08-11T18:21:54.415Z"
   },
   {
    "duration": 455,
    "start_time": "2021-08-11T18:21:54.855Z"
   },
   {
    "duration": 442,
    "start_time": "2021-08-11T18:21:55.312Z"
   },
   {
    "duration": 6,
    "start_time": "2021-08-11T18:21:55.755Z"
   },
   {
    "duration": 74,
    "start_time": "2021-08-11T18:21:55.763Z"
   },
   {
    "duration": 3,
    "start_time": "2021-08-11T18:21:55.838Z"
   },
   {
    "duration": 7,
    "start_time": "2021-08-11T18:21:55.842Z"
   },
   {
    "duration": 8,
    "start_time": "2021-08-11T18:21:55.851Z"
   },
   {
    "duration": 27,
    "start_time": "2021-08-11T18:21:55.860Z"
   },
   {
    "duration": 5,
    "start_time": "2021-08-11T18:21:55.889Z"
   },
   {
    "duration": 5,
    "start_time": "2021-08-11T18:21:55.899Z"
   },
   {
    "duration": 293,
    "start_time": "2021-08-12T00:54:28.025Z"
   },
   {
    "duration": 1057,
    "start_time": "2021-08-12T00:54:45.026Z"
   },
   {
    "duration": 27,
    "start_time": "2021-08-12T00:54:46.085Z"
   },
   {
    "duration": 16,
    "start_time": "2021-08-12T00:54:46.113Z"
   },
   {
    "duration": 7,
    "start_time": "2021-08-12T00:54:46.131Z"
   },
   {
    "duration": 11,
    "start_time": "2021-08-12T00:54:46.140Z"
   },
   {
    "duration": 5,
    "start_time": "2021-08-12T00:54:46.153Z"
   },
   {
    "duration": 7,
    "start_time": "2021-08-12T00:54:46.159Z"
   },
   {
    "duration": 9,
    "start_time": "2021-08-12T00:54:46.167Z"
   },
   {
    "duration": 7,
    "start_time": "2021-08-12T00:54:46.178Z"
   },
   {
    "duration": 10,
    "start_time": "2021-08-12T00:54:46.187Z"
   },
   {
    "duration": 5,
    "start_time": "2021-08-12T00:54:46.199Z"
   },
   {
    "duration": 170,
    "start_time": "2021-08-12T00:54:46.205Z"
   },
   {
    "duration": 8,
    "start_time": "2021-08-12T00:54:46.376Z"
   },
   {
    "duration": 28,
    "start_time": "2021-08-12T00:54:46.386Z"
   },
   {
    "duration": 48,
    "start_time": "2021-08-12T00:54:46.415Z"
   },
   {
    "duration": 55,
    "start_time": "2021-08-12T00:54:46.464Z"
   },
   {
    "duration": 25,
    "start_time": "2021-08-12T00:54:46.521Z"
   },
   {
    "duration": 15,
    "start_time": "2021-08-12T00:54:46.548Z"
   },
   {
    "duration": 6,
    "start_time": "2021-08-12T00:54:46.565Z"
   },
   {
    "duration": 100,
    "start_time": "2021-08-12T00:54:46.573Z"
   },
   {
    "duration": 8,
    "start_time": "2021-08-12T00:54:46.674Z"
   },
   {
    "duration": 15,
    "start_time": "2021-08-12T00:54:46.684Z"
   },
   {
    "duration": 45,
    "start_time": "2021-08-12T00:54:46.701Z"
   },
   {
    "duration": 25,
    "start_time": "2021-08-12T00:54:46.748Z"
   },
   {
    "duration": 10,
    "start_time": "2021-08-12T00:54:46.775Z"
   },
   {
    "duration": 6,
    "start_time": "2021-08-12T00:54:46.787Z"
   },
   {
    "duration": 139,
    "start_time": "2021-08-12T00:54:46.797Z"
   },
   {
    "duration": 8,
    "start_time": "2021-08-12T00:54:46.938Z"
   },
   {
    "duration": 18,
    "start_time": "2021-08-12T00:54:46.947Z"
   },
   {
    "duration": 11,
    "start_time": "2021-08-12T00:54:46.966Z"
   },
   {
    "duration": 28,
    "start_time": "2021-08-12T00:54:46.979Z"
   },
   {
    "duration": 47,
    "start_time": "2021-08-12T00:54:47.009Z"
   },
   {
    "duration": 11,
    "start_time": "2021-08-12T00:54:47.058Z"
   },
   {
    "duration": 9,
    "start_time": "2021-08-12T00:54:47.071Z"
   },
   {
    "duration": 4,
    "start_time": "2021-08-12T00:54:47.081Z"
   },
   {
    "duration": 14,
    "start_time": "2021-08-12T00:54:47.087Z"
   },
   {
    "duration": 8,
    "start_time": "2021-08-12T00:54:47.103Z"
   },
   {
    "duration": 28,
    "start_time": "2021-08-12T00:54:47.113Z"
   },
   {
    "duration": 60,
    "start_time": "2021-08-12T00:54:47.143Z"
   },
   {
    "duration": 9,
    "start_time": "2021-08-12T00:54:47.205Z"
   },
   {
    "duration": 2,
    "start_time": "2021-08-12T00:54:47.216Z"
   },
   {
    "duration": 66,
    "start_time": "2021-08-12T00:54:47.220Z"
   },
   {
    "duration": 37,
    "start_time": "2021-08-12T00:54:47.288Z"
   },
   {
    "duration": 41,
    "start_time": "2021-08-12T00:54:47.327Z"
   },
   {
    "duration": 43,
    "start_time": "2021-08-12T00:54:47.370Z"
   },
   {
    "duration": 51,
    "start_time": "2021-08-12T00:54:47.414Z"
   },
   {
    "duration": 11,
    "start_time": "2021-08-12T00:54:47.467Z"
   },
   {
    "duration": 17,
    "start_time": "2021-08-12T00:54:47.480Z"
   },
   {
    "duration": 16,
    "start_time": "2021-08-12T00:54:47.498Z"
   },
   {
    "duration": 38,
    "start_time": "2021-08-12T00:54:47.516Z"
   },
   {
    "duration": 2,
    "start_time": "2021-08-12T00:54:47.555Z"
   },
   {
    "duration": 9,
    "start_time": "2021-08-12T00:54:47.559Z"
   },
   {
    "duration": 213,
    "start_time": "2021-08-12T00:54:47.569Z"
   },
   {
    "duration": 13,
    "start_time": "2021-08-12T00:54:47.783Z"
   },
   {
    "duration": 12,
    "start_time": "2021-08-12T00:54:47.798Z"
   },
   {
    "duration": 44,
    "start_time": "2021-08-12T00:54:47.811Z"
   },
   {
    "duration": 21,
    "start_time": "2021-08-12T00:54:47.857Z"
   },
   {
    "duration": 396,
    "start_time": "2021-08-12T00:54:47.880Z"
   },
   {
    "duration": 408,
    "start_time": "2021-08-12T00:54:48.278Z"
   },
   {
    "duration": 407,
    "start_time": "2021-08-12T00:54:48.688Z"
   },
   {
    "duration": 6,
    "start_time": "2021-08-12T00:54:49.097Z"
   },
   {
    "duration": 71,
    "start_time": "2021-08-12T00:54:49.105Z"
   },
   {
    "duration": 3,
    "start_time": "2021-08-12T00:54:49.177Z"
   },
   {
    "duration": 7,
    "start_time": "2021-08-12T00:54:49.181Z"
   },
   {
    "duration": 10,
    "start_time": "2021-08-12T00:54:49.190Z"
   },
   {
    "duration": 7,
    "start_time": "2021-08-12T00:54:49.202Z"
   },
   {
    "duration": 30,
    "start_time": "2021-08-12T00:54:49.211Z"
   },
   {
    "duration": 6,
    "start_time": "2021-08-12T00:54:49.243Z"
   },
   {
    "duration": 88,
    "start_time": "2021-08-12T00:56:19.865Z"
   },
   {
    "duration": 4,
    "start_time": "2021-08-12T01:24:33.395Z"
   },
   {
    "duration": 18,
    "start_time": "2021-08-12T01:25:07.445Z"
   },
   {
    "duration": 17,
    "start_time": "2021-08-12T01:25:44.994Z"
   },
   {
    "duration": 13,
    "start_time": "2021-08-12T01:25:51.075Z"
   },
   {
    "duration": 10,
    "start_time": "2021-08-12T01:26:22.605Z"
   },
   {
    "duration": 10,
    "start_time": "2021-08-12T01:27:23.092Z"
   },
   {
    "duration": 10,
    "start_time": "2021-08-12T01:28:36.245Z"
   },
   {
    "duration": 9,
    "start_time": "2021-08-12T01:28:40.545Z"
   },
   {
    "duration": 80,
    "start_time": "2021-08-12T01:31:04.665Z"
   },
   {
    "duration": 298,
    "start_time": "2021-08-12T01:31:19.355Z"
   },
   {
    "duration": 16,
    "start_time": "2021-08-12T01:31:28.416Z"
   },
   {
    "duration": 14,
    "start_time": "2021-08-12T01:31:41.175Z"
   },
   {
    "duration": 6,
    "start_time": "2021-08-12T08:03:13.331Z"
   },
   {
    "duration": 5,
    "start_time": "2021-08-12T08:03:37.886Z"
   },
   {
    "duration": 10,
    "start_time": "2021-08-12T08:04:52.755Z"
   },
   {
    "duration": 12,
    "start_time": "2021-08-12T08:05:36.055Z"
   },
   {
    "duration": 6,
    "start_time": "2021-08-12T08:07:02.720Z"
   },
   {
    "duration": 12,
    "start_time": "2021-08-12T08:07:04.222Z"
   },
   {
    "duration": 6,
    "start_time": "2021-08-12T08:07:55.883Z"
   },
   {
    "duration": 11,
    "start_time": "2021-08-12T08:07:56.795Z"
   },
   {
    "duration": 11,
    "start_time": "2021-08-12T08:08:25.490Z"
   },
   {
    "duration": 6,
    "start_time": "2021-08-12T08:10:16.216Z"
   },
   {
    "duration": 13,
    "start_time": "2021-08-12T08:10:16.674Z"
   },
   {
    "duration": 13,
    "start_time": "2021-08-12T08:10:24.656Z"
   },
   {
    "duration": 7,
    "start_time": "2021-08-12T08:11:10.221Z"
   },
   {
    "duration": 568,
    "start_time": "2021-08-12T08:11:10.645Z"
   },
   {
    "duration": 6,
    "start_time": "2021-08-12T08:11:31.105Z"
   },
   {
    "duration": 12,
    "start_time": "2021-08-12T08:11:31.524Z"
   },
   {
    "duration": 13,
    "start_time": "2021-08-12T08:11:34.215Z"
   },
   {
    "duration": 6,
    "start_time": "2021-08-12T08:12:15.744Z"
   },
   {
    "duration": 12,
    "start_time": "2021-08-12T08:12:16.234Z"
   },
   {
    "duration": 14,
    "start_time": "2021-08-12T08:12:17.445Z"
   },
   {
    "duration": 6,
    "start_time": "2021-08-12T08:14:39.664Z"
   },
   {
    "duration": 12,
    "start_time": "2021-08-12T08:14:40.215Z"
   },
   {
    "duration": 12,
    "start_time": "2021-08-12T08:14:44.387Z"
   },
   {
    "duration": 7,
    "start_time": "2021-08-12T09:07:27.243Z"
   },
   {
    "duration": 10,
    "start_time": "2021-08-12T09:07:28.806Z"
   },
   {
    "duration": 12,
    "start_time": "2021-08-12T09:07:29.609Z"
   },
   {
    "duration": 1021,
    "start_time": "2021-08-12T09:48:25.264Z"
   },
   {
    "duration": 27,
    "start_time": "2021-08-12T09:48:26.287Z"
   },
   {
    "duration": 20,
    "start_time": "2021-08-12T09:48:26.316Z"
   },
   {
    "duration": 6,
    "start_time": "2021-08-12T09:48:26.338Z"
   },
   {
    "duration": 19,
    "start_time": "2021-08-12T09:48:26.345Z"
   },
   {
    "duration": 3,
    "start_time": "2021-08-12T09:48:26.366Z"
   },
   {
    "duration": 9,
    "start_time": "2021-08-12T09:48:26.371Z"
   },
   {
    "duration": 10,
    "start_time": "2021-08-12T09:48:26.381Z"
   },
   {
    "duration": 5,
    "start_time": "2021-08-12T09:48:26.393Z"
   },
   {
    "duration": 8,
    "start_time": "2021-08-12T09:48:26.400Z"
   },
   {
    "duration": 5,
    "start_time": "2021-08-12T09:48:26.409Z"
   },
   {
    "duration": 169,
    "start_time": "2021-08-12T09:48:26.416Z"
   },
   {
    "duration": 7,
    "start_time": "2021-08-12T09:48:26.587Z"
   },
   {
    "duration": 24,
    "start_time": "2021-08-12T09:48:26.596Z"
   },
   {
    "duration": 47,
    "start_time": "2021-08-12T09:48:26.622Z"
   },
   {
    "duration": 57,
    "start_time": "2021-08-12T09:48:26.671Z"
   },
   {
    "duration": 11,
    "start_time": "2021-08-12T09:48:26.741Z"
   },
   {
    "duration": 14,
    "start_time": "2021-08-12T09:48:26.754Z"
   },
   {
    "duration": 4,
    "start_time": "2021-08-12T09:48:26.769Z"
   },
   {
    "duration": 97,
    "start_time": "2021-08-12T09:48:26.775Z"
   },
   {
    "duration": 6,
    "start_time": "2021-08-12T09:48:26.874Z"
   },
   {
    "duration": 18,
    "start_time": "2021-08-12T09:48:26.882Z"
   },
   {
    "duration": 39,
    "start_time": "2021-08-12T09:48:26.902Z"
   },
   {
    "duration": 24,
    "start_time": "2021-08-12T09:48:26.943Z"
   },
   {
    "duration": 7,
    "start_time": "2021-08-12T09:48:26.969Z"
   },
   {
    "duration": 6,
    "start_time": "2021-08-12T09:48:26.978Z"
   },
   {
    "duration": 126,
    "start_time": "2021-08-12T09:48:26.988Z"
   },
   {
    "duration": 7,
    "start_time": "2021-08-12T09:48:27.116Z"
   },
   {
    "duration": 26,
    "start_time": "2021-08-12T09:48:27.125Z"
   },
   {
    "duration": 11,
    "start_time": "2021-08-12T09:48:27.153Z"
   },
   {
    "duration": 34,
    "start_time": "2021-08-12T09:48:27.165Z"
   },
   {
    "duration": 21,
    "start_time": "2021-08-12T09:48:27.201Z"
   },
   {
    "duration": 12,
    "start_time": "2021-08-12T09:48:27.241Z"
   },
   {
    "duration": 17,
    "start_time": "2021-08-12T09:48:27.255Z"
   },
   {
    "duration": 13,
    "start_time": "2021-08-12T09:48:27.274Z"
   },
   {
    "duration": 11,
    "start_time": "2021-08-12T09:48:27.289Z"
   },
   {
    "duration": 5,
    "start_time": "2021-08-12T09:48:27.302Z"
   },
   {
    "duration": 16,
    "start_time": "2021-08-12T09:48:27.341Z"
   },
   {
    "duration": 13,
    "start_time": "2021-08-12T09:48:27.359Z"
   },
   {
    "duration": 11,
    "start_time": "2021-08-12T09:48:27.374Z"
   },
   {
    "duration": 64,
    "start_time": "2021-08-12T09:48:27.387Z"
   },
   {
    "duration": 9,
    "start_time": "2021-08-12T09:48:27.453Z"
   },
   {
    "duration": 6,
    "start_time": "2021-08-12T09:48:27.464Z"
   },
   {
    "duration": 56,
    "start_time": "2021-08-12T09:48:27.471Z"
   },
   {
    "duration": 48,
    "start_time": "2021-08-12T09:48:27.528Z"
   },
   {
    "duration": 30,
    "start_time": "2021-08-12T09:48:27.578Z"
   },
   {
    "duration": 62,
    "start_time": "2021-08-12T09:48:27.610Z"
   },
   {
    "duration": 39,
    "start_time": "2021-08-12T09:48:27.673Z"
   },
   {
    "duration": 8,
    "start_time": "2021-08-12T09:48:27.714Z"
   },
   {
    "duration": 29,
    "start_time": "2021-08-12T09:48:27.723Z"
   },
   {
    "duration": 15,
    "start_time": "2021-08-12T09:48:27.754Z"
   },
   {
    "duration": 17,
    "start_time": "2021-08-12T09:48:27.771Z"
   },
   {
    "duration": 2,
    "start_time": "2021-08-12T09:48:27.789Z"
   },
   {
    "duration": 10,
    "start_time": "2021-08-12T09:48:27.793Z"
   },
   {
    "duration": 228,
    "start_time": "2021-08-12T09:48:27.804Z"
   },
   {
    "duration": 16,
    "start_time": "2021-08-12T09:48:28.034Z"
   },
   {
    "duration": 11,
    "start_time": "2021-08-12T09:48:28.052Z"
   },
   {
    "duration": 24,
    "start_time": "2021-08-12T09:48:28.065Z"
   },
   {
    "duration": 20,
    "start_time": "2021-08-12T09:48:28.091Z"
   },
   {
    "duration": 31,
    "start_time": "2021-08-12T09:48:28.112Z"
   },
   {
    "duration": 21,
    "start_time": "2021-08-12T09:48:28.145Z"
   },
   {
    "duration": 13,
    "start_time": "2021-08-12T09:48:28.167Z"
   },
   {
    "duration": 391,
    "start_time": "2021-08-12T09:48:28.182Z"
   },
   {
    "duration": 469,
    "start_time": "2021-08-12T09:48:28.574Z"
   },
   {
    "duration": 399,
    "start_time": "2021-08-12T09:48:29.045Z"
   },
   {
    "duration": 6,
    "start_time": "2021-08-12T09:48:29.446Z"
   },
   {
    "duration": 71,
    "start_time": "2021-08-12T09:48:29.453Z"
   },
   {
    "duration": 2,
    "start_time": "2021-08-12T09:48:29.526Z"
   },
   {
    "duration": 14,
    "start_time": "2021-08-12T09:48:29.529Z"
   },
   {
    "duration": 22,
    "start_time": "2021-08-12T09:48:29.545Z"
   },
   {
    "duration": 13,
    "start_time": "2021-08-12T09:48:29.568Z"
   },
   {
    "duration": 9,
    "start_time": "2021-08-12T09:48:29.582Z"
   },
   {
    "duration": 16,
    "start_time": "2021-08-12T09:48:29.592Z"
   },
   {
    "duration": 1408,
    "start_time": "2021-08-12T12:56:13.516Z"
   },
   {
    "duration": 43,
    "start_time": "2021-08-12T12:56:14.926Z"
   },
   {
    "duration": 32,
    "start_time": "2021-08-12T12:56:14.972Z"
   },
   {
    "duration": 10,
    "start_time": "2021-08-12T12:56:15.007Z"
   },
   {
    "duration": 32,
    "start_time": "2021-08-12T12:56:15.020Z"
   },
   {
    "duration": 8,
    "start_time": "2021-08-12T12:56:15.062Z"
   },
   {
    "duration": 11,
    "start_time": "2021-08-12T12:56:15.072Z"
   },
   {
    "duration": 18,
    "start_time": "2021-08-12T12:56:15.086Z"
   },
   {
    "duration": 14,
    "start_time": "2021-08-12T12:56:15.107Z"
   },
   {
    "duration": 38,
    "start_time": "2021-08-12T12:56:15.123Z"
   },
   {
    "duration": 9,
    "start_time": "2021-08-12T12:56:15.163Z"
   },
   {
    "duration": 205,
    "start_time": "2021-08-12T12:56:15.174Z"
   },
   {
    "duration": 11,
    "start_time": "2021-08-12T12:56:15.381Z"
   },
   {
    "duration": 29,
    "start_time": "2021-08-12T12:56:15.394Z"
   },
   {
    "duration": 80,
    "start_time": "2021-08-12T12:56:15.426Z"
   },
   {
    "duration": 89,
    "start_time": "2021-08-12T12:56:15.508Z"
   },
   {
    "duration": 15,
    "start_time": "2021-08-12T12:56:15.599Z"
   },
   {
    "duration": 18,
    "start_time": "2021-08-12T12:56:15.616Z"
   },
   {
    "duration": 28,
    "start_time": "2021-08-12T12:56:15.637Z"
   },
   {
    "duration": 124,
    "start_time": "2021-08-12T12:56:15.667Z"
   },
   {
    "duration": 11,
    "start_time": "2021-08-12T12:56:15.793Z"
   },
   {
    "duration": 21,
    "start_time": "2021-08-12T12:56:15.806Z"
   },
   {
    "duration": 60,
    "start_time": "2021-08-12T12:56:15.834Z"
   },
   {
    "duration": 33,
    "start_time": "2021-08-12T12:56:15.899Z"
   },
   {
    "duration": 33,
    "start_time": "2021-08-12T12:56:15.935Z"
   },
   {
    "duration": 7,
    "start_time": "2021-08-12T12:56:15.971Z"
   },
   {
    "duration": 177,
    "start_time": "2021-08-12T12:56:15.980Z"
   },
   {
    "duration": 11,
    "start_time": "2021-08-12T12:56:16.162Z"
   },
   {
    "duration": 33,
    "start_time": "2021-08-12T12:56:16.176Z"
   },
   {
    "duration": 20,
    "start_time": "2021-08-12T12:56:16.212Z"
   },
   {
    "duration": 68,
    "start_time": "2021-08-12T12:56:16.234Z"
   },
   {
    "duration": 33,
    "start_time": "2021-08-12T12:56:16.304Z"
   },
   {
    "duration": 33,
    "start_time": "2021-08-12T12:56:16.339Z"
   },
   {
    "duration": 21,
    "start_time": "2021-08-12T12:56:16.375Z"
   },
   {
    "duration": 16,
    "start_time": "2021-08-12T12:56:16.399Z"
   },
   {
    "duration": 50,
    "start_time": "2021-08-12T12:56:16.417Z"
   },
   {
    "duration": 6,
    "start_time": "2021-08-12T12:56:16.470Z"
   },
   {
    "duration": 42,
    "start_time": "2021-08-12T12:56:16.478Z"
   },
   {
    "duration": 28,
    "start_time": "2021-08-12T12:56:16.523Z"
   },
   {
    "duration": 21,
    "start_time": "2021-08-12T12:56:16.554Z"
   },
   {
    "duration": 95,
    "start_time": "2021-08-12T12:56:16.578Z"
   },
   {
    "duration": 14,
    "start_time": "2021-08-12T12:56:16.676Z"
   },
   {
    "duration": 3,
    "start_time": "2021-08-12T12:56:16.692Z"
   },
   {
    "duration": 98,
    "start_time": "2021-08-12T12:56:16.698Z"
   },
   {
    "duration": 76,
    "start_time": "2021-08-12T12:56:16.799Z"
   },
   {
    "duration": 45,
    "start_time": "2021-08-12T12:56:16.878Z"
   },
   {
    "duration": 97,
    "start_time": "2021-08-12T12:56:16.925Z"
   },
   {
    "duration": 64,
    "start_time": "2021-08-12T12:56:17.025Z"
   },
   {
    "duration": 12,
    "start_time": "2021-08-12T12:56:17.092Z"
   },
   {
    "duration": 32,
    "start_time": "2021-08-12T12:56:17.107Z"
   },
   {
    "duration": 28,
    "start_time": "2021-08-12T12:56:17.163Z"
   },
   {
    "duration": 31,
    "start_time": "2021-08-12T12:56:17.193Z"
   },
   {
    "duration": 3,
    "start_time": "2021-08-12T12:56:17.226Z"
   },
   {
    "duration": 8,
    "start_time": "2021-08-12T12:56:17.262Z"
   },
   {
    "duration": 394,
    "start_time": "2021-08-12T12:56:17.273Z"
   },
   {
    "duration": 20,
    "start_time": "2021-08-12T12:56:17.670Z"
   },
   {
    "duration": 20,
    "start_time": "2021-08-12T12:56:17.692Z"
   },
   {
    "duration": 72,
    "start_time": "2021-08-12T12:56:17.714Z"
   },
   {
    "duration": 34,
    "start_time": "2021-08-12T12:56:17.789Z"
   },
   {
    "duration": 37,
    "start_time": "2021-08-12T12:56:17.825Z"
   },
   {
    "duration": 18,
    "start_time": "2021-08-12T12:56:17.864Z"
   },
   {
    "duration": 18,
    "start_time": "2021-08-12T12:56:17.884Z"
   },
   {
    "duration": 726,
    "start_time": "2021-08-12T12:56:17.904Z"
   },
   {
    "duration": 734,
    "start_time": "2021-08-12T12:56:18.632Z"
   },
   {
    "duration": 731,
    "start_time": "2021-08-12T12:56:19.369Z"
   },
   {
    "duration": 9,
    "start_time": "2021-08-12T12:56:20.102Z"
   },
   {
    "duration": 127,
    "start_time": "2021-08-12T12:56:20.113Z"
   },
   {
    "duration": 4,
    "start_time": "2021-08-12T12:56:20.247Z"
   },
   {
    "duration": 17,
    "start_time": "2021-08-12T12:56:20.263Z"
   },
   {
    "duration": 34,
    "start_time": "2021-08-12T12:56:20.283Z"
   },
   {
    "duration": 20,
    "start_time": "2021-08-12T12:56:20.319Z"
   },
   {
    "duration": 19,
    "start_time": "2021-08-12T12:56:20.341Z"
   },
   {
    "duration": 31,
    "start_time": "2021-08-12T12:56:20.362Z"
   }
  ],
  "kernelspec": {
   "display_name": "Python 3",
   "language": "python",
   "name": "python3"
  },
  "language_info": {
   "codemirror_mode": {
    "name": "ipython",
    "version": 3
   },
   "file_extension": ".py",
   "mimetype": "text/x-python",
   "name": "python",
   "nbconvert_exporter": "python",
   "pygments_lexer": "ipython3",
   "version": "3.8.8"
  },
  "toc": {
   "base_numbering": 1,
   "nav_menu": {},
   "number_sections": false,
   "sideBar": true,
   "skip_h1_title": true,
   "title_cell": "Содержание",
   "title_sidebar": "Contents",
   "toc_cell": true,
   "toc_position": {
    "height": "calc(100% - 180px)",
    "left": "10px",
    "top": "150px",
    "width": "246px"
   },
   "toc_section_display": true,
   "toc_window_display": true
  },
  "varInspector": {
   "cols": {
    "lenName": 16,
    "lenType": 16,
    "lenVar": 40
   },
   "kernels_config": {
    "python": {
     "delete_cmd_postfix": "",
     "delete_cmd_prefix": "del ",
     "library": "var_list.py",
     "varRefreshCmd": "print(var_dic_list())"
    },
    "r": {
     "delete_cmd_postfix": ") ",
     "delete_cmd_prefix": "rm(",
     "library": "var_list.r",
     "varRefreshCmd": "cat(var_dic_list()) "
    }
   },
   "types_to_exclude": [
    "module",
    "function",
    "builtin_function_or_method",
    "instance",
    "_Feature"
   ],
   "window_display": false
  }
 },
 "nbformat": 4,
 "nbformat_minor": 2
}
