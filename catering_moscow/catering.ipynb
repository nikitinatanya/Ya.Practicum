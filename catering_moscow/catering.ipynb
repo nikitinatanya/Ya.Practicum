{
 "cells": [
  {
   "cell_type": "markdown",
   "metadata": {
    "toc": true
   },
   "source": [
    "<h1>Анализ рынка заведений общественного питания Москвы<span class=\"tocSkip\"></span></h1>\n",
    "<div class=\"toc\"><ul class=\"toc-item\"><li><span><a href=\"#Введение\" data-toc-modified-id=\"Введение-1\">Введение</a></span></li><li><span><a href=\"#Ознакомление-и-подготовка-данных\" data-toc-modified-id=\"Ознакомление-и-подготовка-данных-2\">Ознакомление и подготовка данных</a></span><ul class=\"toc-item\"><li><span><a href=\"#Вывод\" data-toc-modified-id=\"Вывод-2.1\">Вывод</a></span></li></ul></li><li><span><a href=\"#Соотношение-видов-объектов-общественного-питания-по-количеству\" data-toc-modified-id=\"Соотношение-видов-объектов-общественного-питания-по-количеству-3\">Соотношение видов объектов общественного питания по количеству</a></span><ul class=\"toc-item\"><li><span><a href=\"#Вывод\" data-toc-modified-id=\"Вывод-3.1\">Вывод</a></span></li></ul></li><li><span><a href=\"#Cоотношение-сетевых-и-несетевых-заведений-по-количеству\" data-toc-modified-id=\"Cоотношение-сетевых-и-несетевых-заведений-по-количеству-4\">Cоотношение сетевых и несетевых заведений по количеству</a></span><ul class=\"toc-item\"><li><span><a href=\"#Вывод\" data-toc-modified-id=\"Вывод-4.1\">Вывод</a></span></li></ul></li><li><span><a href=\"#Анализ-видов-объектов-общественного-питания-по-принадлежности-к-сети\" data-toc-modified-id=\"Анализ-видов-объектов-общественного-питания-по-принадлежности-к-сети-5\">Анализ видов объектов общественного питания по принадлежности к сети</a></span><ul class=\"toc-item\"><li><span><a href=\"#Вывод\" data-toc-modified-id=\"Вывод-5.1\">Вывод</a></span></li></ul></li><li><span><a href=\"#Анализ-сетевых-заведений-по-числу-посадочных-мест\" data-toc-modified-id=\"Анализ-сетевых-заведений-по-числу-посадочных-мест-6\">Анализ сетевых заведений по числу посадочных мест</a></span><ul class=\"toc-item\"><li><span><a href=\"#Вывод\" data-toc-modified-id=\"Вывод-6.1\">Вывод</a></span></li></ul></li><li><span><a href=\"#Анализ-среднего-количества-посадочных-мест\" data-toc-modified-id=\"Анализ-среднего-количества-посадочных-мест-7\">Анализ среднего количества посадочных мест</a></span><ul class=\"toc-item\"><li><span><a href=\"#Вывод\" data-toc-modified-id=\"Вывод-7.1\">Вывод</a></span></li></ul></li><li><span><a href=\"#Анализ-размещения-объектов-общественного-питания\" data-toc-modified-id=\"Анализ-размещения-объектов-общественного-питания-8\">Анализ размещения объектов общественного питания</a></span><ul class=\"toc-item\"><li><span><a href=\"#Вывод\" data-toc-modified-id=\"Вывод-8.1\">Вывод</a></span></li></ul></li><li><span><a href=\"#Анализ-количества-посадочных-мест-для-улиц-с-большим-количеством-объектов-общественного-питания\" data-toc-modified-id=\"Анализ-количества-посадочных-мест-для-улиц-с-большим-количеством-объектов-общественного-питания-9\">Анализ количества посадочных мест для улиц с большим количеством объектов общественного питания</a></span><ul class=\"toc-item\"><li><span><a href=\"#Вывод\" data-toc-modified-id=\"Вывод-9.1\">Вывод</a></span></li></ul></li><li><span><a href=\"#Общий-вывод\" data-toc-modified-id=\"Общий-вывод-10\">Общий вывод</a></span></li></ul></div>"
   ]
  },
  {
   "cell_type": "markdown",
   "metadata": {},
   "source": [
    "## Введение"
   ]
  },
  {
   "cell_type": "markdown",
   "metadata": {},
   "source": [
    "Вы решили открыть небольшое кафе в Москве. Оно оригинальное — гостей должны обслуживать роботы. Проект многообещающий, но дорогой. Вместе с партнёрами вы решились обратиться к инвесторам. Их интересует текущее положение дел на рынке — сможете ли вы снискать популярность на долгое время, когда все зеваки насмотрятся на роботов-официантов?  \n",
    "Необходимо подготовить исследование рынка. Есть открытые данные о заведениях общественного питания в Москве."
   ]
  },
  {
   "cell_type": "markdown",
   "metadata": {},
   "source": [
    "Таблица rest_data:  \n",
    "id — идентификатор объекта;  \n",
    "object_name — название объекта общественного питания;  \n",
    "chain — сетевой ресторан;  \n",
    "object_type — тип объекта общественного питания;  \n",
    "address — адрес;  \n",
    "number — количество посадочных мест.  "
   ]
  },
  {
   "cell_type": "markdown",
   "metadata": {},
   "source": [
    "## Ознакомление и подготовка данных"
   ]
  },
  {
   "cell_type": "code",
   "execution_count": 2,
   "metadata": {},
   "outputs": [],
   "source": [
    "import pandas as pd\n",
    "import math\n",
    "import numpy as np\n",
    "from scipy import stats as st\n",
    "from matplotlib import pyplot as plt\n",
    "import re\n",
    "import requests\n",
    "import seaborn as sns\n",
    "import plotly.express as px\n",
    "from plotly import graph_objects as go\n",
    "import string\n",
    "import matplotlib.patches as mpatches\n",
    "from io import BytesIO"
   ]
  },
  {
   "cell_type": "code",
   "execution_count": 2,
   "metadata": {},
   "outputs": [],
   "source": [
    "pd.set_option('display.float_format', '{:,.2f}'.format)\n",
    "pd.set_option('display.max_columns', None)\n",
    "pd.set_option('display.max_rows', None)\n",
    "pd.set_option('display.max_colwidth', 1000)"
   ]
  },
  {
   "cell_type": "code",
   "execution_count": 3,
   "metadata": {},
   "outputs": [],
   "source": [
    "'''\n",
    "Функция поиска всех слов в списке по основному слову\n",
    "'''\n",
    "def find_synonymous(name):\n",
    "    list_synonymous = []\n",
    "    for i in rest_data['object_name_corr'].unique():\n",
    "        if name in i:\n",
    "            list_synonymous.append(i)\n",
    "    return list_synonymous            "
   ]
  },
  {
   "cell_type": "code",
   "execution_count": 4,
   "metadata": {},
   "outputs": [],
   "source": [
    "'''\n",
    "Функция, заменяющая наименование заведения на общее наименование сети заведений\n",
    "'''\n",
    "def check_synonymous(cell):\n",
    "    for name, syn  in dict_syn.items():\n",
    "        if cell in syn:\n",
    "            return name\n",
    "    return cell"
   ]
  },
  {
   "cell_type": "code",
   "execution_count": 5,
   "metadata": {},
   "outputs": [],
   "source": [
    "sns.set_palette('dark') "
   ]
  },
  {
   "cell_type": "code",
   "execution_count": 6,
   "metadata": {},
   "outputs": [],
   "source": [
    "rest_data = pd.read_csv('/datasets/rest_data.csv')"
   ]
  },
  {
   "cell_type": "code",
   "execution_count": 7,
   "metadata": {},
   "outputs": [
    {
     "data": {
      "text/html": [
       "<div>\n",
       "<style scoped>\n",
       "    .dataframe tbody tr th:only-of-type {\n",
       "        vertical-align: middle;\n",
       "    }\n",
       "\n",
       "    .dataframe tbody tr th {\n",
       "        vertical-align: top;\n",
       "    }\n",
       "\n",
       "    .dataframe thead th {\n",
       "        text-align: right;\n",
       "    }\n",
       "</style>\n",
       "<table border=\"1\" class=\"dataframe\">\n",
       "  <thead>\n",
       "    <tr style=\"text-align: right;\">\n",
       "      <th></th>\n",
       "      <th>id</th>\n",
       "      <th>object_name</th>\n",
       "      <th>chain</th>\n",
       "      <th>object_type</th>\n",
       "      <th>address</th>\n",
       "      <th>number</th>\n",
       "    </tr>\n",
       "  </thead>\n",
       "  <tbody>\n",
       "    <tr>\n",
       "      <td>0</td>\n",
       "      <td>151635</td>\n",
       "      <td>СМЕТАНА</td>\n",
       "      <td>нет</td>\n",
       "      <td>кафе</td>\n",
       "      <td>город Москва, улица Егора Абакумова, дом 9</td>\n",
       "      <td>48</td>\n",
       "    </tr>\n",
       "    <tr>\n",
       "      <td>1</td>\n",
       "      <td>77874</td>\n",
       "      <td>Родник</td>\n",
       "      <td>нет</td>\n",
       "      <td>кафе</td>\n",
       "      <td>город Москва, улица Талалихина, дом 2/1, корпус 1</td>\n",
       "      <td>35</td>\n",
       "    </tr>\n",
       "    <tr>\n",
       "      <td>2</td>\n",
       "      <td>24309</td>\n",
       "      <td>Кафе «Академия»</td>\n",
       "      <td>нет</td>\n",
       "      <td>кафе</td>\n",
       "      <td>город Москва, Абельмановская улица, дом 6</td>\n",
       "      <td>95</td>\n",
       "    </tr>\n",
       "    <tr>\n",
       "      <td>3</td>\n",
       "      <td>21894</td>\n",
       "      <td>ПИЦЦЕТОРИЯ</td>\n",
       "      <td>да</td>\n",
       "      <td>кафе</td>\n",
       "      <td>город Москва, Абрамцевская улица, дом 1</td>\n",
       "      <td>40</td>\n",
       "    </tr>\n",
       "    <tr>\n",
       "      <td>4</td>\n",
       "      <td>119365</td>\n",
       "      <td>Кафе «Вишневая метель»</td>\n",
       "      <td>нет</td>\n",
       "      <td>кафе</td>\n",
       "      <td>город Москва, Абрамцевская улица, дом 9, корпус 1</td>\n",
       "      <td>50</td>\n",
       "    </tr>\n",
       "  </tbody>\n",
       "</table>\n",
       "</div>"
      ],
      "text/plain": [
       "       id             object_name chain object_type  \\\n",
       "0  151635                 СМЕТАНА   нет        кафе   \n",
       "1   77874                  Родник   нет        кафе   \n",
       "2   24309         Кафе «Академия»   нет        кафе   \n",
       "3   21894              ПИЦЦЕТОРИЯ    да        кафе   \n",
       "4  119365  Кафе «Вишневая метель»   нет        кафе   \n",
       "\n",
       "                                             address  number  \n",
       "0         город Москва, улица Егора Абакумова, дом 9      48  \n",
       "1  город Москва, улица Талалихина, дом 2/1, корпус 1      35  \n",
       "2          город Москва, Абельмановская улица, дом 6      95  \n",
       "3            город Москва, Абрамцевская улица, дом 1      40  \n",
       "4  город Москва, Абрамцевская улица, дом 9, корпус 1      50  "
      ]
     },
     "execution_count": 7,
     "metadata": {},
     "output_type": "execute_result"
    }
   ],
   "source": [
    "rest_data.head()"
   ]
  },
  {
   "cell_type": "code",
   "execution_count": 8,
   "metadata": {},
   "outputs": [
    {
     "name": "stdout",
     "output_type": "stream",
     "text": [
      "<class 'pandas.core.frame.DataFrame'>\n",
      "RangeIndex: 15366 entries, 0 to 15365\n",
      "Data columns (total 6 columns):\n",
      "id             15366 non-null int64\n",
      "object_name    15366 non-null object\n",
      "chain          15366 non-null object\n",
      "object_type    15366 non-null object\n",
      "address        15366 non-null object\n",
      "number         15366 non-null int64\n",
      "dtypes: int64(2), object(4)\n",
      "memory usage: 720.4+ KB\n"
     ]
    }
   ],
   "source": [
    "rest_data.info()"
   ]
  },
  {
   "cell_type": "code",
   "execution_count": 9,
   "metadata": {},
   "outputs": [
    {
     "name": "stdout",
     "output_type": "stream",
     "text": [
      "Наличие дубликатов: 0\n"
     ]
    }
   ],
   "source": [
    "print('Наличие дубликатов: {}'.format(rest_data.duplicated().sum()))"
   ]
  },
  {
   "cell_type": "markdown",
   "metadata": {},
   "source": [
    "Полных дубликатов в датасете нет. Предобработка не требуется."
   ]
  },
  {
   "cell_type": "code",
   "execution_count": 10,
   "metadata": {},
   "outputs": [
    {
     "data": {
      "text/plain": [
       "15366"
      ]
     },
     "execution_count": 10,
     "metadata": {},
     "output_type": "execute_result"
    }
   ],
   "source": [
    "len(rest_data['id'].unique())"
   ]
  },
  {
   "cell_type": "markdown",
   "metadata": {},
   "source": [
    "ID уникальны."
   ]
  },
  {
   "cell_type": "markdown",
   "metadata": {},
   "source": [
    "Проведем обработку наименований заведений - приведем слова к нижнему регистру, удалим знаки пунктуации."
   ]
  },
  {
   "cell_type": "code",
   "execution_count": 11,
   "metadata": {},
   "outputs": [],
   "source": [
    "rest_data['object_name_corr'] = rest_data['object_name'].str.lower()"
   ]
  },
  {
   "cell_type": "code",
   "execution_count": 12,
   "metadata": {},
   "outputs": [],
   "source": [
    "punctuations = list(string.punctuation)\n",
    "punctuations_add = ['«',  '»', '№']\n",
    "punctuations.extend(punctuations_add)"
   ]
  },
  {
   "cell_type": "code",
   "execution_count": 13,
   "metadata": {},
   "outputs": [],
   "source": [
    "for p in punctuations:\n",
    "    rest_data['object_name_corr'] = rest_data['object_name_corr'].str.replace(p, ' ')"
   ]
  },
  {
   "cell_type": "code",
   "execution_count": 14,
   "metadata": {
    "scrolled": true
   },
   "outputs": [
    {
     "data": {
      "text/html": [
       "<div>\n",
       "<style scoped>\n",
       "    .dataframe tbody tr th:only-of-type {\n",
       "        vertical-align: middle;\n",
       "    }\n",
       "\n",
       "    .dataframe tbody tr th {\n",
       "        vertical-align: top;\n",
       "    }\n",
       "\n",
       "    .dataframe thead th {\n",
       "        text-align: right;\n",
       "    }\n",
       "</style>\n",
       "<table border=\"1\" class=\"dataframe\">\n",
       "  <thead>\n",
       "    <tr style=\"text-align: right;\">\n",
       "      <th></th>\n",
       "      <th>id</th>\n",
       "      <th>object_name</th>\n",
       "      <th>chain</th>\n",
       "      <th>object_type</th>\n",
       "      <th>address</th>\n",
       "      <th>number</th>\n",
       "      <th>object_name_corr</th>\n",
       "    </tr>\n",
       "  </thead>\n",
       "  <tbody>\n",
       "    <tr>\n",
       "      <td>0</td>\n",
       "      <td>151635</td>\n",
       "      <td>СМЕТАНА</td>\n",
       "      <td>нет</td>\n",
       "      <td>кафе</td>\n",
       "      <td>город Москва, улица Егора Абакумова, дом 9</td>\n",
       "      <td>48</td>\n",
       "      <td>сметана</td>\n",
       "    </tr>\n",
       "    <tr>\n",
       "      <td>1</td>\n",
       "      <td>77874</td>\n",
       "      <td>Родник</td>\n",
       "      <td>нет</td>\n",
       "      <td>кафе</td>\n",
       "      <td>город Москва, улица Талалихина, дом 2/1, корпус 1</td>\n",
       "      <td>35</td>\n",
       "      <td>родник</td>\n",
       "    </tr>\n",
       "    <tr>\n",
       "      <td>2</td>\n",
       "      <td>24309</td>\n",
       "      <td>Кафе «Академия»</td>\n",
       "      <td>нет</td>\n",
       "      <td>кафе</td>\n",
       "      <td>город Москва, Абельмановская улица, дом 6</td>\n",
       "      <td>95</td>\n",
       "      <td>кафе  академия</td>\n",
       "    </tr>\n",
       "    <tr>\n",
       "      <td>3</td>\n",
       "      <td>21894</td>\n",
       "      <td>ПИЦЦЕТОРИЯ</td>\n",
       "      <td>да</td>\n",
       "      <td>кафе</td>\n",
       "      <td>город Москва, Абрамцевская улица, дом 1</td>\n",
       "      <td>40</td>\n",
       "      <td>пиццетория</td>\n",
       "    </tr>\n",
       "    <tr>\n",
       "      <td>4</td>\n",
       "      <td>119365</td>\n",
       "      <td>Кафе «Вишневая метель»</td>\n",
       "      <td>нет</td>\n",
       "      <td>кафе</td>\n",
       "      <td>город Москва, Абрамцевская улица, дом 9, корпус 1</td>\n",
       "      <td>50</td>\n",
       "      <td>кафе  вишневая метель</td>\n",
       "    </tr>\n",
       "  </tbody>\n",
       "</table>\n",
       "</div>"
      ],
      "text/plain": [
       "       id             object_name chain object_type  \\\n",
       "0  151635                 СМЕТАНА   нет        кафе   \n",
       "1   77874                  Родник   нет        кафе   \n",
       "2   24309         Кафе «Академия»   нет        кафе   \n",
       "3   21894              ПИЦЦЕТОРИЯ    да        кафе   \n",
       "4  119365  Кафе «Вишневая метель»   нет        кафе   \n",
       "\n",
       "                                             address  number  \\\n",
       "0         город Москва, улица Егора Абакумова, дом 9      48   \n",
       "1  город Москва, улица Талалихина, дом 2/1, корпус 1      35   \n",
       "2          город Москва, Абельмановская улица, дом 6      95   \n",
       "3            город Москва, Абрамцевская улица, дом 1      40   \n",
       "4  город Москва, Абрамцевская улица, дом 9, корпус 1      50   \n",
       "\n",
       "         object_name_corr  \n",
       "0                 сметана  \n",
       "1                  родник  \n",
       "2         кафе  академия   \n",
       "3              пиццетория  \n",
       "4  кафе  вишневая метель   "
      ]
     },
     "execution_count": 14,
     "metadata": {},
     "output_type": "execute_result"
    }
   ],
   "source": [
    "rest_data.head()"
   ]
  },
  {
   "cell_type": "markdown",
   "metadata": {},
   "source": [
    "Для заведений, входящих в одну сеть, заменим частные наименования на имя сети. Сформируем список с наименованием сети И сохраним его в chain_name."
   ]
  },
  {
   "cell_type": "code",
   "execution_count": 15,
   "metadata": {},
   "outputs": [],
   "source": [
    "# rest_data_chain = rest_data.query('chain == \"да\"')"
   ]
  },
  {
   "cell_type": "code",
   "execution_count": 16,
   "metadata": {},
   "outputs": [],
   "source": [
    "# rest_data_chain['object_name_corr'].sort_values().unique()"
   ]
  },
  {
   "cell_type": "code",
   "execution_count": 17,
   "metadata": {},
   "outputs": [],
   "source": [
    "chain_name = ['beverly hills diner', 'bierloga', 'black   white', 'bocconcino',\n",
    "       'boobo', 'bubbleology', 'burger club', 'coffeeshop',\n",
    "       'cofix', 'cookhouse', 'correas',\n",
    "       'costa coffee', 'deli by prime прайм кафе', 'dunkin donuts',\n",
    "       'florentini', 'fridays', 'glowsubs sandwiches',\n",
    "       'grand cru', 'grand урюк', 'healthy food',\n",
    "       'il forno иль форно', 'jeffreys coffee', 'kfc',\n",
    "       'krispy creme', 'lavkalavka',\n",
    "       'luciano', 'm cafe хинкальная', 'maki maki', 'marmalato',\n",
    "       'marrakesh хинкальная', 'moskalyan', 'movenpick', 'my box',\n",
    "       'osteria mario', 'panda express', 'paul поль', 'pizengof99 спб',\n",
    "       'starbucks',\n",
    "       'starlite diner', 'subway', 'sushilka',\n",
    "       'tajj mahal', 'tgi fridays', 'the terrace', 'tokyo bay',\n",
    "       'торро гриль', 'travelers coffe', \n",
    "       'tutti frutti', 'upside down',\n",
    "       'ванвок',\n",
    "       'вьеткафе', 'white rabbite', 'wok box',\n",
    "       'wokker', 'yogurt frenzy', 'азбука вкуса',\n",
    "       'алло пицца', \n",
    "       'американ сити пицца', 'андерсон',\n",
    "       'анти кафе кальянная  moskalyan ', 'ариана', 'бабай клаб',\n",
    "       'бакинский бульвар', 'бар  буфет  николай ', 'бар  суши wok ',\n",
    "       'мята lounge', 'баракат', 'барашка', 'барбарис', 'барбекю',\n",
    "       'баскин роббинс', 'бб энд бургерс', 'бенто wok',\n",
    "       'билла', 'бир хаус', 'блинная',\n",
    "       'бодрый день кофе с собой', 'ботик петра', 'брава коста кофе',\n",
    "       'братья караваевы', 'брудер', 'брусника','бургер кинг', 'бургер клаб',\n",
    "       'бутчер бизон', 'в в бургер', 'чайхона  1',\n",
    "       'ваби саби', 'ванвок', 'вареничная  1', 'васаби', 'урюк',\n",
    "       'венеция', 'виват пицца', 'виктория', 'вкусняшка', 'воккер',\n",
    "       'волконский', 'восточный базар', 'вьеткафе', 'газпромнефтьцентр',\n",
    "       'гамбринус', 'ганс и марта', 'генацвали', 'гино но таки',\n",
    "       'городские автокофейни', 'готика', 'готовые блюда милти', 'грабли',\n",
    "       'граци рагацци зю кафе', 'грузинская кухня эzо хинкальная',\n",
    "       'грузинские каникулы барбарис', 'гудман', \n",
    "       'гурман', 'гурмания', 'да пино', 'дабл би',\n",
    "       'данкин донатс', 'две палочки', 'де марко',\n",
    "       'андерсон',\n",
    "       'космик ', 'джаганнат', 'джон джоли',\n",
    "       'добрынинский и партнёры', 'додо пицца',\n",
    "       'домашнее кафе сеть городских кафе', 'домино с пицца',\n",
    "       'дорогая я перезвоню', 'дюшес',\n",
    "       'елки палки', 'жан жак', \n",
    "       'зодиак', 'золотая вобла', 'зю кафе', 'изба', 'икура паб',\n",
    "       'иль патио', 'иль форно', 'илья муромец',\n",
    "       'ирландский паб', 'ичибан боши', 'кактус',\n",
    "       'кальян бар moskalyan', \n",
    "       'кальянная f lounge', 'каро', 'кулинарная лавка братьев караваевых',           \n",
    "       'марукамэ ',       \n",
    "       'поль бейкери ', \n",
    "       'кафе  сим сим ',        \n",
    "       'кафе  тапчан ',\n",
    "       'кафе  торнадо ',\n",
    "       'кафе  урюк  хивинская чайхона', 'кафе  хинкальная ',      \n",
    "       'кафе мороженного  tutti frutti ', \n",
    "       'кафе пекарня хачапури',\n",
    "       'кафе песто и митлес', 'bp ',\n",
    "       'газпромнефть', 'лукойл', 'кафе пронто',\n",
    "       'кафе рецептор', \n",
    "       'каффе  wokker ', 'квартира 44', 'кебаб хаус', 'колбасофф',       \n",
    "       'корчма тарас бульба', 'космик', 'коста кофе', 'кофе бин',       \n",
    "       'кофе тун', 'кофе хаус','кофейня  де марко ', \n",
    "       'кофемания', \n",
    "       'кофепорт', 'кофетун', 'кофешоп coffeeshop company',\n",
    "       'крепери де пари', 'крошка картошка', 'кружка',   \n",
    "       'кулинарное бюро', 'лепешка',\n",
    "       'лето', 'ливан хаус', 'лукойл', \n",
    "       'магазин готовой еды  милти ', 'магазин кулинария  суши сет ',\n",
    "       'магбургер', 'магнолия',\n",
    "       'макдоналдс', \n",
    "       'маки маки', 'макс бреннер', 'марчеллис', 'меленка',\n",
    "       'менза', 'метро к к', 'ми пьяче', 'милано пицца', 'милти',\n",
    "       'мимино', 'мимино хинкальная', 'мираторг', 'мистер картошка',\n",
    "       'молли гвинз', \n",
    "       'мск московская сеть кальянных',       \n",
    "       'му му', 'мюнгер',\n",
    "       'мясоroob', 'николай',\n",
    "       'нияма', 'ньокки',\n",
    "       'обжорный ряд', 'оникс', 'паб кружка', 'павлин мавлин',\n",
    "       'панчо пицца', 'папа джонс',\n",
    "       'перекресток', 'пивко', 'пикколо', 'пилзнер',\n",
    "       'пиппони', 'штолле', 'пицца  паоло ', 'пицца pomodoro',\n",
    "       'пицца пипони', 'пицца фабрика',\n",
    "       'пицца хат', 'пицца экспресс', 'пиццерия  академия ',       \n",
    "       'пиццерия  пицца паоло ',\n",
    "       'пиццерия донателло',\n",
    "       'пиццерия пиу дель чибо', 'пиццетория',\n",
    "       'планета суши', 'поль бейкери', 'помидорbrt',\n",
    "       'порто мальтезе', 'правdа кофе',\n",
    "       'пражечка', \n",
    "       'прайм стар',        \n",
    "       'примавера',\n",
    "       'пронто', 'простые вещи', 'ресторан  florentini ',         \n",
    "       'ресторан  джардино да пино ', \n",
    "       'ресторан  золотая вобла ',  \n",
    "       'ресторан  хинкальная ', \n",
    "       'икеа',\n",
    "       'рецептор', 'роллофф',\n",
    "       'роснефть', 'руккола', 'сабвей', 'сбарро', 'сварня',        \n",
    "       'сити пицца', 'сказка', 'советские времена',\n",
    "       'спб', \n",
    "       'старбакс', 'стардогs',\n",
    "       'старина миллер',\n",
    "       'сувлаки',\n",
    "       'суп кафе', 'суши wok', \n",
    "       'суши вок', 'суши сет', 'суши тун',\n",
    "       'сушиман', 'сушишоп',\n",
    "       'сытая утка', 'тайм авеню', 'тамаси суши', 'тануки', 'тапчан',\n",
    "       'ташир пицца', 'темпл бар', 'теремок', \n",
    "       'территория', \n",
    "       'тирольские пироги', 'то да сё', 'торро гриль',\n",
    "       'точка продажи готовой еды милти', 'тратория semplice',\n",
    "       'траттория примавера', 'урожай', 'урюк', \n",
    "       'фантоцци рус', 'фитнес бар  world class ', 'французская выпечка',\n",
    "       'хачапури  одесса  мама', 'хижина', 'хлеб co',\n",
    "       'хлеб насущный', 'хлебница пекарня', 'цинандали хинкальная',\n",
    "       'чайхона  1', 'чебуречная ссср',\n",
    "       'чешская пивная  козловица ', 'чешская пивная  пилзнер ',\n",
    "       'чин чин', 'шантимель',\n",
    "       'шашлык машлык', 'шварцвальд',\n",
    "       'шикари иль патио', 'шоколадница',\n",
    "       'штирбирлиц',\n",
    "       'штолле', 'югос', 'якитория', \n",
    "       'ямми микс', 'ян примус',\n",
    "       'япоша', 'ёрш']"
   ]
  },
  {
   "cell_type": "code",
   "execution_count": 18,
   "metadata": {},
   "outputs": [],
   "source": [
    "dict_syn = {}\n",
    "\n",
    "for name in chain_name:\n",
    "    syn = find_synonymous(name)\n",
    "    dict_syn[name]=syn \n"
   ]
  },
  {
   "cell_type": "code",
   "execution_count": 19,
   "metadata": {},
   "outputs": [],
   "source": [
    "# dict_syn"
   ]
  },
  {
   "cell_type": "code",
   "execution_count": 20,
   "metadata": {},
   "outputs": [],
   "source": [
    "rest_data['object_name_new'] = rest_data['object_name_corr'].apply(check_synonymous)"
   ]
  },
  {
   "cell_type": "code",
   "execution_count": 21,
   "metadata": {},
   "outputs": [
    {
     "data": {
      "text/html": [
       "<div>\n",
       "<style scoped>\n",
       "    .dataframe tbody tr th:only-of-type {\n",
       "        vertical-align: middle;\n",
       "    }\n",
       "\n",
       "    .dataframe tbody tr th {\n",
       "        vertical-align: top;\n",
       "    }\n",
       "\n",
       "    .dataframe thead th {\n",
       "        text-align: right;\n",
       "    }\n",
       "</style>\n",
       "<table border=\"1\" class=\"dataframe\">\n",
       "  <thead>\n",
       "    <tr style=\"text-align: right;\">\n",
       "      <th></th>\n",
       "      <th>object_name_corr</th>\n",
       "      <th>object_name_new</th>\n",
       "    </tr>\n",
       "  </thead>\n",
       "  <tbody>\n",
       "    <tr>\n",
       "      <td>120</td>\n",
       "      <td>макдоналдс</td>\n",
       "      <td>макдоналдс</td>\n",
       "    </tr>\n",
       "    <tr>\n",
       "      <td>156</td>\n",
       "      <td>ресторан  макдоналдс</td>\n",
       "      <td>макдоналдс</td>\n",
       "    </tr>\n",
       "    <tr>\n",
       "      <td>159</td>\n",
       "      <td>макдоналдс</td>\n",
       "      <td>макдоналдс</td>\n",
       "    </tr>\n",
       "    <tr>\n",
       "      <td>328</td>\n",
       "      <td>макдоналдс</td>\n",
       "      <td>макдоналдс</td>\n",
       "    </tr>\n",
       "    <tr>\n",
       "      <td>426</td>\n",
       "      <td>макдоналдс</td>\n",
       "      <td>макдоналдс</td>\n",
       "    </tr>\n",
       "  </tbody>\n",
       "</table>\n",
       "</div>"
      ],
      "text/plain": [
       "          object_name_corr object_name_new\n",
       "120             макдоналдс      макдоналдс\n",
       "156  ресторан  макдоналдс       макдоналдс\n",
       "159             макдоналдс      макдоналдс\n",
       "328             макдоналдс      макдоналдс\n",
       "426             макдоналдс      макдоналдс"
      ]
     },
     "execution_count": 21,
     "metadata": {},
     "output_type": "execute_result"
    }
   ],
   "source": [
    "rest_data[['object_name_corr', 'object_name_new']].query('object_name_new == \"макдоналдс\"').head()"
   ]
  },
  {
   "cell_type": "code",
   "execution_count": 22,
   "metadata": {},
   "outputs": [
    {
     "data": {
      "text/plain": [
       "array(['нет', 'да'], dtype=object)"
      ]
     },
     "execution_count": 22,
     "metadata": {},
     "output_type": "execute_result"
    }
   ],
   "source": [
    "rest_data['chain'].unique()"
   ]
  },
  {
   "cell_type": "markdown",
   "metadata": {},
   "source": [
    "Принадлежность к сети имеет два значения - да и нет. Произведем замену да на \"сеть\", нет - на \"не сеть\"."
   ]
  },
  {
   "cell_type": "code",
   "execution_count": 23,
   "metadata": {},
   "outputs": [],
   "source": [
    "rest_data.loc[rest_data['chain'] == 'да', 'chain'] = 'сеть'"
   ]
  },
  {
   "cell_type": "code",
   "execution_count": 24,
   "metadata": {},
   "outputs": [],
   "source": [
    "rest_data.loc[rest_data['chain'] == 'нет', 'chain'] = 'не сеть'"
   ]
  },
  {
   "cell_type": "code",
   "execution_count": 25,
   "metadata": {
    "scrolled": true
   },
   "outputs": [
    {
     "data": {
      "text/html": [
       "<div>\n",
       "<style scoped>\n",
       "    .dataframe tbody tr th:only-of-type {\n",
       "        vertical-align: middle;\n",
       "    }\n",
       "\n",
       "    .dataframe tbody tr th {\n",
       "        vertical-align: top;\n",
       "    }\n",
       "\n",
       "    .dataframe thead th {\n",
       "        text-align: right;\n",
       "    }\n",
       "</style>\n",
       "<table border=\"1\" class=\"dataframe\">\n",
       "  <thead>\n",
       "    <tr style=\"text-align: right;\">\n",
       "      <th></th>\n",
       "      <th>id</th>\n",
       "      <th>object_name</th>\n",
       "      <th>chain</th>\n",
       "      <th>object_type</th>\n",
       "      <th>address</th>\n",
       "      <th>number</th>\n",
       "      <th>object_name_corr</th>\n",
       "      <th>object_name_new</th>\n",
       "    </tr>\n",
       "  </thead>\n",
       "  <tbody>\n",
       "    <tr>\n",
       "      <td>0</td>\n",
       "      <td>151635</td>\n",
       "      <td>СМЕТАНА</td>\n",
       "      <td>не сеть</td>\n",
       "      <td>кафе</td>\n",
       "      <td>город Москва, улица Егора Абакумова, дом 9</td>\n",
       "      <td>48</td>\n",
       "      <td>сметана</td>\n",
       "      <td>сметана</td>\n",
       "    </tr>\n",
       "    <tr>\n",
       "      <td>1</td>\n",
       "      <td>77874</td>\n",
       "      <td>Родник</td>\n",
       "      <td>не сеть</td>\n",
       "      <td>кафе</td>\n",
       "      <td>город Москва, улица Талалихина, дом 2/1, корпус 1</td>\n",
       "      <td>35</td>\n",
       "      <td>родник</td>\n",
       "      <td>родник</td>\n",
       "    </tr>\n",
       "    <tr>\n",
       "      <td>2</td>\n",
       "      <td>24309</td>\n",
       "      <td>Кафе «Академия»</td>\n",
       "      <td>не сеть</td>\n",
       "      <td>кафе</td>\n",
       "      <td>город Москва, Абельмановская улица, дом 6</td>\n",
       "      <td>95</td>\n",
       "      <td>кафе  академия</td>\n",
       "      <td>кафе  академия</td>\n",
       "    </tr>\n",
       "    <tr>\n",
       "      <td>3</td>\n",
       "      <td>21894</td>\n",
       "      <td>ПИЦЦЕТОРИЯ</td>\n",
       "      <td>сеть</td>\n",
       "      <td>кафе</td>\n",
       "      <td>город Москва, Абрамцевская улица, дом 1</td>\n",
       "      <td>40</td>\n",
       "      <td>пиццетория</td>\n",
       "      <td>пиццетория</td>\n",
       "    </tr>\n",
       "    <tr>\n",
       "      <td>4</td>\n",
       "      <td>119365</td>\n",
       "      <td>Кафе «Вишневая метель»</td>\n",
       "      <td>не сеть</td>\n",
       "      <td>кафе</td>\n",
       "      <td>город Москва, Абрамцевская улица, дом 9, корпус 1</td>\n",
       "      <td>50</td>\n",
       "      <td>кафе  вишневая метель</td>\n",
       "      <td>кафе  вишневая метель</td>\n",
       "    </tr>\n",
       "  </tbody>\n",
       "</table>\n",
       "</div>"
      ],
      "text/plain": [
       "       id             object_name    chain object_type  \\\n",
       "0  151635                 СМЕТАНА  не сеть        кафе   \n",
       "1   77874                  Родник  не сеть        кафе   \n",
       "2   24309         Кафе «Академия»  не сеть        кафе   \n",
       "3   21894              ПИЦЦЕТОРИЯ     сеть        кафе   \n",
       "4  119365  Кафе «Вишневая метель»  не сеть        кафе   \n",
       "\n",
       "                                             address  number  \\\n",
       "0         город Москва, улица Егора Абакумова, дом 9      48   \n",
       "1  город Москва, улица Талалихина, дом 2/1, корпус 1      35   \n",
       "2          город Москва, Абельмановская улица, дом 6      95   \n",
       "3            город Москва, Абрамцевская улица, дом 1      40   \n",
       "4  город Москва, Абрамцевская улица, дом 9, корпус 1      50   \n",
       "\n",
       "         object_name_corr         object_name_new  \n",
       "0                 сметана                 сметана  \n",
       "1                  родник                  родник  \n",
       "2         кафе  академия          кафе  академия   \n",
       "3              пиццетория              пиццетория  \n",
       "4  кафе  вишневая метель   кафе  вишневая метель   "
      ]
     },
     "execution_count": 25,
     "metadata": {},
     "output_type": "execute_result"
    }
   ],
   "source": [
    "rest_data.head()"
   ]
  },
  {
   "cell_type": "code",
   "execution_count": 26,
   "metadata": {},
   "outputs": [
    {
     "data": {
      "text/plain": [
       "array(['кафе', 'столовая', 'закусочная',\n",
       "       'предприятие быстрого обслуживания', 'ресторан', 'кафетерий',\n",
       "       'буфет', 'бар', 'магазин (отдел кулинарии)'], dtype=object)"
      ]
     },
     "execution_count": 26,
     "metadata": {},
     "output_type": "execute_result"
    }
   ],
   "source": [
    "rest_data['object_type'].unique()"
   ]
  },
  {
   "cell_type": "markdown",
   "metadata": {},
   "source": [
    "Столбец тип объектов заведений общепита предобработки не требует."
   ]
  },
  {
   "cell_type": "markdown",
   "metadata": {},
   "source": [
    "Для компактного размещения на графиках заменим 'предприятие быстрого обслуживания' на 'бистро', 'магазин (отдел кулинарии)' - на 'кулинария'."
   ]
  },
  {
   "cell_type": "code",
   "execution_count": 27,
   "metadata": {},
   "outputs": [],
   "source": [
    "rest_data.loc[rest_data['object_type'] == 'предприятие быстрого обслуживания', 'object_type'] = 'бистро'"
   ]
  },
  {
   "cell_type": "code",
   "execution_count": 28,
   "metadata": {},
   "outputs": [],
   "source": [
    "rest_data.loc[rest_data['object_type'] == 'магазин (отдел кулинарии)', 'object_type'] = 'кулинария'"
   ]
  },
  {
   "cell_type": "markdown",
   "metadata": {},
   "source": [
    "Рассмотрим количество посадочных мест в заведениях общественного питания."
   ]
  },
  {
   "cell_type": "code",
   "execution_count": 29,
   "metadata": {
    "scrolled": true
   },
   "outputs": [
    {
     "data": {
      "text/plain": [
       "array([   0,    1,    2,    3,    4,    5,    6,    7,    8,    9,   10,\n",
       "         11,   12,   13,   14,   15,   16,   17,   18,   19,   20,   21,\n",
       "         22,   23,   24,   25,   26,   27,   28,   29,   30,   31,   32,\n",
       "         33,   34,   35,   36,   37,   38,   39,   40,   41,   42,   43,\n",
       "         44,   45,   46,   47,   48,   49,   50,   51,   52,   53,   54,\n",
       "         55,   56,   57,   58,   59,   60,   61,   62,   63,   64,   65,\n",
       "         66,   67,   68,   69,   70,   71,   72,   73,   74,   75,   76,\n",
       "         77,   78,   79,   80,   81,   82,   83,   84,   85,   86,   87,\n",
       "         88,   89,   90,   91,   92,   93,   94,   95,   96,   97,   98,\n",
       "         99,  100,  101,  102,  103,  104,  105,  106,  107,  108,  109,\n",
       "        110,  111,  112,  113,  114,  115,  116,  118,  119,  120,  121,\n",
       "        122,  123,  124,  125,  126,  127,  128,  130,  131,  132,  133,\n",
       "        134,  135,  136,  138,  139,  140,  141,  142,  143,  144,  145,\n",
       "        146,  147,  148,  149,  150,  151,  152,  153,  154,  155,  156,\n",
       "        157,  158,  159,  160,  161,  162,  164,  165,  166,  167,  168,\n",
       "        170,  172,  173,  174,  175,  176,  177,  178,  180,  181,  184,\n",
       "        185,  186,  187,  188,  189,  190,  192,  194,  195,  196,  198,\n",
       "        199,  200,  202,  204,  205,  206,  207,  208,  210,  212,  213,\n",
       "        214,  215,  216,  217,  218,  220,  222,  224,  225,  226,  228,\n",
       "        229,  230,  232,  234,  236,  237,  238,  239,  240,  242,  243,\n",
       "        244,  245,  246,  247,  248,  250,  252,  255,  257,  259,  260,\n",
       "        266,  268,  270,  271,  272,  273,  275,  276,  277,  278,  280,\n",
       "        282,  283,  284,  286,  287,  288,  290,  292,  295,  300,  301,\n",
       "        302,  305,  306,  307,  308,  310,  313,  320,  324,  326,  328,\n",
       "        330,  337,  338,  340,  343,  350,  356,  360,  362,  371,  380,\n",
       "        395,  398,  400,  420,  424,  428,  430,  450,  455,  456,  472,\n",
       "        478,  480,  481,  483,  490,  491,  495,  500,  520,  533,  542,\n",
       "        580,  585,  600,  625,  644,  650,  660,  675,  680,  700,  760,\n",
       "        920, 1040, 1200, 1288, 1400, 1500, 1700])"
      ]
     },
     "execution_count": 29,
     "metadata": {},
     "output_type": "execute_result"
    }
   ],
   "source": [
    "rest_data['number'].sort_values().unique()"
   ]
  },
  {
   "cell_type": "code",
   "execution_count": 30,
   "metadata": {},
   "outputs": [
    {
     "data": {
      "text/plain": [
       "count   15,366.00\n",
       "mean        59.55\n",
       "std         74.74\n",
       "min          0.00\n",
       "25%         12.00\n",
       "50%         40.00\n",
       "75%         80.00\n",
       "max      1,700.00\n",
       "Name: number, dtype: float64"
      ]
     },
     "execution_count": 30,
     "metadata": {},
     "output_type": "execute_result"
    }
   ],
   "source": [
    "rest_data['number'].describe()"
   ]
  },
  {
   "cell_type": "code",
   "execution_count": 31,
   "metadata": {},
   "outputs": [
    {
     "data": {
      "text/plain": [
       "0.10549264610178316"
      ]
     },
     "execution_count": 31,
     "metadata": {},
     "output_type": "execute_result"
    }
   ],
   "source": [
    "rest_data_number_0 = rest_data.loc[rest_data['number'] == 0,:]\n",
    "len(rest_data_number_0['number']) / len(rest_data['number'])"
   ]
  },
  {
   "cell_type": "code",
   "execution_count": 32,
   "metadata": {},
   "outputs": [
    {
     "data": {
      "text/html": [
       "<div>\n",
       "<style scoped>\n",
       "    .dataframe tbody tr th:only-of-type {\n",
       "        vertical-align: middle;\n",
       "    }\n",
       "\n",
       "    .dataframe tbody tr th {\n",
       "        vertical-align: top;\n",
       "    }\n",
       "\n",
       "    .dataframe thead th {\n",
       "        text-align: right;\n",
       "    }\n",
       "</style>\n",
       "<table border=\"1\" class=\"dataframe\">\n",
       "  <thead>\n",
       "    <tr style=\"text-align: right;\">\n",
       "      <th></th>\n",
       "      <th>id</th>\n",
       "      <th>object_name</th>\n",
       "      <th>chain</th>\n",
       "      <th>object_type</th>\n",
       "      <th>address</th>\n",
       "      <th>number</th>\n",
       "      <th>object_name_corr</th>\n",
       "      <th>object_name_new</th>\n",
       "    </tr>\n",
       "  </thead>\n",
       "  <tbody>\n",
       "    <tr>\n",
       "      <td>137</td>\n",
       "      <td>115498</td>\n",
       "      <td>Пекарня &amp; Донер</td>\n",
       "      <td>не сеть</td>\n",
       "      <td>закусочная</td>\n",
       "      <td>город Москва, Бутырская улица, дом 9, корпус 2</td>\n",
       "      <td>0</td>\n",
       "      <td>пекарня   донер</td>\n",
       "      <td>пекарня   донер</td>\n",
       "    </tr>\n",
       "    <tr>\n",
       "      <td>154</td>\n",
       "      <td>152556</td>\n",
       "      <td>Шаурма в пите</td>\n",
       "      <td>не сеть</td>\n",
       "      <td>бистро</td>\n",
       "      <td>город Москва, Варшавское шоссе, дом 72, корпус 2</td>\n",
       "      <td>0</td>\n",
       "      <td>шаурма в пите</td>\n",
       "      <td>шаурма в пите</td>\n",
       "    </tr>\n",
       "    <tr>\n",
       "      <td>157</td>\n",
       "      <td>149568</td>\n",
       "      <td>Суши</td>\n",
       "      <td>не сеть</td>\n",
       "      <td>бистро</td>\n",
       "      <td>город Москва, улица Маршала Василевского, дом 3, корпус 1</td>\n",
       "      <td>0</td>\n",
       "      <td>суши</td>\n",
       "      <td>суши</td>\n",
       "    </tr>\n",
       "    <tr>\n",
       "      <td>190</td>\n",
       "      <td>126956</td>\n",
       "      <td>Шаурма, куры-гриль</td>\n",
       "      <td>не сеть</td>\n",
       "      <td>бистро</td>\n",
       "      <td>город Москва, 1-я Владимирская улица, дом 21</td>\n",
       "      <td>0</td>\n",
       "      <td>шаурма  куры гриль</td>\n",
       "      <td>шаурма  куры гриль</td>\n",
       "    </tr>\n",
       "    <tr>\n",
       "      <td>195</td>\n",
       "      <td>149531</td>\n",
       "      <td>Шаурма, куры-гриль</td>\n",
       "      <td>не сеть</td>\n",
       "      <td>бистро</td>\n",
       "      <td>город Москва, 2-я Владимирская улица, дом 44/10</td>\n",
       "      <td>0</td>\n",
       "      <td>шаурма  куры гриль</td>\n",
       "      <td>шаурма  куры гриль</td>\n",
       "    </tr>\n",
       "  </tbody>\n",
       "</table>\n",
       "</div>"
      ],
      "text/plain": [
       "         id         object_name    chain object_type  \\\n",
       "137  115498     Пекарня & Донер  не сеть  закусочная   \n",
       "154  152556       Шаурма в пите  не сеть      бистро   \n",
       "157  149568                Суши  не сеть      бистро   \n",
       "190  126956  Шаурма, куры-гриль  не сеть      бистро   \n",
       "195  149531  Шаурма, куры-гриль  не сеть      бистро   \n",
       "\n",
       "                                                       address  number  \\\n",
       "137             город Москва, Бутырская улица, дом 9, корпус 2       0   \n",
       "154           город Москва, Варшавское шоссе, дом 72, корпус 2       0   \n",
       "157  город Москва, улица Маршала Василевского, дом 3, корпус 1       0   \n",
       "190               город Москва, 1-я Владимирская улица, дом 21       0   \n",
       "195            город Москва, 2-я Владимирская улица, дом 44/10       0   \n",
       "\n",
       "       object_name_corr     object_name_new  \n",
       "137     пекарня   донер     пекарня   донер  \n",
       "154       шаурма в пите       шаурма в пите  \n",
       "157                суши                суши  \n",
       "190  шаурма  куры гриль  шаурма  куры гриль  \n",
       "195  шаурма  куры гриль  шаурма  куры гриль  "
      ]
     },
     "execution_count": 32,
     "metadata": {},
     "output_type": "execute_result"
    }
   ],
   "source": [
    "rest_data_number_0.head()"
   ]
  },
  {
   "cell_type": "code",
   "execution_count": 33,
   "metadata": {},
   "outputs": [
    {
     "data": {
      "text/html": [
       "<div>\n",
       "<style scoped>\n",
       "    .dataframe tbody tr th:only-of-type {\n",
       "        vertical-align: middle;\n",
       "    }\n",
       "\n",
       "    .dataframe tbody tr th {\n",
       "        vertical-align: top;\n",
       "    }\n",
       "\n",
       "    .dataframe thead th {\n",
       "        text-align: right;\n",
       "    }\n",
       "</style>\n",
       "<table border=\"1\" class=\"dataframe\">\n",
       "  <thead>\n",
       "    <tr style=\"text-align: right;\">\n",
       "      <th></th>\n",
       "      <th>id</th>\n",
       "      <th>object_name</th>\n",
       "      <th>chain</th>\n",
       "      <th>object_type</th>\n",
       "      <th>address</th>\n",
       "      <th>number</th>\n",
       "      <th>object_name_corr</th>\n",
       "      <th>object_name_new</th>\n",
       "    </tr>\n",
       "  </thead>\n",
       "  <tbody>\n",
       "    <tr>\n",
       "      <td>2313</td>\n",
       "      <td>26560</td>\n",
       "      <td>Ресторан «АЛЬФА»</td>\n",
       "      <td>не сеть</td>\n",
       "      <td>ресторан</td>\n",
       "      <td>город Москва, Измайловское шоссе, дом 71, корпус А</td>\n",
       "      <td>1040</td>\n",
       "      <td>ресторан  альфа</td>\n",
       "      <td>ресторан  альфа</td>\n",
       "    </tr>\n",
       "    <tr>\n",
       "      <td>3686</td>\n",
       "      <td>27026</td>\n",
       "      <td>РУМ СЕРВИС</td>\n",
       "      <td>не сеть</td>\n",
       "      <td>ресторан</td>\n",
       "      <td>город Москва, площадь Европы, дом 2</td>\n",
       "      <td>1200</td>\n",
       "      <td>рум сервис</td>\n",
       "      <td>рум сервис</td>\n",
       "    </tr>\n",
       "    <tr>\n",
       "      <td>4480</td>\n",
       "      <td>27024</td>\n",
       "      <td>РУМ СЕРВИС</td>\n",
       "      <td>не сеть</td>\n",
       "      <td>ресторан</td>\n",
       "      <td>город Москва, Кутузовский проспект, дом 2/1, строение 1</td>\n",
       "      <td>1200</td>\n",
       "      <td>рум сервис</td>\n",
       "      <td>рум сервис</td>\n",
       "    </tr>\n",
       "    <tr>\n",
       "      <td>8148</td>\n",
       "      <td>80291</td>\n",
       "      <td>Банкетный зал Шелк</td>\n",
       "      <td>не сеть</td>\n",
       "      <td>ресторан</td>\n",
       "      <td>город Москва, Большой Саввинский переулок, дом 12, строение 10Г</td>\n",
       "      <td>1500</td>\n",
       "      <td>банкетный зал шелк</td>\n",
       "      <td>банкетный зал шелк</td>\n",
       "    </tr>\n",
       "    <tr>\n",
       "      <td>8345</td>\n",
       "      <td>27750</td>\n",
       "      <td>СТОЛОВАЯ-БУФЕТ</td>\n",
       "      <td>не сеть</td>\n",
       "      <td>столовая</td>\n",
       "      <td>город Москва, улица Волхонка, дом 15</td>\n",
       "      <td>1400</td>\n",
       "      <td>столовая буфет</td>\n",
       "      <td>столовая буфет</td>\n",
       "    </tr>\n",
       "    <tr>\n",
       "      <td>9064</td>\n",
       "      <td>19719</td>\n",
       "      <td>КОМБИНАТ ПИТАНИЯ «УПРАВЛЕНИЕ АКАДЕМСЕРВИС»</td>\n",
       "      <td>не сеть</td>\n",
       "      <td>столовая</td>\n",
       "      <td>город Москва, проспект Вернадского, дом 84, строение 1</td>\n",
       "      <td>1288</td>\n",
       "      <td>комбинат питания  управление академсервис</td>\n",
       "      <td>комбинат питания  управление академсервис</td>\n",
       "    </tr>\n",
       "    <tr>\n",
       "      <td>12723</td>\n",
       "      <td>199696</td>\n",
       "      <td>Arena by Soho Family</td>\n",
       "      <td>не сеть</td>\n",
       "      <td>бар</td>\n",
       "      <td>город Москва, Кутузовский проспект, дом 36, строение 11</td>\n",
       "      <td>1700</td>\n",
       "      <td>arena by soho family</td>\n",
       "      <td>arena by soho family</td>\n",
       "    </tr>\n",
       "  </tbody>\n",
       "</table>\n",
       "</div>"
      ],
      "text/plain": [
       "           id                                 object_name    chain  \\\n",
       "2313    26560                            Ресторан «АЛЬФА»  не сеть   \n",
       "3686    27026                                  РУМ СЕРВИС  не сеть   \n",
       "4480    27024                                  РУМ СЕРВИС  не сеть   \n",
       "8148    80291                          Банкетный зал Шелк  не сеть   \n",
       "8345    27750                              СТОЛОВАЯ-БУФЕТ  не сеть   \n",
       "9064    19719  КОМБИНАТ ПИТАНИЯ «УПРАВЛЕНИЕ АКАДЕМСЕРВИС»  не сеть   \n",
       "12723  199696                        Arena by Soho Family  не сеть   \n",
       "\n",
       "      object_type  \\\n",
       "2313     ресторан   \n",
       "3686     ресторан   \n",
       "4480     ресторан   \n",
       "8148     ресторан   \n",
       "8345     столовая   \n",
       "9064     столовая   \n",
       "12723         бар   \n",
       "\n",
       "                                                               address  \\\n",
       "2313                город Москва, Измайловское шоссе, дом 71, корпус А   \n",
       "3686                               город Москва, площадь Европы, дом 2   \n",
       "4480           город Москва, Кутузовский проспект, дом 2/1, строение 1   \n",
       "8148   город Москва, Большой Саввинский переулок, дом 12, строение 10Г   \n",
       "8345                              город Москва, улица Волхонка, дом 15   \n",
       "9064            город Москва, проспект Вернадского, дом 84, строение 1   \n",
       "12723          город Москва, Кутузовский проспект, дом 36, строение 11   \n",
       "\n",
       "       number                            object_name_corr  \\\n",
       "2313     1040                            ресторан  альфа    \n",
       "3686     1200                                  рум сервис   \n",
       "4480     1200                                  рум сервис   \n",
       "8148     1500                          банкетный зал шелк   \n",
       "8345     1400                              столовая буфет   \n",
       "9064     1288  комбинат питания  управление академсервис    \n",
       "12723    1700                        arena by soho family   \n",
       "\n",
       "                                  object_name_new  \n",
       "2313                             ресторан  альфа   \n",
       "3686                                   рум сервис  \n",
       "4480                                   рум сервис  \n",
       "8148                           банкетный зал шелк  \n",
       "8345                               столовая буфет  \n",
       "9064   комбинат питания  управление академсервис   \n",
       "12723                        arena by soho family  "
      ]
     },
     "execution_count": 33,
     "metadata": {},
     "output_type": "execute_result"
    }
   ],
   "source": [
    "rest_data.query('number > 1000 ')"
   ]
  },
  {
   "cell_type": "markdown",
   "metadata": {},
   "source": [
    "10% от общего количества составляют заведения с количеством посадочных мест равным 0. В эту группу входят предприятия быстрого обслуживания с едой на вынос, столовые различных учреждений, кафе на фудкортах торговых центров, отделы готовой еды в магазинах.  \n",
    "Отдельно обработки данная группа заведений не требуется."
   ]
  },
  {
   "cell_type": "markdown",
   "metadata": {},
   "source": [
    "Заведения с количеством посадочных мест более 1000 - специализированные банкетные залы, крупные рестораны при гостиницах."
   ]
  },
  {
   "cell_type": "markdown",
   "metadata": {},
   "source": [
    "### Вывод  \n",
    "Проведена предобработка данных о заведениях общественного питания Москвы. Сформирован столбец с сетевым именем объекта. Рассмотрены заведения с нулевым количеством посадочных мест и количеством посадочных мест более 1000. В первую группу входят предприятия быстрого обслуживания с едой на вынос, столовые различных учреждений, кафе на фудкортах торговых центров, отделы готовой еды в магазинах, во вторую - специализированные банкетные залы, крупные рестораны при гостиницах."
   ]
  },
  {
   "cell_type": "markdown",
   "metadata": {},
   "source": [
    "## Соотношение видов объектов общественного питания по количеству"
   ]
  },
  {
   "cell_type": "markdown",
   "metadata": {},
   "source": [
    "Исследуем соотношение видов объектов общественного питания по количеству."
   ]
  },
  {
   "cell_type": "code",
   "execution_count": 34,
   "metadata": {},
   "outputs": [
    {
     "data": {
      "text/html": [
       "<style  type=\"text/css\" >\n",
       "</style><table id=\"T_a42ddf64_34a9_11ec_bf34_02420a39d82e\" ><thead>    <tr>        <th class=\"blank level0\" ></th>        <th class=\"col_heading level0 col0\" >object_type</th>        <th class=\"col_heading level0 col1\" >count</th>        <th class=\"col_heading level0 col2\" >ratio</th>    </tr></thead><tbody>\n",
       "                <tr>\n",
       "                        <th id=\"T_a42ddf64_34a9_11ec_bf34_02420a39d82elevel0_row0\" class=\"row_heading level0 row0\" >0</th>\n",
       "                        <td id=\"T_a42ddf64_34a9_11ec_bf34_02420a39d82erow0_col0\" class=\"data row0 col0\" >кафе</td>\n",
       "                        <td id=\"T_a42ddf64_34a9_11ec_bf34_02420a39d82erow0_col1\" class=\"data row0 col1\" >6099</td>\n",
       "                        <td id=\"T_a42ddf64_34a9_11ec_bf34_02420a39d82erow0_col2\" class=\"data row0 col2\" >39.7%</td>\n",
       "            </tr>\n",
       "            <tr>\n",
       "                        <th id=\"T_a42ddf64_34a9_11ec_bf34_02420a39d82elevel0_row1\" class=\"row_heading level0 row1\" >1</th>\n",
       "                        <td id=\"T_a42ddf64_34a9_11ec_bf34_02420a39d82erow1_col0\" class=\"data row1 col0\" >столовая</td>\n",
       "                        <td id=\"T_a42ddf64_34a9_11ec_bf34_02420a39d82erow1_col1\" class=\"data row1 col1\" >2587</td>\n",
       "                        <td id=\"T_a42ddf64_34a9_11ec_bf34_02420a39d82erow1_col2\" class=\"data row1 col2\" >16.8%</td>\n",
       "            </tr>\n",
       "            <tr>\n",
       "                        <th id=\"T_a42ddf64_34a9_11ec_bf34_02420a39d82elevel0_row2\" class=\"row_heading level0 row2\" >2</th>\n",
       "                        <td id=\"T_a42ddf64_34a9_11ec_bf34_02420a39d82erow2_col0\" class=\"data row2 col0\" >ресторан</td>\n",
       "                        <td id=\"T_a42ddf64_34a9_11ec_bf34_02420a39d82erow2_col1\" class=\"data row2 col1\" >2285</td>\n",
       "                        <td id=\"T_a42ddf64_34a9_11ec_bf34_02420a39d82erow2_col2\" class=\"data row2 col2\" >14.9%</td>\n",
       "            </tr>\n",
       "            <tr>\n",
       "                        <th id=\"T_a42ddf64_34a9_11ec_bf34_02420a39d82elevel0_row3\" class=\"row_heading level0 row3\" >3</th>\n",
       "                        <td id=\"T_a42ddf64_34a9_11ec_bf34_02420a39d82erow3_col0\" class=\"data row3 col0\" >бистро</td>\n",
       "                        <td id=\"T_a42ddf64_34a9_11ec_bf34_02420a39d82erow3_col1\" class=\"data row3 col1\" >1923</td>\n",
       "                        <td id=\"T_a42ddf64_34a9_11ec_bf34_02420a39d82erow3_col2\" class=\"data row3 col2\" >12.5%</td>\n",
       "            </tr>\n",
       "            <tr>\n",
       "                        <th id=\"T_a42ddf64_34a9_11ec_bf34_02420a39d82elevel0_row4\" class=\"row_heading level0 row4\" >4</th>\n",
       "                        <td id=\"T_a42ddf64_34a9_11ec_bf34_02420a39d82erow4_col0\" class=\"data row4 col0\" >бар</td>\n",
       "                        <td id=\"T_a42ddf64_34a9_11ec_bf34_02420a39d82erow4_col1\" class=\"data row4 col1\" >856</td>\n",
       "                        <td id=\"T_a42ddf64_34a9_11ec_bf34_02420a39d82erow4_col2\" class=\"data row4 col2\" >5.6%</td>\n",
       "            </tr>\n",
       "            <tr>\n",
       "                        <th id=\"T_a42ddf64_34a9_11ec_bf34_02420a39d82elevel0_row5\" class=\"row_heading level0 row5\" >5</th>\n",
       "                        <td id=\"T_a42ddf64_34a9_11ec_bf34_02420a39d82erow5_col0\" class=\"data row5 col0\" >буфет</td>\n",
       "                        <td id=\"T_a42ddf64_34a9_11ec_bf34_02420a39d82erow5_col1\" class=\"data row5 col1\" >585</td>\n",
       "                        <td id=\"T_a42ddf64_34a9_11ec_bf34_02420a39d82erow5_col2\" class=\"data row5 col2\" >3.8%</td>\n",
       "            </tr>\n",
       "            <tr>\n",
       "                        <th id=\"T_a42ddf64_34a9_11ec_bf34_02420a39d82elevel0_row6\" class=\"row_heading level0 row6\" >6</th>\n",
       "                        <td id=\"T_a42ddf64_34a9_11ec_bf34_02420a39d82erow6_col0\" class=\"data row6 col0\" >кафетерий</td>\n",
       "                        <td id=\"T_a42ddf64_34a9_11ec_bf34_02420a39d82erow6_col1\" class=\"data row6 col1\" >398</td>\n",
       "                        <td id=\"T_a42ddf64_34a9_11ec_bf34_02420a39d82erow6_col2\" class=\"data row6 col2\" >2.6%</td>\n",
       "            </tr>\n",
       "            <tr>\n",
       "                        <th id=\"T_a42ddf64_34a9_11ec_bf34_02420a39d82elevel0_row7\" class=\"row_heading level0 row7\" >7</th>\n",
       "                        <td id=\"T_a42ddf64_34a9_11ec_bf34_02420a39d82erow7_col0\" class=\"data row7 col0\" >закусочная</td>\n",
       "                        <td id=\"T_a42ddf64_34a9_11ec_bf34_02420a39d82erow7_col1\" class=\"data row7 col1\" >360</td>\n",
       "                        <td id=\"T_a42ddf64_34a9_11ec_bf34_02420a39d82erow7_col2\" class=\"data row7 col2\" >2.3%</td>\n",
       "            </tr>\n",
       "            <tr>\n",
       "                        <th id=\"T_a42ddf64_34a9_11ec_bf34_02420a39d82elevel0_row8\" class=\"row_heading level0 row8\" >8</th>\n",
       "                        <td id=\"T_a42ddf64_34a9_11ec_bf34_02420a39d82erow8_col0\" class=\"data row8 col0\" >кулинария</td>\n",
       "                        <td id=\"T_a42ddf64_34a9_11ec_bf34_02420a39d82erow8_col1\" class=\"data row8 col1\" >273</td>\n",
       "                        <td id=\"T_a42ddf64_34a9_11ec_bf34_02420a39d82erow8_col2\" class=\"data row8 col2\" >1.8%</td>\n",
       "            </tr>\n",
       "    </tbody></table>"
      ],
      "text/plain": [
       "<pandas.io.formats.style.Styler at 0x7fc1c3f16390>"
      ]
     },
     "metadata": {},
     "output_type": "display_data"
    }
   ],
   "source": [
    "rest_data_type = rest_data['object_type'].value_counts().reset_index()\n",
    "rest_data_type.columns = ['object_type', 'count']\n",
    "rest_data_type['ratio'] = rest_data_type['count'] / rest_data_type['count'].sum()\n",
    "display(rest_data_type.style.format({'ratio':\"{0:.1%}\"}))"
   ]
  },
  {
   "cell_type": "code",
   "execution_count": 35,
   "metadata": {},
   "outputs": [
    {
     "data": {
      "image/png": "[encoded data removed]",
      "text/plain": [
       "<Figure size 1152x576 with 1 Axes>"
      ]
     },
     "metadata": {
      "needs_background": "light"
     },
     "output_type": "display_data"
    }
   ],
   "source": [
    "plt.figure(figsize=(16,8))\n",
    "\n",
    "ax = sns.barplot(x='object_type', y='count', data=rest_data_type) \n",
    "ax.set_xticklabels(ax.get_xticklabels(), rotation=50, horizontalalignment ='right', size=12)\n",
    "for p in ax.patches:\n",
    "    ax.annotate(format(int(p.get_height()), ',').replace(',', ' '),\n",
    "                   (p.get_x() + p.get_width() / 2., p.get_height()), \n",
    "                   ha = 'center', va = 'center', \n",
    "                   xytext = (0, 7), \n",
    "                   textcoords = 'offset points', size=14)\n",
    "plt.xlabel('Вид объекта')\n",
    "plt.ylabel('Количество')\n",
    "plt.title(\"Количество заведений в разных видах объектов общественного питания\", size=24)\n",
    "plt.show()"
   ]
  },
  {
   "cell_type": "code",
   "execution_count": 36,
   "metadata": {},
   "outputs": [
    {
     "data": {
      "image/png": "[encoded data removed]",
      "text/plain": [
       "<Figure size 1440x720 with 1 Axes>"
      ]
     },
     "metadata": {},
     "output_type": "display_data"
    }
   ],
   "source": [
    "fig, axs = plt.subplots(figsize=(20, 10))\n",
    "explode = [0.07, 0.07, 0.07, 0, 0, 0, 0, 0, 0]\n",
    "rest_data_type['count'].plot(\n",
    "    kind='pie',\n",
    "    explode=explode,\n",
    "    startangle=45,\n",
    "    labels = rest_data_type['object_type'].to_list(),\n",
    "    #labeldistance = 1.1,\n",
    "    autopct='%1.1f%%',\n",
    "    shadow=True, \n",
    "    counterclock = False,\n",
    "    #frame = True,\n",
    "    #rotatelabels = True\n",
    ")\n",
    "axs.axis('equal')  # Equal aspect ratio ensures that pie is drawn as a circle.\n",
    "\n",
    "plt.xlabel('Вид объекта')\n",
    "plt.ylabel('Доля')\n",
    "plt.figtext(.5,.9,'Структура видов объектов общественного питания', fontsize=27, ha='center')\n",
    "plt.show()"
   ]
  },
  {
   "cell_type": "markdown",
   "metadata": {},
   "source": [
    "### Вывод  \n",
    "В структуре объектов общественного питания Москвы лидером является тип \"кафе\" - почти 40% (6099 заведений) - демократично, быстро, доступно. Далее следуют столовые 16,8% (2587 заведений) - палочка-выручалочка рабочих будней - и рестораны 14,9% (2285 заведений) - места для особых случаев. Значительную долю занимают предприятия быстрого обслуживания 12,5% (1923 заведений), соответствующие высокому темпу жизни мегаполиса."
   ]
  },
  {
   "cell_type": "markdown",
   "metadata": {},
   "source": [
    "##  Cоотношение сетевых и несетевых заведений по количеству"
   ]
  },
  {
   "cell_type": "markdown",
   "metadata": {},
   "source": [
    "Исследуем соотношение сетевых и несетевых заведений по количеству."
   ]
  },
  {
   "cell_type": "code",
   "execution_count": 37,
   "metadata": {},
   "outputs": [
    {
     "data": {
      "text/html": [
       "<style  type=\"text/css\" >\n",
       "</style><table id=\"T_a5039582_34a9_11ec_bf34_02420a39d82e\" ><thead>    <tr>        <th class=\"blank level0\" ></th>        <th class=\"col_heading level0 col0\" >chain</th>        <th class=\"col_heading level0 col1\" >count</th>        <th class=\"col_heading level0 col2\" >ratio</th>    </tr></thead><tbody>\n",
       "                <tr>\n",
       "                        <th id=\"T_a5039582_34a9_11ec_bf34_02420a39d82elevel0_row0\" class=\"row_heading level0 row0\" >0</th>\n",
       "                        <td id=\"T_a5039582_34a9_11ec_bf34_02420a39d82erow0_col0\" class=\"data row0 col0\" >не сеть</td>\n",
       "                        <td id=\"T_a5039582_34a9_11ec_bf34_02420a39d82erow0_col1\" class=\"data row0 col1\" >12398</td>\n",
       "                        <td id=\"T_a5039582_34a9_11ec_bf34_02420a39d82erow0_col2\" class=\"data row0 col2\" >80.7%</td>\n",
       "            </tr>\n",
       "            <tr>\n",
       "                        <th id=\"T_a5039582_34a9_11ec_bf34_02420a39d82elevel0_row1\" class=\"row_heading level0 row1\" >1</th>\n",
       "                        <td id=\"T_a5039582_34a9_11ec_bf34_02420a39d82erow1_col0\" class=\"data row1 col0\" >сеть</td>\n",
       "                        <td id=\"T_a5039582_34a9_11ec_bf34_02420a39d82erow1_col1\" class=\"data row1 col1\" >2968</td>\n",
       "                        <td id=\"T_a5039582_34a9_11ec_bf34_02420a39d82erow1_col2\" class=\"data row1 col2\" >19.3%</td>\n",
       "            </tr>\n",
       "    </tbody></table>"
      ],
      "text/plain": [
       "<pandas.io.formats.style.Styler at 0x7fc1c392e890>"
      ]
     },
     "metadata": {},
     "output_type": "display_data"
    }
   ],
   "source": [
    "rest_data_chain = rest_data['chain'].value_counts().reset_index()\n",
    "rest_data_chain.columns = ['chain', 'count']\n",
    "rest_data_chain['ratio'] = rest_data_chain['count'] / rest_data_chain['count'].sum()\n",
    "display(rest_data_chain.style.format({'ratio':\"{0:.1%}\"}))"
   ]
  },
  {
   "cell_type": "code",
   "execution_count": 38,
   "metadata": {},
   "outputs": [
    {
     "data": {
      "image/png": "[encoded data removed]",
      "text/plain": [
       "<Figure size 1440x720 with 1 Axes>"
      ]
     },
     "metadata": {},
     "output_type": "display_data"
    }
   ],
   "source": [
    "fig, axs = plt.subplots(figsize=(20, 10))\n",
    "#explode = [0.07, 0.07, 0.07, 0, 0, 0, 0, 0, 0]\n",
    "rest_data_chain['count'].plot(\n",
    "    kind='pie',\n",
    "    #explode=explode,\n",
    "    startangle=45,\n",
    "    labels = ['несетевой объект', 'сетевой объект'],\n",
    "    #labeldistance = 1.1,\n",
    "    autopct='%1.1f%%',\n",
    "    shadow=True, \n",
    "    counterclock = False,\n",
    "    #frame = True,\n",
    "    #rotatelabels = True\n",
    ")\n",
    "axs.axis('equal')  # Equal aspect ratio ensures that pie is drawn as a circle.\n",
    "\n",
    "plt.xlabel('Принадлежность сети')\n",
    "plt.ylabel('Доля')\n",
    "plt.figtext(.5,.9,'Структура объектов общественного питания по сетевому признаку', fontsize=27, ha='center')\n",
    "plt.show()"
   ]
  },
  {
   "cell_type": "markdown",
   "metadata": {},
   "source": [
    "### Вывод  \n",
    "В структуре объектов общественного питания подавляющее большинство заведений являются не сетевыми - 80,7% (12398 заведений)."
   ]
  },
  {
   "cell_type": "markdown",
   "metadata": {},
   "source": [
    "## Анализ видов объектов общественного питания по принадлежности к сети"
   ]
  },
  {
   "cell_type": "markdown",
   "metadata": {},
   "source": [
    "Определим, для какого вида объектов общественного питания характерно сетевое распространение.  "
   ]
  },
  {
   "cell_type": "code",
   "execution_count": 39,
   "metadata": {},
   "outputs": [],
   "source": [
    "rest_data_type_chain_pivot = rest_data.pivot_table(\n",
    "    columns=['chain'], \n",
    "    index = ['object_type'],\n",
    "    values='id', \n",
    "    aggfunc='count'\n",
    ").reset_index()\n",
    "rest_data_type_chain_pivot.columns =  ['object_type','not_chain','chain']\n",
    "#rest_data_type_chain_pivot.columns\n",
    "#rest_data_type_chain_pivot"
   ]
  },
  {
   "cell_type": "markdown",
   "metadata": {},
   "source": [
    "Рассчитаем структуру каждого объекта общественного питания по сетевому признаку."
   ]
  },
  {
   "cell_type": "code",
   "execution_count": 40,
   "metadata": {},
   "outputs": [],
   "source": [
    "#rest_data_type_chain = rest_data.pivot_table(\n",
    "    #index=['object_type','chain'], \n",
    "    #values='id', \n",
    "    #aggfunc='count'\n",
    "#).reset_index()\n",
    "#rest_data_type_chain.columns = ['object_type','chain','count']\n",
    "#rest_data_type_chain"
   ]
  },
  {
   "cell_type": "code",
   "execution_count": 41,
   "metadata": {},
   "outputs": [
    {
     "data": {
      "text/html": [
       "<style  type=\"text/css\" >\n",
       "</style><table id=\"T_a55da8b0_34a9_11ec_bf34_02420a39d82e\" ><thead>    <tr>        <th class=\"blank level0\" ></th>        <th class=\"col_heading level0 col0\" >object_type</th>        <th class=\"col_heading level0 col1\" >not_chain</th>        <th class=\"col_heading level0 col2\" >chain</th>        <th class=\"col_heading level0 col3\" >ratio_not_chain</th>        <th class=\"col_heading level0 col4\" >ratio_chain</th>        <th class=\"col_heading level0 col5\" >ratio_sum</th>    </tr></thead><tbody>\n",
       "                <tr>\n",
       "                        <th id=\"T_a55da8b0_34a9_11ec_bf34_02420a39d82elevel0_row0\" class=\"row_heading level0 row0\" >1</th>\n",
       "                        <td id=\"T_a55da8b0_34a9_11ec_bf34_02420a39d82erow0_col0\" class=\"data row0 col0\" >бистро</td>\n",
       "                        <td id=\"T_a55da8b0_34a9_11ec_bf34_02420a39d82erow0_col1\" class=\"data row0 col1\" >1132</td>\n",
       "                        <td id=\"T_a55da8b0_34a9_11ec_bf34_02420a39d82erow0_col2\" class=\"data row0 col2\" >791</td>\n",
       "                        <td id=\"T_a55da8b0_34a9_11ec_bf34_02420a39d82erow0_col3\" class=\"data row0 col3\" >58.9%</td>\n",
       "                        <td id=\"T_a55da8b0_34a9_11ec_bf34_02420a39d82erow0_col4\" class=\"data row0 col4\" >41.1%</td>\n",
       "                        <td id=\"T_a55da8b0_34a9_11ec_bf34_02420a39d82erow0_col5\" class=\"data row0 col5\" >100.0%</td>\n",
       "            </tr>\n",
       "            <tr>\n",
       "                        <th id=\"T_a55da8b0_34a9_11ec_bf34_02420a39d82elevel0_row1\" class=\"row_heading level0 row1\" >6</th>\n",
       "                        <td id=\"T_a55da8b0_34a9_11ec_bf34_02420a39d82erow1_col0\" class=\"data row1 col0\" >кулинария</td>\n",
       "                        <td id=\"T_a55da8b0_34a9_11ec_bf34_02420a39d82erow1_col1\" class=\"data row1 col1\" >195</td>\n",
       "                        <td id=\"T_a55da8b0_34a9_11ec_bf34_02420a39d82erow1_col2\" class=\"data row1 col2\" >78</td>\n",
       "                        <td id=\"T_a55da8b0_34a9_11ec_bf34_02420a39d82erow1_col3\" class=\"data row1 col3\" >71.4%</td>\n",
       "                        <td id=\"T_a55da8b0_34a9_11ec_bf34_02420a39d82erow1_col4\" class=\"data row1 col4\" >28.6%</td>\n",
       "                        <td id=\"T_a55da8b0_34a9_11ec_bf34_02420a39d82erow1_col5\" class=\"data row1 col5\" >100.0%</td>\n",
       "            </tr>\n",
       "            <tr>\n",
       "                        <th id=\"T_a55da8b0_34a9_11ec_bf34_02420a39d82elevel0_row2\" class=\"row_heading level0 row2\" >7</th>\n",
       "                        <td id=\"T_a55da8b0_34a9_11ec_bf34_02420a39d82erow2_col0\" class=\"data row2 col0\" >ресторан</td>\n",
       "                        <td id=\"T_a55da8b0_34a9_11ec_bf34_02420a39d82erow2_col1\" class=\"data row2 col1\" >1741</td>\n",
       "                        <td id=\"T_a55da8b0_34a9_11ec_bf34_02420a39d82erow2_col2\" class=\"data row2 col2\" >544</td>\n",
       "                        <td id=\"T_a55da8b0_34a9_11ec_bf34_02420a39d82erow2_col3\" class=\"data row2 col3\" >76.2%</td>\n",
       "                        <td id=\"T_a55da8b0_34a9_11ec_bf34_02420a39d82erow2_col4\" class=\"data row2 col4\" >23.8%</td>\n",
       "                        <td id=\"T_a55da8b0_34a9_11ec_bf34_02420a39d82erow2_col5\" class=\"data row2 col5\" >100.0%</td>\n",
       "            </tr>\n",
       "            <tr>\n",
       "                        <th id=\"T_a55da8b0_34a9_11ec_bf34_02420a39d82elevel0_row3\" class=\"row_heading level0 row3\" >4</th>\n",
       "                        <td id=\"T_a55da8b0_34a9_11ec_bf34_02420a39d82erow3_col0\" class=\"data row3 col0\" >кафе</td>\n",
       "                        <td id=\"T_a55da8b0_34a9_11ec_bf34_02420a39d82erow3_col1\" class=\"data row3 col1\" >4703</td>\n",
       "                        <td id=\"T_a55da8b0_34a9_11ec_bf34_02420a39d82erow3_col2\" class=\"data row3 col2\" >1396</td>\n",
       "                        <td id=\"T_a55da8b0_34a9_11ec_bf34_02420a39d82erow3_col3\" class=\"data row3 col3\" >77.1%</td>\n",
       "                        <td id=\"T_a55da8b0_34a9_11ec_bf34_02420a39d82erow3_col4\" class=\"data row3 col4\" >22.9%</td>\n",
       "                        <td id=\"T_a55da8b0_34a9_11ec_bf34_02420a39d82erow3_col5\" class=\"data row3 col5\" >100.0%</td>\n",
       "            </tr>\n",
       "            <tr>\n",
       "                        <th id=\"T_a55da8b0_34a9_11ec_bf34_02420a39d82elevel0_row4\" class=\"row_heading level0 row4\" >3</th>\n",
       "                        <td id=\"T_a55da8b0_34a9_11ec_bf34_02420a39d82erow4_col0\" class=\"data row4 col0\" >закусочная</td>\n",
       "                        <td id=\"T_a55da8b0_34a9_11ec_bf34_02420a39d82erow4_col1\" class=\"data row4 col1\" >304</td>\n",
       "                        <td id=\"T_a55da8b0_34a9_11ec_bf34_02420a39d82erow4_col2\" class=\"data row4 col2\" >56</td>\n",
       "                        <td id=\"T_a55da8b0_34a9_11ec_bf34_02420a39d82erow4_col3\" class=\"data row4 col3\" >84.4%</td>\n",
       "                        <td id=\"T_a55da8b0_34a9_11ec_bf34_02420a39d82erow4_col4\" class=\"data row4 col4\" >15.6%</td>\n",
       "                        <td id=\"T_a55da8b0_34a9_11ec_bf34_02420a39d82erow4_col5\" class=\"data row4 col5\" >100.0%</td>\n",
       "            </tr>\n",
       "            <tr>\n",
       "                        <th id=\"T_a55da8b0_34a9_11ec_bf34_02420a39d82elevel0_row5\" class=\"row_heading level0 row5\" >5</th>\n",
       "                        <td id=\"T_a55da8b0_34a9_11ec_bf34_02420a39d82erow5_col0\" class=\"data row5 col0\" >кафетерий</td>\n",
       "                        <td id=\"T_a55da8b0_34a9_11ec_bf34_02420a39d82erow5_col1\" class=\"data row5 col1\" >346</td>\n",
       "                        <td id=\"T_a55da8b0_34a9_11ec_bf34_02420a39d82erow5_col2\" class=\"data row5 col2\" >52</td>\n",
       "                        <td id=\"T_a55da8b0_34a9_11ec_bf34_02420a39d82erow5_col3\" class=\"data row5 col3\" >86.9%</td>\n",
       "                        <td id=\"T_a55da8b0_34a9_11ec_bf34_02420a39d82erow5_col4\" class=\"data row5 col4\" >13.1%</td>\n",
       "                        <td id=\"T_a55da8b0_34a9_11ec_bf34_02420a39d82erow5_col5\" class=\"data row5 col5\" >100.0%</td>\n",
       "            </tr>\n",
       "            <tr>\n",
       "                        <th id=\"T_a55da8b0_34a9_11ec_bf34_02420a39d82elevel0_row6\" class=\"row_heading level0 row6\" >0</th>\n",
       "                        <td id=\"T_a55da8b0_34a9_11ec_bf34_02420a39d82erow6_col0\" class=\"data row6 col0\" >бар</td>\n",
       "                        <td id=\"T_a55da8b0_34a9_11ec_bf34_02420a39d82erow6_col1\" class=\"data row6 col1\" >819</td>\n",
       "                        <td id=\"T_a55da8b0_34a9_11ec_bf34_02420a39d82erow6_col2\" class=\"data row6 col2\" >37</td>\n",
       "                        <td id=\"T_a55da8b0_34a9_11ec_bf34_02420a39d82erow6_col3\" class=\"data row6 col3\" >95.7%</td>\n",
       "                        <td id=\"T_a55da8b0_34a9_11ec_bf34_02420a39d82erow6_col4\" class=\"data row6 col4\" >4.3%</td>\n",
       "                        <td id=\"T_a55da8b0_34a9_11ec_bf34_02420a39d82erow6_col5\" class=\"data row6 col5\" >100.0%</td>\n",
       "            </tr>\n",
       "            <tr>\n",
       "                        <th id=\"T_a55da8b0_34a9_11ec_bf34_02420a39d82elevel0_row7\" class=\"row_heading level0 row7\" >2</th>\n",
       "                        <td id=\"T_a55da8b0_34a9_11ec_bf34_02420a39d82erow7_col0\" class=\"data row7 col0\" >буфет</td>\n",
       "                        <td id=\"T_a55da8b0_34a9_11ec_bf34_02420a39d82erow7_col1\" class=\"data row7 col1\" >574</td>\n",
       "                        <td id=\"T_a55da8b0_34a9_11ec_bf34_02420a39d82erow7_col2\" class=\"data row7 col2\" >11</td>\n",
       "                        <td id=\"T_a55da8b0_34a9_11ec_bf34_02420a39d82erow7_col3\" class=\"data row7 col3\" >98.1%</td>\n",
       "                        <td id=\"T_a55da8b0_34a9_11ec_bf34_02420a39d82erow7_col4\" class=\"data row7 col4\" >1.9%</td>\n",
       "                        <td id=\"T_a55da8b0_34a9_11ec_bf34_02420a39d82erow7_col5\" class=\"data row7 col5\" >100.0%</td>\n",
       "            </tr>\n",
       "            <tr>\n",
       "                        <th id=\"T_a55da8b0_34a9_11ec_bf34_02420a39d82elevel0_row8\" class=\"row_heading level0 row8\" >8</th>\n",
       "                        <td id=\"T_a55da8b0_34a9_11ec_bf34_02420a39d82erow8_col0\" class=\"data row8 col0\" >столовая</td>\n",
       "                        <td id=\"T_a55da8b0_34a9_11ec_bf34_02420a39d82erow8_col1\" class=\"data row8 col1\" >2584</td>\n",
       "                        <td id=\"T_a55da8b0_34a9_11ec_bf34_02420a39d82erow8_col2\" class=\"data row8 col2\" >3</td>\n",
       "                        <td id=\"T_a55da8b0_34a9_11ec_bf34_02420a39d82erow8_col3\" class=\"data row8 col3\" >99.9%</td>\n",
       "                        <td id=\"T_a55da8b0_34a9_11ec_bf34_02420a39d82erow8_col4\" class=\"data row8 col4\" >0.1%</td>\n",
       "                        <td id=\"T_a55da8b0_34a9_11ec_bf34_02420a39d82erow8_col5\" class=\"data row8 col5\" >100.0%</td>\n",
       "            </tr>\n",
       "    </tbody></table>"
      ],
      "text/plain": [
       "<pandas.io.formats.style.Styler at 0x7fc22d9b92d0>"
      ]
     },
     "metadata": {},
     "output_type": "display_data"
    }
   ],
   "source": [
    "rest_data_type_chain_pivot['ratio_not_chain'] = rest_data_type_chain_pivot['not_chain'] / (rest_data_type_chain_pivot['chain'] + rest_data_type_chain_pivot['not_chain'])\n",
    "rest_data_type_chain_pivot['ratio_chain'] = rest_data_type_chain_pivot['chain'] / (rest_data_type_chain_pivot['chain'] + rest_data_type_chain_pivot['not_chain'])\n",
    "rest_data_type_chain_pivot['ratio_sum'] = rest_data_type_chain_pivot['ratio_not_chain'] + rest_data_type_chain_pivot['ratio_chain']\n",
    "rest_data_type_chain_pivot = rest_data_type_chain_pivot.sort_values('ratio_chain', ascending = False)\n",
    "display(rest_data_type_chain_pivot.style.format({'ratio_chain':\"{0:.1%}\", 'ratio_not_chain':\"{0:.1%}\", 'ratio_sum':\"{0:.1%}\"}))"
   ]
  },
  {
   "cell_type": "code",
   "execution_count": 42,
   "metadata": {},
   "outputs": [
    {
     "data": {
      "image/png": "[encoded data removed]",
      "text/plain": [
       "<Figure size 1152x576 with 1 Axes>"
      ]
     },
     "metadata": {
      "needs_background": "light"
     },
     "output_type": "display_data"
    }
   ],
   "source": [
    "plt.figure(figsize=(16,8))\n",
    "\n",
    "bar1 = sns.barplot(x=\"object_type\",  y=\"ratio_sum\", data=rest_data_type_chain_pivot, color='darkblue')\n",
    "bar2 = sns.barplot(x=\"object_type\", y=\"ratio_chain\", data=rest_data_type_chain_pivot,  color='brown')\n",
    "\n",
    "top_bar = mpatches.Patch(color='darkblue', label='несетевое заведение')\n",
    "bottom_bar = mpatches.Patch(color='brown', label='сетевое заведение')\n",
    "\n",
    "plt.legend(handles=[top_bar, bottom_bar])\n",
    "plt.xticks(rotation=60, horizontalalignment ='right', size=12)\n",
    "plt.title(\"Соотношение сетевых и несетевых заведений\", size=24)\n",
    "\n",
    "plt.show()"
   ]
  },
  {
   "cell_type": "markdown",
   "metadata": {},
   "source": [
    "### Вывод  \n",
    "Сетевое распространение характерно для предприятий быстрого обслуживания. Доля сетевых заведений в данной группе составляет 41,1%.  \n",
    "Вторую позицию по степени охвата сетями занимают отделы кулинарии в магазинах - 28,6 %.  \n",
    "Доля сетей в сегменте рестораны и кафе - 23,8 % и 22,9 % соответственно.  \n",
    "То есть сети распространены там, где важна высокая скорость обслуживания."
   ]
  },
  {
   "cell_type": "markdown",
   "metadata": {},
   "source": [
    "## Анализ сетевых заведений по числу посадочных мест"
   ]
  },
  {
   "cell_type": "markdown",
   "metadata": {},
   "source": [
    "Проанализируем, что характерно для сетевых заведений: много заведений с небольшим числом посадочных мест в каждом или мало заведений с большим количеством посадочных мест?  \n",
    "Метод решения:\n",
    "- отобрать все сетевые рестораны;  \n",
    "- для каждой сети посчитать число заведений;  \n",
    "- для каждой сети посчитать среднее число посадочных мест в ее ресторанах;\n",
    "- распределить все сети на 4 группы по признакам много/мало ресторанов, много/мало посадочных мест;\n",
    "- построить точечную диаграмму (scatterplot) с раскраской по этим группам."
   ]
  },
  {
   "cell_type": "code",
   "execution_count": 43,
   "metadata": {},
   "outputs": [],
   "source": [
    "rest_data_chain = rest_data.query('chain == \"сеть\"')\n",
    "#rest_data_chain.head()"
   ]
  },
  {
   "cell_type": "code",
   "execution_count": 44,
   "metadata": {},
   "outputs": [
    {
     "data": {
      "text/html": [
       "<div>\n",
       "<style scoped>\n",
       "    .dataframe tbody tr th:only-of-type {\n",
       "        vertical-align: middle;\n",
       "    }\n",
       "\n",
       "    .dataframe tbody tr th {\n",
       "        vertical-align: top;\n",
       "    }\n",
       "\n",
       "    .dataframe thead th {\n",
       "        text-align: right;\n",
       "    }\n",
       "</style>\n",
       "<table border=\"1\" class=\"dataframe\">\n",
       "  <thead>\n",
       "    <tr style=\"text-align: right;\">\n",
       "      <th></th>\n",
       "      <th>id</th>\n",
       "      <th>number</th>\n",
       "    </tr>\n",
       "    <tr>\n",
       "      <th>object_name_new</th>\n",
       "      <th></th>\n",
       "      <th></th>\n",
       "    </tr>\n",
       "  </thead>\n",
       "  <tbody>\n",
       "    <tr>\n",
       "      <td>beverly hills diner</td>\n",
       "      <td>1</td>\n",
       "      <td>88.00</td>\n",
       "    </tr>\n",
       "    <tr>\n",
       "      <td>bierloga</td>\n",
       "      <td>1</td>\n",
       "      <td>75.00</td>\n",
       "    </tr>\n",
       "    <tr>\n",
       "      <td>black   white</td>\n",
       "      <td>1</td>\n",
       "      <td>40.00</td>\n",
       "    </tr>\n",
       "    <tr>\n",
       "      <td>bocconcino</td>\n",
       "      <td>3</td>\n",
       "      <td>66.67</td>\n",
       "    </tr>\n",
       "    <tr>\n",
       "      <td>boobo</td>\n",
       "      <td>1</td>\n",
       "      <td>46.00</td>\n",
       "    </tr>\n",
       "  </tbody>\n",
       "</table>\n",
       "</div>"
      ],
      "text/plain": [
       "                     id  number\n",
       "object_name_new                \n",
       "beverly hills diner   1   88.00\n",
       "bierloga              1   75.00\n",
       "black   white         1   40.00\n",
       "bocconcino            3   66.67\n",
       "boobo                 1   46.00"
      ]
     },
     "execution_count": 44,
     "metadata": {},
     "output_type": "execute_result"
    }
   ],
   "source": [
    "rest_data_chain = rest_data_chain.groupby('object_name_new').agg({'id': 'count', 'number': 'mean'})\n",
    "rest_data_chain.head()"
   ]
  },
  {
   "cell_type": "code",
   "execution_count": 45,
   "metadata": {},
   "outputs": [],
   "source": [
    "#rest_data_chain.query('object_name_new == \"кулинарная лавка братьев караваевых\"')"
   ]
  },
  {
   "cell_type": "code",
   "execution_count": 46,
   "metadata": {},
   "outputs": [
    {
     "data": {
      "text/plain": [
       "array([  1,   2,   3,   4,   5,   6,   7,   8,   9,  10,  11,  13,  14,\n",
       "        15,  16,  17,  18,  19,  22,  24,  25,  29,  32,  33,  38,  40,\n",
       "        41,  45,  46,  47,  50,  52,  54,  67,  75,  77,  96,  99, 111,\n",
       "       159, 173, 183, 187])"
      ]
     },
     "execution_count": 46,
     "metadata": {},
     "output_type": "execute_result"
    }
   ],
   "source": [
    "rest_data_chain['id'].sort_values().unique()"
   ]
  },
  {
   "cell_type": "markdown",
   "metadata": {},
   "source": [
    "Поскольку у нас много заведений с числом заведений, равным 1, то qcut при делении на 2 группы с помощью медианы создает два интервала с неуникальным границами.  \n",
    "Поэтому для распределения сетевых заведений на группы по количеству мест используем 75% перцентиль вместо медианы."
   ]
  },
  {
   "cell_type": "code",
   "execution_count": 47,
   "metadata": {},
   "outputs": [],
   "source": [
    "rest_data_chain['rest_num_group'] = pd.qcut(rest_data_chain['id'], q = [0, 0.75, 1], labels = ['Мало заведений', 'Много заведений'])"
   ]
  },
  {
   "cell_type": "markdown",
   "metadata": {},
   "source": [
    "Для распределения сетевых заведений на группы по количеству мест используем медиану."
   ]
  },
  {
   "cell_type": "code",
   "execution_count": 48,
   "metadata": {},
   "outputs": [],
   "source": [
    "rest_data_chain['seat_num_group'] = pd.qcut(rest_data_chain['number'], q = [0, 0.5, 1], labels = ['Мало мест', 'Много мест'])"
   ]
  },
  {
   "cell_type": "code",
   "execution_count": 49,
   "metadata": {},
   "outputs": [],
   "source": [
    "rest_data_chain['group'] = rest_data_chain['rest_num_group'].astype(str) + ' - ' + rest_data_chain['seat_num_group'].astype(str)"
   ]
  },
  {
   "cell_type": "code",
   "execution_count": 50,
   "metadata": {},
   "outputs": [],
   "source": [
    "#rest_data_chain.query('object_name_new == \"макдоналдс\"')"
   ]
  },
  {
   "cell_type": "code",
   "execution_count": 51,
   "metadata": {},
   "outputs": [],
   "source": [
    "#rest_data_chain.query('group == \"Много заведений - Много мест\"')"
   ]
  },
  {
   "cell_type": "code",
   "execution_count": 52,
   "metadata": {},
   "outputs": [
    {
     "data": {
      "text/html": [
       "<div>\n",
       "<style scoped>\n",
       "    .dataframe tbody tr th:only-of-type {\n",
       "        vertical-align: middle;\n",
       "    }\n",
       "\n",
       "    .dataframe tbody tr th {\n",
       "        vertical-align: top;\n",
       "    }\n",
       "\n",
       "    .dataframe thead th {\n",
       "        text-align: right;\n",
       "    }\n",
       "</style>\n",
       "<table border=\"1\" class=\"dataframe\">\n",
       "  <thead>\n",
       "    <tr style=\"text-align: right;\">\n",
       "      <th></th>\n",
       "      <th>Число сетей</th>\n",
       "      <th>Медианное число заведений</th>\n",
       "      <th>Медианное число посадочных мест</th>\n",
       "    </tr>\n",
       "    <tr>\n",
       "      <th>group</th>\n",
       "      <th></th>\n",
       "      <th></th>\n",
       "      <th></th>\n",
       "    </tr>\n",
       "  </thead>\n",
       "  <tbody>\n",
       "    <tr>\n",
       "      <td>Мало заведений - Мало мест</td>\n",
       "      <td>111</td>\n",
       "      <td>1.00</td>\n",
       "      <td>17.50</td>\n",
       "    </tr>\n",
       "    <tr>\n",
       "      <td>Мало заведений - Много мест</td>\n",
       "      <td>124</td>\n",
       "      <td>2.00</td>\n",
       "      <td>80.00</td>\n",
       "    </tr>\n",
       "    <tr>\n",
       "      <td>Много заведений - Мало мест</td>\n",
       "      <td>44</td>\n",
       "      <td>15.50</td>\n",
       "      <td>22.18</td>\n",
       "    </tr>\n",
       "    <tr>\n",
       "      <td>Много заведений - Много мест</td>\n",
       "      <td>31</td>\n",
       "      <td>18.00</td>\n",
       "      <td>87.02</td>\n",
       "    </tr>\n",
       "  </tbody>\n",
       "</table>\n",
       "</div>"
      ],
      "text/plain": [
       "                              Число сетей  Медианное число заведений  \\\n",
       "group                                                                  \n",
       "Мало заведений - Мало мест            111                       1.00   \n",
       "Мало заведений - Много мест           124                       2.00   \n",
       "Много заведений - Мало мест            44                      15.50   \n",
       "Много заведений - Много мест           31                      18.00   \n",
       "\n",
       "                              Медианное число посадочных мест  \n",
       "group                                                          \n",
       "Мало заведений - Мало мест                              17.50  \n",
       "Мало заведений - Много мест                             80.00  \n",
       "Много заведений - Мало мест                             22.18  \n",
       "Много заведений - Много мест                            87.02  "
      ]
     },
     "execution_count": 52,
     "metadata": {},
     "output_type": "execute_result"
    }
   ],
   "source": [
    "rest_data_chain.reset_index().groupby('group').agg(\n",
    "    {'object_name_new':'nunique', 'id':'median', 'number':'median'}\n",
    ").rename(columns={'object_name_new': 'Число сетей',\n",
    "                 'id':'Медианное число заведений',\n",
    "                 'number': 'Медианное число посадочных мест'})"
   ]
  },
  {
   "cell_type": "code",
   "execution_count": 53,
   "metadata": {},
   "outputs": [
    {
     "data": {
      "text/plain": [
       "<function matplotlib.pyplot.show(*args, **kw)>"
      ]
     },
     "execution_count": 53,
     "metadata": {},
     "output_type": "execute_result"
    },
    {
     "data": {
      "image/png": "[encoded data removed]",
      "text/plain": [
       "<Figure size 1440x720 with 1 Axes>"
      ]
     },
     "metadata": {
      "needs_background": "light"
     },
     "output_type": "display_data"
    }
   ],
   "source": [
    "plt.figure(figsize=(20, 10))\n",
    "\n",
    "sns.scatterplot(data = rest_data_chain, x = 'id', y = 'number', hue = 'group')\n",
    "\n",
    "plt.xlabel('Число заведений')\n",
    "plt.ylabel('Срднее число посадочных мест')\n",
    "plt.title(\"Распределение сетей по признаку количество объектов/число мест\", size=24)\n",
    "plt.show\n"
   ]
  },
  {
   "cell_type": "markdown",
   "metadata": {},
   "source": [
    "### Вывод  \n",
    "Для сетевых заведений лидируют два типа соотношения количество объектов сети / количество посадочных мест:  \n",
    "1 - Мало заведений - Много мест;  \n",
    "2 - Мало заведений - Мало мест.  \n",
    "Сетей с большим количеством объектов немного. "
   ]
  },
  {
   "cell_type": "markdown",
   "metadata": {},
   "source": [
    "## Анализ среднего количества посадочных мест"
   ]
  },
  {
   "cell_type": "markdown",
   "metadata": {},
   "source": [
    "Проанализируем количество посадочных мест для каждого вида объекта общественного питания."
   ]
  },
  {
   "cell_type": "code",
   "execution_count": 54,
   "metadata": {},
   "outputs": [
    {
     "data": {
      "text/html": [
       "<div>\n",
       "<style scoped>\n",
       "    .dataframe tbody tr th:only-of-type {\n",
       "        vertical-align: middle;\n",
       "    }\n",
       "\n",
       "    .dataframe tbody tr th {\n",
       "        vertical-align: top;\n",
       "    }\n",
       "\n",
       "    .dataframe thead th {\n",
       "        text-align: right;\n",
       "    }\n",
       "</style>\n",
       "<table border=\"1\" class=\"dataframe\">\n",
       "  <thead>\n",
       "    <tr style=\"text-align: right;\">\n",
       "      <th></th>\n",
       "      <th>id</th>\n",
       "      <th>object_name</th>\n",
       "      <th>chain</th>\n",
       "      <th>object_type</th>\n",
       "      <th>address</th>\n",
       "      <th>number</th>\n",
       "      <th>object_name_corr</th>\n",
       "      <th>object_name_new</th>\n",
       "    </tr>\n",
       "  </thead>\n",
       "  <tbody>\n",
       "    <tr>\n",
       "      <td>0</td>\n",
       "      <td>151635</td>\n",
       "      <td>СМЕТАНА</td>\n",
       "      <td>не сеть</td>\n",
       "      <td>кафе</td>\n",
       "      <td>город Москва, улица Егора Абакумова, дом 9</td>\n",
       "      <td>48</td>\n",
       "      <td>сметана</td>\n",
       "      <td>сметана</td>\n",
       "    </tr>\n",
       "    <tr>\n",
       "      <td>1</td>\n",
       "      <td>77874</td>\n",
       "      <td>Родник</td>\n",
       "      <td>не сеть</td>\n",
       "      <td>кафе</td>\n",
       "      <td>город Москва, улица Талалихина, дом 2/1, корпус 1</td>\n",
       "      <td>35</td>\n",
       "      <td>родник</td>\n",
       "      <td>родник</td>\n",
       "    </tr>\n",
       "    <tr>\n",
       "      <td>2</td>\n",
       "      <td>24309</td>\n",
       "      <td>Кафе «Академия»</td>\n",
       "      <td>не сеть</td>\n",
       "      <td>кафе</td>\n",
       "      <td>город Москва, Абельмановская улица, дом 6</td>\n",
       "      <td>95</td>\n",
       "      <td>кафе  академия</td>\n",
       "      <td>кафе  академия</td>\n",
       "    </tr>\n",
       "    <tr>\n",
       "      <td>3</td>\n",
       "      <td>21894</td>\n",
       "      <td>ПИЦЦЕТОРИЯ</td>\n",
       "      <td>сеть</td>\n",
       "      <td>кафе</td>\n",
       "      <td>город Москва, Абрамцевская улица, дом 1</td>\n",
       "      <td>40</td>\n",
       "      <td>пиццетория</td>\n",
       "      <td>пиццетория</td>\n",
       "    </tr>\n",
       "    <tr>\n",
       "      <td>4</td>\n",
       "      <td>119365</td>\n",
       "      <td>Кафе «Вишневая метель»</td>\n",
       "      <td>не сеть</td>\n",
       "      <td>кафе</td>\n",
       "      <td>город Москва, Абрамцевская улица, дом 9, корпус 1</td>\n",
       "      <td>50</td>\n",
       "      <td>кафе  вишневая метель</td>\n",
       "      <td>кафе  вишневая метель</td>\n",
       "    </tr>\n",
       "  </tbody>\n",
       "</table>\n",
       "</div>"
      ],
      "text/plain": [
       "       id             object_name    chain object_type  \\\n",
       "0  151635                 СМЕТАНА  не сеть        кафе   \n",
       "1   77874                  Родник  не сеть        кафе   \n",
       "2   24309         Кафе «Академия»  не сеть        кафе   \n",
       "3   21894              ПИЦЦЕТОРИЯ     сеть        кафе   \n",
       "4  119365  Кафе «Вишневая метель»  не сеть        кафе   \n",
       "\n",
       "                                             address  number  \\\n",
       "0         город Москва, улица Егора Абакумова, дом 9      48   \n",
       "1  город Москва, улица Талалихина, дом 2/1, корпус 1      35   \n",
       "2          город Москва, Абельмановская улица, дом 6      95   \n",
       "3            город Москва, Абрамцевская улица, дом 1      40   \n",
       "4  город Москва, Абрамцевская улица, дом 9, корпус 1      50   \n",
       "\n",
       "         object_name_corr         object_name_new  \n",
       "0                 сметана                 сметана  \n",
       "1                  родник                  родник  \n",
       "2         кафе  академия          кафе  академия   \n",
       "3              пиццетория              пиццетория  \n",
       "4  кафе  вишневая метель   кафе  вишневая метель   "
      ]
     },
     "execution_count": 54,
     "metadata": {},
     "output_type": "execute_result"
    }
   ],
   "source": [
    "rest_data.head()"
   ]
  },
  {
   "cell_type": "code",
   "execution_count": 55,
   "metadata": {},
   "outputs": [
    {
     "data": {
      "text/html": [
       "<div>\n",
       "<style scoped>\n",
       "    .dataframe tbody tr th:only-of-type {\n",
       "        vertical-align: middle;\n",
       "    }\n",
       "\n",
       "    .dataframe tbody tr th {\n",
       "        vertical-align: top;\n",
       "    }\n",
       "\n",
       "    .dataframe thead th {\n",
       "        text-align: right;\n",
       "    }\n",
       "</style>\n",
       "<table border=\"1\" class=\"dataframe\">\n",
       "  <thead>\n",
       "    <tr style=\"text-align: right;\">\n",
       "      <th></th>\n",
       "      <th>object_type</th>\n",
       "      <th>number_mean</th>\n",
       "    </tr>\n",
       "  </thead>\n",
       "  <tbody>\n",
       "    <tr>\n",
       "      <td>8</td>\n",
       "      <td>столовая</td>\n",
       "      <td>130.25</td>\n",
       "    </tr>\n",
       "    <tr>\n",
       "      <td>7</td>\n",
       "      <td>ресторан</td>\n",
       "      <td>96.83</td>\n",
       "    </tr>\n",
       "    <tr>\n",
       "      <td>2</td>\n",
       "      <td>буфет</td>\n",
       "      <td>51.13</td>\n",
       "    </tr>\n",
       "    <tr>\n",
       "      <td>0</td>\n",
       "      <td>бар</td>\n",
       "      <td>43.49</td>\n",
       "    </tr>\n",
       "    <tr>\n",
       "      <td>4</td>\n",
       "      <td>кафе</td>\n",
       "      <td>39.72</td>\n",
       "    </tr>\n",
       "    <tr>\n",
       "      <td>1</td>\n",
       "      <td>бистро</td>\n",
       "      <td>20.55</td>\n",
       "    </tr>\n",
       "    <tr>\n",
       "      <td>5</td>\n",
       "      <td>кафетерий</td>\n",
       "      <td>9.12</td>\n",
       "    </tr>\n",
       "    <tr>\n",
       "      <td>3</td>\n",
       "      <td>закусочная</td>\n",
       "      <td>7.61</td>\n",
       "    </tr>\n",
       "    <tr>\n",
       "      <td>6</td>\n",
       "      <td>кулинария</td>\n",
       "      <td>5.59</td>\n",
       "    </tr>\n",
       "  </tbody>\n",
       "</table>\n",
       "</div>"
      ],
      "text/plain": [
       "  object_type  number_mean\n",
       "8    столовая       130.25\n",
       "7    ресторан        96.83\n",
       "2       буфет        51.13\n",
       "0         бар        43.49\n",
       "4        кафе        39.72\n",
       "1      бистро        20.55\n",
       "5   кафетерий         9.12\n",
       "3  закусочная         7.61\n",
       "6   кулинария         5.59"
      ]
     },
     "execution_count": 55,
     "metadata": {},
     "output_type": "execute_result"
    }
   ],
   "source": [
    "rest_data_number = rest_data.pivot_table(\n",
    "    index = ['object_type'],\n",
    "    values='number', \n",
    "    aggfunc='mean'\n",
    ").reset_index().sort_values('number', ascending = False)\n",
    "rest_data_number.columns =  ['object_type','number_mean']\n",
    "#rest_data_number.columns\n",
    "rest_data_number"
   ]
  },
  {
   "cell_type": "code",
   "execution_count": 56,
   "metadata": {},
   "outputs": [
    {
     "data": {
      "image/png": "[encoded data removed]",
      "text/plain": [
       "<Figure size 1440x720 with 1 Axes>"
      ]
     },
     "metadata": {
      "needs_background": "light"
     },
     "output_type": "display_data"
    }
   ],
   "source": [
    "plt.figure(figsize=(20, 10))\n",
    "\n",
    "ax = sns.barplot(x='object_type', y='number_mean', data=rest_data_number) \n",
    "ax.set_xticklabels(ax.get_xticklabels(), rotation=50, horizontalalignment ='right', size=12)\n",
    "for p in ax.patches:\n",
    "    ax.annotate(format(int(p.get_height()), ',').replace(',', ' '),\n",
    "                   (p.get_x() + p.get_width() / 2., p.get_height()), \n",
    "                   ha = 'center', va = 'center', \n",
    "                   xytext = (0, 7), \n",
    "                   textcoords = 'offset points', size=14)\n",
    "plt.xlabel('Вид объекта')\n",
    "plt.ylabel('Среднее число посадочных мест')\n",
    "plt.title(\"Среднее число посадочных мест в разных видах объектов общественного питания\", size=24)\n",
    "plt.show()"
   ]
  },
  {
   "cell_type": "markdown",
   "metadata": {},
   "source": [
    "### Вывод\n",
    "Наибольшее среднее число посадочных мест характерно для столовых - 130. Рестораны в среднем обеспечивают  96 посадочных мест, буфеты - 56."
   ]
  },
  {
   "cell_type": "markdown",
   "metadata": {},
   "source": [
    "## Анализ размещения объектов общественного питания"
   ]
  },
  {
   "cell_type": "code",
   "execution_count": 57,
   "metadata": {},
   "outputs": [
    {
     "data": {
      "text/html": [
       "<div>\n",
       "<style scoped>\n",
       "    .dataframe tbody tr th:only-of-type {\n",
       "        vertical-align: middle;\n",
       "    }\n",
       "\n",
       "    .dataframe tbody tr th {\n",
       "        vertical-align: top;\n",
       "    }\n",
       "\n",
       "    .dataframe thead th {\n",
       "        text-align: right;\n",
       "    }\n",
       "</style>\n",
       "<table border=\"1\" class=\"dataframe\">\n",
       "  <thead>\n",
       "    <tr style=\"text-align: right;\">\n",
       "      <th></th>\n",
       "      <th>id</th>\n",
       "      <th>object_name</th>\n",
       "      <th>chain</th>\n",
       "      <th>object_type</th>\n",
       "      <th>address</th>\n",
       "      <th>number</th>\n",
       "      <th>object_name_corr</th>\n",
       "      <th>object_name_new</th>\n",
       "      <th>street</th>\n",
       "    </tr>\n",
       "  </thead>\n",
       "  <tbody>\n",
       "    <tr>\n",
       "      <td>0</td>\n",
       "      <td>151635</td>\n",
       "      <td>СМЕТАНА</td>\n",
       "      <td>не сеть</td>\n",
       "      <td>кафе</td>\n",
       "      <td>город Москва, улица Егора Абакумова, дом 9</td>\n",
       "      <td>48</td>\n",
       "      <td>сметана</td>\n",
       "      <td>сметана</td>\n",
       "      <td>улица Егора Абакумова</td>\n",
       "    </tr>\n",
       "    <tr>\n",
       "      <td>1</td>\n",
       "      <td>77874</td>\n",
       "      <td>Родник</td>\n",
       "      <td>не сеть</td>\n",
       "      <td>кафе</td>\n",
       "      <td>город Москва, улица Талалихина, дом 2/1, корпус 1</td>\n",
       "      <td>35</td>\n",
       "      <td>родник</td>\n",
       "      <td>родник</td>\n",
       "      <td>улица Талалихина</td>\n",
       "    </tr>\n",
       "    <tr>\n",
       "      <td>2</td>\n",
       "      <td>24309</td>\n",
       "      <td>Кафе «Академия»</td>\n",
       "      <td>не сеть</td>\n",
       "      <td>кафе</td>\n",
       "      <td>город Москва, Абельмановская улица, дом 6</td>\n",
       "      <td>95</td>\n",
       "      <td>кафе  академия</td>\n",
       "      <td>кафе  академия</td>\n",
       "      <td>Абельмановская улица</td>\n",
       "    </tr>\n",
       "    <tr>\n",
       "      <td>3</td>\n",
       "      <td>21894</td>\n",
       "      <td>ПИЦЦЕТОРИЯ</td>\n",
       "      <td>сеть</td>\n",
       "      <td>кафе</td>\n",
       "      <td>город Москва, Абрамцевская улица, дом 1</td>\n",
       "      <td>40</td>\n",
       "      <td>пиццетория</td>\n",
       "      <td>пиццетория</td>\n",
       "      <td>Абрамцевская улица</td>\n",
       "    </tr>\n",
       "    <tr>\n",
       "      <td>4</td>\n",
       "      <td>119365</td>\n",
       "      <td>Кафе «Вишневая метель»</td>\n",
       "      <td>не сеть</td>\n",
       "      <td>кафе</td>\n",
       "      <td>город Москва, Абрамцевская улица, дом 9, корпус 1</td>\n",
       "      <td>50</td>\n",
       "      <td>кафе  вишневая метель</td>\n",
       "      <td>кафе  вишневая метель</td>\n",
       "      <td>Абрамцевская улица</td>\n",
       "    </tr>\n",
       "  </tbody>\n",
       "</table>\n",
       "</div>"
      ],
      "text/plain": [
       "       id             object_name    chain object_type  \\\n",
       "0  151635                 СМЕТАНА  не сеть        кафе   \n",
       "1   77874                  Родник  не сеть        кафе   \n",
       "2   24309         Кафе «Академия»  не сеть        кафе   \n",
       "3   21894              ПИЦЦЕТОРИЯ     сеть        кафе   \n",
       "4  119365  Кафе «Вишневая метель»  не сеть        кафе   \n",
       "\n",
       "                                             address  number  \\\n",
       "0         город Москва, улица Егора Абакумова, дом 9      48   \n",
       "1  город Москва, улица Талалихина, дом 2/1, корпус 1      35   \n",
       "2          город Москва, Абельмановская улица, дом 6      95   \n",
       "3            город Москва, Абрамцевская улица, дом 1      40   \n",
       "4  город Москва, Абрамцевская улица, дом 9, корпус 1      50   \n",
       "\n",
       "         object_name_corr         object_name_new                 street  \n",
       "0                 сметана                 сметана  улица Егора Абакумова  \n",
       "1                  родник                  родник       улица Талалихина  \n",
       "2         кафе  академия          кафе  академия    Абельмановская улица  \n",
       "3              пиццетория              пиццетория     Абрамцевская улица  \n",
       "4  кафе  вишневая метель   кафе  вишневая метель      Абрамцевская улица  "
      ]
     },
     "execution_count": 57,
     "metadata": {},
     "output_type": "execute_result"
    }
   ],
   "source": [
    "street_types = ['улица', 'ул', 'бульвар', 'проспект', 'переулок', 'шоссе', \n",
    "'проезд', 'набережная', 'площадь', 'аллея', 'линия', 'квартал', 'мост', 'тупик', 'просека', 'село']\n",
    "str_pat = r\".*,\\s*\\b([^,]*?(?:{})\\b[^,]*)[,$]+\".format(\"|\".join(street_types))\n",
    "rest_data['street'] = rest_data['address'].str.extract(str_pat, flags=re.I)\n",
    "rest_data.head()\n"
   ]
  },
  {
   "cell_type": "markdown",
   "metadata": {},
   "source": [
    "Определим топ-10 улиц по количеству объектов общественного питания.\n"
   ]
  },
  {
   "cell_type": "code",
   "execution_count": 58,
   "metadata": {},
   "outputs": [
    {
     "data": {
      "text/html": [
       "<div>\n",
       "<style scoped>\n",
       "    .dataframe tbody tr th:only-of-type {\n",
       "        vertical-align: middle;\n",
       "    }\n",
       "\n",
       "    .dataframe tbody tr th {\n",
       "        vertical-align: top;\n",
       "    }\n",
       "\n",
       "    .dataframe thead th {\n",
       "        text-align: right;\n",
       "    }\n",
       "</style>\n",
       "<table border=\"1\" class=\"dataframe\">\n",
       "  <thead>\n",
       "    <tr style=\"text-align: right;\">\n",
       "      <th></th>\n",
       "      <th>street</th>\n",
       "      <th>rest_number</th>\n",
       "    </tr>\n",
       "  </thead>\n",
       "  <tbody>\n",
       "    <tr>\n",
       "      <td>0</td>\n",
       "      <td>проспект Мира</td>\n",
       "      <td>204</td>\n",
       "    </tr>\n",
       "    <tr>\n",
       "      <td>1</td>\n",
       "      <td>Профсоюзная улица</td>\n",
       "      <td>182</td>\n",
       "    </tr>\n",
       "    <tr>\n",
       "      <td>2</td>\n",
       "      <td>Ленинградский проспект</td>\n",
       "      <td>171</td>\n",
       "    </tr>\n",
       "    <tr>\n",
       "      <td>3</td>\n",
       "      <td>Пресненская набережная</td>\n",
       "      <td>167</td>\n",
       "    </tr>\n",
       "    <tr>\n",
       "      <td>4</td>\n",
       "      <td>Варшавское шоссе</td>\n",
       "      <td>164</td>\n",
       "    </tr>\n",
       "    <tr>\n",
       "      <td>5</td>\n",
       "      <td>Ленинский проспект</td>\n",
       "      <td>147</td>\n",
       "    </tr>\n",
       "    <tr>\n",
       "      <td>6</td>\n",
       "      <td>проспект Вернадского</td>\n",
       "      <td>132</td>\n",
       "    </tr>\n",
       "    <tr>\n",
       "      <td>7</td>\n",
       "      <td>Кутузовский проспект</td>\n",
       "      <td>114</td>\n",
       "    </tr>\n",
       "    <tr>\n",
       "      <td>8</td>\n",
       "      <td>Каширское шоссе</td>\n",
       "      <td>112</td>\n",
       "    </tr>\n",
       "    <tr>\n",
       "      <td>9</td>\n",
       "      <td>Кировоградская улица</td>\n",
       "      <td>110</td>\n",
       "    </tr>\n",
       "  </tbody>\n",
       "</table>\n",
       "</div>"
      ],
      "text/plain": [
       "                   street  rest_number\n",
       "0           проспект Мира          204\n",
       "1       Профсоюзная улица          182\n",
       "2  Ленинградский проспект          171\n",
       "3  Пресненская набережная          167\n",
       "4        Варшавское шоссе          164\n",
       "5      Ленинский проспект          147\n",
       "6    проспект Вернадского          132\n",
       "7    Кутузовский проспект          114\n",
       "8         Каширское шоссе          112\n",
       "9    Кировоградская улица          110"
      ]
     },
     "execution_count": 58,
     "metadata": {},
     "output_type": "execute_result"
    }
   ],
   "source": [
    "top_10_streets = (rest_data.groupby('street')\n",
    "                  .agg({'id':'count'})\n",
    "                  .sort_values(by = 'id', ascending = False).head(10)\n",
    "                  .reset_index()\n",
    "                  )\n",
    "top_10_streets.rename(\n",
    "    columns={\n",
    "        'id': 'rest_number'\n",
    "    },\n",
    "    inplace=True\n",
    ")   \n",
    "top_10_streets"
   ]
  },
  {
   "cell_type": "code",
   "execution_count": 59,
   "metadata": {},
   "outputs": [
    {
     "data": {
      "image/png": "[encoded data removed]",
      "text/plain": [
       "<Figure size 1440x720 with 1 Axes>"
      ]
     },
     "metadata": {
      "needs_background": "light"
     },
     "output_type": "display_data"
    }
   ],
   "source": [
    "plt.figure(figsize=(20, 10))\n",
    "\n",
    "ax = sns.barplot(x='street', y='rest_number', data=top_10_streets) \n",
    "ax.set_xticklabels(ax.get_xticklabels(), rotation=50, horizontalalignment ='right', size=12)\n",
    "for p in ax.patches:\n",
    "    ax.annotate(format(int(p.get_height()), ',').replace(',', ' '),\n",
    "                   (p.get_x() + p.get_width() / 2., p.get_height()), \n",
    "                   ha = 'center', va = 'center', \n",
    "                   xytext = (0, 7), \n",
    "                   textcoords = 'offset points', size=14)\n",
    "plt.xlabel('Улица')\n",
    "plt.ylabel('Количество заведений общественного питания')\n",
    "plt.title(\"Топ-10 улиц по количеству объектов общественного питания\", size=24)\n",
    "plt.show()"
   ]
  },
  {
   "cell_type": "markdown",
   "metadata": {},
   "source": [
    "Результат ожидаемый - наибольшее количество заведений общественного питания расположено на крупных протяженных городских улицах."
   ]
  },
  {
   "cell_type": "code",
   "execution_count": 60,
   "metadata": {},
   "outputs": [
    {
     "data": {
      "text/html": [
       "<div>\n",
       "<style scoped>\n",
       "    .dataframe tbody tr th:only-of-type {\n",
       "        vertical-align: middle;\n",
       "    }\n",
       "\n",
       "    .dataframe tbody tr th {\n",
       "        vertical-align: top;\n",
       "    }\n",
       "\n",
       "    .dataframe thead th {\n",
       "        text-align: right;\n",
       "    }\n",
       "</style>\n",
       "<table border=\"1\" class=\"dataframe\">\n",
       "  <thead>\n",
       "    <tr style=\"text-align: right;\">\n",
       "      <th></th>\n",
       "      <th>streetname</th>\n",
       "      <th>areaid</th>\n",
       "      <th>okrug</th>\n",
       "      <th>area</th>\n",
       "    </tr>\n",
       "  </thead>\n",
       "  <tbody>\n",
       "    <tr>\n",
       "      <td>0</td>\n",
       "      <td>Выставочный переулок</td>\n",
       "      <td>17</td>\n",
       "      <td>ЦАО</td>\n",
       "      <td>Пресненский район</td>\n",
       "    </tr>\n",
       "    <tr>\n",
       "      <td>1</td>\n",
       "      <td>улица Гашека</td>\n",
       "      <td>17</td>\n",
       "      <td>ЦАО</td>\n",
       "      <td>Пресненский район</td>\n",
       "    </tr>\n",
       "    <tr>\n",
       "      <td>2</td>\n",
       "      <td>Большая Никитская улица</td>\n",
       "      <td>17</td>\n",
       "      <td>ЦАО</td>\n",
       "      <td>Пресненский район</td>\n",
       "    </tr>\n",
       "    <tr>\n",
       "      <td>3</td>\n",
       "      <td>Глубокий переулок</td>\n",
       "      <td>17</td>\n",
       "      <td>ЦАО</td>\n",
       "      <td>Пресненский район</td>\n",
       "    </tr>\n",
       "    <tr>\n",
       "      <td>4</td>\n",
       "      <td>Большой Гнездниковский переулок</td>\n",
       "      <td>17</td>\n",
       "      <td>ЦАО</td>\n",
       "      <td>Пресненский район</td>\n",
       "    </tr>\n",
       "  </tbody>\n",
       "</table>\n",
       "</div>"
      ],
      "text/plain": [
       "                        streetname  areaid okrug               area\n",
       "0             Выставочный переулок      17   ЦАО  Пресненский район\n",
       "1                     улица Гашека      17   ЦАО  Пресненский район\n",
       "2          Большая Никитская улица      17   ЦАО  Пресненский район\n",
       "3                Глубокий переулок      17   ЦАО  Пресненский район\n",
       "4  Большой Гнездниковский переулок      17   ЦАО  Пресненский район"
      ]
     },
     "execution_count": 60,
     "metadata": {},
     "output_type": "execute_result"
    }
   ],
   "source": [
    "from io import BytesIO\n",
    "import requests\n",
    "spreadsheet_id = '1ze8KNNO0PJhkFt7ixod0XtPHP1gS9z8W3XbejpQIodY'\n",
    "file_name = 'https://docs.google.com/spreadsheets/d/{}/export?format=csv'.format(spreadsheet_id)\n",
    "r = requests.get(file_name)\n",
    "streets = pd.read_csv(BytesIO(r.content))\n",
    "streets.head()"
   ]
  },
  {
   "cell_type": "code",
   "execution_count": 61,
   "metadata": {},
   "outputs": [
    {
     "data": {
      "text/html": [
       "<div>\n",
       "<style scoped>\n",
       "    .dataframe tbody tr th:only-of-type {\n",
       "        vertical-align: middle;\n",
       "    }\n",
       "\n",
       "    .dataframe tbody tr th {\n",
       "        vertical-align: top;\n",
       "    }\n",
       "\n",
       "    .dataframe thead th {\n",
       "        text-align: right;\n",
       "    }\n",
       "</style>\n",
       "<table border=\"1\" class=\"dataframe\">\n",
       "  <thead>\n",
       "    <tr style=\"text-align: right;\">\n",
       "      <th></th>\n",
       "      <th>street</th>\n",
       "      <th>okrug</th>\n",
       "      <th>area</th>\n",
       "    </tr>\n",
       "  </thead>\n",
       "  <tbody>\n",
       "    <tr>\n",
       "      <td>0</td>\n",
       "      <td>проспект Мира</td>\n",
       "      <td>СВАО</td>\n",
       "      <td>Алексеевский район</td>\n",
       "    </tr>\n",
       "    <tr>\n",
       "      <td>1</td>\n",
       "      <td>проспект Мира</td>\n",
       "      <td>СВАО</td>\n",
       "      <td>Ярославский Район</td>\n",
       "    </tr>\n",
       "    <tr>\n",
       "      <td>2</td>\n",
       "      <td>проспект Мира</td>\n",
       "      <td>СВАО</td>\n",
       "      <td>Район Марьина роща</td>\n",
       "    </tr>\n",
       "    <tr>\n",
       "      <td>3</td>\n",
       "      <td>проспект Мира</td>\n",
       "      <td>СВАО</td>\n",
       "      <td>Останкинский район</td>\n",
       "    </tr>\n",
       "    <tr>\n",
       "      <td>4</td>\n",
       "      <td>проспект Мира</td>\n",
       "      <td>СВАО</td>\n",
       "      <td>Район Ростокино</td>\n",
       "    </tr>\n",
       "    <tr>\n",
       "      <td>5</td>\n",
       "      <td>проспект Мира</td>\n",
       "      <td>СВАО</td>\n",
       "      <td>Район Свиблово</td>\n",
       "    </tr>\n",
       "    <tr>\n",
       "      <td>6</td>\n",
       "      <td>проспект Мира</td>\n",
       "      <td>ЦАО</td>\n",
       "      <td>Мещанский район</td>\n",
       "    </tr>\n",
       "    <tr>\n",
       "      <td>7</td>\n",
       "      <td>Профсоюзная улица</td>\n",
       "      <td>ЮЗАО</td>\n",
       "      <td>Академический район</td>\n",
       "    </tr>\n",
       "    <tr>\n",
       "      <td>8</td>\n",
       "      <td>Профсоюзная улица</td>\n",
       "      <td>ЮЗАО</td>\n",
       "      <td>Район Черемушки</td>\n",
       "    </tr>\n",
       "    <tr>\n",
       "      <td>9</td>\n",
       "      <td>Профсоюзная улица</td>\n",
       "      <td>ЮЗАО</td>\n",
       "      <td>Район Ясенево</td>\n",
       "    </tr>\n",
       "    <tr>\n",
       "      <td>10</td>\n",
       "      <td>Профсоюзная улица</td>\n",
       "      <td>ЮЗАО</td>\n",
       "      <td>Район Коньково</td>\n",
       "    </tr>\n",
       "    <tr>\n",
       "      <td>11</td>\n",
       "      <td>Профсоюзная улица</td>\n",
       "      <td>ЮЗАО</td>\n",
       "      <td>Обручевский район</td>\n",
       "    </tr>\n",
       "    <tr>\n",
       "      <td>12</td>\n",
       "      <td>Профсоюзная улица</td>\n",
       "      <td>ЮЗАО</td>\n",
       "      <td>Район Теплый Стан</td>\n",
       "    </tr>\n",
       "    <tr>\n",
       "      <td>13</td>\n",
       "      <td>Ленинградский проспект</td>\n",
       "      <td>САО</td>\n",
       "      <td>Район Аэропорт</td>\n",
       "    </tr>\n",
       "    <tr>\n",
       "      <td>14</td>\n",
       "      <td>Ленинградский проспект</td>\n",
       "      <td>САО</td>\n",
       "      <td>Район Беговой</td>\n",
       "    </tr>\n",
       "    <tr>\n",
       "      <td>15</td>\n",
       "      <td>Ленинградский проспект</td>\n",
       "      <td>САО</td>\n",
       "      <td>Хорошевский район</td>\n",
       "    </tr>\n",
       "    <tr>\n",
       "      <td>16</td>\n",
       "      <td>Ленинградский проспект</td>\n",
       "      <td>САО</td>\n",
       "      <td>Район Сокол</td>\n",
       "    </tr>\n",
       "    <tr>\n",
       "      <td>17</td>\n",
       "      <td>Пресненская набережная</td>\n",
       "      <td>ЦАО</td>\n",
       "      <td>Пресненский район</td>\n",
       "    </tr>\n",
       "    <tr>\n",
       "      <td>18</td>\n",
       "      <td>Варшавское шоссе</td>\n",
       "      <td>ЮАО</td>\n",
       "      <td>Район Чертаново Центральное</td>\n",
       "    </tr>\n",
       "    <tr>\n",
       "      <td>19</td>\n",
       "      <td>Варшавское шоссе</td>\n",
       "      <td>ЮАО</td>\n",
       "      <td>Район Чертаново Северное</td>\n",
       "    </tr>\n",
       "    <tr>\n",
       "      <td>20</td>\n",
       "      <td>Варшавское шоссе</td>\n",
       "      <td>ЮАО</td>\n",
       "      <td>Район Чертаново Южное</td>\n",
       "    </tr>\n",
       "    <tr>\n",
       "      <td>21</td>\n",
       "      <td>Варшавское шоссе</td>\n",
       "      <td>ЮАО</td>\n",
       "      <td>Донской район</td>\n",
       "    </tr>\n",
       "    <tr>\n",
       "      <td>22</td>\n",
       "      <td>Варшавское шоссе</td>\n",
       "      <td>ЮАО</td>\n",
       "      <td>Район Нагатино-Садовники</td>\n",
       "    </tr>\n",
       "    <tr>\n",
       "      <td>23</td>\n",
       "      <td>Варшавское шоссе</td>\n",
       "      <td>ЮАО</td>\n",
       "      <td>Нагорный район</td>\n",
       "    </tr>\n",
       "    <tr>\n",
       "      <td>24</td>\n",
       "      <td>Варшавское шоссе</td>\n",
       "      <td>ЮЗАО</td>\n",
       "      <td>Район Северное Бутово</td>\n",
       "    </tr>\n",
       "    <tr>\n",
       "      <td>25</td>\n",
       "      <td>Варшавское шоссе</td>\n",
       "      <td>ЮЗАО</td>\n",
       "      <td>Район Южное Бутово</td>\n",
       "    </tr>\n",
       "    <tr>\n",
       "      <td>26</td>\n",
       "      <td>Ленинский проспект</td>\n",
       "      <td>ЗАО</td>\n",
       "      <td>Район Проспект Вернадского</td>\n",
       "    </tr>\n",
       "    <tr>\n",
       "      <td>27</td>\n",
       "      <td>Ленинский проспект</td>\n",
       "      <td>ЗАО</td>\n",
       "      <td>Район Тропарево-Никулино</td>\n",
       "    </tr>\n",
       "    <tr>\n",
       "      <td>28</td>\n",
       "      <td>Ленинский проспект</td>\n",
       "      <td>ЮАО</td>\n",
       "      <td>Донской район</td>\n",
       "    </tr>\n",
       "    <tr>\n",
       "      <td>29</td>\n",
       "      <td>Ленинский проспект</td>\n",
       "      <td>ЮЗАО</td>\n",
       "      <td>Район Гагаринский</td>\n",
       "    </tr>\n",
       "    <tr>\n",
       "      <td>30</td>\n",
       "      <td>Ленинский проспект</td>\n",
       "      <td>ЮЗАО</td>\n",
       "      <td>Ломоносовский район</td>\n",
       "    </tr>\n",
       "    <tr>\n",
       "      <td>31</td>\n",
       "      <td>Ленинский проспект</td>\n",
       "      <td>ЮЗАО</td>\n",
       "      <td>Обручевский район</td>\n",
       "    </tr>\n",
       "    <tr>\n",
       "      <td>32</td>\n",
       "      <td>Ленинский проспект</td>\n",
       "      <td>ЮЗАО</td>\n",
       "      <td>Район Теплый Стан</td>\n",
       "    </tr>\n",
       "    <tr>\n",
       "      <td>33</td>\n",
       "      <td>Ленинский проспект</td>\n",
       "      <td>ЦАО</td>\n",
       "      <td>Район Якиманка</td>\n",
       "    </tr>\n",
       "    <tr>\n",
       "      <td>34</td>\n",
       "      <td>проспект Вернадского</td>\n",
       "      <td>ЗАО</td>\n",
       "      <td>Район Проспект Вернадского</td>\n",
       "    </tr>\n",
       "    <tr>\n",
       "      <td>35</td>\n",
       "      <td>проспект Вернадского</td>\n",
       "      <td>ЗАО</td>\n",
       "      <td>Район Раменки</td>\n",
       "    </tr>\n",
       "    <tr>\n",
       "      <td>36</td>\n",
       "      <td>проспект Вернадского</td>\n",
       "      <td>ЗАО</td>\n",
       "      <td>Район Тропарево-Никулино</td>\n",
       "    </tr>\n",
       "    <tr>\n",
       "      <td>37</td>\n",
       "      <td>проспект Вернадского</td>\n",
       "      <td>ЮЗАО</td>\n",
       "      <td>Район Гагаринский</td>\n",
       "    </tr>\n",
       "    <tr>\n",
       "      <td>38</td>\n",
       "      <td>проспект Вернадского</td>\n",
       "      <td>ЮЗАО</td>\n",
       "      <td>Ломоносовский район</td>\n",
       "    </tr>\n",
       "    <tr>\n",
       "      <td>39</td>\n",
       "      <td>Кутузовский проспект</td>\n",
       "      <td>ЗАО</td>\n",
       "      <td>Район Дорогомилово</td>\n",
       "    </tr>\n",
       "    <tr>\n",
       "      <td>40</td>\n",
       "      <td>Кутузовский проспект</td>\n",
       "      <td>ЗАО</td>\n",
       "      <td>Район Фили-Давыдково</td>\n",
       "    </tr>\n",
       "    <tr>\n",
       "      <td>41</td>\n",
       "      <td>Каширское шоссе</td>\n",
       "      <td>ЮАО</td>\n",
       "      <td>Район Москворечье-Сабурово</td>\n",
       "    </tr>\n",
       "    <tr>\n",
       "      <td>42</td>\n",
       "      <td>Каширское шоссе</td>\n",
       "      <td>ЮАО</td>\n",
       "      <td>Район Нагатино-Садовники</td>\n",
       "    </tr>\n",
       "    <tr>\n",
       "      <td>43</td>\n",
       "      <td>Каширское шоссе</td>\n",
       "      <td>ЮАО</td>\n",
       "      <td>Район Орехово-Борисово Южное</td>\n",
       "    </tr>\n",
       "    <tr>\n",
       "      <td>44</td>\n",
       "      <td>Каширское шоссе</td>\n",
       "      <td>ЮАО</td>\n",
       "      <td>Район Орехово-Борисово Северное</td>\n",
       "    </tr>\n",
       "    <tr>\n",
       "      <td>45</td>\n",
       "      <td>Кировоградская улица</td>\n",
       "      <td>ЮАО</td>\n",
       "      <td>Район Чертаново Центральное</td>\n",
       "    </tr>\n",
       "    <tr>\n",
       "      <td>46</td>\n",
       "      <td>Кировоградская улица</td>\n",
       "      <td>ЮАО</td>\n",
       "      <td>Район Чертаново Северное</td>\n",
       "    </tr>\n",
       "    <tr>\n",
       "      <td>47</td>\n",
       "      <td>Кировоградская улица</td>\n",
       "      <td>ЮАО</td>\n",
       "      <td>Район Чертаново Южное</td>\n",
       "    </tr>\n",
       "  </tbody>\n",
       "</table>\n",
       "</div>"
      ],
      "text/plain": [
       "                    street okrug                             area\n",
       "0            проспект Мира  СВАО               Алексеевский район\n",
       "1            проспект Мира  СВАО                Ярославский Район\n",
       "2            проспект Мира  СВАО               Район Марьина роща\n",
       "3            проспект Мира  СВАО               Останкинский район\n",
       "4            проспект Мира  СВАО                  Район Ростокино\n",
       "5            проспект Мира  СВАО                   Район Свиблово\n",
       "6            проспект Мира   ЦАО                  Мещанский район\n",
       "7        Профсоюзная улица  ЮЗАО              Академический район\n",
       "8        Профсоюзная улица  ЮЗАО                  Район Черемушки\n",
       "9        Профсоюзная улица  ЮЗАО                    Район Ясенево\n",
       "10       Профсоюзная улица  ЮЗАО                   Район Коньково\n",
       "11       Профсоюзная улица  ЮЗАО                Обручевский район\n",
       "12       Профсоюзная улица  ЮЗАО                Район Теплый Стан\n",
       "13  Ленинградский проспект   САО                   Район Аэропорт\n",
       "14  Ленинградский проспект   САО                    Район Беговой\n",
       "15  Ленинградский проспект   САО                Хорошевский район\n",
       "16  Ленинградский проспект   САО                      Район Сокол\n",
       "17  Пресненская набережная   ЦАО                Пресненский район\n",
       "18        Варшавское шоссе   ЮАО      Район Чертаново Центральное\n",
       "19        Варшавское шоссе   ЮАО         Район Чертаново Северное\n",
       "20        Варшавское шоссе   ЮАО            Район Чертаново Южное\n",
       "21        Варшавское шоссе   ЮАО                    Донской район\n",
       "22        Варшавское шоссе   ЮАО         Район Нагатино-Садовники\n",
       "23        Варшавское шоссе   ЮАО                   Нагорный район\n",
       "24        Варшавское шоссе  ЮЗАО            Район Северное Бутово\n",
       "25        Варшавское шоссе  ЮЗАО               Район Южное Бутово\n",
       "26      Ленинский проспект   ЗАО       Район Проспект Вернадского\n",
       "27      Ленинский проспект   ЗАО         Район Тропарево-Никулино\n",
       "28      Ленинский проспект   ЮАО                    Донской район\n",
       "29      Ленинский проспект  ЮЗАО                Район Гагаринский\n",
       "30      Ленинский проспект  ЮЗАО              Ломоносовский район\n",
       "31      Ленинский проспект  ЮЗАО                Обручевский район\n",
       "32      Ленинский проспект  ЮЗАО                Район Теплый Стан\n",
       "33      Ленинский проспект   ЦАО                   Район Якиманка\n",
       "34    проспект Вернадского   ЗАО       Район Проспект Вернадского\n",
       "35    проспект Вернадского   ЗАО                    Район Раменки\n",
       "36    проспект Вернадского   ЗАО         Район Тропарево-Никулино\n",
       "37    проспект Вернадского  ЮЗАО                Район Гагаринский\n",
       "38    проспект Вернадского  ЮЗАО              Ломоносовский район\n",
       "39    Кутузовский проспект   ЗАО               Район Дорогомилово\n",
       "40    Кутузовский проспект   ЗАО             Район Фили-Давыдково\n",
       "41         Каширское шоссе   ЮАО       Район Москворечье-Сабурово\n",
       "42         Каширское шоссе   ЮАО         Район Нагатино-Садовники\n",
       "43         Каширское шоссе   ЮАО     Район Орехово-Борисово Южное\n",
       "44         Каширское шоссе   ЮАО  Район Орехово-Борисово Северное\n",
       "45    Кировоградская улица   ЮАО      Район Чертаново Центральное\n",
       "46    Кировоградская улица   ЮАО         Район Чертаново Северное\n",
       "47    Кировоградская улица   ЮАО            Район Чертаново Южное"
      ]
     },
     "execution_count": 61,
     "metadata": {},
     "output_type": "execute_result"
    }
   ],
   "source": [
    "top_10_streets_area = top_10_streets.merge(streets, left_on='street', right_on='streetname')\n",
    "top_10_streets_area = top_10_streets_area[['street', 'okrug', 'area']]\n",
    "top_10_streets_area"
   ]
  },
  {
   "cell_type": "code",
   "execution_count": 62,
   "metadata": {},
   "outputs": [
    {
     "data": {
      "text/html": [
       "<div>\n",
       "<style scoped>\n",
       "    .dataframe tbody tr th:only-of-type {\n",
       "        vertical-align: middle;\n",
       "    }\n",
       "\n",
       "    .dataframe tbody tr th {\n",
       "        vertical-align: top;\n",
       "    }\n",
       "\n",
       "    .dataframe thead th {\n",
       "        text-align: right;\n",
       "    }\n",
       "</style>\n",
       "<table border=\"1\" class=\"dataframe\">\n",
       "  <thead>\n",
       "    <tr style=\"text-align: right;\">\n",
       "      <th></th>\n",
       "      <th>okrug</th>\n",
       "      <th>area</th>\n",
       "      <th>street</th>\n",
       "    </tr>\n",
       "  </thead>\n",
       "  <tbody>\n",
       "    <tr>\n",
       "      <td>0</td>\n",
       "      <td>ЗАО</td>\n",
       "      <td>Район Дорогомилово</td>\n",
       "      <td>1</td>\n",
       "    </tr>\n",
       "    <tr>\n",
       "      <td>1</td>\n",
       "      <td>ЗАО</td>\n",
       "      <td>Район Проспект Вернадского</td>\n",
       "      <td>2</td>\n",
       "    </tr>\n",
       "    <tr>\n",
       "      <td>2</td>\n",
       "      <td>ЗАО</td>\n",
       "      <td>Район Раменки</td>\n",
       "      <td>1</td>\n",
       "    </tr>\n",
       "    <tr>\n",
       "      <td>3</td>\n",
       "      <td>ЗАО</td>\n",
       "      <td>Район Тропарево-Никулино</td>\n",
       "      <td>2</td>\n",
       "    </tr>\n",
       "    <tr>\n",
       "      <td>4</td>\n",
       "      <td>ЗАО</td>\n",
       "      <td>Район Фили-Давыдково</td>\n",
       "      <td>1</td>\n",
       "    </tr>\n",
       "    <tr>\n",
       "      <td>5</td>\n",
       "      <td>САО</td>\n",
       "      <td>Район Аэропорт</td>\n",
       "      <td>1</td>\n",
       "    </tr>\n",
       "    <tr>\n",
       "      <td>6</td>\n",
       "      <td>САО</td>\n",
       "      <td>Район Беговой</td>\n",
       "      <td>1</td>\n",
       "    </tr>\n",
       "    <tr>\n",
       "      <td>7</td>\n",
       "      <td>САО</td>\n",
       "      <td>Район Сокол</td>\n",
       "      <td>1</td>\n",
       "    </tr>\n",
       "    <tr>\n",
       "      <td>8</td>\n",
       "      <td>САО</td>\n",
       "      <td>Хорошевский район</td>\n",
       "      <td>1</td>\n",
       "    </tr>\n",
       "    <tr>\n",
       "      <td>9</td>\n",
       "      <td>СВАО</td>\n",
       "      <td>Алексеевский район</td>\n",
       "      <td>1</td>\n",
       "    </tr>\n",
       "    <tr>\n",
       "      <td>10</td>\n",
       "      <td>СВАО</td>\n",
       "      <td>Останкинский район</td>\n",
       "      <td>1</td>\n",
       "    </tr>\n",
       "    <tr>\n",
       "      <td>11</td>\n",
       "      <td>СВАО</td>\n",
       "      <td>Район Марьина роща</td>\n",
       "      <td>1</td>\n",
       "    </tr>\n",
       "    <tr>\n",
       "      <td>12</td>\n",
       "      <td>СВАО</td>\n",
       "      <td>Район Ростокино</td>\n",
       "      <td>1</td>\n",
       "    </tr>\n",
       "    <tr>\n",
       "      <td>13</td>\n",
       "      <td>СВАО</td>\n",
       "      <td>Район Свиблово</td>\n",
       "      <td>1</td>\n",
       "    </tr>\n",
       "    <tr>\n",
       "      <td>14</td>\n",
       "      <td>СВАО</td>\n",
       "      <td>Ярославский Район</td>\n",
       "      <td>1</td>\n",
       "    </tr>\n",
       "    <tr>\n",
       "      <td>15</td>\n",
       "      <td>ЦАО</td>\n",
       "      <td>Мещанский район</td>\n",
       "      <td>1</td>\n",
       "    </tr>\n",
       "    <tr>\n",
       "      <td>16</td>\n",
       "      <td>ЦАО</td>\n",
       "      <td>Пресненский район</td>\n",
       "      <td>1</td>\n",
       "    </tr>\n",
       "    <tr>\n",
       "      <td>17</td>\n",
       "      <td>ЦАО</td>\n",
       "      <td>Район Якиманка</td>\n",
       "      <td>1</td>\n",
       "    </tr>\n",
       "    <tr>\n",
       "      <td>18</td>\n",
       "      <td>ЮАО</td>\n",
       "      <td>Донской район</td>\n",
       "      <td>2</td>\n",
       "    </tr>\n",
       "    <tr>\n",
       "      <td>19</td>\n",
       "      <td>ЮАО</td>\n",
       "      <td>Нагорный район</td>\n",
       "      <td>1</td>\n",
       "    </tr>\n",
       "    <tr>\n",
       "      <td>20</td>\n",
       "      <td>ЮАО</td>\n",
       "      <td>Район Москворечье-Сабурово</td>\n",
       "      <td>1</td>\n",
       "    </tr>\n",
       "    <tr>\n",
       "      <td>21</td>\n",
       "      <td>ЮАО</td>\n",
       "      <td>Район Нагатино-Садовники</td>\n",
       "      <td>2</td>\n",
       "    </tr>\n",
       "    <tr>\n",
       "      <td>22</td>\n",
       "      <td>ЮАО</td>\n",
       "      <td>Район Орехово-Борисово Северное</td>\n",
       "      <td>1</td>\n",
       "    </tr>\n",
       "    <tr>\n",
       "      <td>23</td>\n",
       "      <td>ЮАО</td>\n",
       "      <td>Район Орехово-Борисово Южное</td>\n",
       "      <td>1</td>\n",
       "    </tr>\n",
       "    <tr>\n",
       "      <td>24</td>\n",
       "      <td>ЮАО</td>\n",
       "      <td>Район Чертаново Северное</td>\n",
       "      <td>2</td>\n",
       "    </tr>\n",
       "    <tr>\n",
       "      <td>25</td>\n",
       "      <td>ЮАО</td>\n",
       "      <td>Район Чертаново Центральное</td>\n",
       "      <td>2</td>\n",
       "    </tr>\n",
       "    <tr>\n",
       "      <td>26</td>\n",
       "      <td>ЮАО</td>\n",
       "      <td>Район Чертаново Южное</td>\n",
       "      <td>2</td>\n",
       "    </tr>\n",
       "    <tr>\n",
       "      <td>27</td>\n",
       "      <td>ЮЗАО</td>\n",
       "      <td>Академический район</td>\n",
       "      <td>1</td>\n",
       "    </tr>\n",
       "    <tr>\n",
       "      <td>28</td>\n",
       "      <td>ЮЗАО</td>\n",
       "      <td>Ломоносовский район</td>\n",
       "      <td>2</td>\n",
       "    </tr>\n",
       "    <tr>\n",
       "      <td>29</td>\n",
       "      <td>ЮЗАО</td>\n",
       "      <td>Обручевский район</td>\n",
       "      <td>2</td>\n",
       "    </tr>\n",
       "    <tr>\n",
       "      <td>30</td>\n",
       "      <td>ЮЗАО</td>\n",
       "      <td>Район Гагаринский</td>\n",
       "      <td>2</td>\n",
       "    </tr>\n",
       "    <tr>\n",
       "      <td>31</td>\n",
       "      <td>ЮЗАО</td>\n",
       "      <td>Район Коньково</td>\n",
       "      <td>1</td>\n",
       "    </tr>\n",
       "    <tr>\n",
       "      <td>32</td>\n",
       "      <td>ЮЗАО</td>\n",
       "      <td>Район Северное Бутово</td>\n",
       "      <td>1</td>\n",
       "    </tr>\n",
       "    <tr>\n",
       "      <td>33</td>\n",
       "      <td>ЮЗАО</td>\n",
       "      <td>Район Теплый Стан</td>\n",
       "      <td>2</td>\n",
       "    </tr>\n",
       "    <tr>\n",
       "      <td>34</td>\n",
       "      <td>ЮЗАО</td>\n",
       "      <td>Район Черемушки</td>\n",
       "      <td>1</td>\n",
       "    </tr>\n",
       "    <tr>\n",
       "      <td>35</td>\n",
       "      <td>ЮЗАО</td>\n",
       "      <td>Район Южное Бутово</td>\n",
       "      <td>1</td>\n",
       "    </tr>\n",
       "    <tr>\n",
       "      <td>36</td>\n",
       "      <td>ЮЗАО</td>\n",
       "      <td>Район Ясенево</td>\n",
       "      <td>1</td>\n",
       "    </tr>\n",
       "  </tbody>\n",
       "</table>\n",
       "</div>"
      ],
      "text/plain": [
       "   okrug                             area  street\n",
       "0    ЗАО               Район Дорогомилово       1\n",
       "1    ЗАО       Район Проспект Вернадского       2\n",
       "2    ЗАО                    Район Раменки       1\n",
       "3    ЗАО         Район Тропарево-Никулино       2\n",
       "4    ЗАО             Район Фили-Давыдково       1\n",
       "5    САО                   Район Аэропорт       1\n",
       "6    САО                    Район Беговой       1\n",
       "7    САО                      Район Сокол       1\n",
       "8    САО                Хорошевский район       1\n",
       "9   СВАО               Алексеевский район       1\n",
       "10  СВАО               Останкинский район       1\n",
       "11  СВАО               Район Марьина роща       1\n",
       "12  СВАО                  Район Ростокино       1\n",
       "13  СВАО                   Район Свиблово       1\n",
       "14  СВАО                Ярославский Район       1\n",
       "15   ЦАО                  Мещанский район       1\n",
       "16   ЦАО                Пресненский район       1\n",
       "17   ЦАО                   Район Якиманка       1\n",
       "18   ЮАО                    Донской район       2\n",
       "19   ЮАО                   Нагорный район       1\n",
       "20   ЮАО       Район Москворечье-Сабурово       1\n",
       "21   ЮАО         Район Нагатино-Садовники       2\n",
       "22   ЮАО  Район Орехово-Борисово Северное       1\n",
       "23   ЮАО     Район Орехово-Борисово Южное       1\n",
       "24   ЮАО         Район Чертаново Северное       2\n",
       "25   ЮАО      Район Чертаново Центральное       2\n",
       "26   ЮАО            Район Чертаново Южное       2\n",
       "27  ЮЗАО              Академический район       1\n",
       "28  ЮЗАО              Ломоносовский район       2\n",
       "29  ЮЗАО                Обручевский район       2\n",
       "30  ЮЗАО                Район Гагаринский       2\n",
       "31  ЮЗАО                   Район Коньково       1\n",
       "32  ЮЗАО            Район Северное Бутово       1\n",
       "33  ЮЗАО                Район Теплый Стан       2\n",
       "34  ЮЗАО                  Район Черемушки       1\n",
       "35  ЮЗАО               Район Южное Бутово       1\n",
       "36  ЮЗАО                    Район Ясенево       1"
      ]
     },
     "execution_count": 62,
     "metadata": {},
     "output_type": "execute_result"
    }
   ],
   "source": [
    "top_10_streets_area.groupby(['okrug','area']).agg({'street' : 'count'}).reset_index().rename({'street':'number_street'})\n"
   ]
  },
  {
   "cell_type": "markdown",
   "metadata": {},
   "source": [
    "Найдем число улиц с одним объектом общественного питания."
   ]
  },
  {
   "cell_type": "code",
   "execution_count": 63,
   "metadata": {
    "scrolled": true
   },
   "outputs": [
    {
     "data": {
      "text/plain": [
       "553"
      ]
     },
     "execution_count": 63,
     "metadata": {},
     "output_type": "execute_result"
    }
   ],
   "source": [
    "streets_1_rest = (rest_data.groupby('street')\n",
    "                  .agg({'id':'count'})\n",
    "                  .reset_index()\n",
    "                  )\n",
    "streets_1_rest.rename(\n",
    "    columns={\n",
    "        'id': 'rest_number'\n",
    "    },\n",
    "    inplace=True\n",
    ")   \n",
    "streets_1_rest = streets_1_rest.query('rest_number == 1')\n",
    "len(streets_1_rest)"
   ]
  },
  {
   "cell_type": "markdown",
   "metadata": {},
   "source": [
    "В Москве на 553 улицах располагается 1 объект общественного питания. Посмотрим, в каких районах Москвы находятся эти улицы."
   ]
  },
  {
   "cell_type": "code",
   "execution_count": 64,
   "metadata": {},
   "outputs": [
    {
     "data": {
      "text/html": [
       "<div>\n",
       "<style scoped>\n",
       "    .dataframe tbody tr th:only-of-type {\n",
       "        vertical-align: middle;\n",
       "    }\n",
       "\n",
       "    .dataframe tbody tr th {\n",
       "        vertical-align: top;\n",
       "    }\n",
       "\n",
       "    .dataframe thead th {\n",
       "        text-align: right;\n",
       "    }\n",
       "</style>\n",
       "<table border=\"1\" class=\"dataframe\">\n",
       "  <thead>\n",
       "    <tr style=\"text-align: right;\">\n",
       "      <th></th>\n",
       "      <th>street</th>\n",
       "      <th>rest_number</th>\n",
       "    </tr>\n",
       "  </thead>\n",
       "  <tbody>\n",
       "    <tr>\n",
       "      <td>2</td>\n",
       "      <td>1-й Балтийский переулок</td>\n",
       "      <td>1</td>\n",
       "    </tr>\n",
       "    <tr>\n",
       "      <td>3</td>\n",
       "      <td>1-й Басманный переулок</td>\n",
       "      <td>1</td>\n",
       "    </tr>\n",
       "    <tr>\n",
       "      <td>4</td>\n",
       "      <td>1-й Ботанический проезд</td>\n",
       "      <td>1</td>\n",
       "    </tr>\n",
       "    <tr>\n",
       "      <td>7</td>\n",
       "      <td>1-й Вешняковский проезд</td>\n",
       "      <td>1</td>\n",
       "    </tr>\n",
       "    <tr>\n",
       "      <td>9</td>\n",
       "      <td>1-й Голутвинский переулок</td>\n",
       "      <td>1</td>\n",
       "    </tr>\n",
       "  </tbody>\n",
       "</table>\n",
       "</div>"
      ],
      "text/plain": [
       "                      street  rest_number\n",
       "2    1-й Балтийский переулок            1\n",
       "3     1-й Басманный переулок            1\n",
       "4    1-й Ботанический проезд            1\n",
       "7    1-й Вешняковский проезд            1\n",
       "9  1-й Голутвинский переулок            1"
      ]
     },
     "execution_count": 64,
     "metadata": {},
     "output_type": "execute_result"
    }
   ],
   "source": [
    "streets_1_rest.head()"
   ]
  },
  {
   "cell_type": "code",
   "execution_count": 65,
   "metadata": {},
   "outputs": [
    {
     "data": {
      "text/html": [
       "<div>\n",
       "<style scoped>\n",
       "    .dataframe tbody tr th:only-of-type {\n",
       "        vertical-align: middle;\n",
       "    }\n",
       "\n",
       "    .dataframe tbody tr th {\n",
       "        vertical-align: top;\n",
       "    }\n",
       "\n",
       "    .dataframe thead th {\n",
       "        text-align: right;\n",
       "    }\n",
       "</style>\n",
       "<table border=\"1\" class=\"dataframe\">\n",
       "  <thead>\n",
       "    <tr style=\"text-align: right;\">\n",
       "      <th></th>\n",
       "      <th>street</th>\n",
       "      <th>rest_number</th>\n",
       "      <th>streetname</th>\n",
       "      <th>areaid</th>\n",
       "      <th>okrug</th>\n",
       "      <th>area</th>\n",
       "    </tr>\n",
       "  </thead>\n",
       "  <tbody>\n",
       "    <tr>\n",
       "      <td>0</td>\n",
       "      <td>1-й Балтийский переулок</td>\n",
       "      <td>1</td>\n",
       "      <td>1-й Балтийский переулок</td>\n",
       "      <td>54</td>\n",
       "      <td>САО</td>\n",
       "      <td>Район Аэропорт</td>\n",
       "    </tr>\n",
       "    <tr>\n",
       "      <td>1</td>\n",
       "      <td>1-й Басманный переулок</td>\n",
       "      <td>1</td>\n",
       "      <td>1-й Басманный переулок</td>\n",
       "      <td>13</td>\n",
       "      <td>ЦАО</td>\n",
       "      <td>Басманный район</td>\n",
       "    </tr>\n",
       "    <tr>\n",
       "      <td>2</td>\n",
       "      <td>1-й Басманный переулок</td>\n",
       "      <td>1</td>\n",
       "      <td>1-й Басманный переулок</td>\n",
       "      <td>15</td>\n",
       "      <td>ЦАО</td>\n",
       "      <td>Красносельский район</td>\n",
       "    </tr>\n",
       "    <tr>\n",
       "      <td>3</td>\n",
       "      <td>1-й Ботанический проезд</td>\n",
       "      <td>1</td>\n",
       "      <td>1-й Ботанический проезд</td>\n",
       "      <td>82</td>\n",
       "      <td>СВАО</td>\n",
       "      <td>Район Свиблово</td>\n",
       "    </tr>\n",
       "    <tr>\n",
       "      <td>4</td>\n",
       "      <td>1-й Вешняковский проезд</td>\n",
       "      <td>1</td>\n",
       "      <td>1-й Вешняковский проезд</td>\n",
       "      <td>120</td>\n",
       "      <td>ЮВАО</td>\n",
       "      <td>Рязанский район</td>\n",
       "    </tr>\n",
       "  </tbody>\n",
       "</table>\n",
       "</div>"
      ],
      "text/plain": [
       "                    street  rest_number               streetname  areaid  \\\n",
       "0  1-й Балтийский переулок            1  1-й Балтийский переулок      54   \n",
       "1   1-й Басманный переулок            1   1-й Басманный переулок      13   \n",
       "2   1-й Басманный переулок            1   1-й Басманный переулок      15   \n",
       "3  1-й Ботанический проезд            1  1-й Ботанический проезд      82   \n",
       "4  1-й Вешняковский проезд            1  1-й Вешняковский проезд     120   \n",
       "\n",
       "  okrug                  area  \n",
       "0   САО        Район Аэропорт  \n",
       "1   ЦАО       Басманный район  \n",
       "2   ЦАО  Красносельский район  \n",
       "3  СВАО        Район Свиблово  \n",
       "4  ЮВАО       Рязанский район  "
      ]
     },
     "execution_count": 65,
     "metadata": {},
     "output_type": "execute_result"
    }
   ],
   "source": [
    "streets_1_rest = streets_1_rest.merge(streets, left_on='street', right_on='streetname')\n",
    "streets_1_rest.head()"
   ]
  },
  {
   "cell_type": "code",
   "execution_count": 66,
   "metadata": {},
   "outputs": [],
   "source": [
    "streets_1_rest = streets_1_rest[['street', 'okrug', 'area']]\n",
    "streets_1_rest = streets_1_rest.groupby(['okrug','area']).agg({'street' : 'count'}).reset_index()\n",
    "streets_1_rest = streets_1_rest.rename(columns = {'street':'street_number'})"
   ]
  },
  {
   "cell_type": "code",
   "execution_count": 67,
   "metadata": {},
   "outputs": [
    {
     "data": {
      "text/html": [
       "<div>\n",
       "<style scoped>\n",
       "    .dataframe tbody tr th:only-of-type {\n",
       "        vertical-align: middle;\n",
       "    }\n",
       "\n",
       "    .dataframe tbody tr th {\n",
       "        vertical-align: top;\n",
       "    }\n",
       "\n",
       "    .dataframe thead th {\n",
       "        text-align: right;\n",
       "    }\n",
       "</style>\n",
       "<table border=\"1\" class=\"dataframe\">\n",
       "  <thead>\n",
       "    <tr style=\"text-align: right;\">\n",
       "      <th></th>\n",
       "      <th>okrug</th>\n",
       "      <th>area</th>\n",
       "      <th>street_number</th>\n",
       "    </tr>\n",
       "  </thead>\n",
       "  <tbody>\n",
       "    <tr>\n",
       "      <td>71</td>\n",
       "      <td>ЦАО</td>\n",
       "      <td>Таганский район</td>\n",
       "      <td>27</td>\n",
       "    </tr>\n",
       "    <tr>\n",
       "      <td>69</td>\n",
       "      <td>ЦАО</td>\n",
       "      <td>Район Хамовники</td>\n",
       "      <td>26</td>\n",
       "    </tr>\n",
       "    <tr>\n",
       "      <td>63</td>\n",
       "      <td>ЦАО</td>\n",
       "      <td>Басманный район</td>\n",
       "      <td>25</td>\n",
       "    </tr>\n",
       "    <tr>\n",
       "      <td>72</td>\n",
       "      <td>ЦАО</td>\n",
       "      <td>Тверской район</td>\n",
       "      <td>20</td>\n",
       "    </tr>\n",
       "    <tr>\n",
       "      <td>66</td>\n",
       "      <td>ЦАО</td>\n",
       "      <td>Пресненский район</td>\n",
       "      <td>19</td>\n",
       "    </tr>\n",
       "    <tr>\n",
       "      <td>48</td>\n",
       "      <td>СВАО</td>\n",
       "      <td>Район Марьина роща</td>\n",
       "      <td>18</td>\n",
       "    </tr>\n",
       "    <tr>\n",
       "      <td>65</td>\n",
       "      <td>ЦАО</td>\n",
       "      <td>Мещанский район</td>\n",
       "      <td>17</td>\n",
       "    </tr>\n",
       "    <tr>\n",
       "      <td>67</td>\n",
       "      <td>ЦАО</td>\n",
       "      <td>Район Арбат</td>\n",
       "      <td>17</td>\n",
       "    </tr>\n",
       "    <tr>\n",
       "      <td>68</td>\n",
       "      <td>ЦАО</td>\n",
       "      <td>Район Замоскворечье</td>\n",
       "      <td>14</td>\n",
       "    </tr>\n",
       "    <tr>\n",
       "      <td>84</td>\n",
       "      <td>ЮВАО</td>\n",
       "      <td>Район Лефортово</td>\n",
       "      <td>12</td>\n",
       "    </tr>\n",
       "    <tr>\n",
       "      <td>12</td>\n",
       "      <td>ВАО</td>\n",
       "      <td>Район Соколиная Гора</td>\n",
       "      <td>12</td>\n",
       "    </tr>\n",
       "    <tr>\n",
       "      <td>70</td>\n",
       "      <td>ЦАО</td>\n",
       "      <td>Район Якиманка</td>\n",
       "      <td>11</td>\n",
       "    </tr>\n",
       "    <tr>\n",
       "      <td>73</td>\n",
       "      <td>ЮАО</td>\n",
       "      <td>Даниловский район</td>\n",
       "      <td>11</td>\n",
       "    </tr>\n",
       "    <tr>\n",
       "      <td>13</td>\n",
       "      <td>ВАО</td>\n",
       "      <td>Район Сокольники</td>\n",
       "      <td>11</td>\n",
       "    </tr>\n",
       "    <tr>\n",
       "      <td>64</td>\n",
       "      <td>ЦАО</td>\n",
       "      <td>Красносельский район</td>\n",
       "      <td>10</td>\n",
       "    </tr>\n",
       "    <tr>\n",
       "      <td>0</td>\n",
       "      <td>ВАО</td>\n",
       "      <td>Район Богородское</td>\n",
       "      <td>10</td>\n",
       "    </tr>\n",
       "    <tr>\n",
       "      <td>15</td>\n",
       "      <td>ЗАО</td>\n",
       "      <td>Район Внуково</td>\n",
       "      <td>9</td>\n",
       "    </tr>\n",
       "    <tr>\n",
       "      <td>98</td>\n",
       "      <td>ЮЗАО</td>\n",
       "      <td>Район Южное Бутово</td>\n",
       "      <td>9</td>\n",
       "    </tr>\n",
       "    <tr>\n",
       "      <td>81</td>\n",
       "      <td>ЮВАО</td>\n",
       "      <td>Нижегородский район</td>\n",
       "      <td>9</td>\n",
       "    </tr>\n",
       "    <tr>\n",
       "      <td>85</td>\n",
       "      <td>ЮВАО</td>\n",
       "      <td>Район Люблино</td>\n",
       "      <td>8</td>\n",
       "    </tr>\n",
       "    <tr>\n",
       "      <td>14</td>\n",
       "      <td>ЗАО</td>\n",
       "      <td>Можайский Район</td>\n",
       "      <td>8</td>\n",
       "    </tr>\n",
       "    <tr>\n",
       "      <td>32</td>\n",
       "      <td>САО</td>\n",
       "      <td>Район Аэропорт</td>\n",
       "      <td>8</td>\n",
       "    </tr>\n",
       "    <tr>\n",
       "      <td>41</td>\n",
       "      <td>СВАО</td>\n",
       "      <td>Алексеевский район</td>\n",
       "      <td>7</td>\n",
       "    </tr>\n",
       "    <tr>\n",
       "      <td>45</td>\n",
       "      <td>СВАО</td>\n",
       "      <td>Лосиноостровский район</td>\n",
       "      <td>7</td>\n",
       "    </tr>\n",
       "    <tr>\n",
       "      <td>39</td>\n",
       "      <td>САО</td>\n",
       "      <td>Тимирязевский Район</td>\n",
       "      <td>7</td>\n",
       "    </tr>\n",
       "    <tr>\n",
       "      <td>10</td>\n",
       "      <td>ВАО</td>\n",
       "      <td>Район Преображенское</td>\n",
       "      <td>7</td>\n",
       "    </tr>\n",
       "    <tr>\n",
       "      <td>5</td>\n",
       "      <td>ВАО</td>\n",
       "      <td>Район Измайлово</td>\n",
       "      <td>6</td>\n",
       "    </tr>\n",
       "    <tr>\n",
       "      <td>17</td>\n",
       "      <td>ЗАО</td>\n",
       "      <td>Район Кунцево</td>\n",
       "      <td>6</td>\n",
       "    </tr>\n",
       "    <tr>\n",
       "      <td>30</td>\n",
       "      <td>САО</td>\n",
       "      <td>Дмитровский район</td>\n",
       "      <td>6</td>\n",
       "    </tr>\n",
       "    <tr>\n",
       "      <td>60</td>\n",
       "      <td>СЗАО</td>\n",
       "      <td>Район Хорошево-Мневники</td>\n",
       "      <td>6</td>\n",
       "    </tr>\n",
       "    <tr>\n",
       "      <td>21</td>\n",
       "      <td>ЗАО</td>\n",
       "      <td>Район Солнцево</td>\n",
       "      <td>6</td>\n",
       "    </tr>\n",
       "    <tr>\n",
       "      <td>74</td>\n",
       "      <td>ЮАО</td>\n",
       "      <td>Донской район</td>\n",
       "      <td>6</td>\n",
       "    </tr>\n",
       "    <tr>\n",
       "      <td>38</td>\n",
       "      <td>САО</td>\n",
       "      <td>Савеловский район</td>\n",
       "      <td>6</td>\n",
       "    </tr>\n",
       "    <tr>\n",
       "      <td>82</td>\n",
       "      <td>ЮВАО</td>\n",
       "      <td>Район Выхино-Жулебино</td>\n",
       "      <td>5</td>\n",
       "    </tr>\n",
       "    <tr>\n",
       "      <td>89</td>\n",
       "      <td>ЮВАО</td>\n",
       "      <td>Рязанский район</td>\n",
       "      <td>5</td>\n",
       "    </tr>\n",
       "    <tr>\n",
       "      <td>62</td>\n",
       "      <td>СЗАО</td>\n",
       "      <td>Район Южное Тушино</td>\n",
       "      <td>5</td>\n",
       "    </tr>\n",
       "    <tr>\n",
       "      <td>61</td>\n",
       "      <td>СЗАО</td>\n",
       "      <td>Район Щукино</td>\n",
       "      <td>5</td>\n",
       "    </tr>\n",
       "    <tr>\n",
       "      <td>57</td>\n",
       "      <td>СЗАО</td>\n",
       "      <td>Район Митино</td>\n",
       "      <td>5</td>\n",
       "    </tr>\n",
       "    <tr>\n",
       "      <td>40</td>\n",
       "      <td>САО</td>\n",
       "      <td>Хорошевский район</td>\n",
       "      <td>5</td>\n",
       "    </tr>\n",
       "    <tr>\n",
       "      <td>90</td>\n",
       "      <td>ЮВАО</td>\n",
       "      <td>Южнопортовый Район</td>\n",
       "      <td>5</td>\n",
       "    </tr>\n",
       "    <tr>\n",
       "      <td>50</td>\n",
       "      <td>СВАО</td>\n",
       "      <td>Район Ростокино</td>\n",
       "      <td>5</td>\n",
       "    </tr>\n",
       "    <tr>\n",
       "      <td>99</td>\n",
       "      <td>ЮЗАО</td>\n",
       "      <td>Район Ясенево</td>\n",
       "      <td>5</td>\n",
       "    </tr>\n",
       "    <tr>\n",
       "      <td>29</td>\n",
       "      <td>САО</td>\n",
       "      <td>Головинский район</td>\n",
       "      <td>5</td>\n",
       "    </tr>\n",
       "    <tr>\n",
       "      <td>18</td>\n",
       "      <td>ЗАО</td>\n",
       "      <td>Район Ново-Переделкино</td>\n",
       "      <td>5</td>\n",
       "    </tr>\n",
       "    <tr>\n",
       "      <td>93</td>\n",
       "      <td>ЮЗАО</td>\n",
       "      <td>Район Зюзино</td>\n",
       "      <td>4</td>\n",
       "    </tr>\n",
       "    <tr>\n",
       "      <td>3</td>\n",
       "      <td>ВАО</td>\n",
       "      <td>Район Гольяново</td>\n",
       "      <td>4</td>\n",
       "    </tr>\n",
       "    <tr>\n",
       "      <td>87</td>\n",
       "      <td>ЮВАО</td>\n",
       "      <td>Район Печатники</td>\n",
       "      <td>4</td>\n",
       "    </tr>\n",
       "    <tr>\n",
       "      <td>6</td>\n",
       "      <td>ВАО</td>\n",
       "      <td>Район Косино-Ухтомский</td>\n",
       "      <td>4</td>\n",
       "    </tr>\n",
       "    <tr>\n",
       "      <td>83</td>\n",
       "      <td>ЮВАО</td>\n",
       "      <td>Район Кузьминки</td>\n",
       "      <td>4</td>\n",
       "    </tr>\n",
       "    <tr>\n",
       "      <td>75</td>\n",
       "      <td>ЮАО</td>\n",
       "      <td>Нагорный район</td>\n",
       "      <td>4</td>\n",
       "    </tr>\n",
       "    <tr>\n",
       "      <td>16</td>\n",
       "      <td>ЗАО</td>\n",
       "      <td>Район Дорогомилово</td>\n",
       "      <td>4</td>\n",
       "    </tr>\n",
       "    <tr>\n",
       "      <td>37</td>\n",
       "      <td>САО</td>\n",
       "      <td>Район Сокол</td>\n",
       "      <td>4</td>\n",
       "    </tr>\n",
       "    <tr>\n",
       "      <td>51</td>\n",
       "      <td>СВАО</td>\n",
       "      <td>Район Свиблово</td>\n",
       "      <td>4</td>\n",
       "    </tr>\n",
       "    <tr>\n",
       "      <td>43</td>\n",
       "      <td>СВАО</td>\n",
       "      <td>Бабушкинский район</td>\n",
       "      <td>4</td>\n",
       "    </tr>\n",
       "    <tr>\n",
       "      <td>35</td>\n",
       "      <td>САО</td>\n",
       "      <td>Район Коптево</td>\n",
       "      <td>4</td>\n",
       "    </tr>\n",
       "    <tr>\n",
       "      <td>49</td>\n",
       "      <td>СВАО</td>\n",
       "      <td>Район Отрадное</td>\n",
       "      <td>4</td>\n",
       "    </tr>\n",
       "    <tr>\n",
       "      <td>52</td>\n",
       "      <td>СВАО</td>\n",
       "      <td>Район Северное Медведково</td>\n",
       "      <td>3</td>\n",
       "    </tr>\n",
       "    <tr>\n",
       "      <td>44</td>\n",
       "      <td>СВАО</td>\n",
       "      <td>Бутырский район</td>\n",
       "      <td>3</td>\n",
       "    </tr>\n",
       "    <tr>\n",
       "      <td>46</td>\n",
       "      <td>СВАО</td>\n",
       "      <td>Останкинский район</td>\n",
       "      <td>3</td>\n",
       "    </tr>\n",
       "    <tr>\n",
       "      <td>8</td>\n",
       "      <td>ВАО</td>\n",
       "      <td>Район Новогиреево</td>\n",
       "      <td>3</td>\n",
       "    </tr>\n",
       "    <tr>\n",
       "      <td>9</td>\n",
       "      <td>ВАО</td>\n",
       "      <td>Район Перово</td>\n",
       "      <td>3</td>\n",
       "    </tr>\n",
       "    <tr>\n",
       "      <td>76</td>\n",
       "      <td>ЮАО</td>\n",
       "      <td>Район Бирюлево Восточное</td>\n",
       "      <td>3</td>\n",
       "    </tr>\n",
       "    <tr>\n",
       "      <td>58</td>\n",
       "      <td>СЗАО</td>\n",
       "      <td>Район Покровское-Стрешнево</td>\n",
       "      <td>3</td>\n",
       "    </tr>\n",
       "    <tr>\n",
       "      <td>33</td>\n",
       "      <td>САО</td>\n",
       "      <td>Район Беговой</td>\n",
       "      <td>3</td>\n",
       "    </tr>\n",
       "    <tr>\n",
       "      <td>55</td>\n",
       "      <td>СВАО</td>\n",
       "      <td>Ярославский Район</td>\n",
       "      <td>3</td>\n",
       "    </tr>\n",
       "    <tr>\n",
       "      <td>20</td>\n",
       "      <td>ЗАО</td>\n",
       "      <td>Район Раменки</td>\n",
       "      <td>3</td>\n",
       "    </tr>\n",
       "    <tr>\n",
       "      <td>25</td>\n",
       "      <td>Зеленоград</td>\n",
       "      <td>Район Крюково</td>\n",
       "      <td>2</td>\n",
       "    </tr>\n",
       "    <tr>\n",
       "      <td>95</td>\n",
       "      <td>ЮЗАО</td>\n",
       "      <td>Район Котловка</td>\n",
       "      <td>2</td>\n",
       "    </tr>\n",
       "    <tr>\n",
       "      <td>56</td>\n",
       "      <td>СЗАО</td>\n",
       "      <td>Район Куркино</td>\n",
       "      <td>2</td>\n",
       "    </tr>\n",
       "    <tr>\n",
       "      <td>27</td>\n",
       "      <td>САО</td>\n",
       "      <td>Бескудниковский Район</td>\n",
       "      <td>2</td>\n",
       "    </tr>\n",
       "    <tr>\n",
       "      <td>24</td>\n",
       "      <td>Зеленоград</td>\n",
       "      <td>Панфиловский район</td>\n",
       "      <td>2</td>\n",
       "    </tr>\n",
       "    <tr>\n",
       "      <td>28</td>\n",
       "      <td>САО</td>\n",
       "      <td>Войковский Район</td>\n",
       "      <td>2</td>\n",
       "    </tr>\n",
       "    <tr>\n",
       "      <td>78</td>\n",
       "      <td>ЮАО</td>\n",
       "      <td>Район Царицыно</td>\n",
       "      <td>2</td>\n",
       "    </tr>\n",
       "    <tr>\n",
       "      <td>94</td>\n",
       "      <td>ЮЗАО</td>\n",
       "      <td>Район Коньково</td>\n",
       "      <td>2</td>\n",
       "    </tr>\n",
       "    <tr>\n",
       "      <td>88</td>\n",
       "      <td>ЮВАО</td>\n",
       "      <td>Район Текстильщики</td>\n",
       "      <td>2</td>\n",
       "    </tr>\n",
       "    <tr>\n",
       "      <td>53</td>\n",
       "      <td>СВАО</td>\n",
       "      <td>Район Северный</td>\n",
       "      <td>2</td>\n",
       "    </tr>\n",
       "    <tr>\n",
       "      <td>11</td>\n",
       "      <td>ВАО</td>\n",
       "      <td>Район Северное Измайлово</td>\n",
       "      <td>2</td>\n",
       "    </tr>\n",
       "    <tr>\n",
       "      <td>26</td>\n",
       "      <td>Зеленоград</td>\n",
       "      <td>Район Матушкино-Савелки</td>\n",
       "      <td>2</td>\n",
       "    </tr>\n",
       "    <tr>\n",
       "      <td>1</td>\n",
       "      <td>ВАО</td>\n",
       "      <td>Район Восточное Измайлово</td>\n",
       "      <td>2</td>\n",
       "    </tr>\n",
       "    <tr>\n",
       "      <td>96</td>\n",
       "      <td>ЮЗАО</td>\n",
       "      <td>Район Северное Бутово</td>\n",
       "      <td>2</td>\n",
       "    </tr>\n",
       "    <tr>\n",
       "      <td>97</td>\n",
       "      <td>ЮЗАО</td>\n",
       "      <td>Район Черемушки</td>\n",
       "      <td>2</td>\n",
       "    </tr>\n",
       "    <tr>\n",
       "      <td>23</td>\n",
       "      <td>ЗАО</td>\n",
       "      <td>Район Фили-Давыдково</td>\n",
       "      <td>2</td>\n",
       "    </tr>\n",
       "    <tr>\n",
       "      <td>54</td>\n",
       "      <td>СВАО</td>\n",
       "      <td>Район Южное Медведково</td>\n",
       "      <td>1</td>\n",
       "    </tr>\n",
       "    <tr>\n",
       "      <td>92</td>\n",
       "      <td>ЮЗАО</td>\n",
       "      <td>Район Гагаринский</td>\n",
       "      <td>1</td>\n",
       "    </tr>\n",
       "    <tr>\n",
       "      <td>91</td>\n",
       "      <td>ЮЗАО</td>\n",
       "      <td>Обручевский район</td>\n",
       "      <td>1</td>\n",
       "    </tr>\n",
       "    <tr>\n",
       "      <td>2</td>\n",
       "      <td>ВАО</td>\n",
       "      <td>Район Восточный</td>\n",
       "      <td>1</td>\n",
       "    </tr>\n",
       "    <tr>\n",
       "      <td>4</td>\n",
       "      <td>ВАО</td>\n",
       "      <td>Район Ивановское</td>\n",
       "      <td>1</td>\n",
       "    </tr>\n",
       "    <tr>\n",
       "      <td>47</td>\n",
       "      <td>СВАО</td>\n",
       "      <td>Район Марфино</td>\n",
       "      <td>1</td>\n",
       "    </tr>\n",
       "    <tr>\n",
       "      <td>36</td>\n",
       "      <td>САО</td>\n",
       "      <td>Район Левобережный</td>\n",
       "      <td>1</td>\n",
       "    </tr>\n",
       "    <tr>\n",
       "      <td>86</td>\n",
       "      <td>ЮВАО</td>\n",
       "      <td>Район Марьино</td>\n",
       "      <td>1</td>\n",
       "    </tr>\n",
       "    <tr>\n",
       "      <td>7</td>\n",
       "      <td>ВАО</td>\n",
       "      <td>Район Метрогородок</td>\n",
       "      <td>1</td>\n",
       "    </tr>\n",
       "    <tr>\n",
       "      <td>34</td>\n",
       "      <td>САО</td>\n",
       "      <td>Район Западное Дегунино</td>\n",
       "      <td>1</td>\n",
       "    </tr>\n",
       "    <tr>\n",
       "      <td>80</td>\n",
       "      <td>ЮАО</td>\n",
       "      <td>Район Чертаново Южное</td>\n",
       "      <td>1</td>\n",
       "    </tr>\n",
       "    <tr>\n",
       "      <td>79</td>\n",
       "      <td>ЮАО</td>\n",
       "      <td>Район Чертаново Северное</td>\n",
       "      <td>1</td>\n",
       "    </tr>\n",
       "    <tr>\n",
       "      <td>77</td>\n",
       "      <td>ЮАО</td>\n",
       "      <td>Район Москворечье-Сабурово</td>\n",
       "      <td>1</td>\n",
       "    </tr>\n",
       "    <tr>\n",
       "      <td>59</td>\n",
       "      <td>СЗАО</td>\n",
       "      <td>Район Строгино</td>\n",
       "      <td>1</td>\n",
       "    </tr>\n",
       "    <tr>\n",
       "      <td>19</td>\n",
       "      <td>ЗАО</td>\n",
       "      <td>Район Очаково-Матвеевское</td>\n",
       "      <td>1</td>\n",
       "    </tr>\n",
       "    <tr>\n",
       "      <td>42</td>\n",
       "      <td>СВАО</td>\n",
       "      <td>Алтуфьевский район</td>\n",
       "      <td>1</td>\n",
       "    </tr>\n",
       "    <tr>\n",
       "      <td>22</td>\n",
       "      <td>ЗАО</td>\n",
       "      <td>Район Филевский Парк</td>\n",
       "      <td>1</td>\n",
       "    </tr>\n",
       "    <tr>\n",
       "      <td>31</td>\n",
       "      <td>САО</td>\n",
       "      <td>Молжаниновский район</td>\n",
       "      <td>1</td>\n",
       "    </tr>\n",
       "  </tbody>\n",
       "</table>\n",
       "</div>"
      ],
      "text/plain": [
       "         okrug                        area  street_number\n",
       "71         ЦАО             Таганский район             27\n",
       "69         ЦАО             Район Хамовники             26\n",
       "63         ЦАО             Басманный район             25\n",
       "72         ЦАО              Тверской район             20\n",
       "66         ЦАО           Пресненский район             19\n",
       "48        СВАО          Район Марьина роща             18\n",
       "65         ЦАО             Мещанский район             17\n",
       "67         ЦАО                 Район Арбат             17\n",
       "68         ЦАО         Район Замоскворечье             14\n",
       "84        ЮВАО             Район Лефортово             12\n",
       "12         ВАО        Район Соколиная Гора             12\n",
       "70         ЦАО              Район Якиманка             11\n",
       "73         ЮАО           Даниловский район             11\n",
       "13         ВАО            Район Сокольники             11\n",
       "64         ЦАО        Красносельский район             10\n",
       "0          ВАО           Район Богородское             10\n",
       "15         ЗАО               Район Внуково              9\n",
       "98        ЮЗАО          Район Южное Бутово              9\n",
       "81        ЮВАО         Нижегородский район              9\n",
       "85        ЮВАО               Район Люблино              8\n",
       "14         ЗАО             Можайский Район              8\n",
       "32         САО              Район Аэропорт              8\n",
       "41        СВАО          Алексеевский район              7\n",
       "45        СВАО      Лосиноостровский район              7\n",
       "39         САО         Тимирязевский Район              7\n",
       "10         ВАО        Район Преображенское              7\n",
       "5          ВАО             Район Измайлово              6\n",
       "17         ЗАО               Район Кунцево              6\n",
       "30         САО           Дмитровский район              6\n",
       "60        СЗАО     Район Хорошево-Мневники              6\n",
       "21         ЗАО              Район Солнцево              6\n",
       "74         ЮАО               Донской район              6\n",
       "38         САО           Савеловский район              6\n",
       "82        ЮВАО       Район Выхино-Жулебино              5\n",
       "89        ЮВАО             Рязанский район              5\n",
       "62        СЗАО          Район Южное Тушино              5\n",
       "61        СЗАО                Район Щукино              5\n",
       "57        СЗАО                Район Митино              5\n",
       "40         САО           Хорошевский район              5\n",
       "90        ЮВАО          Южнопортовый Район              5\n",
       "50        СВАО             Район Ростокино              5\n",
       "99        ЮЗАО               Район Ясенево              5\n",
       "29         САО           Головинский район              5\n",
       "18         ЗАО      Район Ново-Переделкино              5\n",
       "93        ЮЗАО                Район Зюзино              4\n",
       "3          ВАО             Район Гольяново              4\n",
       "87        ЮВАО             Район Печатники              4\n",
       "6          ВАО      Район Косино-Ухтомский              4\n",
       "83        ЮВАО             Район Кузьминки              4\n",
       "75         ЮАО              Нагорный район              4\n",
       "16         ЗАО          Район Дорогомилово              4\n",
       "37         САО                 Район Сокол              4\n",
       "51        СВАО              Район Свиблово              4\n",
       "43        СВАО          Бабушкинский район              4\n",
       "35         САО               Район Коптево              4\n",
       "49        СВАО              Район Отрадное              4\n",
       "52        СВАО   Район Северное Медведково              3\n",
       "44        СВАО             Бутырский район              3\n",
       "46        СВАО          Останкинский район              3\n",
       "8          ВАО           Район Новогиреево              3\n",
       "9          ВАО                Район Перово              3\n",
       "76         ЮАО    Район Бирюлево Восточное              3\n",
       "58        СЗАО  Район Покровское-Стрешнево              3\n",
       "33         САО               Район Беговой              3\n",
       "55        СВАО           Ярославский Район              3\n",
       "20         ЗАО               Район Раменки              3\n",
       "25  Зеленоград               Район Крюково              2\n",
       "95        ЮЗАО              Район Котловка              2\n",
       "56        СЗАО               Район Куркино              2\n",
       "27         САО       Бескудниковский Район              2\n",
       "24  Зеленоград          Панфиловский район              2\n",
       "28         САО            Войковский Район              2\n",
       "78         ЮАО              Район Царицыно              2\n",
       "94        ЮЗАО              Район Коньково              2\n",
       "88        ЮВАО          Район Текстильщики              2\n",
       "53        СВАО              Район Северный              2\n",
       "11         ВАО    Район Северное Измайлово              2\n",
       "26  Зеленоград     Район Матушкино-Савелки              2\n",
       "1          ВАО   Район Восточное Измайлово              2\n",
       "96        ЮЗАО       Район Северное Бутово              2\n",
       "97        ЮЗАО             Район Черемушки              2\n",
       "23         ЗАО        Район Фили-Давыдково              2\n",
       "54        СВАО      Район Южное Медведково              1\n",
       "92        ЮЗАО           Район Гагаринский              1\n",
       "91        ЮЗАО           Обручевский район              1\n",
       "2          ВАО             Район Восточный              1\n",
       "4          ВАО            Район Ивановское              1\n",
       "47        СВАО               Район Марфино              1\n",
       "36         САО          Район Левобережный              1\n",
       "86        ЮВАО               Район Марьино              1\n",
       "7          ВАО          Район Метрогородок              1\n",
       "34         САО     Район Западное Дегунино              1\n",
       "80         ЮАО       Район Чертаново Южное              1\n",
       "79         ЮАО    Район Чертаново Северное              1\n",
       "77         ЮАО  Район Москворечье-Сабурово              1\n",
       "59        СЗАО              Район Строгино              1\n",
       "19         ЗАО   Район Очаково-Матвеевское              1\n",
       "42        СВАО          Алтуфьевский район              1\n",
       "22         ЗАО        Район Филевский Парк              1\n",
       "31         САО        Молжаниновский район              1"
      ]
     },
     "execution_count": 67,
     "metadata": {},
     "output_type": "execute_result"
    }
   ],
   "source": [
    "streets_1_rest.sort_values('street_number', ascending = False)"
   ]
  },
  {
   "cell_type": "markdown",
   "metadata": {},
   "source": [
    "### Вывод  \n",
    "Наибольшее количество объектов общественного питания расположено на протяженных городских улицах. В плотно населенных районах с крупными торговыми центрами (например, Columbus в Чертаново Южное), деловыми центрами (например, Москва-Сити в Пресненском районе), спортивными объектами (например, стадион ВЭБ-Арена в Хорошевском районе).  \n",
    "В Москве на 553 улицах располагается 1 объект общественного питания. Много таких улиц находится в районах центрального административного округа, что связано с высокими арендными ставками и особенностями исторической планировки (небольшая протяженность улиц, небольшие переулки)."
   ]
  },
  {
   "cell_type": "markdown",
   "metadata": {},
   "source": [
    "## Анализ количества посадочных мест для улиц с большим количеством объектов общественного питания"
   ]
  },
  {
   "cell_type": "markdown",
   "metadata": {},
   "source": [
    "Проанализируем распределение количества посадочных мест для улиц с большим количеством объектов общественного питания. "
   ]
  },
  {
   "cell_type": "code",
   "execution_count": 68,
   "metadata": {},
   "outputs": [
    {
     "data": {
      "text/plain": [
       "['проспект Мира',\n",
       " 'Профсоюзная улица',\n",
       " 'Ленинградский проспект',\n",
       " 'Пресненская набережная',\n",
       " 'Варшавское шоссе',\n",
       " 'Ленинский проспект',\n",
       " 'проспект Вернадского',\n",
       " 'Кутузовский проспект',\n",
       " 'Каширское шоссе',\n",
       " 'Кировоградская улица']"
      ]
     },
     "execution_count": 68,
     "metadata": {},
     "output_type": "execute_result"
    }
   ],
   "source": [
    "top_10_streets_list = list(top_10_streets['street'])\n",
    "top_10_streets_list"
   ]
  },
  {
   "cell_type": "code",
   "execution_count": 69,
   "metadata": {},
   "outputs": [
    {
     "data": {
      "text/html": [
       "<div>\n",
       "<style scoped>\n",
       "    .dataframe tbody tr th:only-of-type {\n",
       "        vertical-align: middle;\n",
       "    }\n",
       "\n",
       "    .dataframe tbody tr th {\n",
       "        vertical-align: top;\n",
       "    }\n",
       "\n",
       "    .dataframe thead th {\n",
       "        text-align: right;\n",
       "    }\n",
       "</style>\n",
       "<table border=\"1\" class=\"dataframe\">\n",
       "  <thead>\n",
       "    <tr style=\"text-align: right;\">\n",
       "      <th></th>\n",
       "      <th>id</th>\n",
       "      <th>object_name</th>\n",
       "      <th>chain</th>\n",
       "      <th>object_type</th>\n",
       "      <th>address</th>\n",
       "      <th>number</th>\n",
       "      <th>object_name_corr</th>\n",
       "      <th>object_name_new</th>\n",
       "      <th>street</th>\n",
       "    </tr>\n",
       "  </thead>\n",
       "  <tbody>\n",
       "    <tr>\n",
       "      <td>0</td>\n",
       "      <td>151635</td>\n",
       "      <td>СМЕТАНА</td>\n",
       "      <td>не сеть</td>\n",
       "      <td>кафе</td>\n",
       "      <td>город Москва, улица Егора Абакумова, дом 9</td>\n",
       "      <td>48</td>\n",
       "      <td>сметана</td>\n",
       "      <td>сметана</td>\n",
       "      <td>улица Егора Абакумова</td>\n",
       "    </tr>\n",
       "    <tr>\n",
       "      <td>1</td>\n",
       "      <td>77874</td>\n",
       "      <td>Родник</td>\n",
       "      <td>не сеть</td>\n",
       "      <td>кафе</td>\n",
       "      <td>город Москва, улица Талалихина, дом 2/1, корпус 1</td>\n",
       "      <td>35</td>\n",
       "      <td>родник</td>\n",
       "      <td>родник</td>\n",
       "      <td>улица Талалихина</td>\n",
       "    </tr>\n",
       "    <tr>\n",
       "      <td>2</td>\n",
       "      <td>24309</td>\n",
       "      <td>Кафе «Академия»</td>\n",
       "      <td>не сеть</td>\n",
       "      <td>кафе</td>\n",
       "      <td>город Москва, Абельмановская улица, дом 6</td>\n",
       "      <td>95</td>\n",
       "      <td>кафе  академия</td>\n",
       "      <td>кафе  академия</td>\n",
       "      <td>Абельмановская улица</td>\n",
       "    </tr>\n",
       "    <tr>\n",
       "      <td>3</td>\n",
       "      <td>21894</td>\n",
       "      <td>ПИЦЦЕТОРИЯ</td>\n",
       "      <td>сеть</td>\n",
       "      <td>кафе</td>\n",
       "      <td>город Москва, Абрамцевская улица, дом 1</td>\n",
       "      <td>40</td>\n",
       "      <td>пиццетория</td>\n",
       "      <td>пиццетория</td>\n",
       "      <td>Абрамцевская улица</td>\n",
       "    </tr>\n",
       "    <tr>\n",
       "      <td>4</td>\n",
       "      <td>119365</td>\n",
       "      <td>Кафе «Вишневая метель»</td>\n",
       "      <td>не сеть</td>\n",
       "      <td>кафе</td>\n",
       "      <td>город Москва, Абрамцевская улица, дом 9, корпус 1</td>\n",
       "      <td>50</td>\n",
       "      <td>кафе  вишневая метель</td>\n",
       "      <td>кафе  вишневая метель</td>\n",
       "      <td>Абрамцевская улица</td>\n",
       "    </tr>\n",
       "  </tbody>\n",
       "</table>\n",
       "</div>"
      ],
      "text/plain": [
       "       id             object_name    chain object_type  \\\n",
       "0  151635                 СМЕТАНА  не сеть        кафе   \n",
       "1   77874                  Родник  не сеть        кафе   \n",
       "2   24309         Кафе «Академия»  не сеть        кафе   \n",
       "3   21894              ПИЦЦЕТОРИЯ     сеть        кафе   \n",
       "4  119365  Кафе «Вишневая метель»  не сеть        кафе   \n",
       "\n",
       "                                             address  number  \\\n",
       "0         город Москва, улица Егора Абакумова, дом 9      48   \n",
       "1  город Москва, улица Талалихина, дом 2/1, корпус 1      35   \n",
       "2          город Москва, Абельмановская улица, дом 6      95   \n",
       "3            город Москва, Абрамцевская улица, дом 1      40   \n",
       "4  город Москва, Абрамцевская улица, дом 9, корпус 1      50   \n",
       "\n",
       "         object_name_corr         object_name_new                 street  \n",
       "0                 сметана                 сметана  улица Егора Абакумова  \n",
       "1                  родник                  родник       улица Талалихина  \n",
       "2         кафе  академия          кафе  академия    Абельмановская улица  \n",
       "3              пиццетория              пиццетория     Абрамцевская улица  \n",
       "4  кафе  вишневая метель   кафе  вишневая метель      Абрамцевская улица  "
      ]
     },
     "execution_count": 69,
     "metadata": {},
     "output_type": "execute_result"
    }
   ],
   "source": [
    "rest_data.head()"
   ]
  },
  {
   "cell_type": "code",
   "execution_count": 70,
   "metadata": {},
   "outputs": [
    {
     "data": {
      "text/html": [
       "<div>\n",
       "<style scoped>\n",
       "    .dataframe tbody tr th:only-of-type {\n",
       "        vertical-align: middle;\n",
       "    }\n",
       "\n",
       "    .dataframe tbody tr th {\n",
       "        vertical-align: top;\n",
       "    }\n",
       "\n",
       "    .dataframe thead th {\n",
       "        text-align: right;\n",
       "    }\n",
       "</style>\n",
       "<table border=\"1\" class=\"dataframe\">\n",
       "  <thead>\n",
       "    <tr style=\"text-align: right;\">\n",
       "      <th></th>\n",
       "      <th>street</th>\n",
       "      <th>number</th>\n",
       "    </tr>\n",
       "  </thead>\n",
       "  <tbody>\n",
       "    <tr>\n",
       "      <td>9</td>\n",
       "      <td>проспект Мира</td>\n",
       "      <td>12790</td>\n",
       "    </tr>\n",
       "    <tr>\n",
       "      <td>3</td>\n",
       "      <td>Кутузовский проспект</td>\n",
       "      <td>9697</td>\n",
       "    </tr>\n",
       "    <tr>\n",
       "      <td>5</td>\n",
       "      <td>Ленинский проспект</td>\n",
       "      <td>9330</td>\n",
       "    </tr>\n",
       "    <tr>\n",
       "      <td>4</td>\n",
       "      <td>Ленинградский проспект</td>\n",
       "      <td>9010</td>\n",
       "    </tr>\n",
       "    <tr>\n",
       "      <td>8</td>\n",
       "      <td>проспект Вернадского</td>\n",
       "      <td>8840</td>\n",
       "    </tr>\n",
       "    <tr>\n",
       "      <td>0</td>\n",
       "      <td>Варшавское шоссе</td>\n",
       "      <td>8606</td>\n",
       "    </tr>\n",
       "    <tr>\n",
       "      <td>7</td>\n",
       "      <td>Профсоюзная улица</td>\n",
       "      <td>8447</td>\n",
       "    </tr>\n",
       "    <tr>\n",
       "      <td>6</td>\n",
       "      <td>Пресненская набережная</td>\n",
       "      <td>7656</td>\n",
       "    </tr>\n",
       "    <tr>\n",
       "      <td>2</td>\n",
       "      <td>Кировоградская улица</td>\n",
       "      <td>6577</td>\n",
       "    </tr>\n",
       "    <tr>\n",
       "      <td>1</td>\n",
       "      <td>Каширское шоссе</td>\n",
       "      <td>6171</td>\n",
       "    </tr>\n",
       "  </tbody>\n",
       "</table>\n",
       "</div>"
      ],
      "text/plain": [
       "                   street  number\n",
       "9           проспект Мира   12790\n",
       "3    Кутузовский проспект    9697\n",
       "5      Ленинский проспект    9330\n",
       "4  Ленинградский проспект    9010\n",
       "8    проспект Вернадского    8840\n",
       "0        Варшавское шоссе    8606\n",
       "7       Профсоюзная улица    8447\n",
       "6  Пресненская набережная    7656\n",
       "2    Кировоградская улица    6577\n",
       "1         Каширское шоссе    6171"
      ]
     },
     "execution_count": 70,
     "metadata": {},
     "output_type": "execute_result"
    }
   ],
   "source": [
    "rest_data_number_street = (rest_data\n",
    "                           .query('street in @top_10_streets_list')\n",
    "                           .groupby('street')['number'].agg('sum')\n",
    "                           .reset_index()\n",
    "                           .sort_values('number', ascending = False)\n",
    ") \n",
    "rest_data_number_street"
   ]
  },
  {
   "cell_type": "code",
   "execution_count": 71,
   "metadata": {},
   "outputs": [
    {
     "data": {
      "image/png": "[encoded data removed]",
      "text/plain": [
       "<Figure size 1440x720 with 1 Axes>"
      ]
     },
     "metadata": {
      "needs_background": "light"
     },
     "output_type": "display_data"
    }
   ],
   "source": [
    "plt.figure(figsize=(20, 10))\n",
    "\n",
    "ax = sns.barplot(x='street', y='number', data=rest_data_number_street) \n",
    "ax.set_xticklabels(ax.get_xticklabels(), rotation=50, horizontalalignment ='right', size=12)\n",
    "for p in ax.patches:\n",
    "    ax.annotate(format(int(p.get_height()), ',').replace(',', ' '),\n",
    "                   (p.get_x() + p.get_width() / 2., p.get_height()), \n",
    "                   ha = 'center', va = 'center', \n",
    "                   xytext = (0, 7), \n",
    "                   textcoords = 'offset points', size=14)\n",
    "plt.xlabel('Улица')\n",
    "plt.ylabel('Среднее число посадочных мест')\n",
    "plt.title(\"Среднее число посадочных мест для улиц с большим количеством объектов общественного питания\", size=24)\n",
    "plt.show()"
   ]
  },
  {
   "cell_type": "markdown",
   "metadata": {},
   "source": [
    "### Вывод\n",
    "Проспект Мира держит лидирующие позиции как по количеству заведений (204), так и по числу посадочных мест (12790 мест). А вот Кутузовский проспект по количеству заведений находился в последней трети топ-10, а вот по числу посадочных мест вышел в лидеры (9697 мест). Каширское шоссе и Кировоградская улица сохраняют свой рейтинг - замыкают топ-10 и по обоим показателям."
   ]
  },
  {
   "cell_type": "markdown",
   "metadata": {},
   "source": [
    "## Общий вывод  \n"
   ]
  },
  {
   "cell_type": "markdown",
   "metadata": {},
   "source": [
    "**Вид объекта**  \n",
    "2 подхода к выбору вида объекта:\n",
    "1. Самый популярный вид объектов общественного питания в Москве - кафе (40% рынка). Это достаточно демократичный формат: подходит разной аудитории - по доходу, по возрасту, по взглядам и иным признакам. Можно открыть свое кафе в этом формате, роботы-официанты будут привлекательной \"фишкой\".  \n",
    "2. С другой стороны, роботы-официанты за счет высокой скорости обслуживания и стандартизации процессов позволяют использовать формат предприятий быстрого обслуживания. Данный формат менее распространен - 12,5% рынка Москвы. Вместе с тем этом сегменте придется конкурировать с сильными мировыми брендами  - Макдоналдс, KFC, Бургер Кинг - а также популярными сетями итальянского фастфуда - Папа Джонс, Додо пицца и др. В связи с этим следует обдумать меню, придать ему уникальности.  \n",
    "\n",
    "При выборе концепции предприятий быстрого обслуживания лучше ориентироваться на сетевой характер заведений. Он распространен для данного сегмента 41% от общего числа сетевых заведений. Здесь необходимо проработать вопрос с франшизой.  \n",
    "\n",
    "**Количество посадочных мест**  \n",
    "1. Характерное количество посадочных мест для формата кафе - 39. Это будет ориентиром для нас.  \n",
    "2. При выборе сетевого формата за основу необходимо взять подход \"мало заведений - много мест\", ориентиры по количеству заведений - 2, по числу мест - 80.  \n",
    "\n",
    "**Район расположения**\n",
    "1. Формат кафе достаточно универсален с точки зрения размещения. Можно сделать акцент на скорости роботообслуживания и разместить кафе в районах (улицах) с высоким трафиком - подойдет крупный торговый или деловой центр. Можно сделать акцент на уникальности роботообслуживания и сделать кафе популярным \"туристическим\" местом. В этой ситуации размещать лучше в районах центрального администартивного округа, где сосредоточены основные туристические маршруты.  \n",
    "2. Предприятия быстрого обслуживания с большим количеством посадочных мест лучше размещать в районах (улицах) с высоким трафиком.  \n",
    "\n",
    "Формат робото-кафе останется локальным и ограничится рынком Москвы, формат сетевого бистро можно тиражировать не только в Москве, но и регионах, в том числе за счет франшизы."
   ]
  },
  {
   "cell_type": "markdown",
   "metadata": {},
   "source": [
    "Презентация:  \n",
    "https://drive.google.com/file/d/1YWTCtvxJYkjiJO7CAOhHFxBustr3FYr4/view?usp=sharing"
   ]
  }
 ],
 "metadata": {
  "ExecuteTimeLog": [
   {
    "duration": 1902,
    "start_time": "2021-10-14T20:12:49.517Z"
   },
   {
    "duration": 4,
    "start_time": "2021-10-14T20:13:22.926Z"
   },
   {
    "duration": 55,
    "start_time": "2021-10-14T20:13:25.907Z"
   },
   {
    "duration": 21,
    "start_time": "2021-10-14T20:13:33.744Z"
   },
   {
    "duration": 13,
    "start_time": "2021-10-14T20:13:46.658Z"
   },
   {
    "duration": 280,
    "start_time": "2021-10-14T20:14:20.617Z"
   },
   {
    "duration": 22,
    "start_time": "2021-10-14T20:14:26.980Z"
   },
   {
    "duration": 21,
    "start_time": "2021-10-14T20:18:48.849Z"
   },
   {
    "duration": 23,
    "start_time": "2021-10-14T20:19:20.302Z"
   },
   {
    "duration": 10,
    "start_time": "2021-10-14T20:19:56.173Z"
   },
   {
    "duration": 10,
    "start_time": "2021-10-14T20:22:23.191Z"
   },
   {
    "duration": 8,
    "start_time": "2021-10-14T20:22:33.507Z"
   },
   {
    "duration": 95,
    "start_time": "2021-10-14T20:22:48.931Z"
   },
   {
    "duration": 8,
    "start_time": "2021-10-14T20:22:52.906Z"
   },
   {
    "duration": 8,
    "start_time": "2021-10-14T20:23:08.340Z"
   },
   {
    "duration": 26,
    "start_time": "2021-10-14T20:29:53.100Z"
   },
   {
    "duration": 432,
    "start_time": "2021-10-14T21:00:33.253Z"
   },
   {
    "duration": 333,
    "start_time": "2021-10-14T21:01:14.747Z"
   },
   {
    "duration": 37,
    "start_time": "2021-10-14T21:02:06.206Z"
   },
   {
    "duration": 7,
    "start_time": "2021-10-14T21:05:10.983Z"
   },
   {
    "duration": 21,
    "start_time": "2021-10-14T21:05:21.942Z"
   },
   {
    "duration": 21,
    "start_time": "2021-10-14T21:09:05.083Z"
   },
   {
    "duration": 7,
    "start_time": "2021-10-14T21:09:40.734Z"
   },
   {
    "duration": 7,
    "start_time": "2021-10-14T21:09:52.685Z"
   },
   {
    "duration": 8,
    "start_time": "2021-10-14T21:10:40.898Z"
   },
   {
    "duration": 10,
    "start_time": "2021-10-14T21:10:57.515Z"
   },
   {
    "duration": 9,
    "start_time": "2021-10-14T21:11:29.255Z"
   },
   {
    "duration": 481,
    "start_time": "2021-10-14T21:16:12.800Z"
   },
   {
    "duration": 389,
    "start_time": "2021-10-14T21:17:25.201Z"
   },
   {
    "duration": 6,
    "start_time": "2021-10-14T21:19:25.689Z"
   },
   {
    "duration": 7,
    "start_time": "2021-10-14T21:20:01.101Z"
   },
   {
    "duration": 6,
    "start_time": "2021-10-14T21:20:22.994Z"
   },
   {
    "duration": 483,
    "start_time": "2021-10-14T21:20:38.500Z"
   },
   {
    "duration": 6,
    "start_time": "2021-10-14T21:21:12.043Z"
   },
   {
    "duration": 9,
    "start_time": "2021-10-14T21:21:34.568Z"
   },
   {
    "duration": 9,
    "start_time": "2021-10-14T21:21:57.373Z"
   },
   {
    "duration": 4,
    "start_time": "2021-10-14T21:23:31.687Z"
   },
   {
    "duration": 26,
    "start_time": "2021-10-14T21:23:37.504Z"
   },
   {
    "duration": 326,
    "start_time": "2021-10-14T21:26:14.184Z"
   },
   {
    "duration": 4,
    "start_time": "2021-10-14T21:26:19.734Z"
   },
   {
    "duration": 3,
    "start_time": "2021-10-14T21:26:21.472Z"
   },
   {
    "duration": 54,
    "start_time": "2021-10-14T21:26:21.771Z"
   },
   {
    "duration": 14,
    "start_time": "2021-10-14T21:26:22.390Z"
   },
   {
    "duration": 12,
    "start_time": "2021-10-14T21:26:23.107Z"
   },
   {
    "duration": 6,
    "start_time": "2021-10-14T21:26:23.688Z"
   },
   {
    "duration": 28,
    "start_time": "2021-10-14T21:26:24.255Z"
   },
   {
    "duration": 40,
    "start_time": "2021-10-14T21:26:24.837Z"
   },
   {
    "duration": 9,
    "start_time": "2021-10-14T21:26:25.443Z"
   },
   {
    "duration": 7,
    "start_time": "2021-10-14T21:26:29.675Z"
   },
   {
    "duration": 11,
    "start_time": "2021-10-14T21:26:30.394Z"
   },
   {
    "duration": 8,
    "start_time": "2021-10-14T21:26:45.390Z"
   },
   {
    "duration": 433,
    "start_time": "2021-10-14T21:33:16.906Z"
   },
   {
    "duration": 14,
    "start_time": "2021-10-14T21:42:59.183Z"
   },
   {
    "duration": 11,
    "start_time": "2021-10-14T21:43:23.301Z"
   },
   {
    "duration": 15,
    "start_time": "2021-10-14T21:44:11.809Z"
   },
   {
    "duration": 19,
    "start_time": "2021-10-14T21:44:42.298Z"
   },
   {
    "duration": 23,
    "start_time": "2021-10-14T21:45:39.038Z"
   },
   {
    "duration": 18,
    "start_time": "2021-10-14T21:46:03.372Z"
   },
   {
    "duration": 5,
    "start_time": "2021-10-14T21:58:24.005Z"
   },
   {
    "duration": 10,
    "start_time": "2021-10-14T21:58:53.949Z"
   },
   {
    "duration": 9,
    "start_time": "2021-10-14T21:58:59.663Z"
   },
   {
    "duration": 15,
    "start_time": "2021-10-14T22:03:48.791Z"
   },
   {
    "duration": 30,
    "start_time": "2021-10-14T22:03:49.720Z"
   },
   {
    "duration": 135,
    "start_time": "2021-10-14T22:04:54.444Z"
   },
   {
    "duration": 11,
    "start_time": "2021-10-14T22:05:02.964Z"
   },
   {
    "duration": 9,
    "start_time": "2021-10-14T22:05:13.801Z"
   },
   {
    "duration": 4,
    "start_time": "2021-10-14T22:05:42.633Z"
   },
   {
    "duration": 7,
    "start_time": "2021-10-14T22:05:45.958Z"
   },
   {
    "duration": 3,
    "start_time": "2021-10-14T22:05:52.015Z"
   },
   {
    "duration": 17,
    "start_time": "2021-10-14T22:08:38.078Z"
   },
   {
    "duration": 27,
    "start_time": "2021-10-14T22:08:41.352Z"
   },
   {
    "duration": 286,
    "start_time": "2021-10-14T22:09:56.728Z"
   },
   {
    "duration": 29,
    "start_time": "2021-10-14T22:10:07.208Z"
   },
   {
    "duration": 5,
    "start_time": "2021-10-14T22:10:16.931Z"
   },
   {
    "duration": 11,
    "start_time": "2021-10-14T22:11:01.013Z"
   },
   {
    "duration": 360,
    "start_time": "2021-10-14T22:11:12.686Z"
   },
   {
    "duration": 313,
    "start_time": "2021-10-14T22:12:24.841Z"
   },
   {
    "duration": 257,
    "start_time": "2021-10-14T22:12:28.505Z"
   },
   {
    "duration": 302,
    "start_time": "2021-10-14T22:12:36.231Z"
   },
   {
    "duration": 13,
    "start_time": "2021-10-14T22:12:44.090Z"
   },
   {
    "duration": 9,
    "start_time": "2021-10-14T22:16:47.165Z"
   },
   {
    "duration": 6,
    "start_time": "2021-10-14T22:17:03.146Z"
   },
   {
    "duration": 3,
    "start_time": "2021-10-14T22:17:25.213Z"
   },
   {
    "duration": 274,
    "start_time": "2021-10-14T22:19:22.497Z"
   },
   {
    "duration": 4,
    "start_time": "2021-10-14T22:19:59.292Z"
   },
   {
    "duration": 340,
    "start_time": "2021-10-14T22:20:00.556Z"
   },
   {
    "duration": 10,
    "start_time": "2021-10-14T22:20:01.674Z"
   },
   {
    "duration": 9,
    "start_time": "2021-10-14T22:21:13.234Z"
   },
   {
    "duration": 5,
    "start_time": "2021-10-14T22:21:22.142Z"
   },
   {
    "duration": 11,
    "start_time": "2021-10-14T22:21:22.789Z"
   },
   {
    "duration": 10,
    "start_time": "2021-10-14T22:21:36.400Z"
   },
   {
    "duration": 11,
    "start_time": "2021-10-14T22:21:52.257Z"
   },
   {
    "duration": 12,
    "start_time": "2021-10-14T22:22:01.279Z"
   },
   {
    "duration": 4569,
    "start_time": "2021-10-14T22:22:15.618Z"
   },
   {
    "duration": 4224,
    "start_time": "2021-10-14T22:22:24.385Z"
   },
   {
    "duration": 45,
    "start_time": "2021-10-14T22:23:15.926Z"
   },
   {
    "duration": 4,
    "start_time": "2021-10-14T22:24:14.594Z"
   },
   {
    "duration": 8,
    "start_time": "2021-10-14T22:24:14.601Z"
   },
   {
    "duration": 57,
    "start_time": "2021-10-14T22:24:14.612Z"
   },
   {
    "duration": 12,
    "start_time": "2021-10-14T22:24:14.671Z"
   },
   {
    "duration": 22,
    "start_time": "2021-10-14T22:24:14.686Z"
   },
   {
    "duration": 15,
    "start_time": "2021-10-14T22:24:14.710Z"
   },
   {
    "duration": 44,
    "start_time": "2021-10-14T22:24:14.728Z"
   },
   {
    "duration": 15,
    "start_time": "2021-10-14T22:24:14.776Z"
   },
   {
    "duration": 4,
    "start_time": "2021-10-14T22:24:14.794Z"
   },
   {
    "duration": 326,
    "start_time": "2021-10-14T22:24:14.801Z"
   },
   {
    "duration": 10,
    "start_time": "2021-10-14T22:24:15.130Z"
   },
   {
    "duration": 22,
    "start_time": "2021-10-14T22:24:15.142Z"
   },
   {
    "duration": 44,
    "start_time": "2021-10-14T22:24:15.166Z"
   },
   {
    "duration": 53,
    "start_time": "2021-10-14T22:24:15.212Z"
   },
   {
    "duration": 7,
    "start_time": "2021-10-14T22:24:15.267Z"
   },
   {
    "duration": 7,
    "start_time": "2021-10-14T22:24:15.277Z"
   },
   {
    "duration": 15,
    "start_time": "2021-10-14T22:24:15.287Z"
   },
   {
    "duration": 11,
    "start_time": "2021-10-14T22:24:15.305Z"
   },
   {
    "duration": 51,
    "start_time": "2021-10-14T22:24:15.319Z"
   },
   {
    "duration": 14,
    "start_time": "2021-10-14T22:24:15.373Z"
   },
   {
    "duration": 22,
    "start_time": "2021-10-14T22:24:15.389Z"
   },
   {
    "duration": 4,
    "start_time": "2021-10-14T22:26:05.146Z"
   },
   {
    "duration": 309,
    "start_time": "2021-10-14T22:26:08.902Z"
   },
   {
    "duration": 9,
    "start_time": "2021-10-14T22:26:09.904Z"
   },
   {
    "duration": 5,
    "start_time": "2021-10-14T22:26:10.646Z"
   },
   {
    "duration": 44,
    "start_time": "2021-10-14T22:26:11.414Z"
   },
   {
    "duration": 5,
    "start_time": "2021-10-14T22:26:28.460Z"
   },
   {
    "duration": 4,
    "start_time": "2021-10-14T22:26:29.093Z"
   },
   {
    "duration": 51,
    "start_time": "2021-10-14T22:26:29.982Z"
   },
   {
    "duration": 14,
    "start_time": "2021-10-14T22:26:30.880Z"
   },
   {
    "duration": 12,
    "start_time": "2021-10-14T22:26:34.951Z"
   },
   {
    "duration": 6,
    "start_time": "2021-10-14T22:26:36.744Z"
   },
   {
    "duration": 24,
    "start_time": "2021-10-14T22:26:37.554Z"
   },
   {
    "duration": 15,
    "start_time": "2021-10-14T22:26:38.283Z"
   },
   {
    "duration": 4,
    "start_time": "2021-10-14T22:26:39.571Z"
   },
   {
    "duration": 312,
    "start_time": "2021-10-14T22:26:40.766Z"
   },
   {
    "duration": 12,
    "start_time": "2021-10-14T22:26:41.496Z"
   },
   {
    "duration": 4,
    "start_time": "2021-10-14T22:26:42.773Z"
   },
   {
    "duration": 41,
    "start_time": "2021-10-14T22:26:50.039Z"
   },
   {
    "duration": 28,
    "start_time": "2021-10-14T22:26:55.688Z"
   },
   {
    "duration": 10,
    "start_time": "2021-10-14T22:27:33.847Z"
   },
   {
    "duration": 53,
    "start_time": "2021-10-14T22:27:54.561Z"
   },
   {
    "duration": 13,
    "start_time": "2021-10-14T22:27:55.593Z"
   },
   {
    "duration": 13,
    "start_time": "2021-10-14T22:28:14.340Z"
   },
   {
    "duration": 6,
    "start_time": "2021-10-14T22:28:15.120Z"
   },
   {
    "duration": 6,
    "start_time": "2021-10-14T22:28:21.344Z"
   },
   {
    "duration": 27,
    "start_time": "2021-10-14T22:28:21.932Z"
   },
   {
    "duration": 17,
    "start_time": "2021-10-14T22:28:22.550Z"
   },
   {
    "duration": 5,
    "start_time": "2021-10-14T22:28:23.277Z"
   },
   {
    "duration": 328,
    "start_time": "2021-10-14T22:28:24.106Z"
   },
   {
    "duration": 14,
    "start_time": "2021-10-14T22:28:25.305Z"
   },
   {
    "duration": 5,
    "start_time": "2021-10-14T22:28:26.505Z"
   },
   {
    "duration": 41,
    "start_time": "2021-10-14T22:28:32.049Z"
   },
   {
    "duration": 29,
    "start_time": "2021-10-14T22:28:54.446Z"
   },
   {
    "duration": 1129,
    "start_time": "2021-10-14T22:29:08.282Z"
   },
   {
    "duration": 29,
    "start_time": "2021-10-14T22:29:15.222Z"
   },
   {
    "duration": 285,
    "start_time": "2021-10-14T22:29:32.473Z"
   },
   {
    "duration": 285,
    "start_time": "2021-10-14T22:29:36.195Z"
   },
   {
    "duration": 31,
    "start_time": "2021-10-14T22:29:41.230Z"
   },
   {
    "duration": 346,
    "start_time": "2021-10-14T22:31:21.507Z"
   },
   {
    "duration": 852,
    "start_time": "2021-10-14T22:31:38.555Z"
   },
   {
    "duration": 10,
    "start_time": "2021-10-14T22:32:19.147Z"
   },
   {
    "duration": 10,
    "start_time": "2021-10-14T22:33:21.243Z"
   },
   {
    "duration": 10,
    "start_time": "2021-10-14T22:33:44.929Z"
   },
   {
    "duration": 10,
    "start_time": "2021-10-14T22:34:16.344Z"
   },
   {
    "duration": 10,
    "start_time": "2021-10-14T22:35:16.359Z"
   },
   {
    "duration": 11,
    "start_time": "2021-10-14T22:36:26.484Z"
   },
   {
    "duration": 15,
    "start_time": "2021-10-14T22:38:39.220Z"
   },
   {
    "duration": 18,
    "start_time": "2021-10-14T22:39:03.944Z"
   },
   {
    "duration": 8,
    "start_time": "2021-10-14T22:47:00.288Z"
   },
   {
    "duration": 314,
    "start_time": "2021-10-14T22:47:11.086Z"
   },
   {
    "duration": 8,
    "start_time": "2021-10-14T22:47:20.296Z"
   },
   {
    "duration": 8,
    "start_time": "2021-10-14T22:47:40.036Z"
   },
   {
    "duration": 11,
    "start_time": "2021-10-14T22:49:13.636Z"
   },
   {
    "duration": 8,
    "start_time": "2021-10-14T22:49:41.814Z"
   },
   {
    "duration": 110,
    "start_time": "2021-10-14T22:50:14.032Z"
   },
   {
    "duration": 112,
    "start_time": "2021-10-14T22:51:00.883Z"
   },
   {
    "duration": 10,
    "start_time": "2021-10-14T22:51:44.578Z"
   },
   {
    "duration": 11,
    "start_time": "2021-10-14T22:56:38.730Z"
   },
   {
    "duration": 12,
    "start_time": "2021-10-14T22:58:26.384Z"
   },
   {
    "duration": 5,
    "start_time": "2021-10-15T10:39:49.264Z"
   },
   {
    "duration": 2045,
    "start_time": "2021-10-15T10:39:56.235Z"
   },
   {
    "duration": 4,
    "start_time": "2021-10-15T10:39:58.282Z"
   },
   {
    "duration": 64,
    "start_time": "2021-10-15T10:39:58.289Z"
   },
   {
    "duration": 20,
    "start_time": "2021-10-15T10:39:58.355Z"
   },
   {
    "duration": 13,
    "start_time": "2021-10-15T10:39:58.382Z"
   },
   {
    "duration": 28,
    "start_time": "2021-10-15T10:39:58.398Z"
   },
   {
    "duration": 6,
    "start_time": "2021-10-15T10:39:58.428Z"
   },
   {
    "duration": 54,
    "start_time": "2021-10-15T10:39:58.436Z"
   },
   {
    "duration": 6,
    "start_time": "2021-10-15T10:39:58.494Z"
   },
   {
    "duration": 322,
    "start_time": "2021-10-15T10:39:58.504Z"
   },
   {
    "duration": 14,
    "start_time": "2021-10-15T10:39:58.828Z"
   },
   {
    "duration": 6,
    "start_time": "2021-10-15T10:39:58.844Z"
   },
   {
    "duration": 36,
    "start_time": "2021-10-15T10:39:58.852Z"
   },
   {
    "duration": 22,
    "start_time": "2021-10-15T10:39:58.890Z"
   },
   {
    "duration": 11,
    "start_time": "2021-10-15T10:39:58.914Z"
   },
   {
    "duration": 9,
    "start_time": "2021-10-15T10:39:58.927Z"
   },
   {
    "duration": 49,
    "start_time": "2021-10-15T10:39:58.938Z"
   },
   {
    "duration": 9,
    "start_time": "2021-10-15T10:39:58.990Z"
   },
   {
    "duration": 16,
    "start_time": "2021-10-15T10:39:59.002Z"
   },
   {
    "duration": 31,
    "start_time": "2021-10-15T10:39:59.021Z"
   },
   {
    "duration": 26,
    "start_time": "2021-10-15T10:39:59.055Z"
   },
   {
    "duration": 11,
    "start_time": "2021-10-15T10:39:59.084Z"
   },
   {
    "duration": 12,
    "start_time": "2021-10-15T10:39:59.097Z"
   },
   {
    "duration": 8,
    "start_time": "2021-10-15T10:39:59.111Z"
   },
   {
    "duration": 8,
    "start_time": "2021-10-15T10:39:59.121Z"
   },
   {
    "duration": 10,
    "start_time": "2021-10-15T10:39:59.131Z"
   },
   {
    "duration": 11,
    "start_time": "2021-10-15T10:39:59.185Z"
   },
   {
    "duration": 13,
    "start_time": "2021-10-15T10:39:59.198Z"
   },
   {
    "duration": 9,
    "start_time": "2021-10-15T10:39:59.213Z"
   },
   {
    "duration": 15,
    "start_time": "2021-10-15T10:39:59.225Z"
   },
   {
    "duration": 55,
    "start_time": "2021-10-15T10:39:59.243Z"
   },
   {
    "duration": 4,
    "start_time": "2021-10-15T10:40:35.588Z"
   },
   {
    "duration": 9,
    "start_time": "2021-10-15T10:42:00.491Z"
   },
   {
    "duration": 12,
    "start_time": "2021-10-15T10:42:44.297Z"
   },
   {
    "duration": 8,
    "start_time": "2021-10-15T10:54:41.799Z"
   },
   {
    "duration": 458,
    "start_time": "2021-10-15T11:05:12.911Z"
   },
   {
    "duration": 25489,
    "start_time": "2021-10-15T11:06:17.401Z"
   },
   {
    "duration": 17,
    "start_time": "2021-10-15T11:06:58.541Z"
   },
   {
    "duration": 6,
    "start_time": "2021-10-15T11:12:19.251Z"
   },
   {
    "duration": 447,
    "start_time": "2021-10-15T11:13:48.896Z"
   },
   {
    "duration": 17,
    "start_time": "2021-10-15T11:13:57.406Z"
   },
   {
    "duration": 7,
    "start_time": "2021-10-15T11:15:24.400Z"
   },
   {
    "duration": 383,
    "start_time": "2021-10-15T11:15:24.800Z"
   },
   {
    "duration": 16,
    "start_time": "2021-10-15T11:15:25.507Z"
   },
   {
    "duration": 6,
    "start_time": "2021-10-15T11:18:16.000Z"
   },
   {
    "duration": 292,
    "start_time": "2021-10-15T11:18:16.930Z"
   },
   {
    "duration": 15,
    "start_time": "2021-10-15T11:18:17.893Z"
   },
   {
    "duration": 7,
    "start_time": "2021-10-15T11:19:09.656Z"
   },
   {
    "duration": 302,
    "start_time": "2021-10-15T11:19:13.393Z"
   },
   {
    "duration": 15,
    "start_time": "2021-10-15T11:19:14.135Z"
   },
   {
    "duration": 11,
    "start_time": "2021-10-15T11:20:26.722Z"
   },
   {
    "duration": 10,
    "start_time": "2021-10-15T11:20:58.290Z"
   },
   {
    "duration": 10,
    "start_time": "2021-10-15T11:22:39.516Z"
   },
   {
    "duration": 7,
    "start_time": "2021-10-15T11:23:11.645Z"
   },
   {
    "duration": 7,
    "start_time": "2021-10-15T11:24:26.257Z"
   },
   {
    "duration": 7,
    "start_time": "2021-10-15T11:24:33.110Z"
   },
   {
    "duration": 297,
    "start_time": "2021-10-15T11:24:35.393Z"
   },
   {
    "duration": 14,
    "start_time": "2021-10-15T11:24:35.782Z"
   },
   {
    "duration": 292,
    "start_time": "2021-10-15T11:26:25.919Z"
   },
   {
    "duration": 16,
    "start_time": "2021-10-15T11:26:30.495Z"
   },
   {
    "duration": 7,
    "start_time": "2021-10-15T11:26:34.442Z"
   },
   {
    "duration": 4,
    "start_time": "2021-10-15T11:28:27.932Z"
   },
   {
    "duration": 467,
    "start_time": "2021-10-15T11:30:12.953Z"
   },
   {
    "duration": 18,
    "start_time": "2021-10-15T11:30:15.023Z"
   },
   {
    "duration": 4,
    "start_time": "2021-10-15T11:30:53.205Z"
   },
   {
    "duration": 195,
    "start_time": "2021-10-15T11:31:00.738Z"
   },
   {
    "duration": 18,
    "start_time": "2021-10-15T11:31:01.385Z"
   },
   {
    "duration": 5,
    "start_time": "2021-10-15T11:31:48.938Z"
   },
   {
    "duration": 10,
    "start_time": "2021-10-15T11:31:48.946Z"
   },
   {
    "duration": 6,
    "start_time": "2021-10-15T11:31:48.960Z"
   },
   {
    "duration": 12,
    "start_time": "2021-10-15T11:31:48.968Z"
   },
   {
    "duration": 59,
    "start_time": "2021-10-15T11:31:48.982Z"
   },
   {
    "duration": 12,
    "start_time": "2021-10-15T11:31:49.044Z"
   },
   {
    "duration": 30,
    "start_time": "2021-10-15T11:31:49.059Z"
   },
   {
    "duration": 25,
    "start_time": "2021-10-15T11:31:49.092Z"
   },
   {
    "duration": 6,
    "start_time": "2021-10-15T11:31:49.121Z"
   },
   {
    "duration": 17,
    "start_time": "2021-10-15T11:31:49.131Z"
   },
   {
    "duration": 4,
    "start_time": "2021-10-15T11:31:49.182Z"
   },
   {
    "duration": 313,
    "start_time": "2021-10-15T11:31:49.188Z"
   },
   {
    "duration": 15,
    "start_time": "2021-10-15T11:31:49.504Z"
   },
   {
    "duration": 25,
    "start_time": "2021-10-15T11:31:49.522Z"
   },
   {
    "duration": 43,
    "start_time": "2021-10-15T11:31:49.550Z"
   },
   {
    "duration": 10,
    "start_time": "2021-10-15T11:31:49.597Z"
   },
   {
    "duration": 15,
    "start_time": "2021-10-15T11:31:49.610Z"
   },
   {
    "duration": 9,
    "start_time": "2021-10-15T11:31:49.628Z"
   },
   {
    "duration": 317,
    "start_time": "2021-10-15T11:31:49.684Z"
   },
   {
    "duration": 4,
    "start_time": "2021-10-15T11:31:50.003Z"
   },
   {
    "duration": 206,
    "start_time": "2021-10-15T11:31:50.010Z"
   },
   {
    "duration": 19,
    "start_time": "2021-10-15T11:31:50.219Z"
   },
   {
    "duration": 114,
    "start_time": "2021-10-15T11:31:50.241Z"
   },
   {
    "duration": 683,
    "start_time": "2021-10-15T11:31:49.678Z"
   },
   {
    "duration": 679,
    "start_time": "2021-10-15T11:31:49.684Z"
   },
   {
    "duration": 678,
    "start_time": "2021-10-15T11:31:49.687Z"
   },
   {
    "duration": 678,
    "start_time": "2021-10-15T11:31:49.689Z"
   },
   {
    "duration": 677,
    "start_time": "2021-10-15T11:31:49.692Z"
   },
   {
    "duration": 677,
    "start_time": "2021-10-15T11:31:49.694Z"
   },
   {
    "duration": 676,
    "start_time": "2021-10-15T11:31:49.697Z"
   },
   {
    "duration": 670,
    "start_time": "2021-10-15T11:31:49.706Z"
   },
   {
    "duration": 669,
    "start_time": "2021-10-15T11:31:49.709Z"
   },
   {
    "duration": 669,
    "start_time": "2021-10-15T11:31:49.711Z"
   },
   {
    "duration": 669,
    "start_time": "2021-10-15T11:31:49.713Z"
   },
   {
    "duration": 668,
    "start_time": "2021-10-15T11:31:49.716Z"
   },
   {
    "duration": 668,
    "start_time": "2021-10-15T11:31:49.718Z"
   },
   {
    "duration": 7,
    "start_time": "2021-10-15T11:32:29.024Z"
   },
   {
    "duration": 298,
    "start_time": "2021-10-15T11:32:29.738Z"
   },
   {
    "duration": 3,
    "start_time": "2021-10-15T11:32:30.358Z"
   },
   {
    "duration": 180,
    "start_time": "2021-10-15T11:32:30.927Z"
   },
   {
    "duration": 18,
    "start_time": "2021-10-15T11:32:32.213Z"
   },
   {
    "duration": 23,
    "start_time": "2021-10-15T11:33:16.140Z"
   },
   {
    "duration": 28,
    "start_time": "2021-10-15T11:33:53.798Z"
   },
   {
    "duration": 18,
    "start_time": "2021-10-15T11:35:24.371Z"
   },
   {
    "duration": 14,
    "start_time": "2021-10-15T11:35:41.299Z"
   },
   {
    "duration": 33,
    "start_time": "2021-10-15T11:35:57.726Z"
   },
   {
    "duration": 15,
    "start_time": "2021-10-15T11:36:12.189Z"
   },
   {
    "duration": 16,
    "start_time": "2021-10-15T11:36:21.565Z"
   },
   {
    "duration": 7,
    "start_time": "2021-10-15T11:36:34.893Z"
   },
   {
    "duration": 7,
    "start_time": "2021-10-15T11:36:45.024Z"
   },
   {
    "duration": 9,
    "start_time": "2021-10-15T11:36:46.509Z"
   },
   {
    "duration": 11,
    "start_time": "2021-10-15T11:36:47.567Z"
   },
   {
    "duration": 117,
    "start_time": "2021-10-15T11:36:49.088Z"
   },
   {
    "duration": 15,
    "start_time": "2021-10-15T11:36:50.318Z"
   },
   {
    "duration": 19,
    "start_time": "2021-10-15T11:37:03.874Z"
   },
   {
    "duration": 281,
    "start_time": "2021-10-15T20:08:12.313Z"
   },
   {
    "duration": 2013,
    "start_time": "2021-10-15T20:08:20.722Z"
   },
   {
    "duration": 4,
    "start_time": "2021-10-15T20:08:22.738Z"
   },
   {
    "duration": 6,
    "start_time": "2021-10-15T20:08:22.745Z"
   },
   {
    "duration": 5,
    "start_time": "2021-10-15T20:08:22.754Z"
   },
   {
    "duration": 61,
    "start_time": "2021-10-15T20:08:22.762Z"
   },
   {
    "duration": 18,
    "start_time": "2021-10-15T20:08:22.825Z"
   },
   {
    "duration": 26,
    "start_time": "2021-10-15T20:08:22.845Z"
   },
   {
    "duration": 24,
    "start_time": "2021-10-15T20:08:22.875Z"
   },
   {
    "duration": 7,
    "start_time": "2021-10-15T20:08:22.902Z"
   },
   {
    "duration": 16,
    "start_time": "2021-10-15T20:08:22.911Z"
   },
   {
    "duration": 37,
    "start_time": "2021-10-15T20:08:22.930Z"
   },
   {
    "duration": 331,
    "start_time": "2021-10-15T20:08:22.970Z"
   },
   {
    "duration": 16,
    "start_time": "2021-10-15T20:08:23.303Z"
   },
   {
    "duration": 49,
    "start_time": "2021-10-15T20:08:23.321Z"
   },
   {
    "duration": 11,
    "start_time": "2021-10-15T20:08:23.372Z"
   },
   {
    "duration": 8,
    "start_time": "2021-10-15T20:08:23.386Z"
   },
   {
    "duration": 10,
    "start_time": "2021-10-15T20:08:23.396Z"
   },
   {
    "duration": 64,
    "start_time": "2021-10-15T20:08:23.409Z"
   },
   {
    "duration": 7,
    "start_time": "2021-10-15T20:08:23.476Z"
   },
   {
    "duration": 336,
    "start_time": "2021-10-15T20:08:23.485Z"
   },
   {
    "duration": 4,
    "start_time": "2021-10-15T20:08:23.823Z"
   },
   {
    "duration": 203,
    "start_time": "2021-10-15T20:08:23.830Z"
   },
   {
    "duration": 31,
    "start_time": "2021-10-15T20:08:24.037Z"
   },
   {
    "duration": 17,
    "start_time": "2021-10-15T20:08:24.071Z"
   },
   {
    "duration": 8,
    "start_time": "2021-10-15T20:08:24.090Z"
   },
   {
    "duration": 9,
    "start_time": "2021-10-15T20:08:24.101Z"
   },
   {
    "duration": 8,
    "start_time": "2021-10-15T20:08:24.113Z"
   },
   {
    "duration": 10,
    "start_time": "2021-10-15T20:08:24.167Z"
   },
   {
    "duration": 9,
    "start_time": "2021-10-15T20:08:24.179Z"
   },
   {
    "duration": 16,
    "start_time": "2021-10-15T20:08:24.190Z"
   },
   {
    "duration": 18,
    "start_time": "2021-10-15T20:08:24.209Z"
   },
   {
    "duration": 16,
    "start_time": "2021-10-15T20:09:01.643Z"
   },
   {
    "duration": 98,
    "start_time": "2021-10-15T21:10:25.550Z"
   },
   {
    "duration": 3,
    "start_time": "2021-10-15T21:10:44.028Z"
   },
   {
    "duration": 96,
    "start_time": "2021-10-15T21:11:07.385Z"
   },
   {
    "duration": 100,
    "start_time": "2021-10-15T21:11:40.092Z"
   },
   {
    "duration": 102,
    "start_time": "2021-10-15T21:12:26.739Z"
   },
   {
    "duration": 20,
    "start_time": "2021-10-15T21:12:43.156Z"
   },
   {
    "duration": 11,
    "start_time": "2021-10-15T21:12:55.140Z"
   },
   {
    "duration": 1231,
    "start_time": "2021-10-15T21:13:01.549Z"
   },
   {
    "duration": 41,
    "start_time": "2021-10-15T21:13:08.498Z"
   },
   {
    "duration": 17,
    "start_time": "2021-10-15T21:16:40.794Z"
   },
   {
    "duration": 1204,
    "start_time": "2021-10-15T21:16:43.192Z"
   },
   {
    "duration": 35,
    "start_time": "2021-10-15T21:16:44.398Z"
   },
   {
    "duration": 17,
    "start_time": "2021-10-15T21:17:14.755Z"
   },
   {
    "duration": 1208,
    "start_time": "2021-10-15T21:17:15.627Z"
   },
   {
    "duration": 40,
    "start_time": "2021-10-15T21:17:16.837Z"
   },
   {
    "duration": 18,
    "start_time": "2021-10-15T21:20:37.365Z"
   },
   {
    "duration": 1182,
    "start_time": "2021-10-15T21:20:38.195Z"
   },
   {
    "duration": 32,
    "start_time": "2021-10-15T21:20:39.380Z"
   },
   {
    "duration": 18,
    "start_time": "2021-10-15T21:21:17.659Z"
   },
   {
    "duration": 13,
    "start_time": "2021-10-15T21:21:23.806Z"
   },
   {
    "duration": 18,
    "start_time": "2021-10-15T21:21:45.429Z"
   },
   {
    "duration": 17,
    "start_time": "2021-10-15T21:21:58.491Z"
   },
   {
    "duration": 1190,
    "start_time": "2021-10-15T21:21:58.985Z"
   },
   {
    "duration": 34,
    "start_time": "2021-10-15T21:22:00.178Z"
   },
   {
    "duration": 17,
    "start_time": "2021-10-15T21:24:14.253Z"
   },
   {
    "duration": 1183,
    "start_time": "2021-10-15T21:24:14.661Z"
   },
   {
    "duration": 41,
    "start_time": "2021-10-15T21:24:15.847Z"
   },
   {
    "duration": 17,
    "start_time": "2021-10-15T21:24:39.645Z"
   },
   {
    "duration": 1177,
    "start_time": "2021-10-15T21:24:40.149Z"
   },
   {
    "duration": 41,
    "start_time": "2021-10-15T21:24:41.329Z"
   },
   {
    "duration": 16,
    "start_time": "2021-10-15T21:27:16.753Z"
   },
   {
    "duration": 1243,
    "start_time": "2021-10-15T21:27:17.335Z"
   },
   {
    "duration": 35,
    "start_time": "2021-10-15T21:27:18.581Z"
   },
   {
    "duration": 19,
    "start_time": "2021-10-15T21:30:13.141Z"
   },
   {
    "duration": 1198,
    "start_time": "2021-10-15T21:30:14.387Z"
   },
   {
    "duration": 32,
    "start_time": "2021-10-15T21:30:15.587Z"
   },
   {
    "duration": 568,
    "start_time": "2021-10-15T21:30:24.043Z"
   },
   {
    "duration": 16,
    "start_time": "2021-10-15T21:30:30.893Z"
   },
   {
    "duration": 17,
    "start_time": "2021-10-15T21:30:37.478Z"
   },
   {
    "duration": 7,
    "start_time": "2021-10-15T21:30:45.321Z"
   },
   {
    "duration": 4,
    "start_time": "2021-10-15T21:31:02.863Z"
   },
   {
    "duration": 3,
    "start_time": "2021-10-15T21:31:13.855Z"
   },
   {
    "duration": 465,
    "start_time": "2021-10-15T21:35:31.491Z"
   },
   {
    "duration": 19,
    "start_time": "2021-10-15T21:35:35.710Z"
   },
   {
    "duration": 1190,
    "start_time": "2021-10-15T21:35:36.340Z"
   },
   {
    "duration": 4,
    "start_time": "2021-10-15T21:35:37.533Z"
   },
   {
    "duration": 577,
    "start_time": "2021-10-15T21:35:37.642Z"
   },
   {
    "duration": 16,
    "start_time": "2021-10-15T21:35:38.902Z"
   },
   {
    "duration": 17,
    "start_time": "2021-10-15T21:35:40.141Z"
   },
   {
    "duration": 15,
    "start_time": "2021-10-15T22:07:49.500Z"
   },
   {
    "duration": 270,
    "start_time": "2021-10-15T22:08:46.538Z"
   },
   {
    "duration": 14,
    "start_time": "2021-10-15T22:09:58.000Z"
   },
   {
    "duration": 288,
    "start_time": "2021-10-15T22:12:39.916Z"
   },
   {
    "duration": 14,
    "start_time": "2021-10-15T22:15:00.425Z"
   },
   {
    "duration": 9,
    "start_time": "2021-10-15T22:15:19.892Z"
   },
   {
    "duration": 11,
    "start_time": "2021-10-15T22:15:30.942Z"
   },
   {
    "duration": 278,
    "start_time": "2021-10-15T22:15:53.821Z"
   },
   {
    "duration": 8,
    "start_time": "2021-10-15T22:16:03.424Z"
   },
   {
    "duration": 13,
    "start_time": "2021-10-15T22:16:07.444Z"
   },
   {
    "duration": 23,
    "start_time": "2021-10-15T22:19:52.595Z"
   },
   {
    "duration": 269,
    "start_time": "2021-10-15T22:20:45.603Z"
   },
   {
    "duration": 9,
    "start_time": "2021-10-15T22:21:01.899Z"
   },
   {
    "duration": 270,
    "start_time": "2021-10-15T22:21:14.914Z"
   },
   {
    "duration": 10,
    "start_time": "2021-10-15T22:21:48.477Z"
   },
   {
    "duration": 12,
    "start_time": "2021-10-15T22:21:54.000Z"
   },
   {
    "duration": 11,
    "start_time": "2021-10-15T22:24:03.576Z"
   },
   {
    "duration": 17,
    "start_time": "2021-10-15T22:24:09.594Z"
   },
   {
    "duration": 15,
    "start_time": "2021-10-15T22:24:35.702Z"
   },
   {
    "duration": 10,
    "start_time": "2021-10-15T22:25:31.827Z"
   },
   {
    "duration": 15,
    "start_time": "2021-10-15T22:25:38.446Z"
   },
   {
    "duration": 299,
    "start_time": "2021-10-15T22:26:00.544Z"
   },
   {
    "duration": 328,
    "start_time": "2021-10-15T22:26:12.827Z"
   },
   {
    "duration": 1610,
    "start_time": "2021-10-15T22:27:05.161Z"
   },
   {
    "duration": 265,
    "start_time": "2021-10-15T22:27:12.299Z"
   },
   {
    "duration": 687,
    "start_time": "2021-10-15T22:28:22.901Z"
   },
   {
    "duration": 675,
    "start_time": "2021-10-15T22:29:25.075Z"
   },
   {
    "duration": 607,
    "start_time": "2021-10-15T22:29:42.947Z"
   },
   {
    "duration": 695,
    "start_time": "2021-10-15T22:30:00.018Z"
   },
   {
    "duration": 717,
    "start_time": "2021-10-15T22:30:18.522Z"
   },
   {
    "duration": 836,
    "start_time": "2021-10-15T22:30:28.826Z"
   },
   {
    "duration": 804,
    "start_time": "2021-10-15T22:30:43.017Z"
   },
   {
    "duration": 844,
    "start_time": "2021-10-15T22:31:28.662Z"
   },
   {
    "duration": 897,
    "start_time": "2021-10-15T22:31:47.747Z"
   },
   {
    "duration": 19,
    "start_time": "2021-10-15T22:35:20.925Z"
   },
   {
    "duration": 848,
    "start_time": "2021-10-15T22:37:02.291Z"
   },
   {
    "duration": 740,
    "start_time": "2021-10-15T22:37:14.966Z"
   },
   {
    "duration": 665,
    "start_time": "2021-10-15T22:38:14.402Z"
   },
   {
    "duration": 17,
    "start_time": "2021-10-15T22:38:23.998Z"
   },
   {
    "duration": 17,
    "start_time": "2021-10-15T22:38:34.218Z"
   },
   {
    "duration": 4,
    "start_time": "2021-10-15T22:44:29.416Z"
   },
   {
    "duration": 17,
    "start_time": "2021-10-15T22:44:29.940Z"
   },
   {
    "duration": 716,
    "start_time": "2021-10-15T22:44:30.502Z"
   },
   {
    "duration": 804,
    "start_time": "2021-10-15T22:51:48.882Z"
   },
   {
    "duration": 788,
    "start_time": "2021-10-15T22:52:02.407Z"
   },
   {
    "duration": 1581,
    "start_time": "2021-10-15T22:52:23.904Z"
   },
   {
    "duration": 728,
    "start_time": "2021-10-15T22:52:46.467Z"
   },
   {
    "duration": 516,
    "start_time": "2021-10-15T22:53:07.585Z"
   },
   {
    "duration": 555,
    "start_time": "2021-10-15T22:53:37.581Z"
   },
   {
    "duration": 4,
    "start_time": "2021-10-15T22:54:56.799Z"
   },
   {
    "duration": 518,
    "start_time": "2021-10-15T22:56:54.486Z"
   },
   {
    "duration": 4,
    "start_time": "2021-10-15T23:06:14.841Z"
   },
   {
    "duration": 15,
    "start_time": "2021-10-15T23:06:42.184Z"
   },
   {
    "duration": 17,
    "start_time": "2021-10-15T23:07:33.907Z"
   },
   {
    "duration": 15,
    "start_time": "2021-10-15T23:08:07.947Z"
   },
   {
    "duration": 15,
    "start_time": "2021-10-15T23:08:41.490Z"
   },
   {
    "duration": 422,
    "start_time": "2021-10-15T23:14:39.045Z"
   },
   {
    "duration": 433,
    "start_time": "2021-10-15T23:15:48.456Z"
   },
   {
    "duration": 444,
    "start_time": "2021-10-15T23:16:43.787Z"
   },
   {
    "duration": 25,
    "start_time": "2021-10-15T23:22:12.216Z"
   },
   {
    "duration": 28,
    "start_time": "2021-10-15T23:22:28.720Z"
   },
   {
    "duration": 21,
    "start_time": "2021-10-15T23:23:07.008Z"
   },
   {
    "duration": 27,
    "start_time": "2021-10-15T23:23:17.650Z"
   },
   {
    "duration": 115,
    "start_time": "2021-10-16T11:49:32.004Z"
   },
   {
    "duration": 395,
    "start_time": "2021-10-16T11:49:42.984Z"
   },
   {
    "duration": 1908,
    "start_time": "2021-10-16T11:49:49.567Z"
   },
   {
    "duration": 3,
    "start_time": "2021-10-16T11:49:51.477Z"
   },
   {
    "duration": 6,
    "start_time": "2021-10-16T11:49:51.482Z"
   },
   {
    "duration": 5,
    "start_time": "2021-10-16T11:49:51.490Z"
   },
   {
    "duration": 6,
    "start_time": "2021-10-16T11:49:51.497Z"
   },
   {
    "duration": 50,
    "start_time": "2021-10-16T11:49:51.504Z"
   },
   {
    "duration": 11,
    "start_time": "2021-10-16T11:49:51.556Z"
   },
   {
    "duration": 14,
    "start_time": "2021-10-16T11:49:51.569Z"
   },
   {
    "duration": 20,
    "start_time": "2021-10-16T11:49:51.587Z"
   },
   {
    "duration": 5,
    "start_time": "2021-10-16T11:49:51.610Z"
   },
   {
    "duration": 19,
    "start_time": "2021-10-16T11:49:51.616Z"
   },
   {
    "duration": 8,
    "start_time": "2021-10-16T11:49:51.636Z"
   },
   {
    "duration": 250,
    "start_time": "2021-10-16T11:49:51.646Z"
   },
   {
    "duration": 9,
    "start_time": "2021-10-16T11:49:51.898Z"
   },
   {
    "duration": 8,
    "start_time": "2021-10-16T11:49:51.908Z"
   },
   {
    "duration": 5,
    "start_time": "2021-10-16T11:49:51.918Z"
   },
   {
    "duration": 16,
    "start_time": "2021-10-16T11:49:51.925Z"
   },
   {
    "duration": 782,
    "start_time": "2021-10-16T11:49:51.943Z"
   },
   {
    "duration": 3,
    "start_time": "2021-10-16T11:49:52.727Z"
   },
   {
    "duration": 279,
    "start_time": "2021-10-16T11:49:52.732Z"
   },
   {
    "duration": 26,
    "start_time": "2021-10-16T11:49:53.013Z"
   },
   {
    "duration": 9,
    "start_time": "2021-10-16T11:49:53.041Z"
   },
   {
    "duration": 17,
    "start_time": "2021-10-16T11:49:53.051Z"
   },
   {
    "duration": 8,
    "start_time": "2021-10-16T11:49:53.069Z"
   },
   {
    "duration": 9,
    "start_time": "2021-10-16T11:49:53.078Z"
   },
   {
    "duration": 9,
    "start_time": "2021-10-16T11:49:53.088Z"
   },
   {
    "duration": 8,
    "start_time": "2021-10-16T11:49:53.100Z"
   },
   {
    "duration": 16,
    "start_time": "2021-10-16T11:49:53.109Z"
   },
   {
    "duration": 15,
    "start_time": "2021-10-16T11:49:53.127Z"
   },
   {
    "duration": 593,
    "start_time": "2021-10-16T11:49:53.144Z"
   },
   {
    "duration": 401,
    "start_time": "2021-10-16T11:49:53.739Z"
   },
   {
    "duration": 388,
    "start_time": "2021-10-16T11:49:54.141Z"
   },
   {
    "duration": 10,
    "start_time": "2021-10-16T11:49:54.530Z"
   },
   {
    "duration": 260,
    "start_time": "2021-10-16T11:49:54.541Z"
   },
   {
    "duration": 16,
    "start_time": "2021-10-16T11:49:54.803Z"
   },
   {
    "duration": 441,
    "start_time": "2021-10-16T11:49:54.821Z"
   },
   {
    "duration": 381,
    "start_time": "2021-10-16T11:49:54.883Z"
   },
   {
    "duration": 540,
    "start_time": "2021-10-16T11:50:24.042Z"
   },
   {
    "duration": 486,
    "start_time": "2021-10-16T11:50:51.100Z"
   },
   {
    "duration": 679,
    "start_time": "2021-10-16T11:51:10.844Z"
   },
   {
    "duration": 694,
    "start_time": "2021-10-16T13:06:28.952Z"
   },
   {
    "duration": 749,
    "start_time": "2021-10-16T13:06:43.852Z"
   },
   {
    "duration": 22,
    "start_time": "2021-10-16T13:07:19.483Z"
   },
   {
    "duration": 809,
    "start_time": "2021-10-16T13:07:31.896Z"
   },
   {
    "duration": 745,
    "start_time": "2021-10-16T13:07:43.470Z"
   },
   {
    "duration": 735,
    "start_time": "2021-10-16T13:07:53.067Z"
   },
   {
    "duration": 509,
    "start_time": "2021-10-16T13:09:00.985Z"
   },
   {
    "duration": 111,
    "start_time": "2021-10-16T13:13:07.825Z"
   },
   {
    "duration": 10,
    "start_time": "2021-10-16T13:13:19.391Z"
   },
   {
    "duration": 110,
    "start_time": "2021-10-16T13:13:41.711Z"
   },
   {
    "duration": 10,
    "start_time": "2021-10-16T13:13:42.882Z"
   },
   {
    "duration": 3,
    "start_time": "2021-10-16T13:13:46.246Z"
   },
   {
    "duration": 4,
    "start_time": "2021-10-16T13:13:46.251Z"
   },
   {
    "duration": 4,
    "start_time": "2021-10-16T13:13:46.257Z"
   },
   {
    "duration": 4,
    "start_time": "2021-10-16T13:13:46.263Z"
   },
   {
    "duration": 5,
    "start_time": "2021-10-16T13:13:46.268Z"
   },
   {
    "duration": 45,
    "start_time": "2021-10-16T13:13:46.274Z"
   },
   {
    "duration": 7,
    "start_time": "2021-10-16T13:13:46.321Z"
   },
   {
    "duration": 12,
    "start_time": "2021-10-16T13:13:46.331Z"
   },
   {
    "duration": 16,
    "start_time": "2021-10-16T13:13:46.345Z"
   },
   {
    "duration": 4,
    "start_time": "2021-10-16T13:13:46.376Z"
   },
   {
    "duration": 9,
    "start_time": "2021-10-16T13:13:46.382Z"
   },
   {
    "duration": 4,
    "start_time": "2021-10-16T13:13:46.393Z"
   },
   {
    "duration": 203,
    "start_time": "2021-10-16T13:13:46.399Z"
   },
   {
    "duration": 9,
    "start_time": "2021-10-16T13:13:46.603Z"
   },
   {
    "duration": 4,
    "start_time": "2021-10-16T13:13:46.614Z"
   },
   {
    "duration": 4,
    "start_time": "2021-10-16T13:13:46.619Z"
   },
   {
    "duration": 11,
    "start_time": "2021-10-16T13:13:46.625Z"
   },
   {
    "duration": 766,
    "start_time": "2021-10-16T13:13:46.638Z"
   },
   {
    "duration": 3,
    "start_time": "2021-10-16T13:13:47.405Z"
   },
   {
    "duration": 276,
    "start_time": "2021-10-16T13:13:47.409Z"
   },
   {
    "duration": 13,
    "start_time": "2021-10-16T13:13:47.686Z"
   },
   {
    "duration": 5,
    "start_time": "2021-10-16T13:13:47.700Z"
   },
   {
    "duration": 125,
    "start_time": "2021-10-16T13:13:47.708Z"
   },
   {
    "duration": 115,
    "start_time": "2021-10-16T13:13:47.835Z"
   },
   {
    "duration": 10,
    "start_time": "2021-10-16T13:13:47.952Z"
   },
   {
    "duration": 14,
    "start_time": "2021-10-16T13:13:47.963Z"
   },
   {
    "duration": 12,
    "start_time": "2021-10-16T13:13:47.979Z"
   },
   {
    "duration": 17,
    "start_time": "2021-10-16T13:13:47.992Z"
   },
   {
    "duration": 5,
    "start_time": "2021-10-16T13:13:48.010Z"
   },
   {
    "duration": 31,
    "start_time": "2021-10-16T13:13:48.017Z"
   },
   {
    "duration": 19,
    "start_time": "2021-10-16T13:13:48.050Z"
   },
   {
    "duration": 15,
    "start_time": "2021-10-16T13:13:48.070Z"
   },
   {
    "duration": 408,
    "start_time": "2021-10-16T13:13:48.087Z"
   },
   {
    "duration": 301,
    "start_time": "2021-10-16T13:13:48.497Z"
   },
   {
    "duration": 9,
    "start_time": "2021-10-16T13:13:48.800Z"
   },
   {
    "duration": 258,
    "start_time": "2021-10-16T13:13:48.811Z"
   },
   {
    "duration": 20,
    "start_time": "2021-10-16T13:13:49.071Z"
   },
   {
    "duration": 500,
    "start_time": "2021-10-16T13:13:49.092Z"
   },
   {
    "duration": 348,
    "start_time": "2021-10-16T13:14:18.191Z"
   },
   {
    "duration": 244,
    "start_time": "2021-10-16T13:14:25.736Z"
   },
   {
    "duration": 11,
    "start_time": "2021-10-16T13:19:59.888Z"
   },
   {
    "duration": 331,
    "start_time": "2021-10-16T13:21:39.219Z"
   },
   {
    "duration": 715,
    "start_time": "2021-10-16T13:25:52.554Z"
   },
   {
    "duration": 363,
    "start_time": "2021-10-16T13:26:13.797Z"
   },
   {
    "duration": 368,
    "start_time": "2021-10-16T13:27:55.577Z"
   },
   {
    "duration": 2471,
    "start_time": "2021-10-16T16:42:29.379Z"
   },
   {
    "duration": 51,
    "start_time": "2021-10-16T16:43:07.720Z"
   },
   {
    "duration": 7,
    "start_time": "2021-10-16T16:51:58.324Z"
   },
   {
    "duration": 34,
    "start_time": "2021-10-16T16:52:17.030Z"
   },
   {
    "duration": 394,
    "start_time": "2021-10-16T16:52:42.345Z"
   },
   {
    "duration": 393,
    "start_time": "2021-10-16T16:52:49.762Z"
   },
   {
    "duration": 612,
    "start_time": "2021-10-16T16:52:53.809Z"
   },
   {
    "duration": 4,
    "start_time": "2021-10-16T16:52:54.424Z"
   },
   {
    "duration": 6,
    "start_time": "2021-10-16T16:52:54.431Z"
   },
   {
    "duration": 7,
    "start_time": "2021-10-16T16:52:54.441Z"
   },
   {
    "duration": 7,
    "start_time": "2021-10-16T16:52:54.450Z"
   },
   {
    "duration": 61,
    "start_time": "2021-10-16T16:52:54.459Z"
   },
   {
    "duration": 15,
    "start_time": "2021-10-16T16:52:54.522Z"
   },
   {
    "duration": 33,
    "start_time": "2021-10-16T16:52:54.541Z"
   },
   {
    "duration": 27,
    "start_time": "2021-10-16T16:52:54.578Z"
   },
   {
    "duration": 7,
    "start_time": "2021-10-16T16:52:54.608Z"
   },
   {
    "duration": 50,
    "start_time": "2021-10-16T16:52:54.617Z"
   },
   {
    "duration": 5,
    "start_time": "2021-10-16T16:52:54.669Z"
   },
   {
    "duration": 337,
    "start_time": "2021-10-16T16:52:54.676Z"
   },
   {
    "duration": 13,
    "start_time": "2021-10-16T16:52:55.016Z"
   },
   {
    "duration": 7,
    "start_time": "2021-10-16T16:52:55.032Z"
   },
   {
    "duration": 26,
    "start_time": "2021-10-16T16:52:55.041Z"
   },
   {
    "duration": 19,
    "start_time": "2021-10-16T16:52:55.070Z"
   },
   {
    "duration": 1204,
    "start_time": "2021-10-16T16:52:55.092Z"
   },
   {
    "duration": 3,
    "start_time": "2021-10-16T16:52:56.299Z"
   },
   {
    "duration": 590,
    "start_time": "2021-10-16T16:52:56.304Z"
   },
   {
    "duration": 31,
    "start_time": "2021-10-16T16:52:56.896Z"
   },
   {
    "duration": 7,
    "start_time": "2021-10-16T16:52:56.930Z"
   },
   {
    "duration": 243,
    "start_time": "2021-10-16T16:52:56.940Z"
   },
   {
    "duration": 228,
    "start_time": "2021-10-16T16:52:57.185Z"
   },
   {
    "duration": 16,
    "start_time": "2021-10-16T16:52:57.415Z"
   },
   {
    "duration": 9,
    "start_time": "2021-10-16T16:52:57.433Z"
   },
   {
    "duration": 14,
    "start_time": "2021-10-16T16:52:57.467Z"
   },
   {
    "duration": 11,
    "start_time": "2021-10-16T16:52:57.484Z"
   },
   {
    "duration": 10,
    "start_time": "2021-10-16T16:52:57.498Z"
   },
   {
    "duration": 22,
    "start_time": "2021-10-16T16:52:57.511Z"
   },
   {
    "duration": 21,
    "start_time": "2021-10-16T16:52:57.569Z"
   },
   {
    "duration": 544,
    "start_time": "2021-10-16T16:52:57.593Z"
   },
   {
    "duration": 926,
    "start_time": "2021-10-16T16:52:58.141Z"
   },
   {
    "duration": 773,
    "start_time": "2021-10-16T16:52:59.070Z"
   },
   {
    "duration": 29,
    "start_time": "2021-10-16T16:52:59.846Z"
   },
   {
    "duration": 479,
    "start_time": "2021-10-16T16:52:59.878Z"
   },
   {
    "duration": 28,
    "start_time": "2021-10-16T16:53:00.367Z"
   },
   {
    "duration": 6,
    "start_time": "2021-10-16T16:53:00.397Z"
   },
   {
    "duration": 741,
    "start_time": "2021-10-16T16:53:00.405Z"
   },
   {
    "duration": 646,
    "start_time": "2021-10-16T16:53:01.149Z"
   },
   {
    "duration": 40,
    "start_time": "2021-10-16T16:53:01.798Z"
   },
   {
    "duration": 1117,
    "start_time": "2021-10-16T16:53:01.840Z"
   },
   {
    "duration": 319,
    "start_time": "2021-10-16T16:53:02.967Z"
   },
   {
    "duration": 12,
    "start_time": "2021-10-16T16:53:37.380Z"
   },
   {
    "duration": 1027,
    "start_time": "2021-10-16T16:56:38.654Z"
   },
   {
    "duration": 1251,
    "start_time": "2021-10-16T16:58:32.547Z"
   },
   {
    "duration": 783,
    "start_time": "2021-10-16T17:05:47.493Z"
   },
   {
    "duration": 786,
    "start_time": "2021-10-16T17:06:01.551Z"
   },
   {
    "duration": 807,
    "start_time": "2021-10-16T17:07:48.764Z"
   },
   {
    "duration": 875,
    "start_time": "2021-10-16T17:08:03.816Z"
   },
   {
    "duration": 938,
    "start_time": "2021-10-16T17:08:20.353Z"
   },
   {
    "duration": 756,
    "start_time": "2021-10-16T17:18:45.374Z"
   },
   {
    "duration": 73,
    "start_time": "2021-10-16T17:19:20.623Z"
   },
   {
    "duration": 9,
    "start_time": "2021-10-16T17:20:16.568Z"
   },
   {
    "duration": 17,
    "start_time": "2021-10-16T17:20:21.485Z"
   },
   {
    "duration": 14,
    "start_time": "2021-10-16T17:20:34.692Z"
   },
   {
    "duration": 16,
    "start_time": "2021-10-16T17:20:44.199Z"
   },
   {
    "duration": 15,
    "start_time": "2021-10-16T17:22:57.182Z"
   },
   {
    "duration": 19,
    "start_time": "2021-10-16T17:23:07.152Z"
   },
   {
    "duration": 10,
    "start_time": "2021-10-16T17:23:23.982Z"
   },
   {
    "duration": 11,
    "start_time": "2021-10-16T17:23:50.672Z"
   },
   {
    "duration": 12,
    "start_time": "2021-10-16T17:25:59.798Z"
   },
   {
    "duration": 827,
    "start_time": "2021-10-17T01:10:02.515Z"
   },
   {
    "duration": 868,
    "start_time": "2021-10-17T01:10:23.728Z"
   },
   {
    "duration": 802,
    "start_time": "2021-10-17T01:19:53.740Z"
   },
   {
    "duration": 1973,
    "start_time": "2021-10-17T01:28:59.411Z"
   },
   {
    "duration": 31,
    "start_time": "2021-10-17T01:29:13.753Z"
   },
   {
    "duration": 19,
    "start_time": "2021-10-17T01:29:30.710Z"
   },
   {
    "duration": 21,
    "start_time": "2021-10-17T01:29:46.778Z"
   },
   {
    "duration": 968,
    "start_time": "2021-10-17T01:30:03.625Z"
   },
   {
    "duration": 27,
    "start_time": "2021-10-17T01:30:10.019Z"
   },
   {
    "duration": 26,
    "start_time": "2021-10-17T01:34:57.304Z"
   },
   {
    "duration": 959,
    "start_time": "2021-10-17T01:37:54.028Z"
   },
   {
    "duration": 92,
    "start_time": "2021-10-17T01:38:25.510Z"
   },
   {
    "duration": 27,
    "start_time": "2021-10-17T01:38:29.809Z"
   },
   {
    "duration": 89,
    "start_time": "2021-10-17T01:40:09.567Z"
   },
   {
    "duration": 94,
    "start_time": "2021-10-17T01:41:16.249Z"
   },
   {
    "duration": 27,
    "start_time": "2021-10-17T01:42:02.571Z"
   },
   {
    "duration": 37,
    "start_time": "2021-10-17T01:42:07.761Z"
   },
   {
    "duration": 29,
    "start_time": "2021-10-17T01:42:27.035Z"
   },
   {
    "duration": 81,
    "start_time": "2021-10-17T01:43:53.541Z"
   },
   {
    "duration": 26,
    "start_time": "2021-10-17T01:43:57.887Z"
   },
   {
    "duration": 278,
    "start_time": "2021-10-17T01:45:05.909Z"
   },
   {
    "duration": 26,
    "start_time": "2021-10-17T01:45:22.349Z"
   },
   {
    "duration": 6,
    "start_time": "2021-10-17T01:45:37.364Z"
   },
   {
    "duration": 13,
    "start_time": "2021-10-17T01:45:47.696Z"
   },
   {
    "duration": 16,
    "start_time": "2021-10-17T01:46:18.327Z"
   },
   {
    "duration": 18,
    "start_time": "2021-10-17T01:47:59.818Z"
   },
   {
    "duration": 26,
    "start_time": "2021-10-17T01:48:04.667Z"
   },
   {
    "duration": 33,
    "start_time": "2021-10-17T01:48:51.286Z"
   },
   {
    "duration": 85,
    "start_time": "2021-10-17T01:49:23.499Z"
   },
   {
    "duration": 85,
    "start_time": "2021-10-17T01:50:27.287Z"
   },
   {
    "duration": 253,
    "start_time": "2021-10-17T01:50:33.921Z"
   },
   {
    "duration": 585,
    "start_time": "2021-10-17T01:51:49.976Z"
   },
   {
    "duration": 17,
    "start_time": "2021-10-17T01:54:27.053Z"
   },
   {
    "duration": 264,
    "start_time": "2021-10-17T01:54:58.452Z"
   },
   {
    "duration": 18,
    "start_time": "2021-10-17T01:55:38.609Z"
   },
   {
    "duration": 18,
    "start_time": "2021-10-17T02:00:05.964Z"
   },
   {
    "duration": 29,
    "start_time": "2021-10-17T02:03:05.930Z"
   },
   {
    "duration": 14,
    "start_time": "2021-10-17T02:05:05.004Z"
   },
   {
    "duration": 720,
    "start_time": "2021-10-17T02:10:41.402Z"
   },
   {
    "duration": 749,
    "start_time": "2021-10-17T02:11:32.407Z"
   },
   {
    "duration": 15,
    "start_time": "2021-10-17T02:12:25.005Z"
   },
   {
    "duration": 14,
    "start_time": "2021-10-17T02:12:36.554Z"
   },
   {
    "duration": 704,
    "start_time": "2021-10-17T02:12:57.741Z"
   },
   {
    "duration": 14,
    "start_time": "2021-10-17T02:14:22.563Z"
   },
   {
    "duration": 13,
    "start_time": "2021-10-17T02:15:29.804Z"
   },
   {
    "duration": 14,
    "start_time": "2021-10-17T02:15:39.320Z"
   },
   {
    "duration": 14,
    "start_time": "2021-10-17T02:16:03.981Z"
   },
   {
    "duration": 801,
    "start_time": "2021-10-17T02:18:19.111Z"
   },
   {
    "duration": 818,
    "start_time": "2021-10-17T02:24:39.644Z"
   },
   {
    "duration": 941,
    "start_time": "2021-10-17T02:24:45.031Z"
   },
   {
    "duration": 852,
    "start_time": "2021-10-17T02:24:51.581Z"
   },
   {
    "duration": 852,
    "start_time": "2021-10-17T02:25:33.710Z"
   },
   {
    "duration": 23,
    "start_time": "2021-10-17T02:25:56.704Z"
   },
   {
    "duration": 15,
    "start_time": "2021-10-17T02:26:00.348Z"
   },
   {
    "duration": 869,
    "start_time": "2021-10-17T02:27:12.431Z"
   },
   {
    "duration": 19,
    "start_time": "2021-10-17T02:28:13.962Z"
   },
   {
    "duration": 15,
    "start_time": "2021-10-17T02:28:20.311Z"
   },
   {
    "duration": 14,
    "start_time": "2021-10-17T02:28:39.636Z"
   },
   {
    "duration": 13,
    "start_time": "2021-10-17T02:28:53.334Z"
   },
   {
    "duration": 18,
    "start_time": "2021-10-17T02:39:41.644Z"
   },
   {
    "duration": 875,
    "start_time": "2021-10-17T02:39:50.786Z"
   },
   {
    "duration": 1011,
    "start_time": "2021-10-17T02:41:00.943Z"
   },
   {
    "duration": 639,
    "start_time": "2021-10-17T02:41:19.589Z"
   },
   {
    "duration": 690,
    "start_time": "2021-10-17T02:41:32.084Z"
   },
   {
    "duration": 898,
    "start_time": "2021-10-17T02:41:41.897Z"
   },
   {
    "duration": 774,
    "start_time": "2021-10-17T02:41:54.613Z"
   },
   {
    "duration": 5,
    "start_time": "2021-10-17T02:42:50.753Z"
   },
   {
    "duration": 12,
    "start_time": "2021-10-17T02:42:50.760Z"
   },
   {
    "duration": 7,
    "start_time": "2021-10-17T02:42:50.776Z"
   },
   {
    "duration": 7,
    "start_time": "2021-10-17T02:42:50.786Z"
   },
   {
    "duration": 13,
    "start_time": "2021-10-17T02:42:50.795Z"
   },
   {
    "duration": 96,
    "start_time": "2021-10-17T02:42:50.811Z"
   },
   {
    "duration": 13,
    "start_time": "2021-10-17T02:42:50.909Z"
   },
   {
    "duration": 14,
    "start_time": "2021-10-17T02:42:50.927Z"
   },
   {
    "duration": 29,
    "start_time": "2021-10-17T02:42:50.973Z"
   },
   {
    "duration": 7,
    "start_time": "2021-10-17T02:42:51.005Z"
   },
   {
    "duration": 17,
    "start_time": "2021-10-17T02:42:51.015Z"
   },
   {
    "duration": 39,
    "start_time": "2021-10-17T02:42:51.034Z"
   },
   {
    "duration": 370,
    "start_time": "2021-10-17T02:42:51.076Z"
   },
   {
    "duration": 23,
    "start_time": "2021-10-17T02:42:51.449Z"
   },
   {
    "duration": 4,
    "start_time": "2021-10-17T02:42:51.476Z"
   },
   {
    "duration": 4,
    "start_time": "2021-10-17T02:42:51.485Z"
   },
   {
    "duration": 19,
    "start_time": "2021-10-17T02:42:51.492Z"
   },
   {
    "duration": 1349,
    "start_time": "2021-10-17T02:42:51.513Z"
   },
   {
    "duration": 4,
    "start_time": "2021-10-17T02:42:52.868Z"
   },
   {
    "duration": 616,
    "start_time": "2021-10-17T02:42:52.875Z"
   },
   {
    "duration": 20,
    "start_time": "2021-10-17T02:42:53.493Z"
   },
   {
    "duration": 6,
    "start_time": "2021-10-17T02:42:53.516Z"
   },
   {
    "duration": 269,
    "start_time": "2021-10-17T02:42:53.527Z"
   },
   {
    "duration": 234,
    "start_time": "2021-10-17T02:42:53.799Z"
   },
   {
    "duration": 15,
    "start_time": "2021-10-17T02:42:54.035Z"
   },
   {
    "duration": 22,
    "start_time": "2021-10-17T02:42:54.052Z"
   },
   {
    "duration": 11,
    "start_time": "2021-10-17T02:42:54.079Z"
   },
   {
    "duration": 11,
    "start_time": "2021-10-17T02:42:54.092Z"
   },
   {
    "duration": 9,
    "start_time": "2021-10-17T02:42:54.105Z"
   },
   {
    "duration": 68,
    "start_time": "2021-10-17T02:42:54.116Z"
   },
   {
    "duration": 22,
    "start_time": "2021-10-17T02:42:54.187Z"
   },
   {
    "duration": 15,
    "start_time": "2021-10-17T02:42:54.211Z"
   },
   {
    "duration": 985,
    "start_time": "2021-10-17T02:42:54.229Z"
   },
   {
    "duration": 586,
    "start_time": "2021-10-17T02:42:55.217Z"
   },
   {
    "duration": 14,
    "start_time": "2021-10-17T02:42:55.806Z"
   },
   {
    "duration": 505,
    "start_time": "2021-10-17T02:42:55.823Z"
   },
   {
    "duration": 41,
    "start_time": "2021-10-17T02:42:56.331Z"
   },
   {
    "duration": 26,
    "start_time": "2021-10-17T02:42:56.376Z"
   },
   {
    "duration": 18,
    "start_time": "2021-10-17T02:42:56.405Z"
   },
   {
    "duration": 802,
    "start_time": "2021-10-17T02:42:56.426Z"
   },
   {
    "duration": 721,
    "start_time": "2021-10-17T02:43:54.888Z"
   },
   {
    "duration": 717,
    "start_time": "2021-10-17T02:44:22.855Z"
   },
   {
    "duration": 19,
    "start_time": "2021-10-17T02:45:17.678Z"
   },
   {
    "duration": 821,
    "start_time": "2021-10-17T02:46:01.103Z"
   },
   {
    "duration": 730,
    "start_time": "2021-10-17T02:46:08.841Z"
   },
   {
    "duration": 261,
    "start_time": "2021-10-17T02:48:35.269Z"
   },
   {
    "duration": 260,
    "start_time": "2021-10-17T02:48:54.688Z"
   },
   {
    "duration": 16,
    "start_time": "2021-10-17T02:49:09.509Z"
   },
   {
    "duration": 328,
    "start_time": "2021-10-17T02:49:19.851Z"
   },
   {
    "duration": 300,
    "start_time": "2021-10-17T02:50:03.649Z"
   },
   {
    "duration": 8,
    "start_time": "2021-10-17T02:50:07.068Z"
   },
   {
    "duration": 21,
    "start_time": "2021-10-17T02:50:24.999Z"
   },
   {
    "duration": 10,
    "start_time": "2021-10-17T02:55:54.007Z"
   },
   {
    "duration": 43,
    "start_time": "2021-10-17T02:55:58.594Z"
   },
   {
    "duration": 321,
    "start_time": "2021-10-17T02:56:53.020Z"
   },
   {
    "duration": 274,
    "start_time": "2021-10-17T02:57:15.505Z"
   },
   {
    "duration": 12,
    "start_time": "2021-10-17T02:58:02.202Z"
   },
   {
    "duration": 20,
    "start_time": "2021-10-17T02:59:29.107Z"
   },
   {
    "duration": 5,
    "start_time": "2021-10-17T03:00:41.821Z"
   },
   {
    "duration": 12,
    "start_time": "2021-10-17T03:00:41.828Z"
   },
   {
    "duration": 10,
    "start_time": "2021-10-17T03:00:41.844Z"
   },
   {
    "duration": 9,
    "start_time": "2021-10-17T03:00:41.857Z"
   },
   {
    "duration": 8,
    "start_time": "2021-10-17T03:00:41.868Z"
   },
   {
    "duration": 61,
    "start_time": "2021-10-17T03:00:41.879Z"
   },
   {
    "duration": 26,
    "start_time": "2021-10-17T03:00:41.943Z"
   },
   {
    "duration": 13,
    "start_time": "2021-10-17T03:00:41.971Z"
   },
   {
    "duration": 26,
    "start_time": "2021-10-17T03:00:41.988Z"
   },
   {
    "duration": 52,
    "start_time": "2021-10-17T03:00:42.018Z"
   },
   {
    "duration": 17,
    "start_time": "2021-10-17T03:00:42.073Z"
   },
   {
    "duration": 6,
    "start_time": "2021-10-17T03:00:42.094Z"
   },
   {
    "duration": 355,
    "start_time": "2021-10-17T03:00:42.103Z"
   },
   {
    "duration": 19,
    "start_time": "2021-10-17T03:00:42.461Z"
   },
   {
    "duration": 7,
    "start_time": "2021-10-17T03:00:42.483Z"
   },
   {
    "duration": 10,
    "start_time": "2021-10-17T03:00:42.492Z"
   },
   {
    "duration": 19,
    "start_time": "2021-10-17T03:00:42.505Z"
   },
   {
    "duration": 1311,
    "start_time": "2021-10-17T03:00:42.526Z"
   },
   {
    "duration": 3,
    "start_time": "2021-10-17T03:00:43.839Z"
   },
   {
    "duration": 583,
    "start_time": "2021-10-17T03:00:43.845Z"
   },
   {
    "duration": 18,
    "start_time": "2021-10-17T03:00:44.431Z"
   },
   {
    "duration": 19,
    "start_time": "2021-10-17T03:00:44.451Z"
   },
   {
    "duration": 317,
    "start_time": "2021-10-17T03:00:44.472Z"
   },
   {
    "duration": 217,
    "start_time": "2021-10-17T03:00:44.791Z"
   },
   {
    "duration": 15,
    "start_time": "2021-10-17T03:00:45.010Z"
   },
   {
    "duration": 12,
    "start_time": "2021-10-17T03:00:45.027Z"
   },
   {
    "duration": 29,
    "start_time": "2021-10-17T03:00:45.044Z"
   },
   {
    "duration": 16,
    "start_time": "2021-10-17T03:00:45.076Z"
   },
   {
    "duration": 9,
    "start_time": "2021-10-17T03:00:45.094Z"
   },
   {
    "duration": 33,
    "start_time": "2021-10-17T03:00:45.105Z"
   },
   {
    "duration": 42,
    "start_time": "2021-10-17T03:00:45.140Z"
   },
   {
    "duration": 16,
    "start_time": "2021-10-17T03:00:45.184Z"
   },
   {
    "duration": 807,
    "start_time": "2021-10-17T03:00:45.203Z"
   },
   {
    "duration": 561,
    "start_time": "2021-10-17T03:00:46.013Z"
   },
   {
    "duration": 14,
    "start_time": "2021-10-17T03:00:46.576Z"
   },
   {
    "duration": 502,
    "start_time": "2021-10-17T03:00:46.593Z"
   },
   {
    "duration": 19,
    "start_time": "2021-10-17T03:00:47.097Z"
   },
   {
    "duration": 24,
    "start_time": "2021-10-17T03:00:47.118Z"
   },
   {
    "duration": 24,
    "start_time": "2021-10-17T03:00:47.144Z"
   },
   {
    "duration": 749,
    "start_time": "2021-10-17T03:00:47.171Z"
   },
   {
    "duration": 20,
    "start_time": "2021-10-17T03:00:47.922Z"
   },
   {
    "duration": 128,
    "start_time": "2021-10-17T03:00:47.944Z"
   },
   {
    "duration": 100,
    "start_time": "2021-10-17T03:00:48.074Z"
   },
   {
    "duration": 271,
    "start_time": "2021-10-17T03:01:17.747Z"
   },
   {
    "duration": 5,
    "start_time": "2021-10-17T03:01:28.623Z"
   },
   {
    "duration": 8,
    "start_time": "2021-10-17T03:01:28.631Z"
   },
   {
    "duration": 7,
    "start_time": "2021-10-17T03:01:28.641Z"
   },
   {
    "duration": 5,
    "start_time": "2021-10-17T03:01:28.651Z"
   },
   {
    "duration": 6,
    "start_time": "2021-10-17T03:01:28.660Z"
   },
   {
    "duration": 61,
    "start_time": "2021-10-17T03:01:28.668Z"
   },
   {
    "duration": 12,
    "start_time": "2021-10-17T03:01:28.732Z"
   },
   {
    "duration": 30,
    "start_time": "2021-10-17T03:01:28.747Z"
   },
   {
    "duration": 24,
    "start_time": "2021-10-17T03:01:28.780Z"
   },
   {
    "duration": 6,
    "start_time": "2021-10-17T03:01:28.808Z"
   },
   {
    "duration": 58,
    "start_time": "2021-10-17T03:01:28.817Z"
   },
   {
    "duration": 5,
    "start_time": "2021-10-17T03:01:28.878Z"
   },
   {
    "duration": 344,
    "start_time": "2021-10-17T03:01:28.886Z"
   },
   {
    "duration": 17,
    "start_time": "2021-10-17T03:01:29.233Z"
   },
   {
    "duration": 4,
    "start_time": "2021-10-17T03:01:29.268Z"
   },
   {
    "duration": 7,
    "start_time": "2021-10-17T03:01:29.275Z"
   },
   {
    "duration": 20,
    "start_time": "2021-10-17T03:01:29.285Z"
   },
   {
    "duration": 1230,
    "start_time": "2021-10-17T03:01:29.308Z"
   },
   {
    "duration": 4,
    "start_time": "2021-10-17T03:01:30.541Z"
   },
   {
    "duration": 576,
    "start_time": "2021-10-17T03:01:30.547Z"
   },
   {
    "duration": 20,
    "start_time": "2021-10-17T03:01:31.125Z"
   },
   {
    "duration": 24,
    "start_time": "2021-10-17T03:01:31.147Z"
   },
   {
    "duration": 219,
    "start_time": "2021-10-17T03:01:31.173Z"
   },
   {
    "duration": 216,
    "start_time": "2021-10-17T03:01:31.395Z"
   },
   {
    "duration": 16,
    "start_time": "2021-10-17T03:01:31.615Z"
   },
   {
    "duration": 8,
    "start_time": "2021-10-17T03:01:31.634Z"
   },
   {
    "duration": 35,
    "start_time": "2021-10-17T03:01:31.644Z"
   },
   {
    "duration": 17,
    "start_time": "2021-10-17T03:01:31.681Z"
   },
   {
    "duration": 8,
    "start_time": "2021-10-17T03:01:31.701Z"
   },
   {
    "duration": 17,
    "start_time": "2021-10-17T03:01:31.711Z"
   },
   {
    "duration": 48,
    "start_time": "2021-10-17T03:01:31.731Z"
   },
   {
    "duration": 18,
    "start_time": "2021-10-17T03:01:31.781Z"
   },
   {
    "duration": 817,
    "start_time": "2021-10-17T03:01:31.802Z"
   },
   {
    "duration": 713,
    "start_time": "2021-10-17T03:01:32.621Z"
   },
   {
    "duration": 15,
    "start_time": "2021-10-17T03:01:33.336Z"
   },
   {
    "duration": 476,
    "start_time": "2021-10-17T03:01:33.368Z"
   },
   {
    "duration": 28,
    "start_time": "2021-10-17T03:01:33.846Z"
   },
   {
    "duration": 23,
    "start_time": "2021-10-17T03:01:33.876Z"
   },
   {
    "duration": 18,
    "start_time": "2021-10-17T03:01:33.901Z"
   },
   {
    "duration": 763,
    "start_time": "2021-10-17T03:01:33.922Z"
   },
   {
    "duration": 19,
    "start_time": "2021-10-17T03:01:34.688Z"
   },
   {
    "duration": 98,
    "start_time": "2021-10-17T03:01:34.710Z"
   },
   {
    "duration": 63,
    "start_time": "2021-10-17T03:01:34.810Z"
   },
   {
    "duration": 9,
    "start_time": "2021-10-17T03:02:00.017Z"
   },
   {
    "duration": 15,
    "start_time": "2021-10-17T03:02:06.929Z"
   },
   {
    "duration": 5,
    "start_time": "2021-10-17T03:02:41.543Z"
   },
   {
    "duration": 8,
    "start_time": "2021-10-17T03:02:41.551Z"
   },
   {
    "duration": 8,
    "start_time": "2021-10-17T03:02:41.562Z"
   },
   {
    "duration": 6,
    "start_time": "2021-10-17T03:02:41.573Z"
   },
   {
    "duration": 10,
    "start_time": "2021-10-17T03:02:41.581Z"
   },
   {
    "duration": 76,
    "start_time": "2021-10-17T03:02:41.594Z"
   },
   {
    "duration": 13,
    "start_time": "2021-10-17T03:02:41.673Z"
   },
   {
    "duration": 16,
    "start_time": "2021-10-17T03:02:41.692Z"
   },
   {
    "duration": 68,
    "start_time": "2021-10-17T03:02:41.712Z"
   },
   {
    "duration": 8,
    "start_time": "2021-10-17T03:02:41.783Z"
   },
   {
    "duration": 18,
    "start_time": "2021-10-17T03:02:41.794Z"
   },
   {
    "duration": 6,
    "start_time": "2021-10-17T03:02:41.815Z"
   },
   {
    "duration": 379,
    "start_time": "2021-10-17T03:02:41.824Z"
   },
   {
    "duration": 17,
    "start_time": "2021-10-17T03:02:42.206Z"
   },
   {
    "duration": 4,
    "start_time": "2021-10-17T03:02:42.226Z"
   },
   {
    "duration": 34,
    "start_time": "2021-10-17T03:02:42.233Z"
   },
   {
    "duration": 20,
    "start_time": "2021-10-17T03:02:42.270Z"
   },
   {
    "duration": 1217,
    "start_time": "2021-10-17T03:02:42.294Z"
   },
   {
    "duration": 4,
    "start_time": "2021-10-17T03:02:43.513Z"
   },
   {
    "duration": 599,
    "start_time": "2021-10-17T03:02:43.520Z"
   },
   {
    "duration": 22,
    "start_time": "2021-10-17T03:02:44.122Z"
   },
   {
    "duration": 23,
    "start_time": "2021-10-17T03:02:44.146Z"
   },
   {
    "duration": 223,
    "start_time": "2021-10-17T03:02:44.175Z"
   },
   {
    "duration": 217,
    "start_time": "2021-10-17T03:02:44.401Z"
   },
   {
    "duration": 15,
    "start_time": "2021-10-17T03:02:44.620Z"
   },
   {
    "duration": 10,
    "start_time": "2021-10-17T03:02:44.637Z"
   },
   {
    "duration": 9,
    "start_time": "2021-10-17T03:02:44.668Z"
   },
   {
    "duration": 11,
    "start_time": "2021-10-17T03:02:44.679Z"
   },
   {
    "duration": 8,
    "start_time": "2021-10-17T03:02:44.692Z"
   },
   {
    "duration": 17,
    "start_time": "2021-10-17T03:02:44.703Z"
   },
   {
    "duration": 61,
    "start_time": "2021-10-17T03:02:44.722Z"
   },
   {
    "duration": 18,
    "start_time": "2021-10-17T03:02:44.785Z"
   },
   {
    "duration": 802,
    "start_time": "2021-10-17T03:02:44.805Z"
   },
   {
    "duration": 562,
    "start_time": "2021-10-17T03:02:45.609Z"
   },
   {
    "duration": 14,
    "start_time": "2021-10-17T03:02:46.173Z"
   },
   {
    "duration": 471,
    "start_time": "2021-10-17T03:02:46.190Z"
   },
   {
    "duration": 19,
    "start_time": "2021-10-17T03:02:46.667Z"
   },
   {
    "duration": 22,
    "start_time": "2021-10-17T03:02:46.689Z"
   },
   {
    "duration": 17,
    "start_time": "2021-10-17T03:02:46.713Z"
   },
   {
    "duration": 727,
    "start_time": "2021-10-17T03:02:46.767Z"
   },
   {
    "duration": 8,
    "start_time": "2021-10-17T03:02:47.496Z"
   },
   {
    "duration": 19,
    "start_time": "2021-10-17T03:02:47.507Z"
   },
   {
    "duration": 230,
    "start_time": "2021-10-17T03:03:17.683Z"
   },
   {
    "duration": 13,
    "start_time": "2021-10-17T03:03:31.067Z"
   },
   {
    "duration": 5,
    "start_time": "2021-10-17T03:04:58.678Z"
   },
   {
    "duration": 12,
    "start_time": "2021-10-17T03:04:58.685Z"
   },
   {
    "duration": 10,
    "start_time": "2021-10-17T03:04:58.700Z"
   },
   {
    "duration": 6,
    "start_time": "2021-10-17T03:04:58.712Z"
   },
   {
    "duration": 7,
    "start_time": "2021-10-17T03:04:58.721Z"
   },
   {
    "duration": 78,
    "start_time": "2021-10-17T03:04:58.730Z"
   },
   {
    "duration": 12,
    "start_time": "2021-10-17T03:04:58.811Z"
   },
   {
    "duration": 42,
    "start_time": "2021-10-17T03:04:58.825Z"
   },
   {
    "duration": 24,
    "start_time": "2021-10-17T03:04:58.872Z"
   },
   {
    "duration": 6,
    "start_time": "2021-10-17T03:04:58.899Z"
   },
   {
    "duration": 16,
    "start_time": "2021-10-17T03:04:58.908Z"
   },
   {
    "duration": 41,
    "start_time": "2021-10-17T03:04:58.926Z"
   },
   {
    "duration": 320,
    "start_time": "2021-10-17T03:04:58.970Z"
   },
   {
    "duration": 14,
    "start_time": "2021-10-17T03:04:59.292Z"
   },
   {
    "duration": 5,
    "start_time": "2021-10-17T03:04:59.308Z"
   },
   {
    "duration": 12,
    "start_time": "2021-10-17T03:04:59.315Z"
   },
   {
    "duration": 43,
    "start_time": "2021-10-17T03:04:59.329Z"
   },
   {
    "duration": 1213,
    "start_time": "2021-10-17T03:04:59.374Z"
   },
   {
    "duration": 4,
    "start_time": "2021-10-17T03:05:00.590Z"
   },
   {
    "duration": 970,
    "start_time": "2021-10-17T03:05:00.597Z"
   },
   {
    "duration": 20,
    "start_time": "2021-10-17T03:05:01.569Z"
   },
   {
    "duration": 17,
    "start_time": "2021-10-17T03:05:01.591Z"
   },
   {
    "duration": 226,
    "start_time": "2021-10-17T03:05:01.611Z"
   },
   {
    "duration": 220,
    "start_time": "2021-10-17T03:05:01.839Z"
   },
   {
    "duration": 20,
    "start_time": "2021-10-17T03:05:02.061Z"
   },
   {
    "duration": 11,
    "start_time": "2021-10-17T03:05:02.083Z"
   },
   {
    "duration": 12,
    "start_time": "2021-10-17T03:05:02.100Z"
   },
   {
    "duration": 14,
    "start_time": "2021-10-17T03:05:02.115Z"
   },
   {
    "duration": 42,
    "start_time": "2021-10-17T03:05:02.131Z"
   },
   {
    "duration": 23,
    "start_time": "2021-10-17T03:05:02.176Z"
   },
   {
    "duration": 22,
    "start_time": "2021-10-17T03:05:02.202Z"
   },
   {
    "duration": 46,
    "start_time": "2021-10-17T03:05:02.226Z"
   },
   {
    "duration": 783,
    "start_time": "2021-10-17T03:05:02.275Z"
   },
   {
    "duration": 579,
    "start_time": "2021-10-17T03:05:03.067Z"
   },
   {
    "duration": 24,
    "start_time": "2021-10-17T03:05:03.648Z"
   },
   {
    "duration": 461,
    "start_time": "2021-10-17T03:05:03.675Z"
   },
   {
    "duration": 33,
    "start_time": "2021-10-17T03:05:04.138Z"
   },
   {
    "duration": 23,
    "start_time": "2021-10-17T03:05:04.173Z"
   },
   {
    "duration": 17,
    "start_time": "2021-10-17T03:05:04.199Z"
   },
   {
    "duration": 745,
    "start_time": "2021-10-17T03:05:04.219Z"
   },
   {
    "duration": 8,
    "start_time": "2021-10-17T03:05:04.967Z"
   },
   {
    "duration": 20,
    "start_time": "2021-10-17T03:05:04.977Z"
   },
   {
    "duration": 12,
    "start_time": "2021-10-17T03:05:04.999Z"
   },
   {
    "duration": 12,
    "start_time": "2021-10-17T03:05:19.007Z"
   },
   {
    "duration": 3,
    "start_time": "2021-10-17T03:05:30.578Z"
   },
   {
    "duration": 3,
    "start_time": "2021-10-17T03:10:21.639Z"
   },
   {
    "duration": 22,
    "start_time": "2021-10-17T03:10:22.269Z"
   },
   {
    "duration": 19,
    "start_time": "2021-10-17T03:10:23.391Z"
   },
   {
    "duration": 715,
    "start_time": "2021-10-17T03:10:23.975Z"
   },
   {
    "duration": 8,
    "start_time": "2021-10-17T03:17:10.311Z"
   },
   {
    "duration": 9,
    "start_time": "2021-10-17T03:18:15.348Z"
   },
   {
    "duration": 207,
    "start_time": "2021-10-17T03:18:31.673Z"
   },
   {
    "duration": 11,
    "start_time": "2021-10-17T03:18:37.449Z"
   },
   {
    "duration": 8,
    "start_time": "2021-10-17T03:18:51.183Z"
   },
   {
    "duration": 9,
    "start_time": "2021-10-17T03:24:15.527Z"
   },
   {
    "duration": 8,
    "start_time": "2021-10-17T03:25:00.423Z"
   },
   {
    "duration": 76,
    "start_time": "2021-10-17T03:26:51.168Z"
   },
   {
    "duration": 13,
    "start_time": "2021-10-17T03:27:11.902Z"
   },
   {
    "duration": 111,
    "start_time": "2021-10-17T03:27:20.732Z"
   },
   {
    "duration": 7,
    "start_time": "2021-10-17T03:28:47.354Z"
   },
   {
    "duration": 79,
    "start_time": "2021-10-17T03:28:55.999Z"
   },
   {
    "duration": 20,
    "start_time": "2021-10-17T03:29:33.310Z"
   },
   {
    "duration": 4,
    "start_time": "2021-10-17T03:29:42.361Z"
   },
   {
    "duration": 532,
    "start_time": "2021-10-17T03:31:02.890Z"
   },
   {
    "duration": 860,
    "start_time": "2021-10-17T03:31:24.540Z"
   },
   {
    "duration": 15,
    "start_time": "2021-10-17T03:35:13.750Z"
   },
   {
    "duration": 817,
    "start_time": "2021-10-17T03:38:31.479Z"
   },
   {
    "duration": 789,
    "start_time": "2021-10-17T03:38:58.308Z"
   },
   {
    "duration": 19,
    "start_time": "2021-10-17T03:39:07.902Z"
   },
   {
    "duration": 731,
    "start_time": "2021-10-17T03:39:24.815Z"
   },
   {
    "duration": 642,
    "start_time": "2021-10-17T03:39:34.887Z"
   },
   {
    "duration": 12,
    "start_time": "2021-10-17T05:02:49.258Z"
   },
   {
    "duration": 43,
    "start_time": "2021-10-17T05:03:33.229Z"
   },
   {
    "duration": 40,
    "start_time": "2021-10-17T05:04:19.743Z"
   },
   {
    "duration": 3,
    "start_time": "2021-10-17T05:06:32.636Z"
   },
   {
    "duration": 4,
    "start_time": "2021-10-17T05:06:33.202Z"
   },
   {
    "duration": 25,
    "start_time": "2021-10-17T05:08:00.653Z"
   },
   {
    "duration": 22,
    "start_time": "2021-10-17T05:08:39.068Z"
   },
   {
    "duration": 3,
    "start_time": "2021-10-17T05:09:11.634Z"
   },
   {
    "duration": 274,
    "start_time": "2021-10-17T05:13:23.716Z"
   },
   {
    "duration": 260,
    "start_time": "2021-10-17T05:13:37.402Z"
   },
   {
    "duration": 261,
    "start_time": "2021-10-17T05:13:58.475Z"
   },
   {
    "duration": 16,
    "start_time": "2021-10-17T05:14:14.414Z"
   },
   {
    "duration": 17,
    "start_time": "2021-10-17T05:14:36.717Z"
   },
   {
    "duration": 22,
    "start_time": "2021-10-17T05:14:49.166Z"
   },
   {
    "duration": 24,
    "start_time": "2021-10-17T05:15:05.971Z"
   },
   {
    "duration": 23,
    "start_time": "2021-10-17T05:15:14.760Z"
   },
   {
    "duration": 24,
    "start_time": "2021-10-17T05:15:24.481Z"
   },
   {
    "duration": 24,
    "start_time": "2021-10-17T05:16:02.820Z"
   },
   {
    "duration": 24,
    "start_time": "2021-10-17T05:16:16.127Z"
   },
   {
    "duration": 773,
    "start_time": "2021-10-17T05:18:08.852Z"
   },
   {
    "duration": 764,
    "start_time": "2021-10-17T05:18:56.398Z"
   },
   {
    "duration": 815,
    "start_time": "2021-10-17T05:20:29.499Z"
   },
   {
    "duration": 4,
    "start_time": "2021-10-17T05:20:46.146Z"
   },
   {
    "duration": 10,
    "start_time": "2021-10-17T05:20:46.153Z"
   },
   {
    "duration": 6,
    "start_time": "2021-10-17T05:20:46.166Z"
   },
   {
    "duration": 5,
    "start_time": "2021-10-17T05:20:46.175Z"
   },
   {
    "duration": 13,
    "start_time": "2021-10-17T05:20:46.183Z"
   },
   {
    "duration": 54,
    "start_time": "2021-10-17T05:20:46.198Z"
   },
   {
    "duration": 12,
    "start_time": "2021-10-17T05:20:46.268Z"
   },
   {
    "duration": 14,
    "start_time": "2021-10-17T05:20:46.284Z"
   },
   {
    "duration": 28,
    "start_time": "2021-10-17T05:20:46.301Z"
   },
   {
    "duration": 37,
    "start_time": "2021-10-17T05:20:46.331Z"
   },
   {
    "duration": 15,
    "start_time": "2021-10-17T05:20:46.371Z"
   },
   {
    "duration": 6,
    "start_time": "2021-10-17T05:20:46.389Z"
   },
   {
    "duration": 356,
    "start_time": "2021-10-17T05:20:46.398Z"
   },
   {
    "duration": 15,
    "start_time": "2021-10-17T05:20:46.756Z"
   },
   {
    "duration": 5,
    "start_time": "2021-10-17T05:20:46.773Z"
   },
   {
    "duration": 6,
    "start_time": "2021-10-17T05:20:46.781Z"
   },
   {
    "duration": 18,
    "start_time": "2021-10-17T05:20:46.790Z"
   },
   {
    "duration": 1246,
    "start_time": "2021-10-17T05:20:46.811Z"
   },
   {
    "duration": 3,
    "start_time": "2021-10-17T05:20:48.059Z"
   },
   {
    "duration": 686,
    "start_time": "2021-10-17T05:20:48.067Z"
   },
   {
    "duration": 28,
    "start_time": "2021-10-17T05:20:48.755Z"
   },
   {
    "duration": 7,
    "start_time": "2021-10-17T05:20:48.785Z"
   },
   {
    "duration": 238,
    "start_time": "2021-10-17T05:20:48.798Z"
   },
   {
    "duration": 218,
    "start_time": "2021-10-17T05:20:49.040Z"
   },
   {
    "duration": 15,
    "start_time": "2021-10-17T05:20:49.261Z"
   },
   {
    "duration": 11,
    "start_time": "2021-10-17T05:20:49.278Z"
   },
   {
    "duration": 9,
    "start_time": "2021-10-17T05:20:49.291Z"
   },
   {
    "duration": 10,
    "start_time": "2021-10-17T05:20:49.303Z"
   },
   {
    "duration": 9,
    "start_time": "2021-10-17T05:20:49.315Z"
   },
   {
    "duration": 15,
    "start_time": "2021-10-17T05:20:49.368Z"
   },
   {
    "duration": 21,
    "start_time": "2021-10-17T05:20:49.385Z"
   },
   {
    "duration": 16,
    "start_time": "2021-10-17T05:20:49.408Z"
   },
   {
    "duration": 811,
    "start_time": "2021-10-17T05:20:49.427Z"
   },
   {
    "duration": 552,
    "start_time": "2021-10-17T05:20:50.240Z"
   },
   {
    "duration": 13,
    "start_time": "2021-10-17T05:20:50.795Z"
   },
   {
    "duration": 476,
    "start_time": "2021-10-17T05:20:50.811Z"
   },
   {
    "duration": 23,
    "start_time": "2021-10-17T05:20:51.289Z"
   },
   {
    "duration": 3,
    "start_time": "2021-10-17T05:20:51.314Z"
   },
   {
    "duration": 19,
    "start_time": "2021-10-17T05:20:51.319Z"
   },
   {
    "duration": 751,
    "start_time": "2021-10-17T05:20:51.367Z"
   },
   {
    "duration": 7,
    "start_time": "2021-10-17T05:20:52.121Z"
   },
   {
    "duration": 38,
    "start_time": "2021-10-17T05:20:52.131Z"
   },
   {
    "duration": 3,
    "start_time": "2021-10-17T05:20:52.171Z"
   },
   {
    "duration": 13,
    "start_time": "2021-10-17T05:20:52.176Z"
   },
   {
    "duration": 13,
    "start_time": "2021-10-17T05:20:52.191Z"
   },
   {
    "duration": 19,
    "start_time": "2021-10-17T05:20:52.207Z"
   },
   {
    "duration": 16,
    "start_time": "2021-10-17T05:20:52.228Z"
   },
   {
    "duration": 22,
    "start_time": "2021-10-17T05:20:52.246Z"
   },
   {
    "duration": 9,
    "start_time": "2021-10-17T05:20:52.270Z"
   },
   {
    "duration": 25,
    "start_time": "2021-10-17T05:20:52.282Z"
   },
   {
    "duration": 851,
    "start_time": "2021-10-17T05:20:52.310Z"
   },
   {
    "duration": 969,
    "start_time": "2021-10-17T05:20:52.198Z"
   },
   {
    "duration": 963,
    "start_time": "2021-10-17T05:20:52.206Z"
   },
   {
    "duration": 960,
    "start_time": "2021-10-17T05:20:52.211Z"
   },
   {
    "duration": 1015,
    "start_time": "2021-10-17T05:21:17.558Z"
   },
   {
    "duration": 946,
    "start_time": "2021-10-17T05:21:38.283Z"
   },
   {
    "duration": 728,
    "start_time": "2021-10-17T05:21:47.044Z"
   },
   {
    "duration": 997,
    "start_time": "2021-10-17T05:22:08.652Z"
   },
   {
    "duration": 14,
    "start_time": "2021-10-17T05:26:25.301Z"
   },
   {
    "duration": 26,
    "start_time": "2021-10-17T05:26:25.701Z"
   },
   {
    "duration": 774,
    "start_time": "2021-10-17T05:26:26.252Z"
   },
   {
    "duration": 1979,
    "start_time": "2021-10-17T20:14:47.583Z"
   },
   {
    "duration": 4,
    "start_time": "2021-10-17T20:14:49.565Z"
   },
   {
    "duration": 8,
    "start_time": "2021-10-17T20:14:49.572Z"
   },
   {
    "duration": 6,
    "start_time": "2021-10-17T20:14:49.582Z"
   },
   {
    "duration": 6,
    "start_time": "2021-10-17T20:14:49.590Z"
   },
   {
    "duration": 64,
    "start_time": "2021-10-17T20:14:49.598Z"
   },
   {
    "duration": 17,
    "start_time": "2021-10-17T20:14:49.664Z"
   },
   {
    "duration": 12,
    "start_time": "2021-10-17T20:14:49.684Z"
   },
   {
    "duration": 39,
    "start_time": "2021-10-17T20:14:49.699Z"
   },
   {
    "duration": 6,
    "start_time": "2021-10-17T20:14:49.740Z"
   },
   {
    "duration": 16,
    "start_time": "2021-10-17T20:14:49.748Z"
   },
   {
    "duration": 8,
    "start_time": "2021-10-17T20:14:49.767Z"
   },
   {
    "duration": 331,
    "start_time": "2021-10-17T20:14:49.778Z"
   },
   {
    "duration": 18,
    "start_time": "2021-10-17T20:14:50.111Z"
   },
   {
    "duration": 4,
    "start_time": "2021-10-17T20:14:50.132Z"
   },
   {
    "duration": 7,
    "start_time": "2021-10-17T20:14:50.139Z"
   },
   {
    "duration": 18,
    "start_time": "2021-10-17T20:14:50.148Z"
   },
   {
    "duration": 1172,
    "start_time": "2021-10-17T20:14:50.168Z"
   },
   {
    "duration": 3,
    "start_time": "2021-10-17T20:14:51.342Z"
   },
   {
    "duration": 569,
    "start_time": "2021-10-17T20:14:51.347Z"
   },
   {
    "duration": 25,
    "start_time": "2021-10-17T20:14:51.919Z"
   },
   {
    "duration": 7,
    "start_time": "2021-10-17T20:14:51.946Z"
   },
   {
    "duration": 220,
    "start_time": "2021-10-17T20:14:51.959Z"
   },
   {
    "duration": 212,
    "start_time": "2021-10-17T20:14:52.182Z"
   },
   {
    "duration": 15,
    "start_time": "2021-10-17T20:14:52.396Z"
   },
   {
    "duration": 21,
    "start_time": "2021-10-17T20:14:52.413Z"
   },
   {
    "duration": 15,
    "start_time": "2021-10-17T20:14:52.436Z"
   },
   {
    "duration": 11,
    "start_time": "2021-10-17T20:14:52.453Z"
   },
   {
    "duration": 15,
    "start_time": "2021-10-17T20:14:52.466Z"
   },
   {
    "duration": 44,
    "start_time": "2021-10-17T20:14:52.483Z"
   },
   {
    "duration": 22,
    "start_time": "2021-10-17T20:14:52.529Z"
   },
   {
    "duration": 644,
    "start_time": "2021-10-17T20:14:52.554Z"
   },
   {
    "duration": 737,
    "start_time": "2021-10-17T20:14:53.201Z"
   },
   {
    "duration": 733,
    "start_time": "2021-10-17T20:14:53.941Z"
   },
   {
    "duration": 15,
    "start_time": "2021-10-17T20:14:54.677Z"
   },
   {
    "duration": 440,
    "start_time": "2021-10-17T20:14:54.694Z"
   },
   {
    "duration": 24,
    "start_time": "2021-10-17T20:14:55.137Z"
   },
   {
    "duration": 3,
    "start_time": "2021-10-17T20:14:55.163Z"
   },
   {
    "duration": 19,
    "start_time": "2021-10-17T20:14:55.169Z"
   },
   {
    "duration": 1013,
    "start_time": "2021-10-17T20:14:55.222Z"
   },
   {
    "duration": 1969,
    "start_time": "2021-10-17T20:14:54.269Z"
   },
   {
    "duration": 1966,
    "start_time": "2021-10-17T20:14:54.273Z"
   },
   {
    "duration": 1962,
    "start_time": "2021-10-17T20:14:54.278Z"
   },
   {
    "duration": 1959,
    "start_time": "2021-10-17T20:14:54.283Z"
   },
   {
    "duration": 1956,
    "start_time": "2021-10-17T20:14:54.287Z"
   },
   {
    "duration": 1953,
    "start_time": "2021-10-17T20:14:54.291Z"
   },
   {
    "duration": 1950,
    "start_time": "2021-10-17T20:14:54.295Z"
   },
   {
    "duration": 1948,
    "start_time": "2021-10-17T20:14:54.299Z"
   },
   {
    "duration": 1945,
    "start_time": "2021-10-17T20:14:54.303Z"
   },
   {
    "duration": 1943,
    "start_time": "2021-10-17T20:14:54.307Z"
   },
   {
    "duration": 1931,
    "start_time": "2021-10-17T20:14:54.320Z"
   },
   {
    "duration": 1926,
    "start_time": "2021-10-17T20:14:54.326Z"
   },
   {
    "duration": 1923,
    "start_time": "2021-10-17T20:14:54.331Z"
   },
   {
    "duration": 1920,
    "start_time": "2021-10-17T20:14:54.335Z"
   },
   {
    "duration": 798,
    "start_time": "2021-10-17T20:29:33.717Z"
   },
   {
    "duration": 891,
    "start_time": "2021-10-17T20:29:53.227Z"
   },
   {
    "duration": 4,
    "start_time": "2021-10-17T20:30:46.459Z"
   },
   {
    "duration": 5,
    "start_time": "2021-10-17T20:30:56.745Z"
   },
   {
    "duration": 20,
    "start_time": "2021-10-17T20:30:56.753Z"
   },
   {
    "duration": 19,
    "start_time": "2021-10-17T20:30:56.776Z"
   },
   {
    "duration": 9,
    "start_time": "2021-10-17T20:30:56.798Z"
   },
   {
    "duration": 14,
    "start_time": "2021-10-17T20:30:56.809Z"
   },
   {
    "duration": 82,
    "start_time": "2021-10-17T20:30:56.826Z"
   },
   {
    "duration": 17,
    "start_time": "2021-10-17T20:30:56.910Z"
   },
   {
    "duration": 15,
    "start_time": "2021-10-17T20:30:56.930Z"
   },
   {
    "duration": 33,
    "start_time": "2021-10-17T20:30:56.952Z"
   },
   {
    "duration": 36,
    "start_time": "2021-10-17T20:30:56.989Z"
   },
   {
    "duration": 17,
    "start_time": "2021-10-17T20:30:57.027Z"
   },
   {
    "duration": 7,
    "start_time": "2021-10-17T20:30:57.047Z"
   },
   {
    "duration": 328,
    "start_time": "2021-10-17T20:30:57.056Z"
   },
   {
    "duration": 13,
    "start_time": "2021-10-17T20:30:57.387Z"
   },
   {
    "duration": 20,
    "start_time": "2021-10-17T20:30:57.402Z"
   },
   {
    "duration": 6,
    "start_time": "2021-10-17T20:30:57.425Z"
   },
   {
    "duration": 18,
    "start_time": "2021-10-17T20:30:57.434Z"
   },
   {
    "duration": 1164,
    "start_time": "2021-10-17T20:30:57.454Z"
   },
   {
    "duration": 3,
    "start_time": "2021-10-17T20:30:58.623Z"
   },
   {
    "duration": 553,
    "start_time": "2021-10-17T20:30:58.628Z"
   },
   {
    "duration": 20,
    "start_time": "2021-10-17T20:30:59.183Z"
   },
   {
    "duration": 20,
    "start_time": "2021-10-17T20:30:59.205Z"
   },
   {
    "duration": 210,
    "start_time": "2021-10-17T20:30:59.227Z"
   },
   {
    "duration": 212,
    "start_time": "2021-10-17T20:30:59.439Z"
   },
   {
    "duration": 15,
    "start_time": "2021-10-17T20:30:59.653Z"
   },
   {
    "duration": 19,
    "start_time": "2021-10-17T20:30:59.671Z"
   },
   {
    "duration": 28,
    "start_time": "2021-10-17T20:30:59.697Z"
   },
   {
    "duration": 11,
    "start_time": "2021-10-17T20:30:59.728Z"
   },
   {
    "duration": 10,
    "start_time": "2021-10-17T20:30:59.741Z"
   },
   {
    "duration": 22,
    "start_time": "2021-10-17T20:30:59.753Z"
   },
   {
    "duration": 49,
    "start_time": "2021-10-17T20:30:59.778Z"
   },
   {
    "duration": 17,
    "start_time": "2021-10-17T20:30:59.829Z"
   },
   {
    "duration": 745,
    "start_time": "2021-10-17T20:30:59.848Z"
   },
   {
    "duration": 533,
    "start_time": "2021-10-17T20:31:00.595Z"
   },
   {
    "duration": 15,
    "start_time": "2021-10-17T20:31:01.131Z"
   },
   {
    "duration": 499,
    "start_time": "2021-10-17T20:31:01.149Z"
   },
   {
    "duration": 23,
    "start_time": "2021-10-17T20:31:01.651Z"
   },
   {
    "duration": 3,
    "start_time": "2021-10-17T20:31:01.676Z"
   },
   {
    "duration": 43,
    "start_time": "2021-10-17T20:31:01.682Z"
   },
   {
    "duration": 756,
    "start_time": "2021-10-17T20:31:01.727Z"
   },
   {
    "duration": 8,
    "start_time": "2021-10-17T20:31:02.485Z"
   },
   {
    "duration": 36,
    "start_time": "2021-10-17T20:31:02.496Z"
   },
   {
    "duration": 8,
    "start_time": "2021-10-17T20:31:02.534Z"
   },
   {
    "duration": 16,
    "start_time": "2021-10-17T20:31:02.544Z"
   },
   {
    "duration": 22,
    "start_time": "2021-10-17T20:31:02.562Z"
   },
   {
    "duration": 15,
    "start_time": "2021-10-17T20:31:02.587Z"
   },
   {
    "duration": 18,
    "start_time": "2021-10-17T20:31:02.605Z"
   },
   {
    "duration": 30,
    "start_time": "2021-10-17T20:31:02.625Z"
   },
   {
    "duration": 18,
    "start_time": "2021-10-17T20:31:02.657Z"
   },
   {
    "duration": 23,
    "start_time": "2021-10-17T20:31:02.678Z"
   },
   {
    "duration": 918,
    "start_time": "2021-10-17T20:31:02.704Z"
   },
   {
    "duration": 16,
    "start_time": "2021-10-17T20:31:03.624Z"
   },
   {
    "duration": 25,
    "start_time": "2021-10-17T20:31:03.643Z"
   },
   {
    "duration": 736,
    "start_time": "2021-10-17T20:31:03.671Z"
   },
   {
    "duration": 1614,
    "start_time": "2021-10-18T10:14:51.917Z"
   },
   {
    "duration": 3,
    "start_time": "2021-10-18T10:14:53.533Z"
   },
   {
    "duration": 7,
    "start_time": "2021-10-18T10:14:53.538Z"
   },
   {
    "duration": 9,
    "start_time": "2021-10-18T10:14:53.546Z"
   },
   {
    "duration": 8,
    "start_time": "2021-10-18T10:14:53.557Z"
   },
   {
    "duration": 51,
    "start_time": "2021-10-18T10:14:53.566Z"
   },
   {
    "duration": 11,
    "start_time": "2021-10-18T10:14:53.619Z"
   },
   {
    "duration": 9,
    "start_time": "2021-10-18T10:14:53.633Z"
   },
   {
    "duration": 26,
    "start_time": "2021-10-18T10:14:53.645Z"
   },
   {
    "duration": 5,
    "start_time": "2021-10-18T10:14:53.672Z"
   },
   {
    "duration": 14,
    "start_time": "2021-10-18T10:14:53.679Z"
   },
   {
    "duration": 5,
    "start_time": "2021-10-18T10:14:53.695Z"
   },
   {
    "duration": 217,
    "start_time": "2021-10-18T10:14:53.701Z"
   },
   {
    "duration": 10,
    "start_time": "2021-10-18T10:14:53.919Z"
   },
   {
    "duration": 12,
    "start_time": "2021-10-18T10:14:53.931Z"
   },
   {
    "duration": 19,
    "start_time": "2021-10-18T10:14:53.945Z"
   },
   {
    "duration": 14,
    "start_time": "2021-10-18T10:14:53.966Z"
   },
   {
    "duration": 781,
    "start_time": "2021-10-18T10:14:53.982Z"
   },
   {
    "duration": 2,
    "start_time": "2021-10-18T10:14:54.765Z"
   },
   {
    "duration": 286,
    "start_time": "2021-10-18T10:14:54.769Z"
   },
   {
    "duration": 23,
    "start_time": "2021-10-18T10:14:55.057Z"
   },
   {
    "duration": 5,
    "start_time": "2021-10-18T10:14:55.082Z"
   },
   {
    "duration": 125,
    "start_time": "2021-10-18T10:14:55.091Z"
   },
   {
    "duration": 123,
    "start_time": "2021-10-18T10:14:55.218Z"
   },
   {
    "duration": 21,
    "start_time": "2021-10-18T10:14:55.342Z"
   },
   {
    "duration": 4,
    "start_time": "2021-10-18T10:14:55.365Z"
   },
   {
    "duration": 8,
    "start_time": "2021-10-18T10:14:55.371Z"
   },
   {
    "duration": 7,
    "start_time": "2021-10-18T10:14:55.381Z"
   },
   {
    "duration": 6,
    "start_time": "2021-10-18T10:14:55.390Z"
   },
   {
    "duration": 12,
    "start_time": "2021-10-18T10:14:55.397Z"
   },
   {
    "duration": 16,
    "start_time": "2021-10-18T10:14:55.410Z"
   },
   {
    "duration": 476,
    "start_time": "2021-10-18T10:14:55.427Z"
   },
   {
    "duration": 443,
    "start_time": "2021-10-18T10:14:55.905Z"
   },
   {
    "duration": 418,
    "start_time": "2021-10-18T10:14:56.349Z"
   },
   {
    "duration": 10,
    "start_time": "2021-10-18T10:14:56.769Z"
   },
   {
    "duration": 268,
    "start_time": "2021-10-18T10:14:56.780Z"
   },
   {
    "duration": 24,
    "start_time": "2021-10-18T10:14:57.050Z"
   },
   {
    "duration": 3,
    "start_time": "2021-10-18T10:14:57.075Z"
   },
   {
    "duration": 14,
    "start_time": "2021-10-18T10:14:57.080Z"
   },
   {
    "duration": 421,
    "start_time": "2021-10-18T10:14:57.096Z"
   },
   {
    "duration": 8,
    "start_time": "2021-10-18T10:14:57.518Z"
   },
   {
    "duration": 14,
    "start_time": "2021-10-18T10:14:57.527Z"
   },
   {
    "duration": 2,
    "start_time": "2021-10-18T10:14:57.543Z"
   },
   {
    "duration": 5,
    "start_time": "2021-10-18T10:14:57.563Z"
   },
   {
    "duration": 9,
    "start_time": "2021-10-18T10:14:57.570Z"
   },
   {
    "duration": 7,
    "start_time": "2021-10-18T10:14:57.581Z"
   },
   {
    "duration": 7,
    "start_time": "2021-10-18T10:14:57.590Z"
   },
   {
    "duration": 7,
    "start_time": "2021-10-18T10:14:57.599Z"
   },
   {
    "duration": 8,
    "start_time": "2021-10-18T10:14:57.607Z"
   },
   {
    "duration": 18,
    "start_time": "2021-10-18T10:14:57.617Z"
   },
   {
    "duration": 644,
    "start_time": "2021-10-18T10:14:57.637Z"
   },
   {
    "duration": 10,
    "start_time": "2021-10-18T10:14:58.283Z"
   },
   {
    "duration": 18,
    "start_time": "2021-10-18T10:14:58.295Z"
   },
   {
    "duration": 436,
    "start_time": "2021-10-18T10:14:58.315Z"
   },
   {
    "duration": 222,
    "start_time": "2021-10-18T10:14:58.753Z"
   },
   {
    "duration": 1783,
    "start_time": "2021-10-22T09:36:12.354Z"
   },
   {
    "duration": 4,
    "start_time": "2021-10-22T09:36:20.289Z"
   },
   {
    "duration": 6,
    "start_time": "2021-10-22T09:36:20.295Z"
   },
   {
    "duration": 6,
    "start_time": "2021-10-22T09:36:20.304Z"
   },
   {
    "duration": 4,
    "start_time": "2021-10-22T09:36:20.312Z"
   },
   {
    "duration": 10,
    "start_time": "2021-10-22T09:36:20.317Z"
   },
   {
    "duration": 60,
    "start_time": "2021-10-22T09:36:20.329Z"
   },
   {
    "duration": 12,
    "start_time": "2021-10-22T09:36:20.391Z"
   },
   {
    "duration": 10,
    "start_time": "2021-10-22T09:36:20.404Z"
   },
   {
    "duration": 18,
    "start_time": "2021-10-22T09:36:20.417Z"
   },
   {
    "duration": 41,
    "start_time": "2021-10-22T09:36:20.437Z"
   },
   {
    "duration": 11,
    "start_time": "2021-10-22T09:36:20.480Z"
   },
   {
    "duration": 5,
    "start_time": "2021-10-22T09:36:20.493Z"
   },
   {
    "duration": 220,
    "start_time": "2021-10-22T09:36:20.499Z"
   },
   {
    "duration": 10,
    "start_time": "2021-10-22T09:36:20.721Z"
   },
   {
    "duration": 4,
    "start_time": "2021-10-22T09:36:20.733Z"
   },
   {
    "duration": 7,
    "start_time": "2021-10-22T09:36:20.739Z"
   },
   {
    "duration": 29,
    "start_time": "2021-10-22T09:36:20.748Z"
   },
   {
    "duration": 796,
    "start_time": "2021-10-22T09:36:20.779Z"
   },
   {
    "duration": 2,
    "start_time": "2021-10-22T09:36:21.577Z"
   },
   {
    "duration": 291,
    "start_time": "2021-10-22T09:36:21.581Z"
   },
   {
    "duration": 19,
    "start_time": "2021-10-22T09:36:21.873Z"
   },
   {
    "duration": 4,
    "start_time": "2021-10-22T09:36:21.894Z"
   },
   {
    "duration": 135,
    "start_time": "2021-10-22T09:36:21.900Z"
   },
   {
    "duration": 127,
    "start_time": "2021-10-22T09:36:22.037Z"
   },
   {
    "duration": 18,
    "start_time": "2021-10-22T09:36:22.166Z"
   },
   {
    "duration": 7,
    "start_time": "2021-10-22T09:36:22.186Z"
   },
   {
    "duration": 7,
    "start_time": "2021-10-22T09:36:22.198Z"
   },
   {
    "duration": 9,
    "start_time": "2021-10-22T09:36:22.208Z"
   },
   {
    "duration": 7,
    "start_time": "2021-10-22T09:36:22.219Z"
   },
   {
    "duration": 53,
    "start_time": "2021-10-22T09:36:22.228Z"
   },
   {
    "duration": 14,
    "start_time": "2021-10-22T09:36:22.283Z"
   },
   {
    "duration": 549,
    "start_time": "2021-10-22T09:36:22.299Z"
   },
   {
    "duration": 476,
    "start_time": "2021-10-22T09:36:22.850Z"
   },
   {
    "duration": 426,
    "start_time": "2021-10-22T09:36:23.328Z"
   },
   {
    "duration": 26,
    "start_time": "2021-10-22T09:36:23.756Z"
   },
   {
    "duration": 274,
    "start_time": "2021-10-22T09:36:23.784Z"
   },
   {
    "duration": 27,
    "start_time": "2021-10-22T09:36:24.060Z"
   },
   {
    "duration": 2,
    "start_time": "2021-10-22T09:36:24.089Z"
   },
   {
    "duration": 14,
    "start_time": "2021-10-22T09:36:24.093Z"
   },
   {
    "duration": 422,
    "start_time": "2021-10-22T09:36:24.109Z"
   },
   {
    "duration": 7,
    "start_time": "2021-10-22T09:36:24.533Z"
   },
   {
    "duration": 15,
    "start_time": "2021-10-22T09:36:24.542Z"
   },
   {
    "duration": 19,
    "start_time": "2021-10-22T09:36:24.559Z"
   },
   {
    "duration": 10,
    "start_time": "2021-10-22T09:36:24.579Z"
   },
   {
    "duration": 15,
    "start_time": "2021-10-22T09:36:24.591Z"
   },
   {
    "duration": 8,
    "start_time": "2021-10-22T09:36:24.608Z"
   },
   {
    "duration": 7,
    "start_time": "2021-10-22T09:36:24.618Z"
   },
   {
    "duration": 7,
    "start_time": "2021-10-22T09:36:24.626Z"
   },
   {
    "duration": 5,
    "start_time": "2021-10-22T09:36:24.635Z"
   },
   {
    "duration": 36,
    "start_time": "2021-10-22T09:36:24.642Z"
   },
   {
    "duration": 602,
    "start_time": "2021-10-22T09:36:24.680Z"
   },
   {
    "duration": 11,
    "start_time": "2021-10-22T09:36:25.283Z"
   },
   {
    "duration": 18,
    "start_time": "2021-10-22T09:36:25.296Z"
   },
   {
    "duration": 455,
    "start_time": "2021-10-22T09:36:25.316Z"
   },
   {
    "duration": 202,
    "start_time": "2021-10-22T09:36:25.776Z"
   },
   {
    "duration": 116,
    "start_time": "2021-10-22T09:36:25.980Z"
   },
   {
    "duration": 121,
    "start_time": "2021-10-22T09:38:23.343Z"
   },
   {
    "duration": 135,
    "start_time": "2021-10-22T09:40:34.523Z"
   },
   {
    "duration": 118,
    "start_time": "2021-10-22T09:59:38.239Z"
   },
   {
    "duration": 120,
    "start_time": "2021-10-22T09:59:46.134Z"
   },
   {
    "duration": 671,
    "start_time": "2021-10-22T10:02:30.308Z"
   },
   {
    "duration": 287,
    "start_time": "2021-10-22T10:06:32.143Z"
   },
   {
    "duration": 906,
    "start_time": "2021-10-22T10:07:40.265Z"
   },
   {
    "duration": 7024,
    "start_time": "2021-10-22T10:28:41.794Z"
   },
   {
    "duration": 6857,
    "start_time": "2021-10-22T10:33:19.051Z"
   },
   {
    "duration": 295,
    "start_time": "2021-10-22T10:37:06.387Z"
   },
   {
    "duration": 7647,
    "start_time": "2021-10-22T10:37:12.473Z"
   },
   {
    "duration": 903,
    "start_time": "2021-10-22T11:03:48.119Z"
   },
   {
    "duration": 1968,
    "start_time": "2021-10-23T04:01:09.483Z"
   },
   {
    "duration": 5,
    "start_time": "2021-10-23T04:01:11.453Z"
   },
   {
    "duration": 5,
    "start_time": "2021-10-23T04:01:11.461Z"
   },
   {
    "duration": 6,
    "start_time": "2021-10-23T04:01:11.469Z"
   },
   {
    "duration": 14,
    "start_time": "2021-10-23T04:01:11.477Z"
   },
   {
    "duration": 58,
    "start_time": "2021-10-23T04:01:11.494Z"
   },
   {
    "duration": 18,
    "start_time": "2021-10-23T04:01:11.554Z"
   },
   {
    "duration": 12,
    "start_time": "2021-10-23T04:01:11.576Z"
   },
   {
    "duration": 53,
    "start_time": "2021-10-23T04:01:11.591Z"
   },
   {
    "duration": 7,
    "start_time": "2021-10-23T04:01:11.646Z"
   },
   {
    "duration": 14,
    "start_time": "2021-10-23T04:01:11.656Z"
   },
   {
    "duration": 5,
    "start_time": "2021-10-23T04:01:11.672Z"
   },
   {
    "duration": 329,
    "start_time": "2021-10-23T04:01:11.680Z"
   },
   {
    "duration": 24,
    "start_time": "2021-10-23T04:01:12.012Z"
   },
   {
    "duration": 4,
    "start_time": "2021-10-23T04:01:12.038Z"
   },
   {
    "duration": 6,
    "start_time": "2021-10-23T04:01:12.044Z"
   },
   {
    "duration": 18,
    "start_time": "2021-10-23T04:01:12.052Z"
   },
   {
    "duration": 1265,
    "start_time": "2021-10-23T04:01:12.073Z"
   },
   {
    "duration": 3,
    "start_time": "2021-10-23T04:01:13.340Z"
   },
   {
    "duration": 785,
    "start_time": "2021-10-23T04:01:13.346Z"
   },
   {
    "duration": 20,
    "start_time": "2021-10-23T04:01:14.134Z"
   },
   {
    "duration": 6,
    "start_time": "2021-10-23T04:01:14.157Z"
   },
   {
    "duration": 225,
    "start_time": "2021-10-23T04:01:14.169Z"
   },
   {
    "duration": 206,
    "start_time": "2021-10-23T04:01:14.397Z"
   },
   {
    "duration": 14,
    "start_time": "2021-10-23T04:01:14.605Z"
   },
   {
    "duration": 12,
    "start_time": "2021-10-23T04:01:14.621Z"
   },
   {
    "duration": 8,
    "start_time": "2021-10-23T04:01:14.636Z"
   },
   {
    "duration": 10,
    "start_time": "2021-10-23T04:01:14.647Z"
   },
   {
    "duration": 8,
    "start_time": "2021-10-23T04:01:14.659Z"
   },
   {
    "duration": 72,
    "start_time": "2021-10-23T04:01:14.669Z"
   },
   {
    "duration": 20,
    "start_time": "2021-10-23T04:01:14.744Z"
   },
   {
    "duration": 408,
    "start_time": "2021-10-23T04:01:14.767Z"
   },
   {
    "duration": 717,
    "start_time": "2021-10-23T04:01:15.178Z"
   },
   {
    "duration": 630,
    "start_time": "2021-10-23T04:01:15.897Z"
   },
   {
    "duration": 14,
    "start_time": "2021-10-23T04:01:16.529Z"
   },
   {
    "duration": 433,
    "start_time": "2021-10-23T04:01:16.545Z"
   },
   {
    "duration": 24,
    "start_time": "2021-10-23T04:01:16.980Z"
   },
   {
    "duration": 23,
    "start_time": "2021-10-23T04:01:17.007Z"
   },
   {
    "duration": 20,
    "start_time": "2021-10-23T04:01:17.033Z"
   },
   {
    "duration": 659,
    "start_time": "2021-10-23T04:01:17.055Z"
   },
   {
    "duration": 15,
    "start_time": "2021-10-23T04:01:17.716Z"
   },
   {
    "duration": 15,
    "start_time": "2021-10-23T04:01:17.734Z"
   },
   {
    "duration": 3,
    "start_time": "2021-10-23T04:01:17.751Z"
   },
   {
    "duration": 8,
    "start_time": "2021-10-23T04:01:17.757Z"
   },
   {
    "duration": 9,
    "start_time": "2021-10-23T04:01:17.767Z"
   },
   {
    "duration": 52,
    "start_time": "2021-10-23T04:01:17.779Z"
   },
   {
    "duration": 10,
    "start_time": "2021-10-23T04:01:17.834Z"
   },
   {
    "duration": 5,
    "start_time": "2021-10-23T04:01:17.847Z"
   },
   {
    "duration": 6,
    "start_time": "2021-10-23T04:01:17.855Z"
   },
   {
    "duration": 19,
    "start_time": "2021-10-23T04:01:17.864Z"
   },
   {
    "duration": 872,
    "start_time": "2021-10-23T04:01:17.885Z"
   },
   {
    "duration": 15,
    "start_time": "2021-10-23T04:01:18.759Z"
   },
   {
    "duration": 28,
    "start_time": "2021-10-23T04:01:18.777Z"
   },
   {
    "duration": 702,
    "start_time": "2021-10-23T04:01:18.808Z"
   },
   {
    "duration": 265,
    "start_time": "2021-10-23T04:01:19.513Z"
   },
   {
    "duration": 63,
    "start_time": "2021-10-23T04:01:19.780Z"
   },
   {
    "duration": 1722,
    "start_time": "2021-10-23T04:01:18.123Z"
   },
   {
    "duration": 1441,
    "start_time": "2021-10-23T04:01:28.788Z"
   },
   {
    "duration": 1175,
    "start_time": "2021-10-23T04:05:45.946Z"
   },
   {
    "duration": 1336,
    "start_time": "2021-10-23T04:08:22.342Z"
   },
   {
    "duration": 1677,
    "start_time": "2021-10-23T04:10:33.926Z"
   },
   {
    "duration": 935,
    "start_time": "2021-10-23T04:11:00.009Z"
   },
   {
    "duration": 25,
    "start_time": "2021-10-23T04:13:52.163Z"
   },
   {
    "duration": 6166,
    "start_time": "2021-10-23T04:13:58.745Z"
   },
   {
    "duration": 6067,
    "start_time": "2021-10-23T04:14:24.010Z"
   },
   {
    "duration": 4595,
    "start_time": "2021-10-23T04:17:39.316Z"
   },
   {
    "duration": 4702,
    "start_time": "2021-10-23T04:18:17.733Z"
   },
   {
    "duration": 4390,
    "start_time": "2021-10-23T04:18:23.471Z"
   },
   {
    "duration": 132,
    "start_time": "2021-10-23T04:18:48.369Z"
   },
   {
    "duration": 16,
    "start_time": "2021-10-23T04:19:33.801Z"
   },
   {
    "duration": 19,
    "start_time": "2021-10-23T04:21:06.726Z"
   },
   {
    "duration": 74,
    "start_time": "2021-10-23T04:22:36.950Z"
   },
   {
    "duration": 64,
    "start_time": "2021-10-23T04:22:43.883Z"
   },
   {
    "duration": 15,
    "start_time": "2021-10-23T04:23:00.033Z"
   },
   {
    "duration": 14,
    "start_time": "2021-10-23T04:23:04.876Z"
   },
   {
    "duration": 19,
    "start_time": "2021-10-23T04:23:38.583Z"
   },
   {
    "duration": 18,
    "start_time": "2021-10-23T04:23:43.042Z"
   },
   {
    "duration": 14,
    "start_time": "2021-10-23T04:23:50.452Z"
   },
   {
    "duration": 20,
    "start_time": "2021-10-23T04:23:56.072Z"
   },
   {
    "duration": 21,
    "start_time": "2021-10-23T04:24:42.706Z"
   },
   {
    "duration": 715,
    "start_time": "2021-10-23T04:25:02.771Z"
   },
   {
    "duration": 714,
    "start_time": "2021-10-23T04:26:18.648Z"
   },
   {
    "duration": 19,
    "start_time": "2021-10-23T04:38:27.681Z"
   },
   {
    "duration": 17,
    "start_time": "2021-10-23T04:38:48.844Z"
   },
   {
    "duration": 166,
    "start_time": "2021-10-23T04:39:39.747Z"
   },
   {
    "duration": 28,
    "start_time": "2021-10-23T04:40:34.633Z"
   },
   {
    "duration": 206,
    "start_time": "2021-10-23T04:40:49.206Z"
   },
   {
    "duration": 28,
    "start_time": "2021-10-23T04:40:58.516Z"
   },
   {
    "duration": 27,
    "start_time": "2021-10-23T04:41:15.484Z"
   },
   {
    "duration": 10,
    "start_time": "2021-10-23T04:47:05.748Z"
   },
   {
    "duration": 22,
    "start_time": "2021-10-23T04:47:15.945Z"
   },
   {
    "duration": 110,
    "start_time": "2021-10-23T04:48:27.144Z"
   },
   {
    "duration": 21,
    "start_time": "2021-10-23T04:48:35.513Z"
   },
   {
    "duration": 5,
    "start_time": "2021-10-23T04:49:29.767Z"
   },
   {
    "duration": 23,
    "start_time": "2021-10-23T04:52:14.501Z"
   },
   {
    "duration": 29,
    "start_time": "2021-10-23T04:52:59.331Z"
   },
   {
    "duration": 25,
    "start_time": "2021-10-23T04:53:18.968Z"
   },
   {
    "duration": 23,
    "start_time": "2021-10-23T04:58:20.589Z"
   },
   {
    "duration": 17,
    "start_time": "2021-10-23T04:58:32.978Z"
   },
   {
    "duration": 160,
    "start_time": "2021-10-23T05:04:07.968Z"
   },
   {
    "duration": 23,
    "start_time": "2021-10-23T05:05:36.638Z"
   },
   {
    "duration": 15,
    "start_time": "2021-10-23T05:05:52.465Z"
   },
   {
    "duration": 23,
    "start_time": "2021-10-23T05:06:04.066Z"
   },
   {
    "duration": 653,
    "start_time": "2021-10-23T10:38:44.739Z"
   },
   {
    "duration": 192,
    "start_time": "2021-10-23T11:35:16.283Z"
   },
   {
    "duration": 5,
    "start_time": "2021-10-23T11:35:23.709Z"
   },
   {
    "duration": 8,
    "start_time": "2021-10-23T11:35:23.717Z"
   },
   {
    "duration": 7,
    "start_time": "2021-10-23T11:35:23.729Z"
   },
   {
    "duration": 9,
    "start_time": "2021-10-23T11:35:23.739Z"
   },
   {
    "duration": 5,
    "start_time": "2021-10-23T11:35:23.751Z"
   },
   {
    "duration": 57,
    "start_time": "2021-10-23T11:35:23.758Z"
   },
   {
    "duration": 14,
    "start_time": "2021-10-23T11:35:25.337Z"
   },
   {
    "duration": 19,
    "start_time": "2021-10-23T11:35:25.355Z"
   },
   {
    "duration": 54,
    "start_time": "2021-10-23T11:35:25.378Z"
   },
   {
    "duration": 7,
    "start_time": "2021-10-23T11:35:25.436Z"
   },
   {
    "duration": 23,
    "start_time": "2021-10-23T11:35:25.446Z"
   },
   {
    "duration": 16,
    "start_time": "2021-10-23T11:35:25.471Z"
   },
   {
    "duration": 359,
    "start_time": "2021-10-23T11:35:25.490Z"
   },
   {
    "duration": 15,
    "start_time": "2021-10-23T11:35:25.851Z"
   },
   {
    "duration": 3,
    "start_time": "2021-10-23T11:35:25.873Z"
   },
   {
    "duration": 9,
    "start_time": "2021-10-23T11:35:25.880Z"
   },
   {
    "duration": 51,
    "start_time": "2021-10-23T11:35:25.892Z"
   },
   {
    "duration": 1166,
    "start_time": "2021-10-23T11:35:25.946Z"
   },
   {
    "duration": 4,
    "start_time": "2021-10-23T11:35:27.114Z"
   },
   {
    "duration": 557,
    "start_time": "2021-10-23T11:35:27.129Z"
   },
   {
    "duration": 21,
    "start_time": "2021-10-23T11:35:27.689Z"
   },
   {
    "duration": 7,
    "start_time": "2021-10-23T11:35:27.729Z"
   },
   {
    "duration": 212,
    "start_time": "2021-10-23T11:35:27.739Z"
   },
   {
    "duration": 208,
    "start_time": "2021-10-23T11:35:27.954Z"
   },
   {
    "duration": 15,
    "start_time": "2021-10-23T11:35:28.164Z"
   },
   {
    "duration": 9,
    "start_time": "2021-10-23T11:35:28.181Z"
   },
   {
    "duration": 10,
    "start_time": "2021-10-23T11:35:28.192Z"
   },
   {
    "duration": 11,
    "start_time": "2021-10-23T11:35:28.229Z"
   },
   {
    "duration": 7,
    "start_time": "2021-10-23T11:35:28.242Z"
   },
   {
    "duration": 14,
    "start_time": "2021-10-23T11:35:28.251Z"
   },
   {
    "duration": 18,
    "start_time": "2021-10-23T11:35:28.268Z"
   },
   {
    "duration": 15,
    "start_time": "2021-10-23T11:35:28.330Z"
   },
   {
    "duration": 818,
    "start_time": "2021-10-23T11:35:28.351Z"
   },
   {
    "duration": 525,
    "start_time": "2021-10-23T11:35:29.172Z"
   },
   {
    "duration": 15,
    "start_time": "2021-10-23T11:35:29.699Z"
   },
   {
    "duration": 451,
    "start_time": "2021-10-23T11:35:29.717Z"
   },
   {
    "duration": 23,
    "start_time": "2021-10-23T11:35:30.170Z"
   },
   {
    "duration": 3,
    "start_time": "2021-10-23T11:35:30.196Z"
   },
   {
    "duration": 37,
    "start_time": "2021-10-23T11:35:30.201Z"
   },
   {
    "duration": 656,
    "start_time": "2021-10-23T11:35:30.240Z"
   },
   {
    "duration": 9,
    "start_time": "2021-10-23T11:35:30.898Z"
   },
   {
    "duration": 54,
    "start_time": "2021-10-23T11:35:30.909Z"
   },
   {
    "duration": 14,
    "start_time": "2021-10-23T11:35:30.965Z"
   },
   {
    "duration": 11,
    "start_time": "2021-10-23T11:35:30.981Z"
   },
   {
    "duration": 18,
    "start_time": "2021-10-23T11:35:30.994Z"
   },
   {
    "duration": 15,
    "start_time": "2021-10-23T11:35:31.014Z"
   },
   {
    "duration": 14,
    "start_time": "2021-10-23T11:35:31.031Z"
   },
   {
    "duration": 12,
    "start_time": "2021-10-23T11:35:31.047Z"
   },
   {
    "duration": 10,
    "start_time": "2021-10-23T11:35:31.061Z"
   },
   {
    "duration": 28,
    "start_time": "2021-10-23T11:35:31.073Z"
   },
   {
    "duration": 811,
    "start_time": "2021-10-23T11:35:31.103Z"
   },
   {
    "duration": 27,
    "start_time": "2021-10-23T11:35:31.917Z"
   },
   {
    "duration": 40,
    "start_time": "2021-10-23T11:35:31.947Z"
   },
   {
    "duration": 706,
    "start_time": "2021-10-23T11:35:31.990Z"
   },
   {
    "duration": 272,
    "start_time": "2021-10-23T11:35:32.698Z"
   },
   {
    "duration": 23,
    "start_time": "2021-10-23T11:35:32.973Z"
   },
   {
    "duration": 758,
    "start_time": "2021-10-23T11:35:32.999Z"
   },
   {
    "duration": 1217,
    "start_time": "2021-10-23T11:35:33.759Z"
   },
   {
    "duration": 25,
    "start_time": "2021-10-23T11:35:34.978Z"
   },
   {
    "duration": 24,
    "start_time": "2021-10-23T11:35:35.005Z"
   },
   {
    "duration": 17,
    "start_time": "2021-10-23T11:35:53.211Z"
   },
   {
    "duration": 15,
    "start_time": "2021-10-23T11:36:09.969Z"
   },
   {
    "duration": 71,
    "start_time": "2021-10-23T11:36:14.441Z"
   },
   {
    "duration": 20,
    "start_time": "2021-10-23T11:38:38.201Z"
   },
   {
    "duration": 60,
    "start_time": "2021-10-23T11:42:31.001Z"
   },
   {
    "duration": 144,
    "start_time": "2021-10-23T11:43:10.366Z"
   },
   {
    "duration": 13,
    "start_time": "2021-10-23T11:43:49.958Z"
   },
   {
    "duration": 6,
    "start_time": "2021-10-23T11:44:09.131Z"
   },
   {
    "duration": 247,
    "start_time": "2021-10-23T11:44:10.330Z"
   },
   {
    "duration": 6,
    "start_time": "2021-10-23T11:44:30.964Z"
   },
   {
    "duration": 5,
    "start_time": "2021-10-23T11:45:00.838Z"
   },
   {
    "duration": 9,
    "start_time": "2021-10-23T11:45:00.845Z"
   },
   {
    "duration": 12,
    "start_time": "2021-10-23T11:45:00.858Z"
   },
   {
    "duration": 12,
    "start_time": "2021-10-23T11:45:00.873Z"
   },
   {
    "duration": 10,
    "start_time": "2021-10-23T11:45:00.888Z"
   },
   {
    "duration": 61,
    "start_time": "2021-10-23T11:45:00.901Z"
   },
   {
    "duration": 12,
    "start_time": "2021-10-23T11:45:00.965Z"
   },
   {
    "duration": 15,
    "start_time": "2021-10-23T11:45:00.980Z"
   },
   {
    "duration": 53,
    "start_time": "2021-10-23T11:45:00.998Z"
   },
   {
    "duration": 8,
    "start_time": "2021-10-23T11:45:01.053Z"
   },
   {
    "duration": 27,
    "start_time": "2021-10-23T11:45:01.063Z"
   },
   {
    "duration": 36,
    "start_time": "2021-10-23T11:45:01.093Z"
   },
   {
    "duration": 326,
    "start_time": "2021-10-23T11:45:01.132Z"
   },
   {
    "duration": 14,
    "start_time": "2021-10-23T11:45:01.460Z"
   },
   {
    "duration": 17,
    "start_time": "2021-10-23T11:45:01.476Z"
   },
   {
    "duration": 9,
    "start_time": "2021-10-23T11:45:01.496Z"
   },
   {
    "duration": 24,
    "start_time": "2021-10-23T11:45:01.508Z"
   },
   {
    "duration": 1175,
    "start_time": "2021-10-23T11:45:01.534Z"
   },
   {
    "duration": 3,
    "start_time": "2021-10-23T11:45:02.714Z"
   },
   {
    "duration": 558,
    "start_time": "2021-10-23T11:45:02.721Z"
   },
   {
    "duration": 18,
    "start_time": "2021-10-23T11:45:03.282Z"
   },
   {
    "duration": 6,
    "start_time": "2021-10-23T11:45:03.303Z"
   },
   {
    "duration": 212,
    "start_time": "2021-10-23T11:45:03.330Z"
   },
   {
    "duration": 206,
    "start_time": "2021-10-23T11:45:03.545Z"
   },
   {
    "duration": 15,
    "start_time": "2021-10-23T11:45:03.753Z"
   },
   {
    "duration": 11,
    "start_time": "2021-10-23T11:45:03.770Z"
   },
   {
    "duration": 13,
    "start_time": "2021-10-23T11:45:03.784Z"
   },
   {
    "duration": 38,
    "start_time": "2021-10-23T11:45:03.800Z"
   },
   {
    "duration": 11,
    "start_time": "2021-10-23T11:45:03.840Z"
   },
   {
    "duration": 15,
    "start_time": "2021-10-23T11:45:03.853Z"
   },
   {
    "duration": 18,
    "start_time": "2021-10-23T11:45:03.870Z"
   },
   {
    "duration": 16,
    "start_time": "2021-10-23T11:45:03.930Z"
   },
   {
    "duration": 707,
    "start_time": "2021-10-23T11:45:03.949Z"
   },
   {
    "duration": 521,
    "start_time": "2021-10-23T11:45:04.658Z"
   },
   {
    "duration": 13,
    "start_time": "2021-10-23T11:45:05.182Z"
   },
   {
    "duration": 449,
    "start_time": "2021-10-23T11:45:05.198Z"
   },
   {
    "duration": 22,
    "start_time": "2021-10-23T11:45:05.649Z"
   },
   {
    "duration": 3,
    "start_time": "2021-10-23T11:45:05.673Z"
   },
   {
    "duration": 35,
    "start_time": "2021-10-23T11:45:05.678Z"
   },
   {
    "duration": 651,
    "start_time": "2021-10-23T11:45:05.729Z"
   },
   {
    "duration": 8,
    "start_time": "2021-10-23T11:45:06.382Z"
   },
   {
    "duration": 19,
    "start_time": "2021-10-23T11:45:06.392Z"
   },
   {
    "duration": 3,
    "start_time": "2021-10-23T11:45:06.429Z"
   },
   {
    "duration": 8,
    "start_time": "2021-10-23T11:45:06.434Z"
   },
   {
    "duration": 9,
    "start_time": "2021-10-23T11:45:06.444Z"
   },
   {
    "duration": 11,
    "start_time": "2021-10-23T11:45:06.455Z"
   },
   {
    "duration": 12,
    "start_time": "2021-10-23T11:45:06.468Z"
   },
   {
    "duration": 6,
    "start_time": "2021-10-23T11:45:06.483Z"
   },
   {
    "duration": 39,
    "start_time": "2021-10-23T11:45:06.491Z"
   },
   {
    "duration": 138,
    "start_time": "2021-10-23T11:45:06.533Z"
   },
   {
    "duration": 830,
    "start_time": "2021-10-23T11:45:06.673Z"
   },
   {
    "duration": 26,
    "start_time": "2021-10-23T11:45:07.505Z"
   },
   {
    "duration": 24,
    "start_time": "2021-10-23T11:45:07.534Z"
   },
   {
    "duration": 720,
    "start_time": "2021-10-23T11:45:07.561Z"
   },
   {
    "duration": 292,
    "start_time": "2021-10-23T11:45:08.289Z"
   },
   {
    "duration": 23,
    "start_time": "2021-10-23T11:45:08.584Z"
   },
   {
    "duration": 735,
    "start_time": "2021-10-23T11:45:08.609Z"
   },
   {
    "duration": 1302,
    "start_time": "2021-10-23T11:45:09.347Z"
   },
   {
    "duration": 24,
    "start_time": "2021-10-23T11:45:10.651Z"
   },
   {
    "duration": 23,
    "start_time": "2021-10-23T11:45:10.677Z"
   },
   {
    "duration": 45,
    "start_time": "2021-10-23T11:45:10.702Z"
   },
   {
    "duration": 60,
    "start_time": "2021-10-23T11:46:08.854Z"
   },
   {
    "duration": 99,
    "start_time": "2021-10-23T11:46:16.884Z"
   },
   {
    "duration": 91,
    "start_time": "2021-10-23T11:46:19.660Z"
   },
   {
    "duration": 216,
    "start_time": "2021-10-23T11:47:11.796Z"
   },
   {
    "duration": 13,
    "start_time": "2021-10-23T11:47:22.474Z"
   },
   {
    "duration": 143,
    "start_time": "2021-10-23T11:47:31.886Z"
   },
   {
    "duration": 227,
    "start_time": "2021-10-23T11:47:59.435Z"
   },
   {
    "duration": 34,
    "start_time": "2021-10-23T11:49:34.114Z"
   },
   {
    "duration": 237,
    "start_time": "2021-10-23T11:50:58.418Z"
   },
   {
    "duration": 50,
    "start_time": "2021-10-23T11:51:07.955Z"
   },
   {
    "duration": 213,
    "start_time": "2021-10-23T11:51:31.468Z"
   },
   {
    "duration": 134,
    "start_time": "2021-10-23T11:51:39.651Z"
   },
   {
    "duration": 360,
    "start_time": "2021-10-23T11:51:50.192Z"
   },
   {
    "duration": 958,
    "start_time": "2021-10-23T11:52:06.871Z"
   },
   {
    "duration": 243,
    "start_time": "2021-10-23T11:52:16.101Z"
   },
   {
    "duration": 11,
    "start_time": "2021-10-23T11:53:03.274Z"
   },
   {
    "duration": 5,
    "start_time": "2021-10-23T11:53:14.518Z"
   },
   {
    "duration": 6,
    "start_time": "2021-10-23T11:53:14.526Z"
   },
   {
    "duration": 4,
    "start_time": "2021-10-23T11:53:14.535Z"
   },
   {
    "duration": 7,
    "start_time": "2021-10-23T11:53:14.542Z"
   },
   {
    "duration": 5,
    "start_time": "2021-10-23T11:53:14.551Z"
   },
   {
    "duration": 80,
    "start_time": "2021-10-23T11:53:14.559Z"
   },
   {
    "duration": 12,
    "start_time": "2021-10-23T11:53:14.642Z"
   },
   {
    "duration": 13,
    "start_time": "2021-10-23T11:53:14.658Z"
   },
   {
    "duration": 61,
    "start_time": "2021-10-23T11:53:14.675Z"
   },
   {
    "duration": 7,
    "start_time": "2021-10-23T11:53:14.738Z"
   },
   {
    "duration": 17,
    "start_time": "2021-10-23T11:53:14.747Z"
   },
   {
    "duration": 8,
    "start_time": "2021-10-23T11:53:14.767Z"
   },
   {
    "duration": 361,
    "start_time": "2021-10-23T11:53:14.778Z"
   },
   {
    "duration": 14,
    "start_time": "2021-10-23T11:53:15.142Z"
   },
   {
    "duration": 6,
    "start_time": "2021-10-23T11:53:15.159Z"
   },
   {
    "duration": 14,
    "start_time": "2021-10-23T11:53:15.168Z"
   },
   {
    "duration": 19,
    "start_time": "2021-10-23T11:53:15.184Z"
   },
   {
    "duration": 1181,
    "start_time": "2021-10-23T11:53:15.230Z"
   },
   {
    "duration": 3,
    "start_time": "2021-10-23T11:53:16.413Z"
   },
   {
    "duration": 567,
    "start_time": "2021-10-23T11:53:16.419Z"
   },
   {
    "duration": 17,
    "start_time": "2021-10-23T11:53:16.989Z"
   },
   {
    "duration": 19,
    "start_time": "2021-10-23T11:53:17.012Z"
   },
   {
    "duration": 213,
    "start_time": "2021-10-23T11:53:17.035Z"
   },
   {
    "duration": 209,
    "start_time": "2021-10-23T11:53:17.251Z"
   },
   {
    "duration": 15,
    "start_time": "2021-10-23T11:53:17.463Z"
   },
   {
    "duration": 14,
    "start_time": "2021-10-23T11:53:17.480Z"
   },
   {
    "duration": 33,
    "start_time": "2021-10-23T11:53:17.496Z"
   },
   {
    "duration": 11,
    "start_time": "2021-10-23T11:53:17.531Z"
   },
   {
    "duration": 8,
    "start_time": "2021-10-23T11:53:17.544Z"
   },
   {
    "duration": 14,
    "start_time": "2021-10-23T11:53:17.555Z"
   },
   {
    "duration": 59,
    "start_time": "2021-10-23T11:53:17.572Z"
   },
   {
    "duration": 16,
    "start_time": "2021-10-23T11:53:17.633Z"
   },
   {
    "duration": 720,
    "start_time": "2021-10-23T11:53:17.652Z"
   },
   {
    "duration": 633,
    "start_time": "2021-10-23T11:53:18.374Z"
   },
   {
    "duration": 24,
    "start_time": "2021-10-23T11:53:19.010Z"
   },
   {
    "duration": 448,
    "start_time": "2021-10-23T11:53:19.037Z"
   },
   {
    "duration": 22,
    "start_time": "2021-10-23T11:53:19.488Z"
   },
   {
    "duration": 17,
    "start_time": "2021-10-23T11:53:19.513Z"
   },
   {
    "duration": 31,
    "start_time": "2021-10-23T11:53:19.532Z"
   },
   {
    "duration": 656,
    "start_time": "2021-10-23T11:53:19.565Z"
   },
   {
    "duration": 12,
    "start_time": "2021-10-23T11:53:20.223Z"
   },
   {
    "duration": 15,
    "start_time": "2021-10-23T11:53:20.238Z"
   },
   {
    "duration": 3,
    "start_time": "2021-10-23T11:53:20.255Z"
   },
   {
    "duration": 10,
    "start_time": "2021-10-23T11:53:20.260Z"
   },
   {
    "duration": 11,
    "start_time": "2021-10-23T11:53:20.273Z"
   },
   {
    "duration": 49,
    "start_time": "2021-10-23T11:53:20.286Z"
   },
   {
    "duration": 8,
    "start_time": "2021-10-23T11:53:20.337Z"
   },
   {
    "duration": 14,
    "start_time": "2021-10-23T11:53:20.348Z"
   },
   {
    "duration": 5,
    "start_time": "2021-10-23T11:53:20.365Z"
   },
   {
    "duration": 21,
    "start_time": "2021-10-23T11:53:20.373Z"
   },
   {
    "duration": 822,
    "start_time": "2021-10-23T11:53:20.397Z"
   },
   {
    "duration": 15,
    "start_time": "2021-10-23T11:53:21.229Z"
   },
   {
    "duration": 29,
    "start_time": "2021-10-23T11:53:21.246Z"
   },
   {
    "duration": 704,
    "start_time": "2021-10-23T11:53:21.277Z"
   },
   {
    "duration": 402,
    "start_time": "2021-10-23T11:53:21.983Z"
   },
   {
    "duration": 25,
    "start_time": "2021-10-23T11:53:22.387Z"
   },
   {
    "duration": 736,
    "start_time": "2021-10-23T11:53:22.430Z"
   },
   {
    "duration": 967,
    "start_time": "2021-10-23T11:53:23.168Z"
   },
   {
    "duration": 23,
    "start_time": "2021-10-23T11:53:24.137Z"
   },
   {
    "duration": 23,
    "start_time": "2021-10-23T11:53:24.162Z"
   },
   {
    "duration": 47,
    "start_time": "2021-10-23T11:53:24.187Z"
   },
   {
    "duration": 8,
    "start_time": "2021-10-23T11:53:24.237Z"
   },
   {
    "duration": 15,
    "start_time": "2021-10-23T11:53:24.247Z"
   },
   {
    "duration": 26,
    "start_time": "2021-10-23T11:53:24.268Z"
   },
   {
    "duration": 132,
    "start_time": "2021-10-23T11:53:24.297Z"
   },
   {
    "duration": 68,
    "start_time": "2021-10-23T11:54:03.626Z"
   },
   {
    "duration": 51,
    "start_time": "2021-10-23T11:54:07.952Z"
   },
   {
    "duration": 24,
    "start_time": "2021-10-23T11:55:12.077Z"
   },
   {
    "duration": 4610,
    "start_time": "2021-10-23T11:56:18.927Z"
   },
   {
    "duration": 230,
    "start_time": "2021-10-23T11:56:32.858Z"
   },
   {
    "duration": 227,
    "start_time": "2021-10-23T11:57:07.753Z"
   },
   {
    "duration": 25,
    "start_time": "2021-10-23T11:58:02.537Z"
   },
   {
    "duration": 18,
    "start_time": "2021-10-23T11:58:14.751Z"
   },
   {
    "duration": 10,
    "start_time": "2021-10-23T11:58:17.243Z"
   },
   {
    "duration": 13,
    "start_time": "2021-10-23T11:58:18.534Z"
   },
   {
    "duration": 80,
    "start_time": "2021-10-23T11:58:20.149Z"
   },
   {
    "duration": 70,
    "start_time": "2021-10-23T11:58:28.927Z"
   },
   {
    "duration": 10,
    "start_time": "2021-10-23T11:58:37.272Z"
   },
   {
    "duration": 67,
    "start_time": "2021-10-23T11:58:38.465Z"
   },
   {
    "duration": 5,
    "start_time": "2021-10-23T11:58:51.576Z"
   },
   {
    "duration": 8,
    "start_time": "2021-10-23T11:58:51.584Z"
   },
   {
    "duration": 11,
    "start_time": "2021-10-23T11:58:51.595Z"
   },
   {
    "duration": 10,
    "start_time": "2021-10-23T11:58:51.608Z"
   },
   {
    "duration": 9,
    "start_time": "2021-10-23T11:58:51.620Z"
   },
   {
    "duration": 56,
    "start_time": "2021-10-23T11:58:51.632Z"
   },
   {
    "duration": 13,
    "start_time": "2021-10-23T11:58:51.691Z"
   },
   {
    "duration": 23,
    "start_time": "2021-10-23T11:58:51.706Z"
   },
   {
    "duration": 24,
    "start_time": "2021-10-23T11:58:51.731Z"
   },
   {
    "duration": 8,
    "start_time": "2021-10-23T11:58:51.759Z"
   },
   {
    "duration": 25,
    "start_time": "2021-10-23T11:58:52.178Z"
   },
   {
    "duration": 5,
    "start_time": "2021-10-23T11:58:52.207Z"
   },
   {
    "duration": 556,
    "start_time": "2021-10-23T11:58:52.217Z"
   },
   {
    "duration": 21,
    "start_time": "2021-10-23T11:58:52.777Z"
   },
   {
    "duration": 5,
    "start_time": "2021-10-23T11:58:52.801Z"
   },
   {
    "duration": 4,
    "start_time": "2021-10-23T11:58:52.828Z"
   },
   {
    "duration": 19,
    "start_time": "2021-10-23T11:58:52.834Z"
   },
   {
    "duration": 1359,
    "start_time": "2021-10-23T11:58:52.855Z"
   },
   {
    "duration": 3,
    "start_time": "2021-10-23T11:58:54.218Z"
   },
   {
    "duration": 570,
    "start_time": "2021-10-23T11:58:54.231Z"
   },
   {
    "duration": 27,
    "start_time": "2021-10-23T11:58:54.803Z"
   },
   {
    "duration": 6,
    "start_time": "2021-10-23T11:58:54.833Z"
   },
   {
    "duration": 229,
    "start_time": "2021-10-23T11:58:54.841Z"
   },
   {
    "duration": 364,
    "start_time": "2021-10-23T11:58:55.073Z"
   },
   {
    "duration": 22,
    "start_time": "2021-10-23T11:58:55.440Z"
   },
   {
    "duration": 9,
    "start_time": "2021-10-23T11:58:55.466Z"
   },
   {
    "duration": 13,
    "start_time": "2021-10-23T11:58:55.478Z"
   },
   {
    "duration": 47,
    "start_time": "2021-10-23T11:58:55.494Z"
   },
   {
    "duration": 11,
    "start_time": "2021-10-23T11:58:55.544Z"
   },
   {
    "duration": 22,
    "start_time": "2021-10-23T11:58:55.558Z"
   },
   {
    "duration": 59,
    "start_time": "2021-10-23T11:58:55.582Z"
   },
   {
    "duration": 18,
    "start_time": "2021-10-23T11:58:55.643Z"
   },
   {
    "duration": 726,
    "start_time": "2021-10-23T11:58:55.663Z"
   },
   {
    "duration": 533,
    "start_time": "2021-10-23T11:58:56.391Z"
   },
   {
    "duration": 16,
    "start_time": "2021-10-23T11:58:56.929Z"
   },
   {
    "duration": 449,
    "start_time": "2021-10-23T11:58:56.948Z"
   },
   {
    "duration": 39,
    "start_time": "2021-10-23T11:58:57.402Z"
   },
   {
    "duration": 3,
    "start_time": "2021-10-23T11:58:57.444Z"
   },
   {
    "duration": 19,
    "start_time": "2021-10-23T11:58:57.449Z"
   },
   {
    "duration": 784,
    "start_time": "2021-10-23T11:58:57.470Z"
   },
   {
    "duration": 8,
    "start_time": "2021-10-23T11:58:58.257Z"
   },
   {
    "duration": 19,
    "start_time": "2021-10-23T11:58:58.267Z"
   },
   {
    "duration": 3,
    "start_time": "2021-10-23T11:58:58.288Z"
   },
   {
    "duration": 37,
    "start_time": "2021-10-23T11:58:58.293Z"
   },
   {
    "duration": 8,
    "start_time": "2021-10-23T11:58:58.332Z"
   },
   {
    "duration": 14,
    "start_time": "2021-10-23T11:58:58.343Z"
   },
   {
    "duration": 24,
    "start_time": "2021-10-23T11:58:58.360Z"
   },
   {
    "duration": 18,
    "start_time": "2021-10-23T11:58:58.387Z"
   },
   {
    "duration": 16,
    "start_time": "2021-10-23T11:58:58.407Z"
   },
   {
    "duration": 40,
    "start_time": "2021-10-23T11:58:58.425Z"
   },
   {
    "duration": 1167,
    "start_time": "2021-10-23T11:58:58.468Z"
   },
   {
    "duration": 22,
    "start_time": "2021-10-23T11:58:59.638Z"
   },
   {
    "duration": 25,
    "start_time": "2021-10-23T11:58:59.663Z"
   },
   {
    "duration": 738,
    "start_time": "2021-10-23T11:58:59.691Z"
   },
   {
    "duration": 284,
    "start_time": "2021-10-23T11:59:00.431Z"
   },
   {
    "duration": 33,
    "start_time": "2021-10-23T11:59:00.718Z"
   },
   {
    "duration": 853,
    "start_time": "2021-10-23T11:59:00.754Z"
   },
   {
    "duration": 1087,
    "start_time": "2021-10-23T11:59:01.610Z"
   },
   {
    "duration": 29,
    "start_time": "2021-10-23T11:59:02.700Z"
   },
   {
    "duration": 27,
    "start_time": "2021-10-23T11:59:02.731Z"
   },
   {
    "duration": 40,
    "start_time": "2021-10-23T11:59:02.761Z"
   },
   {
    "duration": 26,
    "start_time": "2021-10-23T11:59:02.803Z"
   },
   {
    "duration": 12,
    "start_time": "2021-10-23T11:59:02.831Z"
   },
   {
    "duration": 88,
    "start_time": "2021-10-23T11:59:02.846Z"
   },
   {
    "duration": 14,
    "start_time": "2021-10-23T11:59:41.366Z"
   },
   {
    "duration": 84,
    "start_time": "2021-10-23T11:59:43.183Z"
   },
   {
    "duration": 13,
    "start_time": "2021-10-23T11:59:48.296Z"
   },
   {
    "duration": 972,
    "start_time": "2021-10-23T11:59:54.242Z"
   },
   {
    "duration": 391,
    "start_time": "2021-10-23T12:00:14.852Z"
   },
   {
    "duration": 21,
    "start_time": "2021-10-23T12:00:15.245Z"
   },
   {
    "duration": 737,
    "start_time": "2021-10-23T12:00:15.268Z"
   },
   {
    "duration": 725,
    "start_time": "2021-10-23T12:00:16.007Z"
   },
   {
    "duration": 22,
    "start_time": "2021-10-23T12:00:16.734Z"
   },
   {
    "duration": 22,
    "start_time": "2021-10-23T12:00:16.758Z"
   },
   {
    "duration": 23,
    "start_time": "2021-10-23T12:00:16.783Z"
   },
   {
    "duration": 10,
    "start_time": "2021-10-23T12:00:16.829Z"
   },
   {
    "duration": 161,
    "start_time": "2021-10-23T12:00:16.841Z"
   },
   {
    "duration": 90,
    "start_time": "2021-10-23T12:00:17.005Z"
   },
   {
    "duration": -1180,
    "start_time": "2021-10-23T12:00:18.277Z"
   },
   {
    "duration": 25,
    "start_time": "2021-10-23T12:00:34.238Z"
   },
   {
    "duration": 4,
    "start_time": "2021-10-23T12:00:44.768Z"
   },
   {
    "duration": 15,
    "start_time": "2021-10-23T12:00:44.776Z"
   },
   {
    "duration": 5,
    "start_time": "2021-10-23T12:00:44.795Z"
   },
   {
    "duration": 5,
    "start_time": "2021-10-23T12:00:44.803Z"
   },
   {
    "duration": 7,
    "start_time": "2021-10-23T12:00:44.810Z"
   },
   {
    "duration": 60,
    "start_time": "2021-10-23T12:00:44.819Z"
   },
   {
    "duration": 13,
    "start_time": "2021-10-23T12:00:44.882Z"
   },
   {
    "duration": 31,
    "start_time": "2021-10-23T12:00:44.898Z"
   },
   {
    "duration": 25,
    "start_time": "2021-10-23T12:00:44.931Z"
   },
   {
    "duration": 6,
    "start_time": "2021-10-23T12:00:44.958Z"
   },
   {
    "duration": 14,
    "start_time": "2021-10-23T12:00:44.966Z"
   },
   {
    "duration": 4,
    "start_time": "2021-10-23T12:00:45.029Z"
   },
   {
    "duration": 340,
    "start_time": "2021-10-23T12:00:45.035Z"
   },
   {
    "duration": 15,
    "start_time": "2021-10-23T12:00:45.377Z"
   },
   {
    "duration": 12,
    "start_time": "2021-10-23T12:00:45.394Z"
   },
   {
    "duration": 14,
    "start_time": "2021-10-23T12:00:45.408Z"
   },
   {
    "duration": 18,
    "start_time": "2021-10-23T12:00:45.428Z"
   },
   {
    "duration": 1289,
    "start_time": "2021-10-23T12:00:45.448Z"
   },
   {
    "duration": 3,
    "start_time": "2021-10-23T12:00:46.742Z"
   },
   {
    "duration": 575,
    "start_time": "2021-10-23T12:00:46.748Z"
   },
   {
    "duration": 18,
    "start_time": "2021-10-23T12:00:47.325Z"
   },
   {
    "duration": 6,
    "start_time": "2021-10-23T12:00:47.345Z"
   },
   {
    "duration": 221,
    "start_time": "2021-10-23T12:00:47.353Z"
   },
   {
    "duration": 204,
    "start_time": "2021-10-23T12:00:47.576Z"
   },
   {
    "duration": 14,
    "start_time": "2021-10-23T12:00:47.783Z"
   },
   {
    "duration": 16,
    "start_time": "2021-10-23T12:00:47.799Z"
   },
   {
    "duration": 34,
    "start_time": "2021-10-23T12:00:47.817Z"
   },
   {
    "duration": 13,
    "start_time": "2021-10-23T12:00:47.853Z"
   },
   {
    "duration": 14,
    "start_time": "2021-10-23T12:00:47.868Z"
   },
   {
    "duration": 26,
    "start_time": "2021-10-23T12:00:47.885Z"
   },
   {
    "duration": 24,
    "start_time": "2021-10-23T12:00:47.914Z"
   },
   {
    "duration": 15,
    "start_time": "2021-10-23T12:00:47.941Z"
   },
   {
    "duration": 813,
    "start_time": "2021-10-23T12:00:47.958Z"
   },
   {
    "duration": 521,
    "start_time": "2021-10-23T12:00:48.773Z"
   },
   {
    "duration": 15,
    "start_time": "2021-10-23T12:00:49.296Z"
   },
   {
    "duration": 547,
    "start_time": "2021-10-23T12:00:49.328Z"
   },
   {
    "duration": 26,
    "start_time": "2021-10-23T12:00:49.878Z"
   },
   {
    "duration": 24,
    "start_time": "2021-10-23T12:00:49.906Z"
   },
   {
    "duration": 21,
    "start_time": "2021-10-23T12:00:49.933Z"
   },
   {
    "duration": 665,
    "start_time": "2021-10-23T12:00:49.957Z"
   },
   {
    "duration": 10,
    "start_time": "2021-10-23T12:00:50.624Z"
   },
   {
    "duration": 37,
    "start_time": "2021-10-23T12:00:50.637Z"
   },
   {
    "duration": 3,
    "start_time": "2021-10-23T12:00:50.676Z"
   },
   {
    "duration": 29,
    "start_time": "2021-10-23T12:00:50.681Z"
   },
   {
    "duration": 26,
    "start_time": "2021-10-23T12:00:50.713Z"
   },
   {
    "duration": 23,
    "start_time": "2021-10-23T12:00:50.741Z"
   },
   {
    "duration": 21,
    "start_time": "2021-10-23T12:00:50.767Z"
   },
   {
    "duration": 18,
    "start_time": "2021-10-23T12:00:50.790Z"
   },
   {
    "duration": 11,
    "start_time": "2021-10-23T12:00:50.810Z"
   },
   {
    "duration": 32,
    "start_time": "2021-10-23T12:00:50.823Z"
   },
   {
    "duration": 759,
    "start_time": "2021-10-23T12:00:50.857Z"
   },
   {
    "duration": 20,
    "start_time": "2021-10-23T12:00:51.618Z"
   },
   {
    "duration": 30,
    "start_time": "2021-10-23T12:00:51.640Z"
   },
   {
    "duration": 701,
    "start_time": "2021-10-23T12:00:51.672Z"
   },
   {
    "duration": 271,
    "start_time": "2021-10-23T12:00:52.379Z"
   },
   {
    "duration": 24,
    "start_time": "2021-10-23T12:00:52.653Z"
   },
   {
    "duration": 760,
    "start_time": "2021-10-23T12:00:52.680Z"
   },
   {
    "duration": 651,
    "start_time": "2021-10-23T12:00:53.443Z"
   },
   {
    "duration": 24,
    "start_time": "2021-10-23T12:00:54.096Z"
   },
   {
    "duration": 24,
    "start_time": "2021-10-23T12:00:54.122Z"
   },
   {
    "duration": 31,
    "start_time": "2021-10-23T12:00:54.148Z"
   },
   {
    "duration": 9,
    "start_time": "2021-10-23T12:00:54.182Z"
   },
   {
    "duration": 40,
    "start_time": "2021-10-23T12:00:54.193Z"
   },
   {
    "duration": 77,
    "start_time": "2021-10-23T12:00:59.805Z"
   },
   {
    "duration": 5,
    "start_time": "2021-10-23T12:01:57.927Z"
   },
   {
    "duration": 91,
    "start_time": "2021-10-23T12:02:00.875Z"
   },
   {
    "duration": 54,
    "start_time": "2021-10-23T12:02:10.253Z"
   },
   {
    "duration": 24,
    "start_time": "2021-10-23T12:02:17.125Z"
   },
   {
    "duration": 31,
    "start_time": "2021-10-23T12:02:27.282Z"
   },
   {
    "duration": 105,
    "start_time": "2021-10-23T12:03:07.049Z"
   },
   {
    "duration": 38,
    "start_time": "2021-10-23T12:03:38.371Z"
   },
   {
    "duration": 103,
    "start_time": "2021-10-23T12:03:56.139Z"
   },
   {
    "duration": 14,
    "start_time": "2021-10-23T12:04:16.383Z"
   },
   {
    "duration": 22,
    "start_time": "2021-10-23T12:04:21.310Z"
   },
   {
    "duration": 13,
    "start_time": "2021-10-23T12:05:12.441Z"
   },
   {
    "duration": 21,
    "start_time": "2021-10-23T12:05:14.117Z"
   },
   {
    "duration": 221,
    "start_time": "2021-10-23T12:05:24.547Z"
   },
   {
    "duration": 233,
    "start_time": "2021-10-23T12:05:36.107Z"
   },
   {
    "duration": 5,
    "start_time": "2021-10-23T12:05:44.596Z"
   },
   {
    "duration": 18,
    "start_time": "2021-10-23T12:05:44.603Z"
   },
   {
    "duration": 22,
    "start_time": "2021-10-23T12:05:44.624Z"
   },
   {
    "duration": 17,
    "start_time": "2021-10-23T12:05:44.648Z"
   },
   {
    "duration": 21,
    "start_time": "2021-10-23T12:05:44.667Z"
   },
   {
    "duration": 71,
    "start_time": "2021-10-23T12:05:44.690Z"
   },
   {
    "duration": 14,
    "start_time": "2021-10-23T12:05:44.763Z"
   },
   {
    "duration": 23,
    "start_time": "2021-10-23T12:05:44.780Z"
   },
   {
    "duration": 44,
    "start_time": "2021-10-23T12:05:44.806Z"
   },
   {
    "duration": 6,
    "start_time": "2021-10-23T12:05:44.852Z"
   },
   {
    "duration": 29,
    "start_time": "2021-10-23T12:05:44.860Z"
   },
   {
    "duration": 19,
    "start_time": "2021-10-23T12:05:44.891Z"
   },
   {
    "duration": 342,
    "start_time": "2021-10-23T12:05:44.913Z"
   },
   {
    "duration": 14,
    "start_time": "2021-10-23T12:05:45.258Z"
   },
   {
    "duration": 9,
    "start_time": "2021-10-23T12:05:45.274Z"
   },
   {
    "duration": 19,
    "start_time": "2021-10-23T12:05:45.285Z"
   },
   {
    "duration": 23,
    "start_time": "2021-10-23T12:05:45.307Z"
   },
   {
    "duration": 1197,
    "start_time": "2021-10-23T12:05:45.332Z"
   },
   {
    "duration": 3,
    "start_time": "2021-10-23T12:05:46.531Z"
   },
   {
    "duration": 564,
    "start_time": "2021-10-23T12:05:46.536Z"
   },
   {
    "duration": 18,
    "start_time": "2021-10-23T12:05:47.102Z"
   },
   {
    "duration": 10,
    "start_time": "2021-10-23T12:05:47.122Z"
   },
   {
    "duration": 214,
    "start_time": "2021-10-23T12:05:47.137Z"
   },
   {
    "duration": 205,
    "start_time": "2021-10-23T12:05:47.354Z"
   },
   {
    "duration": 15,
    "start_time": "2021-10-23T12:05:47.562Z"
   },
   {
    "duration": 10,
    "start_time": "2021-10-23T12:05:47.579Z"
   },
   {
    "duration": 10,
    "start_time": "2021-10-23T12:05:47.591Z"
   },
   {
    "duration": 36,
    "start_time": "2021-10-23T12:05:47.603Z"
   },
   {
    "duration": 9,
    "start_time": "2021-10-23T12:05:47.641Z"
   },
   {
    "duration": 15,
    "start_time": "2021-10-23T12:05:47.653Z"
   },
   {
    "duration": 61,
    "start_time": "2021-10-23T12:05:47.671Z"
   },
   {
    "duration": 16,
    "start_time": "2021-10-23T12:05:47.735Z"
   },
   {
    "duration": 700,
    "start_time": "2021-10-23T12:05:47.754Z"
   },
   {
    "duration": 637,
    "start_time": "2021-10-23T12:05:48.457Z"
   },
   {
    "duration": 16,
    "start_time": "2021-10-23T12:05:49.097Z"
   },
   {
    "duration": 442,
    "start_time": "2021-10-23T12:05:49.129Z"
   },
   {
    "duration": 24,
    "start_time": "2021-10-23T12:05:49.574Z"
   },
   {
    "duration": 14,
    "start_time": "2021-10-23T12:05:49.600Z"
   },
   {
    "duration": 28,
    "start_time": "2021-10-23T12:05:49.630Z"
   },
   {
    "duration": 653,
    "start_time": "2021-10-23T12:05:49.661Z"
   },
   {
    "duration": 19,
    "start_time": "2021-10-23T12:05:50.317Z"
   },
   {
    "duration": 17,
    "start_time": "2021-10-23T12:05:50.338Z"
   },
   {
    "duration": 3,
    "start_time": "2021-10-23T12:05:50.358Z"
   },
   {
    "duration": 9,
    "start_time": "2021-10-23T12:05:50.365Z"
   },
   {
    "duration": 56,
    "start_time": "2021-10-23T12:05:50.376Z"
   },
   {
    "duration": 23,
    "start_time": "2021-10-23T12:05:50.434Z"
   },
   {
    "duration": 10,
    "start_time": "2021-10-23T12:05:50.459Z"
   },
   {
    "duration": 6,
    "start_time": "2021-10-23T12:05:50.471Z"
   },
   {
    "duration": 10,
    "start_time": "2021-10-23T12:05:50.480Z"
   },
   {
    "duration": 26,
    "start_time": "2021-10-23T12:05:50.492Z"
   },
   {
    "duration": 803,
    "start_time": "2021-10-23T12:05:50.520Z"
   },
   {
    "duration": 17,
    "start_time": "2021-10-23T12:05:51.329Z"
   },
   {
    "duration": 27,
    "start_time": "2021-10-23T12:05:51.349Z"
   },
   {
    "duration": 732,
    "start_time": "2021-10-23T12:05:51.379Z"
   },
   {
    "duration": 279,
    "start_time": "2021-10-23T12:05:52.114Z"
   },
   {
    "duration": 43,
    "start_time": "2021-10-23T12:05:52.396Z"
   },
   {
    "duration": 744,
    "start_time": "2021-10-23T12:05:52.442Z"
   },
   {
    "duration": 753,
    "start_time": "2021-10-23T12:05:53.188Z"
   },
   {
    "duration": 24,
    "start_time": "2021-10-23T12:05:53.943Z"
   },
   {
    "duration": 23,
    "start_time": "2021-10-23T12:05:53.969Z"
   },
   {
    "duration": 47,
    "start_time": "2021-10-23T12:05:53.995Z"
   },
   {
    "duration": 10,
    "start_time": "2021-10-23T12:06:08.590Z"
   },
   {
    "duration": 19,
    "start_time": "2021-10-23T12:06:09.529Z"
   },
   {
    "duration": 14,
    "start_time": "2021-10-23T12:06:10.494Z"
   },
   {
    "duration": 22,
    "start_time": "2021-10-23T12:06:15.136Z"
   },
   {
    "duration": 74,
    "start_time": "2021-10-23T12:06:57.882Z"
   },
   {
    "duration": 24,
    "start_time": "2021-10-23T12:07:00.635Z"
   },
   {
    "duration": 8,
    "start_time": "2021-10-23T13:10:56.817Z"
   },
   {
    "duration": 15,
    "start_time": "2021-10-23T13:11:01.990Z"
   },
   {
    "duration": 14,
    "start_time": "2021-10-23T13:11:20.948Z"
   },
   {
    "duration": 9,
    "start_time": "2021-10-23T13:11:39.658Z"
   },
   {
    "duration": 17,
    "start_time": "2021-10-23T13:11:58.945Z"
   },
   {
    "duration": 17,
    "start_time": "2021-10-23T13:13:43.437Z"
   },
   {
    "duration": 4,
    "start_time": "2021-10-23T13:16:21.687Z"
   },
   {
    "duration": 10,
    "start_time": "2021-10-23T13:16:27.951Z"
   },
   {
    "duration": 15,
    "start_time": "2021-10-23T13:16:32.906Z"
   },
   {
    "duration": 16,
    "start_time": "2021-10-23T13:16:35.760Z"
   },
   {
    "duration": 82,
    "start_time": "2021-10-23T13:16:52.797Z"
   },
   {
    "duration": 209,
    "start_time": "2021-10-23T13:19:41.724Z"
   },
   {
    "duration": 213,
    "start_time": "2021-10-23T13:19:47.594Z"
   },
   {
    "duration": 6,
    "start_time": "2021-10-23T13:20:00.904Z"
   },
   {
    "duration": 8,
    "start_time": "2021-10-23T13:20:15.343Z"
   },
   {
    "duration": 4,
    "start_time": "2021-10-23T13:20:33.858Z"
   },
   {
    "duration": 6,
    "start_time": "2021-10-23T13:20:39.703Z"
   },
   {
    "duration": 20,
    "start_time": "2021-10-23T13:20:50.505Z"
   },
   {
    "duration": 20,
    "start_time": "2021-10-23T13:22:19.056Z"
   },
   {
    "duration": 223,
    "start_time": "2021-10-23T13:22:43.599Z"
   },
   {
    "duration": 21,
    "start_time": "2021-10-23T13:22:51.990Z"
   },
   {
    "duration": 750,
    "start_time": "2021-10-23T13:28:19.124Z"
   },
   {
    "duration": 302,
    "start_time": "2021-10-24T03:25:49.900Z"
   },
   {
    "duration": 1492,
    "start_time": "2021-10-24T03:25:55.899Z"
   },
   {
    "duration": 2,
    "start_time": "2021-10-24T03:25:57.393Z"
   },
   {
    "duration": 5,
    "start_time": "2021-10-24T03:25:57.397Z"
   },
   {
    "duration": 4,
    "start_time": "2021-10-24T03:25:57.404Z"
   },
   {
    "duration": 4,
    "start_time": "2021-10-24T03:25:57.410Z"
   },
   {
    "duration": 51,
    "start_time": "2021-10-24T03:25:57.416Z"
   },
   {
    "duration": 12,
    "start_time": "2021-10-24T03:25:57.468Z"
   },
   {
    "duration": 9,
    "start_time": "2021-10-24T03:25:57.482Z"
   },
   {
    "duration": 18,
    "start_time": "2021-10-24T03:25:57.493Z"
   },
   {
    "duration": 5,
    "start_time": "2021-10-24T03:25:57.513Z"
   },
   {
    "duration": 32,
    "start_time": "2021-10-24T03:25:57.520Z"
   },
   {
    "duration": 3,
    "start_time": "2021-10-24T03:25:57.553Z"
   },
   {
    "duration": 195,
    "start_time": "2021-10-24T03:25:57.558Z"
   },
   {
    "duration": 10,
    "start_time": "2021-10-24T03:25:57.755Z"
   },
   {
    "duration": 9,
    "start_time": "2021-10-24T03:25:57.766Z"
   },
   {
    "duration": 5,
    "start_time": "2021-10-24T03:25:57.777Z"
   },
   {
    "duration": 12,
    "start_time": "2021-10-24T03:25:57.783Z"
   },
   {
    "duration": 753,
    "start_time": "2021-10-24T03:25:57.797Z"
   },
   {
    "duration": 2,
    "start_time": "2021-10-24T03:25:58.552Z"
   },
   {
    "duration": 289,
    "start_time": "2021-10-24T03:25:58.556Z"
   },
   {
    "duration": 17,
    "start_time": "2021-10-24T03:25:58.846Z"
   },
   {
    "duration": 5,
    "start_time": "2021-10-24T03:25:58.864Z"
   },
   {
    "duration": 126,
    "start_time": "2021-10-24T03:25:58.870Z"
   },
   {
    "duration": 118,
    "start_time": "2021-10-24T03:25:58.998Z"
   },
   {
    "duration": 9,
    "start_time": "2021-10-24T03:25:59.117Z"
   },
   {
    "duration": 7,
    "start_time": "2021-10-24T03:25:59.127Z"
   },
   {
    "duration": 11,
    "start_time": "2021-10-24T03:25:59.146Z"
   },
   {
    "duration": 7,
    "start_time": "2021-10-24T03:25:59.160Z"
   },
   {
    "duration": 5,
    "start_time": "2021-10-24T03:25:59.169Z"
   },
   {
    "duration": 8,
    "start_time": "2021-10-24T03:25:59.176Z"
   },
   {
    "duration": 11,
    "start_time": "2021-10-24T03:25:59.186Z"
   },
   {
    "duration": 823,
    "start_time": "2021-10-24T03:25:59.199Z"
   },
   {
    "duration": 448,
    "start_time": "2021-10-24T03:26:00.024Z"
   },
   {
    "duration": 417,
    "start_time": "2021-10-24T03:26:00.473Z"
   },
   {
    "duration": 10,
    "start_time": "2021-10-24T03:26:00.891Z"
   },
   {
    "duration": 274,
    "start_time": "2021-10-24T03:26:00.903Z"
   },
   {
    "duration": 16,
    "start_time": "2021-10-24T03:26:01.178Z"
   },
   {
    "duration": 8,
    "start_time": "2021-10-24T03:26:01.196Z"
   },
   {
    "duration": 16,
    "start_time": "2021-10-24T03:26:01.206Z"
   },
   {
    "duration": 399,
    "start_time": "2021-10-24T03:26:01.223Z"
   },
   {
    "duration": 7,
    "start_time": "2021-10-24T03:26:01.624Z"
   },
   {
    "duration": 24,
    "start_time": "2021-10-24T03:26:01.632Z"
   },
   {
    "duration": 18,
    "start_time": "2021-10-24T03:26:01.658Z"
   },
   {
    "duration": 24,
    "start_time": "2021-10-24T03:26:01.677Z"
   },
   {
    "duration": 20,
    "start_time": "2021-10-24T03:26:01.703Z"
   },
   {
    "duration": 26,
    "start_time": "2021-10-24T03:26:01.725Z"
   },
   {
    "duration": 23,
    "start_time": "2021-10-24T03:26:01.753Z"
   },
   {
    "duration": 27,
    "start_time": "2021-10-24T03:26:01.777Z"
   },
   {
    "duration": 22,
    "start_time": "2021-10-24T03:26:01.806Z"
   },
   {
    "duration": 33,
    "start_time": "2021-10-24T03:26:01.830Z"
   },
   {
    "duration": 584,
    "start_time": "2021-10-24T03:26:01.865Z"
   },
   {
    "duration": 11,
    "start_time": "2021-10-24T03:26:02.451Z"
   },
   {
    "duration": 26,
    "start_time": "2021-10-24T03:26:02.464Z"
   },
   {
    "duration": 425,
    "start_time": "2021-10-24T03:26:02.492Z"
   },
   {
    "duration": 190,
    "start_time": "2021-10-24T03:26:02.919Z"
   },
   {
    "duration": 16,
    "start_time": "2021-10-24T03:26:03.111Z"
   },
   {
    "duration": 448,
    "start_time": "2021-10-24T03:26:03.129Z"
   },
   {
    "duration": 1213,
    "start_time": "2021-10-24T03:26:03.579Z"
   },
   {
    "duration": 16,
    "start_time": "2021-10-24T03:26:04.794Z"
   },
   {
    "duration": 15,
    "start_time": "2021-10-24T03:26:04.812Z"
   },
   {
    "duration": 11,
    "start_time": "2021-10-24T03:26:04.829Z"
   },
   {
    "duration": 6,
    "start_time": "2021-10-24T03:26:04.842Z"
   },
   {
    "duration": 13,
    "start_time": "2021-10-24T03:26:04.850Z"
   },
   {
    "duration": 9,
    "start_time": "2021-10-24T03:26:04.864Z"
   },
   {
    "duration": 14,
    "start_time": "2021-10-24T03:26:04.875Z"
   },
   {
    "duration": 4,
    "start_time": "2021-10-24T03:26:04.890Z"
   },
   {
    "duration": 10,
    "start_time": "2021-10-24T03:26:04.896Z"
   },
   {
    "duration": 48,
    "start_time": "2021-10-24T03:26:04.908Z"
   },
   {
    "duration": 440,
    "start_time": "2021-10-24T03:26:04.958Z"
   },
   {
    "duration": 11,
    "start_time": "2021-10-24T03:26:05.399Z"
   },
   {
    "duration": 95,
    "start_time": "2021-10-24T03:27:13.060Z"
   },
   {
    "duration": 309,
    "start_time": "2021-10-24T03:27:17.912Z"
   },
   {
    "duration": 19,
    "start_time": "2021-10-24T03:27:52.719Z"
   },
   {
    "duration": 107,
    "start_time": "2021-10-24T03:29:20.054Z"
   },
   {
    "duration": 509,
    "start_time": "2021-10-24T03:29:53.129Z"
   },
   {
    "duration": 85,
    "start_time": "2021-10-24T03:30:22.695Z"
   },
   {
    "duration": 428,
    "start_time": "2021-10-24T03:30:37.761Z"
   },
   {
    "duration": 94,
    "start_time": "2021-10-24T03:31:27.465Z"
   },
   {
    "duration": 8,
    "start_time": "2021-10-24T03:31:30.333Z"
   },
   {
    "duration": 10,
    "start_time": "2021-10-24T03:31:34.908Z"
   },
   {
    "duration": 415,
    "start_time": "2021-10-24T04:37:32.873Z"
   },
   {
    "duration": 349,
    "start_time": "2021-10-24T04:37:44.695Z"
   },
   {
    "duration": 119,
    "start_time": "2021-10-24T04:40:47.921Z"
   },
   {
    "duration": 114,
    "start_time": "2021-10-24T04:41:08.378Z"
   },
   {
    "duration": 1551,
    "start_time": "2021-10-24T04:41:26.355Z"
   },
   {
    "duration": 4,
    "start_time": "2021-10-24T04:41:27.908Z"
   },
   {
    "duration": 8,
    "start_time": "2021-10-24T04:41:27.917Z"
   },
   {
    "duration": 5,
    "start_time": "2021-10-24T04:41:27.926Z"
   },
   {
    "duration": 6,
    "start_time": "2021-10-24T04:41:27.933Z"
   },
   {
    "duration": 52,
    "start_time": "2021-10-24T04:41:27.941Z"
   },
   {
    "duration": 13,
    "start_time": "2021-10-24T04:41:27.996Z"
   },
   {
    "duration": 9,
    "start_time": "2021-10-24T04:41:28.012Z"
   },
   {
    "duration": 23,
    "start_time": "2021-10-24T04:41:28.023Z"
   },
   {
    "duration": 6,
    "start_time": "2021-10-24T04:41:28.048Z"
   },
   {
    "duration": 12,
    "start_time": "2021-10-24T04:41:28.056Z"
   },
   {
    "duration": 5,
    "start_time": "2021-10-24T04:41:28.070Z"
   },
   {
    "duration": 214,
    "start_time": "2021-10-24T04:41:28.076Z"
   },
   {
    "duration": 11,
    "start_time": "2021-10-24T04:41:28.292Z"
   },
   {
    "duration": 4,
    "start_time": "2021-10-24T04:41:28.305Z"
   },
   {
    "duration": 5,
    "start_time": "2021-10-24T04:41:28.311Z"
   },
   {
    "duration": 31,
    "start_time": "2021-10-24T04:41:28.317Z"
   },
   {
    "duration": 753,
    "start_time": "2021-10-24T04:41:28.350Z"
   },
   {
    "duration": 3,
    "start_time": "2021-10-24T04:41:29.104Z"
   },
   {
    "duration": 295,
    "start_time": "2021-10-24T04:41:29.109Z"
   },
   {
    "duration": 20,
    "start_time": "2021-10-24T04:41:29.406Z"
   },
   {
    "duration": 6,
    "start_time": "2021-10-24T04:41:29.443Z"
   },
   {
    "duration": 135,
    "start_time": "2021-10-24T04:41:29.452Z"
   },
   {
    "duration": 121,
    "start_time": "2021-10-24T04:41:29.589Z"
   },
   {
    "duration": 9,
    "start_time": "2021-10-24T04:41:29.712Z"
   },
   {
    "duration": 13,
    "start_time": "2021-10-24T04:41:29.723Z"
   },
   {
    "duration": 132,
    "start_time": "2021-10-24T04:41:29.737Z"
   },
   {
    "duration": 126,
    "start_time": "2021-10-24T04:41:29.870Z"
   },
   {
    "duration": 7,
    "start_time": "2021-10-24T04:41:29.997Z"
   },
   {
    "duration": 10,
    "start_time": "2021-10-24T04:41:30.005Z"
   },
   {
    "duration": 7,
    "start_time": "2021-10-24T04:41:30.016Z"
   },
   {
    "duration": 11,
    "start_time": "2021-10-24T04:41:30.045Z"
   },
   {
    "duration": 14,
    "start_time": "2021-10-24T04:41:30.058Z"
   },
   {
    "duration": 544,
    "start_time": "2021-10-24T04:41:30.074Z"
   },
   {
    "duration": 342,
    "start_time": "2021-10-24T04:41:30.619Z"
   },
   {
    "duration": 410,
    "start_time": "2021-10-24T04:41:30.962Z"
   },
   {
    "duration": 9,
    "start_time": "2021-10-24T04:41:31.374Z"
   },
   {
    "duration": 283,
    "start_time": "2021-10-24T04:41:31.385Z"
   },
   {
    "duration": 16,
    "start_time": "2021-10-24T04:41:31.669Z"
   },
   {
    "duration": 6,
    "start_time": "2021-10-24T04:41:31.686Z"
   },
   {
    "duration": 31,
    "start_time": "2021-10-24T04:41:31.694Z"
   },
   {
    "duration": 381,
    "start_time": "2021-10-24T04:41:31.726Z"
   },
   {
    "duration": 7,
    "start_time": "2021-10-24T04:41:32.108Z"
   },
   {
    "duration": 34,
    "start_time": "2021-10-24T04:41:32.116Z"
   },
   {
    "duration": 2,
    "start_time": "2021-10-24T04:41:32.153Z"
   },
   {
    "duration": 9,
    "start_time": "2021-10-24T04:41:32.157Z"
   },
   {
    "duration": 15,
    "start_time": "2021-10-24T04:41:32.167Z"
   },
   {
    "duration": 20,
    "start_time": "2021-10-24T04:41:32.183Z"
   },
   {
    "duration": 8,
    "start_time": "2021-10-24T04:41:32.205Z"
   },
   {
    "duration": 4,
    "start_time": "2021-10-24T04:41:32.215Z"
   },
   {
    "duration": 4,
    "start_time": "2021-10-24T04:41:32.220Z"
   },
   {
    "duration": 14,
    "start_time": "2021-10-24T04:41:32.226Z"
   },
   {
    "duration": 747,
    "start_time": "2021-10-24T04:41:32.242Z"
   },
   {
    "duration": 10,
    "start_time": "2021-10-24T04:41:32.991Z"
   },
   {
    "duration": 20,
    "start_time": "2021-10-24T04:41:33.003Z"
   },
   {
    "duration": 458,
    "start_time": "2021-10-24T04:41:33.029Z"
   },
   {
    "duration": 296,
    "start_time": "2021-10-24T04:41:33.488Z"
   },
   {
    "duration": 17,
    "start_time": "2021-10-24T04:41:33.786Z"
   },
   {
    "duration": 468,
    "start_time": "2021-10-24T04:41:33.805Z"
   },
   {
    "duration": 1301,
    "start_time": "2021-10-24T04:41:34.275Z"
   },
   {
    "duration": 13,
    "start_time": "2021-10-24T04:41:35.578Z"
   },
   {
    "duration": 14,
    "start_time": "2021-10-24T04:41:35.593Z"
   },
   {
    "duration": 13,
    "start_time": "2021-10-24T04:41:35.608Z"
   },
   {
    "duration": 6,
    "start_time": "2021-10-24T04:41:35.622Z"
   },
   {
    "duration": 24,
    "start_time": "2021-10-24T04:41:35.630Z"
   },
   {
    "duration": 9,
    "start_time": "2021-10-24T04:41:35.656Z"
   },
   {
    "duration": 14,
    "start_time": "2021-10-24T04:41:35.670Z"
   },
   {
    "duration": 5,
    "start_time": "2021-10-24T04:41:35.685Z"
   },
   {
    "duration": 11,
    "start_time": "2021-10-24T04:41:35.692Z"
   },
   {
    "duration": 46,
    "start_time": "2021-10-24T04:41:35.705Z"
   },
   {
    "duration": 452,
    "start_time": "2021-10-24T04:41:35.753Z"
   },
   {
    "duration": 1661,
    "start_time": "2021-10-24T06:44:22.909Z"
   },
   {
    "duration": 3,
    "start_time": "2021-10-24T06:44:24.572Z"
   },
   {
    "duration": 6,
    "start_time": "2021-10-24T06:44:24.577Z"
   },
   {
    "duration": 11,
    "start_time": "2021-10-24T06:44:24.585Z"
   },
   {
    "duration": 6,
    "start_time": "2021-10-24T06:44:24.598Z"
   },
   {
    "duration": 51,
    "start_time": "2021-10-24T06:44:24.606Z"
   },
   {
    "duration": 13,
    "start_time": "2021-10-24T06:44:24.659Z"
   },
   {
    "duration": 11,
    "start_time": "2021-10-24T06:44:24.674Z"
   },
   {
    "duration": 18,
    "start_time": "2021-10-24T06:44:24.688Z"
   },
   {
    "duration": 5,
    "start_time": "2021-10-24T06:44:24.708Z"
   },
   {
    "duration": 39,
    "start_time": "2021-10-24T06:44:24.715Z"
   },
   {
    "duration": 8,
    "start_time": "2021-10-24T06:44:24.756Z"
   },
   {
    "duration": 205,
    "start_time": "2021-10-24T06:44:24.765Z"
   },
   {
    "duration": 9,
    "start_time": "2021-10-24T06:44:24.972Z"
   },
   {
    "duration": 6,
    "start_time": "2021-10-24T06:44:24.983Z"
   },
   {
    "duration": 11,
    "start_time": "2021-10-24T06:44:24.990Z"
   },
   {
    "duration": 14,
    "start_time": "2021-10-24T06:44:25.003Z"
   },
   {
    "duration": 783,
    "start_time": "2021-10-24T06:44:25.019Z"
   },
   {
    "duration": 3,
    "start_time": "2021-10-24T06:44:25.804Z"
   },
   {
    "duration": 299,
    "start_time": "2021-10-24T06:44:25.809Z"
   },
   {
    "duration": 25,
    "start_time": "2021-10-24T06:44:26.110Z"
   },
   {
    "duration": 11,
    "start_time": "2021-10-24T06:44:26.137Z"
   },
   {
    "duration": 168,
    "start_time": "2021-10-24T06:44:26.154Z"
   },
   {
    "duration": 130,
    "start_time": "2021-10-24T06:44:26.325Z"
   },
   {
    "duration": 11,
    "start_time": "2021-10-24T06:44:26.457Z"
   },
   {
    "duration": 14,
    "start_time": "2021-10-24T06:44:26.469Z"
   },
   {
    "duration": 132,
    "start_time": "2021-10-24T06:44:26.485Z"
   },
   {
    "duration": 129,
    "start_time": "2021-10-24T06:44:26.619Z"
   },
   {
    "duration": 8,
    "start_time": "2021-10-24T06:44:26.750Z"
   },
   {
    "duration": 8,
    "start_time": "2021-10-24T06:44:26.760Z"
   },
   {
    "duration": 7,
    "start_time": "2021-10-24T06:44:26.770Z"
   },
   {
    "duration": 11,
    "start_time": "2021-10-24T06:44:26.779Z"
   },
   {
    "duration": 14,
    "start_time": "2021-10-24T06:44:26.792Z"
   },
   {
    "duration": 721,
    "start_time": "2021-10-24T06:44:26.846Z"
   },
   {
    "duration": 350,
    "start_time": "2021-10-24T06:44:27.570Z"
   },
   {
    "duration": 409,
    "start_time": "2021-10-24T06:44:27.922Z"
   },
   {
    "duration": 18,
    "start_time": "2021-10-24T06:44:28.333Z"
   },
   {
    "duration": 264,
    "start_time": "2021-10-24T06:44:28.353Z"
   },
   {
    "duration": 29,
    "start_time": "2021-10-24T06:44:28.618Z"
   },
   {
    "duration": 2,
    "start_time": "2021-10-24T06:44:28.649Z"
   },
   {
    "duration": 14,
    "start_time": "2021-10-24T06:44:28.653Z"
   },
   {
    "duration": 368,
    "start_time": "2021-10-24T06:44:28.669Z"
   },
   {
    "duration": 10,
    "start_time": "2021-10-24T06:44:29.039Z"
   },
   {
    "duration": 18,
    "start_time": "2021-10-24T06:44:29.050Z"
   },
   {
    "duration": 15,
    "start_time": "2021-10-24T06:44:29.069Z"
   },
   {
    "duration": 21,
    "start_time": "2021-10-24T06:44:29.085Z"
   },
   {
    "duration": 19,
    "start_time": "2021-10-24T06:44:29.107Z"
   },
   {
    "duration": 48,
    "start_time": "2021-10-24T06:44:29.128Z"
   },
   {
    "duration": 19,
    "start_time": "2021-10-24T06:44:29.178Z"
   },
   {
    "duration": 25,
    "start_time": "2021-10-24T06:44:29.198Z"
   },
   {
    "duration": 34,
    "start_time": "2021-10-24T06:44:29.225Z"
   },
   {
    "duration": 39,
    "start_time": "2021-10-24T06:44:29.261Z"
   },
   {
    "duration": 615,
    "start_time": "2021-10-24T06:44:29.301Z"
   },
   {
    "duration": 10,
    "start_time": "2021-10-24T06:44:29.918Z"
   },
   {
    "duration": 24,
    "start_time": "2021-10-24T06:44:29.930Z"
   },
   {
    "duration": 420,
    "start_time": "2021-10-24T06:44:29.956Z"
   },
   {
    "duration": 210,
    "start_time": "2021-10-24T06:44:30.378Z"
   },
   {
    "duration": 18,
    "start_time": "2021-10-24T06:44:30.590Z"
   },
   {
    "duration": 475,
    "start_time": "2021-10-24T06:44:30.610Z"
   },
   {
    "duration": 1486,
    "start_time": "2021-10-24T06:44:31.087Z"
   },
   {
    "duration": 14,
    "start_time": "2021-10-24T06:44:32.575Z"
   },
   {
    "duration": 21,
    "start_time": "2021-10-24T06:44:32.591Z"
   },
   {
    "duration": 13,
    "start_time": "2021-10-24T06:44:32.614Z"
   },
   {
    "duration": 16,
    "start_time": "2021-10-24T06:44:32.629Z"
   },
   {
    "duration": 32,
    "start_time": "2021-10-24T06:44:32.647Z"
   },
   {
    "duration": 19,
    "start_time": "2021-10-24T06:44:32.681Z"
   },
   {
    "duration": 34,
    "start_time": "2021-10-24T06:44:32.702Z"
   },
   {
    "duration": 14,
    "start_time": "2021-10-24T06:44:32.741Z"
   },
   {
    "duration": 24,
    "start_time": "2021-10-24T06:44:32.757Z"
   },
   {
    "duration": 31,
    "start_time": "2021-10-24T06:44:32.783Z"
   },
   {
    "duration": 443,
    "start_time": "2021-10-24T06:44:32.816Z"
   },
   {
    "duration": 47784,
    "start_time": "2021-10-24T09:02:37.991Z"
   },
   {
    "duration": 4,
    "start_time": "2021-10-24T09:03:25.778Z"
   },
   {
    "duration": 8,
    "start_time": "2021-10-24T09:03:25.785Z"
   },
   {
    "duration": 6,
    "start_time": "2021-10-24T09:03:25.795Z"
   },
   {
    "duration": 8,
    "start_time": "2021-10-24T09:03:25.804Z"
   },
   {
    "duration": 70,
    "start_time": "2021-10-24T09:03:25.815Z"
   },
   {
    "duration": 17,
    "start_time": "2021-10-24T09:03:25.888Z"
   },
   {
    "duration": 25,
    "start_time": "2021-10-24T09:03:25.908Z"
   },
   {
    "duration": 25,
    "start_time": "2021-10-24T09:03:25.937Z"
   },
   {
    "duration": 6,
    "start_time": "2021-10-24T09:03:25.966Z"
   },
   {
    "duration": 37,
    "start_time": "2021-10-24T09:03:25.975Z"
   },
   {
    "duration": 10,
    "start_time": "2021-10-24T09:03:26.014Z"
   },
   {
    "duration": 343,
    "start_time": "2021-10-24T09:03:26.027Z"
   },
   {
    "duration": 14,
    "start_time": "2021-10-24T09:03:26.372Z"
   },
   {
    "duration": 10,
    "start_time": "2021-10-24T09:03:26.389Z"
   },
   {
    "duration": 11,
    "start_time": "2021-10-24T09:03:26.402Z"
   },
   {
    "duration": 29,
    "start_time": "2021-10-24T09:03:26.416Z"
   },
   {
    "duration": 1927,
    "start_time": "2021-10-24T09:03:26.448Z"
   },
   {
    "duration": 4,
    "start_time": "2021-10-24T09:03:28.378Z"
   },
   {
    "duration": 948,
    "start_time": "2021-10-24T09:03:28.385Z"
   },
   {
    "duration": 33,
    "start_time": "2021-10-24T09:03:29.336Z"
   },
   {
    "duration": 28,
    "start_time": "2021-10-24T09:03:29.372Z"
   },
   {
    "duration": 356,
    "start_time": "2021-10-24T09:03:29.403Z"
   },
   {
    "duration": 362,
    "start_time": "2021-10-24T09:03:29.762Z"
   },
   {
    "duration": 22,
    "start_time": "2021-10-24T09:03:30.127Z"
   },
   {
    "duration": 23,
    "start_time": "2021-10-24T09:03:30.152Z"
   },
   {
    "duration": 368,
    "start_time": "2021-10-24T09:03:30.204Z"
   },
   {
    "duration": 228,
    "start_time": "2021-10-24T09:03:30.577Z"
   },
   {
    "duration": 9,
    "start_time": "2021-10-24T09:03:30.808Z"
   },
   {
    "duration": 18,
    "start_time": "2021-10-24T09:03:30.820Z"
   },
   {
    "duration": 15,
    "start_time": "2021-10-24T09:03:30.840Z"
   },
   {
    "duration": 49,
    "start_time": "2021-10-24T09:03:30.857Z"
   },
   {
    "duration": 34,
    "start_time": "2021-10-24T09:03:30.909Z"
   },
   {
    "duration": 164086,
    "start_time": "2021-10-24T09:03:30.946Z"
   },
   {
    "duration": 596,
    "start_time": "2021-10-24T09:06:15.035Z"
   },
   {
    "duration": 777,
    "start_time": "2021-10-24T09:06:15.634Z"
   },
   {
    "duration": 14,
    "start_time": "2021-10-24T09:06:16.414Z"
   },
   {
    "duration": 520,
    "start_time": "2021-10-24T09:06:16.430Z"
   },
   {
    "duration": 24,
    "start_time": "2021-10-24T09:06:16.952Z"
   },
   {
    "duration": 22,
    "start_time": "2021-10-24T09:06:16.978Z"
   },
   {
    "duration": 18,
    "start_time": "2021-10-24T09:06:17.003Z"
   },
   {
    "duration": 642,
    "start_time": "2021-10-24T09:06:17.023Z"
   },
   {
    "duration": 10,
    "start_time": "2021-10-24T09:06:17.667Z"
   },
   {
    "duration": 31,
    "start_time": "2021-10-24T09:06:17.679Z"
   },
   {
    "duration": 3,
    "start_time": "2021-10-24T09:06:17.713Z"
   },
   {
    "duration": 8,
    "start_time": "2021-10-24T09:06:17.719Z"
   },
   {
    "duration": 13,
    "start_time": "2021-10-24T09:06:17.730Z"
   },
   {
    "duration": 9,
    "start_time": "2021-10-24T09:06:17.746Z"
   },
   {
    "duration": 45,
    "start_time": "2021-10-24T09:06:17.758Z"
   },
   {
    "duration": 3,
    "start_time": "2021-10-24T09:06:17.807Z"
   },
   {
    "duration": 9,
    "start_time": "2021-10-24T09:06:17.813Z"
   },
   {
    "duration": 27,
    "start_time": "2021-10-24T09:06:17.825Z"
   },
   {
    "duration": 919,
    "start_time": "2021-10-24T09:06:17.855Z"
   },
   {
    "duration": 26,
    "start_time": "2021-10-24T09:06:18.777Z"
   },
   {
    "duration": 30,
    "start_time": "2021-10-24T09:06:18.805Z"
   },
   {
    "duration": 691,
    "start_time": "2021-10-24T09:06:18.837Z"
   },
   {
    "duration": 296,
    "start_time": "2021-10-24T09:06:19.530Z"
   },
   {
    "duration": 25,
    "start_time": "2021-10-24T09:06:19.828Z"
   },
   {
    "duration": 761,
    "start_time": "2021-10-24T09:06:19.856Z"
   },
   {
    "duration": 1171,
    "start_time": "2021-10-24T09:06:20.619Z"
   },
   {
    "duration": 23,
    "start_time": "2021-10-24T09:06:21.792Z"
   },
   {
    "duration": 22,
    "start_time": "2021-10-24T09:06:21.817Z"
   },
   {
    "duration": 17,
    "start_time": "2021-10-24T09:06:21.842Z"
   },
   {
    "duration": 46,
    "start_time": "2021-10-24T09:06:21.861Z"
   },
   {
    "duration": 21,
    "start_time": "2021-10-24T09:06:21.909Z"
   },
   {
    "duration": 14,
    "start_time": "2021-10-24T09:06:21.932Z"
   },
   {
    "duration": 52,
    "start_time": "2021-10-24T09:06:21.948Z"
   },
   {
    "duration": 5,
    "start_time": "2021-10-24T09:06:22.003Z"
   },
   {
    "duration": 16,
    "start_time": "2021-10-24T09:06:22.010Z"
   },
   {
    "duration": 21,
    "start_time": "2021-10-24T09:06:22.028Z"
   },
   {
    "duration": 823,
    "start_time": "2021-10-24T09:06:22.051Z"
   }
  ],
  "kernelspec": {
   "display_name": "Python 3",
   "language": "python",
   "name": "python3"
  },
  "language_info": {
   "codemirror_mode": {
    "name": "ipython",
    "version": 3
   },
   "file_extension": ".py",
   "mimetype": "text/x-python",
   "name": "python",
   "nbconvert_exporter": "python",
   "pygments_lexer": "ipython3",
   "version": "3.8.8"
  },
  "toc": {
   "base_numbering": 1,
   "nav_menu": {},
   "number_sections": false,
   "sideBar": true,
   "skip_h1_title": true,
   "title_cell": "Анализ рынка заведений общественного питания Москвы",
   "title_sidebar": "Contents",
   "toc_cell": true,
   "toc_position": {
    "height": "calc(100% - 180px)",
    "left": "10px",
    "top": "150px",
    "width": "192px"
   },
   "toc_section_display": true,
   "toc_window_display": true
  },
  "varInspector": {
   "cols": {
    "lenName": 16,
    "lenType": 16,
    "lenVar": 40
   },
   "kernels_config": {
    "python": {
     "delete_cmd_postfix": "",
     "delete_cmd_prefix": "del ",
     "library": "var_list.py",
     "varRefreshCmd": "print(var_dic_list())"
    },
    "r": {
     "delete_cmd_postfix": ") ",
     "delete_cmd_prefix": "rm(",
     "library": "var_list.r",
     "varRefreshCmd": "cat(var_dic_list()) "
    }
   },
   "types_to_exclude": [
    "module",
    "function",
    "builtin_function_or_method",
    "instance",
    "_Feature"
   ],
   "window_display": false
  }
 },
 "nbformat": 4,
 "nbformat_minor": 4
}
