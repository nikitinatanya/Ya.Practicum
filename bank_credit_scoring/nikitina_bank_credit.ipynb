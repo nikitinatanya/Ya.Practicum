{
 "cells": [
  {
   "cell_type": "markdown",
   "metadata": {
    "toc": true
   },
   "source": [
    "<h1>Исследование надёжности заёмщиков<span class=\"tocSkip\"></span></h1>\n",
    "<ul class=\"toc-item\"><li><span><a href=\"#Введение\" data-toc-modified-id=\"Введение-1.1\">Введение</a></span></li><li><span><a href=\"#Шаг-1.-Откройте-файл-с-данными-и-изучите-общую-информацию\" data-toc-modified-id=\"Шаг-1.-Откройте-файл-с-данными-и-изучите-общую-информацию-1.2\">Шаг 1. Откройте файл с данными и изучите общую информацию</a></span></li><li><span><a href=\"#Шаг-2.-Предобработка-данных\" data-toc-modified-id=\"Шаг-2.-Предобработка-данных-1.3\">Шаг 2. Предобработка данных</a></span><ul class=\"toc-item\"><li><span><a href=\"#Переименование-столбцов\" data-toc-modified-id=\"Переименование-столбцов-1.3.1\">Переименование столбцов</a></span></li><li><span><a href=\"#Обработка-пропусков\" data-toc-modified-id=\"Обработка-пропусков-1.3.2\">Обработка пропусков</a></span><ul class=\"toc-item\"><li><span><a href=\"#Столбец-days_employed\" data-toc-modified-id=\"Столбец-days_employed-1.3.2.1\">Столбец days_employed</a></span></li><li><span><a href=\"#Заполнение-пропусков\" data-toc-modified-id=\"Заполнение-пропусков-1.3.2.2\">Заполнение пропусков</a></span></li></ul></li><li><span><a href=\"#Замена-типа-данных\" data-toc-modified-id=\"Замена-типа-данных-1.3.3\">Замена типа данных</a></span></li><li><span><a href=\"#Обработка-дубликатов\" data-toc-modified-id=\"Обработка-дубликатов-1.3.4\">Обработка дубликатов</a></span><ul class=\"toc-item\"><li><span><a href=\"#Столбец-children\" data-toc-modified-id=\"Столбец-children-1.3.4.1\">Столбец children</a></span></li><li><span><a href=\"#Столбец-days_employed\" data-toc-modified-id=\"Столбец-days_employed-1.3.4.2\">Столбец days_employed</a></span></li><li><span><a href=\"#Столбец-age\" data-toc-modified-id=\"Столбец-age-1.3.4.3\">Столбец age</a></span></li><li><span><a href=\"#Столбец-education\" data-toc-modified-id=\"Столбец-education-1.3.4.4\">Столбец education</a></span></li><li><span><a href=\"#Столбец-education_id\" data-toc-modified-id=\"Столбец-education_id-1.3.4.5\">Столбец education_id</a></span></li><li><span><a href=\"#Столбец--family_status\" data-toc-modified-id=\"Столбец--family_status-1.3.4.6\">Столбец  family_status</a></span></li><li><span><a href=\"#Столбец-family_status_id\" data-toc-modified-id=\"Столбец-family_status_id-1.3.4.7\">Столбец family_status_id</a></span></li><li><span><a href=\"#Столбец-gender\" data-toc-modified-id=\"Столбец-gender-1.3.4.8\">Столбец gender</a></span></li><li><span><a href=\"#Столбец-income_type\" data-toc-modified-id=\"Столбец-income_type-1.3.4.9\">Столбец income_type</a></span></li><li><span><a href=\"#Столбец-debt\" data-toc-modified-id=\"Столбец-debt-1.3.4.10\">Столбец debt</a></span></li><li><span><a href=\"#Столбец-total_income\" data-toc-modified-id=\"Столбец-total_income-1.3.4.11\">Столбец total_income</a></span></li><li><span><a href=\"#Столбец-purpose\" data-toc-modified-id=\"Столбец-purpose-1.3.4.12\">Столбец purpose</a></span></li><li><span><a href=\"#Обработка-дубликатов\" data-toc-modified-id=\"Обработка-дубликатов-1.3.4.13\">Обработка дубликатов</a></span></li></ul></li><li><span><a href=\"#Лемматизация\" data-toc-modified-id=\"Лемматизация-1.3.5\">Лемматизация</a></span></li><li><span><a href=\"#Категоризация-данных\" data-toc-modified-id=\"Категоризация-данных-1.3.6\">Категоризация данных</a></span><ul class=\"toc-item\"><li><span><a href=\"#Категоризация-по-уровню-дохода\" data-toc-modified-id=\"Категоризация-по-уровню-дохода-1.3.6.1\">Категоризация по уровню дохода</a></span></li><li><span><a href=\"#Категоризация-по-целям-кредита\" data-toc-modified-id=\"Категоризация-по-целям-кредита-1.3.6.2\">Категоризация по целям кредита</a></span></li></ul></li></ul></li><li><span><a href=\"#Шаг-3.-Ответьте-на-вопросы\" data-toc-modified-id=\"Шаг-3.-Ответьте-на-вопросы-1.4\">Шаг 3. Ответьте на вопросы</a></span></li><li><span><a href=\"#Шаг-4.-Общий-вывод\" data-toc-modified-id=\"Шаг-4.-Общий-вывод-1.5\">Шаг 4. Общий вывод</a></span><ul class=\"toc-item\"><li><span><a href=\"#1-этап.-Общее-изучение-входных-данных-от-банка.\" data-toc-modified-id=\"1-этап.-Общее-изучение-входных-данных-от-банка.-1.5.1\">1 этап. Общее изучение входных данных от банка.</a></span></li><li><span><a href=\"#2-этап.-Подготовка-данных.\" data-toc-modified-id=\"2-этап.-Подготовка-данных.-1.5.2\">2 этап. Подготовка данных.</a></span></li><li><span><a href=\"#3-этап.-Обработка-дубликатов.\" data-toc-modified-id=\"3-этап.-Обработка-дубликатов.-1.5.3\">3 этап. Обработка дубликатов.</a></span></li><li><span><a href=\"#4-этап.-Лемматизация.\" data-toc-modified-id=\"4-этап.-Лемматизация.-1.5.4\">4 этап. Лемматизация.</a></span></li><li><span><a href=\"#5-этап.-Категоризация-данных.\" data-toc-modified-id=\"5-этап.-Категоризация-данных.-1.5.5\">5 этап. Категоризация данных.</a></span></li><li><span><a href=\"#6-этап.-Результаты-исследования.\" data-toc-modified-id=\"6-этап.-Результаты-исследования.-1.5.6\">6 этап. Результаты исследования.</a></span></li><li><span><a href=\"#7-этап.-Общий-вывод.\" data-toc-modified-id=\"7-этап.-Общий-вывод.-1.5.7\">7 этап. Общий вывод.</a></span>"
   ]
  },
  {
   "cell_type": "markdown",
   "metadata": {},
   "source": [
    "## Введение  \n",
    "\n",
    " "
   ]
  },
  {
   "cell_type": "markdown",
   "metadata": {},
   "source": [
    "Заказчик — кредитный отдел банка. Нужно разобраться, влияет ли семейное положение и количество детей клиента на факт погашения кредита в срок. Входные данные от банка — статистика о платёжеспособности клиентов.\n",
    "\n",
    "Результаты исследования будут учтены при построении модели **кредитного скоринга** — специальной системы, которая оценивает способность потенциального заёмщика вернуть кредит банку."
   ]
  },
  {
   "cell_type": "markdown",
   "metadata": {},
   "source": [
    "В ходе исследования надёжности заёмщиков перед нами стоят следующие **вопросы**:\n",
    "\n",
    "- Наличие зависимости между количеством детей и возвратом кредита в срок.  \n",
    "- Наличие зависимости между семейным положением и возвратом кредита в срок.  \n",
    "- Наличие зависимости между уровнем дохода и возвратом кредита в срок.  \n",
    "- Влияние целей кредита на соблюдение сроков его возврата.    "
   ]
  },
  {
   "cell_type": "markdown",
   "metadata": {},
   "source": [
    "**Критерии** признания зависимости надежности заемщика от вышеуказанных признаков:\n",
    "\n",
    "- % нарушений сроков возврата кредита существенным образом варьируется у заемщиков с разным количеством детей.  \n",
    "- % нарушений сроков возврата кредита существенным образом варьируется у заемщиков с разным семейным статусом.\n",
    "- % нарушений сроков возврата кредита существенным образом варьируется у заемщиков с разным доходом.\n",
    "- % нарушений сроков возврата кредита существенным образом варьируется в зависимости от целей кредита.\n",
    "\n",
    "*Уровень существенности* в рамках данного исследования принимается равным 5%."
   ]
  },
  {
   "cell_type": "markdown",
   "metadata": {},
   "source": [
    "Исследование надёжности заёмщиков включает в себя следующие **этапы**:\n",
    "1. Общее изучение входных данных от банка.\n",
    "2. Подготовка данных.\n",
    "3. Обработка дубликатов.\n",
    "4. Лемматизация.\n",
    "5. Категоризация.\n",
    "6. Результаты исследования (ответы на вопросы).\n",
    "7. Общий вывод."
   ]
  },
  {
   "cell_type": "markdown",
   "metadata": {},
   "source": [
    "**Описание данных**:\n",
    "\n",
    "*children* — количество детей в семье  \n",
    "*days_employed* — общий трудовой стаж в днях  \n",
    "*dob_years* — возраст клиента в годах  \n",
    "*education* — уровень образования клиента  \n",
    "*education_id* — идентификатор уровня образования  \n",
    "*family_status* — семейное положение  \n",
    "*family_status_id* — идентификатор семейного положения  \n",
    "*gender* — пол клиента  \n",
    "*income_type* — тип занятости  \n",
    "*debt* — имел ли задолженность по возврату кредитов  \n",
    "*total_income* — ежемесячный доход  \n",
    "*purpose* — цель получения кредита  "
   ]
  },
  {
   "cell_type": "markdown",
   "metadata": {},
   "source": [
    "## Шаг 1. Откройте файл с данными и изучите общую информацию"
   ]
  },
  {
   "cell_type": "code",
   "execution_count": 1,
   "metadata": {},
   "outputs": [],
   "source": [
    "import pandas as pd\n",
    "pd.set_option('display.float_format', '{:,.2f}'.format)"
   ]
  },
  {
   "cell_type": "code",
   "execution_count": 2,
   "metadata": {},
   "outputs": [],
   "source": [
    "clients = pd.read_csv('/datasets/data.csv')"
   ]
  },
  {
   "cell_type": "code",
   "execution_count": 3,
   "metadata": {},
   "outputs": [
    {
     "name": "stdout",
     "output_type": "stream",
     "text": [
      "<class 'pandas.core.frame.DataFrame'>\n",
      "RangeIndex: 21525 entries, 0 to 21524\n",
      "Data columns (total 12 columns):\n",
      "children            21525 non-null int64\n",
      "days_employed       19351 non-null float64\n",
      "dob_years           21525 non-null int64\n",
      "education           21525 non-null object\n",
      "education_id        21525 non-null int64\n",
      "family_status       21525 non-null object\n",
      "family_status_id    21525 non-null int64\n",
      "gender              21525 non-null object\n",
      "income_type         21525 non-null object\n",
      "debt                21525 non-null int64\n",
      "total_income        19351 non-null float64\n",
      "purpose             21525 non-null object\n",
      "dtypes: float64(2), int64(5), object(5)\n",
      "memory usage: 2.0+ MB\n"
     ]
    }
   ],
   "source": [
    "clients.info()"
   ]
  },
  {
   "cell_type": "code",
   "execution_count": 4,
   "metadata": {},
   "outputs": [
    {
     "data": {
      "text/html": [
       "<div>\n",
       "<style scoped>\n",
       "    .dataframe tbody tr th:only-of-type {\n",
       "        vertical-align: middle;\n",
       "    }\n",
       "\n",
       "    .dataframe tbody tr th {\n",
       "        vertical-align: top;\n",
       "    }\n",
       "\n",
       "    .dataframe thead th {\n",
       "        text-align: right;\n",
       "    }\n",
       "</style>\n",
       "<table border=\"1\" class=\"dataframe\">\n",
       "  <thead>\n",
       "    <tr style=\"text-align: right;\">\n",
       "      <th></th>\n",
       "      <th>children</th>\n",
       "      <th>days_employed</th>\n",
       "      <th>dob_years</th>\n",
       "      <th>education</th>\n",
       "      <th>education_id</th>\n",
       "      <th>family_status</th>\n",
       "      <th>family_status_id</th>\n",
       "      <th>gender</th>\n",
       "      <th>income_type</th>\n",
       "      <th>debt</th>\n",
       "      <th>total_income</th>\n",
       "      <th>purpose</th>\n",
       "    </tr>\n",
       "  </thead>\n",
       "  <tbody>\n",
       "    <tr>\n",
       "      <td>0</td>\n",
       "      <td>1</td>\n",
       "      <td>-8,437.67</td>\n",
       "      <td>42</td>\n",
       "      <td>высшее</td>\n",
       "      <td>0</td>\n",
       "      <td>женат / замужем</td>\n",
       "      <td>0</td>\n",
       "      <td>F</td>\n",
       "      <td>сотрудник</td>\n",
       "      <td>0</td>\n",
       "      <td>253,875.64</td>\n",
       "      <td>покупка жилья</td>\n",
       "    </tr>\n",
       "    <tr>\n",
       "      <td>1</td>\n",
       "      <td>1</td>\n",
       "      <td>-4,024.80</td>\n",
       "      <td>36</td>\n",
       "      <td>среднее</td>\n",
       "      <td>1</td>\n",
       "      <td>женат / замужем</td>\n",
       "      <td>0</td>\n",
       "      <td>F</td>\n",
       "      <td>сотрудник</td>\n",
       "      <td>0</td>\n",
       "      <td>112,080.01</td>\n",
       "      <td>приобретение автомобиля</td>\n",
       "    </tr>\n",
       "    <tr>\n",
       "      <td>2</td>\n",
       "      <td>0</td>\n",
       "      <td>-5,623.42</td>\n",
       "      <td>33</td>\n",
       "      <td>Среднее</td>\n",
       "      <td>1</td>\n",
       "      <td>женат / замужем</td>\n",
       "      <td>0</td>\n",
       "      <td>M</td>\n",
       "      <td>сотрудник</td>\n",
       "      <td>0</td>\n",
       "      <td>145,885.95</td>\n",
       "      <td>покупка жилья</td>\n",
       "    </tr>\n",
       "    <tr>\n",
       "      <td>3</td>\n",
       "      <td>3</td>\n",
       "      <td>-4,124.75</td>\n",
       "      <td>32</td>\n",
       "      <td>среднее</td>\n",
       "      <td>1</td>\n",
       "      <td>женат / замужем</td>\n",
       "      <td>0</td>\n",
       "      <td>M</td>\n",
       "      <td>сотрудник</td>\n",
       "      <td>0</td>\n",
       "      <td>267,628.55</td>\n",
       "      <td>дополнительное образование</td>\n",
       "    </tr>\n",
       "    <tr>\n",
       "      <td>4</td>\n",
       "      <td>0</td>\n",
       "      <td>340,266.07</td>\n",
       "      <td>53</td>\n",
       "      <td>среднее</td>\n",
       "      <td>1</td>\n",
       "      <td>гражданский брак</td>\n",
       "      <td>1</td>\n",
       "      <td>F</td>\n",
       "      <td>пенсионер</td>\n",
       "      <td>0</td>\n",
       "      <td>158,616.08</td>\n",
       "      <td>сыграть свадьбу</td>\n",
       "    </tr>\n",
       "    <tr>\n",
       "      <td>5</td>\n",
       "      <td>0</td>\n",
       "      <td>-926.19</td>\n",
       "      <td>27</td>\n",
       "      <td>высшее</td>\n",
       "      <td>0</td>\n",
       "      <td>гражданский брак</td>\n",
       "      <td>1</td>\n",
       "      <td>M</td>\n",
       "      <td>компаньон</td>\n",
       "      <td>0</td>\n",
       "      <td>255,763.57</td>\n",
       "      <td>покупка жилья</td>\n",
       "    </tr>\n",
       "    <tr>\n",
       "      <td>6</td>\n",
       "      <td>0</td>\n",
       "      <td>-2,879.20</td>\n",
       "      <td>43</td>\n",
       "      <td>высшее</td>\n",
       "      <td>0</td>\n",
       "      <td>женат / замужем</td>\n",
       "      <td>0</td>\n",
       "      <td>F</td>\n",
       "      <td>компаньон</td>\n",
       "      <td>0</td>\n",
       "      <td>240,525.97</td>\n",
       "      <td>операции с жильем</td>\n",
       "    </tr>\n",
       "    <tr>\n",
       "      <td>7</td>\n",
       "      <td>0</td>\n",
       "      <td>-152.78</td>\n",
       "      <td>50</td>\n",
       "      <td>СРЕДНЕЕ</td>\n",
       "      <td>1</td>\n",
       "      <td>женат / замужем</td>\n",
       "      <td>0</td>\n",
       "      <td>M</td>\n",
       "      <td>сотрудник</td>\n",
       "      <td>0</td>\n",
       "      <td>135,823.93</td>\n",
       "      <td>образование</td>\n",
       "    </tr>\n",
       "    <tr>\n",
       "      <td>8</td>\n",
       "      <td>2</td>\n",
       "      <td>-6,929.87</td>\n",
       "      <td>35</td>\n",
       "      <td>ВЫСШЕЕ</td>\n",
       "      <td>0</td>\n",
       "      <td>гражданский брак</td>\n",
       "      <td>1</td>\n",
       "      <td>F</td>\n",
       "      <td>сотрудник</td>\n",
       "      <td>0</td>\n",
       "      <td>95,856.83</td>\n",
       "      <td>на проведение свадьбы</td>\n",
       "    </tr>\n",
       "    <tr>\n",
       "      <td>9</td>\n",
       "      <td>0</td>\n",
       "      <td>-2,188.76</td>\n",
       "      <td>41</td>\n",
       "      <td>среднее</td>\n",
       "      <td>1</td>\n",
       "      <td>женат / замужем</td>\n",
       "      <td>0</td>\n",
       "      <td>M</td>\n",
       "      <td>сотрудник</td>\n",
       "      <td>0</td>\n",
       "      <td>144,425.94</td>\n",
       "      <td>покупка жилья для семьи</td>\n",
       "    </tr>\n",
       "  </tbody>\n",
       "</table>\n",
       "</div>"
      ],
      "text/plain": [
       "   children  days_employed  dob_years education  education_id  \\\n",
       "0         1      -8,437.67         42    высшее             0   \n",
       "1         1      -4,024.80         36   среднее             1   \n",
       "2         0      -5,623.42         33   Среднее             1   \n",
       "3         3      -4,124.75         32   среднее             1   \n",
       "4         0     340,266.07         53   среднее             1   \n",
       "5         0        -926.19         27    высшее             0   \n",
       "6         0      -2,879.20         43    высшее             0   \n",
       "7         0        -152.78         50   СРЕДНЕЕ             1   \n",
       "8         2      -6,929.87         35    ВЫСШЕЕ             0   \n",
       "9         0      -2,188.76         41   среднее             1   \n",
       "\n",
       "      family_status  family_status_id gender income_type  debt  total_income  \\\n",
       "0   женат / замужем                 0      F   сотрудник     0    253,875.64   \n",
       "1   женат / замужем                 0      F   сотрудник     0    112,080.01   \n",
       "2   женат / замужем                 0      M   сотрудник     0    145,885.95   \n",
       "3   женат / замужем                 0      M   сотрудник     0    267,628.55   \n",
       "4  гражданский брак                 1      F   пенсионер     0    158,616.08   \n",
       "5  гражданский брак                 1      M   компаньон     0    255,763.57   \n",
       "6   женат / замужем                 0      F   компаньон     0    240,525.97   \n",
       "7   женат / замужем                 0      M   сотрудник     0    135,823.93   \n",
       "8  гражданский брак                 1      F   сотрудник     0     95,856.83   \n",
       "9   женат / замужем                 0      M   сотрудник     0    144,425.94   \n",
       "\n",
       "                      purpose  \n",
       "0               покупка жилья  \n",
       "1     приобретение автомобиля  \n",
       "2               покупка жилья  \n",
       "3  дополнительное образование  \n",
       "4             сыграть свадьбу  \n",
       "5               покупка жилья  \n",
       "6           операции с жильем  \n",
       "7                 образование  \n",
       "8       на проведение свадьбы  \n",
       "9     покупка жилья для семьи  "
      ]
     },
     "execution_count": 4,
     "metadata": {},
     "output_type": "execute_result"
    }
   ],
   "source": [
    "clients.head(10)"
   ]
  },
  {
   "cell_type": "code",
   "execution_count": 5,
   "metadata": {
    "scrolled": true
   },
   "outputs": [
    {
     "data": {
      "text/html": [
       "<div>\n",
       "<style scoped>\n",
       "    .dataframe tbody tr th:only-of-type {\n",
       "        vertical-align: middle;\n",
       "    }\n",
       "\n",
       "    .dataframe tbody tr th {\n",
       "        vertical-align: top;\n",
       "    }\n",
       "\n",
       "    .dataframe thead th {\n",
       "        text-align: right;\n",
       "    }\n",
       "</style>\n",
       "<table border=\"1\" class=\"dataframe\">\n",
       "  <thead>\n",
       "    <tr style=\"text-align: right;\">\n",
       "      <th></th>\n",
       "      <th>children</th>\n",
       "      <th>days_employed</th>\n",
       "      <th>dob_years</th>\n",
       "      <th>education_id</th>\n",
       "      <th>family_status_id</th>\n",
       "      <th>debt</th>\n",
       "      <th>total_income</th>\n",
       "    </tr>\n",
       "  </thead>\n",
       "  <tbody>\n",
       "    <tr>\n",
       "      <td>count</td>\n",
       "      <td>21,525.00</td>\n",
       "      <td>19,351.00</td>\n",
       "      <td>21,525.00</td>\n",
       "      <td>21,525.00</td>\n",
       "      <td>21,525.00</td>\n",
       "      <td>21,525.00</td>\n",
       "      <td>19,351.00</td>\n",
       "    </tr>\n",
       "    <tr>\n",
       "      <td>mean</td>\n",
       "      <td>0.54</td>\n",
       "      <td>63,046.50</td>\n",
       "      <td>43.29</td>\n",
       "      <td>0.82</td>\n",
       "      <td>0.97</td>\n",
       "      <td>0.08</td>\n",
       "      <td>167,422.30</td>\n",
       "    </tr>\n",
       "    <tr>\n",
       "      <td>std</td>\n",
       "      <td>1.38</td>\n",
       "      <td>140,827.31</td>\n",
       "      <td>12.57</td>\n",
       "      <td>0.55</td>\n",
       "      <td>1.42</td>\n",
       "      <td>0.27</td>\n",
       "      <td>102,971.57</td>\n",
       "    </tr>\n",
       "    <tr>\n",
       "      <td>min</td>\n",
       "      <td>-1.00</td>\n",
       "      <td>-18,388.95</td>\n",
       "      <td>0.00</td>\n",
       "      <td>0.00</td>\n",
       "      <td>0.00</td>\n",
       "      <td>0.00</td>\n",
       "      <td>20,667.26</td>\n",
       "    </tr>\n",
       "    <tr>\n",
       "      <td>25%</td>\n",
       "      <td>0.00</td>\n",
       "      <td>-2,747.42</td>\n",
       "      <td>33.00</td>\n",
       "      <td>1.00</td>\n",
       "      <td>0.00</td>\n",
       "      <td>0.00</td>\n",
       "      <td>103,053.15</td>\n",
       "    </tr>\n",
       "    <tr>\n",
       "      <td>50%</td>\n",
       "      <td>0.00</td>\n",
       "      <td>-1,203.37</td>\n",
       "      <td>42.00</td>\n",
       "      <td>1.00</td>\n",
       "      <td>0.00</td>\n",
       "      <td>0.00</td>\n",
       "      <td>145,017.94</td>\n",
       "    </tr>\n",
       "    <tr>\n",
       "      <td>75%</td>\n",
       "      <td>1.00</td>\n",
       "      <td>-291.10</td>\n",
       "      <td>53.00</td>\n",
       "      <td>1.00</td>\n",
       "      <td>1.00</td>\n",
       "      <td>0.00</td>\n",
       "      <td>203,435.07</td>\n",
       "    </tr>\n",
       "    <tr>\n",
       "      <td>max</td>\n",
       "      <td>20.00</td>\n",
       "      <td>401,755.40</td>\n",
       "      <td>75.00</td>\n",
       "      <td>4.00</td>\n",
       "      <td>4.00</td>\n",
       "      <td>1.00</td>\n",
       "      <td>2,265,604.03</td>\n",
       "    </tr>\n",
       "  </tbody>\n",
       "</table>\n",
       "</div>"
      ],
      "text/plain": [
       "       children  days_employed  dob_years  education_id  family_status_id  \\\n",
       "count 21,525.00      19,351.00  21,525.00     21,525.00         21,525.00   \n",
       "mean       0.54      63,046.50      43.29          0.82              0.97   \n",
       "std        1.38     140,827.31      12.57          0.55              1.42   \n",
       "min       -1.00     -18,388.95       0.00          0.00              0.00   \n",
       "25%        0.00      -2,747.42      33.00          1.00              0.00   \n",
       "50%        0.00      -1,203.37      42.00          1.00              0.00   \n",
       "75%        1.00        -291.10      53.00          1.00              1.00   \n",
       "max       20.00     401,755.40      75.00          4.00              4.00   \n",
       "\n",
       "           debt  total_income  \n",
       "count 21,525.00     19,351.00  \n",
       "mean       0.08    167,422.30  \n",
       "std        0.27    102,971.57  \n",
       "min        0.00     20,667.26  \n",
       "25%        0.00    103,053.15  \n",
       "50%        0.00    145,017.94  \n",
       "75%        0.00    203,435.07  \n",
       "max        1.00  2,265,604.03  "
      ]
     },
     "execution_count": 5,
     "metadata": {},
     "output_type": "execute_result"
    }
   ],
   "source": [
    "clients.describe()"
   ]
  },
  {
   "cell_type": "markdown",
   "metadata": {},
   "source": [
    "**Вывод**"
   ]
  },
  {
   "cell_type": "markdown",
   "metadata": {},
   "source": [
    "- Входные данные представляют собой таблицу из 12 колонок и 21 525 строк.  \n",
    "- Наименования столбцов преимущественно отражают суть содержащихся в них данных. Для улучшения восприятия столбец \"dob_years\" переименуем в \"age\".  \n",
    "- Тип данных в столбцах  \"days_employed\" и \"total_income\" имеют тип float64. Для лучшей читаемости данных изменим тип на int64.  \n",
    "- Исходные данные неидеальны:  \n",
    "    - Столбцы \"days_employed\" и \"total_income\" содержат пропуски - 10% общего количества строк, что является существенным. Подход к заполнению пропусков - статистический, использование медианы.  \n",
    "    - Столбец \"children\": есть отрицательные (-1) и нереальные (20) значения.\n",
    "    - Столбец \"days_employed\": есть отрицательные значения и \"ошибочные\" значения (скорее всего являющиеся периодом работы в часах, а не днях).\n",
    "    - Столбец \"education\": данные написаны в разных регистрах."
   ]
  },
  {
   "cell_type": "markdown",
   "metadata": {},
   "source": [
    "## Шаг 2. Предобработка данных"
   ]
  },
  {
   "cell_type": "markdown",
   "metadata": {},
   "source": [
    "### Переименование столбцов"
   ]
  },
  {
   "cell_type": "code",
   "execution_count": 6,
   "metadata": {},
   "outputs": [
    {
     "data": {
      "text/plain": [
       "Index(['children', 'days_employed', 'age', 'education', 'education_id',\n",
       "       'family_status', 'family_status_id', 'gender', 'income_type', 'debt',\n",
       "       'total_income', 'purpose'],\n",
       "      dtype='object')"
      ]
     },
     "execution_count": 6,
     "metadata": {},
     "output_type": "execute_result"
    }
   ],
   "source": [
    "clients.rename(columns={\"dob_years\": \"age\"}, inplace=True)\n",
    "clients.columns"
   ]
  },
  {
   "cell_type": "markdown",
   "metadata": {},
   "source": [
    "**Вывод**"
   ]
  },
  {
   "cell_type": "markdown",
   "metadata": {},
   "source": [
    "Для улучшения восприятия заголовков таблицы переименовали столбец \"dob_years\" на \"age\"."
   ]
  },
  {
   "cell_type": "markdown",
   "metadata": {},
   "source": [
    "### Обработка пропусков"
   ]
  },
  {
   "cell_type": "markdown",
   "metadata": {},
   "source": [
    "На 1 этапе выявлено, что в столбцах \"days_employed\" и \"total_income\" есть пропуски.  Заполним пропуски медианными значениями соответствующих групп клиентов (по категориям столбца income_type)."
   ]
  },
  {
   "cell_type": "markdown",
   "metadata": {},
   "source": [
    "#### Столбец days_employed"
   ]
  },
  {
   "cell_type": "markdown",
   "metadata": {},
   "source": [
    "Столбец days_employed отражает трудовой стаж заемщика. Значения должны быть не отрицательными, целыми, выраженными в единых единицах измерения - количество дней."
   ]
  },
  {
   "cell_type": "code",
   "execution_count": 7,
   "metadata": {},
   "outputs": [
    {
     "name": "stdout",
     "output_type": "stream",
     "text": [
      "Минимальное значение трудового стажа: -18,388.9\n",
      "Максимальное значение трудового стажа: 401,755.4\n"
     ]
    }
   ],
   "source": [
    "# Диапазон данных в столбце days_employed\n",
    "print('Минимальное значение трудового стажа:', '{:,.1f}'.format(clients['days_employed'].min()))\n",
    "print('Максимальное значение трудового стажа:', '{:,.1f}'.format(clients['days_employed'].max()))\n"
   ]
  },
  {
   "cell_type": "markdown",
   "metadata": {},
   "source": [
    "Размах значений существенный. Левая граница диапазона ниже 0, что противоречит сути данных. Правая граница диапазона имеет аномально высокие значения и скорее всего является показателем трудового стажа, выраженным в астрономических часах.\n",
    "\n",
    "Для расчета и последующего заполнения пропусков медианными значениями произведем предобработку данных в столбце days_employed."
   ]
  },
  {
   "cell_type": "code",
   "execution_count": 8,
   "metadata": {},
   "outputs": [
    {
     "name": "stdout",
     "output_type": "stream",
     "text": [
      "Количество отрицательных значений: 15906\n",
      "Доля отрицательных значений трудового стажа: 73.9%\n"
     ]
    }
   ],
   "source": [
    "print('Количество отрицательных значений:', clients.loc[clients['days_employed'] < 0, 'days_employed'].count())\n",
    "#days_minus = clients.loc[clients['days_employed'] < 0, 'days_employed'].count() / clients.shape[0]\n",
    "print('Доля отрицательных значений трудового стажа: {:.1%}'.format(clients.loc[clients['days_employed'] < 0, 'days_employed'].count() / clients.shape[0]))"
   ]
  },
  {
   "cell_type": "code",
   "execution_count": 9,
   "metadata": {
    "scrolled": true
   },
   "outputs": [
    {
     "name": "stdout",
     "output_type": "stream",
     "text": [
      "Доля отрицательных значений трудового стажа: 0.0%\n"
     ]
    }
   ],
   "source": [
    "# Приведем значения в диапазон неотрицательных значений\n",
    "clients['days_employed'] = clients['days_employed'].abs()\n",
    "print('Доля отрицательных значений трудового стажа: {:.1%}'.format(clients.loc[clients['days_employed'] < 0, 'days_employed'].count() / clients.shape[0]))"
   ]
  },
  {
   "cell_type": "code",
   "execution_count": 10,
   "metadata": {},
   "outputs": [
    {
     "name": "stdout",
     "output_type": "stream",
     "text": [
      "Количество значений трудового стажа в часах: 3447\n",
      "Доля значений трудового стажа в часах: 16.0%\n"
     ]
    }
   ],
   "source": [
    "#Переведем значения стажа в часах в дни\n",
    "print('Количество значений трудового стажа в часах:', clients.loc[clients['days_employed'] > 17166, 'days_employed'].count())\n",
    "print('Доля значений трудового стажа в часах: {:.1%}'.format(clients.loc[clients['days_employed'] > 17166, 'days_employed'].count() / clients.shape[0]))"
   ]
  },
  {
   "cell_type": "code",
   "execution_count": 11,
   "metadata": {},
   "outputs": [
    {
     "name": "stdout",
     "output_type": "stream",
     "text": [
      "Доля значений трудового стажа в часах: 0.0%\n"
     ]
    }
   ],
   "source": [
    "# Приведем значения трудового стажа к единицам измерения в днях\n",
    "clients.loc[clients['days_employed'] > 17166, 'days_employed'] = clients.loc[clients['days_employed'] > 17166, 'days_employed'] / 24\n",
    "print('Доля значений трудового стажа в часах: {:.1%}'.format(clients.loc[clients['days_employed'] > 17166, 'days_employed'].count() / clients.shape[0]))"
   ]
  },
  {
   "cell_type": "markdown",
   "metadata": {},
   "source": [
    "**Вывод**  \n",
    "\n",
    "Столбец days_employed содержит отрицательные значения и значения трудового стажа, выраженные в часах.\n",
    "Отрицательные значения устранены посредством приведения столбца к абсолютным значениям.\n",
    "Для корректировки значений трудового стажа в часах применена следующая логика. Принимаем максимальный нормальный трудовой стаж размером 47 лет (для мужчин, работавших от 18 до 65 лет) или 17166 дней. Все значения, превышающие этот порог, переведены в дни путем деления на 24. \n"
   ]
  },
  {
   "cell_type": "markdown",
   "metadata": {},
   "source": [
    "#### Заполнение пропусков "
   ]
  },
  {
   "cell_type": "code",
   "execution_count": 12,
   "metadata": {},
   "outputs": [
    {
     "data": {
      "text/plain": [
       "children               0\n",
       "days_employed       2174\n",
       "age                    0\n",
       "education              0\n",
       "education_id           0\n",
       "family_status          0\n",
       "family_status_id       0\n",
       "gender                 0\n",
       "income_type            0\n",
       "debt                   0\n",
       "total_income        2174\n",
       "purpose                0\n",
       "dtype: int64"
      ]
     },
     "execution_count": 12,
     "metadata": {},
     "output_type": "execute_result"
    }
   ],
   "source": [
    "# Определим общее количество пропусков\n",
    "clients.isna().sum()"
   ]
  },
  {
   "cell_type": "code",
   "execution_count": 13,
   "metadata": {},
   "outputs": [
    {
     "data": {
      "text/plain": [
       "children           0.00\n",
       "days_employed      0.10\n",
       "age                0.00\n",
       "education          0.00\n",
       "education_id       0.00\n",
       "family_status      0.00\n",
       "family_status_id   0.00\n",
       "gender             0.00\n",
       "income_type        0.00\n",
       "debt               0.00\n",
       "total_income       0.10\n",
       "purpose            0.00\n",
       "dtype: float64"
      ]
     },
     "execution_count": 13,
     "metadata": {},
     "output_type": "execute_result"
    }
   ],
   "source": [
    "clients.isna().mean()"
   ]
  },
  {
   "cell_type": "code",
   "execution_count": 14,
   "metadata": {},
   "outputs": [
    {
     "data": {
      "text/plain": [
       "сотрудник          11119\n",
       "компаньон           5085\n",
       "пенсионер           3856\n",
       "госслужащий         1459\n",
       "предприниматель        2\n",
       "безработный            2\n",
       "в декрете              1\n",
       "студент                1\n",
       "Name: income_type, dtype: int64"
      ]
     },
     "execution_count": 14,
     "metadata": {},
     "output_type": "execute_result"
    }
   ],
   "source": [
    "# Группы клиентов по типу дохода\n",
    "clients['income_type'].value_counts()"
   ]
  },
  {
   "cell_type": "code",
   "execution_count": 15,
   "metadata": {},
   "outputs": [],
   "source": [
    "# Заполним пропуски в столбце days_employed медианными значениями по группам income_type\n",
    "for income in clients['income_type'].unique():\n",
    "    median = clients.loc[clients['income_type'] == income, 'days_employed'].median()\n",
    "    #print(income, median)\n",
    "    clients.loc[(clients['days_employed'].isna()) & (clients['income_type'] == income), 'days_employed'] = median\n"
   ]
  },
  {
   "cell_type": "code",
   "execution_count": 16,
   "metadata": {},
   "outputs": [],
   "source": [
    "# Заполним пропуски в столбце total_income медианными значениями по группам income_type\n",
    "for income in clients['income_type'].unique():\n",
    "    median = clients.loc[clients['income_type'] == income, 'total_income'].median()\n",
    "    #print(income, median)\n",
    "    clients.loc[(clients['total_income'].isna()) & (clients['income_type'] == income), 'total_income'] = median\n"
   ]
  },
  {
   "cell_type": "code",
   "execution_count": 17,
   "metadata": {},
   "outputs": [
    {
     "data": {
      "text/plain": [
       "children            0\n",
       "days_employed       0\n",
       "age                 0\n",
       "education           0\n",
       "education_id        0\n",
       "family_status       0\n",
       "family_status_id    0\n",
       "gender              0\n",
       "income_type         0\n",
       "debt                0\n",
       "total_income        0\n",
       "purpose             0\n",
       "dtype: int64"
      ]
     },
     "execution_count": 17,
     "metadata": {},
     "output_type": "execute_result"
    }
   ],
   "source": [
    "clients.isna().sum()"
   ]
  },
  {
   "cell_type": "markdown",
   "metadata": {},
   "source": [
    "**Вывод**"
   ]
  },
  {
   "cell_type": "markdown",
   "metadata": {},
   "source": [
    "Количество пропусков в столбцах \"days_employed\" и \"total_income\" существенно и составляет 10,1%. Удалять строки - некорректно. \n",
    "\n",
    "Пропуски в столбцах \"days_employed\" и \"total_income\" заполнены *медианными значениями*, определенными в группах клиентов по типу дохода (столбец \"income_type\"). "
   ]
  },
  {
   "cell_type": "markdown",
   "metadata": {},
   "source": [
    "### Замена типа данных"
   ]
  },
  {
   "cell_type": "markdown",
   "metadata": {},
   "source": [
    "На 1 этапе выявлена необходимость замены типа данных в столбцах \"days_employed\" и \"total_income\" с float64 на int64."
   ]
  },
  {
   "cell_type": "code",
   "execution_count": 18,
   "metadata": {},
   "outputs": [
    {
     "data": {
      "text/plain": [
       "0         8437\n",
       "1         4024\n",
       "2         5623\n",
       "3         4124\n",
       "4        14177\n",
       "         ...  \n",
       "21520     4529\n",
       "21521    14330\n",
       "21522     2113\n",
       "21523     3112\n",
       "21524     1984\n",
       "Name: days_employed, Length: 21525, dtype: int64"
      ]
     },
     "execution_count": 18,
     "metadata": {},
     "output_type": "execute_result"
    }
   ],
   "source": [
    "#Изменение типа данных в столбце days_employed\n",
    "clients['days_employed'] = clients['days_employed'].astype('int')\n",
    "clients['days_employed']"
   ]
  },
  {
   "cell_type": "code",
   "execution_count": 19,
   "metadata": {},
   "outputs": [
    {
     "data": {
      "text/plain": [
       "0        253875\n",
       "1        112080\n",
       "2        145885\n",
       "3        267628\n",
       "4        158616\n",
       "          ...  \n",
       "21520    224791\n",
       "21521    155999\n",
       "21522     89672\n",
       "21523    244093\n",
       "21524     82047\n",
       "Name: total_income, Length: 21525, dtype: int64"
      ]
     },
     "execution_count": 19,
     "metadata": {},
     "output_type": "execute_result"
    }
   ],
   "source": [
    "#Изменение типа данных в столбце total_income\n",
    "clients['total_income'] = clients['total_income'].astype('int')\n",
    "clients['total_income']"
   ]
  },
  {
   "cell_type": "markdown",
   "metadata": {},
   "source": [
    "**Вывод**"
   ]
  },
  {
   "cell_type": "markdown",
   "metadata": {},
   "source": [
    "Произведена замена типа данных в столбцах \"days_employed\" и \"total_income\" с float64 на int64, что улучшает восприятие в процессе анализа данных."
   ]
  },
  {
   "cell_type": "markdown",
   "metadata": {},
   "source": [
    "### Обработка дубликатов"
   ]
  },
  {
   "cell_type": "markdown",
   "metadata": {},
   "source": [
    "Проанализируем данные в каждом столбце исходной таблицы на предмет наличия дубликатов, аномальных значений. При необходимости произведем преобразования."
   ]
  },
  {
   "cell_type": "code",
   "execution_count": 20,
   "metadata": {},
   "outputs": [
    {
     "data": {
      "text/plain": [
       "Index(['children', 'days_employed', 'age', 'education', 'education_id',\n",
       "       'family_status', 'family_status_id', 'gender', 'income_type', 'debt',\n",
       "       'total_income', 'purpose'],\n",
       "      dtype='object')"
      ]
     },
     "execution_count": 20,
     "metadata": {},
     "output_type": "execute_result"
    }
   ],
   "source": [
    "clients.columns"
   ]
  },
  {
   "cell_type": "markdown",
   "metadata": {},
   "source": [
    "#### Столбец children"
   ]
  },
  {
   "cell_type": "markdown",
   "metadata": {},
   "source": [
    "Столбец children содержит информацию о количестве детей заемщиков. Значения должны быть не отрицательными, целыми, находиться в диапазоне [1:10]."
   ]
  },
  {
   "cell_type": "code",
   "execution_count": 21,
   "metadata": {},
   "outputs": [
    {
     "data": {
      "text/plain": [
       "array([ 1,  0,  3,  2, -1,  4, 20,  5])"
      ]
     },
     "execution_count": 21,
     "metadata": {},
     "output_type": "execute_result"
    }
   ],
   "source": [
    "# Значения в столбце children\n",
    "clients['children'].unique()"
   ]
  },
  {
   "cell_type": "code",
   "execution_count": 22,
   "metadata": {},
   "outputs": [
    {
     "name": "stdout",
     "output_type": "stream",
     "text": [
      "Количество значений \"-1\":  47\n",
      "Доля значений \"-1\": 0.2%\n"
     ]
    }
   ],
   "source": [
    "# Количество и доля аномальных значений в столбце children\n",
    "child_minus = clients.loc[clients['children'] == -1,'children'].count()\n",
    "d_child_minus = child_minus / len(clients['children'])\n",
    "print('Количество значений \"-1\": ', child_minus)\n",
    "print('Доля значений \"-1\": ''{:.1%}'.format(d_child_minus))"
   ]
  },
  {
   "cell_type": "code",
   "execution_count": 23,
   "metadata": {},
   "outputs": [
    {
     "name": "stdout",
     "output_type": "stream",
     "text": [
      "Количество значений \"20\":  47\n",
      "Доля значений \"20\": 0.4%\n"
     ]
    }
   ],
   "source": [
    "# Количество и доля аномальных значений в столбце children\n",
    "child_twenty = clients.loc[clients['children'] == 20,'children'].count()\n",
    "d_child_twenty = child_twenty / len(clients['children'])\n",
    "print('Количество значений \"20\": ', child_minus)\n",
    "print('Доля значений \"20\": ''{:.1%}'.format(d_child_twenty))"
   ]
  },
  {
   "cell_type": "code",
   "execution_count": 24,
   "metadata": {},
   "outputs": [],
   "source": [
    "# Замена значений \"-1\" и \"20\" на медианные значения в столбце children\n",
    "median_children = clients['children'].median()\n",
    "#median_children\n",
    "clients.loc[clients['children'] == -1, 'children'] = median_children\n",
    "clients.loc[clients['children'] == 20, 'children'] = median_children"
   ]
  },
  {
   "cell_type": "code",
   "execution_count": 25,
   "metadata": {},
   "outputs": [
    {
     "data": {
      "text/plain": [
       "0.00    14272\n",
       "1.00     4818\n",
       "2.00     2055\n",
       "3.00      330\n",
       "4.00       41\n",
       "5.00        9\n",
       "Name: children, dtype: int64"
      ]
     },
     "execution_count": 25,
     "metadata": {},
     "output_type": "execute_result"
    }
   ],
   "source": [
    "clients['children'].value_counts()"
   ]
  },
  {
   "cell_type": "markdown",
   "metadata": {},
   "source": [
    "**Вывод**"
   ]
  },
  {
   "cell_type": "markdown",
   "metadata": {},
   "source": [
    "Столбец children содержит некорректные значения \"-1\" и \"20\". Количество и удельный вес аномальных значений в общем объеме данных невелики - 47 (0,2%) и 76 (0,4%) соответственно. Это позволяет без нарушения качества данных произвести замену на медианные значения группы."
   ]
  },
  {
   "cell_type": "markdown",
   "metadata": {},
   "source": [
    "#### Столбец days_employed"
   ]
  },
  {
   "cell_type": "markdown",
   "metadata": {},
   "source": [
    "Столбец days_employed предобработан ранее на этапе обработки пропусков."
   ]
  },
  {
   "cell_type": "markdown",
   "metadata": {},
   "source": [
    "#### Столбец age\n"
   ]
  },
  {
   "cell_type": "markdown",
   "metadata": {},
   "source": [
    "Столбец age отражает возраст заемщика и соответственной должен содержать положительные значения, больше 18."
   ]
  },
  {
   "cell_type": "code",
   "execution_count": 26,
   "metadata": {},
   "outputs": [
    {
     "data": {
      "text/plain": [
       "array([42, 36, 33, 32, 53, 27, 43, 50, 35, 41, 40, 65, 54, 56, 26, 48, 24,\n",
       "       21, 57, 67, 28, 63, 62, 47, 34, 68, 25, 31, 30, 20, 49, 37, 45, 61,\n",
       "       64, 44, 52, 46, 23, 38, 39, 51,  0, 59, 29, 60, 55, 58, 71, 22, 73,\n",
       "       66, 69, 19, 72, 70, 74, 75])"
      ]
     },
     "execution_count": 26,
     "metadata": {},
     "output_type": "execute_result"
    }
   ],
   "source": [
    "clients['age'].unique()"
   ]
  },
  {
   "cell_type": "code",
   "execution_count": 27,
   "metadata": {},
   "outputs": [
    {
     "name": "stdout",
     "output_type": "stream",
     "text": [
      "Количество значений возраста \"0\": 101\n",
      "Доля значений возраста \"0\": 0.5%\n"
     ]
    }
   ],
   "source": [
    "\n",
    "print('Количество значений возраста \"0\":', clients.loc[clients['age'] == 0, 'age'].count())\n",
    "d_age_0 = clients.loc[clients['age'] == 0, 'age'].count() / len(clients['age'])\n",
    "print('Доля значений возраста \"0\": {:.1%}'.format(d_age_0))"
   ]
  },
  {
   "cell_type": "code",
   "execution_count": 28,
   "metadata": {},
   "outputs": [
    {
     "data": {
      "text/plain": [
       "42.0"
      ]
     },
     "execution_count": 28,
     "metadata": {},
     "output_type": "execute_result"
    }
   ],
   "source": [
    "median_age = clients['age'].median()\n",
    "median_age"
   ]
  },
  {
   "cell_type": "code",
   "execution_count": 29,
   "metadata": {},
   "outputs": [
    {
     "data": {
      "text/plain": [
       "99        пенсионер\n",
       "149       сотрудник\n",
       "270       сотрудник\n",
       "578       пенсионер\n",
       "1040      компаньон\n",
       "1149      компаньон\n",
       "1175      пенсионер\n",
       "1386    госслужащий\n",
       "1890      сотрудник\n",
       "1898      пенсионер\n",
       "Name: income_type, dtype: object"
      ]
     },
     "execution_count": 29,
     "metadata": {},
     "output_type": "execute_result"
    }
   ],
   "source": [
    "age_income_type = clients.loc[clients['age'] == 0, 'income_type']\n",
    "age_income_type.head(10)"
   ]
  },
  {
   "cell_type": "markdown",
   "metadata": {},
   "source": [
    "Количество и доля некорректных значений возраста заемщика несущественны и составляют 101 и 0,5% соответственно. Медианное значение возраста составляет 42 года. Замена нулевых значений на медианные по группе в целом несправедлива, так как заведомо разновозрастные группы студент и пенсионер получат одинаковое значение.  С учетом этого заменим нулевые позиции на медианные значения возраста по группам, исходя из типа занятости."
   ]
  },
  {
   "cell_type": "code",
   "execution_count": 30,
   "metadata": {},
   "outputs": [],
   "source": [
    "for income in clients['income_type'].unique():\n",
    "    median_age = clients.loc[clients['income_type'] == income, 'age'].median()\n",
    "    #print(income, median_age)\n",
    "    clients.loc[(clients['age'] == 0) & (clients['income_type'] == income), 'age'] = median_age"
   ]
  },
  {
   "cell_type": "code",
   "execution_count": 31,
   "metadata": {},
   "outputs": [
    {
     "name": "stdout",
     "output_type": "stream",
     "text": [
      "Доля значений возраста \"0\": 0.0%\n"
     ]
    }
   ],
   "source": [
    "print('Доля значений возраста \"0\": {:.1%}'.format(clients.loc[clients['age'] == 0, 'age'].count() / len(clients['age'])))"
   ]
  },
  {
   "cell_type": "code",
   "execution_count": 32,
   "metadata": {},
   "outputs": [
    {
     "name": "stdout",
     "output_type": "stream",
     "text": [
      "Количество значений возраста \"меньше 18\": 0\n"
     ]
    }
   ],
   "source": [
    "print('Количество значений возраста \"меньше 18\":', clients.loc[clients['age'] < 18, 'age'].count())"
   ]
  },
  {
   "cell_type": "markdown",
   "metadata": {},
   "source": [
    "**Вывод**  \n",
    "Столбец age, отражающий возраст заемщика, содержит некорректные значения, равные 0. Доля таких значений в выборке несущественна (0,5%), подобные значения заменены на медианные значения возраста по группам, исходя из типа занятости.\n"
   ]
  },
  {
   "cell_type": "markdown",
   "metadata": {},
   "source": [
    "#### Столбец education"
   ]
  },
  {
   "cell_type": "markdown",
   "metadata": {},
   "source": [
    "Столбец education отражает образование заемщика. Данные должны быть написаны без орфографических ошибок, в одном регистре."
   ]
  },
  {
   "cell_type": "code",
   "execution_count": 33,
   "metadata": {},
   "outputs": [
    {
     "data": {
      "text/plain": [
       "array(['высшее', 'среднее', 'Среднее', 'СРЕДНЕЕ', 'ВЫСШЕЕ',\n",
       "       'неоконченное высшее', 'начальное', 'Высшее',\n",
       "       'НЕОКОНЧЕННОЕ ВЫСШЕЕ', 'Неоконченное высшее', 'НАЧАЛЬНОЕ',\n",
       "       'Начальное', 'Ученая степень', 'УЧЕНАЯ СТЕПЕНЬ', 'ученая степень'],\n",
       "      dtype=object)"
      ]
     },
     "execution_count": 33,
     "metadata": {},
     "output_type": "execute_result"
    }
   ],
   "source": [
    "clients['education'].unique()"
   ]
  },
  {
   "cell_type": "code",
   "execution_count": 34,
   "metadata": {},
   "outputs": [],
   "source": [
    "# Преобразование столбца к нижнему регистру\n",
    "clients['education'] = clients['education'].str.lower()"
   ]
  },
  {
   "cell_type": "code",
   "execution_count": 35,
   "metadata": {},
   "outputs": [
    {
     "name": "stdout",
     "output_type": "stream",
     "text": [
      "['высшее' 'среднее' 'неоконченное высшее' 'начальное' 'ученая степень']\n"
     ]
    }
   ],
   "source": [
    "print(clients['education'].unique())"
   ]
  },
  {
   "cell_type": "markdown",
   "metadata": {},
   "source": [
    "**Вывод**  \n",
    "Столбец education предобработан - данные записаны в одном регистре, без орфографических ошибок."
   ]
  },
  {
   "cell_type": "markdown",
   "metadata": {},
   "source": [
    "#### Столбец education_id"
   ]
  },
  {
   "cell_type": "code",
   "execution_count": 36,
   "metadata": {},
   "outputs": [
    {
     "name": "stdout",
     "output_type": "stream",
     "text": [
      "[0 1 2 3 4]\n"
     ]
    }
   ],
   "source": [
    "print(clients['education_id'].unique())"
   ]
  },
  {
   "cell_type": "markdown",
   "metadata": {},
   "source": [
    "**Вывод**  \n",
    "Столбец education_id предобработки не требует"
   ]
  },
  {
   "cell_type": "markdown",
   "metadata": {},
   "source": [
    "#### Столбец  family_status"
   ]
  },
  {
   "cell_type": "markdown",
   "metadata": {},
   "source": [
    "Столбец family_status отражает семейный статус заемщика. Данные должны быть написаны без орфографических ошибок, в одном регистре."
   ]
  },
  {
   "cell_type": "code",
   "execution_count": 37,
   "metadata": {},
   "outputs": [
    {
     "name": "stdout",
     "output_type": "stream",
     "text": [
      "['женат / замужем' 'гражданский брак' 'вдовец / вдова' 'в разводе'\n",
      " 'Не женат / не замужем']\n"
     ]
    }
   ],
   "source": [
    "print(clients['family_status'].unique())"
   ]
  },
  {
   "cell_type": "code",
   "execution_count": 38,
   "metadata": {},
   "outputs": [],
   "source": [
    "clients['family_status'] = clients['family_status'].str.lower()"
   ]
  },
  {
   "cell_type": "code",
   "execution_count": 39,
   "metadata": {},
   "outputs": [
    {
     "name": "stdout",
     "output_type": "stream",
     "text": [
      "['женат / замужем' 'гражданский брак' 'вдовец / вдова' 'в разводе'\n",
      " 'не женат / не замужем']\n"
     ]
    }
   ],
   "source": [
    "print(clients['family_status'].unique())"
   ]
  },
  {
   "cell_type": "markdown",
   "metadata": {},
   "source": [
    "**Вывод**  \n",
    "Столбец family_status предобработан - данные записаны в одном регистре, без орфографических ошибок."
   ]
  },
  {
   "cell_type": "markdown",
   "metadata": {},
   "source": [
    "#### Столбец family_status_id"
   ]
  },
  {
   "cell_type": "code",
   "execution_count": 40,
   "metadata": {},
   "outputs": [
    {
     "name": "stdout",
     "output_type": "stream",
     "text": [
      "[0 1 2 3 4]\n"
     ]
    }
   ],
   "source": [
    "print(clients['family_status_id'].unique())"
   ]
  },
  {
   "cell_type": "markdown",
   "metadata": {},
   "source": [
    "**Вывод**  \n",
    "Столбец family_status_id предобработки не требует"
   ]
  },
  {
   "cell_type": "markdown",
   "metadata": {},
   "source": [
    "#### Столбец gender"
   ]
  },
  {
   "cell_type": "markdown",
   "metadata": {},
   "source": [
    "Столбец gender отражает пол заемщика и для целей данного исследования принимает два значения - F (женщина) и M (мужчина)."
   ]
  },
  {
   "cell_type": "code",
   "execution_count": 41,
   "metadata": {},
   "outputs": [
    {
     "name": "stdout",
     "output_type": "stream",
     "text": [
      "F      14236\n",
      "M       7288\n",
      "XNA        1\n",
      "Name: gender, dtype: int64\n"
     ]
    }
   ],
   "source": [
    "print(clients['gender'].value_counts())"
   ]
  },
  {
   "cell_type": "code",
   "execution_count": 42,
   "metadata": {},
   "outputs": [
    {
     "data": {
      "text/html": [
       "<div>\n",
       "<style scoped>\n",
       "    .dataframe tbody tr th:only-of-type {\n",
       "        vertical-align: middle;\n",
       "    }\n",
       "\n",
       "    .dataframe tbody tr th {\n",
       "        vertical-align: top;\n",
       "    }\n",
       "\n",
       "    .dataframe thead th {\n",
       "        text-align: right;\n",
       "    }\n",
       "</style>\n",
       "<table border=\"1\" class=\"dataframe\">\n",
       "  <thead>\n",
       "    <tr style=\"text-align: right;\">\n",
       "      <th></th>\n",
       "      <th>children</th>\n",
       "      <th>days_employed</th>\n",
       "      <th>age</th>\n",
       "      <th>education</th>\n",
       "      <th>education_id</th>\n",
       "      <th>family_status</th>\n",
       "      <th>family_status_id</th>\n",
       "      <th>gender</th>\n",
       "      <th>income_type</th>\n",
       "      <th>debt</th>\n",
       "      <th>total_income</th>\n",
       "      <th>purpose</th>\n",
       "    </tr>\n",
       "  </thead>\n",
       "  <tbody>\n",
       "    <tr>\n",
       "      <td>10701</td>\n",
       "      <td>0.00</td>\n",
       "      <td>2358</td>\n",
       "      <td>24.00</td>\n",
       "      <td>неоконченное высшее</td>\n",
       "      <td>2</td>\n",
       "      <td>гражданский брак</td>\n",
       "      <td>1</td>\n",
       "      <td>XNA</td>\n",
       "      <td>компаньон</td>\n",
       "      <td>0</td>\n",
       "      <td>203905</td>\n",
       "      <td>покупка недвижимости</td>\n",
       "    </tr>\n",
       "  </tbody>\n",
       "</table>\n",
       "</div>"
      ],
      "text/plain": [
       "       children  days_employed   age            education  education_id  \\\n",
       "10701      0.00           2358 24.00  неоконченное высшее             2   \n",
       "\n",
       "          family_status  family_status_id gender income_type  debt  \\\n",
       "10701  гражданский брак                 1    XNA   компаньон     0   \n",
       "\n",
       "       total_income               purpose  \n",
       "10701        203905  покупка недвижимости  "
      ]
     },
     "execution_count": 42,
     "metadata": {},
     "output_type": "execute_result"
    }
   ],
   "source": [
    "clients.loc[clients['gender'] == 'XNA']"
   ]
  },
  {
   "cell_type": "markdown",
   "metadata": {},
   "source": [
    "В гендерной структуре заемщиков преобладают женщины (66%). Высока вероятность того, что заемщик с типом гендера \"XNA\" - это женщина (F). Произведем замену."
   ]
  },
  {
   "cell_type": "code",
   "execution_count": 43,
   "metadata": {},
   "outputs": [],
   "source": [
    "clients.loc[clients['gender'] == 'XNA', 'gender'] = 'F'"
   ]
  },
  {
   "cell_type": "code",
   "execution_count": 44,
   "metadata": {},
   "outputs": [
    {
     "name": "stdout",
     "output_type": "stream",
     "text": [
      "F    14237\n",
      "M     7288\n",
      "Name: gender, dtype: int64\n"
     ]
    }
   ],
   "source": [
    "print(clients['gender'].value_counts())"
   ]
  },
  {
   "cell_type": "markdown",
   "metadata": {},
   "source": [
    "**Вывод**  \n",
    "Столбец gender содержал неопределенный тип гендера \"XNA\". С учетом гендерной структуры заемщиков данное значение заменено на F (женщина)."
   ]
  },
  {
   "cell_type": "markdown",
   "metadata": {},
   "source": [
    "#### Столбец income_type"
   ]
  },
  {
   "cell_type": "markdown",
   "metadata": {},
   "source": [
    "Столбец income_type отражает тип дохода заемщика. Значения должны быть записаны в одном регистре, без орфографических ошибок."
   ]
  },
  {
   "cell_type": "code",
   "execution_count": 45,
   "metadata": {},
   "outputs": [
    {
     "data": {
      "text/plain": [
       "array(['сотрудник', 'пенсионер', 'компаньон', 'госслужащий',\n",
       "       'безработный', 'предприниматель', 'студент', 'в декрете'],\n",
       "      dtype=object)"
      ]
     },
     "execution_count": 45,
     "metadata": {},
     "output_type": "execute_result"
    }
   ],
   "source": [
    "clients['income_type'].unique()"
   ]
  },
  {
   "cell_type": "markdown",
   "metadata": {},
   "source": [
    "**Вывод**  \n",
    "Столбец income_type предобработки не требует."
   ]
  },
  {
   "cell_type": "markdown",
   "metadata": {},
   "source": [
    "#### Столбец debt"
   ]
  },
  {
   "cell_type": "markdown",
   "metadata": {},
   "source": [
    "Столбец debt отражает, имел ли заемщик задолженность по возврату кредитов. Значения 0 и 1. 0 - задолженности не было, 1 - задолженность была."
   ]
  },
  {
   "cell_type": "code",
   "execution_count": 46,
   "metadata": {},
   "outputs": [
    {
     "name": "stdout",
     "output_type": "stream",
     "text": [
      "[0 1]\n"
     ]
    }
   ],
   "source": [
    "print(clients['debt'].unique())"
   ]
  },
  {
   "cell_type": "markdown",
   "metadata": {},
   "source": [
    "**Вывод**  \n",
    "Столбец debt предобработки не требует."
   ]
  },
  {
   "cell_type": "markdown",
   "metadata": {},
   "source": [
    "#### Столбец total_income"
   ]
  },
  {
   "cell_type": "markdown",
   "metadata": {},
   "source": [
    "Столбец total_income отражает ежемесячный доход заемщика."
   ]
  },
  {
   "cell_type": "code",
   "execution_count": 47,
   "metadata": {},
   "outputs": [
    {
     "name": "stdout",
     "output_type": "stream",
     "text": [
      "Минимальный ежемесячный доход: 20667\n",
      "Максимальный ежемесячный доход: 2265604\n"
     ]
    }
   ],
   "source": [
    "print('Минимальный ежемесячный доход:', clients['total_income'].min())\n",
    "print('Максимальный ежемесячный доход:', clients['total_income'].max())"
   ]
  },
  {
   "cell_type": "markdown",
   "metadata": {},
   "source": [
    "**Вывод**  \n",
    "Столбец total_income предобработки не требует."
   ]
  },
  {
   "cell_type": "markdown",
   "metadata": {},
   "source": [
    "#### Столбец purpose"
   ]
  },
  {
   "cell_type": "markdown",
   "metadata": {},
   "source": [
    "Столбец purpose отражает цель получения кредита. Данные должны быть написаны в одном регистре."
   ]
  },
  {
   "cell_type": "code",
   "execution_count": 48,
   "metadata": {},
   "outputs": [
    {
     "data": {
      "text/plain": [
       "array(['покупка жилья', 'приобретение автомобиля',\n",
       "       'дополнительное образование', 'сыграть свадьбу',\n",
       "       'операции с жильем', 'образование', 'на проведение свадьбы',\n",
       "       'покупка жилья для семьи', 'покупка недвижимости',\n",
       "       'покупка коммерческой недвижимости', 'покупка жилой недвижимости',\n",
       "       'строительство собственной недвижимости', 'недвижимость',\n",
       "       'строительство недвижимости', 'на покупку подержанного автомобиля',\n",
       "       'на покупку своего автомобиля',\n",
       "       'операции с коммерческой недвижимостью',\n",
       "       'строительство жилой недвижимости', 'жилье',\n",
       "       'операции со своей недвижимостью', 'автомобили',\n",
       "       'заняться образованием', 'сделка с подержанным автомобилем',\n",
       "       'получение образования', 'автомобиль', 'свадьба',\n",
       "       'получение дополнительного образования', 'покупка своего жилья',\n",
       "       'операции с недвижимостью', 'получение высшего образования',\n",
       "       'свой автомобиль', 'сделка с автомобилем',\n",
       "       'профильное образование', 'высшее образование',\n",
       "       'покупка жилья для сдачи', 'на покупку автомобиля', 'ремонт жилью',\n",
       "       'заняться высшим образованием'], dtype=object)"
      ]
     },
     "execution_count": 48,
     "metadata": {},
     "output_type": "execute_result"
    }
   ],
   "source": [
    "clients['purpose'].unique()"
   ]
  },
  {
   "cell_type": "markdown",
   "metadata": {},
   "source": [
    "**Вывод**  \n",
    "Столбец purpose заполнен в едином регистре. Скорее всего цель формулировали сами заемщики, поэтому много семантически близких конструкций, но нет единообразия. Требуется дополнительный анализ и обработка."
   ]
  },
  {
   "cell_type": "markdown",
   "metadata": {},
   "source": [
    "#### Обработка дубликатов"
   ]
  },
  {
   "cell_type": "code",
   "execution_count": 49,
   "metadata": {},
   "outputs": [
    {
     "name": "stdout",
     "output_type": "stream",
     "text": [
      "71\n"
     ]
    }
   ],
   "source": [
    "print(clients.duplicated().sum()) "
   ]
  },
  {
   "cell_type": "code",
   "execution_count": 50,
   "metadata": {},
   "outputs": [
    {
     "name": "stdout",
     "output_type": "stream",
     "text": [
      "0\n"
     ]
    }
   ],
   "source": [
    "# Удаление дубликатов\n",
    "clients = clients.drop_duplicates().reset_index(drop=True)\n",
    "print(clients.duplicated().sum()) "
   ]
  },
  {
   "cell_type": "markdown",
   "metadata": {},
   "source": [
    "**Вывод**  \n",
    "На текущем этапе удалены дубликаты в исходных данных. Аномальные количественные и качественные значения обработаны в соответствии с критериями данных для каждого столбца."
   ]
  },
  {
   "cell_type": "markdown",
   "metadata": {},
   "source": [
    "### Лемматизация"
   ]
  },
  {
   "cell_type": "markdown",
   "metadata": {},
   "source": [
    "Одним из вопросов, на который мы пытаемся ответить в рамках данного исследования, *влияют ли разные цели кредита на соблюдение сроков его возврата*. На предыдущем этапе в процессе предобработки столбца *purpose* было выявлено разнообразие формулировок целей. С помощью *лемматизации* попробуем выявить основные цели кредитов и сформировать по этому признаку несколько групп.\n"
   ]
  },
  {
   "cell_type": "code",
   "execution_count": 51,
   "metadata": {},
   "outputs": [],
   "source": [
    "from pymystem3 import Mystem\n",
    "m = Mystem() "
   ]
  },
  {
   "cell_type": "code",
   "execution_count": 52,
   "metadata": {},
   "outputs": [],
   "source": [
    "# Преобразование столбца purpose в строку\n",
    "str_purpose = ' '.join(clients['purpose'])\n",
    "#str_purpose"
   ]
  },
  {
   "cell_type": "code",
   "execution_count": 53,
   "metadata": {},
   "outputs": [],
   "source": [
    "# Лемматизация purpose\n",
    "lemmas = m.lemmatize(str_purpose)\n",
    "#lemmas"
   ]
  },
  {
   "cell_type": "code",
   "execution_count": 54,
   "metadata": {},
   "outputs": [
    {
     "name": "stdout",
     "output_type": "stream",
     "text": [
      "Counter({' ': 55023, 'недвижимость': 6351, 'покупка': 5897, 'жилье': 4460, 'автомобиль': 4306, 'образование': 4013, 'с': 2918, 'операция': 2604, 'свадьба': 2324, 'свой': 2230, 'на': 2222, 'строительство': 1878, 'высокий': 1374, 'получение': 1314, 'коммерческий': 1311, 'для': 1289, 'жилой': 1230, 'сделка': 941, 'дополнительный': 906, 'заниматься': 904, 'подержать': 853, 'проведение': 768, 'сыграть': 765, 'сдача': 651, 'семья': 638, 'собственный': 635, 'со': 627, 'ремонт': 607, 'приобретение': 461, 'профильный': 436, 'подержанный': 111, '\\n': 1})\n"
     ]
    }
   ],
   "source": [
    "# Подсчет лемм\n",
    "from collections import Counter\n",
    "count_lemmas = Counter(lemmas)\n",
    "print(count_lemmas)"
   ]
  },
  {
   "cell_type": "code",
   "execution_count": 55,
   "metadata": {},
   "outputs": [],
   "source": [
    "# Преобразование результата работы Counter в датафрейм\n",
    "count_lemmas_df = pd.DataFrame.from_dict(count_lemmas, orient ='index').reset_index()\n",
    "#count_lemmas_df"
   ]
  },
  {
   "cell_type": "code",
   "execution_count": 56,
   "metadata": {
    "scrolled": true
   },
   "outputs": [
    {
     "name": "stdout",
     "output_type": "stream",
     "text": [
      "              word  repeat  d_repeat\n",
      "15    недвижимость    6351     11.54\n",
      "0          покупка    5897     10.72\n",
      "2            жилье    4460      8.11\n",
      "4       автомобиль    4306      7.83\n",
      "6      образование    4013      7.29\n",
      "10               с    2918      5.30\n",
      "9         операция    2604      4.73\n",
      "8          свадьба    2324      4.22\n",
      "21            свой    2230      4.05\n",
      "11              на    2222      4.04\n",
      "18   строительство    1878      3.41\n",
      "26         высокий    1374      2.50\n",
      "25       получение    1314      2.39\n",
      "16    коммерческий    1311      2.38\n",
      "13             для    1289      2.34\n",
      "17           жилой    1230      2.24\n",
      "24          сделка     941      1.71\n",
      "5   дополнительный     906      1.65\n",
      "23      заниматься     904      1.64\n",
      "20       подержать     853      1.55\n",
      "12      проведение     768      1.40\n",
      "7          сыграть     765      1.39\n",
      "29           сдача     651      1.18\n",
      "14           семья     638      1.16\n",
      "19     собственный     635      1.15\n",
      "22              со     627      1.14\n",
      "30          ремонт     607      1.10\n",
      "3     приобретение     461      0.84\n",
      "28      профильный     436      0.79\n",
      "27     подержанный     111      0.20\n",
      "31              \\n       1      0.00\n"
     ]
    }
   ],
   "source": [
    "# Переименование столбцов датафрейма count_lemmas_df\n",
    "count_lemmas_df = count_lemmas_df.rename(columns={'index':'word', 0:'repeat'})\n",
    "# Сортировка по частоте лемм\n",
    "count_lemmas_df = count_lemmas_df.sort_values(by = 'repeat', ascending = False)\n",
    "# Удалим значения 'пробел'\n",
    "index = count_lemmas_df[count_lemmas_df['word'] == ' '].index\n",
    "count_lemmas_df.drop(index, inplace = True)\n",
    "# Расчет доли лемм в общем количестве\n",
    "count_lemmas_df['d_repeat'] = count_lemmas_df['repeat'] / count_lemmas_df['repeat'].sum()*100\n",
    "print(count_lemmas_df)"
   ]
  },
  {
   "cell_type": "markdown",
   "metadata": {},
   "source": [
    "**Вывод**  \n",
    "Произведена лемматизация столбца *purpose*. Леммы, которые станут основой для дальнейшей категоризации:\n",
    "- недвижимость\n",
    "- покупка\n",
    "- жилье\n",
    "- автомобиль\n",
    "- образование\n",
    "- свадьба"
   ]
  },
  {
   "cell_type": "markdown",
   "metadata": {},
   "source": [
    "### Категоризация данных"
   ]
  },
  {
   "cell_type": "markdown",
   "metadata": {},
   "source": [
    "Для дальнейшего анализа данных и ответа на вопросы исследования необходимо произвести категоризацию данных по следующим признакам:\n",
    "- уровень дохода;\n",
    "- цель получения кредита."
   ]
  },
  {
   "cell_type": "markdown",
   "metadata": {},
   "source": [
    "#### Категоризация по уровню дохода"
   ]
  },
  {
   "cell_type": "markdown",
   "metadata": {},
   "source": [
    "Для категоризации по уровню дохода (столбец total_income) распределим заемщиков по следующим группам:\n",
    "- низкий доход (low_income);\n",
    "- доход ниже среднего (below_average_income);\n",
    "- средний доход (average_income);\n",
    "- доход выше среднего (above_average_income);\n",
    "- высокий доход (high_income).  \n",
    "\n",
    "Используем распределение по квинтилям - 20%-ные группы заемщиков, ранжированных по мере возрастания доходов. Данный подход является достаточно распространенным в социально-экономической статистике (используется Росстатом для анализа денежных доходов населения (https://rosstat.gov.ru/folder/13723?print=1)."
   ]
  },
  {
   "cell_type": "code",
   "execution_count": 57,
   "metadata": {},
   "outputs": [],
   "source": [
    "bin_labels_5 = ['низкий доход', 'доход ниже среднего', 'средний доход', 'доход выше среднего', 'высокий доход']\n",
    "#bin_labels_5 = ['low_income', 'below_average_income', 'average_income', 'above_average_income', 'high_income']\n",
    "clients['income_group'] = pd.qcut(clients['total_income'], q=[0, .2, .4, .6, .8, 1], labels=bin_labels_5)"
   ]
  },
  {
   "cell_type": "code",
   "execution_count": 58,
   "metadata": {
    "scrolled": true
   },
   "outputs": [
    {
     "data": {
      "text/html": [
       "<div>\n",
       "<style scoped>\n",
       "    .dataframe tbody tr th:only-of-type {\n",
       "        vertical-align: middle;\n",
       "    }\n",
       "\n",
       "    .dataframe tbody tr th {\n",
       "        vertical-align: top;\n",
       "    }\n",
       "\n",
       "    .dataframe thead th {\n",
       "        text-align: right;\n",
       "    }\n",
       "</style>\n",
       "<table border=\"1\" class=\"dataframe\">\n",
       "  <thead>\n",
       "    <tr style=\"text-align: right;\">\n",
       "      <th></th>\n",
       "      <th>children</th>\n",
       "      <th>days_employed</th>\n",
       "      <th>age</th>\n",
       "      <th>education</th>\n",
       "      <th>education_id</th>\n",
       "      <th>family_status</th>\n",
       "      <th>family_status_id</th>\n",
       "      <th>gender</th>\n",
       "      <th>income_type</th>\n",
       "      <th>debt</th>\n",
       "      <th>total_income</th>\n",
       "      <th>purpose</th>\n",
       "      <th>income_group</th>\n",
       "    </tr>\n",
       "  </thead>\n",
       "  <tbody>\n",
       "    <tr>\n",
       "      <td>0</td>\n",
       "      <td>1.00</td>\n",
       "      <td>8437</td>\n",
       "      <td>42.00</td>\n",
       "      <td>высшее</td>\n",
       "      <td>0</td>\n",
       "      <td>женат / замужем</td>\n",
       "      <td>0</td>\n",
       "      <td>F</td>\n",
       "      <td>сотрудник</td>\n",
       "      <td>0</td>\n",
       "      <td>253875</td>\n",
       "      <td>покупка жилья</td>\n",
       "      <td>высокий доход</td>\n",
       "    </tr>\n",
       "    <tr>\n",
       "      <td>1</td>\n",
       "      <td>1.00</td>\n",
       "      <td>4024</td>\n",
       "      <td>36.00</td>\n",
       "      <td>среднее</td>\n",
       "      <td>1</td>\n",
       "      <td>женат / замужем</td>\n",
       "      <td>0</td>\n",
       "      <td>F</td>\n",
       "      <td>сотрудник</td>\n",
       "      <td>0</td>\n",
       "      <td>112080</td>\n",
       "      <td>приобретение автомобиля</td>\n",
       "      <td>доход ниже среднего</td>\n",
       "    </tr>\n",
       "    <tr>\n",
       "      <td>2</td>\n",
       "      <td>0.00</td>\n",
       "      <td>5623</td>\n",
       "      <td>33.00</td>\n",
       "      <td>среднее</td>\n",
       "      <td>1</td>\n",
       "      <td>женат / замужем</td>\n",
       "      <td>0</td>\n",
       "      <td>M</td>\n",
       "      <td>сотрудник</td>\n",
       "      <td>0</td>\n",
       "      <td>145885</td>\n",
       "      <td>покупка жилья</td>\n",
       "      <td>средний доход</td>\n",
       "    </tr>\n",
       "    <tr>\n",
       "      <td>3</td>\n",
       "      <td>3.00</td>\n",
       "      <td>4124</td>\n",
       "      <td>32.00</td>\n",
       "      <td>среднее</td>\n",
       "      <td>1</td>\n",
       "      <td>женат / замужем</td>\n",
       "      <td>0</td>\n",
       "      <td>M</td>\n",
       "      <td>сотрудник</td>\n",
       "      <td>0</td>\n",
       "      <td>267628</td>\n",
       "      <td>дополнительное образование</td>\n",
       "      <td>высокий доход</td>\n",
       "    </tr>\n",
       "    <tr>\n",
       "      <td>4</td>\n",
       "      <td>0.00</td>\n",
       "      <td>14177</td>\n",
       "      <td>53.00</td>\n",
       "      <td>среднее</td>\n",
       "      <td>1</td>\n",
       "      <td>гражданский брак</td>\n",
       "      <td>1</td>\n",
       "      <td>F</td>\n",
       "      <td>пенсионер</td>\n",
       "      <td>0</td>\n",
       "      <td>158616</td>\n",
       "      <td>сыграть свадьбу</td>\n",
       "      <td>средний доход</td>\n",
       "    </tr>\n",
       "    <tr>\n",
       "      <td>5</td>\n",
       "      <td>0.00</td>\n",
       "      <td>926</td>\n",
       "      <td>27.00</td>\n",
       "      <td>высшее</td>\n",
       "      <td>0</td>\n",
       "      <td>гражданский брак</td>\n",
       "      <td>1</td>\n",
       "      <td>M</td>\n",
       "      <td>компаньон</td>\n",
       "      <td>0</td>\n",
       "      <td>255763</td>\n",
       "      <td>покупка жилья</td>\n",
       "      <td>высокий доход</td>\n",
       "    </tr>\n",
       "    <tr>\n",
       "      <td>6</td>\n",
       "      <td>0.00</td>\n",
       "      <td>2879</td>\n",
       "      <td>43.00</td>\n",
       "      <td>высшее</td>\n",
       "      <td>0</td>\n",
       "      <td>женат / замужем</td>\n",
       "      <td>0</td>\n",
       "      <td>F</td>\n",
       "      <td>компаньон</td>\n",
       "      <td>0</td>\n",
       "      <td>240525</td>\n",
       "      <td>операции с жильем</td>\n",
       "      <td>высокий доход</td>\n",
       "    </tr>\n",
       "    <tr>\n",
       "      <td>7</td>\n",
       "      <td>0.00</td>\n",
       "      <td>152</td>\n",
       "      <td>50.00</td>\n",
       "      <td>среднее</td>\n",
       "      <td>1</td>\n",
       "      <td>женат / замужем</td>\n",
       "      <td>0</td>\n",
       "      <td>M</td>\n",
       "      <td>сотрудник</td>\n",
       "      <td>0</td>\n",
       "      <td>135823</td>\n",
       "      <td>образование</td>\n",
       "      <td>средний доход</td>\n",
       "    </tr>\n",
       "    <tr>\n",
       "      <td>8</td>\n",
       "      <td>2.00</td>\n",
       "      <td>6929</td>\n",
       "      <td>35.00</td>\n",
       "      <td>высшее</td>\n",
       "      <td>0</td>\n",
       "      <td>гражданский брак</td>\n",
       "      <td>1</td>\n",
       "      <td>F</td>\n",
       "      <td>сотрудник</td>\n",
       "      <td>0</td>\n",
       "      <td>95856</td>\n",
       "      <td>на проведение свадьбы</td>\n",
       "      <td>низкий доход</td>\n",
       "    </tr>\n",
       "    <tr>\n",
       "      <td>9</td>\n",
       "      <td>0.00</td>\n",
       "      <td>2188</td>\n",
       "      <td>41.00</td>\n",
       "      <td>среднее</td>\n",
       "      <td>1</td>\n",
       "      <td>женат / замужем</td>\n",
       "      <td>0</td>\n",
       "      <td>M</td>\n",
       "      <td>сотрудник</td>\n",
       "      <td>0</td>\n",
       "      <td>144425</td>\n",
       "      <td>покупка жилья для семьи</td>\n",
       "      <td>средний доход</td>\n",
       "    </tr>\n",
       "  </tbody>\n",
       "</table>\n",
       "</div>"
      ],
      "text/plain": [
       "   children  days_employed   age education  education_id     family_status  \\\n",
       "0      1.00           8437 42.00    высшее             0   женат / замужем   \n",
       "1      1.00           4024 36.00   среднее             1   женат / замужем   \n",
       "2      0.00           5623 33.00   среднее             1   женат / замужем   \n",
       "3      3.00           4124 32.00   среднее             1   женат / замужем   \n",
       "4      0.00          14177 53.00   среднее             1  гражданский брак   \n",
       "5      0.00            926 27.00    высшее             0  гражданский брак   \n",
       "6      0.00           2879 43.00    высшее             0   женат / замужем   \n",
       "7      0.00            152 50.00   среднее             1   женат / замужем   \n",
       "8      2.00           6929 35.00    высшее             0  гражданский брак   \n",
       "9      0.00           2188 41.00   среднее             1   женат / замужем   \n",
       "\n",
       "   family_status_id gender income_type  debt  total_income  \\\n",
       "0                 0      F   сотрудник     0        253875   \n",
       "1                 0      F   сотрудник     0        112080   \n",
       "2                 0      M   сотрудник     0        145885   \n",
       "3                 0      M   сотрудник     0        267628   \n",
       "4                 1      F   пенсионер     0        158616   \n",
       "5                 1      M   компаньон     0        255763   \n",
       "6                 0      F   компаньон     0        240525   \n",
       "7                 0      M   сотрудник     0        135823   \n",
       "8                 1      F   сотрудник     0         95856   \n",
       "9                 0      M   сотрудник     0        144425   \n",
       "\n",
       "                      purpose         income_group  \n",
       "0               покупка жилья        высокий доход  \n",
       "1     приобретение автомобиля  доход ниже среднего  \n",
       "2               покупка жилья        средний доход  \n",
       "3  дополнительное образование        высокий доход  \n",
       "4             сыграть свадьбу        средний доход  \n",
       "5               покупка жилья        высокий доход  \n",
       "6           операции с жильем        высокий доход  \n",
       "7                 образование        средний доход  \n",
       "8       на проведение свадьбы         низкий доход  \n",
       "9     покупка жилья для семьи        средний доход  "
      ]
     },
     "execution_count": 58,
     "metadata": {},
     "output_type": "execute_result"
    }
   ],
   "source": [
    "clients.head(10)"
   ]
  },
  {
   "cell_type": "code",
   "execution_count": 59,
   "metadata": {
    "scrolled": true
   },
   "outputs": [
    {
     "data": {
      "text/plain": [
       "высокий доход          4291\n",
       "доход выше среднего    4291\n",
       "доход ниже среднего    4291\n",
       "низкий доход           4291\n",
       "средний доход          4290\n",
       "Name: income_group, dtype: int64"
      ]
     },
     "execution_count": 59,
     "metadata": {},
     "output_type": "execute_result"
    }
   ],
   "source": [
    "#Проверка распределения\n",
    "clients['income_group'].value_counts()"
   ]
  },
  {
   "cell_type": "code",
   "execution_count": 60,
   "metadata": {},
   "outputs": [],
   "source": [
    "#results, bin_edges = pd.qcut(clients['income_group'], q=[0, .2, .4, .6, .8, 1], labels=bin_labels_5, retbins=True)\n",
    "#results_table = pd.DataFrame(zip(bin_edges, bin_labels_5), columns=['Threshold', 'Tier'])"
   ]
  },
  {
   "cell_type": "markdown",
   "metadata": {},
   "source": [
    "**Вывод**  \n",
    "Заемщики разделены на 5 групп в соответствии с уровнем дохода:\n",
    "- низкий доход (low_income);\n",
    "- доход ниже среднего (below_average_income);\n",
    "- средний доход (average_income);\n",
    "- доход выше среднего (above_average_income);\n",
    "- высокий доход (high_income).  \n",
    " \n",
    " Распределение произведено по квинтилям - 20%-ные группы заемщиков, ранжированных по мере возрастания доходов."
   ]
  },
  {
   "cell_type": "markdown",
   "metadata": {},
   "source": [
    "#### Категоризация по целям кредита"
   ]
  },
  {
   "cell_type": "markdown",
   "metadata": {},
   "source": [
    "Для категоризации целей распределим заемщиков по следующим группам:\n",
    "- жилая недвижимость;\n",
    "- коммерческая недвижимость;\n",
    "- автомобиль;\n",
    "- образование;\n",
    "- свадьба;\n",
    "- прочие.  \n",
    "\n",
    "Распределение опирается на результаты *лемматизации столбца purpose* и учитывает следующие допущения:\n",
    "- если в целях кредита не обозначен тип недвижимости, то относим такую цель к категории \"жилая недвижимость\";\n",
    "- категория \"жилая недвижимость\" содержит все заявленные типы операций с ней (строительство, приобретение, ремонт)."
   ]
  },
  {
   "cell_type": "code",
   "execution_count": 61,
   "metadata": {},
   "outputs": [],
   "source": [
    "def purpose_cat(row):\n",
    "    '''\n",
    "    Функция распределения заемщиков по целям\n",
    "    '''\n",
    "    purpose = row['purpose']\n",
    "    lemmas = m.lemmatize(purpose)\n",
    "    \n",
    "    if 'автомобиль' in lemmas:\n",
    "        return 'автомобиль'\n",
    "    if 'свадьба' in lemmas:\n",
    "        return 'свадьба'\n",
    "    if 'образование' in lemmas:\n",
    "        return 'образование'\n",
    "    if 'недвижимость' in lemmas and 'коммерческий' in lemmas:\n",
    "        return 'коммерческая недвижимость'\n",
    "    if 'жилье' in lemmas or 'жилой' in lemmas:\n",
    "        return 'жилая недвижимость'\n",
    "    if 'недвижимость' in lemmas and not 'коммерческий' in lemmas:\n",
    "        return 'жилая недвижимость'\n",
    "    return 'прочие'"
   ]
  },
  {
   "cell_type": "code",
   "execution_count": 62,
   "metadata": {},
   "outputs": [
    {
     "data": {
      "text/html": [
       "<div>\n",
       "<style scoped>\n",
       "    .dataframe tbody tr th:only-of-type {\n",
       "        vertical-align: middle;\n",
       "    }\n",
       "\n",
       "    .dataframe tbody tr th {\n",
       "        vertical-align: top;\n",
       "    }\n",
       "\n",
       "    .dataframe thead th {\n",
       "        text-align: right;\n",
       "    }\n",
       "</style>\n",
       "<table border=\"1\" class=\"dataframe\">\n",
       "  <thead>\n",
       "    <tr style=\"text-align: right;\">\n",
       "      <th></th>\n",
       "      <th>children</th>\n",
       "      <th>days_employed</th>\n",
       "      <th>age</th>\n",
       "      <th>education</th>\n",
       "      <th>education_id</th>\n",
       "      <th>family_status</th>\n",
       "      <th>family_status_id</th>\n",
       "      <th>gender</th>\n",
       "      <th>income_type</th>\n",
       "      <th>debt</th>\n",
       "      <th>total_income</th>\n",
       "      <th>purpose</th>\n",
       "      <th>income_group</th>\n",
       "      <th>purpose_group</th>\n",
       "    </tr>\n",
       "  </thead>\n",
       "  <tbody>\n",
       "    <tr>\n",
       "      <td>0</td>\n",
       "      <td>1.00</td>\n",
       "      <td>8437</td>\n",
       "      <td>42.00</td>\n",
       "      <td>высшее</td>\n",
       "      <td>0</td>\n",
       "      <td>женат / замужем</td>\n",
       "      <td>0</td>\n",
       "      <td>F</td>\n",
       "      <td>сотрудник</td>\n",
       "      <td>0</td>\n",
       "      <td>253875</td>\n",
       "      <td>покупка жилья</td>\n",
       "      <td>высокий доход</td>\n",
       "      <td>жилая недвижимость</td>\n",
       "    </tr>\n",
       "    <tr>\n",
       "      <td>1</td>\n",
       "      <td>1.00</td>\n",
       "      <td>4024</td>\n",
       "      <td>36.00</td>\n",
       "      <td>среднее</td>\n",
       "      <td>1</td>\n",
       "      <td>женат / замужем</td>\n",
       "      <td>0</td>\n",
       "      <td>F</td>\n",
       "      <td>сотрудник</td>\n",
       "      <td>0</td>\n",
       "      <td>112080</td>\n",
       "      <td>приобретение автомобиля</td>\n",
       "      <td>доход ниже среднего</td>\n",
       "      <td>автомобиль</td>\n",
       "    </tr>\n",
       "    <tr>\n",
       "      <td>2</td>\n",
       "      <td>0.00</td>\n",
       "      <td>5623</td>\n",
       "      <td>33.00</td>\n",
       "      <td>среднее</td>\n",
       "      <td>1</td>\n",
       "      <td>женат / замужем</td>\n",
       "      <td>0</td>\n",
       "      <td>M</td>\n",
       "      <td>сотрудник</td>\n",
       "      <td>0</td>\n",
       "      <td>145885</td>\n",
       "      <td>покупка жилья</td>\n",
       "      <td>средний доход</td>\n",
       "      <td>жилая недвижимость</td>\n",
       "    </tr>\n",
       "    <tr>\n",
       "      <td>3</td>\n",
       "      <td>3.00</td>\n",
       "      <td>4124</td>\n",
       "      <td>32.00</td>\n",
       "      <td>среднее</td>\n",
       "      <td>1</td>\n",
       "      <td>женат / замужем</td>\n",
       "      <td>0</td>\n",
       "      <td>M</td>\n",
       "      <td>сотрудник</td>\n",
       "      <td>0</td>\n",
       "      <td>267628</td>\n",
       "      <td>дополнительное образование</td>\n",
       "      <td>высокий доход</td>\n",
       "      <td>образование</td>\n",
       "    </tr>\n",
       "    <tr>\n",
       "      <td>4</td>\n",
       "      <td>0.00</td>\n",
       "      <td>14177</td>\n",
       "      <td>53.00</td>\n",
       "      <td>среднее</td>\n",
       "      <td>1</td>\n",
       "      <td>гражданский брак</td>\n",
       "      <td>1</td>\n",
       "      <td>F</td>\n",
       "      <td>пенсионер</td>\n",
       "      <td>0</td>\n",
       "      <td>158616</td>\n",
       "      <td>сыграть свадьбу</td>\n",
       "      <td>средний доход</td>\n",
       "      <td>свадьба</td>\n",
       "    </tr>\n",
       "    <tr>\n",
       "      <td>5</td>\n",
       "      <td>0.00</td>\n",
       "      <td>926</td>\n",
       "      <td>27.00</td>\n",
       "      <td>высшее</td>\n",
       "      <td>0</td>\n",
       "      <td>гражданский брак</td>\n",
       "      <td>1</td>\n",
       "      <td>M</td>\n",
       "      <td>компаньон</td>\n",
       "      <td>0</td>\n",
       "      <td>255763</td>\n",
       "      <td>покупка жилья</td>\n",
       "      <td>высокий доход</td>\n",
       "      <td>жилая недвижимость</td>\n",
       "    </tr>\n",
       "    <tr>\n",
       "      <td>6</td>\n",
       "      <td>0.00</td>\n",
       "      <td>2879</td>\n",
       "      <td>43.00</td>\n",
       "      <td>высшее</td>\n",
       "      <td>0</td>\n",
       "      <td>женат / замужем</td>\n",
       "      <td>0</td>\n",
       "      <td>F</td>\n",
       "      <td>компаньон</td>\n",
       "      <td>0</td>\n",
       "      <td>240525</td>\n",
       "      <td>операции с жильем</td>\n",
       "      <td>высокий доход</td>\n",
       "      <td>жилая недвижимость</td>\n",
       "    </tr>\n",
       "    <tr>\n",
       "      <td>7</td>\n",
       "      <td>0.00</td>\n",
       "      <td>152</td>\n",
       "      <td>50.00</td>\n",
       "      <td>среднее</td>\n",
       "      <td>1</td>\n",
       "      <td>женат / замужем</td>\n",
       "      <td>0</td>\n",
       "      <td>M</td>\n",
       "      <td>сотрудник</td>\n",
       "      <td>0</td>\n",
       "      <td>135823</td>\n",
       "      <td>образование</td>\n",
       "      <td>средний доход</td>\n",
       "      <td>образование</td>\n",
       "    </tr>\n",
       "    <tr>\n",
       "      <td>8</td>\n",
       "      <td>2.00</td>\n",
       "      <td>6929</td>\n",
       "      <td>35.00</td>\n",
       "      <td>высшее</td>\n",
       "      <td>0</td>\n",
       "      <td>гражданский брак</td>\n",
       "      <td>1</td>\n",
       "      <td>F</td>\n",
       "      <td>сотрудник</td>\n",
       "      <td>0</td>\n",
       "      <td>95856</td>\n",
       "      <td>на проведение свадьбы</td>\n",
       "      <td>низкий доход</td>\n",
       "      <td>свадьба</td>\n",
       "    </tr>\n",
       "    <tr>\n",
       "      <td>9</td>\n",
       "      <td>0.00</td>\n",
       "      <td>2188</td>\n",
       "      <td>41.00</td>\n",
       "      <td>среднее</td>\n",
       "      <td>1</td>\n",
       "      <td>женат / замужем</td>\n",
       "      <td>0</td>\n",
       "      <td>M</td>\n",
       "      <td>сотрудник</td>\n",
       "      <td>0</td>\n",
       "      <td>144425</td>\n",
       "      <td>покупка жилья для семьи</td>\n",
       "      <td>средний доход</td>\n",
       "      <td>жилая недвижимость</td>\n",
       "    </tr>\n",
       "  </tbody>\n",
       "</table>\n",
       "</div>"
      ],
      "text/plain": [
       "   children  days_employed   age education  education_id     family_status  \\\n",
       "0      1.00           8437 42.00    высшее             0   женат / замужем   \n",
       "1      1.00           4024 36.00   среднее             1   женат / замужем   \n",
       "2      0.00           5623 33.00   среднее             1   женат / замужем   \n",
       "3      3.00           4124 32.00   среднее             1   женат / замужем   \n",
       "4      0.00          14177 53.00   среднее             1  гражданский брак   \n",
       "5      0.00            926 27.00    высшее             0  гражданский брак   \n",
       "6      0.00           2879 43.00    высшее             0   женат / замужем   \n",
       "7      0.00            152 50.00   среднее             1   женат / замужем   \n",
       "8      2.00           6929 35.00    высшее             0  гражданский брак   \n",
       "9      0.00           2188 41.00   среднее             1   женат / замужем   \n",
       "\n",
       "   family_status_id gender income_type  debt  total_income  \\\n",
       "0                 0      F   сотрудник     0        253875   \n",
       "1                 0      F   сотрудник     0        112080   \n",
       "2                 0      M   сотрудник     0        145885   \n",
       "3                 0      M   сотрудник     0        267628   \n",
       "4                 1      F   пенсионер     0        158616   \n",
       "5                 1      M   компаньон     0        255763   \n",
       "6                 0      F   компаньон     0        240525   \n",
       "7                 0      M   сотрудник     0        135823   \n",
       "8                 1      F   сотрудник     0         95856   \n",
       "9                 0      M   сотрудник     0        144425   \n",
       "\n",
       "                      purpose         income_group       purpose_group  \n",
       "0               покупка жилья        высокий доход  жилая недвижимость  \n",
       "1     приобретение автомобиля  доход ниже среднего          автомобиль  \n",
       "2               покупка жилья        средний доход  жилая недвижимость  \n",
       "3  дополнительное образование        высокий доход         образование  \n",
       "4             сыграть свадьбу        средний доход             свадьба  \n",
       "5               покупка жилья        высокий доход  жилая недвижимость  \n",
       "6           операции с жильем        высокий доход  жилая недвижимость  \n",
       "7                 образование        средний доход         образование  \n",
       "8       на проведение свадьбы         низкий доход             свадьба  \n",
       "9     покупка жилья для семьи        средний доход  жилая недвижимость  "
      ]
     },
     "execution_count": 62,
     "metadata": {},
     "output_type": "execute_result"
    }
   ],
   "source": [
    "# Создание столбца purpose_group c категориями доходов\n",
    "clients['purpose_group'] = clients.apply(purpose_cat, axis = 1)\n",
    "clients. head(10)"
   ]
  },
  {
   "cell_type": "markdown",
   "metadata": {},
   "source": [
    "**Вывод**  \n",
    "Произведена категоризация целей кредита (столбец *purpose*), опираясь на результаты лемматизации. Выделено 5 основных категорий (жилая недвижимость; коммерческая недвижимость; автомобиль; образование; свадьба), оставшиеся цели объединены в категорию \"прочие\". "
   ]
  },
  {
   "cell_type": "markdown",
   "metadata": {},
   "source": [
    "## Шаг 3. Ответьте на вопросы"
   ]
  },
  {
   "cell_type": "markdown",
   "metadata": {},
   "source": [
    "- Есть ли зависимость между наличием детей и возвратом кредита в срок?"
   ]
  },
  {
   "cell_type": "code",
   "execution_count": 63,
   "metadata": {},
   "outputs": [],
   "source": [
    "children_pivot = clients.pivot_table(index = 'children', values = 'debt',  aggfunc = ['sum','count'])\n",
    "children_pivot.columns = ['Количество невозвратов' , 'Количество заемщиков']\n"
   ]
  },
  {
   "cell_type": "code",
   "execution_count": 64,
   "metadata": {},
   "outputs": [
    {
     "data": {
      "text/html": [
       "<style  type=\"text/css\" >\n",
       "</style><table id=\"T_7f412f86_e10b_11eb_9932_02420a396d76\" ><thead>    <tr>        <th class=\"blank level0\" ></th>        <th class=\"col_heading level0 col0\" >Количество невозвратов</th>        <th class=\"col_heading level0 col1\" >Количество заемщиков</th>        <th class=\"col_heading level0 col2\" >% невозврата</th>    </tr>    <tr>        <th class=\"index_name level0\" >children</th>        <th class=\"blank\" ></th>        <th class=\"blank\" ></th>        <th class=\"blank\" ></th>    </tr></thead><tbody>\n",
       "                <tr>\n",
       "                        <th id=\"T_7f412f86_e10b_11eb_9932_02420a396d76level0_row0\" class=\"row_heading level0 row0\" >4.0</th>\n",
       "                        <td id=\"T_7f412f86_e10b_11eb_9932_02420a396d76row0_col0\" class=\"data row0 col0\" >4</td>\n",
       "                        <td id=\"T_7f412f86_e10b_11eb_9932_02420a396d76row0_col1\" class=\"data row0 col1\" >41</td>\n",
       "                        <td id=\"T_7f412f86_e10b_11eb_9932_02420a396d76row0_col2\" class=\"data row0 col2\" >9.76%</td>\n",
       "            </tr>\n",
       "            <tr>\n",
       "                        <th id=\"T_7f412f86_e10b_11eb_9932_02420a396d76level0_row1\" class=\"row_heading level0 row1\" >2.0</th>\n",
       "                        <td id=\"T_7f412f86_e10b_11eb_9932_02420a396d76row1_col0\" class=\"data row1 col0\" >194</td>\n",
       "                        <td id=\"T_7f412f86_e10b_11eb_9932_02420a396d76row1_col1\" class=\"data row1 col1\" >2052</td>\n",
       "                        <td id=\"T_7f412f86_e10b_11eb_9932_02420a396d76row1_col2\" class=\"data row1 col2\" >9.45%</td>\n",
       "            </tr>\n",
       "            <tr>\n",
       "                        <th id=\"T_7f412f86_e10b_11eb_9932_02420a396d76level0_row2\" class=\"row_heading level0 row2\" >1.0</th>\n",
       "                        <td id=\"T_7f412f86_e10b_11eb_9932_02420a396d76row2_col0\" class=\"data row2 col0\" >444</td>\n",
       "                        <td id=\"T_7f412f86_e10b_11eb_9932_02420a396d76row2_col1\" class=\"data row2 col1\" >4808</td>\n",
       "                        <td id=\"T_7f412f86_e10b_11eb_9932_02420a396d76row2_col2\" class=\"data row2 col2\" >9.23%</td>\n",
       "            </tr>\n",
       "            <tr>\n",
       "                        <th id=\"T_7f412f86_e10b_11eb_9932_02420a396d76level0_row3\" class=\"row_heading level0 row3\" >3.0</th>\n",
       "                        <td id=\"T_7f412f86_e10b_11eb_9932_02420a396d76row3_col0\" class=\"data row3 col0\" >27</td>\n",
       "                        <td id=\"T_7f412f86_e10b_11eb_9932_02420a396d76row3_col1\" class=\"data row3 col1\" >330</td>\n",
       "                        <td id=\"T_7f412f86_e10b_11eb_9932_02420a396d76row3_col2\" class=\"data row3 col2\" >8.18%</td>\n",
       "            </tr>\n",
       "            <tr>\n",
       "                        <th id=\"T_7f412f86_e10b_11eb_9932_02420a396d76level0_row4\" class=\"row_heading level0 row4\" >0.0</th>\n",
       "                        <td id=\"T_7f412f86_e10b_11eb_9932_02420a396d76row4_col0\" class=\"data row4 col0\" >1072</td>\n",
       "                        <td id=\"T_7f412f86_e10b_11eb_9932_02420a396d76row4_col1\" class=\"data row4 col1\" >14214</td>\n",
       "                        <td id=\"T_7f412f86_e10b_11eb_9932_02420a396d76row4_col2\" class=\"data row4 col2\" >7.54%</td>\n",
       "            </tr>\n",
       "            <tr>\n",
       "                        <th id=\"T_7f412f86_e10b_11eb_9932_02420a396d76level0_row5\" class=\"row_heading level0 row5\" >5.0</th>\n",
       "                        <td id=\"T_7f412f86_e10b_11eb_9932_02420a396d76row5_col0\" class=\"data row5 col0\" >0</td>\n",
       "                        <td id=\"T_7f412f86_e10b_11eb_9932_02420a396d76row5_col1\" class=\"data row5 col1\" >9</td>\n",
       "                        <td id=\"T_7f412f86_e10b_11eb_9932_02420a396d76row5_col2\" class=\"data row5 col2\" >0.00%</td>\n",
       "            </tr>\n",
       "    </tbody></table>"
      ],
      "text/plain": [
       "<pandas.io.formats.style.Styler at 0x7f103754b4d0>"
      ]
     },
     "execution_count": 64,
     "metadata": {},
     "output_type": "execute_result"
    }
   ],
   "source": [
    "children_pivot['% невозврата'] = children_pivot['Количество невозвратов'] /children_pivot['Количество заемщиков']\n",
    "children_pivot = children_pivot.sort_values(by = '% невозврата', ascending = False)\n",
    "children_pivot.style.format({'% невозврата':'{:.2%}'})"
   ]
  },
  {
   "cell_type": "markdown",
   "metadata": {},
   "source": [
    "**Вывод**  \n",
    "Рассчитана доля нарушений срока возврата кредитов (столбец \"% невозврата\") для заемщиков, сгруппированных по количеству детей.\n",
    "Данный показатель варьируется по группам незначительно от 7,5% до 9,8% (на 2,3%%). Самый низкий процент невозвратов в группе заемщиков без детей - 7,5%.\n",
    "Заемщики с 5 детьми в предоставленных данных всегда возвращали кредит в срок. Однако ввиду незначительного количества данного типа заемщиков в общей структуре - 0,04% - эта ситуация не показательна.  \n",
    "Вышесказанное дает нам основания считать, что **факт наличия детей у заемщика, а также их количество практически не влияют на платежную дисциплину**.  \n"
   ]
  },
  {
   "cell_type": "markdown",
   "metadata": {},
   "source": [
    "- Есть ли зависимость между семейным положением и возвратом кредита в срок?"
   ]
  },
  {
   "cell_type": "code",
   "execution_count": 65,
   "metadata": {},
   "outputs": [],
   "source": [
    "family_status_pivot = clients.pivot_table(index = 'family_status', values = 'debt',  aggfunc = ['sum','count'])\n",
    "family_status_pivot.columns = ['Количество невозвратов' , 'Количество заемщиков']\n"
   ]
  },
  {
   "cell_type": "code",
   "execution_count": 66,
   "metadata": {},
   "outputs": [
    {
     "data": {
      "text/html": [
       "<style  type=\"text/css\" >\n",
       "</style><table id=\"T_7f4a44b8_e10b_11eb_9932_02420a396d76\" ><thead>    <tr>        <th class=\"blank level0\" ></th>        <th class=\"col_heading level0 col0\" >Количество невозвратов</th>        <th class=\"col_heading level0 col1\" >Количество заемщиков</th>        <th class=\"col_heading level0 col2\" >% невозврата</th>    </tr>    <tr>        <th class=\"index_name level0\" >family_status</th>        <th class=\"blank\" ></th>        <th class=\"blank\" ></th>        <th class=\"blank\" ></th>    </tr></thead><tbody>\n",
       "                <tr>\n",
       "                        <th id=\"T_7f4a44b8_e10b_11eb_9932_02420a396d76level0_row0\" class=\"row_heading level0 row0\" >не женат / не замужем</th>\n",
       "                        <td id=\"T_7f4a44b8_e10b_11eb_9932_02420a396d76row0_col0\" class=\"data row0 col0\" >274</td>\n",
       "                        <td id=\"T_7f4a44b8_e10b_11eb_9932_02420a396d76row0_col1\" class=\"data row0 col1\" >2810</td>\n",
       "                        <td id=\"T_7f4a44b8_e10b_11eb_9932_02420a396d76row0_col2\" class=\"data row0 col2\" >9.75%</td>\n",
       "            </tr>\n",
       "            <tr>\n",
       "                        <th id=\"T_7f4a44b8_e10b_11eb_9932_02420a396d76level0_row1\" class=\"row_heading level0 row1\" >гражданский брак</th>\n",
       "                        <td id=\"T_7f4a44b8_e10b_11eb_9932_02420a396d76row1_col0\" class=\"data row1 col0\" >388</td>\n",
       "                        <td id=\"T_7f4a44b8_e10b_11eb_9932_02420a396d76row1_col1\" class=\"data row1 col1\" >4151</td>\n",
       "                        <td id=\"T_7f4a44b8_e10b_11eb_9932_02420a396d76row1_col2\" class=\"data row1 col2\" >9.35%</td>\n",
       "            </tr>\n",
       "            <tr>\n",
       "                        <th id=\"T_7f4a44b8_e10b_11eb_9932_02420a396d76level0_row2\" class=\"row_heading level0 row2\" >женат / замужем</th>\n",
       "                        <td id=\"T_7f4a44b8_e10b_11eb_9932_02420a396d76row2_col0\" class=\"data row2 col0\" >931</td>\n",
       "                        <td id=\"T_7f4a44b8_e10b_11eb_9932_02420a396d76row2_col1\" class=\"data row2 col1\" >12339</td>\n",
       "                        <td id=\"T_7f4a44b8_e10b_11eb_9932_02420a396d76row2_col2\" class=\"data row2 col2\" >7.55%</td>\n",
       "            </tr>\n",
       "            <tr>\n",
       "                        <th id=\"T_7f4a44b8_e10b_11eb_9932_02420a396d76level0_row3\" class=\"row_heading level0 row3\" >в разводе</th>\n",
       "                        <td id=\"T_7f4a44b8_e10b_11eb_9932_02420a396d76row3_col0\" class=\"data row3 col0\" >85</td>\n",
       "                        <td id=\"T_7f4a44b8_e10b_11eb_9932_02420a396d76row3_col1\" class=\"data row3 col1\" >1195</td>\n",
       "                        <td id=\"T_7f4a44b8_e10b_11eb_9932_02420a396d76row3_col2\" class=\"data row3 col2\" >7.11%</td>\n",
       "            </tr>\n",
       "            <tr>\n",
       "                        <th id=\"T_7f4a44b8_e10b_11eb_9932_02420a396d76level0_row4\" class=\"row_heading level0 row4\" >вдовец / вдова</th>\n",
       "                        <td id=\"T_7f4a44b8_e10b_11eb_9932_02420a396d76row4_col0\" class=\"data row4 col0\" >63</td>\n",
       "                        <td id=\"T_7f4a44b8_e10b_11eb_9932_02420a396d76row4_col1\" class=\"data row4 col1\" >959</td>\n",
       "                        <td id=\"T_7f4a44b8_e10b_11eb_9932_02420a396d76row4_col2\" class=\"data row4 col2\" >6.57%</td>\n",
       "            </tr>\n",
       "    </tbody></table>"
      ],
      "text/plain": [
       "<pandas.io.formats.style.Styler at 0x7f1036e74e90>"
      ]
     },
     "execution_count": 66,
     "metadata": {},
     "output_type": "execute_result"
    }
   ],
   "source": [
    "family_status_pivot['% невозврата'] = family_status_pivot['Количество невозвратов'] /family_status_pivot['Количество заемщиков']\n",
    "family_status_pivot = family_status_pivot.sort_values(by = '% невозврата', ascending = False)\n",
    "family_status_pivot.style.format({'% невозврата':'{:.2%}'})"
   ]
  },
  {
   "cell_type": "markdown",
   "metadata": {},
   "source": [
    "**Вывод**"
   ]
  },
  {
   "cell_type": "markdown",
   "metadata": {},
   "source": [
    "Рассчитана доля нарушений срока возврата кредита (столбец \"% невозврата\") для заемщиков с разным семейным статусом.\n",
    "Данный показатель варьируется по группам незначительно от 6,6% до 9,8% (на 3,2%%). Самый низкий процент невозврата в группе \"вдовец/вдова\" - 6,6%. Самый высокий показатель по нарушениям в группе \"не женат / не замужем\".  \n",
    "Вышесказанное дает нам основания считать, что **семейный статус оказывает слабое влияние на платежную дисциплину**."
   ]
  },
  {
   "cell_type": "markdown",
   "metadata": {},
   "source": [
    "- Есть ли зависимость между уровнем дохода и возвратом кредита в срок"
   ]
  },
  {
   "cell_type": "code",
   "execution_count": 67,
   "metadata": {},
   "outputs": [],
   "source": [
    "income_group_pivot = clients.pivot_table(index = 'income_group', values = 'debt',  aggfunc = ['sum','count'])\n",
    "income_group_pivot.columns = ['Количество невозвратов' , 'Количество заемщиков']\n"
   ]
  },
  {
   "cell_type": "code",
   "execution_count": 68,
   "metadata": {},
   "outputs": [
    {
     "data": {
      "text/html": [
       "<style  type=\"text/css\" >\n",
       "</style><table id=\"T_7f56922c_e10b_11eb_9932_02420a396d76\" ><thead>    <tr>        <th class=\"blank level0\" ></th>        <th class=\"col_heading level0 col0\" >Количество невозвратов</th>        <th class=\"col_heading level0 col1\" >Количество заемщиков</th>        <th class=\"col_heading level0 col2\" >% невозврата</th>    </tr>    <tr>        <th class=\"index_name level0\" >income_group</th>        <th class=\"blank\" ></th>        <th class=\"blank\" ></th>        <th class=\"blank\" ></th>    </tr></thead><tbody>\n",
       "                <tr>\n",
       "                        <th id=\"T_7f56922c_e10b_11eb_9932_02420a396d76level0_row0\" class=\"row_heading level0 row0\" >средний доход</th>\n",
       "                        <td id=\"T_7f56922c_e10b_11eb_9932_02420a396d76row0_col0\" class=\"data row0 col0\" >375</td>\n",
       "                        <td id=\"T_7f56922c_e10b_11eb_9932_02420a396d76row0_col1\" class=\"data row0 col1\" >4290</td>\n",
       "                        <td id=\"T_7f56922c_e10b_11eb_9932_02420a396d76row0_col2\" class=\"data row0 col2\" >8.74%</td>\n",
       "            </tr>\n",
       "            <tr>\n",
       "                        <th id=\"T_7f56922c_e10b_11eb_9932_02420a396d76level0_row1\" class=\"row_heading level0 row1\" >доход ниже среднего</th>\n",
       "                        <td id=\"T_7f56922c_e10b_11eb_9932_02420a396d76row1_col0\" class=\"data row1 col0\" >361</td>\n",
       "                        <td id=\"T_7f56922c_e10b_11eb_9932_02420a396d76row1_col1\" class=\"data row1 col1\" >4291</td>\n",
       "                        <td id=\"T_7f56922c_e10b_11eb_9932_02420a396d76row1_col2\" class=\"data row1 col2\" >8.41%</td>\n",
       "            </tr>\n",
       "            <tr>\n",
       "                        <th id=\"T_7f56922c_e10b_11eb_9932_02420a396d76level0_row2\" class=\"row_heading level0 row2\" >доход выше среднего</th>\n",
       "                        <td id=\"T_7f56922c_e10b_11eb_9932_02420a396d76row2_col0\" class=\"data row2 col0\" >361</td>\n",
       "                        <td id=\"T_7f56922c_e10b_11eb_9932_02420a396d76row2_col1\" class=\"data row2 col1\" >4291</td>\n",
       "                        <td id=\"T_7f56922c_e10b_11eb_9932_02420a396d76row2_col2\" class=\"data row2 col2\" >8.41%</td>\n",
       "            </tr>\n",
       "            <tr>\n",
       "                        <th id=\"T_7f56922c_e10b_11eb_9932_02420a396d76level0_row3\" class=\"row_heading level0 row3\" >низкий доход</th>\n",
       "                        <td id=\"T_7f56922c_e10b_11eb_9932_02420a396d76row3_col0\" class=\"data row3 col0\" >344</td>\n",
       "                        <td id=\"T_7f56922c_e10b_11eb_9932_02420a396d76row3_col1\" class=\"data row3 col1\" >4291</td>\n",
       "                        <td id=\"T_7f56922c_e10b_11eb_9932_02420a396d76row3_col2\" class=\"data row3 col2\" >8.02%</td>\n",
       "            </tr>\n",
       "            <tr>\n",
       "                        <th id=\"T_7f56922c_e10b_11eb_9932_02420a396d76level0_row4\" class=\"row_heading level0 row4\" >высокий доход</th>\n",
       "                        <td id=\"T_7f56922c_e10b_11eb_9932_02420a396d76row4_col0\" class=\"data row4 col0\" >300</td>\n",
       "                        <td id=\"T_7f56922c_e10b_11eb_9932_02420a396d76row4_col1\" class=\"data row4 col1\" >4291</td>\n",
       "                        <td id=\"T_7f56922c_e10b_11eb_9932_02420a396d76row4_col2\" class=\"data row4 col2\" >6.99%</td>\n",
       "            </tr>\n",
       "    </tbody></table>"
      ],
      "text/plain": [
       "<pandas.io.formats.style.Styler at 0x7f10331aac10>"
      ]
     },
     "execution_count": 68,
     "metadata": {},
     "output_type": "execute_result"
    }
   ],
   "source": [
    "income_group_pivot['% невозврата'] = income_group_pivot['Количество невозвратов'] /income_group_pivot['Количество заемщиков']\n",
    "income_group_pivot = income_group_pivot.sort_values(by = '% невозврата', ascending = False)\n",
    "income_group_pivot.style.format({'% невозврата':'{:.2%}'})\n"
   ]
  },
  {
   "cell_type": "markdown",
   "metadata": {},
   "source": [
    "**Вывод**"
   ]
  },
  {
   "cell_type": "markdown",
   "metadata": {},
   "source": [
    "Рассчитана доля нарушений срока возврата кредитов для каждой из групп заемщиков по уровню дохода.  \n",
    "Данный показатель варьируется по группам незначительно от 7,0% до 8,7% (на 0,9%%). Самый низкий процент неплатежей в группе заемщиков с высоким доходом - 7,0 %.   \n",
    "Вышесказанное дает нам основания считать, что **уровень дохода практически не оказывает влияния на платежную дисциплину**."
   ]
  },
  {
   "cell_type": "markdown",
   "metadata": {},
   "source": [
    "- Как разные цели кредита влияют на его возврат в срок?"
   ]
  },
  {
   "cell_type": "code",
   "execution_count": 69,
   "metadata": {},
   "outputs": [],
   "source": [
    "purpose_group_pivot = clients.pivot_table(index = 'purpose_group', values = 'debt',  aggfunc = ['sum','count'])\n",
    "purpose_group_pivot.columns = ['Количество невозвратов' , 'Количество заемщиков']"
   ]
  },
  {
   "cell_type": "code",
   "execution_count": 70,
   "metadata": {},
   "outputs": [
    {
     "data": {
      "text/html": [
       "<style  type=\"text/css\" >\n",
       "</style><table id=\"T_7f5f165e_e10b_11eb_9932_02420a396d76\" ><thead>    <tr>        <th class=\"blank level0\" ></th>        <th class=\"col_heading level0 col0\" >Количество невозвратов</th>        <th class=\"col_heading level0 col1\" >Количество заемщиков</th>        <th class=\"col_heading level0 col2\" >% невозврата</th>    </tr>    <tr>        <th class=\"index_name level0\" >purpose_group</th>        <th class=\"blank\" ></th>        <th class=\"blank\" ></th>        <th class=\"blank\" ></th>    </tr></thead><tbody>\n",
       "                <tr>\n",
       "                        <th id=\"T_7f5f165e_e10b_11eb_9932_02420a396d76level0_row0\" class=\"row_heading level0 row0\" >автомобиль</th>\n",
       "                        <td id=\"T_7f5f165e_e10b_11eb_9932_02420a396d76row0_col0\" class=\"data row0 col0\" >403</td>\n",
       "                        <td id=\"T_7f5f165e_e10b_11eb_9932_02420a396d76row0_col1\" class=\"data row0 col1\" >4306</td>\n",
       "                        <td id=\"T_7f5f165e_e10b_11eb_9932_02420a396d76row0_col2\" class=\"data row0 col2\" >9.36%</td>\n",
       "            </tr>\n",
       "            <tr>\n",
       "                        <th id=\"T_7f5f165e_e10b_11eb_9932_02420a396d76level0_row1\" class=\"row_heading level0 row1\" >образование</th>\n",
       "                        <td id=\"T_7f5f165e_e10b_11eb_9932_02420a396d76row1_col0\" class=\"data row1 col0\" >370</td>\n",
       "                        <td id=\"T_7f5f165e_e10b_11eb_9932_02420a396d76row1_col1\" class=\"data row1 col1\" >4013</td>\n",
       "                        <td id=\"T_7f5f165e_e10b_11eb_9932_02420a396d76row1_col2\" class=\"data row1 col2\" >9.22%</td>\n",
       "            </tr>\n",
       "            <tr>\n",
       "                        <th id=\"T_7f5f165e_e10b_11eb_9932_02420a396d76level0_row2\" class=\"row_heading level0 row2\" >свадьба</th>\n",
       "                        <td id=\"T_7f5f165e_e10b_11eb_9932_02420a396d76row2_col0\" class=\"data row2 col0\" >186</td>\n",
       "                        <td id=\"T_7f5f165e_e10b_11eb_9932_02420a396d76row2_col1\" class=\"data row2 col1\" >2324</td>\n",
       "                        <td id=\"T_7f5f165e_e10b_11eb_9932_02420a396d76row2_col2\" class=\"data row2 col2\" >8.00%</td>\n",
       "            </tr>\n",
       "            <tr>\n",
       "                        <th id=\"T_7f5f165e_e10b_11eb_9932_02420a396d76level0_row3\" class=\"row_heading level0 row3\" >коммерческая недвижимость</th>\n",
       "                        <td id=\"T_7f5f165e_e10b_11eb_9932_02420a396d76row3_col0\" class=\"data row3 col0\" >99</td>\n",
       "                        <td id=\"T_7f5f165e_e10b_11eb_9932_02420a396d76row3_col1\" class=\"data row3 col1\" >1311</td>\n",
       "                        <td id=\"T_7f5f165e_e10b_11eb_9932_02420a396d76row3_col2\" class=\"data row3 col2\" >7.55%</td>\n",
       "            </tr>\n",
       "            <tr>\n",
       "                        <th id=\"T_7f5f165e_e10b_11eb_9932_02420a396d76level0_row4\" class=\"row_heading level0 row4\" >жилая недвижимость</th>\n",
       "                        <td id=\"T_7f5f165e_e10b_11eb_9932_02420a396d76row4_col0\" class=\"data row4 col0\" >683</td>\n",
       "                        <td id=\"T_7f5f165e_e10b_11eb_9932_02420a396d76row4_col1\" class=\"data row4 col1\" >9500</td>\n",
       "                        <td id=\"T_7f5f165e_e10b_11eb_9932_02420a396d76row4_col2\" class=\"data row4 col2\" >7.19%</td>\n",
       "            </tr>\n",
       "    </tbody></table>"
      ],
      "text/plain": [
       "<pandas.io.formats.style.Styler at 0x7f103754bbd0>"
      ]
     },
     "execution_count": 70,
     "metadata": {},
     "output_type": "execute_result"
    }
   ],
   "source": [
    "purpose_group_pivot['% невозврата'] = purpose_group_pivot['Количество невозвратов'] /purpose_group_pivot['Количество заемщиков']\n",
    "purpose_group_pivot = purpose_group_pivot.sort_values(by = '% невозврата', ascending = False)\n",
    "purpose_group_pivot.style.format({'% невозврата':'{:.2%}'})"
   ]
  },
  {
   "cell_type": "markdown",
   "metadata": {},
   "source": [
    "**Вывод**"
   ]
  },
  {
   "cell_type": "markdown",
   "metadata": {},
   "source": [
    "Рассчитана доля нарушений срока возврата кредитов по группам заемщиков в зависимости от цели кредита.\n",
    "Данный показатель варьируется по группам незначительно от 7,2% до 9,4% (на 2,2%%).  \n",
    "Целевые кредиты (автокредит и образовательный) возвращают чуть хуже остальных (9,4% т 9,2% соответственно).\n",
    "Вышесказанное дает нам основания считать, что **цель кредита оказывает слабое влияние на платежную дисциплину**."
   ]
  },
  {
   "cell_type": "markdown",
   "metadata": {},
   "source": [
    "## Шаг 4. Общий вывод"
   ]
  },
  {
   "cell_type": "markdown",
   "metadata": {},
   "source": [
    "Проведено исследование надежности заемщиков. Проанализировано влияние различных факторов на соблюдение условий кредитного договора в части возврата сумм кредита:\n",
    "- количество детей;\n",
    "- семейный статус;\n",
    "- уровень дохода;\n",
    "- цель кредита.  \n",
    "\n",
    "Исследование включает в себя ряд этапов:\n",
    "1. Общее изучение входных данных от банка.\n",
    "2. Подготовка данных.\n",
    "3. Обработка дубликатов.\n",
    "4. Лемматизация.\n",
    "5. Категоризация.\n",
    "6. Результаты исследования (ответы на вопросы).\n",
    "7. Общий вывод.  \n",
    "\n",
    "### 1 этап. Общее изучение входных данных от банка. \n",
    "\n",
    "На первом этапе выявлены общие характеристики данных, предоставленных банком:\n",
    "- большая таблица (12 колонок, 21 525 строк);\n",
    "- наименования столбцов отражают, что есть все параметры, необходимые для дальнейших расчетов;\n",
    "- исходные данные требуют предобработки (работы с пропусками, замена типа данных, исправления аномальных значений).\n",
    "\n",
    "### 2 этап. Подготовка данных.\n",
    "\n",
    "*2.1. Переименование столбцов.*  \n",
    "Для улучшения восприятия заголовков таблицы переименован столбец \"dob_years\" на \"age\".\n",
    "\n",
    "*2.2. Обработка пропусков.*  \n",
    "В столбцах \"days_employed\" и \"total_income\" обнаружены пропуски. Количество пропусков существенно - 10,1%. Исключение пропусков может привести к искажению информации и последующих выводов.\n",
    "Пропуски в столбцах \"days_employed\" и \"total_income\" заполнены *медианными значениями,* определенными в группах клиентов по типу дохода (столбец \"income_type\").\n",
    "\n",
    "Для столбца *days_employed*, содержащего информацию о трудовом стаже заемщика, до заполнения пропусков проведено преобразование отрицательных значений и аномально высоких показателей.\n",
    "*Отрицательные значения* устранены посредством приведения столбца к абсолютным значениям.  \n",
    "*Аномально высокие значения* - скорее всего показатели трудового стажа в часах. Наличие в столбце days_employed показателей в разных единицах измерения - дни и часы - вероятнее всего связано с использованием выгрузок из разных учетных систем.\n",
    "Для корректировки значений трудового стажа в часах применена следующая логика. Принимаем максимальный нормальный трудовой стаж размером 47 лет (для мужчин, работавших от 18 до 65 лет) или 17166 дней. Все значения, превышающие этот порог, переведены в дни путем деления на 24. \n",
    "\n",
    "\n",
    "\n",
    "\n",
    "*2.3. Замена типа данных.*  \n",
    "Произведена замена типа данных в столбцах \"days_employed\" и \"total_income\" с float64 на int64, что улучшает восприятие в процессе анализа данных.\n"
   ]
  },
  {
   "cell_type": "markdown",
   "metadata": {},
   "source": [
    "### 3 этап. Обработка дубликатов.\n",
    "\n",
    "На 3-м этапе проанализированы данные в каждом столбце исходной таблицы на предмет наличия дубликатов, аномальных значений. Произведены следующие преобразования.  \n",
    "\n",
    "*Столбец children.*  \n",
    "Столбец children содержит информацию о количестве детей заемщика. Значения должны быть не отрицательными, целыми, находиться в диапазоне [1:10].  \n",
    "Произведена замена некорректных значений \"-1\" и \"20\" на медианные значения группы.  \n",
    "\n",
    "*Столбец days_employed.*  \n",
    "Предобработка проведена на этапе заполнения пропусков.\n",
    "\n",
    "*Столбец age.*  \n",
    "Столбец age, отражающий возраст заемщика, содержит некорректные значения, равные 0. Доля таких значений в выборке несущественна (0,5%), подобные значения заменены на медианные значения данной группы.  \n",
    "\n",
    "*Столбец education.*  \n",
    "Столбец education, отражающий образование заемщика, предобработан - данные записаны в одном регистре, без орфографических ошибок.  \n",
    "\n",
    "*Столбец education_id.*  \n",
    "Столбец education_id содержит идентификатор уровня образования, предобработки не требует.\n",
    "\n",
    "*Столбец family_status.*  \n",
    "Столбец family_status отражает семейный статус заемщика, предобработан - данные записаны в одном регистре, без орфографических ошибок.\n",
    "\n",
    "*Столбец family_status_id.*  \n",
    "Столбец family_status_id содержит идентификатор семейного положения и предобработки не требует\n",
    "\n",
    "*Столбец income_type.*  \n",
    "Столбец income_type отражает тип дохода заемщика,предобработки не требует.\n",
    "\n",
    "*Столбец debt.*  \n",
    "Столбец debt отражает, имел ли заемщик задолженность по возврату кредитов, предобработки не требует.\n",
    "\n",
    "*Столбец total_income.*  \n",
    "Столбец total_income отражает ежемесячный доход заемщика, предобработки не требует.\n",
    "\n",
    "*Столбец purpose.*  \n",
    "Столбец purpose отражает цель получения кредита, предобработки не требует."
   ]
  },
  {
   "cell_type": "markdown",
   "metadata": {},
   "source": [
    "### 4 этап. Лемматизация.\n",
    "\n",
    "На данном этапе проведена лемматизация *столбца purpose*. Выявлены леммы, которые лягут в основу категоризации целей кредита.\n",
    "- недвижимость,\n",
    "- покупка,\n",
    "- жилье,\n",
    "- автомобиль,\n",
    "- образование,\n",
    "- свадьба."
   ]
  },
  {
   "cell_type": "markdown",
   "metadata": {},
   "source": [
    "###  5 этап. Категоризация данных.\n",
    "\n",
    "На данном этапе произведена категоризация заемщиков по следующим признакам:  \n",
    "- уровень дохода (столбец total_income);\n",
    "- цель получения кредита (столбец purpose).\n",
    "\n",
    "При категоризации заемщиков по *уровню дохода (столбец total_income)* используется распределение по квинтилям - 20%-ные группы заемщиков, ранжированных по мере возрастания доходов. Данный подход  взят как наиболее универсальный в социально-экономической статистике.  \n",
    "В результате заемщики разделены на *5 групп* в соответствии с уровнем дохода:\n",
    "- низкий доход (low_income);\n",
    "- доход ниже среднего (below_average_income);\n",
    "- средний доход (average_income);\n",
    "- доход выше среднего (above_average_income);\n",
    "- высокий доход (high_income).  \n",
    " \n",
    " \n",
    "При категоризации заемщиков *по целям кредита* используются результаты лемматизации столбца purpose. В результате заемщики распределены по следующим целевым группам:  \n",
    "- жилая недвижимость;\n",
    "- коммерческая недвижимость;\n",
    "- автомобиль;\n",
    "- образование;\n",
    "- свадьба;\n",
    "- прочие.\n"
   ]
  },
  {
   "cell_type": "markdown",
   "metadata": {},
   "source": [
    "### 6 этап. Результаты исследования.\n",
    "\n",
    "Для исследования влияния (зависимости) разных характеристик заемщика (наличие детей, семейное положение , уровень дохода, цель кредита) на факт погашения кредита в срок применяется следующий подход:  \n",
    "- заемщики распределены по группам в рамках каждого исследуемого признака (наличие детей, семейное положение , уровень дохода, цель кредита);\n",
    "- для каждой группы произведен  расчет % невозврата кредита;\n",
    "- произведено межгрупоовое сравнение показателя;\n",
    "- при наличиии существенной вариативности показателя признается влияние признака на факт погашения кредита в срок.\n",
    "\n",
    "Уровень существенности в рамках данного исследования принимается равным 5%.\n",
    "\n",
    "\n",
    "- Есть ли зависимость между наличием детей и возвратом кредита в срок?  \n",
    "\n",
    "Вариативность % невозврата между группами заемщиков с разным количеством детей - 2,3%%. \n",
    "Факт наличия детей у заемщика, а также их количество практически не влияют на платежную дисциплину.\n",
    "\n",
    "- Есть ли зависимость между семейным положением и возвратом кредита в срок?  \n",
    "\n",
    "Вариативность % невозврата между группами заемщиков с разным семейным статусом - 3,2%%. \n",
    "Семейный статус оказывает слабое влияние на платежную дисциплину.\n",
    "\n",
    "- Есть ли зависимость между уровнем дохода и возвратом кредита в срок?  \n",
    "\n",
    "Вариативность % невозврата между группами заемщиков с разным уровнем дохода - 0,9%%. \n",
    "Уровень дохода практически не оказывает влияния на платежную дисциплину.\n",
    "\n",
    "- Как разные цели кредита влияют на его возврат в срок?  \n",
    "\n",
    "Вариативность % невозврата между группами заемщиков с разными целями кредита - 2,2%%. \n",
    "Цель кредита оказывает слабое влияние на платежную дисциплину."
   ]
  },
  {
   "cell_type": "markdown",
   "metadata": {},
   "source": [
    "### 7 этап. Общий вывод.\n",
    "\n",
    "Проведенный анализ наглядно показывает отсутствие существенного влияния количеcтва детей, семейного положения, уровня дохода и целей кредита на факт погашения кредита в срок."
   ]
  }
 ],
 "metadata": {
  "ExecuteTimeLog": [
   {
    "duration": 990,
    "start_time": "2021-07-03T23:27:31.117Z"
   },
   {
    "duration": 83,
    "start_time": "2021-07-03T23:27:32.110Z"
   },
   {
    "duration": 22,
    "start_time": "2021-07-03T23:27:32.196Z"
   },
   {
    "duration": 60,
    "start_time": "2021-07-03T23:27:32.221Z"
   },
   {
    "duration": 4,
    "start_time": "2021-07-03T23:31:24.406Z"
   },
   {
    "duration": 59,
    "start_time": "2021-07-03T23:31:25.246Z"
   },
   {
    "duration": 15,
    "start_time": "2021-07-03T23:31:26.007Z"
   },
   {
    "duration": 19,
    "start_time": "2021-07-03T23:31:27.127Z"
   },
   {
    "duration": 724,
    "start_time": "2021-07-03T23:35:22.698Z"
   },
   {
    "duration": 66,
    "start_time": "2021-07-03T23:35:23.425Z"
   },
   {
    "duration": 15,
    "start_time": "2021-07-03T23:35:23.494Z"
   },
   {
    "duration": 28,
    "start_time": "2021-07-03T23:35:23.511Z"
   },
   {
    "duration": 775,
    "start_time": "2021-07-03T23:42:10.661Z"
   },
   {
    "duration": 70,
    "start_time": "2021-07-03T23:42:11.439Z"
   },
   {
    "duration": 15,
    "start_time": "2021-07-03T23:42:11.511Z"
   },
   {
    "duration": 50,
    "start_time": "2021-07-03T23:42:11.528Z"
   },
   {
    "duration": 758,
    "start_time": "2021-07-03T23:47:46.167Z"
   },
   {
    "duration": 63,
    "start_time": "2021-07-03T23:47:46.927Z"
   },
   {
    "duration": 15,
    "start_time": "2021-07-03T23:47:46.993Z"
   },
   {
    "duration": 29,
    "start_time": "2021-07-03T23:47:47.010Z"
   },
   {
    "duration": 81,
    "start_time": "2021-07-04T08:46:35.853Z"
   },
   {
    "duration": 564,
    "start_time": "2021-07-04T08:48:47.617Z"
   },
   {
    "duration": 46,
    "start_time": "2021-07-04T08:48:48.183Z"
   },
   {
    "duration": 10,
    "start_time": "2021-07-04T08:48:48.230Z"
   },
   {
    "duration": 18,
    "start_time": "2021-07-04T08:48:48.242Z"
   },
   {
    "duration": 4,
    "start_time": "2021-07-04T08:49:29.237Z"
   },
   {
    "duration": 29,
    "start_time": "2021-07-04T08:55:35.156Z"
   },
   {
    "duration": 278,
    "start_time": "2021-07-04T08:57:06.846Z"
   },
   {
    "duration": 350,
    "start_time": "2021-07-04T16:25:21.357Z"
   },
   {
    "duration": 414,
    "start_time": "2021-07-04T16:25:35.431Z"
   },
   {
    "duration": 285,
    "start_time": "2021-07-04T16:25:37.230Z"
   },
   {
    "duration": 748,
    "start_time": "2021-07-04T16:25:44.270Z"
   },
   {
    "duration": 65,
    "start_time": "2021-07-04T16:25:45.021Z"
   },
   {
    "duration": 16,
    "start_time": "2021-07-04T16:25:46.740Z"
   },
   {
    "duration": 29,
    "start_time": "2021-07-04T16:25:50.518Z"
   },
   {
    "duration": 48,
    "start_time": "2021-07-04T16:25:52.121Z"
   },
   {
    "duration": 7,
    "start_time": "2021-07-04T16:25:56.420Z"
   },
   {
    "duration": 304,
    "start_time": "2021-07-04T16:27:25.117Z"
   },
   {
    "duration": 5,
    "start_time": "2021-07-04T16:27:40.434Z"
   },
   {
    "duration": 5,
    "start_time": "2021-07-04T16:28:05.369Z"
   },
   {
    "duration": 671,
    "start_time": "2021-07-04T16:35:23.183Z"
   },
   {
    "duration": 1365,
    "start_time": "2021-07-04T16:35:41.960Z"
   },
   {
    "duration": 8,
    "start_time": "2021-07-04T16:35:50.531Z"
   },
   {
    "duration": 6,
    "start_time": "2021-07-04T16:36:11.460Z"
   },
   {
    "duration": 20,
    "start_time": "2021-07-04T16:36:37.371Z"
   },
   {
    "duration": 8,
    "start_time": "2021-07-04T16:55:22.310Z"
   },
   {
    "duration": 10,
    "start_time": "2021-07-04T16:55:34.541Z"
   },
   {
    "duration": 298,
    "start_time": "2021-07-04T16:55:45.529Z"
   },
   {
    "duration": 10,
    "start_time": "2021-07-04T16:56:06.170Z"
   },
   {
    "duration": 10,
    "start_time": "2021-07-04T16:56:13.699Z"
   },
   {
    "duration": 9,
    "start_time": "2021-07-04T20:39:41.101Z"
   },
   {
    "duration": 10,
    "start_time": "2021-07-04T20:40:19.311Z"
   },
   {
    "duration": 17,
    "start_time": "2021-07-04T20:40:39.791Z"
   },
   {
    "duration": 14,
    "start_time": "2021-07-04T20:43:38.681Z"
   },
   {
    "duration": 11,
    "start_time": "2021-07-04T20:47:29.011Z"
   },
   {
    "duration": 15,
    "start_time": "2021-07-04T20:48:06.530Z"
   },
   {
    "duration": 31,
    "start_time": "2021-07-04T20:48:40.354Z"
   },
   {
    "duration": 13,
    "start_time": "2021-07-04T20:48:49.383Z"
   },
   {
    "duration": 947,
    "start_time": "2021-07-04T20:50:29.187Z"
   },
   {
    "duration": 90,
    "start_time": "2021-07-04T20:50:30.137Z"
   },
   {
    "duration": 18,
    "start_time": "2021-07-04T20:50:30.230Z"
   },
   {
    "duration": 62,
    "start_time": "2021-07-04T20:50:30.253Z"
   },
   {
    "duration": 97,
    "start_time": "2021-07-04T20:50:30.319Z"
   },
   {
    "duration": 6,
    "start_time": "2021-07-04T20:50:30.419Z"
   },
   {
    "duration": 16,
    "start_time": "2021-07-04T20:50:30.428Z"
   },
   {
    "duration": 19,
    "start_time": "2021-07-04T20:50:30.447Z"
   },
   {
    "duration": 26,
    "start_time": "2021-07-04T20:50:30.469Z"
   },
   {
    "duration": 16,
    "start_time": "2021-07-04T20:50:30.499Z"
   },
   {
    "duration": 19,
    "start_time": "2021-07-04T20:50:30.518Z"
   },
   {
    "duration": 10,
    "start_time": "2021-07-04T21:58:39.737Z"
   },
   {
    "duration": 13,
    "start_time": "2021-07-04T22:01:11.347Z"
   },
   {
    "duration": 17,
    "start_time": "2021-07-04T22:14:08.776Z"
   },
   {
    "duration": 13,
    "start_time": "2021-07-04T22:14:29.656Z"
   },
   {
    "duration": 24,
    "start_time": "2021-07-04T22:14:39.976Z"
   },
   {
    "duration": 510,
    "start_time": "2021-07-04T22:15:51.926Z"
   },
   {
    "duration": 305,
    "start_time": "2021-07-04T22:16:04.395Z"
   },
   {
    "duration": 92,
    "start_time": "2021-07-04T22:16:07.466Z"
   },
   {
    "duration": 306,
    "start_time": "2021-07-04T22:16:15.434Z"
   },
   {
    "duration": 304,
    "start_time": "2021-07-04T22:16:52.262Z"
   },
   {
    "duration": 737,
    "start_time": "2021-07-04T22:19:28.899Z"
   },
   {
    "duration": 70,
    "start_time": "2021-07-04T22:19:29.640Z"
   },
   {
    "duration": 15,
    "start_time": "2021-07-04T22:19:29.713Z"
   },
   {
    "duration": 29,
    "start_time": "2021-07-04T22:19:29.731Z"
   },
   {
    "duration": 49,
    "start_time": "2021-07-04T22:19:29.785Z"
   },
   {
    "duration": 4,
    "start_time": "2021-07-04T22:19:29.837Z"
   },
   {
    "duration": 11,
    "start_time": "2021-07-04T22:19:29.843Z"
   },
   {
    "duration": 12,
    "start_time": "2021-07-04T22:19:29.886Z"
   },
   {
    "duration": 11,
    "start_time": "2021-07-04T22:19:29.901Z"
   },
   {
    "duration": 484,
    "start_time": "2021-07-04T22:19:29.914Z"
   },
   {
    "duration": 1140,
    "start_time": "2021-07-04T22:19:29.261Z"
   },
   {
    "duration": 1125,
    "start_time": "2021-07-04T22:19:29.278Z"
   },
   {
    "duration": 1114,
    "start_time": "2021-07-04T22:19:29.291Z"
   },
   {
    "duration": 295,
    "start_time": "2021-07-04T22:19:55.189Z"
   },
   {
    "duration": 27,
    "start_time": "2021-07-04T22:20:19.019Z"
   },
   {
    "duration": 19,
    "start_time": "2021-07-04T22:20:35.549Z"
   },
   {
    "duration": 309,
    "start_time": "2021-07-04T22:25:11.050Z"
   },
   {
    "duration": 1054,
    "start_time": "2021-07-04T22:25:55.534Z"
   },
   {
    "duration": 95,
    "start_time": "2021-07-04T22:25:56.592Z"
   },
   {
    "duration": 24,
    "start_time": "2021-07-04T22:25:56.692Z"
   },
   {
    "duration": 66,
    "start_time": "2021-07-04T22:25:56.720Z"
   },
   {
    "duration": 75,
    "start_time": "2021-07-04T22:25:56.789Z"
   },
   {
    "duration": 22,
    "start_time": "2021-07-04T22:25:56.868Z"
   },
   {
    "duration": 9,
    "start_time": "2021-07-04T22:25:56.892Z"
   },
   {
    "duration": 20,
    "start_time": "2021-07-04T22:25:56.905Z"
   },
   {
    "duration": 9,
    "start_time": "2021-07-04T22:25:56.928Z"
   },
   {
    "duration": 423,
    "start_time": "2021-07-04T22:25:56.940Z"
   },
   {
    "duration": 1177,
    "start_time": "2021-07-04T22:25:56.188Z"
   },
   {
    "duration": 1177,
    "start_time": "2021-07-04T22:25:56.190Z"
   },
   {
    "duration": 7,
    "start_time": "2021-07-04T22:27:03.644Z"
   },
   {
    "duration": 325,
    "start_time": "2021-07-04T22:27:23.502Z"
   },
   {
    "duration": 853,
    "start_time": "2021-07-04T22:27:45.853Z"
   },
   {
    "duration": 97,
    "start_time": "2021-07-04T22:27:46.710Z"
   },
   {
    "duration": 25,
    "start_time": "2021-07-04T22:27:46.811Z"
   },
   {
    "duration": 62,
    "start_time": "2021-07-04T22:27:46.840Z"
   },
   {
    "duration": 50,
    "start_time": "2021-07-04T22:27:46.906Z"
   },
   {
    "duration": 188,
    "start_time": "2021-07-04T22:27:46.960Z"
   },
   {
    "duration": 26,
    "start_time": "2021-07-04T22:27:47.151Z"
   },
   {
    "duration": 42,
    "start_time": "2021-07-04T22:27:47.182Z"
   },
   {
    "duration": 10,
    "start_time": "2021-07-04T22:27:47.227Z"
   },
   {
    "duration": 10,
    "start_time": "2021-07-04T22:27:47.240Z"
   },
   {
    "duration": 405,
    "start_time": "2021-07-04T22:27:47.253Z"
   },
   {
    "duration": 1125,
    "start_time": "2021-07-04T22:27:46.536Z"
   },
   {
    "duration": 1122,
    "start_time": "2021-07-04T22:27:46.541Z"
   },
   {
    "duration": 102,
    "start_time": "2021-07-04T22:33:39.621Z"
   },
   {
    "duration": 60,
    "start_time": "2021-07-04T22:34:53.681Z"
   },
   {
    "duration": 18,
    "start_time": "2021-07-04T22:37:18.341Z"
   },
   {
    "duration": 181,
    "start_time": "2021-07-04T22:37:24.581Z"
   },
   {
    "duration": 17,
    "start_time": "2021-07-04T22:37:25.471Z"
   },
   {
    "duration": 144,
    "start_time": "2021-07-04T22:41:16.341Z"
   },
   {
    "duration": 1161,
    "start_time": "2021-07-04T22:42:53.861Z"
   },
   {
    "duration": 21,
    "start_time": "2021-07-04T22:42:55.991Z"
   },
   {
    "duration": 109,
    "start_time": "2021-07-04T22:43:54.441Z"
   },
   {
    "duration": 109,
    "start_time": "2021-07-04T22:44:57.681Z"
   },
   {
    "duration": 13,
    "start_time": "2021-07-04T22:44:59.381Z"
   },
   {
    "duration": 327,
    "start_time": "2021-07-04T22:46:49.801Z"
   },
   {
    "duration": 123,
    "start_time": "2021-07-04T22:47:00.811Z"
   },
   {
    "duration": 20,
    "start_time": "2021-07-04T22:47:05.692Z"
   },
   {
    "duration": 110,
    "start_time": "2021-07-04T22:49:09.841Z"
   },
   {
    "duration": 19,
    "start_time": "2021-07-04T22:49:10.241Z"
   },
   {
    "duration": 310,
    "start_time": "2021-07-04T22:49:44.702Z"
   },
   {
    "duration": 123,
    "start_time": "2021-07-04T22:49:56.201Z"
   },
   {
    "duration": 65,
    "start_time": "2021-07-04T22:51:49.310Z"
   },
   {
    "duration": 63,
    "start_time": "2021-07-04T22:54:45.581Z"
   },
   {
    "duration": 61,
    "start_time": "2021-07-04T22:59:33.541Z"
   },
   {
    "duration": 14,
    "start_time": "2021-07-04T22:59:35.877Z"
   },
   {
    "duration": 100,
    "start_time": "2021-07-04T22:59:42.301Z"
   },
   {
    "duration": 60,
    "start_time": "2021-07-04T22:59:54.503Z"
   },
   {
    "duration": 14,
    "start_time": "2021-07-04T22:59:55.281Z"
   },
   {
    "duration": 991,
    "start_time": "2021-07-04T23:03:33.465Z"
   },
   {
    "duration": 93,
    "start_time": "2021-07-04T23:03:34.459Z"
   },
   {
    "duration": 34,
    "start_time": "2021-07-04T23:03:34.556Z"
   },
   {
    "duration": 28,
    "start_time": "2021-07-04T23:03:34.593Z"
   },
   {
    "duration": 70,
    "start_time": "2021-07-04T23:03:34.624Z"
   },
   {
    "duration": 4,
    "start_time": "2021-07-04T23:03:34.697Z"
   },
   {
    "duration": 7,
    "start_time": "2021-07-04T23:03:34.704Z"
   },
   {
    "duration": 12,
    "start_time": "2021-07-04T23:03:34.715Z"
   },
   {
    "duration": 9,
    "start_time": "2021-07-04T23:03:34.730Z"
   },
   {
    "duration": 59,
    "start_time": "2021-07-04T23:03:34.785Z"
   },
   {
    "duration": 78,
    "start_time": "2021-07-04T23:03:34.846Z"
   },
   {
    "duration": 12,
    "start_time": "2021-07-04T23:03:34.926Z"
   },
   {
    "duration": 735,
    "start_time": "2021-07-04T23:11:58.107Z"
   },
   {
    "duration": 68,
    "start_time": "2021-07-04T23:11:58.845Z"
   },
   {
    "duration": 16,
    "start_time": "2021-07-04T23:11:58.917Z"
   },
   {
    "duration": 52,
    "start_time": "2021-07-04T23:11:58.936Z"
   },
   {
    "duration": 48,
    "start_time": "2021-07-04T23:11:58.990Z"
   },
   {
    "duration": 4,
    "start_time": "2021-07-04T23:11:59.041Z"
   },
   {
    "duration": 40,
    "start_time": "2021-07-04T23:11:59.047Z"
   },
   {
    "duration": 14,
    "start_time": "2021-07-04T23:11:59.090Z"
   },
   {
    "duration": 16,
    "start_time": "2021-07-04T23:11:59.107Z"
   },
   {
    "duration": 81,
    "start_time": "2021-07-04T23:11:59.126Z"
   },
   {
    "duration": 58,
    "start_time": "2021-07-04T23:11:59.209Z"
   },
   {
    "duration": 24,
    "start_time": "2021-07-04T23:11:59.270Z"
   },
   {
    "duration": 7,
    "start_time": "2021-07-04T23:11:59.297Z"
   },
   {
    "duration": 5,
    "start_time": "2021-07-04T23:11:59.307Z"
   },
   {
    "duration": 763,
    "start_time": "2021-07-05T08:09:42.249Z"
   },
   {
    "duration": 66,
    "start_time": "2021-07-05T08:09:43.015Z"
   },
   {
    "duration": 16,
    "start_time": "2021-07-05T08:09:43.086Z"
   },
   {
    "duration": 29,
    "start_time": "2021-07-05T08:09:43.105Z"
   },
   {
    "duration": 81,
    "start_time": "2021-07-05T08:09:43.137Z"
   },
   {
    "duration": 5,
    "start_time": "2021-07-05T08:09:43.220Z"
   },
   {
    "duration": 8,
    "start_time": "2021-07-05T08:09:43.227Z"
   },
   {
    "duration": 51,
    "start_time": "2021-07-05T08:09:43.237Z"
   },
   {
    "duration": 10,
    "start_time": "2021-07-05T08:09:43.292Z"
   },
   {
    "duration": 94,
    "start_time": "2021-07-05T08:09:43.304Z"
   },
   {
    "duration": 57,
    "start_time": "2021-07-05T08:09:43.401Z"
   },
   {
    "duration": 29,
    "start_time": "2021-07-05T08:09:43.461Z"
   },
   {
    "duration": 5,
    "start_time": "2021-07-05T08:09:43.493Z"
   },
   {
    "duration": 10,
    "start_time": "2021-07-05T08:09:43.501Z"
   },
   {
    "duration": 18,
    "start_time": "2021-07-05T08:09:43.513Z"
   },
   {
    "duration": 11,
    "start_time": "2021-07-05T08:12:25.071Z"
   },
   {
    "duration": 8,
    "start_time": "2021-07-05T08:12:43.502Z"
   },
   {
    "duration": 736,
    "start_time": "2021-07-05T08:48:45.224Z"
   },
   {
    "duration": 69,
    "start_time": "2021-07-05T08:48:45.963Z"
   },
   {
    "duration": 16,
    "start_time": "2021-07-05T08:48:46.036Z"
   },
   {
    "duration": 47,
    "start_time": "2021-07-05T08:48:46.055Z"
   },
   {
    "duration": 50,
    "start_time": "2021-07-05T08:48:46.106Z"
   },
   {
    "duration": 102,
    "start_time": "2021-07-05T08:48:46.159Z"
   },
   {
    "duration": 2081,
    "start_time": "2021-07-05T08:48:44.183Z"
   },
   {
    "duration": 2078,
    "start_time": "2021-07-05T08:48:44.187Z"
   },
   {
    "duration": 2063,
    "start_time": "2021-07-05T08:48:44.204Z"
   },
   {
    "duration": 2061,
    "start_time": "2021-07-05T08:48:44.208Z"
   },
   {
    "duration": 2059,
    "start_time": "2021-07-05T08:48:44.211Z"
   },
   {
    "duration": 2057,
    "start_time": "2021-07-05T08:48:44.215Z"
   },
   {
    "duration": 2055,
    "start_time": "2021-07-05T08:48:44.219Z"
   },
   {
    "duration": 2052,
    "start_time": "2021-07-05T08:48:44.223Z"
   },
   {
    "duration": 2051,
    "start_time": "2021-07-05T08:48:44.226Z"
   },
   {
    "duration": 391,
    "start_time": "2021-07-05T08:53:21.659Z"
   },
   {
    "duration": 6,
    "start_time": "2021-07-05T08:53:25.631Z"
   },
   {
    "duration": 303,
    "start_time": "2021-07-05T08:53:28.395Z"
   },
   {
    "duration": 10,
    "start_time": "2021-07-05T08:53:47.816Z"
   },
   {
    "duration": 7,
    "start_time": "2021-07-05T08:54:10.546Z"
   },
   {
    "duration": 383,
    "start_time": "2021-07-05T08:54:25.566Z"
   },
   {
    "duration": 7,
    "start_time": "2021-07-05T08:54:44.286Z"
   },
   {
    "duration": 6,
    "start_time": "2021-07-05T08:55:22.717Z"
   },
   {
    "duration": 10,
    "start_time": "2021-07-05T08:58:14.384Z"
   },
   {
    "duration": 28,
    "start_time": "2021-07-05T08:58:40.416Z"
   },
   {
    "duration": 102,
    "start_time": "2021-07-05T08:59:14.266Z"
   },
   {
    "duration": 797,
    "start_time": "2021-07-05T08:59:39.988Z"
   },
   {
    "duration": 69,
    "start_time": "2021-07-05T08:59:40.788Z"
   },
   {
    "duration": 26,
    "start_time": "2021-07-05T08:59:40.861Z"
   },
   {
    "duration": 31,
    "start_time": "2021-07-05T08:59:40.891Z"
   },
   {
    "duration": 88,
    "start_time": "2021-07-05T08:59:40.926Z"
   },
   {
    "duration": 6,
    "start_time": "2021-07-05T08:59:41.017Z"
   },
   {
    "duration": 13,
    "start_time": "2021-07-05T08:59:41.025Z"
   },
   {
    "duration": 19,
    "start_time": "2021-07-05T08:59:41.042Z"
   },
   {
    "duration": 34,
    "start_time": "2021-07-05T08:59:41.064Z"
   },
   {
    "duration": 72,
    "start_time": "2021-07-05T08:59:41.100Z"
   },
   {
    "duration": 63,
    "start_time": "2021-07-05T08:59:41.174Z"
   },
   {
    "duration": 13,
    "start_time": "2021-07-05T08:59:41.239Z"
   },
   {
    "duration": 32,
    "start_time": "2021-07-05T08:59:41.254Z"
   },
   {
    "duration": 9,
    "start_time": "2021-07-05T08:59:41.288Z"
   },
   {
    "duration": 12,
    "start_time": "2021-07-05T08:59:41.300Z"
   },
   {
    "duration": 13,
    "start_time": "2021-07-05T08:59:41.314Z"
   },
   {
    "duration": 24,
    "start_time": "2021-07-05T08:59:41.330Z"
   },
   {
    "duration": 386,
    "start_time": "2021-07-05T09:02:33.257Z"
   },
   {
    "duration": 2607,
    "start_time": "2021-07-05T09:02:47.627Z"
   },
   {
    "duration": 2119,
    "start_time": "2021-07-05T09:11:53.082Z"
   },
   {
    "duration": 2472,
    "start_time": "2021-07-05T09:15:31.006Z"
   },
   {
    "duration": 7,
    "start_time": "2021-07-05T09:25:49.017Z"
   },
   {
    "duration": 8,
    "start_time": "2021-07-05T09:44:43.577Z"
   },
   {
    "duration": 122,
    "start_time": "2021-07-05T09:49:01.891Z"
   },
   {
    "duration": 108,
    "start_time": "2021-07-05T09:51:09.038Z"
   },
   {
    "duration": 106,
    "start_time": "2021-07-05T09:55:42.807Z"
   },
   {
    "duration": 9,
    "start_time": "2021-07-05T09:55:49.017Z"
   },
   {
    "duration": 113,
    "start_time": "2021-07-05T09:56:40.517Z"
   },
   {
    "duration": 7,
    "start_time": "2021-07-05T09:57:21.917Z"
   },
   {
    "duration": 5,
    "start_time": "2021-07-05T09:58:54.407Z"
   },
   {
    "duration": 7,
    "start_time": "2021-07-05T09:59:03.630Z"
   },
   {
    "duration": 6,
    "start_time": "2021-07-05T10:00:17.769Z"
   },
   {
    "duration": 6,
    "start_time": "2021-07-05T10:00:24.757Z"
   },
   {
    "duration": 143,
    "start_time": "2021-07-05T10:01:21.215Z"
   },
   {
    "duration": 156,
    "start_time": "2021-07-05T10:01:30.123Z"
   },
   {
    "duration": 8,
    "start_time": "2021-07-05T10:03:53.667Z"
   },
   {
    "duration": 9,
    "start_time": "2021-07-05T12:44:02.227Z"
   },
   {
    "duration": 7,
    "start_time": "2021-07-05T12:44:23.685Z"
   },
   {
    "duration": 7,
    "start_time": "2021-07-05T12:47:05.267Z"
   },
   {
    "duration": 7,
    "start_time": "2021-07-05T12:47:23.235Z"
   },
   {
    "duration": 6,
    "start_time": "2021-07-05T12:49:14.717Z"
   },
   {
    "duration": 7,
    "start_time": "2021-07-05T12:49:15.108Z"
   },
   {
    "duration": 8,
    "start_time": "2021-07-05T12:49:15.647Z"
   },
   {
    "duration": 4,
    "start_time": "2021-07-05T12:49:17.517Z"
   },
   {
    "duration": 34,
    "start_time": "2021-07-05T12:51:40.627Z"
   },
   {
    "duration": 37,
    "start_time": "2021-07-05T12:52:10.168Z"
   },
   {
    "duration": 5,
    "start_time": "2021-07-05T12:53:56.037Z"
   },
   {
    "duration": 6,
    "start_time": "2021-07-05T12:53:58.957Z"
   },
   {
    "duration": 8,
    "start_time": "2021-07-05T12:54:05.897Z"
   },
   {
    "duration": 13,
    "start_time": "2021-07-05T13:00:40.447Z"
   },
   {
    "duration": 5,
    "start_time": "2021-07-05T13:01:03.127Z"
   },
   {
    "duration": 10,
    "start_time": "2021-07-05T13:04:15.025Z"
   },
   {
    "duration": 9,
    "start_time": "2021-07-05T13:04:54.763Z"
   },
   {
    "duration": 10,
    "start_time": "2021-07-05T13:06:02.799Z"
   },
   {
    "duration": 5,
    "start_time": "2021-07-05T16:09:49.937Z"
   },
   {
    "duration": 7,
    "start_time": "2021-07-05T16:09:56.188Z"
   },
   {
    "duration": 350,
    "start_time": "2021-07-05T16:48:34.537Z"
   },
   {
    "duration": 5,
    "start_time": "2021-07-05T16:48:39.883Z"
   },
   {
    "duration": 6,
    "start_time": "2021-07-05T16:50:04.017Z"
   },
   {
    "duration": 6,
    "start_time": "2021-07-05T16:50:24.857Z"
   },
   {
    "duration": 101,
    "start_time": "2021-07-05T16:51:14.975Z"
   },
   {
    "duration": 7,
    "start_time": "2021-07-05T16:51:31.408Z"
   },
   {
    "duration": 7,
    "start_time": "2021-07-05T20:49:50.811Z"
   },
   {
    "duration": 7,
    "start_time": "2021-07-05T20:50:47.551Z"
   },
   {
    "duration": 6,
    "start_time": "2021-07-05T20:50:59.090Z"
   },
   {
    "duration": 9,
    "start_time": "2021-07-05T20:53:21.891Z"
   },
   {
    "duration": 7,
    "start_time": "2021-07-05T20:53:27.991Z"
   },
   {
    "duration": 8,
    "start_time": "2021-07-05T20:55:15.319Z"
   },
   {
    "duration": 761,
    "start_time": "2021-07-05T20:55:26.981Z"
   },
   {
    "duration": 71,
    "start_time": "2021-07-05T20:55:27.745Z"
   },
   {
    "duration": 15,
    "start_time": "2021-07-05T20:55:27.825Z"
   },
   {
    "duration": 49,
    "start_time": "2021-07-05T20:55:27.843Z"
   },
   {
    "duration": 53,
    "start_time": "2021-07-05T20:55:27.895Z"
   },
   {
    "duration": 4,
    "start_time": "2021-07-05T20:55:27.951Z"
   },
   {
    "duration": 30,
    "start_time": "2021-07-05T20:55:27.959Z"
   },
   {
    "duration": 18,
    "start_time": "2021-07-05T20:55:27.992Z"
   },
   {
    "duration": 10,
    "start_time": "2021-07-05T20:55:28.013Z"
   },
   {
    "duration": 90,
    "start_time": "2021-07-05T20:55:28.025Z"
   },
   {
    "duration": 67,
    "start_time": "2021-07-05T20:55:28.118Z"
   },
   {
    "duration": 13,
    "start_time": "2021-07-05T20:55:28.188Z"
   },
   {
    "duration": 9,
    "start_time": "2021-07-05T20:55:28.204Z"
   },
   {
    "duration": 8,
    "start_time": "2021-07-05T20:55:28.216Z"
   },
   {
    "duration": 8,
    "start_time": "2021-07-05T20:55:28.227Z"
   },
   {
    "duration": 49,
    "start_time": "2021-07-05T20:55:28.238Z"
   },
   {
    "duration": 9,
    "start_time": "2021-07-05T20:55:28.289Z"
   },
   {
    "duration": 12,
    "start_time": "2021-07-05T20:55:28.301Z"
   },
   {
    "duration": 19,
    "start_time": "2021-07-05T20:55:28.316Z"
   },
   {
    "duration": 8,
    "start_time": "2021-07-05T20:55:28.338Z"
   },
   {
    "duration": 6,
    "start_time": "2021-07-05T20:55:28.385Z"
   },
   {
    "duration": 107,
    "start_time": "2021-07-05T20:55:28.395Z"
   },
   {
    "duration": 113,
    "start_time": "2021-07-05T20:57:40.419Z"
   },
   {
    "duration": 110,
    "start_time": "2021-07-05T20:58:22.785Z"
   },
   {
    "duration": 121,
    "start_time": "2021-07-05T20:58:54.800Z"
   },
   {
    "duration": 146,
    "start_time": "2021-07-05T20:59:49.820Z"
   },
   {
    "duration": 6,
    "start_time": "2021-07-05T20:59:55.510Z"
   },
   {
    "duration": 6,
    "start_time": "2021-07-05T21:00:27.010Z"
   },
   {
    "duration": 108,
    "start_time": "2021-07-05T21:02:37.053Z"
   },
   {
    "duration": 168,
    "start_time": "2021-07-05T21:03:16.478Z"
   },
   {
    "duration": 14,
    "start_time": "2021-07-05T21:03:35.289Z"
   },
   {
    "duration": 8,
    "start_time": "2021-07-05T21:05:30.650Z"
   },
   {
    "duration": 11,
    "start_time": "2021-07-05T21:05:37.720Z"
   },
   {
    "duration": 8,
    "start_time": "2021-07-05T21:13:37.749Z"
   },
   {
    "duration": 7,
    "start_time": "2021-07-05T21:14:12.121Z"
   },
   {
    "duration": 996,
    "start_time": "2021-07-05T21:14:30.820Z"
   },
   {
    "duration": 8,
    "start_time": "2021-07-05T21:15:38.647Z"
   },
   {
    "duration": 6,
    "start_time": "2021-07-05T21:15:46.576Z"
   },
   {
    "duration": 6,
    "start_time": "2021-07-05T21:15:49.919Z"
   },
   {
    "duration": 5,
    "start_time": "2021-07-05T21:17:22.169Z"
   },
   {
    "duration": 6,
    "start_time": "2021-07-05T21:17:23.863Z"
   },
   {
    "duration": 732,
    "start_time": "2021-07-05T21:18:18.345Z"
   },
   {
    "duration": 70,
    "start_time": "2021-07-05T21:18:19.081Z"
   },
   {
    "duration": 15,
    "start_time": "2021-07-05T21:18:19.154Z"
   },
   {
    "duration": 48,
    "start_time": "2021-07-05T21:18:19.172Z"
   },
   {
    "duration": 70,
    "start_time": "2021-07-05T21:18:19.223Z"
   },
   {
    "duration": 5,
    "start_time": "2021-07-05T21:18:19.295Z"
   },
   {
    "duration": 10,
    "start_time": "2021-07-05T21:18:19.303Z"
   },
   {
    "duration": 15,
    "start_time": "2021-07-05T21:18:19.315Z"
   },
   {
    "duration": 12,
    "start_time": "2021-07-05T21:18:19.334Z"
   },
   {
    "duration": 97,
    "start_time": "2021-07-05T21:18:19.348Z"
   },
   {
    "duration": 76,
    "start_time": "2021-07-05T21:18:19.448Z"
   },
   {
    "duration": 12,
    "start_time": "2021-07-05T21:18:19.527Z"
   },
   {
    "duration": 12,
    "start_time": "2021-07-05T21:18:19.541Z"
   },
   {
    "duration": 34,
    "start_time": "2021-07-05T21:18:19.555Z"
   },
   {
    "duration": 9,
    "start_time": "2021-07-05T21:18:19.591Z"
   },
   {
    "duration": 6,
    "start_time": "2021-07-05T21:18:19.603Z"
   },
   {
    "duration": 9,
    "start_time": "2021-07-05T21:18:19.611Z"
   },
   {
    "duration": 9,
    "start_time": "2021-07-05T21:18:19.622Z"
   },
   {
    "duration": 13,
    "start_time": "2021-07-05T21:18:19.633Z"
   },
   {
    "duration": 10,
    "start_time": "2021-07-05T21:18:19.694Z"
   },
   {
    "duration": 9,
    "start_time": "2021-07-05T21:18:19.706Z"
   },
   {
    "duration": 10,
    "start_time": "2021-07-05T21:18:19.718Z"
   },
   {
    "duration": 12,
    "start_time": "2021-07-05T21:18:19.730Z"
   },
   {
    "duration": 11,
    "start_time": "2021-07-05T21:18:19.745Z"
   },
   {
    "duration": 7,
    "start_time": "2021-07-05T21:19:41.049Z"
   },
   {
    "duration": 7,
    "start_time": "2021-07-05T21:19:47.835Z"
   },
   {
    "duration": 7,
    "start_time": "2021-07-05T21:19:52.527Z"
   },
   {
    "duration": 9,
    "start_time": "2021-07-05T21:24:37.319Z"
   },
   {
    "duration": 6,
    "start_time": "2021-07-05T21:26:36.329Z"
   },
   {
    "duration": 9,
    "start_time": "2021-07-05T21:26:37.249Z"
   },
   {
    "duration": 102,
    "start_time": "2021-07-05T21:26:37.990Z"
   },
   {
    "duration": 751,
    "start_time": "2021-07-05T21:26:52.841Z"
   },
   {
    "duration": 70,
    "start_time": "2021-07-05T21:26:53.595Z"
   },
   {
    "duration": 20,
    "start_time": "2021-07-05T21:26:53.669Z"
   },
   {
    "duration": 30,
    "start_time": "2021-07-05T21:26:53.692Z"
   },
   {
    "duration": 75,
    "start_time": "2021-07-05T21:26:53.724Z"
   },
   {
    "duration": 5,
    "start_time": "2021-07-05T21:26:53.801Z"
   },
   {
    "duration": 14,
    "start_time": "2021-07-05T21:26:53.808Z"
   },
   {
    "duration": 18,
    "start_time": "2021-07-05T21:26:53.826Z"
   },
   {
    "duration": 15,
    "start_time": "2021-07-05T21:26:53.847Z"
   },
   {
    "duration": 64,
    "start_time": "2021-07-05T21:26:53.887Z"
   },
   {
    "duration": 84,
    "start_time": "2021-07-05T21:26:53.954Z"
   },
   {
    "duration": 12,
    "start_time": "2021-07-05T21:26:54.040Z"
   },
   {
    "duration": 12,
    "start_time": "2021-07-05T21:26:54.054Z"
   },
   {
    "duration": 9,
    "start_time": "2021-07-05T21:26:54.085Z"
   },
   {
    "duration": 9,
    "start_time": "2021-07-05T21:26:54.096Z"
   },
   {
    "duration": 15,
    "start_time": "2021-07-05T21:26:54.107Z"
   },
   {
    "duration": 9,
    "start_time": "2021-07-05T21:26:54.125Z"
   },
   {
    "duration": 11,
    "start_time": "2021-07-05T21:26:54.137Z"
   },
   {
    "duration": 44,
    "start_time": "2021-07-05T21:26:54.150Z"
   },
   {
    "duration": 10,
    "start_time": "2021-07-05T21:26:54.197Z"
   },
   {
    "duration": 7,
    "start_time": "2021-07-05T21:26:54.209Z"
   },
   {
    "duration": 17,
    "start_time": "2021-07-05T21:26:54.219Z"
   },
   {
    "duration": 107,
    "start_time": "2021-07-05T21:26:54.240Z"
   },
   {
    "duration": 1089,
    "start_time": "2021-07-05T21:26:53.260Z"
   },
   {
    "duration": 1086,
    "start_time": "2021-07-05T21:26:53.265Z"
   },
   {
    "duration": 10,
    "start_time": "2021-07-05T21:29:54.123Z"
   },
   {
    "duration": 10,
    "start_time": "2021-07-05T21:35:08.398Z"
   },
   {
    "duration": 11,
    "start_time": "2021-07-05T21:37:03.732Z"
   },
   {
    "duration": 9,
    "start_time": "2021-07-05T21:38:03.062Z"
   },
   {
    "duration": 9,
    "start_time": "2021-07-05T21:40:13.723Z"
   },
   {
    "duration": 5,
    "start_time": "2021-07-05T21:40:14.223Z"
   },
   {
    "duration": 9,
    "start_time": "2021-07-05T21:40:15.860Z"
   },
   {
    "duration": 10,
    "start_time": "2021-07-05T21:45:29.962Z"
   },
   {
    "duration": 8,
    "start_time": "2021-07-05T21:45:34.953Z"
   },
   {
    "duration": 9,
    "start_time": "2021-07-05T21:45:35.402Z"
   },
   {
    "duration": 838,
    "start_time": "2021-07-05T21:45:50.411Z"
   },
   {
    "duration": 76,
    "start_time": "2021-07-05T21:45:51.252Z"
   },
   {
    "duration": 15,
    "start_time": "2021-07-05T21:45:51.331Z"
   },
   {
    "duration": 46,
    "start_time": "2021-07-05T21:45:51.348Z"
   },
   {
    "duration": 48,
    "start_time": "2021-07-05T21:45:51.397Z"
   },
   {
    "duration": 4,
    "start_time": "2021-07-05T21:45:51.448Z"
   },
   {
    "duration": 35,
    "start_time": "2021-07-05T21:45:51.455Z"
   },
   {
    "duration": 18,
    "start_time": "2021-07-05T21:45:51.495Z"
   },
   {
    "duration": 12,
    "start_time": "2021-07-05T21:45:51.517Z"
   },
   {
    "duration": 100,
    "start_time": "2021-07-05T21:45:51.532Z"
   },
   {
    "duration": 68,
    "start_time": "2021-07-05T21:45:51.635Z"
   },
   {
    "duration": 12,
    "start_time": "2021-07-05T21:45:51.705Z"
   },
   {
    "duration": 17,
    "start_time": "2021-07-05T21:45:51.720Z"
   },
   {
    "duration": 18,
    "start_time": "2021-07-05T21:45:51.740Z"
   },
   {
    "duration": 27,
    "start_time": "2021-07-05T21:45:51.760Z"
   },
   {
    "duration": 19,
    "start_time": "2021-07-05T21:45:51.790Z"
   },
   {
    "duration": 12,
    "start_time": "2021-07-05T21:45:51.811Z"
   },
   {
    "duration": 31,
    "start_time": "2021-07-05T21:45:51.825Z"
   },
   {
    "duration": 15,
    "start_time": "2021-07-05T21:45:51.859Z"
   },
   {
    "duration": 16,
    "start_time": "2021-07-05T21:45:51.876Z"
   },
   {
    "duration": 6,
    "start_time": "2021-07-05T21:45:51.895Z"
   },
   {
    "duration": 12,
    "start_time": "2021-07-05T21:45:51.903Z"
   },
   {
    "duration": 9,
    "start_time": "2021-07-05T21:45:51.919Z"
   },
   {
    "duration": 11,
    "start_time": "2021-07-05T21:45:51.930Z"
   },
   {
    "duration": 457,
    "start_time": "2021-07-05T21:45:51.943Z"
   },
   {
    "duration": 1114,
    "start_time": "2021-07-05T21:45:51.288Z"
   },
   {
    "duration": 17,
    "start_time": "2021-07-05T21:49:57.710Z"
   },
   {
    "duration": 10,
    "start_time": "2021-07-05T21:50:32.366Z"
   },
   {
    "duration": 973,
    "start_time": "2021-07-05T21:50:41.637Z"
   },
   {
    "duration": 93,
    "start_time": "2021-07-05T21:50:42.613Z"
   },
   {
    "duration": 16,
    "start_time": "2021-07-05T21:50:42.709Z"
   },
   {
    "duration": 29,
    "start_time": "2021-07-05T21:50:42.728Z"
   },
   {
    "duration": 86,
    "start_time": "2021-07-05T21:50:42.759Z"
   },
   {
    "duration": 4,
    "start_time": "2021-07-05T21:50:42.847Z"
   },
   {
    "duration": 16,
    "start_time": "2021-07-05T21:50:42.853Z"
   },
   {
    "duration": 20,
    "start_time": "2021-07-05T21:50:42.873Z"
   },
   {
    "duration": 15,
    "start_time": "2021-07-05T21:50:42.897Z"
   },
   {
    "duration": 89,
    "start_time": "2021-07-05T21:50:42.915Z"
   },
   {
    "duration": 62,
    "start_time": "2021-07-05T21:50:43.007Z"
   },
   {
    "duration": 23,
    "start_time": "2021-07-05T21:50:43.071Z"
   },
   {
    "duration": 12,
    "start_time": "2021-07-05T21:50:43.097Z"
   },
   {
    "duration": 21,
    "start_time": "2021-07-05T21:50:43.112Z"
   },
   {
    "duration": 8,
    "start_time": "2021-07-05T21:50:43.136Z"
   },
   {
    "duration": 14,
    "start_time": "2021-07-05T21:50:43.147Z"
   },
   {
    "duration": 12,
    "start_time": "2021-07-05T21:50:43.185Z"
   },
   {
    "duration": 9,
    "start_time": "2021-07-05T21:50:43.200Z"
   },
   {
    "duration": 15,
    "start_time": "2021-07-05T21:50:43.211Z"
   },
   {
    "duration": 8,
    "start_time": "2021-07-05T21:50:43.228Z"
   },
   {
    "duration": 7,
    "start_time": "2021-07-05T21:50:43.238Z"
   },
   {
    "duration": 16,
    "start_time": "2021-07-05T21:50:43.285Z"
   },
   {
    "duration": 10,
    "start_time": "2021-07-05T21:50:43.308Z"
   },
   {
    "duration": 12,
    "start_time": "2021-07-05T21:50:43.321Z"
   },
   {
    "duration": 10,
    "start_time": "2021-07-05T21:50:43.335Z"
   },
   {
    "duration": 18,
    "start_time": "2021-07-05T21:50:43.389Z"
   },
   {
    "duration": 11,
    "start_time": "2021-07-05T21:53:36.484Z"
   },
   {
    "duration": 9,
    "start_time": "2021-07-05T21:56:19.180Z"
   },
   {
    "duration": 9,
    "start_time": "2021-07-05T21:56:46.999Z"
   },
   {
    "duration": 5,
    "start_time": "2021-07-05T21:57:38.070Z"
   },
   {
    "duration": 6,
    "start_time": "2021-07-05T21:58:43.420Z"
   },
   {
    "duration": 11,
    "start_time": "2021-07-05T21:58:52.550Z"
   },
   {
    "duration": 6,
    "start_time": "2021-07-05T21:58:53.489Z"
   },
   {
    "duration": 3,
    "start_time": "2021-07-05T22:08:15.760Z"
   },
   {
    "duration": 3,
    "start_time": "2021-07-05T22:08:20.360Z"
   },
   {
    "duration": 785,
    "start_time": "2021-07-05T22:08:26.997Z"
   },
   {
    "duration": 71,
    "start_time": "2021-07-05T22:08:27.786Z"
   },
   {
    "duration": 16,
    "start_time": "2021-07-05T22:08:27.860Z"
   },
   {
    "duration": 31,
    "start_time": "2021-07-05T22:08:27.886Z"
   },
   {
    "duration": 75,
    "start_time": "2021-07-05T22:08:27.920Z"
   },
   {
    "duration": 6,
    "start_time": "2021-07-05T22:08:27.998Z"
   },
   {
    "duration": 9,
    "start_time": "2021-07-05T22:08:28.007Z"
   },
   {
    "duration": 16,
    "start_time": "2021-07-05T22:08:28.020Z"
   },
   {
    "duration": 47,
    "start_time": "2021-07-05T22:08:28.040Z"
   },
   {
    "duration": 60,
    "start_time": "2021-07-05T22:08:28.090Z"
   },
   {
    "duration": 81,
    "start_time": "2021-07-05T22:08:28.153Z"
   },
   {
    "duration": 12,
    "start_time": "2021-07-05T22:08:28.236Z"
   },
   {
    "duration": 19,
    "start_time": "2021-07-05T22:08:28.251Z"
   },
   {
    "duration": 20,
    "start_time": "2021-07-05T22:08:28.272Z"
   },
   {
    "duration": 16,
    "start_time": "2021-07-05T22:08:28.294Z"
   },
   {
    "duration": 13,
    "start_time": "2021-07-05T22:08:28.313Z"
   },
   {
    "duration": 13,
    "start_time": "2021-07-05T22:08:28.329Z"
   },
   {
    "duration": 14,
    "start_time": "2021-07-05T22:08:28.345Z"
   },
   {
    "duration": 40,
    "start_time": "2021-07-05T22:08:28.361Z"
   },
   {
    "duration": 8,
    "start_time": "2021-07-05T22:08:28.404Z"
   },
   {
    "duration": 11,
    "start_time": "2021-07-05T22:08:28.414Z"
   },
   {
    "duration": 20,
    "start_time": "2021-07-05T22:08:28.427Z"
   },
   {
    "duration": 9,
    "start_time": "2021-07-05T22:08:28.451Z"
   },
   {
    "duration": 18,
    "start_time": "2021-07-05T22:08:28.486Z"
   },
   {
    "duration": 6,
    "start_time": "2021-07-05T22:08:28.506Z"
   },
   {
    "duration": 11,
    "start_time": "2021-07-05T22:08:28.515Z"
   },
   {
    "duration": 1036,
    "start_time": "2021-07-05T22:09:30.246Z"
   },
   {
    "duration": 98,
    "start_time": "2021-07-05T22:09:31.285Z"
   },
   {
    "duration": 22,
    "start_time": "2021-07-05T22:09:31.387Z"
   },
   {
    "duration": 53,
    "start_time": "2021-07-05T22:09:31.414Z"
   },
   {
    "duration": 82,
    "start_time": "2021-07-05T22:09:31.470Z"
   },
   {
    "duration": 6,
    "start_time": "2021-07-05T22:09:31.555Z"
   },
   {
    "duration": 34,
    "start_time": "2021-07-05T22:09:31.563Z"
   },
   {
    "duration": 41,
    "start_time": "2021-07-05T22:09:31.601Z"
   },
   {
    "duration": 20,
    "start_time": "2021-07-05T22:09:31.646Z"
   },
   {
    "duration": 89,
    "start_time": "2021-07-05T22:09:31.668Z"
   },
   {
    "duration": 61,
    "start_time": "2021-07-05T22:09:31.760Z"
   },
   {
    "duration": 13,
    "start_time": "2021-07-05T22:09:31.823Z"
   },
   {
    "duration": 25,
    "start_time": "2021-07-05T22:09:31.839Z"
   },
   {
    "duration": 31,
    "start_time": "2021-07-05T22:09:31.867Z"
   },
   {
    "duration": 19,
    "start_time": "2021-07-05T22:09:31.901Z"
   },
   {
    "duration": 30,
    "start_time": "2021-07-05T22:09:31.923Z"
   },
   {
    "duration": 24,
    "start_time": "2021-07-05T22:09:31.956Z"
   },
   {
    "duration": 20,
    "start_time": "2021-07-05T22:09:31.983Z"
   },
   {
    "duration": 40,
    "start_time": "2021-07-05T22:09:32.005Z"
   },
   {
    "duration": 19,
    "start_time": "2021-07-05T22:09:32.048Z"
   },
   {
    "duration": 18,
    "start_time": "2021-07-05T22:09:32.069Z"
   },
   {
    "duration": 18,
    "start_time": "2021-07-05T22:09:32.089Z"
   },
   {
    "duration": 14,
    "start_time": "2021-07-05T22:09:32.111Z"
   },
   {
    "duration": 14,
    "start_time": "2021-07-05T22:09:32.128Z"
   },
   {
    "duration": 19,
    "start_time": "2021-07-05T22:09:32.145Z"
   },
   {
    "duration": 432,
    "start_time": "2021-07-05T22:09:32.166Z"
   },
   {
    "duration": 326,
    "start_time": "2021-07-05T22:10:01.714Z"
   },
   {
    "duration": 315,
    "start_time": "2021-07-05T22:10:07.033Z"
   },
   {
    "duration": 9,
    "start_time": "2021-07-05T22:11:08.434Z"
   },
   {
    "duration": 7,
    "start_time": "2021-07-05T22:11:14.743Z"
   },
   {
    "duration": 14,
    "start_time": "2021-07-05T22:11:29.318Z"
   },
   {
    "duration": 11,
    "start_time": "2021-07-05T22:11:29.986Z"
   },
   {
    "duration": 12,
    "start_time": "2021-07-05T22:14:43.502Z"
   },
   {
    "duration": 9,
    "start_time": "2021-07-05T22:14:45.053Z"
   },
   {
    "duration": 804,
    "start_time": "2021-07-05T22:15:08.477Z"
   },
   {
    "duration": 69,
    "start_time": "2021-07-05T22:15:09.284Z"
   },
   {
    "duration": 15,
    "start_time": "2021-07-05T22:15:09.356Z"
   },
   {
    "duration": 37,
    "start_time": "2021-07-05T22:15:09.374Z"
   },
   {
    "duration": 72,
    "start_time": "2021-07-05T22:15:09.414Z"
   },
   {
    "duration": 4,
    "start_time": "2021-07-05T22:15:09.489Z"
   },
   {
    "duration": 16,
    "start_time": "2021-07-05T22:15:09.496Z"
   },
   {
    "duration": 21,
    "start_time": "2021-07-05T22:15:09.516Z"
   },
   {
    "duration": 17,
    "start_time": "2021-07-05T22:15:09.541Z"
   },
   {
    "duration": 82,
    "start_time": "2021-07-05T22:15:09.560Z"
   },
   {
    "duration": 72,
    "start_time": "2021-07-05T22:15:09.645Z"
   },
   {
    "duration": 12,
    "start_time": "2021-07-05T22:15:09.719Z"
   },
   {
    "duration": 10,
    "start_time": "2021-07-05T22:15:09.734Z"
   },
   {
    "duration": 38,
    "start_time": "2021-07-05T22:15:09.747Z"
   },
   {
    "duration": 6,
    "start_time": "2021-07-05T22:15:09.789Z"
   },
   {
    "duration": 13,
    "start_time": "2021-07-05T22:15:09.799Z"
   },
   {
    "duration": 8,
    "start_time": "2021-07-05T22:15:09.815Z"
   },
   {
    "duration": 13,
    "start_time": "2021-07-05T22:15:09.825Z"
   },
   {
    "duration": 50,
    "start_time": "2021-07-05T22:15:09.841Z"
   },
   {
    "duration": 12,
    "start_time": "2021-07-05T22:15:09.893Z"
   },
   {
    "duration": 6,
    "start_time": "2021-07-05T22:15:09.908Z"
   },
   {
    "duration": 11,
    "start_time": "2021-07-05T22:15:09.916Z"
   },
   {
    "duration": 9,
    "start_time": "2021-07-05T22:15:09.932Z"
   },
   {
    "duration": 15,
    "start_time": "2021-07-05T22:15:09.987Z"
   },
   {
    "duration": 18,
    "start_time": "2021-07-05T22:15:10.004Z"
   },
   {
    "duration": 448,
    "start_time": "2021-07-05T22:15:10.024Z"
   },
   {
    "duration": 8,
    "start_time": "2021-07-05T22:17:10.241Z"
   },
   {
    "duration": 6,
    "start_time": "2021-07-05T22:17:31.190Z"
   },
   {
    "duration": 114,
    "start_time": "2021-07-05T22:24:05.910Z"
   },
   {
    "duration": 7,
    "start_time": "2021-07-05T22:24:19.910Z"
   },
   {
    "duration": 6,
    "start_time": "2021-07-05T22:27:10.431Z"
   },
   {
    "duration": 7,
    "start_time": "2021-07-05T22:27:18.928Z"
   },
   {
    "duration": 10,
    "start_time": "2021-07-05T22:28:15.701Z"
   },
   {
    "duration": 8,
    "start_time": "2021-07-05T22:29:08.871Z"
   },
   {
    "duration": 6,
    "start_time": "2021-07-05T22:30:45.641Z"
   },
   {
    "duration": 9,
    "start_time": "2021-07-05T22:31:04.950Z"
   },
   {
    "duration": 7,
    "start_time": "2021-07-05T22:36:22.990Z"
   },
   {
    "duration": 7,
    "start_time": "2021-07-05T22:36:49.580Z"
   },
   {
    "duration": 6,
    "start_time": "2021-07-05T22:36:57.580Z"
   },
   {
    "duration": 9,
    "start_time": "2021-07-05T22:37:04.318Z"
   },
   {
    "duration": 12,
    "start_time": "2021-07-05T22:37:09.128Z"
   },
   {
    "duration": 8,
    "start_time": "2021-07-05T22:37:12.241Z"
   },
   {
    "duration": 5,
    "start_time": "2021-07-05T22:37:46.138Z"
   },
   {
    "duration": 934,
    "start_time": "2021-07-05T22:39:33.448Z"
   },
   {
    "duration": 70,
    "start_time": "2021-07-05T22:39:34.384Z"
   },
   {
    "duration": 17,
    "start_time": "2021-07-05T22:39:34.458Z"
   },
   {
    "duration": 30,
    "start_time": "2021-07-05T22:39:34.485Z"
   },
   {
    "duration": 73,
    "start_time": "2021-07-05T22:39:34.519Z"
   },
   {
    "duration": 5,
    "start_time": "2021-07-05T22:39:34.595Z"
   },
   {
    "duration": 9,
    "start_time": "2021-07-05T22:39:34.603Z"
   },
   {
    "duration": 15,
    "start_time": "2021-07-05T22:39:34.615Z"
   },
   {
    "duration": 49,
    "start_time": "2021-07-05T22:39:34.636Z"
   },
   {
    "duration": 61,
    "start_time": "2021-07-05T22:39:34.690Z"
   },
   {
    "duration": 82,
    "start_time": "2021-07-05T22:39:34.753Z"
   },
   {
    "duration": 14,
    "start_time": "2021-07-05T22:39:34.838Z"
   },
   {
    "duration": 36,
    "start_time": "2021-07-05T22:39:34.855Z"
   },
   {
    "duration": 10,
    "start_time": "2021-07-05T22:39:34.894Z"
   },
   {
    "duration": 9,
    "start_time": "2021-07-05T22:39:34.907Z"
   },
   {
    "duration": 10,
    "start_time": "2021-07-05T22:39:34.918Z"
   },
   {
    "duration": 55,
    "start_time": "2021-07-05T22:39:34.931Z"
   },
   {
    "duration": 8,
    "start_time": "2021-07-05T22:39:34.989Z"
   },
   {
    "duration": 18,
    "start_time": "2021-07-05T22:39:35.000Z"
   },
   {
    "duration": 8,
    "start_time": "2021-07-05T22:39:35.021Z"
   },
   {
    "duration": 10,
    "start_time": "2021-07-05T22:39:35.031Z"
   },
   {
    "duration": 9,
    "start_time": "2021-07-05T22:39:35.085Z"
   },
   {
    "duration": 9,
    "start_time": "2021-07-05T22:39:35.097Z"
   },
   {
    "duration": 14,
    "start_time": "2021-07-05T22:39:35.108Z"
   },
   {
    "duration": 11,
    "start_time": "2021-07-05T22:39:35.124Z"
   },
   {
    "duration": 51,
    "start_time": "2021-07-05T22:39:35.137Z"
   },
   {
    "duration": 10,
    "start_time": "2021-07-05T22:39:35.193Z"
   },
   {
    "duration": 20,
    "start_time": "2021-07-05T22:39:35.205Z"
   },
   {
    "duration": 6,
    "start_time": "2021-07-05T22:39:35.228Z"
   },
   {
    "duration": 20,
    "start_time": "2021-07-05T22:39:35.236Z"
   },
   {
    "duration": 9,
    "start_time": "2021-07-05T22:39:54.039Z"
   },
   {
    "duration": 10,
    "start_time": "2021-07-05T22:39:55.390Z"
   },
   {
    "duration": 5,
    "start_time": "2021-07-05T22:39:55.759Z"
   },
   {
    "duration": 7,
    "start_time": "2021-07-05T22:39:56.429Z"
   },
   {
    "duration": 6,
    "start_time": "2021-07-05T22:43:40.968Z"
   },
   {
    "duration": 6,
    "start_time": "2021-07-05T22:43:48.190Z"
   },
   {
    "duration": 25,
    "start_time": "2021-07-05T22:57:33.650Z"
   },
   {
    "duration": 8,
    "start_time": "2021-07-05T22:57:42.039Z"
   },
   {
    "duration": 6,
    "start_time": "2021-07-05T22:58:43.079Z"
   },
   {
    "duration": 778,
    "start_time": "2021-07-05T23:00:30.003Z"
   },
   {
    "duration": 71,
    "start_time": "2021-07-05T23:00:30.784Z"
   },
   {
    "duration": 18,
    "start_time": "2021-07-05T23:00:30.859Z"
   },
   {
    "duration": 35,
    "start_time": "2021-07-05T23:00:30.888Z"
   },
   {
    "duration": 72,
    "start_time": "2021-07-05T23:00:30.926Z"
   },
   {
    "duration": 4,
    "start_time": "2021-07-05T23:00:31.001Z"
   },
   {
    "duration": 17,
    "start_time": "2021-07-05T23:00:31.008Z"
   },
   {
    "duration": 25,
    "start_time": "2021-07-05T23:00:31.027Z"
   },
   {
    "duration": 24,
    "start_time": "2021-07-05T23:00:31.056Z"
   },
   {
    "duration": 64,
    "start_time": "2021-07-05T23:00:31.087Z"
   },
   {
    "duration": 78,
    "start_time": "2021-07-05T23:00:31.154Z"
   },
   {
    "duration": 13,
    "start_time": "2021-07-05T23:00:31.234Z"
   },
   {
    "duration": 33,
    "start_time": "2021-07-05T23:00:31.249Z"
   },
   {
    "duration": 15,
    "start_time": "2021-07-05T23:00:31.285Z"
   },
   {
    "duration": 22,
    "start_time": "2021-07-05T23:00:31.302Z"
   },
   {
    "duration": 27,
    "start_time": "2021-07-05T23:00:31.326Z"
   },
   {
    "duration": 30,
    "start_time": "2021-07-05T23:00:31.356Z"
   },
   {
    "duration": 51,
    "start_time": "2021-07-05T23:00:31.389Z"
   },
   {
    "duration": 41,
    "start_time": "2021-07-05T23:00:31.442Z"
   },
   {
    "duration": 34,
    "start_time": "2021-07-05T23:00:31.486Z"
   },
   {
    "duration": 25,
    "start_time": "2021-07-05T23:00:31.524Z"
   },
   {
    "duration": 24,
    "start_time": "2021-07-05T23:00:31.553Z"
   },
   {
    "duration": 37,
    "start_time": "2021-07-05T23:00:31.580Z"
   },
   {
    "duration": 31,
    "start_time": "2021-07-05T23:00:31.621Z"
   },
   {
    "duration": 9,
    "start_time": "2021-07-05T23:00:31.656Z"
   },
   {
    "duration": 19,
    "start_time": "2021-07-05T23:00:31.668Z"
   },
   {
    "duration": 16,
    "start_time": "2021-07-05T23:00:31.694Z"
   },
   {
    "duration": 28,
    "start_time": "2021-07-05T23:00:31.713Z"
   },
   {
    "duration": 16,
    "start_time": "2021-07-05T23:00:31.743Z"
   },
   {
    "duration": 17,
    "start_time": "2021-07-05T23:00:31.762Z"
   },
   {
    "duration": 19,
    "start_time": "2021-07-05T23:00:31.782Z"
   },
   {
    "duration": 28,
    "start_time": "2021-07-05T23:00:31.804Z"
   },
   {
    "duration": 20,
    "start_time": "2021-07-05T23:00:31.835Z"
   },
   {
    "duration": 21,
    "start_time": "2021-07-05T23:00:31.858Z"
   },
   {
    "duration": 5,
    "start_time": "2021-07-05T23:01:13.491Z"
   },
   {
    "duration": 758,
    "start_time": "2021-07-05T23:02:52.800Z"
   },
   {
    "duration": 66,
    "start_time": "2021-07-05T23:02:53.561Z"
   },
   {
    "duration": 14,
    "start_time": "2021-07-05T23:02:53.630Z"
   },
   {
    "duration": 39,
    "start_time": "2021-07-05T23:02:53.647Z"
   },
   {
    "duration": 44,
    "start_time": "2021-07-05T23:02:53.689Z"
   },
   {
    "duration": 4,
    "start_time": "2021-07-05T23:02:53.736Z"
   },
   {
    "duration": 8,
    "start_time": "2021-07-05T23:02:53.742Z"
   },
   {
    "duration": 13,
    "start_time": "2021-07-05T23:02:53.786Z"
   },
   {
    "duration": 11,
    "start_time": "2021-07-05T23:02:53.801Z"
   },
   {
    "duration": 91,
    "start_time": "2021-07-05T23:02:53.815Z"
   },
   {
    "duration": 59,
    "start_time": "2021-07-05T23:02:53.908Z"
   },
   {
    "duration": 24,
    "start_time": "2021-07-05T23:02:53.970Z"
   },
   {
    "duration": 10,
    "start_time": "2021-07-05T23:02:53.997Z"
   },
   {
    "duration": 11,
    "start_time": "2021-07-05T23:02:54.010Z"
   },
   {
    "duration": 9,
    "start_time": "2021-07-05T23:02:54.024Z"
   },
   {
    "duration": 6,
    "start_time": "2021-07-05T23:02:54.086Z"
   },
   {
    "duration": 9,
    "start_time": "2021-07-05T23:02:54.095Z"
   },
   {
    "duration": 22,
    "start_time": "2021-07-05T23:02:54.107Z"
   },
   {
    "duration": 16,
    "start_time": "2021-07-05T23:02:54.133Z"
   },
   {
    "duration": 39,
    "start_time": "2021-07-05T23:02:54.151Z"
   },
   {
    "duration": 7,
    "start_time": "2021-07-05T23:02:54.193Z"
   },
   {
    "duration": 13,
    "start_time": "2021-07-05T23:02:54.203Z"
   },
   {
    "duration": 10,
    "start_time": "2021-07-05T23:02:54.221Z"
   },
   {
    "duration": 64,
    "start_time": "2021-07-05T23:02:54.234Z"
   },
   {
    "duration": 5,
    "start_time": "2021-07-05T23:02:54.301Z"
   },
   {
    "duration": 25,
    "start_time": "2021-07-05T23:02:54.309Z"
   },
   {
    "duration": 16,
    "start_time": "2021-07-05T23:02:54.336Z"
   },
   {
    "duration": 12,
    "start_time": "2021-07-05T23:02:54.354Z"
   },
   {
    "duration": 17,
    "start_time": "2021-07-05T23:02:54.368Z"
   },
   {
    "duration": 6,
    "start_time": "2021-07-05T23:02:54.388Z"
   },
   {
    "duration": 16,
    "start_time": "2021-07-05T23:02:54.396Z"
   },
   {
    "duration": 20,
    "start_time": "2021-07-05T23:02:54.414Z"
   },
   {
    "duration": 16,
    "start_time": "2021-07-05T23:02:54.437Z"
   },
   {
    "duration": 32,
    "start_time": "2021-07-05T23:02:54.456Z"
   },
   {
    "duration": 6,
    "start_time": "2021-07-05T23:04:16.643Z"
   },
   {
    "duration": 6,
    "start_time": "2021-07-05T23:05:16.685Z"
   },
   {
    "duration": 18,
    "start_time": "2021-07-05T23:05:17.088Z"
   },
   {
    "duration": 9,
    "start_time": "2021-07-05T23:05:26.766Z"
   },
   {
    "duration": 411,
    "start_time": "2021-07-05T23:08:30.768Z"
   },
   {
    "duration": 5,
    "start_time": "2021-07-05T23:08:53.769Z"
   },
   {
    "duration": 746,
    "start_time": "2021-07-05T23:09:23.513Z"
   },
   {
    "duration": 67,
    "start_time": "2021-07-05T23:09:24.263Z"
   },
   {
    "duration": 15,
    "start_time": "2021-07-05T23:09:24.333Z"
   },
   {
    "duration": 46,
    "start_time": "2021-07-05T23:09:24.351Z"
   },
   {
    "duration": 51,
    "start_time": "2021-07-05T23:09:24.399Z"
   },
   {
    "duration": 32,
    "start_time": "2021-07-05T23:09:24.453Z"
   },
   {
    "duration": 10,
    "start_time": "2021-07-05T23:09:24.488Z"
   },
   {
    "duration": 16,
    "start_time": "2021-07-05T23:09:24.502Z"
   },
   {
    "duration": 10,
    "start_time": "2021-07-05T23:09:24.521Z"
   },
   {
    "duration": 96,
    "start_time": "2021-07-05T23:09:24.534Z"
   },
   {
    "duration": 76,
    "start_time": "2021-07-05T23:09:24.632Z"
   },
   {
    "duration": 12,
    "start_time": "2021-07-05T23:09:24.711Z"
   },
   {
    "duration": 15,
    "start_time": "2021-07-05T23:09:24.726Z"
   },
   {
    "duration": 19,
    "start_time": "2021-07-05T23:09:24.744Z"
   },
   {
    "duration": 6,
    "start_time": "2021-07-05T23:09:24.786Z"
   },
   {
    "duration": 16,
    "start_time": "2021-07-05T23:09:24.795Z"
   },
   {
    "duration": 19,
    "start_time": "2021-07-05T23:09:24.814Z"
   },
   {
    "duration": 14,
    "start_time": "2021-07-05T23:09:24.835Z"
   },
   {
    "duration": 41,
    "start_time": "2021-07-05T23:09:24.851Z"
   },
   {
    "duration": 8,
    "start_time": "2021-07-05T23:09:24.895Z"
   },
   {
    "duration": 9,
    "start_time": "2021-07-05T23:09:24.906Z"
   },
   {
    "duration": 24,
    "start_time": "2021-07-05T23:09:24.917Z"
   },
   {
    "duration": 18,
    "start_time": "2021-07-05T23:09:24.946Z"
   },
   {
    "duration": 21,
    "start_time": "2021-07-05T23:09:24.988Z"
   },
   {
    "duration": 6,
    "start_time": "2021-07-05T23:09:25.012Z"
   },
   {
    "duration": 19,
    "start_time": "2021-07-05T23:09:25.021Z"
   },
   {
    "duration": 23,
    "start_time": "2021-07-05T23:09:25.043Z"
   },
   {
    "duration": 21,
    "start_time": "2021-07-05T23:09:25.069Z"
   },
   {
    "duration": 15,
    "start_time": "2021-07-05T23:09:25.093Z"
   },
   {
    "duration": 13,
    "start_time": "2021-07-05T23:09:25.110Z"
   },
   {
    "duration": 24,
    "start_time": "2021-07-05T23:09:25.125Z"
   },
   {
    "duration": 23,
    "start_time": "2021-07-05T23:09:25.151Z"
   },
   {
    "duration": 11,
    "start_time": "2021-07-05T23:09:25.186Z"
   },
   {
    "duration": 18,
    "start_time": "2021-07-05T23:09:25.199Z"
   },
   {
    "duration": 24,
    "start_time": "2021-07-05T23:09:25.219Z"
   },
   {
    "duration": 33,
    "start_time": "2021-07-05T23:09:25.246Z"
   },
   {
    "duration": 22,
    "start_time": "2021-07-05T23:09:25.281Z"
   },
   {
    "duration": 17,
    "start_time": "2021-07-05T23:09:25.306Z"
   },
   {
    "duration": 6,
    "start_time": "2021-07-05T23:10:38.298Z"
   },
   {
    "duration": 8,
    "start_time": "2021-07-05T23:10:57.482Z"
   },
   {
    "duration": 14,
    "start_time": "2021-07-05T23:11:42.678Z"
   },
   {
    "duration": 20,
    "start_time": "2021-07-05T23:12:01.357Z"
   },
   {
    "duration": 10,
    "start_time": "2021-07-05T23:14:56.229Z"
   },
   {
    "duration": 770,
    "start_time": "2021-07-05T23:15:34.963Z"
   },
   {
    "duration": 69,
    "start_time": "2021-07-05T23:15:35.736Z"
   },
   {
    "duration": 16,
    "start_time": "2021-07-05T23:15:35.807Z"
   },
   {
    "duration": 29,
    "start_time": "2021-07-05T23:15:35.826Z"
   },
   {
    "duration": 68,
    "start_time": "2021-07-05T23:15:35.857Z"
   },
   {
    "duration": 4,
    "start_time": "2021-07-05T23:15:35.928Z"
   },
   {
    "duration": 14,
    "start_time": "2021-07-05T23:15:35.935Z"
   },
   {
    "duration": 38,
    "start_time": "2021-07-05T23:15:35.953Z"
   },
   {
    "duration": 18,
    "start_time": "2021-07-05T23:15:35.995Z"
   },
   {
    "duration": 75,
    "start_time": "2021-07-05T23:15:36.016Z"
   },
   {
    "duration": 58,
    "start_time": "2021-07-05T23:15:36.093Z"
   },
   {
    "duration": 12,
    "start_time": "2021-07-05T23:15:36.154Z"
   },
   {
    "duration": 8,
    "start_time": "2021-07-05T23:15:36.186Z"
   },
   {
    "duration": 26,
    "start_time": "2021-07-05T23:15:36.197Z"
   },
   {
    "duration": 10,
    "start_time": "2021-07-05T23:15:36.226Z"
   },
   {
    "duration": 8,
    "start_time": "2021-07-05T23:15:36.239Z"
   },
   {
    "duration": 9,
    "start_time": "2021-07-05T23:15:36.249Z"
   },
   {
    "duration": 29,
    "start_time": "2021-07-05T23:15:36.260Z"
   },
   {
    "duration": 22,
    "start_time": "2021-07-05T23:15:36.292Z"
   },
   {
    "duration": 10,
    "start_time": "2021-07-05T23:15:36.317Z"
   },
   {
    "duration": 7,
    "start_time": "2021-07-05T23:15:36.330Z"
   },
   {
    "duration": 51,
    "start_time": "2021-07-05T23:15:36.340Z"
   },
   {
    "duration": 9,
    "start_time": "2021-07-05T23:15:36.399Z"
   },
   {
    "duration": 21,
    "start_time": "2021-07-05T23:15:36.412Z"
   },
   {
    "duration": 6,
    "start_time": "2021-07-05T23:15:36.436Z"
   },
   {
    "duration": 47,
    "start_time": "2021-07-05T23:15:36.445Z"
   },
   {
    "duration": 14,
    "start_time": "2021-07-05T23:15:36.494Z"
   },
   {
    "duration": 11,
    "start_time": "2021-07-05T23:15:36.511Z"
   },
   {
    "duration": 17,
    "start_time": "2021-07-05T23:15:36.525Z"
   },
   {
    "duration": 41,
    "start_time": "2021-07-05T23:15:36.544Z"
   },
   {
    "duration": 9,
    "start_time": "2021-07-05T23:15:36.587Z"
   },
   {
    "duration": 19,
    "start_time": "2021-07-05T23:15:36.599Z"
   },
   {
    "duration": 13,
    "start_time": "2021-07-05T23:15:36.620Z"
   },
   {
    "duration": 16,
    "start_time": "2021-07-05T23:15:36.635Z"
   },
   {
    "duration": 39,
    "start_time": "2021-07-05T23:15:36.653Z"
   },
   {
    "duration": 20,
    "start_time": "2021-07-05T23:15:36.695Z"
   },
   {
    "duration": 15,
    "start_time": "2021-07-05T23:15:36.718Z"
   },
   {
    "duration": 9,
    "start_time": "2021-07-05T23:15:36.736Z"
   },
   {
    "duration": 49,
    "start_time": "2021-07-05T23:15:36.747Z"
   },
   {
    "duration": 23,
    "start_time": "2021-07-05T23:15:36.799Z"
   },
   {
    "duration": 9,
    "start_time": "2021-07-05T23:15:36.825Z"
   },
   {
    "duration": 13,
    "start_time": "2021-07-05T23:15:36.836Z"
   },
   {
    "duration": 767,
    "start_time": "2021-07-05T23:21:47.996Z"
   },
   {
    "duration": 66,
    "start_time": "2021-07-05T23:21:48.765Z"
   },
   {
    "duration": 15,
    "start_time": "2021-07-05T23:21:48.834Z"
   },
   {
    "duration": 47,
    "start_time": "2021-07-05T23:21:48.852Z"
   },
   {
    "duration": 49,
    "start_time": "2021-07-05T23:21:48.901Z"
   },
   {
    "duration": 4,
    "start_time": "2021-07-05T23:21:48.953Z"
   },
   {
    "duration": 30,
    "start_time": "2021-07-05T23:21:48.959Z"
   },
   {
    "duration": 14,
    "start_time": "2021-07-05T23:21:48.993Z"
   },
   {
    "duration": 12,
    "start_time": "2021-07-05T23:21:49.014Z"
   },
   {
    "duration": 92,
    "start_time": "2021-07-05T23:21:49.028Z"
   },
   {
    "duration": 64,
    "start_time": "2021-07-05T23:21:49.123Z"
   },
   {
    "duration": 12,
    "start_time": "2021-07-05T23:21:49.189Z"
   },
   {
    "duration": 25,
    "start_time": "2021-07-05T23:21:49.204Z"
   },
   {
    "duration": 16,
    "start_time": "2021-07-05T23:21:49.231Z"
   },
   {
    "duration": 22,
    "start_time": "2021-07-05T23:21:49.250Z"
   },
   {
    "duration": 13,
    "start_time": "2021-07-05T23:21:49.275Z"
   },
   {
    "duration": 19,
    "start_time": "2021-07-05T23:21:49.290Z"
   },
   {
    "duration": 26,
    "start_time": "2021-07-05T23:21:49.312Z"
   },
   {
    "duration": 32,
    "start_time": "2021-07-05T23:21:49.340Z"
   },
   {
    "duration": 20,
    "start_time": "2021-07-05T23:21:49.374Z"
   },
   {
    "duration": 9,
    "start_time": "2021-07-05T23:21:49.397Z"
   },
   {
    "duration": 21,
    "start_time": "2021-07-05T23:21:49.409Z"
   },
   {
    "duration": 10,
    "start_time": "2021-07-05T23:21:49.435Z"
   },
   {
    "duration": 19,
    "start_time": "2021-07-05T23:21:49.448Z"
   },
   {
    "duration": 20,
    "start_time": "2021-07-05T23:21:49.469Z"
   },
   {
    "duration": 16,
    "start_time": "2021-07-05T23:21:49.491Z"
   },
   {
    "duration": 22,
    "start_time": "2021-07-05T23:21:49.509Z"
   },
   {
    "duration": 27,
    "start_time": "2021-07-05T23:21:49.533Z"
   },
   {
    "duration": 35,
    "start_time": "2021-07-05T23:21:49.563Z"
   },
   {
    "duration": 11,
    "start_time": "2021-07-05T23:21:49.600Z"
   },
   {
    "duration": 14,
    "start_time": "2021-07-05T23:21:49.614Z"
   },
   {
    "duration": 25,
    "start_time": "2021-07-05T23:21:49.630Z"
   },
   {
    "duration": 20,
    "start_time": "2021-07-05T23:21:49.657Z"
   },
   {
    "duration": 23,
    "start_time": "2021-07-05T23:21:49.680Z"
   },
   {
    "duration": 18,
    "start_time": "2021-07-05T23:21:49.705Z"
   },
   {
    "duration": 32,
    "start_time": "2021-07-05T23:21:49.726Z"
   },
   {
    "duration": 21,
    "start_time": "2021-07-05T23:21:49.761Z"
   },
   {
    "duration": 12,
    "start_time": "2021-07-05T23:21:49.785Z"
   },
   {
    "duration": 12,
    "start_time": "2021-07-05T23:21:49.799Z"
   },
   {
    "duration": 37,
    "start_time": "2021-07-05T23:21:49.814Z"
   },
   {
    "duration": 17,
    "start_time": "2021-07-05T23:21:49.854Z"
   },
   {
    "duration": 30,
    "start_time": "2021-07-05T23:21:49.873Z"
   },
   {
    "duration": 7,
    "start_time": "2021-07-05T23:24:22.868Z"
   },
   {
    "duration": 787,
    "start_time": "2021-07-05T23:25:14.249Z"
   },
   {
    "duration": 70,
    "start_time": "2021-07-05T23:25:15.039Z"
   },
   {
    "duration": 16,
    "start_time": "2021-07-05T23:25:15.112Z"
   },
   {
    "duration": 36,
    "start_time": "2021-07-05T23:25:15.131Z"
   },
   {
    "duration": 47,
    "start_time": "2021-07-05T23:25:15.186Z"
   },
   {
    "duration": 4,
    "start_time": "2021-07-05T23:25:15.236Z"
   },
   {
    "duration": 24,
    "start_time": "2021-07-05T23:25:15.242Z"
   },
   {
    "duration": 12,
    "start_time": "2021-07-05T23:25:15.287Z"
   },
   {
    "duration": 26,
    "start_time": "2021-07-05T23:25:15.302Z"
   },
   {
    "duration": 80,
    "start_time": "2021-07-05T23:25:15.331Z"
   },
   {
    "duration": 57,
    "start_time": "2021-07-05T23:25:15.413Z"
   },
   {
    "duration": 13,
    "start_time": "2021-07-05T23:25:15.485Z"
   },
   {
    "duration": 12,
    "start_time": "2021-07-05T23:25:15.500Z"
   },
   {
    "duration": 13,
    "start_time": "2021-07-05T23:25:15.514Z"
   },
   {
    "duration": 18,
    "start_time": "2021-07-05T23:25:15.529Z"
   },
   {
    "duration": 38,
    "start_time": "2021-07-05T23:25:15.549Z"
   },
   {
    "duration": 25,
    "start_time": "2021-07-05T23:25:15.589Z"
   },
   {
    "duration": 27,
    "start_time": "2021-07-05T23:25:15.617Z"
   },
   {
    "duration": 39,
    "start_time": "2021-07-05T23:25:15.646Z"
   },
   {
    "duration": 8,
    "start_time": "2021-07-05T23:25:15.688Z"
   },
   {
    "duration": 30,
    "start_time": "2021-07-05T23:25:15.699Z"
   },
   {
    "duration": 24,
    "start_time": "2021-07-05T23:25:15.732Z"
   },
   {
    "duration": 11,
    "start_time": "2021-07-05T23:25:15.761Z"
   },
   {
    "duration": 30,
    "start_time": "2021-07-05T23:25:15.775Z"
   },
   {
    "duration": 14,
    "start_time": "2021-07-05T23:25:15.808Z"
   },
   {
    "duration": 26,
    "start_time": "2021-07-05T23:25:15.824Z"
   },
   {
    "duration": 19,
    "start_time": "2021-07-05T23:25:15.852Z"
   },
   {
    "duration": 27,
    "start_time": "2021-07-05T23:25:15.874Z"
   },
   {
    "duration": 7,
    "start_time": "2021-07-05T23:25:15.904Z"
   },
   {
    "duration": 15,
    "start_time": "2021-07-05T23:25:15.914Z"
   },
   {
    "duration": 22,
    "start_time": "2021-07-05T23:25:15.932Z"
   },
   {
    "duration": 24,
    "start_time": "2021-07-05T23:25:15.957Z"
   },
   {
    "duration": 21,
    "start_time": "2021-07-05T23:25:15.984Z"
   },
   {
    "duration": 11,
    "start_time": "2021-07-05T23:25:16.008Z"
   },
   {
    "duration": 18,
    "start_time": "2021-07-05T23:25:16.021Z"
   },
   {
    "duration": 26,
    "start_time": "2021-07-05T23:25:16.041Z"
   },
   {
    "duration": 16,
    "start_time": "2021-07-05T23:25:16.069Z"
   },
   {
    "duration": 8,
    "start_time": "2021-07-05T23:25:16.088Z"
   },
   {
    "duration": 18,
    "start_time": "2021-07-05T23:25:16.099Z"
   },
   {
    "duration": 35,
    "start_time": "2021-07-05T23:25:16.120Z"
   },
   {
    "duration": 9,
    "start_time": "2021-07-05T23:25:16.158Z"
   },
   {
    "duration": 23,
    "start_time": "2021-07-05T23:25:16.169Z"
   },
   {
    "duration": 17,
    "start_time": "2021-07-05T23:25:16.195Z"
   },
   {
    "duration": 6,
    "start_time": "2021-07-05T23:33:40.161Z"
   },
   {
    "duration": 408,
    "start_time": "2021-07-05T23:33:50.152Z"
   },
   {
    "duration": 5,
    "start_time": "2021-07-05T23:33:56.647Z"
   },
   {
    "duration": 6,
    "start_time": "2021-07-05T23:37:27.986Z"
   },
   {
    "duration": 5,
    "start_time": "2021-07-05T23:37:37.795Z"
   },
   {
    "duration": 773,
    "start_time": "2021-07-05T23:39:18.079Z"
   },
   {
    "duration": 67,
    "start_time": "2021-07-05T23:39:18.854Z"
   },
   {
    "duration": 16,
    "start_time": "2021-07-05T23:39:18.924Z"
   },
   {
    "duration": 46,
    "start_time": "2021-07-05T23:39:18.944Z"
   },
   {
    "duration": 91,
    "start_time": "2021-07-05T23:39:18.994Z"
   },
   {
    "duration": 5,
    "start_time": "2021-07-05T23:39:19.087Z"
   },
   {
    "duration": 10,
    "start_time": "2021-07-05T23:39:19.094Z"
   },
   {
    "duration": 15,
    "start_time": "2021-07-05T23:39:19.108Z"
   },
   {
    "duration": 9,
    "start_time": "2021-07-05T23:39:19.126Z"
   },
   {
    "duration": 101,
    "start_time": "2021-07-05T23:39:19.137Z"
   },
   {
    "duration": 63,
    "start_time": "2021-07-05T23:39:19.240Z"
   },
   {
    "duration": 12,
    "start_time": "2021-07-05T23:39:19.306Z"
   },
   {
    "duration": 10,
    "start_time": "2021-07-05T23:39:19.321Z"
   },
   {
    "duration": 13,
    "start_time": "2021-07-05T23:39:19.333Z"
   },
   {
    "duration": 37,
    "start_time": "2021-07-05T23:39:19.348Z"
   },
   {
    "duration": 5,
    "start_time": "2021-07-05T23:39:19.388Z"
   },
   {
    "duration": 12,
    "start_time": "2021-07-05T23:39:19.395Z"
   },
   {
    "duration": 11,
    "start_time": "2021-07-05T23:39:19.410Z"
   },
   {
    "duration": 16,
    "start_time": "2021-07-05T23:39:19.423Z"
   },
   {
    "duration": 9,
    "start_time": "2021-07-05T23:39:19.441Z"
   },
   {
    "duration": 7,
    "start_time": "2021-07-05T23:39:19.485Z"
   },
   {
    "duration": 12,
    "start_time": "2021-07-05T23:39:19.494Z"
   },
   {
    "duration": 11,
    "start_time": "2021-07-05T23:39:19.511Z"
   },
   {
    "duration": 17,
    "start_time": "2021-07-05T23:39:19.525Z"
   },
   {
    "duration": 40,
    "start_time": "2021-07-05T23:39:19.545Z"
   },
   {
    "duration": 7,
    "start_time": "2021-07-05T23:39:19.588Z"
   },
   {
    "duration": 14,
    "start_time": "2021-07-05T23:39:19.597Z"
   },
   {
    "duration": 11,
    "start_time": "2021-07-05T23:39:19.614Z"
   },
   {
    "duration": 7,
    "start_time": "2021-07-05T23:39:19.627Z"
   },
   {
    "duration": 14,
    "start_time": "2021-07-05T23:39:19.636Z"
   },
   {
    "duration": 38,
    "start_time": "2021-07-05T23:39:19.652Z"
   },
   {
    "duration": 16,
    "start_time": "2021-07-05T23:39:19.693Z"
   },
   {
    "duration": 13,
    "start_time": "2021-07-05T23:39:19.711Z"
   },
   {
    "duration": 13,
    "start_time": "2021-07-05T23:39:19.727Z"
   },
   {
    "duration": 14,
    "start_time": "2021-07-05T23:39:19.742Z"
   },
   {
    "duration": 42,
    "start_time": "2021-07-05T23:39:19.758Z"
   },
   {
    "duration": 18,
    "start_time": "2021-07-05T23:39:19.803Z"
   },
   {
    "duration": 9,
    "start_time": "2021-07-05T23:39:19.824Z"
   },
   {
    "duration": 13,
    "start_time": "2021-07-05T23:39:19.835Z"
   },
   {
    "duration": 46,
    "start_time": "2021-07-05T23:39:19.850Z"
   },
   {
    "duration": 9,
    "start_time": "2021-07-05T23:39:19.898Z"
   },
   {
    "duration": 13,
    "start_time": "2021-07-05T23:39:19.910Z"
   },
   {
    "duration": 9,
    "start_time": "2021-07-05T23:39:19.926Z"
   },
   {
    "duration": 12,
    "start_time": "2021-07-05T23:39:19.937Z"
   },
   {
    "duration": 34,
    "start_time": "2021-07-05T23:39:19.951Z"
   },
   {
    "duration": 9,
    "start_time": "2021-07-05T23:42:02.926Z"
   },
   {
    "duration": 771,
    "start_time": "2021-07-05T23:47:40.482Z"
   },
   {
    "duration": 66,
    "start_time": "2021-07-05T23:47:41.255Z"
   },
   {
    "duration": 14,
    "start_time": "2021-07-05T23:47:41.324Z"
   },
   {
    "duration": 28,
    "start_time": "2021-07-05T23:47:41.341Z"
   },
   {
    "duration": 60,
    "start_time": "2021-07-05T23:47:41.371Z"
   },
   {
    "duration": 4,
    "start_time": "2021-07-05T23:47:41.433Z"
   },
   {
    "duration": 14,
    "start_time": "2021-07-05T23:47:41.439Z"
   },
   {
    "duration": 37,
    "start_time": "2021-07-05T23:47:41.457Z"
   },
   {
    "duration": 22,
    "start_time": "2021-07-05T23:47:41.497Z"
   },
   {
    "duration": 65,
    "start_time": "2021-07-05T23:47:41.521Z"
   },
   {
    "duration": 58,
    "start_time": "2021-07-05T23:47:41.588Z"
   },
   {
    "duration": 11,
    "start_time": "2021-07-05T23:47:41.649Z"
   },
   {
    "duration": 29,
    "start_time": "2021-07-05T23:47:41.662Z"
   },
   {
    "duration": 11,
    "start_time": "2021-07-05T23:47:41.693Z"
   },
   {
    "duration": 9,
    "start_time": "2021-07-05T23:47:41.706Z"
   },
   {
    "duration": 14,
    "start_time": "2021-07-05T23:47:41.717Z"
   },
   {
    "duration": 12,
    "start_time": "2021-07-05T23:47:41.733Z"
   },
   {
    "duration": 13,
    "start_time": "2021-07-05T23:47:41.747Z"
   },
   {
    "duration": 13,
    "start_time": "2021-07-05T23:47:41.786Z"
   },
   {
    "duration": 11,
    "start_time": "2021-07-05T23:47:41.801Z"
   },
   {
    "duration": 8,
    "start_time": "2021-07-05T23:47:41.814Z"
   },
   {
    "duration": 21,
    "start_time": "2021-07-05T23:47:41.824Z"
   },
   {
    "duration": 38,
    "start_time": "2021-07-05T23:47:41.851Z"
   },
   {
    "duration": 16,
    "start_time": "2021-07-05T23:47:41.892Z"
   },
   {
    "duration": 5,
    "start_time": "2021-07-05T23:47:41.911Z"
   },
   {
    "duration": 12,
    "start_time": "2021-07-05T23:47:41.918Z"
   },
   {
    "duration": 12,
    "start_time": "2021-07-05T23:47:41.933Z"
   },
   {
    "duration": 42,
    "start_time": "2021-07-05T23:47:41.948Z"
   },
   {
    "duration": 4,
    "start_time": "2021-07-05T23:47:41.993Z"
   },
   {
    "duration": 11,
    "start_time": "2021-07-05T23:47:41.999Z"
   },
   {
    "duration": 13,
    "start_time": "2021-07-05T23:47:42.012Z"
   },
   {
    "duration": 21,
    "start_time": "2021-07-05T23:47:42.027Z"
   },
   {
    "duration": 7,
    "start_time": "2021-07-05T23:47:42.050Z"
   },
   {
    "duration": 31,
    "start_time": "2021-07-05T23:47:42.059Z"
   },
   {
    "duration": 10,
    "start_time": "2021-07-05T23:47:42.092Z"
   },
   {
    "duration": 19,
    "start_time": "2021-07-05T23:47:42.104Z"
   },
   {
    "duration": 14,
    "start_time": "2021-07-05T23:47:42.125Z"
   },
   {
    "duration": 8,
    "start_time": "2021-07-05T23:47:42.141Z"
   },
   {
    "duration": 41,
    "start_time": "2021-07-05T23:47:42.151Z"
   },
   {
    "duration": 22,
    "start_time": "2021-07-05T23:47:42.194Z"
   },
   {
    "duration": 8,
    "start_time": "2021-07-05T23:47:42.218Z"
   },
   {
    "duration": 11,
    "start_time": "2021-07-05T23:47:42.229Z"
   },
   {
    "duration": 44,
    "start_time": "2021-07-05T23:47:42.243Z"
   },
   {
    "duration": 5,
    "start_time": "2021-07-05T23:47:42.290Z"
   },
   {
    "duration": 8,
    "start_time": "2021-07-05T23:47:42.298Z"
   },
   {
    "duration": 14,
    "start_time": "2021-07-05T23:47:42.308Z"
   },
   {
    "duration": 24,
    "start_time": "2021-07-05T23:50:14.829Z"
   },
   {
    "duration": 23,
    "start_time": "2021-07-05T23:51:27.176Z"
   },
   {
    "duration": 44,
    "start_time": "2021-07-05T23:51:27.746Z"
   },
   {
    "duration": 738,
    "start_time": "2021-07-05T23:57:24.803Z"
   },
   {
    "duration": 66,
    "start_time": "2021-07-05T23:57:25.543Z"
   },
   {
    "duration": 14,
    "start_time": "2021-07-05T23:57:25.612Z"
   },
   {
    "duration": 27,
    "start_time": "2021-07-05T23:57:25.630Z"
   },
   {
    "duration": 73,
    "start_time": "2021-07-05T23:57:25.660Z"
   },
   {
    "duration": 4,
    "start_time": "2021-07-05T23:57:25.735Z"
   },
   {
    "duration": 11,
    "start_time": "2021-07-05T23:57:25.742Z"
   },
   {
    "duration": 34,
    "start_time": "2021-07-05T23:57:25.757Z"
   },
   {
    "duration": 10,
    "start_time": "2021-07-05T23:57:25.794Z"
   },
   {
    "duration": 80,
    "start_time": "2021-07-05T23:57:25.806Z"
   },
   {
    "duration": 56,
    "start_time": "2021-07-05T23:57:25.889Z"
   },
   {
    "duration": 12,
    "start_time": "2021-07-05T23:57:25.947Z"
   },
   {
    "duration": 29,
    "start_time": "2021-07-05T23:57:25.962Z"
   },
   {
    "duration": 11,
    "start_time": "2021-07-05T23:57:25.994Z"
   },
   {
    "duration": 10,
    "start_time": "2021-07-05T23:57:26.008Z"
   },
   {
    "duration": 9,
    "start_time": "2021-07-05T23:57:26.021Z"
   },
   {
    "duration": 10,
    "start_time": "2021-07-05T23:57:26.032Z"
   },
   {
    "duration": 41,
    "start_time": "2021-07-05T23:57:26.044Z"
   },
   {
    "duration": 18,
    "start_time": "2021-07-05T23:57:26.088Z"
   },
   {
    "duration": 8,
    "start_time": "2021-07-05T23:57:26.109Z"
   },
   {
    "duration": 7,
    "start_time": "2021-07-05T23:57:26.119Z"
   },
   {
    "duration": 11,
    "start_time": "2021-07-05T23:57:26.128Z"
   },
   {
    "duration": 42,
    "start_time": "2021-07-05T23:57:26.144Z"
   },
   {
    "duration": 16,
    "start_time": "2021-07-05T23:57:26.190Z"
   },
   {
    "duration": 5,
    "start_time": "2021-07-05T23:57:26.209Z"
   },
   {
    "duration": 9,
    "start_time": "2021-07-05T23:57:26.217Z"
   },
   {
    "duration": 12,
    "start_time": "2021-07-05T23:57:26.228Z"
   },
   {
    "duration": 47,
    "start_time": "2021-07-05T23:57:26.242Z"
   },
   {
    "duration": 3,
    "start_time": "2021-07-05T23:57:26.292Z"
   },
   {
    "duration": 9,
    "start_time": "2021-07-05T23:57:26.298Z"
   },
   {
    "duration": 17,
    "start_time": "2021-07-05T23:57:26.310Z"
   },
   {
    "duration": 18,
    "start_time": "2021-07-05T23:57:26.330Z"
   },
   {
    "duration": 35,
    "start_time": "2021-07-05T23:57:26.350Z"
   },
   {
    "duration": 5,
    "start_time": "2021-07-05T23:57:26.388Z"
   },
   {
    "duration": 12,
    "start_time": "2021-07-05T23:57:26.395Z"
   },
   {
    "duration": 22,
    "start_time": "2021-07-05T23:57:26.410Z"
   },
   {
    "duration": 8,
    "start_time": "2021-07-05T23:57:26.435Z"
   },
   {
    "duration": 9,
    "start_time": "2021-07-05T23:57:26.445Z"
   },
   {
    "duration": 8,
    "start_time": "2021-07-05T23:57:26.486Z"
   },
   {
    "duration": 29,
    "start_time": "2021-07-05T23:57:26.497Z"
   },
   {
    "duration": 8,
    "start_time": "2021-07-05T23:57:26.528Z"
   },
   {
    "duration": 23,
    "start_time": "2021-07-05T23:57:26.538Z"
   },
   {
    "duration": 24,
    "start_time": "2021-07-05T23:57:26.563Z"
   },
   {
    "duration": 4,
    "start_time": "2021-07-05T23:57:26.590Z"
   },
   {
    "duration": 14,
    "start_time": "2021-07-05T23:57:26.597Z"
   },
   {
    "duration": 15,
    "start_time": "2021-07-05T23:57:26.613Z"
   },
   {
    "duration": 28,
    "start_time": "2021-07-05T23:57:26.631Z"
   },
   {
    "duration": 46,
    "start_time": "2021-07-05T23:57:26.686Z"
   },
   {
    "duration": 386,
    "start_time": "2021-07-06T10:50:03.382Z"
   },
   {
    "duration": 743,
    "start_time": "2021-07-06T10:50:24.230Z"
   },
   {
    "duration": 72,
    "start_time": "2021-07-06T10:50:24.976Z"
   },
   {
    "duration": 23,
    "start_time": "2021-07-06T10:50:25.052Z"
   },
   {
    "duration": 34,
    "start_time": "2021-07-06T10:50:25.085Z"
   },
   {
    "duration": 74,
    "start_time": "2021-07-06T10:50:25.122Z"
   },
   {
    "duration": 5,
    "start_time": "2021-07-06T10:50:25.199Z"
   },
   {
    "duration": 13,
    "start_time": "2021-07-06T10:50:25.208Z"
   },
   {
    "duration": 20,
    "start_time": "2021-07-06T10:50:25.226Z"
   },
   {
    "duration": 42,
    "start_time": "2021-07-06T10:50:25.250Z"
   },
   {
    "duration": 70,
    "start_time": "2021-07-06T10:50:25.294Z"
   },
   {
    "duration": 74,
    "start_time": "2021-07-06T10:50:25.366Z"
   },
   {
    "duration": 11,
    "start_time": "2021-07-06T10:50:25.443Z"
   },
   {
    "duration": 30,
    "start_time": "2021-07-06T10:50:25.457Z"
   },
   {
    "duration": 8,
    "start_time": "2021-07-06T10:50:25.489Z"
   },
   {
    "duration": 18,
    "start_time": "2021-07-06T10:50:25.499Z"
   },
   {
    "duration": 11,
    "start_time": "2021-07-06T10:50:25.519Z"
   },
   {
    "duration": 8,
    "start_time": "2021-07-06T10:50:25.532Z"
   },
   {
    "duration": 10,
    "start_time": "2021-07-06T10:50:25.542Z"
   },
   {
    "duration": 41,
    "start_time": "2021-07-06T10:50:25.554Z"
   },
   {
    "duration": 8,
    "start_time": "2021-07-06T10:50:25.598Z"
   },
   {
    "duration": 13,
    "start_time": "2021-07-06T10:50:25.608Z"
   },
   {
    "duration": 10,
    "start_time": "2021-07-06T10:50:25.624Z"
   },
   {
    "duration": 10,
    "start_time": "2021-07-06T10:50:25.640Z"
   },
   {
    "duration": 17,
    "start_time": "2021-07-06T10:50:25.687Z"
   },
   {
    "duration": 6,
    "start_time": "2021-07-06T10:50:25.706Z"
   },
   {
    "duration": 11,
    "start_time": "2021-07-06T10:50:25.714Z"
   },
   {
    "duration": 11,
    "start_time": "2021-07-06T10:50:25.727Z"
   },
   {
    "duration": 49,
    "start_time": "2021-07-06T10:50:25.741Z"
   },
   {
    "duration": 5,
    "start_time": "2021-07-06T10:50:25.793Z"
   },
   {
    "duration": 14,
    "start_time": "2021-07-06T10:50:25.800Z"
   },
   {
    "duration": 8,
    "start_time": "2021-07-06T10:50:25.816Z"
   },
   {
    "duration": 19,
    "start_time": "2021-07-06T10:50:25.827Z"
   },
   {
    "duration": 42,
    "start_time": "2021-07-06T10:50:25.848Z"
   },
   {
    "duration": 10,
    "start_time": "2021-07-06T10:50:25.892Z"
   },
   {
    "duration": 8,
    "start_time": "2021-07-06T10:50:25.904Z"
   },
   {
    "duration": 20,
    "start_time": "2021-07-06T10:50:25.915Z"
   },
   {
    "duration": 12,
    "start_time": "2021-07-06T10:50:25.938Z"
   },
   {
    "duration": 35,
    "start_time": "2021-07-06T10:50:25.952Z"
   },
   {
    "duration": 10,
    "start_time": "2021-07-06T10:50:25.989Z"
   },
   {
    "duration": 25,
    "start_time": "2021-07-06T10:50:26.001Z"
   },
   {
    "duration": 9,
    "start_time": "2021-07-06T10:50:26.028Z"
   },
   {
    "duration": 17,
    "start_time": "2021-07-06T10:50:26.039Z"
   },
   {
    "duration": 32,
    "start_time": "2021-07-06T10:50:26.058Z"
   },
   {
    "duration": 7,
    "start_time": "2021-07-06T10:50:26.093Z"
   },
   {
    "duration": 9,
    "start_time": "2021-07-06T10:50:26.103Z"
   },
   {
    "duration": 19,
    "start_time": "2021-07-06T10:50:26.114Z"
   },
   {
    "duration": 56,
    "start_time": "2021-07-06T10:50:26.135Z"
   },
   {
    "duration": 47,
    "start_time": "2021-07-06T10:50:26.194Z"
   },
   {
    "duration": 6,
    "start_time": "2021-07-06T10:50:26.243Z"
   },
   {
    "duration": 5,
    "start_time": "2021-07-06T10:50:26.251Z"
   },
   {
    "duration": 394,
    "start_time": "2021-07-06T10:50:26.285Z"
   },
   {
    "duration": 905,
    "start_time": "2021-07-06T11:04:41.663Z"
   },
   {
    "duration": 8,
    "start_time": "2021-07-06T11:04:56.413Z"
   },
   {
    "duration": 9,
    "start_time": "2021-07-06T11:19:31.936Z"
   },
   {
    "duration": 29,
    "start_time": "2021-07-06T11:25:17.089Z"
   },
   {
    "duration": 23,
    "start_time": "2021-07-06T11:25:39.039Z"
   },
   {
    "duration": 8,
    "start_time": "2021-07-06T11:25:53.025Z"
   },
   {
    "duration": 2904,
    "start_time": "2021-07-06T11:27:32.235Z"
   },
   {
    "duration": 2835,
    "start_time": "2021-07-06T11:27:38.225Z"
   },
   {
    "duration": 33,
    "start_time": "2021-07-06T11:28:27.555Z"
   },
   {
    "duration": 14,
    "start_time": "2021-07-06T11:28:40.985Z"
   },
   {
    "duration": 310,
    "start_time": "2021-07-06T11:28:43.845Z"
   },
   {
    "duration": 346,
    "start_time": "2021-07-06T11:29:10.275Z"
   },
   {
    "duration": 285,
    "start_time": "2021-07-06T11:29:25.565Z"
   },
   {
    "duration": 24,
    "start_time": "2021-07-06T11:29:35.592Z"
   },
   {
    "duration": 6,
    "start_time": "2021-07-06T11:30:00.656Z"
   },
   {
    "duration": 2462,
    "start_time": "2021-07-06T11:32:29.505Z"
   },
   {
    "duration": 2208,
    "start_time": "2021-07-06T11:32:40.785Z"
   },
   {
    "duration": 2196,
    "start_time": "2021-07-06T11:33:34.845Z"
   },
   {
    "duration": 22,
    "start_time": "2021-07-06T11:34:54.905Z"
   },
   {
    "duration": 19,
    "start_time": "2021-07-06T11:45:24.125Z"
   },
   {
    "duration": 8,
    "start_time": "2021-07-06T11:47:34.965Z"
   },
   {
    "duration": 10,
    "start_time": "2021-07-06T11:48:02.936Z"
   },
   {
    "duration": 148,
    "start_time": "2021-07-06T11:49:07.896Z"
   },
   {
    "duration": 14,
    "start_time": "2021-07-06T11:58:59.395Z"
   },
   {
    "duration": 14,
    "start_time": "2021-07-06T11:59:47.465Z"
   },
   {
    "duration": 6,
    "start_time": "2021-07-06T11:59:57.727Z"
   },
   {
    "duration": 15,
    "start_time": "2021-07-06T11:59:58.295Z"
   },
   {
    "duration": 321,
    "start_time": "2021-07-06T12:50:53.279Z"
   },
   {
    "duration": 13,
    "start_time": "2021-07-06T12:51:17.407Z"
   },
   {
    "duration": 907,
    "start_time": "2021-07-06T12:51:31.602Z"
   },
   {
    "duration": 71,
    "start_time": "2021-07-06T12:51:32.512Z"
   },
   {
    "duration": 21,
    "start_time": "2021-07-06T12:51:32.587Z"
   },
   {
    "duration": 30,
    "start_time": "2021-07-06T12:51:32.611Z"
   },
   {
    "duration": 80,
    "start_time": "2021-07-06T12:51:32.644Z"
   },
   {
    "duration": 5,
    "start_time": "2021-07-06T12:51:32.726Z"
   },
   {
    "duration": 13,
    "start_time": "2021-07-06T12:51:32.733Z"
   },
   {
    "duration": 38,
    "start_time": "2021-07-06T12:51:32.750Z"
   },
   {
    "duration": 13,
    "start_time": "2021-07-06T12:51:32.791Z"
   },
   {
    "duration": 92,
    "start_time": "2021-07-06T12:51:32.808Z"
   },
   {
    "duration": 59,
    "start_time": "2021-07-06T12:51:32.902Z"
   },
   {
    "duration": 25,
    "start_time": "2021-07-06T12:51:32.964Z"
   },
   {
    "duration": 10,
    "start_time": "2021-07-06T12:51:32.992Z"
   },
   {
    "duration": 11,
    "start_time": "2021-07-06T12:51:33.005Z"
   },
   {
    "duration": 12,
    "start_time": "2021-07-06T12:51:33.019Z"
   },
   {
    "duration": 9,
    "start_time": "2021-07-06T12:51:33.033Z"
   },
   {
    "duration": 46,
    "start_time": "2021-07-06T12:51:33.044Z"
   },
   {
    "duration": 26,
    "start_time": "2021-07-06T12:51:33.094Z"
   },
   {
    "duration": 17,
    "start_time": "2021-07-06T12:51:33.122Z"
   },
   {
    "duration": 8,
    "start_time": "2021-07-06T12:51:33.141Z"
   },
   {
    "duration": 16,
    "start_time": "2021-07-06T12:51:33.152Z"
   },
   {
    "duration": 24,
    "start_time": "2021-07-06T12:51:33.171Z"
   },
   {
    "duration": 24,
    "start_time": "2021-07-06T12:51:33.201Z"
   },
   {
    "duration": 19,
    "start_time": "2021-07-06T12:51:33.228Z"
   },
   {
    "duration": 6,
    "start_time": "2021-07-06T12:51:33.249Z"
   },
   {
    "duration": 9,
    "start_time": "2021-07-06T12:51:33.286Z"
   },
   {
    "duration": 16,
    "start_time": "2021-07-06T12:51:33.298Z"
   },
   {
    "duration": 14,
    "start_time": "2021-07-06T12:51:33.317Z"
   },
   {
    "duration": 5,
    "start_time": "2021-07-06T12:51:33.333Z"
   },
   {
    "duration": 11,
    "start_time": "2021-07-06T12:51:33.340Z"
   },
   {
    "duration": 8,
    "start_time": "2021-07-06T12:51:33.387Z"
   },
   {
    "duration": 25,
    "start_time": "2021-07-06T12:51:33.399Z"
   },
   {
    "duration": 7,
    "start_time": "2021-07-06T12:51:33.427Z"
   },
   {
    "duration": 7,
    "start_time": "2021-07-06T12:51:33.437Z"
   },
   {
    "duration": 40,
    "start_time": "2021-07-06T12:51:33.447Z"
   },
   {
    "duration": 25,
    "start_time": "2021-07-06T12:51:33.490Z"
   },
   {
    "duration": 9,
    "start_time": "2021-07-06T12:51:33.518Z"
   },
   {
    "duration": 9,
    "start_time": "2021-07-06T12:51:33.530Z"
   },
   {
    "duration": 50,
    "start_time": "2021-07-06T12:51:33.541Z"
   },
   {
    "duration": 25,
    "start_time": "2021-07-06T12:51:33.594Z"
   },
   {
    "duration": 8,
    "start_time": "2021-07-06T12:51:33.623Z"
   },
   {
    "duration": 11,
    "start_time": "2021-07-06T12:51:33.634Z"
   },
   {
    "duration": 41,
    "start_time": "2021-07-06T12:51:33.648Z"
   },
   {
    "duration": 10,
    "start_time": "2021-07-06T12:51:33.693Z"
   },
   {
    "duration": 14,
    "start_time": "2021-07-06T12:51:33.705Z"
   },
   {
    "duration": 13,
    "start_time": "2021-07-06T12:51:33.723Z"
   },
   {
    "duration": 60,
    "start_time": "2021-07-06T12:51:33.739Z"
   },
   {
    "duration": 50,
    "start_time": "2021-07-06T12:51:33.802Z"
   },
   {
    "duration": 31,
    "start_time": "2021-07-06T12:51:33.855Z"
   },
   {
    "duration": 8,
    "start_time": "2021-07-06T12:51:33.889Z"
   },
   {
    "duration": 3901,
    "start_time": "2021-07-06T12:51:33.900Z"
   },
   {
    "duration": 21,
    "start_time": "2021-07-06T12:51:37.805Z"
   },
   {
    "duration": 15,
    "start_time": "2021-07-06T12:51:37.829Z"
   },
   {
    "duration": 38,
    "start_time": "2021-07-06T12:51:37.847Z"
   },
   {
    "duration": 14,
    "start_time": "2021-07-06T12:51:45.739Z"
   },
   {
    "duration": 15,
    "start_time": "2021-07-06T12:51:57.970Z"
   },
   {
    "duration": 16,
    "start_time": "2021-07-06T12:52:14.630Z"
   },
   {
    "duration": 12,
    "start_time": "2021-07-06T13:20:57.457Z"
   },
   {
    "duration": 6,
    "start_time": "2021-07-06T13:21:13.459Z"
   },
   {
    "duration": 14,
    "start_time": "2021-07-06T13:21:14.029Z"
   },
   {
    "duration": 8,
    "start_time": "2021-07-06T13:25:36.147Z"
   },
   {
    "duration": 9,
    "start_time": "2021-07-06T13:26:01.097Z"
   },
   {
    "duration": 18,
    "start_time": "2021-07-06T13:26:07.858Z"
   },
   {
    "duration": 18,
    "start_time": "2021-07-06T13:26:31.989Z"
   },
   {
    "duration": 21,
    "start_time": "2021-07-06T13:26:43.529Z"
   },
   {
    "duration": 20,
    "start_time": "2021-07-06T13:27:29.554Z"
   },
   {
    "duration": 18,
    "start_time": "2021-07-06T13:27:38.258Z"
   },
   {
    "duration": 28,
    "start_time": "2021-07-06T13:39:37.079Z"
   },
   {
    "duration": 24,
    "start_time": "2021-07-06T13:40:07.728Z"
   },
   {
    "duration": 8,
    "start_time": "2021-07-06T13:41:35.061Z"
   },
   {
    "duration": 19,
    "start_time": "2021-07-06T13:41:39.728Z"
   },
   {
    "duration": 795,
    "start_time": "2021-07-06T13:42:58.811Z"
   },
   {
    "duration": 67,
    "start_time": "2021-07-06T13:42:59.609Z"
   },
   {
    "duration": 18,
    "start_time": "2021-07-06T13:42:59.678Z"
   },
   {
    "duration": 34,
    "start_time": "2021-07-06T13:42:59.700Z"
   },
   {
    "duration": 83,
    "start_time": "2021-07-06T13:42:59.736Z"
   },
   {
    "duration": 5,
    "start_time": "2021-07-06T13:42:59.821Z"
   },
   {
    "duration": 11,
    "start_time": "2021-07-06T13:42:59.828Z"
   },
   {
    "duration": 44,
    "start_time": "2021-07-06T13:42:59.843Z"
   },
   {
    "duration": 15,
    "start_time": "2021-07-06T13:42:59.892Z"
   },
   {
    "duration": 82,
    "start_time": "2021-07-06T13:42:59.909Z"
   },
   {
    "duration": 64,
    "start_time": "2021-07-06T13:42:59.994Z"
   },
   {
    "duration": 28,
    "start_time": "2021-07-06T13:43:00.060Z"
   },
   {
    "duration": 26,
    "start_time": "2021-07-06T13:43:00.091Z"
   },
   {
    "duration": 9,
    "start_time": "2021-07-06T13:43:00.120Z"
   },
   {
    "duration": 8,
    "start_time": "2021-07-06T13:43:00.131Z"
   },
   {
    "duration": 18,
    "start_time": "2021-07-06T13:43:00.141Z"
   },
   {
    "duration": 28,
    "start_time": "2021-07-06T13:43:00.162Z"
   },
   {
    "duration": 17,
    "start_time": "2021-07-06T13:43:00.194Z"
   },
   {
    "duration": 26,
    "start_time": "2021-07-06T13:43:00.214Z"
   },
   {
    "duration": 11,
    "start_time": "2021-07-06T13:43:00.244Z"
   },
   {
    "duration": 33,
    "start_time": "2021-07-06T13:43:00.258Z"
   },
   {
    "duration": 25,
    "start_time": "2021-07-06T13:43:00.295Z"
   },
   {
    "duration": 17,
    "start_time": "2021-07-06T13:43:00.328Z"
   },
   {
    "duration": 53,
    "start_time": "2021-07-06T13:43:00.349Z"
   },
   {
    "duration": 21,
    "start_time": "2021-07-06T13:43:00.405Z"
   },
   {
    "duration": 36,
    "start_time": "2021-07-06T13:43:00.430Z"
   },
   {
    "duration": 15,
    "start_time": "2021-07-06T13:43:00.468Z"
   },
   {
    "duration": 27,
    "start_time": "2021-07-06T13:43:00.487Z"
   },
   {
    "duration": 15,
    "start_time": "2021-07-06T13:43:00.517Z"
   },
   {
    "duration": 22,
    "start_time": "2021-07-06T13:43:00.534Z"
   },
   {
    "duration": 38,
    "start_time": "2021-07-06T13:43:00.558Z"
   },
   {
    "duration": 38,
    "start_time": "2021-07-06T13:43:00.598Z"
   },
   {
    "duration": 18,
    "start_time": "2021-07-06T13:43:00.639Z"
   },
   {
    "duration": 26,
    "start_time": "2021-07-06T13:43:00.660Z"
   },
   {
    "duration": 40,
    "start_time": "2021-07-06T13:43:00.689Z"
   },
   {
    "duration": 24,
    "start_time": "2021-07-06T13:43:00.732Z"
   },
   {
    "duration": 32,
    "start_time": "2021-07-06T13:43:00.759Z"
   },
   {
    "duration": 15,
    "start_time": "2021-07-06T13:43:00.795Z"
   },
   {
    "duration": 21,
    "start_time": "2021-07-06T13:43:00.814Z"
   },
   {
    "duration": 38,
    "start_time": "2021-07-06T13:43:00.837Z"
   },
   {
    "duration": 29,
    "start_time": "2021-07-06T13:43:00.886Z"
   },
   {
    "duration": 19,
    "start_time": "2021-07-06T13:43:00.917Z"
   },
   {
    "duration": 24,
    "start_time": "2021-07-06T13:43:00.939Z"
   },
   {
    "duration": 10,
    "start_time": "2021-07-06T13:43:00.966Z"
   },
   {
    "duration": 24,
    "start_time": "2021-07-06T13:43:00.979Z"
   },
   {
    "duration": 32,
    "start_time": "2021-07-06T13:43:01.006Z"
   },
   {
    "duration": 27,
    "start_time": "2021-07-06T13:43:01.040Z"
   },
   {
    "duration": 54,
    "start_time": "2021-07-06T13:43:01.070Z"
   },
   {
    "duration": 6,
    "start_time": "2021-07-06T13:43:01.127Z"
   },
   {
    "duration": 13,
    "start_time": "2021-07-06T13:43:01.135Z"
   },
   {
    "duration": 4049,
    "start_time": "2021-07-06T13:43:01.150Z"
   },
   {
    "duration": 20,
    "start_time": "2021-07-06T13:43:05.202Z"
   },
   {
    "duration": 11,
    "start_time": "2021-07-06T13:43:05.226Z"
   },
   {
    "duration": 48,
    "start_time": "2021-07-06T13:43:05.240Z"
   },
   {
    "duration": 103,
    "start_time": "2021-07-06T13:43:05.291Z"
   },
   {
    "duration": 24,
    "start_time": "2021-07-06T13:43:34.709Z"
   },
   {
    "duration": 107,
    "start_time": "2021-07-06T13:43:55.125Z"
   },
   {
    "duration": 18,
    "start_time": "2021-07-06T13:44:00.109Z"
   },
   {
    "duration": 820,
    "start_time": "2021-07-06T13:44:15.758Z"
   },
   {
    "duration": 69,
    "start_time": "2021-07-06T13:44:16.581Z"
   },
   {
    "duration": 23,
    "start_time": "2021-07-06T13:44:16.654Z"
   },
   {
    "duration": 39,
    "start_time": "2021-07-06T13:44:16.680Z"
   },
   {
    "duration": 77,
    "start_time": "2021-07-06T13:44:16.722Z"
   },
   {
    "duration": 6,
    "start_time": "2021-07-06T13:44:16.802Z"
   },
   {
    "duration": 15,
    "start_time": "2021-07-06T13:44:16.812Z"
   },
   {
    "duration": 19,
    "start_time": "2021-07-06T13:44:16.832Z"
   },
   {
    "duration": 38,
    "start_time": "2021-07-06T13:44:16.855Z"
   },
   {
    "duration": 133,
    "start_time": "2021-07-06T13:44:16.896Z"
   },
   {
    "duration": 122,
    "start_time": "2021-07-06T13:44:17.033Z"
   },
   {
    "duration": 32,
    "start_time": "2021-07-06T13:44:17.158Z"
   },
   {
    "duration": 12,
    "start_time": "2021-07-06T13:44:17.195Z"
   },
   {
    "duration": 21,
    "start_time": "2021-07-06T13:44:17.209Z"
   },
   {
    "duration": 13,
    "start_time": "2021-07-06T13:44:17.234Z"
   },
   {
    "duration": 12,
    "start_time": "2021-07-06T13:44:17.250Z"
   },
   {
    "duration": 28,
    "start_time": "2021-07-06T13:44:17.265Z"
   },
   {
    "duration": 21,
    "start_time": "2021-07-06T13:44:17.296Z"
   },
   {
    "duration": 18,
    "start_time": "2021-07-06T13:44:17.320Z"
   },
   {
    "duration": 49,
    "start_time": "2021-07-06T13:44:17.341Z"
   },
   {
    "duration": 6,
    "start_time": "2021-07-06T13:44:17.393Z"
   },
   {
    "duration": 16,
    "start_time": "2021-07-06T13:44:17.402Z"
   },
   {
    "duration": 9,
    "start_time": "2021-07-06T13:44:17.425Z"
   },
   {
    "duration": 51,
    "start_time": "2021-07-06T13:44:17.438Z"
   },
   {
    "duration": 6,
    "start_time": "2021-07-06T13:44:17.492Z"
   },
   {
    "duration": 14,
    "start_time": "2021-07-06T13:44:17.502Z"
   },
   {
    "duration": 8,
    "start_time": "2021-07-06T13:44:17.519Z"
   },
   {
    "duration": 13,
    "start_time": "2021-07-06T13:44:17.530Z"
   },
   {
    "duration": 4,
    "start_time": "2021-07-06T13:44:17.547Z"
   },
   {
    "duration": 37,
    "start_time": "2021-07-06T13:44:17.555Z"
   },
   {
    "duration": 20,
    "start_time": "2021-07-06T13:44:17.596Z"
   },
   {
    "duration": 16,
    "start_time": "2021-07-06T13:44:17.619Z"
   },
   {
    "duration": 53,
    "start_time": "2021-07-06T13:44:17.638Z"
   },
   {
    "duration": 12,
    "start_time": "2021-07-06T13:44:17.694Z"
   },
   {
    "duration": 12,
    "start_time": "2021-07-06T13:44:17.711Z"
   },
   {
    "duration": 19,
    "start_time": "2021-07-06T13:44:17.725Z"
   },
   {
    "duration": 18,
    "start_time": "2021-07-06T13:44:17.746Z"
   },
   {
    "duration": 25,
    "start_time": "2021-07-06T13:44:17.767Z"
   },
   {
    "duration": 17,
    "start_time": "2021-07-06T13:44:17.796Z"
   },
   {
    "duration": 26,
    "start_time": "2021-07-06T13:44:17.816Z"
   },
   {
    "duration": 9,
    "start_time": "2021-07-06T13:44:17.845Z"
   },
   {
    "duration": 38,
    "start_time": "2021-07-06T13:44:17.857Z"
   },
   {
    "duration": 23,
    "start_time": "2021-07-06T13:44:17.898Z"
   },
   {
    "duration": 7,
    "start_time": "2021-07-06T13:44:17.924Z"
   },
   {
    "duration": 10,
    "start_time": "2021-07-06T13:44:17.934Z"
   },
   {
    "duration": 44,
    "start_time": "2021-07-06T13:44:17.947Z"
   },
   {
    "duration": 33,
    "start_time": "2021-07-06T13:44:17.993Z"
   },
   {
    "duration": 72,
    "start_time": "2021-07-06T13:44:18.028Z"
   },
   {
    "duration": 16,
    "start_time": "2021-07-06T13:44:18.102Z"
   },
   {
    "duration": 10,
    "start_time": "2021-07-06T13:44:18.121Z"
   },
   {
    "duration": 5251,
    "start_time": "2021-07-06T13:44:18.134Z"
   },
   {
    "duration": 30,
    "start_time": "2021-07-06T13:44:23.389Z"
   },
   {
    "duration": 11,
    "start_time": "2021-07-06T13:44:23.425Z"
   },
   {
    "duration": 24,
    "start_time": "2021-07-06T13:44:23.439Z"
   },
   {
    "duration": 106,
    "start_time": "2021-07-06T13:44:23.486Z"
   },
   {
    "duration": 14,
    "start_time": "2021-07-06T13:44:50.658Z"
   },
   {
    "duration": 7,
    "start_time": "2021-07-06T13:46:57.395Z"
   },
   {
    "duration": 15,
    "start_time": "2021-07-06T13:47:13.974Z"
   },
   {
    "duration": 23,
    "start_time": "2021-07-06T13:47:32.273Z"
   },
   {
    "duration": 12,
    "start_time": "2021-07-06T13:48:10.933Z"
   },
   {
    "duration": 16,
    "start_time": "2021-07-06T13:48:43.283Z"
   },
   {
    "duration": 788,
    "start_time": "2021-07-06T13:49:04.640Z"
   },
   {
    "duration": 71,
    "start_time": "2021-07-06T13:49:05.431Z"
   },
   {
    "duration": 14,
    "start_time": "2021-07-06T13:49:05.506Z"
   },
   {
    "duration": 29,
    "start_time": "2021-07-06T13:49:05.523Z"
   },
   {
    "duration": 78,
    "start_time": "2021-07-06T13:49:05.554Z"
   },
   {
    "duration": 5,
    "start_time": "2021-07-06T13:49:05.634Z"
   },
   {
    "duration": 9,
    "start_time": "2021-07-06T13:49:05.641Z"
   },
   {
    "duration": 44,
    "start_time": "2021-07-06T13:49:05.655Z"
   },
   {
    "duration": 10,
    "start_time": "2021-07-06T13:49:05.705Z"
   },
   {
    "duration": 121,
    "start_time": "2021-07-06T13:49:05.718Z"
   },
   {
    "duration": 96,
    "start_time": "2021-07-06T13:49:05.841Z"
   },
   {
    "duration": 12,
    "start_time": "2021-07-06T13:49:05.939Z"
   },
   {
    "duration": 9,
    "start_time": "2021-07-06T13:49:05.953Z"
   },
   {
    "duration": 29,
    "start_time": "2021-07-06T13:49:05.965Z"
   },
   {
    "duration": 7,
    "start_time": "2021-07-06T13:49:05.998Z"
   },
   {
    "duration": 7,
    "start_time": "2021-07-06T13:49:06.008Z"
   },
   {
    "duration": 10,
    "start_time": "2021-07-06T13:49:06.018Z"
   },
   {
    "duration": 9,
    "start_time": "2021-07-06T13:49:06.030Z"
   },
   {
    "duration": 18,
    "start_time": "2021-07-06T13:49:06.086Z"
   },
   {
    "duration": 8,
    "start_time": "2021-07-06T13:49:06.107Z"
   },
   {
    "duration": 7,
    "start_time": "2021-07-06T13:49:06.117Z"
   },
   {
    "duration": 10,
    "start_time": "2021-07-06T13:49:06.127Z"
   },
   {
    "duration": 52,
    "start_time": "2021-07-06T13:49:06.142Z"
   },
   {
    "duration": 18,
    "start_time": "2021-07-06T13:49:06.200Z"
   },
   {
    "duration": 5,
    "start_time": "2021-07-06T13:49:06.221Z"
   },
   {
    "duration": 10,
    "start_time": "2021-07-06T13:49:06.228Z"
   },
   {
    "duration": 51,
    "start_time": "2021-07-06T13:49:06.240Z"
   },
   {
    "duration": 14,
    "start_time": "2021-07-06T13:49:06.294Z"
   },
   {
    "duration": 5,
    "start_time": "2021-07-06T13:49:06.311Z"
   },
   {
    "duration": 10,
    "start_time": "2021-07-06T13:49:06.319Z"
   },
   {
    "duration": 52,
    "start_time": "2021-07-06T13:49:06.332Z"
   },
   {
    "duration": 19,
    "start_time": "2021-07-06T13:49:06.391Z"
   },
   {
    "duration": 19,
    "start_time": "2021-07-06T13:49:06.413Z"
   },
   {
    "duration": 12,
    "start_time": "2021-07-06T13:49:06.434Z"
   },
   {
    "duration": 17,
    "start_time": "2021-07-06T13:49:06.449Z"
   },
   {
    "duration": 35,
    "start_time": "2021-07-06T13:49:06.468Z"
   },
   {
    "duration": 14,
    "start_time": "2021-07-06T13:49:06.505Z"
   },
   {
    "duration": 6,
    "start_time": "2021-07-06T13:49:06.521Z"
   },
   {
    "duration": 11,
    "start_time": "2021-07-06T13:49:06.529Z"
   },
   {
    "duration": 57,
    "start_time": "2021-07-06T13:49:06.543Z"
   },
   {
    "duration": 13,
    "start_time": "2021-07-06T13:49:06.603Z"
   },
   {
    "duration": 12,
    "start_time": "2021-07-06T13:49:06.619Z"
   },
   {
    "duration": 19,
    "start_time": "2021-07-06T13:49:06.634Z"
   },
   {
    "duration": 32,
    "start_time": "2021-07-06T13:49:06.656Z"
   },
   {
    "duration": 22,
    "start_time": "2021-07-06T13:49:06.691Z"
   },
   {
    "duration": 19,
    "start_time": "2021-07-06T13:49:06.715Z"
   },
   {
    "duration": 30,
    "start_time": "2021-07-06T13:49:06.736Z"
   },
   {
    "duration": 68,
    "start_time": "2021-07-06T13:49:06.769Z"
   },
   {
    "duration": 6,
    "start_time": "2021-07-06T13:49:06.839Z"
   },
   {
    "duration": 9,
    "start_time": "2021-07-06T13:49:06.847Z"
   },
   {
    "duration": 4092,
    "start_time": "2021-07-06T13:49:06.885Z"
   },
   {
    "duration": 30,
    "start_time": "2021-07-06T13:49:10.980Z"
   },
   {
    "duration": 22,
    "start_time": "2021-07-06T13:49:11.013Z"
   },
   {
    "duration": 29,
    "start_time": "2021-07-06T13:49:11.037Z"
   },
   {
    "duration": 12,
    "start_time": "2021-07-06T13:50:43.660Z"
   },
   {
    "duration": 14,
    "start_time": "2021-07-06T14:03:43.248Z"
   },
   {
    "duration": 18,
    "start_time": "2021-07-06T14:06:21.380Z"
   },
   {
    "duration": 16,
    "start_time": "2021-07-06T16:01:28.169Z"
   },
   {
    "duration": 856,
    "start_time": "2021-07-06T16:01:37.358Z"
   },
   {
    "duration": 69,
    "start_time": "2021-07-06T16:01:38.217Z"
   },
   {
    "duration": 18,
    "start_time": "2021-07-06T16:01:38.290Z"
   },
   {
    "duration": 31,
    "start_time": "2021-07-06T16:01:38.311Z"
   },
   {
    "duration": 80,
    "start_time": "2021-07-06T16:01:38.345Z"
   },
   {
    "duration": 4,
    "start_time": "2021-07-06T16:01:38.428Z"
   },
   {
    "duration": 9,
    "start_time": "2021-07-06T16:01:38.434Z"
   },
   {
    "duration": 40,
    "start_time": "2021-07-06T16:01:38.447Z"
   },
   {
    "duration": 11,
    "start_time": "2021-07-06T16:01:38.490Z"
   },
   {
    "duration": 82,
    "start_time": "2021-07-06T16:01:38.503Z"
   },
   {
    "duration": 60,
    "start_time": "2021-07-06T16:01:38.588Z"
   },
   {
    "duration": 36,
    "start_time": "2021-07-06T16:01:38.651Z"
   },
   {
    "duration": 11,
    "start_time": "2021-07-06T16:01:38.690Z"
   },
   {
    "duration": 9,
    "start_time": "2021-07-06T16:01:38.704Z"
   },
   {
    "duration": 11,
    "start_time": "2021-07-06T16:01:38.716Z"
   },
   {
    "duration": 10,
    "start_time": "2021-07-06T16:01:38.730Z"
   },
   {
    "duration": 48,
    "start_time": "2021-07-06T16:01:38.743Z"
   },
   {
    "duration": 15,
    "start_time": "2021-07-06T16:01:38.794Z"
   },
   {
    "duration": 19,
    "start_time": "2021-07-06T16:01:38.811Z"
   },
   {
    "duration": 8,
    "start_time": "2021-07-06T16:01:38.833Z"
   },
   {
    "duration": 44,
    "start_time": "2021-07-06T16:01:38.844Z"
   },
   {
    "duration": 10,
    "start_time": "2021-07-06T16:01:38.891Z"
   },
   {
    "duration": 10,
    "start_time": "2021-07-06T16:01:38.907Z"
   },
   {
    "duration": 19,
    "start_time": "2021-07-06T16:01:38.921Z"
   },
   {
    "duration": 44,
    "start_time": "2021-07-06T16:01:38.943Z"
   },
   {
    "duration": 6,
    "start_time": "2021-07-06T16:01:38.990Z"
   },
   {
    "duration": 28,
    "start_time": "2021-07-06T16:01:38.998Z"
   },
   {
    "duration": 13,
    "start_time": "2021-07-06T16:01:39.029Z"
   },
   {
    "duration": 6,
    "start_time": "2021-07-06T16:01:39.045Z"
   },
   {
    "duration": 37,
    "start_time": "2021-07-06T16:01:39.053Z"
   },
   {
    "duration": 15,
    "start_time": "2021-07-06T16:01:39.092Z"
   },
   {
    "duration": 18,
    "start_time": "2021-07-06T16:01:39.110Z"
   },
   {
    "duration": 15,
    "start_time": "2021-07-06T16:01:39.131Z"
   },
   {
    "duration": 11,
    "start_time": "2021-07-06T16:01:39.148Z"
   },
   {
    "duration": 25,
    "start_time": "2021-07-06T16:01:39.162Z"
   },
   {
    "duration": 23,
    "start_time": "2021-07-06T16:01:39.190Z"
   },
   {
    "duration": 14,
    "start_time": "2021-07-06T16:01:39.216Z"
   },
   {
    "duration": 16,
    "start_time": "2021-07-06T16:01:39.232Z"
   },
   {
    "duration": 37,
    "start_time": "2021-07-06T16:01:39.251Z"
   },
   {
    "duration": 36,
    "start_time": "2021-07-06T16:01:39.290Z"
   },
   {
    "duration": 9,
    "start_time": "2021-07-06T16:01:39.328Z"
   },
   {
    "duration": 22,
    "start_time": "2021-07-06T16:01:39.339Z"
   },
   {
    "duration": 19,
    "start_time": "2021-07-06T16:01:39.364Z"
   },
   {
    "duration": 11,
    "start_time": "2021-07-06T16:01:39.386Z"
   },
   {
    "duration": 18,
    "start_time": "2021-07-06T16:01:39.400Z"
   },
   {
    "duration": 40,
    "start_time": "2021-07-06T16:01:39.421Z"
   },
   {
    "duration": 39,
    "start_time": "2021-07-06T16:01:39.465Z"
   },
   {
    "duration": 54,
    "start_time": "2021-07-06T16:01:39.507Z"
   },
   {
    "duration": 22,
    "start_time": "2021-07-06T16:01:39.563Z"
   },
   {
    "duration": 7,
    "start_time": "2021-07-06T16:01:39.588Z"
   },
   {
    "duration": 3483,
    "start_time": "2021-07-06T16:01:39.597Z"
   },
   {
    "duration": 19,
    "start_time": "2021-07-06T16:01:43.086Z"
   },
   {
    "duration": 12,
    "start_time": "2021-07-06T16:01:43.108Z"
   },
   {
    "duration": 33,
    "start_time": "2021-07-06T16:01:43.123Z"
   },
   {
    "duration": 18,
    "start_time": "2021-07-06T16:07:12.828Z"
   },
   {
    "duration": 417,
    "start_time": "2021-07-06T16:07:22.158Z"
   },
   {
    "duration": 703,
    "start_time": "2021-07-06T16:12:49.028Z"
   },
   {
    "duration": 57,
    "start_time": "2021-07-06T16:13:04.269Z"
   },
   {
    "duration": 7,
    "start_time": "2021-07-06T16:13:04.599Z"
   },
   {
    "duration": 3434,
    "start_time": "2021-07-06T16:13:04.898Z"
   },
   {
    "duration": 20,
    "start_time": "2021-07-06T16:13:08.335Z"
   },
   {
    "duration": 29,
    "start_time": "2021-07-06T16:13:08.358Z"
   },
   {
    "duration": 17,
    "start_time": "2021-07-06T16:13:08.390Z"
   },
   {
    "duration": 11,
    "start_time": "2021-07-06T16:14:33.198Z"
   },
   {
    "duration": 1291,
    "start_time": "2021-07-06T16:15:03.427Z"
   },
   {
    "duration": 408,
    "start_time": "2021-07-06T16:18:29.348Z"
   },
   {
    "duration": 334,
    "start_time": "2021-07-06T16:19:51.419Z"
   },
   {
    "duration": 315,
    "start_time": "2021-07-06T16:23:28.489Z"
   },
   {
    "duration": 102,
    "start_time": "2021-07-06T16:28:45.699Z"
   },
   {
    "duration": 107,
    "start_time": "2021-07-06T16:28:59.643Z"
   },
   {
    "duration": 785,
    "start_time": "2021-07-06T16:29:08.904Z"
   },
   {
    "duration": 67,
    "start_time": "2021-07-06T16:29:09.692Z"
   },
   {
    "duration": 15,
    "start_time": "2021-07-06T16:29:09.762Z"
   },
   {
    "duration": 31,
    "start_time": "2021-07-06T16:29:09.785Z"
   },
   {
    "duration": 69,
    "start_time": "2021-07-06T16:29:09.818Z"
   },
   {
    "duration": 5,
    "start_time": "2021-07-06T16:29:09.889Z"
   },
   {
    "duration": 9,
    "start_time": "2021-07-06T16:29:09.896Z"
   },
   {
    "duration": 14,
    "start_time": "2021-07-06T16:29:09.910Z"
   },
   {
    "duration": 10,
    "start_time": "2021-07-06T16:29:09.927Z"
   },
   {
    "duration": 134,
    "start_time": "2021-07-06T16:29:09.939Z"
   },
   {
    "duration": 65,
    "start_time": "2021-07-06T16:29:10.076Z"
   },
   {
    "duration": 13,
    "start_time": "2021-07-06T16:29:10.143Z"
   },
   {
    "duration": 34,
    "start_time": "2021-07-06T16:29:10.159Z"
   },
   {
    "duration": 12,
    "start_time": "2021-07-06T16:29:10.196Z"
   },
   {
    "duration": 7,
    "start_time": "2021-07-06T16:29:10.211Z"
   },
   {
    "duration": 11,
    "start_time": "2021-07-06T16:29:10.221Z"
   },
   {
    "duration": 17,
    "start_time": "2021-07-06T16:29:10.235Z"
   },
   {
    "duration": 7,
    "start_time": "2021-07-06T16:29:10.287Z"
   },
   {
    "duration": 15,
    "start_time": "2021-07-06T16:29:10.296Z"
   },
   {
    "duration": 8,
    "start_time": "2021-07-06T16:29:10.313Z"
   },
   {
    "duration": 6,
    "start_time": "2021-07-06T16:29:10.324Z"
   },
   {
    "duration": 10,
    "start_time": "2021-07-06T16:29:10.332Z"
   },
   {
    "duration": 8,
    "start_time": "2021-07-06T16:29:10.390Z"
   },
   {
    "duration": 15,
    "start_time": "2021-07-06T16:29:10.401Z"
   },
   {
    "duration": 5,
    "start_time": "2021-07-06T16:29:10.418Z"
   },
   {
    "duration": 13,
    "start_time": "2021-07-06T16:29:10.425Z"
   },
   {
    "duration": 49,
    "start_time": "2021-07-06T16:29:10.440Z"
   },
   {
    "duration": 8,
    "start_time": "2021-07-06T16:29:10.492Z"
   },
   {
    "duration": 4,
    "start_time": "2021-07-06T16:29:10.503Z"
   },
   {
    "duration": 9,
    "start_time": "2021-07-06T16:29:10.509Z"
   },
   {
    "duration": 12,
    "start_time": "2021-07-06T16:29:10.521Z"
   },
   {
    "duration": 57,
    "start_time": "2021-07-06T16:29:10.536Z"
   },
   {
    "duration": 7,
    "start_time": "2021-07-06T16:29:10.596Z"
   },
   {
    "duration": 10,
    "start_time": "2021-07-06T16:29:10.606Z"
   },
   {
    "duration": 16,
    "start_time": "2021-07-06T16:29:10.618Z"
   },
   {
    "duration": 21,
    "start_time": "2021-07-06T16:29:10.636Z"
   },
   {
    "duration": 33,
    "start_time": "2021-07-06T16:29:10.659Z"
   },
   {
    "duration": 93,
    "start_time": "2021-07-06T16:29:10.695Z"
   },
   {
    "duration": 108,
    "start_time": "2021-07-06T16:29:10.790Z"
   },
   {
    "duration": 22,
    "start_time": "2021-07-06T16:29:10.901Z"
   },
   {
    "duration": 8,
    "start_time": "2021-07-06T16:29:10.925Z"
   },
   {
    "duration": 15,
    "start_time": "2021-07-06T16:29:10.936Z"
   },
   {
    "duration": 12,
    "start_time": "2021-07-06T16:29:10.954Z"
   },
   {
    "duration": 19,
    "start_time": "2021-07-06T16:29:10.969Z"
   },
   {
    "duration": 8,
    "start_time": "2021-07-06T16:29:10.991Z"
   },
   {
    "duration": 9,
    "start_time": "2021-07-06T16:29:11.002Z"
   },
   {
    "duration": 28,
    "start_time": "2021-07-06T16:29:11.013Z"
   },
   {
    "duration": 84,
    "start_time": "2021-07-06T16:29:11.044Z"
   },
   {
    "duration": 10,
    "start_time": "2021-07-06T16:29:11.130Z"
   },
   {
    "duration": 7,
    "start_time": "2021-07-06T16:29:11.142Z"
   },
   {
    "duration": 4052,
    "start_time": "2021-07-06T16:29:11.151Z"
   },
   {
    "duration": 21,
    "start_time": "2021-07-06T16:29:15.206Z"
   },
   {
    "duration": 11,
    "start_time": "2021-07-06T16:29:15.230Z"
   },
   {
    "duration": 106,
    "start_time": "2021-07-06T16:29:15.244Z"
   },
   {
    "duration": 15,
    "start_time": "2021-07-06T16:30:50.601Z"
   },
   {
    "duration": 25,
    "start_time": "2021-07-06T16:32:37.430Z"
   },
   {
    "duration": 14,
    "start_time": "2021-07-06T16:33:30.040Z"
   },
   {
    "duration": 15,
    "start_time": "2021-07-06T16:33:36.970Z"
   },
   {
    "duration": 818,
    "start_time": "2021-07-06T16:49:26.504Z"
   },
   {
    "duration": 68,
    "start_time": "2021-07-06T16:49:27.325Z"
   },
   {
    "duration": 16,
    "start_time": "2021-07-06T16:49:27.396Z"
   },
   {
    "duration": 37,
    "start_time": "2021-07-06T16:49:27.415Z"
   },
   {
    "duration": 76,
    "start_time": "2021-07-06T16:49:27.454Z"
   },
   {
    "duration": 4,
    "start_time": "2021-07-06T16:49:27.533Z"
   },
   {
    "duration": 13,
    "start_time": "2021-07-06T16:49:27.540Z"
   },
   {
    "duration": 44,
    "start_time": "2021-07-06T16:49:27.557Z"
   },
   {
    "duration": 13,
    "start_time": "2021-07-06T16:49:27.605Z"
   },
   {
    "duration": 84,
    "start_time": "2021-07-06T16:49:27.620Z"
   },
   {
    "duration": 63,
    "start_time": "2021-07-06T16:49:27.707Z"
   },
   {
    "duration": 23,
    "start_time": "2021-07-06T16:49:27.773Z"
   },
   {
    "duration": 11,
    "start_time": "2021-07-06T16:49:27.799Z"
   },
   {
    "duration": 13,
    "start_time": "2021-07-06T16:49:27.813Z"
   },
   {
    "duration": 12,
    "start_time": "2021-07-06T16:49:27.828Z"
   },
   {
    "duration": 46,
    "start_time": "2021-07-06T16:49:27.842Z"
   },
   {
    "duration": 9,
    "start_time": "2021-07-06T16:49:27.891Z"
   },
   {
    "duration": 23,
    "start_time": "2021-07-06T16:49:27.902Z"
   },
   {
    "duration": 22,
    "start_time": "2021-07-06T16:49:27.928Z"
   },
   {
    "duration": 10,
    "start_time": "2021-07-06T16:49:27.953Z"
   },
   {
    "duration": 23,
    "start_time": "2021-07-06T16:49:27.966Z"
   },
   {
    "duration": 19,
    "start_time": "2021-07-06T16:49:27.991Z"
   },
   {
    "duration": 11,
    "start_time": "2021-07-06T16:49:28.017Z"
   },
   {
    "duration": 17,
    "start_time": "2021-07-06T16:49:28.031Z"
   },
   {
    "duration": 38,
    "start_time": "2021-07-06T16:49:28.051Z"
   },
   {
    "duration": 12,
    "start_time": "2021-07-06T16:49:28.092Z"
   },
   {
    "duration": 10,
    "start_time": "2021-07-06T16:49:28.106Z"
   },
   {
    "duration": 16,
    "start_time": "2021-07-06T16:49:28.119Z"
   },
   {
    "duration": 12,
    "start_time": "2021-07-06T16:49:28.138Z"
   },
   {
    "duration": 33,
    "start_time": "2021-07-06T16:49:28.153Z"
   },
   {
    "duration": 18,
    "start_time": "2021-07-06T16:49:28.189Z"
   },
   {
    "duration": 25,
    "start_time": "2021-07-06T16:49:28.209Z"
   },
   {
    "duration": 9,
    "start_time": "2021-07-06T16:49:28.236Z"
   },
   {
    "duration": 8,
    "start_time": "2021-07-06T16:49:28.247Z"
   },
   {
    "duration": 30,
    "start_time": "2021-07-06T16:49:28.257Z"
   },
   {
    "duration": 22,
    "start_time": "2021-07-06T16:49:28.290Z"
   },
   {
    "duration": 14,
    "start_time": "2021-07-06T16:49:28.314Z"
   },
   {
    "duration": 10,
    "start_time": "2021-07-06T16:49:28.331Z"
   },
   {
    "duration": 14,
    "start_time": "2021-07-06T16:49:28.344Z"
   },
   {
    "duration": 23,
    "start_time": "2021-07-06T16:49:28.387Z"
   },
   {
    "duration": 9,
    "start_time": "2021-07-06T16:49:28.413Z"
   },
   {
    "duration": 16,
    "start_time": "2021-07-06T16:49:28.424Z"
   },
   {
    "duration": 47,
    "start_time": "2021-07-06T16:49:28.443Z"
   },
   {
    "duration": 7,
    "start_time": "2021-07-06T16:49:28.493Z"
   },
   {
    "duration": 16,
    "start_time": "2021-07-06T16:49:28.502Z"
   },
   {
    "duration": 17,
    "start_time": "2021-07-06T16:49:28.521Z"
   },
   {
    "duration": 49,
    "start_time": "2021-07-06T16:49:28.540Z"
   },
   {
    "duration": 47,
    "start_time": "2021-07-06T16:49:28.592Z"
   },
   {
    "duration": 5,
    "start_time": "2021-07-06T16:49:28.642Z"
   },
   {
    "duration": 36,
    "start_time": "2021-07-06T16:49:28.650Z"
   },
   {
    "duration": 3680,
    "start_time": "2021-07-06T16:49:28.689Z"
   },
   {
    "duration": 23,
    "start_time": "2021-07-06T16:49:32.372Z"
   },
   {
    "duration": 17,
    "start_time": "2021-07-06T16:49:32.398Z"
   },
   {
    "duration": 29,
    "start_time": "2021-07-06T16:49:32.417Z"
   },
   {
    "duration": 739,
    "start_time": "2021-07-06T16:55:15.838Z"
   },
   {
    "duration": 78,
    "start_time": "2021-07-06T16:55:16.579Z"
   },
   {
    "duration": 15,
    "start_time": "2021-07-06T16:55:16.660Z"
   },
   {
    "duration": 34,
    "start_time": "2021-07-06T16:55:16.678Z"
   },
   {
    "duration": 71,
    "start_time": "2021-07-06T16:55:16.715Z"
   },
   {
    "duration": 4,
    "start_time": "2021-07-06T16:55:16.789Z"
   },
   {
    "duration": 10,
    "start_time": "2021-07-06T16:55:16.795Z"
   },
   {
    "duration": 16,
    "start_time": "2021-07-06T16:55:16.809Z"
   },
   {
    "duration": 11,
    "start_time": "2021-07-06T16:55:16.827Z"
   },
   {
    "duration": 99,
    "start_time": "2021-07-06T16:55:16.840Z"
   },
   {
    "duration": 68,
    "start_time": "2021-07-06T16:55:16.941Z"
   },
   {
    "duration": 12,
    "start_time": "2021-07-06T16:55:17.011Z"
   },
   {
    "duration": 9,
    "start_time": "2021-07-06T16:55:17.025Z"
   },
   {
    "duration": 8,
    "start_time": "2021-07-06T16:55:17.037Z"
   },
   {
    "duration": 40,
    "start_time": "2021-07-06T16:55:17.047Z"
   },
   {
    "duration": 11,
    "start_time": "2021-07-06T16:55:17.090Z"
   },
   {
    "duration": 7,
    "start_time": "2021-07-06T16:55:17.104Z"
   },
   {
    "duration": 10,
    "start_time": "2021-07-06T16:55:17.114Z"
   },
   {
    "duration": 19,
    "start_time": "2021-07-06T16:55:17.127Z"
   },
   {
    "duration": 38,
    "start_time": "2021-07-06T16:55:17.149Z"
   },
   {
    "duration": 6,
    "start_time": "2021-07-06T16:55:17.191Z"
   },
   {
    "duration": 12,
    "start_time": "2021-07-06T16:55:17.200Z"
   },
   {
    "duration": 8,
    "start_time": "2021-07-06T16:55:17.218Z"
   },
   {
    "duration": 59,
    "start_time": "2021-07-06T16:55:17.229Z"
   },
   {
    "duration": 6,
    "start_time": "2021-07-06T16:55:17.291Z"
   },
   {
    "duration": 17,
    "start_time": "2021-07-06T16:55:17.300Z"
   },
   {
    "duration": 9,
    "start_time": "2021-07-06T16:55:17.319Z"
   },
   {
    "duration": 11,
    "start_time": "2021-07-06T16:55:17.331Z"
   },
   {
    "duration": 40,
    "start_time": "2021-07-06T16:55:17.345Z"
   },
   {
    "duration": 13,
    "start_time": "2021-07-06T16:55:17.388Z"
   },
   {
    "duration": 11,
    "start_time": "2021-07-06T16:55:17.403Z"
   },
   {
    "duration": 19,
    "start_time": "2021-07-06T16:55:17.416Z"
   },
   {
    "duration": 20,
    "start_time": "2021-07-06T16:55:17.437Z"
   },
   {
    "duration": 27,
    "start_time": "2021-07-06T16:55:17.459Z"
   },
   {
    "duration": 7,
    "start_time": "2021-07-06T16:55:17.488Z"
   },
   {
    "duration": 29,
    "start_time": "2021-07-06T16:55:17.497Z"
   },
   {
    "duration": 13,
    "start_time": "2021-07-06T16:55:17.529Z"
   },
   {
    "duration": 9,
    "start_time": "2021-07-06T16:55:17.544Z"
   },
   {
    "duration": 32,
    "start_time": "2021-07-06T16:55:17.555Z"
   },
   {
    "duration": 23,
    "start_time": "2021-07-06T16:55:17.589Z"
   },
   {
    "duration": 10,
    "start_time": "2021-07-06T16:55:17.614Z"
   },
   {
    "duration": 14,
    "start_time": "2021-07-06T16:55:17.626Z"
   },
   {
    "duration": 14,
    "start_time": "2021-07-06T16:55:17.643Z"
   },
   {
    "duration": 30,
    "start_time": "2021-07-06T16:55:17.659Z"
   },
   {
    "duration": 10,
    "start_time": "2021-07-06T16:55:17.692Z"
   },
   {
    "duration": 15,
    "start_time": "2021-07-06T16:55:17.705Z"
   },
   {
    "duration": 29,
    "start_time": "2021-07-06T16:55:17.722Z"
   },
   {
    "duration": 77,
    "start_time": "2021-07-06T16:55:17.753Z"
   },
   {
    "duration": 6,
    "start_time": "2021-07-06T16:55:17.833Z"
   },
   {
    "duration": 24,
    "start_time": "2021-07-06T16:55:17.841Z"
   },
   {
    "duration": 3900,
    "start_time": "2021-07-06T16:55:17.868Z"
   },
   {
    "duration": 29,
    "start_time": "2021-07-06T16:55:21.770Z"
   },
   {
    "duration": 8,
    "start_time": "2021-07-06T16:55:21.803Z"
   },
   {
    "duration": 19,
    "start_time": "2021-07-06T16:55:21.813Z"
   },
   {
    "duration": 7,
    "start_time": "2021-07-06T20:46:57.069Z"
   },
   {
    "duration": 11,
    "start_time": "2021-07-06T22:18:38.589Z"
   },
   {
    "duration": 8,
    "start_time": "2021-07-06T22:20:08.159Z"
   },
   {
    "duration": 8,
    "start_time": "2021-07-06T22:20:13.679Z"
   },
   {
    "duration": 789,
    "start_time": "2021-07-06T22:20:33.393Z"
   },
   {
    "duration": 70,
    "start_time": "2021-07-06T22:20:34.184Z"
   },
   {
    "duration": 15,
    "start_time": "2021-07-06T22:20:34.257Z"
   },
   {
    "duration": 37,
    "start_time": "2021-07-06T22:20:34.275Z"
   },
   {
    "duration": 71,
    "start_time": "2021-07-06T22:20:34.314Z"
   },
   {
    "duration": 4,
    "start_time": "2021-07-06T22:20:34.387Z"
   },
   {
    "duration": 13,
    "start_time": "2021-07-06T22:20:34.393Z"
   },
   {
    "duration": 12,
    "start_time": "2021-07-06T22:20:34.410Z"
   },
   {
    "duration": 9,
    "start_time": "2021-07-06T22:20:34.425Z"
   },
   {
    "duration": 92,
    "start_time": "2021-07-06T22:20:34.437Z"
   },
   {
    "duration": 67,
    "start_time": "2021-07-06T22:20:34.532Z"
   },
   {
    "duration": 12,
    "start_time": "2021-07-06T22:20:34.601Z"
   },
   {
    "duration": 11,
    "start_time": "2021-07-06T22:20:34.615Z"
   },
   {
    "duration": 7,
    "start_time": "2021-07-06T22:20:34.629Z"
   },
   {
    "duration": 6,
    "start_time": "2021-07-06T22:20:34.638Z"
   },
   {
    "duration": 41,
    "start_time": "2021-07-06T22:20:34.646Z"
   },
   {
    "duration": 7,
    "start_time": "2021-07-06T22:20:34.689Z"
   },
   {
    "duration": 11,
    "start_time": "2021-07-06T22:20:34.698Z"
   },
   {
    "duration": 14,
    "start_time": "2021-07-06T22:20:34.711Z"
   },
   {
    "duration": 7,
    "start_time": "2021-07-06T22:20:34.727Z"
   },
   {
    "duration": 6,
    "start_time": "2021-07-06T22:20:34.737Z"
   },
   {
    "duration": 46,
    "start_time": "2021-07-06T22:20:34.745Z"
   },
   {
    "duration": 9,
    "start_time": "2021-07-06T22:20:34.799Z"
   },
   {
    "duration": 17,
    "start_time": "2021-07-06T22:20:34.811Z"
   },
   {
    "duration": 6,
    "start_time": "2021-07-06T22:20:34.831Z"
   },
   {
    "duration": 52,
    "start_time": "2021-07-06T22:20:34.840Z"
   },
   {
    "duration": 20,
    "start_time": "2021-07-06T22:20:34.895Z"
   },
   {
    "duration": 16,
    "start_time": "2021-07-06T22:20:34.918Z"
   },
   {
    "duration": 5,
    "start_time": "2021-07-06T22:20:34.937Z"
   },
   {
    "duration": 10,
    "start_time": "2021-07-06T22:20:34.944Z"
   },
   {
    "duration": 34,
    "start_time": "2021-07-06T22:20:34.957Z"
   },
   {
    "duration": 22,
    "start_time": "2021-07-06T22:20:34.994Z"
   },
   {
    "duration": 21,
    "start_time": "2021-07-06T22:20:35.019Z"
   },
   {
    "duration": 14,
    "start_time": "2021-07-06T22:20:35.043Z"
   },
   {
    "duration": 15,
    "start_time": "2021-07-06T22:20:35.060Z"
   },
   {
    "duration": 19,
    "start_time": "2021-07-06T22:20:35.086Z"
   },
   {
    "duration": 27,
    "start_time": "2021-07-06T22:20:35.108Z"
   },
   {
    "duration": 13,
    "start_time": "2021-07-06T22:20:35.138Z"
   },
   {
    "duration": 19,
    "start_time": "2021-07-06T22:20:35.154Z"
   },
   {
    "duration": 31,
    "start_time": "2021-07-06T22:20:35.175Z"
   },
   {
    "duration": 8,
    "start_time": "2021-07-06T22:20:35.209Z"
   },
   {
    "duration": 24,
    "start_time": "2021-07-06T22:20:35.219Z"
   },
   {
    "duration": 14,
    "start_time": "2021-07-06T22:20:35.246Z"
   },
   {
    "duration": 7,
    "start_time": "2021-07-06T22:20:35.262Z"
   },
   {
    "duration": 6,
    "start_time": "2021-07-06T22:20:35.286Z"
   },
   {
    "duration": 17,
    "start_time": "2021-07-06T22:20:35.294Z"
   },
   {
    "duration": 23,
    "start_time": "2021-07-06T22:20:35.313Z"
   },
   {
    "duration": 72,
    "start_time": "2021-07-06T22:20:35.339Z"
   },
   {
    "duration": 6,
    "start_time": "2021-07-06T22:20:35.413Z"
   },
   {
    "duration": 12,
    "start_time": "2021-07-06T22:20:35.421Z"
   },
   {
    "duration": 3799,
    "start_time": "2021-07-06T22:20:35.435Z"
   },
   {
    "duration": 18,
    "start_time": "2021-07-06T22:20:39.237Z"
   },
   {
    "duration": 10,
    "start_time": "2021-07-06T22:20:39.258Z"
   },
   {
    "duration": 27,
    "start_time": "2021-07-06T22:20:39.271Z"
   },
   {
    "duration": 19,
    "start_time": "2021-07-06T22:20:39.300Z"
   },
   {
    "duration": 6,
    "start_time": "2021-07-06T22:20:39.321Z"
   },
   {
    "duration": 8,
    "start_time": "2021-07-06T22:21:59.240Z"
   },
   {
    "duration": 20,
    "start_time": "2021-07-06T22:43:30.150Z"
   },
   {
    "duration": 812,
    "start_time": "2021-07-06T22:43:53.989Z"
   },
   {
    "duration": 67,
    "start_time": "2021-07-06T22:43:54.804Z"
   },
   {
    "duration": 19,
    "start_time": "2021-07-06T22:43:54.875Z"
   },
   {
    "duration": 29,
    "start_time": "2021-07-06T22:43:54.898Z"
   },
   {
    "duration": 84,
    "start_time": "2021-07-06T22:43:54.930Z"
   },
   {
    "duration": 5,
    "start_time": "2021-07-06T22:43:55.017Z"
   },
   {
    "duration": 18,
    "start_time": "2021-07-06T22:43:55.025Z"
   },
   {
    "duration": 39,
    "start_time": "2021-07-06T22:43:55.048Z"
   },
   {
    "duration": 14,
    "start_time": "2021-07-06T22:43:55.091Z"
   },
   {
    "duration": 98,
    "start_time": "2021-07-06T22:43:55.108Z"
   },
   {
    "duration": 57,
    "start_time": "2021-07-06T22:43:55.209Z"
   },
   {
    "duration": 27,
    "start_time": "2021-07-06T22:43:55.269Z"
   },
   {
    "duration": 8,
    "start_time": "2021-07-06T22:43:55.298Z"
   },
   {
    "duration": 27,
    "start_time": "2021-07-06T22:43:55.309Z"
   },
   {
    "duration": 5,
    "start_time": "2021-07-06T22:43:55.339Z"
   },
   {
    "duration": 9,
    "start_time": "2021-07-06T22:43:55.346Z"
   },
   {
    "duration": 33,
    "start_time": "2021-07-06T22:43:55.357Z"
   },
   {
    "duration": 10,
    "start_time": "2021-07-06T22:43:55.393Z"
   },
   {
    "duration": 17,
    "start_time": "2021-07-06T22:43:55.406Z"
   },
   {
    "duration": 8,
    "start_time": "2021-07-06T22:43:55.425Z"
   },
   {
    "duration": 9,
    "start_time": "2021-07-06T22:43:55.435Z"
   },
   {
    "duration": 46,
    "start_time": "2021-07-06T22:43:55.446Z"
   },
   {
    "duration": 9,
    "start_time": "2021-07-06T22:43:55.500Z"
   },
   {
    "duration": 13,
    "start_time": "2021-07-06T22:43:55.513Z"
   },
   {
    "duration": 6,
    "start_time": "2021-07-06T22:43:55.529Z"
   },
   {
    "duration": 50,
    "start_time": "2021-07-06T22:43:55.537Z"
   },
   {
    "duration": 10,
    "start_time": "2021-07-06T22:43:55.589Z"
   },
   {
    "duration": 16,
    "start_time": "2021-07-06T22:43:55.601Z"
   },
   {
    "duration": 11,
    "start_time": "2021-07-06T22:43:55.620Z"
   },
   {
    "duration": 11,
    "start_time": "2021-07-06T22:43:55.634Z"
   },
   {
    "duration": 38,
    "start_time": "2021-07-06T22:43:55.648Z"
   },
   {
    "duration": 16,
    "start_time": "2021-07-06T22:43:55.689Z"
   },
   {
    "duration": 16,
    "start_time": "2021-07-06T22:43:55.707Z"
   },
   {
    "duration": 9,
    "start_time": "2021-07-06T22:43:55.725Z"
   },
   {
    "duration": 11,
    "start_time": "2021-07-06T22:43:55.737Z"
   },
   {
    "duration": 44,
    "start_time": "2021-07-06T22:43:55.750Z"
   },
   {
    "duration": 18,
    "start_time": "2021-07-06T22:43:55.797Z"
   },
   {
    "duration": 7,
    "start_time": "2021-07-06T22:43:55.818Z"
   },
   {
    "duration": 12,
    "start_time": "2021-07-06T22:43:55.827Z"
   },
   {
    "duration": 28,
    "start_time": "2021-07-06T22:43:55.842Z"
   },
   {
    "duration": 9,
    "start_time": "2021-07-06T22:43:55.885Z"
   },
   {
    "duration": 11,
    "start_time": "2021-07-06T22:43:55.896Z"
   },
   {
    "duration": 12,
    "start_time": "2021-07-06T22:43:55.909Z"
   },
   {
    "duration": 9,
    "start_time": "2021-07-06T22:43:55.924Z"
   },
   {
    "duration": 14,
    "start_time": "2021-07-06T22:43:55.935Z"
   },
   {
    "duration": 40,
    "start_time": "2021-07-06T22:43:55.952Z"
   },
   {
    "duration": 26,
    "start_time": "2021-07-06T22:43:55.995Z"
   },
   {
    "duration": 81,
    "start_time": "2021-07-06T22:43:56.024Z"
   },
   {
    "duration": 10,
    "start_time": "2021-07-06T22:43:56.107Z"
   },
   {
    "duration": 7,
    "start_time": "2021-07-06T22:43:56.119Z"
   },
   {
    "duration": 3251,
    "start_time": "2021-07-06T22:43:56.128Z"
   },
   {
    "duration": 19,
    "start_time": "2021-07-06T22:43:59.382Z"
   },
   {
    "duration": 24,
    "start_time": "2021-07-06T22:43:59.403Z"
   },
   {
    "duration": 37,
    "start_time": "2021-07-06T22:43:59.429Z"
   },
   {
    "duration": 23,
    "start_time": "2021-07-06T22:43:59.468Z"
   },
   {
    "duration": 10,
    "start_time": "2021-07-06T22:43:59.494Z"
   },
   {
    "duration": 15,
    "start_time": "2021-07-06T22:43:59.507Z"
   },
   {
    "duration": 22,
    "start_time": "2021-07-06T22:43:59.524Z"
   },
   {
    "duration": 423,
    "start_time": "2021-07-06T22:43:59.549Z"
   },
   {
    "duration": 26,
    "start_time": "2021-07-06T22:43:59.974Z"
   },
   {
    "duration": 7,
    "start_time": "2021-07-06T22:45:39.401Z"
   },
   {
    "duration": 10,
    "start_time": "2021-07-06T23:05:23.090Z"
   },
   {
    "duration": 256,
    "start_time": "2021-07-07T07:39:29.523Z"
   },
   {
    "duration": 807,
    "start_time": "2021-07-07T07:39:42.122Z"
   },
   {
    "duration": 68,
    "start_time": "2021-07-07T07:39:42.932Z"
   },
   {
    "duration": 16,
    "start_time": "2021-07-07T07:39:43.003Z"
   },
   {
    "duration": 50,
    "start_time": "2021-07-07T07:39:43.022Z"
   },
   {
    "duration": 47,
    "start_time": "2021-07-07T07:39:43.074Z"
   },
   {
    "duration": 5,
    "start_time": "2021-07-07T07:39:43.126Z"
   },
   {
    "duration": 18,
    "start_time": "2021-07-07T07:39:43.157Z"
   },
   {
    "duration": 16,
    "start_time": "2021-07-07T07:39:43.177Z"
   },
   {
    "duration": 9,
    "start_time": "2021-07-07T07:39:43.197Z"
   },
   {
    "duration": 97,
    "start_time": "2021-07-07T07:39:43.209Z"
   },
   {
    "duration": 73,
    "start_time": "2021-07-07T07:39:43.308Z"
   },
   {
    "duration": 13,
    "start_time": "2021-07-07T07:39:43.383Z"
   },
   {
    "duration": 12,
    "start_time": "2021-07-07T07:39:43.398Z"
   },
   {
    "duration": 9,
    "start_time": "2021-07-07T07:39:43.412Z"
   },
   {
    "duration": 34,
    "start_time": "2021-07-07T07:39:43.424Z"
   },
   {
    "duration": 8,
    "start_time": "2021-07-07T07:39:43.461Z"
   },
   {
    "duration": 9,
    "start_time": "2021-07-07T07:39:43.472Z"
   },
   {
    "duration": 16,
    "start_time": "2021-07-07T07:39:43.484Z"
   },
   {
    "duration": 53,
    "start_time": "2021-07-07T07:39:43.503Z"
   },
   {
    "duration": 12,
    "start_time": "2021-07-07T07:39:43.559Z"
   },
   {
    "duration": 8,
    "start_time": "2021-07-07T07:39:43.574Z"
   },
   {
    "duration": 11,
    "start_time": "2021-07-07T07:39:43.586Z"
   },
   {
    "duration": 60,
    "start_time": "2021-07-07T07:39:43.600Z"
   },
   {
    "duration": 13,
    "start_time": "2021-07-07T07:39:43.663Z"
   },
   {
    "duration": 7,
    "start_time": "2021-07-07T07:39:43.679Z"
   },
   {
    "duration": 9,
    "start_time": "2021-07-07T07:39:43.688Z"
   },
   {
    "duration": 52,
    "start_time": "2021-07-07T07:39:43.704Z"
   },
   {
    "duration": 10,
    "start_time": "2021-07-07T07:39:43.759Z"
   },
   {
    "duration": 4,
    "start_time": "2021-07-07T07:39:43.772Z"
   },
   {
    "duration": 12,
    "start_time": "2021-07-07T07:39:43.778Z"
   },
   {
    "duration": 16,
    "start_time": "2021-07-07T07:39:43.793Z"
   },
   {
    "duration": 46,
    "start_time": "2021-07-07T07:39:43.811Z"
   },
   {
    "duration": 14,
    "start_time": "2021-07-07T07:39:43.860Z"
   },
   {
    "duration": 6,
    "start_time": "2021-07-07T07:39:43.877Z"
   },
   {
    "duration": 10,
    "start_time": "2021-07-07T07:39:43.885Z"
   },
   {
    "duration": 18,
    "start_time": "2021-07-07T07:39:43.898Z"
   },
   {
    "duration": 42,
    "start_time": "2021-07-07T07:39:43.918Z"
   },
   {
    "duration": 7,
    "start_time": "2021-07-07T07:39:43.962Z"
   },
   {
    "duration": 9,
    "start_time": "2021-07-07T07:39:43.971Z"
   },
   {
    "duration": 23,
    "start_time": "2021-07-07T07:39:43.983Z"
   },
   {
    "duration": 8,
    "start_time": "2021-07-07T07:39:44.009Z"
   },
   {
    "duration": 44,
    "start_time": "2021-07-07T07:39:44.019Z"
   },
   {
    "duration": 10,
    "start_time": "2021-07-07T07:39:44.066Z"
   },
   {
    "duration": 10,
    "start_time": "2021-07-07T07:39:44.079Z"
   },
   {
    "duration": 9,
    "start_time": "2021-07-07T07:39:44.092Z"
   },
   {
    "duration": 18,
    "start_time": "2021-07-07T07:39:44.104Z"
   },
   {
    "duration": 57,
    "start_time": "2021-07-07T07:39:44.125Z"
   },
   {
    "duration": 48,
    "start_time": "2021-07-07T07:39:44.184Z"
   },
   {
    "duration": 25,
    "start_time": "2021-07-07T07:39:44.235Z"
   },
   {
    "duration": 8,
    "start_time": "2021-07-07T07:39:44.263Z"
   },
   {
    "duration": 5298,
    "start_time": "2021-07-07T07:39:44.274Z"
   },
   {
    "duration": 21,
    "start_time": "2021-07-07T07:39:49.575Z"
   },
   {
    "duration": 8,
    "start_time": "2021-07-07T07:39:49.599Z"
   },
   {
    "duration": 17,
    "start_time": "2021-07-07T07:39:49.609Z"
   },
   {
    "duration": 9,
    "start_time": "2021-07-07T07:39:49.656Z"
   },
   {
    "duration": 368,
    "start_time": "2021-07-07T07:39:49.668Z"
   },
   {
    "duration": 2518,
    "start_time": "2021-07-07T07:39:47.520Z"
   },
   {
    "duration": 2515,
    "start_time": "2021-07-07T07:39:47.525Z"
   },
   {
    "duration": 2512,
    "start_time": "2021-07-07T07:39:47.531Z"
   },
   {
    "duration": 2507,
    "start_time": "2021-07-07T07:39:47.538Z"
   },
   {
    "duration": 2503,
    "start_time": "2021-07-07T07:39:47.544Z"
   },
   {
    "duration": 2500,
    "start_time": "2021-07-07T07:39:47.549Z"
   },
   {
    "duration": 2498,
    "start_time": "2021-07-07T07:39:47.553Z"
   },
   {
    "duration": 2481,
    "start_time": "2021-07-07T07:39:47.572Z"
   },
   {
    "duration": 2479,
    "start_time": "2021-07-07T07:39:47.577Z"
   },
   {
    "duration": 569,
    "start_time": "2021-07-07T07:40:07.732Z"
   },
   {
    "duration": 287,
    "start_time": "2021-07-07T07:40:58.962Z"
   },
   {
    "duration": 1010,
    "start_time": "2021-07-07T07:41:56.420Z"
   },
   {
    "duration": 80,
    "start_time": "2021-07-07T07:41:57.434Z"
   },
   {
    "duration": 14,
    "start_time": "2021-07-07T07:41:57.517Z"
   },
   {
    "duration": 42,
    "start_time": "2021-07-07T07:41:57.534Z"
   },
   {
    "duration": 59,
    "start_time": "2021-07-07T07:41:57.579Z"
   },
   {
    "duration": 4,
    "start_time": "2021-07-07T07:41:57.641Z"
   },
   {
    "duration": 12,
    "start_time": "2021-07-07T07:41:57.657Z"
   },
   {
    "duration": 26,
    "start_time": "2021-07-07T07:41:57.674Z"
   },
   {
    "duration": 18,
    "start_time": "2021-07-07T07:41:57.704Z"
   },
   {
    "duration": 76,
    "start_time": "2021-07-07T07:41:57.725Z"
   },
   {
    "duration": 70,
    "start_time": "2021-07-07T07:41:57.804Z"
   },
   {
    "duration": 12,
    "start_time": "2021-07-07T07:41:57.877Z"
   },
   {
    "duration": 14,
    "start_time": "2021-07-07T07:41:57.891Z"
   },
   {
    "duration": 16,
    "start_time": "2021-07-07T07:41:57.907Z"
   },
   {
    "duration": 13,
    "start_time": "2021-07-07T07:41:57.926Z"
   },
   {
    "duration": 19,
    "start_time": "2021-07-07T07:41:57.941Z"
   },
   {
    "duration": 15,
    "start_time": "2021-07-07T07:41:57.962Z"
   },
   {
    "duration": 9,
    "start_time": "2021-07-07T07:41:57.980Z"
   },
   {
    "duration": 25,
    "start_time": "2021-07-07T07:41:57.991Z"
   },
   {
    "duration": 36,
    "start_time": "2021-07-07T07:41:58.019Z"
   },
   {
    "duration": 6,
    "start_time": "2021-07-07T07:41:58.058Z"
   },
   {
    "duration": 20,
    "start_time": "2021-07-07T07:41:58.067Z"
   },
   {
    "duration": 9,
    "start_time": "2021-07-07T07:41:58.093Z"
   },
   {
    "duration": 52,
    "start_time": "2021-07-07T07:41:58.106Z"
   },
   {
    "duration": 7,
    "start_time": "2021-07-07T07:41:58.161Z"
   },
   {
    "duration": 14,
    "start_time": "2021-07-07T07:41:58.170Z"
   },
   {
    "duration": 18,
    "start_time": "2021-07-07T07:41:58.187Z"
   },
   {
    "duration": 19,
    "start_time": "2021-07-07T07:41:58.208Z"
   },
   {
    "duration": 5,
    "start_time": "2021-07-07T07:41:58.255Z"
   },
   {
    "duration": 13,
    "start_time": "2021-07-07T07:41:58.263Z"
   },
   {
    "duration": 29,
    "start_time": "2021-07-07T07:41:58.279Z"
   },
   {
    "duration": 32,
    "start_time": "2021-07-07T07:41:58.311Z"
   },
   {
    "duration": 27,
    "start_time": "2021-07-07T07:41:58.345Z"
   },
   {
    "duration": 19,
    "start_time": "2021-07-07T07:41:58.374Z"
   },
   {
    "duration": 16,
    "start_time": "2021-07-07T07:41:58.395Z"
   },
   {
    "duration": 25,
    "start_time": "2021-07-07T07:41:58.413Z"
   },
   {
    "duration": 9,
    "start_time": "2021-07-07T07:41:58.441Z"
   },
   {
    "duration": 17,
    "start_time": "2021-07-07T07:41:58.452Z"
   },
   {
    "duration": 23,
    "start_time": "2021-07-07T07:41:58.471Z"
   },
   {
    "duration": 32,
    "start_time": "2021-07-07T07:41:58.496Z"
   },
   {
    "duration": 25,
    "start_time": "2021-07-07T07:41:58.531Z"
   },
   {
    "duration": 22,
    "start_time": "2021-07-07T07:41:58.559Z"
   },
   {
    "duration": 26,
    "start_time": "2021-07-07T07:41:58.583Z"
   },
   {
    "duration": 21,
    "start_time": "2021-07-07T07:41:58.612Z"
   },
   {
    "duration": 23,
    "start_time": "2021-07-07T07:41:58.636Z"
   },
   {
    "duration": 35,
    "start_time": "2021-07-07T07:41:58.662Z"
   },
   {
    "duration": 41,
    "start_time": "2021-07-07T07:41:58.699Z"
   },
   {
    "duration": 46,
    "start_time": "2021-07-07T07:41:58.743Z"
   },
   {
    "duration": 8,
    "start_time": "2021-07-07T07:41:58.792Z"
   },
   {
    "duration": 17,
    "start_time": "2021-07-07T07:41:58.802Z"
   },
   {
    "duration": 3444,
    "start_time": "2021-07-07T07:41:58.821Z"
   },
   {
    "duration": 31,
    "start_time": "2021-07-07T07:42:02.268Z"
   },
   {
    "duration": 26,
    "start_time": "2021-07-07T07:42:02.301Z"
   },
   {
    "duration": 32,
    "start_time": "2021-07-07T07:42:02.329Z"
   },
   {
    "duration": 17,
    "start_time": "2021-07-07T07:42:02.363Z"
   },
   {
    "duration": 391,
    "start_time": "2021-07-07T07:42:02.383Z"
   },
   {
    "duration": 2476,
    "start_time": "2021-07-07T07:42:00.301Z"
   },
   {
    "duration": 2474,
    "start_time": "2021-07-07T07:42:00.306Z"
   },
   {
    "duration": 2469,
    "start_time": "2021-07-07T07:42:00.313Z"
   },
   {
    "duration": 2465,
    "start_time": "2021-07-07T07:42:00.318Z"
   },
   {
    "duration": 2451,
    "start_time": "2021-07-07T07:42:00.334Z"
   },
   {
    "duration": 2448,
    "start_time": "2021-07-07T07:42:00.339Z"
   },
   {
    "duration": 2444,
    "start_time": "2021-07-07T07:42:00.345Z"
   },
   {
    "duration": 2441,
    "start_time": "2021-07-07T07:42:00.350Z"
   },
   {
    "duration": 29,
    "start_time": "2021-07-07T08:23:39.625Z"
   },
   {
    "duration": 10,
    "start_time": "2021-07-07T08:23:59.584Z"
   },
   {
    "duration": 7,
    "start_time": "2021-07-07T08:24:00.055Z"
   },
   {
    "duration": 12,
    "start_time": "2021-07-07T08:24:01.075Z"
   },
   {
    "duration": 7,
    "start_time": "2021-07-07T08:24:03.575Z"
   },
   {
    "duration": 3122,
    "start_time": "2021-07-07T08:24:04.285Z"
   },
   {
    "duration": 23,
    "start_time": "2021-07-07T08:24:07.411Z"
   },
   {
    "duration": 22,
    "start_time": "2021-07-07T08:24:07.437Z"
   },
   {
    "duration": 28,
    "start_time": "2021-07-07T08:40:30.565Z"
   },
   {
    "duration": 23,
    "start_time": "2021-07-07T08:40:30.906Z"
   },
   {
    "duration": 30,
    "start_time": "2021-07-07T08:41:03.425Z"
   },
   {
    "duration": 24,
    "start_time": "2021-07-07T08:41:04.696Z"
   },
   {
    "duration": 783,
    "start_time": "2021-07-07T08:41:15.823Z"
   },
   {
    "duration": 65,
    "start_time": "2021-07-07T08:41:16.608Z"
   },
   {
    "duration": 16,
    "start_time": "2021-07-07T08:41:16.677Z"
   },
   {
    "duration": 29,
    "start_time": "2021-07-07T08:41:16.695Z"
   },
   {
    "duration": 71,
    "start_time": "2021-07-07T08:41:16.727Z"
   },
   {
    "duration": 4,
    "start_time": "2021-07-07T08:41:16.801Z"
   },
   {
    "duration": 10,
    "start_time": "2021-07-07T08:41:16.807Z"
   },
   {
    "duration": 47,
    "start_time": "2021-07-07T08:41:16.822Z"
   },
   {
    "duration": 10,
    "start_time": "2021-07-07T08:41:16.873Z"
   },
   {
    "duration": 94,
    "start_time": "2021-07-07T08:41:16.886Z"
   },
   {
    "duration": 73,
    "start_time": "2021-07-07T08:41:16.982Z"
   },
   {
    "duration": 15,
    "start_time": "2021-07-07T08:41:17.058Z"
   },
   {
    "duration": 10,
    "start_time": "2021-07-07T08:41:17.076Z"
   },
   {
    "duration": 10,
    "start_time": "2021-07-07T08:41:17.089Z"
   },
   {
    "duration": 9,
    "start_time": "2021-07-07T08:41:17.102Z"
   },
   {
    "duration": 47,
    "start_time": "2021-07-07T08:41:17.113Z"
   },
   {
    "duration": 21,
    "start_time": "2021-07-07T08:41:17.163Z"
   },
   {
    "duration": 10,
    "start_time": "2021-07-07T08:41:17.187Z"
   },
   {
    "duration": 15,
    "start_time": "2021-07-07T08:41:17.200Z"
   },
   {
    "duration": 41,
    "start_time": "2021-07-07T08:41:17.218Z"
   },
   {
    "duration": 6,
    "start_time": "2021-07-07T08:41:17.261Z"
   },
   {
    "duration": 13,
    "start_time": "2021-07-07T08:41:17.270Z"
   },
   {
    "duration": 10,
    "start_time": "2021-07-07T08:41:17.289Z"
   },
   {
    "duration": 55,
    "start_time": "2021-07-07T08:41:17.302Z"
   },
   {
    "duration": 6,
    "start_time": "2021-07-07T08:41:17.360Z"
   },
   {
    "duration": 9,
    "start_time": "2021-07-07T08:41:17.369Z"
   },
   {
    "duration": 10,
    "start_time": "2021-07-07T08:41:17.380Z"
   },
   {
    "duration": 11,
    "start_time": "2021-07-07T08:41:17.393Z"
   },
   {
    "duration": 51,
    "start_time": "2021-07-07T08:41:17.407Z"
   },
   {
    "duration": 13,
    "start_time": "2021-07-07T08:41:17.461Z"
   },
   {
    "duration": 11,
    "start_time": "2021-07-07T08:41:17.477Z"
   },
   {
    "duration": 20,
    "start_time": "2021-07-07T08:41:17.491Z"
   },
   {
    "duration": 8,
    "start_time": "2021-07-07T08:41:17.513Z"
   },
   {
    "duration": 36,
    "start_time": "2021-07-07T08:41:17.523Z"
   },
   {
    "duration": 10,
    "start_time": "2021-07-07T08:41:17.562Z"
   },
   {
    "duration": 27,
    "start_time": "2021-07-07T08:41:17.575Z"
   },
   {
    "duration": 53,
    "start_time": "2021-07-07T08:41:17.605Z"
   },
   {
    "duration": 6,
    "start_time": "2021-07-07T08:41:17.661Z"
   },
   {
    "duration": 12,
    "start_time": "2021-07-07T08:41:17.670Z"
   },
   {
    "duration": 31,
    "start_time": "2021-07-07T08:41:17.685Z"
   },
   {
    "duration": 44,
    "start_time": "2021-07-07T08:41:17.719Z"
   },
   {
    "duration": 11,
    "start_time": "2021-07-07T08:41:17.766Z"
   },
   {
    "duration": 17,
    "start_time": "2021-07-07T08:41:17.780Z"
   },
   {
    "duration": 8,
    "start_time": "2021-07-07T08:41:17.799Z"
   },
   {
    "duration": 14,
    "start_time": "2021-07-07T08:41:17.809Z"
   },
   {
    "duration": 36,
    "start_time": "2021-07-07T08:41:17.826Z"
   },
   {
    "duration": 24,
    "start_time": "2021-07-07T08:41:17.864Z"
   },
   {
    "duration": 71,
    "start_time": "2021-07-07T08:41:17.890Z"
   },
   {
    "duration": 6,
    "start_time": "2021-07-07T08:41:17.963Z"
   },
   {
    "duration": 11,
    "start_time": "2021-07-07T08:41:17.972Z"
   },
   {
    "duration": 3252,
    "start_time": "2021-07-07T08:41:17.986Z"
   },
   {
    "duration": 23,
    "start_time": "2021-07-07T08:41:21.241Z"
   },
   {
    "duration": 15,
    "start_time": "2021-07-07T08:41:21.266Z"
   },
   {
    "duration": 29,
    "start_time": "2021-07-07T08:41:21.284Z"
   },
   {
    "duration": 25,
    "start_time": "2021-07-07T08:41:21.315Z"
   },
   {
    "duration": 31,
    "start_time": "2021-07-07T08:41:21.342Z"
   },
   {
    "duration": 21,
    "start_time": "2021-07-07T08:41:21.376Z"
   },
   {
    "duration": 13,
    "start_time": "2021-07-07T08:41:21.400Z"
   },
   {
    "duration": 6,
    "start_time": "2021-07-07T08:41:21.415Z"
   },
   {
    "duration": 28,
    "start_time": "2021-07-07T08:41:43.613Z"
   },
   {
    "duration": 10,
    "start_time": "2021-07-07T08:42:01.285Z"
   },
   {
    "duration": 31,
    "start_time": "2021-07-07T08:42:02.480Z"
   },
   {
    "duration": 9,
    "start_time": "2021-07-07T08:42:08.942Z"
   },
   {
    "duration": 9,
    "start_time": "2021-07-07T08:44:21.082Z"
   },
   {
    "duration": 1215,
    "start_time": "2021-07-07T08:50:29.482Z"
   },
   {
    "duration": 996,
    "start_time": "2021-07-07T08:51:42.960Z"
   },
   {
    "duration": 11,
    "start_time": "2021-07-07T09:04:51.593Z"
   },
   {
    "duration": 21,
    "start_time": "2021-07-07T09:04:52.582Z"
   },
   {
    "duration": 8,
    "start_time": "2021-07-07T09:04:58.562Z"
   },
   {
    "duration": 1126,
    "start_time": "2021-07-07T09:05:02.802Z"
   },
   {
    "duration": 10,
    "start_time": "2021-07-07T09:07:06.842Z"
   },
   {
    "duration": 22,
    "start_time": "2021-07-07T09:07:07.712Z"
   },
   {
    "duration": 12,
    "start_time": "2021-07-07T09:07:08.642Z"
   },
   {
    "duration": 1007,
    "start_time": "2021-07-07T09:12:26.562Z"
   },
   {
    "duration": 3,
    "start_time": "2021-07-07T09:12:55.882Z"
   },
   {
    "duration": 807,
    "start_time": "2021-07-07T09:14:59.855Z"
   },
   {
    "duration": 70,
    "start_time": "2021-07-07T09:15:00.665Z"
   },
   {
    "duration": 24,
    "start_time": "2021-07-07T09:15:00.737Z"
   },
   {
    "duration": 33,
    "start_time": "2021-07-07T09:15:00.764Z"
   },
   {
    "duration": 62,
    "start_time": "2021-07-07T09:15:00.800Z"
   },
   {
    "duration": 4,
    "start_time": "2021-07-07T09:15:00.865Z"
   },
   {
    "duration": 20,
    "start_time": "2021-07-07T09:15:00.871Z"
   },
   {
    "duration": 26,
    "start_time": "2021-07-07T09:15:00.895Z"
   },
   {
    "duration": 14,
    "start_time": "2021-07-07T09:15:00.925Z"
   },
   {
    "duration": 77,
    "start_time": "2021-07-07T09:15:00.941Z"
   },
   {
    "duration": 75,
    "start_time": "2021-07-07T09:15:01.020Z"
   },
   {
    "duration": 14,
    "start_time": "2021-07-07T09:15:01.097Z"
   },
   {
    "duration": 21,
    "start_time": "2021-07-07T09:15:01.114Z"
   },
   {
    "duration": 41,
    "start_time": "2021-07-07T09:15:01.137Z"
   },
   {
    "duration": 40,
    "start_time": "2021-07-07T09:15:01.180Z"
   },
   {
    "duration": 24,
    "start_time": "2021-07-07T09:15:01.223Z"
   },
   {
    "duration": 14,
    "start_time": "2021-07-07T09:15:01.249Z"
   },
   {
    "duration": 11,
    "start_time": "2021-07-07T09:15:01.266Z"
   },
   {
    "duration": 16,
    "start_time": "2021-07-07T09:15:01.280Z"
   },
   {
    "duration": 24,
    "start_time": "2021-07-07T09:15:01.298Z"
   },
   {
    "duration": 18,
    "start_time": "2021-07-07T09:15:01.325Z"
   },
   {
    "duration": 37,
    "start_time": "2021-07-07T09:15:01.346Z"
   },
   {
    "duration": 51,
    "start_time": "2021-07-07T09:15:01.392Z"
   },
   {
    "duration": 45,
    "start_time": "2021-07-07T09:15:01.446Z"
   },
   {
    "duration": 21,
    "start_time": "2021-07-07T09:15:01.494Z"
   },
   {
    "duration": 18,
    "start_time": "2021-07-07T09:15:01.518Z"
   },
   {
    "duration": 29,
    "start_time": "2021-07-07T09:15:01.539Z"
   },
   {
    "duration": 47,
    "start_time": "2021-07-07T09:15:01.572Z"
   },
   {
    "duration": 117,
    "start_time": "2021-07-07T09:15:01.622Z"
   },
   {
    "duration": 37,
    "start_time": "2021-07-07T09:15:01.743Z"
   },
   {
    "duration": 43,
    "start_time": "2021-07-07T09:15:01.783Z"
   },
   {
    "duration": 41,
    "start_time": "2021-07-07T09:15:01.829Z"
   },
   {
    "duration": 22,
    "start_time": "2021-07-07T09:15:01.873Z"
   },
   {
    "duration": 32,
    "start_time": "2021-07-07T09:15:01.898Z"
   },
   {
    "duration": 27,
    "start_time": "2021-07-07T09:15:01.933Z"
   },
   {
    "duration": 38,
    "start_time": "2021-07-07T09:15:01.963Z"
   },
   {
    "duration": 34,
    "start_time": "2021-07-07T09:15:02.004Z"
   },
   {
    "duration": 7,
    "start_time": "2021-07-07T09:15:02.040Z"
   },
   {
    "duration": 18,
    "start_time": "2021-07-07T09:15:02.050Z"
   },
   {
    "duration": 42,
    "start_time": "2021-07-07T09:15:02.070Z"
   },
   {
    "duration": 9,
    "start_time": "2021-07-07T09:15:02.115Z"
   },
   {
    "duration": 24,
    "start_time": "2021-07-07T09:15:02.127Z"
   },
   {
    "duration": 46,
    "start_time": "2021-07-07T09:15:02.154Z"
   },
   {
    "duration": 42,
    "start_time": "2021-07-07T09:15:02.202Z"
   },
   {
    "duration": 31,
    "start_time": "2021-07-07T09:15:02.246Z"
   },
   {
    "duration": 42,
    "start_time": "2021-07-07T09:15:02.280Z"
   },
   {
    "duration": 31,
    "start_time": "2021-07-07T09:15:02.325Z"
   },
   {
    "duration": 47,
    "start_time": "2021-07-07T09:15:02.359Z"
   },
   {
    "duration": 7,
    "start_time": "2021-07-07T09:15:02.409Z"
   },
   {
    "duration": 38,
    "start_time": "2021-07-07T09:15:02.419Z"
   },
   {
    "duration": 3481,
    "start_time": "2021-07-07T09:15:02.460Z"
   },
   {
    "duration": 20,
    "start_time": "2021-07-07T09:15:05.944Z"
   },
   {
    "duration": 92,
    "start_time": "2021-07-07T09:15:05.966Z"
   },
   {
    "duration": 38,
    "start_time": "2021-07-07T09:15:06.061Z"
   },
   {
    "duration": 33,
    "start_time": "2021-07-07T09:15:06.101Z"
   },
   {
    "duration": 31,
    "start_time": "2021-07-07T09:15:06.136Z"
   },
   {
    "duration": 23,
    "start_time": "2021-07-07T09:15:06.169Z"
   },
   {
    "duration": 9,
    "start_time": "2021-07-07T09:15:06.195Z"
   },
   {
    "duration": 15,
    "start_time": "2021-07-07T09:15:06.207Z"
   },
   {
    "duration": 32,
    "start_time": "2021-07-07T09:15:06.224Z"
   },
   {
    "duration": 760,
    "start_time": "2021-07-07T09:43:01.358Z"
   },
   {
    "duration": 67,
    "start_time": "2021-07-07T09:43:02.121Z"
   },
   {
    "duration": 15,
    "start_time": "2021-07-07T09:43:02.191Z"
   },
   {
    "duration": 54,
    "start_time": "2021-07-07T09:43:02.210Z"
   },
   {
    "duration": 47,
    "start_time": "2021-07-07T09:43:02.266Z"
   },
   {
    "duration": 4,
    "start_time": "2021-07-07T09:43:02.315Z"
   },
   {
    "duration": 36,
    "start_time": "2021-07-07T09:43:02.321Z"
   },
   {
    "duration": 18,
    "start_time": "2021-07-07T09:43:02.359Z"
   },
   {
    "duration": 14,
    "start_time": "2021-07-07T09:43:02.381Z"
   },
   {
    "duration": 81,
    "start_time": "2021-07-07T09:43:02.398Z"
   },
   {
    "duration": 56,
    "start_time": "2021-07-07T09:43:02.481Z"
   },
   {
    "duration": 21,
    "start_time": "2021-07-07T09:43:02.540Z"
   },
   {
    "duration": 20,
    "start_time": "2021-07-07T09:43:02.563Z"
   },
   {
    "duration": 20,
    "start_time": "2021-07-07T09:43:02.585Z"
   },
   {
    "duration": 15,
    "start_time": "2021-07-07T09:43:02.607Z"
   },
   {
    "duration": 24,
    "start_time": "2021-07-07T09:43:02.624Z"
   },
   {
    "duration": 11,
    "start_time": "2021-07-07T09:43:02.651Z"
   },
   {
    "duration": 14,
    "start_time": "2021-07-07T09:43:02.664Z"
   },
   {
    "duration": 42,
    "start_time": "2021-07-07T09:43:02.680Z"
   },
   {
    "duration": 16,
    "start_time": "2021-07-07T09:43:02.725Z"
   },
   {
    "duration": 17,
    "start_time": "2021-07-07T09:43:02.743Z"
   },
   {
    "duration": 23,
    "start_time": "2021-07-07T09:43:02.762Z"
   },
   {
    "duration": 19,
    "start_time": "2021-07-07T09:43:02.787Z"
   },
   {
    "duration": 34,
    "start_time": "2021-07-07T09:43:02.808Z"
   },
   {
    "duration": 10,
    "start_time": "2021-07-07T09:43:02.845Z"
   },
   {
    "duration": 25,
    "start_time": "2021-07-07T09:43:02.858Z"
   },
   {
    "duration": 28,
    "start_time": "2021-07-07T09:43:02.890Z"
   },
   {
    "duration": 16,
    "start_time": "2021-07-07T09:43:02.922Z"
   },
   {
    "duration": 21,
    "start_time": "2021-07-07T09:43:02.941Z"
   },
   {
    "duration": 20,
    "start_time": "2021-07-07T09:43:02.965Z"
   },
   {
    "duration": 22,
    "start_time": "2021-07-07T09:43:02.988Z"
   },
   {
    "duration": 33,
    "start_time": "2021-07-07T09:43:03.013Z"
   },
   {
    "duration": 17,
    "start_time": "2021-07-07T09:43:03.048Z"
   },
   {
    "duration": 14,
    "start_time": "2021-07-07T09:43:03.067Z"
   },
   {
    "duration": 24,
    "start_time": "2021-07-07T09:43:03.084Z"
   },
   {
    "duration": 24,
    "start_time": "2021-07-07T09:43:03.111Z"
   },
   {
    "duration": 25,
    "start_time": "2021-07-07T09:43:03.137Z"
   },
   {
    "duration": 17,
    "start_time": "2021-07-07T09:43:03.165Z"
   },
   {
    "duration": 11,
    "start_time": "2021-07-07T09:43:03.184Z"
   },
   {
    "duration": 26,
    "start_time": "2021-07-07T09:43:03.197Z"
   },
   {
    "duration": 8,
    "start_time": "2021-07-07T09:43:03.225Z"
   },
   {
    "duration": 23,
    "start_time": "2021-07-07T09:43:03.236Z"
   },
   {
    "duration": 13,
    "start_time": "2021-07-07T09:43:03.262Z"
   },
   {
    "duration": 13,
    "start_time": "2021-07-07T09:43:03.277Z"
   },
   {
    "duration": 9,
    "start_time": "2021-07-07T09:43:03.292Z"
   },
   {
    "duration": 18,
    "start_time": "2021-07-07T09:43:03.304Z"
   },
   {
    "duration": 49,
    "start_time": "2021-07-07T09:43:03.325Z"
   },
   {
    "duration": 48,
    "start_time": "2021-07-07T09:43:03.376Z"
   },
   {
    "duration": 30,
    "start_time": "2021-07-07T09:43:03.426Z"
   },
   {
    "duration": 7,
    "start_time": "2021-07-07T09:43:03.458Z"
   },
   {
    "duration": 3546,
    "start_time": "2021-07-07T09:43:03.468Z"
   },
   {
    "duration": 20,
    "start_time": "2021-07-07T09:43:07.016Z"
   },
   {
    "duration": 21,
    "start_time": "2021-07-07T09:43:07.038Z"
   },
   {
    "duration": 26,
    "start_time": "2021-07-07T09:43:07.061Z"
   },
   {
    "duration": 30,
    "start_time": "2021-07-07T09:43:07.089Z"
   },
   {
    "duration": 18,
    "start_time": "2021-07-07T09:43:07.122Z"
   },
   {
    "duration": 39,
    "start_time": "2021-07-07T09:43:07.143Z"
   },
   {
    "duration": 13,
    "start_time": "2021-07-07T09:43:07.185Z"
   },
   {
    "duration": 11,
    "start_time": "2021-07-07T09:43:07.201Z"
   },
   {
    "duration": 14,
    "start_time": "2021-07-07T09:43:07.215Z"
   },
   {
    "duration": 10904,
    "start_time": "2021-07-07T09:43:07.232Z"
   },
   {
    "duration": 5,
    "start_time": "2021-07-07T11:08:12.542Z"
   },
   {
    "duration": 10722,
    "start_time": "2021-07-07T11:08:12.558Z"
   },
   {
    "duration": 342,
    "start_time": "2021-07-07T11:22:23.971Z"
   },
   {
    "duration": 258,
    "start_time": "2021-07-07T11:24:09.662Z"
   },
   {
    "duration": 11,
    "start_time": "2021-07-07T11:24:21.141Z"
   },
   {
    "duration": 11,
    "start_time": "2021-07-07T11:25:11.331Z"
   },
   {
    "duration": 6,
    "start_time": "2021-07-07T11:38:40.811Z"
   },
   {
    "duration": 7,
    "start_time": "2021-07-07T14:58:09.460Z"
   },
   {
    "duration": 956,
    "start_time": "2021-07-07T14:59:12.561Z"
   },
   {
    "duration": 44,
    "start_time": "2021-07-07T14:59:23.758Z"
   },
   {
    "duration": 7,
    "start_time": "2021-07-07T15:05:32.112Z"
   },
   {
    "duration": 10550,
    "start_time": "2021-07-07T15:05:33.254Z"
   },
   {
    "duration": 56,
    "start_time": "2021-07-07T15:05:43.808Z"
   },
   {
    "duration": 786,
    "start_time": "2021-07-07T15:05:46.167Z"
   },
   {
    "duration": 66,
    "start_time": "2021-07-07T15:05:46.956Z"
   },
   {
    "duration": 14,
    "start_time": "2021-07-07T15:05:47.026Z"
   },
   {
    "duration": 39,
    "start_time": "2021-07-07T15:05:47.043Z"
   },
   {
    "duration": 73,
    "start_time": "2021-07-07T15:05:47.085Z"
   },
   {
    "duration": 5,
    "start_time": "2021-07-07T15:05:47.160Z"
   },
   {
    "duration": 14,
    "start_time": "2021-07-07T15:05:47.169Z"
   },
   {
    "duration": 21,
    "start_time": "2021-07-07T15:05:47.189Z"
   },
   {
    "duration": 42,
    "start_time": "2021-07-07T15:05:47.214Z"
   },
   {
    "duration": 64,
    "start_time": "2021-07-07T15:05:47.260Z"
   },
   {
    "duration": 85,
    "start_time": "2021-07-07T15:05:47.326Z"
   },
   {
    "duration": 14,
    "start_time": "2021-07-07T15:05:47.418Z"
   },
   {
    "duration": 9,
    "start_time": "2021-07-07T15:05:47.455Z"
   },
   {
    "duration": 9,
    "start_time": "2021-07-07T15:05:47.466Z"
   },
   {
    "duration": 15,
    "start_time": "2021-07-07T15:05:47.478Z"
   },
   {
    "duration": 21,
    "start_time": "2021-07-07T15:05:47.495Z"
   },
   {
    "duration": 28,
    "start_time": "2021-07-07T15:05:47.518Z"
   },
   {
    "duration": 8,
    "start_time": "2021-07-07T15:05:47.556Z"
   },
   {
    "duration": 27,
    "start_time": "2021-07-07T15:05:47.566Z"
   },
   {
    "duration": 10,
    "start_time": "2021-07-07T15:05:47.596Z"
   },
   {
    "duration": 16,
    "start_time": "2021-07-07T15:05:47.608Z"
   },
   {
    "duration": 34,
    "start_time": "2021-07-07T15:05:47.627Z"
   },
   {
    "duration": 11,
    "start_time": "2021-07-07T15:05:47.667Z"
   },
   {
    "duration": 23,
    "start_time": "2021-07-07T15:05:47.682Z"
   },
   {
    "duration": 11,
    "start_time": "2021-07-07T15:05:47.708Z"
   },
   {
    "duration": 37,
    "start_time": "2021-07-07T15:05:47.721Z"
   },
   {
    "duration": 16,
    "start_time": "2021-07-07T15:05:47.760Z"
   },
   {
    "duration": 17,
    "start_time": "2021-07-07T15:05:47.779Z"
   },
   {
    "duration": 4,
    "start_time": "2021-07-07T15:05:47.799Z"
   },
   {
    "duration": 12,
    "start_time": "2021-07-07T15:05:47.806Z"
   },
   {
    "duration": 45,
    "start_time": "2021-07-07T15:05:47.820Z"
   },
   {
    "duration": 25,
    "start_time": "2021-07-07T15:05:47.868Z"
   },
   {
    "duration": 20,
    "start_time": "2021-07-07T15:05:47.897Z"
   },
   {
    "duration": 15,
    "start_time": "2021-07-07T15:05:47.920Z"
   },
   {
    "duration": 5,
    "start_time": "2021-07-07T15:05:47.958Z"
   },
   {
    "duration": 28,
    "start_time": "2021-07-07T15:05:47.966Z"
   },
   {
    "duration": 11,
    "start_time": "2021-07-07T15:05:47.997Z"
   },
   {
    "duration": 6,
    "start_time": "2021-07-07T15:05:48.011Z"
   },
   {
    "duration": 53,
    "start_time": "2021-07-07T15:05:48.020Z"
   },
   {
    "duration": 24,
    "start_time": "2021-07-07T15:05:48.076Z"
   },
   {
    "duration": 9,
    "start_time": "2021-07-07T15:05:48.103Z"
   },
   {
    "duration": 43,
    "start_time": "2021-07-07T15:05:48.116Z"
   },
   {
    "duration": 14,
    "start_time": "2021-07-07T15:05:48.162Z"
   },
   {
    "duration": 8,
    "start_time": "2021-07-07T15:05:48.180Z"
   },
   {
    "duration": 10,
    "start_time": "2021-07-07T15:05:48.191Z"
   },
   {
    "duration": 19,
    "start_time": "2021-07-07T15:05:48.204Z"
   },
   {
    "duration": 47,
    "start_time": "2021-07-07T15:05:48.226Z"
   },
   {
    "duration": 49,
    "start_time": "2021-07-07T15:05:48.276Z"
   },
   {
    "duration": 29,
    "start_time": "2021-07-07T15:05:48.327Z"
   },
   {
    "duration": 9,
    "start_time": "2021-07-07T15:05:48.359Z"
   },
   {
    "duration": 3573,
    "start_time": "2021-07-07T15:05:48.371Z"
   },
   {
    "duration": 21,
    "start_time": "2021-07-07T15:05:51.947Z"
   },
   {
    "duration": 29,
    "start_time": "2021-07-07T15:05:51.971Z"
   },
   {
    "duration": 22,
    "start_time": "2021-07-07T15:05:52.002Z"
   },
   {
    "duration": 28,
    "start_time": "2021-07-07T15:05:52.027Z"
   },
   {
    "duration": 23,
    "start_time": "2021-07-07T15:05:52.058Z"
   },
   {
    "duration": 20,
    "start_time": "2021-07-07T15:05:52.083Z"
   },
   {
    "duration": 4,
    "start_time": "2021-07-07T15:05:52.106Z"
   },
   {
    "duration": 45,
    "start_time": "2021-07-07T15:05:52.113Z"
   },
   {
    "duration": 8,
    "start_time": "2021-07-07T15:05:52.161Z"
   },
   {
    "duration": 10653,
    "start_time": "2021-07-07T15:05:52.172Z"
   },
   {
    "duration": 55,
    "start_time": "2021-07-07T15:06:02.828Z"
   },
   {
    "duration": 29,
    "start_time": "2021-07-07T15:06:19.299Z"
   },
   {
    "duration": 774,
    "start_time": "2021-07-07T20:56:37.799Z"
   },
   {
    "duration": 67,
    "start_time": "2021-07-07T20:56:38.576Z"
   },
   {
    "duration": 19,
    "start_time": "2021-07-07T20:56:38.646Z"
   },
   {
    "duration": 49,
    "start_time": "2021-07-07T20:56:38.668Z"
   },
   {
    "duration": 83,
    "start_time": "2021-07-07T20:56:38.720Z"
   },
   {
    "duration": 5,
    "start_time": "2021-07-07T20:56:38.806Z"
   },
   {
    "duration": 7,
    "start_time": "2021-07-07T20:56:38.814Z"
   },
   {
    "duration": 17,
    "start_time": "2021-07-07T20:56:38.855Z"
   },
   {
    "duration": 12,
    "start_time": "2021-07-07T20:56:38.876Z"
   },
   {
    "duration": 99,
    "start_time": "2021-07-07T20:56:38.891Z"
   },
   {
    "duration": 77,
    "start_time": "2021-07-07T20:56:38.993Z"
   },
   {
    "duration": 18,
    "start_time": "2021-07-07T20:56:39.073Z"
   },
   {
    "duration": 9,
    "start_time": "2021-07-07T20:56:39.094Z"
   },
   {
    "duration": 12,
    "start_time": "2021-07-07T20:56:39.106Z"
   },
   {
    "duration": 40,
    "start_time": "2021-07-07T20:56:39.120Z"
   },
   {
    "duration": 7,
    "start_time": "2021-07-07T20:56:39.163Z"
   },
   {
    "duration": 13,
    "start_time": "2021-07-07T20:56:39.172Z"
   },
   {
    "duration": 9,
    "start_time": "2021-07-07T20:56:39.188Z"
   },
   {
    "duration": 16,
    "start_time": "2021-07-07T20:56:39.200Z"
   },
   {
    "duration": 12,
    "start_time": "2021-07-07T20:56:39.255Z"
   },
   {
    "duration": 7,
    "start_time": "2021-07-07T20:56:39.270Z"
   },
   {
    "duration": 13,
    "start_time": "2021-07-07T20:56:39.280Z"
   },
   {
    "duration": 9,
    "start_time": "2021-07-07T20:56:39.301Z"
   },
   {
    "duration": 60,
    "start_time": "2021-07-07T20:56:39.313Z"
   },
   {
    "duration": 6,
    "start_time": "2021-07-07T20:56:39.376Z"
   },
   {
    "duration": 19,
    "start_time": "2021-07-07T20:56:39.388Z"
   },
   {
    "duration": 12,
    "start_time": "2021-07-07T20:56:39.410Z"
   },
   {
    "duration": 41,
    "start_time": "2021-07-07T20:56:39.425Z"
   },
   {
    "duration": 5,
    "start_time": "2021-07-07T20:56:39.470Z"
   },
   {
    "duration": 11,
    "start_time": "2021-07-07T20:56:39.479Z"
   },
   {
    "duration": 7,
    "start_time": "2021-07-07T20:56:39.493Z"
   },
   {
    "duration": 63,
    "start_time": "2021-07-07T20:56:39.503Z"
   },
   {
    "duration": 10,
    "start_time": "2021-07-07T20:56:39.569Z"
   },
   {
    "duration": 7,
    "start_time": "2021-07-07T20:56:39.582Z"
   },
   {
    "duration": 9,
    "start_time": "2021-07-07T20:56:39.592Z"
   },
   {
    "duration": 58,
    "start_time": "2021-07-07T20:56:39.604Z"
   },
   {
    "duration": 15,
    "start_time": "2021-07-07T20:56:39.666Z"
   },
   {
    "duration": 11,
    "start_time": "2021-07-07T20:56:39.684Z"
   },
   {
    "duration": 13,
    "start_time": "2021-07-07T20:56:39.698Z"
   },
   {
    "duration": 56,
    "start_time": "2021-07-07T20:56:39.714Z"
   },
   {
    "duration": 12,
    "start_time": "2021-07-07T20:56:39.772Z"
   },
   {
    "duration": 12,
    "start_time": "2021-07-07T20:56:39.786Z"
   },
   {
    "duration": 10,
    "start_time": "2021-07-07T20:56:39.801Z"
   },
   {
    "duration": 44,
    "start_time": "2021-07-07T20:56:39.814Z"
   },
   {
    "duration": 9,
    "start_time": "2021-07-07T20:56:39.862Z"
   },
   {
    "duration": 17,
    "start_time": "2021-07-07T20:56:39.873Z"
   },
   {
    "duration": 64,
    "start_time": "2021-07-07T20:56:39.893Z"
   },
   {
    "duration": 53,
    "start_time": "2021-07-07T20:56:39.960Z"
   },
   {
    "duration": 6,
    "start_time": "2021-07-07T20:56:40.015Z"
   },
   {
    "duration": 33,
    "start_time": "2021-07-07T20:56:40.024Z"
   },
   {
    "duration": 3315,
    "start_time": "2021-07-07T20:56:40.060Z"
   },
   {
    "duration": 19,
    "start_time": "2021-07-07T20:56:43.378Z"
   },
   {
    "duration": 9,
    "start_time": "2021-07-07T20:56:43.399Z"
   },
   {
    "duration": 18,
    "start_time": "2021-07-07T20:56:43.410Z"
   },
   {
    "duration": 41,
    "start_time": "2021-07-07T20:56:43.430Z"
   },
   {
    "duration": 24,
    "start_time": "2021-07-07T20:56:43.473Z"
   },
   {
    "duration": 12,
    "start_time": "2021-07-07T20:56:43.501Z"
   },
   {
    "duration": 41,
    "start_time": "2021-07-07T20:56:43.515Z"
   },
   {
    "duration": 12,
    "start_time": "2021-07-07T20:56:43.559Z"
   },
   {
    "duration": 6,
    "start_time": "2021-07-07T20:56:43.574Z"
   },
   {
    "duration": 11086,
    "start_time": "2021-07-07T20:56:43.583Z"
   },
   {
    "duration": 30,
    "start_time": "2021-07-07T20:56:54.672Z"
   },
   {
    "duration": 40,
    "start_time": "2021-07-07T21:00:04.754Z"
   },
   {
    "duration": 12,
    "start_time": "2021-07-07T21:12:44.333Z"
   },
   {
    "duration": 382,
    "start_time": "2021-07-07T22:00:22.012Z"
   },
   {
    "duration": 246,
    "start_time": "2021-07-07T22:02:17.742Z"
   },
   {
    "duration": 940,
    "start_time": "2021-07-07T22:02:27.586Z"
   },
   {
    "duration": 91,
    "start_time": "2021-07-07T22:02:28.530Z"
   },
   {
    "duration": 19,
    "start_time": "2021-07-07T22:02:28.625Z"
   },
   {
    "duration": 44,
    "start_time": "2021-07-07T22:02:28.658Z"
   },
   {
    "duration": 66,
    "start_time": "2021-07-07T22:02:28.705Z"
   },
   {
    "duration": 6,
    "start_time": "2021-07-07T22:02:28.774Z"
   },
   {
    "duration": 24,
    "start_time": "2021-07-07T22:02:28.783Z"
   },
   {
    "duration": 29,
    "start_time": "2021-07-07T22:02:28.810Z"
   },
   {
    "duration": 22,
    "start_time": "2021-07-07T22:02:28.845Z"
   },
   {
    "duration": 71,
    "start_time": "2021-07-07T22:02:28.871Z"
   },
   {
    "duration": 74,
    "start_time": "2021-07-07T22:02:28.945Z"
   },
   {
    "duration": 37,
    "start_time": "2021-07-07T22:02:29.021Z"
   },
   {
    "duration": 12,
    "start_time": "2021-07-07T22:02:29.061Z"
   },
   {
    "duration": 28,
    "start_time": "2021-07-07T22:02:29.075Z"
   },
   {
    "duration": 10,
    "start_time": "2021-07-07T22:02:29.105Z"
   },
   {
    "duration": 20,
    "start_time": "2021-07-07T22:02:29.117Z"
   },
   {
    "duration": 27,
    "start_time": "2021-07-07T22:02:29.140Z"
   },
   {
    "duration": 20,
    "start_time": "2021-07-07T22:02:29.169Z"
   },
   {
    "duration": 12,
    "start_time": "2021-07-07T22:02:29.192Z"
   },
   {
    "duration": 9,
    "start_time": "2021-07-07T22:02:29.207Z"
   },
   {
    "duration": 42,
    "start_time": "2021-07-07T22:02:29.219Z"
   },
   {
    "duration": 20,
    "start_time": "2021-07-07T22:02:29.263Z"
   },
   {
    "duration": 11,
    "start_time": "2021-07-07T22:02:29.287Z"
   },
   {
    "duration": 13,
    "start_time": "2021-07-07T22:02:29.301Z"
   },
   {
    "duration": 42,
    "start_time": "2021-07-07T22:02:29.317Z"
   },
   {
    "duration": 21,
    "start_time": "2021-07-07T22:02:29.361Z"
   },
   {
    "duration": 21,
    "start_time": "2021-07-07T22:02:29.390Z"
   },
   {
    "duration": 29,
    "start_time": "2021-07-07T22:02:29.415Z"
   },
   {
    "duration": 17,
    "start_time": "2021-07-07T22:02:29.447Z"
   },
   {
    "duration": 34,
    "start_time": "2021-07-07T22:02:29.467Z"
   },
   {
    "duration": 27,
    "start_time": "2021-07-07T22:02:29.503Z"
   },
   {
    "duration": 27,
    "start_time": "2021-07-07T22:02:29.533Z"
   },
   {
    "duration": 35,
    "start_time": "2021-07-07T22:02:29.563Z"
   },
   {
    "duration": 15,
    "start_time": "2021-07-07T22:02:29.601Z"
   },
   {
    "duration": 26,
    "start_time": "2021-07-07T22:02:29.619Z"
   },
   {
    "duration": 37,
    "start_time": "2021-07-07T22:02:29.647Z"
   },
   {
    "duration": 14,
    "start_time": "2021-07-07T22:02:29.687Z"
   },
   {
    "duration": 12,
    "start_time": "2021-07-07T22:02:29.704Z"
   },
   {
    "duration": 21,
    "start_time": "2021-07-07T22:02:29.718Z"
   },
   {
    "duration": 36,
    "start_time": "2021-07-07T22:02:29.741Z"
   },
   {
    "duration": 17,
    "start_time": "2021-07-07T22:02:29.779Z"
   },
   {
    "duration": 35,
    "start_time": "2021-07-07T22:02:29.800Z"
   },
   {
    "duration": 29,
    "start_time": "2021-07-07T22:02:29.838Z"
   },
   {
    "duration": 16,
    "start_time": "2021-07-07T22:02:29.871Z"
   },
   {
    "duration": 21,
    "start_time": "2021-07-07T22:02:29.890Z"
   },
   {
    "duration": 27,
    "start_time": "2021-07-07T22:02:29.914Z"
   },
   {
    "duration": 36,
    "start_time": "2021-07-07T22:02:29.944Z"
   },
   {
    "duration": 68,
    "start_time": "2021-07-07T22:02:29.983Z"
   },
   {
    "duration": 11,
    "start_time": "2021-07-07T22:02:30.054Z"
   },
   {
    "duration": 28,
    "start_time": "2021-07-07T22:02:30.069Z"
   },
   {
    "duration": 3808,
    "start_time": "2021-07-07T22:02:30.100Z"
   },
   {
    "duration": 21,
    "start_time": "2021-07-07T22:02:33.911Z"
   },
   {
    "duration": 22,
    "start_time": "2021-07-07T22:02:33.935Z"
   },
   {
    "duration": 26,
    "start_time": "2021-07-07T22:02:33.960Z"
   },
   {
    "duration": 23,
    "start_time": "2021-07-07T22:02:33.989Z"
   },
   {
    "duration": 41,
    "start_time": "2021-07-07T22:02:34.015Z"
   },
   {
    "duration": 10,
    "start_time": "2021-07-07T22:02:34.059Z"
   },
   {
    "duration": 10,
    "start_time": "2021-07-07T22:02:34.073Z"
   },
   {
    "duration": 18,
    "start_time": "2021-07-07T22:02:34.086Z"
   },
   {
    "duration": 9,
    "start_time": "2021-07-07T22:02:34.107Z"
   },
   {
    "duration": 11721,
    "start_time": "2021-07-07T22:02:34.119Z"
   },
   {
    "duration": 44,
    "start_time": "2021-07-07T22:02:45.843Z"
   },
   {
    "duration": 639,
    "start_time": "2021-07-07T22:02:45.664Z"
   },
   {
    "duration": 30,
    "start_time": "2021-07-07T22:03:02.905Z"
   },
   {
    "duration": 346,
    "start_time": "2021-07-07T22:33:31.023Z"
   },
   {
    "duration": 34,
    "start_time": "2021-07-07T22:33:43.754Z"
   },
   {
    "duration": 30,
    "start_time": "2021-07-07T22:35:16.963Z"
   },
   {
    "duration": 5,
    "start_time": "2021-07-07T22:35:56.365Z"
   },
   {
    "duration": 11,
    "start_time": "2021-07-07T22:36:06.154Z"
   },
   {
    "duration": 12,
    "start_time": "2021-07-07T22:36:15.960Z"
   },
   {
    "duration": 12,
    "start_time": "2021-07-07T22:43:14.075Z"
   },
   {
    "duration": 37,
    "start_time": "2021-07-07T22:44:47.595Z"
   },
   {
    "duration": 290,
    "start_time": "2021-07-07T22:59:44.180Z"
   },
   {
    "duration": 33,
    "start_time": "2021-07-07T23:01:05.809Z"
   },
   {
    "duration": 12,
    "start_time": "2021-07-07T23:01:08.675Z"
   },
   {
    "duration": 24,
    "start_time": "2021-07-07T23:01:28.055Z"
   },
   {
    "duration": 13,
    "start_time": "2021-07-07T23:01:30.169Z"
   },
   {
    "duration": 33,
    "start_time": "2021-07-07T23:01:38.325Z"
   },
   {
    "duration": 27,
    "start_time": "2021-07-07T23:01:53.246Z"
   },
   {
    "duration": 12,
    "start_time": "2021-07-07T23:01:56.685Z"
   },
   {
    "duration": 6,
    "start_time": "2021-07-07T23:08:13.905Z"
   },
   {
    "duration": 27,
    "start_time": "2021-07-07T23:10:09.415Z"
   },
   {
    "duration": 12,
    "start_time": "2021-07-07T23:10:09.935Z"
   },
   {
    "duration": 29,
    "start_time": "2021-07-07T23:11:34.325Z"
   },
   {
    "duration": 12,
    "start_time": "2021-07-07T23:11:34.666Z"
   },
   {
    "duration": 29,
    "start_time": "2021-07-07T23:14:15.565Z"
   },
   {
    "duration": 12,
    "start_time": "2021-07-07T23:14:15.923Z"
   },
   {
    "duration": 27,
    "start_time": "2021-07-07T23:14:21.326Z"
   },
   {
    "duration": 13,
    "start_time": "2021-07-07T23:14:21.635Z"
   },
   {
    "duration": 28,
    "start_time": "2021-07-07T23:15:51.375Z"
   },
   {
    "duration": 13,
    "start_time": "2021-07-07T23:15:52.021Z"
   },
   {
    "duration": 756,
    "start_time": "2021-07-07T23:23:27.744Z"
   },
   {
    "duration": 65,
    "start_time": "2021-07-07T23:23:28.502Z"
   },
   {
    "duration": 15,
    "start_time": "2021-07-07T23:23:28.570Z"
   },
   {
    "duration": 31,
    "start_time": "2021-07-07T23:23:28.587Z"
   },
   {
    "duration": 72,
    "start_time": "2021-07-07T23:23:28.620Z"
   },
   {
    "duration": 4,
    "start_time": "2021-07-07T23:23:28.694Z"
   },
   {
    "duration": 9,
    "start_time": "2021-07-07T23:23:28.701Z"
   },
   {
    "duration": 14,
    "start_time": "2021-07-07T23:23:28.714Z"
   },
   {
    "duration": 10,
    "start_time": "2021-07-07T23:23:28.757Z"
   },
   {
    "duration": 62,
    "start_time": "2021-07-07T23:23:28.769Z"
   },
   {
    "duration": 78,
    "start_time": "2021-07-07T23:23:28.833Z"
   },
   {
    "duration": 11,
    "start_time": "2021-07-07T23:23:28.913Z"
   },
   {
    "duration": 8,
    "start_time": "2021-07-07T23:23:28.927Z"
   },
   {
    "duration": 8,
    "start_time": "2021-07-07T23:23:28.956Z"
   },
   {
    "duration": 8,
    "start_time": "2021-07-07T23:23:28.967Z"
   },
   {
    "duration": 13,
    "start_time": "2021-07-07T23:23:28.977Z"
   },
   {
    "duration": 13,
    "start_time": "2021-07-07T23:23:28.993Z"
   },
   {
    "duration": 48,
    "start_time": "2021-07-07T23:23:29.009Z"
   },
   {
    "duration": 18,
    "start_time": "2021-07-07T23:23:29.060Z"
   },
   {
    "duration": 8,
    "start_time": "2021-07-07T23:23:29.080Z"
   },
   {
    "duration": 9,
    "start_time": "2021-07-07T23:23:29.090Z"
   },
   {
    "duration": 11,
    "start_time": "2021-07-07T23:23:29.101Z"
   },
   {
    "duration": 41,
    "start_time": "2021-07-07T23:23:29.118Z"
   },
   {
    "duration": 15,
    "start_time": "2021-07-07T23:23:29.163Z"
   },
   {
    "duration": 5,
    "start_time": "2021-07-07T23:23:29.180Z"
   },
   {
    "duration": 8,
    "start_time": "2021-07-07T23:23:29.187Z"
   },
   {
    "duration": 10,
    "start_time": "2021-07-07T23:23:29.197Z"
   },
   {
    "duration": 51,
    "start_time": "2021-07-07T23:23:29.209Z"
   },
   {
    "duration": 4,
    "start_time": "2021-07-07T23:23:29.262Z"
   },
   {
    "duration": 8,
    "start_time": "2021-07-07T23:23:29.268Z"
   },
   {
    "duration": 10,
    "start_time": "2021-07-07T23:23:29.279Z"
   },
   {
    "duration": 17,
    "start_time": "2021-07-07T23:23:29.291Z"
   },
   {
    "duration": 10,
    "start_time": "2021-07-07T23:23:29.310Z"
   },
   {
    "duration": 7,
    "start_time": "2021-07-07T23:23:29.356Z"
   },
   {
    "duration": 8,
    "start_time": "2021-07-07T23:23:29.365Z"
   },
   {
    "duration": 21,
    "start_time": "2021-07-07T23:23:29.375Z"
   },
   {
    "duration": 8,
    "start_time": "2021-07-07T23:23:29.398Z"
   },
   {
    "duration": 5,
    "start_time": "2021-07-07T23:23:29.408Z"
   },
   {
    "duration": 47,
    "start_time": "2021-07-07T23:23:29.415Z"
   },
   {
    "duration": 25,
    "start_time": "2021-07-07T23:23:29.464Z"
   },
   {
    "duration": 8,
    "start_time": "2021-07-07T23:23:29.491Z"
   },
   {
    "duration": 10,
    "start_time": "2021-07-07T23:23:29.501Z"
   },
   {
    "duration": 9,
    "start_time": "2021-07-07T23:23:29.513Z"
   },
   {
    "duration": 34,
    "start_time": "2021-07-07T23:23:29.524Z"
   },
   {
    "duration": 11,
    "start_time": "2021-07-07T23:23:29.561Z"
   },
   {
    "duration": 19,
    "start_time": "2021-07-07T23:23:29.574Z"
   },
   {
    "duration": 24,
    "start_time": "2021-07-07T23:23:29.595Z"
   },
   {
    "duration": 70,
    "start_time": "2021-07-07T23:23:29.621Z"
   },
   {
    "duration": 5,
    "start_time": "2021-07-07T23:23:29.693Z"
   },
   {
    "duration": 19,
    "start_time": "2021-07-07T23:23:29.701Z"
   },
   {
    "duration": 3258,
    "start_time": "2021-07-07T23:23:29.723Z"
   },
   {
    "duration": 21,
    "start_time": "2021-07-07T23:23:32.984Z"
   },
   {
    "duration": 13,
    "start_time": "2021-07-07T23:23:33.008Z"
   },
   {
    "duration": 41,
    "start_time": "2021-07-07T23:23:33.023Z"
   },
   {
    "duration": 16,
    "start_time": "2021-07-07T23:23:33.066Z"
   },
   {
    "duration": 34,
    "start_time": "2021-07-07T23:23:33.084Z"
   },
   {
    "duration": 18,
    "start_time": "2021-07-07T23:23:33.121Z"
   },
   {
    "duration": 14,
    "start_time": "2021-07-07T23:23:33.141Z"
   },
   {
    "duration": 17,
    "start_time": "2021-07-07T23:23:33.158Z"
   },
   {
    "duration": 7,
    "start_time": "2021-07-07T23:23:33.178Z"
   },
   {
    "duration": 9957,
    "start_time": "2021-07-07T23:23:33.188Z"
   },
   {
    "duration": 33,
    "start_time": "2021-07-07T23:23:43.147Z"
   },
   {
    "duration": 23,
    "start_time": "2021-07-07T23:23:43.182Z"
   },
   {
    "duration": 10,
    "start_time": "2021-07-07T23:23:43.208Z"
   },
   {
    "duration": 58,
    "start_time": "2021-07-07T23:23:43.220Z"
   },
   {
    "duration": 27,
    "start_time": "2021-07-07T23:23:43.280Z"
   },
   {
    "duration": 12,
    "start_time": "2021-07-07T23:23:43.309Z"
   },
   {
    "duration": 28,
    "start_time": "2021-07-07T23:23:43.357Z"
   },
   {
    "duration": 12,
    "start_time": "2021-07-07T23:23:43.387Z"
   },
   {
    "duration": 55,
    "start_time": "2021-07-07T23:23:43.401Z"
   },
   {
    "duration": 12,
    "start_time": "2021-07-07T23:23:43.458Z"
   },
   {
    "duration": 5,
    "start_time": "2021-07-07T23:29:37.572Z"
   },
   {
    "duration": 6,
    "start_time": "2021-07-07T23:29:46.792Z"
   },
   {
    "duration": 7,
    "start_time": "2021-07-07T23:30:20.622Z"
   },
   {
    "duration": 4,
    "start_time": "2021-07-07T23:30:30.820Z"
   },
   {
    "duration": 5,
    "start_time": "2021-07-07T23:30:39.512Z"
   },
   {
    "duration": 5,
    "start_time": "2021-07-07T23:30:49.436Z"
   },
   {
    "duration": 837,
    "start_time": "2021-07-07T23:32:32.782Z"
   },
   {
    "duration": 12,
    "start_time": "2021-07-07T23:32:46.672Z"
   },
   {
    "duration": 7,
    "start_time": "2021-07-07T23:32:46.972Z"
   },
   {
    "duration": 261,
    "start_time": "2021-07-07T23:32:47.272Z"
   },
   {
    "duration": 4,
    "start_time": "2021-07-07T23:34:09.352Z"
   },
   {
    "duration": 13,
    "start_time": "2021-07-07T23:34:17.902Z"
   },
   {
    "duration": 5,
    "start_time": "2021-07-07T23:34:32.933Z"
   },
   {
    "duration": 12,
    "start_time": "2021-07-07T23:34:40.800Z"
   },
   {
    "duration": 463,
    "start_time": "2021-07-08T08:31:28.148Z"
   },
   {
    "duration": 310,
    "start_time": "2021-07-08T08:31:28.881Z"
   },
   {
    "duration": 580,
    "start_time": "2021-07-08T08:32:51.471Z"
   },
   {
    "duration": 966,
    "start_time": "2021-07-08T08:32:52.782Z"
   },
   {
    "duration": 826,
    "start_time": "2021-07-08T08:33:19.000Z"
   },
   {
    "duration": 63,
    "start_time": "2021-07-08T08:33:19.829Z"
   },
   {
    "duration": 22,
    "start_time": "2021-07-08T08:33:19.895Z"
   },
   {
    "duration": 30,
    "start_time": "2021-07-08T08:33:19.920Z"
   },
   {
    "duration": 76,
    "start_time": "2021-07-08T08:33:19.952Z"
   },
   {
    "duration": 4,
    "start_time": "2021-07-08T08:33:20.031Z"
   },
   {
    "duration": 13,
    "start_time": "2021-07-08T08:33:20.037Z"
   },
   {
    "duration": 24,
    "start_time": "2021-07-08T08:33:20.054Z"
   },
   {
    "duration": 12,
    "start_time": "2021-07-08T08:33:20.081Z"
   },
   {
    "duration": 60,
    "start_time": "2021-07-08T08:33:20.109Z"
   },
   {
    "duration": 77,
    "start_time": "2021-07-08T08:33:20.171Z"
   },
   {
    "duration": 12,
    "start_time": "2021-07-08T08:33:20.250Z"
   },
   {
    "duration": 13,
    "start_time": "2021-07-08T08:33:20.264Z"
   },
   {
    "duration": 31,
    "start_time": "2021-07-08T08:33:20.279Z"
   },
   {
    "duration": 6,
    "start_time": "2021-07-08T08:33:20.312Z"
   },
   {
    "duration": 10,
    "start_time": "2021-07-08T08:33:20.321Z"
   },
   {
    "duration": 18,
    "start_time": "2021-07-08T08:33:20.333Z"
   },
   {
    "duration": 13,
    "start_time": "2021-07-08T08:33:20.354Z"
   },
   {
    "duration": 47,
    "start_time": "2021-07-08T08:33:20.370Z"
   },
   {
    "duration": 10,
    "start_time": "2021-07-08T08:33:20.420Z"
   },
   {
    "duration": 12,
    "start_time": "2021-07-08T08:33:20.433Z"
   },
   {
    "duration": 28,
    "start_time": "2021-07-08T08:33:20.448Z"
   },
   {
    "duration": 28,
    "start_time": "2021-07-08T08:33:20.484Z"
   },
   {
    "duration": 15,
    "start_time": "2021-07-08T08:33:20.517Z"
   },
   {
    "duration": 6,
    "start_time": "2021-07-08T08:33:20.535Z"
   },
   {
    "duration": 18,
    "start_time": "2021-07-08T08:33:20.544Z"
   },
   {
    "duration": 14,
    "start_time": "2021-07-08T08:33:20.565Z"
   },
   {
    "duration": 35,
    "start_time": "2021-07-08T08:33:20.581Z"
   },
   {
    "duration": 10,
    "start_time": "2021-07-08T08:33:20.619Z"
   },
   {
    "duration": 15,
    "start_time": "2021-07-08T08:33:20.631Z"
   },
   {
    "duration": 36,
    "start_time": "2021-07-08T08:33:20.648Z"
   },
   {
    "duration": 28,
    "start_time": "2021-07-08T08:33:20.686Z"
   },
   {
    "duration": 14,
    "start_time": "2021-07-08T08:33:20.717Z"
   },
   {
    "duration": 13,
    "start_time": "2021-07-08T08:33:20.733Z"
   },
   {
    "duration": 20,
    "start_time": "2021-07-08T08:33:20.748Z"
   },
   {
    "duration": 29,
    "start_time": "2021-07-08T08:33:20.770Z"
   },
   {
    "duration": 25,
    "start_time": "2021-07-08T08:33:20.801Z"
   },
   {
    "duration": 9,
    "start_time": "2021-07-08T08:33:20.829Z"
   },
   {
    "duration": 15,
    "start_time": "2021-07-08T08:33:20.840Z"
   },
   {
    "duration": 28,
    "start_time": "2021-07-08T08:33:20.857Z"
   },
   {
    "duration": 9,
    "start_time": "2021-07-08T08:33:20.887Z"
   },
   {
    "duration": 17,
    "start_time": "2021-07-08T08:33:20.898Z"
   },
   {
    "duration": 12,
    "start_time": "2021-07-08T08:33:20.917Z"
   },
   {
    "duration": 10,
    "start_time": "2021-07-08T08:33:20.932Z"
   },
   {
    "duration": 10,
    "start_time": "2021-07-08T08:33:20.945Z"
   },
   {
    "duration": 15,
    "start_time": "2021-07-08T08:33:20.958Z"
   },
   {
    "duration": 56,
    "start_time": "2021-07-08T08:33:20.976Z"
   },
   {
    "duration": 48,
    "start_time": "2021-07-08T08:33:21.035Z"
   },
   {
    "duration": 10,
    "start_time": "2021-07-08T08:33:21.110Z"
   },
   {
    "duration": 16,
    "start_time": "2021-07-08T08:33:21.122Z"
   },
   {
    "duration": 3281,
    "start_time": "2021-07-08T08:33:21.141Z"
   },
   {
    "duration": 20,
    "start_time": "2021-07-08T08:33:24.425Z"
   },
   {
    "duration": 10,
    "start_time": "2021-07-08T08:33:24.448Z"
   },
   {
    "duration": 30,
    "start_time": "2021-07-08T08:33:24.460Z"
   },
   {
    "duration": 11,
    "start_time": "2021-07-08T08:33:24.510Z"
   },
   {
    "duration": 21,
    "start_time": "2021-07-08T08:33:24.524Z"
   },
   {
    "duration": 12,
    "start_time": "2021-07-08T08:33:24.547Z"
   },
   {
    "duration": 6,
    "start_time": "2021-07-08T08:33:24.561Z"
   },
   {
    "duration": 50,
    "start_time": "2021-07-08T08:33:24.569Z"
   },
   {
    "duration": 8,
    "start_time": "2021-07-08T08:33:24.622Z"
   },
   {
    "duration": 10604,
    "start_time": "2021-07-08T08:33:24.632Z"
   },
   {
    "duration": 42,
    "start_time": "2021-07-08T08:33:35.238Z"
   },
   {
    "duration": 49,
    "start_time": "2021-07-08T08:33:35.282Z"
   },
   {
    "duration": 19,
    "start_time": "2021-07-08T08:33:35.335Z"
   },
   {
    "duration": 55,
    "start_time": "2021-07-08T08:33:35.356Z"
   },
   {
    "duration": 61,
    "start_time": "2021-07-08T08:33:35.414Z"
   },
   {
    "duration": 12,
    "start_time": "2021-07-08T08:33:35.478Z"
   },
   {
    "duration": 58,
    "start_time": "2021-07-08T08:33:35.497Z"
   },
   {
    "duration": 12,
    "start_time": "2021-07-08T08:33:35.558Z"
   },
   {
    "duration": 18,
    "start_time": "2021-07-08T08:33:35.572Z"
   },
   {
    "duration": 21,
    "start_time": "2021-07-08T08:33:35.593Z"
   },
   {
    "duration": 34,
    "start_time": "2021-07-08T08:33:35.617Z"
   },
   {
    "duration": 52,
    "start_time": "2021-07-08T08:33:35.654Z"
   },
   {
    "duration": 17,
    "start_time": "2021-07-08T08:33:35.709Z"
   },
   {
    "duration": 13,
    "start_time": "2021-07-08T08:35:20.362Z"
   },
   {
    "duration": 111,
    "start_time": "2021-07-08T08:36:25.742Z"
   },
   {
    "duration": 724,
    "start_time": "2021-07-08T08:37:34.861Z"
   },
   {
    "duration": 25,
    "start_time": "2021-07-08T08:38:19.971Z"
   },
   {
    "duration": 15,
    "start_time": "2021-07-08T08:38:20.530Z"
   },
   {
    "duration": 27,
    "start_time": "2021-07-08T08:38:21.422Z"
   },
   {
    "duration": 14,
    "start_time": "2021-07-08T08:57:07.051Z"
   },
   {
    "duration": 35,
    "start_time": "2021-07-08T09:04:05.501Z"
   },
   {
    "duration": 12,
    "start_time": "2021-07-08T09:04:28.710Z"
   },
   {
    "duration": 19,
    "start_time": "2021-07-08T09:11:06.765Z"
   },
   {
    "duration": 828,
    "start_time": "2021-07-08T09:11:16.606Z"
   },
   {
    "duration": 63,
    "start_time": "2021-07-08T09:11:17.437Z"
   },
   {
    "duration": 15,
    "start_time": "2021-07-08T09:11:17.509Z"
   },
   {
    "duration": 30,
    "start_time": "2021-07-08T09:11:17.526Z"
   },
   {
    "duration": 78,
    "start_time": "2021-07-08T09:11:17.559Z"
   },
   {
    "duration": 5,
    "start_time": "2021-07-08T09:11:17.639Z"
   },
   {
    "duration": 10,
    "start_time": "2021-07-08T09:11:17.646Z"
   },
   {
    "duration": 14,
    "start_time": "2021-07-08T09:11:17.660Z"
   },
   {
    "duration": 39,
    "start_time": "2021-07-08T09:11:17.677Z"
   },
   {
    "duration": 63,
    "start_time": "2021-07-08T09:11:17.718Z"
   },
   {
    "duration": 78,
    "start_time": "2021-07-08T09:11:17.784Z"
   },
   {
    "duration": 15,
    "start_time": "2021-07-08T09:11:17.864Z"
   },
   {
    "duration": 34,
    "start_time": "2021-07-08T09:11:17.881Z"
   },
   {
    "duration": 11,
    "start_time": "2021-07-08T09:11:17.918Z"
   },
   {
    "duration": 6,
    "start_time": "2021-07-08T09:11:17.932Z"
   },
   {
    "duration": 7,
    "start_time": "2021-07-08T09:11:17.941Z"
   },
   {
    "duration": 60,
    "start_time": "2021-07-08T09:11:17.951Z"
   },
   {
    "duration": 9,
    "start_time": "2021-07-08T09:11:18.014Z"
   },
   {
    "duration": 14,
    "start_time": "2021-07-08T09:11:18.026Z"
   },
   {
    "duration": 9,
    "start_time": "2021-07-08T09:11:18.042Z"
   },
   {
    "duration": 6,
    "start_time": "2021-07-08T09:11:18.053Z"
   },
   {
    "duration": 54,
    "start_time": "2021-07-08T09:11:18.061Z"
   },
   {
    "duration": 8,
    "start_time": "2021-07-08T09:11:18.121Z"
   },
   {
    "duration": 28,
    "start_time": "2021-07-08T09:11:18.133Z"
   },
   {
    "duration": 6,
    "start_time": "2021-07-08T09:11:18.163Z"
   },
   {
    "duration": 6,
    "start_time": "2021-07-08T09:11:18.210Z"
   },
   {
    "duration": 12,
    "start_time": "2021-07-08T09:11:18.219Z"
   },
   {
    "duration": 12,
    "start_time": "2021-07-08T09:11:18.234Z"
   },
   {
    "duration": 4,
    "start_time": "2021-07-08T09:11:18.248Z"
   },
   {
    "duration": 7,
    "start_time": "2021-07-08T09:11:18.254Z"
   },
   {
    "duration": 48,
    "start_time": "2021-07-08T09:11:18.264Z"
   },
   {
    "duration": 25,
    "start_time": "2021-07-08T09:11:18.314Z"
   },
   {
    "duration": 10,
    "start_time": "2021-07-08T09:11:18.342Z"
   },
   {
    "duration": 5,
    "start_time": "2021-07-08T09:11:18.355Z"
   },
   {
    "duration": 7,
    "start_time": "2021-07-08T09:11:18.363Z"
   },
   {
    "duration": 48,
    "start_time": "2021-07-08T09:11:18.372Z"
   },
   {
    "duration": 8,
    "start_time": "2021-07-08T09:11:18.423Z"
   },
   {
    "duration": 10,
    "start_time": "2021-07-08T09:11:18.434Z"
   },
   {
    "duration": 10,
    "start_time": "2021-07-08T09:11:18.446Z"
   },
   {
    "duration": 52,
    "start_time": "2021-07-08T09:11:18.458Z"
   },
   {
    "duration": 8,
    "start_time": "2021-07-08T09:11:18.513Z"
   },
   {
    "duration": 16,
    "start_time": "2021-07-08T09:11:18.523Z"
   },
   {
    "duration": 12,
    "start_time": "2021-07-08T09:11:18.542Z"
   },
   {
    "duration": 6,
    "start_time": "2021-07-08T09:11:18.556Z"
   },
   {
    "duration": 7,
    "start_time": "2021-07-08T09:11:18.565Z"
   },
   {
    "duration": 8,
    "start_time": "2021-07-08T09:11:18.610Z"
   },
   {
    "duration": 25,
    "start_time": "2021-07-08T09:11:18.620Z"
   },
   {
    "duration": 77,
    "start_time": "2021-07-08T09:11:18.647Z"
   },
   {
    "duration": 5,
    "start_time": "2021-07-08T09:11:18.727Z"
   },
   {
    "duration": 7,
    "start_time": "2021-07-08T09:11:18.735Z"
   },
   {
    "duration": 4752,
    "start_time": "2021-07-08T09:11:18.744Z"
   },
   {
    "duration": 26,
    "start_time": "2021-07-08T09:11:23.499Z"
   },
   {
    "duration": 11,
    "start_time": "2021-07-08T09:11:23.528Z"
   },
   {
    "duration": 24,
    "start_time": "2021-07-08T09:11:23.542Z"
   },
   {
    "duration": 50,
    "start_time": "2021-07-08T09:11:23.568Z"
   },
   {
    "duration": 34,
    "start_time": "2021-07-08T09:11:23.621Z"
   },
   {
    "duration": 12,
    "start_time": "2021-07-08T09:11:23.658Z"
   },
   {
    "duration": 5,
    "start_time": "2021-07-08T09:11:23.673Z"
   },
   {
    "duration": 40,
    "start_time": "2021-07-08T09:11:23.681Z"
   },
   {
    "duration": 7,
    "start_time": "2021-07-08T09:11:23.724Z"
   },
   {
    "duration": 10750,
    "start_time": "2021-07-08T09:11:23.733Z"
   },
   {
    "duration": 42,
    "start_time": "2021-07-08T09:11:34.486Z"
   },
   {
    "duration": 24,
    "start_time": "2021-07-08T09:11:34.531Z"
   },
   {
    "duration": 456,
    "start_time": "2021-07-08T09:11:34.558Z"
   },
   {
    "duration": 1907,
    "start_time": "2021-07-08T09:11:33.109Z"
   },
   {
    "duration": 1901,
    "start_time": "2021-07-08T09:11:33.117Z"
   },
   {
    "duration": 1897,
    "start_time": "2021-07-08T09:11:33.122Z"
   },
   {
    "duration": 1892,
    "start_time": "2021-07-08T09:11:33.129Z"
   },
   {
    "duration": 1888,
    "start_time": "2021-07-08T09:11:33.135Z"
   },
   {
    "duration": 1882,
    "start_time": "2021-07-08T09:11:33.142Z"
   },
   {
    "duration": 1878,
    "start_time": "2021-07-08T09:11:33.148Z"
   },
   {
    "duration": 1873,
    "start_time": "2021-07-08T09:11:33.155Z"
   },
   {
    "duration": 1869,
    "start_time": "2021-07-08T09:11:33.160Z"
   },
   {
    "duration": 1863,
    "start_time": "2021-07-08T09:11:33.168Z"
   },
   {
    "duration": 1860,
    "start_time": "2021-07-08T09:11:33.173Z"
   },
   {
    "duration": 370,
    "start_time": "2021-07-08T09:12:10.065Z"
   },
   {
    "duration": 753,
    "start_time": "2021-07-08T09:12:24.513Z"
   },
   {
    "duration": 14,
    "start_time": "2021-07-08T09:14:48.993Z"
   },
   {
    "duration": 31,
    "start_time": "2021-07-08T09:21:02.933Z"
   },
   {
    "duration": 28,
    "start_time": "2021-07-08T09:21:10.184Z"
   },
   {
    "duration": 14,
    "start_time": "2021-07-08T09:21:10.653Z"
   },
   {
    "duration": 338,
    "start_time": "2021-07-08T09:22:35.644Z"
   },
   {
    "duration": 1989,
    "start_time": "2021-07-08T09:23:57.052Z"
   },
   {
    "duration": 1975,
    "start_time": "2021-07-08T09:23:57.068Z"
   },
   {
    "duration": 17,
    "start_time": "2021-07-08T09:24:02.891Z"
   },
   {
    "duration": 31,
    "start_time": "2021-07-08T09:24:04.841Z"
   },
   {
    "duration": 13,
    "start_time": "2021-07-08T09:24:05.450Z"
   },
   {
    "duration": 10,
    "start_time": "2021-07-08T09:24:15.930Z"
   },
   {
    "duration": 29,
    "start_time": "2021-07-08T09:26:31.357Z"
   },
   {
    "duration": 13,
    "start_time": "2021-07-08T09:27:16.748Z"
   },
   {
    "duration": 30,
    "start_time": "2021-07-08T09:27:48.983Z"
   },
   {
    "duration": 13,
    "start_time": "2021-07-08T09:27:49.423Z"
   },
   {
    "duration": 10,
    "start_time": "2021-07-08T09:28:11.823Z"
   },
   {
    "duration": 26,
    "start_time": "2021-07-08T09:28:34.633Z"
   },
   {
    "duration": 12,
    "start_time": "2021-07-08T09:28:34.875Z"
   },
   {
    "duration": 26,
    "start_time": "2021-07-08T09:30:38.383Z"
   },
   {
    "duration": 13,
    "start_time": "2021-07-08T09:30:38.783Z"
   },
   {
    "duration": 132,
    "start_time": "2021-07-08T09:42:17.203Z"
   },
   {
    "duration": 133,
    "start_time": "2021-07-08T09:59:24.713Z"
   },
   {
    "duration": 765,
    "start_time": "2021-07-08T10:25:29.255Z"
   },
   {
    "duration": 63,
    "start_time": "2021-07-08T10:25:30.022Z"
   },
   {
    "duration": 24,
    "start_time": "2021-07-08T10:25:30.089Z"
   },
   {
    "duration": 29,
    "start_time": "2021-07-08T10:25:30.116Z"
   },
   {
    "duration": 76,
    "start_time": "2021-07-08T10:25:30.148Z"
   },
   {
    "duration": 4,
    "start_time": "2021-07-08T10:25:30.227Z"
   },
   {
    "duration": 14,
    "start_time": "2021-07-08T10:25:30.234Z"
   },
   {
    "duration": 24,
    "start_time": "2021-07-08T10:25:30.252Z"
   },
   {
    "duration": 11,
    "start_time": "2021-07-08T10:25:30.279Z"
   },
   {
    "duration": 68,
    "start_time": "2021-07-08T10:25:30.309Z"
   },
   {
    "duration": 79,
    "start_time": "2021-07-08T10:25:30.380Z"
   },
   {
    "duration": 13,
    "start_time": "2021-07-08T10:25:30.462Z"
   },
   {
    "duration": 31,
    "start_time": "2021-07-08T10:25:30.477Z"
   },
   {
    "duration": 10,
    "start_time": "2021-07-08T10:25:30.511Z"
   },
   {
    "duration": 8,
    "start_time": "2021-07-08T10:25:30.524Z"
   },
   {
    "duration": 16,
    "start_time": "2021-07-08T10:25:30.534Z"
   },
   {
    "duration": 11,
    "start_time": "2021-07-08T10:25:30.553Z"
   },
   {
    "duration": 44,
    "start_time": "2021-07-08T10:25:30.567Z"
   },
   {
    "duration": 23,
    "start_time": "2021-07-08T10:25:30.614Z"
   },
   {
    "duration": 11,
    "start_time": "2021-07-08T10:25:30.640Z"
   },
   {
    "duration": 12,
    "start_time": "2021-07-08T10:25:30.654Z"
   },
   {
    "duration": 43,
    "start_time": "2021-07-08T10:25:30.669Z"
   },
   {
    "duration": 8,
    "start_time": "2021-07-08T10:25:30.717Z"
   },
   {
    "duration": 20,
    "start_time": "2021-07-08T10:25:30.729Z"
   },
   {
    "duration": 7,
    "start_time": "2021-07-08T10:25:30.751Z"
   },
   {
    "duration": 10,
    "start_time": "2021-07-08T10:25:30.760Z"
   },
   {
    "duration": 37,
    "start_time": "2021-07-08T10:25:30.773Z"
   },
   {
    "duration": 9,
    "start_time": "2021-07-08T10:25:30.812Z"
   },
   {
    "duration": 17,
    "start_time": "2021-07-08T10:25:30.823Z"
   },
   {
    "duration": 15,
    "start_time": "2021-07-08T10:25:30.843Z"
   },
   {
    "duration": 18,
    "start_time": "2021-07-08T10:25:30.861Z"
   },
   {
    "duration": 39,
    "start_time": "2021-07-08T10:25:30.882Z"
   },
   {
    "duration": 7,
    "start_time": "2021-07-08T10:25:30.923Z"
   },
   {
    "duration": 16,
    "start_time": "2021-07-08T10:25:30.933Z"
   },
   {
    "duration": 19,
    "start_time": "2021-07-08T10:25:30.951Z"
   },
   {
    "duration": 28,
    "start_time": "2021-07-08T10:25:30.973Z"
   },
   {
    "duration": 8,
    "start_time": "2021-07-08T10:25:31.009Z"
   },
   {
    "duration": 19,
    "start_time": "2021-07-08T10:25:31.020Z"
   },
   {
    "duration": 20,
    "start_time": "2021-07-08T10:25:31.042Z"
   },
   {
    "duration": 48,
    "start_time": "2021-07-08T10:25:31.065Z"
   },
   {
    "duration": 23,
    "start_time": "2021-07-08T10:25:31.116Z"
   },
   {
    "duration": 19,
    "start_time": "2021-07-08T10:25:31.141Z"
   },
   {
    "duration": 33,
    "start_time": "2021-07-08T10:25:31.162Z"
   },
   {
    "duration": 32,
    "start_time": "2021-07-08T10:25:31.197Z"
   },
   {
    "duration": 21,
    "start_time": "2021-07-08T10:25:31.231Z"
   },
   {
    "duration": 23,
    "start_time": "2021-07-08T10:25:31.254Z"
   },
   {
    "duration": 30,
    "start_time": "2021-07-08T10:25:31.280Z"
   },
   {
    "duration": 48,
    "start_time": "2021-07-08T10:25:31.313Z"
   },
   {
    "duration": 5,
    "start_time": "2021-07-08T10:25:31.364Z"
   },
   {
    "duration": 41,
    "start_time": "2021-07-08T10:25:31.372Z"
   },
   {
    "duration": 3226,
    "start_time": "2021-07-08T10:25:31.416Z"
   },
   {
    "duration": 19,
    "start_time": "2021-07-08T10:25:34.645Z"
   },
   {
    "duration": 14,
    "start_time": "2021-07-08T10:25:34.666Z"
   },
   {
    "duration": 41,
    "start_time": "2021-07-08T10:25:34.682Z"
   },
   {
    "duration": 14,
    "start_time": "2021-07-08T10:25:34.726Z"
   },
   {
    "duration": 23,
    "start_time": "2021-07-08T10:25:34.743Z"
   },
   {
    "duration": 34,
    "start_time": "2021-07-08T10:25:34.768Z"
   },
   {
    "duration": 5,
    "start_time": "2021-07-08T10:25:34.809Z"
   },
   {
    "duration": 18,
    "start_time": "2021-07-08T10:25:34.816Z"
   },
   {
    "duration": 8,
    "start_time": "2021-07-08T10:25:34.837Z"
   },
   {
    "duration": 10295,
    "start_time": "2021-07-08T10:25:34.847Z"
   },
   {
    "duration": 29,
    "start_time": "2021-07-08T10:25:45.145Z"
   },
   {
    "duration": 51,
    "start_time": "2021-07-08T10:25:45.178Z"
   },
   {
    "duration": 896,
    "start_time": "2021-07-08T10:25:45.232Z"
   },
   {
    "duration": 36,
    "start_time": "2021-07-08T10:25:46.131Z"
   },
   {
    "duration": 15,
    "start_time": "2021-07-08T10:25:46.169Z"
   },
   {
    "duration": 30,
    "start_time": "2021-07-08T10:25:46.210Z"
   },
   {
    "duration": 12,
    "start_time": "2021-07-08T10:25:46.249Z"
   },
   {
    "duration": 66,
    "start_time": "2021-07-08T10:25:46.265Z"
   },
   {
    "duration": 14,
    "start_time": "2021-07-08T10:25:46.334Z"
   },
   {
    "duration": 547,
    "start_time": "2021-07-08T19:44:01.015Z"
   },
   {
    "duration": 46,
    "start_time": "2021-07-08T19:44:01.564Z"
   },
   {
    "duration": 9,
    "start_time": "2021-07-08T19:44:01.612Z"
   },
   {
    "duration": 25,
    "start_time": "2021-07-08T19:44:01.623Z"
   },
   {
    "duration": 33,
    "start_time": "2021-07-08T19:44:01.649Z"
   },
   {
    "duration": 9,
    "start_time": "2021-07-08T19:44:01.683Z"
   },
   {
    "duration": 11,
    "start_time": "2021-07-08T19:44:01.694Z"
   },
   {
    "duration": 14,
    "start_time": "2021-07-08T19:44:01.708Z"
   },
   {
    "duration": 9,
    "start_time": "2021-07-08T19:44:01.724Z"
   },
   {
    "duration": 39,
    "start_time": "2021-07-08T19:44:01.735Z"
   },
   {
    "duration": 48,
    "start_time": "2021-07-08T19:44:01.775Z"
   },
   {
    "duration": 7,
    "start_time": "2021-07-08T19:44:01.825Z"
   },
   {
    "duration": 5,
    "start_time": "2021-07-08T19:44:01.834Z"
   },
   {
    "duration": 8,
    "start_time": "2021-07-08T19:44:01.841Z"
   },
   {
    "duration": 5,
    "start_time": "2021-07-08T19:44:01.851Z"
   },
   {
    "duration": 34,
    "start_time": "2021-07-08T19:44:01.858Z"
   },
   {
    "duration": 4,
    "start_time": "2021-07-08T19:44:01.894Z"
   },
   {
    "duration": 15,
    "start_time": "2021-07-08T19:44:01.899Z"
   },
   {
    "duration": 21,
    "start_time": "2021-07-08T19:44:01.915Z"
   },
   {
    "duration": 6,
    "start_time": "2021-07-08T19:44:01.937Z"
   },
   {
    "duration": 8,
    "start_time": "2021-07-08T19:44:01.944Z"
   },
   {
    "duration": 10,
    "start_time": "2021-07-08T19:44:01.954Z"
   },
   {
    "duration": 11,
    "start_time": "2021-07-08T19:44:01.967Z"
   },
   {
    "duration": 12,
    "start_time": "2021-07-08T19:44:01.980Z"
   },
   {
    "duration": 11,
    "start_time": "2021-07-08T19:44:01.994Z"
   },
   {
    "duration": 11,
    "start_time": "2021-07-08T19:44:02.006Z"
   },
   {
    "duration": 21,
    "start_time": "2021-07-08T19:44:02.019Z"
   },
   {
    "duration": 8,
    "start_time": "2021-07-08T19:44:02.041Z"
   },
   {
    "duration": 8,
    "start_time": "2021-07-08T19:44:02.050Z"
   },
   {
    "duration": 9,
    "start_time": "2021-07-08T19:44:02.059Z"
   },
   {
    "duration": 9,
    "start_time": "2021-07-08T19:44:02.069Z"
   },
   {
    "duration": 16,
    "start_time": "2021-07-08T19:44:02.079Z"
   },
   {
    "duration": 5,
    "start_time": "2021-07-08T19:44:02.097Z"
   },
   {
    "duration": 7,
    "start_time": "2021-07-08T19:44:02.103Z"
   },
   {
    "duration": 10,
    "start_time": "2021-07-08T19:44:02.111Z"
   },
   {
    "duration": 15,
    "start_time": "2021-07-08T19:44:02.122Z"
   },
   {
    "duration": 15,
    "start_time": "2021-07-08T19:44:02.139Z"
   },
   {
    "duration": 7,
    "start_time": "2021-07-08T19:44:02.155Z"
   },
   {
    "duration": 15,
    "start_time": "2021-07-08T19:44:02.164Z"
   },
   {
    "duration": 17,
    "start_time": "2021-07-08T19:44:02.180Z"
   },
   {
    "duration": 5,
    "start_time": "2021-07-08T19:44:02.199Z"
   },
   {
    "duration": 10,
    "start_time": "2021-07-08T19:44:02.205Z"
   },
   {
    "duration": 11,
    "start_time": "2021-07-08T19:44:02.217Z"
   },
   {
    "duration": 7,
    "start_time": "2021-07-08T19:44:02.230Z"
   },
   {
    "duration": 10,
    "start_time": "2021-07-08T19:44:02.239Z"
   },
   {
    "duration": 10,
    "start_time": "2021-07-08T19:44:02.250Z"
   },
   {
    "duration": 20,
    "start_time": "2021-07-08T19:44:02.261Z"
   },
   {
    "duration": 28,
    "start_time": "2021-07-08T19:44:02.283Z"
   },
   {
    "duration": 6,
    "start_time": "2021-07-08T19:44:02.312Z"
   },
   {
    "duration": 4,
    "start_time": "2021-07-08T19:44:02.320Z"
   },
   {
    "duration": 2459,
    "start_time": "2021-07-08T19:44:02.325Z"
   },
   {
    "duration": 15,
    "start_time": "2021-07-08T19:44:04.786Z"
   },
   {
    "duration": 8,
    "start_time": "2021-07-08T19:44:04.803Z"
   },
   {
    "duration": 10,
    "start_time": "2021-07-08T19:44:04.812Z"
   },
   {
    "duration": 10,
    "start_time": "2021-07-08T19:44:04.824Z"
   },
   {
    "duration": 12,
    "start_time": "2021-07-08T19:44:04.835Z"
   },
   {
    "duration": 8,
    "start_time": "2021-07-08T19:44:04.849Z"
   },
   {
    "duration": 4,
    "start_time": "2021-07-08T19:44:04.858Z"
   },
   {
    "duration": 42,
    "start_time": "2021-07-08T19:44:04.863Z"
   },
   {
    "duration": 11,
    "start_time": "2021-07-08T19:44:04.907Z"
   },
   {
    "duration": 6352,
    "start_time": "2021-07-08T19:44:04.919Z"
   },
   {
    "duration": 29,
    "start_time": "2021-07-08T19:44:11.272Z"
   },
   {
    "duration": 18,
    "start_time": "2021-07-08T19:44:11.302Z"
   },
   {
    "duration": 540,
    "start_time": "2021-07-08T19:44:11.322Z"
   },
   {
    "duration": 20,
    "start_time": "2021-07-08T19:44:11.864Z"
   },
   {
    "duration": 9,
    "start_time": "2021-07-08T19:44:11.885Z"
   },
   {
    "duration": 22,
    "start_time": "2021-07-08T19:44:11.895Z"
   },
   {
    "duration": 8,
    "start_time": "2021-07-08T19:44:11.921Z"
   },
   {
    "duration": 16,
    "start_time": "2021-07-08T19:44:11.930Z"
   },
   {
    "duration": 6,
    "start_time": "2021-07-08T19:44:11.947Z"
   },
   {
    "duration": 573,
    "start_time": "2021-07-08T21:10:44.029Z"
   },
   {
    "duration": 48,
    "start_time": "2021-07-08T21:10:44.604Z"
   },
   {
    "duration": 11,
    "start_time": "2021-07-08T21:10:44.654Z"
   },
   {
    "duration": 16,
    "start_time": "2021-07-08T21:10:44.667Z"
   },
   {
    "duration": 32,
    "start_time": "2021-07-08T21:10:44.699Z"
   },
   {
    "duration": 3,
    "start_time": "2021-07-08T21:10:44.732Z"
   },
   {
    "duration": 6,
    "start_time": "2021-07-08T21:10:44.736Z"
   },
   {
    "duration": 10,
    "start_time": "2021-07-08T21:10:44.743Z"
   },
   {
    "duration": 5,
    "start_time": "2021-07-08T21:10:44.756Z"
   },
   {
    "duration": 68,
    "start_time": "2021-07-08T21:10:44.764Z"
   },
   {
    "duration": 34,
    "start_time": "2021-07-08T21:10:44.834Z"
   },
   {
    "duration": 8,
    "start_time": "2021-07-08T21:10:44.869Z"
   },
   {
    "duration": 7,
    "start_time": "2021-07-08T21:10:44.891Z"
   },
   {
    "duration": 9,
    "start_time": "2021-07-08T21:10:44.900Z"
   },
   {
    "duration": 7,
    "start_time": "2021-07-08T21:10:44.912Z"
   },
   {
    "duration": 9,
    "start_time": "2021-07-08T21:10:44.921Z"
   },
   {
    "duration": 6,
    "start_time": "2021-07-08T21:10:44.932Z"
   },
   {
    "duration": 8,
    "start_time": "2021-07-08T21:10:44.940Z"
   },
   {
    "duration": 16,
    "start_time": "2021-07-08T21:10:44.949Z"
   },
   {
    "duration": 26,
    "start_time": "2021-07-08T21:10:44.967Z"
   },
   {
    "duration": 5,
    "start_time": "2021-07-08T21:10:44.996Z"
   },
   {
    "duration": 19,
    "start_time": "2021-07-08T21:10:45.003Z"
   },
   {
    "duration": 13,
    "start_time": "2021-07-08T21:10:45.024Z"
   },
   {
    "duration": 13,
    "start_time": "2021-07-08T21:10:45.039Z"
   },
   {
    "duration": 7,
    "start_time": "2021-07-08T21:10:45.054Z"
   },
   {
    "duration": 11,
    "start_time": "2021-07-08T21:10:45.062Z"
   },
   {
    "duration": 7,
    "start_time": "2021-07-08T21:10:45.076Z"
   },
   {
    "duration": 16,
    "start_time": "2021-07-08T21:10:45.085Z"
   },
   {
    "duration": 3,
    "start_time": "2021-07-08T21:10:45.104Z"
   },
   {
    "duration": 10,
    "start_time": "2021-07-08T21:10:45.109Z"
   },
   {
    "duration": 13,
    "start_time": "2021-07-08T21:10:45.121Z"
   },
   {
    "duration": 17,
    "start_time": "2021-07-08T21:10:45.135Z"
   },
   {
    "duration": 11,
    "start_time": "2021-07-08T21:10:45.153Z"
   },
   {
    "duration": 8,
    "start_time": "2021-07-08T21:10:45.165Z"
   },
   {
    "duration": 9,
    "start_time": "2021-07-08T21:10:45.175Z"
   },
   {
    "duration": 24,
    "start_time": "2021-07-08T21:10:45.185Z"
   },
   {
    "duration": 11,
    "start_time": "2021-07-08T21:10:45.211Z"
   },
   {
    "duration": 6,
    "start_time": "2021-07-08T21:10:45.224Z"
   },
   {
    "duration": 11,
    "start_time": "2021-07-08T21:10:45.231Z"
   },
   {
    "duration": 15,
    "start_time": "2021-07-08T21:10:45.243Z"
   },
   {
    "duration": 5,
    "start_time": "2021-07-08T21:10:45.260Z"
   },
   {
    "duration": 11,
    "start_time": "2021-07-08T21:10:45.266Z"
   },
   {
    "duration": 17,
    "start_time": "2021-07-08T21:10:45.278Z"
   },
   {
    "duration": 4,
    "start_time": "2021-07-08T21:10:45.297Z"
   },
   {
    "duration": 11,
    "start_time": "2021-07-08T21:10:45.303Z"
   },
   {
    "duration": 14,
    "start_time": "2021-07-08T21:10:45.316Z"
   },
   {
    "duration": 19,
    "start_time": "2021-07-08T21:10:45.331Z"
   },
   {
    "duration": 29,
    "start_time": "2021-07-08T21:10:45.351Z"
   },
   {
    "duration": 14,
    "start_time": "2021-07-08T21:10:45.381Z"
   },
   {
    "duration": 10,
    "start_time": "2021-07-08T21:10:45.399Z"
   },
   {
    "duration": 2353,
    "start_time": "2021-07-08T21:10:45.411Z"
   },
   {
    "duration": 12,
    "start_time": "2021-07-08T21:10:47.766Z"
   },
   {
    "duration": 19,
    "start_time": "2021-07-08T21:10:47.780Z"
   },
   {
    "duration": 14,
    "start_time": "2021-07-08T21:10:47.801Z"
   },
   {
    "duration": 13,
    "start_time": "2021-07-08T21:10:47.817Z"
   },
   {
    "duration": 12,
    "start_time": "2021-07-08T21:10:47.831Z"
   },
   {
    "duration": 10,
    "start_time": "2021-07-08T21:10:47.844Z"
   },
   {
    "duration": 2,
    "start_time": "2021-07-08T21:10:47.856Z"
   },
   {
    "duration": 10,
    "start_time": "2021-07-08T21:10:47.859Z"
   },
   {
    "duration": 22,
    "start_time": "2021-07-08T21:10:47.870Z"
   },
   {
    "duration": 6257,
    "start_time": "2021-07-08T21:10:47.897Z"
   },
   {
    "duration": 19,
    "start_time": "2021-07-08T21:10:54.156Z"
   },
   {
    "duration": 34,
    "start_time": "2021-07-08T21:10:54.177Z"
   },
   {
    "duration": 645,
    "start_time": "2021-07-08T21:10:54.213Z"
   },
   {
    "duration": 23,
    "start_time": "2021-07-08T21:10:54.860Z"
   },
   {
    "duration": 14,
    "start_time": "2021-07-08T21:10:54.884Z"
   },
   {
    "duration": 20,
    "start_time": "2021-07-08T21:10:54.900Z"
   },
   {
    "duration": 8,
    "start_time": "2021-07-08T21:10:54.922Z"
   },
   {
    "duration": 18,
    "start_time": "2021-07-08T21:10:54.932Z"
   },
   {
    "duration": 7,
    "start_time": "2021-07-08T21:10:54.952Z"
   },
   {
    "duration": 567,
    "start_time": "2021-07-08T21:20:56.965Z"
   },
   {
    "duration": 46,
    "start_time": "2021-07-08T21:20:57.534Z"
   },
   {
    "duration": 10,
    "start_time": "2021-07-08T21:20:57.584Z"
   },
   {
    "duration": 16,
    "start_time": "2021-07-08T21:20:57.595Z"
   },
   {
    "duration": 26,
    "start_time": "2021-07-08T21:20:57.613Z"
   },
   {
    "duration": 3,
    "start_time": "2021-07-08T21:20:57.640Z"
   },
   {
    "duration": 6,
    "start_time": "2021-07-08T21:20:57.645Z"
   },
   {
    "duration": 9,
    "start_time": "2021-07-08T21:20:57.652Z"
   },
   {
    "duration": 31,
    "start_time": "2021-07-08T21:20:57.662Z"
   },
   {
    "duration": 35,
    "start_time": "2021-07-08T21:20:57.695Z"
   },
   {
    "duration": 34,
    "start_time": "2021-07-08T21:20:57.731Z"
   },
   {
    "duration": 25,
    "start_time": "2021-07-08T21:20:57.766Z"
   },
   {
    "duration": 5,
    "start_time": "2021-07-08T21:20:57.792Z"
   },
   {
    "duration": 5,
    "start_time": "2021-07-08T21:20:57.799Z"
   },
   {
    "duration": 4,
    "start_time": "2021-07-08T21:20:57.806Z"
   },
   {
    "duration": 9,
    "start_time": "2021-07-08T21:20:57.812Z"
   },
   {
    "duration": 9,
    "start_time": "2021-07-08T21:20:57.822Z"
   },
   {
    "duration": 10,
    "start_time": "2021-07-08T21:20:57.832Z"
   },
   {
    "duration": 14,
    "start_time": "2021-07-08T21:20:57.844Z"
   },
   {
    "duration": 5,
    "start_time": "2021-07-08T21:20:57.859Z"
   },
   {
    "duration": 7,
    "start_time": "2021-07-08T21:20:57.865Z"
   },
   {
    "duration": 5,
    "start_time": "2021-07-08T21:20:57.892Z"
   },
   {
    "duration": 8,
    "start_time": "2021-07-08T21:20:57.899Z"
   },
   {
    "duration": 11,
    "start_time": "2021-07-08T21:20:57.908Z"
   },
   {
    "duration": 4,
    "start_time": "2021-07-08T21:20:57.921Z"
   },
   {
    "duration": 12,
    "start_time": "2021-07-08T21:20:57.927Z"
   },
   {
    "duration": 10,
    "start_time": "2021-07-08T21:20:57.941Z"
   },
   {
    "duration": 10,
    "start_time": "2021-07-08T21:20:57.952Z"
   },
   {
    "duration": 5,
    "start_time": "2021-07-08T21:20:57.963Z"
   },
   {
    "duration": 10,
    "start_time": "2021-07-08T21:20:57.969Z"
   },
   {
    "duration": 13,
    "start_time": "2021-07-08T21:20:57.980Z"
   },
   {
    "duration": 14,
    "start_time": "2021-07-08T21:20:57.994Z"
   },
   {
    "duration": 12,
    "start_time": "2021-07-08T21:20:58.009Z"
   },
   {
    "duration": 8,
    "start_time": "2021-07-08T21:20:58.022Z"
   },
   {
    "duration": 12,
    "start_time": "2021-07-08T21:20:58.031Z"
   },
   {
    "duration": 14,
    "start_time": "2021-07-08T21:20:58.044Z"
   },
   {
    "duration": 10,
    "start_time": "2021-07-08T21:20:58.060Z"
   },
   {
    "duration": 8,
    "start_time": "2021-07-08T21:20:58.071Z"
   },
   {
    "duration": 11,
    "start_time": "2021-07-08T21:20:58.080Z"
   },
   {
    "duration": 17,
    "start_time": "2021-07-08T21:20:58.093Z"
   },
   {
    "duration": 6,
    "start_time": "2021-07-08T21:20:58.112Z"
   },
   {
    "duration": 11,
    "start_time": "2021-07-08T21:20:58.119Z"
   },
   {
    "duration": 12,
    "start_time": "2021-07-08T21:20:58.136Z"
   },
   {
    "duration": 7,
    "start_time": "2021-07-08T21:20:58.150Z"
   },
   {
    "duration": 10,
    "start_time": "2021-07-08T21:20:58.159Z"
   },
   {
    "duration": 10,
    "start_time": "2021-07-08T21:20:58.170Z"
   },
   {
    "duration": 17,
    "start_time": "2021-07-08T21:20:58.182Z"
   },
   {
    "duration": 28,
    "start_time": "2021-07-08T21:20:58.200Z"
   },
   {
    "duration": 6,
    "start_time": "2021-07-08T21:20:58.230Z"
   },
   {
    "duration": 4,
    "start_time": "2021-07-08T21:20:58.237Z"
   },
   {
    "duration": 2220,
    "start_time": "2021-07-08T21:20:58.243Z"
   },
   {
    "duration": 13,
    "start_time": "2021-07-08T21:21:00.465Z"
   },
   {
    "duration": 15,
    "start_time": "2021-07-08T21:21:00.479Z"
   },
   {
    "duration": 28,
    "start_time": "2021-07-08T21:21:00.496Z"
   },
   {
    "duration": 34,
    "start_time": "2021-07-08T21:21:00.526Z"
   },
   {
    "duration": 26,
    "start_time": "2021-07-08T21:21:00.562Z"
   },
   {
    "duration": 22,
    "start_time": "2021-07-08T21:21:00.589Z"
   },
   {
    "duration": 24,
    "start_time": "2021-07-08T21:21:00.613Z"
   },
   {
    "duration": 21,
    "start_time": "2021-07-08T21:21:00.639Z"
   },
   {
    "duration": 5430,
    "start_time": "2021-07-08T21:21:00.662Z"
   },
   {
    "duration": 15,
    "start_time": "2021-07-08T21:21:06.093Z"
   },
   {
    "duration": 520,
    "start_time": "2021-07-08T21:21:06.110Z"
   },
   {
    "duration": 21,
    "start_time": "2021-07-08T21:21:06.632Z"
   },
   {
    "duration": 9,
    "start_time": "2021-07-08T21:21:06.654Z"
   },
   {
    "duration": 32,
    "start_time": "2021-07-08T21:21:06.665Z"
   },
   {
    "duration": 10,
    "start_time": "2021-07-08T21:21:06.698Z"
   },
   {
    "duration": 16,
    "start_time": "2021-07-08T21:21:06.713Z"
   },
   {
    "duration": 8,
    "start_time": "2021-07-08T21:21:06.730Z"
   },
   {
    "duration": 569,
    "start_time": "2021-07-08T21:22:57.563Z"
   },
   {
    "duration": 48,
    "start_time": "2021-07-08T21:22:58.134Z"
   },
   {
    "duration": 10,
    "start_time": "2021-07-08T21:22:58.183Z"
   },
   {
    "duration": 16,
    "start_time": "2021-07-08T21:22:58.195Z"
   },
   {
    "duration": 29,
    "start_time": "2021-07-08T21:22:58.212Z"
   },
   {
    "duration": 2,
    "start_time": "2021-07-08T21:22:58.242Z"
   },
   {
    "duration": 6,
    "start_time": "2021-07-08T21:22:58.246Z"
   },
   {
    "duration": 9,
    "start_time": "2021-07-08T21:22:58.254Z"
   },
   {
    "duration": 29,
    "start_time": "2021-07-08T21:22:58.264Z"
   },
   {
    "duration": 34,
    "start_time": "2021-07-08T21:22:58.295Z"
   },
   {
    "duration": 34,
    "start_time": "2021-07-08T21:22:58.331Z"
   },
   {
    "duration": 27,
    "start_time": "2021-07-08T21:22:58.367Z"
   },
   {
    "duration": 5,
    "start_time": "2021-07-08T21:22:58.396Z"
   },
   {
    "duration": 6,
    "start_time": "2021-07-08T21:22:58.402Z"
   },
   {
    "duration": 3,
    "start_time": "2021-07-08T21:22:58.410Z"
   },
   {
    "duration": 9,
    "start_time": "2021-07-08T21:22:58.414Z"
   },
   {
    "duration": 8,
    "start_time": "2021-07-08T21:22:58.425Z"
   },
   {
    "duration": 9,
    "start_time": "2021-07-08T21:22:58.434Z"
   },
   {
    "duration": 16,
    "start_time": "2021-07-08T21:22:58.444Z"
   },
   {
    "duration": 5,
    "start_time": "2021-07-08T21:22:58.461Z"
   },
   {
    "duration": 24,
    "start_time": "2021-07-08T21:22:58.467Z"
   },
   {
    "duration": 6,
    "start_time": "2021-07-08T21:22:58.492Z"
   },
   {
    "duration": 5,
    "start_time": "2021-07-08T21:22:58.501Z"
   },
   {
    "duration": 12,
    "start_time": "2021-07-08T21:22:58.508Z"
   },
   {
    "duration": 5,
    "start_time": "2021-07-08T21:22:58.521Z"
   },
   {
    "duration": 9,
    "start_time": "2021-07-08T21:22:58.528Z"
   },
   {
    "duration": 9,
    "start_time": "2021-07-08T21:22:58.538Z"
   },
   {
    "duration": 11,
    "start_time": "2021-07-08T21:22:58.548Z"
   },
   {
    "duration": 7,
    "start_time": "2021-07-08T21:22:58.560Z"
   },
   {
    "duration": 25,
    "start_time": "2021-07-08T21:22:58.568Z"
   },
   {
    "duration": 6,
    "start_time": "2021-07-08T21:22:58.594Z"
   },
   {
    "duration": 12,
    "start_time": "2021-07-08T21:22:58.601Z"
   },
   {
    "duration": 10,
    "start_time": "2021-07-08T21:22:58.615Z"
   },
   {
    "duration": 7,
    "start_time": "2021-07-08T21:22:58.627Z"
   },
   {
    "duration": 11,
    "start_time": "2021-07-08T21:22:58.636Z"
   },
   {
    "duration": 26,
    "start_time": "2021-07-08T21:22:58.649Z"
   },
   {
    "duration": 24,
    "start_time": "2021-07-08T21:22:58.676Z"
   },
   {
    "duration": 20,
    "start_time": "2021-07-08T21:22:58.702Z"
   },
   {
    "duration": 28,
    "start_time": "2021-07-08T21:22:58.724Z"
   },
   {
    "duration": 33,
    "start_time": "2021-07-08T21:22:58.753Z"
   },
   {
    "duration": 22,
    "start_time": "2021-07-08T21:22:58.787Z"
   },
   {
    "duration": 25,
    "start_time": "2021-07-08T21:22:58.810Z"
   },
   {
    "duration": 24,
    "start_time": "2021-07-08T21:22:58.837Z"
   },
   {
    "duration": 9,
    "start_time": "2021-07-08T21:22:58.863Z"
   },
   {
    "duration": 18,
    "start_time": "2021-07-08T21:22:58.874Z"
   },
   {
    "duration": 22,
    "start_time": "2021-07-08T21:22:58.894Z"
   },
   {
    "duration": 31,
    "start_time": "2021-07-08T21:22:58.917Z"
   },
   {
    "duration": 27,
    "start_time": "2021-07-08T21:22:58.949Z"
   },
   {
    "duration": 4,
    "start_time": "2021-07-08T21:22:58.977Z"
   },
   {
    "duration": 8,
    "start_time": "2021-07-08T21:22:58.982Z"
   },
   {
    "duration": 2237,
    "start_time": "2021-07-08T21:22:58.991Z"
   },
   {
    "duration": 12,
    "start_time": "2021-07-08T21:23:01.230Z"
   },
   {
    "duration": 11,
    "start_time": "2021-07-08T21:23:01.243Z"
   },
   {
    "duration": 21,
    "start_time": "2021-07-08T21:23:01.255Z"
   },
   {
    "duration": 19,
    "start_time": "2021-07-08T21:23:01.277Z"
   },
   {
    "duration": 13,
    "start_time": "2021-07-08T21:23:01.298Z"
   },
   {
    "duration": 10,
    "start_time": "2021-07-08T21:23:01.312Z"
   },
   {
    "duration": 5,
    "start_time": "2021-07-08T21:23:01.324Z"
   },
   {
    "duration": 6,
    "start_time": "2021-07-08T21:23:01.330Z"
   },
   {
    "duration": 5644,
    "start_time": "2021-07-08T21:23:01.337Z"
   },
   {
    "duration": 20,
    "start_time": "2021-07-08T21:23:06.982Z"
   },
   {
    "duration": 447,
    "start_time": "2021-07-08T21:23:07.004Z"
   },
   {
    "duration": 21,
    "start_time": "2021-07-08T21:23:07.453Z"
   },
   {
    "duration": 11,
    "start_time": "2021-07-08T21:23:07.476Z"
   },
   {
    "duration": 28,
    "start_time": "2021-07-08T21:23:07.489Z"
   },
   {
    "duration": 27,
    "start_time": "2021-07-08T21:23:07.519Z"
   },
   {
    "duration": 35,
    "start_time": "2021-07-08T21:23:07.548Z"
   },
   {
    "duration": 27,
    "start_time": "2021-07-08T21:23:07.587Z"
   },
   {
    "duration": 532,
    "start_time": "2021-07-08T21:33:38.931Z"
   },
   {
    "duration": 50,
    "start_time": "2021-07-08T21:33:39.465Z"
   },
   {
    "duration": 13,
    "start_time": "2021-07-08T21:33:39.518Z"
   },
   {
    "duration": 29,
    "start_time": "2021-07-08T21:33:39.533Z"
   },
   {
    "duration": 49,
    "start_time": "2021-07-08T21:33:39.564Z"
   },
   {
    "duration": 4,
    "start_time": "2021-07-08T21:33:39.614Z"
   },
   {
    "duration": 14,
    "start_time": "2021-07-08T21:33:39.619Z"
   },
   {
    "duration": 18,
    "start_time": "2021-07-08T21:33:39.634Z"
   },
   {
    "duration": 19,
    "start_time": "2021-07-08T21:33:39.654Z"
   },
   {
    "duration": 62,
    "start_time": "2021-07-08T21:33:39.675Z"
   },
   {
    "duration": 57,
    "start_time": "2021-07-08T21:33:39.739Z"
   },
   {
    "duration": 20,
    "start_time": "2021-07-08T21:33:39.798Z"
   },
   {
    "duration": 10,
    "start_time": "2021-07-08T21:33:39.820Z"
   },
   {
    "duration": 23,
    "start_time": "2021-07-08T21:33:39.832Z"
   },
   {
    "duration": 23,
    "start_time": "2021-07-08T21:33:39.856Z"
   },
   {
    "duration": 13,
    "start_time": "2021-07-08T21:33:39.881Z"
   },
   {
    "duration": 8,
    "start_time": "2021-07-08T21:33:39.896Z"
   },
   {
    "duration": 22,
    "start_time": "2021-07-08T21:33:39.906Z"
   },
   {
    "duration": 25,
    "start_time": "2021-07-08T21:33:39.929Z"
   },
   {
    "duration": 7,
    "start_time": "2021-07-08T21:33:39.956Z"
   },
   {
    "duration": 13,
    "start_time": "2021-07-08T21:33:39.965Z"
   },
   {
    "duration": 18,
    "start_time": "2021-07-08T21:33:39.980Z"
   },
   {
    "duration": 18,
    "start_time": "2021-07-08T21:33:40.000Z"
   },
   {
    "duration": 12,
    "start_time": "2021-07-08T21:33:40.020Z"
   },
   {
    "duration": 5,
    "start_time": "2021-07-08T21:33:40.034Z"
   },
   {
    "duration": 9,
    "start_time": "2021-07-08T21:33:40.041Z"
   },
   {
    "duration": 21,
    "start_time": "2021-07-08T21:33:40.053Z"
   },
   {
    "duration": 10,
    "start_time": "2021-07-08T21:33:40.076Z"
   },
   {
    "duration": 9,
    "start_time": "2021-07-08T21:33:40.088Z"
   },
   {
    "duration": 12,
    "start_time": "2021-07-08T21:33:40.099Z"
   },
   {
    "duration": 28,
    "start_time": "2021-07-08T21:33:40.112Z"
   },
   {
    "duration": 24,
    "start_time": "2021-07-08T21:33:40.141Z"
   },
   {
    "duration": 19,
    "start_time": "2021-07-08T21:33:40.167Z"
   },
   {
    "duration": 11,
    "start_time": "2021-07-08T21:33:40.188Z"
   },
   {
    "duration": 8,
    "start_time": "2021-07-08T21:33:40.201Z"
   },
   {
    "duration": 28,
    "start_time": "2021-07-08T21:33:40.211Z"
   },
   {
    "duration": 10,
    "start_time": "2021-07-08T21:33:40.240Z"
   },
   {
    "duration": 9,
    "start_time": "2021-07-08T21:33:40.252Z"
   },
   {
    "duration": 28,
    "start_time": "2021-07-08T21:33:40.262Z"
   },
   {
    "duration": 16,
    "start_time": "2021-07-08T21:33:40.291Z"
   },
   {
    "duration": 12,
    "start_time": "2021-07-08T21:33:40.309Z"
   },
   {
    "duration": 13,
    "start_time": "2021-07-08T21:33:40.322Z"
   },
   {
    "duration": 20,
    "start_time": "2021-07-08T21:33:40.337Z"
   },
   {
    "duration": 11,
    "start_time": "2021-07-08T21:33:40.358Z"
   },
   {
    "duration": 19,
    "start_time": "2021-07-08T21:33:40.370Z"
   },
   {
    "duration": 22,
    "start_time": "2021-07-08T21:33:40.391Z"
   },
   {
    "duration": 21,
    "start_time": "2021-07-08T21:33:40.415Z"
   },
   {
    "duration": 31,
    "start_time": "2021-07-08T21:33:40.438Z"
   },
   {
    "duration": 7,
    "start_time": "2021-07-08T21:33:40.471Z"
   },
   {
    "duration": 7,
    "start_time": "2021-07-08T21:33:40.479Z"
   },
   {
    "duration": 2317,
    "start_time": "2021-07-08T21:33:40.488Z"
   },
   {
    "duration": 20,
    "start_time": "2021-07-08T21:33:42.807Z"
   },
   {
    "duration": 11,
    "start_time": "2021-07-08T21:33:42.829Z"
   },
   {
    "duration": 12,
    "start_time": "2021-07-08T21:33:42.841Z"
   },
   {
    "duration": 16,
    "start_time": "2021-07-08T21:33:42.854Z"
   },
   {
    "duration": 27,
    "start_time": "2021-07-08T21:33:42.871Z"
   },
   {
    "duration": 11,
    "start_time": "2021-07-08T21:33:42.900Z"
   },
   {
    "duration": 5,
    "start_time": "2021-07-08T21:33:42.913Z"
   },
   {
    "duration": 7,
    "start_time": "2021-07-08T21:33:42.919Z"
   },
   {
    "duration": 6480,
    "start_time": "2021-07-08T21:33:42.927Z"
   },
   {
    "duration": 16,
    "start_time": "2021-07-08T21:33:49.409Z"
   },
   {
    "duration": 519,
    "start_time": "2021-07-08T21:33:49.427Z"
   },
   {
    "duration": 28,
    "start_time": "2021-07-08T21:33:49.948Z"
   },
   {
    "duration": 18,
    "start_time": "2021-07-08T21:33:49.977Z"
   },
   {
    "duration": 26,
    "start_time": "2021-07-08T21:33:49.997Z"
   },
   {
    "duration": 10,
    "start_time": "2021-07-08T21:33:50.025Z"
   },
   {
    "duration": 22,
    "start_time": "2021-07-08T21:33:50.037Z"
   },
   {
    "duration": 9,
    "start_time": "2021-07-08T21:33:50.060Z"
   },
   {
    "duration": 746,
    "start_time": "2021-07-09T04:41:08.757Z"
   },
   {
    "duration": 66,
    "start_time": "2021-07-09T04:41:09.506Z"
   },
   {
    "duration": 17,
    "start_time": "2021-07-09T04:41:09.576Z"
   },
   {
    "duration": 30,
    "start_time": "2021-07-09T04:41:09.596Z"
   },
   {
    "duration": 71,
    "start_time": "2021-07-09T04:41:09.629Z"
   },
   {
    "duration": 6,
    "start_time": "2021-07-09T04:41:09.703Z"
   },
   {
    "duration": 7,
    "start_time": "2021-07-09T04:41:09.711Z"
   },
   {
    "duration": 44,
    "start_time": "2021-07-09T04:41:09.720Z"
   },
   {
    "duration": 9,
    "start_time": "2021-07-09T04:41:09.767Z"
   },
   {
    "duration": 57,
    "start_time": "2021-07-09T04:41:09.779Z"
   },
   {
    "duration": 55,
    "start_time": "2021-07-09T04:41:09.855Z"
   },
   {
    "duration": 11,
    "start_time": "2021-07-09T04:41:09.913Z"
   },
   {
    "duration": 8,
    "start_time": "2021-07-09T04:41:09.926Z"
   },
   {
    "duration": 24,
    "start_time": "2021-07-09T04:41:09.936Z"
   },
   {
    "duration": 7,
    "start_time": "2021-07-09T04:41:09.962Z"
   },
   {
    "duration": 9,
    "start_time": "2021-07-09T04:41:09.971Z"
   },
   {
    "duration": 8,
    "start_time": "2021-07-09T04:41:09.982Z"
   },
   {
    "duration": 9,
    "start_time": "2021-07-09T04:41:09.992Z"
   },
   {
    "duration": 54,
    "start_time": "2021-07-09T04:41:10.003Z"
   },
   {
    "duration": 9,
    "start_time": "2021-07-09T04:41:10.060Z"
   },
   {
    "duration": 8,
    "start_time": "2021-07-09T04:41:10.071Z"
   },
   {
    "duration": 9,
    "start_time": "2021-07-09T04:41:10.081Z"
   },
   {
    "duration": 8,
    "start_time": "2021-07-09T04:41:10.093Z"
   },
   {
    "duration": 55,
    "start_time": "2021-07-09T04:41:10.103Z"
   },
   {
    "duration": 5,
    "start_time": "2021-07-09T04:41:10.160Z"
   },
   {
    "duration": 9,
    "start_time": "2021-07-09T04:41:10.168Z"
   },
   {
    "duration": 9,
    "start_time": "2021-07-09T04:41:10.183Z"
   },
   {
    "duration": 10,
    "start_time": "2021-07-09T04:41:10.195Z"
   },
   {
    "duration": 4,
    "start_time": "2021-07-09T04:41:10.208Z"
   },
   {
    "duration": 42,
    "start_time": "2021-07-09T04:41:10.215Z"
   },
   {
    "duration": 6,
    "start_time": "2021-07-09T04:41:10.260Z"
   },
   {
    "duration": 17,
    "start_time": "2021-07-09T04:41:10.269Z"
   },
   {
    "duration": 13,
    "start_time": "2021-07-09T04:41:10.288Z"
   },
   {
    "duration": 4,
    "start_time": "2021-07-09T04:41:10.304Z"
   },
   {
    "duration": 49,
    "start_time": "2021-07-09T04:41:10.311Z"
   },
   {
    "duration": 22,
    "start_time": "2021-07-09T04:41:10.362Z"
   },
   {
    "duration": 15,
    "start_time": "2021-07-09T04:41:10.387Z"
   },
   {
    "duration": 6,
    "start_time": "2021-07-09T04:41:10.404Z"
   },
   {
    "duration": 44,
    "start_time": "2021-07-09T04:41:10.413Z"
   },
   {
    "duration": 21,
    "start_time": "2021-07-09T04:41:10.460Z"
   },
   {
    "duration": 9,
    "start_time": "2021-07-09T04:41:10.483Z"
   },
   {
    "duration": 10,
    "start_time": "2021-07-09T04:41:10.495Z"
   },
   {
    "duration": 10,
    "start_time": "2021-07-09T04:41:10.507Z"
   },
   {
    "duration": 38,
    "start_time": "2021-07-09T04:41:10.520Z"
   },
   {
    "duration": 7,
    "start_time": "2021-07-09T04:41:10.561Z"
   },
   {
    "duration": 8,
    "start_time": "2021-07-09T04:41:10.571Z"
   },
   {
    "duration": 25,
    "start_time": "2021-07-09T04:41:10.582Z"
   },
   {
    "duration": 88,
    "start_time": "2021-07-09T04:41:10.609Z"
   },
   {
    "duration": 9,
    "start_time": "2021-07-09T04:41:10.699Z"
   },
   {
    "duration": 8,
    "start_time": "2021-07-09T04:41:10.711Z"
   },
   {
    "duration": 3113,
    "start_time": "2021-07-09T04:41:10.724Z"
   },
   {
    "duration": 24,
    "start_time": "2021-07-09T04:41:13.840Z"
   },
   {
    "duration": 11,
    "start_time": "2021-07-09T04:41:13.866Z"
   },
   {
    "duration": 17,
    "start_time": "2021-07-09T04:41:13.879Z"
   },
   {
    "duration": 20,
    "start_time": "2021-07-09T04:41:13.898Z"
   },
   {
    "duration": 38,
    "start_time": "2021-07-09T04:41:13.920Z"
   },
   {
    "duration": 9,
    "start_time": "2021-07-09T04:41:13.960Z"
   },
   {
    "duration": 2,
    "start_time": "2021-07-09T04:41:13.972Z"
   },
   {
    "duration": 6,
    "start_time": "2021-07-09T04:41:13.976Z"
   },
   {
    "duration": 9390,
    "start_time": "2021-07-09T04:41:13.984Z"
   },
   {
    "duration": 25,
    "start_time": "2021-07-09T04:41:23.376Z"
   },
   {
    "duration": 733,
    "start_time": "2021-07-09T04:41:23.404Z"
   },
   {
    "duration": 34,
    "start_time": "2021-07-09T04:41:24.139Z"
   },
   {
    "duration": 11,
    "start_time": "2021-07-09T04:41:24.176Z"
   },
   {
    "duration": 27,
    "start_time": "2021-07-09T04:41:24.189Z"
   },
   {
    "duration": 41,
    "start_time": "2021-07-09T04:41:24.218Z"
   },
   {
    "duration": 26,
    "start_time": "2021-07-09T04:41:24.262Z"
   },
   {
    "duration": 11,
    "start_time": "2021-07-09T04:41:24.290Z"
   },
   {
    "duration": 894,
    "start_time": "2021-07-09T08:40:37.225Z"
   },
   {
    "duration": 4,
    "start_time": "2021-07-09T08:40:50.354Z"
   },
   {
    "duration": 66,
    "start_time": "2021-07-09T08:40:50.945Z"
   },
   {
    "duration": 22,
    "start_time": "2021-07-09T08:40:51.795Z"
   },
   {
    "duration": 36,
    "start_time": "2021-07-09T08:40:52.825Z"
   },
   {
    "duration": 871,
    "start_time": "2021-07-09T08:52:35.396Z"
   },
   {
    "duration": 72,
    "start_time": "2021-07-09T08:52:36.271Z"
   },
   {
    "duration": 18,
    "start_time": "2021-07-09T08:52:36.346Z"
   },
   {
    "duration": 62,
    "start_time": "2021-07-09T08:52:36.368Z"
   },
   {
    "duration": 47,
    "start_time": "2021-07-09T08:52:36.432Z"
   },
   {
    "duration": 4,
    "start_time": "2021-07-09T08:52:36.481Z"
   },
   {
    "duration": 34,
    "start_time": "2021-07-09T08:52:36.488Z"
   },
   {
    "duration": 25,
    "start_time": "2021-07-09T08:52:36.526Z"
   },
   {
    "duration": 10,
    "start_time": "2021-07-09T08:52:36.556Z"
   },
   {
    "duration": 81,
    "start_time": "2021-07-09T08:52:36.569Z"
   },
   {
    "duration": 76,
    "start_time": "2021-07-09T08:52:36.652Z"
   },
   {
    "duration": 15,
    "start_time": "2021-07-09T08:52:36.731Z"
   },
   {
    "duration": 17,
    "start_time": "2021-07-09T08:52:36.749Z"
   },
   {
    "duration": 9,
    "start_time": "2021-07-09T08:52:36.769Z"
   },
   {
    "duration": 20,
    "start_time": "2021-07-09T08:52:36.812Z"
   },
   {
    "duration": 12,
    "start_time": "2021-07-09T08:52:36.834Z"
   },
   {
    "duration": 11,
    "start_time": "2021-07-09T08:52:36.849Z"
   },
   {
    "duration": 15,
    "start_time": "2021-07-09T08:52:36.862Z"
   },
   {
    "duration": 39,
    "start_time": "2021-07-09T08:52:36.879Z"
   },
   {
    "duration": 10,
    "start_time": "2021-07-09T08:52:36.921Z"
   },
   {
    "duration": 18,
    "start_time": "2021-07-09T08:52:36.934Z"
   },
   {
    "duration": 13,
    "start_time": "2021-07-09T08:52:36.954Z"
   },
   {
    "duration": 12,
    "start_time": "2021-07-09T08:52:36.970Z"
   },
   {
    "duration": 35,
    "start_time": "2021-07-09T08:52:36.985Z"
   },
   {
    "duration": 8,
    "start_time": "2021-07-09T08:52:37.023Z"
   },
   {
    "duration": 15,
    "start_time": "2021-07-09T08:52:37.033Z"
   },
   {
    "duration": 9,
    "start_time": "2021-07-09T08:52:37.054Z"
   },
   {
    "duration": 16,
    "start_time": "2021-07-09T08:52:37.066Z"
   },
   {
    "duration": 26,
    "start_time": "2021-07-09T08:52:37.084Z"
   },
   {
    "duration": 8,
    "start_time": "2021-07-09T08:52:37.118Z"
   },
   {
    "duration": 13,
    "start_time": "2021-07-09T08:52:37.130Z"
   },
   {
    "duration": 29,
    "start_time": "2021-07-09T08:52:37.145Z"
   },
   {
    "duration": 34,
    "start_time": "2021-07-09T08:52:37.176Z"
   },
   {
    "duration": 15,
    "start_time": "2021-07-09T08:52:37.212Z"
   },
   {
    "duration": 15,
    "start_time": "2021-07-09T08:52:37.230Z"
   },
   {
    "duration": 25,
    "start_time": "2021-07-09T08:52:37.247Z"
   },
   {
    "duration": 40,
    "start_time": "2021-07-09T08:52:37.275Z"
   },
   {
    "duration": 6,
    "start_time": "2021-07-09T08:52:37.318Z"
   },
   {
    "duration": 12,
    "start_time": "2021-07-09T08:52:37.327Z"
   },
   {
    "duration": 28,
    "start_time": "2021-07-09T08:52:37.341Z"
   },
   {
    "duration": 37,
    "start_time": "2021-07-09T08:52:37.372Z"
   },
   {
    "duration": 29,
    "start_time": "2021-07-09T08:52:37.412Z"
   },
   {
    "duration": 16,
    "start_time": "2021-07-09T08:52:37.444Z"
   },
   {
    "duration": 7,
    "start_time": "2021-07-09T08:52:37.463Z"
   },
   {
    "duration": 7,
    "start_time": "2021-07-09T08:52:37.474Z"
   },
   {
    "duration": 14,
    "start_time": "2021-07-09T08:52:37.516Z"
   },
   {
    "duration": 23,
    "start_time": "2021-07-09T08:52:37.533Z"
   },
   {
    "duration": 78,
    "start_time": "2021-07-09T08:52:37.559Z"
   },
   {
    "duration": 10,
    "start_time": "2021-07-09T08:52:37.640Z"
   },
   {
    "duration": 7,
    "start_time": "2021-07-09T08:52:37.653Z"
   },
   {
    "duration": 3408,
    "start_time": "2021-07-09T08:52:37.662Z"
   },
   {
    "duration": 20,
    "start_time": "2021-07-09T08:52:41.073Z"
   },
   {
    "duration": 29,
    "start_time": "2021-07-09T08:52:41.095Z"
   },
   {
    "duration": 32,
    "start_time": "2021-07-09T08:52:41.126Z"
   },
   {
    "duration": 23,
    "start_time": "2021-07-09T08:52:41.160Z"
   },
   {
    "duration": 41,
    "start_time": "2021-07-09T08:52:41.186Z"
   },
   {
    "duration": 9,
    "start_time": "2021-07-09T08:52:41.230Z"
   },
   {
    "duration": 7,
    "start_time": "2021-07-09T08:52:41.241Z"
   },
   {
    "duration": 11,
    "start_time": "2021-07-09T08:52:41.251Z"
   },
   {
    "duration": 10258,
    "start_time": "2021-07-09T08:52:41.264Z"
   },
   {
    "duration": 26,
    "start_time": "2021-07-09T08:52:51.524Z"
   },
   {
    "duration": 883,
    "start_time": "2021-07-09T08:52:51.552Z"
   },
   {
    "duration": 34,
    "start_time": "2021-07-09T08:52:52.438Z"
   },
   {
    "duration": 13,
    "start_time": "2021-07-09T08:52:52.474Z"
   },
   {
    "duration": 29,
    "start_time": "2021-07-09T08:52:52.516Z"
   },
   {
    "duration": 15,
    "start_time": "2021-07-09T08:52:52.548Z"
   },
   {
    "duration": 66,
    "start_time": "2021-07-09T08:52:52.566Z"
   },
   {
    "duration": 13,
    "start_time": "2021-07-09T08:52:52.634Z"
   },
   {
    "duration": 16,
    "start_time": "2021-07-09T09:49:28.956Z"
   },
   {
    "duration": 16,
    "start_time": "2021-07-09T09:50:53.542Z"
   },
   {
    "duration": 15,
    "start_time": "2021-07-09T09:51:17.965Z"
   },
   {
    "duration": 868,
    "start_time": "2021-07-09T09:51:27.975Z"
   },
   {
    "duration": 77,
    "start_time": "2021-07-09T09:51:28.846Z"
   },
   {
    "duration": 19,
    "start_time": "2021-07-09T09:51:28.927Z"
   },
   {
    "duration": 27,
    "start_time": "2021-07-09T09:51:28.949Z"
   },
   {
    "duration": 56,
    "start_time": "2021-07-09T09:51:28.978Z"
   },
   {
    "duration": 14,
    "start_time": "2021-07-09T09:51:29.037Z"
   },
   {
    "duration": 12,
    "start_time": "2021-07-09T09:51:29.054Z"
   },
   {
    "duration": 13,
    "start_time": "2021-07-09T09:51:29.069Z"
   },
   {
    "duration": 19,
    "start_time": "2021-07-09T09:51:29.085Z"
   },
   {
    "duration": 75,
    "start_time": "2021-07-09T09:51:29.107Z"
   },
   {
    "duration": 68,
    "start_time": "2021-07-09T09:51:29.185Z"
   },
   {
    "duration": 12,
    "start_time": "2021-07-09T09:51:29.256Z"
   },
   {
    "duration": 10,
    "start_time": "2021-07-09T09:51:29.270Z"
   },
   {
    "duration": 9,
    "start_time": "2021-07-09T09:51:29.282Z"
   },
   {
    "duration": 9,
    "start_time": "2021-07-09T09:51:29.294Z"
   },
   {
    "duration": 19,
    "start_time": "2021-07-09T09:51:29.306Z"
   },
   {
    "duration": 8,
    "start_time": "2021-07-09T09:51:29.327Z"
   },
   {
    "duration": 7,
    "start_time": "2021-07-09T09:51:29.338Z"
   },
   {
    "duration": 16,
    "start_time": "2021-07-09T09:51:29.347Z"
   },
   {
    "duration": 7,
    "start_time": "2021-07-09T09:51:29.366Z"
   },
   {
    "duration": 10,
    "start_time": "2021-07-09T09:51:29.376Z"
   },
   {
    "duration": 9,
    "start_time": "2021-07-09T09:51:29.389Z"
   },
   {
    "duration": 13,
    "start_time": "2021-07-09T09:51:29.404Z"
   },
   {
    "duration": 27,
    "start_time": "2021-07-09T09:51:29.423Z"
   },
   {
    "duration": 5,
    "start_time": "2021-07-09T09:51:29.453Z"
   },
   {
    "duration": 10120,
    "start_time": "2021-07-09T09:51:29.460Z"
   },
   {
    "duration": 1374,
    "start_time": "2021-07-09T09:51:38.209Z"
   },
   {
    "duration": 1370,
    "start_time": "2021-07-09T09:51:38.215Z"
   },
   {
    "duration": 1364,
    "start_time": "2021-07-09T09:51:38.222Z"
   },
   {
    "duration": 1359,
    "start_time": "2021-07-09T09:51:38.229Z"
   },
   {
    "duration": 1354,
    "start_time": "2021-07-09T09:51:38.235Z"
   },
   {
    "duration": 1347,
    "start_time": "2021-07-09T09:51:38.243Z"
   },
   {
    "duration": 1342,
    "start_time": "2021-07-09T09:51:38.250Z"
   },
   {
    "duration": 1334,
    "start_time": "2021-07-09T09:51:38.259Z"
   },
   {
    "duration": 1328,
    "start_time": "2021-07-09T09:51:38.266Z"
   },
   {
    "duration": 1322,
    "start_time": "2021-07-09T09:51:38.273Z"
   },
   {
    "duration": 1317,
    "start_time": "2021-07-09T09:51:38.280Z"
   },
   {
    "duration": 1311,
    "start_time": "2021-07-09T09:51:38.287Z"
   },
   {
    "duration": 1306,
    "start_time": "2021-07-09T09:51:38.294Z"
   },
   {
    "duration": 1300,
    "start_time": "2021-07-09T09:51:38.301Z"
   },
   {
    "duration": 1286,
    "start_time": "2021-07-09T09:51:38.316Z"
   },
   {
    "duration": 1280,
    "start_time": "2021-07-09T09:51:38.324Z"
   },
   {
    "duration": 1274,
    "start_time": "2021-07-09T09:51:38.331Z"
   },
   {
    "duration": 1267,
    "start_time": "2021-07-09T09:51:38.339Z"
   },
   {
    "duration": 1263,
    "start_time": "2021-07-09T09:51:38.345Z"
   },
   {
    "duration": 1266,
    "start_time": "2021-07-09T09:51:38.352Z"
   },
   {
    "duration": 1261,
    "start_time": "2021-07-09T09:51:38.359Z"
   },
   {
    "duration": 1256,
    "start_time": "2021-07-09T09:51:38.365Z"
   },
   {
    "duration": 1251,
    "start_time": "2021-07-09T09:51:38.372Z"
   },
   {
    "duration": 1246,
    "start_time": "2021-07-09T09:51:38.378Z"
   },
   {
    "duration": 1241,
    "start_time": "2021-07-09T09:51:38.385Z"
   },
   {
    "duration": 1235,
    "start_time": "2021-07-09T09:51:38.392Z"
   },
   {
    "duration": 1230,
    "start_time": "2021-07-09T09:51:38.398Z"
   },
   {
    "duration": 1226,
    "start_time": "2021-07-09T09:51:38.404Z"
   },
   {
    "duration": 1220,
    "start_time": "2021-07-09T09:51:38.411Z"
   },
   {
    "duration": 1204,
    "start_time": "2021-07-09T09:51:38.428Z"
   },
   {
    "duration": 1200,
    "start_time": "2021-07-09T09:51:38.434Z"
   },
   {
    "duration": 1193,
    "start_time": "2021-07-09T09:51:38.442Z"
   },
   {
    "duration": 1188,
    "start_time": "2021-07-09T09:51:38.448Z"
   },
   {
    "duration": 1179,
    "start_time": "2021-07-09T09:51:38.458Z"
   },
   {
    "duration": 1175,
    "start_time": "2021-07-09T09:51:38.464Z"
   },
   {
    "duration": 1169,
    "start_time": "2021-07-09T09:51:38.471Z"
   },
   {
    "duration": 1163,
    "start_time": "2021-07-09T09:51:38.478Z"
   },
   {
    "duration": 1158,
    "start_time": "2021-07-09T09:51:38.484Z"
   },
   {
    "duration": 1151,
    "start_time": "2021-07-09T09:51:38.492Z"
   },
   {
    "duration": 1146,
    "start_time": "2021-07-09T09:51:38.499Z"
   },
   {
    "duration": 1140,
    "start_time": "2021-07-09T09:51:38.506Z"
   },
   {
    "duration": 1133,
    "start_time": "2021-07-09T09:51:38.514Z"
   },
   {
    "duration": 6,
    "start_time": "2021-07-09T10:29:06.395Z"
   },
   {
    "duration": 1074,
    "start_time": "2021-07-09T10:29:16.806Z"
   },
   {
    "duration": 74,
    "start_time": "2021-07-09T10:29:17.883Z"
   },
   {
    "duration": 18,
    "start_time": "2021-07-09T10:29:17.960Z"
   },
   {
    "duration": 54,
    "start_time": "2021-07-09T10:29:17.981Z"
   },
   {
    "duration": 47,
    "start_time": "2021-07-09T10:29:18.038Z"
   },
   {
    "duration": 25,
    "start_time": "2021-07-09T10:29:18.087Z"
   },
   {
    "duration": 13,
    "start_time": "2021-07-09T10:29:18.115Z"
   },
   {
    "duration": 121,
    "start_time": "2021-07-09T10:29:18.133Z"
   },
   {
    "duration": 1397,
    "start_time": "2021-07-09T10:29:16.862Z"
   },
   {
    "duration": 1391,
    "start_time": "2021-07-09T10:29:16.870Z"
   },
   {
    "duration": 1381,
    "start_time": "2021-07-09T10:29:16.881Z"
   },
   {
    "duration": 1373,
    "start_time": "2021-07-09T10:29:16.890Z"
   },
   {
    "duration": 1367,
    "start_time": "2021-07-09T10:29:16.898Z"
   },
   {
    "duration": 1361,
    "start_time": "2021-07-09T10:29:16.905Z"
   },
   {
    "duration": 1351,
    "start_time": "2021-07-09T10:29:16.916Z"
   },
   {
    "duration": 1343,
    "start_time": "2021-07-09T10:29:16.926Z"
   },
   {
    "duration": 1337,
    "start_time": "2021-07-09T10:29:16.934Z"
   },
   {
    "duration": 1328,
    "start_time": "2021-07-09T10:29:16.944Z"
   },
   {
    "duration": 1299,
    "start_time": "2021-07-09T10:29:16.975Z"
   },
   {
    "duration": 1293,
    "start_time": "2021-07-09T10:29:16.982Z"
   },
   {
    "duration": 1286,
    "start_time": "2021-07-09T10:29:16.991Z"
   },
   {
    "duration": 1278,
    "start_time": "2021-07-09T10:29:17.000Z"
   },
   {
    "duration": 1269,
    "start_time": "2021-07-09T10:29:17.010Z"
   },
   {
    "duration": 991,
    "start_time": "2021-07-09T10:29:17.290Z"
   },
   {
    "duration": 986,
    "start_time": "2021-07-09T10:29:17.296Z"
   },
   {
    "duration": 977,
    "start_time": "2021-07-09T10:29:17.307Z"
   },
   {
    "duration": 972,
    "start_time": "2021-07-09T10:29:17.313Z"
   },
   {
    "duration": 967,
    "start_time": "2021-07-09T10:29:17.320Z"
   },
   {
    "duration": 964,
    "start_time": "2021-07-09T10:29:17.326Z"
   },
   {
    "duration": 959,
    "start_time": "2021-07-09T10:29:17.332Z"
   },
   {
    "duration": 954,
    "start_time": "2021-07-09T10:29:17.339Z"
   },
   {
    "duration": 948,
    "start_time": "2021-07-09T10:29:17.346Z"
   },
   {
    "duration": 943,
    "start_time": "2021-07-09T10:29:17.353Z"
   },
   {
    "duration": 946,
    "start_time": "2021-07-09T10:29:17.362Z"
   },
   {
    "duration": 941,
    "start_time": "2021-07-09T10:29:17.369Z"
   },
   {
    "duration": 934,
    "start_time": "2021-07-09T10:29:17.377Z"
   },
   {
    "duration": 929,
    "start_time": "2021-07-09T10:29:17.383Z"
   },
   {
    "duration": 910,
    "start_time": "2021-07-09T10:29:17.404Z"
   },
   {
    "duration": 905,
    "start_time": "2021-07-09T10:29:17.410Z"
   },
   {
    "duration": 900,
    "start_time": "2021-07-09T10:29:17.417Z"
   },
   {
    "duration": 895,
    "start_time": "2021-07-09T10:29:17.426Z"
   },
   {
    "duration": 893,
    "start_time": "2021-07-09T10:29:17.433Z"
   },
   {
    "duration": 885,
    "start_time": "2021-07-09T10:29:17.442Z"
   },
   {
    "duration": 880,
    "start_time": "2021-07-09T10:29:17.449Z"
   },
   {
    "duration": 873,
    "start_time": "2021-07-09T10:29:17.457Z"
   },
   {
    "duration": 867,
    "start_time": "2021-07-09T10:29:17.464Z"
   },
   {
    "duration": 809,
    "start_time": "2021-07-09T10:29:17.524Z"
   },
   {
    "duration": 804,
    "start_time": "2021-07-09T10:29:17.530Z"
   },
   {
    "duration": 795,
    "start_time": "2021-07-09T10:29:17.540Z"
   },
   {
    "duration": 789,
    "start_time": "2021-07-09T10:29:17.547Z"
   },
   {
    "duration": 783,
    "start_time": "2021-07-09T10:29:17.554Z"
   },
   {
    "duration": 778,
    "start_time": "2021-07-09T10:29:17.561Z"
   },
   {
    "duration": 773,
    "start_time": "2021-07-09T10:29:17.567Z"
   },
   {
    "duration": 765,
    "start_time": "2021-07-09T10:29:17.576Z"
   },
   {
    "duration": 760,
    "start_time": "2021-07-09T10:29:17.582Z"
   },
   {
    "duration": 753,
    "start_time": "2021-07-09T10:29:17.590Z"
   },
   {
    "duration": 749,
    "start_time": "2021-07-09T10:29:17.596Z"
   },
   {
    "duration": 743,
    "start_time": "2021-07-09T10:29:17.603Z"
   },
   {
    "duration": 737,
    "start_time": "2021-07-09T10:29:17.610Z"
   },
   {
    "duration": 731,
    "start_time": "2021-07-09T10:29:17.617Z"
   },
   {
    "duration": 715,
    "start_time": "2021-07-09T10:29:17.634Z"
   },
   {
    "duration": 709,
    "start_time": "2021-07-09T10:29:17.642Z"
   },
   {
    "duration": 704,
    "start_time": "2021-07-09T10:29:17.648Z"
   },
   {
    "duration": 752,
    "start_time": "2021-07-09T10:29:17.657Z"
   },
   {
    "duration": 747,
    "start_time": "2021-07-09T10:29:17.664Z"
   },
   {
    "duration": 740,
    "start_time": "2021-07-09T10:29:17.672Z"
   },
   {
    "duration": 735,
    "start_time": "2021-07-09T10:29:17.678Z"
   },
   {
    "duration": 730,
    "start_time": "2021-07-09T10:29:17.685Z"
   },
   {
    "duration": 725,
    "start_time": "2021-07-09T10:29:17.691Z"
   },
   {
    "duration": 720,
    "start_time": "2021-07-09T10:29:17.698Z"
   },
   {
    "duration": 715,
    "start_time": "2021-07-09T10:29:17.704Z"
   },
   {
    "duration": 710,
    "start_time": "2021-07-09T10:29:17.710Z"
   },
   {
    "duration": 705,
    "start_time": "2021-07-09T10:29:17.717Z"
   },
   {
    "duration": 10,
    "start_time": "2021-07-09T10:34:14.435Z"
   },
   {
    "duration": 10,
    "start_time": "2021-07-09T10:34:34.845Z"
   },
   {
    "duration": 16,
    "start_time": "2021-07-09T10:34:35.745Z"
   },
   {
    "duration": 6,
    "start_time": "2021-07-09T10:34:36.545Z"
   },
   {
    "duration": 10,
    "start_time": "2021-07-09T10:35:14.654Z"
   },
   {
    "duration": 72,
    "start_time": "2021-07-09T10:35:16.012Z"
   },
   {
    "duration": 67,
    "start_time": "2021-07-09T10:35:16.957Z"
   },
   {
    "duration": 15,
    "start_time": "2021-07-09T10:35:20.175Z"
   },
   {
    "duration": 8,
    "start_time": "2021-07-09T10:40:27.987Z"
   },
   {
    "duration": 133,
    "start_time": "2021-07-09T10:40:33.756Z"
   },
   {
    "duration": 7,
    "start_time": "2021-07-09T10:40:43.545Z"
   },
   {
    "duration": 449,
    "start_time": "2021-07-09T10:41:08.349Z"
   },
   {
    "duration": 412,
    "start_time": "2021-07-09T10:41:14.316Z"
   },
   {
    "duration": 117,
    "start_time": "2021-07-09T10:41:22.986Z"
   },
   {
    "duration": 8,
    "start_time": "2021-07-09T10:41:39.615Z"
   },
   {
    "duration": 8,
    "start_time": "2021-07-09T10:42:03.645Z"
   },
   {
    "duration": 7,
    "start_time": "2021-07-09T10:42:15.955Z"
   },
   {
    "duration": 7,
    "start_time": "2021-07-09T10:42:40.516Z"
   },
   {
    "duration": 876,
    "start_time": "2021-07-09T10:42:57.126Z"
   },
   {
    "duration": 66,
    "start_time": "2021-07-09T10:42:58.005Z"
   },
   {
    "duration": 15,
    "start_time": "2021-07-09T10:42:58.074Z"
   },
   {
    "duration": 45,
    "start_time": "2021-07-09T10:42:58.092Z"
   },
   {
    "duration": 80,
    "start_time": "2021-07-09T10:42:58.140Z"
   },
   {
    "duration": 14,
    "start_time": "2021-07-09T10:42:58.222Z"
   },
   {
    "duration": 6,
    "start_time": "2021-07-09T10:42:58.238Z"
   },
   {
    "duration": 13,
    "start_time": "2021-07-09T10:42:58.248Z"
   },
   {
    "duration": 53,
    "start_time": "2021-07-09T10:42:58.265Z"
   },
   {
    "duration": 15,
    "start_time": "2021-07-09T10:42:58.320Z"
   },
   {
    "duration": 7,
    "start_time": "2021-07-09T10:42:58.337Z"
   },
   {
    "duration": 34,
    "start_time": "2021-07-09T10:42:58.347Z"
   },
   {
    "duration": 46,
    "start_time": "2021-07-09T10:42:58.383Z"
   },
   {
    "duration": 20,
    "start_time": "2021-07-09T10:42:58.432Z"
   },
   {
    "duration": 80,
    "start_time": "2021-07-09T10:42:58.454Z"
   },
   {
    "duration": 106,
    "start_time": "2021-07-09T10:42:58.536Z"
   },
   {
    "duration": 13,
    "start_time": "2021-07-09T10:42:58.644Z"
   },
   {
    "duration": 13,
    "start_time": "2021-07-09T10:42:58.660Z"
   },
   {
    "duration": 13,
    "start_time": "2021-07-09T10:42:58.676Z"
   },
   {
    "duration": 22,
    "start_time": "2021-07-09T10:42:58.712Z"
   },
   {
    "duration": 15,
    "start_time": "2021-07-09T10:42:58.736Z"
   },
   {
    "duration": 22,
    "start_time": "2021-07-09T10:42:58.754Z"
   },
   {
    "duration": 19,
    "start_time": "2021-07-09T10:42:58.784Z"
   },
   {
    "duration": 39,
    "start_time": "2021-07-09T10:42:58.808Z"
   },
   {
    "duration": 13,
    "start_time": "2021-07-09T10:42:58.850Z"
   },
   {
    "duration": 14,
    "start_time": "2021-07-09T10:42:58.866Z"
   },
   {
    "duration": 23,
    "start_time": "2021-07-09T10:42:58.882Z"
   },
   {
    "duration": 20,
    "start_time": "2021-07-09T10:42:58.908Z"
   },
   {
    "duration": 23,
    "start_time": "2021-07-09T10:42:58.931Z"
   },
   {
    "duration": 25,
    "start_time": "2021-07-09T10:42:58.956Z"
   },
   {
    "duration": 8838,
    "start_time": "2021-07-09T10:42:58.983Z"
   },
   {
    "duration": 1303,
    "start_time": "2021-07-09T10:43:06.523Z"
   },
   {
    "duration": 1295,
    "start_time": "2021-07-09T10:43:06.533Z"
   },
   {
    "duration": 1287,
    "start_time": "2021-07-09T10:43:06.542Z"
   },
   {
    "duration": 1282,
    "start_time": "2021-07-09T10:43:06.548Z"
   },
   {
    "duration": 1278,
    "start_time": "2021-07-09T10:43:06.554Z"
   },
   {
    "duration": 1272,
    "start_time": "2021-07-09T10:43:06.561Z"
   },
   {
    "duration": 1266,
    "start_time": "2021-07-09T10:43:06.568Z"
   },
   {
    "duration": 1262,
    "start_time": "2021-07-09T10:43:06.574Z"
   },
   {
    "duration": 1257,
    "start_time": "2021-07-09T10:43:06.580Z"
   },
   {
    "duration": 1252,
    "start_time": "2021-07-09T10:43:06.586Z"
   },
   {
    "duration": 1246,
    "start_time": "2021-07-09T10:43:06.593Z"
   },
   {
    "duration": 1241,
    "start_time": "2021-07-09T10:43:06.599Z"
   },
   {
    "duration": 1226,
    "start_time": "2021-07-09T10:43:06.615Z"
   },
   {
    "duration": 1221,
    "start_time": "2021-07-09T10:43:06.621Z"
   },
   {
    "duration": 1214,
    "start_time": "2021-07-09T10:43:06.629Z"
   },
   {
    "duration": 1208,
    "start_time": "2021-07-09T10:43:06.636Z"
   },
   {
    "duration": 1201,
    "start_time": "2021-07-09T10:43:06.644Z"
   },
   {
    "duration": 1196,
    "start_time": "2021-07-09T10:43:06.650Z"
   },
   {
    "duration": 1190,
    "start_time": "2021-07-09T10:43:06.657Z"
   },
   {
    "duration": 1185,
    "start_time": "2021-07-09T10:43:06.664Z"
   },
   {
    "duration": 1179,
    "start_time": "2021-07-09T10:43:06.671Z"
   },
   {
    "duration": 1174,
    "start_time": "2021-07-09T10:43:06.677Z"
   },
   {
    "duration": 1169,
    "start_time": "2021-07-09T10:43:06.683Z"
   },
   {
    "duration": 1165,
    "start_time": "2021-07-09T10:43:06.689Z"
   },
   {
    "duration": 1159,
    "start_time": "2021-07-09T10:43:06.696Z"
   },
   {
    "duration": 1154,
    "start_time": "2021-07-09T10:43:06.703Z"
   },
   {
    "duration": 1148,
    "start_time": "2021-07-09T10:43:06.710Z"
   },
   {
    "duration": 1130,
    "start_time": "2021-07-09T10:43:06.729Z"
   },
   {
    "duration": 1125,
    "start_time": "2021-07-09T10:43:06.735Z"
   },
   {
    "duration": 1121,
    "start_time": "2021-07-09T10:43:06.741Z"
   },
   {
    "duration": 1115,
    "start_time": "2021-07-09T10:43:06.748Z"
   },
   {
    "duration": 1110,
    "start_time": "2021-07-09T10:43:06.754Z"
   },
   {
    "duration": 1157,
    "start_time": "2021-07-09T10:43:06.760Z"
   },
   {
    "duration": 1152,
    "start_time": "2021-07-09T10:43:06.767Z"
   },
   {
    "duration": 1147,
    "start_time": "2021-07-09T10:43:06.773Z"
   },
   {
    "duration": 1143,
    "start_time": "2021-07-09T10:43:06.779Z"
   },
   {
    "duration": 1138,
    "start_time": "2021-07-09T10:43:06.786Z"
   },
   {
    "duration": 1133,
    "start_time": "2021-07-09T10:43:06.792Z"
   },
   {
    "duration": 1128,
    "start_time": "2021-07-09T10:43:06.799Z"
   },
   {
    "duration": 1123,
    "start_time": "2021-07-09T10:43:06.805Z"
   },
   {
    "duration": 1118,
    "start_time": "2021-07-09T10:43:06.812Z"
   },
   {
    "duration": 1113,
    "start_time": "2021-07-09T10:43:06.819Z"
   },
   {
    "duration": 7,
    "start_time": "2021-07-09T10:43:43.174Z"
   },
   {
    "duration": 1075,
    "start_time": "2021-07-09T10:44:11.689Z"
   },
   {
    "duration": 72,
    "start_time": "2021-07-09T10:44:12.767Z"
   },
   {
    "duration": 16,
    "start_time": "2021-07-09T10:44:12.842Z"
   },
   {
    "duration": 35,
    "start_time": "2021-07-09T10:44:12.861Z"
   },
   {
    "duration": 48,
    "start_time": "2021-07-09T10:44:12.909Z"
   },
   {
    "duration": 12,
    "start_time": "2021-07-09T10:44:12.960Z"
   },
   {
    "duration": 133,
    "start_time": "2021-07-09T10:44:12.974Z"
   },
   {
    "duration": 1438,
    "start_time": "2021-07-09T10:44:11.677Z"
   },
   {
    "duration": 1434,
    "start_time": "2021-07-09T10:44:11.683Z"
   },
   {
    "duration": 1427,
    "start_time": "2021-07-09T10:44:11.692Z"
   },
   {
    "duration": 1421,
    "start_time": "2021-07-09T10:44:11.699Z"
   },
   {
    "duration": 1414,
    "start_time": "2021-07-09T10:44:11.707Z"
   },
   {
    "duration": 1410,
    "start_time": "2021-07-09T10:44:11.713Z"
   },
   {
    "duration": 1402,
    "start_time": "2021-07-09T10:44:11.722Z"
   },
   {
    "duration": 1397,
    "start_time": "2021-07-09T10:44:11.728Z"
   },
   {
    "duration": 1392,
    "start_time": "2021-07-09T10:44:11.735Z"
   },
   {
    "duration": 1388,
    "start_time": "2021-07-09T10:44:11.741Z"
   },
   {
    "duration": 1386,
    "start_time": "2021-07-09T10:44:11.748Z"
   },
   {
    "duration": 1381,
    "start_time": "2021-07-09T10:44:11.754Z"
   },
   {
    "duration": 1375,
    "start_time": "2021-07-09T10:44:11.762Z"
   },
   {
    "duration": 1342,
    "start_time": "2021-07-09T10:44:11.797Z"
   },
   {
    "duration": 1333,
    "start_time": "2021-07-09T10:44:11.807Z"
   },
   {
    "duration": 1327,
    "start_time": "2021-07-09T10:44:11.815Z"
   },
   {
    "duration": 1316,
    "start_time": "2021-07-09T10:44:11.827Z"
   },
   {
    "duration": 1312,
    "start_time": "2021-07-09T10:44:11.833Z"
   },
   {
    "duration": 1304,
    "start_time": "2021-07-09T10:44:11.842Z"
   },
   {
    "duration": 1300,
    "start_time": "2021-07-09T10:44:11.848Z"
   },
   {
    "duration": 1293,
    "start_time": "2021-07-09T10:44:11.856Z"
   },
   {
    "duration": 1286,
    "start_time": "2021-07-09T10:44:11.864Z"
   },
   {
    "duration": 1279,
    "start_time": "2021-07-09T10:44:11.873Z"
   },
   {
    "duration": 1274,
    "start_time": "2021-07-09T10:44:11.879Z"
   },
   {
    "duration": 1328,
    "start_time": "2021-07-09T10:44:11.887Z"
   },
   {
    "duration": 1308,
    "start_time": "2021-07-09T10:44:11.909Z"
   },
   {
    "duration": 1302,
    "start_time": "2021-07-09T10:44:11.916Z"
   },
   {
    "duration": 1295,
    "start_time": "2021-07-09T10:44:11.924Z"
   },
   {
    "duration": 1289,
    "start_time": "2021-07-09T10:44:11.931Z"
   },
   {
    "duration": 1282,
    "start_time": "2021-07-09T10:44:11.939Z"
   },
   {
    "duration": 1277,
    "start_time": "2021-07-09T10:44:11.946Z"
   },
   {
    "duration": 1272,
    "start_time": "2021-07-09T10:44:11.952Z"
   },
   {
    "duration": 1265,
    "start_time": "2021-07-09T10:44:11.960Z"
   },
   {
    "duration": 1260,
    "start_time": "2021-07-09T10:44:11.966Z"
   },
   {
    "duration": 1254,
    "start_time": "2021-07-09T10:44:11.974Z"
   },
   {
    "duration": 1249,
    "start_time": "2021-07-09T10:44:11.980Z"
   },
   {
    "duration": 1135,
    "start_time": "2021-07-09T10:44:12.096Z"
   },
   {
    "duration": 1131,
    "start_time": "2021-07-09T10:44:12.101Z"
   },
   {
    "duration": 1126,
    "start_time": "2021-07-09T10:44:12.109Z"
   },
   {
    "duration": 1121,
    "start_time": "2021-07-09T10:44:12.115Z"
   },
   {
    "duration": 1116,
    "start_time": "2021-07-09T10:44:12.122Z"
   },
   {
    "duration": 1112,
    "start_time": "2021-07-09T10:44:12.127Z"
   },
   {
    "duration": 1094,
    "start_time": "2021-07-09T10:44:12.146Z"
   },
   {
    "duration": 969,
    "start_time": "2021-07-09T10:44:12.272Z"
   },
   {
    "duration": 963,
    "start_time": "2021-07-09T10:44:12.279Z"
   },
   {
    "duration": 958,
    "start_time": "2021-07-09T10:44:12.285Z"
   },
   {
    "duration": 954,
    "start_time": "2021-07-09T10:44:12.292Z"
   },
   {
    "duration": 950,
    "start_time": "2021-07-09T10:44:12.298Z"
   },
   {
    "duration": 944,
    "start_time": "2021-07-09T10:44:12.305Z"
   },
   {
    "duration": 940,
    "start_time": "2021-07-09T10:44:12.311Z"
   },
   {
    "duration": 935,
    "start_time": "2021-07-09T10:44:12.317Z"
   },
   {
    "duration": 984,
    "start_time": "2021-07-09T10:44:12.325Z"
   },
   {
    "duration": 978,
    "start_time": "2021-07-09T10:44:12.332Z"
   },
   {
    "duration": 972,
    "start_time": "2021-07-09T10:44:12.339Z"
   },
   {
    "duration": 967,
    "start_time": "2021-07-09T10:44:12.346Z"
   },
   {
    "duration": 960,
    "start_time": "2021-07-09T10:44:12.354Z"
   },
   {
    "duration": 955,
    "start_time": "2021-07-09T10:44:12.360Z"
   },
   {
    "duration": 927,
    "start_time": "2021-07-09T10:44:12.389Z"
   },
   {
    "duration": 922,
    "start_time": "2021-07-09T10:44:12.396Z"
   },
   {
    "duration": 907,
    "start_time": "2021-07-09T10:44:12.413Z"
   },
   {
    "duration": 900,
    "start_time": "2021-07-09T10:44:12.421Z"
   },
   {
    "duration": 896,
    "start_time": "2021-07-09T10:44:12.427Z"
   },
   {
    "duration": 891,
    "start_time": "2021-07-09T10:44:12.434Z"
   },
   {
    "duration": 886,
    "start_time": "2021-07-09T10:44:12.440Z"
   },
   {
    "duration": 862,
    "start_time": "2021-07-09T10:44:12.466Z"
   },
   {
    "duration": 849,
    "start_time": "2021-07-09T10:44:12.480Z"
   },
   {
    "duration": 873,
    "start_time": "2021-07-09T10:44:39.849Z"
   },
   {
    "duration": 69,
    "start_time": "2021-07-09T10:44:40.725Z"
   },
   {
    "duration": 23,
    "start_time": "2021-07-09T10:44:40.797Z"
   },
   {
    "duration": 52,
    "start_time": "2021-07-09T10:44:40.823Z"
   },
   {
    "duration": 70,
    "start_time": "2021-07-09T10:44:40.878Z"
   },
   {
    "duration": 17,
    "start_time": "2021-07-09T10:44:40.951Z"
   },
   {
    "duration": 9,
    "start_time": "2021-07-09T10:44:40.971Z"
   },
   {
    "duration": 12,
    "start_time": "2021-07-09T10:44:41.018Z"
   },
   {
    "duration": 22,
    "start_time": "2021-07-09T10:44:41.039Z"
   },
   {
    "duration": 23,
    "start_time": "2021-07-09T10:44:41.066Z"
   },
   {
    "duration": 12,
    "start_time": "2021-07-09T10:44:41.109Z"
   },
   {
    "duration": 22,
    "start_time": "2021-07-09T10:44:41.124Z"
   },
   {
    "duration": 38,
    "start_time": "2021-07-09T10:44:41.150Z"
   },
   {
    "duration": 24,
    "start_time": "2021-07-09T10:44:41.191Z"
   },
   {
    "duration": 80,
    "start_time": "2021-07-09T10:44:41.217Z"
   },
   {
    "duration": 111,
    "start_time": "2021-07-09T10:44:41.313Z"
   },
   {
    "duration": 20,
    "start_time": "2021-07-09T10:44:41.429Z"
   },
   {
    "duration": 30,
    "start_time": "2021-07-09T10:44:41.452Z"
   },
   {
    "duration": 33,
    "start_time": "2021-07-09T10:44:41.485Z"
   },
   {
    "duration": 26,
    "start_time": "2021-07-09T10:44:41.521Z"
   },
   {
    "duration": 20,
    "start_time": "2021-07-09T10:44:41.550Z"
   },
   {
    "duration": 17,
    "start_time": "2021-07-09T10:44:41.574Z"
   },
   {
    "duration": 40,
    "start_time": "2021-07-09T10:44:41.594Z"
   },
   {
    "duration": 29,
    "start_time": "2021-07-09T10:44:41.637Z"
   },
   {
    "duration": 9,
    "start_time": "2021-07-09T10:44:41.669Z"
   },
   {
    "duration": 12,
    "start_time": "2021-07-09T10:44:41.681Z"
   },
   {
    "duration": 17,
    "start_time": "2021-07-09T10:44:41.701Z"
   },
   {
    "duration": 14,
    "start_time": "2021-07-09T10:44:41.724Z"
   },
   {
    "duration": 15,
    "start_time": "2021-07-09T10:44:41.741Z"
   },
   {
    "duration": 48,
    "start_time": "2021-07-09T10:44:41.760Z"
   },
   {
    "duration": 9350,
    "start_time": "2021-07-09T10:44:41.814Z"
   },
   {
    "duration": 1385,
    "start_time": "2021-07-09T10:44:49.782Z"
   },
   {
    "duration": 1379,
    "start_time": "2021-07-09T10:44:49.791Z"
   },
   {
    "duration": 1376,
    "start_time": "2021-07-09T10:44:49.796Z"
   },
   {
    "duration": 1370,
    "start_time": "2021-07-09T10:44:49.804Z"
   },
   {
    "duration": 1365,
    "start_time": "2021-07-09T10:44:49.811Z"
   },
   {
    "duration": 1361,
    "start_time": "2021-07-09T10:44:49.817Z"
   },
   {
    "duration": 1355,
    "start_time": "2021-07-09T10:44:49.824Z"
   },
   {
    "duration": 1350,
    "start_time": "2021-07-09T10:44:49.831Z"
   },
   {
    "duration": 1345,
    "start_time": "2021-07-09T10:44:49.839Z"
   },
   {
    "duration": 1341,
    "start_time": "2021-07-09T10:44:49.845Z"
   },
   {
    "duration": 1335,
    "start_time": "2021-07-09T10:44:49.853Z"
   },
   {
    "duration": 1330,
    "start_time": "2021-07-09T10:44:49.860Z"
   },
   {
    "duration": 1325,
    "start_time": "2021-07-09T10:44:49.867Z"
   },
   {
    "duration": 1306,
    "start_time": "2021-07-09T10:44:49.887Z"
   },
   {
    "duration": 1301,
    "start_time": "2021-07-09T10:44:49.894Z"
   },
   {
    "duration": 1297,
    "start_time": "2021-07-09T10:44:49.900Z"
   },
   {
    "duration": 1291,
    "start_time": "2021-07-09T10:44:49.908Z"
   },
   {
    "duration": 1287,
    "start_time": "2021-07-09T10:44:49.914Z"
   },
   {
    "duration": 1280,
    "start_time": "2021-07-09T10:44:49.923Z"
   },
   {
    "duration": 1275,
    "start_time": "2021-07-09T10:44:49.929Z"
   },
   {
    "duration": 1269,
    "start_time": "2021-07-09T10:44:49.937Z"
   },
   {
    "duration": 1265,
    "start_time": "2021-07-09T10:44:49.943Z"
   },
   {
    "duration": 1256,
    "start_time": "2021-07-09T10:44:49.953Z"
   },
   {
    "duration": 1250,
    "start_time": "2021-07-09T10:44:49.960Z"
   },
   {
    "duration": 1245,
    "start_time": "2021-07-09T10:44:49.967Z"
   },
   {
    "duration": 1239,
    "start_time": "2021-07-09T10:44:49.974Z"
   },
   {
    "duration": 1233,
    "start_time": "2021-07-09T10:44:49.981Z"
   },
   {
    "duration": 1217,
    "start_time": "2021-07-09T10:44:49.999Z"
   },
   {
    "duration": 1210,
    "start_time": "2021-07-09T10:44:50.007Z"
   },
   {
    "duration": 1206,
    "start_time": "2021-07-09T10:44:50.013Z"
   },
   {
    "duration": 1204,
    "start_time": "2021-07-09T10:44:50.020Z"
   },
   {
    "duration": 1200,
    "start_time": "2021-07-09T10:44:50.026Z"
   },
   {
    "duration": 1196,
    "start_time": "2021-07-09T10:44:50.032Z"
   },
   {
    "duration": 1190,
    "start_time": "2021-07-09T10:44:50.040Z"
   },
   {
    "duration": 1185,
    "start_time": "2021-07-09T10:44:50.047Z"
   },
   {
    "duration": 1180,
    "start_time": "2021-07-09T10:44:50.054Z"
   },
   {
    "duration": 1175,
    "start_time": "2021-07-09T10:44:50.060Z"
   },
   {
    "duration": 1170,
    "start_time": "2021-07-09T10:44:50.066Z"
   },
   {
    "duration": 1163,
    "start_time": "2021-07-09T10:44:50.074Z"
   },
   {
    "duration": 1160,
    "start_time": "2021-07-09T10:44:50.079Z"
   },
   {
    "duration": 1154,
    "start_time": "2021-07-09T10:44:50.087Z"
   },
   {
    "duration": 1149,
    "start_time": "2021-07-09T10:44:50.093Z"
   },
   {
    "duration": 884,
    "start_time": "2021-07-09T10:45:52.396Z"
   },
   {
    "duration": 70,
    "start_time": "2021-07-09T10:45:53.283Z"
   },
   {
    "duration": 16,
    "start_time": "2021-07-09T10:45:53.357Z"
   },
   {
    "duration": 52,
    "start_time": "2021-07-09T10:45:53.377Z"
   },
   {
    "duration": 88,
    "start_time": "2021-07-09T10:45:53.432Z"
   },
   {
    "duration": 16,
    "start_time": "2021-07-09T10:45:53.523Z"
   },
   {
    "duration": 7,
    "start_time": "2021-07-09T10:45:53.541Z"
   },
   {
    "duration": 10,
    "start_time": "2021-07-09T10:45:53.552Z"
   },
   {
    "duration": 55,
    "start_time": "2021-07-09T10:45:53.565Z"
   },
   {
    "duration": 26,
    "start_time": "2021-07-09T10:45:53.624Z"
   },
   {
    "duration": 8,
    "start_time": "2021-07-09T10:45:53.653Z"
   },
   {
    "duration": 25,
    "start_time": "2021-07-09T10:45:53.664Z"
   },
   {
    "duration": 26,
    "start_time": "2021-07-09T10:45:53.711Z"
   },
   {
    "duration": 9,
    "start_time": "2021-07-09T10:45:53.740Z"
   },
   {
    "duration": 91,
    "start_time": "2021-07-09T10:45:53.752Z"
   },
   {
    "duration": 73,
    "start_time": "2021-07-09T10:45:53.846Z"
   },
   {
    "duration": 13,
    "start_time": "2021-07-09T10:45:53.922Z"
   },
   {
    "duration": 11,
    "start_time": "2021-07-09T10:45:53.937Z"
   },
   {
    "duration": 10,
    "start_time": "2021-07-09T10:45:53.950Z"
   },
   {
    "duration": 33,
    "start_time": "2021-07-09T10:45:53.962Z"
   },
   {
    "duration": 33,
    "start_time": "2021-07-09T10:45:53.997Z"
   },
   {
    "duration": 18,
    "start_time": "2021-07-09T10:45:54.033Z"
   },
   {
    "duration": 8,
    "start_time": "2021-07-09T10:45:54.060Z"
   },
   {
    "duration": 16,
    "start_time": "2021-07-09T10:45:54.075Z"
   },
   {
    "duration": 10,
    "start_time": "2021-07-09T10:45:54.108Z"
   },
   {
    "duration": 13,
    "start_time": "2021-07-09T10:45:54.121Z"
   },
   {
    "duration": 17,
    "start_time": "2021-07-09T10:45:54.136Z"
   },
   {
    "duration": 10,
    "start_time": "2021-07-09T10:45:54.156Z"
   },
   {
    "duration": 53,
    "start_time": "2021-07-09T10:45:54.168Z"
   },
   {
    "duration": 6,
    "start_time": "2021-07-09T10:45:54.223Z"
   },
   {
    "duration": 8819,
    "start_time": "2021-07-09T10:45:54.232Z"
   },
   {
    "duration": 1502,
    "start_time": "2021-07-09T10:46:01.553Z"
   },
   {
    "duration": 1497,
    "start_time": "2021-07-09T10:46:01.560Z"
   },
   {
    "duration": 1491,
    "start_time": "2021-07-09T10:46:01.568Z"
   },
   {
    "duration": 1487,
    "start_time": "2021-07-09T10:46:01.575Z"
   },
   {
    "duration": 1482,
    "start_time": "2021-07-09T10:46:01.582Z"
   },
   {
    "duration": 1477,
    "start_time": "2021-07-09T10:46:01.589Z"
   },
   {
    "duration": 1474,
    "start_time": "2021-07-09T10:46:01.594Z"
   },
   {
    "duration": 1468,
    "start_time": "2021-07-09T10:46:01.602Z"
   },
   {
    "duration": 1463,
    "start_time": "2021-07-09T10:46:01.609Z"
   },
   {
    "duration": 1459,
    "start_time": "2021-07-09T10:46:01.616Z"
   },
   {
    "duration": 1444,
    "start_time": "2021-07-09T10:46:01.633Z"
   },
   {
    "duration": 1439,
    "start_time": "2021-07-09T10:46:01.640Z"
   },
   {
    "duration": 1434,
    "start_time": "2021-07-09T10:46:01.647Z"
   },
   {
    "duration": 1429,
    "start_time": "2021-07-09T10:46:01.655Z"
   },
   {
    "duration": 1425,
    "start_time": "2021-07-09T10:46:01.661Z"
   },
   {
    "duration": 1418,
    "start_time": "2021-07-09T10:46:01.670Z"
   },
   {
    "duration": 1414,
    "start_time": "2021-07-09T10:46:01.676Z"
   },
   {
    "duration": 1408,
    "start_time": "2021-07-09T10:46:01.684Z"
   },
   {
    "duration": 1419,
    "start_time": "2021-07-09T10:46:01.690Z"
   },
   {
    "duration": 1414,
    "start_time": "2021-07-09T10:46:01.697Z"
   },
   {
    "duration": 1409,
    "start_time": "2021-07-09T10:46:01.703Z"
   },
   {
    "duration": 1404,
    "start_time": "2021-07-09T10:46:01.710Z"
   },
   {
    "duration": 1399,
    "start_time": "2021-07-09T10:46:01.719Z"
   },
   {
    "duration": 1394,
    "start_time": "2021-07-09T10:46:01.726Z"
   },
   {
    "duration": 1378,
    "start_time": "2021-07-09T10:46:01.744Z"
   },
   {
    "duration": 1374,
    "start_time": "2021-07-09T10:46:01.751Z"
   },
   {
    "duration": 1302,
    "start_time": "2021-07-09T10:46:01.825Z"
   },
   {
    "duration": 1245,
    "start_time": "2021-07-09T10:46:01.884Z"
   },
   {
    "duration": 1240,
    "start_time": "2021-07-09T10:46:01.890Z"
   },
   {
    "duration": 1233,
    "start_time": "2021-07-09T10:46:01.899Z"
   },
   {
    "duration": 1228,
    "start_time": "2021-07-09T10:46:01.905Z"
   },
   {
    "duration": 1221,
    "start_time": "2021-07-09T10:46:01.914Z"
   },
   {
    "duration": 1216,
    "start_time": "2021-07-09T10:46:01.920Z"
   },
   {
    "duration": 1211,
    "start_time": "2021-07-09T10:46:01.926Z"
   },
   {
    "duration": 1206,
    "start_time": "2021-07-09T10:46:01.933Z"
   },
   {
    "duration": 1201,
    "start_time": "2021-07-09T10:46:01.939Z"
   },
   {
    "duration": 1196,
    "start_time": "2021-07-09T10:46:01.945Z"
   },
   {
    "duration": 1182,
    "start_time": "2021-07-09T10:46:01.961Z"
   },
   {
    "duration": 1175,
    "start_time": "2021-07-09T10:46:01.969Z"
   },
   {
    "duration": 1169,
    "start_time": "2021-07-09T10:46:01.976Z"
   },
   {
    "duration": 1152,
    "start_time": "2021-07-09T10:46:01.995Z"
   },
   {
    "duration": 1141,
    "start_time": "2021-07-09T10:46:02.007Z"
   },
   {
    "duration": 1070,
    "start_time": "2021-07-09T10:46:12.022Z"
   },
   {
    "duration": 72,
    "start_time": "2021-07-09T10:46:13.095Z"
   },
   {
    "duration": 19,
    "start_time": "2021-07-09T10:46:13.171Z"
   },
   {
    "duration": 47,
    "start_time": "2021-07-09T10:46:13.214Z"
   },
   {
    "duration": 70,
    "start_time": "2021-07-09T10:46:13.264Z"
   },
   {
    "duration": 12,
    "start_time": "2021-07-09T10:46:13.336Z"
   },
   {
    "duration": 6,
    "start_time": "2021-07-09T10:46:13.351Z"
   },
   {
    "duration": 28,
    "start_time": "2021-07-09T10:46:13.359Z"
   },
   {
    "duration": 14,
    "start_time": "2021-07-09T10:46:13.412Z"
   },
   {
    "duration": 45,
    "start_time": "2021-07-09T10:46:13.429Z"
   },
   {
    "duration": 10,
    "start_time": "2021-07-09T10:46:13.477Z"
   },
   {
    "duration": 25,
    "start_time": "2021-07-09T10:46:13.490Z"
   },
   {
    "duration": 16,
    "start_time": "2021-07-09T10:46:13.518Z"
   },
   {
    "duration": 13,
    "start_time": "2021-07-09T10:46:13.537Z"
   },
   {
    "duration": 90,
    "start_time": "2021-07-09T10:46:13.552Z"
   },
   {
    "duration": 76,
    "start_time": "2021-07-09T10:46:13.645Z"
   },
   {
    "duration": 15,
    "start_time": "2021-07-09T10:46:13.724Z"
   },
   {
    "duration": 14,
    "start_time": "2021-07-09T10:46:13.741Z"
   },
   {
    "duration": 11,
    "start_time": "2021-07-09T10:46:13.758Z"
   },
   {
    "duration": 20,
    "start_time": "2021-07-09T10:46:13.771Z"
   },
   {
    "duration": 26,
    "start_time": "2021-07-09T10:46:13.794Z"
   },
   {
    "duration": 15,
    "start_time": "2021-07-09T10:46:13.823Z"
   },
   {
    "duration": 11,
    "start_time": "2021-07-09T10:46:13.841Z"
   },
   {
    "duration": 23,
    "start_time": "2021-07-09T10:46:13.855Z"
   },
   {
    "duration": 43,
    "start_time": "2021-07-09T10:46:13.882Z"
   },
   {
    "duration": 7,
    "start_time": "2021-07-09T10:46:13.928Z"
   },
   {
    "duration": 9,
    "start_time": "2021-07-09T10:46:13.941Z"
   },
   {
    "duration": 18,
    "start_time": "2021-07-09T10:46:13.954Z"
   },
   {
    "duration": 43,
    "start_time": "2021-07-09T10:46:13.974Z"
   },
   {
    "duration": 12,
    "start_time": "2021-07-09T10:46:14.020Z"
   },
   {
    "duration": 11111,
    "start_time": "2021-07-09T10:46:14.035Z"
   },
   {
    "duration": 1484,
    "start_time": "2021-07-09T10:46:23.665Z"
   },
   {
    "duration": 1480,
    "start_time": "2021-07-09T10:46:23.670Z"
   },
   {
    "duration": 1474,
    "start_time": "2021-07-09T10:46:23.678Z"
   },
   {
    "duration": 1469,
    "start_time": "2021-07-09T10:46:23.684Z"
   },
   {
    "duration": 1465,
    "start_time": "2021-07-09T10:46:23.690Z"
   },
   {
    "duration": 1460,
    "start_time": "2021-07-09T10:46:23.696Z"
   },
   {
    "duration": 1444,
    "start_time": "2021-07-09T10:46:23.713Z"
   },
   {
    "duration": 1439,
    "start_time": "2021-07-09T10:46:23.720Z"
   },
   {
    "duration": 1432,
    "start_time": "2021-07-09T10:46:23.728Z"
   },
   {
    "duration": 1428,
    "start_time": "2021-07-09T10:46:23.734Z"
   },
   {
    "duration": 1422,
    "start_time": "2021-07-09T10:46:23.741Z"
   },
   {
    "duration": 1416,
    "start_time": "2021-07-09T10:46:23.748Z"
   },
   {
    "duration": 1409,
    "start_time": "2021-07-09T10:46:23.756Z"
   },
   {
    "duration": 1404,
    "start_time": "2021-07-09T10:46:23.763Z"
   },
   {
    "duration": 1399,
    "start_time": "2021-07-09T10:46:23.769Z"
   },
   {
    "duration": 1393,
    "start_time": "2021-07-09T10:46:23.776Z"
   },
   {
    "duration": 1385,
    "start_time": "2021-07-09T10:46:23.785Z"
   },
   {
    "duration": 1366,
    "start_time": "2021-07-09T10:46:23.805Z"
   },
   {
    "duration": 1357,
    "start_time": "2021-07-09T10:46:23.815Z"
   },
   {
    "duration": 1353,
    "start_time": "2021-07-09T10:46:23.821Z"
   },
   {
    "duration": 1347,
    "start_time": "2021-07-09T10:46:23.828Z"
   },
   {
    "duration": 1341,
    "start_time": "2021-07-09T10:46:23.835Z"
   },
   {
    "duration": 1336,
    "start_time": "2021-07-09T10:46:23.841Z"
   },
   {
    "duration": 1331,
    "start_time": "2021-07-09T10:46:23.848Z"
   },
   {
    "duration": 1325,
    "start_time": "2021-07-09T10:46:23.855Z"
   },
   {
    "duration": 1321,
    "start_time": "2021-07-09T10:46:23.860Z"
   },
   {
    "duration": 1314,
    "start_time": "2021-07-09T10:46:23.868Z"
   },
   {
    "duration": 1289,
    "start_time": "2021-07-09T10:46:23.895Z"
   },
   {
    "duration": 1312,
    "start_time": "2021-07-09T10:46:23.902Z"
   },
   {
    "duration": 1293,
    "start_time": "2021-07-09T10:46:23.923Z"
   },
   {
    "duration": 1288,
    "start_time": "2021-07-09T10:46:23.930Z"
   },
   {
    "duration": 1285,
    "start_time": "2021-07-09T10:46:23.936Z"
   },
   {
    "duration": 1282,
    "start_time": "2021-07-09T10:46:23.941Z"
   },
   {
    "duration": 1239,
    "start_time": "2021-07-09T10:46:23.986Z"
   },
   {
    "duration": 1234,
    "start_time": "2021-07-09T10:46:23.993Z"
   },
   {
    "duration": 1190,
    "start_time": "2021-07-09T10:46:24.039Z"
   },
   {
    "duration": 1184,
    "start_time": "2021-07-09T10:46:24.046Z"
   },
   {
    "duration": 1179,
    "start_time": "2021-07-09T10:46:24.052Z"
   },
   {
    "duration": 1175,
    "start_time": "2021-07-09T10:46:24.058Z"
   },
   {
    "duration": 1168,
    "start_time": "2021-07-09T10:46:24.066Z"
   },
   {
    "duration": 1163,
    "start_time": "2021-07-09T10:46:24.072Z"
   },
   {
    "duration": 1159,
    "start_time": "2021-07-09T10:46:24.077Z"
   },
   {
    "duration": 10,
    "start_time": "2021-07-09T11:02:31.449Z"
   },
   {
    "duration": 8,
    "start_time": "2021-07-09T11:02:32.175Z"
   },
   {
    "duration": 10,
    "start_time": "2021-07-09T11:02:32.665Z"
   },
   {
    "duration": 6,
    "start_time": "2021-07-09T11:02:33.056Z"
   },
   {
    "duration": 834,
    "start_time": "2021-07-09T11:02:40.244Z"
   },
   {
    "duration": 70,
    "start_time": "2021-07-09T11:02:41.081Z"
   },
   {
    "duration": 15,
    "start_time": "2021-07-09T11:02:41.154Z"
   },
   {
    "duration": 47,
    "start_time": "2021-07-09T11:02:41.171Z"
   },
   {
    "duration": 50,
    "start_time": "2021-07-09T11:02:41.221Z"
   },
   {
    "duration": 12,
    "start_time": "2021-07-09T11:02:41.273Z"
   },
   {
    "duration": 7,
    "start_time": "2021-07-09T11:02:41.310Z"
   },
   {
    "duration": 54,
    "start_time": "2021-07-09T11:02:41.320Z"
   },
   {
    "duration": 10,
    "start_time": "2021-07-09T11:02:41.378Z"
   },
   {
    "duration": 21,
    "start_time": "2021-07-09T11:02:41.391Z"
   },
   {
    "duration": 26,
    "start_time": "2021-07-09T11:02:41.415Z"
   },
   {
    "duration": 28,
    "start_time": "2021-07-09T11:02:41.444Z"
   },
   {
    "duration": 12,
    "start_time": "2021-07-09T11:02:41.474Z"
   },
   {
    "duration": 18,
    "start_time": "2021-07-09T11:02:41.489Z"
   },
   {
    "duration": 68,
    "start_time": "2021-07-09T11:02:41.523Z"
   },
   {
    "duration": 78,
    "start_time": "2021-07-09T11:02:41.593Z"
   },
   {
    "duration": 16,
    "start_time": "2021-07-09T11:02:41.673Z"
   },
   {
    "duration": 10,
    "start_time": "2021-07-09T11:02:41.708Z"
   },
   {
    "duration": 18,
    "start_time": "2021-07-09T11:02:41.722Z"
   },
   {
    "duration": 12,
    "start_time": "2021-07-09T11:02:41.743Z"
   },
   {
    "duration": 21,
    "start_time": "2021-07-09T11:02:41.758Z"
   },
   {
    "duration": 30,
    "start_time": "2021-07-09T11:02:41.782Z"
   },
   {
    "duration": 12,
    "start_time": "2021-07-09T11:02:41.816Z"
   },
   {
    "duration": 32,
    "start_time": "2021-07-09T11:02:41.830Z"
   },
   {
    "duration": 9,
    "start_time": "2021-07-09T11:02:41.865Z"
   },
   {
    "duration": 7,
    "start_time": "2021-07-09T11:02:41.876Z"
   },
   {
    "duration": 11,
    "start_time": "2021-07-09T11:02:41.913Z"
   },
   {
    "duration": 21,
    "start_time": "2021-07-09T11:02:41.928Z"
   },
   {
    "duration": 23,
    "start_time": "2021-07-09T11:02:41.951Z"
   },
   {
    "duration": 19,
    "start_time": "2021-07-09T11:02:41.976Z"
   },
   {
    "duration": 9210,
    "start_time": "2021-07-09T11:02:41.997Z"
   },
   {
    "duration": 1448,
    "start_time": "2021-07-09T11:02:49.763Z"
   },
   {
    "duration": 1443,
    "start_time": "2021-07-09T11:02:49.770Z"
   },
   {
    "duration": 1439,
    "start_time": "2021-07-09T11:02:49.776Z"
   },
   {
    "duration": 1433,
    "start_time": "2021-07-09T11:02:49.784Z"
   },
   {
    "duration": 1428,
    "start_time": "2021-07-09T11:02:49.791Z"
   },
   {
    "duration": 1423,
    "start_time": "2021-07-09T11:02:49.798Z"
   },
   {
    "duration": 1419,
    "start_time": "2021-07-09T11:02:49.804Z"
   },
   {
    "duration": 1414,
    "start_time": "2021-07-09T11:02:49.812Z"
   },
   {
    "duration": 1410,
    "start_time": "2021-07-09T11:02:49.818Z"
   },
   {
    "duration": 1404,
    "start_time": "2021-07-09T11:02:49.827Z"
   },
   {
    "duration": 1399,
    "start_time": "2021-07-09T11:02:49.834Z"
   },
   {
    "duration": 1394,
    "start_time": "2021-07-09T11:02:49.841Z"
   },
   {
    "duration": 1390,
    "start_time": "2021-07-09T11:02:49.847Z"
   },
   {
    "duration": 1370,
    "start_time": "2021-07-09T11:02:49.869Z"
   },
   {
    "duration": 1366,
    "start_time": "2021-07-09T11:02:49.877Z"
   },
   {
    "duration": 1363,
    "start_time": "2021-07-09T11:02:49.883Z"
   },
   {
    "duration": 1357,
    "start_time": "2021-07-09T11:02:49.891Z"
   },
   {
    "duration": 1351,
    "start_time": "2021-07-09T11:02:49.899Z"
   },
   {
    "duration": 1347,
    "start_time": "2021-07-09T11:02:49.906Z"
   },
   {
    "duration": 1342,
    "start_time": "2021-07-09T11:02:49.913Z"
   },
   {
    "duration": 1338,
    "start_time": "2021-07-09T11:02:49.919Z"
   },
   {
    "duration": 1389,
    "start_time": "2021-07-09T11:02:49.927Z"
   },
   {
    "duration": 1386,
    "start_time": "2021-07-09T11:02:49.933Z"
   },
   {
    "duration": 1382,
    "start_time": "2021-07-09T11:02:49.939Z"
   },
   {
    "duration": 1378,
    "start_time": "2021-07-09T11:02:49.945Z"
   },
   {
    "duration": 1372,
    "start_time": "2021-07-09T11:02:49.952Z"
   },
   {
    "duration": 1369,
    "start_time": "2021-07-09T11:02:49.958Z"
   },
   {
    "duration": 1364,
    "start_time": "2021-07-09T11:02:49.965Z"
   },
   {
    "duration": 1346,
    "start_time": "2021-07-09T11:02:49.985Z"
   },
   {
    "duration": 1340,
    "start_time": "2021-07-09T11:02:49.993Z"
   },
   {
    "duration": 1336,
    "start_time": "2021-07-09T11:02:49.999Z"
   },
   {
    "duration": 1331,
    "start_time": "2021-07-09T11:02:50.006Z"
   },
   {
    "duration": 1327,
    "start_time": "2021-07-09T11:02:50.012Z"
   },
   {
    "duration": 1322,
    "start_time": "2021-07-09T11:02:50.018Z"
   },
   {
    "duration": 1316,
    "start_time": "2021-07-09T11:02:50.025Z"
   },
   {
    "duration": 1312,
    "start_time": "2021-07-09T11:02:50.031Z"
   },
   {
    "duration": 1307,
    "start_time": "2021-07-09T11:02:50.037Z"
   },
   {
    "duration": 1301,
    "start_time": "2021-07-09T11:02:50.044Z"
   },
   {
    "duration": 1297,
    "start_time": "2021-07-09T11:02:50.050Z"
   },
   {
    "duration": 1291,
    "start_time": "2021-07-09T11:02:50.058Z"
   },
   {
    "duration": 1287,
    "start_time": "2021-07-09T11:02:50.064Z"
   },
   {
    "duration": 1283,
    "start_time": "2021-07-09T11:02:50.070Z"
   },
   {
    "duration": 885,
    "start_time": "2021-07-09T11:06:38.088Z"
   },
   {
    "duration": 76,
    "start_time": "2021-07-09T11:06:38.977Z"
   },
   {
    "duration": 16,
    "start_time": "2021-07-09T11:06:39.056Z"
   },
   {
    "duration": 52,
    "start_time": "2021-07-09T11:06:39.075Z"
   },
   {
    "duration": 48,
    "start_time": "2021-07-09T11:06:39.129Z"
   },
   {
    "duration": 33,
    "start_time": "2021-07-09T11:06:39.179Z"
   },
   {
    "duration": 10,
    "start_time": "2021-07-09T11:06:39.214Z"
   },
   {
    "duration": 31,
    "start_time": "2021-07-09T11:06:39.229Z"
   },
   {
    "duration": 16,
    "start_time": "2021-07-09T11:06:39.264Z"
   },
   {
    "duration": 15,
    "start_time": "2021-07-09T11:06:39.283Z"
   },
   {
    "duration": 14,
    "start_time": "2021-07-09T11:06:39.309Z"
   },
   {
    "duration": 28,
    "start_time": "2021-07-09T11:06:39.326Z"
   },
   {
    "duration": 15,
    "start_time": "2021-07-09T11:06:39.356Z"
   },
   {
    "duration": 10,
    "start_time": "2021-07-09T11:06:39.374Z"
   },
   {
    "duration": 68,
    "start_time": "2021-07-09T11:06:39.410Z"
   },
   {
    "duration": 88,
    "start_time": "2021-07-09T11:06:39.481Z"
   },
   {
    "duration": 12,
    "start_time": "2021-07-09T11:06:39.571Z"
   },
   {
    "duration": 30,
    "start_time": "2021-07-09T11:06:39.586Z"
   },
   {
    "duration": 18,
    "start_time": "2021-07-09T11:06:39.618Z"
   },
   {
    "duration": 24,
    "start_time": "2021-07-09T11:06:39.639Z"
   },
   {
    "duration": 12,
    "start_time": "2021-07-09T11:06:39.665Z"
   },
   {
    "duration": 17,
    "start_time": "2021-07-09T11:06:39.679Z"
   },
   {
    "duration": 18,
    "start_time": "2021-07-09T11:06:39.702Z"
   },
   {
    "duration": 24,
    "start_time": "2021-07-09T11:06:39.725Z"
   },
   {
    "duration": 8,
    "start_time": "2021-07-09T11:06:39.752Z"
   },
   {
    "duration": 9,
    "start_time": "2021-07-09T11:06:39.762Z"
   },
   {
    "duration": 17,
    "start_time": "2021-07-09T11:06:39.773Z"
   },
   {
    "duration": 22,
    "start_time": "2021-07-09T11:06:39.792Z"
   },
   {
    "duration": 30,
    "start_time": "2021-07-09T11:06:39.816Z"
   },
   {
    "duration": 47,
    "start_time": "2021-07-09T11:06:39.848Z"
   },
   {
    "duration": 8602,
    "start_time": "2021-07-09T11:06:39.898Z"
   },
   {
    "duration": 1460,
    "start_time": "2021-07-09T11:06:47.042Z"
   },
   {
    "duration": 1452,
    "start_time": "2021-07-09T11:06:47.051Z"
   },
   {
    "duration": 1447,
    "start_time": "2021-07-09T11:06:47.057Z"
   },
   {
    "duration": 1443,
    "start_time": "2021-07-09T11:06:47.063Z"
   },
   {
    "duration": 1437,
    "start_time": "2021-07-09T11:06:47.070Z"
   },
   {
    "duration": 1433,
    "start_time": "2021-07-09T11:06:47.076Z"
   },
   {
    "duration": 1426,
    "start_time": "2021-07-09T11:06:47.084Z"
   },
   {
    "duration": 1426,
    "start_time": "2021-07-09T11:06:47.090Z"
   },
   {
    "duration": 1426,
    "start_time": "2021-07-09T11:06:47.097Z"
   },
   {
    "duration": 1422,
    "start_time": "2021-07-09T11:06:47.103Z"
   },
   {
    "duration": 1416,
    "start_time": "2021-07-09T11:06:47.110Z"
   },
   {
    "duration": 1411,
    "start_time": "2021-07-09T11:06:47.117Z"
   },
   {
    "duration": 1406,
    "start_time": "2021-07-09T11:06:47.124Z"
   },
   {
    "duration": 1402,
    "start_time": "2021-07-09T11:06:47.130Z"
   },
   {
    "duration": 1385,
    "start_time": "2021-07-09T11:06:47.150Z"
   },
   {
    "duration": 1379,
    "start_time": "2021-07-09T11:06:47.158Z"
   },
   {
    "duration": 1374,
    "start_time": "2021-07-09T11:06:47.165Z"
   },
   {
    "duration": 1369,
    "start_time": "2021-07-09T11:06:47.172Z"
   },
   {
    "duration": 1363,
    "start_time": "2021-07-09T11:06:47.179Z"
   },
   {
    "duration": 1359,
    "start_time": "2021-07-09T11:06:47.185Z"
   },
   {
    "duration": 1353,
    "start_time": "2021-07-09T11:06:47.192Z"
   },
   {
    "duration": 1349,
    "start_time": "2021-07-09T11:06:47.198Z"
   },
   {
    "duration": 1339,
    "start_time": "2021-07-09T11:06:47.209Z"
   },
   {
    "duration": 1335,
    "start_time": "2021-07-09T11:06:47.215Z"
   },
   {
    "duration": 1330,
    "start_time": "2021-07-09T11:06:47.222Z"
   },
   {
    "duration": 1325,
    "start_time": "2021-07-09T11:06:47.228Z"
   },
   {
    "duration": 1320,
    "start_time": "2021-07-09T11:06:47.234Z"
   },
   {
    "duration": 1314,
    "start_time": "2021-07-09T11:06:47.242Z"
   },
   {
    "duration": 1299,
    "start_time": "2021-07-09T11:06:47.259Z"
   },
   {
    "duration": 1294,
    "start_time": "2021-07-09T11:06:47.265Z"
   },
   {
    "duration": 1343,
    "start_time": "2021-07-09T11:06:47.272Z"
   },
   {
    "duration": 1339,
    "start_time": "2021-07-09T11:06:47.278Z"
   },
   {
    "duration": 1335,
    "start_time": "2021-07-09T11:06:47.285Z"
   },
   {
    "duration": 1335,
    "start_time": "2021-07-09T11:06:47.291Z"
   },
   {
    "duration": 1329,
    "start_time": "2021-07-09T11:06:47.298Z"
   },
   {
    "duration": 1325,
    "start_time": "2021-07-09T11:06:47.304Z"
   },
   {
    "duration": 1320,
    "start_time": "2021-07-09T11:06:47.311Z"
   },
   {
    "duration": 1314,
    "start_time": "2021-07-09T11:06:47.318Z"
   },
   {
    "duration": 1308,
    "start_time": "2021-07-09T11:06:47.325Z"
   },
   {
    "duration": 1304,
    "start_time": "2021-07-09T11:06:47.331Z"
   },
   {
    "duration": 1299,
    "start_time": "2021-07-09T11:06:47.337Z"
   },
   {
    "duration": 1295,
    "start_time": "2021-07-09T11:06:47.343Z"
   },
   {
    "duration": 13,
    "start_time": "2021-07-09T11:07:49.098Z"
   },
   {
    "duration": 9,
    "start_time": "2021-07-09T11:07:54.543Z"
   },
   {
    "duration": 9,
    "start_time": "2021-07-09T11:11:20.682Z"
   },
   {
    "duration": 857,
    "start_time": "2021-07-09T11:11:29.970Z"
   },
   {
    "duration": 88,
    "start_time": "2021-07-09T11:11:30.831Z"
   },
   {
    "duration": 22,
    "start_time": "2021-07-09T11:11:30.922Z"
   },
   {
    "duration": 65,
    "start_time": "2021-07-09T11:11:30.947Z"
   },
   {
    "duration": 64,
    "start_time": "2021-07-09T11:11:31.015Z"
   },
   {
    "duration": 9,
    "start_time": "2021-07-09T11:11:31.081Z"
   },
   {
    "duration": 26,
    "start_time": "2021-07-09T11:11:31.092Z"
   },
   {
    "duration": 34,
    "start_time": "2021-07-09T11:11:31.123Z"
   },
   {
    "duration": 52,
    "start_time": "2021-07-09T11:11:31.161Z"
   },
   {
    "duration": 26,
    "start_time": "2021-07-09T11:11:31.216Z"
   },
   {
    "duration": 21,
    "start_time": "2021-07-09T11:11:31.246Z"
   },
   {
    "duration": 45,
    "start_time": "2021-07-09T11:11:31.270Z"
   },
   {
    "duration": 35,
    "start_time": "2021-07-09T11:11:31.318Z"
   },
   {
    "duration": 40,
    "start_time": "2021-07-09T11:11:31.356Z"
   },
   {
    "duration": 90,
    "start_time": "2021-07-09T11:11:31.400Z"
   },
   {
    "duration": 70,
    "start_time": "2021-07-09T11:11:31.493Z"
   },
   {
    "duration": 17,
    "start_time": "2021-07-09T11:11:31.566Z"
   },
   {
    "duration": 54,
    "start_time": "2021-07-09T11:11:31.586Z"
   },
   {
    "duration": 38,
    "start_time": "2021-07-09T11:11:31.642Z"
   },
   {
    "duration": 19,
    "start_time": "2021-07-09T11:11:31.683Z"
   },
   {
    "duration": 46,
    "start_time": "2021-07-09T11:11:31.705Z"
   },
   {
    "duration": 29,
    "start_time": "2021-07-09T11:11:31.754Z"
   },
   {
    "duration": 15,
    "start_time": "2021-07-09T11:11:31.789Z"
   },
   {
    "duration": 33,
    "start_time": "2021-07-09T11:11:31.808Z"
   },
   {
    "duration": 14,
    "start_time": "2021-07-09T11:11:31.843Z"
   },
   {
    "duration": 10,
    "start_time": "2021-07-09T11:11:31.860Z"
   },
   {
    "duration": 21,
    "start_time": "2021-07-09T11:11:31.873Z"
   },
   {
    "duration": 27,
    "start_time": "2021-07-09T11:11:31.896Z"
   },
   {
    "duration": 10,
    "start_time": "2021-07-09T11:11:31.926Z"
   },
   {
    "duration": 21,
    "start_time": "2021-07-09T11:11:31.939Z"
   },
   {
    "duration": 21,
    "start_time": "2021-07-09T11:11:31.963Z"
   },
   {
    "duration": 22,
    "start_time": "2021-07-09T11:11:31.989Z"
   },
   {
    "duration": 37,
    "start_time": "2021-07-09T11:11:32.015Z"
   },
   {
    "duration": 14,
    "start_time": "2021-07-09T11:11:32.055Z"
   },
   {
    "duration": 21,
    "start_time": "2021-07-09T11:11:32.071Z"
   },
   {
    "duration": 34,
    "start_time": "2021-07-09T11:11:32.094Z"
   },
   {
    "duration": 19,
    "start_time": "2021-07-09T11:11:32.130Z"
   },
   {
    "duration": 20,
    "start_time": "2021-07-09T11:11:32.151Z"
   },
   {
    "duration": 19,
    "start_time": "2021-07-09T11:11:32.174Z"
   },
   {
    "duration": 46,
    "start_time": "2021-07-09T11:11:32.196Z"
   },
   {
    "duration": 9,
    "start_time": "2021-07-09T11:11:32.245Z"
   },
   {
    "duration": 25,
    "start_time": "2021-07-09T11:11:32.256Z"
   },
   {
    "duration": 40,
    "start_time": "2021-07-09T11:11:32.284Z"
   },
   {
    "duration": 17,
    "start_time": "2021-07-09T11:11:32.326Z"
   },
   {
    "duration": 12,
    "start_time": "2021-07-09T11:11:32.346Z"
   },
   {
    "duration": 15,
    "start_time": "2021-07-09T11:11:32.361Z"
   },
   {
    "duration": 43,
    "start_time": "2021-07-09T11:11:32.378Z"
   },
   {
    "duration": 83,
    "start_time": "2021-07-09T11:11:32.424Z"
   },
   {
    "duration": 13,
    "start_time": "2021-07-09T11:11:32.511Z"
   },
   {
    "duration": 16,
    "start_time": "2021-07-09T11:11:32.526Z"
   },
   {
    "duration": 3904,
    "start_time": "2021-07-09T11:11:32.544Z"
   },
   {
    "duration": 20,
    "start_time": "2021-07-09T11:11:36.450Z"
   },
   {
    "duration": 13,
    "start_time": "2021-07-09T11:11:36.473Z"
   },
   {
    "duration": 37,
    "start_time": "2021-07-09T11:11:36.489Z"
   },
   {
    "duration": 33,
    "start_time": "2021-07-09T11:11:36.529Z"
   },
   {
    "duration": 30,
    "start_time": "2021-07-09T11:11:36.565Z"
   },
   {
    "duration": 28,
    "start_time": "2021-07-09T11:11:36.598Z"
   },
   {
    "duration": 22,
    "start_time": "2021-07-09T11:11:36.630Z"
   },
   {
    "duration": 19,
    "start_time": "2021-07-09T11:11:36.656Z"
   },
   {
    "duration": 10915,
    "start_time": "2021-07-09T11:11:36.678Z"
   },
   {
    "duration": 40,
    "start_time": "2021-07-09T11:11:47.596Z"
   },
   {
    "duration": 818,
    "start_time": "2021-07-09T11:11:47.638Z"
   },
   {
    "duration": 33,
    "start_time": "2021-07-09T11:11:48.458Z"
   },
   {
    "duration": 33,
    "start_time": "2021-07-09T11:11:48.494Z"
   },
   {
    "duration": 33,
    "start_time": "2021-07-09T11:11:48.530Z"
   },
   {
    "duration": 47,
    "start_time": "2021-07-09T11:11:48.566Z"
   },
   {
    "duration": 32,
    "start_time": "2021-07-09T11:11:48.616Z"
   },
   {
    "duration": 12,
    "start_time": "2021-07-09T11:11:48.655Z"
   },
   {
    "duration": 12,
    "start_time": "2021-07-09T11:14:20.346Z"
   },
   {
    "duration": 5,
    "start_time": "2021-07-09T11:15:00.356Z"
   },
   {
    "duration": 11,
    "start_time": "2021-07-09T11:15:07.324Z"
   },
   {
    "duration": 7,
    "start_time": "2021-07-09T11:15:09.221Z"
   },
   {
    "duration": 4,
    "start_time": "2021-07-09T11:15:23.153Z"
   },
   {
    "duration": 78,
    "start_time": "2021-07-09T11:15:24.565Z"
   },
   {
    "duration": 16,
    "start_time": "2021-07-09T11:15:24.785Z"
   },
   {
    "duration": 18,
    "start_time": "2021-07-09T11:15:24.955Z"
   },
   {
    "duration": 56,
    "start_time": "2021-07-09T11:15:25.195Z"
   },
   {
    "duration": 8,
    "start_time": "2021-07-09T11:15:28.965Z"
   },
   {
    "duration": 11,
    "start_time": "2021-07-09T11:15:34.305Z"
   },
   {
    "duration": 12,
    "start_time": "2021-07-09T11:15:35.732Z"
   },
   {
    "duration": 6,
    "start_time": "2021-07-09T11:15:36.671Z"
   },
   {
    "duration": 107,
    "start_time": "2021-07-09T11:27:16.035Z"
   },
   {
    "duration": 104,
    "start_time": "2021-07-09T11:29:02.435Z"
   },
   {
    "duration": 9,
    "start_time": "2021-07-09T11:29:14.062Z"
   },
   {
    "duration": 1086,
    "start_time": "2021-07-09T11:29:26.645Z"
   },
   {
    "duration": 75,
    "start_time": "2021-07-09T11:29:27.735Z"
   },
   {
    "duration": 26,
    "start_time": "2021-07-09T11:29:27.814Z"
   },
   {
    "duration": 33,
    "start_time": "2021-07-09T11:29:27.849Z"
   },
   {
    "duration": 85,
    "start_time": "2021-07-09T11:29:27.885Z"
   },
   {
    "duration": 10,
    "start_time": "2021-07-09T11:29:27.973Z"
   },
   {
    "duration": 32,
    "start_time": "2021-07-09T11:29:27.986Z"
   },
   {
    "duration": 23,
    "start_time": "2021-07-09T11:29:28.025Z"
   },
   {
    "duration": 15,
    "start_time": "2021-07-09T11:29:28.052Z"
   },
   {
    "duration": 29,
    "start_time": "2021-07-09T11:29:28.070Z"
   },
   {
    "duration": 38,
    "start_time": "2021-07-09T11:29:28.102Z"
   },
   {
    "duration": 7,
    "start_time": "2021-07-09T11:29:28.152Z"
   },
   {
    "duration": 19,
    "start_time": "2021-07-09T11:29:28.162Z"
   },
   {
    "duration": 16,
    "start_time": "2021-07-09T11:29:28.183Z"
   },
   {
    "duration": 19,
    "start_time": "2021-07-09T11:29:28.202Z"
   },
   {
    "duration": 93,
    "start_time": "2021-07-09T11:29:28.223Z"
   },
   {
    "duration": 90,
    "start_time": "2021-07-09T11:29:28.319Z"
   },
   {
    "duration": 26,
    "start_time": "2021-07-09T11:29:28.411Z"
   },
   {
    "duration": 11,
    "start_time": "2021-07-09T11:29:28.440Z"
   },
   {
    "duration": 13,
    "start_time": "2021-07-09T11:29:28.454Z"
   },
   {
    "duration": 41,
    "start_time": "2021-07-09T11:29:28.469Z"
   },
   {
    "duration": 13,
    "start_time": "2021-07-09T11:29:28.513Z"
   },
   {
    "duration": 17,
    "start_time": "2021-07-09T11:29:28.533Z"
   },
   {
    "duration": 11,
    "start_time": "2021-07-09T11:29:28.554Z"
   },
   {
    "duration": 23,
    "start_time": "2021-07-09T11:29:28.568Z"
   },
   {
    "duration": 25,
    "start_time": "2021-07-09T11:29:28.593Z"
   },
   {
    "duration": 9,
    "start_time": "2021-07-09T11:29:28.622Z"
   },
   {
    "duration": 10,
    "start_time": "2021-07-09T11:29:28.635Z"
   },
   {
    "duration": 18,
    "start_time": "2021-07-09T11:29:28.648Z"
   },
   {
    "duration": 6,
    "start_time": "2021-07-09T11:29:28.669Z"
   },
   {
    "duration": 39,
    "start_time": "2021-07-09T11:29:28.678Z"
   },
   {
    "duration": 21,
    "start_time": "2021-07-09T11:29:28.719Z"
   },
   {
    "duration": 27,
    "start_time": "2021-07-09T11:29:28.742Z"
   },
   {
    "duration": 21,
    "start_time": "2021-07-09T11:29:28.772Z"
   },
   {
    "duration": 20,
    "start_time": "2021-07-09T11:29:28.795Z"
   },
   {
    "duration": 8,
    "start_time": "2021-07-09T11:29:28.819Z"
   },
   {
    "duration": 42,
    "start_time": "2021-07-09T11:29:28.830Z"
   },
   {
    "duration": 15,
    "start_time": "2021-07-09T11:29:28.875Z"
   },
   {
    "duration": 10,
    "start_time": "2021-07-09T11:29:28.908Z"
   },
   {
    "duration": 22,
    "start_time": "2021-07-09T11:29:28.920Z"
   },
   {
    "duration": 22,
    "start_time": "2021-07-09T11:29:28.945Z"
   },
   {
    "duration": 24,
    "start_time": "2021-07-09T11:29:28.969Z"
   },
   {
    "duration": 12,
    "start_time": "2021-07-09T11:29:29.009Z"
   },
   {
    "duration": 21,
    "start_time": "2021-07-09T11:29:29.026Z"
   },
   {
    "duration": 8,
    "start_time": "2021-07-09T11:29:29.050Z"
   },
   {
    "duration": 14,
    "start_time": "2021-07-09T11:29:29.060Z"
   },
   {
    "duration": 40,
    "start_time": "2021-07-09T11:29:29.076Z"
   },
   {
    "duration": 28,
    "start_time": "2021-07-09T11:29:29.120Z"
   },
   {
    "duration": 104,
    "start_time": "2021-07-09T11:29:29.152Z"
   },
   {
    "duration": 12,
    "start_time": "2021-07-09T11:29:29.259Z"
   },
   {
    "duration": 14,
    "start_time": "2021-07-09T11:29:29.275Z"
   },
   {
    "duration": 4514,
    "start_time": "2021-07-09T11:29:29.292Z"
   },
   {
    "duration": 28,
    "start_time": "2021-07-09T11:29:33.810Z"
   },
   {
    "duration": 13,
    "start_time": "2021-07-09T11:29:33.841Z"
   },
   {
    "duration": 27,
    "start_time": "2021-07-09T11:29:33.857Z"
   },
   {
    "duration": 46,
    "start_time": "2021-07-09T11:29:33.886Z"
   },
   {
    "duration": 44,
    "start_time": "2021-07-09T11:29:33.939Z"
   },
   {
    "duration": 28,
    "start_time": "2021-07-09T11:29:33.986Z"
   },
   {
    "duration": 10,
    "start_time": "2021-07-09T11:29:34.017Z"
   },
   {
    "duration": 11,
    "start_time": "2021-07-09T11:29:34.030Z"
   },
   {
    "duration": 11812,
    "start_time": "2021-07-09T11:29:34.044Z"
   },
   {
    "duration": 36,
    "start_time": "2021-07-09T11:29:45.859Z"
   },
   {
    "duration": 896,
    "start_time": "2021-07-09T11:29:45.898Z"
   },
   {
    "duration": 50,
    "start_time": "2021-07-09T11:29:46.797Z"
   },
   {
    "duration": 15,
    "start_time": "2021-07-09T11:29:46.850Z"
   },
   {
    "duration": 86,
    "start_time": "2021-07-09T11:29:46.868Z"
   },
   {
    "duration": 30,
    "start_time": "2021-07-09T11:29:46.958Z"
   },
   {
    "duration": 53,
    "start_time": "2021-07-09T11:29:46.995Z"
   },
   {
    "duration": 30,
    "start_time": "2021-07-09T11:29:47.050Z"
   },
   {
    "duration": 10,
    "start_time": "2021-07-09T11:30:25.016Z"
   },
   {
    "duration": 11,
    "start_time": "2021-07-09T11:30:47.035Z"
   },
   {
    "duration": 8,
    "start_time": "2021-07-09T11:30:58.225Z"
   },
   {
    "duration": 10,
    "start_time": "2021-07-09T11:31:04.777Z"
   },
   {
    "duration": 956,
    "start_time": "2021-07-09T11:31:14.724Z"
   },
   {
    "duration": 73,
    "start_time": "2021-07-09T11:31:15.682Z"
   },
   {
    "duration": 15,
    "start_time": "2021-07-09T11:31:15.758Z"
   },
   {
    "duration": 53,
    "start_time": "2021-07-09T11:31:15.776Z"
   },
   {
    "duration": 66,
    "start_time": "2021-07-09T11:31:15.832Z"
   },
   {
    "duration": 16,
    "start_time": "2021-07-09T11:31:15.900Z"
   },
   {
    "duration": 10,
    "start_time": "2021-07-09T11:31:15.919Z"
   },
   {
    "duration": 25,
    "start_time": "2021-07-09T11:31:15.934Z"
   },
   {
    "duration": 20,
    "start_time": "2021-07-09T11:31:15.962Z"
   },
   {
    "duration": 32,
    "start_time": "2021-07-09T11:31:15.984Z"
   },
   {
    "duration": 33,
    "start_time": "2021-07-09T11:31:16.021Z"
   },
   {
    "duration": 536,
    "start_time": "2021-07-09T11:31:16.057Z"
   },
   {
    "duration": 1309,
    "start_time": "2021-07-09T11:31:15.293Z"
   },
   {
    "duration": 1304,
    "start_time": "2021-07-09T11:31:15.300Z"
   },
   {
    "duration": 1290,
    "start_time": "2021-07-09T11:31:15.316Z"
   },
   {
    "duration": 1287,
    "start_time": "2021-07-09T11:31:15.322Z"
   },
   {
    "duration": 1275,
    "start_time": "2021-07-09T11:31:15.336Z"
   },
   {
    "duration": 1272,
    "start_time": "2021-07-09T11:31:15.341Z"
   },
   {
    "duration": 1267,
    "start_time": "2021-07-09T11:31:15.348Z"
   },
   {
    "duration": 1254,
    "start_time": "2021-07-09T11:31:15.362Z"
   },
   {
    "duration": 1248,
    "start_time": "2021-07-09T11:31:15.370Z"
   },
   {
    "duration": 1244,
    "start_time": "2021-07-09T11:31:15.375Z"
   },
   {
    "duration": 1238,
    "start_time": "2021-07-09T11:31:15.383Z"
   },
   {
    "duration": 1233,
    "start_time": "2021-07-09T11:31:15.389Z"
   },
   {
    "duration": 1229,
    "start_time": "2021-07-09T11:31:15.395Z"
   },
   {
    "duration": 1224,
    "start_time": "2021-07-09T11:31:15.401Z"
   },
   {
    "duration": 1219,
    "start_time": "2021-07-09T11:31:15.408Z"
   },
   {
    "duration": 1215,
    "start_time": "2021-07-09T11:31:15.414Z"
   },
   {
    "duration": 1209,
    "start_time": "2021-07-09T11:31:15.421Z"
   },
   {
    "duration": 1205,
    "start_time": "2021-07-09T11:31:15.427Z"
   },
   {
    "duration": 1198,
    "start_time": "2021-07-09T11:31:15.441Z"
   },
   {
    "duration": 1195,
    "start_time": "2021-07-09T11:31:15.447Z"
   },
   {
    "duration": 1189,
    "start_time": "2021-07-09T11:31:15.454Z"
   },
   {
    "duration": 1185,
    "start_time": "2021-07-09T11:31:15.460Z"
   },
   {
    "duration": 1178,
    "start_time": "2021-07-09T11:31:15.468Z"
   },
   {
    "duration": 1174,
    "start_time": "2021-07-09T11:31:15.474Z"
   },
   {
    "duration": 1058,
    "start_time": "2021-07-09T11:31:15.591Z"
   },
   {
    "duration": 1052,
    "start_time": "2021-07-09T11:31:15.599Z"
   },
   {
    "duration": 1039,
    "start_time": "2021-07-09T11:31:15.616Z"
   },
   {
    "duration": 994,
    "start_time": "2021-07-09T11:31:15.663Z"
   },
   {
    "duration": 987,
    "start_time": "2021-07-09T11:31:15.672Z"
   },
   {
    "duration": 984,
    "start_time": "2021-07-09T11:31:15.678Z"
   },
   {
    "duration": 976,
    "start_time": "2021-07-09T11:31:15.688Z"
   },
   {
    "duration": 937,
    "start_time": "2021-07-09T11:31:15.729Z"
   },
   {
    "duration": 919,
    "start_time": "2021-07-09T11:31:15.749Z"
   },
   {
    "duration": 954,
    "start_time": "2021-07-09T11:31:15.756Z"
   },
   {
    "duration": 952,
    "start_time": "2021-07-09T11:31:15.764Z"
   },
   {
    "duration": 949,
    "start_time": "2021-07-09T11:31:15.771Z"
   },
   {
    "duration": 891,
    "start_time": "2021-07-09T11:31:15.831Z"
   },
   {
    "duration": 887,
    "start_time": "2021-07-09T11:31:15.838Z"
   },
   {
    "duration": 882,
    "start_time": "2021-07-09T11:31:15.845Z"
   },
   {
    "duration": 807,
    "start_time": "2021-07-09T11:31:15.922Z"
   },
   {
    "duration": 801,
    "start_time": "2021-07-09T11:31:15.929Z"
   },
   {
    "duration": 795,
    "start_time": "2021-07-09T11:31:15.937Z"
   },
   {
    "duration": 790,
    "start_time": "2021-07-09T11:31:15.944Z"
   },
   {
    "duration": 442,
    "start_time": "2021-07-09T11:31:16.294Z"
   },
   {
    "duration": 436,
    "start_time": "2021-07-09T11:31:16.301Z"
   },
   {
    "duration": 431,
    "start_time": "2021-07-09T11:31:16.308Z"
   },
   {
    "duration": 426,
    "start_time": "2021-07-09T11:31:16.315Z"
   },
   {
    "duration": 421,
    "start_time": "2021-07-09T11:31:16.321Z"
   },
   {
    "duration": 403,
    "start_time": "2021-07-09T11:31:16.341Z"
   },
   {
    "duration": 399,
    "start_time": "2021-07-09T11:31:16.347Z"
   },
   {
    "duration": 394,
    "start_time": "2021-07-09T11:31:16.354Z"
   },
   {
    "duration": 389,
    "start_time": "2021-07-09T11:31:16.361Z"
   },
   {
    "duration": 382,
    "start_time": "2021-07-09T11:31:16.369Z"
   },
   {
    "duration": 380,
    "start_time": "2021-07-09T11:31:16.374Z"
   },
   {
    "duration": 375,
    "start_time": "2021-07-09T11:31:16.381Z"
   },
   {
    "duration": 423,
    "start_time": "2021-07-09T11:31:16.387Z"
   },
   {
    "duration": 418,
    "start_time": "2021-07-09T11:31:16.394Z"
   },
   {
    "duration": 8,
    "start_time": "2021-07-09T11:31:52.145Z"
   },
   {
    "duration": 898,
    "start_time": "2021-07-09T11:33:02.257Z"
   },
   {
    "duration": 68,
    "start_time": "2021-07-09T11:33:03.158Z"
   },
   {
    "duration": 19,
    "start_time": "2021-07-09T11:33:03.230Z"
   },
   {
    "duration": 44,
    "start_time": "2021-07-09T11:33:03.252Z"
   },
   {
    "duration": 68,
    "start_time": "2021-07-09T11:33:03.299Z"
   },
   {
    "duration": 9,
    "start_time": "2021-07-09T11:33:03.370Z"
   },
   {
    "duration": 59,
    "start_time": "2021-07-09T11:33:03.381Z"
   },
   {
    "duration": 55,
    "start_time": "2021-07-09T11:33:03.445Z"
   },
   {
    "duration": 36,
    "start_time": "2021-07-09T11:33:03.504Z"
   },
   {
    "duration": 59,
    "start_time": "2021-07-09T11:33:03.543Z"
   },
   {
    "duration": 42,
    "start_time": "2021-07-09T11:33:03.604Z"
   },
   {
    "duration": 43,
    "start_time": "2021-07-09T11:33:03.649Z"
   },
   {
    "duration": 50,
    "start_time": "2021-07-09T11:33:03.695Z"
   },
   {
    "duration": 27,
    "start_time": "2021-07-09T11:33:03.748Z"
   },
   {
    "duration": 89,
    "start_time": "2021-07-09T11:33:03.778Z"
   },
   {
    "duration": 75,
    "start_time": "2021-07-09T11:33:03.870Z"
   },
   {
    "duration": 14,
    "start_time": "2021-07-09T11:33:03.947Z"
   },
   {
    "duration": 14,
    "start_time": "2021-07-09T11:33:03.964Z"
   },
   {
    "duration": 37,
    "start_time": "2021-07-09T11:33:03.981Z"
   },
   {
    "duration": 15,
    "start_time": "2021-07-09T11:33:04.021Z"
   },
   {
    "duration": 19,
    "start_time": "2021-07-09T11:33:04.039Z"
   },
   {
    "duration": 22,
    "start_time": "2021-07-09T11:33:04.061Z"
   },
   {
    "duration": 20,
    "start_time": "2021-07-09T11:33:04.093Z"
   },
   {
    "duration": 32,
    "start_time": "2021-07-09T11:33:04.118Z"
   },
   {
    "duration": 20,
    "start_time": "2021-07-09T11:33:04.153Z"
   },
   {
    "duration": 27,
    "start_time": "2021-07-09T11:33:04.175Z"
   },
   {
    "duration": 33,
    "start_time": "2021-07-09T11:33:04.204Z"
   },
   {
    "duration": 16,
    "start_time": "2021-07-09T11:33:04.240Z"
   },
   {
    "duration": 5,
    "start_time": "2021-07-09T11:33:04.258Z"
   },
   {
    "duration": 16,
    "start_time": "2021-07-09T11:33:04.265Z"
   },
   {
    "duration": 14,
    "start_time": "2021-07-09T11:33:04.283Z"
   },
   {
    "duration": 36,
    "start_time": "2021-07-09T11:33:04.299Z"
   },
   {
    "duration": 10,
    "start_time": "2021-07-09T11:33:04.338Z"
   },
   {
    "duration": 16,
    "start_time": "2021-07-09T11:33:04.350Z"
   },
   {
    "duration": 22,
    "start_time": "2021-07-09T11:33:04.369Z"
   },
   {
    "duration": 42,
    "start_time": "2021-07-09T11:33:04.393Z"
   },
   {
    "duration": 13,
    "start_time": "2021-07-09T11:33:04.438Z"
   },
   {
    "duration": 17,
    "start_time": "2021-07-09T11:33:04.454Z"
   },
   {
    "duration": 14,
    "start_time": "2021-07-09T11:33:04.473Z"
   },
   {
    "duration": 25,
    "start_time": "2021-07-09T11:33:04.512Z"
   },
   {
    "duration": 12,
    "start_time": "2021-07-09T11:33:04.540Z"
   },
   {
    "duration": 16,
    "start_time": "2021-07-09T11:33:04.554Z"
   },
   {
    "duration": 44,
    "start_time": "2021-07-09T11:33:04.572Z"
   },
   {
    "duration": 9,
    "start_time": "2021-07-09T11:33:04.618Z"
   },
   {
    "duration": 14,
    "start_time": "2021-07-09T11:33:04.629Z"
   },
   {
    "duration": 12,
    "start_time": "2021-07-09T11:33:04.646Z"
   },
   {
    "duration": 24,
    "start_time": "2021-07-09T11:33:04.661Z"
   },
   {
    "duration": 61,
    "start_time": "2021-07-09T11:33:04.718Z"
   },
   {
    "duration": 12,
    "start_time": "2021-07-09T11:33:04.782Z"
   },
   {
    "duration": 39,
    "start_time": "2021-07-09T11:33:04.797Z"
   },
   {
    "duration": 4236,
    "start_time": "2021-07-09T11:33:04.839Z"
   },
   {
    "duration": 44,
    "start_time": "2021-07-09T11:33:09.078Z"
   },
   {
    "duration": 15,
    "start_time": "2021-07-09T11:33:09.125Z"
   },
   {
    "duration": 28,
    "start_time": "2021-07-09T11:33:09.143Z"
   },
   {
    "duration": 22,
    "start_time": "2021-07-09T11:33:09.174Z"
   },
   {
    "duration": 41,
    "start_time": "2021-07-09T11:33:09.199Z"
   },
   {
    "duration": 11,
    "start_time": "2021-07-09T11:33:09.243Z"
   },
   {
    "duration": 20,
    "start_time": "2021-07-09T11:33:09.257Z"
   },
   {
    "duration": 10,
    "start_time": "2021-07-09T11:33:09.280Z"
   },
   {
    "duration": 11866,
    "start_time": "2021-07-09T11:33:09.293Z"
   },
   {
    "duration": 49,
    "start_time": "2021-07-09T11:33:21.162Z"
   },
   {
    "duration": 889,
    "start_time": "2021-07-09T11:33:21.217Z"
   },
   {
    "duration": 43,
    "start_time": "2021-07-09T11:33:22.109Z"
   },
   {
    "duration": 12,
    "start_time": "2021-07-09T11:33:22.155Z"
   },
   {
    "duration": 79,
    "start_time": "2021-07-09T11:33:22.170Z"
   },
   {
    "duration": 17,
    "start_time": "2021-07-09T11:33:22.252Z"
   },
   {
    "duration": 54,
    "start_time": "2021-07-09T11:33:22.272Z"
   },
   {
    "duration": 16,
    "start_time": "2021-07-09T11:33:22.337Z"
   },
   {
    "duration": 1016,
    "start_time": "2021-07-09T11:34:54.095Z"
   },
   {
    "duration": 73,
    "start_time": "2021-07-09T11:34:55.116Z"
   },
   {
    "duration": 29,
    "start_time": "2021-07-09T11:34:55.192Z"
   },
   {
    "duration": 60,
    "start_time": "2021-07-09T11:34:55.224Z"
   },
   {
    "duration": 72,
    "start_time": "2021-07-09T11:34:55.286Z"
   },
   {
    "duration": 12,
    "start_time": "2021-07-09T11:34:55.361Z"
   },
   {
    "duration": 45,
    "start_time": "2021-07-09T11:34:55.377Z"
   },
   {
    "duration": 35,
    "start_time": "2021-07-09T11:34:55.427Z"
   },
   {
    "duration": 14,
    "start_time": "2021-07-09T11:34:55.465Z"
   },
   {
    "duration": 23,
    "start_time": "2021-07-09T11:34:55.482Z"
   },
   {
    "duration": 47,
    "start_time": "2021-07-09T11:34:55.514Z"
   },
   {
    "duration": 43,
    "start_time": "2021-07-09T11:34:55.563Z"
   },
   {
    "duration": 51,
    "start_time": "2021-07-09T11:34:55.609Z"
   },
   {
    "duration": 21,
    "start_time": "2021-07-09T11:34:55.662Z"
   },
   {
    "duration": 110,
    "start_time": "2021-07-09T11:34:55.686Z"
   },
   {
    "duration": 92,
    "start_time": "2021-07-09T11:34:55.799Z"
   },
   {
    "duration": 32,
    "start_time": "2021-07-09T11:34:55.894Z"
   },
   {
    "duration": 39,
    "start_time": "2021-07-09T11:34:55.929Z"
   },
   {
    "duration": 18,
    "start_time": "2021-07-09T11:34:55.970Z"
   },
   {
    "duration": 10,
    "start_time": "2021-07-09T11:34:55.991Z"
   },
   {
    "duration": 17,
    "start_time": "2021-07-09T11:34:56.004Z"
   },
   {
    "duration": 34,
    "start_time": "2021-07-09T11:34:56.024Z"
   },
   {
    "duration": 10,
    "start_time": "2021-07-09T11:34:56.068Z"
   },
   {
    "duration": 19,
    "start_time": "2021-07-09T11:34:56.082Z"
   },
   {
    "duration": 11,
    "start_time": "2021-07-09T11:34:56.104Z"
   },
   {
    "duration": 29,
    "start_time": "2021-07-09T11:34:56.118Z"
   },
   {
    "duration": 39,
    "start_time": "2021-07-09T11:34:56.150Z"
   },
   {
    "duration": 34,
    "start_time": "2021-07-09T11:34:56.191Z"
   },
   {
    "duration": 21,
    "start_time": "2021-07-09T11:34:56.228Z"
   },
   {
    "duration": 32,
    "start_time": "2021-07-09T11:34:56.253Z"
   },
   {
    "duration": 98,
    "start_time": "2021-07-09T11:34:56.288Z"
   },
   {
    "duration": 43,
    "start_time": "2021-07-09T11:34:56.389Z"
   },
   {
    "duration": 12,
    "start_time": "2021-07-09T11:34:56.435Z"
   },
   {
    "duration": 10,
    "start_time": "2021-07-09T11:34:56.451Z"
   },
   {
    "duration": 32,
    "start_time": "2021-07-09T11:34:56.464Z"
   },
   {
    "duration": 41,
    "start_time": "2021-07-09T11:34:56.499Z"
   },
   {
    "duration": 13,
    "start_time": "2021-07-09T11:34:56.543Z"
   },
   {
    "duration": 18,
    "start_time": "2021-07-09T11:34:56.559Z"
   },
   {
    "duration": 14,
    "start_time": "2021-07-09T11:34:56.579Z"
   },
   {
    "duration": 48,
    "start_time": "2021-07-09T11:34:56.595Z"
   },
   {
    "duration": 11,
    "start_time": "2021-07-09T11:34:56.645Z"
   },
   {
    "duration": 13,
    "start_time": "2021-07-09T11:34:56.659Z"
   },
   {
    "duration": 22,
    "start_time": "2021-07-09T11:34:56.674Z"
   },
   {
    "duration": 25,
    "start_time": "2021-07-09T11:34:56.698Z"
   },
   {
    "duration": 28,
    "start_time": "2021-07-09T11:34:56.728Z"
   },
   {
    "duration": 38,
    "start_time": "2021-07-09T11:34:56.759Z"
   },
   {
    "duration": 43,
    "start_time": "2021-07-09T11:34:56.800Z"
   },
   {
    "duration": 54,
    "start_time": "2021-07-09T11:34:56.846Z"
   },
   {
    "duration": 15,
    "start_time": "2021-07-09T11:34:56.914Z"
   },
   {
    "duration": 20,
    "start_time": "2021-07-09T11:34:56.932Z"
   },
   {
    "duration": 4281,
    "start_time": "2021-07-09T11:34:56.955Z"
   },
   {
    "duration": 27,
    "start_time": "2021-07-09T11:35:01.239Z"
   },
   {
    "duration": 271,
    "start_time": "2021-07-09T11:35:01.269Z"
   },
   {
    "duration": 138,
    "start_time": "2021-07-09T11:35:01.544Z"
   },
   {
    "duration": 118,
    "start_time": "2021-07-09T11:35:01.685Z"
   },
   {
    "duration": 154,
    "start_time": "2021-07-09T11:35:01.806Z"
   },
   {
    "duration": 59,
    "start_time": "2021-07-09T11:35:01.965Z"
   },
   {
    "duration": 148,
    "start_time": "2021-07-09T11:35:02.027Z"
   },
   {
    "duration": 73,
    "start_time": "2021-07-09T11:35:02.178Z"
   },
   {
    "duration": 12779,
    "start_time": "2021-07-09T11:35:02.254Z"
   },
   {
    "duration": 34,
    "start_time": "2021-07-09T11:35:15.036Z"
   },
   {
    "duration": 832,
    "start_time": "2021-07-09T11:35:15.073Z"
   },
   {
    "duration": 48,
    "start_time": "2021-07-09T11:35:15.910Z"
   },
   {
    "duration": 15,
    "start_time": "2021-07-09T11:35:15.961Z"
   },
   {
    "duration": 58,
    "start_time": "2021-07-09T11:35:15.979Z"
   },
   {
    "duration": 32,
    "start_time": "2021-07-09T11:35:16.040Z"
   },
   {
    "duration": 36,
    "start_time": "2021-07-09T11:35:16.075Z"
   },
   {
    "duration": 17,
    "start_time": "2021-07-09T11:35:16.122Z"
   },
   {
    "duration": 14,
    "start_time": "2021-07-09T11:36:12.345Z"
   },
   {
    "duration": 864,
    "start_time": "2021-07-09T11:36:20.030Z"
   },
   {
    "duration": 80,
    "start_time": "2021-07-09T11:36:20.897Z"
   },
   {
    "duration": 37,
    "start_time": "2021-07-09T11:36:20.980Z"
   },
   {
    "duration": 36,
    "start_time": "2021-07-09T11:36:21.021Z"
   },
   {
    "duration": 69,
    "start_time": "2021-07-09T11:36:21.060Z"
   },
   {
    "duration": 11,
    "start_time": "2021-07-09T11:36:21.132Z"
   },
   {
    "duration": 19,
    "start_time": "2021-07-09T11:36:21.145Z"
   },
   {
    "duration": 20,
    "start_time": "2021-07-09T11:36:21.169Z"
   },
   {
    "duration": 8,
    "start_time": "2021-07-09T11:36:21.214Z"
   },
   {
    "duration": 24,
    "start_time": "2021-07-09T11:36:21.226Z"
   },
   {
    "duration": 18,
    "start_time": "2021-07-09T11:36:21.254Z"
   },
   {
    "duration": 40,
    "start_time": "2021-07-09T11:36:21.274Z"
   },
   {
    "duration": 19,
    "start_time": "2021-07-09T11:36:21.316Z"
   },
   {
    "duration": 15,
    "start_time": "2021-07-09T11:36:21.338Z"
   },
   {
    "duration": 94,
    "start_time": "2021-07-09T11:36:21.357Z"
   },
   {
    "duration": 76,
    "start_time": "2021-07-09T11:36:21.454Z"
   },
   {
    "duration": 17,
    "start_time": "2021-07-09T11:36:21.533Z"
   },
   {
    "duration": 20,
    "start_time": "2021-07-09T11:36:21.553Z"
   },
   {
    "duration": 38,
    "start_time": "2021-07-09T11:36:21.576Z"
   },
   {
    "duration": 8,
    "start_time": "2021-07-09T11:36:21.617Z"
   },
   {
    "duration": 34,
    "start_time": "2021-07-09T11:36:21.627Z"
   },
   {
    "duration": 15,
    "start_time": "2021-07-09T11:36:21.664Z"
   },
   {
    "duration": 11,
    "start_time": "2021-07-09T11:36:21.686Z"
   },
   {
    "duration": 19,
    "start_time": "2021-07-09T11:36:21.718Z"
   },
   {
    "duration": 38,
    "start_time": "2021-07-09T11:36:21.740Z"
   },
   {
    "duration": 12,
    "start_time": "2021-07-09T11:36:21.782Z"
   },
   {
    "duration": 19,
    "start_time": "2021-07-09T11:36:21.797Z"
   },
   {
    "duration": 15,
    "start_time": "2021-07-09T11:36:21.819Z"
   },
   {
    "duration": 6,
    "start_time": "2021-07-09T11:36:21.838Z"
   },
   {
    "duration": 16,
    "start_time": "2021-07-09T11:36:21.847Z"
   },
   {
    "duration": 14,
    "start_time": "2021-07-09T11:36:21.865Z"
   },
   {
    "duration": 48,
    "start_time": "2021-07-09T11:36:21.882Z"
   },
   {
    "duration": 11,
    "start_time": "2021-07-09T11:36:21.934Z"
   },
   {
    "duration": 34,
    "start_time": "2021-07-09T11:36:21.947Z"
   },
   {
    "duration": 17,
    "start_time": "2021-07-09T11:36:21.983Z"
   },
   {
    "duration": 40,
    "start_time": "2021-07-09T11:36:22.002Z"
   },
   {
    "duration": 10,
    "start_time": "2021-07-09T11:36:22.045Z"
   },
   {
    "duration": 15,
    "start_time": "2021-07-09T11:36:22.058Z"
   },
   {
    "duration": 18,
    "start_time": "2021-07-09T11:36:22.077Z"
   },
   {
    "duration": 35,
    "start_time": "2021-07-09T11:36:22.098Z"
   },
   {
    "duration": 44,
    "start_time": "2021-07-09T11:36:22.135Z"
   },
   {
    "duration": 15,
    "start_time": "2021-07-09T11:36:22.182Z"
   },
   {
    "duration": 23,
    "start_time": "2021-07-09T11:36:22.200Z"
   },
   {
    "duration": 23,
    "start_time": "2021-07-09T11:36:22.227Z"
   },
   {
    "duration": 11,
    "start_time": "2021-07-09T11:36:22.254Z"
   },
   {
    "duration": 13,
    "start_time": "2021-07-09T11:36:22.268Z"
   },
   {
    "duration": 36,
    "start_time": "2021-07-09T11:36:22.285Z"
   },
   {
    "duration": 103,
    "start_time": "2021-07-09T11:36:22.324Z"
   },
   {
    "duration": 19,
    "start_time": "2021-07-09T11:36:22.431Z"
   },
   {
    "duration": 99,
    "start_time": "2021-07-09T11:36:22.453Z"
   },
   {
    "duration": 4866,
    "start_time": "2021-07-09T11:36:22.555Z"
   },
   {
    "duration": 21,
    "start_time": "2021-07-09T11:36:27.425Z"
   },
   {
    "duration": 13,
    "start_time": "2021-07-09T11:36:27.454Z"
   },
   {
    "duration": 43,
    "start_time": "2021-07-09T11:36:27.470Z"
   },
   {
    "duration": 37,
    "start_time": "2021-07-09T11:36:27.517Z"
   },
   {
    "duration": 28,
    "start_time": "2021-07-09T11:36:27.557Z"
   },
   {
    "duration": 28,
    "start_time": "2021-07-09T11:36:27.587Z"
   },
   {
    "duration": 20,
    "start_time": "2021-07-09T11:36:27.619Z"
   },
   {
    "duration": 14,
    "start_time": "2021-07-09T11:36:27.642Z"
   },
   {
    "duration": 11790,
    "start_time": "2021-07-09T11:36:27.659Z"
   },
   {
    "duration": 30,
    "start_time": "2021-07-09T11:36:39.451Z"
   },
   {
    "duration": 907,
    "start_time": "2021-07-09T11:36:39.484Z"
   },
   {
    "duration": 41,
    "start_time": "2021-07-09T11:36:40.394Z"
   },
   {
    "duration": 14,
    "start_time": "2021-07-09T11:36:40.438Z"
   },
   {
    "duration": 62,
    "start_time": "2021-07-09T11:36:40.454Z"
   },
   {
    "duration": 20,
    "start_time": "2021-07-09T11:36:40.518Z"
   },
   {
    "duration": 48,
    "start_time": "2021-07-09T11:36:40.541Z"
   },
   {
    "duration": 15,
    "start_time": "2021-07-09T11:36:40.596Z"
   },
   {
    "duration": 12,
    "start_time": "2021-07-09T11:38:07.095Z"
   },
   {
    "duration": 13,
    "start_time": "2021-07-09T12:53:43.823Z"
   },
   {
    "duration": 14,
    "start_time": "2021-07-09T12:53:44.797Z"
   },
   {
    "duration": 24,
    "start_time": "2021-07-09T12:53:49.403Z"
   },
   {
    "duration": 878,
    "start_time": "2021-07-09T12:53:58.890Z"
   },
   {
    "duration": 70,
    "start_time": "2021-07-09T12:53:59.771Z"
   },
   {
    "duration": 18,
    "start_time": "2021-07-09T12:53:59.845Z"
   },
   {
    "duration": 123,
    "start_time": "2021-07-09T12:53:59.866Z"
   },
   {
    "duration": 50,
    "start_time": "2021-07-09T12:53:59.992Z"
   },
   {
    "duration": 8,
    "start_time": "2021-07-09T12:54:00.044Z"
   },
   {
    "duration": 22,
    "start_time": "2021-07-09T12:54:00.055Z"
   },
   {
    "duration": 34,
    "start_time": "2021-07-09T12:54:00.081Z"
   },
   {
    "duration": 25,
    "start_time": "2021-07-09T12:54:00.120Z"
   },
   {
    "duration": 20,
    "start_time": "2021-07-09T12:54:00.148Z"
   },
   {
    "duration": 13,
    "start_time": "2021-07-09T12:54:00.170Z"
   },
   {
    "duration": 31,
    "start_time": "2021-07-09T12:54:00.185Z"
   },
   {
    "duration": 17,
    "start_time": "2021-07-09T12:54:00.218Z"
   },
   {
    "duration": 9,
    "start_time": "2021-07-09T12:54:00.238Z"
   },
   {
    "duration": 107,
    "start_time": "2021-07-09T12:54:00.250Z"
   },
   {
    "duration": 75,
    "start_time": "2021-07-09T12:54:00.359Z"
   },
   {
    "duration": 14,
    "start_time": "2021-07-09T12:54:00.437Z"
   },
   {
    "duration": 8,
    "start_time": "2021-07-09T12:54:00.453Z"
   },
   {
    "duration": 17,
    "start_time": "2021-07-09T12:54:00.463Z"
   },
   {
    "duration": 27,
    "start_time": "2021-07-09T12:54:00.510Z"
   },
   {
    "duration": 23,
    "start_time": "2021-07-09T12:54:00.541Z"
   },
   {
    "duration": 21,
    "start_time": "2021-07-09T12:54:00.566Z"
   },
   {
    "duration": 25,
    "start_time": "2021-07-09T12:54:00.594Z"
   },
   {
    "duration": 33,
    "start_time": "2021-07-09T12:54:00.623Z"
   },
   {
    "duration": 8,
    "start_time": "2021-07-09T12:54:00.659Z"
   },
   {
    "duration": 12,
    "start_time": "2021-07-09T12:54:00.669Z"
   },
   {
    "duration": 10,
    "start_time": "2021-07-09T12:54:00.684Z"
   },
   {
    "duration": 18,
    "start_time": "2021-07-09T12:54:00.698Z"
   },
   {
    "duration": 26,
    "start_time": "2021-07-09T12:54:00.719Z"
   },
   {
    "duration": 12,
    "start_time": "2021-07-09T12:54:00.748Z"
   },
   {
    "duration": 25,
    "start_time": "2021-07-09T12:54:00.763Z"
   },
   {
    "duration": 36,
    "start_time": "2021-07-09T12:54:00.791Z"
   },
   {
    "duration": 12,
    "start_time": "2021-07-09T12:54:00.830Z"
   },
   {
    "duration": 30,
    "start_time": "2021-07-09T12:54:00.844Z"
   },
   {
    "duration": 43,
    "start_time": "2021-07-09T12:54:00.876Z"
   },
   {
    "duration": 31,
    "start_time": "2021-07-09T12:54:00.924Z"
   },
   {
    "duration": 37,
    "start_time": "2021-07-09T12:54:00.958Z"
   },
   {
    "duration": 21,
    "start_time": "2021-07-09T12:54:00.997Z"
   },
   {
    "duration": 14,
    "start_time": "2021-07-09T12:54:01.026Z"
   },
   {
    "duration": 46,
    "start_time": "2021-07-09T12:54:01.044Z"
   },
   {
    "duration": 36,
    "start_time": "2021-07-09T12:54:01.093Z"
   },
   {
    "duration": 26,
    "start_time": "2021-07-09T12:54:01.133Z"
   },
   {
    "duration": 34,
    "start_time": "2021-07-09T12:54:01.162Z"
   },
   {
    "duration": 22,
    "start_time": "2021-07-09T12:54:01.198Z"
   },
   {
    "duration": 46,
    "start_time": "2021-07-09T12:54:01.222Z"
   },
   {
    "duration": 30,
    "start_time": "2021-07-09T12:54:01.270Z"
   },
   {
    "duration": 50,
    "start_time": "2021-07-09T12:54:01.302Z"
   },
   {
    "duration": 46,
    "start_time": "2021-07-09T12:54:01.354Z"
   },
   {
    "duration": 14,
    "start_time": "2021-07-09T12:54:01.403Z"
   },
   {
    "duration": 18,
    "start_time": "2021-07-09T12:54:01.424Z"
   },
   {
    "duration": 3589,
    "start_time": "2021-07-09T12:54:01.446Z"
   },
   {
    "duration": 33,
    "start_time": "2021-07-09T12:54:05.039Z"
   },
   {
    "duration": 13,
    "start_time": "2021-07-09T12:54:05.075Z"
   },
   {
    "duration": 54,
    "start_time": "2021-07-09T12:54:05.091Z"
   },
   {
    "duration": 32,
    "start_time": "2021-07-09T12:54:05.149Z"
   },
   {
    "duration": 38,
    "start_time": "2021-07-09T12:54:05.185Z"
   },
   {
    "duration": 846,
    "start_time": "2021-07-09T12:54:05.226Z"
   },
   {
    "duration": 280,
    "start_time": "2021-07-09T12:54:06.075Z"
   },
   {
    "duration": 318,
    "start_time": "2021-07-09T12:54:06.357Z"
   },
   {
    "duration": 11585,
    "start_time": "2021-07-09T12:54:06.677Z"
   },
   {
    "duration": 29,
    "start_time": "2021-07-09T12:54:18.264Z"
   },
   {
    "duration": 860,
    "start_time": "2021-07-09T12:54:18.311Z"
   },
   {
    "duration": 56,
    "start_time": "2021-07-09T12:54:19.174Z"
   },
   {
    "duration": 17,
    "start_time": "2021-07-09T12:54:19.234Z"
   },
   {
    "duration": 49,
    "start_time": "2021-07-09T12:54:19.254Z"
   },
   {
    "duration": 16,
    "start_time": "2021-07-09T12:54:19.307Z"
   },
   {
    "duration": 51,
    "start_time": "2021-07-09T12:54:19.326Z"
   },
   {
    "duration": 24,
    "start_time": "2021-07-09T12:54:19.384Z"
   },
   {
    "duration": 16,
    "start_time": "2021-07-09T12:56:33.733Z"
   },
   {
    "duration": 22,
    "start_time": "2021-07-09T12:56:38.228Z"
   },
   {
    "duration": 6,
    "start_time": "2021-07-09T12:56:57.354Z"
   },
   {
    "duration": 64,
    "start_time": "2021-07-09T12:56:57.633Z"
   },
   {
    "duration": 22,
    "start_time": "2021-07-09T12:56:57.829Z"
   },
   {
    "duration": 25,
    "start_time": "2021-07-09T12:56:58.001Z"
   },
   {
    "duration": 59,
    "start_time": "2021-07-09T12:56:58.205Z"
   },
   {
    "duration": 8,
    "start_time": "2021-07-09T12:57:01.155Z"
   },
   {
    "duration": 8,
    "start_time": "2021-07-09T12:57:05.495Z"
   },
   {
    "duration": 18,
    "start_time": "2021-07-09T12:57:06.655Z"
   },
   {
    "duration": 8,
    "start_time": "2021-07-09T12:57:07.718Z"
   },
   {
    "duration": 12,
    "start_time": "2021-07-09T12:57:08.533Z"
   },
   {
    "duration": 12,
    "start_time": "2021-07-09T12:57:09.743Z"
   },
   {
    "duration": 26,
    "start_time": "2021-07-09T12:57:11.015Z"
   },
   {
    "duration": 20,
    "start_time": "2021-07-09T12:57:13.854Z"
   },
   {
    "duration": 18,
    "start_time": "2021-07-09T12:59:32.378Z"
   },
   {
    "duration": 4,
    "start_time": "2021-07-09T12:59:51.098Z"
   },
   {
    "duration": 89,
    "start_time": "2021-07-09T12:59:51.358Z"
   },
   {
    "duration": 22,
    "start_time": "2021-07-09T12:59:51.576Z"
   },
   {
    "duration": 28,
    "start_time": "2021-07-09T12:59:51.746Z"
   },
   {
    "duration": 70,
    "start_time": "2021-07-09T12:59:51.944Z"
   },
   {
    "duration": 8,
    "start_time": "2021-07-09T12:59:54.764Z"
   },
   {
    "duration": 10,
    "start_time": "2021-07-09T12:59:58.416Z"
   },
   {
    "duration": 12,
    "start_time": "2021-07-09T12:59:59.752Z"
   },
   {
    "duration": 9,
    "start_time": "2021-07-09T13:00:01.084Z"
   },
   {
    "duration": 10,
    "start_time": "2021-07-09T13:00:01.907Z"
   },
   {
    "duration": 20,
    "start_time": "2021-07-09T13:00:03.105Z"
   },
   {
    "duration": 30,
    "start_time": "2021-07-09T13:00:11.097Z"
   },
   {
    "duration": 949,
    "start_time": "2021-07-09T13:00:20.348Z"
   },
   {
    "duration": 79,
    "start_time": "2021-07-09T13:00:21.301Z"
   },
   {
    "duration": 17,
    "start_time": "2021-07-09T13:00:21.383Z"
   },
   {
    "duration": 36,
    "start_time": "2021-07-09T13:00:21.409Z"
   },
   {
    "duration": 81,
    "start_time": "2021-07-09T13:00:21.448Z"
   },
   {
    "duration": 15,
    "start_time": "2021-07-09T13:00:21.531Z"
   },
   {
    "duration": 9,
    "start_time": "2021-07-09T13:00:21.549Z"
   },
   {
    "duration": 11,
    "start_time": "2021-07-09T13:00:21.562Z"
   },
   {
    "duration": 52,
    "start_time": "2021-07-09T13:00:21.579Z"
   },
   {
    "duration": 12,
    "start_time": "2021-07-09T13:00:21.634Z"
   },
   {
    "duration": 19,
    "start_time": "2021-07-09T13:00:21.651Z"
   },
   {
    "duration": 19,
    "start_time": "2021-07-09T13:00:21.672Z"
   },
   {
    "duration": 39,
    "start_time": "2021-07-09T13:00:21.694Z"
   },
   {
    "duration": 16,
    "start_time": "2021-07-09T13:00:21.741Z"
   },
   {
    "duration": 102,
    "start_time": "2021-07-09T13:00:21.761Z"
   },
   {
    "duration": 98,
    "start_time": "2021-07-09T13:00:21.866Z"
   },
   {
    "duration": 21,
    "start_time": "2021-07-09T13:00:21.967Z"
   },
   {
    "duration": 32,
    "start_time": "2021-07-09T13:00:21.991Z"
   },
   {
    "duration": 13,
    "start_time": "2021-07-09T13:00:22.029Z"
   },
   {
    "duration": 16,
    "start_time": "2021-07-09T13:00:22.046Z"
   },
   {
    "duration": 23,
    "start_time": "2021-07-09T13:00:22.065Z"
   },
   {
    "duration": 28,
    "start_time": "2021-07-09T13:00:22.091Z"
   },
   {
    "duration": 32,
    "start_time": "2021-07-09T13:00:22.122Z"
   },
   {
    "duration": 24,
    "start_time": "2021-07-09T13:00:22.157Z"
   },
   {
    "duration": 46,
    "start_time": "2021-07-09T13:00:22.184Z"
   },
   {
    "duration": 18,
    "start_time": "2021-07-09T13:00:22.236Z"
   },
   {
    "duration": 11,
    "start_time": "2021-07-09T13:00:22.261Z"
   },
   {
    "duration": 13,
    "start_time": "2021-07-09T13:00:22.278Z"
   },
   {
    "duration": 35,
    "start_time": "2021-07-09T13:00:22.294Z"
   },
   {
    "duration": 14,
    "start_time": "2021-07-09T13:00:22.332Z"
   },
   {
    "duration": 16,
    "start_time": "2021-07-09T13:00:22.349Z"
   },
   {
    "duration": 45,
    "start_time": "2021-07-09T13:00:22.368Z"
   },
   {
    "duration": 13,
    "start_time": "2021-07-09T13:00:22.417Z"
   },
   {
    "duration": 12,
    "start_time": "2021-07-09T13:00:22.433Z"
   },
   {
    "duration": 18,
    "start_time": "2021-07-09T13:00:22.448Z"
   },
   {
    "duration": 44,
    "start_time": "2021-07-09T13:00:22.468Z"
   },
   {
    "duration": 15,
    "start_time": "2021-07-09T13:00:22.516Z"
   },
   {
    "duration": 6,
    "start_time": "2021-07-09T13:00:22.537Z"
   },
   {
    "duration": 10,
    "start_time": "2021-07-09T13:00:22.547Z"
   },
   {
    "duration": 59,
    "start_time": "2021-07-09T13:00:22.560Z"
   },
   {
    "duration": 15,
    "start_time": "2021-07-09T13:00:22.622Z"
   },
   {
    "duration": 26,
    "start_time": "2021-07-09T13:00:22.642Z"
   },
   {
    "duration": 28,
    "start_time": "2021-07-09T13:00:22.671Z"
   },
   {
    "duration": 27,
    "start_time": "2021-07-09T13:00:22.702Z"
   },
   {
    "duration": 11,
    "start_time": "2021-07-09T13:00:22.732Z"
   },
   {
    "duration": 35,
    "start_time": "2021-07-09T13:00:22.746Z"
   },
   {
    "duration": 33,
    "start_time": "2021-07-09T13:00:22.784Z"
   },
   {
    "duration": 59,
    "start_time": "2021-07-09T13:00:22.821Z"
   },
   {
    "duration": 11,
    "start_time": "2021-07-09T13:00:22.883Z"
   },
   {
    "duration": 20,
    "start_time": "2021-07-09T13:00:22.912Z"
   },
   {
    "duration": 4655,
    "start_time": "2021-07-09T13:00:22.937Z"
   },
   {
    "duration": 31,
    "start_time": "2021-07-09T13:00:27.595Z"
   },
   {
    "duration": 9,
    "start_time": "2021-07-09T13:00:27.630Z"
   },
   {
    "duration": 21,
    "start_time": "2021-07-09T13:00:27.644Z"
   },
   {
    "duration": 55,
    "start_time": "2021-07-09T13:00:27.669Z"
   },
   {
    "duration": 26,
    "start_time": "2021-07-09T13:00:27.731Z"
   },
   {
    "duration": 12,
    "start_time": "2021-07-09T13:00:27.760Z"
   },
   {
    "duration": 6,
    "start_time": "2021-07-09T13:00:27.775Z"
   },
   {
    "duration": 42,
    "start_time": "2021-07-09T13:00:27.784Z"
   },
   {
    "duration": 11833,
    "start_time": "2021-07-09T13:00:27.829Z"
   },
   {
    "duration": 45,
    "start_time": "2021-07-09T13:00:39.665Z"
   },
   {
    "duration": 1128,
    "start_time": "2021-07-09T13:00:39.716Z"
   },
   {
    "duration": 35,
    "start_time": "2021-07-09T13:00:40.848Z"
   },
   {
    "duration": 12,
    "start_time": "2021-07-09T13:00:40.885Z"
   },
   {
    "duration": 34,
    "start_time": "2021-07-09T13:00:40.925Z"
   },
   {
    "duration": 14,
    "start_time": "2021-07-09T13:00:40.962Z"
   },
   {
    "duration": 53,
    "start_time": "2021-07-09T13:00:40.979Z"
   },
   {
    "duration": 15,
    "start_time": "2021-07-09T13:00:41.036Z"
   },
   {
    "duration": 465,
    "start_time": "2021-07-09T13:04:33.309Z"
   },
   {
    "duration": 378,
    "start_time": "2021-07-09T13:04:42.578Z"
   },
   {
    "duration": 335,
    "start_time": "2021-07-09T13:04:48.018Z"
   },
   {
    "duration": 5,
    "start_time": "2021-07-09T15:34:28.748Z"
   },
   {
    "duration": 7,
    "start_time": "2021-07-09T15:35:16.530Z"
   },
   {
    "duration": 7,
    "start_time": "2021-07-09T15:35:43.380Z"
   },
   {
    "duration": 110,
    "start_time": "2021-07-09T15:42:19.660Z"
   },
   {
    "duration": 5,
    "start_time": "2021-07-09T15:42:24.390Z"
   },
   {
    "duration": 972,
    "start_time": "2021-07-09T15:43:02.317Z"
   },
   {
    "duration": 69,
    "start_time": "2021-07-09T15:43:03.291Z"
   },
   {
    "duration": 14,
    "start_time": "2021-07-09T15:43:03.363Z"
   },
   {
    "duration": 50,
    "start_time": "2021-07-09T15:43:03.380Z"
   },
   {
    "duration": 46,
    "start_time": "2021-07-09T15:43:03.433Z"
   },
   {
    "duration": 34,
    "start_time": "2021-07-09T15:43:03.482Z"
   },
   {
    "duration": 9,
    "start_time": "2021-07-09T15:43:03.518Z"
   },
   {
    "duration": 31,
    "start_time": "2021-07-09T15:43:03.532Z"
   },
   {
    "duration": 14,
    "start_time": "2021-07-09T15:43:03.566Z"
   },
   {
    "duration": 43,
    "start_time": "2021-07-09T15:43:03.583Z"
   },
   {
    "duration": 31,
    "start_time": "2021-07-09T15:43:03.629Z"
   },
   {
    "duration": 17,
    "start_time": "2021-07-09T15:43:03.663Z"
   },
   {
    "duration": 22,
    "start_time": "2021-07-09T15:43:03.683Z"
   },
   {
    "duration": 55,
    "start_time": "2021-07-09T15:43:03.708Z"
   },
   {
    "duration": 98,
    "start_time": "2021-07-09T15:43:03.765Z"
   },
   {
    "duration": 66,
    "start_time": "2021-07-09T15:43:03.865Z"
   },
   {
    "duration": 12,
    "start_time": "2021-07-09T15:43:03.936Z"
   },
   {
    "duration": 24,
    "start_time": "2021-07-09T15:43:03.950Z"
   },
   {
    "duration": 22,
    "start_time": "2021-07-09T15:43:03.976Z"
   },
   {
    "duration": 19,
    "start_time": "2021-07-09T15:43:04.000Z"
   },
   {
    "duration": 24,
    "start_time": "2021-07-09T15:43:04.022Z"
   },
   {
    "duration": 27,
    "start_time": "2021-07-09T15:43:04.048Z"
   },
   {
    "duration": 24,
    "start_time": "2021-07-09T15:43:04.081Z"
   },
   {
    "duration": 22,
    "start_time": "2021-07-09T15:43:04.117Z"
   },
   {
    "duration": 29,
    "start_time": "2021-07-09T15:43:04.141Z"
   },
   {
    "duration": 26,
    "start_time": "2021-07-09T15:43:04.173Z"
   },
   {
    "duration": 36,
    "start_time": "2021-07-09T15:43:04.202Z"
   },
   {
    "duration": 42,
    "start_time": "2021-07-09T15:43:04.241Z"
   },
   {
    "duration": 21,
    "start_time": "2021-07-09T15:43:04.286Z"
   },
   {
    "duration": 43,
    "start_time": "2021-07-09T15:43:04.316Z"
   },
   {
    "duration": 24,
    "start_time": "2021-07-09T15:43:04.362Z"
   },
   {
    "duration": 48,
    "start_time": "2021-07-09T15:43:04.389Z"
   },
   {
    "duration": 19,
    "start_time": "2021-07-09T15:43:04.440Z"
   },
   {
    "duration": 37,
    "start_time": "2021-07-09T15:43:04.461Z"
   },
   {
    "duration": 35,
    "start_time": "2021-07-09T15:43:04.500Z"
   },
   {
    "duration": 34,
    "start_time": "2021-07-09T15:43:04.537Z"
   },
   {
    "duration": 33,
    "start_time": "2021-07-09T15:43:04.573Z"
   },
   {
    "duration": 27,
    "start_time": "2021-07-09T15:43:04.608Z"
   },
   {
    "duration": 34,
    "start_time": "2021-07-09T15:43:04.637Z"
   },
   {
    "duration": 59,
    "start_time": "2021-07-09T15:43:04.674Z"
   },
   {
    "duration": 32,
    "start_time": "2021-07-09T15:43:04.737Z"
   },
   {
    "duration": 30,
    "start_time": "2021-07-09T15:43:04.771Z"
   },
   {
    "duration": 34,
    "start_time": "2021-07-09T15:43:04.804Z"
   },
   {
    "duration": 20,
    "start_time": "2021-07-09T15:43:04.841Z"
   },
   {
    "duration": 25,
    "start_time": "2021-07-09T15:43:04.864Z"
   },
   {
    "duration": 30,
    "start_time": "2021-07-09T15:43:04.892Z"
   },
   {
    "duration": 131,
    "start_time": "2021-07-09T15:43:04.925Z"
   },
   {
    "duration": 85,
    "start_time": "2021-07-09T15:43:05.058Z"
   },
   {
    "duration": 9,
    "start_time": "2021-07-09T15:43:05.145Z"
   },
   {
    "duration": 21,
    "start_time": "2021-07-09T15:43:05.156Z"
   },
   {
    "duration": 3588,
    "start_time": "2021-07-09T15:43:05.179Z"
   },
   {
    "duration": 20,
    "start_time": "2021-07-09T15:43:08.770Z"
   },
   {
    "duration": 24,
    "start_time": "2021-07-09T15:43:08.793Z"
   },
   {
    "duration": 27,
    "start_time": "2021-07-09T15:43:08.820Z"
   },
   {
    "duration": 33,
    "start_time": "2021-07-09T15:43:08.849Z"
   },
   {
    "duration": 36,
    "start_time": "2021-07-09T15:43:08.884Z"
   },
   {
    "duration": 22,
    "start_time": "2021-07-09T15:43:08.922Z"
   },
   {
    "duration": 9,
    "start_time": "2021-07-09T15:43:08.947Z"
   },
   {
    "duration": 15,
    "start_time": "2021-07-09T15:43:08.958Z"
   },
   {
    "duration": 11300,
    "start_time": "2021-07-09T15:43:08.975Z"
   },
   {
    "duration": 53,
    "start_time": "2021-07-09T15:43:20.279Z"
   },
   {
    "duration": 799,
    "start_time": "2021-07-09T15:43:20.335Z"
   },
   {
    "duration": 39,
    "start_time": "2021-07-09T15:43:21.138Z"
   },
   {
    "duration": 12,
    "start_time": "2021-07-09T15:43:21.179Z"
   },
   {
    "duration": 34,
    "start_time": "2021-07-09T15:43:21.216Z"
   },
   {
    "duration": 16,
    "start_time": "2021-07-09T15:43:21.252Z"
   },
   {
    "duration": 57,
    "start_time": "2021-07-09T15:43:21.270Z"
   },
   {
    "duration": 12,
    "start_time": "2021-07-09T15:43:21.339Z"
   },
   {
    "duration": 19,
    "start_time": "2021-07-09T15:45:17.226Z"
   },
   {
    "duration": 9,
    "start_time": "2021-07-09T15:45:32.788Z"
   },
   {
    "duration": 4,
    "start_time": "2021-07-09T15:45:44.568Z"
   },
   {
    "duration": 12,
    "start_time": "2021-07-09T15:45:55.856Z"
   },
   {
    "duration": 4,
    "start_time": "2021-07-09T15:46:02.317Z"
   },
   {
    "duration": 74,
    "start_time": "2021-07-09T15:46:02.582Z"
   },
   {
    "duration": 16,
    "start_time": "2021-07-09T15:46:02.768Z"
   },
   {
    "duration": 20,
    "start_time": "2021-07-09T15:46:02.928Z"
   },
   {
    "duration": 52,
    "start_time": "2021-07-09T15:46:03.088Z"
   },
   {
    "duration": 9,
    "start_time": "2021-07-09T15:46:05.628Z"
   },
   {
    "duration": 7,
    "start_time": "2021-07-09T15:46:09.368Z"
   },
   {
    "duration": 10,
    "start_time": "2021-07-09T15:46:12.738Z"
   },
   {
    "duration": 7,
    "start_time": "2021-07-09T15:46:14.476Z"
   },
   {
    "duration": 9,
    "start_time": "2021-07-09T15:46:30.950Z"
   },
   {
    "duration": 15,
    "start_time": "2021-07-09T15:46:34.558Z"
   },
   {
    "duration": 14,
    "start_time": "2021-07-09T15:46:54.320Z"
   },
   {
    "duration": 6,
    "start_time": "2021-07-09T15:47:02.918Z"
   },
   {
    "duration": 71,
    "start_time": "2021-07-09T15:47:02.970Z"
   },
   {
    "duration": 14,
    "start_time": "2021-07-09T15:47:03.043Z"
   },
   {
    "duration": 29,
    "start_time": "2021-07-09T15:47:03.103Z"
   },
   {
    "duration": 47,
    "start_time": "2021-07-09T15:47:03.175Z"
   },
   {
    "duration": 7,
    "start_time": "2021-07-09T15:47:04.888Z"
   },
   {
    "duration": 9,
    "start_time": "2021-07-09T15:47:06.916Z"
   },
   {
    "duration": 9,
    "start_time": "2021-07-09T15:47:07.668Z"
   },
   {
    "duration": 8,
    "start_time": "2021-07-09T15:47:08.248Z"
   },
   {
    "duration": 9,
    "start_time": "2021-07-09T15:47:08.753Z"
   },
   {
    "duration": 16,
    "start_time": "2021-07-09T15:47:09.518Z"
   },
   {
    "duration": 16,
    "start_time": "2021-07-09T15:47:22.396Z"
   },
   {
    "duration": 4,
    "start_time": "2021-07-09T15:47:34.638Z"
   },
   {
    "duration": 60,
    "start_time": "2021-07-09T15:47:35.155Z"
   },
   {
    "duration": 20,
    "start_time": "2021-07-09T15:47:35.218Z"
   },
   {
    "duration": 18,
    "start_time": "2021-07-09T15:47:35.263Z"
   },
   {
    "duration": 50,
    "start_time": "2021-07-09T15:47:35.328Z"
   },
   {
    "duration": 9,
    "start_time": "2021-07-09T15:47:35.788Z"
   },
   {
    "duration": 7,
    "start_time": "2021-07-09T15:47:36.536Z"
   },
   {
    "duration": 10,
    "start_time": "2021-07-09T15:47:36.896Z"
   },
   {
    "duration": 8,
    "start_time": "2021-07-09T15:47:37.068Z"
   },
   {
    "duration": 11,
    "start_time": "2021-07-09T15:47:37.258Z"
   },
   {
    "duration": 14,
    "start_time": "2021-07-09T15:47:37.478Z"
   },
   {
    "duration": 75,
    "start_time": "2021-07-09T16:05:11.158Z"
   },
   {
    "duration": 4,
    "start_time": "2021-07-09T16:05:14.059Z"
   },
   {
    "duration": 6,
    "start_time": "2021-07-09T16:05:15.257Z"
   },
   {
    "duration": 6,
    "start_time": "2021-07-09T16:06:12.149Z"
   },
   {
    "duration": 827,
    "start_time": "2021-07-09T16:06:19.752Z"
   },
   {
    "duration": 72,
    "start_time": "2021-07-09T16:06:20.581Z"
   },
   {
    "duration": 17,
    "start_time": "2021-07-09T16:06:20.656Z"
   },
   {
    "duration": 54,
    "start_time": "2021-07-09T16:06:20.676Z"
   },
   {
    "duration": 48,
    "start_time": "2021-07-09T16:06:20.733Z"
   },
   {
    "duration": 8,
    "start_time": "2021-07-09T16:06:20.783Z"
   },
   {
    "duration": 8,
    "start_time": "2021-07-09T16:06:20.816Z"
   },
   {
    "duration": 19,
    "start_time": "2021-07-09T16:06:20.826Z"
   },
   {
    "duration": 7,
    "start_time": "2021-07-09T16:06:20.849Z"
   },
   {
    "duration": 13,
    "start_time": "2021-07-09T16:06:20.859Z"
   },
   {
    "duration": 48,
    "start_time": "2021-07-09T16:06:20.874Z"
   },
   {
    "duration": 16,
    "start_time": "2021-07-09T16:06:20.925Z"
   },
   {
    "duration": 12,
    "start_time": "2021-07-09T16:06:20.944Z"
   },
   {
    "duration": 19,
    "start_time": "2021-07-09T16:06:20.959Z"
   },
   {
    "duration": 95,
    "start_time": "2021-07-09T16:06:20.980Z"
   },
   {
    "duration": 82,
    "start_time": "2021-07-09T16:06:21.077Z"
   },
   {
    "duration": 13,
    "start_time": "2021-07-09T16:06:21.162Z"
   },
   {
    "duration": 9,
    "start_time": "2021-07-09T16:06:21.177Z"
   },
   {
    "duration": 42,
    "start_time": "2021-07-09T16:06:21.188Z"
   },
   {
    "duration": 5,
    "start_time": "2021-07-09T16:06:21.233Z"
   },
   {
    "duration": 14,
    "start_time": "2021-07-09T16:06:21.240Z"
   },
   {
    "duration": 17,
    "start_time": "2021-07-09T16:06:21.257Z"
   },
   {
    "duration": 12,
    "start_time": "2021-07-09T16:06:21.276Z"
   },
   {
    "duration": 39,
    "start_time": "2021-07-09T16:06:21.290Z"
   },
   {
    "duration": 9,
    "start_time": "2021-07-09T16:06:21.332Z"
   },
   {
    "duration": 19,
    "start_time": "2021-07-09T16:06:21.343Z"
   },
   {
    "duration": 14,
    "start_time": "2021-07-09T16:06:21.368Z"
   },
   {
    "duration": 92,
    "start_time": "2021-07-09T16:06:21.386Z"
   },
   {
    "duration": 7,
    "start_time": "2021-07-09T16:06:21.480Z"
   },
   {
    "duration": 26,
    "start_time": "2021-07-09T16:06:21.489Z"
   },
   {
    "duration": 10,
    "start_time": "2021-07-09T16:06:21.518Z"
   },
   {
    "duration": 20,
    "start_time": "2021-07-09T16:06:21.531Z"
   },
   {
    "duration": 14,
    "start_time": "2021-07-09T16:06:21.554Z"
   },
   {
    "duration": 7,
    "start_time": "2021-07-09T16:06:21.570Z"
   },
   {
    "duration": 34,
    "start_time": "2021-07-09T16:06:21.580Z"
   },
   {
    "duration": 27,
    "start_time": "2021-07-09T16:06:21.617Z"
   },
   {
    "duration": 9,
    "start_time": "2021-07-09T16:06:21.647Z"
   },
   {
    "duration": 12,
    "start_time": "2021-07-09T16:06:21.658Z"
   },
   {
    "duration": 50,
    "start_time": "2021-07-09T16:06:21.672Z"
   },
   {
    "duration": 26,
    "start_time": "2021-07-09T16:06:21.724Z"
   },
   {
    "duration": 9,
    "start_time": "2021-07-09T16:06:21.753Z"
   },
   {
    "duration": 16,
    "start_time": "2021-07-09T16:06:21.764Z"
   },
   {
    "duration": 10,
    "start_time": "2021-07-09T16:06:21.782Z"
   },
   {
    "duration": 9,
    "start_time": "2021-07-09T16:06:21.812Z"
   },
   {
    "duration": 21,
    "start_time": "2021-07-09T16:06:21.824Z"
   },
   {
    "duration": 12,
    "start_time": "2021-07-09T16:06:21.847Z"
   },
   {
    "duration": 34,
    "start_time": "2021-07-09T16:06:21.862Z"
   },
   {
    "duration": 70,
    "start_time": "2021-07-09T16:06:21.899Z"
   },
   {
    "duration": 9,
    "start_time": "2021-07-09T16:06:21.972Z"
   },
   {
    "duration": 25,
    "start_time": "2021-07-09T16:06:21.984Z"
   },
   {
    "duration": 3657,
    "start_time": "2021-07-09T16:06:22.018Z"
   },
   {
    "duration": 21,
    "start_time": "2021-07-09T16:06:25.678Z"
   },
   {
    "duration": 8,
    "start_time": "2021-07-09T16:06:25.713Z"
   },
   {
    "duration": 19,
    "start_time": "2021-07-09T16:06:25.724Z"
   },
   {
    "duration": 22,
    "start_time": "2021-07-09T16:06:25.746Z"
   },
   {
    "duration": 42,
    "start_time": "2021-07-09T16:06:25.770Z"
   },
   {
    "duration": 35,
    "start_time": "2021-07-09T16:06:25.815Z"
   },
   {
    "duration": 3,
    "start_time": "2021-07-09T16:06:25.853Z"
   },
   {
    "duration": 7,
    "start_time": "2021-07-09T16:06:25.858Z"
   },
   {
    "duration": 12020,
    "start_time": "2021-07-09T16:06:25.867Z"
   },
   {
    "duration": 42,
    "start_time": "2021-07-09T16:06:37.890Z"
   },
   {
    "duration": 798,
    "start_time": "2021-07-09T16:06:37.935Z"
   },
   {
    "duration": 32,
    "start_time": "2021-07-09T16:06:38.738Z"
   },
   {
    "duration": 12,
    "start_time": "2021-07-09T16:06:38.772Z"
   },
   {
    "duration": 59,
    "start_time": "2021-07-09T16:06:38.786Z"
   },
   {
    "duration": 17,
    "start_time": "2021-07-09T16:06:38.848Z"
   },
   {
    "duration": 62,
    "start_time": "2021-07-09T16:06:38.868Z"
   },
   {
    "duration": 13,
    "start_time": "2021-07-09T16:06:38.936Z"
   },
   {
    "duration": 13,
    "start_time": "2021-07-09T16:07:10.150Z"
   },
   {
    "duration": 9,
    "start_time": "2021-07-09T16:07:32.570Z"
   },
   {
    "duration": 790,
    "start_time": "2021-07-09T16:08:10.174Z"
   },
   {
    "duration": 74,
    "start_time": "2021-07-09T16:08:10.967Z"
   },
   {
    "duration": 15,
    "start_time": "2021-07-09T16:08:11.044Z"
   },
   {
    "duration": 33,
    "start_time": "2021-07-09T16:08:11.062Z"
   },
   {
    "duration": 62,
    "start_time": "2021-07-09T16:08:11.097Z"
   },
   {
    "duration": 9,
    "start_time": "2021-07-09T16:08:11.162Z"
   },
   {
    "duration": 6,
    "start_time": "2021-07-09T16:08:11.173Z"
   },
   {
    "duration": 23,
    "start_time": "2021-07-09T16:08:11.214Z"
   },
   {
    "duration": 7,
    "start_time": "2021-07-09T16:08:11.240Z"
   },
   {
    "duration": 14,
    "start_time": "2021-07-09T16:08:11.249Z"
   },
   {
    "duration": 26,
    "start_time": "2021-07-09T16:08:11.266Z"
   },
   {
    "duration": 24,
    "start_time": "2021-07-09T16:08:11.311Z"
   },
   {
    "duration": 13,
    "start_time": "2021-07-09T16:08:11.339Z"
   },
   {
    "duration": 18,
    "start_time": "2021-07-09T16:08:11.355Z"
   },
   {
    "duration": 92,
    "start_time": "2021-07-09T16:08:11.376Z"
   },
   {
    "duration": 72,
    "start_time": "2021-07-09T16:08:11.472Z"
   },
   {
    "duration": 12,
    "start_time": "2021-07-09T16:08:11.547Z"
   },
   {
    "duration": 11,
    "start_time": "2021-07-09T16:08:11.561Z"
   },
   {
    "duration": 8,
    "start_time": "2021-07-09T16:08:11.574Z"
   },
   {
    "duration": 10,
    "start_time": "2021-07-09T16:08:11.608Z"
   },
   {
    "duration": 20,
    "start_time": "2021-07-09T16:08:11.622Z"
   },
   {
    "duration": 31,
    "start_time": "2021-07-09T16:08:11.645Z"
   },
   {
    "duration": 11,
    "start_time": "2021-07-09T16:08:11.683Z"
   },
   {
    "duration": 32,
    "start_time": "2021-07-09T16:08:11.698Z"
   },
   {
    "duration": 9,
    "start_time": "2021-07-09T16:08:11.733Z"
   },
   {
    "duration": 5,
    "start_time": "2021-07-09T16:08:11.745Z"
   },
   {
    "duration": 10,
    "start_time": "2021-07-09T16:08:11.753Z"
   },
   {
    "duration": 99,
    "start_time": "2021-07-09T16:08:11.766Z"
   },
   {
    "duration": 5,
    "start_time": "2021-07-09T16:08:11.868Z"
   },
   {
    "duration": 10,
    "start_time": "2021-07-09T16:08:11.876Z"
   },
   {
    "duration": 12,
    "start_time": "2021-07-09T16:08:11.910Z"
   },
   {
    "duration": 29,
    "start_time": "2021-07-09T16:08:11.924Z"
   },
   {
    "duration": 9,
    "start_time": "2021-07-09T16:08:11.956Z"
   },
   {
    "duration": 6,
    "start_time": "2021-07-09T16:08:11.968Z"
   },
   {
    "duration": 11,
    "start_time": "2021-07-09T16:08:12.013Z"
   },
   {
    "duration": 19,
    "start_time": "2021-07-09T16:08:12.034Z"
   },
   {
    "duration": 16,
    "start_time": "2021-07-09T16:08:12.055Z"
   },
   {
    "duration": 6,
    "start_time": "2021-07-09T16:08:12.073Z"
   },
   {
    "duration": 38,
    "start_time": "2021-07-09T16:08:12.082Z"
   },
   {
    "duration": 22,
    "start_time": "2021-07-09T16:08:12.123Z"
   },
   {
    "duration": 11,
    "start_time": "2021-07-09T16:08:12.148Z"
   },
   {
    "duration": 13,
    "start_time": "2021-07-09T16:08:12.162Z"
   },
   {
    "duration": 35,
    "start_time": "2021-07-09T16:08:12.177Z"
   },
   {
    "duration": 16,
    "start_time": "2021-07-09T16:08:12.214Z"
   },
   {
    "duration": 8,
    "start_time": "2021-07-09T16:08:12.235Z"
   },
   {
    "duration": 14,
    "start_time": "2021-07-09T16:08:12.246Z"
   },
   {
    "duration": 67,
    "start_time": "2021-07-09T16:08:12.263Z"
   },
   {
    "duration": 56,
    "start_time": "2021-07-09T16:08:12.337Z"
   },
   {
    "duration": 17,
    "start_time": "2021-07-09T16:08:12.395Z"
   },
   {
    "duration": 14,
    "start_time": "2021-07-09T16:08:12.414Z"
   },
   {
    "duration": 3572,
    "start_time": "2021-07-09T16:08:12.432Z"
   },
   {
    "duration": 30,
    "start_time": "2021-07-09T16:08:16.009Z"
   },
   {
    "duration": 19,
    "start_time": "2021-07-09T16:08:16.042Z"
   },
   {
    "duration": 23,
    "start_time": "2021-07-09T16:08:16.064Z"
   },
   {
    "duration": 35,
    "start_time": "2021-07-09T16:08:16.090Z"
   },
   {
    "duration": 22,
    "start_time": "2021-07-09T16:08:16.128Z"
   },
   {
    "duration": 16,
    "start_time": "2021-07-09T16:08:16.152Z"
   },
   {
    "duration": 12,
    "start_time": "2021-07-09T16:08:16.170Z"
   },
   {
    "duration": 26,
    "start_time": "2021-07-09T16:08:16.184Z"
   },
   {
    "duration": 10685,
    "start_time": "2021-07-09T16:08:16.213Z"
   },
   {
    "duration": 34,
    "start_time": "2021-07-09T16:08:26.901Z"
   },
   {
    "duration": 847,
    "start_time": "2021-07-09T16:08:26.940Z"
   },
   {
    "duration": 44,
    "start_time": "2021-07-09T16:08:27.790Z"
   },
   {
    "duration": 15,
    "start_time": "2021-07-09T16:08:27.840Z"
   },
   {
    "duration": 32,
    "start_time": "2021-07-09T16:08:27.858Z"
   },
   {
    "duration": 46,
    "start_time": "2021-07-09T16:08:27.893Z"
   },
   {
    "duration": 27,
    "start_time": "2021-07-09T16:08:27.947Z"
   },
   {
    "duration": 33,
    "start_time": "2021-07-09T16:08:27.981Z"
   },
   {
    "duration": 79,
    "start_time": "2021-07-09T16:09:10.250Z"
   },
   {
    "duration": 8,
    "start_time": "2021-07-09T16:09:43.060Z"
   },
   {
    "duration": 106,
    "start_time": "2021-07-09T16:09:57.833Z"
   },
   {
    "duration": 107,
    "start_time": "2021-07-09T16:10:19.141Z"
   },
   {
    "duration": 105,
    "start_time": "2021-07-09T16:10:28.881Z"
   },
   {
    "duration": 17,
    "start_time": "2021-07-09T16:10:43.142Z"
   },
   {
    "duration": 817,
    "start_time": "2021-07-09T16:10:55.275Z"
   },
   {
    "duration": 70,
    "start_time": "2021-07-09T16:10:56.094Z"
   },
   {
    "duration": 16,
    "start_time": "2021-07-09T16:10:56.167Z"
   },
   {
    "duration": 52,
    "start_time": "2021-07-09T16:10:56.186Z"
   },
   {
    "duration": 45,
    "start_time": "2021-07-09T16:10:56.241Z"
   },
   {
    "duration": 13,
    "start_time": "2021-07-09T16:10:56.314Z"
   },
   {
    "duration": 9,
    "start_time": "2021-07-09T16:10:56.330Z"
   },
   {
    "duration": 22,
    "start_time": "2021-07-09T16:10:56.345Z"
   },
   {
    "duration": 17,
    "start_time": "2021-07-09T16:10:56.371Z"
   },
   {
    "duration": 27,
    "start_time": "2021-07-09T16:10:56.391Z"
   },
   {
    "duration": 19,
    "start_time": "2021-07-09T16:10:56.423Z"
   },
   {
    "duration": 38,
    "start_time": "2021-07-09T16:10:56.444Z"
   },
   {
    "duration": 12,
    "start_time": "2021-07-09T16:10:56.485Z"
   },
   {
    "duration": 23,
    "start_time": "2021-07-09T16:10:56.499Z"
   },
   {
    "duration": 74,
    "start_time": "2021-07-09T16:10:56.526Z"
   },
   {
    "duration": 68,
    "start_time": "2021-07-09T16:10:56.603Z"
   },
   {
    "duration": 13,
    "start_time": "2021-07-09T16:10:56.673Z"
   },
   {
    "duration": 37,
    "start_time": "2021-07-09T16:10:56.689Z"
   },
   {
    "duration": 12,
    "start_time": "2021-07-09T16:10:56.729Z"
   },
   {
    "duration": 6,
    "start_time": "2021-07-09T16:10:56.745Z"
   },
   {
    "duration": 9,
    "start_time": "2021-07-09T16:10:56.754Z"
   },
   {
    "duration": 50,
    "start_time": "2021-07-09T16:10:56.765Z"
   },
   {
    "duration": 10,
    "start_time": "2021-07-09T16:10:56.827Z"
   },
   {
    "duration": 14,
    "start_time": "2021-07-09T16:10:56.841Z"
   },
   {
    "duration": 8,
    "start_time": "2021-07-09T16:10:56.857Z"
   },
   {
    "duration": 5,
    "start_time": "2021-07-09T16:10:56.868Z"
   },
   {
    "duration": 42,
    "start_time": "2021-07-09T16:10:56.876Z"
   },
   {
    "duration": 34,
    "start_time": "2021-07-09T16:10:56.925Z"
   },
   {
    "duration": 110,
    "start_time": "2021-07-09T16:10:56.962Z"
   },
   {
    "duration": 6,
    "start_time": "2021-07-09T16:10:57.074Z"
   },
   {
    "duration": 28,
    "start_time": "2021-07-09T16:10:57.083Z"
   },
   {
    "duration": 10,
    "start_time": "2021-07-09T16:10:57.118Z"
   },
   {
    "duration": 18,
    "start_time": "2021-07-09T16:10:57.133Z"
   },
   {
    "duration": 7,
    "start_time": "2021-07-09T16:10:57.154Z"
   },
   {
    "duration": 9,
    "start_time": "2021-07-09T16:10:57.164Z"
   },
   {
    "duration": 47,
    "start_time": "2021-07-09T16:10:57.176Z"
   },
   {
    "duration": 23,
    "start_time": "2021-07-09T16:10:57.228Z"
   },
   {
    "duration": 9,
    "start_time": "2021-07-09T16:10:57.254Z"
   },
   {
    "duration": 6,
    "start_time": "2021-07-09T16:10:57.265Z"
   },
   {
    "duration": 44,
    "start_time": "2021-07-09T16:10:57.273Z"
   },
   {
    "duration": 40,
    "start_time": "2021-07-09T16:10:57.325Z"
   },
   {
    "duration": 15,
    "start_time": "2021-07-09T16:10:57.368Z"
   },
   {
    "duration": 12,
    "start_time": "2021-07-09T16:10:57.386Z"
   },
   {
    "duration": 16,
    "start_time": "2021-07-09T16:10:57.400Z"
   },
   {
    "duration": 13,
    "start_time": "2021-07-09T16:10:57.418Z"
   },
   {
    "duration": 12,
    "start_time": "2021-07-09T16:10:57.433Z"
   },
   {
    "duration": 9,
    "start_time": "2021-07-09T16:10:57.448Z"
   },
   {
    "duration": 60,
    "start_time": "2021-07-09T16:10:57.460Z"
   },
   {
    "duration": 52,
    "start_time": "2021-07-09T16:10:57.523Z"
   },
   {
    "duration": 9,
    "start_time": "2021-07-09T16:10:57.578Z"
   },
   {
    "duration": 11,
    "start_time": "2021-07-09T16:10:57.611Z"
   },
   {
    "duration": 3607,
    "start_time": "2021-07-09T16:10:57.625Z"
   },
   {
    "duration": 82,
    "start_time": "2021-07-09T16:11:01.235Z"
   },
   {
    "duration": 11,
    "start_time": "2021-07-09T16:11:01.323Z"
   },
   {
    "duration": 17,
    "start_time": "2021-07-09T16:11:01.337Z"
   },
   {
    "duration": 71,
    "start_time": "2021-07-09T16:11:01.356Z"
   },
   {
    "duration": 23,
    "start_time": "2021-07-09T16:11:01.432Z"
   },
   {
    "duration": 70,
    "start_time": "2021-07-09T16:11:01.457Z"
   },
   {
    "duration": 6,
    "start_time": "2021-07-09T16:11:01.529Z"
   },
   {
    "duration": 11,
    "start_time": "2021-07-09T16:11:01.538Z"
   },
   {
    "duration": 10976,
    "start_time": "2021-07-09T16:11:01.551Z"
   },
   {
    "duration": 28,
    "start_time": "2021-07-09T16:11:12.533Z"
   },
   {
    "duration": 1280,
    "start_time": "2021-07-09T16:11:12.563Z"
   },
   {
    "duration": 72,
    "start_time": "2021-07-09T16:11:13.846Z"
   },
   {
    "duration": 15,
    "start_time": "2021-07-09T16:11:13.920Z"
   },
   {
    "duration": 81,
    "start_time": "2021-07-09T16:11:13.938Z"
   },
   {
    "duration": 21,
    "start_time": "2021-07-09T16:11:14.021Z"
   },
   {
    "duration": 90,
    "start_time": "2021-07-09T16:11:14.050Z"
   },
   {
    "duration": 12,
    "start_time": "2021-07-09T16:11:14.143Z"
   },
   {
    "duration": 8,
    "start_time": "2021-07-09T16:18:25.091Z"
   },
   {
    "duration": 12,
    "start_time": "2021-07-09T16:18:33.722Z"
   },
   {
    "duration": 10,
    "start_time": "2021-07-09T16:19:50.623Z"
   },
   {
    "duration": 834,
    "start_time": "2021-07-09T16:19:59.273Z"
   },
   {
    "duration": 68,
    "start_time": "2021-07-09T16:20:00.110Z"
   },
   {
    "duration": 15,
    "start_time": "2021-07-09T16:20:00.181Z"
   },
   {
    "duration": 35,
    "start_time": "2021-07-09T16:20:00.209Z"
   },
   {
    "duration": 70,
    "start_time": "2021-07-09T16:20:00.246Z"
   },
   {
    "duration": 10,
    "start_time": "2021-07-09T16:20:00.324Z"
   },
   {
    "duration": 7,
    "start_time": "2021-07-09T16:20:00.337Z"
   },
   {
    "duration": 17,
    "start_time": "2021-07-09T16:20:00.349Z"
   },
   {
    "duration": 9,
    "start_time": "2021-07-09T16:20:00.370Z"
   },
   {
    "duration": 43,
    "start_time": "2021-07-09T16:20:00.382Z"
   },
   {
    "duration": 17,
    "start_time": "2021-07-09T16:20:00.429Z"
   },
   {
    "duration": 15,
    "start_time": "2021-07-09T16:20:00.449Z"
   },
   {
    "duration": 68,
    "start_time": "2021-07-09T16:20:00.467Z"
   },
   {
    "duration": 15,
    "start_time": "2021-07-09T16:20:00.537Z"
   },
   {
    "duration": 85,
    "start_time": "2021-07-09T16:20:00.555Z"
   },
   {
    "duration": 61,
    "start_time": "2021-07-09T16:20:00.643Z"
   },
   {
    "duration": 27,
    "start_time": "2021-07-09T16:20:00.706Z"
   },
   {
    "duration": 9,
    "start_time": "2021-07-09T16:20:00.735Z"
   },
   {
    "duration": 28,
    "start_time": "2021-07-09T16:20:00.746Z"
   },
   {
    "duration": 29,
    "start_time": "2021-07-09T16:20:00.777Z"
   },
   {
    "duration": 23,
    "start_time": "2021-07-09T16:20:00.809Z"
   },
   {
    "duration": 67,
    "start_time": "2021-07-09T16:20:00.835Z"
   },
   {
    "duration": 18,
    "start_time": "2021-07-09T16:20:00.908Z"
   },
   {
    "duration": 56,
    "start_time": "2021-07-09T16:20:00.931Z"
   },
   {
    "duration": 62,
    "start_time": "2021-07-09T16:20:00.990Z"
   },
   {
    "duration": 18,
    "start_time": "2021-07-09T16:20:01.054Z"
   },
   {
    "duration": 25,
    "start_time": "2021-07-09T16:20:01.074Z"
   },
   {
    "duration": 36,
    "start_time": "2021-07-09T16:20:01.102Z"
   },
   {
    "duration": 87,
    "start_time": "2021-07-09T16:20:01.140Z"
   },
   {
    "duration": 10,
    "start_time": "2021-07-09T16:20:01.230Z"
   },
   {
    "duration": 21,
    "start_time": "2021-07-09T16:20:01.242Z"
   },
   {
    "duration": 87,
    "start_time": "2021-07-09T16:20:01.265Z"
   },
   {
    "duration": 48,
    "start_time": "2021-07-09T16:20:01.355Z"
   },
   {
    "duration": 31,
    "start_time": "2021-07-09T16:20:01.406Z"
   },
   {
    "duration": 14,
    "start_time": "2021-07-09T16:20:01.439Z"
   },
   {
    "duration": 19,
    "start_time": "2021-07-09T16:20:01.456Z"
   },
   {
    "duration": 43,
    "start_time": "2021-07-09T16:20:01.477Z"
   },
   {
    "duration": 20,
    "start_time": "2021-07-09T16:20:01.522Z"
   },
   {
    "duration": 15,
    "start_time": "2021-07-09T16:20:01.545Z"
   },
   {
    "duration": 35,
    "start_time": "2021-07-09T16:20:01.563Z"
   },
   {
    "duration": 42,
    "start_time": "2021-07-09T16:20:01.601Z"
   },
   {
    "duration": 17,
    "start_time": "2021-07-09T16:20:01.652Z"
   },
   {
    "duration": 22,
    "start_time": "2021-07-09T16:20:01.671Z"
   },
   {
    "duration": 36,
    "start_time": "2021-07-09T16:20:01.696Z"
   },
   {
    "duration": 11,
    "start_time": "2021-07-09T16:20:01.735Z"
   },
   {
    "duration": 16,
    "start_time": "2021-07-09T16:20:01.749Z"
   },
   {
    "duration": 34,
    "start_time": "2021-07-09T16:20:01.768Z"
   },
   {
    "duration": 50,
    "start_time": "2021-07-09T16:20:01.805Z"
   },
   {
    "duration": 71,
    "start_time": "2021-07-09T16:20:01.858Z"
   },
   {
    "duration": 9,
    "start_time": "2021-07-09T16:20:01.935Z"
   },
   {
    "duration": 48,
    "start_time": "2021-07-09T16:20:01.947Z"
   },
   {
    "duration": 3530,
    "start_time": "2021-07-09T16:20:01.998Z"
   },
   {
    "duration": 21,
    "start_time": "2021-07-09T16:20:05.531Z"
   },
   {
    "duration": 38,
    "start_time": "2021-07-09T16:20:05.554Z"
   },
   {
    "duration": 38,
    "start_time": "2021-07-09T16:20:05.595Z"
   },
   {
    "duration": 31,
    "start_time": "2021-07-09T16:20:05.636Z"
   },
   {
    "duration": 28,
    "start_time": "2021-07-09T16:20:05.669Z"
   },
   {
    "duration": 27,
    "start_time": "2021-07-09T16:20:05.699Z"
   },
   {
    "duration": 29,
    "start_time": "2021-07-09T16:20:05.729Z"
   },
   {
    "duration": 24,
    "start_time": "2021-07-09T16:20:05.761Z"
   },
   {
    "duration": 11064,
    "start_time": "2021-07-09T16:20:05.787Z"
   },
   {
    "duration": 27,
    "start_time": "2021-07-09T16:20:16.854Z"
   },
   {
    "duration": 803,
    "start_time": "2021-07-09T16:20:16.883Z"
   },
   {
    "duration": 54,
    "start_time": "2021-07-09T16:20:17.689Z"
   },
   {
    "duration": 12,
    "start_time": "2021-07-09T16:20:17.746Z"
   },
   {
    "duration": 30,
    "start_time": "2021-07-09T16:20:17.760Z"
   },
   {
    "duration": 37,
    "start_time": "2021-07-09T16:20:17.792Z"
   },
   {
    "duration": 26,
    "start_time": "2021-07-09T16:20:17.837Z"
   },
   {
    "duration": 12,
    "start_time": "2021-07-09T16:20:17.865Z"
   },
   {
    "duration": 143,
    "start_time": "2021-07-09T16:21:08.900Z"
   },
   {
    "duration": 106,
    "start_time": "2021-07-09T16:21:18.640Z"
   },
   {
    "duration": 8,
    "start_time": "2021-07-09T16:21:33.220Z"
   },
   {
    "duration": 7,
    "start_time": "2021-07-09T16:22:39.870Z"
   },
   {
    "duration": 852,
    "start_time": "2021-07-09T16:28:03.927Z"
   },
   {
    "duration": 71,
    "start_time": "2021-07-09T16:28:04.782Z"
   },
   {
    "duration": 19,
    "start_time": "2021-07-09T16:28:04.857Z"
   },
   {
    "duration": 49,
    "start_time": "2021-07-09T16:28:04.879Z"
   },
   {
    "duration": 48,
    "start_time": "2021-07-09T16:28:04.931Z"
   },
   {
    "duration": 40,
    "start_time": "2021-07-09T16:28:04.982Z"
   },
   {
    "duration": 9,
    "start_time": "2021-07-09T16:28:05.025Z"
   },
   {
    "duration": 16,
    "start_time": "2021-07-09T16:28:05.038Z"
   },
   {
    "duration": 8,
    "start_time": "2021-07-09T16:28:05.057Z"
   },
   {
    "duration": 53,
    "start_time": "2021-07-09T16:28:05.068Z"
   },
   {
    "duration": 21,
    "start_time": "2021-07-09T16:28:05.125Z"
   },
   {
    "duration": 17,
    "start_time": "2021-07-09T16:28:05.149Z"
   },
   {
    "duration": 53,
    "start_time": "2021-07-09T16:28:05.169Z"
   },
   {
    "duration": 11,
    "start_time": "2021-07-09T16:28:05.226Z"
   },
   {
    "duration": 92,
    "start_time": "2021-07-09T16:28:05.240Z"
   },
   {
    "duration": 60,
    "start_time": "2021-07-09T16:28:05.334Z"
   },
   {
    "duration": 18,
    "start_time": "2021-07-09T16:28:05.409Z"
   },
   {
    "duration": 13,
    "start_time": "2021-07-09T16:28:05.429Z"
   },
   {
    "duration": 19,
    "start_time": "2021-07-09T16:28:05.445Z"
   },
   {
    "duration": 5,
    "start_time": "2021-07-09T16:28:05.467Z"
   },
   {
    "duration": 37,
    "start_time": "2021-07-09T16:28:05.474Z"
   },
   {
    "duration": 15,
    "start_time": "2021-07-09T16:28:05.513Z"
   },
   {
    "duration": 7,
    "start_time": "2021-07-09T16:28:05.534Z"
   },
   {
    "duration": 14,
    "start_time": "2021-07-09T16:28:05.546Z"
   },
   {
    "duration": 50,
    "start_time": "2021-07-09T16:28:05.563Z"
   },
   {
    "duration": 8,
    "start_time": "2021-07-09T16:28:05.615Z"
   },
   {
    "duration": 18,
    "start_time": "2021-07-09T16:28:05.625Z"
   },
   {
    "duration": 13,
    "start_time": "2021-07-09T16:28:05.646Z"
   },
   {
    "duration": 14,
    "start_time": "2021-07-09T16:28:05.661Z"
   },
   {
    "duration": 98,
    "start_time": "2021-07-09T16:28:05.677Z"
   },
   {
    "duration": 7,
    "start_time": "2021-07-09T16:28:05.777Z"
   },
   {
    "duration": 27,
    "start_time": "2021-07-09T16:28:05.786Z"
   },
   {
    "duration": 21,
    "start_time": "2021-07-09T16:28:05.815Z"
   },
   {
    "duration": 20,
    "start_time": "2021-07-09T16:28:05.838Z"
   },
   {
    "duration": 7,
    "start_time": "2021-07-09T16:28:05.861Z"
   },
   {
    "duration": 45,
    "start_time": "2021-07-09T16:28:05.870Z"
   },
   {
    "duration": 12,
    "start_time": "2021-07-09T16:28:05.917Z"
   },
   {
    "duration": 29,
    "start_time": "2021-07-09T16:28:05.933Z"
   },
   {
    "duration": 23,
    "start_time": "2021-07-09T16:28:05.965Z"
   },
   {
    "duration": 6,
    "start_time": "2021-07-09T16:28:06.013Z"
   },
   {
    "duration": 12,
    "start_time": "2021-07-09T16:28:06.022Z"
   },
   {
    "duration": 18,
    "start_time": "2021-07-09T16:28:06.037Z"
   },
   {
    "duration": 12,
    "start_time": "2021-07-09T16:28:06.057Z"
   },
   {
    "duration": 12,
    "start_time": "2021-07-09T16:28:06.109Z"
   },
   {
    "duration": 14,
    "start_time": "2021-07-09T16:28:06.125Z"
   },
   {
    "duration": 15,
    "start_time": "2021-07-09T16:28:06.142Z"
   },
   {
    "duration": 23,
    "start_time": "2021-07-09T16:28:06.159Z"
   },
   {
    "duration": 24,
    "start_time": "2021-07-09T16:28:06.185Z"
   },
   {
    "duration": 25,
    "start_time": "2021-07-09T16:28:06.211Z"
   },
   {
    "duration": 71,
    "start_time": "2021-07-09T16:28:06.238Z"
   },
   {
    "duration": 11,
    "start_time": "2021-07-09T16:28:06.311Z"
   },
   {
    "duration": 7,
    "start_time": "2021-07-09T16:28:06.326Z"
   },
   {
    "duration": 3625,
    "start_time": "2021-07-09T16:28:06.336Z"
   },
   {
    "duration": 22,
    "start_time": "2021-07-09T16:28:09.964Z"
   },
   {
    "duration": 22,
    "start_time": "2021-07-09T16:28:09.989Z"
   },
   {
    "duration": 20,
    "start_time": "2021-07-09T16:28:10.014Z"
   },
   {
    "duration": 28,
    "start_time": "2021-07-09T16:28:10.036Z"
   },
   {
    "duration": 53,
    "start_time": "2021-07-09T16:28:10.067Z"
   },
   {
    "duration": 9,
    "start_time": "2021-07-09T16:28:10.123Z"
   },
   {
    "duration": 4,
    "start_time": "2021-07-09T16:28:10.135Z"
   },
   {
    "duration": 10,
    "start_time": "2021-07-09T16:28:10.141Z"
   },
   {
    "duration": 10730,
    "start_time": "2021-07-09T16:28:10.153Z"
   },
   {
    "duration": 40,
    "start_time": "2021-07-09T16:28:20.886Z"
   },
   {
    "duration": 808,
    "start_time": "2021-07-09T16:28:20.930Z"
   },
   {
    "duration": 33,
    "start_time": "2021-07-09T16:28:21.741Z"
   },
   {
    "duration": 12,
    "start_time": "2021-07-09T16:28:21.777Z"
   },
   {
    "duration": 32,
    "start_time": "2021-07-09T16:28:21.809Z"
   },
   {
    "duration": 12,
    "start_time": "2021-07-09T16:28:21.848Z"
   },
   {
    "duration": 59,
    "start_time": "2021-07-09T16:28:21.863Z"
   },
   {
    "duration": 11,
    "start_time": "2021-07-09T16:28:21.924Z"
   },
   {
    "duration": 148,
    "start_time": "2021-07-09T20:17:09.522Z"
   },
   {
    "duration": 118,
    "start_time": "2021-07-09T20:17:14.550Z"
   },
   {
    "duration": 9,
    "start_time": "2021-07-09T20:24:30.989Z"
   },
   {
    "duration": 110,
    "start_time": "2021-07-09T20:25:25.022Z"
   },
   {
    "duration": 6,
    "start_time": "2021-07-09T20:25:33.080Z"
   },
   {
    "duration": 14,
    "start_time": "2021-07-09T20:25:47.707Z"
   },
   {
    "duration": 9,
    "start_time": "2021-07-09T20:26:55.371Z"
   },
   {
    "duration": 9,
    "start_time": "2021-07-09T20:27:51.161Z"
   },
   {
    "duration": 12,
    "start_time": "2021-07-09T20:28:18.620Z"
   },
   {
    "duration": 9,
    "start_time": "2021-07-09T20:28:19.401Z"
   },
   {
    "duration": 9,
    "start_time": "2021-07-09T20:30:02.288Z"
   },
   {
    "duration": 469,
    "start_time": "2021-07-09T20:31:56.962Z"
   },
   {
    "duration": 15,
    "start_time": "2021-07-09T20:32:06.771Z"
   },
   {
    "duration": 906,
    "start_time": "2021-07-09T20:32:16.602Z"
   },
   {
    "duration": 67,
    "start_time": "2021-07-09T20:32:17.513Z"
   },
   {
    "duration": 15,
    "start_time": "2021-07-09T20:32:17.583Z"
   },
   {
    "duration": 39,
    "start_time": "2021-07-09T20:32:17.601Z"
   },
   {
    "duration": 73,
    "start_time": "2021-07-09T20:32:17.643Z"
   },
   {
    "duration": 11,
    "start_time": "2021-07-09T20:32:17.719Z"
   },
   {
    "duration": 11,
    "start_time": "2021-07-09T20:32:17.732Z"
   },
   {
    "duration": 25,
    "start_time": "2021-07-09T20:32:17.747Z"
   },
   {
    "duration": 7,
    "start_time": "2021-07-09T20:32:17.775Z"
   },
   {
    "duration": 30,
    "start_time": "2021-07-09T20:32:17.785Z"
   },
   {
    "duration": 19,
    "start_time": "2021-07-09T20:32:17.818Z"
   },
   {
    "duration": 11,
    "start_time": "2021-07-09T20:32:17.839Z"
   },
   {
    "duration": 56,
    "start_time": "2021-07-09T20:32:17.853Z"
   },
   {
    "duration": 17,
    "start_time": "2021-07-09T20:32:17.913Z"
   },
   {
    "duration": 12,
    "start_time": "2021-07-09T20:32:17.932Z"
   },
   {
    "duration": 22,
    "start_time": "2021-07-09T20:32:17.946Z"
   },
   {
    "duration": 93,
    "start_time": "2021-07-09T20:32:17.971Z"
   },
   {
    "duration": 73,
    "start_time": "2021-07-09T20:32:18.067Z"
   },
   {
    "duration": 14,
    "start_time": "2021-07-09T20:32:18.142Z"
   },
   {
    "duration": 13,
    "start_time": "2021-07-09T20:32:18.158Z"
   },
   {
    "duration": 7,
    "start_time": "2021-07-09T20:32:18.174Z"
   },
   {
    "duration": 7,
    "start_time": "2021-07-09T20:32:18.209Z"
   },
   {
    "duration": 6,
    "start_time": "2021-07-09T20:32:18.226Z"
   },
   {
    "duration": 11,
    "start_time": "2021-07-09T20:32:18.236Z"
   },
   {
    "duration": 12,
    "start_time": "2021-07-09T20:32:18.249Z"
   },
   {
    "duration": 54,
    "start_time": "2021-07-09T20:32:18.264Z"
   },
   {
    "duration": 9,
    "start_time": "2021-07-09T20:32:18.321Z"
   },
   {
    "duration": 7,
    "start_time": "2021-07-09T20:32:18.333Z"
   },
   {
    "duration": 10,
    "start_time": "2021-07-09T20:32:18.342Z"
   },
   {
    "duration": 55,
    "start_time": "2021-07-09T20:32:18.354Z"
   },
   {
    "duration": 14,
    "start_time": "2021-07-09T20:32:18.414Z"
   },
   {
    "duration": 79,
    "start_time": "2021-07-09T20:32:18.431Z"
   },
   {
    "duration": 9,
    "start_time": "2021-07-09T20:32:18.513Z"
   },
   {
    "duration": 9,
    "start_time": "2021-07-09T20:32:18.525Z"
   },
   {
    "duration": 7,
    "start_time": "2021-07-09T20:32:18.537Z"
   },
   {
    "duration": 17,
    "start_time": "2021-07-09T20:32:18.547Z"
   },
   {
    "duration": 59,
    "start_time": "2021-07-09T20:32:18.566Z"
   },
   {
    "duration": 5,
    "start_time": "2021-07-09T20:32:18.628Z"
   },
   {
    "duration": 10,
    "start_time": "2021-07-09T20:32:18.636Z"
   },
   {
    "duration": 26,
    "start_time": "2021-07-09T20:32:18.649Z"
   },
   {
    "duration": 38,
    "start_time": "2021-07-09T20:32:18.677Z"
   },
   {
    "duration": 9,
    "start_time": "2021-07-09T20:32:18.719Z"
   },
   {
    "duration": 12,
    "start_time": "2021-07-09T20:32:18.731Z"
   },
   {
    "duration": 21,
    "start_time": "2021-07-09T20:32:18.745Z"
   },
   {
    "duration": 41,
    "start_time": "2021-07-09T20:32:18.768Z"
   },
   {
    "duration": 16,
    "start_time": "2021-07-09T20:32:18.812Z"
   },
   {
    "duration": 12,
    "start_time": "2021-07-09T20:32:18.830Z"
   },
   {
    "duration": 6,
    "start_time": "2021-07-09T20:32:18.845Z"
   },
   {
    "duration": 6,
    "start_time": "2021-07-09T20:32:18.854Z"
   },
   {
    "duration": 48,
    "start_time": "2021-07-09T20:32:18.863Z"
   },
   {
    "duration": 27,
    "start_time": "2021-07-09T20:32:18.915Z"
   },
   {
    "duration": 78,
    "start_time": "2021-07-09T20:32:18.944Z"
   },
   {
    "duration": 10,
    "start_time": "2021-07-09T20:32:19.025Z"
   },
   {
    "duration": 7,
    "start_time": "2021-07-09T20:32:19.038Z"
   },
   {
    "duration": 4000,
    "start_time": "2021-07-09T20:32:19.047Z"
   },
   {
    "duration": 20,
    "start_time": "2021-07-09T20:32:23.050Z"
   },
   {
    "duration": 15,
    "start_time": "2021-07-09T20:32:23.073Z"
   },
   {
    "duration": 32,
    "start_time": "2021-07-09T20:32:23.090Z"
   },
   {
    "duration": 22,
    "start_time": "2021-07-09T20:32:23.125Z"
   },
   {
    "duration": 20,
    "start_time": "2021-07-09T20:32:23.149Z"
   },
   {
    "duration": 46,
    "start_time": "2021-07-09T20:32:23.172Z"
   },
   {
    "duration": 5,
    "start_time": "2021-07-09T20:32:23.221Z"
   },
   {
    "duration": 12,
    "start_time": "2021-07-09T20:32:23.229Z"
   },
   {
    "duration": 11027,
    "start_time": "2021-07-09T20:32:23.243Z"
   },
   {
    "duration": 42,
    "start_time": "2021-07-09T20:32:34.272Z"
   },
   {
    "duration": 920,
    "start_time": "2021-07-09T20:32:34.317Z"
   },
   {
    "duration": 34,
    "start_time": "2021-07-09T20:32:35.240Z"
   },
   {
    "duration": 12,
    "start_time": "2021-07-09T20:32:35.282Z"
   },
   {
    "duration": 35,
    "start_time": "2021-07-09T20:32:35.312Z"
   },
   {
    "duration": 15,
    "start_time": "2021-07-09T20:32:35.350Z"
   },
   {
    "duration": 66,
    "start_time": "2021-07-09T20:32:35.368Z"
   },
   {
    "duration": 15,
    "start_time": "2021-07-09T20:32:35.437Z"
   },
   {
    "duration": 22,
    "start_time": "2021-07-09T20:38:51.210Z"
   },
   {
    "duration": 815,
    "start_time": "2021-07-09T20:39:00.442Z"
   },
   {
    "duration": 63,
    "start_time": "2021-07-09T20:39:01.260Z"
   },
   {
    "duration": 15,
    "start_time": "2021-07-09T20:39:01.326Z"
   },
   {
    "duration": 40,
    "start_time": "2021-07-09T20:39:01.344Z"
   },
   {
    "duration": 61,
    "start_time": "2021-07-09T20:39:01.386Z"
   },
   {
    "duration": 9,
    "start_time": "2021-07-09T20:39:01.449Z"
   },
   {
    "duration": 47,
    "start_time": "2021-07-09T20:39:01.460Z"
   },
   {
    "duration": 23,
    "start_time": "2021-07-09T20:39:01.509Z"
   },
   {
    "duration": 22,
    "start_time": "2021-07-09T20:39:01.535Z"
   },
   {
    "duration": 21,
    "start_time": "2021-07-09T20:39:01.561Z"
   },
   {
    "duration": 33,
    "start_time": "2021-07-09T20:39:01.586Z"
   },
   {
    "duration": 21,
    "start_time": "2021-07-09T20:39:01.622Z"
   },
   {
    "duration": 16,
    "start_time": "2021-07-09T20:39:01.646Z"
   },
   {
    "duration": 31,
    "start_time": "2021-07-09T20:39:01.665Z"
   },
   {
    "duration": 40,
    "start_time": "2021-07-09T20:39:01.699Z"
   },
   {
    "duration": 72,
    "start_time": "2021-07-09T20:39:01.741Z"
   },
   {
    "duration": 60,
    "start_time": "2021-07-09T20:39:01.816Z"
   },
   {
    "duration": 13,
    "start_time": "2021-07-09T20:39:01.878Z"
   },
   {
    "duration": 22,
    "start_time": "2021-07-09T20:39:01.893Z"
   },
   {
    "duration": 16,
    "start_time": "2021-07-09T20:39:01.917Z"
   },
   {
    "duration": 12,
    "start_time": "2021-07-09T20:39:01.935Z"
   },
   {
    "duration": 21,
    "start_time": "2021-07-09T20:39:01.949Z"
   },
   {
    "duration": 60,
    "start_time": "2021-07-09T20:39:01.972Z"
   },
   {
    "duration": 33,
    "start_time": "2021-07-09T20:39:02.034Z"
   },
   {
    "duration": 42,
    "start_time": "2021-07-09T20:39:02.070Z"
   },
   {
    "duration": 22,
    "start_time": "2021-07-09T20:39:02.115Z"
   },
   {
    "duration": 10,
    "start_time": "2021-07-09T20:39:02.143Z"
   },
   {
    "duration": 27,
    "start_time": "2021-07-09T20:39:02.157Z"
   },
   {
    "duration": 11,
    "start_time": "2021-07-09T20:39:02.187Z"
   },
   {
    "duration": 13,
    "start_time": "2021-07-09T20:39:02.201Z"
   },
   {
    "duration": 71,
    "start_time": "2021-07-09T20:39:02.217Z"
   },
   {
    "duration": 22,
    "start_time": "2021-07-09T20:39:02.290Z"
   },
   {
    "duration": 21,
    "start_time": "2021-07-09T20:39:02.314Z"
   },
   {
    "duration": 16,
    "start_time": "2021-07-09T20:39:02.337Z"
   },
   {
    "duration": 21,
    "start_time": "2021-07-09T20:39:02.355Z"
   },
   {
    "duration": 37,
    "start_time": "2021-07-09T20:39:02.378Z"
   },
   {
    "duration": 15,
    "start_time": "2021-07-09T20:39:02.418Z"
   },
   {
    "duration": 22,
    "start_time": "2021-07-09T20:39:02.435Z"
   },
   {
    "duration": 24,
    "start_time": "2021-07-09T20:39:02.460Z"
   },
   {
    "duration": 23,
    "start_time": "2021-07-09T20:39:02.486Z"
   },
   {
    "duration": 9,
    "start_time": "2021-07-09T20:39:02.511Z"
   },
   {
    "duration": 24,
    "start_time": "2021-07-09T20:39:02.522Z"
   },
   {
    "duration": 28,
    "start_time": "2021-07-09T20:39:02.549Z"
   },
   {
    "duration": 11,
    "start_time": "2021-07-09T20:39:02.579Z"
   },
   {
    "duration": 31,
    "start_time": "2021-07-09T20:39:02.592Z"
   },
   {
    "duration": 17,
    "start_time": "2021-07-09T20:39:02.626Z"
   },
   {
    "duration": 49,
    "start_time": "2021-07-09T20:39:02.646Z"
   },
   {
    "duration": 15,
    "start_time": "2021-07-09T20:39:02.697Z"
   },
   {
    "duration": 21,
    "start_time": "2021-07-09T20:39:02.714Z"
   },
   {
    "duration": 24,
    "start_time": "2021-07-09T20:39:02.737Z"
   },
   {
    "duration": 72,
    "start_time": "2021-07-09T20:39:02.764Z"
   },
   {
    "duration": 11,
    "start_time": "2021-07-09T20:39:02.839Z"
   },
   {
    "duration": 9,
    "start_time": "2021-07-09T20:39:02.852Z"
   },
   {
    "duration": 3913,
    "start_time": "2021-07-09T20:39:02.864Z"
   },
   {
    "duration": 20,
    "start_time": "2021-07-09T20:39:06.779Z"
   },
   {
    "duration": 6,
    "start_time": "2021-07-09T20:39:06.809Z"
   },
   {
    "duration": 28,
    "start_time": "2021-07-09T20:39:06.817Z"
   },
   {
    "duration": 26,
    "start_time": "2021-07-09T20:39:06.848Z"
   },
   {
    "duration": 40,
    "start_time": "2021-07-09T20:39:06.876Z"
   },
   {
    "duration": 11,
    "start_time": "2021-07-09T20:39:06.919Z"
   },
   {
    "duration": 8,
    "start_time": "2021-07-09T20:39:06.932Z"
   },
   {
    "duration": 12,
    "start_time": "2021-07-09T20:39:06.942Z"
   },
   {
    "duration": 11337,
    "start_time": "2021-07-09T20:39:06.956Z"
   },
   {
    "duration": 33,
    "start_time": "2021-07-09T20:39:18.295Z"
   },
   {
    "duration": 779,
    "start_time": "2021-07-09T20:39:18.330Z"
   },
   {
    "duration": 47,
    "start_time": "2021-07-09T20:39:19.112Z"
   },
   {
    "duration": 12,
    "start_time": "2021-07-09T20:39:19.162Z"
   },
   {
    "duration": 54,
    "start_time": "2021-07-09T20:39:19.176Z"
   },
   {
    "duration": 14,
    "start_time": "2021-07-09T20:39:19.232Z"
   },
   {
    "duration": 29,
    "start_time": "2021-07-09T20:39:19.250Z"
   },
   {
    "duration": 40,
    "start_time": "2021-07-09T20:39:19.281Z"
   },
   {
    "duration": 9,
    "start_time": "2021-07-09T21:58:44.341Z"
   },
   {
    "duration": 4,
    "start_time": "2021-07-09T22:00:26.751Z"
   },
   {
    "duration": 72,
    "start_time": "2021-07-09T22:00:26.757Z"
   },
   {
    "duration": 15,
    "start_time": "2021-07-09T22:00:26.833Z"
   },
   {
    "duration": 20,
    "start_time": "2021-07-09T22:00:26.850Z"
   },
   {
    "duration": 64,
    "start_time": "2021-07-09T22:00:26.873Z"
   },
   {
    "duration": 7,
    "start_time": "2021-07-09T22:00:26.940Z"
   },
   {
    "duration": 7,
    "start_time": "2021-07-09T22:00:26.950Z"
   },
   {
    "duration": 7,
    "start_time": "2021-07-09T22:00:26.960Z"
   },
   {
    "duration": 9,
    "start_time": "2021-07-09T22:00:33.411Z"
   },
   {
    "duration": 7,
    "start_time": "2021-07-09T22:00:45.031Z"
   },
   {
    "duration": 4,
    "start_time": "2021-07-09T22:00:51.742Z"
   },
   {
    "duration": 67,
    "start_time": "2021-07-09T22:00:51.749Z"
   },
   {
    "duration": 13,
    "start_time": "2021-07-09T22:00:51.819Z"
   },
   {
    "duration": 19,
    "start_time": "2021-07-09T22:00:51.835Z"
   },
   {
    "duration": 73,
    "start_time": "2021-07-09T22:00:51.856Z"
   },
   {
    "duration": 7,
    "start_time": "2021-07-09T22:00:51.931Z"
   },
   {
    "duration": 11,
    "start_time": "2021-07-09T22:00:51.940Z"
   },
   {
    "duration": 10,
    "start_time": "2021-07-09T22:00:51.954Z"
   },
   {
    "duration": 7,
    "start_time": "2021-07-09T22:00:51.967Z"
   },
   {
    "duration": 8,
    "start_time": "2021-07-09T22:00:57.841Z"
   },
   {
    "duration": 865,
    "start_time": "2021-07-09T22:13:07.019Z"
   },
   {
    "duration": 65,
    "start_time": "2021-07-09T22:13:07.886Z"
   },
   {
    "duration": 15,
    "start_time": "2021-07-09T22:13:07.954Z"
   },
   {
    "duration": 49,
    "start_time": "2021-07-09T22:13:07.972Z"
   },
   {
    "duration": 57,
    "start_time": "2021-07-09T22:13:08.024Z"
   },
   {
    "duration": 34,
    "start_time": "2021-07-09T22:13:08.085Z"
   },
   {
    "duration": 26,
    "start_time": "2021-07-09T22:13:08.122Z"
   },
   {
    "duration": 71,
    "start_time": "2021-07-09T22:13:08.153Z"
   },
   {
    "duration": 13,
    "start_time": "2021-07-09T22:13:08.227Z"
   },
   {
    "duration": 29,
    "start_time": "2021-07-09T22:13:08.243Z"
   },
   {
    "duration": 23,
    "start_time": "2021-07-09T22:13:08.274Z"
   },
   {
    "duration": 9,
    "start_time": "2021-07-09T22:13:08.300Z"
   },
   {
    "duration": 29,
    "start_time": "2021-07-09T22:13:08.311Z"
   },
   {
    "duration": 14,
    "start_time": "2021-07-09T22:13:08.343Z"
   },
   {
    "duration": 19,
    "start_time": "2021-07-09T22:13:08.360Z"
   },
   {
    "duration": 76,
    "start_time": "2021-07-09T22:13:08.381Z"
   },
   {
    "duration": 72,
    "start_time": "2021-07-09T22:13:08.459Z"
   },
   {
    "duration": 13,
    "start_time": "2021-07-09T22:13:08.534Z"
   },
   {
    "duration": 9,
    "start_time": "2021-07-09T22:13:08.549Z"
   },
   {
    "duration": 18,
    "start_time": "2021-07-09T22:13:08.561Z"
   },
   {
    "duration": 46,
    "start_time": "2021-07-09T22:13:08.581Z"
   },
   {
    "duration": 27,
    "start_time": "2021-07-09T22:13:08.630Z"
   },
   {
    "duration": 9,
    "start_time": "2021-07-09T22:13:08.665Z"
   },
   {
    "duration": 15,
    "start_time": "2021-07-09T22:13:08.678Z"
   },
   {
    "duration": 22,
    "start_time": "2021-07-09T22:13:08.695Z"
   },
   {
    "duration": 10,
    "start_time": "2021-07-09T22:13:08.720Z"
   },
   {
    "duration": 14,
    "start_time": "2021-07-09T22:13:08.733Z"
   },
   {
    "duration": 14,
    "start_time": "2021-07-09T22:13:08.750Z"
   },
   {
    "duration": 13,
    "start_time": "2021-07-09T22:13:08.767Z"
   },
   {
    "duration": 10,
    "start_time": "2021-07-09T22:13:08.810Z"
   },
   {
    "duration": 87,
    "start_time": "2021-07-09T22:13:08.823Z"
   },
   {
    "duration": 8,
    "start_time": "2021-07-09T22:13:08.913Z"
   },
   {
    "duration": 11,
    "start_time": "2021-07-09T22:13:08.924Z"
   },
   {
    "duration": 18,
    "start_time": "2021-07-09T22:13:08.938Z"
   },
   {
    "duration": 21,
    "start_time": "2021-07-09T22:13:08.959Z"
   },
   {
    "duration": 36,
    "start_time": "2021-07-09T22:13:08.983Z"
   },
   {
    "duration": 23,
    "start_time": "2021-07-09T22:13:09.022Z"
   },
   {
    "duration": 26,
    "start_time": "2021-07-09T22:13:09.048Z"
   },
   {
    "duration": 24,
    "start_time": "2021-07-09T22:13:09.076Z"
   },
   {
    "duration": 15,
    "start_time": "2021-07-09T22:13:09.102Z"
   },
   {
    "duration": 9,
    "start_time": "2021-07-09T22:13:09.119Z"
   },
   {
    "duration": 12,
    "start_time": "2021-07-09T22:13:09.130Z"
   },
   {
    "duration": 24,
    "start_time": "2021-07-09T22:13:09.144Z"
   },
   {
    "duration": 40,
    "start_time": "2021-07-09T22:13:09.171Z"
   },
   {
    "duration": 9,
    "start_time": "2021-07-09T22:13:09.213Z"
   },
   {
    "duration": 30,
    "start_time": "2021-07-09T22:13:09.225Z"
   },
   {
    "duration": 11,
    "start_time": "2021-07-09T22:13:09.258Z"
   },
   {
    "duration": 9,
    "start_time": "2021-07-09T22:13:09.272Z"
   },
   {
    "duration": 21,
    "start_time": "2021-07-09T22:13:09.284Z"
   },
   {
    "duration": 34,
    "start_time": "2021-07-09T22:13:09.309Z"
   },
   {
    "duration": 48,
    "start_time": "2021-07-09T22:13:09.345Z"
   },
   {
    "duration": 22,
    "start_time": "2021-07-09T22:13:09.395Z"
   },
   {
    "duration": 9,
    "start_time": "2021-07-09T22:13:09.419Z"
   },
   {
    "duration": 3318,
    "start_time": "2021-07-09T22:13:09.430Z"
   },
   {
    "duration": 22,
    "start_time": "2021-07-09T22:13:12.751Z"
   },
   {
    "duration": 19,
    "start_time": "2021-07-09T22:13:12.775Z"
   },
   {
    "duration": 18,
    "start_time": "2021-07-09T22:13:12.808Z"
   },
   {
    "duration": 23,
    "start_time": "2021-07-09T22:13:12.829Z"
   },
   {
    "duration": 21,
    "start_time": "2021-07-09T22:13:12.855Z"
   },
   {
    "duration": 38,
    "start_time": "2021-07-09T22:13:12.879Z"
   },
   {
    "duration": 7,
    "start_time": "2021-07-09T22:13:12.919Z"
   },
   {
    "duration": 13,
    "start_time": "2021-07-09T22:13:12.929Z"
   },
   {
    "duration": 10858,
    "start_time": "2021-07-09T22:13:12.944Z"
   },
   {
    "duration": 28,
    "start_time": "2021-07-09T22:13:23.804Z"
   },
   {
    "duration": 763,
    "start_time": "2021-07-09T22:13:23.834Z"
   },
   {
    "duration": 38,
    "start_time": "2021-07-09T22:13:24.600Z"
   },
   {
    "duration": 28,
    "start_time": "2021-07-09T22:13:24.641Z"
   },
   {
    "duration": 41,
    "start_time": "2021-07-09T22:13:24.677Z"
   },
   {
    "duration": 13,
    "start_time": "2021-07-09T22:13:24.720Z"
   },
   {
    "duration": 42,
    "start_time": "2021-07-09T22:13:24.735Z"
   },
   {
    "duration": 11,
    "start_time": "2021-07-09T22:13:24.780Z"
   },
   {
    "duration": 869,
    "start_time": "2021-07-09T22:17:43.894Z"
   },
   {
    "duration": 65,
    "start_time": "2021-07-09T22:17:44.766Z"
   },
   {
    "duration": 15,
    "start_time": "2021-07-09T22:17:44.835Z"
   },
   {
    "duration": 37,
    "start_time": "2021-07-09T22:17:44.852Z"
   },
   {
    "duration": 58,
    "start_time": "2021-07-09T22:17:44.891Z"
   },
   {
    "duration": 8,
    "start_time": "2021-07-09T22:17:44.951Z"
   },
   {
    "duration": 14,
    "start_time": "2021-07-09T22:17:44.961Z"
   },
   {
    "duration": 33,
    "start_time": "2021-07-09T22:17:44.979Z"
   },
   {
    "duration": 18,
    "start_time": "2021-07-09T22:17:45.015Z"
   },
   {
    "duration": 27,
    "start_time": "2021-07-09T22:17:45.035Z"
   },
   {
    "duration": 17,
    "start_time": "2021-07-09T22:17:45.065Z"
   },
   {
    "duration": 19,
    "start_time": "2021-07-09T22:17:45.084Z"
   },
   {
    "duration": 33,
    "start_time": "2021-07-09T22:17:45.105Z"
   },
   {
    "duration": 27,
    "start_time": "2021-07-09T22:17:45.141Z"
   },
   {
    "duration": 11,
    "start_time": "2021-07-09T22:17:45.171Z"
   },
   {
    "duration": 87,
    "start_time": "2021-07-09T22:17:45.184Z"
   },
   {
    "duration": 61,
    "start_time": "2021-07-09T22:17:45.273Z"
   },
   {
    "duration": 12,
    "start_time": "2021-07-09T22:17:45.337Z"
   },
   {
    "duration": 15,
    "start_time": "2021-07-09T22:17:45.351Z"
   },
   {
    "duration": 8,
    "start_time": "2021-07-09T22:17:45.369Z"
   },
   {
    "duration": 32,
    "start_time": "2021-07-09T22:17:45.379Z"
   },
   {
    "duration": 7,
    "start_time": "2021-07-09T22:17:45.414Z"
   },
   {
    "duration": 7,
    "start_time": "2021-07-09T22:17:45.427Z"
   },
   {
    "duration": 15,
    "start_time": "2021-07-09T22:17:45.437Z"
   },
   {
    "duration": 55,
    "start_time": "2021-07-09T22:17:45.454Z"
   },
   {
    "duration": 8,
    "start_time": "2021-07-09T22:17:45.511Z"
   },
   {
    "duration": 6,
    "start_time": "2021-07-09T22:17:45.522Z"
   },
   {
    "duration": 8,
    "start_time": "2021-07-09T22:17:45.531Z"
   },
   {
    "duration": 7,
    "start_time": "2021-07-09T22:17:45.542Z"
   },
   {
    "duration": 9,
    "start_time": "2021-07-09T22:17:45.552Z"
   },
   {
    "duration": 63,
    "start_time": "2021-07-09T22:17:45.608Z"
   },
   {
    "duration": 7,
    "start_time": "2021-07-09T22:17:45.673Z"
   },
   {
    "duration": 28,
    "start_time": "2021-07-09T22:17:45.682Z"
   },
   {
    "duration": 12,
    "start_time": "2021-07-09T22:17:45.712Z"
   },
   {
    "duration": 16,
    "start_time": "2021-07-09T22:17:45.727Z"
   },
   {
    "duration": 10,
    "start_time": "2021-07-09T22:17:45.746Z"
   },
   {
    "duration": 5,
    "start_time": "2021-07-09T22:17:45.758Z"
   },
   {
    "duration": 8,
    "start_time": "2021-07-09T22:17:45.766Z"
   },
   {
    "duration": 18,
    "start_time": "2021-07-09T22:17:45.810Z"
   },
   {
    "duration": 14,
    "start_time": "2021-07-09T22:17:45.830Z"
   },
   {
    "duration": 9,
    "start_time": "2021-07-09T22:17:45.847Z"
   },
   {
    "duration": 14,
    "start_time": "2021-07-09T22:17:45.858Z"
   },
   {
    "duration": 47,
    "start_time": "2021-07-09T22:17:45.874Z"
   },
   {
    "duration": 13,
    "start_time": "2021-07-09T22:17:45.923Z"
   },
   {
    "duration": 11,
    "start_time": "2021-07-09T22:17:45.938Z"
   },
   {
    "duration": 9,
    "start_time": "2021-07-09T22:17:45.952Z"
   },
   {
    "duration": 8,
    "start_time": "2021-07-09T22:17:45.963Z"
   },
   {
    "duration": 38,
    "start_time": "2021-07-09T22:17:45.973Z"
   },
   {
    "duration": 14,
    "start_time": "2021-07-09T22:17:46.013Z"
   },
   {
    "duration": 24,
    "start_time": "2021-07-09T22:17:46.030Z"
   },
   {
    "duration": 81,
    "start_time": "2021-07-09T22:17:46.056Z"
   },
   {
    "duration": 8,
    "start_time": "2021-07-09T22:17:46.140Z"
   },
   {
    "duration": 7,
    "start_time": "2021-07-09T22:17:46.151Z"
   },
   {
    "duration": 3436,
    "start_time": "2021-07-09T22:17:46.160Z"
   },
   {
    "duration": 21,
    "start_time": "2021-07-09T22:17:49.599Z"
   },
   {
    "duration": 14,
    "start_time": "2021-07-09T22:17:49.623Z"
   },
   {
    "duration": 21,
    "start_time": "2021-07-09T22:17:49.639Z"
   },
   {
    "duration": 22,
    "start_time": "2021-07-09T22:17:49.663Z"
   },
   {
    "duration": 42,
    "start_time": "2021-07-09T22:17:49.687Z"
   },
   {
    "duration": 25,
    "start_time": "2021-07-09T22:17:49.731Z"
   },
   {
    "duration": 6,
    "start_time": "2021-07-09T22:17:49.759Z"
   },
   {
    "duration": 8,
    "start_time": "2021-07-09T22:17:49.767Z"
   },
   {
    "duration": 10193,
    "start_time": "2021-07-09T22:17:49.778Z"
   },
   {
    "duration": 28,
    "start_time": "2021-07-09T22:17:59.973Z"
   },
   {
    "duration": 1048,
    "start_time": "2021-07-09T22:18:00.009Z"
   },
   {
    "duration": 50,
    "start_time": "2021-07-09T22:18:01.059Z"
   },
   {
    "duration": 12,
    "start_time": "2021-07-09T22:18:01.112Z"
   },
   {
    "duration": 83,
    "start_time": "2021-07-09T22:18:01.132Z"
   },
   {
    "duration": 13,
    "start_time": "2021-07-09T22:18:01.218Z"
   },
   {
    "duration": 82,
    "start_time": "2021-07-09T22:18:01.233Z"
   },
   {
    "duration": 12,
    "start_time": "2021-07-09T22:18:01.318Z"
   },
   {
    "duration": 8,
    "start_time": "2021-07-09T22:18:56.852Z"
   },
   {
    "duration": 427,
    "start_time": "2021-07-09T22:21:05.110Z"
   },
   {
    "duration": 21,
    "start_time": "2021-07-09T22:21:20.600Z"
   },
   {
    "duration": 32,
    "start_time": "2021-07-09T22:21:55.090Z"
   },
   {
    "duration": 9,
    "start_time": "2021-07-09T22:58:13.471Z"
   },
   {
    "duration": 12,
    "start_time": "2021-07-09T22:58:14.732Z"
   },
   {
    "duration": 873,
    "start_time": "2021-07-09T22:58:24.563Z"
   },
   {
    "duration": 67,
    "start_time": "2021-07-09T22:58:25.439Z"
   },
   {
    "duration": 19,
    "start_time": "2021-07-09T22:58:25.510Z"
   },
   {
    "duration": 31,
    "start_time": "2021-07-09T22:58:25.532Z"
   },
   {
    "duration": 80,
    "start_time": "2021-07-09T22:58:25.566Z"
   },
   {
    "duration": 10,
    "start_time": "2021-07-09T22:58:25.650Z"
   },
   {
    "duration": 8,
    "start_time": "2021-07-09T22:58:25.664Z"
   },
   {
    "duration": 10,
    "start_time": "2021-07-09T22:58:25.713Z"
   },
   {
    "duration": 8,
    "start_time": "2021-07-09T22:58:25.726Z"
   },
   {
    "duration": 17,
    "start_time": "2021-07-09T22:58:25.736Z"
   },
   {
    "duration": 12,
    "start_time": "2021-07-09T22:58:25.755Z"
   },
   {
    "duration": 61,
    "start_time": "2021-07-09T22:58:25.770Z"
   },
   {
    "duration": 13,
    "start_time": "2021-07-09T22:58:25.833Z"
   },
   {
    "duration": 15,
    "start_time": "2021-07-09T22:58:25.848Z"
   },
   {
    "duration": 49,
    "start_time": "2021-07-09T22:58:25.865Z"
   },
   {
    "duration": 64,
    "start_time": "2021-07-09T22:58:25.917Z"
   },
   {
    "duration": 69,
    "start_time": "2021-07-09T22:58:25.984Z"
   },
   {
    "duration": 13,
    "start_time": "2021-07-09T22:58:26.055Z"
   },
   {
    "duration": 12,
    "start_time": "2021-07-09T22:58:26.070Z"
   },
   {
    "duration": 9,
    "start_time": "2021-07-09T22:58:26.109Z"
   },
   {
    "duration": 15,
    "start_time": "2021-07-09T22:58:26.120Z"
   },
   {
    "duration": 12,
    "start_time": "2021-07-09T22:58:26.138Z"
   },
   {
    "duration": 11,
    "start_time": "2021-07-09T22:58:26.156Z"
   },
   {
    "duration": 18,
    "start_time": "2021-07-09T22:58:26.171Z"
   },
   {
    "duration": 14,
    "start_time": "2021-07-09T22:58:26.208Z"
   },
   {
    "duration": 9,
    "start_time": "2021-07-09T22:58:26.224Z"
   },
   {
    "duration": 26,
    "start_time": "2021-07-09T22:58:26.236Z"
   },
   {
    "duration": 17,
    "start_time": "2021-07-09T22:58:26.265Z"
   },
   {
    "duration": 9,
    "start_time": "2021-07-09T22:58:26.313Z"
   },
   {
    "duration": 17,
    "start_time": "2021-07-09T22:58:26.326Z"
   },
   {
    "duration": 143,
    "start_time": "2021-07-09T22:58:26.347Z"
   },
   {
    "duration": 13,
    "start_time": "2021-07-09T22:58:26.499Z"
   },
   {
    "duration": 10,
    "start_time": "2021-07-09T22:58:26.516Z"
   },
   {
    "duration": 14,
    "start_time": "2021-07-09T22:58:26.529Z"
   },
   {
    "duration": 20,
    "start_time": "2021-07-09T22:58:26.546Z"
   },
   {
    "duration": 44,
    "start_time": "2021-07-09T22:58:26.568Z"
   },
   {
    "duration": 7,
    "start_time": "2021-07-09T22:58:26.615Z"
   },
   {
    "duration": 22,
    "start_time": "2021-07-09T22:58:26.625Z"
   },
   {
    "duration": 36,
    "start_time": "2021-07-09T22:58:26.650Z"
   },
   {
    "duration": 25,
    "start_time": "2021-07-09T22:58:26.688Z"
   },
   {
    "duration": 6,
    "start_time": "2021-07-09T22:58:26.717Z"
   },
   {
    "duration": 12,
    "start_time": "2021-07-09T22:58:26.726Z"
   },
   {
    "duration": 20,
    "start_time": "2021-07-09T22:58:26.741Z"
   },
   {
    "duration": 50,
    "start_time": "2021-07-09T22:58:26.764Z"
   },
   {
    "duration": 11,
    "start_time": "2021-07-09T22:58:26.817Z"
   },
   {
    "duration": 10,
    "start_time": "2021-07-09T22:58:26.831Z"
   },
   {
    "duration": 5,
    "start_time": "2021-07-09T22:58:26.844Z"
   },
   {
    "duration": 9,
    "start_time": "2021-07-09T22:58:26.851Z"
   },
   {
    "duration": 53,
    "start_time": "2021-07-09T22:58:26.862Z"
   },
   {
    "duration": 24,
    "start_time": "2021-07-09T22:58:26.918Z"
   },
   {
    "duration": 77,
    "start_time": "2021-07-09T22:58:26.945Z"
   },
   {
    "duration": 9,
    "start_time": "2021-07-09T22:58:27.024Z"
   },
   {
    "duration": 9,
    "start_time": "2021-07-09T22:58:27.036Z"
   },
   {
    "duration": 3421,
    "start_time": "2021-07-09T22:58:27.048Z"
   },
   {
    "duration": 20,
    "start_time": "2021-07-09T22:58:30.472Z"
   },
   {
    "duration": 14,
    "start_time": "2021-07-09T22:58:30.495Z"
   },
   {
    "duration": 29,
    "start_time": "2021-07-09T22:58:30.511Z"
   },
   {
    "duration": 30,
    "start_time": "2021-07-09T22:58:30.543Z"
   },
   {
    "duration": 35,
    "start_time": "2021-07-09T22:58:30.575Z"
   },
   {
    "duration": 11,
    "start_time": "2021-07-09T22:58:30.613Z"
   },
   {
    "duration": 18,
    "start_time": "2021-07-09T22:58:30.627Z"
   },
   {
    "duration": 25,
    "start_time": "2021-07-09T22:58:30.647Z"
   },
   {
    "duration": 10548,
    "start_time": "2021-07-09T22:58:30.675Z"
   },
   {
    "duration": 26,
    "start_time": "2021-07-09T22:58:41.226Z"
   },
   {
    "duration": 750,
    "start_time": "2021-07-09T22:58:41.255Z"
   },
   {
    "duration": 32,
    "start_time": "2021-07-09T22:58:42.008Z"
   },
   {
    "duration": 12,
    "start_time": "2021-07-09T22:58:42.043Z"
   },
   {
    "duration": 53,
    "start_time": "2021-07-09T22:58:42.063Z"
   },
   {
    "duration": 13,
    "start_time": "2021-07-09T22:58:42.119Z"
   },
   {
    "duration": 34,
    "start_time": "2021-07-09T22:58:42.135Z"
   },
   {
    "duration": 42,
    "start_time": "2021-07-09T22:58:42.172Z"
   },
   {
    "duration": 9,
    "start_time": "2021-07-09T23:04:25.105Z"
   },
   {
    "duration": 843,
    "start_time": "2021-07-09T23:04:49.575Z"
   },
   {
    "duration": 64,
    "start_time": "2021-07-09T23:04:50.421Z"
   },
   {
    "duration": 22,
    "start_time": "2021-07-09T23:04:50.488Z"
   },
   {
    "duration": 29,
    "start_time": "2021-07-09T23:04:50.513Z"
   },
   {
    "duration": 66,
    "start_time": "2021-07-09T23:04:50.545Z"
   },
   {
    "duration": 10,
    "start_time": "2021-07-09T23:04:50.613Z"
   },
   {
    "duration": 7,
    "start_time": "2021-07-09T23:04:50.626Z"
   },
   {
    "duration": 9,
    "start_time": "2021-07-09T23:04:50.637Z"
   },
   {
    "duration": 7,
    "start_time": "2021-07-09T23:04:50.650Z"
   },
   {
    "duration": 55,
    "start_time": "2021-07-09T23:04:50.660Z"
   },
   {
    "duration": 14,
    "start_time": "2021-07-09T23:04:50.717Z"
   },
   {
    "duration": 12,
    "start_time": "2021-07-09T23:04:50.734Z"
   },
   {
    "duration": 13,
    "start_time": "2021-07-09T23:04:50.748Z"
   },
   {
    "duration": 51,
    "start_time": "2021-07-09T23:04:50.764Z"
   },
   {
    "duration": 66,
    "start_time": "2021-07-09T23:04:50.817Z"
   },
   {
    "duration": 72,
    "start_time": "2021-07-09T23:04:50.885Z"
   },
   {
    "duration": 12,
    "start_time": "2021-07-09T23:04:50.960Z"
   },
   {
    "duration": 11,
    "start_time": "2021-07-09T23:04:50.974Z"
   },
   {
    "duration": 29,
    "start_time": "2021-07-09T23:04:50.987Z"
   },
   {
    "duration": 7,
    "start_time": "2021-07-09T23:04:51.018Z"
   },
   {
    "duration": 9,
    "start_time": "2021-07-09T23:04:51.027Z"
   },
   {
    "duration": 12,
    "start_time": "2021-07-09T23:04:51.038Z"
   },
   {
    "duration": 29,
    "start_time": "2021-07-09T23:04:51.056Z"
   },
   {
    "duration": 31,
    "start_time": "2021-07-09T23:04:51.089Z"
   },
   {
    "duration": 8,
    "start_time": "2021-07-09T23:04:51.122Z"
   },
   {
    "duration": 6,
    "start_time": "2021-07-09T23:04:51.132Z"
   },
   {
    "duration": 16,
    "start_time": "2021-07-09T23:04:51.140Z"
   },
   {
    "duration": 7,
    "start_time": "2021-07-09T23:04:51.159Z"
   },
   {
    "duration": 47,
    "start_time": "2021-07-09T23:04:51.168Z"
   },
   {
    "duration": 82,
    "start_time": "2021-07-09T23:04:51.217Z"
   },
   {
    "duration": 6,
    "start_time": "2021-07-09T23:04:51.301Z"
   },
   {
    "duration": 11,
    "start_time": "2021-07-09T23:04:51.310Z"
   },
   {
    "duration": 14,
    "start_time": "2021-07-09T23:04:51.324Z"
   },
   {
    "duration": 16,
    "start_time": "2021-07-09T23:04:51.341Z"
   },
   {
    "duration": 12,
    "start_time": "2021-07-09T23:04:51.360Z"
   },
   {
    "duration": 37,
    "start_time": "2021-07-09T23:04:51.374Z"
   },
   {
    "duration": 12,
    "start_time": "2021-07-09T23:04:51.413Z"
   },
   {
    "duration": 18,
    "start_time": "2021-07-09T23:04:51.428Z"
   },
   {
    "duration": 12,
    "start_time": "2021-07-09T23:04:51.448Z"
   },
   {
    "duration": 6,
    "start_time": "2021-07-09T23:04:51.463Z"
   },
   {
    "duration": 51,
    "start_time": "2021-07-09T23:04:51.471Z"
   },
   {
    "duration": 19,
    "start_time": "2021-07-09T23:04:51.525Z"
   },
   {
    "duration": 10,
    "start_time": "2021-07-09T23:04:51.547Z"
   },
   {
    "duration": 12,
    "start_time": "2021-07-09T23:04:51.559Z"
   },
   {
    "duration": 40,
    "start_time": "2021-07-09T23:04:51.574Z"
   },
   {
    "duration": 6,
    "start_time": "2021-07-09T23:04:51.616Z"
   },
   {
    "duration": 7,
    "start_time": "2021-07-09T23:04:51.624Z"
   },
   {
    "duration": 8,
    "start_time": "2021-07-09T23:04:51.633Z"
   },
   {
    "duration": 72,
    "start_time": "2021-07-09T23:04:51.643Z"
   },
   {
    "duration": 50,
    "start_time": "2021-07-09T23:04:51.717Z"
   },
   {
    "duration": 9,
    "start_time": "2021-07-09T23:04:51.769Z"
   },
   {
    "duration": 30,
    "start_time": "2021-07-09T23:04:51.781Z"
   },
   {
    "duration": 3974,
    "start_time": "2021-07-09T23:04:51.813Z"
   },
   {
    "duration": 24,
    "start_time": "2021-07-09T23:04:55.789Z"
   },
   {
    "duration": 11,
    "start_time": "2021-07-09T23:04:55.816Z"
   },
   {
    "duration": 25,
    "start_time": "2021-07-09T23:04:55.830Z"
   },
   {
    "duration": 29,
    "start_time": "2021-07-09T23:04:55.858Z"
   },
   {
    "duration": 30,
    "start_time": "2021-07-09T23:04:55.890Z"
   },
   {
    "duration": 16,
    "start_time": "2021-07-09T23:04:55.923Z"
   },
   {
    "duration": 4,
    "start_time": "2021-07-09T23:04:55.942Z"
   },
   {
    "duration": 9,
    "start_time": "2021-07-09T23:04:55.948Z"
   },
   {
    "duration": 10937,
    "start_time": "2021-07-09T23:04:55.960Z"
   },
   {
    "duration": 35,
    "start_time": "2021-07-09T23:05:06.899Z"
   },
   {
    "duration": 793,
    "start_time": "2021-07-09T23:05:06.936Z"
   },
   {
    "duration": 32,
    "start_time": "2021-07-09T23:05:07.732Z"
   },
   {
    "duration": 11,
    "start_time": "2021-07-09T23:05:07.766Z"
   },
   {
    "duration": 52,
    "start_time": "2021-07-09T23:05:07.780Z"
   },
   {
    "duration": 12,
    "start_time": "2021-07-09T23:05:07.839Z"
   },
   {
    "duration": 55,
    "start_time": "2021-07-09T23:05:07.854Z"
   },
   {
    "duration": 12,
    "start_time": "2021-07-09T23:05:07.911Z"
   },
   {
    "duration": 846,
    "start_time": "2021-07-09T23:10:31.930Z"
   },
   {
    "duration": 64,
    "start_time": "2021-07-09T23:10:32.779Z"
   },
   {
    "duration": 14,
    "start_time": "2021-07-09T23:10:32.846Z"
   },
   {
    "duration": 47,
    "start_time": "2021-07-09T23:10:32.863Z"
   },
   {
    "duration": 44,
    "start_time": "2021-07-09T23:10:32.913Z"
   },
   {
    "duration": 9,
    "start_time": "2021-07-09T23:10:32.959Z"
   },
   {
    "duration": 42,
    "start_time": "2021-07-09T23:10:32.970Z"
   },
   {
    "duration": 9,
    "start_time": "2021-07-09T23:10:33.016Z"
   },
   {
    "duration": 25,
    "start_time": "2021-07-09T23:10:33.029Z"
   },
   {
    "duration": 9,
    "start_time": "2021-07-09T23:10:33.056Z"
   },
   {
    "duration": 12,
    "start_time": "2021-07-09T23:10:33.068Z"
   },
   {
    "duration": 37,
    "start_time": "2021-07-09T23:10:33.083Z"
   },
   {
    "duration": 16,
    "start_time": "2021-07-09T23:10:33.123Z"
   },
   {
    "duration": 11,
    "start_time": "2021-07-09T23:10:33.141Z"
   },
   {
    "duration": 88,
    "start_time": "2021-07-09T23:10:33.155Z"
   },
   {
    "duration": 72,
    "start_time": "2021-07-09T23:10:33.246Z"
   },
   {
    "duration": 12,
    "start_time": "2021-07-09T23:10:33.321Z"
   },
   {
    "duration": 25,
    "start_time": "2021-07-09T23:10:33.336Z"
   },
   {
    "duration": 9,
    "start_time": "2021-07-09T23:10:33.364Z"
   },
   {
    "duration": 8,
    "start_time": "2021-07-09T23:10:33.375Z"
   },
   {
    "duration": 29,
    "start_time": "2021-07-09T23:10:33.385Z"
   },
   {
    "duration": 9,
    "start_time": "2021-07-09T23:10:33.416Z"
   },
   {
    "duration": 8,
    "start_time": "2021-07-09T23:10:33.430Z"
   },
   {
    "duration": 21,
    "start_time": "2021-07-09T23:10:33.441Z"
   },
   {
    "duration": 7,
    "start_time": "2021-07-09T23:10:33.464Z"
   },
   {
    "duration": 6,
    "start_time": "2021-07-09T23:10:33.510Z"
   },
   {
    "duration": 10,
    "start_time": "2021-07-09T23:10:33.518Z"
   },
   {
    "duration": 8,
    "start_time": "2021-07-09T23:10:33.531Z"
   },
   {
    "duration": 11,
    "start_time": "2021-07-09T23:10:33.542Z"
   },
   {
    "duration": 102,
    "start_time": "2021-07-09T23:10:33.555Z"
   },
   {
    "duration": 6,
    "start_time": "2021-07-09T23:10:33.659Z"
   },
   {
    "duration": 9,
    "start_time": "2021-07-09T23:10:33.667Z"
   },
   {
    "duration": 10,
    "start_time": "2021-07-09T23:10:33.678Z"
   },
   {
    "duration": 16,
    "start_time": "2021-07-09T23:10:33.709Z"
   },
   {
    "duration": 12,
    "start_time": "2021-07-09T23:10:33.728Z"
   },
   {
    "duration": 16,
    "start_time": "2021-07-09T23:10:33.743Z"
   },
   {
    "duration": 14,
    "start_time": "2021-07-09T23:10:33.761Z"
   },
   {
    "duration": 38,
    "start_time": "2021-07-09T23:10:33.777Z"
   },
   {
    "duration": 9,
    "start_time": "2021-07-09T23:10:33.817Z"
   },
   {
    "duration": 6,
    "start_time": "2021-07-09T23:10:33.828Z"
   },
   {
    "duration": 13,
    "start_time": "2021-07-09T23:10:33.837Z"
   },
   {
    "duration": 22,
    "start_time": "2021-07-09T23:10:33.853Z"
   },
   {
    "duration": 38,
    "start_time": "2021-07-09T23:10:33.877Z"
   },
   {
    "duration": 17,
    "start_time": "2021-07-09T23:10:33.918Z"
   },
   {
    "duration": 18,
    "start_time": "2021-07-09T23:10:33.938Z"
   },
   {
    "duration": 13,
    "start_time": "2021-07-09T23:10:33.958Z"
   },
   {
    "duration": 11,
    "start_time": "2021-07-09T23:10:33.974Z"
   },
   {
    "duration": 26,
    "start_time": "2021-07-09T23:10:33.987Z"
   },
   {
    "duration": 31,
    "start_time": "2021-07-09T23:10:34.016Z"
   },
   {
    "duration": 67,
    "start_time": "2021-07-09T23:10:34.049Z"
   },
   {
    "duration": 10,
    "start_time": "2021-07-09T23:10:34.119Z"
   },
   {
    "duration": 7,
    "start_time": "2021-07-09T23:10:34.131Z"
   },
   {
    "duration": 3385,
    "start_time": "2021-07-09T23:10:34.140Z"
   },
   {
    "duration": 22,
    "start_time": "2021-07-09T23:10:37.528Z"
   },
   {
    "duration": 12,
    "start_time": "2021-07-09T23:10:37.553Z"
   },
   {
    "duration": 47,
    "start_time": "2021-07-09T23:10:37.568Z"
   },
   {
    "duration": 19,
    "start_time": "2021-07-09T23:10:37.618Z"
   },
   {
    "duration": 21,
    "start_time": "2021-07-09T23:10:37.640Z"
   },
   {
    "duration": 9,
    "start_time": "2021-07-09T23:10:37.663Z"
   },
   {
    "duration": 34,
    "start_time": "2021-07-09T23:10:37.675Z"
   },
   {
    "duration": 7,
    "start_time": "2021-07-09T23:10:37.712Z"
   },
   {
    "duration": 10940,
    "start_time": "2021-07-09T23:10:37.722Z"
   },
   {
    "duration": 27,
    "start_time": "2021-07-09T23:10:48.665Z"
   },
   {
    "duration": 753,
    "start_time": "2021-07-09T23:10:48.695Z"
   },
   {
    "duration": 33,
    "start_time": "2021-07-09T23:10:49.450Z"
   },
   {
    "duration": 25,
    "start_time": "2021-07-09T23:10:49.485Z"
   },
   {
    "duration": 27,
    "start_time": "2021-07-09T23:10:49.513Z"
   },
   {
    "duration": 13,
    "start_time": "2021-07-09T23:10:49.547Z"
   },
   {
    "duration": 58,
    "start_time": "2021-07-09T23:10:49.563Z"
   },
   {
    "duration": 12,
    "start_time": "2021-07-09T23:10:49.624Z"
   },
   {
    "duration": 846,
    "start_time": "2021-07-09T23:14:48.485Z"
   },
   {
    "duration": 64,
    "start_time": "2021-07-09T23:14:49.334Z"
   },
   {
    "duration": 15,
    "start_time": "2021-07-09T23:14:49.401Z"
   },
   {
    "duration": 31,
    "start_time": "2021-07-09T23:14:49.419Z"
   },
   {
    "duration": 65,
    "start_time": "2021-07-09T23:14:49.452Z"
   },
   {
    "duration": 9,
    "start_time": "2021-07-09T23:14:49.519Z"
   },
   {
    "duration": 9,
    "start_time": "2021-07-09T23:14:49.530Z"
   },
   {
    "duration": 10,
    "start_time": "2021-07-09T23:14:49.543Z"
   },
   {
    "duration": 11,
    "start_time": "2021-07-09T23:14:49.556Z"
   },
   {
    "duration": 44,
    "start_time": "2021-07-09T23:14:49.569Z"
   },
   {
    "duration": 16,
    "start_time": "2021-07-09T23:14:49.616Z"
   },
   {
    "duration": 13,
    "start_time": "2021-07-09T23:14:49.634Z"
   },
   {
    "duration": 21,
    "start_time": "2021-07-09T23:14:49.649Z"
   },
   {
    "duration": 41,
    "start_time": "2021-07-09T23:14:49.673Z"
   },
   {
    "duration": 63,
    "start_time": "2021-07-09T23:14:49.716Z"
   },
   {
    "duration": 75,
    "start_time": "2021-07-09T23:14:49.782Z"
   },
   {
    "duration": 12,
    "start_time": "2021-07-09T23:14:49.859Z"
   },
   {
    "duration": 20,
    "start_time": "2021-07-09T23:14:49.873Z"
   },
   {
    "duration": 9,
    "start_time": "2021-07-09T23:14:49.908Z"
   },
   {
    "duration": 6,
    "start_time": "2021-07-09T23:14:49.919Z"
   },
   {
    "duration": 16,
    "start_time": "2021-07-09T23:14:49.927Z"
   },
   {
    "duration": 14,
    "start_time": "2021-07-09T23:14:49.946Z"
   },
   {
    "duration": 8,
    "start_time": "2021-07-09T23:14:49.965Z"
   },
   {
    "duration": 47,
    "start_time": "2021-07-09T23:14:49.977Z"
   },
   {
    "duration": 7,
    "start_time": "2021-07-09T23:14:50.026Z"
   },
   {
    "duration": 8,
    "start_time": "2021-07-09T23:14:50.036Z"
   },
   {
    "duration": 10,
    "start_time": "2021-07-09T23:14:50.046Z"
   },
   {
    "duration": 14,
    "start_time": "2021-07-09T23:14:50.058Z"
   },
   {
    "duration": 41,
    "start_time": "2021-07-09T23:14:50.075Z"
   },
   {
    "duration": 67,
    "start_time": "2021-07-09T23:14:50.118Z"
   },
   {
    "duration": 23,
    "start_time": "2021-07-09T23:14:50.188Z"
   },
   {
    "duration": 27,
    "start_time": "2021-07-09T23:14:50.214Z"
   },
   {
    "duration": 16,
    "start_time": "2021-07-09T23:14:50.244Z"
   },
   {
    "duration": 20,
    "start_time": "2021-07-09T23:14:50.263Z"
   },
   {
    "duration": 14,
    "start_time": "2021-07-09T23:14:50.285Z"
   },
   {
    "duration": 5,
    "start_time": "2021-07-09T23:14:50.309Z"
   },
   {
    "duration": 13,
    "start_time": "2021-07-09T23:14:50.316Z"
   },
   {
    "duration": 21,
    "start_time": "2021-07-09T23:14:50.332Z"
   },
   {
    "duration": 19,
    "start_time": "2021-07-09T23:14:50.356Z"
   },
   {
    "duration": 11,
    "start_time": "2021-07-09T23:14:50.378Z"
   },
   {
    "duration": 24,
    "start_time": "2021-07-09T23:14:50.392Z"
   },
   {
    "duration": 35,
    "start_time": "2021-07-09T23:14:50.418Z"
   },
   {
    "duration": 17,
    "start_time": "2021-07-09T23:14:50.456Z"
   },
   {
    "duration": 10,
    "start_time": "2021-07-09T23:14:50.476Z"
   },
   {
    "duration": 21,
    "start_time": "2021-07-09T23:14:50.489Z"
   },
   {
    "duration": 11,
    "start_time": "2021-07-09T23:14:50.513Z"
   },
   {
    "duration": 12,
    "start_time": "2021-07-09T23:14:50.527Z"
   },
   {
    "duration": 15,
    "start_time": "2021-07-09T23:14:50.541Z"
   },
   {
    "duration": 51,
    "start_time": "2021-07-09T23:14:50.559Z"
   },
   {
    "duration": 47,
    "start_time": "2021-07-09T23:14:50.612Z"
   },
   {
    "duration": 10,
    "start_time": "2021-07-09T23:14:50.662Z"
   },
   {
    "duration": 7,
    "start_time": "2021-07-09T23:14:50.675Z"
   },
   {
    "duration": 3520,
    "start_time": "2021-07-09T23:14:50.708Z"
   },
   {
    "duration": 22,
    "start_time": "2021-07-09T23:14:54.231Z"
   },
   {
    "duration": 9,
    "start_time": "2021-07-09T23:14:54.256Z"
   },
   {
    "duration": 42,
    "start_time": "2021-07-09T23:14:54.268Z"
   },
   {
    "duration": 26,
    "start_time": "2021-07-09T23:14:54.313Z"
   },
   {
    "duration": 20,
    "start_time": "2021-07-09T23:14:54.342Z"
   },
   {
    "duration": 17,
    "start_time": "2021-07-09T23:14:54.364Z"
   },
   {
    "duration": 25,
    "start_time": "2021-07-09T23:14:54.384Z"
   },
   {
    "duration": 20,
    "start_time": "2021-07-09T23:14:54.412Z"
   },
   {
    "duration": 10648,
    "start_time": "2021-07-09T23:14:54.435Z"
   },
   {
    "duration": 35,
    "start_time": "2021-07-09T23:15:05.086Z"
   },
   {
    "duration": 964,
    "start_time": "2021-07-09T23:15:05.124Z"
   },
   {
    "duration": 39,
    "start_time": "2021-07-09T23:15:06.091Z"
   },
   {
    "duration": 13,
    "start_time": "2021-07-09T23:15:06.132Z"
   },
   {
    "duration": 36,
    "start_time": "2021-07-09T23:15:06.148Z"
   },
   {
    "duration": 13,
    "start_time": "2021-07-09T23:15:06.213Z"
   },
   {
    "duration": 38,
    "start_time": "2021-07-09T23:15:06.228Z"
   },
   {
    "duration": 12,
    "start_time": "2021-07-09T23:15:06.269Z"
   }
  ],
  "kernelspec": {
   "display_name": "Python 3",
   "language": "python",
   "name": "python3"
  },
  "language_info": {
   "codemirror_mode": {
    "name": "ipython",
    "version": 3
   },
   "file_extension": ".py",
   "mimetype": "text/x-python",
   "name": "python",
   "nbconvert_exporter": "python",
   "pygments_lexer": "ipython3",
   "version": "3.8.8"
  },
  "toc": {
   "base_numbering": 1,
   "nav_menu": {},
   "number_sections": false,
   "sideBar": true,
   "skip_h1_title": false,
   "title_cell": "Содержание",
   "title_sidebar": "Contents",
   "toc_cell": true,
   "toc_position": {
    "height": "390.909px",
    "left": "46px",
    "top": "110.284px",
    "width": "222px"
   },
   "toc_section_display": true,
   "toc_window_display": true
  }
 },
 "nbformat": 4,
 "nbformat_minor": 4
}
